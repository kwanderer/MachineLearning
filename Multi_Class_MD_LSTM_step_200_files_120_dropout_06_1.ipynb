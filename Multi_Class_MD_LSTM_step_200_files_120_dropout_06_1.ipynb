{
  "cells": [
    {
      "cell_type": "markdown",
      "metadata": {
        "id": "view-in-github",
        "colab_type": "text"
      },
      "source": [
        "<a href=\"https://colab.research.google.com/github/kwanderer/MachineLearning/blob/main/Multi_Class_MD_LSTM_step_200_files_120_dropout_06_1.ipynb\" target=\"_parent\"><img src=\"https://colab.research.google.com/assets/colab-badge.svg\" alt=\"Open In Colab\"/></a>"
      ]
    },
    {
      "cell_type": "markdown",
      "metadata": {
        "id": "f857kfHqUk0-"
      },
      "source": [
        "\n",
        "\n",
        "#Datu kopa"
      ]
    },
    {
      "cell_type": "markdown",
      "metadata": {
        "id": "nM9WE3QGUwVi"
      },
      "source": [
        "Datu kopas avots: https://www.kaggle.com/uysalserkan/fault-induction-motor-dataset"
      ]
    },
    {
      "cell_type": "markdown",
      "metadata": {
        "id": "_sN_h3qHHy6r"
      },
      "source": [
        "Darbā tiek izmantota indukcijas motora parametru datu bāze. Izmantotajā datu kopā ir dati, kas tika iegūti SpectraQuest aparatūras kļūdu simulatorā (Machinery Fault Simulator).\n",
        "\n",
        "Katra mērījumu secība tika ģenerēta ar frekvenci 50 kHz 5 sekunžu laikā, kopā 250 000 mērījumi.\n",
        "\n",
        "Dati ir apkopoti vairākos failos, dažādos darbības stāvokļos un to apjoms ir ļoti liels. Šajā darbā tika izmantota daļa(viena mērījumu secība) no motora normālas darbības datiem.\n"
      ]
    },
    {
      "cell_type": "markdown",
      "metadata": {
        "id": "KtFAOaHYHLPo"
      },
      "source": [
        "Dati ir apkopoti tabulā, kura satur 8 parametrus. Dati ir iedalīti sekojošās kolonas:\n",
        "\n",
        "**tachometer** – tahometra signāls, kas ļauj novērtēt rotācijas frekvenci\n",
        "\n",
        "**und-accelerometer-axial** - apakšā esošā gultņa akselerometrs (aksiālais virziens)\n",
        "\n",
        "**und-accelerometer-radial** – apakšā esošā gultņa akselerometrs (radiālais virziens)\n",
        "\n",
        "**und-accelerometer-tangential** - apakšā esošā gultņa akselerometrs (tangenciālais virziens)\n",
        "\n",
        "**over-accelerometer-axial** - pārkares gultņa akselerometrs (aksiālais virziens)\n",
        "\n",
        "**over-accelerometer-radial** – pārkares gultņa akselerometrs (radiālais  virziens)\n",
        "\n",
        "**over-accelerometer-tangential**  - pārkares gultņa akselerometrs (tangenciālais virziens)\n",
        "\n",
        "**microphone** – mikrofona vērtība\n"
      ]
    },
    {
      "cell_type": "markdown",
      "metadata": {
        "id": "XymoNLKMVFUC"
      },
      "source": [
        "#Datu ielasīšana un satura vizualizācija"
      ]
    },
    {
      "cell_type": "code",
      "execution_count": 1,
      "metadata": {
        "id": "_yqYZDeOFq5s"
      },
      "outputs": [],
      "source": [
        "import keras\n",
        "from keras.layers import LSTM, Dropout, Dense\n",
        "import tensorflow as tf\n",
        "import numpy as np\n",
        "import pandas as pd\n",
        "\n",
        "from sklearn import linear_model  #pip install sklearn - loti plasa masinapmacibas biblioteka\n",
        "from sklearn.linear_model import LinearRegression  \n",
        "import csv          #pip install csv - darbam ar CSV datu kopam\n",
        "import requests     #pip install requests  - vienkarsakam darbam ar tiessaistes CSV datu kopam tiessaistes\n",
        "\n",
        "import matplotlib\n",
        "import matplotlib.pyplot as plt\n",
        "\n",
        "import glob\n"
      ]
    },
    {
      "cell_type": "code",
      "execution_count": 2,
      "metadata": {
        "id": "wlRTBbM2eUcV",
        "colab": {
          "base_uri": "https://localhost:8080/"
        },
        "outputId": "65b2d294-644e-4133-d5d4-420914474f75"
      },
      "outputs": [
        {
          "output_type": "stream",
          "name": "stdout",
          "text": [
            "Drive already mounted at /content/gdrive; to attempt to forcibly remount, call drive.mount(\"/content/gdrive\", force_remount=True).\n"
          ]
        }
      ],
      "source": [
        "from google.colab import drive\n",
        "import os\n",
        "drive.mount('/content/gdrive')\n",
        "os.chdir(\"/content/gdrive/MyDrive/Colab Notebooks/data_multiclass/\")"
      ]
    },
    {
      "cell_type": "code",
      "execution_count": 3,
      "metadata": {
        "id": "zzz6fBl_SNom"
      },
      "outputs": [],
      "source": [
        "#extension = 'csv'\n",
        "#all_filenames = [i for i in glob.glob('*.{}'.format(extension))]"
      ]
    },
    {
      "cell_type": "code",
      "execution_count": 4,
      "metadata": {
        "id": "vagKFCkToBi0"
      },
      "outputs": [],
      "source": [
        "#combine all files in the list\n",
        "#combined_csv = pd.concat([pd.read_csv(f) for f in all_filenames ])\n",
        "#export to csv\n",
        "#combined_csv.to_csv( \"combined_multiclass_csv.csv\", index=False, encoding='utf-8-sig')"
      ]
    },
    {
      "cell_type": "code",
      "execution_count": 5,
      "metadata": {
        "id": "encEkbDhSfGI"
      },
      "outputs": [],
      "source": [
        "data = pd.read_csv(\"combined_multiclass_csv.csv\")"
      ]
    },
    {
      "cell_type": "code",
      "execution_count": 6,
      "metadata": {
        "id": "yz5Qe8ZWk1Zq",
        "colab": {
          "base_uri": "https://localhost:8080/"
        },
        "outputId": "4ccd374f-0079-423e-a646-7de3fadd1984"
      },
      "outputs": [
        {
          "output_type": "stream",
          "name": "stdout",
          "text": [
            "<class 'pandas.core.frame.DataFrame'>\n",
            "RangeIndex: 30000000 entries, 0 to 29999999\n",
            "Data columns (total 9 columns):\n",
            " #   Column                         Dtype  \n",
            "---  ------                         -----  \n",
            " 0   tachometer                     float64\n",
            " 1   und-accelerometer-axial        float64\n",
            " 2   und-accelerometer-radial       float64\n",
            " 3   und-accelerometer-tangential   float64\n",
            " 4   over-accelerometer-axial       float64\n",
            " 5   over-accelerometer-radial      float64\n",
            " 6   over-accelerometer-tangential  float64\n",
            " 7   microphone                     float64\n",
            " 8   Class                          int64  \n",
            "dtypes: float64(8), int64(1)\n",
            "memory usage: 2.0 GB\n"
          ]
        }
      ],
      "source": [
        "data.info()"
      ]
    },
    {
      "cell_type": "code",
      "execution_count": 7,
      "metadata": {
        "id": "WUW9ezX6a_st",
        "colab": {
          "base_uri": "https://localhost:8080/"
        },
        "outputId": "cc588f48-f366-4179-d827-1de2dbf87113"
      },
      "outputs": [
        {
          "output_type": "execute_result",
          "data": {
            "text/plain": [
              "30000000"
            ]
          },
          "metadata": {},
          "execution_count": 7
        }
      ],
      "source": [
        "rec_count = len(data)\n",
        "rec_count"
      ]
    },
    {
      "cell_type": "markdown",
      "metadata": {
        "id": "6RVC1PZy88fC"
      },
      "source": [
        "# Datu dalīšana mazākos gabalos"
      ]
    },
    {
      "cell_type": "code",
      "execution_count": 8,
      "metadata": {
        "id": "DOvnCYkcbGaE"
      },
      "outputs": [],
      "source": [
        "sequence_length = 200"
      ]
    },
    {
      "cell_type": "code",
      "execution_count": 9,
      "metadata": {
        "id": "RG0o2L3zbTEx"
      },
      "outputs": [],
      "source": [
        "def generate_data(X, y, sequence_length = 200, step = 200):\n",
        "    X_local = []\n",
        "    y_local = []\n",
        "    for start in range(0, len(data) - sequence_length, step):\n",
        "        end = start + sequence_length\n",
        "        X_local.append(X[start:end])\n",
        "        y_local.append(y[end-1])\n",
        "    return np.array(X_local), np.array(y_local)\n",
        "\n",
        "X_sequence, y = generate_data(data.loc[:, \"tachometer\":\"microphone\"].values, data.Class)"
      ]
    },
    {
      "cell_type": "code",
      "execution_count": 10,
      "metadata": {
        "id": "s0QxwK66cLVF",
        "colab": {
          "base_uri": "https://localhost:8080/"
        },
        "outputId": "3f0b9532-9347-48f3-fdf3-6fb30f6f4466"
      },
      "outputs": [
        {
          "output_type": "execute_result",
          "data": {
            "text/plain": [
              "((149999, 200, 8), (149999,))"
            ]
          },
          "metadata": {},
          "execution_count": 10
        }
      ],
      "source": [
        "X_sequence.shape, y.shape"
      ]
    },
    {
      "cell_type": "code",
      "source": [
        "unique, counts = np.unique(y, return_counts=True)"
      ],
      "metadata": {
        "id": "l8Lq455lV1JR"
      },
      "execution_count": 11,
      "outputs": []
    },
    {
      "cell_type": "code",
      "source": [
        "unique"
      ],
      "metadata": {
        "id": "t0BRO3nAWQxe",
        "colab": {
          "base_uri": "https://localhost:8080/"
        },
        "outputId": "8bb038fc-41d9-403d-9344-e4f93135db8d"
      },
      "execution_count": 12,
      "outputs": [
        {
          "output_type": "execute_result",
          "data": {
            "text/plain": [
              "array([0, 1, 2, 3, 4, 5, 6, 7])"
            ]
          },
          "metadata": {},
          "execution_count": 12
        }
      ]
    },
    {
      "cell_type": "code",
      "source": [
        "counts"
      ],
      "metadata": {
        "id": "WWZ7QWR4WS_r",
        "colab": {
          "base_uri": "https://localhost:8080/"
        },
        "outputId": "d2b8c2d6-e8d5-4db3-fad2-45396119da54"
      },
      "execution_count": 13,
      "outputs": [
        {
          "output_type": "execute_result",
          "data": {
            "text/plain": [
              "array([18749, 18750, 18750, 18750, 18750, 18750, 18750, 18750])"
            ]
          },
          "metadata": {},
          "execution_count": 13
        }
      ]
    },
    {
      "cell_type": "code",
      "execution_count": 14,
      "metadata": {
        "id": "i7R1oo6Mj8wx"
      },
      "outputs": [],
      "source": [
        "data = 0"
      ]
    },
    {
      "cell_type": "code",
      "source": [
        "from sklearn.preprocessing import OneHotEncoder"
      ],
      "metadata": {
        "id": "lAk_JscRWmqY"
      },
      "execution_count": 15,
      "outputs": []
    },
    {
      "cell_type": "code",
      "source": [
        "label_encoder = OneHotEncoder(sparse=False)\n",
        "label_encoder.fit(y.reshape(-1,1))"
      ],
      "metadata": {
        "id": "14B9aYy0W0y6",
        "colab": {
          "base_uri": "https://localhost:8080/"
        },
        "outputId": "2ea680a8-3987-4f7b-8304-f83ab1b57f63"
      },
      "execution_count": 16,
      "outputs": [
        {
          "output_type": "execute_result",
          "data": {
            "text/plain": [
              "OneHotEncoder(sparse=False)"
            ]
          },
          "metadata": {},
          "execution_count": 16
        }
      ]
    },
    {
      "cell_type": "code",
      "source": [
        "y_encoded = label_encoder.transform(y.reshape(-1,1))"
      ],
      "metadata": {
        "id": "VjpWn96xXgPS"
      },
      "execution_count": 17,
      "outputs": []
    },
    {
      "cell_type": "code",
      "source": [
        "y_encoded[0:5]"
      ],
      "metadata": {
        "id": "VL6KMFo9XpBi",
        "colab": {
          "base_uri": "https://localhost:8080/"
        },
        "outputId": "0f803e5d-1f0d-4007-f432-dd4743432ee8"
      },
      "execution_count": 18,
      "outputs": [
        {
          "output_type": "execute_result",
          "data": {
            "text/plain": [
              "array([[0., 0., 0., 0., 0., 0., 0., 1.],\n",
              "       [0., 0., 0., 0., 0., 0., 0., 1.],\n",
              "       [0., 0., 0., 0., 0., 0., 0., 1.],\n",
              "       [0., 0., 0., 0., 0., 0., 0., 1.],\n",
              "       [0., 0., 0., 0., 0., 0., 0., 1.]])"
            ]
          },
          "metadata": {},
          "execution_count": 18
        }
      ]
    },
    {
      "cell_type": "code",
      "source": [
        "y=y_encoded"
      ],
      "metadata": {
        "id": "5c8km253YKBl"
      },
      "execution_count": 19,
      "outputs": []
    },
    {
      "cell_type": "markdown",
      "metadata": {
        "id": "5BXSDoHa9UX_"
      },
      "source": [
        "# Random/Shuffle"
      ]
    },
    {
      "cell_type": "code",
      "execution_count": 20,
      "metadata": {
        "id": "ZcfE9idy-ckb"
      },
      "outputs": [],
      "source": [
        "shuffler = np.random.permutation(len(X_sequence))\n",
        "X_sequence_shuffled = X_sequence[shuffler]\n",
        "y_shuffled = y[shuffler]"
      ]
    },
    {
      "cell_type": "markdown",
      "metadata": {
        "id": "TfhRTTNcE2s8"
      },
      "source": [
        "# LSTM"
      ]
    },
    {
      "cell_type": "code",
      "execution_count": 21,
      "metadata": {
        "id": "ihrXMuVAEwlY"
      },
      "outputs": [],
      "source": [
        "import pandas as pd\n",
        "import sklearn.metrics as metrique\n",
        "from pandas import Series\n",
        "from sklearn.preprocessing import StandardScaler, MinMaxScaler\n",
        "from matplotlib import pyplot\n",
        "from sklearn.model_selection import train_test_split\n",
        "import numpy as np\n",
        "import tensorflow as tf\n",
        "import sys\n",
        "import numpy as np\n",
        "import pandas as pd\n",
        "import tensorflow as tf\n",
        "import matplotlib.pyplot as plt\n",
        "from sklearn.model_selection import train_test_split\n",
        "from sklearn import preprocessing\n",
        "from sklearn.preprocessing import StandardScaler\n",
        "from sklearn.metrics import classification_report\n",
        "import warnings\n",
        "warnings.filterwarnings('ignore')\n",
        "plt.style.use('ggplot')\n",
        "import seaborn as sns \n",
        "%matplotlib inline\n",
        "from keras.callbacks import EarlyStopping\n",
        "from keras.callbacks import ModelCheckpoint\n",
        "from sklearn.metrics import accuracy_score\n",
        "from sklearn.metrics import classification_report, confusion_matrix\n",
        "from keras.models import Sequential\n",
        "from keras.utils import np_utils\n",
        "from keras.layers import LSTM, Dense, Embedding, Dropout,Input, Layer, Concatenate, Permute, Dot, Multiply, Flatten\n",
        "from keras.layers import RepeatVector, Dense, Activation, Lambda\n",
        "from keras.models import Sequential\n",
        "from keras import backend as K, regularizers, Model, metrics\n",
        "from keras.backend import cast"
      ]
    },
    {
      "cell_type": "code",
      "execution_count": 22,
      "metadata": {
        "id": "PjKWKiA6aH3z"
      },
      "outputs": [],
      "source": [
        "#from tensorflow.keras import optimizers\n",
        "#sgd = optimizers.SGD(lr=0.0001, decay=1e-6, momentum=0.9, nesterov=True)\n",
        "#model = keras.Sequential()\n",
        "#model.add(LSTM(100, input_shape = (200, 8)))\n",
        "#model.add(Dropout(0.5))\n",
        "#model.add(Dense(1, activation=\"softmax\"))\n",
        "\n",
        "\n",
        "#model.compile(loss=\"categorical_crossentropy\"\n",
        "#              , metrics=[keras.metrics.binary_accuracy]\n",
        "#              , optimizer='sgd')\n",
        "\n",
        "#model.summary()"
      ]
    },
    {
      "cell_type": "code",
      "execution_count": 23,
      "metadata": {
        "id": "_2SaVmwSWJVB",
        "colab": {
          "base_uri": "https://localhost:8080/"
        },
        "outputId": "9686d43b-10e3-4a66-dd6f-33c52c3c0c42"
      },
      "outputs": [
        {
          "output_type": "stream",
          "name": "stdout",
          "text": [
            "Model: \"sequential\"\n",
            "_________________________________________________________________\n",
            " Layer (type)                Output Shape              Param #   \n",
            "=================================================================\n",
            " lstm (LSTM)                 (None, 100)               43600     \n",
            "                                                                 \n",
            " dropout (Dropout)           (None, 100)               0         \n",
            "                                                                 \n",
            " dense (Dense)               (None, 8)                 808       \n",
            "                                                                 \n",
            "=================================================================\n",
            "Total params: 44,408\n",
            "Trainable params: 44,408\n",
            "Non-trainable params: 0\n",
            "_________________________________________________________________\n"
          ]
        }
      ],
      "source": [
        "from tensorflow.keras import optimizers\n",
        "#sgd = optimizers.SGD(lr=0.0001, decay=1e-6, momentum=0.9, nesterov=True)\n",
        "optimizer = tf.keras.optimizers.Adam(lr=0.0001)\n",
        "model = keras.Sequential()\n",
        "model.add(LSTM(100, input_shape = (200, 8)))\n",
        "model.add(Dropout(0.6))#0.25\n",
        "model.add(Dense(8, activation=\"softmax\"))\n",
        "\n",
        "#model.compile(loss='mean_squared_error', optimizer=sgd)\n",
        "model.compile(loss=\"categorical_crossentropy\"\n",
        "              , metrics=['accuracy']\n",
        "              , optimizer=optimizer)\n",
        "\n",
        "model.summary()"
      ]
    },
    {
      "cell_type": "code",
      "execution_count": 24,
      "metadata": {
        "id": "tg8wrqsqc8UX"
      },
      "outputs": [],
      "source": [
        "training_size = int(len(X_sequence) * 0.8)\n",
        "val_size = int(len(X_sequence) * 0.9)"
      ]
    },
    {
      "cell_type": "code",
      "execution_count": 25,
      "metadata": {
        "id": "avIp3TEKc-qF"
      },
      "outputs": [],
      "source": [
        "X_train, y_train = X_sequence_shuffled[:training_size], y_shuffled[:training_size]\n",
        "X_val, y_val = X_sequence_shuffled[training_size:val_size], y_shuffled[training_size:val_size]\n",
        "X_test, y_test = X_sequence_shuffled[val_size:], y_shuffled[val_size:]"
      ]
    },
    {
      "cell_type": "code",
      "execution_count": 26,
      "metadata": {
        "id": "RABc_uKzkBUT"
      },
      "outputs": [],
      "source": [
        "#X_sequence = 0\n",
        "#y = 0"
      ]
    },
    {
      "cell_type": "code",
      "source": [
        "X_train.shape"
      ],
      "metadata": {
        "id": "Omv-ht1dhGxL",
        "colab": {
          "base_uri": "https://localhost:8080/"
        },
        "outputId": "ea9bcf49-ea49-44e2-97de-4b69d01318ac"
      },
      "execution_count": 27,
      "outputs": [
        {
          "output_type": "execute_result",
          "data": {
            "text/plain": [
              "(119999, 200, 8)"
            ]
          },
          "metadata": {},
          "execution_count": 27
        }
      ]
    },
    {
      "cell_type": "code",
      "execution_count": 28,
      "metadata": {
        "id": "8aIhPJ-wLCwZ",
        "colab": {
          "base_uri": "https://localhost:8080/"
        },
        "outputId": "2681f989-2a8b-48ae-bb1d-1f133610f9b2"
      },
      "outputs": [
        {
          "output_type": "execute_result",
          "data": {
            "text/plain": [
              "array([[0., 0., 1., 0., 0., 0., 0., 0.],\n",
              "       [0., 0., 0., 0., 0., 0., 0., 1.],\n",
              "       [0., 1., 0., 0., 0., 0., 0., 0.],\n",
              "       [0., 0., 0., 0., 1., 0., 0., 0.],\n",
              "       [0., 0., 0., 0., 0., 1., 0., 0.],\n",
              "       [0., 0., 0., 0., 0., 0., 1., 0.],\n",
              "       [0., 0., 0., 0., 0., 0., 1., 0.],\n",
              "       [0., 1., 0., 0., 0., 0., 0., 0.],\n",
              "       [0., 0., 0., 1., 0., 0., 0., 0.],\n",
              "       [0., 0., 0., 1., 0., 0., 0., 0.]])"
            ]
          },
          "metadata": {},
          "execution_count": 28
        }
      ],
      "source": [
        "y_train[:10]"
      ]
    },
    {
      "cell_type": "code",
      "execution_count": 29,
      "metadata": {
        "id": "cen4faX0dFJP",
        "colab": {
          "base_uri": "https://localhost:8080/"
        },
        "outputId": "d9a15303-3e34-4631-a44a-d28d29109a1a"
      },
      "outputs": [
        {
          "output_type": "stream",
          "name": "stdout",
          "text": [
            "Epoch 1/100\n",
            "1875/1875 [==============================] - 29s 14ms/step - loss: 1.8321 - accuracy: 0.2224 - val_loss: 1.8161 - val_accuracy: 0.2668\n",
            "Epoch 2/100\n",
            "1875/1875 [==============================] - 26s 14ms/step - loss: 1.6721 - accuracy: 0.2700 - val_loss: 1.6000 - val_accuracy: 0.3190\n",
            "Epoch 3/100\n",
            "1875/1875 [==============================] - 24s 13ms/step - loss: 1.6030 - accuracy: 0.3073 - val_loss: 1.5140 - val_accuracy: 0.3711\n",
            "Epoch 4/100\n",
            "1875/1875 [==============================] - 24s 13ms/step - loss: 1.5371 - accuracy: 0.3608 - val_loss: 1.4791 - val_accuracy: 0.3929\n",
            "Epoch 5/100\n",
            "1875/1875 [==============================] - 25s 13ms/step - loss: 1.5776 - accuracy: 0.3576 - val_loss: 1.5563 - val_accuracy: 0.3543\n",
            "Epoch 6/100\n",
            "1875/1875 [==============================] - 23s 12ms/step - loss: 1.5349 - accuracy: 0.3650 - val_loss: 1.5725 - val_accuracy: 0.3609\n",
            "Epoch 7/100\n",
            "1875/1875 [==============================] - 23s 12ms/step - loss: 1.4722 - accuracy: 0.3900 - val_loss: 1.4077 - val_accuracy: 0.4205\n",
            "Epoch 8/100\n",
            "1875/1875 [==============================] - 23s 12ms/step - loss: 1.4887 - accuracy: 0.3942 - val_loss: 1.4410 - val_accuracy: 0.4003\n",
            "Epoch 9/100\n",
            "1875/1875 [==============================] - 25s 13ms/step - loss: 1.4041 - accuracy: 0.4230 - val_loss: 1.3543 - val_accuracy: 0.4455\n",
            "Epoch 10/100\n",
            "1875/1875 [==============================] - 24s 13ms/step - loss: 1.3906 - accuracy: 0.4321 - val_loss: 1.3242 - val_accuracy: 0.4572\n",
            "Epoch 11/100\n",
            "1875/1875 [==============================] - 25s 13ms/step - loss: 1.3609 - accuracy: 0.4444 - val_loss: 1.3025 - val_accuracy: 0.4636\n",
            "Epoch 12/100\n",
            "1875/1875 [==============================] - 24s 13ms/step - loss: 1.3547 - accuracy: 0.4465 - val_loss: 1.3027 - val_accuracy: 0.4593\n",
            "Epoch 13/100\n",
            "1875/1875 [==============================] - 25s 14ms/step - loss: 1.3286 - accuracy: 0.4605 - val_loss: 1.2879 - val_accuracy: 0.4763\n",
            "Epoch 14/100\n",
            "1875/1875 [==============================] - 24s 13ms/step - loss: 1.2949 - accuracy: 0.4723 - val_loss: 1.2626 - val_accuracy: 0.4832\n",
            "Epoch 15/100\n",
            "1875/1875 [==============================] - 24s 13ms/step - loss: 1.2792 - accuracy: 0.4787 - val_loss: 1.2358 - val_accuracy: 0.4937\n",
            "Epoch 16/100\n",
            "1875/1875 [==============================] - 24s 13ms/step - loss: 1.2539 - accuracy: 0.4885 - val_loss: 1.2376 - val_accuracy: 0.4931\n",
            "Epoch 17/100\n",
            "1875/1875 [==============================] - 24s 13ms/step - loss: 1.2358 - accuracy: 0.4943 - val_loss: 1.1867 - val_accuracy: 0.5121\n",
            "Epoch 18/100\n",
            "1875/1875 [==============================] - 24s 13ms/step - loss: 1.2104 - accuracy: 0.5055 - val_loss: 1.2013 - val_accuracy: 0.5077\n",
            "Epoch 19/100\n",
            "1875/1875 [==============================] - 24s 13ms/step - loss: 1.2144 - accuracy: 0.5047 - val_loss: 1.1656 - val_accuracy: 0.5189\n",
            "Epoch 20/100\n",
            "1875/1875 [==============================] - 24s 13ms/step - loss: 1.1989 - accuracy: 0.5091 - val_loss: 1.1485 - val_accuracy: 0.5284\n",
            "Epoch 21/100\n",
            "1875/1875 [==============================] - 25s 13ms/step - loss: 1.1666 - accuracy: 0.5220 - val_loss: 1.1412 - val_accuracy: 0.5274\n",
            "Epoch 22/100\n",
            "1875/1875 [==============================] - 24s 13ms/step - loss: 1.1577 - accuracy: 0.5247 - val_loss: 1.1042 - val_accuracy: 0.5418\n",
            "Epoch 23/100\n",
            "1875/1875 [==============================] - 25s 13ms/step - loss: 1.1398 - accuracy: 0.5318 - val_loss: 1.0986 - val_accuracy: 0.5473\n",
            "Epoch 24/100\n",
            "1875/1875 [==============================] - 24s 13ms/step - loss: 1.1216 - accuracy: 0.5363 - val_loss: 1.0769 - val_accuracy: 0.5546\n",
            "Epoch 25/100\n",
            "1875/1875 [==============================] - 25s 14ms/step - loss: 1.1130 - accuracy: 0.5411 - val_loss: 1.2200 - val_accuracy: 0.5037\n",
            "Epoch 26/100\n",
            "1875/1875 [==============================] - 24s 13ms/step - loss: 1.1069 - accuracy: 0.5421 - val_loss: 1.0363 - val_accuracy: 0.5675\n",
            "Epoch 27/100\n",
            "1875/1875 [==============================] - 24s 13ms/step - loss: 1.0779 - accuracy: 0.5514 - val_loss: 1.0608 - val_accuracy: 0.5576\n",
            "Epoch 28/100\n",
            "1875/1875 [==============================] - 25s 13ms/step - loss: 1.0791 - accuracy: 0.5504 - val_loss: 1.0522 - val_accuracy: 0.5585\n",
            "Epoch 29/100\n",
            "1875/1875 [==============================] - 24s 13ms/step - loss: 1.0527 - accuracy: 0.5619 - val_loss: 1.0073 - val_accuracy: 0.5827\n",
            "Epoch 30/100\n",
            "1875/1875 [==============================] - 24s 13ms/step - loss: 1.0590 - accuracy: 0.5573 - val_loss: 0.9951 - val_accuracy: 0.5809\n",
            "Epoch 31/100\n",
            "1875/1875 [==============================] - 24s 13ms/step - loss: 1.0325 - accuracy: 0.5674 - val_loss: 1.0006 - val_accuracy: 0.5801\n",
            "Epoch 32/100\n",
            "1875/1875 [==============================] - 24s 13ms/step - loss: 1.0256 - accuracy: 0.5687 - val_loss: 0.9725 - val_accuracy: 0.5882\n",
            "Epoch 33/100\n",
            "1875/1875 [==============================] - 24s 13ms/step - loss: 1.0137 - accuracy: 0.5736 - val_loss: 0.9849 - val_accuracy: 0.5831\n",
            "Epoch 34/100\n",
            "1875/1875 [==============================] - 24s 13ms/step - loss: 1.0061 - accuracy: 0.5765 - val_loss: 0.9782 - val_accuracy: 0.5845\n",
            "Epoch 35/100\n",
            "1875/1875 [==============================] - 24s 13ms/step - loss: 1.0012 - accuracy: 0.5772 - val_loss: 0.9656 - val_accuracy: 0.5904\n",
            "Epoch 36/100\n",
            "1875/1875 [==============================] - 24s 13ms/step - loss: 0.9880 - accuracy: 0.5835 - val_loss: 0.9488 - val_accuracy: 0.5981\n",
            "Epoch 37/100\n",
            "1875/1875 [==============================] - 24s 13ms/step - loss: 0.9805 - accuracy: 0.5860 - val_loss: 0.9496 - val_accuracy: 0.5956\n",
            "Epoch 38/100\n",
            "1875/1875 [==============================] - 24s 13ms/step - loss: 0.9753 - accuracy: 0.5880 - val_loss: 0.9330 - val_accuracy: 0.6024\n",
            "Epoch 39/100\n",
            "1875/1875 [==============================] - 24s 13ms/step - loss: 0.9721 - accuracy: 0.5903 - val_loss: 0.9257 - val_accuracy: 0.6083\n",
            "Epoch 40/100\n",
            "1875/1875 [==============================] - 24s 13ms/step - loss: 0.9640 - accuracy: 0.5911 - val_loss: 0.9165 - val_accuracy: 0.6072\n",
            "Epoch 41/100\n",
            "1875/1875 [==============================] - 24s 13ms/step - loss: 0.9557 - accuracy: 0.5951 - val_loss: 0.9278 - val_accuracy: 0.6036\n",
            "Epoch 42/100\n",
            "1875/1875 [==============================] - 23s 12ms/step - loss: 0.9470 - accuracy: 0.5993 - val_loss: 1.0303 - val_accuracy: 0.5703\n",
            "Epoch 43/100\n",
            "1875/1875 [==============================] - 24s 13ms/step - loss: 0.9461 - accuracy: 0.6010 - val_loss: 0.8982 - val_accuracy: 0.6155\n",
            "Epoch 44/100\n",
            "1875/1875 [==============================] - 24s 13ms/step - loss: 0.9514 - accuracy: 0.5995 - val_loss: 0.8896 - val_accuracy: 0.6230\n",
            "Epoch 45/100\n",
            "1875/1875 [==============================] - 23s 13ms/step - loss: 0.9276 - accuracy: 0.6069 - val_loss: 0.8929 - val_accuracy: 0.6177\n",
            "Epoch 46/100\n",
            "1875/1875 [==============================] - 23s 12ms/step - loss: 0.9432 - accuracy: 0.6000 - val_loss: 0.8861 - val_accuracy: 0.6217\n",
            "Epoch 47/100\n",
            "1875/1875 [==============================] - 24s 13ms/step - loss: 0.9269 - accuracy: 0.6089 - val_loss: 0.8836 - val_accuracy: 0.6200\n",
            "Epoch 48/100\n",
            "1875/1875 [==============================] - 24s 13ms/step - loss: 0.9214 - accuracy: 0.6108 - val_loss: 0.9019 - val_accuracy: 0.6176\n",
            "Epoch 49/100\n",
            "1875/1875 [==============================] - 23s 13ms/step - loss: 0.9130 - accuracy: 0.6123 - val_loss: 0.8839 - val_accuracy: 0.6197\n",
            "Epoch 50/100\n",
            "1875/1875 [==============================] - 23s 12ms/step - loss: 0.9124 - accuracy: 0.6128 - val_loss: 0.8854 - val_accuracy: 0.6209\n",
            "Epoch 51/100\n",
            "1875/1875 [==============================] - 23s 12ms/step - loss: 0.9074 - accuracy: 0.6144 - val_loss: 0.8841 - val_accuracy: 0.6197\n",
            "Epoch 52/100\n",
            "1875/1875 [==============================] - 24s 13ms/step - loss: 0.8999 - accuracy: 0.6175 - val_loss: 0.8611 - val_accuracy: 0.6300\n",
            "Epoch 53/100\n",
            "1875/1875 [==============================] - 24s 13ms/step - loss: 0.8961 - accuracy: 0.6202 - val_loss: 0.8635 - val_accuracy: 0.6290\n",
            "Epoch 54/100\n",
            "1875/1875 [==============================] - 24s 13ms/step - loss: 0.8915 - accuracy: 0.6211 - val_loss: 0.8648 - val_accuracy: 0.6314\n",
            "Epoch 55/100\n",
            "1875/1875 [==============================] - 25s 13ms/step - loss: 0.8862 - accuracy: 0.6230 - val_loss: 0.8327 - val_accuracy: 0.6414\n",
            "Epoch 56/100\n",
            "1875/1875 [==============================] - 23s 13ms/step - loss: 0.8833 - accuracy: 0.6260 - val_loss: 0.8512 - val_accuracy: 0.6333\n",
            "Epoch 57/100\n",
            "1875/1875 [==============================] - 24s 13ms/step - loss: 0.8839 - accuracy: 0.6254 - val_loss: 0.8586 - val_accuracy: 0.6340\n",
            "Epoch 58/100\n",
            "1875/1875 [==============================] - 24s 13ms/step - loss: 0.8817 - accuracy: 0.6264 - val_loss: 0.8316 - val_accuracy: 0.6413\n",
            "Epoch 59/100\n",
            "1875/1875 [==============================] - 24s 13ms/step - loss: 0.8649 - accuracy: 0.6312 - val_loss: 0.8502 - val_accuracy: 0.6320\n",
            "Epoch 60/100\n",
            "1875/1875 [==============================] - 24s 13ms/step - loss: 0.9491 - accuracy: 0.6111 - val_loss: 0.8366 - val_accuracy: 0.6419\n",
            "Epoch 61/100\n",
            "1875/1875 [==============================] - 24s 13ms/step - loss: 0.8594 - accuracy: 0.6356 - val_loss: 0.8298 - val_accuracy: 0.6451\n",
            "Epoch 62/100\n",
            "1875/1875 [==============================] - 23s 13ms/step - loss: 0.8553 - accuracy: 0.6379 - val_loss: 0.8114 - val_accuracy: 0.6545\n",
            "Epoch 63/100\n",
            "1875/1875 [==============================] - 24s 13ms/step - loss: 0.8546 - accuracy: 0.6378 - val_loss: 0.8048 - val_accuracy: 0.6539\n",
            "Epoch 64/100\n",
            "1875/1875 [==============================] - 24s 13ms/step - loss: 0.8520 - accuracy: 0.6397 - val_loss: 0.8116 - val_accuracy: 0.6585\n",
            "Epoch 65/100\n",
            "1875/1875 [==============================] - 24s 13ms/step - loss: 0.8451 - accuracy: 0.6413 - val_loss: 0.8080 - val_accuracy: 0.6581\n",
            "Epoch 66/100\n",
            "1875/1875 [==============================] - 25s 13ms/step - loss: 0.8408 - accuracy: 0.6440 - val_loss: 0.8089 - val_accuracy: 0.6633\n",
            "Epoch 67/100\n",
            "1875/1875 [==============================] - 24s 13ms/step - loss: 0.8377 - accuracy: 0.6456 - val_loss: 0.8690 - val_accuracy: 0.6388\n",
            "Epoch 68/100\n",
            "1875/1875 [==============================] - 25s 13ms/step - loss: 0.8298 - accuracy: 0.6501 - val_loss: 0.7772 - val_accuracy: 0.6725\n",
            "Epoch 69/100\n",
            "1875/1875 [==============================] - 24s 13ms/step - loss: 0.8264 - accuracy: 0.6527 - val_loss: 0.7905 - val_accuracy: 0.6665\n",
            "Epoch 70/100\n",
            "1875/1875 [==============================] - 24s 13ms/step - loss: 0.8351 - accuracy: 0.6492 - val_loss: 0.7899 - val_accuracy: 0.6675\n",
            "Epoch 71/100\n",
            "1875/1875 [==============================] - 24s 13ms/step - loss: 0.8214 - accuracy: 0.6551 - val_loss: 0.7657 - val_accuracy: 0.6761\n",
            "Epoch 72/100\n",
            "1875/1875 [==============================] - 24s 13ms/step - loss: 0.8102 - accuracy: 0.6599 - val_loss: 0.7657 - val_accuracy: 0.6856\n",
            "Epoch 73/100\n",
            "1875/1875 [==============================] - 25s 13ms/step - loss: 0.8065 - accuracy: 0.6609 - val_loss: 0.7557 - val_accuracy: 0.6857\n",
            "Epoch 74/100\n",
            "1875/1875 [==============================] - 24s 13ms/step - loss: 0.8108 - accuracy: 0.6616 - val_loss: 0.7683 - val_accuracy: 0.6811\n",
            "Epoch 75/100\n",
            "1875/1875 [==============================] - 23s 12ms/step - loss: 0.7973 - accuracy: 0.6680 - val_loss: 0.8200 - val_accuracy: 0.6599\n",
            "Epoch 76/100\n",
            "1875/1875 [==============================] - 23s 12ms/step - loss: 0.7928 - accuracy: 0.6692 - val_loss: 0.7663 - val_accuracy: 0.6819\n",
            "Epoch 77/100\n",
            "1875/1875 [==============================] - 23s 12ms/step - loss: 0.7919 - accuracy: 0.6732 - val_loss: 0.7668 - val_accuracy: 0.6834\n",
            "Epoch 78/100\n",
            "1875/1875 [==============================] - 23s 12ms/step - loss: 0.7804 - accuracy: 0.6762 - val_loss: 0.7478 - val_accuracy: 0.6947\n",
            "Epoch 79/100\n",
            "1875/1875 [==============================] - 23s 12ms/step - loss: 0.7800 - accuracy: 0.6780 - val_loss: 0.7313 - val_accuracy: 0.6963\n",
            "Epoch 80/100\n",
            "1875/1875 [==============================] - 23s 12ms/step - loss: 0.7755 - accuracy: 0.6786 - val_loss: 0.7443 - val_accuracy: 0.6937\n",
            "Epoch 81/100\n",
            "1875/1875 [==============================] - 23s 12ms/step - loss: 0.7785 - accuracy: 0.6785 - val_loss: 0.7316 - val_accuracy: 0.6945\n",
            "Epoch 82/100\n",
            "1875/1875 [==============================] - 23s 12ms/step - loss: 0.7783 - accuracy: 0.6807 - val_loss: 0.7261 - val_accuracy: 0.7037\n",
            "Epoch 83/100\n",
            "1875/1875 [==============================] - 23s 12ms/step - loss: 0.7612 - accuracy: 0.6854 - val_loss: 0.7458 - val_accuracy: 0.6843\n",
            "Epoch 84/100\n",
            "1875/1875 [==============================] - 22s 12ms/step - loss: 0.7565 - accuracy: 0.6880 - val_loss: 0.7441 - val_accuracy: 0.6928\n",
            "Epoch 85/100\n",
            "1875/1875 [==============================] - 22s 12ms/step - loss: 0.7756 - accuracy: 0.6833 - val_loss: 0.8379 - val_accuracy: 0.6683\n",
            "Epoch 86/100\n",
            "1875/1875 [==============================] - 23s 12ms/step - loss: 0.7678 - accuracy: 0.6853 - val_loss: 0.7047 - val_accuracy: 0.7090\n",
            "Epoch 87/100\n",
            "1875/1875 [==============================] - 23s 12ms/step - loss: 0.7415 - accuracy: 0.6953 - val_loss: 0.6949 - val_accuracy: 0.7132\n",
            "Epoch 88/100\n",
            "1875/1875 [==============================] - 23s 12ms/step - loss: 0.7391 - accuracy: 0.6952 - val_loss: 0.7176 - val_accuracy: 0.7034\n",
            "Epoch 89/100\n",
            "1875/1875 [==============================] - 23s 12ms/step - loss: 0.7398 - accuracy: 0.6969 - val_loss: 0.6886 - val_accuracy: 0.7198\n",
            "Epoch 90/100\n",
            "1875/1875 [==============================] - 23s 12ms/step - loss: 0.7308 - accuracy: 0.7015 - val_loss: 0.6793 - val_accuracy: 0.7225\n",
            "Epoch 91/100\n",
            "1875/1875 [==============================] - 23s 12ms/step - loss: 0.7254 - accuracy: 0.7040 - val_loss: 0.7300 - val_accuracy: 0.7038\n",
            "Epoch 92/100\n",
            "1875/1875 [==============================] - 22s 12ms/step - loss: 0.7186 - accuracy: 0.7050 - val_loss: 0.6873 - val_accuracy: 0.7171\n",
            "Epoch 93/100\n",
            "1875/1875 [==============================] - 22s 12ms/step - loss: 0.7130 - accuracy: 0.7093 - val_loss: 0.6888 - val_accuracy: 0.7143\n",
            "Epoch 94/100\n",
            "1875/1875 [==============================] - 23s 12ms/step - loss: 0.7093 - accuracy: 0.7109 - val_loss: 0.6868 - val_accuracy: 0.7210\n",
            "Epoch 95/100\n",
            "1875/1875 [==============================] - 23s 12ms/step - loss: 0.7554 - accuracy: 0.7005 - val_loss: 0.7969 - val_accuracy: 0.6866\n",
            "Epoch 96/100\n",
            "1875/1875 [==============================] - 23s 12ms/step - loss: 0.7210 - accuracy: 0.7100 - val_loss: 0.6733 - val_accuracy: 0.7265\n",
            "Epoch 97/100\n",
            "1875/1875 [==============================] - 23s 12ms/step - loss: 0.6967 - accuracy: 0.7171 - val_loss: 0.6549 - val_accuracy: 0.7313\n",
            "Epoch 98/100\n",
            "1875/1875 [==============================] - 23s 12ms/step - loss: 0.6998 - accuracy: 0.7174 - val_loss: 0.6380 - val_accuracy: 0.7395\n",
            "Epoch 99/100\n",
            "1875/1875 [==============================] - 23s 12ms/step - loss: 0.6834 - accuracy: 0.7219 - val_loss: 0.6840 - val_accuracy: 0.7203\n",
            "Epoch 100/100\n",
            "1875/1875 [==============================] - 22s 12ms/step - loss: 0.6810 - accuracy: 0.7247 - val_loss: 0.6590 - val_accuracy: 0.7357\n"
          ]
        }
      ],
      "source": [
        "history = model.fit(X_train, y_train, batch_size=64, epochs=100, validation_data=(X_val, y_val))\n",
        "#model.save('NewAllDataModel_E50_B64.h5')"
      ]
    },
    {
      "cell_type": "code",
      "execution_count": 30,
      "metadata": {
        "id": "R7QQeqVidKBR",
        "colab": {
          "base_uri": "https://localhost:8080/"
        },
        "outputId": "e7d74283-1faf-4421-9157-35d3e70409c3"
      },
      "outputs": [
        {
          "output_type": "stream",
          "name": "stdout",
          "text": [
            "469/469 [==============================] - 3s 5ms/step - loss: 0.6667 - accuracy: 0.7259\n"
          ]
        }
      ],
      "source": [
        "test_acc = model.evaluate(X_test, y_test)"
      ]
    },
    {
      "cell_type": "code",
      "source": [
        "test_acc"
      ],
      "metadata": {
        "id": "6fuTmgGrUgGg",
        "colab": {
          "base_uri": "https://localhost:8080/"
        },
        "outputId": "cf65598f-513a-4472-8254-79bc600316a3"
      },
      "execution_count": 31,
      "outputs": [
        {
          "output_type": "execute_result",
          "data": {
            "text/plain": [
              "[0.6666534543037415, 0.7258666753768921]"
            ]
          },
          "metadata": {},
          "execution_count": 31
        }
      ]
    },
    {
      "cell_type": "code",
      "execution_count": 32,
      "metadata": {
        "id": "OHpifyqGdKn-",
        "colab": {
          "base_uri": "https://localhost:8080/"
        },
        "outputId": "f2a111ee-c550-4b1b-cb12-fedb99bd6cdf"
      },
      "outputs": [
        {
          "output_type": "stream",
          "name": "stdout",
          "text": [
            "469/469 [==============================] - 2s 4ms/step\n"
          ]
        }
      ],
      "source": [
        "y_test_prob = model.predict(X_test, verbose=1)"
      ]
    },
    {
      "cell_type": "code",
      "source": [
        "np.set_printoptions(suppress=True)\n",
        "y_test_prob_backup = y_test_prob\n",
        "y_test_prob"
      ],
      "metadata": {
        "id": "rRPswrrkmhp2",
        "colab": {
          "base_uri": "https://localhost:8080/"
        },
        "outputId": "a2bcbafd-da31-47fa-919a-46e4aa2ad154"
      },
      "execution_count": 33,
      "outputs": [
        {
          "output_type": "execute_result",
          "data": {
            "text/plain": [
              "array([[0.00000161, 0.00000837, 0.0076133 , ..., 0.322061  , 0.00070559,\n",
              "        0.00001458],\n",
              "       [0.00014925, 0.00001819, 0.00053055, ..., 0.05987317, 0.87008864,\n",
              "        0.05072622],\n",
              "       [0.99872595, 0.00082961, 0.00000004, ..., 0.00000005, 0.00001618,\n",
              "        0.00042816],\n",
              "       ...,\n",
              "       [0.00029629, 0.00390046, 0.282543  , ..., 0.1826888 , 0.25839734,\n",
              "        0.10216804],\n",
              "       [0.00000391, 0.00000153, 0.00129075, ..., 0.0868066 , 0.00531945,\n",
              "        0.0000145 ],\n",
              "       [0.00011463, 0.00062154, 0.2453868 , ..., 0.46710676, 0.03756326,\n",
              "        0.00760601]], dtype=float32)"
            ]
          },
          "metadata": {},
          "execution_count": 33
        }
      ]
    },
    {
      "cell_type": "code",
      "execution_count": 34,
      "metadata": {
        "id": "AfmdrBILdMwj"
      },
      "outputs": [],
      "source": [
        "y_test_pred = np.where(y_test_prob > 0.5, 1, 0)"
      ]
    },
    {
      "cell_type": "code",
      "execution_count": 35,
      "metadata": {
        "id": "8DoJy_p9dPzN"
      },
      "outputs": [],
      "source": [
        "from sklearn.metrics import multilabel_confusion_matrix"
      ]
    },
    {
      "cell_type": "code",
      "source": [
        "y_test"
      ],
      "metadata": {
        "id": "n1Us2yrfcGl-",
        "colab": {
          "base_uri": "https://localhost:8080/"
        },
        "outputId": "aef6920a-fc83-4e11-aa29-d35edcedea70"
      },
      "execution_count": 36,
      "outputs": [
        {
          "output_type": "execute_result",
          "data": {
            "text/plain": [
              "array([[0., 0., 0., ..., 1., 0., 0.],\n",
              "       [0., 0., 0., ..., 0., 1., 0.],\n",
              "       [1., 0., 0., ..., 0., 0., 0.],\n",
              "       ...,\n",
              "       [0., 0., 0., ..., 0., 1., 0.],\n",
              "       [0., 0., 0., ..., 0., 0., 0.],\n",
              "       [0., 0., 1., ..., 0., 0., 0.]])"
            ]
          },
          "metadata": {},
          "execution_count": 36
        }
      ]
    },
    {
      "cell_type": "code",
      "source": [
        "y_test.shape"
      ],
      "metadata": {
        "id": "VnmvTcvWbxr9",
        "colab": {
          "base_uri": "https://localhost:8080/"
        },
        "outputId": "404c004b-02c4-4987-da28-2a9f5731b4cf"
      },
      "execution_count": 37,
      "outputs": [
        {
          "output_type": "execute_result",
          "data": {
            "text/plain": [
              "(15000, 8)"
            ]
          },
          "metadata": {},
          "execution_count": 37
        }
      ]
    },
    {
      "cell_type": "code",
      "source": [
        "y_test_pred"
      ],
      "metadata": {
        "id": "nMBOgzrgcJBj",
        "colab": {
          "base_uri": "https://localhost:8080/"
        },
        "outputId": "f23f0fa8-805a-4956-b32e-fc5717a617e4"
      },
      "execution_count": 38,
      "outputs": [
        {
          "output_type": "execute_result",
          "data": {
            "text/plain": [
              "array([[0, 0, 0, ..., 0, 0, 0],\n",
              "       [0, 0, 0, ..., 0, 1, 0],\n",
              "       [1, 0, 0, ..., 0, 0, 0],\n",
              "       ...,\n",
              "       [0, 0, 0, ..., 0, 0, 0],\n",
              "       [0, 0, 0, ..., 0, 0, 0],\n",
              "       [0, 0, 0, ..., 0, 0, 0]])"
            ]
          },
          "metadata": {},
          "execution_count": 38
        }
      ]
    },
    {
      "cell_type": "code",
      "source": [
        "y_test_pred.shape"
      ],
      "metadata": {
        "id": "SXKZof8Ye5uI",
        "colab": {
          "base_uri": "https://localhost:8080/"
        },
        "outputId": "45429b34-dbee-4482-873f-d547b6d7e0cd"
      },
      "execution_count": 39,
      "outputs": [
        {
          "output_type": "execute_result",
          "data": {
            "text/plain": [
              "(15000, 8)"
            ]
          },
          "metadata": {},
          "execution_count": 39
        }
      ]
    },
    {
      "cell_type": "code",
      "source": [
        "y_decoded_pred = tf.argmax(y_test_pred, axis = 1)"
      ],
      "metadata": {
        "id": "leDQwKOjgwwi"
      },
      "execution_count": 40,
      "outputs": []
    },
    {
      "cell_type": "code",
      "source": [
        "y_decoded = tf.argmax(y_test, axis = 1)"
      ],
      "metadata": {
        "id": "sAHRmtesif6g"
      },
      "execution_count": 41,
      "outputs": []
    },
    {
      "cell_type": "code",
      "source": [
        "y_decoded_pred"
      ],
      "metadata": {
        "id": "_lvFhrmPhprD",
        "colab": {
          "base_uri": "https://localhost:8080/"
        },
        "outputId": "6ff66d17-23ad-4cfc-c656-549cdab35138"
      },
      "execution_count": 42,
      "outputs": [
        {
          "output_type": "execute_result",
          "data": {
            "text/plain": [
              "<tf.Tensor: shape=(15000,), dtype=int64, numpy=array([3, 6, 0, ..., 0, 4, 0])>"
            ]
          },
          "metadata": {},
          "execution_count": 42
        }
      ]
    },
    {
      "cell_type": "code",
      "source": [
        "y_decoded"
      ],
      "metadata": {
        "id": "YV1FXgHviPwm",
        "colab": {
          "base_uri": "https://localhost:8080/"
        },
        "outputId": "aa0aed20-6180-44fa-ae64-17eae4030b4a"
      },
      "execution_count": 43,
      "outputs": [
        {
          "output_type": "execute_result",
          "data": {
            "text/plain": [
              "<tf.Tensor: shape=(15000,), dtype=int64, numpy=array([5, 6, 0, ..., 6, 4, 2])>"
            ]
          },
          "metadata": {},
          "execution_count": 43
        }
      ]
    },
    {
      "cell_type": "code",
      "source": [
        "y_test_pred = y_decoded_pred\n"
      ],
      "metadata": {
        "id": "6-6jFqzGh380"
      },
      "execution_count": 44,
      "outputs": []
    },
    {
      "cell_type": "code",
      "source": [
        "y_test = y_decoded"
      ],
      "metadata": {
        "id": "9pogVvdIiwss"
      },
      "execution_count": 45,
      "outputs": []
    },
    {
      "cell_type": "code",
      "source": [
        "y_test"
      ],
      "metadata": {
        "id": "oGt5aJetiKR6",
        "colab": {
          "base_uri": "https://localhost:8080/"
        },
        "outputId": "a76e1b00-9656-4b18-fa3d-ffcc739fa2e4"
      },
      "execution_count": 46,
      "outputs": [
        {
          "output_type": "execute_result",
          "data": {
            "text/plain": [
              "<tf.Tensor: shape=(15000,), dtype=int64, numpy=array([5, 6, 0, ..., 6, 4, 2])>"
            ]
          },
          "metadata": {},
          "execution_count": 46
        }
      ]
    },
    {
      "cell_type": "code",
      "source": [
        "y_test_pred"
      ],
      "metadata": {
        "id": "fLgDwAIfiyv2",
        "colab": {
          "base_uri": "https://localhost:8080/"
        },
        "outputId": "8e55174c-3f3e-446e-b70b-1a36c27dbed7"
      },
      "execution_count": 47,
      "outputs": [
        {
          "output_type": "execute_result",
          "data": {
            "text/plain": [
              "<tf.Tensor: shape=(15000,), dtype=int64, numpy=array([3, 6, 0, ..., 0, 4, 0])>"
            ]
          },
          "metadata": {},
          "execution_count": 47
        }
      ]
    },
    {
      "cell_type": "code",
      "execution_count": 48,
      "metadata": {
        "id": "fTCsPjW8dQaZ"
      },
      "outputs": [],
      "source": [
        "cfm=confusion_matrix(y_test, y_test_pred)"
      ]
    },
    {
      "cell_type": "code",
      "source": [
        "cfm"
      ],
      "metadata": {
        "id": "_67lPg6ic4cH",
        "colab": {
          "base_uri": "https://localhost:8080/"
        },
        "outputId": "4115f8e6-431a-4306-c688-953cb13aaaf4"
      },
      "execution_count": 49,
      "outputs": [
        {
          "output_type": "execute_result",
          "data": {
            "text/plain": [
              "array([[1874,    7,    0,    0,    0,    0,    0,    0],\n",
              "       [  52, 1772,    5,    0,    0,    0,    0,    6],\n",
              "       [ 515,   39, 1240,   73,    3,    9,   23,   39],\n",
              "       [ 657,    0,   73,  907,  121,   66,    0,    1],\n",
              "       [ 819,    0,   19,  154,  751,  120,   20,    1],\n",
              "       [ 901,    0,    8,   55,  115,  750,   37,    3],\n",
              "       [ 735,    0,   14,    1,   48,   82,  746,  205],\n",
              "       [ 250,    7,    4,    0,    0,    3,  348, 1322]])"
            ]
          },
          "metadata": {},
          "execution_count": 49
        }
      ]
    },
    {
      "cell_type": "code",
      "source": [
        " print(classification_report(y_test,y_test_pred))"
      ],
      "metadata": {
        "id": "XTqR_xnwRWCJ",
        "colab": {
          "base_uri": "https://localhost:8080/"
        },
        "outputId": "11fd8702-b43b-4184-ec79-76d163d62e61"
      },
      "execution_count": 50,
      "outputs": [
        {
          "output_type": "stream",
          "name": "stdout",
          "text": [
            "              precision    recall  f1-score   support\n",
            "\n",
            "           0       0.32      1.00      0.49      1881\n",
            "           1       0.97      0.97      0.97      1835\n",
            "           2       0.91      0.64      0.75      1941\n",
            "           3       0.76      0.50      0.60      1825\n",
            "           4       0.72      0.40      0.51      1884\n",
            "           5       0.73      0.40      0.52      1869\n",
            "           6       0.64      0.41      0.50      1831\n",
            "           7       0.84      0.68      0.75      1934\n",
            "\n",
            "    accuracy                           0.62     15000\n",
            "   macro avg       0.74      0.62      0.64     15000\n",
            "weighted avg       0.74      0.62      0.64     15000\n",
            "\n"
          ]
        }
      ]
    },
    {
      "cell_type": "code",
      "execution_count": 51,
      "metadata": {
        "id": "te3fslrY9Eca",
        "colab": {
          "base_uri": "https://localhost:8080/",
          "height": 908
        },
        "outputId": "77d80963-443c-4375-93e3-feb42060bbbe"
      },
      "outputs": [
        {
          "output_type": "stream",
          "name": "stdout",
          "text": [
            "Confusion matrix, without normalization\n",
            "[[1874    7    0    0    0    0    0    0]\n",
            " [  52 1772    5    0    0    0    0    6]\n",
            " [ 515   39 1240   73    3    9   23   39]\n",
            " [ 657    0   73  907  121   66    0    1]\n",
            " [ 819    0   19  154  751  120   20    1]\n",
            " [ 901    0    8   55  115  750   37    3]\n",
            " [ 735    0   14    1   48   82  746  205]\n",
            " [ 250    7    4    0    0    3  348 1322]]\n",
            "Normalized confusion matrix\n",
            "[[1.   0.   0.   0.   0.   0.   0.   0.  ]\n",
            " [0.03 0.97 0.   0.   0.   0.   0.   0.  ]\n",
            " [0.27 0.02 0.64 0.04 0.   0.   0.01 0.02]\n",
            " [0.36 0.   0.04 0.5  0.07 0.04 0.   0.  ]\n",
            " [0.43 0.   0.01 0.08 0.4  0.06 0.01 0.  ]\n",
            " [0.48 0.   0.   0.03 0.06 0.4  0.02 0.  ]\n",
            " [0.4  0.   0.01 0.   0.03 0.04 0.41 0.11]\n",
            " [0.13 0.   0.   0.   0.   0.   0.18 0.68]]\n"
          ]
        },
        {
          "output_type": "display_data",
          "data": {
            "text/plain": [
              "<Figure size 432x288 with 2 Axes>"
            ],
            "image/png": "[encoded data removed]"
          },
          "metadata": {
            "needs_background": "light"
          }
        },
        {
          "output_type": "display_data",
          "data": {
            "text/plain": [
              "<Figure size 432x288 with 2 Axes>"
            ],
            "image/png": "[encoded data removed]"
          },
          "metadata": {
            "needs_background": "light"
          }
        }
      ],
      "source": [
        "import numpy as np\n",
        "import matplotlib.pyplot as plt\n",
        "\n",
        "from sklearn import svm, datasets\n",
        "from sklearn.model_selection import train_test_split\n",
        "from sklearn.metrics import confusion_matrix\n",
        "from sklearn.utils.multiclass import unique_labels\n",
        "\n",
        "class_names = np.array(['0', '1', '2', '3', '4', '5', '6', '7'])\n",
        "\n",
        "def plot_confusion_matrix(y_true, y_pred, classes,\n",
        "                          normalize=False,\n",
        "                          title=None,\n",
        "                          cmap=plt.cm.Blues):\n",
        "    \"\"\"\n",
        "    This function prints and plots the confusion matrix.\n",
        "    Normalization can be applied by setting `normalize=True`.\n",
        "    \"\"\"\n",
        "    if not title:\n",
        "        if normalize:\n",
        "            title = 'Normalized confusion matrix'\n",
        "        else:\n",
        "            title = 'Confusion matrix, without normalization'\n",
        "\n",
        "    # Compute confusion matrix\n",
        "    cm = confusion_matrix(y_true, y_pred)\n",
        "    # Only use the labels that appear in the data\n",
        "    classes = classes[unique_labels(y_true, y_pred)]\n",
        "    if normalize:\n",
        "        cm = cm.astype('float') / cm.sum(axis=1)[:, np.newaxis]\n",
        "        print(\"Normalized confusion matrix\")\n",
        "    else:\n",
        "        print('Confusion matrix, without normalization')\n",
        "\n",
        "    print(cm)\n",
        "\n",
        "    fig, ax = plt.subplots()\n",
        "    im = ax.imshow(cm, interpolation='nearest', cmap=cmap)\n",
        "    ax.figure.colorbar(im, ax=ax)\n",
        "    # We want to show all ticks...\n",
        "    ax.set(xticks=np.arange(cm.shape[1]),\n",
        "           yticks=np.arange(cm.shape[0]),\n",
        "           # ... and label them with the respective list entries\n",
        "           xticklabels=classes, yticklabels=classes,\n",
        "           title=title,\n",
        "           ylabel='True label',\n",
        "           xlabel='Predicted label')\n",
        "\n",
        "    # Rotate the tick labels and set their alignment.\n",
        "    plt.setp(ax.get_xticklabels(), rotation=45, ha=\"right\",\n",
        "             rotation_mode=\"anchor\")\n",
        "\n",
        "    # Loop over data dimensions and create text annotations.\n",
        "    fmt = '.2f' if normalize else 'd'\n",
        "    thresh = cm.max() / 2.\n",
        "    for i in range(cm.shape[0]):\n",
        "        for j in range(cm.shape[1]):\n",
        "            ax.text(j, i, format(cm[i, j], fmt),\n",
        "                    ha=\"center\", va=\"center\",\n",
        "                    color=\"white\" if cm[i, j] > thresh else \"black\")\n",
        "    fig.tight_layout()\n",
        "\n",
        "    return ax\n",
        "\n",
        "\n",
        "np.set_printoptions(precision=2)\n",
        "\n",
        "# Plot non-normalized confusion matrix\n",
        "plot_confusion_matrix(y_test, y_test_pred, classes=class_names,\n",
        "                      title='Confusion matrix, without normalization')\n",
        "\n",
        "# Plot normalized confusion matrix\n",
        "plot_confusion_matrix(y_test, y_test_pred, classes=class_names, normalize=True,\n",
        "                      title='Normalized confusion matrix')\n",
        "\n",
        "plt.show()"
      ]
    },
    {
      "cell_type": "code",
      "execution_count": 52,
      "metadata": {
        "id": "fhdLAhgPUnH3"
      },
      "outputs": [],
      "source": [
        "def plot_learningCurve(history, epoch):\n",
        "  # Plot training & validation accuracy values\n",
        "  epoch_range = range(1, epoch+1)\n",
        "  plt.plot(epoch_range, history.history['accuracy'])\n",
        "  plt.plot(epoch_range, history.history['val_accuracy'])\n",
        "  plt.title('Model accuracy')\n",
        "  plt.ylabel('Accuracy')\n",
        "  plt.xlabel('Epoch')\n",
        "  plt.legend(['Train', 'Val'], loc='upper left')\n",
        "  plt.show()\n",
        "\n",
        "  # Plot training & validation loss values\n",
        "  plt.plot(epoch_range, history.history['loss'])\n",
        "  plt.plot(epoch_range, history.history['val_loss'])\n",
        "  plt.title('Model loss')\n",
        "  plt.ylabel('Loss')\n",
        "  plt.xlabel('Epoch')\n",
        "  plt.legend(['Train', 'Val'], loc='upper left')\n",
        "  plt.show()"
      ]
    },
    {
      "cell_type": "code",
      "execution_count": 53,
      "metadata": {
        "id": "WlkQkWHgU5mL",
        "colab": {
          "base_uri": "https://localhost:8080/",
          "height": 581
        },
        "outputId": "ae54406d-cb82-483b-f193-f61173f63b8e"
      },
      "outputs": [
        {
          "output_type": "display_data",
          "data": {
            "text/plain": [
              "<Figure size 432x288 with 1 Axes>"
            ],
            "image/png": "[encoded data removed]"
          },
          "metadata": {
            "needs_background": "light"
          }
        },
        {
          "output_type": "display_data",
          "data": {
            "text/plain": [
              "<Figure size 432x288 with 1 Axes>"
            ],
            "image/png": "[encoded data removed]"
          },
          "metadata": {
            "needs_background": "light"
          }
        }
      ],
      "source": [
        "plot_learningCurve(history, 100)"
      ]
    }
  ],
  "metadata": {
    "colab": {
      "collapsed_sections": [
        "f857kfHqUk0-"
      ],
      "name": "Multi_Class_MD_LSTM_step_200_files_120.ipynb",
      "provenance": [],
      "include_colab_link": true
    },
    "kernelspec": {
      "display_name": "Python 3",
      "name": "python3"
    },
    "language_info": {
      "name": "python"
    },
    "accelerator": "GPU"
  },
  "nbformat": 4,
  "nbformat_minor": 0
}