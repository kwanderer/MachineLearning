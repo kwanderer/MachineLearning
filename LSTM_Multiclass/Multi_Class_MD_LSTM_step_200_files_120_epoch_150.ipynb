{
  "cells": [
    {
      "cell_type": "markdown",
      "metadata": {
        "id": "view-in-github",
        "colab_type": "text"
      },
      "source": [
        "<a href=\"https://colab.research.google.com/github/kwanderer/MachineLearning/blob/main/Multi_Class_MD_LSTM_step_200_files_120_epoch_150.ipynb\" target=\"_parent\"><img src=\"https://colab.research.google.com/assets/colab-badge.svg\" alt=\"Open In Colab\"/></a>"
      ]
    },
    {
      "cell_type": "markdown",
      "metadata": {
        "id": "f857kfHqUk0-"
      },
      "source": [
        "\n",
        "\n",
        "#Datu kopa"
      ]
    },
    {
      "cell_type": "markdown",
      "metadata": {
        "id": "nM9WE3QGUwVi"
      },
      "source": [
        "Datu kopas avots: https://www.kaggle.com/uysalserkan/fault-induction-motor-dataset"
      ]
    },
    {
      "cell_type": "markdown",
      "metadata": {
        "id": "_sN_h3qHHy6r"
      },
      "source": [
        "Darbā tiek izmantota indukcijas motora parametru datu bāze. Izmantotajā datu kopā ir dati, kas tika iegūti SpectraQuest aparatūras kļūdu simulatorā (Machinery Fault Simulator).\n",
        "\n",
        "Katra mērījumu secība tika ģenerēta ar frekvenci 50 kHz 5 sekunžu laikā, kopā 250 000 mērījumi.\n",
        "\n",
        "Dati ir apkopoti vairākos failos, dažādos darbības stāvokļos un to apjoms ir ļoti liels. Šajā darbā tika izmantota daļa(viena mērījumu secība) no motora normālas darbības datiem.\n"
      ]
    },
    {
      "cell_type": "markdown",
      "metadata": {
        "id": "KtFAOaHYHLPo"
      },
      "source": [
        "Dati ir apkopoti tabulā, kura satur 8 parametrus. Dati ir iedalīti sekojošās kolonas:\n",
        "\n",
        "**tachometer** – tahometra signāls, kas ļauj novērtēt rotācijas frekvenci\n",
        "\n",
        "**und-accelerometer-axial** - apakšā esošā gultņa akselerometrs (aksiālais virziens)\n",
        "\n",
        "**und-accelerometer-radial** – apakšā esošā gultņa akselerometrs (radiālais virziens)\n",
        "\n",
        "**und-accelerometer-tangential** - apakšā esošā gultņa akselerometrs (tangenciālais virziens)\n",
        "\n",
        "**over-accelerometer-axial** - pārkares gultņa akselerometrs (aksiālais virziens)\n",
        "\n",
        "**over-accelerometer-radial** – pārkares gultņa akselerometrs (radiālais  virziens)\n",
        "\n",
        "**over-accelerometer-tangential**  - pārkares gultņa akselerometrs (tangenciālais virziens)\n",
        "\n",
        "**microphone** – mikrofona vērtība\n"
      ]
    },
    {
      "cell_type": "markdown",
      "metadata": {
        "id": "XymoNLKMVFUC"
      },
      "source": [
        "#Datu ielasīšana un satura vizualizācija"
      ]
    },
    {
      "cell_type": "code",
      "execution_count": 1,
      "metadata": {
        "id": "_yqYZDeOFq5s"
      },
      "outputs": [],
      "source": [
        "import keras\n",
        "from keras.layers import LSTM, Dropout, Dense\n",
        "import tensorflow as tf\n",
        "import numpy as np\n",
        "import pandas as pd\n",
        "\n",
        "from sklearn import linear_model  #pip install sklearn - loti plasa masinapmacibas biblioteka\n",
        "from sklearn.linear_model import LinearRegression  \n",
        "import csv          #pip install csv - darbam ar CSV datu kopam\n",
        "import requests     #pip install requests  - vienkarsakam darbam ar tiessaistes CSV datu kopam tiessaistes\n",
        "\n",
        "import matplotlib\n",
        "import matplotlib.pyplot as plt\n",
        "\n",
        "import glob\n"
      ]
    },
    {
      "cell_type": "code",
      "execution_count": 2,
      "metadata": {
        "id": "wlRTBbM2eUcV",
        "colab": {
          "base_uri": "https://localhost:8080/"
        },
        "outputId": "e18da9a9-4aac-44ba-df02-ccaca604f384"
      },
      "outputs": [
        {
          "output_type": "stream",
          "name": "stdout",
          "text": [
            "Mounted at /content/gdrive\n"
          ]
        }
      ],
      "source": [
        "from google.colab import drive\n",
        "import os\n",
        "drive.mount('/content/gdrive')\n",
        "os.chdir(\"/content/gdrive/MyDrive/Colab Notebooks/data_multiclass/\")"
      ]
    },
    {
      "cell_type": "code",
      "execution_count": 3,
      "metadata": {
        "id": "zzz6fBl_SNom"
      },
      "outputs": [],
      "source": [
        "#extension = 'csv'\n",
        "#all_filenames = [i for i in glob.glob('*.{}'.format(extension))]"
      ]
    },
    {
      "cell_type": "code",
      "execution_count": 4,
      "metadata": {
        "id": "vagKFCkToBi0"
      },
      "outputs": [],
      "source": [
        "#combine all files in the list\n",
        "#combined_csv = pd.concat([pd.read_csv(f) for f in all_filenames ])\n",
        "#export to csv\n",
        "#combined_csv.to_csv( \"combined_multiclass_csv.csv\", index=False, encoding='utf-8-sig')"
      ]
    },
    {
      "cell_type": "code",
      "execution_count": 5,
      "metadata": {
        "id": "encEkbDhSfGI"
      },
      "outputs": [],
      "source": [
        "data = pd.read_csv(\"combined_multiclass_csv.csv\")"
      ]
    },
    {
      "cell_type": "code",
      "execution_count": 6,
      "metadata": {
        "id": "yz5Qe8ZWk1Zq",
        "colab": {
          "base_uri": "https://localhost:8080/"
        },
        "outputId": "d2d4da71-44b9-4c4b-d1fd-8a4549eece48"
      },
      "outputs": [
        {
          "output_type": "stream",
          "name": "stdout",
          "text": [
            "<class 'pandas.core.frame.DataFrame'>\n",
            "RangeIndex: 30000000 entries, 0 to 29999999\n",
            "Data columns (total 9 columns):\n",
            " #   Column                         Dtype  \n",
            "---  ------                         -----  \n",
            " 0   tachometer                     float64\n",
            " 1   und-accelerometer-axial        float64\n",
            " 2   und-accelerometer-radial       float64\n",
            " 3   und-accelerometer-tangential   float64\n",
            " 4   over-accelerometer-axial       float64\n",
            " 5   over-accelerometer-radial      float64\n",
            " 6   over-accelerometer-tangential  float64\n",
            " 7   microphone                     float64\n",
            " 8   Class                          int64  \n",
            "dtypes: float64(8), int64(1)\n",
            "memory usage: 2.0 GB\n"
          ]
        }
      ],
      "source": [
        "data.info()"
      ]
    },
    {
      "cell_type": "code",
      "execution_count": 7,
      "metadata": {
        "id": "WUW9ezX6a_st",
        "colab": {
          "base_uri": "https://localhost:8080/"
        },
        "outputId": "b2f93260-3751-47d0-d55a-69df735d3061"
      },
      "outputs": [
        {
          "output_type": "execute_result",
          "data": {
            "text/plain": [
              "30000000"
            ]
          },
          "metadata": {},
          "execution_count": 7
        }
      ],
      "source": [
        "rec_count = len(data)\n",
        "rec_count"
      ]
    },
    {
      "cell_type": "markdown",
      "metadata": {
        "id": "6RVC1PZy88fC"
      },
      "source": [
        "# Datu dalīšana mazākos gabalos"
      ]
    },
    {
      "cell_type": "code",
      "execution_count": 8,
      "metadata": {
        "id": "DOvnCYkcbGaE"
      },
      "outputs": [],
      "source": [
        "sequence_length = 200"
      ]
    },
    {
      "cell_type": "code",
      "execution_count": 9,
      "metadata": {
        "id": "RG0o2L3zbTEx"
      },
      "outputs": [],
      "source": [
        "def generate_data(X, y, sequence_length = 200, step = 200):\n",
        "    X_local = []\n",
        "    y_local = []\n",
        "    for start in range(0, len(data) - sequence_length, step):\n",
        "        end = start + sequence_length\n",
        "        X_local.append(X[start:end])\n",
        "        y_local.append(y[end-1])\n",
        "    return np.array(X_local), np.array(y_local)\n",
        "\n",
        "X_sequence, y = generate_data(data.loc[:, \"tachometer\":\"microphone\"].values, data.Class)"
      ]
    },
    {
      "cell_type": "code",
      "execution_count": 10,
      "metadata": {
        "id": "s0QxwK66cLVF",
        "colab": {
          "base_uri": "https://localhost:8080/"
        },
        "outputId": "766e73f7-7cfd-455d-cf60-50aa6d4f588c"
      },
      "outputs": [
        {
          "output_type": "execute_result",
          "data": {
            "text/plain": [
              "((149999, 200, 8), (149999,))"
            ]
          },
          "metadata": {},
          "execution_count": 10
        }
      ],
      "source": [
        "X_sequence.shape, y.shape"
      ]
    },
    {
      "cell_type": "code",
      "source": [
        "unique, counts = np.unique(y, return_counts=True)"
      ],
      "metadata": {
        "id": "l8Lq455lV1JR"
      },
      "execution_count": 11,
      "outputs": []
    },
    {
      "cell_type": "code",
      "source": [
        "unique"
      ],
      "metadata": {
        "id": "t0BRO3nAWQxe",
        "colab": {
          "base_uri": "https://localhost:8080/"
        },
        "outputId": "66e4fd3e-48e3-4d37-a630-b64d2e15f033"
      },
      "execution_count": 12,
      "outputs": [
        {
          "output_type": "execute_result",
          "data": {
            "text/plain": [
              "array([0, 1, 2, 3, 4, 5, 6, 7])"
            ]
          },
          "metadata": {},
          "execution_count": 12
        }
      ]
    },
    {
      "cell_type": "code",
      "source": [
        "counts"
      ],
      "metadata": {
        "id": "WWZ7QWR4WS_r",
        "colab": {
          "base_uri": "https://localhost:8080/"
        },
        "outputId": "f461784c-e4a1-4f8e-ee2b-8fb340a42363"
      },
      "execution_count": 13,
      "outputs": [
        {
          "output_type": "execute_result",
          "data": {
            "text/plain": [
              "array([18749, 18750, 18750, 18750, 18750, 18750, 18750, 18750])"
            ]
          },
          "metadata": {},
          "execution_count": 13
        }
      ]
    },
    {
      "cell_type": "code",
      "execution_count": 14,
      "metadata": {
        "id": "i7R1oo6Mj8wx"
      },
      "outputs": [],
      "source": [
        "data = 0"
      ]
    },
    {
      "cell_type": "code",
      "source": [
        "from sklearn.preprocessing import OneHotEncoder"
      ],
      "metadata": {
        "id": "lAk_JscRWmqY"
      },
      "execution_count": 15,
      "outputs": []
    },
    {
      "cell_type": "code",
      "source": [
        "label_encoder = OneHotEncoder(sparse=False)\n",
        "label_encoder.fit(y.reshape(-1,1))"
      ],
      "metadata": {
        "id": "14B9aYy0W0y6",
        "colab": {
          "base_uri": "https://localhost:8080/"
        },
        "outputId": "ece56436-9012-41ef-a41d-b0450cbc9d70"
      },
      "execution_count": 16,
      "outputs": [
        {
          "output_type": "execute_result",
          "data": {
            "text/plain": [
              "OneHotEncoder(sparse=False)"
            ]
          },
          "metadata": {},
          "execution_count": 16
        }
      ]
    },
    {
      "cell_type": "code",
      "source": [
        "y_encoded = label_encoder.transform(y.reshape(-1,1))"
      ],
      "metadata": {
        "id": "VjpWn96xXgPS"
      },
      "execution_count": 17,
      "outputs": []
    },
    {
      "cell_type": "code",
      "source": [
        "y_encoded[0:5]"
      ],
      "metadata": {
        "id": "VL6KMFo9XpBi",
        "colab": {
          "base_uri": "https://localhost:8080/"
        },
        "outputId": "c0135826-ef91-4554-c482-3abfcec64571"
      },
      "execution_count": 18,
      "outputs": [
        {
          "output_type": "execute_result",
          "data": {
            "text/plain": [
              "array([[0., 0., 0., 0., 0., 0., 0., 1.],\n",
              "       [0., 0., 0., 0., 0., 0., 0., 1.],\n",
              "       [0., 0., 0., 0., 0., 0., 0., 1.],\n",
              "       [0., 0., 0., 0., 0., 0., 0., 1.],\n",
              "       [0., 0., 0., 0., 0., 0., 0., 1.]])"
            ]
          },
          "metadata": {},
          "execution_count": 18
        }
      ]
    },
    {
      "cell_type": "code",
      "source": [
        "y=y_encoded"
      ],
      "metadata": {
        "id": "5c8km253YKBl"
      },
      "execution_count": 19,
      "outputs": []
    },
    {
      "cell_type": "markdown",
      "metadata": {
        "id": "5BXSDoHa9UX_"
      },
      "source": [
        "# Random/Shuffle"
      ]
    },
    {
      "cell_type": "code",
      "execution_count": 20,
      "metadata": {
        "id": "ZcfE9idy-ckb"
      },
      "outputs": [],
      "source": [
        "shuffler = np.random.permutation(len(X_sequence))\n",
        "X_sequence_shuffled = X_sequence[shuffler]\n",
        "y_shuffled = y[shuffler]"
      ]
    },
    {
      "cell_type": "markdown",
      "metadata": {
        "id": "TfhRTTNcE2s8"
      },
      "source": [
        "# LSTM"
      ]
    },
    {
      "cell_type": "code",
      "execution_count": 21,
      "metadata": {
        "id": "ihrXMuVAEwlY"
      },
      "outputs": [],
      "source": [
        "import pandas as pd\n",
        "import sklearn.metrics as metrique\n",
        "from pandas import Series\n",
        "from sklearn.preprocessing import StandardScaler, MinMaxScaler\n",
        "from matplotlib import pyplot\n",
        "from sklearn.model_selection import train_test_split\n",
        "import numpy as np\n",
        "import tensorflow as tf\n",
        "import sys\n",
        "import numpy as np\n",
        "import pandas as pd\n",
        "import tensorflow as tf\n",
        "import matplotlib.pyplot as plt\n",
        "from sklearn.model_selection import train_test_split\n",
        "from sklearn import preprocessing\n",
        "from sklearn.preprocessing import StandardScaler\n",
        "from sklearn.metrics import classification_report\n",
        "import warnings\n",
        "warnings.filterwarnings('ignore')\n",
        "plt.style.use('ggplot')\n",
        "import seaborn as sns \n",
        "%matplotlib inline\n",
        "from keras.callbacks import EarlyStopping\n",
        "from keras.callbacks import ModelCheckpoint\n",
        "from sklearn.metrics import accuracy_score\n",
        "from sklearn.metrics import classification_report, confusion_matrix\n",
        "from keras.models import Sequential\n",
        "from keras.utils import np_utils\n",
        "from keras.layers import LSTM, Dense, Embedding, Dropout,Input, Layer, Concatenate, Permute, Dot, Multiply, Flatten\n",
        "from keras.layers import RepeatVector, Dense, Activation, Lambda\n",
        "from keras.models import Sequential\n",
        "from keras import backend as K, regularizers, Model, metrics\n",
        "from keras.backend import cast"
      ]
    },
    {
      "cell_type": "code",
      "execution_count": 22,
      "metadata": {
        "id": "PjKWKiA6aH3z"
      },
      "outputs": [],
      "source": [
        "#from tensorflow.keras import optimizers\n",
        "#sgd = optimizers.SGD(lr=0.0001, decay=1e-6, momentum=0.9, nesterov=True)\n",
        "#model = keras.Sequential()\n",
        "#model.add(LSTM(100, input_shape = (200, 8)))\n",
        "#model.add(Dropout(0.5))\n",
        "#model.add(Dense(1, activation=\"softmax\"))\n",
        "\n",
        "\n",
        "#model.compile(loss=\"categorical_crossentropy\"\n",
        "#              , metrics=[keras.metrics.binary_accuracy]\n",
        "#              , optimizer='sgd')\n",
        "\n",
        "#model.summary()"
      ]
    },
    {
      "cell_type": "code",
      "execution_count": 23,
      "metadata": {
        "id": "_2SaVmwSWJVB",
        "colab": {
          "base_uri": "https://localhost:8080/"
        },
        "outputId": "a59fdc3d-8053-4647-ad02-6a63c6e783de"
      },
      "outputs": [
        {
          "output_type": "stream",
          "name": "stdout",
          "text": [
            "Model: \"sequential\"\n",
            "_________________________________________________________________\n",
            " Layer (type)                Output Shape              Param #   \n",
            "=================================================================\n",
            " lstm (LSTM)                 (None, 100)               43600     \n",
            "                                                                 \n",
            " dropout (Dropout)           (None, 100)               0         \n",
            "                                                                 \n",
            " dense (Dense)               (None, 8)                 808       \n",
            "                                                                 \n",
            "=================================================================\n",
            "Total params: 44,408\n",
            "Trainable params: 44,408\n",
            "Non-trainable params: 0\n",
            "_________________________________________________________________\n"
          ]
        }
      ],
      "source": [
        "from tensorflow.keras import optimizers\n",
        "#sgd = optimizers.SGD(lr=0.0001, decay=1e-6, momentum=0.9, nesterov=True)\n",
        "optimizer = tf.keras.optimizers.Adam(lr=0.0001)\n",
        "model = keras.Sequential()\n",
        "model.add(LSTM(100, input_shape = (200, 8)))\n",
        "model.add(Dropout(0.5))#0.25\n",
        "model.add(Dense(8, activation=\"softmax\"))\n",
        "\n",
        "#model.compile(loss='mean_squared_error', optimizer=sgd)\n",
        "model.compile(loss=\"categorical_crossentropy\"\n",
        "              , metrics=['accuracy']\n",
        "              , optimizer=optimizer)\n",
        "\n",
        "model.summary()"
      ]
    },
    {
      "cell_type": "code",
      "execution_count": 24,
      "metadata": {
        "id": "tg8wrqsqc8UX"
      },
      "outputs": [],
      "source": [
        "training_size = int(len(X_sequence) * 0.8)\n",
        "val_size = int(len(X_sequence) * 0.9)"
      ]
    },
    {
      "cell_type": "code",
      "execution_count": 25,
      "metadata": {
        "id": "avIp3TEKc-qF"
      },
      "outputs": [],
      "source": [
        "X_train, y_train = X_sequence_shuffled[:training_size], y_shuffled[:training_size]\n",
        "X_val, y_val = X_sequence_shuffled[training_size:val_size], y_shuffled[training_size:val_size]\n",
        "X_test, y_test = X_sequence_shuffled[val_size:], y_shuffled[val_size:]"
      ]
    },
    {
      "cell_type": "code",
      "execution_count": 26,
      "metadata": {
        "id": "RABc_uKzkBUT"
      },
      "outputs": [],
      "source": [
        "#X_sequence = 0\n",
        "#y = 0"
      ]
    },
    {
      "cell_type": "code",
      "source": [
        "X_train.shape"
      ],
      "metadata": {
        "id": "Omv-ht1dhGxL",
        "colab": {
          "base_uri": "https://localhost:8080/"
        },
        "outputId": "8ce6dd0f-1ad0-4fa5-8abd-86fbd1b06aa9"
      },
      "execution_count": 27,
      "outputs": [
        {
          "output_type": "execute_result",
          "data": {
            "text/plain": [
              "(119999, 200, 8)"
            ]
          },
          "metadata": {},
          "execution_count": 27
        }
      ]
    },
    {
      "cell_type": "code",
      "execution_count": 28,
      "metadata": {
        "id": "8aIhPJ-wLCwZ",
        "colab": {
          "base_uri": "https://localhost:8080/"
        },
        "outputId": "25535084-5bea-423c-933a-d53fe425a271"
      },
      "outputs": [
        {
          "output_type": "execute_result",
          "data": {
            "text/plain": [
              "array([[0., 0., 0., 0., 1., 0., 0., 0.],\n",
              "       [0., 0., 1., 0., 0., 0., 0., 0.],\n",
              "       [0., 0., 0., 0., 0., 0., 0., 1.],\n",
              "       [0., 0., 0., 0., 0., 1., 0., 0.],\n",
              "       [0., 0., 0., 1., 0., 0., 0., 0.],\n",
              "       [0., 0., 0., 0., 1., 0., 0., 0.],\n",
              "       [0., 0., 0., 0., 1., 0., 0., 0.],\n",
              "       [0., 1., 0., 0., 0., 0., 0., 0.],\n",
              "       [1., 0., 0., 0., 0., 0., 0., 0.],\n",
              "       [0., 0., 1., 0., 0., 0., 0., 0.]])"
            ]
          },
          "metadata": {},
          "execution_count": 28
        }
      ],
      "source": [
        "y_train[:10]"
      ]
    },
    {
      "cell_type": "code",
      "execution_count": 29,
      "metadata": {
        "id": "cen4faX0dFJP",
        "colab": {
          "base_uri": "https://localhost:8080/"
        },
        "outputId": "a9aa8aca-77c9-4ff1-c788-495e1dc690a8"
      },
      "outputs": [
        {
          "output_type": "stream",
          "name": "stdout",
          "text": [
            "Epoch 1/150\n",
            "1875/1875 [==============================] - 76s 37ms/step - loss: 1.8368 - accuracy: 0.2252 - val_loss: 1.6841 - val_accuracy: 0.2717\n",
            "Epoch 2/150\n",
            "1875/1875 [==============================] - 65s 35ms/step - loss: 1.6894 - accuracy: 0.2657 - val_loss: 1.6637 - val_accuracy: 0.2961\n",
            "Epoch 3/150\n",
            "1875/1875 [==============================] - 67s 36ms/step - loss: 1.6126 - accuracy: 0.3099 - val_loss: 1.5255 - val_accuracy: 0.3543\n",
            "Epoch 4/150\n",
            "1875/1875 [==============================] - 68s 36ms/step - loss: 1.5375 - accuracy: 0.3583 - val_loss: 1.4984 - val_accuracy: 0.3952\n",
            "Epoch 5/150\n",
            "1875/1875 [==============================] - 71s 38ms/step - loss: 1.4931 - accuracy: 0.3809 - val_loss: 1.4564 - val_accuracy: 0.4007\n",
            "Epoch 6/150\n",
            "1875/1875 [==============================] - 67s 36ms/step - loss: 1.4855 - accuracy: 0.3861 - val_loss: 1.4565 - val_accuracy: 0.4010\n",
            "Epoch 7/150\n",
            "1875/1875 [==============================] - 67s 36ms/step - loss: 1.4745 - accuracy: 0.3810 - val_loss: 1.4346 - val_accuracy: 0.4042\n",
            "Epoch 8/150\n",
            "1875/1875 [==============================] - 70s 37ms/step - loss: 1.4608 - accuracy: 0.3984 - val_loss: 1.4374 - val_accuracy: 0.4059\n",
            "Epoch 9/150\n",
            "1875/1875 [==============================] - 71s 38ms/step - loss: 1.4272 - accuracy: 0.4156 - val_loss: 1.3732 - val_accuracy: 0.4387\n",
            "Epoch 10/150\n",
            "1875/1875 [==============================] - 67s 36ms/step - loss: 1.4001 - accuracy: 0.4230 - val_loss: 1.3506 - val_accuracy: 0.4405\n",
            "Epoch 11/150\n",
            "1875/1875 [==============================] - 69s 37ms/step - loss: 1.4491 - accuracy: 0.3899 - val_loss: 1.3786 - val_accuracy: 0.4311\n",
            "Epoch 12/150\n",
            "1875/1875 [==============================] - 69s 37ms/step - loss: 1.4544 - accuracy: 0.4061 - val_loss: 1.5399 - val_accuracy: 0.4164\n",
            "Epoch 13/150\n",
            "1875/1875 [==============================] - 69s 37ms/step - loss: 1.6148 - accuracy: 0.3559 - val_loss: 1.4981 - val_accuracy: 0.3834\n",
            "Epoch 14/150\n",
            "1875/1875 [==============================] - 67s 36ms/step - loss: 1.4735 - accuracy: 0.3929 - val_loss: 1.4209 - val_accuracy: 0.4189\n",
            "Epoch 15/150\n",
            "1875/1875 [==============================] - 67s 36ms/step - loss: 1.4216 - accuracy: 0.4179 - val_loss: 1.3738 - val_accuracy: 0.4431\n",
            "Epoch 16/150\n",
            "1875/1875 [==============================] - 67s 36ms/step - loss: 1.4432 - accuracy: 0.4158 - val_loss: 1.3874 - val_accuracy: 0.4275\n",
            "Epoch 17/150\n",
            "1875/1875 [==============================] - 68s 36ms/step - loss: 1.4077 - accuracy: 0.4237 - val_loss: 1.3465 - val_accuracy: 0.4405\n",
            "Epoch 18/150\n",
            "1875/1875 [==============================] - 68s 36ms/step - loss: 1.3920 - accuracy: 0.4363 - val_loss: 1.3061 - val_accuracy: 0.4735\n",
            "Epoch 19/150\n",
            "1875/1875 [==============================] - 66s 35ms/step - loss: 1.4620 - accuracy: 0.4150 - val_loss: 1.4008 - val_accuracy: 0.4309\n",
            "Epoch 20/150\n",
            "1875/1875 [==============================] - 70s 38ms/step - loss: 1.5840 - accuracy: 0.3862 - val_loss: 1.4938 - val_accuracy: 0.3791\n",
            "Epoch 21/150\n",
            "1875/1875 [==============================] - 69s 37ms/step - loss: 1.4648 - accuracy: 0.4026 - val_loss: 1.3641 - val_accuracy: 0.4491\n",
            "Epoch 22/150\n",
            "1875/1875 [==============================] - 73s 39ms/step - loss: 1.4328 - accuracy: 0.4210 - val_loss: 1.4379 - val_accuracy: 0.4236\n",
            "Epoch 23/150\n",
            "1875/1875 [==============================] - 70s 37ms/step - loss: 1.5107 - accuracy: 0.3959 - val_loss: 1.3727 - val_accuracy: 0.4468\n",
            "Epoch 24/150\n",
            "1875/1875 [==============================] - 69s 37ms/step - loss: 1.4288 - accuracy: 0.4282 - val_loss: 1.3249 - val_accuracy: 0.4680\n",
            "Epoch 25/150\n",
            "1875/1875 [==============================] - 71s 38ms/step - loss: 1.3688 - accuracy: 0.4470 - val_loss: 1.3354 - val_accuracy: 0.4620\n",
            "Epoch 26/150\n",
            "1875/1875 [==============================] - 69s 37ms/step - loss: 1.3898 - accuracy: 0.4388 - val_loss: 1.5447 - val_accuracy: 0.3695\n",
            "Epoch 27/150\n",
            "1875/1875 [==============================] - 69s 37ms/step - loss: 1.4644 - accuracy: 0.4080 - val_loss: 1.4178 - val_accuracy: 0.4237\n",
            "Epoch 28/150\n",
            "1875/1875 [==============================] - 69s 37ms/step - loss: 1.4134 - accuracy: 0.4234 - val_loss: 1.3532 - val_accuracy: 0.4439\n",
            "Epoch 29/150\n",
            "1875/1875 [==============================] - 70s 37ms/step - loss: 1.3787 - accuracy: 0.4389 - val_loss: 1.3381 - val_accuracy: 0.4539\n",
            "Epoch 30/150\n",
            "1875/1875 [==============================] - 69s 37ms/step - loss: 1.3881 - accuracy: 0.4341 - val_loss: 1.4223 - val_accuracy: 0.4287\n",
            "Epoch 31/150\n",
            "1875/1875 [==============================] - 70s 37ms/step - loss: 1.3523 - accuracy: 0.4494 - val_loss: 1.2870 - val_accuracy: 0.4741\n",
            "Epoch 32/150\n",
            "1875/1875 [==============================] - 70s 37ms/step - loss: 1.3211 - accuracy: 0.4623 - val_loss: 1.2780 - val_accuracy: 0.4738\n",
            "Epoch 33/150\n",
            "1875/1875 [==============================] - 73s 39ms/step - loss: 1.3195 - accuracy: 0.4579 - val_loss: 1.2700 - val_accuracy: 0.4685\n",
            "Epoch 34/150\n",
            "1875/1875 [==============================] - 73s 39ms/step - loss: 1.2747 - accuracy: 0.4763 - val_loss: 1.2208 - val_accuracy: 0.5024\n",
            "Epoch 35/150\n",
            "1875/1875 [==============================] - 72s 38ms/step - loss: 1.2552 - accuracy: 0.4845 - val_loss: 1.2202 - val_accuracy: 0.4957\n",
            "Epoch 36/150\n",
            "1875/1875 [==============================] - 72s 38ms/step - loss: 1.2304 - accuracy: 0.4993 - val_loss: 1.1852 - val_accuracy: 0.5154\n",
            "Epoch 37/150\n",
            "1875/1875 [==============================] - 70s 37ms/step - loss: 1.2535 - accuracy: 0.4923 - val_loss: 1.2316 - val_accuracy: 0.5036\n",
            "Epoch 38/150\n",
            "1875/1875 [==============================] - 72s 39ms/step - loss: 1.2208 - accuracy: 0.5028 - val_loss: 1.1649 - val_accuracy: 0.5238\n",
            "Epoch 39/150\n",
            "1875/1875 [==============================] - 73s 39ms/step - loss: 1.2141 - accuracy: 0.5034 - val_loss: 1.1895 - val_accuracy: 0.5089\n",
            "Epoch 40/150\n",
            "1875/1875 [==============================] - 72s 39ms/step - loss: 1.2237 - accuracy: 0.4997 - val_loss: 1.2411 - val_accuracy: 0.4874\n",
            "Epoch 41/150\n",
            "1875/1875 [==============================] - 71s 38ms/step - loss: 1.2768 - accuracy: 0.4865 - val_loss: 1.2289 - val_accuracy: 0.5087\n",
            "Epoch 42/150\n",
            "1875/1875 [==============================] - 73s 39ms/step - loss: 1.2392 - accuracy: 0.4977 - val_loss: 1.2028 - val_accuracy: 0.5068\n",
            "Epoch 43/150\n",
            "1875/1875 [==============================] - 73s 39ms/step - loss: 1.2845 - accuracy: 0.4796 - val_loss: 1.2338 - val_accuracy: 0.4860\n",
            "Epoch 44/150\n",
            "1875/1875 [==============================] - 72s 38ms/step - loss: 1.2236 - accuracy: 0.4985 - val_loss: 1.2180 - val_accuracy: 0.5017\n",
            "Epoch 45/150\n",
            "1875/1875 [==============================] - 72s 39ms/step - loss: 1.2081 - accuracy: 0.5064 - val_loss: 1.2009 - val_accuracy: 0.4991\n",
            "Epoch 46/150\n",
            "1875/1875 [==============================] - 72s 38ms/step - loss: 1.1854 - accuracy: 0.5152 - val_loss: 1.1338 - val_accuracy: 0.5343\n",
            "Epoch 47/150\n",
            "1875/1875 [==============================] - 69s 37ms/step - loss: 1.1763 - accuracy: 0.5183 - val_loss: 1.2404 - val_accuracy: 0.4877\n",
            "Epoch 48/150\n",
            "1875/1875 [==============================] - 69s 37ms/step - loss: 1.1762 - accuracy: 0.5167 - val_loss: 1.1376 - val_accuracy: 0.5277\n",
            "Epoch 49/150\n",
            "1875/1875 [==============================] - 71s 38ms/step - loss: 1.2224 - accuracy: 0.5073 - val_loss: 1.1492 - val_accuracy: 0.5295\n",
            "Epoch 50/150\n",
            "1875/1875 [==============================] - 71s 38ms/step - loss: 1.1795 - accuracy: 0.5152 - val_loss: 1.1795 - val_accuracy: 0.5103\n",
            "Epoch 51/150\n",
            "1875/1875 [==============================] - 69s 37ms/step - loss: 1.1671 - accuracy: 0.5178 - val_loss: 1.1486 - val_accuracy: 0.5235\n",
            "Epoch 52/150\n",
            "1875/1875 [==============================] - 71s 38ms/step - loss: 1.1853 - accuracy: 0.5107 - val_loss: 1.1624 - val_accuracy: 0.5150\n",
            "Epoch 53/150\n",
            "1875/1875 [==============================] - 71s 38ms/step - loss: 1.2093 - accuracy: 0.5071 - val_loss: 1.1986 - val_accuracy: 0.5195\n",
            "Epoch 54/150\n",
            "1875/1875 [==============================] - 73s 39ms/step - loss: 1.1495 - accuracy: 0.5242 - val_loss: 1.1235 - val_accuracy: 0.5411\n",
            "Epoch 55/150\n",
            "1875/1875 [==============================] - 69s 37ms/step - loss: 1.1285 - accuracy: 0.5330 - val_loss: 1.1193 - val_accuracy: 0.5331\n",
            "Epoch 56/150\n",
            "1875/1875 [==============================] - 69s 37ms/step - loss: 1.1180 - accuracy: 0.5369 - val_loss: 1.0933 - val_accuracy: 0.5443\n",
            "Epoch 57/150\n",
            "1875/1875 [==============================] - 68s 36ms/step - loss: 1.1039 - accuracy: 0.5426 - val_loss: 1.0987 - val_accuracy: 0.5428\n",
            "Epoch 58/150\n",
            "1875/1875 [==============================] - 72s 38ms/step - loss: 1.1085 - accuracy: 0.5413 - val_loss: 1.0576 - val_accuracy: 0.5597\n",
            "Epoch 59/150\n",
            "1875/1875 [==============================] - 69s 37ms/step - loss: 1.1247 - accuracy: 0.5362 - val_loss: 1.0982 - val_accuracy: 0.5463\n",
            "Epoch 60/150\n",
            "1875/1875 [==============================] - 69s 37ms/step - loss: 1.0904 - accuracy: 0.5457 - val_loss: 1.0729 - val_accuracy: 0.5527\n",
            "Epoch 61/150\n",
            "1875/1875 [==============================] - 69s 37ms/step - loss: 1.0745 - accuracy: 0.5549 - val_loss: 1.0548 - val_accuracy: 0.5621\n",
            "Epoch 62/150\n",
            "1875/1875 [==============================] - 71s 38ms/step - loss: 1.0768 - accuracy: 0.5530 - val_loss: 1.0243 - val_accuracy: 0.5815\n",
            "Epoch 63/150\n",
            "1875/1875 [==============================] - 69s 37ms/step - loss: 1.0757 - accuracy: 0.5558 - val_loss: 1.0227 - val_accuracy: 0.5778\n",
            "Epoch 64/150\n",
            "1875/1875 [==============================] - 70s 37ms/step - loss: 1.0707 - accuracy: 0.5586 - val_loss: 1.0464 - val_accuracy: 0.5681\n",
            "Epoch 65/150\n",
            "1875/1875 [==============================] - 70s 37ms/step - loss: 1.0488 - accuracy: 0.5636 - val_loss: 1.0120 - val_accuracy: 0.5822\n",
            "Epoch 66/150\n",
            "1875/1875 [==============================] - 69s 37ms/step - loss: 1.0368 - accuracy: 0.5694 - val_loss: 0.9983 - val_accuracy: 0.5846\n",
            "Epoch 67/150\n",
            "1875/1875 [==============================] - 69s 37ms/step - loss: 1.0411 - accuracy: 0.5692 - val_loss: 1.0056 - val_accuracy: 0.5833\n",
            "Epoch 68/150\n",
            "1875/1875 [==============================] - 69s 37ms/step - loss: 1.0169 - accuracy: 0.5771 - val_loss: 0.9858 - val_accuracy: 0.5935\n",
            "Epoch 69/150\n",
            "1875/1875 [==============================] - 68s 36ms/step - loss: 1.0484 - accuracy: 0.5635 - val_loss: 1.0598 - val_accuracy: 0.5607\n",
            "Epoch 70/150\n",
            "1875/1875 [==============================] - 70s 37ms/step - loss: 1.0039 - accuracy: 0.5810 - val_loss: 0.9727 - val_accuracy: 0.5963\n",
            "Epoch 71/150\n",
            "1875/1875 [==============================] - 71s 38ms/step - loss: 0.9930 - accuracy: 0.5864 - val_loss: 0.9698 - val_accuracy: 0.5966\n",
            "Epoch 72/150\n",
            "1875/1875 [==============================] - 74s 39ms/step - loss: 1.0213 - accuracy: 0.5729 - val_loss: 0.9576 - val_accuracy: 0.5941\n",
            "Epoch 73/150\n",
            "1875/1875 [==============================] - 75s 40ms/step - loss: 0.9761 - accuracy: 0.5910 - val_loss: 0.9449 - val_accuracy: 0.6036\n",
            "Epoch 74/150\n",
            "1875/1875 [==============================] - 76s 40ms/step - loss: 0.9641 - accuracy: 0.5961 - val_loss: 0.9520 - val_accuracy: 0.5996\n",
            "Epoch 75/150\n",
            "1875/1875 [==============================] - 75s 40ms/step - loss: 0.9675 - accuracy: 0.5969 - val_loss: 0.9908 - val_accuracy: 0.5871\n",
            "Epoch 76/150\n",
            "1875/1875 [==============================] - 73s 39ms/step - loss: 0.9516 - accuracy: 0.6013 - val_loss: 0.9182 - val_accuracy: 0.6087\n",
            "Epoch 77/150\n",
            "1875/1875 [==============================] - 70s 38ms/step - loss: 0.9392 - accuracy: 0.6066 - val_loss: 0.9107 - val_accuracy: 0.6145\n",
            "Epoch 78/150\n",
            "1875/1875 [==============================] - 74s 40ms/step - loss: 0.9450 - accuracy: 0.6034 - val_loss: 0.9475 - val_accuracy: 0.6009\n",
            "Epoch 79/150\n",
            "1875/1875 [==============================] - 71s 38ms/step - loss: 0.9299 - accuracy: 0.6103 - val_loss: 0.9545 - val_accuracy: 0.5914\n",
            "Epoch 80/150\n",
            "1875/1875 [==============================] - 72s 38ms/step - loss: 0.9254 - accuracy: 0.6114 - val_loss: 0.8851 - val_accuracy: 0.6277\n",
            "Epoch 81/150\n",
            "1875/1875 [==============================] - 75s 40ms/step - loss: 0.9184 - accuracy: 0.6129 - val_loss: 0.8926 - val_accuracy: 0.6215\n",
            "Epoch 82/150\n",
            "1875/1875 [==============================] - 76s 40ms/step - loss: 0.9054 - accuracy: 0.6182 - val_loss: 0.8930 - val_accuracy: 0.6252\n",
            "Epoch 83/150\n",
            "1875/1875 [==============================] - 76s 40ms/step - loss: 0.9175 - accuracy: 0.6144 - val_loss: 0.9464 - val_accuracy: 0.5973\n",
            "Epoch 84/150\n",
            "1875/1875 [==============================] - 71s 38ms/step - loss: 0.9060 - accuracy: 0.6173 - val_loss: 0.8702 - val_accuracy: 0.6310\n",
            "Epoch 85/150\n",
            "1875/1875 [==============================] - 74s 40ms/step - loss: 0.8865 - accuracy: 0.6249 - val_loss: 0.8673 - val_accuracy: 0.6280\n",
            "Epoch 86/150\n",
            "1875/1875 [==============================] - 76s 41ms/step - loss: 0.8852 - accuracy: 0.6252 - val_loss: 0.8673 - val_accuracy: 0.6317\n",
            "Epoch 87/150\n",
            "1875/1875 [==============================] - 73s 39ms/step - loss: 0.8751 - accuracy: 0.6300 - val_loss: 0.8549 - val_accuracy: 0.6383\n",
            "Epoch 88/150\n",
            "1875/1875 [==============================] - 74s 39ms/step - loss: 0.8710 - accuracy: 0.6304 - val_loss: 0.8483 - val_accuracy: 0.6443\n",
            "Epoch 89/150\n",
            "1875/1875 [==============================] - 76s 41ms/step - loss: 0.8688 - accuracy: 0.6337 - val_loss: 0.8522 - val_accuracy: 0.6381\n",
            "Epoch 90/150\n",
            "1875/1875 [==============================] - 79s 42ms/step - loss: 0.8620 - accuracy: 0.6354 - val_loss: 0.8248 - val_accuracy: 0.6523\n",
            "Epoch 91/150\n",
            "1875/1875 [==============================] - 75s 40ms/step - loss: 0.8498 - accuracy: 0.6405 - val_loss: 0.8211 - val_accuracy: 0.6534\n",
            "Epoch 92/150\n",
            "1875/1875 [==============================] - 79s 42ms/step - loss: 0.8513 - accuracy: 0.6400 - val_loss: 0.8136 - val_accuracy: 0.6563\n",
            "Epoch 93/150\n",
            "1875/1875 [==============================] - 75s 40ms/step - loss: 0.8423 - accuracy: 0.6446 - val_loss: 0.8139 - val_accuracy: 0.6553\n",
            "Epoch 94/150\n",
            "1875/1875 [==============================] - 75s 40ms/step - loss: 0.8361 - accuracy: 0.6455 - val_loss: 0.8100 - val_accuracy: 0.6561\n",
            "Epoch 95/150\n",
            "1875/1875 [==============================] - 75s 40ms/step - loss: 0.8308 - accuracy: 0.6480 - val_loss: 0.8081 - val_accuracy: 0.6556\n",
            "Epoch 96/150\n",
            "1875/1875 [==============================] - 73s 39ms/step - loss: 0.8287 - accuracy: 0.6493 - val_loss: 0.7977 - val_accuracy: 0.6603\n",
            "Epoch 97/150\n",
            "1875/1875 [==============================] - 75s 40ms/step - loss: 0.8181 - accuracy: 0.6533 - val_loss: 0.7949 - val_accuracy: 0.6657\n",
            "Epoch 98/150\n",
            "1875/1875 [==============================] - 72s 39ms/step - loss: 0.8135 - accuracy: 0.6553 - val_loss: 0.7864 - val_accuracy: 0.6629\n",
            "Epoch 99/150\n",
            "1875/1875 [==============================] - 75s 40ms/step - loss: 0.8116 - accuracy: 0.6548 - val_loss: 0.7820 - val_accuracy: 0.6673\n",
            "Epoch 100/150\n",
            "1875/1875 [==============================] - 75s 40ms/step - loss: 0.8048 - accuracy: 0.6575 - val_loss: 0.7875 - val_accuracy: 0.6635\n",
            "Epoch 101/150\n",
            "1875/1875 [==============================] - 74s 39ms/step - loss: 0.8028 - accuracy: 0.6619 - val_loss: 0.7841 - val_accuracy: 0.6653\n",
            "Epoch 102/150\n",
            "1875/1875 [==============================] - 74s 39ms/step - loss: 0.7954 - accuracy: 0.6635 - val_loss: 0.7812 - val_accuracy: 0.6697\n",
            "Epoch 103/150\n",
            "1875/1875 [==============================] - 74s 40ms/step - loss: 0.7915 - accuracy: 0.6663 - val_loss: 0.7856 - val_accuracy: 0.6673\n",
            "Epoch 104/150\n",
            "1875/1875 [==============================] - 76s 40ms/step - loss: 0.7830 - accuracy: 0.6680 - val_loss: 0.7597 - val_accuracy: 0.6755\n",
            "Epoch 105/150\n",
            "1875/1875 [==============================] - 73s 39ms/step - loss: 0.7828 - accuracy: 0.6682 - val_loss: 0.7530 - val_accuracy: 0.6786\n",
            "Epoch 106/150\n",
            "1875/1875 [==============================] - 73s 39ms/step - loss: 0.7748 - accuracy: 0.6736 - val_loss: 0.7542 - val_accuracy: 0.6782\n",
            "Epoch 107/150\n",
            "1875/1875 [==============================] - 77s 41ms/step - loss: 0.7706 - accuracy: 0.6733 - val_loss: 0.7377 - val_accuracy: 0.6841\n",
            "Epoch 108/150\n",
            "1875/1875 [==============================] - 74s 39ms/step - loss: 0.7643 - accuracy: 0.6769 - val_loss: 0.7431 - val_accuracy: 0.6884\n",
            "Epoch 109/150\n",
            "1875/1875 [==============================] - 75s 40ms/step - loss: 0.7638 - accuracy: 0.6774 - val_loss: 0.7845 - val_accuracy: 0.6617\n",
            "Epoch 110/150\n",
            "1875/1875 [==============================] - 76s 41ms/step - loss: 0.7572 - accuracy: 0.6820 - val_loss: 0.7503 - val_accuracy: 0.6831\n",
            "Epoch 111/150\n",
            "1875/1875 [==============================] - 73s 39ms/step - loss: 0.7536 - accuracy: 0.6822 - val_loss: 0.7432 - val_accuracy: 0.6839\n",
            "Epoch 112/150\n",
            "1875/1875 [==============================] - 76s 40ms/step - loss: 0.7557 - accuracy: 0.6845 - val_loss: 0.8081 - val_accuracy: 0.6761\n",
            "Epoch 113/150\n",
            "1875/1875 [==============================] - 77s 41ms/step - loss: 0.7431 - accuracy: 0.6893 - val_loss: 0.7332 - val_accuracy: 0.6899\n",
            "Epoch 114/150\n",
            "1875/1875 [==============================] - 73s 39ms/step - loss: 0.7382 - accuracy: 0.6903 - val_loss: 0.7186 - val_accuracy: 0.6970\n",
            "Epoch 115/150\n",
            "1875/1875 [==============================] - 75s 40ms/step - loss: 0.7318 - accuracy: 0.6937 - val_loss: 0.7160 - val_accuracy: 0.7053\n",
            "Epoch 116/150\n",
            "1875/1875 [==============================] - 77s 41ms/step - loss: 0.7260 - accuracy: 0.6971 - val_loss: 0.6972 - val_accuracy: 0.7117\n",
            "Epoch 117/150\n",
            "1875/1875 [==============================] - 75s 40ms/step - loss: 0.7225 - accuracy: 0.6999 - val_loss: 0.6955 - val_accuracy: 0.7087\n",
            "Epoch 118/150\n",
            "1875/1875 [==============================] - 75s 40ms/step - loss: 0.7162 - accuracy: 0.7045 - val_loss: 0.7663 - val_accuracy: 0.6941\n",
            "Epoch 119/150\n",
            "1875/1875 [==============================] - 74s 39ms/step - loss: 0.7116 - accuracy: 0.7052 - val_loss: 0.7048 - val_accuracy: 0.7051\n",
            "Epoch 120/150\n",
            "1875/1875 [==============================] - 74s 39ms/step - loss: 0.7064 - accuracy: 0.7094 - val_loss: 0.6730 - val_accuracy: 0.7202\n",
            "Epoch 121/150\n",
            "1875/1875 [==============================] - 75s 40ms/step - loss: 0.7012 - accuracy: 0.7112 - val_loss: 0.6991 - val_accuracy: 0.7127\n",
            "Epoch 122/150\n",
            "1875/1875 [==============================] - 75s 40ms/step - loss: 0.6930 - accuracy: 0.7143 - val_loss: 0.6593 - val_accuracy: 0.7246\n",
            "Epoch 123/150\n",
            "1875/1875 [==============================] - 76s 41ms/step - loss: 0.6970 - accuracy: 0.7138 - val_loss: 0.7205 - val_accuracy: 0.7094\n",
            "Epoch 124/150\n",
            "1875/1875 [==============================] - 76s 40ms/step - loss: 0.6881 - accuracy: 0.7187 - val_loss: 0.6539 - val_accuracy: 0.7283\n",
            "Epoch 125/150\n",
            "1875/1875 [==============================] - 73s 39ms/step - loss: 0.6818 - accuracy: 0.7210 - val_loss: 0.6505 - val_accuracy: 0.7311\n",
            "Epoch 126/150\n",
            "1875/1875 [==============================] - 74s 39ms/step - loss: 0.6781 - accuracy: 0.7231 - val_loss: 0.6667 - val_accuracy: 0.7215\n",
            "Epoch 127/150\n",
            "1875/1875 [==============================] - 75s 40ms/step - loss: 0.6737 - accuracy: 0.7239 - val_loss: 0.6604 - val_accuracy: 0.7267\n",
            "Epoch 128/150\n",
            "1875/1875 [==============================] - 73s 39ms/step - loss: 0.6698 - accuracy: 0.7258 - val_loss: 0.6543 - val_accuracy: 0.7318\n",
            "Epoch 129/150\n",
            "1875/1875 [==============================] - 77s 41ms/step - loss: 0.6648 - accuracy: 0.7280 - val_loss: 0.6437 - val_accuracy: 0.7398\n",
            "Epoch 130/150\n",
            "1875/1875 [==============================] - 75s 40ms/step - loss: 0.6627 - accuracy: 0.7287 - val_loss: 0.6426 - val_accuracy: 0.7325\n",
            "Epoch 131/150\n",
            "1875/1875 [==============================] - 75s 40ms/step - loss: 0.6548 - accuracy: 0.7335 - val_loss: 0.6271 - val_accuracy: 0.7439\n",
            "Epoch 132/150\n",
            "1875/1875 [==============================] - 76s 41ms/step - loss: 0.6525 - accuracy: 0.7328 - val_loss: 0.6188 - val_accuracy: 0.7478\n",
            "Epoch 133/150\n",
            "1875/1875 [==============================] - 75s 40ms/step - loss: 0.6498 - accuracy: 0.7353 - val_loss: 0.6329 - val_accuracy: 0.7383\n",
            "Epoch 134/150\n",
            "1875/1875 [==============================] - 75s 40ms/step - loss: 0.6468 - accuracy: 0.7377 - val_loss: 0.6228 - val_accuracy: 0.7466\n",
            "Epoch 135/150\n",
            "1875/1875 [==============================] - 76s 40ms/step - loss: 0.6406 - accuracy: 0.7393 - val_loss: 0.6340 - val_accuracy: 0.7361\n",
            "Epoch 136/150\n",
            "1875/1875 [==============================] - 76s 41ms/step - loss: 0.6379 - accuracy: 0.7412 - val_loss: 0.6131 - val_accuracy: 0.7465\n",
            "Epoch 137/150\n",
            "1875/1875 [==============================] - 76s 40ms/step - loss: 0.6318 - accuracy: 0.7439 - val_loss: 0.6041 - val_accuracy: 0.7521\n",
            "Epoch 138/150\n",
            "1875/1875 [==============================] - 74s 40ms/step - loss: 0.6291 - accuracy: 0.7445 - val_loss: 0.6199 - val_accuracy: 0.7459\n",
            "Epoch 139/150\n",
            "1875/1875 [==============================] - 73s 39ms/step - loss: 0.6221 - accuracy: 0.7480 - val_loss: 0.6145 - val_accuracy: 0.7468\n",
            "Epoch 140/150\n",
            "1875/1875 [==============================] - 75s 40ms/step - loss: 0.6224 - accuracy: 0.7473 - val_loss: 0.6744 - val_accuracy: 0.7291\n",
            "Epoch 141/150\n",
            "1875/1875 [==============================] - 79s 42ms/step - loss: 0.6134 - accuracy: 0.7516 - val_loss: 0.5923 - val_accuracy: 0.7601\n",
            "Epoch 142/150\n",
            "1875/1875 [==============================] - 78s 41ms/step - loss: 0.6126 - accuracy: 0.7520 - val_loss: 0.5934 - val_accuracy: 0.7564\n",
            "Epoch 143/150\n",
            "1875/1875 [==============================] - 75s 40ms/step - loss: 0.6077 - accuracy: 0.7543 - val_loss: 0.5785 - val_accuracy: 0.7654\n",
            "Epoch 144/150\n",
            "1875/1875 [==============================] - 74s 39ms/step - loss: 0.6033 - accuracy: 0.7568 - val_loss: 0.5774 - val_accuracy: 0.7619\n",
            "Epoch 145/150\n",
            "1875/1875 [==============================] - 74s 39ms/step - loss: 0.6009 - accuracy: 0.7563 - val_loss: 0.6179 - val_accuracy: 0.7534\n",
            "Epoch 146/150\n",
            "1875/1875 [==============================] - 74s 39ms/step - loss: 0.5990 - accuracy: 0.7566 - val_loss: 0.5704 - val_accuracy: 0.7651\n",
            "Epoch 147/150\n",
            "1875/1875 [==============================] - 72s 39ms/step - loss: 0.5952 - accuracy: 0.7600 - val_loss: 0.5714 - val_accuracy: 0.7681\n",
            "Epoch 148/150\n",
            "1875/1875 [==============================] - 76s 41ms/step - loss: 0.5915 - accuracy: 0.7614 - val_loss: 0.5798 - val_accuracy: 0.7598\n",
            "Epoch 149/150\n",
            "1875/1875 [==============================] - 75s 40ms/step - loss: 0.5908 - accuracy: 0.7617 - val_loss: 0.5544 - val_accuracy: 0.7734\n",
            "Epoch 150/150\n",
            "1875/1875 [==============================] - 73s 39ms/step - loss: 0.5823 - accuracy: 0.7662 - val_loss: 0.5680 - val_accuracy: 0.7655\n"
          ]
        }
      ],
      "source": [
        "history = model.fit(X_train, y_train, batch_size=64, epochs=150, validation_data=(X_val, y_val))\n",
        "#model.save('NewAllDataModel_E50_B64.h5')"
      ]
    },
    {
      "cell_type": "code",
      "execution_count": 30,
      "metadata": {
        "id": "R7QQeqVidKBR",
        "colab": {
          "base_uri": "https://localhost:8080/"
        },
        "outputId": "1ff44a70-be02-4913-c942-a02d6d37515d"
      },
      "outputs": [
        {
          "output_type": "stream",
          "name": "stdout",
          "text": [
            "469/469 [==============================] - 8s 17ms/step - loss: 0.5650 - accuracy: 0.7665\n"
          ]
        }
      ],
      "source": [
        "test_acc = model.evaluate(X_test, y_test)"
      ]
    },
    {
      "cell_type": "code",
      "source": [
        "test_acc"
      ],
      "metadata": {
        "id": "6fuTmgGrUgGg",
        "colab": {
          "base_uri": "https://localhost:8080/"
        },
        "outputId": "8673a0dc-2f8f-434c-f425-4b78a236e0c9"
      },
      "execution_count": 31,
      "outputs": [
        {
          "output_type": "execute_result",
          "data": {
            "text/plain": [
              "[0.5650114417076111, 0.7665333151817322]"
            ]
          },
          "metadata": {},
          "execution_count": 31
        }
      ]
    },
    {
      "cell_type": "code",
      "execution_count": 32,
      "metadata": {
        "id": "OHpifyqGdKn-",
        "colab": {
          "base_uri": "https://localhost:8080/"
        },
        "outputId": "2da3be8c-9ad6-448f-ada8-6463cc88171e"
      },
      "outputs": [
        {
          "output_type": "stream",
          "name": "stdout",
          "text": [
            "469/469 [==============================] - 7s 14ms/step\n"
          ]
        }
      ],
      "source": [
        "y_test_prob = model.predict(X_test, verbose=1)"
      ]
    },
    {
      "cell_type": "code",
      "source": [
        "np.set_printoptions(suppress=True)\n",
        "y_test_prob"
      ],
      "metadata": {
        "id": "rRPswrrkmhp2",
        "colab": {
          "base_uri": "https://localhost:8080/"
        },
        "outputId": "ec81471d-acbd-4ed2-f830-16df15ad3156"
      },
      "execution_count": 33,
      "outputs": [
        {
          "output_type": "execute_result",
          "data": {
            "text/plain": [
              "array([[0.00001192, 0.00003006, 0.00130844, ..., 0.00006269, 0.10333522,\n",
              "        0.895216  ],\n",
              "       [0.00001733, 0.99972457, 0.0002493 , ..., 0.00000009, 0.00000002,\n",
              "        0.00000013],\n",
              "       [0.00012268, 0.00006498, 0.00212425, ..., 0.03462141, 0.78037816,\n",
              "        0.1719509 ],\n",
              "       ...,\n",
              "       [0.0000227 , 0.00001962, 0.0002836 , ..., 0.00015716, 0.11369161,\n",
              "        0.88575387],\n",
              "       [0.00000069, 0.00000463, 0.00737459, ..., 0.1481887 , 0.00036185,\n",
              "        0.00000252],\n",
              "       [0.00039079, 0.00346404, 0.18430783, ..., 0.28731102, 0.25284466,\n",
              "        0.07667039]], dtype=float32)"
            ]
          },
          "metadata": {},
          "execution_count": 33
        }
      ]
    },
    {
      "cell_type": "code",
      "execution_count": 34,
      "metadata": {
        "id": "AfmdrBILdMwj"
      },
      "outputs": [],
      "source": [
        "y_test_pred = np.where(y_test_prob > 0.5, 1, 0)"
      ]
    },
    {
      "cell_type": "code",
      "execution_count": 35,
      "metadata": {
        "id": "8DoJy_p9dPzN"
      },
      "outputs": [],
      "source": [
        "from sklearn.metrics import multilabel_confusion_matrix"
      ]
    },
    {
      "cell_type": "code",
      "source": [
        "y_test"
      ],
      "metadata": {
        "id": "n1Us2yrfcGl-",
        "colab": {
          "base_uri": "https://localhost:8080/"
        },
        "outputId": "9d973c48-8c41-4a37-e5f2-7e671b454f96"
      },
      "execution_count": 36,
      "outputs": [
        {
          "output_type": "execute_result",
          "data": {
            "text/plain": [
              "array([[0., 0., 0., ..., 0., 0., 1.],\n",
              "       [0., 1., 0., ..., 0., 0., 0.],\n",
              "       [0., 0., 0., ..., 0., 0., 1.],\n",
              "       ...,\n",
              "       [0., 0., 0., ..., 0., 0., 1.],\n",
              "       [0., 0., 0., ..., 1., 0., 0.],\n",
              "       [0., 0., 1., ..., 0., 0., 0.]])"
            ]
          },
          "metadata": {},
          "execution_count": 36
        }
      ]
    },
    {
      "cell_type": "code",
      "source": [
        "y_test.shape"
      ],
      "metadata": {
        "id": "VnmvTcvWbxr9",
        "colab": {
          "base_uri": "https://localhost:8080/"
        },
        "outputId": "b462ae3e-a4b6-4dab-d8e7-82410c377403"
      },
      "execution_count": 37,
      "outputs": [
        {
          "output_type": "execute_result",
          "data": {
            "text/plain": [
              "(15000, 8)"
            ]
          },
          "metadata": {},
          "execution_count": 37
        }
      ]
    },
    {
      "cell_type": "code",
      "source": [
        "y_test_pred"
      ],
      "metadata": {
        "id": "nMBOgzrgcJBj",
        "colab": {
          "base_uri": "https://localhost:8080/"
        },
        "outputId": "00c4ba68-d3ca-41de-a2a8-503e5b76c4bd"
      },
      "execution_count": 38,
      "outputs": [
        {
          "output_type": "execute_result",
          "data": {
            "text/plain": [
              "array([[0, 0, 0, ..., 0, 0, 1],\n",
              "       [0, 1, 0, ..., 0, 0, 0],\n",
              "       [0, 0, 0, ..., 0, 1, 0],\n",
              "       ...,\n",
              "       [0, 0, 0, ..., 0, 0, 1],\n",
              "       [0, 0, 0, ..., 0, 0, 0],\n",
              "       [0, 0, 0, ..., 0, 0, 0]])"
            ]
          },
          "metadata": {},
          "execution_count": 38
        }
      ]
    },
    {
      "cell_type": "code",
      "source": [
        "y_test_pred.shape"
      ],
      "metadata": {
        "id": "SXKZof8Ye5uI",
        "colab": {
          "base_uri": "https://localhost:8080/"
        },
        "outputId": "f632728e-ae39-4ecb-bf0e-5aecc6edfbfa"
      },
      "execution_count": 39,
      "outputs": [
        {
          "output_type": "execute_result",
          "data": {
            "text/plain": [
              "(15000, 8)"
            ]
          },
          "metadata": {},
          "execution_count": 39
        }
      ]
    },
    {
      "cell_type": "code",
      "source": [
        "y_decoded_pred = tf.argmax(y_test_pred, axis = 1)"
      ],
      "metadata": {
        "id": "leDQwKOjgwwi"
      },
      "execution_count": 40,
      "outputs": []
    },
    {
      "cell_type": "code",
      "source": [
        "y_decoded = tf.argmax(y_test, axis = 1)"
      ],
      "metadata": {
        "id": "sAHRmtesif6g"
      },
      "execution_count": 41,
      "outputs": []
    },
    {
      "cell_type": "code",
      "source": [
        "y_decoded_pred"
      ],
      "metadata": {
        "id": "_lvFhrmPhprD",
        "colab": {
          "base_uri": "https://localhost:8080/"
        },
        "outputId": "1e831139-ef4d-4801-852b-49baa3a779a2"
      },
      "execution_count": 42,
      "outputs": [
        {
          "output_type": "execute_result",
          "data": {
            "text/plain": [
              "<tf.Tensor: shape=(15000,), dtype=int64, numpy=array([7, 1, 6, ..., 7, 3, 0])>"
            ]
          },
          "metadata": {},
          "execution_count": 42
        }
      ]
    },
    {
      "cell_type": "code",
      "source": [
        "y_decoded"
      ],
      "metadata": {
        "id": "YV1FXgHviPwm",
        "colab": {
          "base_uri": "https://localhost:8080/"
        },
        "outputId": "8594ae9d-bdfa-49fd-a72a-590c4738b171"
      },
      "execution_count": 43,
      "outputs": [
        {
          "output_type": "execute_result",
          "data": {
            "text/plain": [
              "<tf.Tensor: shape=(15000,), dtype=int64, numpy=array([7, 1, 7, ..., 7, 5, 2])>"
            ]
          },
          "metadata": {},
          "execution_count": 43
        }
      ]
    },
    {
      "cell_type": "code",
      "source": [
        "y_test_pred = y_decoded_pred\n"
      ],
      "metadata": {
        "id": "6-6jFqzGh380"
      },
      "execution_count": 44,
      "outputs": []
    },
    {
      "cell_type": "code",
      "source": [
        "y_test = y_decoded"
      ],
      "metadata": {
        "id": "9pogVvdIiwss"
      },
      "execution_count": 45,
      "outputs": []
    },
    {
      "cell_type": "code",
      "source": [
        "y_test"
      ],
      "metadata": {
        "id": "oGt5aJetiKR6",
        "colab": {
          "base_uri": "https://localhost:8080/"
        },
        "outputId": "aaf2d7cf-cad5-41e5-e217-ceb4066c621f"
      },
      "execution_count": 46,
      "outputs": [
        {
          "output_type": "execute_result",
          "data": {
            "text/plain": [
              "<tf.Tensor: shape=(15000,), dtype=int64, numpy=array([7, 1, 7, ..., 7, 5, 2])>"
            ]
          },
          "metadata": {},
          "execution_count": 46
        }
      ]
    },
    {
      "cell_type": "code",
      "source": [
        "y_test_pred"
      ],
      "metadata": {
        "id": "fLgDwAIfiyv2",
        "colab": {
          "base_uri": "https://localhost:8080/"
        },
        "outputId": "3243d3a4-42b4-47a8-c30c-1f7ae8336c77"
      },
      "execution_count": 47,
      "outputs": [
        {
          "output_type": "execute_result",
          "data": {
            "text/plain": [
              "<tf.Tensor: shape=(15000,), dtype=int64, numpy=array([7, 1, 6, ..., 7, 3, 0])>"
            ]
          },
          "metadata": {},
          "execution_count": 47
        }
      ]
    },
    {
      "cell_type": "code",
      "execution_count": 48,
      "metadata": {
        "id": "fTCsPjW8dQaZ"
      },
      "outputs": [],
      "source": [
        "cfm=confusion_matrix(y_test, y_test_pred)"
      ]
    },
    {
      "cell_type": "code",
      "source": [
        "cfm"
      ],
      "metadata": {
        "id": "_67lPg6ic4cH",
        "colab": {
          "base_uri": "https://localhost:8080/"
        },
        "outputId": "a052b448-16f1-46b8-9690-ce44185ea991"
      },
      "execution_count": 49,
      "outputs": [
        {
          "output_type": "execute_result",
          "data": {
            "text/plain": [
              "array([[1818,   10,    0,    0,    0,    0,    0,    0],\n",
              "       [  48, 1831,   18,    1,    0,    0,    0,   20],\n",
              "       [ 446,   10, 1250,   99,    9,    4,   34,   26],\n",
              "       [ 552,    0,   73, 1071,  161,   18,    7,    2],\n",
              "       [ 653,    0,   17,  192,  863,   53,   74,    2],\n",
              "       [ 854,    0,    4,   47,  181,  665,   61,    4],\n",
              "       [ 423,    0,    8,    1,   14,   30, 1231,  168],\n",
              "       [ 162,    0,    0,    0,    0,    3,  234, 1548]])"
            ]
          },
          "metadata": {},
          "execution_count": 49
        }
      ]
    },
    {
      "cell_type": "code",
      "source": [
        " print(classification_report(y_test,y_test_pred))"
      ],
      "metadata": {
        "id": "XTqR_xnwRWCJ",
        "colab": {
          "base_uri": "https://localhost:8080/"
        },
        "outputId": "8ebd8e45-b646-4aaa-8141-0d2e8cb4a56a"
      },
      "execution_count": 50,
      "outputs": [
        {
          "output_type": "stream",
          "name": "stdout",
          "text": [
            "              precision    recall  f1-score   support\n",
            "\n",
            "           0       0.37      0.99      0.54      1828\n",
            "           1       0.99      0.95      0.97      1918\n",
            "           2       0.91      0.67      0.77      1878\n",
            "           3       0.76      0.57      0.65      1884\n",
            "           4       0.70      0.47      0.56      1854\n",
            "           5       0.86      0.37      0.51      1816\n",
            "           6       0.75      0.66      0.70      1875\n",
            "           7       0.87      0.80      0.83      1947\n",
            "\n",
            "    accuracy                           0.69     15000\n",
            "   macro avg       0.78      0.68      0.69     15000\n",
            "weighted avg       0.78      0.69      0.69     15000\n",
            "\n"
          ]
        }
      ]
    },
    {
      "cell_type": "code",
      "execution_count": 51,
      "metadata": {
        "id": "te3fslrY9Eca",
        "colab": {
          "base_uri": "https://localhost:8080/",
          "height": 903
        },
        "outputId": "37a41e95-1f09-4756-8de5-94c00a76bef8"
      },
      "outputs": [
        {
          "output_type": "stream",
          "name": "stdout",
          "text": [
            "Confusion matrix, without normalization\n",
            "[[1818   10    0    0    0    0    0    0]\n",
            " [  48 1831   18    1    0    0    0   20]\n",
            " [ 446   10 1250   99    9    4   34   26]\n",
            " [ 552    0   73 1071  161   18    7    2]\n",
            " [ 653    0   17  192  863   53   74    2]\n",
            " [ 854    0    4   47  181  665   61    4]\n",
            " [ 423    0    8    1   14   30 1231  168]\n",
            " [ 162    0    0    0    0    3  234 1548]]\n",
            "Normalized confusion matrix\n",
            "[[0.99 0.01 0.   0.   0.   0.   0.   0.  ]\n",
            " [0.03 0.95 0.01 0.   0.   0.   0.   0.01]\n",
            " [0.24 0.01 0.67 0.05 0.   0.   0.02 0.01]\n",
            " [0.29 0.   0.04 0.57 0.09 0.01 0.   0.  ]\n",
            " [0.35 0.   0.01 0.1  0.47 0.03 0.04 0.  ]\n",
            " [0.47 0.   0.   0.03 0.1  0.37 0.03 0.  ]\n",
            " [0.23 0.   0.   0.   0.01 0.02 0.66 0.09]\n",
            " [0.08 0.   0.   0.   0.   0.   0.12 0.8 ]]\n"
          ]
        },
        {
          "output_type": "display_data",
          "data": {
            "text/plain": [
              "<Figure size 432x288 with 2 Axes>"
            ],
            "image/png": "[encoded data removed]"
          },
          "metadata": {
            "needs_background": "light"
          }
        },
        {
          "output_type": "display_data",
          "data": {
            "text/plain": [
              "<Figure size 432x288 with 2 Axes>"
            ],
            "image/png": "[encoded data removed]"
          },
          "metadata": {
            "needs_background": "light"
          }
        }
      ],
      "source": [
        "import numpy as np\n",
        "import matplotlib.pyplot as plt\n",
        "\n",
        "from sklearn import svm, datasets\n",
        "from sklearn.model_selection import train_test_split\n",
        "from sklearn.metrics import confusion_matrix\n",
        "from sklearn.utils.multiclass import unique_labels\n",
        "\n",
        "class_names = np.array(['0', '1', '2', '3', '4', '5', '6', '7'])\n",
        "\n",
        "def plot_confusion_matrix(y_true, y_pred, classes,\n",
        "                          normalize=False,\n",
        "                          title=None,\n",
        "                          cmap=plt.cm.Blues):\n",
        "    \"\"\"\n",
        "    This function prints and plots the confusion matrix.\n",
        "    Normalization can be applied by setting `normalize=True`.\n",
        "    \"\"\"\n",
        "    if not title:\n",
        "        if normalize:\n",
        "            title = 'Normalized confusion matrix'\n",
        "        else:\n",
        "            title = 'Confusion matrix, without normalization'\n",
        "\n",
        "    # Compute confusion matrix\n",
        "    cm = confusion_matrix(y_true, y_pred)\n",
        "    # Only use the labels that appear in the data\n",
        "    classes = classes[unique_labels(y_true, y_pred)]\n",
        "    if normalize:\n",
        "        cm = cm.astype('float') / cm.sum(axis=1)[:, np.newaxis]\n",
        "        print(\"Normalized confusion matrix\")\n",
        "    else:\n",
        "        print('Confusion matrix, without normalization')\n",
        "\n",
        "    print(cm)\n",
        "\n",
        "    fig, ax = plt.subplots()\n",
        "    im = ax.imshow(cm, interpolation='nearest', cmap=cmap)\n",
        "    ax.figure.colorbar(im, ax=ax)\n",
        "    # We want to show all ticks...\n",
        "    ax.set(xticks=np.arange(cm.shape[1]),\n",
        "           yticks=np.arange(cm.shape[0]),\n",
        "           # ... and label them with the respective list entries\n",
        "           xticklabels=classes, yticklabels=classes,\n",
        "           title=title,\n",
        "           ylabel='True label',\n",
        "           xlabel='Predicted label')\n",
        "\n",
        "    # Rotate the tick labels and set their alignment.\n",
        "    plt.setp(ax.get_xticklabels(), rotation=45, ha=\"right\",\n",
        "             rotation_mode=\"anchor\")\n",
        "\n",
        "    # Loop over data dimensions and create text annotations.\n",
        "    fmt = '.2f' if normalize else 'd'\n",
        "    thresh = cm.max() / 2.\n",
        "    for i in range(cm.shape[0]):\n",
        "        for j in range(cm.shape[1]):\n",
        "            ax.text(j, i, format(cm[i, j], fmt),\n",
        "                    ha=\"center\", va=\"center\",\n",
        "                    color=\"white\" if cm[i, j] > thresh else \"black\")\n",
        "    fig.tight_layout()\n",
        "\n",
        "    return ax\n",
        "\n",
        "\n",
        "np.set_printoptions(precision=2)\n",
        "\n",
        "# Plot non-normalized confusion matrix\n",
        "plot_confusion_matrix(y_test, y_test_pred, classes=class_names,\n",
        "                      title='Confusion matrix, without normalization')\n",
        "\n",
        "# Plot normalized confusion matrix\n",
        "plot_confusion_matrix(y_test, y_test_pred, classes=class_names, normalize=True,\n",
        "                      title='Normalized confusion matrix')\n",
        "\n",
        "plt.show()"
      ]
    },
    {
      "cell_type": "code",
      "execution_count": 52,
      "metadata": {
        "id": "fhdLAhgPUnH3"
      },
      "outputs": [],
      "source": [
        "def plot_learningCurve(history, epoch):\n",
        "  # Plot training & validation accuracy values\n",
        "  epoch_range = range(1, epoch+1)\n",
        "  plt.plot(epoch_range, history.history['accuracy'])\n",
        "  plt.plot(epoch_range, history.history['val_accuracy'])\n",
        "  plt.title('Model accuracy')\n",
        "  plt.ylabel('Accuracy')\n",
        "  plt.xlabel('Epoch')\n",
        "  plt.legend(['Train', 'Val'], loc='upper left')\n",
        "  plt.show()\n",
        "\n",
        "  # Plot training & validation loss values\n",
        "  plt.plot(epoch_range, history.history['loss'])\n",
        "  plt.plot(epoch_range, history.history['val_loss'])\n",
        "  plt.title('Model loss')\n",
        "  plt.ylabel('Loss')\n",
        "  plt.xlabel('Epoch')\n",
        "  plt.legend(['Train', 'Val'], loc='upper left')\n",
        "  plt.show()"
      ]
    },
    {
      "cell_type": "code",
      "execution_count": 53,
      "metadata": {
        "id": "WlkQkWHgU5mL",
        "colab": {
          "base_uri": "https://localhost:8080/",
          "height": 581
        },
        "outputId": "1b68380f-bafe-4e8d-e944-f24bc132412b"
      },
      "outputs": [
        {
          "output_type": "display_data",
          "data": {
            "text/plain": [
              "<Figure size 432x288 with 1 Axes>"
            ],
            "image/png": "[encoded data removed]"
          },
          "metadata": {
            "needs_background": "light"
          }
        },
        {
          "output_type": "display_data",
          "data": {
            "text/plain": [
              "<Figure size 432x288 with 1 Axes>"
            ],
            "image/png": "[encoded data removed]"
          },
          "metadata": {
            "needs_background": "light"
          }
        }
      ],
      "source": [
        "plot_learningCurve(history, 150)"
      ]
    }
  ],
  "metadata": {
    "colab": {
      "collapsed_sections": [
        "f857kfHqUk0-"
      ],
      "name": "Multi_Class_MD_LSTM_step_200_files_120.ipynb",
      "provenance": [],
      "include_colab_link": true
    },
    "kernelspec": {
      "display_name": "Python 3",
      "name": "python3"
    },
    "language_info": {
      "name": "python"
    },
    "accelerator": "GPU"
  },
  "nbformat": 4,
  "nbformat_minor": 0
}
