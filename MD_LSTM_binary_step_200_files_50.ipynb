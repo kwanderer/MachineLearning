{
  "cells": [
    {
      "cell_type": "markdown",
      "metadata": {
        "id": "view-in-github",
        "colab_type": "text"
      },
      "source": [
        "<a href=\"https://colab.research.google.com/github/kwanderer/MachineLearning/blob/main/MD_LSTM_binary_step_200_files_50.ipynb\" target=\"_parent\"><img src=\"https://colab.research.google.com/assets/colab-badge.svg\" alt=\"Open In Colab\"/></a>"
      ]
    },
    {
      "cell_type": "markdown",
      "metadata": {
        "id": "f857kfHqUk0-"
      },
      "source": [
        "\n",
        "\n",
        "#Datu kopa"
      ]
    },
    {
      "cell_type": "markdown",
      "metadata": {
        "id": "nM9WE3QGUwVi"
      },
      "source": [
        "Datu kopas avots: https://www.kaggle.com/uysalserkan/fault-induction-motor-dataset"
      ]
    },
    {
      "cell_type": "markdown",
      "metadata": {
        "id": "_sN_h3qHHy6r"
      },
      "source": [
        "Darbā tiek izmantota indukcijas motora parametru datu bāze. Izmantotajā datu kopā ir dati, kas tika iegūti SpectraQuest aparatūras kļūdu simulatorā (Machinery Fault Simulator).\n",
        "\n",
        "Katra mērījumu secība tika ģenerēta ar frekvenci 50 kHz 5 sekunžu laikā, kopā 250 000 mērījumi.\n",
        "\n",
        "Dati ir apkopoti vairākos failos, dažādos darbības stāvokļos un to apjoms ir ļoti liels. Šajā darbā tika izmantota daļa(viena mērījumu secība) no motora normālas darbības datiem.\n"
      ]
    },
    {
      "cell_type": "markdown",
      "metadata": {
        "id": "KtFAOaHYHLPo"
      },
      "source": [
        "Dati ir apkopoti tabulā, kura satur 8 parametrus. Dati ir iedalīti sekojošās kolonas:\n",
        "\n",
        "**tachometer** – tahometra signāls, kas ļauj novērtēt rotācijas frekvenci\n",
        "\n",
        "**und-accelerometer-axial** - apakšā esošā gultņa akselerometrs (aksiālais virziens)\n",
        "\n",
        "**und-accelerometer-radial** – apakšā esošā gultņa akselerometrs (radiālais virziens)\n",
        "\n",
        "**und-accelerometer-tangential** - apakšā esošā gultņa akselerometrs (tangenciālais virziens)\n",
        "\n",
        "**over-accelerometer-axial** - pārkares gultņa akselerometrs (aksiālais virziens)\n",
        "\n",
        "**over-accelerometer-radial** – pārkares gultņa akselerometrs (radiālais  virziens)\n",
        "\n",
        "**over-accelerometer-tangential**  - pārkares gultņa akselerometrs (tangenciālais virziens)\n",
        "\n",
        "**microphone** – mikrofona vērtība\n"
      ]
    },
    {
      "cell_type": "markdown",
      "metadata": {
        "id": "XymoNLKMVFUC"
      },
      "source": [
        "#Datu ielasīšana un satura vizualizācija"
      ]
    },
    {
      "cell_type": "code",
      "execution_count": 1,
      "metadata": {
        "id": "_yqYZDeOFq5s"
      },
      "outputs": [],
      "source": [
        "import keras\n",
        "from keras.layers import LSTM, Dropout, Dense\n",
        "import tensorflow as tf\n",
        "import numpy as np\n",
        "import pandas as pd\n",
        "\n",
        "from sklearn import linear_model  #pip install sklearn - loti plasa masinapmacibas biblioteka\n",
        "from sklearn.linear_model import LinearRegression  \n",
        "import csv          #pip install csv - darbam ar CSV datu kopam\n",
        "import requests     #pip install requests  - vienkarsakam darbam ar tiessaistes CSV datu kopam tiessaistes\n",
        "\n",
        "import matplotlib\n",
        "import matplotlib.pyplot as plt\n",
        "\n",
        "import glob\n"
      ]
    },
    {
      "cell_type": "code",
      "execution_count": 2,
      "metadata": {
        "id": "wlRTBbM2eUcV",
        "colab": {
          "base_uri": "https://localhost:8080/"
        },
        "outputId": "4352f1a6-08fb-48c3-907e-b48f471b85e5"
      },
      "outputs": [
        {
          "output_type": "stream",
          "name": "stdout",
          "text": [
            "Drive already mounted at /content/gdrive; to attempt to forcibly remount, call drive.mount(\"/content/gdrive\", force_remount=True).\n"
          ]
        }
      ],
      "source": [
        "from google.colab import drive\n",
        "import os\n",
        "drive.mount('/content/gdrive')\n",
        "os.chdir(\"/content/gdrive/MyDrive/Colab Notebooks/data_binary/\")"
      ]
    },
    {
      "cell_type": "code",
      "execution_count": 3,
      "metadata": {
        "id": "zzz6fBl_SNom"
      },
      "outputs": [],
      "source": [
        "#extension = 'csv'\n",
        "#all_filenames = [i for i in glob.glob('*.{}'.format(extension))]"
      ]
    },
    {
      "cell_type": "code",
      "execution_count": 4,
      "metadata": {
        "id": "vagKFCkToBi0"
      },
      "outputs": [],
      "source": [
        "#combine all files in the list\n",
        "#combined_csv = pd.concat([pd.read_csv(f) for f in all_filenames ])\n",
        "#export to csv\n",
        "#combined_csv.to_csv( \"binary_data_csv.csv\", index=False, encoding='utf-8-sig')"
      ]
    },
    {
      "cell_type": "code",
      "execution_count": 5,
      "metadata": {
        "id": "encEkbDhSfGI"
      },
      "outputs": [],
      "source": [
        "data = pd.read_csv(\"binary_data_csv.csv\")"
      ]
    },
    {
      "cell_type": "code",
      "execution_count": 6,
      "metadata": {
        "id": "yz5Qe8ZWk1Zq",
        "colab": {
          "base_uri": "https://localhost:8080/"
        },
        "outputId": "a732c484-e100-4bb7-f0eb-db06649a3c99"
      },
      "outputs": [
        {
          "output_type": "stream",
          "name": "stdout",
          "text": [
            "<class 'pandas.core.frame.DataFrame'>\n",
            "RangeIndex: 12500000 entries, 0 to 12499999\n",
            "Data columns (total 9 columns):\n",
            " #   Column                         Dtype  \n",
            "---  ------                         -----  \n",
            " 0   tachometer                     float64\n",
            " 1   und-accelerometer-axial        float64\n",
            " 2   und-accelerometer-radial       float64\n",
            " 3   und-accelerometer-tangential   float64\n",
            " 4   over-accelerometer-axial       float64\n",
            " 5   over-accelerometer-radial      float64\n",
            " 6   over-accelerometer-tangential  float64\n",
            " 7   microphone                     float64\n",
            " 8   Class                          int64  \n",
            "dtypes: float64(8), int64(1)\n",
            "memory usage: 858.3 MB\n"
          ]
        }
      ],
      "source": [
        "data.info()"
      ]
    },
    {
      "cell_type": "code",
      "execution_count": 7,
      "metadata": {
        "id": "WUW9ezX6a_st",
        "colab": {
          "base_uri": "https://localhost:8080/"
        },
        "outputId": "e912c7b2-1bda-44ff-86ff-89fc7eb88491"
      },
      "outputs": [
        {
          "output_type": "execute_result",
          "data": {
            "text/plain": [
              "12500000"
            ]
          },
          "metadata": {},
          "execution_count": 7
        }
      ],
      "source": [
        "rec_count = len(data)\n",
        "rec_count"
      ]
    },
    {
      "cell_type": "markdown",
      "source": [
        "# Datu dalīšana mazākos gabalos"
      ],
      "metadata": {
        "id": "6RVC1PZy88fC"
      }
    },
    {
      "cell_type": "code",
      "execution_count": 8,
      "metadata": {
        "id": "DOvnCYkcbGaE"
      },
      "outputs": [],
      "source": [
        "sequence_length = 200"
      ]
    },
    {
      "cell_type": "code",
      "execution_count": 9,
      "metadata": {
        "id": "RG0o2L3zbTEx"
      },
      "outputs": [],
      "source": [
        "def generate_data(X, y, sequence_length = 200, step = 200):\n",
        "    X_local = []\n",
        "    y_local = []\n",
        "    for start in range(0, len(data) - sequence_length, step):\n",
        "        end = start + sequence_length\n",
        "        X_local.append(X[start:end])\n",
        "        y_local.append(y[end-1])\n",
        "    return np.array(X_local), np.array(y_local)\n",
        "\n",
        "X_sequence, y = generate_data(data.loc[:, \"tachometer\":\"microphone\"].values, data.Class)"
      ]
    },
    {
      "cell_type": "code",
      "execution_count": 10,
      "metadata": {
        "id": "s0QxwK66cLVF",
        "colab": {
          "base_uri": "https://localhost:8080/"
        },
        "outputId": "205d0b64-afb9-4c94-f409-aba395dd8b2d"
      },
      "outputs": [
        {
          "output_type": "execute_result",
          "data": {
            "text/plain": [
              "((62499, 200, 8), (62499,))"
            ]
          },
          "metadata": {},
          "execution_count": 10
        }
      ],
      "source": [
        "X_sequence.shape, y.shape"
      ]
    },
    {
      "cell_type": "code",
      "source": [
        "data = 0"
      ],
      "metadata": {
        "id": "i7R1oo6Mj8wx"
      },
      "execution_count": 11,
      "outputs": []
    },
    {
      "cell_type": "markdown",
      "source": [
        "# Random/Shuffle"
      ],
      "metadata": {
        "id": "5BXSDoHa9UX_"
      }
    },
    {
      "cell_type": "code",
      "source": [
        "shuffler = np.random.permutation(len(X_sequence))\n",
        "X_sequence_shuffled = X_sequence[shuffler]\n",
        "y_shuffled = y[shuffler]"
      ],
      "metadata": {
        "id": "ZcfE9idy-ckb"
      },
      "execution_count": 12,
      "outputs": []
    },
    {
      "cell_type": "markdown",
      "source": [
        "# LSTM"
      ],
      "metadata": {
        "id": "TfhRTTNcE2s8"
      }
    },
    {
      "cell_type": "code",
      "execution_count": 13,
      "metadata": {
        "id": "ihrXMuVAEwlY"
      },
      "outputs": [],
      "source": [
        "import pandas as pd\n",
        "import sklearn.metrics as metrique\n",
        "from pandas import Series\n",
        "from sklearn.preprocessing import StandardScaler, MinMaxScaler\n",
        "from matplotlib import pyplot\n",
        "from sklearn.model_selection import train_test_split\n",
        "import numpy as np\n",
        "import tensorflow as tf\n",
        "import sys\n",
        "import numpy as np\n",
        "import pandas as pd\n",
        "import tensorflow as tf\n",
        "import matplotlib.pyplot as plt\n",
        "from sklearn.model_selection import train_test_split\n",
        "from sklearn import preprocessing\n",
        "from sklearn.preprocessing import StandardScaler\n",
        "from sklearn.metrics import classification_report\n",
        "import warnings\n",
        "warnings.filterwarnings('ignore')\n",
        "plt.style.use('ggplot')\n",
        "import seaborn as sns \n",
        "%matplotlib inline\n",
        "from keras.callbacks import EarlyStopping\n",
        "from keras.callbacks import ModelCheckpoint\n",
        "from sklearn.metrics import accuracy_score\n",
        "from sklearn.metrics import classification_report, confusion_matrix\n",
        "from keras.models import Sequential\n",
        "from keras.utils import np_utils\n",
        "from keras.layers import LSTM, Dense, Embedding, Dropout,Input, Layer, Concatenate, Permute, Dot, Multiply, Flatten\n",
        "from keras.layers import RepeatVector, Dense, Activation, Lambda\n",
        "from keras.models import Sequential\n",
        "from keras import backend as K, regularizers, Model, metrics\n",
        "from keras.backend import cast"
      ]
    },
    {
      "cell_type": "code",
      "execution_count": 14,
      "metadata": {
        "id": "PjKWKiA6aH3z",
        "colab": {
          "base_uri": "https://localhost:8080/"
        },
        "outputId": "b58b6fc2-63f6-4076-fc72-b8a6669aef66"
      },
      "outputs": [
        {
          "output_type": "stream",
          "name": "stdout",
          "text": [
            "Model: \"sequential\"\n",
            "_________________________________________________________________\n",
            " Layer (type)                Output Shape              Param #   \n",
            "=================================================================\n",
            " lstm (LSTM)                 (None, 100)               43600     \n",
            "                                                                 \n",
            " dropout (Dropout)           (None, 100)               0         \n",
            "                                                                 \n",
            " dense (Dense)               (None, 1)                 101       \n",
            "                                                                 \n",
            "=================================================================\n",
            "Total params: 43,701\n",
            "Trainable params: 43,701\n",
            "Non-trainable params: 0\n",
            "_________________________________________________________________\n"
          ]
        }
      ],
      "source": [
        "from tensorflow.keras import optimizers\n",
        "sgd = optimizers.SGD(lr=0.0001, decay=1e-6, momentum=0.9, nesterov=True)\n",
        "model = keras.Sequential()\n",
        "model.add(LSTM(100, input_shape = (200, 8)))\n",
        "model.add(Dropout(0.5))\n",
        "model.add(Dense(1, activation=\"sigmoid\"))\n",
        "\n",
        "#model.compile(loss='mean_squared_error', optimizer=sgd)\n",
        "model.compile(loss=\"binary_crossentropy\"\n",
        "              , metrics=[keras.metrics.binary_accuracy]\n",
        "              , optimizer=sgd)\n",
        "\n",
        "model.summary()"
      ]
    },
    {
      "cell_type": "code",
      "execution_count": 15,
      "metadata": {
        "id": "tg8wrqsqc8UX"
      },
      "outputs": [],
      "source": [
        "training_size = int(len(X_sequence) * 0.8)\n",
        "val_size = int(len(X_sequence) * 0.9)"
      ]
    },
    {
      "cell_type": "code",
      "execution_count": 16,
      "metadata": {
        "id": "avIp3TEKc-qF"
      },
      "outputs": [],
      "source": [
        "X_train, y_train = X_sequence_shuffled[:training_size], y_shuffled[:training_size]\n",
        "X_val, y_val = X_sequence_shuffled[training_size:val_size], y_shuffled[training_size:val_size]\n",
        "X_test, y_test = X_sequence_shuffled[val_size:], y_shuffled[val_size:]"
      ]
    },
    {
      "cell_type": "code",
      "source": [
        "X_sequence = 0\n",
        "y = 0"
      ],
      "metadata": {
        "id": "RABc_uKzkBUT"
      },
      "execution_count": 18,
      "outputs": []
    },
    {
      "cell_type": "code",
      "execution_count": 19,
      "metadata": {
        "id": "cen4faX0dFJP",
        "colab": {
          "base_uri": "https://localhost:8080/"
        },
        "outputId": "17c9bdaa-98e9-4af2-96cd-7758f84f78d9"
      },
      "outputs": [
        {
          "output_type": "stream",
          "name": "stdout",
          "text": [
            "Epoch 1/50\n",
            "782/782 [==============================] - 160s 201ms/step - loss: 0.6893 - binary_accuracy: 0.5368 - val_loss: 0.6784 - val_binary_accuracy: 0.5898\n",
            "Epoch 2/50\n",
            "782/782 [==============================] - 155s 198ms/step - loss: 0.6788 - binary_accuracy: 0.5721 - val_loss: 0.6724 - val_binary_accuracy: 0.5965\n",
            "Epoch 3/50\n",
            "782/782 [==============================] - 157s 201ms/step - loss: 0.6747 - binary_accuracy: 0.5845 - val_loss: 0.6693 - val_binary_accuracy: 0.5987\n",
            "Epoch 4/50\n",
            "782/782 [==============================] - 155s 199ms/step - loss: 0.6717 - binary_accuracy: 0.5895 - val_loss: 0.6671 - val_binary_accuracy: 0.5990\n",
            "Epoch 5/50\n",
            "782/782 [==============================] - 154s 198ms/step - loss: 0.6697 - binary_accuracy: 0.5901 - val_loss: 0.6650 - val_binary_accuracy: 0.5992\n",
            "Epoch 6/50\n",
            "782/782 [==============================] - 154s 197ms/step - loss: 0.6671 - binary_accuracy: 0.5916 - val_loss: 0.6629 - val_binary_accuracy: 0.5992\n",
            "Epoch 7/50\n",
            "782/782 [==============================] - 155s 198ms/step - loss: 0.6651 - binary_accuracy: 0.5936 - val_loss: 0.6606 - val_binary_accuracy: 0.5992\n",
            "Epoch 8/50\n",
            "782/782 [==============================] - 147s 188ms/step - loss: 0.6629 - binary_accuracy: 0.5933 - val_loss: 0.6582 - val_binary_accuracy: 0.5992\n",
            "Epoch 9/50\n",
            "782/782 [==============================] - 147s 187ms/step - loss: 0.6607 - binary_accuracy: 0.5939 - val_loss: 0.6556 - val_binary_accuracy: 0.5992\n",
            "Epoch 10/50\n",
            "782/782 [==============================] - 147s 189ms/step - loss: 0.6579 - binary_accuracy: 0.5936 - val_loss: 0.6525 - val_binary_accuracy: 0.5992\n",
            "Epoch 11/50\n",
            "782/782 [==============================] - 149s 190ms/step - loss: 0.6540 - binary_accuracy: 0.5952 - val_loss: 0.6490 - val_binary_accuracy: 0.5992\n",
            "Epoch 12/50\n",
            "782/782 [==============================] - 147s 188ms/step - loss: 0.6513 - binary_accuracy: 0.5941 - val_loss: 0.6450 - val_binary_accuracy: 0.5992\n",
            "Epoch 13/50\n",
            "782/782 [==============================] - 149s 190ms/step - loss: 0.6469 - binary_accuracy: 0.5955 - val_loss: 0.6400 - val_binary_accuracy: 0.5992\n",
            "Epoch 14/50\n",
            "782/782 [==============================] - 147s 189ms/step - loss: 0.6413 - binary_accuracy: 0.5976 - val_loss: 0.6340 - val_binary_accuracy: 0.5990\n",
            "Epoch 15/50\n",
            "782/782 [==============================] - 148s 189ms/step - loss: 0.6348 - binary_accuracy: 0.5988 - val_loss: 0.6262 - val_binary_accuracy: 0.5987\n",
            "Epoch 16/50\n",
            "782/782 [==============================] - 148s 189ms/step - loss: 0.6257 - binary_accuracy: 0.6082 - val_loss: 0.6157 - val_binary_accuracy: 0.6022\n",
            "Epoch 17/50\n",
            "782/782 [==============================] - 148s 189ms/step - loss: 0.6128 - binary_accuracy: 0.6255 - val_loss: 0.6005 - val_binary_accuracy: 0.6416\n",
            "Epoch 18/50\n",
            "782/782 [==============================] - 148s 190ms/step - loss: 0.5953 - binary_accuracy: 0.6570 - val_loss: 0.5750 - val_binary_accuracy: 0.6886\n",
            "Epoch 19/50\n",
            "782/782 [==============================] - 148s 189ms/step - loss: 0.5584 - binary_accuracy: 0.7054 - val_loss: 0.5208 - val_binary_accuracy: 0.7333\n",
            "Epoch 20/50\n",
            "782/782 [==============================] - 147s 188ms/step - loss: 0.4909 - binary_accuracy: 0.7634 - val_loss: 0.4506 - val_binary_accuracy: 0.7966\n",
            "Epoch 21/50\n",
            "782/782 [==============================] - 147s 188ms/step - loss: 0.4481 - binary_accuracy: 0.7984 - val_loss: 0.4206 - val_binary_accuracy: 0.8190\n",
            "Epoch 22/50\n",
            "782/782 [==============================] - 147s 187ms/step - loss: 0.4237 - binary_accuracy: 0.8151 - val_loss: 0.4183 - val_binary_accuracy: 0.8154\n",
            "Epoch 23/50\n",
            "782/782 [==============================] - 147s 188ms/step - loss: 0.4036 - binary_accuracy: 0.8293 - val_loss: 0.3759 - val_binary_accuracy: 0.8450\n",
            "Epoch 24/50\n",
            "782/782 [==============================] - 148s 189ms/step - loss: 0.3861 - binary_accuracy: 0.8392 - val_loss: 0.3588 - val_binary_accuracy: 0.8534\n",
            "Epoch 25/50\n",
            "782/782 [==============================] - 149s 190ms/step - loss: 0.3731 - binary_accuracy: 0.8455 - val_loss: 0.3521 - val_binary_accuracy: 0.8531\n",
            "Epoch 26/50\n",
            "782/782 [==============================] - 148s 189ms/step - loss: 0.3621 - binary_accuracy: 0.8519 - val_loss: 0.3541 - val_binary_accuracy: 0.8536\n",
            "Epoch 27/50\n",
            "782/782 [==============================] - 149s 191ms/step - loss: 0.3480 - binary_accuracy: 0.8585 - val_loss: 0.3260 - val_binary_accuracy: 0.8691\n",
            "Epoch 28/50\n",
            "782/782 [==============================] - 149s 191ms/step - loss: 0.3415 - binary_accuracy: 0.8626 - val_loss: 0.3245 - val_binary_accuracy: 0.8702\n",
            "Epoch 29/50\n",
            "782/782 [==============================] - 148s 189ms/step - loss: 0.3272 - binary_accuracy: 0.8695 - val_loss: 0.3219 - val_binary_accuracy: 0.8701\n",
            "Epoch 30/50\n",
            "782/782 [==============================] - 147s 189ms/step - loss: 0.3175 - binary_accuracy: 0.8752 - val_loss: 0.2943 - val_binary_accuracy: 0.8870\n",
            "Epoch 31/50\n",
            "782/782 [==============================] - 147s 188ms/step - loss: 0.3080 - binary_accuracy: 0.8791 - val_loss: 0.2934 - val_binary_accuracy: 0.8838\n",
            "Epoch 32/50\n",
            "782/782 [==============================] - 147s 189ms/step - loss: 0.3012 - binary_accuracy: 0.8824 - val_loss: 0.2808 - val_binary_accuracy: 0.8872\n",
            "Epoch 33/50\n",
            "782/782 [==============================] - 147s 188ms/step - loss: 0.2920 - binary_accuracy: 0.8858 - val_loss: 0.2999 - val_binary_accuracy: 0.8752\n",
            "Epoch 34/50\n",
            "782/782 [==============================] - 148s 190ms/step - loss: 0.2811 - binary_accuracy: 0.8918 - val_loss: 0.2636 - val_binary_accuracy: 0.8984\n",
            "Epoch 35/50\n",
            "782/782 [==============================] - 152s 194ms/step - loss: 0.2727 - binary_accuracy: 0.8934 - val_loss: 0.2813 - val_binary_accuracy: 0.8878\n",
            "Epoch 36/50\n",
            "782/782 [==============================] - 150s 192ms/step - loss: 0.2661 - binary_accuracy: 0.8967 - val_loss: 0.2629 - val_binary_accuracy: 0.8933\n",
            "Epoch 37/50\n",
            "782/782 [==============================] - 151s 192ms/step - loss: 0.2562 - binary_accuracy: 0.9008 - val_loss: 0.2759 - val_binary_accuracy: 0.8904\n",
            "Epoch 38/50\n",
            "782/782 [==============================] - 151s 193ms/step - loss: 0.2526 - binary_accuracy: 0.9020 - val_loss: 0.3332 - val_binary_accuracy: 0.8669\n",
            "Epoch 39/50\n",
            "782/782 [==============================] - 150s 192ms/step - loss: 0.2754 - binary_accuracy: 0.8923 - val_loss: 0.2489 - val_binary_accuracy: 0.9019\n",
            "Epoch 40/50\n",
            "782/782 [==============================] - 150s 192ms/step - loss: 0.2463 - binary_accuracy: 0.9050 - val_loss: 0.2212 - val_binary_accuracy: 0.9171\n",
            "Epoch 41/50\n",
            "782/782 [==============================] - 150s 192ms/step - loss: 0.2402 - binary_accuracy: 0.9082 - val_loss: 0.2165 - val_binary_accuracy: 0.9184\n",
            "Epoch 42/50\n",
            "782/782 [==============================] - 151s 193ms/step - loss: 0.2549 - binary_accuracy: 0.9047 - val_loss: 0.2319 - val_binary_accuracy: 0.9082\n",
            "Epoch 43/50\n",
            "782/782 [==============================] - 150s 192ms/step - loss: 0.2346 - binary_accuracy: 0.9119 - val_loss: 0.2175 - val_binary_accuracy: 0.9208\n",
            "Epoch 44/50\n",
            "782/782 [==============================] - 150s 192ms/step - loss: 0.2273 - binary_accuracy: 0.9158 - val_loss: 0.2218 - val_binary_accuracy: 0.9170\n",
            "Epoch 45/50\n",
            "782/782 [==============================] - 150s 192ms/step - loss: 0.2493 - binary_accuracy: 0.9103 - val_loss: 0.2135 - val_binary_accuracy: 0.9203\n",
            "Epoch 46/50\n",
            "782/782 [==============================] - 151s 193ms/step - loss: 0.2061 - binary_accuracy: 0.9247 - val_loss: 0.1865 - val_binary_accuracy: 0.9318\n",
            "Epoch 47/50\n",
            "782/782 [==============================] - 151s 193ms/step - loss: 0.2028 - binary_accuracy: 0.9263 - val_loss: 0.2395 - val_binary_accuracy: 0.8963\n",
            "Epoch 48/50\n",
            "782/782 [==============================] - 150s 192ms/step - loss: 0.2120 - binary_accuracy: 0.9222 - val_loss: 0.2348 - val_binary_accuracy: 0.9102\n",
            "Epoch 49/50\n",
            "782/782 [==============================] - 150s 192ms/step - loss: 0.1979 - binary_accuracy: 0.9277 - val_loss: 0.2018 - val_binary_accuracy: 0.9254\n",
            "Epoch 50/50\n",
            "782/782 [==============================] - 149s 190ms/step - loss: 0.2172 - binary_accuracy: 0.9182 - val_loss: 0.1920 - val_binary_accuracy: 0.9307\n"
          ]
        }
      ],
      "source": [
        "history = model.fit(X_train, y_train, batch_size=64, epochs=50, validation_data=(X_val, y_val))\n",
        "model.save('AllDataModel_Binary_E50_B64.h5')"
      ]
    },
    {
      "cell_type": "code",
      "execution_count": 20,
      "metadata": {
        "id": "R7QQeqVidKBR",
        "colab": {
          "base_uri": "https://localhost:8080/"
        },
        "outputId": "9e03bc76-9f12-44e9-f4f5-ac013230c5f0"
      },
      "outputs": [
        {
          "output_type": "stream",
          "name": "stdout",
          "text": [
            "196/196 [==============================] - 8s 41ms/step - loss: 0.1920 - binary_accuracy: 0.9307\n"
          ]
        },
        {
          "output_type": "execute_result",
          "data": {
            "text/plain": [
              "[0.19200854003429413, 0.9307199716567993]"
            ]
          },
          "metadata": {},
          "execution_count": 20
        }
      ],
      "source": [
        "model.evaluate(X_val, y_val)"
      ]
    },
    {
      "cell_type": "code",
      "execution_count": 21,
      "metadata": {
        "id": "OHpifyqGdKn-",
        "colab": {
          "base_uri": "https://localhost:8080/"
        },
        "outputId": "ed32ce51-920a-46f7-ddaf-be25705c60c9"
      },
      "outputs": [
        {
          "output_type": "stream",
          "name": "stdout",
          "text": [
            "196/196 [==============================] - 9s 41ms/step\n"
          ]
        }
      ],
      "source": [
        "y_test_prob = model.predict(X_val, verbose=1)"
      ]
    },
    {
      "cell_type": "code",
      "execution_count": 22,
      "metadata": {
        "id": "AfmdrBILdMwj"
      },
      "outputs": [],
      "source": [
        "y_test_pred = np.where(y_test_prob > 0.5, 1, 0)"
      ]
    },
    {
      "cell_type": "code",
      "execution_count": 23,
      "metadata": {
        "id": "8DoJy_p9dPzN"
      },
      "outputs": [],
      "source": [
        "from sklearn.metrics import confusion_matrix"
      ]
    },
    {
      "cell_type": "code",
      "execution_count": 24,
      "metadata": {
        "id": "fTCsPjW8dQaZ",
        "colab": {
          "base_uri": "https://localhost:8080/"
        },
        "outputId": "6d803250-1844-4a31-d6f4-4bc775073146"
      },
      "outputs": [
        {
          "output_type": "execute_result",
          "data": {
            "text/plain": [
              "array([[2425,   79],\n",
              "       [ 354, 3392]])"
            ]
          },
          "metadata": {},
          "execution_count": 24
        }
      ],
      "source": [
        "confusion_matrix(y_val, y_test_pred)"
      ]
    },
    {
      "cell_type": "code",
      "execution_count": 25,
      "metadata": {
        "id": "te3fslrY9Eca",
        "colab": {
          "base_uri": "https://localhost:8080/",
          "height": 686
        },
        "outputId": "2e78c6f1-8091-43f6-de77-961253a2aefe"
      },
      "outputs": [
        {
          "output_type": "stream",
          "name": "stdout",
          "text": [
            "Confusion matrix, without normalization\n",
            "[[2425   79]\n",
            " [ 354 3392]]\n",
            "Normalized confusion matrix\n",
            "[[0.97 0.03]\n",
            " [0.09 0.91]]\n"
          ]
        },
        {
          "output_type": "display_data",
          "data": {
            "text/plain": [
              "<Figure size 432x288 with 2 Axes>"
            ],
            "image/png": "[encoded data removed]"
          },
          "metadata": {
            "needs_background": "light"
          }
        },
        {
          "output_type": "display_data",
          "data": {
            "text/plain": [
              "<Figure size 432x288 with 2 Axes>"
            ],
            "image/png": "[encoded data removed]"
          },
          "metadata": {
            "needs_background": "light"
          }
        }
      ],
      "source": [
        "import numpy as np\n",
        "import matplotlib.pyplot as plt\n",
        "\n",
        "from sklearn import svm, datasets\n",
        "from sklearn.model_selection import train_test_split\n",
        "from sklearn.metrics import confusion_matrix\n",
        "from sklearn.utils.multiclass import unique_labels\n",
        "\n",
        "class_names = np.array(['0', '1'])\n",
        "\n",
        "def plot_confusion_matrix(y_true, y_pred, classes,\n",
        "                          normalize=False,\n",
        "                          title=None,\n",
        "                          cmap=plt.cm.Blues):\n",
        "    \"\"\"\n",
        "    This function prints and plots the confusion matrix.\n",
        "    Normalization can be applied by setting `normalize=True`.\n",
        "    \"\"\"\n",
        "    if not title:\n",
        "        if normalize:\n",
        "            title = 'Normalized confusion matrix'\n",
        "        else:\n",
        "            title = 'Confusion matrix, without normalization'\n",
        "\n",
        "    # Compute confusion matrix\n",
        "    cm = confusion_matrix(y_true, y_pred)\n",
        "    # Only use the labels that appear in the data\n",
        "    classes = classes[unique_labels(y_true, y_pred)]\n",
        "    if normalize:\n",
        "        cm = cm.astype('float') / cm.sum(axis=1)[:, np.newaxis]\n",
        "        print(\"Normalized confusion matrix\")\n",
        "    else:\n",
        "        print('Confusion matrix, without normalization')\n",
        "\n",
        "    print(cm)\n",
        "\n",
        "    fig, ax = plt.subplots()\n",
        "    im = ax.imshow(cm, interpolation='nearest', cmap=cmap)\n",
        "    ax.figure.colorbar(im, ax=ax)\n",
        "    # We want to show all ticks...\n",
        "    ax.set(xticks=np.arange(cm.shape[1]),\n",
        "           yticks=np.arange(cm.shape[0]),\n",
        "           # ... and label them with the respective list entries\n",
        "           xticklabels=classes, yticklabels=classes,\n",
        "           title=title,\n",
        "           ylabel='True label',\n",
        "           xlabel='Predicted label')\n",
        "\n",
        "    # Rotate the tick labels and set their alignment.\n",
        "    plt.setp(ax.get_xticklabels(), rotation=45, ha=\"right\",\n",
        "             rotation_mode=\"anchor\")\n",
        "\n",
        "    # Loop over data dimensions and create text annotations.\n",
        "    fmt = '.2f' if normalize else 'd'\n",
        "    thresh = cm.max() / 2.\n",
        "    for i in range(cm.shape[0]):\n",
        "        for j in range(cm.shape[1]):\n",
        "            ax.text(j, i, format(cm[i, j], fmt),\n",
        "                    ha=\"center\", va=\"center\",\n",
        "                    color=\"white\" if cm[i, j] > thresh else \"black\")\n",
        "    fig.tight_layout()\n",
        "\n",
        "    return ax\n",
        "\n",
        "\n",
        "np.set_printoptions(precision=2)\n",
        "\n",
        "# Plot non-normalized confusion matrix\n",
        "plot_confusion_matrix(y_val, y_test_pred, classes=class_names,\n",
        "                      title='Confusion matrix, without normalization')\n",
        "\n",
        "# Plot normalized confusion matrix\n",
        "plot_confusion_matrix(y_val, y_test_pred, classes=class_names, normalize=True,\n",
        "                      title='Normalized confusion matrix')\n",
        "\n",
        "plt.show()"
      ]
    },
    {
      "cell_type": "code",
      "source": [
        "def plot_learningCurve(history, epoch):\n",
        "  # Plot training & validation accuracy values\n",
        "  epoch_range = range(1, epoch+1)\n",
        "  plt.plot(epoch_range, history.history['binary_accuracy'])\n",
        "  plt.plot(epoch_range, history.history['val_binary_accuracy'])\n",
        "  plt.title('Model accuracy')\n",
        "  plt.ylabel('Accuracy')\n",
        "  plt.xlabel('Epoch')\n",
        "  plt.legend(['Train', 'Val'], loc='upper left')\n",
        "  plt.show()\n",
        "\n",
        "  # Plot training & validation loss values\n",
        "  plt.plot(epoch_range, history.history['loss'])\n",
        "  plt.plot(epoch_range, history.history['val_loss'])\n",
        "  plt.title('Model loss')\n",
        "  plt.ylabel('Loss')\n",
        "  plt.xlabel('Epoch')\n",
        "  plt.legend(['Train', 'Val'], loc='upper left')\n",
        "  plt.show()"
      ],
      "metadata": {
        "id": "fhdLAhgPUnH3"
      },
      "execution_count": 26,
      "outputs": []
    },
    {
      "cell_type": "code",
      "source": [
        "plot_learningCurve(history, 50)"
      ],
      "metadata": {
        "id": "WlkQkWHgU5mL",
        "colab": {
          "base_uri": "https://localhost:8080/",
          "height": 581
        },
        "outputId": "64fa170e-6f1a-4e52-af4b-35b9481af4d3"
      },
      "execution_count": 27,
      "outputs": [
        {
          "output_type": "display_data",
          "data": {
            "text/plain": [
              "<Figure size 432x288 with 1 Axes>"
            ],
            "image/png": "[encoded data removed]"
          },
          "metadata": {
            "needs_background": "light"
          }
        },
        {
          "output_type": "display_data",
          "data": {
            "text/plain": [
              "<Figure size 432x288 with 1 Axes>"
            ],
            "image/png": "[encoded data removed]"
          },
          "metadata": {
            "needs_background": "light"
          }
        }
      ]
    },
    {
      "cell_type": "code",
      "execution_count": 28,
      "metadata": {
        "id": "CPb2Ed-6PG6G"
      },
      "outputs": [],
      "source": [
        "##from keras.models import load_model\n",
        "# Assuming your model includes instance of an \"AttentionLayer\" class\n",
        "##uploadmodel = load_model('AllDataModel_E50_B64.h5')\n",
        "#custom_ob = {'att_out': custom_layer.Attention,'AttLayer2': custom_layer.Attention}\n",
        "#new_model = load_model('test.h5', custom_objects={'AttentionLayer': att_out})\n",
        "#new_model = tf.keras.models.load_model('test.h5',custom_objects={'att_out': custom_layer.Attention})\n",
        "\n",
        "# Show the model architecture\n",
        "##uploadmodel.summary()\n"
      ]
    }
  ],
  "metadata": {
    "colab": {
      "collapsed_sections": [
        "f857kfHqUk0-"
      ],
      "name": "Copy_of_MD_LSTM_step_40_files_40.ipynb",
      "provenance": [],
      "include_colab_link": true
    },
    "kernelspec": {
      "display_name": "Python 3",
      "name": "python3"
    },
    "language_info": {
      "name": "python"
    }
  },
  "nbformat": 4,
  "nbformat_minor": 0
}