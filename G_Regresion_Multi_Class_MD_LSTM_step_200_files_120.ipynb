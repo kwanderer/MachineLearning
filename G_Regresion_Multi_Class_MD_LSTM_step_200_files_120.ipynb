{
  "cells": [
    {
      "cell_type": "markdown",
      "metadata": {
        "id": "view-in-github",
        "colab_type": "text"
      },
      "source": [
        "<a href=\"https://colab.research.google.com/github/kwanderer/MachineLearning/blob/main/G_Regresion_Multi_Class_MD_LSTM_step_200_files_120.ipynb\" target=\"_parent\"><img src=\"https://colab.research.google.com/assets/colab-badge.svg\" alt=\"Open In Colab\"/></a>"
      ]
    },
    {
      "cell_type": "markdown",
      "metadata": {
        "id": "f857kfHqUk0-"
      },
      "source": [
        "\n",
        "\n",
        "#Datu kopa"
      ]
    },
    {
      "cell_type": "markdown",
      "metadata": {
        "id": "nM9WE3QGUwVi"
      },
      "source": [
        "Datu kopas avots: https://www.kaggle.com/uysalserkan/fault-induction-motor-dataset"
      ]
    },
    {
      "cell_type": "markdown",
      "metadata": {
        "id": "_sN_h3qHHy6r"
      },
      "source": [
        "Darbā tiek izmantota indukcijas motora parametru datu bāze. Izmantotajā datu kopā ir dati, kas tika iegūti SpectraQuest aparatūras kļūdu simulatorā (Machinery Fault Simulator).\n",
        "\n",
        "Katra mērījumu secība tika ģenerēta ar frekvenci 50 kHz 5 sekunžu laikā, kopā 250 000 mērījumi.\n",
        "\n",
        "Dati ir apkopoti vairākos failos, dažādos darbības stāvokļos un to apjoms ir ļoti liels. Šajā darbā tika izmantota daļa(viena mērījumu secība) no motora normālas darbības datiem.\n"
      ]
    },
    {
      "cell_type": "markdown",
      "metadata": {
        "id": "KtFAOaHYHLPo"
      },
      "source": [
        "Dati ir apkopoti tabulā, kura satur 8 parametrus. Dati ir iedalīti sekojošās kolonas:\n",
        "\n",
        "**tachometer** – tahometra signāls, kas ļauj novērtēt rotācijas frekvenci\n",
        "\n",
        "**und-accelerometer-axial** - apakšā esošā gultņa akselerometrs (aksiālais virziens)\n",
        "\n",
        "**und-accelerometer-radial** – apakšā esošā gultņa akselerometrs (radiālais virziens)\n",
        "\n",
        "**und-accelerometer-tangential** - apakšā esošā gultņa akselerometrs (tangenciālais virziens)\n",
        "\n",
        "**over-accelerometer-axial** - pārkares gultņa akselerometrs (aksiālais virziens)\n",
        "\n",
        "**over-accelerometer-radial** – pārkares gultņa akselerometrs (radiālais  virziens)\n",
        "\n",
        "**over-accelerometer-tangential**  - pārkares gultņa akselerometrs (tangenciālais virziens)\n",
        "\n",
        "**microphone** – mikrofona vērtība\n"
      ]
    },
    {
      "cell_type": "markdown",
      "metadata": {
        "id": "XymoNLKMVFUC"
      },
      "source": [
        "#Datu ielasīšana un satura vizualizācija"
      ]
    },
    {
      "cell_type": "code",
      "execution_count": 1,
      "metadata": {
        "id": "_yqYZDeOFq5s"
      },
      "outputs": [],
      "source": [
        "import keras\n",
        "from keras.layers import LSTM, Dropout, Dense\n",
        "import tensorflow as tf\n",
        "import numpy as np\n",
        "import pandas as pd\n",
        "\n",
        "from sklearn import linear_model  #pip install sklearn - loti plasa masinapmacibas biblioteka\n",
        "from sklearn.linear_model import LinearRegression  \n",
        "import csv          #pip install csv - darbam ar CSV datu kopam\n",
        "import requests     #pip install requests  - vienkarsakam darbam ar tiessaistes CSV datu kopam tiessaistes\n",
        "\n",
        "import matplotlib\n",
        "import matplotlib.pyplot as plt\n",
        "\n",
        "import glob\n"
      ]
    },
    {
      "cell_type": "code",
      "execution_count": 2,
      "metadata": {
        "id": "wlRTBbM2eUcV",
        "colab": {
          "base_uri": "https://localhost:8080/"
        },
        "outputId": "b855148d-f582-4a12-c774-aec7a975787b"
      },
      "outputs": [
        {
          "output_type": "stream",
          "name": "stdout",
          "text": [
            "Drive already mounted at /content/gdrive; to attempt to forcibly remount, call drive.mount(\"/content/gdrive\", force_remount=True).\n"
          ]
        }
      ],
      "source": [
        "from google.colab import drive\n",
        "import os\n",
        "drive.mount('/content/gdrive')\n",
        "os.chdir(\"/content/gdrive/MyDrive/Colab Notebooks/data_multiclass/\")"
      ]
    },
    {
      "cell_type": "code",
      "execution_count": 3,
      "metadata": {
        "id": "zzz6fBl_SNom"
      },
      "outputs": [],
      "source": [
        "#extension = 'csv'\n",
        "#all_filenames = [i for i in glob.glob('*.{}'.format(extension))]"
      ]
    },
    {
      "cell_type": "code",
      "execution_count": 4,
      "metadata": {
        "id": "vagKFCkToBi0"
      },
      "outputs": [],
      "source": [
        "#combine all files in the list\n",
        "#combined_csv = pd.concat([pd.read_csv(f) for f in all_filenames ])\n",
        "#export to csv\n",
        "#combined_csv.to_csv( \"combined_multiclass_csv.csv\", index=False, encoding='utf-8-sig')"
      ]
    },
    {
      "cell_type": "code",
      "execution_count": 5,
      "metadata": {
        "id": "encEkbDhSfGI"
      },
      "outputs": [],
      "source": [
        "data = pd.read_csv(\"combined_multiclass_csv.csv\")"
      ]
    },
    {
      "cell_type": "code",
      "execution_count": 6,
      "metadata": {
        "id": "yz5Qe8ZWk1Zq",
        "colab": {
          "base_uri": "https://localhost:8080/"
        },
        "outputId": "7e55e103-0781-4f8f-c238-8bb6c56cced1"
      },
      "outputs": [
        {
          "output_type": "stream",
          "name": "stdout",
          "text": [
            "<class 'pandas.core.frame.DataFrame'>\n",
            "RangeIndex: 30000000 entries, 0 to 29999999\n",
            "Data columns (total 9 columns):\n",
            " #   Column                         Dtype  \n",
            "---  ------                         -----  \n",
            " 0   tachometer                     float64\n",
            " 1   und-accelerometer-axial        float64\n",
            " 2   und-accelerometer-radial       float64\n",
            " 3   und-accelerometer-tangential   float64\n",
            " 4   over-accelerometer-axial       float64\n",
            " 5   over-accelerometer-radial      float64\n",
            " 6   over-accelerometer-tangential  float64\n",
            " 7   microphone                     float64\n",
            " 8   Class                          int64  \n",
            "dtypes: float64(8), int64(1)\n",
            "memory usage: 2.0 GB\n"
          ]
        }
      ],
      "source": [
        "data.info()"
      ]
    },
    {
      "cell_type": "code",
      "execution_count": 7,
      "metadata": {
        "id": "WUW9ezX6a_st",
        "colab": {
          "base_uri": "https://localhost:8080/"
        },
        "outputId": "7afdb5a1-2eca-48be-b257-202f62c90f3f"
      },
      "outputs": [
        {
          "output_type": "execute_result",
          "data": {
            "text/plain": [
              "30000000"
            ]
          },
          "metadata": {},
          "execution_count": 7
        }
      ],
      "source": [
        "rec_count = len(data)\n",
        "rec_count"
      ]
    },
    {
      "cell_type": "markdown",
      "metadata": {
        "id": "6RVC1PZy88fC"
      },
      "source": [
        "# Datu dalīšana mazākos gabalos"
      ]
    },
    {
      "cell_type": "code",
      "execution_count": 8,
      "metadata": {
        "id": "DOvnCYkcbGaE"
      },
      "outputs": [],
      "source": [
        "sequence_length = 200"
      ]
    },
    {
      "cell_type": "code",
      "execution_count": 9,
      "metadata": {
        "id": "RG0o2L3zbTEx"
      },
      "outputs": [],
      "source": [
        "def generate_data(X, y, sequence_length = 200, step = 200):\n",
        "    X_local = []\n",
        "    y_local = []\n",
        "    for start in range(0, len(data) - sequence_length, step):\n",
        "        end = start + sequence_length\n",
        "        X_local.append(X[start:end])\n",
        "        y_local.append(y[end-1])\n",
        "    return np.array(X_local), np.array(y_local)\n",
        "\n",
        "X_sequence, y = generate_data(data.loc[:, [\"tachometer\", \"und-accelerometer-axial\", \"und-accelerometer-radial\", \"und-accelerometer-tangential\", \"over-accelerometer-axial\", \"over-accelerometer-radial\", \"over-accelerometer-tangential\", \"microphone\"]].values, data.Class)\n",
        "#X_sequence, y = generate_data(data.loc[:, [\"und-accelerometer-axial\", \"und-accelerometer-radial\", \"und-accelerometer-tangential\", \"microphone\"]].values, data.Class)\n"
      ]
    },
    {
      "cell_type": "code",
      "execution_count": 10,
      "metadata": {
        "id": "s0QxwK66cLVF",
        "colab": {
          "base_uri": "https://localhost:8080/"
        },
        "outputId": "9ec6bc9e-01bb-4665-9457-25537f7eb9de"
      },
      "outputs": [
        {
          "output_type": "execute_result",
          "data": {
            "text/plain": [
              "((149999, 200, 8), (149999,))"
            ]
          },
          "metadata": {},
          "execution_count": 10
        }
      ],
      "source": [
        "X_sequence.shape, y.shape"
      ]
    },
    {
      "cell_type": "code",
      "source": [
        "y"
      ],
      "metadata": {
        "colab": {
          "base_uri": "https://localhost:8080/"
        },
        "id": "4tu6MQMZjahk",
        "outputId": "65e04b9e-c308-4907-a76e-29dd4519bd0c"
      },
      "execution_count": 11,
      "outputs": [
        {
          "output_type": "execute_result",
          "data": {
            "text/plain": [
              "array([7, 7, 7, ..., 0, 0, 0])"
            ]
          },
          "metadata": {},
          "execution_count": 11
        }
      ]
    },
    {
      "cell_type": "code",
      "source": [
        "i = 0\n",
        "while i < 149999:\n",
        "  if y[i] == 1:\n",
        "    y[i] = 35#7\n",
        "  elif y[i] == 2:\n",
        "    y[i] = 30\n",
        "  elif y[i] == 3:\n",
        "    y[i] = 25\n",
        "  elif y[i] == 4:\n",
        "    y[i] = 20\n",
        "  elif y[i] == 5:\n",
        "    y[i] = 15\n",
        "  elif y[i] == 6:\n",
        "    y[i] = 10\n",
        "  elif y[i] == 7:\n",
        "    y[i] = 6#1\n",
        "  i+=1"
      ],
      "metadata": {
        "id": "i_jgMMlgjT4O"
      },
      "execution_count": 12,
      "outputs": []
    },
    {
      "cell_type": "code",
      "source": [
        "y"
      ],
      "metadata": {
        "colab": {
          "base_uri": "https://localhost:8080/"
        },
        "id": "mgCNJtOCkKZJ",
        "outputId": "40cc514d-1952-43ab-d0ab-0bd2494d5310"
      },
      "execution_count": 13,
      "outputs": [
        {
          "output_type": "execute_result",
          "data": {
            "text/plain": [
              "array([6, 6, 6, ..., 0, 0, 0])"
            ]
          },
          "metadata": {},
          "execution_count": 13
        }
      ]
    },
    {
      "cell_type": "code",
      "source": [
        "y.shape"
      ],
      "metadata": {
        "colab": {
          "base_uri": "https://localhost:8080/"
        },
        "id": "L9-ql6wZkMNC",
        "outputId": "6aad52a3-c8cd-44ff-e1e1-c8c3564bb68f"
      },
      "execution_count": 14,
      "outputs": [
        {
          "output_type": "execute_result",
          "data": {
            "text/plain": [
              "(149999,)"
            ]
          },
          "metadata": {},
          "execution_count": 14
        }
      ]
    },
    {
      "cell_type": "code",
      "source": [
        "#np.save(\"mydata.npy\",X_sequence)"
      ],
      "metadata": {
        "id": "kvpMrUzMgZGE"
      },
      "execution_count": 15,
      "outputs": []
    },
    {
      "cell_type": "code",
      "source": [
        "b = np.load(\"mydata.npy\")"
      ],
      "metadata": {
        "id": "fxB_2ohGgkXJ"
      },
      "execution_count": 16,
      "outputs": []
    },
    {
      "cell_type": "code",
      "source": [
        "b.shape"
      ],
      "metadata": {
        "colab": {
          "base_uri": "https://localhost:8080/"
        },
        "id": "HguuDdetguf7",
        "outputId": "47623f87-c94c-4775-9419-b136d67691f7"
      },
      "execution_count": 17,
      "outputs": [
        {
          "output_type": "execute_result",
          "data": {
            "text/plain": [
              "(149999, 200, 8)"
            ]
          },
          "metadata": {},
          "execution_count": 17
        }
      ]
    },
    {
      "cell_type": "code",
      "source": [
        "unique, counts = np.unique(y, return_counts=True)"
      ],
      "metadata": {
        "id": "l8Lq455lV1JR"
      },
      "execution_count": 18,
      "outputs": []
    },
    {
      "cell_type": "code",
      "source": [
        "unique"
      ],
      "metadata": {
        "id": "t0BRO3nAWQxe",
        "colab": {
          "base_uri": "https://localhost:8080/"
        },
        "outputId": "d3aac032-b890-4a41-84cd-39add50d040e"
      },
      "execution_count": 19,
      "outputs": [
        {
          "output_type": "execute_result",
          "data": {
            "text/plain": [
              "array([ 0,  6, 10, 15, 20, 25, 30, 35])"
            ]
          },
          "metadata": {},
          "execution_count": 19
        }
      ]
    },
    {
      "cell_type": "code",
      "source": [
        "counts"
      ],
      "metadata": {
        "id": "WWZ7QWR4WS_r",
        "colab": {
          "base_uri": "https://localhost:8080/"
        },
        "outputId": "db10fcfb-23b9-41c9-f801-37037c7d4d6f"
      },
      "execution_count": 20,
      "outputs": [
        {
          "output_type": "execute_result",
          "data": {
            "text/plain": [
              "array([18749, 18750, 18750, 18750, 18750, 18750, 18750, 18750])"
            ]
          },
          "metadata": {},
          "execution_count": 20
        }
      ]
    },
    {
      "cell_type": "code",
      "execution_count": 21,
      "metadata": {
        "id": "i7R1oo6Mj8wx"
      },
      "outputs": [],
      "source": [
        "data = 0"
      ]
    },
    {
      "cell_type": "code",
      "source": [
        "#from sklearn.preprocessing import OneHotEncoder"
      ],
      "metadata": {
        "id": "lAk_JscRWmqY"
      },
      "execution_count": 22,
      "outputs": []
    },
    {
      "cell_type": "code",
      "source": [
        "#label_encoder = OneHotEncoder(sparse=False)\n",
        "#label_encoder.fit(y.reshape(-1,1))"
      ],
      "metadata": {
        "id": "14B9aYy0W0y6"
      },
      "execution_count": 23,
      "outputs": []
    },
    {
      "cell_type": "code",
      "source": [
        "#y_encoded = label_encoder.transform(y.reshape(-1,1))"
      ],
      "metadata": {
        "id": "VjpWn96xXgPS"
      },
      "execution_count": 24,
      "outputs": []
    },
    {
      "cell_type": "code",
      "source": [
        "#y_encoded[0:5]"
      ],
      "metadata": {
        "id": "VL6KMFo9XpBi"
      },
      "execution_count": 25,
      "outputs": []
    },
    {
      "cell_type": "code",
      "source": [
        "#y=y_encoded"
      ],
      "metadata": {
        "id": "5c8km253YKBl"
      },
      "execution_count": 26,
      "outputs": []
    },
    {
      "cell_type": "markdown",
      "metadata": {
        "id": "5BXSDoHa9UX_"
      },
      "source": [
        "# Random/Shuffle"
      ]
    },
    {
      "cell_type": "code",
      "execution_count": 27,
      "metadata": {
        "id": "ZcfE9idy-ckb"
      },
      "outputs": [],
      "source": [
        "shuffler = np.random.permutation(len(X_sequence))\n",
        "X_sequence_shuffled = X_sequence[shuffler]\n",
        "y_shuffled = y[shuffler]"
      ]
    },
    {
      "cell_type": "markdown",
      "metadata": {
        "id": "TfhRTTNcE2s8"
      },
      "source": [
        "# LSTM"
      ]
    },
    {
      "cell_type": "code",
      "execution_count": 28,
      "metadata": {
        "id": "ihrXMuVAEwlY"
      },
      "outputs": [],
      "source": [
        "import pandas as pd\n",
        "import sklearn.metrics as metrique\n",
        "from pandas import Series\n",
        "from sklearn.preprocessing import StandardScaler, MinMaxScaler\n",
        "from matplotlib import pyplot\n",
        "from sklearn.model_selection import train_test_split\n",
        "import numpy as np\n",
        "import tensorflow as tf\n",
        "import sys\n",
        "import numpy as np\n",
        "import pandas as pd\n",
        "import tensorflow as tf\n",
        "import matplotlib.pyplot as plt\n",
        "from sklearn.model_selection import train_test_split\n",
        "from sklearn import preprocessing\n",
        "from sklearn.preprocessing import StandardScaler\n",
        "from sklearn.metrics import classification_report\n",
        "import warnings\n",
        "warnings.filterwarnings('ignore')\n",
        "plt.style.use('ggplot')\n",
        "import seaborn as sns \n",
        "%matplotlib inline\n",
        "from keras.callbacks import EarlyStopping\n",
        "from keras.callbacks import ModelCheckpoint\n",
        "from sklearn.metrics import accuracy_score\n",
        "from sklearn.metrics import classification_report, confusion_matrix\n",
        "from keras.models import Sequential\n",
        "from keras.utils import np_utils\n",
        "from keras.layers import LSTM, Dense, Embedding, Dropout,Input, Layer, Concatenate, Permute, Dot, Multiply, Flatten\n",
        "from keras.layers import RepeatVector, Dense, Activation, Lambda\n",
        "from keras.models import Sequential\n",
        "from keras import backend as K, regularizers, Model, metrics\n",
        "from keras.backend import cast"
      ]
    },
    {
      "cell_type": "code",
      "execution_count": 29,
      "metadata": {
        "id": "PjKWKiA6aH3z"
      },
      "outputs": [],
      "source": [
        "#from tensorflow.keras import optimizers\n",
        "#sgd = optimizers.SGD(lr=0.0001, decay=1e-6, momentum=0.9, nesterov=True)\n",
        "#model = keras.Sequential()\n",
        "#model.add(LSTM(100, input_shape = (200, 8)))\n",
        "#model.add(Dropout(0.5))\n",
        "#model.add(Dense(1, activation=\"softmax\"))\n",
        "\n",
        "\n",
        "#model.compile(loss=\"categorical_crossentropy\"\n",
        "#              , metrics=[keras.metrics.binary_accuracy]\n",
        "#              , optimizer='sgd')\n",
        "\n",
        "#model.summary()"
      ]
    },
    {
      "cell_type": "code",
      "execution_count": 30,
      "metadata": {
        "id": "_2SaVmwSWJVB",
        "colab": {
          "base_uri": "https://localhost:8080/"
        },
        "outputId": "449ab4f7-f2cd-497e-8060-b0eb54b975c8"
      },
      "outputs": [
        {
          "output_type": "stream",
          "name": "stdout",
          "text": [
            "Model: \"sequential\"\n",
            "_________________________________________________________________\n",
            " Layer (type)                Output Shape              Param #   \n",
            "=================================================================\n",
            " lstm (LSTM)                 (None, 100)               43600     \n",
            "                                                                 \n",
            " dropout (Dropout)           (None, 100)               0         \n",
            "                                                                 \n",
            " dense (Dense)               (None, 1)                 101       \n",
            "                                                                 \n",
            "=================================================================\n",
            "Total params: 43,701\n",
            "Trainable params: 43,701\n",
            "Non-trainable params: 0\n",
            "_________________________________________________________________\n"
          ]
        }
      ],
      "source": [
        "from tensorflow.keras import optimizers\n",
        "#sgd = optimizers.SGD(lr=0.0001, decay=1e-6, momentum=0.9, nesterov=True)\n",
        "optimizer = tf.keras.optimizers.Adam(lr=0.0001)\n",
        "model = keras.Sequential()\n",
        "model.add(LSTM(100, input_shape = (200, 8)))\n",
        "model.add(Dropout(0.5))\n",
        "model.add(Dense(1))# dense 1, activation - relu/sigmoid\n",
        "\n",
        "#model.compile(loss='mean_squared_error', optimizer=sgd)\n",
        "model.compile(loss=\"mse\" #mse\n",
        "              , metrics=['accuracy']\n",
        "              , optimizer=optimizer)\n",
        "\n",
        "model.summary()"
      ]
    },
    {
      "cell_type": "code",
      "execution_count": 31,
      "metadata": {
        "id": "tg8wrqsqc8UX"
      },
      "outputs": [],
      "source": [
        "training_size = int(len(X_sequence) * 0.8)\n",
        "val_size = int(len(X_sequence) * 0.9)"
      ]
    },
    {
      "cell_type": "code",
      "execution_count": 32,
      "metadata": {
        "id": "avIp3TEKc-qF"
      },
      "outputs": [],
      "source": [
        "X_train, y_train = X_sequence_shuffled[:training_size], y_shuffled[:training_size]\n",
        "X_val, y_val = X_sequence_shuffled[training_size:val_size], y_shuffled[training_size:val_size]\n",
        "X_test, y_test = X_sequence_shuffled[val_size:], y_shuffled[val_size:]"
      ]
    },
    {
      "cell_type": "code",
      "execution_count": 33,
      "metadata": {
        "id": "RABc_uKzkBUT"
      },
      "outputs": [],
      "source": [
        "X_sequence = 0\n",
        "y = 0"
      ]
    },
    {
      "cell_type": "code",
      "source": [
        "X_train.shape"
      ],
      "metadata": {
        "id": "Omv-ht1dhGxL",
        "colab": {
          "base_uri": "https://localhost:8080/"
        },
        "outputId": "699c411f-a4ee-44b9-ec12-e4e52be06ab3"
      },
      "execution_count": 34,
      "outputs": [
        {
          "output_type": "execute_result",
          "data": {
            "text/plain": [
              "(119999, 200, 8)"
            ]
          },
          "metadata": {},
          "execution_count": 34
        }
      ]
    },
    {
      "cell_type": "code",
      "execution_count": 35,
      "metadata": {
        "id": "8aIhPJ-wLCwZ",
        "colab": {
          "base_uri": "https://localhost:8080/"
        },
        "outputId": "6903e69f-d77d-4485-ba65-3d6a00451372"
      },
      "outputs": [
        {
          "output_type": "execute_result",
          "data": {
            "text/plain": [
              "array([30,  6,  6, 30,  6, 10,  0, 20,  6, 25])"
            ]
          },
          "metadata": {},
          "execution_count": 35
        }
      ],
      "source": [
        "y_train[:10]"
      ]
    },
    {
      "cell_type": "code",
      "execution_count": 36,
      "metadata": {
        "id": "cen4faX0dFJP",
        "colab": {
          "base_uri": "https://localhost:8080/"
        },
        "outputId": "13357522-d822-4928-a789-7bbad0c9a654"
      },
      "outputs": [
        {
          "output_type": "stream",
          "name": "stdout",
          "text": [
            "Epoch 1/100\n",
            "1875/1875 [==============================] - 94s 47ms/step - loss: 157.8351 - accuracy: 0.0041 - val_loss: 129.8845 - val_accuracy: 0.0000e+00\n",
            "Epoch 2/100\n",
            "1875/1875 [==============================] - 69s 37ms/step - loss: 131.7040 - accuracy: 0.0000e+00 - val_loss: 130.0008 - val_accuracy: 0.0000e+00\n",
            "Epoch 3/100\n",
            "1875/1875 [==============================] - 64s 34ms/step - loss: 131.3242 - accuracy: 0.0000e+00 - val_loss: 129.8515 - val_accuracy: 0.0000e+00\n",
            "Epoch 4/100\n",
            "1875/1875 [==============================] - 63s 34ms/step - loss: 131.4457 - accuracy: 0.0000e+00 - val_loss: 129.7729 - val_accuracy: 0.0000e+00\n",
            "Epoch 5/100\n",
            "1875/1875 [==============================] - 66s 35ms/step - loss: 130.9807 - accuracy: 0.0000e+00 - val_loss: 129.8467 - val_accuracy: 0.0000e+00\n",
            "Epoch 6/100\n",
            "1875/1875 [==============================] - 63s 34ms/step - loss: 129.7881 - accuracy: 0.0000e+00 - val_loss: 125.7334 - val_accuracy: 0.0000e+00\n",
            "Epoch 7/100\n",
            "1875/1875 [==============================] - 63s 34ms/step - loss: 119.6984 - accuracy: 0.0000e+00 - val_loss: 124.0069 - val_accuracy: 0.0000e+00\n",
            "Epoch 8/100\n",
            "1875/1875 [==============================] - 63s 34ms/step - loss: 114.4587 - accuracy: 0.0000e+00 - val_loss: 105.2519 - val_accuracy: 0.0000e+00\n",
            "Epoch 9/100\n",
            "1875/1875 [==============================] - 63s 34ms/step - loss: 101.8510 - accuracy: 0.0000e+00 - val_loss: 91.7096 - val_accuracy: 0.0000e+00\n",
            "Epoch 10/100\n",
            "1875/1875 [==============================] - 63s 34ms/step - loss: 95.0679 - accuracy: 0.0000e+00 - val_loss: 88.1030 - val_accuracy: 0.0000e+00\n",
            "Epoch 11/100\n",
            "1875/1875 [==============================] - 63s 34ms/step - loss: 90.8006 - accuracy: 0.0000e+00 - val_loss: 87.2144 - val_accuracy: 0.0000e+00\n",
            "Epoch 12/100\n",
            "1875/1875 [==============================] - 63s 34ms/step - loss: 89.0840 - accuracy: 8.3334e-05 - val_loss: 84.5675 - val_accuracy: 0.0000e+00\n",
            "Epoch 13/100\n",
            "1875/1875 [==============================] - 64s 34ms/step - loss: 87.5235 - accuracy: 0.0000e+00 - val_loss: 81.2784 - val_accuracy: 0.0000e+00\n",
            "Epoch 14/100\n",
            "1875/1875 [==============================] - 64s 34ms/step - loss: 92.0228 - accuracy: 0.0000e+00 - val_loss: 87.7481 - val_accuracy: 0.0000e+00\n",
            "Epoch 15/100\n",
            "1875/1875 [==============================] - 64s 34ms/step - loss: 83.5951 - accuracy: 0.0000e+00 - val_loss: 75.9025 - val_accuracy: 0.0000e+00\n",
            "Epoch 16/100\n",
            "1875/1875 [==============================] - 63s 34ms/step - loss: 96.6077 - accuracy: 0.0039 - val_loss: 83.4053 - val_accuracy: 0.0031\n",
            "Epoch 17/100\n",
            "1875/1875 [==============================] - 64s 34ms/step - loss: 80.6128 - accuracy: 0.0034 - val_loss: 73.6553 - val_accuracy: 0.0029\n",
            "Epoch 18/100\n",
            "1875/1875 [==============================] - 63s 34ms/step - loss: 75.6231 - accuracy: 0.0041 - val_loss: 70.7381 - val_accuracy: 0.0068\n",
            "Epoch 19/100\n",
            "1875/1875 [==============================] - 63s 33ms/step - loss: 73.1086 - accuracy: 0.0090 - val_loss: 68.4553 - val_accuracy: 0.0088\n",
            "Epoch 20/100\n",
            "1875/1875 [==============================] - 63s 33ms/step - loss: 70.5554 - accuracy: 0.0112 - val_loss: 65.8031 - val_accuracy: 0.0085\n",
            "Epoch 21/100\n",
            "1875/1875 [==============================] - 63s 33ms/step - loss: 69.9889 - accuracy: 0.0115 - val_loss: 62.7943 - val_accuracy: 0.0123\n",
            "Epoch 22/100\n",
            "1875/1875 [==============================] - 64s 34ms/step - loss: 66.2804 - accuracy: 0.0171 - val_loss: 59.4676 - val_accuracy: 0.0187\n",
            "Epoch 23/100\n",
            "1875/1875 [==============================] - 63s 34ms/step - loss: 63.6087 - accuracy: 0.0175 - val_loss: 56.8192 - val_accuracy: 0.0205\n",
            "Epoch 24/100\n",
            "1875/1875 [==============================] - 62s 33ms/step - loss: 62.9408 - accuracy: 0.0194 - val_loss: 57.1298 - val_accuracy: 0.0261\n",
            "Epoch 25/100\n",
            "1875/1875 [==============================] - 63s 34ms/step - loss: 61.1770 - accuracy: 0.0196 - val_loss: 56.7979 - val_accuracy: 0.0245\n",
            "Epoch 26/100\n",
            "1875/1875 [==============================] - 63s 34ms/step - loss: 65.6033 - accuracy: 0.0181 - val_loss: 69.0280 - val_accuracy: 0.0000e+00\n",
            "Epoch 27/100\n",
            "1875/1875 [==============================] - 63s 34ms/step - loss: 62.5858 - accuracy: 0.0041 - val_loss: 52.6698 - val_accuracy: 0.0108\n",
            "Epoch 28/100\n",
            "1875/1875 [==============================] - 63s 34ms/step - loss: 57.3033 - accuracy: 0.0148 - val_loss: 52.2718 - val_accuracy: 0.0110\n",
            "Epoch 29/100\n",
            "1875/1875 [==============================] - 63s 34ms/step - loss: 59.0504 - accuracy: 0.0187 - val_loss: 51.9395 - val_accuracy: 0.0063\n",
            "Epoch 30/100\n",
            "1875/1875 [==============================] - 63s 34ms/step - loss: 55.9587 - accuracy: 0.0218 - val_loss: 51.3068 - val_accuracy: 0.0161\n",
            "Epoch 31/100\n",
            "1875/1875 [==============================] - 63s 33ms/step - loss: 55.5269 - accuracy: 0.0200 - val_loss: 61.9434 - val_accuracy: 0.0247\n",
            "Epoch 32/100\n",
            "1875/1875 [==============================] - 64s 34ms/step - loss: 53.5213 - accuracy: 0.0236 - val_loss: 51.3452 - val_accuracy: 0.0271\n",
            "Epoch 33/100\n",
            "1875/1875 [==============================] - 64s 34ms/step - loss: 52.3962 - accuracy: 0.0257 - val_loss: 60.1520 - val_accuracy: 6.0000e-04\n",
            "Epoch 34/100\n",
            "1875/1875 [==============================] - 66s 35ms/step - loss: 52.1152 - accuracy: 0.0276 - val_loss: 46.9543 - val_accuracy: 0.0107\n",
            "Epoch 35/100\n",
            "1875/1875 [==============================] - 66s 35ms/step - loss: 50.7684 - accuracy: 0.0292 - val_loss: 44.8355 - val_accuracy: 0.0285\n",
            "Epoch 36/100\n",
            "1875/1875 [==============================] - 69s 37ms/step - loss: 49.7672 - accuracy: 0.0345 - val_loss: 43.2063 - val_accuracy: 0.0405\n",
            "Epoch 37/100\n",
            "1875/1875 [==============================] - 67s 36ms/step - loss: 48.3334 - accuracy: 0.0322 - val_loss: 41.8063 - val_accuracy: 0.0026\n",
            "Epoch 38/100\n",
            "1875/1875 [==============================] - 67s 36ms/step - loss: 49.3682 - accuracy: 0.0273 - val_loss: 45.0005 - val_accuracy: 0.0331\n",
            "Epoch 39/100\n",
            "1875/1875 [==============================] - 64s 34ms/step - loss: 48.4531 - accuracy: 0.0326 - val_loss: 42.2433 - val_accuracy: 0.0357\n",
            "Epoch 40/100\n",
            "1875/1875 [==============================] - 64s 34ms/step - loss: 47.5885 - accuracy: 0.0393 - val_loss: 41.6741 - val_accuracy: 0.0345\n",
            "Epoch 41/100\n",
            "1875/1875 [==============================] - 67s 36ms/step - loss: 48.8576 - accuracy: 0.0331 - val_loss: 41.8629 - val_accuracy: 0.0265\n",
            "Epoch 42/100\n",
            "1875/1875 [==============================] - 66s 35ms/step - loss: 53.4038 - accuracy: 0.0289 - val_loss: 44.7568 - val_accuracy: 8.6667e-04\n",
            "Epoch 43/100\n",
            "1875/1875 [==============================] - 66s 35ms/step - loss: 45.6734 - accuracy: 0.0168 - val_loss: 39.6460 - val_accuracy: 0.0021\n",
            "Epoch 44/100\n",
            "1875/1875 [==============================] - 69s 37ms/step - loss: 44.6528 - accuracy: 0.0328 - val_loss: 39.8538 - val_accuracy: 0.0113\n",
            "Epoch 45/100\n",
            "1875/1875 [==============================] - 73s 39ms/step - loss: 44.7235 - accuracy: 0.0367 - val_loss: 44.4211 - val_accuracy: 0.0149\n",
            "Epoch 46/100\n",
            "1875/1875 [==============================] - 66s 35ms/step - loss: 45.1056 - accuracy: 0.0395 - val_loss: 44.1021 - val_accuracy: 0.0119\n",
            "Epoch 47/100\n",
            "1875/1875 [==============================] - 64s 34ms/step - loss: 45.7270 - accuracy: 0.0401 - val_loss: 39.9581 - val_accuracy: 0.0427\n",
            "Epoch 48/100\n",
            "1875/1875 [==============================] - 66s 35ms/step - loss: 43.8337 - accuracy: 0.0446 - val_loss: 40.4184 - val_accuracy: 0.0460\n",
            "Epoch 49/100\n",
            "1875/1875 [==============================] - 65s 34ms/step - loss: 44.2095 - accuracy: 0.0388 - val_loss: 41.5056 - val_accuracy: 0.0604\n",
            "Epoch 50/100\n",
            "1875/1875 [==============================] - 67s 36ms/step - loss: 43.3301 - accuracy: 0.0503 - val_loss: 44.0393 - val_accuracy: 0.0459\n",
            "Epoch 51/100\n",
            "1875/1875 [==============================] - 64s 34ms/step - loss: 43.8662 - accuracy: 0.0432 - val_loss: 37.2250 - val_accuracy: 0.0177\n",
            "Epoch 52/100\n",
            "1875/1875 [==============================] - 65s 35ms/step - loss: 42.6174 - accuracy: 0.0460 - val_loss: 42.6540 - val_accuracy: 0.0694\n",
            "Epoch 53/100\n",
            "1875/1875 [==============================] - 65s 35ms/step - loss: 41.7828 - accuracy: 0.0514 - val_loss: 39.5181 - val_accuracy: 0.0563\n",
            "Epoch 54/100\n",
            "1875/1875 [==============================] - 69s 37ms/step - loss: 42.0490 - accuracy: 0.0519 - val_loss: 38.2841 - val_accuracy: 0.0631\n",
            "Epoch 55/100\n",
            "1875/1875 [==============================] - 66s 35ms/step - loss: 41.8809 - accuracy: 0.0483 - val_loss: 39.5801 - val_accuracy: 0.0148\n",
            "Epoch 56/100\n",
            "1875/1875 [==============================] - 68s 36ms/step - loss: 40.9921 - accuracy: 0.0453 - val_loss: 38.5701 - val_accuracy: 0.0569\n",
            "Epoch 57/100\n",
            "1875/1875 [==============================] - 67s 36ms/step - loss: 40.8859 - accuracy: 0.0492 - val_loss: 34.9350 - val_accuracy: 0.0602\n",
            "Epoch 58/100\n",
            "1875/1875 [==============================] - 64s 34ms/step - loss: 40.7297 - accuracy: 0.0493 - val_loss: 37.9844 - val_accuracy: 0.0495\n",
            "Epoch 59/100\n",
            "1875/1875 [==============================] - 65s 35ms/step - loss: 39.9292 - accuracy: 0.0464 - val_loss: 36.4043 - val_accuracy: 0.0349\n",
            "Epoch 60/100\n",
            "1875/1875 [==============================] - 68s 36ms/step - loss: 40.0015 - accuracy: 0.0547 - val_loss: 35.6611 - val_accuracy: 0.0349\n",
            "Epoch 61/100\n",
            "1875/1875 [==============================] - 65s 35ms/step - loss: 40.5128 - accuracy: 0.0576 - val_loss: 36.0403 - val_accuracy: 0.0481\n",
            "Epoch 62/100\n",
            "1875/1875 [==============================] - 68s 36ms/step - loss: 38.9395 - accuracy: 0.0580 - val_loss: 35.0391 - val_accuracy: 0.0549\n",
            "Epoch 63/100\n",
            "1875/1875 [==============================] - 66s 35ms/step - loss: 39.0898 - accuracy: 0.0523 - val_loss: 36.5934 - val_accuracy: 0.0663\n",
            "Epoch 64/100\n",
            "1875/1875 [==============================] - 65s 35ms/step - loss: 38.6529 - accuracy: 0.0509 - val_loss: 33.4397 - val_accuracy: 0.0306\n",
            "Epoch 65/100\n",
            "1875/1875 [==============================] - 66s 35ms/step - loss: 38.6341 - accuracy: 0.0489 - val_loss: 33.2628 - val_accuracy: 0.0907\n",
            "Epoch 66/100\n",
            "1875/1875 [==============================] - 65s 35ms/step - loss: 38.2809 - accuracy: 0.0589 - val_loss: 32.0228 - val_accuracy: 0.0783\n",
            "Epoch 67/100\n",
            "1875/1875 [==============================] - 67s 36ms/step - loss: 36.9475 - accuracy: 0.0619 - val_loss: 31.7245 - val_accuracy: 0.0699\n",
            "Epoch 68/100\n",
            "1875/1875 [==============================] - 66s 35ms/step - loss: 37.3604 - accuracy: 0.0603 - val_loss: 31.9813 - val_accuracy: 0.0679\n",
            "Epoch 69/100\n",
            "1875/1875 [==============================] - 66s 35ms/step - loss: 37.1056 - accuracy: 0.0605 - val_loss: 32.3993 - val_accuracy: 0.0659\n",
            "Epoch 70/100\n",
            "1875/1875 [==============================] - 64s 34ms/step - loss: 36.2941 - accuracy: 0.0601 - val_loss: 31.6562 - val_accuracy: 0.0947\n",
            "Epoch 71/100\n",
            "1875/1875 [==============================] - 66s 35ms/step - loss: 37.6301 - accuracy: 0.0592 - val_loss: 43.1583 - val_accuracy: 0.0198\n",
            "Epoch 72/100\n",
            "1875/1875 [==============================] - 66s 35ms/step - loss: 38.9315 - accuracy: 0.0545 - val_loss: 35.6319 - val_accuracy: 0.0643\n",
            "Epoch 73/100\n",
            "1875/1875 [==============================] - 66s 35ms/step - loss: 37.3251 - accuracy: 0.0526 - val_loss: 32.8500 - val_accuracy: 0.0399\n",
            "Epoch 74/100\n",
            "1875/1875 [==============================] - 68s 36ms/step - loss: 37.8364 - accuracy: 0.0520 - val_loss: 33.5573 - val_accuracy: 0.0475\n",
            "Epoch 75/100\n",
            "1875/1875 [==============================] - 67s 36ms/step - loss: 37.3440 - accuracy: 0.0578 - val_loss: 31.6240 - val_accuracy: 0.0865\n",
            "Epoch 76/100\n",
            "1875/1875 [==============================] - 66s 35ms/step - loss: 35.3831 - accuracy: 0.0576 - val_loss: 30.8658 - val_accuracy: 0.0856\n",
            "Epoch 77/100\n",
            "1875/1875 [==============================] - 64s 34ms/step - loss: 36.1869 - accuracy: 0.0589 - val_loss: 31.8439 - val_accuracy: 0.0676\n",
            "Epoch 78/100\n",
            "1875/1875 [==============================] - 64s 34ms/step - loss: 35.8758 - accuracy: 0.0619 - val_loss: 29.8903 - val_accuracy: 0.0620\n",
            "Epoch 79/100\n",
            "1875/1875 [==============================] - 64s 34ms/step - loss: 34.8088 - accuracy: 0.0564 - val_loss: 33.3648 - val_accuracy: 0.0712\n",
            "Epoch 80/100\n",
            "1875/1875 [==============================] - 66s 35ms/step - loss: 36.1988 - accuracy: 0.0613 - val_loss: 30.1702 - val_accuracy: 0.0950\n",
            "Epoch 81/100\n",
            "1875/1875 [==============================] - 65s 34ms/step - loss: 34.7312 - accuracy: 0.0605 - val_loss: 33.2977 - val_accuracy: 0.0869\n",
            "Epoch 82/100\n",
            "1875/1875 [==============================] - 64s 34ms/step - loss: 34.3380 - accuracy: 0.0594 - val_loss: 31.3964 - val_accuracy: 0.0641\n",
            "Epoch 83/100\n",
            "1875/1875 [==============================] - 67s 36ms/step - loss: 33.6899 - accuracy: 0.0628 - val_loss: 28.4261 - val_accuracy: 0.0823\n",
            "Epoch 84/100\n",
            "1875/1875 [==============================] - 66s 35ms/step - loss: 35.5134 - accuracy: 0.0611 - val_loss: 28.4550 - val_accuracy: 0.0789\n",
            "Epoch 85/100\n",
            "1875/1875 [==============================] - 68s 36ms/step - loss: 33.4506 - accuracy: 0.0624 - val_loss: 28.8650 - val_accuracy: 0.0783\n",
            "Epoch 86/100\n",
            "1875/1875 [==============================] - 65s 34ms/step - loss: 32.5268 - accuracy: 0.0630 - val_loss: 30.0887 - val_accuracy: 0.0840\n",
            "Epoch 87/100\n",
            "1875/1875 [==============================] - 66s 35ms/step - loss: 32.8830 - accuracy: 0.0626 - val_loss: 28.0098 - val_accuracy: 0.0851\n",
            "Epoch 88/100\n",
            "1875/1875 [==============================] - 67s 36ms/step - loss: 32.7372 - accuracy: 0.0643 - val_loss: 27.6999 - val_accuracy: 0.0744\n",
            "Epoch 89/100\n",
            "1875/1875 [==============================] - 67s 36ms/step - loss: 31.9059 - accuracy: 0.0674 - val_loss: 27.4860 - val_accuracy: 0.0941\n",
            "Epoch 90/100\n",
            "1875/1875 [==============================] - 68s 36ms/step - loss: 31.8036 - accuracy: 0.0641 - val_loss: 25.8806 - val_accuracy: 0.0783\n",
            "Epoch 91/100\n",
            "1875/1875 [==============================] - 66s 35ms/step - loss: 31.4294 - accuracy: 0.0656 - val_loss: 30.0193 - val_accuracy: 0.0871\n",
            "Epoch 92/100\n",
            "1875/1875 [==============================] - 65s 34ms/step - loss: 31.0579 - accuracy: 0.0690 - val_loss: 27.4956 - val_accuracy: 0.0932\n",
            "Epoch 93/100\n",
            "1875/1875 [==============================] - 67s 36ms/step - loss: 32.3726 - accuracy: 0.0646 - val_loss: 25.8358 - val_accuracy: 0.0931\n",
            "Epoch 94/100\n",
            "1875/1875 [==============================] - 65s 35ms/step - loss: 30.4031 - accuracy: 0.0690 - val_loss: 26.5432 - val_accuracy: 0.0917\n",
            "Epoch 95/100\n",
            "1875/1875 [==============================] - 68s 36ms/step - loss: 32.1677 - accuracy: 0.0678 - val_loss: 25.7633 - val_accuracy: 0.0847\n",
            "Epoch 96/100\n",
            "1875/1875 [==============================] - 65s 35ms/step - loss: 30.1624 - accuracy: 0.0662 - val_loss: 25.1123 - val_accuracy: 0.0967\n",
            "Epoch 97/100\n",
            "1875/1875 [==============================] - 64s 34ms/step - loss: 30.2827 - accuracy: 0.0641 - val_loss: 27.0889 - val_accuracy: 0.0708\n",
            "Epoch 98/100\n",
            "1875/1875 [==============================] - 64s 34ms/step - loss: 31.9406 - accuracy: 0.0627 - val_loss: 26.6613 - val_accuracy: 0.0833\n",
            "Epoch 99/100\n",
            "1875/1875 [==============================] - 66s 35ms/step - loss: 29.5729 - accuracy: 0.0645 - val_loss: 24.5513 - val_accuracy: 0.0968\n",
            "Epoch 100/100\n",
            "1875/1875 [==============================] - 67s 36ms/step - loss: 29.0661 - accuracy: 0.0660 - val_loss: 27.9789 - val_accuracy: 0.0753\n"
          ]
        }
      ],
      "source": [
        "history = model.fit(X_train, y_train, batch_size=64, epochs=100, validation_data=(X_val, y_val))\n",
        "#model.save('NewAllDataModel_E100_B64.h5')"
      ]
    },
    {
      "cell_type": "code",
      "execution_count": 37,
      "metadata": {
        "id": "R7QQeqVidKBR",
        "colab": {
          "base_uri": "https://localhost:8080/"
        },
        "outputId": "a3f2cb07-a5a0-4861-b8dd-fde0a22b7f36"
      },
      "outputs": [
        {
          "output_type": "stream",
          "name": "stdout",
          "text": [
            "469/469 [==============================] - 8s 16ms/step - loss: 28.3231 - accuracy: 0.0755\n"
          ]
        }
      ],
      "source": [
        "test_acc = model.evaluate(X_test, y_test)"
      ]
    },
    {
      "cell_type": "code",
      "source": [
        "test_acc"
      ],
      "metadata": {
        "id": "6fuTmgGrUgGg",
        "colab": {
          "base_uri": "https://localhost:8080/"
        },
        "outputId": "f6c7c975-574a-4dd0-e2c7-8af14b1b9d70"
      },
      "execution_count": 38,
      "outputs": [
        {
          "output_type": "execute_result",
          "data": {
            "text/plain": [
              "[28.323095321655273, 0.07553333044052124]"
            ]
          },
          "metadata": {},
          "execution_count": 38
        }
      ]
    },
    {
      "cell_type": "code",
      "execution_count": 39,
      "metadata": {
        "id": "OHpifyqGdKn-",
        "colab": {
          "base_uri": "https://localhost:8080/"
        },
        "outputId": "12f1af2a-0a07-4e64-eb96-0e82507d9ea0"
      },
      "outputs": [
        {
          "output_type": "stream",
          "name": "stdout",
          "text": [
            "469/469 [==============================] - 7s 14ms/step\n"
          ]
        }
      ],
      "source": [
        "y_test_prob = model.predict(X_test, verbose=1)"
      ]
    },
    {
      "cell_type": "code",
      "source": [
        "np.set_printoptions(suppress=True)\n",
        "y_test_prob_backup = y_test_prob\n",
        "y_test_prob"
      ],
      "metadata": {
        "id": "rRPswrrkmhp2",
        "colab": {
          "base_uri": "https://localhost:8080/"
        },
        "outputId": "fa225f57-6b73-4627-8d3f-d6cb091297d8"
      },
      "execution_count": 40,
      "outputs": [
        {
          "output_type": "execute_result",
          "data": {
            "text/plain": [
              "array([[ 3.625319],\n",
              "       [34.447147],\n",
              "       [34.61047 ],\n",
              "       ...,\n",
              "       [31.38153 ],\n",
              "       [16.039507],\n",
              "       [20.66074 ]], dtype=float32)"
            ]
          },
          "metadata": {},
          "execution_count": 40
        }
      ]
    },
    {
      "cell_type": "code",
      "source": [
        "plt.figure(figsize=(10,10))\n",
        "plt.hist(y_test_prob_backup)"
      ],
      "metadata": {
        "colab": {
          "base_uri": "https://localhost:8080/",
          "height": 701
        },
        "id": "qsgK5XvWjrAP",
        "outputId": "cf608a92-9797-4d2b-b2e5-6aeb08653682"
      },
      "execution_count": 41,
      "outputs": [
        {
          "output_type": "execute_result",
          "data": {
            "text/plain": [
              "(array([1522.,  334., 1208., 1375., 2870., 2790., 1629.,  991.,  980.,\n",
              "        1301.]),\n",
              " array([-0.6074474,  3.1714523,  6.9503517, 10.729252 , 14.508151 ,\n",
              "        18.28705  , 22.06595  , 25.84485  , 29.62375  , 33.40265  ,\n",
              "        37.18155  ], dtype=float32),\n",
              " <a list of 10 Patch objects>)"
            ]
          },
          "metadata": {},
          "execution_count": 41
        },
        {
          "output_type": "display_data",
          "data": {
            "text/plain": [
              "<Figure size 720x720 with 1 Axes>"
            ],
            "image/png": "[encoded data removed]"
          },
          "metadata": {
            "needs_background": "light"
          }
        }
      ]
    },
    {
      "cell_type": "code",
      "source": [
        "y_test_prob_backup[:10]"
      ],
      "metadata": {
        "colab": {
          "base_uri": "https://localhost:8080/"
        },
        "id": "M6Xj4ugPx610",
        "outputId": "ecf06367-8e3e-42f2-b728-02a07531050e"
      },
      "execution_count": 42,
      "outputs": [
        {
          "output_type": "execute_result",
          "data": {
            "text/plain": [
              "array([[ 3.625319  ],\n",
              "       [34.447147  ],\n",
              "       [34.61047   ],\n",
              "       [30.738281  ],\n",
              "       [33.341652  ],\n",
              "       [21.29715   ],\n",
              "       [ 0.22399092],\n",
              "       [19.132988  ],\n",
              "       [10.050915  ],\n",
              "       [26.07072   ]], dtype=float32)"
            ]
          },
          "metadata": {},
          "execution_count": 42
        }
      ]
    },
    {
      "cell_type": "code",
      "execution_count": 43,
      "metadata": {
        "id": "8DoJy_p9dPzN"
      },
      "outputs": [],
      "source": [
        "from sklearn.metrics import multilabel_confusion_matrix"
      ]
    },
    {
      "cell_type": "code",
      "source": [
        "y_test"
      ],
      "metadata": {
        "id": "n1Us2yrfcGl-",
        "colab": {
          "base_uri": "https://localhost:8080/"
        },
        "outputId": "132fc833-5ab1-4904-d626-8e09536ba14d"
      },
      "execution_count": 44,
      "outputs": [
        {
          "output_type": "execute_result",
          "data": {
            "text/plain": [
              "array([ 0, 35, 35, ..., 35, 25,  0])"
            ]
          },
          "metadata": {},
          "execution_count": 44
        }
      ]
    },
    {
      "cell_type": "code",
      "source": [
        "y_test.shape"
      ],
      "metadata": {
        "id": "VnmvTcvWbxr9",
        "colab": {
          "base_uri": "https://localhost:8080/"
        },
        "outputId": "22fb118c-525e-4528-82af-11ad2e83affc"
      },
      "execution_count": 45,
      "outputs": [
        {
          "output_type": "execute_result",
          "data": {
            "text/plain": [
              "(15000,)"
            ]
          },
          "metadata": {},
          "execution_count": 45
        }
      ]
    },
    {
      "cell_type": "code",
      "source": [
        "y_test_prob"
      ],
      "metadata": {
        "id": "fLgDwAIfiyv2",
        "colab": {
          "base_uri": "https://localhost:8080/"
        },
        "outputId": "ad8c1e95-fe8c-4267-a0a0-d998bdbc9b58"
      },
      "execution_count": 46,
      "outputs": [
        {
          "output_type": "execute_result",
          "data": {
            "text/plain": [
              "array([[ 3.625319],\n",
              "       [34.447147],\n",
              "       [34.61047 ],\n",
              "       ...,\n",
              "       [31.38153 ],\n",
              "       [16.039507],\n",
              "       [20.66074 ]], dtype=float32)"
            ]
          },
          "metadata": {},
          "execution_count": 46
        }
      ]
    },
    {
      "cell_type": "code",
      "source": [
        "y_test_pred = np.reshape(y_test_prob, -1)"
      ],
      "metadata": {
        "id": "ISi7-hg2gI7f"
      },
      "execution_count": 47,
      "outputs": []
    },
    {
      "cell_type": "code",
      "source": [
        "y_test_pred"
      ],
      "metadata": {
        "colab": {
          "base_uri": "https://localhost:8080/"
        },
        "id": "lsLE4-aGiT6A",
        "outputId": "d9aa0c6c-f11e-4a3d-ab12-ed11287c8ede"
      },
      "execution_count": 48,
      "outputs": [
        {
          "output_type": "execute_result",
          "data": {
            "text/plain": [
              "array([ 3.625319, 34.447147, 34.61047 , ..., 31.38153 , 16.039507,\n",
              "       20.66074 ], dtype=float32)"
            ]
          },
          "metadata": {},
          "execution_count": 48
        }
      ]
    },
    {
      "cell_type": "code",
      "source": [
        "y_test_pred_int = np.round(y_test_pred)\n",
        "print(y_test_pred_int)\n",
        "y_test_pred_int = y_test_pred_int.astype(int)"
      ],
      "metadata": {
        "colab": {
          "base_uri": "https://localhost:8080/"
        },
        "id": "jiZwDk3pvcVw",
        "outputId": "afe3d3bb-0e61-4504-83e2-3b60f9b3906f"
      },
      "execution_count": 49,
      "outputs": [
        {
          "output_type": "stream",
          "name": "stdout",
          "text": [
            "[ 4. 34. 35. ... 31. 16. 21.]\n"
          ]
        }
      ]
    },
    {
      "cell_type": "code",
      "source": [
        "y_test_pred_int"
      ],
      "metadata": {
        "colab": {
          "base_uri": "https://localhost:8080/"
        },
        "id": "VTPEZkizvo1c",
        "outputId": "1582d89b-2c11-489a-98c7-ec474a65fa5f"
      },
      "execution_count": 50,
      "outputs": [
        {
          "output_type": "execute_result",
          "data": {
            "text/plain": [
              "array([ 4, 34, 35, ..., 31, 16, 21])"
            ]
          },
          "metadata": {},
          "execution_count": 50
        }
      ]
    },
    {
      "cell_type": "code",
      "execution_count": 51,
      "metadata": {
        "id": "fTCsPjW8dQaZ"
      },
      "outputs": [],
      "source": [
        "cfm=confusion_matrix(y_test, y_test_pred_int)"
      ]
    },
    {
      "cell_type": "code",
      "source": [
        "cfm"
      ],
      "metadata": {
        "id": "_67lPg6ic4cH",
        "colab": {
          "base_uri": "https://localhost:8080/"
        },
        "outputId": "9f224c07-0a99-4f93-b290-0dad4ba81dbd"
      },
      "execution_count": 52,
      "outputs": [
        {
          "output_type": "execute_result",
          "data": {
            "text/plain": [
              "array([[   0,    0,    0, ...,    0,    0,    0],\n",
              "       [   5, 1128,  298, ...,    1,    0,    0],\n",
              "       [   0,    0,    0, ...,    0,    0,    0],\n",
              "       ...,\n",
              "       [   0,    0,    1, ...,  527,  187,   17],\n",
              "       [   0,    0,    0, ...,    0,    0,    0],\n",
              "       [   0,    0,    0, ...,    0,    0,    0]])"
            ]
          },
          "metadata": {},
          "execution_count": 52
        }
      ]
    },
    {
      "cell_type": "code",
      "source": [
        " print(classification_report(y_test,y_test_pred_int))"
      ],
      "metadata": {
        "id": "XTqR_xnwRWCJ",
        "colab": {
          "base_uri": "https://localhost:8080/"
        },
        "outputId": "e9620eef-8109-4416-c7a3-049feba9efa2"
      },
      "execution_count": 53,
      "outputs": [
        {
          "output_type": "stream",
          "name": "stdout",
          "text": [
            "              precision    recall  f1-score   support\n",
            "\n",
            "          -1       0.00      0.00      0.00         0\n",
            "           0       1.00      0.58      0.74      1940\n",
            "           1       0.00      0.00      0.00         0\n",
            "           2       0.00      0.00      0.00         0\n",
            "           3       0.00      0.00      0.00         0\n",
            "           4       0.00      0.00      0.00         0\n",
            "           5       0.00      0.00      0.00         0\n",
            "           6       0.57      0.04      0.07      1854\n",
            "           7       0.00      0.00      0.00         0\n",
            "           8       0.00      0.00      0.00         0\n",
            "           9       0.00      0.00      0.00         0\n",
            "          10       0.37      0.06      0.10      1806\n",
            "          11       0.00      0.00      0.00         0\n",
            "          12       0.00      0.00      0.00         0\n",
            "          13       0.00      0.00      0.00         0\n",
            "          14       0.00      0.00      0.00         0\n",
            "          15       0.26      0.09      0.13      1867\n",
            "          16       0.00      0.00      0.00         0\n",
            "          17       0.00      0.00      0.00         0\n",
            "          18       0.00      0.00      0.00         0\n",
            "          19       0.00      0.00      0.00         0\n",
            "          20       0.30      0.13      0.18      1838\n",
            "          21       0.00      0.00      0.00         0\n",
            "          22       0.00      0.00      0.00         0\n",
            "          23       0.00      0.00      0.00         0\n",
            "          24       0.00      0.00      0.00         0\n",
            "          25       0.42      0.08      0.13      1938\n",
            "          26       0.00      0.00      0.00         0\n",
            "          27       0.00      0.00      0.00         0\n",
            "          28       0.00      0.00      0.00         0\n",
            "          29       0.00      0.00      0.00         0\n",
            "          30       0.74      0.10      0.18      1921\n",
            "          31       0.00      0.00      0.00         0\n",
            "          32       0.00      0.00      0.00         0\n",
            "          33       0.00      0.00      0.00         0\n",
            "          34       0.00      0.00      0.00         0\n",
            "          35       0.99      0.29      0.44      1836\n",
            "          36       0.00      0.00      0.00         0\n",
            "          37       0.00      0.00      0.00         0\n",
            "\n",
            "    accuracy                           0.17     15000\n",
            "   macro avg       0.12      0.04      0.05     15000\n",
            "weighted avg       0.58      0.17      0.25     15000\n",
            "\n"
          ]
        }
      ]
    },
    {
      "cell_type": "code",
      "source": [
        "plt.plot(y_test_pred, y_test, 'o')\n",
        "#plt.title('')\n",
        "plt.ylabel('y_test')\n",
        "plt.xlabel('y_test_pred')\n",
        "plt.show()"
      ],
      "metadata": {
        "colab": {
          "base_uri": "https://localhost:8080/",
          "height": 282
        },
        "id": "l5sCwqd8ZdyS",
        "outputId": "7bd7de24-141b-49c7-f8bb-436751903c02"
      },
      "execution_count": 54,
      "outputs": [
        {
          "output_type": "display_data",
          "data": {
            "text/plain": [
              "<Figure size 432x288 with 1 Axes>"
            ],
            "image/png": "[encoded data removed]"
          },
          "metadata": {
            "needs_background": "light"
          }
        }
      ]
    },
    {
      "cell_type": "code",
      "source": [
        "plt.plot(y_test_pred_int, y_test, 'o')\n",
        "#plt.title('')\n",
        "plt.ylabel('y_test')\n",
        "plt.xlabel('y_test_pred_int')\n",
        "plt.show()"
      ],
      "metadata": {
        "colab": {
          "base_uri": "https://localhost:8080/",
          "height": 282
        },
        "id": "Fug6j8EeXP5G",
        "outputId": "900cf0ed-6cd9-44bd-bad8-c5adac5b0a6d"
      },
      "execution_count": 55,
      "outputs": [
        {
          "output_type": "display_data",
          "data": {
            "text/plain": [
              "<Figure size 432x288 with 1 Axes>"
            ],
            "image/png": "[encoded data removed]"
          },
          "metadata": {
            "needs_background": "light"
          }
        }
      ]
    },
    {
      "cell_type": "code",
      "execution_count": 56,
      "metadata": {
        "id": "fhdLAhgPUnH3"
      },
      "outputs": [],
      "source": [
        "def plot_learningCurve(history, epoch):\n",
        "  # Plot training & validation accuracy values\n",
        "  epoch_range = range(1, epoch+1)\n",
        "  plt.plot(epoch_range, history.history['accuracy'])\n",
        "  plt.plot(epoch_range, history.history['val_accuracy'])\n",
        "  plt.title('Model accuracy')\n",
        "  plt.ylabel('Accuracy')\n",
        "  plt.xlabel('Epoch')\n",
        "  plt.legend(['Train', 'Val'], loc='upper left')\n",
        "  plt.show()\n",
        "\n",
        "  # Plot training & validation loss values\n",
        "  plt.plot(epoch_range, history.history['loss'])\n",
        "  plt.plot(epoch_range, history.history['val_loss'])\n",
        "  plt.title('Model loss')\n",
        "  plt.ylabel('Loss')\n",
        "  plt.xlabel('Epoch')\n",
        "  plt.legend(['Train', 'Val'], loc='upper left')\n",
        "  plt.show()"
      ]
    },
    {
      "cell_type": "code",
      "execution_count": 57,
      "metadata": {
        "id": "WlkQkWHgU5mL",
        "colab": {
          "base_uri": "https://localhost:8080/",
          "height": 581
        },
        "outputId": "a2e87d7c-832d-468c-c097-f3aaa91c9130"
      },
      "outputs": [
        {
          "output_type": "display_data",
          "data": {
            "text/plain": [
              "<Figure size 432x288 with 1 Axes>"
            ],
            "image/png": "[encoded data removed]"
          },
          "metadata": {
            "needs_background": "light"
          }
        },
        {
          "output_type": "display_data",
          "data": {
            "text/plain": [
              "<Figure size 432x288 with 1 Axes>"
            ],
            "image/png": "[encoded data removed]"
          },
          "metadata": {
            "needs_background": "light"
          }
        }
      ],
      "source": [
        "plot_learningCurve(history, 100)"
      ]
    },
    {
      "cell_type": "code",
      "source": [
        "import numpy as np\n",
        "import matplotlib.pyplot as plt\n",
        "\n",
        "from sklearn import svm, datasets\n",
        "from sklearn.model_selection import train_test_split\n",
        "from sklearn.metrics import confusion_matrix\n",
        "from sklearn.utils.multiclass import unique_labels\n",
        "\n",
        "class_names = np.array(['0', '6', '10', '15', '20', '25', '30', '35'])\n",
        "\n",
        "def plot_confusion_matrix(y_true, y_pred, classes,\n",
        "                          normalize=False,\n",
        "                          title=None,\n",
        "                          cmap=plt.cm.Blues):\n",
        "    \"\"\"\n",
        "    This function prints and plots the confusion matrix.\n",
        "    Normalization can be applied by setting `normalize=True`.\n",
        "    \"\"\"\n",
        "    if not title:\n",
        "        if normalize:\n",
        "            title = 'Normalized confusion matrix'\n",
        "        else:\n",
        "            title = 'Confusion matrix, without normalization'\n",
        "\n",
        "    # Compute confusion matrix\n",
        "    cm = confusion_matrix(y_true, y_pred)\n",
        "    # Only use the labels that appear in the data\n",
        "    classes = classes[unique_labels(y_true, y_pred)]\n",
        "    if normalize:\n",
        "        cm = cm.astype('float') / cm.sum(axis=1)[:, np.newaxis]\n",
        "        print(\"Normalized confusion matrix\")\n",
        "    else:\n",
        "        print('Confusion matrix, without normalization')\n",
        "\n",
        "    print(cm)\n",
        "\n",
        "    fig, ax = plt.subplots()\n",
        "    im = ax.imshow(cm, interpolation='nearest', cmap=cmap)\n",
        "    ax.figure.colorbar(im, ax=ax)\n",
        "    # We want to show all ticks...\n",
        "    ax.set(xticks=np.arange(cm.shape[1]),\n",
        "           yticks=np.arange(cm.shape[0]),\n",
        "           # ... and label them with the respective list entries\n",
        "           xticklabels=classes, yticklabels=classes,\n",
        "           title=title,\n",
        "           ylabel='True label',\n",
        "           xlabel='Predicted label')\n",
        "\n",
        "    # Rotate the tick labels and set their alignment.\n",
        "    plt.setp(ax.get_xticklabels(), rotation=45, ha=\"right\",\n",
        "             rotation_mode=\"anchor\")\n",
        "\n",
        "    # Loop over data dimensions and create text annotations.\n",
        "    fmt = '.2f' if normalize else 'd'\n",
        "    thresh = cm.max() / 2.\n",
        "    for i in range(cm.shape[0]):\n",
        "        for j in range(cm.shape[1]):\n",
        "            ax.text(j, i, format(cm[i, j], fmt),\n",
        "                    ha=\"center\", va=\"center\",\n",
        "                    color=\"white\" if cm[i, j] > thresh else \"black\")\n",
        "    fig.tight_layout()\n",
        "\n",
        "    return ax\n",
        "\n",
        "\n",
        "np.set_printoptions(precision=2)\n",
        "\n",
        "# Plot non-normalized confusion matrix\n",
        "plot_confusion_matrix(y_test, y_test_pred_int, classes=class_names,\n",
        "                      title='Confusion matrix, without normalization')\n",
        "\n",
        "# Plot normalized confusion matrix\n",
        "plot_confusion_matrix(y_test, y_test_pred_int, classes=class_names, normalize=True,\n",
        "                      title='Normalized confusion matrix')\n",
        "\n",
        "plt.show()"
      ],
      "metadata": {
        "colab": {
          "base_uri": "https://localhost:8080/",
          "height": 367
        },
        "id": "H_QpRmAjwxbM",
        "outputId": "ccd64acd-d4fe-4015-b7dc-4a1810d0b9f2"
      },
      "execution_count": 58,
      "outputs": [
        {
          "output_type": "error",
          "ename": "IndexError",
          "evalue": "ignored",
          "traceback": [
            "\u001b[0;31m---------------------------------------------------------------------------\u001b[0m",
            "\u001b[0;31mIndexError\u001b[0m                                Traceback (most recent call last)",
            "\u001b[0;32m<ipython-input-58-2558ccbec8da>\u001b[0m in \u001b[0;36m<module>\u001b[0;34m()\u001b[0m\n\u001b[1;32m     68\u001b[0m \u001b[0;31m# Plot non-normalized confusion matrix\u001b[0m\u001b[0;34m\u001b[0m\u001b[0;34m\u001b[0m\u001b[0;34m\u001b[0m\u001b[0m\n\u001b[1;32m     69\u001b[0m plot_confusion_matrix(y_test, y_test_pred_int, classes=class_names,\n\u001b[0;32m---> 70\u001b[0;31m                       title='Confusion matrix, without normalization')\n\u001b[0m\u001b[1;32m     71\u001b[0m \u001b[0;34m\u001b[0m\u001b[0m\n\u001b[1;32m     72\u001b[0m \u001b[0;31m# Plot normalized confusion matrix\u001b[0m\u001b[0;34m\u001b[0m\u001b[0;34m\u001b[0m\u001b[0;34m\u001b[0m\u001b[0m\n",
            "\u001b[0;32m<ipython-input-58-2558ccbec8da>\u001b[0m in \u001b[0;36mplot_confusion_matrix\u001b[0;34m(y_true, y_pred, classes, normalize, title, cmap)\u001b[0m\n\u001b[1;32m     26\u001b[0m     \u001b[0mcm\u001b[0m \u001b[0;34m=\u001b[0m \u001b[0mconfusion_matrix\u001b[0m\u001b[0;34m(\u001b[0m\u001b[0my_true\u001b[0m\u001b[0;34m,\u001b[0m \u001b[0my_pred\u001b[0m\u001b[0;34m)\u001b[0m\u001b[0;34m\u001b[0m\u001b[0;34m\u001b[0m\u001b[0m\n\u001b[1;32m     27\u001b[0m     \u001b[0;31m# Only use the labels that appear in the data\u001b[0m\u001b[0;34m\u001b[0m\u001b[0;34m\u001b[0m\u001b[0;34m\u001b[0m\u001b[0m\n\u001b[0;32m---> 28\u001b[0;31m     \u001b[0mclasses\u001b[0m \u001b[0;34m=\u001b[0m \u001b[0mclasses\u001b[0m\u001b[0;34m[\u001b[0m\u001b[0munique_labels\u001b[0m\u001b[0;34m(\u001b[0m\u001b[0my_true\u001b[0m\u001b[0;34m,\u001b[0m \u001b[0my_pred\u001b[0m\u001b[0;34m)\u001b[0m\u001b[0;34m]\u001b[0m\u001b[0;34m\u001b[0m\u001b[0;34m\u001b[0m\u001b[0m\n\u001b[0m\u001b[1;32m     29\u001b[0m     \u001b[0;32mif\u001b[0m \u001b[0mnormalize\u001b[0m\u001b[0;34m:\u001b[0m\u001b[0;34m\u001b[0m\u001b[0;34m\u001b[0m\u001b[0m\n\u001b[1;32m     30\u001b[0m         \u001b[0mcm\u001b[0m \u001b[0;34m=\u001b[0m \u001b[0mcm\u001b[0m\u001b[0;34m.\u001b[0m\u001b[0mastype\u001b[0m\u001b[0;34m(\u001b[0m\u001b[0;34m'float'\u001b[0m\u001b[0;34m)\u001b[0m \u001b[0;34m/\u001b[0m \u001b[0mcm\u001b[0m\u001b[0;34m.\u001b[0m\u001b[0msum\u001b[0m\u001b[0;34m(\u001b[0m\u001b[0maxis\u001b[0m\u001b[0;34m=\u001b[0m\u001b[0;36m1\u001b[0m\u001b[0;34m)\u001b[0m\u001b[0;34m[\u001b[0m\u001b[0;34m:\u001b[0m\u001b[0;34m,\u001b[0m \u001b[0mnp\u001b[0m\u001b[0;34m.\u001b[0m\u001b[0mnewaxis\u001b[0m\u001b[0;34m]\u001b[0m\u001b[0;34m\u001b[0m\u001b[0;34m\u001b[0m\u001b[0m\n",
            "\u001b[0;31mIndexError\u001b[0m: index 8 is out of bounds for axis 0 with size 8"
          ]
        }
      ]
    }
  ],
  "metadata": {
    "colab": {
      "collapsed_sections": [
        "f857kfHqUk0-"
      ],
      "name": "Regresion_Multi_Class_MD_LSTM_step_200_files_120.ipynb",
      "provenance": [],
      "include_colab_link": true
    },
    "kernelspec": {
      "display_name": "Python 3",
      "name": "python3"
    },
    "language_info": {
      "name": "python"
    },
    "accelerator": "GPU"
  },
  "nbformat": 4,
  "nbformat_minor": 0
}