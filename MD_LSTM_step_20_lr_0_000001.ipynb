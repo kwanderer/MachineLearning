{
  "cells": [
    {
      "cell_type": "markdown",
      "metadata": {
        "id": "view-in-github",
        "colab_type": "text"
      },
      "source": [
        "<a href=\"https://colab.research.google.com/github/kwanderer/MachineLearning/blob/main/MD_LSTM_step_20_lr_0_000001.ipynb\" target=\"_parent\"><img src=\"https://colab.research.google.com/assets/colab-badge.svg\" alt=\"Open In Colab\"/></a>"
      ]
    },
    {
      "cell_type": "markdown",
      "metadata": {
        "id": "f857kfHqUk0-"
      },
      "source": [
        "\n",
        "\n",
        "#Datu kopa"
      ]
    },
    {
      "cell_type": "markdown",
      "metadata": {
        "id": "nM9WE3QGUwVi"
      },
      "source": [
        "Datu kopas avots: https://www.kaggle.com/uysalserkan/fault-induction-motor-dataset"
      ]
    },
    {
      "cell_type": "markdown",
      "metadata": {
        "id": "_sN_h3qHHy6r"
      },
      "source": [
        "Darbā tiek izmantota indukcijas motora parametru datu bāze. Izmantotajā datu kopā ir dati, kas tika iegūti SpectraQuest aparatūras kļūdu simulatorā (Machinery Fault Simulator).\n",
        "\n",
        "Katra mērījumu secība tika ģenerēta ar frekvenci 50 kHz 5 sekunžu laikā, kopā 250 000 mērījumi.\n",
        "\n",
        "Dati ir apkopoti vairākos failos, dažādos darbības stāvokļos un to apjoms ir ļoti liels. Šajā darbā tika izmantota daļa(viena mērījumu secība) no motora normālas darbības datiem.\n"
      ]
    },
    {
      "cell_type": "markdown",
      "metadata": {
        "id": "KtFAOaHYHLPo"
      },
      "source": [
        "Dati ir apkopoti tabulā, kura satur 8 parametrus. Dati ir iedalīti sekojošās kolonas:\n",
        "\n",
        "**tachometer** – tahometra signāls, kas ļauj novērtēt rotācijas frekvenci\n",
        "\n",
        "**und-accelerometer-axial** - apakšā esošā gultņa akselerometrs (aksiālais virziens)\n",
        "\n",
        "**und-accelerometer-radial** – apakšā esošā gultņa akselerometrs (radiālais virziens)\n",
        "\n",
        "**und-accelerometer-tangential** - apakšā esošā gultņa akselerometrs (tangenciālais virziens)\n",
        "\n",
        "**over-accelerometer-axial** - pārkares gultņa akselerometrs (aksiālais virziens)\n",
        "\n",
        "**over-accelerometer-radial** – pārkares gultņa akselerometrs (radiālais  virziens)\n",
        "\n",
        "**over-accelerometer-tangential**  - pārkares gultņa akselerometrs (tangenciālais virziens)\n",
        "\n",
        "**microphone** – mikrofona vērtība\n"
      ]
    },
    {
      "cell_type": "markdown",
      "metadata": {
        "id": "XymoNLKMVFUC"
      },
      "source": [
        "#Datu ielasīšana un satura vizualizācija"
      ]
    },
    {
      "cell_type": "code",
      "execution_count": 1,
      "metadata": {
        "id": "_yqYZDeOFq5s"
      },
      "outputs": [],
      "source": [
        "import keras\n",
        "from keras.layers import LSTM, Dropout, Dense\n",
        "import tensorflow as tf\n",
        "import numpy as np\n",
        "import pandas as pd\n",
        "\n",
        "from sklearn import linear_model  #pip install sklearn - loti plasa masinapmacibas biblioteka\n",
        "from sklearn.linear_model import LinearRegression  \n",
        "import csv          #pip install csv - darbam ar CSV datu kopam\n",
        "import requests     #pip install requests  - vienkarsakam darbam ar tiessaistes CSV datu kopam tiessaistes\n",
        "\n",
        "import matplotlib\n",
        "import matplotlib.pyplot as plt\n",
        "\n",
        "import glob\n"
      ]
    },
    {
      "cell_type": "code",
      "execution_count": 2,
      "metadata": {
        "id": "wlRTBbM2eUcV",
        "colab": {
          "base_uri": "https://localhost:8080/"
        },
        "outputId": "4bcae15a-53cf-4487-88c2-3292269d34da"
      },
      "outputs": [
        {
          "output_type": "stream",
          "name": "stdout",
          "text": [
            "Mounted at /content/gdrive\n"
          ]
        }
      ],
      "source": [
        "from google.colab import drive\n",
        "import os\n",
        "drive.mount('/content/gdrive')\n",
        "os.chdir(\"/content/gdrive/MyDrive/Colab Notebooks/data/motor/\")"
      ]
    },
    {
      "cell_type": "code",
      "execution_count": 3,
      "metadata": {
        "id": "zzz6fBl_SNom"
      },
      "outputs": [],
      "source": [
        "#extension = 'csv'\n",
        "#all_filenames = [i for i in glob.glob('*.{}'.format(extension))]"
      ]
    },
    {
      "cell_type": "code",
      "execution_count": 4,
      "metadata": {
        "id": "vagKFCkToBi0"
      },
      "outputs": [],
      "source": [
        "#combine all files in the list\n",
        "#combined_csv = pd.concat([pd.read_csv(f) for f in all_filenames ])\n",
        "#export to csv\n",
        "#combined_csv.to_csv( \"combined_csv.csv\", index=False, encoding='utf-8-sig')"
      ]
    },
    {
      "cell_type": "code",
      "execution_count": 5,
      "metadata": {
        "id": "encEkbDhSfGI"
      },
      "outputs": [],
      "source": [
        "data = pd.read_csv(\"combined_csv.csv\")"
      ]
    },
    {
      "cell_type": "code",
      "execution_count": 6,
      "metadata": {
        "id": "yz5Qe8ZWk1Zq",
        "colab": {
          "base_uri": "https://localhost:8080/"
        },
        "outputId": "f04ea9c1-3598-4ca4-a4a8-a6ccc69af693"
      },
      "outputs": [
        {
          "output_type": "stream",
          "name": "stdout",
          "text": [
            "<class 'pandas.core.frame.DataFrame'>\n",
            "RangeIndex: 500000 entries, 0 to 499999\n",
            "Data columns (total 9 columns):\n",
            " #   Column                         Non-Null Count   Dtype  \n",
            "---  ------                         --------------   -----  \n",
            " 0   tachometer                     500000 non-null  float64\n",
            " 1   und-accelerometer-axial        500000 non-null  float64\n",
            " 2   und-accelerometer-radial       500000 non-null  float64\n",
            " 3   und-accelerometer-tangential   500000 non-null  float64\n",
            " 4   over-accelerometer-axial       500000 non-null  float64\n",
            " 5   over-accelerometer-radial      500000 non-null  float64\n",
            " 6   over-accelerometer-tangential  500000 non-null  float64\n",
            " 7   microphone                     500000 non-null  float64\n",
            " 8   Class                          500000 non-null  int64  \n",
            "dtypes: float64(8), int64(1)\n",
            "memory usage: 34.3 MB\n"
          ]
        }
      ],
      "source": [
        "data.info()"
      ]
    },
    {
      "cell_type": "code",
      "execution_count": 7,
      "metadata": {
        "id": "WUW9ezX6a_st",
        "colab": {
          "base_uri": "https://localhost:8080/"
        },
        "outputId": "27770699-a97b-4f64-a6d4-ab5651b71611"
      },
      "outputs": [
        {
          "output_type": "execute_result",
          "data": {
            "text/plain": [
              "500000"
            ]
          },
          "metadata": {},
          "execution_count": 7
        }
      ],
      "source": [
        "rec_count = len(data)\n",
        "rec_count"
      ]
    },
    {
      "cell_type": "markdown",
      "source": [
        "# Datu dalīšana mazākos gabalos"
      ],
      "metadata": {
        "id": "6RVC1PZy88fC"
      }
    },
    {
      "cell_type": "code",
      "execution_count": 8,
      "metadata": {
        "id": "DOvnCYkcbGaE"
      },
      "outputs": [],
      "source": [
        "sequence_length = 200"
      ]
    },
    {
      "cell_type": "code",
      "execution_count": 9,
      "metadata": {
        "id": "RG0o2L3zbTEx"
      },
      "outputs": [],
      "source": [
        "def generate_data(X, y, sequence_length = 200, step = 20):\n",
        "    X_local = []\n",
        "    y_local = []\n",
        "    for start in range(0, len(data) - sequence_length, step):\n",
        "        end = start + sequence_length\n",
        "        X_local.append(X[start:end])\n",
        "        y_local.append(y[end-1])\n",
        "    return np.array(X_local), np.array(y_local)\n",
        "\n",
        "X_sequence, y = generate_data(data.loc[:, \"tachometer\":\"microphone\"].values, data.Class)"
      ]
    },
    {
      "cell_type": "code",
      "execution_count": 10,
      "metadata": {
        "id": "s0QxwK66cLVF",
        "colab": {
          "base_uri": "https://localhost:8080/"
        },
        "outputId": "0ddf78fd-4148-49a7-ebe6-ae8decca9273"
      },
      "outputs": [
        {
          "output_type": "execute_result",
          "data": {
            "text/plain": [
              "((24990, 200, 8), (24990,))"
            ]
          },
          "metadata": {},
          "execution_count": 10
        }
      ],
      "source": [
        "X_sequence.shape, y.shape"
      ]
    },
    {
      "cell_type": "markdown",
      "source": [
        "# Random/Shuffle"
      ],
      "metadata": {
        "id": "5BXSDoHa9UX_"
      }
    },
    {
      "cell_type": "code",
      "source": [
        "shuffler = np.random.permutation(len(X_sequence))\n",
        "X_sequence_shuffled = X_sequence[shuffler]\n",
        "y_shuffled = y[shuffler]"
      ],
      "metadata": {
        "id": "ZcfE9idy-ckb"
      },
      "execution_count": 11,
      "outputs": []
    },
    {
      "cell_type": "markdown",
      "source": [
        "# LSTM"
      ],
      "metadata": {
        "id": "TfhRTTNcE2s8"
      }
    },
    {
      "cell_type": "code",
      "execution_count": 12,
      "metadata": {
        "id": "PjKWKiA6aH3z",
        "colab": {
          "base_uri": "https://localhost:8080/"
        },
        "outputId": "38107591-f39c-45e1-c6e7-f42d6c6643aa"
      },
      "outputs": [
        {
          "output_type": "stream",
          "name": "stderr",
          "text": [
            "/usr/local/lib/python3.7/dist-packages/keras/optimizer_v2/gradient_descent.py:102: UserWarning: The `lr` argument is deprecated, use `learning_rate` instead.\n",
            "  super(SGD, self).__init__(name, **kwargs)\n"
          ]
        },
        {
          "output_type": "stream",
          "name": "stdout",
          "text": [
            "Model: \"sequential\"\n",
            "_________________________________________________________________\n",
            " Layer (type)                Output Shape              Param #   \n",
            "=================================================================\n",
            " lstm (LSTM)                 (None, 100)               43600     \n",
            "                                                                 \n",
            " dropout (Dropout)           (None, 100)               0         \n",
            "                                                                 \n",
            " dense (Dense)               (None, 1)                 101       \n",
            "                                                                 \n",
            "=================================================================\n",
            "Total params: 43,701\n",
            "Trainable params: 43,701\n",
            "Non-trainable params: 0\n",
            "_________________________________________________________________\n"
          ]
        }
      ],
      "source": [
        "from tensorflow.keras import optimizers\n",
        "sgd = optimizers.SGD(lr=0.000001, decay=1e-6, momentum=0.9, nesterov=True)\n",
        "model = keras.Sequential()\n",
        "model.add(LSTM(100, input_shape = (200, 8)))\n",
        "model.add(Dropout(0.5))\n",
        "model.add(Dense(1, activation=\"sigmoid\"))\n",
        "\n",
        "#model.compile(loss='mean_squared_error', optimizer=sgd)\n",
        "model.compile(loss=\"binary_crossentropy\"\n",
        "              , metrics=[keras.metrics.binary_accuracy]\n",
        "              , optimizer=sgd)\n",
        "\n",
        "model.summary()"
      ]
    },
    {
      "cell_type": "code",
      "execution_count": 13,
      "metadata": {
        "id": "tg8wrqsqc8UX"
      },
      "outputs": [],
      "source": [
        "training_size = int(len(X_sequence) * 0.7)"
      ]
    },
    {
      "cell_type": "code",
      "execution_count": 14,
      "metadata": {
        "id": "avIp3TEKc-qF"
      },
      "outputs": [],
      "source": [
        "X_train, y_train = X_sequence_shuffled[:training_size], y_shuffled[:training_size]\n",
        "X_test, y_test = X_sequence_shuffled[training_size:], y_shuffled[training_size:]"
      ]
    },
    {
      "cell_type": "code",
      "execution_count": 15,
      "metadata": {
        "id": "cen4faX0dFJP",
        "colab": {
          "base_uri": "https://localhost:8080/"
        },
        "outputId": "ce59bdc6-7449-48d2-c5ed-3fec2851f81b"
      },
      "outputs": [
        {
          "output_type": "stream",
          "name": "stdout",
          "text": [
            "Epoch 1/50\n",
            "274/274 [==============================] - 61s 214ms/step - loss: 0.6923 - binary_accuracy: 0.4657 - val_loss: 0.6848 - val_binary_accuracy: 0.4570\n",
            "Epoch 2/50\n",
            "274/274 [==============================] - 58s 211ms/step - loss: 0.6922 - binary_accuracy: 0.4678 - val_loss: 0.6844 - val_binary_accuracy: 0.4597\n",
            "Epoch 3/50\n",
            "274/274 [==============================] - 58s 212ms/step - loss: 0.6899 - binary_accuracy: 0.4780 - val_loss: 0.6840 - val_binary_accuracy: 0.4618\n",
            "Epoch 4/50\n",
            "274/274 [==============================] - 58s 212ms/step - loss: 0.6932 - binary_accuracy: 0.4695 - val_loss: 0.6836 - val_binary_accuracy: 0.4649\n",
            "Epoch 5/50\n",
            "274/274 [==============================] - 58s 212ms/step - loss: 0.6904 - binary_accuracy: 0.4733 - val_loss: 0.6831 - val_binary_accuracy: 0.4675\n",
            "Epoch 6/50\n",
            "274/274 [==============================] - 58s 211ms/step - loss: 0.6895 - binary_accuracy: 0.4716 - val_loss: 0.6827 - val_binary_accuracy: 0.4690\n",
            "Epoch 7/50\n",
            "274/274 [==============================] - 58s 211ms/step - loss: 0.6899 - binary_accuracy: 0.4758 - val_loss: 0.6823 - val_binary_accuracy: 0.4717\n",
            "Epoch 8/50\n",
            "274/274 [==============================] - 58s 211ms/step - loss: 0.6898 - binary_accuracy: 0.4765 - val_loss: 0.6819 - val_binary_accuracy: 0.4753\n",
            "Epoch 9/50\n",
            "274/274 [==============================] - 58s 211ms/step - loss: 0.6905 - binary_accuracy: 0.4749 - val_loss: 0.6815 - val_binary_accuracy: 0.4782\n",
            "Epoch 10/50\n",
            "274/274 [==============================] - 58s 212ms/step - loss: 0.6902 - binary_accuracy: 0.4775 - val_loss: 0.6811 - val_binary_accuracy: 0.4803\n",
            "Epoch 11/50\n",
            "274/274 [==============================] - 58s 212ms/step - loss: 0.6896 - binary_accuracy: 0.4762 - val_loss: 0.6807 - val_binary_accuracy: 0.4831\n",
            "Epoch 12/50\n",
            "274/274 [==============================] - 58s 212ms/step - loss: 0.6872 - binary_accuracy: 0.4831 - val_loss: 0.6803 - val_binary_accuracy: 0.4857\n",
            "Epoch 13/50\n",
            "274/274 [==============================] - 58s 212ms/step - loss: 0.6871 - binary_accuracy: 0.4844 - val_loss: 0.6799 - val_binary_accuracy: 0.4878\n",
            "Epoch 14/50\n",
            "274/274 [==============================] - 58s 211ms/step - loss: 0.6866 - binary_accuracy: 0.4850 - val_loss: 0.6795 - val_binary_accuracy: 0.4902\n",
            "Epoch 15/50\n",
            "274/274 [==============================] - 58s 212ms/step - loss: 0.6865 - binary_accuracy: 0.4855 - val_loss: 0.6791 - val_binary_accuracy: 0.4917\n",
            "Epoch 16/50\n",
            "274/274 [==============================] - 58s 212ms/step - loss: 0.6863 - binary_accuracy: 0.4867 - val_loss: 0.6787 - val_binary_accuracy: 0.4934\n",
            "Epoch 17/50\n",
            "274/274 [==============================] - 58s 211ms/step - loss: 0.6864 - binary_accuracy: 0.4879 - val_loss: 0.6784 - val_binary_accuracy: 0.4957\n",
            "Epoch 18/50\n",
            "274/274 [==============================] - 58s 212ms/step - loss: 0.6839 - binary_accuracy: 0.4917 - val_loss: 0.6780 - val_binary_accuracy: 0.4979\n",
            "Epoch 19/50\n",
            "274/274 [==============================] - 58s 211ms/step - loss: 0.6848 - binary_accuracy: 0.4907 - val_loss: 0.6776 - val_binary_accuracy: 0.5007\n",
            "Epoch 20/50\n",
            "274/274 [==============================] - 58s 212ms/step - loss: 0.6842 - binary_accuracy: 0.4939 - val_loss: 0.6772 - val_binary_accuracy: 0.5037\n",
            "Epoch 21/50\n",
            "274/274 [==============================] - 58s 213ms/step - loss: 0.6844 - binary_accuracy: 0.4925 - val_loss: 0.6768 - val_binary_accuracy: 0.5062\n",
            "Epoch 22/50\n",
            "274/274 [==============================] - 58s 211ms/step - loss: 0.6819 - binary_accuracy: 0.5008 - val_loss: 0.6764 - val_binary_accuracy: 0.5093\n",
            "Epoch 23/50\n",
            "274/274 [==============================] - 58s 211ms/step - loss: 0.6843 - binary_accuracy: 0.4951 - val_loss: 0.6760 - val_binary_accuracy: 0.5117\n",
            "Epoch 24/50\n",
            "274/274 [==============================] - 58s 211ms/step - loss: 0.6830 - binary_accuracy: 0.4981 - val_loss: 0.6756 - val_binary_accuracy: 0.5141\n",
            "Epoch 25/50\n",
            "274/274 [==============================] - 58s 212ms/step - loss: 0.6831 - binary_accuracy: 0.4973 - val_loss: 0.6753 - val_binary_accuracy: 0.5175\n",
            "Epoch 26/50\n",
            "274/274 [==============================] - 58s 213ms/step - loss: 0.6816 - binary_accuracy: 0.5053 - val_loss: 0.6749 - val_binary_accuracy: 0.5198\n",
            "Epoch 27/50\n",
            "274/274 [==============================] - 58s 212ms/step - loss: 0.6829 - binary_accuracy: 0.5014 - val_loss: 0.6745 - val_binary_accuracy: 0.5234\n",
            "Epoch 28/50\n",
            "274/274 [==============================] - 58s 212ms/step - loss: 0.6826 - binary_accuracy: 0.5028 - val_loss: 0.6741 - val_binary_accuracy: 0.5251\n",
            "Epoch 29/50\n",
            "274/274 [==============================] - 58s 211ms/step - loss: 0.6823 - binary_accuracy: 0.5045 - val_loss: 0.6737 - val_binary_accuracy: 0.5271\n",
            "Epoch 30/50\n",
            "274/274 [==============================] - 58s 212ms/step - loss: 0.6796 - binary_accuracy: 0.5041 - val_loss: 0.6733 - val_binary_accuracy: 0.5305\n",
            "Epoch 31/50\n",
            "274/274 [==============================] - 58s 212ms/step - loss: 0.6806 - binary_accuracy: 0.5082 - val_loss: 0.6730 - val_binary_accuracy: 0.5327\n",
            "Epoch 32/50\n",
            "274/274 [==============================] - 58s 212ms/step - loss: 0.6797 - binary_accuracy: 0.5108 - val_loss: 0.6726 - val_binary_accuracy: 0.5354\n",
            "Epoch 33/50\n",
            "274/274 [==============================] - 58s 212ms/step - loss: 0.6804 - binary_accuracy: 0.5104 - val_loss: 0.6722 - val_binary_accuracy: 0.5389\n",
            "Epoch 34/50\n",
            "274/274 [==============================] - 58s 212ms/step - loss: 0.6793 - binary_accuracy: 0.5095 - val_loss: 0.6718 - val_binary_accuracy: 0.5411\n",
            "Epoch 35/50\n",
            "274/274 [==============================] - 58s 212ms/step - loss: 0.6777 - binary_accuracy: 0.5167 - val_loss: 0.6715 - val_binary_accuracy: 0.5434\n",
            "Epoch 36/50\n",
            "274/274 [==============================] - 58s 211ms/step - loss: 0.6783 - binary_accuracy: 0.5147 - val_loss: 0.6711 - val_binary_accuracy: 0.5460\n",
            "Epoch 37/50\n",
            "274/274 [==============================] - 58s 213ms/step - loss: 0.6791 - binary_accuracy: 0.5132 - val_loss: 0.6707 - val_binary_accuracy: 0.5488\n",
            "Epoch 38/50\n",
            "274/274 [==============================] - 58s 212ms/step - loss: 0.6766 - binary_accuracy: 0.5187 - val_loss: 0.6703 - val_binary_accuracy: 0.5504\n",
            "Epoch 39/50\n",
            "274/274 [==============================] - 58s 212ms/step - loss: 0.6772 - binary_accuracy: 0.5206 - val_loss: 0.6700 - val_binary_accuracy: 0.5538\n",
            "Epoch 40/50\n",
            "274/274 [==============================] - 58s 212ms/step - loss: 0.6770 - binary_accuracy: 0.5197 - val_loss: 0.6696 - val_binary_accuracy: 0.5561\n",
            "Epoch 41/50\n",
            "274/274 [==============================] - 58s 212ms/step - loss: 0.6780 - binary_accuracy: 0.5215 - val_loss: 0.6692 - val_binary_accuracy: 0.5592\n",
            "Epoch 42/50\n",
            "274/274 [==============================] - 58s 212ms/step - loss: 0.6769 - binary_accuracy: 0.5224 - val_loss: 0.6689 - val_binary_accuracy: 0.5620\n",
            "Epoch 43/50\n",
            "274/274 [==============================] - 58s 213ms/step - loss: 0.6769 - binary_accuracy: 0.5233 - val_loss: 0.6685 - val_binary_accuracy: 0.5642\n",
            "Epoch 44/50\n",
            "274/274 [==============================] - 58s 212ms/step - loss: 0.6745 - binary_accuracy: 0.5234 - val_loss: 0.6681 - val_binary_accuracy: 0.5670\n",
            "Epoch 45/50\n",
            "274/274 [==============================] - 58s 212ms/step - loss: 0.6742 - binary_accuracy: 0.5324 - val_loss: 0.6678 - val_binary_accuracy: 0.5705\n",
            "Epoch 46/50\n",
            "274/274 [==============================] - 58s 212ms/step - loss: 0.6755 - binary_accuracy: 0.5304 - val_loss: 0.6674 - val_binary_accuracy: 0.5726\n",
            "Epoch 47/50\n",
            "274/274 [==============================] - 59s 214ms/step - loss: 0.6750 - binary_accuracy: 0.5315 - val_loss: 0.6670 - val_binary_accuracy: 0.5749\n",
            "Epoch 48/50\n",
            "274/274 [==============================] - 58s 213ms/step - loss: 0.6731 - binary_accuracy: 0.5351 - val_loss: 0.6667 - val_binary_accuracy: 0.5777\n",
            "Epoch 49/50\n",
            "274/274 [==============================] - 58s 212ms/step - loss: 0.6741 - binary_accuracy: 0.5306 - val_loss: 0.6663 - val_binary_accuracy: 0.5804\n",
            "Epoch 50/50\n",
            "274/274 [==============================] - 58s 212ms/step - loss: 0.6733 - binary_accuracy: 0.5360 - val_loss: 0.6660 - val_binary_accuracy: 0.5830\n"
          ]
        }
      ],
      "source": [
        "history = model.fit(X_train, y_train, batch_size=64, epochs=50, validation_data=(X_test, y_test))"
      ]
    },
    {
      "cell_type": "code",
      "execution_count": 16,
      "metadata": {
        "id": "R7QQeqVidKBR",
        "colab": {
          "base_uri": "https://localhost:8080/"
        },
        "outputId": "1a58b905-5590-40c9-fcf4-c99711e853ff"
      },
      "outputs": [
        {
          "output_type": "stream",
          "name": "stdout",
          "text": [
            "235/235 [==============================] - 10s 42ms/step - loss: 0.6660 - binary_accuracy: 0.5830\n"
          ]
        },
        {
          "output_type": "execute_result",
          "data": {
            "text/plain": [
              "[0.665952205657959, 0.5830332040786743]"
            ]
          },
          "metadata": {},
          "execution_count": 16
        }
      ],
      "source": [
        "model.evaluate(X_test, y_test)"
      ]
    },
    {
      "cell_type": "code",
      "execution_count": 17,
      "metadata": {
        "id": "OHpifyqGdKn-",
        "colab": {
          "base_uri": "https://localhost:8080/"
        },
        "outputId": "d984455f-7584-449f-e260-a6c663716cad"
      },
      "outputs": [
        {
          "output_type": "stream",
          "name": "stdout",
          "text": [
            "235/235 [==============================] - 10s 42ms/step\n"
          ]
        }
      ],
      "source": [
        "y_test_prob = model.predict(X_test, verbose=1)"
      ]
    },
    {
      "cell_type": "code",
      "execution_count": 18,
      "metadata": {
        "id": "AfmdrBILdMwj"
      },
      "outputs": [],
      "source": [
        "y_test_pred = np.where(y_test_prob > 0.5, 1, 0)"
      ]
    },
    {
      "cell_type": "code",
      "execution_count": 19,
      "metadata": {
        "id": "8DoJy_p9dPzN"
      },
      "outputs": [],
      "source": [
        "from sklearn.metrics import confusion_matrix"
      ]
    },
    {
      "cell_type": "code",
      "execution_count": 20,
      "metadata": {
        "id": "fTCsPjW8dQaZ",
        "colab": {
          "base_uri": "https://localhost:8080/"
        },
        "outputId": "8592b317-f5bd-449b-e111-30de67107726"
      },
      "outputs": [
        {
          "output_type": "execute_result",
          "data": {
            "text/plain": [
              "array([[1694, 2033],\n",
              "       [1093, 2677]])"
            ]
          },
          "metadata": {},
          "execution_count": 20
        }
      ],
      "source": [
        "confusion_matrix(y_test, y_test_pred)"
      ]
    },
    {
      "cell_type": "code",
      "execution_count": 21,
      "metadata": {
        "id": "te3fslrY9Eca",
        "colab": {
          "base_uri": "https://localhost:8080/",
          "height": 685
        },
        "outputId": "98098123-a786-419c-aa6c-15942c1c916c"
      },
      "outputs": [
        {
          "output_type": "stream",
          "name": "stdout",
          "text": [
            "Confusion matrix, without normalization\n",
            "[[1694 2033]\n",
            " [1093 2677]]\n",
            "Normalized confusion matrix\n",
            "[[0.45 0.55]\n",
            " [0.29 0.71]]\n"
          ]
        },
        {
          "output_type": "display_data",
          "data": {
            "text/plain": [
              "<Figure size 432x288 with 2 Axes>"
            ],
            "image/png": "[encoded data removed]"
          },
          "metadata": {
            "needs_background": "light"
          }
        },
        {
          "output_type": "display_data",
          "data": {
            "text/plain": [
              "<Figure size 432x288 with 2 Axes>"
            ],
            "image/png": "[encoded data removed]"
          },
          "metadata": {
            "needs_background": "light"
          }
        }
      ],
      "source": [
        "import numpy as np\n",
        "import matplotlib.pyplot as plt\n",
        "\n",
        "from sklearn import svm, datasets\n",
        "from sklearn.model_selection import train_test_split\n",
        "from sklearn.metrics import confusion_matrix\n",
        "from sklearn.utils.multiclass import unique_labels\n",
        "\n",
        "class_names = np.array(['0', '1'])\n",
        "\n",
        "def plot_confusion_matrix(y_true, y_pred, classes,\n",
        "                          normalize=False,\n",
        "                          title=None,\n",
        "                          cmap=plt.cm.Blues):\n",
        "    \"\"\"\n",
        "    This function prints and plots the confusion matrix.\n",
        "    Normalization can be applied by setting `normalize=True`.\n",
        "    \"\"\"\n",
        "    if not title:\n",
        "        if normalize:\n",
        "            title = 'Normalized confusion matrix'\n",
        "        else:\n",
        "            title = 'Confusion matrix, without normalization'\n",
        "\n",
        "    # Compute confusion matrix\n",
        "    cm = confusion_matrix(y_true, y_pred)\n",
        "    # Only use the labels that appear in the data\n",
        "    classes = classes[unique_labels(y_true, y_pred)]\n",
        "    if normalize:\n",
        "        cm = cm.astype('float') / cm.sum(axis=1)[:, np.newaxis]\n",
        "        print(\"Normalized confusion matrix\")\n",
        "    else:\n",
        "        print('Confusion matrix, without normalization')\n",
        "\n",
        "    print(cm)\n",
        "\n",
        "    fig, ax = plt.subplots()\n",
        "    im = ax.imshow(cm, interpolation='nearest', cmap=cmap)\n",
        "    ax.figure.colorbar(im, ax=ax)\n",
        "    # We want to show all ticks...\n",
        "    ax.set(xticks=np.arange(cm.shape[1]),\n",
        "           yticks=np.arange(cm.shape[0]),\n",
        "           # ... and label them with the respective list entries\n",
        "           xticklabels=classes, yticklabels=classes,\n",
        "           title=title,\n",
        "           ylabel='True label',\n",
        "           xlabel='Predicted label')\n",
        "\n",
        "    # Rotate the tick labels and set their alignment.\n",
        "    plt.setp(ax.get_xticklabels(), rotation=45, ha=\"right\",\n",
        "             rotation_mode=\"anchor\")\n",
        "\n",
        "    # Loop over data dimensions and create text annotations.\n",
        "    fmt = '.2f' if normalize else 'd'\n",
        "    thresh = cm.max() / 2.\n",
        "    for i in range(cm.shape[0]):\n",
        "        for j in range(cm.shape[1]):\n",
        "            ax.text(j, i, format(cm[i, j], fmt),\n",
        "                    ha=\"center\", va=\"center\",\n",
        "                    color=\"white\" if cm[i, j] > thresh else \"black\")\n",
        "    fig.tight_layout()\n",
        "\n",
        "    return ax\n",
        "\n",
        "\n",
        "np.set_printoptions(precision=2)\n",
        "\n",
        "# Plot non-normalized confusion matrix\n",
        "plot_confusion_matrix(y_test, y_test_pred, classes=class_names,\n",
        "                      title='Confusion matrix, without normalization')\n",
        "\n",
        "# Plot normalized confusion matrix\n",
        "plot_confusion_matrix(y_test, y_test_pred, classes=class_names, normalize=True,\n",
        "                      title='Normalized confusion matrix')\n",
        "\n",
        "plt.show()"
      ]
    },
    {
      "cell_type": "code",
      "source": [
        "def plot_learningCurve(history, epoch):\n",
        "  # Plot training & validation accuracy values\n",
        "  epoch_range = range(1, epoch+1)\n",
        "  plt.plot(epoch_range, history.history['binary_accuracy'])\n",
        "  plt.plot(epoch_range, history.history['val_binary_accuracy'])\n",
        "  plt.title('Model accuracy')\n",
        "  plt.ylabel('Accuracy')\n",
        "  plt.xlabel('Epoch')\n",
        "  plt.legend(['Train', 'Val'], loc='upper left')\n",
        "  plt.show()\n",
        "\n",
        "  # Plot training & validation loss values\n",
        "  plt.plot(epoch_range, history.history['loss'])\n",
        "  plt.plot(epoch_range, history.history['val_loss'])\n",
        "  plt.title('Model loss')\n",
        "  plt.ylabel('Loss')\n",
        "  plt.xlabel('Epoch')\n",
        "  plt.legend(['Train', 'Val'], loc='upper left')\n",
        "  plt.show()"
      ],
      "metadata": {
        "id": "fhdLAhgPUnH3"
      },
      "execution_count": 22,
      "outputs": []
    },
    {
      "cell_type": "code",
      "source": [
        "plot_learningCurve(history, 50)"
      ],
      "metadata": {
        "id": "WlkQkWHgU5mL",
        "colab": {
          "base_uri": "https://localhost:8080/",
          "height": 573
        },
        "outputId": "3d5cc8ba-faaf-4dec-d7b5-61c0c1b91443"
      },
      "execution_count": 23,
      "outputs": [
        {
          "output_type": "display_data",
          "data": {
            "text/plain": [
              "<Figure size 432x288 with 1 Axes>"
            ],
            "image/png": "[encoded data removed]"
          },
          "metadata": {
            "needs_background": "light"
          }
        },
        {
          "output_type": "display_data",
          "data": {
            "text/plain": [
              "<Figure size 432x288 with 1 Axes>"
            ],
            "image/png": "[encoded data removed]"
          },
          "metadata": {
            "needs_background": "light"
          }
        }
      ]
    }
  ],
  "metadata": {
    "colab": {
      "collapsed_sections": [
        "f857kfHqUk0-"
      ],
      "name": "MD LSTM step 20.ipynb",
      "provenance": [],
      "authorship_tag": "ABX9TyMLw+1GiEA4Bg48cxwWd0d9",
      "include_colab_link": true
    },
    "kernelspec": {
      "display_name": "Python 3",
      "name": "python3"
    },
    "language_info": {
      "name": "python"
    }
  },
  "nbformat": 4,
  "nbformat_minor": 0
}