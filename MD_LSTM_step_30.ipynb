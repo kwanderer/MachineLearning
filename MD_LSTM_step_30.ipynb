{
  "cells": [
    {
      "cell_type": "markdown",
      "metadata": {
        "id": "view-in-github",
        "colab_type": "text"
      },
      "source": [
        "<a href=\"https://colab.research.google.com/github/kwanderer/MachineLearning/blob/main/MD_LSTM_step_30.ipynb\" target=\"_parent\"><img src=\"https://colab.research.google.com/assets/colab-badge.svg\" alt=\"Open In Colab\"/></a>"
      ]
    },
    {
      "cell_type": "markdown",
      "metadata": {
        "id": "f857kfHqUk0-"
      },
      "source": [
        "\n",
        "\n",
        "#Datu kopa"
      ]
    },
    {
      "cell_type": "markdown",
      "metadata": {
        "id": "nM9WE3QGUwVi"
      },
      "source": [
        "Datu kopas avots: https://www.kaggle.com/uysalserkan/fault-induction-motor-dataset"
      ]
    },
    {
      "cell_type": "markdown",
      "metadata": {
        "id": "_sN_h3qHHy6r"
      },
      "source": [
        "Darbā tiek izmantota indukcijas motora parametru datu bāze. Izmantotajā datu kopā ir dati, kas tika iegūti SpectraQuest aparatūras kļūdu simulatorā (Machinery Fault Simulator).\n",
        "\n",
        "Katra mērījumu secība tika ģenerēta ar frekvenci 50 kHz 5 sekunžu laikā, kopā 250 000 mērījumi.\n",
        "\n",
        "Dati ir apkopoti vairākos failos, dažādos darbības stāvokļos un to apjoms ir ļoti liels. Šajā darbā tika izmantota daļa(viena mērījumu secība) no motora normālas darbības datiem.\n"
      ]
    },
    {
      "cell_type": "markdown",
      "metadata": {
        "id": "KtFAOaHYHLPo"
      },
      "source": [
        "Dati ir apkopoti tabulā, kura satur 8 parametrus. Dati ir iedalīti sekojošās kolonas:\n",
        "\n",
        "**tachometer** – tahometra signāls, kas ļauj novērtēt rotācijas frekvenci\n",
        "\n",
        "**und-accelerometer-axial** - apakšā esošā gultņa akselerometrs (aksiālais virziens)\n",
        "\n",
        "**und-accelerometer-radial** – apakšā esošā gultņa akselerometrs (radiālais virziens)\n",
        "\n",
        "**und-accelerometer-tangential** - apakšā esošā gultņa akselerometrs (tangenciālais virziens)\n",
        "\n",
        "**over-accelerometer-axial** - pārkares gultņa akselerometrs (aksiālais virziens)\n",
        "\n",
        "**over-accelerometer-radial** – pārkares gultņa akselerometrs (radiālais  virziens)\n",
        "\n",
        "**over-accelerometer-tangential**  - pārkares gultņa akselerometrs (tangenciālais virziens)\n",
        "\n",
        "**microphone** – mikrofona vērtība\n"
      ]
    },
    {
      "cell_type": "markdown",
      "metadata": {
        "id": "XymoNLKMVFUC"
      },
      "source": [
        "#Datu ielasīšana un satura vizualizācija"
      ]
    },
    {
      "cell_type": "code",
      "execution_count": 1,
      "metadata": {
        "id": "_yqYZDeOFq5s"
      },
      "outputs": [],
      "source": [
        "import keras\n",
        "from keras.layers import LSTM, Dropout, Dense\n",
        "import tensorflow as tf\n",
        "import numpy as np\n",
        "import pandas as pd\n",
        "\n",
        "from sklearn import linear_model  #pip install sklearn - loti plasa masinapmacibas biblioteka\n",
        "from sklearn.linear_model import LinearRegression  \n",
        "import csv          #pip install csv - darbam ar CSV datu kopam\n",
        "import requests     #pip install requests  - vienkarsakam darbam ar tiessaistes CSV datu kopam tiessaistes\n",
        "\n",
        "import matplotlib\n",
        "import matplotlib.pyplot as plt\n",
        "\n",
        "import glob\n"
      ]
    },
    {
      "cell_type": "code",
      "execution_count": 2,
      "metadata": {
        "id": "wlRTBbM2eUcV",
        "colab": {
          "base_uri": "https://localhost:8080/"
        },
        "outputId": "ecb7f469-5595-4f53-e046-58ee7374d952"
      },
      "outputs": [
        {
          "output_type": "stream",
          "name": "stdout",
          "text": [
            "Mounted at /content/gdrive\n"
          ]
        }
      ],
      "source": [
        "from google.colab import drive\n",
        "import os\n",
        "drive.mount('/content/gdrive')\n",
        "os.chdir(\"/content/gdrive/MyDrive/Colab Notebooks/data/motor/\")"
      ]
    },
    {
      "cell_type": "code",
      "execution_count": 3,
      "metadata": {
        "id": "zzz6fBl_SNom"
      },
      "outputs": [],
      "source": [
        "#extension = 'csv'\n",
        "#all_filenames = [i for i in glob.glob('*.{}'.format(extension))]"
      ]
    },
    {
      "cell_type": "code",
      "execution_count": 4,
      "metadata": {
        "id": "vagKFCkToBi0"
      },
      "outputs": [],
      "source": [
        "#combine all files in the list\n",
        "#combined_csv = pd.concat([pd.read_csv(f) for f in all_filenames ])\n",
        "#export to csv\n",
        "#combined_csv.to_csv( \"combined_csv.csv\", index=False, encoding='utf-8-sig')"
      ]
    },
    {
      "cell_type": "code",
      "execution_count": 5,
      "metadata": {
        "id": "encEkbDhSfGI"
      },
      "outputs": [],
      "source": [
        "data = pd.read_csv(\"combined_csv.csv\")"
      ]
    },
    {
      "cell_type": "code",
      "execution_count": 6,
      "metadata": {
        "id": "yz5Qe8ZWk1Zq",
        "colab": {
          "base_uri": "https://localhost:8080/"
        },
        "outputId": "17ea4b2e-8ce3-4719-b0fd-855fa092466a"
      },
      "outputs": [
        {
          "output_type": "stream",
          "name": "stdout",
          "text": [
            "<class 'pandas.core.frame.DataFrame'>\n",
            "RangeIndex: 500000 entries, 0 to 499999\n",
            "Data columns (total 9 columns):\n",
            " #   Column                         Non-Null Count   Dtype  \n",
            "---  ------                         --------------   -----  \n",
            " 0   tachometer                     500000 non-null  float64\n",
            " 1   und-accelerometer-axial        500000 non-null  float64\n",
            " 2   und-accelerometer-radial       500000 non-null  float64\n",
            " 3   und-accelerometer-tangential   500000 non-null  float64\n",
            " 4   over-accelerometer-axial       500000 non-null  float64\n",
            " 5   over-accelerometer-radial      500000 non-null  float64\n",
            " 6   over-accelerometer-tangential  500000 non-null  float64\n",
            " 7   microphone                     500000 non-null  float64\n",
            " 8   Class                          500000 non-null  int64  \n",
            "dtypes: float64(8), int64(1)\n",
            "memory usage: 34.3 MB\n"
          ]
        }
      ],
      "source": [
        "data.info()"
      ]
    },
    {
      "cell_type": "code",
      "execution_count": 7,
      "metadata": {
        "id": "WUW9ezX6a_st",
        "colab": {
          "base_uri": "https://localhost:8080/"
        },
        "outputId": "e0ba1461-7f1f-4d75-fde7-d952bf1d4c23"
      },
      "outputs": [
        {
          "output_type": "execute_result",
          "data": {
            "text/plain": [
              "500000"
            ]
          },
          "metadata": {},
          "execution_count": 7
        }
      ],
      "source": [
        "rec_count = len(data)\n",
        "rec_count"
      ]
    },
    {
      "cell_type": "markdown",
      "source": [
        "# Datu dalīšana mazākos gabalos"
      ],
      "metadata": {
        "id": "6RVC1PZy88fC"
      }
    },
    {
      "cell_type": "code",
      "execution_count": 8,
      "metadata": {
        "id": "DOvnCYkcbGaE"
      },
      "outputs": [],
      "source": [
        "sequence_length = 200"
      ]
    },
    {
      "cell_type": "code",
      "execution_count": 9,
      "metadata": {
        "id": "RG0o2L3zbTEx"
      },
      "outputs": [],
      "source": [
        "def generate_data(X, y, sequence_length = 200, step = 30):\n",
        "    X_local = []\n",
        "    y_local = []\n",
        "    for start in range(0, len(data) - sequence_length, step):\n",
        "        end = start + sequence_length\n",
        "        X_local.append(X[start:end])\n",
        "        y_local.append(y[end-1])\n",
        "    return np.array(X_local), np.array(y_local)\n",
        "\n",
        "X_sequence, y = generate_data(data.loc[:, \"tachometer\":\"microphone\"].values, data.Class)"
      ]
    },
    {
      "cell_type": "code",
      "execution_count": 10,
      "metadata": {
        "id": "s0QxwK66cLVF",
        "colab": {
          "base_uri": "https://localhost:8080/"
        },
        "outputId": "91279113-3ecb-472b-a68d-c3a89fe4f62d"
      },
      "outputs": [
        {
          "output_type": "execute_result",
          "data": {
            "text/plain": [
              "((16660, 200, 8), (16660,))"
            ]
          },
          "metadata": {},
          "execution_count": 10
        }
      ],
      "source": [
        "X_sequence.shape, y.shape"
      ]
    },
    {
      "cell_type": "markdown",
      "source": [
        "# Random/Shuffle"
      ],
      "metadata": {
        "id": "5BXSDoHa9UX_"
      }
    },
    {
      "cell_type": "code",
      "source": [
        "shuffler = np.random.permutation(len(X_sequence))\n",
        "X_sequence_shuffled = X_sequence[shuffler]\n",
        "y_shuffled = y[shuffler]"
      ],
      "metadata": {
        "id": "ZcfE9idy-ckb"
      },
      "execution_count": 11,
      "outputs": []
    },
    {
      "cell_type": "markdown",
      "source": [
        "# LSTM"
      ],
      "metadata": {
        "id": "TfhRTTNcE2s8"
      }
    },
    {
      "cell_type": "code",
      "execution_count": 12,
      "metadata": {
        "id": "PjKWKiA6aH3z",
        "colab": {
          "base_uri": "https://localhost:8080/"
        },
        "outputId": "8584e3f2-52c5-4448-bec7-6f5234cae553"
      },
      "outputs": [
        {
          "output_type": "stream",
          "name": "stdout",
          "text": [
            "Model: \"sequential\"\n",
            "_________________________________________________________________\n",
            " Layer (type)                Output Shape              Param #   \n",
            "=================================================================\n",
            " lstm (LSTM)                 (None, 100)               43600     \n",
            "                                                                 \n",
            " dropout (Dropout)           (None, 100)               0         \n",
            "                                                                 \n",
            " dense (Dense)               (None, 1)                 101       \n",
            "                                                                 \n",
            "=================================================================\n",
            "Total params: 43,701\n",
            "Trainable params: 43,701\n",
            "Non-trainable params: 0\n",
            "_________________________________________________________________\n"
          ]
        }
      ],
      "source": [
        "model = keras.Sequential()\n",
        "model.add(LSTM(100, input_shape = (200, 8)))\n",
        "model.add(Dropout(0.5))\n",
        "model.add(Dense(1, activation=\"sigmoid\"))\n",
        "model.compile(loss=\"binary_crossentropy\"\n",
        "              , metrics=[keras.metrics.binary_accuracy]\n",
        "              , optimizer=\"adam\")\n",
        "\n",
        "model.summary()"
      ]
    },
    {
      "cell_type": "code",
      "execution_count": 13,
      "metadata": {
        "id": "tg8wrqsqc8UX"
      },
      "outputs": [],
      "source": [
        "training_size = int(len(X_sequence) * 0.7)"
      ]
    },
    {
      "cell_type": "code",
      "execution_count": 14,
      "metadata": {
        "id": "avIp3TEKc-qF"
      },
      "outputs": [],
      "source": [
        "X_train, y_train = X_sequence_shuffled[:training_size], y_shuffled[:training_size]\n",
        "X_test, y_test = X_sequence_shuffled[training_size:], y_shuffled[training_size:]"
      ]
    },
    {
      "cell_type": "code",
      "execution_count": 15,
      "metadata": {
        "id": "cen4faX0dFJP",
        "colab": {
          "base_uri": "https://localhost:8080/"
        },
        "outputId": "073dd1ca-db69-488c-8fcb-a5c7894e3dc1"
      },
      "outputs": [
        {
          "output_type": "stream",
          "name": "stdout",
          "text": [
            "Epoch 1/50\n",
            "183/183 [==============================] - 43s 222ms/step - loss: 0.2297 - binary_accuracy: 0.9208 - val_loss: 0.1746 - val_binary_accuracy: 0.9536\n",
            "Epoch 2/50\n",
            "183/183 [==============================] - 38s 208ms/step - loss: 0.1771 - binary_accuracy: 0.9425 - val_loss: 0.1558 - val_binary_accuracy: 0.9536\n",
            "Epoch 3/50\n",
            "183/183 [==============================] - 38s 208ms/step - loss: 0.0941 - binary_accuracy: 0.9738 - val_loss: 0.0607 - val_binary_accuracy: 0.9840\n",
            "Epoch 4/50\n",
            "183/183 [==============================] - 38s 208ms/step - loss: 0.0991 - binary_accuracy: 0.9624 - val_loss: 0.0591 - val_binary_accuracy: 0.9836\n",
            "Epoch 5/50\n",
            "183/183 [==============================] - 38s 207ms/step - loss: 0.0624 - binary_accuracy: 0.9842 - val_loss: 0.1010 - val_binary_accuracy: 0.9730\n",
            "Epoch 6/50\n",
            "183/183 [==============================] - 38s 208ms/step - loss: 0.0653 - binary_accuracy: 0.9838 - val_loss: 0.0916 - val_binary_accuracy: 0.9696\n",
            "Epoch 7/50\n",
            "183/183 [==============================] - 38s 208ms/step - loss: 0.0623 - binary_accuracy: 0.9843 - val_loss: 0.0430 - val_binary_accuracy: 0.9898\n",
            "Epoch 8/50\n",
            "183/183 [==============================] - 38s 208ms/step - loss: 0.0774 - binary_accuracy: 0.9799 - val_loss: 0.0480 - val_binary_accuracy: 0.9876\n",
            "Epoch 9/50\n",
            "183/183 [==============================] - 38s 209ms/step - loss: 0.0529 - binary_accuracy: 0.9867 - val_loss: 0.0262 - val_binary_accuracy: 0.9934\n",
            "Epoch 10/50\n",
            "183/183 [==============================] - 38s 208ms/step - loss: 0.0375 - binary_accuracy: 0.9902 - val_loss: 0.0217 - val_binary_accuracy: 0.9944\n",
            "Epoch 11/50\n",
            "183/183 [==============================] - 38s 207ms/step - loss: 0.0324 - binary_accuracy: 0.9931 - val_loss: 0.0191 - val_binary_accuracy: 0.9956\n",
            "Epoch 12/50\n",
            "183/183 [==============================] - 38s 209ms/step - loss: 0.2447 - binary_accuracy: 0.9034 - val_loss: 0.2398 - val_binary_accuracy: 0.8936\n",
            "Epoch 13/50\n",
            "183/183 [==============================] - 38s 207ms/step - loss: 0.1748 - binary_accuracy: 0.9349 - val_loss: 0.1414 - val_binary_accuracy: 0.9566\n",
            "Epoch 14/50\n",
            "183/183 [==============================] - 38s 207ms/step - loss: 0.1154 - binary_accuracy: 0.9672 - val_loss: 0.0735 - val_binary_accuracy: 0.9772\n",
            "Epoch 15/50\n",
            "183/183 [==============================] - 38s 208ms/step - loss: 0.1117 - binary_accuracy: 0.9690 - val_loss: 0.0634 - val_binary_accuracy: 0.9860\n",
            "Epoch 16/50\n",
            "183/183 [==============================] - 38s 207ms/step - loss: 0.1599 - binary_accuracy: 0.9488 - val_loss: 0.1386 - val_binary_accuracy: 0.9494\n",
            "Epoch 17/50\n",
            "183/183 [==============================] - 38s 208ms/step - loss: 0.1166 - binary_accuracy: 0.9636 - val_loss: 0.0800 - val_binary_accuracy: 0.9788\n",
            "Epoch 18/50\n",
            "183/183 [==============================] - 38s 209ms/step - loss: 0.0667 - binary_accuracy: 0.9808 - val_loss: 0.0443 - val_binary_accuracy: 0.9890\n",
            "Epoch 19/50\n",
            "183/183 [==============================] - 38s 208ms/step - loss: 0.0408 - binary_accuracy: 0.9901 - val_loss: 0.0390 - val_binary_accuracy: 0.9902\n",
            "Epoch 20/50\n",
            "183/183 [==============================] - 38s 209ms/step - loss: 0.2067 - binary_accuracy: 0.9337 - val_loss: 0.3550 - val_binary_accuracy: 0.8371\n",
            "Epoch 21/50\n",
            "183/183 [==============================] - 38s 208ms/step - loss: 0.1559 - binary_accuracy: 0.9508 - val_loss: 0.1570 - val_binary_accuracy: 0.9512\n",
            "Epoch 22/50\n",
            "183/183 [==============================] - 38s 209ms/step - loss: 0.1220 - binary_accuracy: 0.9575 - val_loss: 0.0729 - val_binary_accuracy: 0.9666\n",
            "Epoch 23/50\n",
            "183/183 [==============================] - 38s 209ms/step - loss: 0.0535 - binary_accuracy: 0.9855 - val_loss: 0.0328 - val_binary_accuracy: 0.9914\n",
            "Epoch 24/50\n",
            "183/183 [==============================] - 38s 208ms/step - loss: 0.1740 - binary_accuracy: 0.9390 - val_loss: 0.1978 - val_binary_accuracy: 0.9544\n",
            "Epoch 25/50\n",
            "183/183 [==============================] - 38s 209ms/step - loss: 0.0866 - binary_accuracy: 0.9750 - val_loss: 0.1861 - val_binary_accuracy: 0.9690\n",
            "Epoch 26/50\n",
            "183/183 [==============================] - 38s 208ms/step - loss: 0.0656 - binary_accuracy: 0.9854 - val_loss: 0.0336 - val_binary_accuracy: 0.9892\n",
            "Epoch 27/50\n",
            "183/183 [==============================] - 38s 207ms/step - loss: 0.0320 - binary_accuracy: 0.9929 - val_loss: 0.0475 - val_binary_accuracy: 0.9834\n",
            "Epoch 28/50\n",
            "183/183 [==============================] - 38s 208ms/step - loss: 0.0471 - binary_accuracy: 0.9885 - val_loss: 0.0801 - val_binary_accuracy: 0.9676\n",
            "Epoch 29/50\n",
            "183/183 [==============================] - 38s 209ms/step - loss: 0.0324 - binary_accuracy: 0.9898 - val_loss: 0.0179 - val_binary_accuracy: 0.9960\n",
            "Epoch 30/50\n",
            "183/183 [==============================] - 38s 207ms/step - loss: 0.0245 - binary_accuracy: 0.9943 - val_loss: 0.0386 - val_binary_accuracy: 0.9910\n",
            "Epoch 31/50\n",
            "183/183 [==============================] - 38s 208ms/step - loss: 0.0348 - binary_accuracy: 0.9918 - val_loss: 0.0222 - val_binary_accuracy: 0.9954\n",
            "Epoch 32/50\n",
            "183/183 [==============================] - 38s 208ms/step - loss: 0.0176 - binary_accuracy: 0.9959 - val_loss: 0.0119 - val_binary_accuracy: 0.9976\n",
            "Epoch 33/50\n",
            "183/183 [==============================] - 38s 208ms/step - loss: 0.0620 - binary_accuracy: 0.9814 - val_loss: 0.0333 - val_binary_accuracy: 0.9910\n",
            "Epoch 34/50\n",
            "183/183 [==============================] - 38s 208ms/step - loss: 0.1333 - binary_accuracy: 0.9608 - val_loss: 0.2544 - val_binary_accuracy: 0.9180\n",
            "Epoch 35/50\n",
            "183/183 [==============================] - 38s 207ms/step - loss: 0.0731 - binary_accuracy: 0.9787 - val_loss: 0.0599 - val_binary_accuracy: 0.9844\n",
            "Epoch 36/50\n",
            "183/183 [==============================] - 38s 207ms/step - loss: 0.0536 - binary_accuracy: 0.9857 - val_loss: 0.0552 - val_binary_accuracy: 0.9854\n",
            "Epoch 37/50\n",
            "183/183 [==============================] - 38s 208ms/step - loss: 0.0880 - binary_accuracy: 0.9799 - val_loss: 0.0695 - val_binary_accuracy: 0.9804\n",
            "Epoch 38/50\n",
            "183/183 [==============================] - 38s 207ms/step - loss: 0.0389 - binary_accuracy: 0.9918 - val_loss: 0.0256 - val_binary_accuracy: 0.9946\n",
            "Epoch 39/50\n",
            "183/183 [==============================] - 38s 207ms/step - loss: 0.0310 - binary_accuracy: 0.9937 - val_loss: 0.0395 - val_binary_accuracy: 0.9902\n",
            "Epoch 40/50\n",
            "183/183 [==============================] - 38s 207ms/step - loss: 0.0537 - binary_accuracy: 0.9874 - val_loss: 0.0499 - val_binary_accuracy: 0.9872\n",
            "Epoch 41/50\n",
            "183/183 [==============================] - 38s 208ms/step - loss: 0.1640 - binary_accuracy: 0.9468 - val_loss: 0.1425 - val_binary_accuracy: 0.9428\n",
            "Epoch 42/50\n",
            "183/183 [==============================] - 38s 207ms/step - loss: 0.0929 - binary_accuracy: 0.9688 - val_loss: 0.1132 - val_binary_accuracy: 0.9742\n",
            "Epoch 43/50\n",
            "183/183 [==============================] - 38s 206ms/step - loss: 0.0578 - binary_accuracy: 0.9837 - val_loss: 0.0327 - val_binary_accuracy: 0.9934\n",
            "Epoch 44/50\n",
            "183/183 [==============================] - 38s 207ms/step - loss: 0.0386 - binary_accuracy: 0.9909 - val_loss: 0.0312 - val_binary_accuracy: 0.9932\n",
            "Epoch 45/50\n",
            "183/183 [==============================] - 38s 207ms/step - loss: 0.0294 - binary_accuracy: 0.9930 - val_loss: 0.0313 - val_binary_accuracy: 0.9910\n",
            "Epoch 46/50\n",
            "183/183 [==============================] - 38s 208ms/step - loss: 0.0355 - binary_accuracy: 0.9893 - val_loss: 0.1794 - val_binary_accuracy: 0.9174\n",
            "Epoch 47/50\n",
            "183/183 [==============================] - 38s 207ms/step - loss: 0.0405 - binary_accuracy: 0.9876 - val_loss: 0.0166 - val_binary_accuracy: 0.9956\n",
            "Epoch 48/50\n",
            "183/183 [==============================] - 38s 208ms/step - loss: 0.0671 - binary_accuracy: 0.9828 - val_loss: 0.0213 - val_binary_accuracy: 0.9942\n",
            "Epoch 49/50\n",
            "183/183 [==============================] - 38s 208ms/step - loss: 0.0373 - binary_accuracy: 0.9908 - val_loss: 0.0185 - val_binary_accuracy: 0.9952\n",
            "Epoch 50/50\n",
            "183/183 [==============================] - 38s 207ms/step - loss: 0.0140 - binary_accuracy: 0.9976 - val_loss: 0.0150 - val_binary_accuracy: 0.9968\n"
          ]
        }
      ],
      "source": [
        "history = model.fit(X_train, y_train, batch_size=64, epochs=50, validation_data=(X_test, y_test))"
      ]
    },
    {
      "cell_type": "code",
      "execution_count": 16,
      "metadata": {
        "id": "R7QQeqVidKBR",
        "colab": {
          "base_uri": "https://localhost:8080/"
        },
        "outputId": "4c6d6506-e17f-4280-e3f3-976cd054cb7f"
      },
      "outputs": [
        {
          "output_type": "stream",
          "name": "stdout",
          "text": [
            "157/157 [==============================] - 6s 41ms/step - loss: 0.0150 - binary_accuracy: 0.9968\n"
          ]
        },
        {
          "output_type": "execute_result",
          "data": {
            "text/plain": [
              "[0.014995763078331947, 0.9967986941337585]"
            ]
          },
          "metadata": {},
          "execution_count": 16
        }
      ],
      "source": [
        "model.evaluate(X_test, y_test)"
      ]
    },
    {
      "cell_type": "code",
      "execution_count": 17,
      "metadata": {
        "id": "OHpifyqGdKn-",
        "colab": {
          "base_uri": "https://localhost:8080/"
        },
        "outputId": "3c9dcc92-e064-4305-90c1-8c47697cad71"
      },
      "outputs": [
        {
          "output_type": "stream",
          "name": "stdout",
          "text": [
            "157/157 [==============================] - 7s 41ms/step\n"
          ]
        }
      ],
      "source": [
        "y_test_prob = model.predict(X_test, verbose=1)"
      ]
    },
    {
      "cell_type": "code",
      "execution_count": 18,
      "metadata": {
        "id": "AfmdrBILdMwj"
      },
      "outputs": [],
      "source": [
        "y_test_pred = np.where(y_test_prob > 0.5, 1, 0)"
      ]
    },
    {
      "cell_type": "code",
      "execution_count": 19,
      "metadata": {
        "id": "8DoJy_p9dPzN"
      },
      "outputs": [],
      "source": [
        "from sklearn.metrics import confusion_matrix"
      ]
    },
    {
      "cell_type": "code",
      "execution_count": 20,
      "metadata": {
        "id": "fTCsPjW8dQaZ",
        "colab": {
          "base_uri": "https://localhost:8080/"
        },
        "outputId": "da185e48-1e58-4d0f-8ab6-ecc04d8f4ff5"
      },
      "outputs": [
        {
          "output_type": "execute_result",
          "data": {
            "text/plain": [
              "array([[2517,    3],\n",
              "       [  13, 2465]])"
            ]
          },
          "metadata": {},
          "execution_count": 20
        }
      ],
      "source": [
        "confusion_matrix(y_test, y_test_pred)"
      ]
    },
    {
      "cell_type": "code",
      "execution_count": 21,
      "metadata": {
        "id": "te3fslrY9Eca",
        "colab": {
          "base_uri": "https://localhost:8080/",
          "height": 685
        },
        "outputId": "514ba047-1056-49e2-96d4-6b1da67afc3e"
      },
      "outputs": [
        {
          "output_type": "stream",
          "name": "stdout",
          "text": [
            "Confusion matrix, without normalization\n",
            "[[2517    3]\n",
            " [  13 2465]]\n",
            "Normalized confusion matrix\n",
            "[[1.   0.  ]\n",
            " [0.01 0.99]]\n"
          ]
        },
        {
          "output_type": "display_data",
          "data": {
            "text/plain": [
              "<Figure size 432x288 with 2 Axes>"
            ],
            "image/png": "[encoded data removed]"
          },
          "metadata": {
            "needs_background": "light"
          }
        },
        {
          "output_type": "display_data",
          "data": {
            "text/plain": [
              "<Figure size 432x288 with 2 Axes>"
            ],
            "image/png": "[encoded data removed]"
          },
          "metadata": {
            "needs_background": "light"
          }
        }
      ],
      "source": [
        "import numpy as np\n",
        "import matplotlib.pyplot as plt\n",
        "\n",
        "from sklearn import svm, datasets\n",
        "from sklearn.model_selection import train_test_split\n",
        "from sklearn.metrics import confusion_matrix\n",
        "from sklearn.utils.multiclass import unique_labels\n",
        "\n",
        "class_names = np.array(['0', '1'])\n",
        "\n",
        "def plot_confusion_matrix(y_true, y_pred, classes,\n",
        "                          normalize=False,\n",
        "                          title=None,\n",
        "                          cmap=plt.cm.Blues):\n",
        "    \"\"\"\n",
        "    This function prints and plots the confusion matrix.\n",
        "    Normalization can be applied by setting `normalize=True`.\n",
        "    \"\"\"\n",
        "    if not title:\n",
        "        if normalize:\n",
        "            title = 'Normalized confusion matrix'\n",
        "        else:\n",
        "            title = 'Confusion matrix, without normalization'\n",
        "\n",
        "    # Compute confusion matrix\n",
        "    cm = confusion_matrix(y_true, y_pred)\n",
        "    # Only use the labels that appear in the data\n",
        "    classes = classes[unique_labels(y_true, y_pred)]\n",
        "    if normalize:\n",
        "        cm = cm.astype('float') / cm.sum(axis=1)[:, np.newaxis]\n",
        "        print(\"Normalized confusion matrix\")\n",
        "    else:\n",
        "        print('Confusion matrix, without normalization')\n",
        "\n",
        "    print(cm)\n",
        "\n",
        "    fig, ax = plt.subplots()\n",
        "    im = ax.imshow(cm, interpolation='nearest', cmap=cmap)\n",
        "    ax.figure.colorbar(im, ax=ax)\n",
        "    # We want to show all ticks...\n",
        "    ax.set(xticks=np.arange(cm.shape[1]),\n",
        "           yticks=np.arange(cm.shape[0]),\n",
        "           # ... and label them with the respective list entries\n",
        "           xticklabels=classes, yticklabels=classes,\n",
        "           title=title,\n",
        "           ylabel='True label',\n",
        "           xlabel='Predicted label')\n",
        "\n",
        "    # Rotate the tick labels and set their alignment.\n",
        "    plt.setp(ax.get_xticklabels(), rotation=45, ha=\"right\",\n",
        "             rotation_mode=\"anchor\")\n",
        "\n",
        "    # Loop over data dimensions and create text annotations.\n",
        "    fmt = '.2f' if normalize else 'd'\n",
        "    thresh = cm.max() / 2.\n",
        "    for i in range(cm.shape[0]):\n",
        "        for j in range(cm.shape[1]):\n",
        "            ax.text(j, i, format(cm[i, j], fmt),\n",
        "                    ha=\"center\", va=\"center\",\n",
        "                    color=\"white\" if cm[i, j] > thresh else \"black\")\n",
        "    fig.tight_layout()\n",
        "\n",
        "    return ax\n",
        "\n",
        "\n",
        "np.set_printoptions(precision=2)\n",
        "\n",
        "# Plot non-normalized confusion matrix\n",
        "plot_confusion_matrix(y_test, y_test_pred, classes=class_names,\n",
        "                      title='Confusion matrix, without normalization')\n",
        "\n",
        "# Plot normalized confusion matrix\n",
        "plot_confusion_matrix(y_test, y_test_pred, classes=class_names, normalize=True,\n",
        "                      title='Normalized confusion matrix')\n",
        "\n",
        "plt.show()"
      ]
    },
    {
      "cell_type": "code",
      "source": [
        "def plot_learningCurve(history, epoch):\n",
        "  # Plot training & validation accuracy values\n",
        "  epoch_range = range(1, epoch+1)\n",
        "  plt.plot(epoch_range, history.history['binary_accuracy'])\n",
        "  plt.plot(epoch_range, history.history['val_binary_accuracy'])\n",
        "  plt.title('Model accuracy')\n",
        "  plt.ylabel('Accuracy')\n",
        "  plt.xlabel('Epoch')\n",
        "  plt.legend(['Train', 'Val'], loc='upper left')\n",
        "  plt.show()\n",
        "\n",
        "  # Plot training & validation loss values\n",
        "  plt.plot(epoch_range, history.history['loss'])\n",
        "  plt.plot(epoch_range, history.history['val_loss'])\n",
        "  plt.title('Model loss')\n",
        "  plt.ylabel('Loss')\n",
        "  plt.xlabel('Epoch')\n",
        "  plt.legend(['Train', 'Val'], loc='upper left')\n",
        "  plt.show()"
      ],
      "metadata": {
        "id": "fhdLAhgPUnH3"
      },
      "execution_count": 22,
      "outputs": []
    },
    {
      "cell_type": "code",
      "source": [
        "plot_learningCurve(history, 50)"
      ],
      "metadata": {
        "id": "WlkQkWHgU5mL",
        "colab": {
          "base_uri": "https://localhost:8080/",
          "height": 573
        },
        "outputId": "23dd8a8a-2ae0-4eb7-8450-c476cd279a8c"
      },
      "execution_count": 23,
      "outputs": [
        {
          "output_type": "display_data",
          "data": {
            "text/plain": [
              "<Figure size 432x288 with 1 Axes>"
            ],
            "image/png": "[encoded data removed]"
          },
          "metadata": {
            "needs_background": "light"
          }
        },
        {
          "output_type": "display_data",
          "data": {
            "text/plain": [
              "<Figure size 432x288 with 1 Axes>"
            ],
            "image/png": "[encoded data removed]"
          },
          "metadata": {
            "needs_background": "light"
          }
        }
      ]
    }
  ],
  "metadata": {
    "colab": {
      "collapsed_sections": [
        "f857kfHqUk0-"
      ],
      "name": "MD LSTM step 30.ipynb",
      "provenance": [],
      "authorship_tag": "ABX9TyPJODK3WPy0LJd02LY0d1AL",
      "include_colab_link": true
    },
    "kernelspec": {
      "display_name": "Python 3",
      "name": "python3"
    },
    "language_info": {
      "name": "python"
    }
  },
  "nbformat": 4,
  "nbformat_minor": 0
}