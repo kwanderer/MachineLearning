{
  "cells": [
    {
      "cell_type": "markdown",
      "metadata": {
        "id": "view-in-github",
        "colab_type": "text"
      },
      "source": [
        "<a href=\"https://colab.research.google.com/github/kwanderer/MachineLearning/blob/main/Multi_Class_MD_LSTM_step_200_files_120_dropout09.ipynb\" target=\"_parent\"><img src=\"https://colab.research.google.com/assets/colab-badge.svg\" alt=\"Open In Colab\"/></a>"
      ]
    },
    {
      "cell_type": "markdown",
      "metadata": {
        "id": "f857kfHqUk0-"
      },
      "source": [
        "\n",
        "\n",
        "#Datu kopa"
      ]
    },
    {
      "cell_type": "markdown",
      "metadata": {
        "id": "nM9WE3QGUwVi"
      },
      "source": [
        "Datu kopas avots: https://www.kaggle.com/uysalserkan/fault-induction-motor-dataset"
      ]
    },
    {
      "cell_type": "markdown",
      "metadata": {
        "id": "_sN_h3qHHy6r"
      },
      "source": [
        "Darbā tiek izmantota indukcijas motora parametru datu bāze. Izmantotajā datu kopā ir dati, kas tika iegūti SpectraQuest aparatūras kļūdu simulatorā (Machinery Fault Simulator).\n",
        "\n",
        "Katra mērījumu secība tika ģenerēta ar frekvenci 50 kHz 5 sekunžu laikā, kopā 250 000 mērījumi.\n",
        "\n",
        "Dati ir apkopoti vairākos failos, dažādos darbības stāvokļos un to apjoms ir ļoti liels. Šajā darbā tika izmantota daļa(viena mērījumu secība) no motora normālas darbības datiem.\n"
      ]
    },
    {
      "cell_type": "markdown",
      "metadata": {
        "id": "KtFAOaHYHLPo"
      },
      "source": [
        "Dati ir apkopoti tabulā, kura satur 8 parametrus. Dati ir iedalīti sekojošās kolonas:\n",
        "\n",
        "**tachometer** – tahometra signāls, kas ļauj novērtēt rotācijas frekvenci\n",
        "\n",
        "**und-accelerometer-axial** - apakšā esošā gultņa akselerometrs (aksiālais virziens)\n",
        "\n",
        "**und-accelerometer-radial** – apakšā esošā gultņa akselerometrs (radiālais virziens)\n",
        "\n",
        "**und-accelerometer-tangential** - apakšā esošā gultņa akselerometrs (tangenciālais virziens)\n",
        "\n",
        "**over-accelerometer-axial** - pārkares gultņa akselerometrs (aksiālais virziens)\n",
        "\n",
        "**over-accelerometer-radial** – pārkares gultņa akselerometrs (radiālais  virziens)\n",
        "\n",
        "**over-accelerometer-tangential**  - pārkares gultņa akselerometrs (tangenciālais virziens)\n",
        "\n",
        "**microphone** – mikrofona vērtība\n"
      ]
    },
    {
      "cell_type": "markdown",
      "metadata": {
        "id": "XymoNLKMVFUC"
      },
      "source": [
        "#Datu ielasīšana un satura vizualizācija"
      ]
    },
    {
      "cell_type": "code",
      "execution_count": 1,
      "metadata": {
        "id": "_yqYZDeOFq5s"
      },
      "outputs": [],
      "source": [
        "import keras\n",
        "from keras.layers import LSTM, Dropout, Dense\n",
        "import tensorflow as tf\n",
        "import numpy as np\n",
        "import pandas as pd\n",
        "\n",
        "from sklearn import linear_model  #pip install sklearn - loti plasa masinapmacibas biblioteka\n",
        "from sklearn.linear_model import LinearRegression  \n",
        "import csv          #pip install csv - darbam ar CSV datu kopam\n",
        "import requests     #pip install requests  - vienkarsakam darbam ar tiessaistes CSV datu kopam tiessaistes\n",
        "\n",
        "import matplotlib\n",
        "import matplotlib.pyplot as plt\n",
        "\n",
        "import glob\n"
      ]
    },
    {
      "cell_type": "code",
      "execution_count": 2,
      "metadata": {
        "id": "wlRTBbM2eUcV",
        "colab": {
          "base_uri": "https://localhost:8080/"
        },
        "outputId": "1ddaa04a-7aa8-4a0d-db46-4c6d720e92cd"
      },
      "outputs": [
        {
          "output_type": "stream",
          "name": "stdout",
          "text": [
            "Drive already mounted at /content/gdrive; to attempt to forcibly remount, call drive.mount(\"/content/gdrive\", force_remount=True).\n"
          ]
        }
      ],
      "source": [
        "from google.colab import drive\n",
        "import os\n",
        "drive.mount('/content/gdrive')\n",
        "os.chdir(\"/content/gdrive/MyDrive/Colab Notebooks/data_multiclass/\")"
      ]
    },
    {
      "cell_type": "code",
      "execution_count": 3,
      "metadata": {
        "id": "zzz6fBl_SNom"
      },
      "outputs": [],
      "source": [
        "#extension = 'csv'\n",
        "#all_filenames = [i for i in glob.glob('*.{}'.format(extension))]"
      ]
    },
    {
      "cell_type": "code",
      "execution_count": 4,
      "metadata": {
        "id": "vagKFCkToBi0"
      },
      "outputs": [],
      "source": [
        "#combine all files in the list\n",
        "#combined_csv = pd.concat([pd.read_csv(f) for f in all_filenames ])\n",
        "#export to csv\n",
        "#combined_csv.to_csv( \"combined_multiclass_csv.csv\", index=False, encoding='utf-8-sig')"
      ]
    },
    {
      "cell_type": "code",
      "execution_count": 5,
      "metadata": {
        "id": "encEkbDhSfGI"
      },
      "outputs": [],
      "source": [
        "data = pd.read_csv(\"combined_multiclass_csv.csv\")"
      ]
    },
    {
      "cell_type": "code",
      "execution_count": 6,
      "metadata": {
        "id": "yz5Qe8ZWk1Zq",
        "colab": {
          "base_uri": "https://localhost:8080/"
        },
        "outputId": "ea87ab40-a587-4f7c-ee4c-a71809f2270a"
      },
      "outputs": [
        {
          "output_type": "stream",
          "name": "stdout",
          "text": [
            "<class 'pandas.core.frame.DataFrame'>\n",
            "RangeIndex: 30000000 entries, 0 to 29999999\n",
            "Data columns (total 9 columns):\n",
            " #   Column                         Dtype  \n",
            "---  ------                         -----  \n",
            " 0   tachometer                     float64\n",
            " 1   und-accelerometer-axial        float64\n",
            " 2   und-accelerometer-radial       float64\n",
            " 3   und-accelerometer-tangential   float64\n",
            " 4   over-accelerometer-axial       float64\n",
            " 5   over-accelerometer-radial      float64\n",
            " 6   over-accelerometer-tangential  float64\n",
            " 7   microphone                     float64\n",
            " 8   Class                          int64  \n",
            "dtypes: float64(8), int64(1)\n",
            "memory usage: 2.0 GB\n"
          ]
        }
      ],
      "source": [
        "data.info()"
      ]
    },
    {
      "cell_type": "code",
      "execution_count": 7,
      "metadata": {
        "id": "WUW9ezX6a_st",
        "colab": {
          "base_uri": "https://localhost:8080/"
        },
        "outputId": "f34b9f26-ff47-406f-e183-1bb78605f949"
      },
      "outputs": [
        {
          "output_type": "execute_result",
          "data": {
            "text/plain": [
              "30000000"
            ]
          },
          "metadata": {},
          "execution_count": 7
        }
      ],
      "source": [
        "rec_count = len(data)\n",
        "rec_count"
      ]
    },
    {
      "cell_type": "markdown",
      "metadata": {
        "id": "6RVC1PZy88fC"
      },
      "source": [
        "# Datu dalīšana mazākos gabalos"
      ]
    },
    {
      "cell_type": "code",
      "execution_count": 8,
      "metadata": {
        "id": "DOvnCYkcbGaE"
      },
      "outputs": [],
      "source": [
        "sequence_length = 200"
      ]
    },
    {
      "cell_type": "code",
      "execution_count": 9,
      "metadata": {
        "id": "RG0o2L3zbTEx"
      },
      "outputs": [],
      "source": [
        "def generate_data(X, y, sequence_length = 200, step = 200):\n",
        "    X_local = []\n",
        "    y_local = []\n",
        "    for start in range(0, len(data) - sequence_length, step):\n",
        "        end = start + sequence_length\n",
        "        X_local.append(X[start:end])\n",
        "        y_local.append(y[end-1])\n",
        "    return np.array(X_local), np.array(y_local)\n",
        "\n",
        "X_sequence, y = generate_data(data.loc[:, \"tachometer\":\"microphone\"].values, data.Class)\n",
        "#X_sequence, y = generate_data(data.loc[:, [\"tachometer\", \"und-accelerometer-axial\", \"und-accelerometer-radial\", \"und-accelerometer-tangential\", \"over-accelerometer-axial\", \"over-accelerometer-radial\", \"over-accelerometer-tangential\", \"microphone\"]].values, data.Class)\n",
        "#\"microphone\"\n",
        "#X_sequence, y = generate_data(data.loc[:, [\"tachometer\", \"und-accelerometer-axial\", \"und-accelerometer-radial\", \"und-accelerometer-tangential\", \"over-accelerometer-axial\", \"over-accelerometer-radial\", \"over-accelerometer-tangential\"]].values, data.Class)"
      ]
    },
    {
      "cell_type": "code",
      "execution_count": 10,
      "metadata": {
        "id": "s0QxwK66cLVF",
        "colab": {
          "base_uri": "https://localhost:8080/"
        },
        "outputId": "69236635-fd3d-4c35-f1c0-34938f76a01e"
      },
      "outputs": [
        {
          "output_type": "execute_result",
          "data": {
            "text/plain": [
              "((149999, 200, 8), (149999,))"
            ]
          },
          "metadata": {},
          "execution_count": 10
        }
      ],
      "source": [
        "X_sequence.shape, y.shape"
      ]
    },
    {
      "cell_type": "code",
      "source": [
        "unique, counts = np.unique(y, return_counts=True)"
      ],
      "metadata": {
        "id": "l8Lq455lV1JR"
      },
      "execution_count": 11,
      "outputs": []
    },
    {
      "cell_type": "code",
      "source": [
        "unique"
      ],
      "metadata": {
        "id": "t0BRO3nAWQxe",
        "colab": {
          "base_uri": "https://localhost:8080/"
        },
        "outputId": "bdc3a5bf-a35a-4bd3-82ef-8e9ab7749d83"
      },
      "execution_count": 12,
      "outputs": [
        {
          "output_type": "execute_result",
          "data": {
            "text/plain": [
              "array([0, 1, 2, 3, 4, 5, 6, 7])"
            ]
          },
          "metadata": {},
          "execution_count": 12
        }
      ]
    },
    {
      "cell_type": "code",
      "source": [
        "counts"
      ],
      "metadata": {
        "id": "WWZ7QWR4WS_r",
        "colab": {
          "base_uri": "https://localhost:8080/"
        },
        "outputId": "63f13c18-a3d1-4cf8-e238-9e9d207e9b90"
      },
      "execution_count": 13,
      "outputs": [
        {
          "output_type": "execute_result",
          "data": {
            "text/plain": [
              "array([18749, 18750, 18750, 18750, 18750, 18750, 18750, 18750])"
            ]
          },
          "metadata": {},
          "execution_count": 13
        }
      ]
    },
    {
      "cell_type": "code",
      "execution_count": 14,
      "metadata": {
        "id": "i7R1oo6Mj8wx"
      },
      "outputs": [],
      "source": [
        "data = 0"
      ]
    },
    {
      "cell_type": "code",
      "source": [
        "from sklearn.preprocessing import OneHotEncoder"
      ],
      "metadata": {
        "id": "lAk_JscRWmqY"
      },
      "execution_count": 15,
      "outputs": []
    },
    {
      "cell_type": "code",
      "source": [
        "label_encoder = OneHotEncoder(sparse=False)\n",
        "label_encoder.fit(y.reshape(-1,1))"
      ],
      "metadata": {
        "id": "14B9aYy0W0y6",
        "colab": {
          "base_uri": "https://localhost:8080/"
        },
        "outputId": "b3da4866-f223-49b6-a5ca-0c0df2fe8eb3"
      },
      "execution_count": 16,
      "outputs": [
        {
          "output_type": "execute_result",
          "data": {
            "text/plain": [
              "OneHotEncoder(sparse=False)"
            ]
          },
          "metadata": {},
          "execution_count": 16
        }
      ]
    },
    {
      "cell_type": "code",
      "source": [
        "y_encoded = label_encoder.transform(y.reshape(-1,1))"
      ],
      "metadata": {
        "id": "VjpWn96xXgPS"
      },
      "execution_count": 17,
      "outputs": []
    },
    {
      "cell_type": "code",
      "source": [
        "y_encoded[0:5]"
      ],
      "metadata": {
        "id": "VL6KMFo9XpBi",
        "colab": {
          "base_uri": "https://localhost:8080/"
        },
        "outputId": "0133a3ce-451f-4ab8-b30f-8bdef5ecb5a3"
      },
      "execution_count": 18,
      "outputs": [
        {
          "output_type": "execute_result",
          "data": {
            "text/plain": [
              "array([[0., 0., 0., 0., 0., 0., 0., 1.],\n",
              "       [0., 0., 0., 0., 0., 0., 0., 1.],\n",
              "       [0., 0., 0., 0., 0., 0., 0., 1.],\n",
              "       [0., 0., 0., 0., 0., 0., 0., 1.],\n",
              "       [0., 0., 0., 0., 0., 0., 0., 1.]])"
            ]
          },
          "metadata": {},
          "execution_count": 18
        }
      ]
    },
    {
      "cell_type": "code",
      "source": [
        "y=y_encoded"
      ],
      "metadata": {
        "id": "5c8km253YKBl"
      },
      "execution_count": 19,
      "outputs": []
    },
    {
      "cell_type": "markdown",
      "metadata": {
        "id": "5BXSDoHa9UX_"
      },
      "source": [
        "# Random/Shuffle"
      ]
    },
    {
      "cell_type": "code",
      "execution_count": 20,
      "metadata": {
        "id": "ZcfE9idy-ckb"
      },
      "outputs": [],
      "source": [
        "shuffler = np.random.permutation(len(X_sequence))\n",
        "X_sequence_shuffled = X_sequence[shuffler]\n",
        "y_shuffled = y[shuffler]"
      ]
    },
    {
      "cell_type": "markdown",
      "metadata": {
        "id": "TfhRTTNcE2s8"
      },
      "source": [
        "# LSTM"
      ]
    },
    {
      "cell_type": "code",
      "execution_count": 21,
      "metadata": {
        "id": "ihrXMuVAEwlY"
      },
      "outputs": [],
      "source": [
        "import pandas as pd\n",
        "import sklearn.metrics as metrique\n",
        "from pandas import Series\n",
        "from sklearn.preprocessing import StandardScaler, MinMaxScaler\n",
        "from matplotlib import pyplot\n",
        "from sklearn.model_selection import train_test_split\n",
        "import numpy as np\n",
        "import tensorflow as tf\n",
        "import sys\n",
        "import numpy as np\n",
        "import pandas as pd\n",
        "import tensorflow as tf\n",
        "import matplotlib.pyplot as plt\n",
        "from sklearn.model_selection import train_test_split\n",
        "from sklearn import preprocessing\n",
        "from sklearn.preprocessing import StandardScaler\n",
        "from sklearn.metrics import classification_report\n",
        "import warnings\n",
        "warnings.filterwarnings('ignore')\n",
        "plt.style.use('ggplot')\n",
        "import seaborn as sns \n",
        "%matplotlib inline\n",
        "from keras.callbacks import EarlyStopping\n",
        "from keras.callbacks import ModelCheckpoint\n",
        "from sklearn.metrics import accuracy_score\n",
        "from sklearn.metrics import classification_report, confusion_matrix\n",
        "from keras.models import Sequential\n",
        "from keras.utils import np_utils\n",
        "from keras.layers import LSTM, Dense, Embedding, Dropout,Input, Layer, Concatenate, Permute, Dot, Multiply, Flatten\n",
        "from keras.layers import RepeatVector, Dense, Activation, Lambda\n",
        "from keras.models import Sequential\n",
        "from keras import backend as K, regularizers, Model, metrics\n",
        "from keras.backend import cast"
      ]
    },
    {
      "cell_type": "code",
      "execution_count": 22,
      "metadata": {
        "id": "PjKWKiA6aH3z"
      },
      "outputs": [],
      "source": [
        "#from tensorflow.keras import optimizers\n",
        "#sgd = optimizers.SGD(lr=0.0001, decay=1e-6, momentum=0.9, nesterov=True)\n",
        "#model = keras.Sequential()\n",
        "#model.add(LSTM(100, input_shape = (200, 8)))\n",
        "#model.add(Dropout(0.5))\n",
        "#model.add(Dense(1, activation=\"softmax\"))\n",
        "\n",
        "\n",
        "#model.compile(loss=\"categorical_crossentropy\"\n",
        "#              , metrics=[keras.metrics.binary_accuracy]\n",
        "#              , optimizer='sgd')\n",
        "\n",
        "#model.summary()"
      ]
    },
    {
      "cell_type": "code",
      "execution_count": 23,
      "metadata": {
        "id": "_2SaVmwSWJVB",
        "colab": {
          "base_uri": "https://localhost:8080/"
        },
        "outputId": "9793814b-f7df-48f3-8997-ef1f71be6826"
      },
      "outputs": [
        {
          "output_type": "stream",
          "name": "stdout",
          "text": [
            "Model: \"sequential\"\n",
            "_________________________________________________________________\n",
            " Layer (type)                Output Shape              Param #   \n",
            "=================================================================\n",
            " lstm (LSTM)                 (None, 100)               43600     \n",
            "                                                                 \n",
            " dropout (Dropout)           (None, 100)               0         \n",
            "                                                                 \n",
            " dense (Dense)               (None, 8)                 808       \n",
            "                                                                 \n",
            "=================================================================\n",
            "Total params: 44,408\n",
            "Trainable params: 44,408\n",
            "Non-trainable params: 0\n",
            "_________________________________________________________________\n"
          ]
        }
      ],
      "source": [
        "from tensorflow.keras import optimizers\n",
        "#sgd = optimizers.SGD(lr=0.0001, decay=1e-6, momentum=0.9, nesterov=True)\n",
        "optimizer = tf.keras.optimizers.Adam(lr=0.0001)\n",
        "model = keras.Sequential()\n",
        "model.add(LSTM(100, input_shape = (200, 8)))\n",
        "model.add(Dropout(0.9))#0.25\n",
        "model.add(Dense(8, activation=\"softmax\"))\n",
        "\n",
        "#model.compile(loss='mean_squared_error', optimizer=sgd)\n",
        "model.compile(loss=\"categorical_crossentropy\"\n",
        "              , metrics=['accuracy']\n",
        "              , optimizer=optimizer)\n",
        "\n",
        "model.summary()"
      ]
    },
    {
      "cell_type": "code",
      "execution_count": 24,
      "metadata": {
        "id": "tg8wrqsqc8UX"
      },
      "outputs": [],
      "source": [
        "training_size = int(len(X_sequence) * 0.8)\n",
        "val_size = int(len(X_sequence) * 0.9)"
      ]
    },
    {
      "cell_type": "code",
      "execution_count": 25,
      "metadata": {
        "id": "avIp3TEKc-qF"
      },
      "outputs": [],
      "source": [
        "X_train, y_train = X_sequence_shuffled[:training_size], y_shuffled[:training_size]\n",
        "X_val, y_val = X_sequence_shuffled[training_size:val_size], y_shuffled[training_size:val_size]\n",
        "X_test, y_test = X_sequence_shuffled[val_size:], y_shuffled[val_size:]"
      ]
    },
    {
      "cell_type": "code",
      "execution_count": 26,
      "metadata": {
        "id": "RABc_uKzkBUT"
      },
      "outputs": [],
      "source": [
        "#X_sequence = 0\n",
        "#y = 0"
      ]
    },
    {
      "cell_type": "code",
      "source": [
        "X_train.shape"
      ],
      "metadata": {
        "id": "Omv-ht1dhGxL",
        "colab": {
          "base_uri": "https://localhost:8080/"
        },
        "outputId": "069a3b4f-466c-453a-c4c8-09530a0d20dd"
      },
      "execution_count": 27,
      "outputs": [
        {
          "output_type": "execute_result",
          "data": {
            "text/plain": [
              "(119999, 200, 8)"
            ]
          },
          "metadata": {},
          "execution_count": 27
        }
      ]
    },
    {
      "cell_type": "code",
      "execution_count": 28,
      "metadata": {
        "id": "8aIhPJ-wLCwZ",
        "colab": {
          "base_uri": "https://localhost:8080/"
        },
        "outputId": "ccc0e73a-9228-49bb-fb68-6c9500c14693"
      },
      "outputs": [
        {
          "output_type": "execute_result",
          "data": {
            "text/plain": [
              "array([[0., 0., 0., 0., 0., 1., 0., 0.],\n",
              "       [1., 0., 0., 0., 0., 0., 0., 0.],\n",
              "       [0., 1., 0., 0., 0., 0., 0., 0.],\n",
              "       [0., 0., 0., 0., 0., 0., 0., 1.],\n",
              "       [1., 0., 0., 0., 0., 0., 0., 0.],\n",
              "       [0., 0., 0., 0., 1., 0., 0., 0.],\n",
              "       [0., 1., 0., 0., 0., 0., 0., 0.],\n",
              "       [0., 1., 0., 0., 0., 0., 0., 0.],\n",
              "       [0., 0., 0., 0., 0., 1., 0., 0.],\n",
              "       [0., 0., 0., 0., 0., 0., 0., 1.]])"
            ]
          },
          "metadata": {},
          "execution_count": 28
        }
      ],
      "source": [
        "y_train[:10]"
      ]
    },
    {
      "cell_type": "code",
      "execution_count": 29,
      "metadata": {
        "id": "cen4faX0dFJP",
        "colab": {
          "base_uri": "https://localhost:8080/"
        },
        "outputId": "c0a9dd47-0d5d-4aa9-9d9a-48289cc474ef"
      },
      "outputs": [
        {
          "output_type": "stream",
          "name": "stdout",
          "text": [
            "Epoch 1/100\n",
            "1875/1875 [==============================] - 27s 13ms/step - loss: 1.9851 - accuracy: 0.1836 - val_loss: 1.7338 - val_accuracy: 0.2560\n",
            "Epoch 2/100\n",
            "1875/1875 [==============================] - 25s 13ms/step - loss: 1.7728 - accuracy: 0.2413 - val_loss: 1.8152 - val_accuracy: 0.2929\n",
            "Epoch 3/100\n",
            "1875/1875 [==============================] - 23s 12ms/step - loss: 1.7219 - accuracy: 0.2690 - val_loss: 1.6199 - val_accuracy: 0.3464\n",
            "Epoch 4/100\n",
            "1875/1875 [==============================] - 23s 12ms/step - loss: 1.6749 - accuracy: 0.2954 - val_loss: 1.5761 - val_accuracy: 0.3713\n",
            "Epoch 5/100\n",
            "1875/1875 [==============================] - 23s 12ms/step - loss: 1.6467 - accuracy: 0.3130 - val_loss: 1.5548 - val_accuracy: 0.3674\n",
            "Epoch 6/100\n",
            "1875/1875 [==============================] - 23s 12ms/step - loss: 1.6508 - accuracy: 0.3245 - val_loss: 1.6991 - val_accuracy: 0.3499\n",
            "Epoch 7/100\n",
            "1875/1875 [==============================] - 23s 12ms/step - loss: 1.6139 - accuracy: 0.3366 - val_loss: 1.5141 - val_accuracy: 0.3779\n",
            "Epoch 8/100\n",
            "1875/1875 [==============================] - 23s 12ms/step - loss: 1.5880 - accuracy: 0.3457 - val_loss: 1.5083 - val_accuracy: 0.3909\n",
            "Epoch 9/100\n",
            "1875/1875 [==============================] - 23s 12ms/step - loss: 1.5716 - accuracy: 0.3542 - val_loss: 1.5043 - val_accuracy: 0.3789\n",
            "Epoch 10/100\n",
            "1875/1875 [==============================] - 23s 12ms/step - loss: 1.5891 - accuracy: 0.3437 - val_loss: 1.5189 - val_accuracy: 0.3655\n",
            "Epoch 11/100\n",
            "1875/1875 [==============================] - 23s 12ms/step - loss: 1.6598 - accuracy: 0.3508 - val_loss: 1.5623 - val_accuracy: 0.3520\n",
            "Epoch 12/100\n",
            "1875/1875 [==============================] - 23s 12ms/step - loss: 1.6546 - accuracy: 0.3533 - val_loss: 2.0606 - val_accuracy: 0.2890\n",
            "Epoch 13/100\n",
            "1875/1875 [==============================] - 23s 12ms/step - loss: 1.7085 - accuracy: 0.3385 - val_loss: 1.5517 - val_accuracy: 0.3822\n",
            "Epoch 14/100\n",
            "1875/1875 [==============================] - 23s 12ms/step - loss: 1.6086 - accuracy: 0.3493 - val_loss: 1.5324 - val_accuracy: 0.3549\n",
            "Epoch 15/100\n",
            "1875/1875 [==============================] - 23s 12ms/step - loss: 1.6033 - accuracy: 0.3522 - val_loss: 1.4585 - val_accuracy: 0.4086\n",
            "Epoch 16/100\n",
            "1875/1875 [==============================] - 23s 12ms/step - loss: 1.5288 - accuracy: 0.3845 - val_loss: 1.4574 - val_accuracy: 0.4069\n",
            "Epoch 17/100\n",
            "1875/1875 [==============================] - 23s 12ms/step - loss: 1.5337 - accuracy: 0.3792 - val_loss: 1.4799 - val_accuracy: 0.3871\n",
            "Epoch 18/100\n",
            "1875/1875 [==============================] - 23s 12ms/step - loss: 1.5243 - accuracy: 0.3827 - val_loss: 1.4283 - val_accuracy: 0.4113\n",
            "Epoch 19/100\n",
            "1875/1875 [==============================] - 23s 12ms/step - loss: 1.5212 - accuracy: 0.3896 - val_loss: 1.4346 - val_accuracy: 0.4064\n",
            "Epoch 20/100\n",
            "1875/1875 [==============================] - 22s 12ms/step - loss: 1.4715 - accuracy: 0.4044 - val_loss: 1.4046 - val_accuracy: 0.4275\n",
            "Epoch 21/100\n",
            "1875/1875 [==============================] - 23s 12ms/step - loss: 1.4550 - accuracy: 0.4134 - val_loss: 1.3900 - val_accuracy: 0.4387\n",
            "Epoch 22/100\n",
            "1875/1875 [==============================] - 24s 13ms/step - loss: 1.4655 - accuracy: 0.4094 - val_loss: 1.3835 - val_accuracy: 0.4476\n",
            "Epoch 23/100\n",
            "1875/1875 [==============================] - 23s 12ms/step - loss: 1.4468 - accuracy: 0.4162 - val_loss: 1.3590 - val_accuracy: 0.4414\n",
            "Epoch 24/100\n",
            "1875/1875 [==============================] - 23s 12ms/step - loss: 1.4376 - accuracy: 0.4218 - val_loss: 1.3793 - val_accuracy: 0.4303\n",
            "Epoch 25/100\n",
            "1875/1875 [==============================] - 24s 13ms/step - loss: 1.4941 - accuracy: 0.4056 - val_loss: 1.3810 - val_accuracy: 0.4301\n",
            "Epoch 26/100\n",
            "1875/1875 [==============================] - 23s 12ms/step - loss: 1.4244 - accuracy: 0.4260 - val_loss: 1.3502 - val_accuracy: 0.4499\n",
            "Epoch 27/100\n",
            "1875/1875 [==============================] - 23s 12ms/step - loss: 1.4199 - accuracy: 0.4284 - val_loss: 1.3129 - val_accuracy: 0.4595\n",
            "Epoch 28/100\n",
            "1875/1875 [==============================] - 23s 12ms/step - loss: 1.3804 - accuracy: 0.4431 - val_loss: 1.3155 - val_accuracy: 0.4524\n",
            "Epoch 29/100\n",
            "1875/1875 [==============================] - 24s 13ms/step - loss: 1.3915 - accuracy: 0.4451 - val_loss: 1.4280 - val_accuracy: 0.4030\n",
            "Epoch 30/100\n",
            "1875/1875 [==============================] - 23s 12ms/step - loss: 1.3783 - accuracy: 0.4461 - val_loss: 1.2974 - val_accuracy: 0.4621\n",
            "Epoch 31/100\n",
            "1875/1875 [==============================] - 23s 12ms/step - loss: 1.3502 - accuracy: 0.4562 - val_loss: 1.2744 - val_accuracy: 0.4647\n",
            "Epoch 32/100\n",
            "1875/1875 [==============================] - 23s 12ms/step - loss: 1.3424 - accuracy: 0.4605 - val_loss: 1.2511 - val_accuracy: 0.4802\n",
            "Epoch 33/100\n",
            "1875/1875 [==============================] - 24s 13ms/step - loss: 1.3560 - accuracy: 0.4554 - val_loss: 1.3304 - val_accuracy: 0.4595\n",
            "Epoch 34/100\n",
            "1875/1875 [==============================] - 23s 13ms/step - loss: 1.3414 - accuracy: 0.4568 - val_loss: 1.2273 - val_accuracy: 0.4931\n",
            "Epoch 35/100\n",
            "1875/1875 [==============================] - 24s 13ms/step - loss: 1.3187 - accuracy: 0.4670 - val_loss: 1.2455 - val_accuracy: 0.4795\n",
            "Epoch 36/100\n",
            "1875/1875 [==============================] - 24s 13ms/step - loss: 1.3938 - accuracy: 0.4496 - val_loss: 1.2306 - val_accuracy: 0.4901\n",
            "Epoch 37/100\n",
            "1875/1875 [==============================] - 24s 13ms/step - loss: 1.3114 - accuracy: 0.4725 - val_loss: 1.2501 - val_accuracy: 0.4896\n",
            "Epoch 38/100\n",
            "1875/1875 [==============================] - 23s 12ms/step - loss: 1.3072 - accuracy: 0.4730 - val_loss: 1.3326 - val_accuracy: 0.4649\n",
            "Epoch 39/100\n",
            "1875/1875 [==============================] - 23s 12ms/step - loss: 1.3609 - accuracy: 0.4483 - val_loss: 1.2376 - val_accuracy: 0.4850\n",
            "Epoch 40/100\n",
            "1875/1875 [==============================] - 24s 13ms/step - loss: 1.2998 - accuracy: 0.4742 - val_loss: 1.2274 - val_accuracy: 0.5037\n",
            "Epoch 41/100\n",
            "1875/1875 [==============================] - 23s 12ms/step - loss: 1.2898 - accuracy: 0.4801 - val_loss: 1.2129 - val_accuracy: 0.5049\n",
            "Epoch 42/100\n",
            "1875/1875 [==============================] - 23s 12ms/step - loss: 1.2783 - accuracy: 0.4846 - val_loss: 1.1914 - val_accuracy: 0.5148\n",
            "Epoch 43/100\n",
            "1875/1875 [==============================] - 25s 13ms/step - loss: 1.2733 - accuracy: 0.4867 - val_loss: 1.1751 - val_accuracy: 0.5209\n",
            "Epoch 44/100\n",
            "1875/1875 [==============================] - 25s 13ms/step - loss: 1.2737 - accuracy: 0.4844 - val_loss: 1.1898 - val_accuracy: 0.5044\n",
            "Epoch 45/100\n",
            "1875/1875 [==============================] - 23s 12ms/step - loss: 1.2474 - accuracy: 0.4931 - val_loss: 1.1618 - val_accuracy: 0.5181\n",
            "Epoch 46/100\n",
            "1875/1875 [==============================] - 24s 13ms/step - loss: 1.2637 - accuracy: 0.4894 - val_loss: 1.2666 - val_accuracy: 0.4869\n",
            "Epoch 47/100\n",
            "1875/1875 [==============================] - 24s 13ms/step - loss: 1.2344 - accuracy: 0.4997 - val_loss: 1.1525 - val_accuracy: 0.5316\n",
            "Epoch 48/100\n",
            "1875/1875 [==============================] - 24s 13ms/step - loss: 1.2623 - accuracy: 0.4906 - val_loss: 1.1701 - val_accuracy: 0.5215\n",
            "Epoch 49/100\n",
            "1875/1875 [==============================] - 24s 13ms/step - loss: 1.2789 - accuracy: 0.4838 - val_loss: 1.1762 - val_accuracy: 0.5213\n",
            "Epoch 50/100\n",
            "1875/1875 [==============================] - 24s 13ms/step - loss: 1.2383 - accuracy: 0.4983 - val_loss: 1.1496 - val_accuracy: 0.5310\n",
            "Epoch 51/100\n",
            "1875/1875 [==============================] - 24s 13ms/step - loss: 1.2853 - accuracy: 0.4768 - val_loss: 1.2113 - val_accuracy: 0.5005\n",
            "Epoch 52/100\n",
            "1875/1875 [==============================] - 24s 13ms/step - loss: 1.2419 - accuracy: 0.4950 - val_loss: 1.1402 - val_accuracy: 0.5313\n",
            "Epoch 53/100\n",
            "1875/1875 [==============================] - 24s 13ms/step - loss: 1.2407 - accuracy: 0.4948 - val_loss: 1.1112 - val_accuracy: 0.5383\n",
            "Epoch 54/100\n",
            "1875/1875 [==============================] - 25s 13ms/step - loss: 1.2160 - accuracy: 0.5054 - val_loss: 1.1288 - val_accuracy: 0.5314\n",
            "Epoch 55/100\n",
            "1875/1875 [==============================] - 24s 13ms/step - loss: 1.2098 - accuracy: 0.5045 - val_loss: 1.2115 - val_accuracy: 0.4976\n",
            "Epoch 56/100\n",
            "1875/1875 [==============================] - 24s 13ms/step - loss: 1.2004 - accuracy: 0.5088 - val_loss: 1.1170 - val_accuracy: 0.5354\n",
            "Epoch 57/100\n",
            "1875/1875 [==============================] - 24s 13ms/step - loss: 1.2178 - accuracy: 0.5051 - val_loss: 1.1316 - val_accuracy: 0.5342\n",
            "Epoch 58/100\n",
            "1875/1875 [==============================] - 24s 13ms/step - loss: 1.2098 - accuracy: 0.5076 - val_loss: 1.0945 - val_accuracy: 0.5509\n",
            "Epoch 59/100\n",
            "1875/1875 [==============================] - 24s 13ms/step - loss: 1.2340 - accuracy: 0.4985 - val_loss: 1.1822 - val_accuracy: 0.5167\n",
            "Epoch 60/100\n",
            "1875/1875 [==============================] - 23s 13ms/step - loss: 1.2677 - accuracy: 0.4829 - val_loss: 1.2486 - val_accuracy: 0.4767\n",
            "Epoch 61/100\n",
            "1875/1875 [==============================] - 24s 13ms/step - loss: 1.2697 - accuracy: 0.4759 - val_loss: 1.1263 - val_accuracy: 0.5294\n",
            "Epoch 62/100\n",
            "1875/1875 [==============================] - 24s 13ms/step - loss: 1.2060 - accuracy: 0.5057 - val_loss: 1.3084 - val_accuracy: 0.4815\n",
            "Epoch 63/100\n",
            "1875/1875 [==============================] - 25s 13ms/step - loss: 1.2439 - accuracy: 0.4913 - val_loss: 1.1026 - val_accuracy: 0.5383\n",
            "Epoch 64/100\n",
            "1875/1875 [==============================] - 24s 13ms/step - loss: 1.1883 - accuracy: 0.5158 - val_loss: 1.0788 - val_accuracy: 0.5583\n",
            "Epoch 65/100\n",
            "1875/1875 [==============================] - 24s 13ms/step - loss: 1.1819 - accuracy: 0.5188 - val_loss: 1.0889 - val_accuracy: 0.5511\n",
            "Epoch 66/100\n",
            "1875/1875 [==============================] - 23s 12ms/step - loss: 1.3073 - accuracy: 0.4839 - val_loss: 1.2824 - val_accuracy: 0.4804\n",
            "Epoch 67/100\n",
            "1875/1875 [==============================] - 23s 12ms/step - loss: 1.1974 - accuracy: 0.5106 - val_loss: 1.1296 - val_accuracy: 0.5327\n",
            "Epoch 68/100\n",
            "1875/1875 [==============================] - 23s 12ms/step - loss: 1.2309 - accuracy: 0.5098 - val_loss: 2.9935 - val_accuracy: 0.2433\n",
            "Epoch 69/100\n",
            "1875/1875 [==============================] - 23s 13ms/step - loss: 1.3162 - accuracy: 0.4743 - val_loss: 1.0990 - val_accuracy: 0.5478\n",
            "Epoch 70/100\n",
            "1875/1875 [==============================] - 25s 13ms/step - loss: 1.1662 - accuracy: 0.5264 - val_loss: 1.0770 - val_accuracy: 0.5523\n",
            "Epoch 71/100\n",
            "1875/1875 [==============================] - 24s 13ms/step - loss: 1.2329 - accuracy: 0.5025 - val_loss: 1.2332 - val_accuracy: 0.5013\n",
            "Epoch 72/100\n",
            "1875/1875 [==============================] - 25s 13ms/step - loss: 1.1863 - accuracy: 0.5186 - val_loss: 1.0740 - val_accuracy: 0.5491\n",
            "Epoch 73/100\n",
            "1875/1875 [==============================] - 23s 12ms/step - loss: 1.1779 - accuracy: 0.5225 - val_loss: 1.0927 - val_accuracy: 0.5568\n",
            "Epoch 74/100\n",
            "1875/1875 [==============================] - 23s 13ms/step - loss: 1.2043 - accuracy: 0.5121 - val_loss: 1.1269 - val_accuracy: 0.5317\n",
            "Epoch 75/100\n",
            "1875/1875 [==============================] - 24s 13ms/step - loss: 1.1739 - accuracy: 0.5230 - val_loss: 1.0619 - val_accuracy: 0.5621\n",
            "Epoch 76/100\n",
            "1875/1875 [==============================] - 23s 12ms/step - loss: 1.1558 - accuracy: 0.5270 - val_loss: 1.0502 - val_accuracy: 0.5640\n",
            "Epoch 77/100\n",
            "1875/1875 [==============================] - 23s 13ms/step - loss: 1.2613 - accuracy: 0.4983 - val_loss: 1.1896 - val_accuracy: 0.5121\n",
            "Epoch 78/100\n",
            "1875/1875 [==============================] - 23s 12ms/step - loss: 1.2049 - accuracy: 0.5088 - val_loss: 1.1039 - val_accuracy: 0.5419\n",
            "Epoch 79/100\n",
            "1875/1875 [==============================] - 25s 13ms/step - loss: 1.1616 - accuracy: 0.5247 - val_loss: 1.0886 - val_accuracy: 0.5455\n",
            "Epoch 80/100\n",
            "1875/1875 [==============================] - 23s 12ms/step - loss: 1.1626 - accuracy: 0.5284 - val_loss: 1.0664 - val_accuracy: 0.5578\n",
            "Epoch 81/100\n",
            "1875/1875 [==============================] - 23s 12ms/step - loss: 1.1541 - accuracy: 0.5293 - val_loss: 1.0483 - val_accuracy: 0.5691\n",
            "Epoch 82/100\n",
            "1875/1875 [==============================] - 23s 12ms/step - loss: 1.1593 - accuracy: 0.5299 - val_loss: 1.0459 - val_accuracy: 0.5655\n",
            "Epoch 83/100\n",
            "1875/1875 [==============================] - 24s 13ms/step - loss: 1.2020 - accuracy: 0.5181 - val_loss: 1.1803 - val_accuracy: 0.5271\n",
            "Epoch 84/100\n",
            "1875/1875 [==============================] - 23s 13ms/step - loss: 1.2268 - accuracy: 0.5039 - val_loss: 1.1473 - val_accuracy: 0.5317\n",
            "Epoch 85/100\n",
            "1875/1875 [==============================] - 23s 12ms/step - loss: 1.1728 - accuracy: 0.5223 - val_loss: 1.1260 - val_accuracy: 0.5322\n",
            "Epoch 86/100\n",
            "1875/1875 [==============================] - 23s 12ms/step - loss: 1.2342 - accuracy: 0.4970 - val_loss: 1.1038 - val_accuracy: 0.5485\n",
            "Epoch 87/100\n",
            "1875/1875 [==============================] - 23s 12ms/step - loss: 1.1764 - accuracy: 0.5190 - val_loss: 1.0922 - val_accuracy: 0.5540\n",
            "Epoch 88/100\n",
            "1875/1875 [==============================] - 24s 13ms/step - loss: 1.1513 - accuracy: 0.5292 - val_loss: 1.0577 - val_accuracy: 0.5629\n",
            "Epoch 89/100\n",
            "1875/1875 [==============================] - 24s 13ms/step - loss: 1.1374 - accuracy: 0.5319 - val_loss: 1.0437 - val_accuracy: 0.5709\n",
            "Epoch 90/100\n",
            "1875/1875 [==============================] - 23s 12ms/step - loss: 1.1578 - accuracy: 0.5280 - val_loss: 1.0547 - val_accuracy: 0.5641\n",
            "Epoch 91/100\n",
            "1875/1875 [==============================] - 23s 12ms/step - loss: 1.1272 - accuracy: 0.5409 - val_loss: 1.0414 - val_accuracy: 0.5669\n",
            "Epoch 92/100\n",
            "1875/1875 [==============================] - 23s 12ms/step - loss: 1.1831 - accuracy: 0.5203 - val_loss: 1.0886 - val_accuracy: 0.5461\n",
            "Epoch 93/100\n",
            "1875/1875 [==============================] - 23s 12ms/step - loss: 1.1394 - accuracy: 0.5365 - val_loss: 1.0674 - val_accuracy: 0.5548\n",
            "Epoch 94/100\n",
            "1875/1875 [==============================] - 24s 13ms/step - loss: 1.1458 - accuracy: 0.5313 - val_loss: 1.0524 - val_accuracy: 0.5613\n",
            "Epoch 95/100\n",
            "1875/1875 [==============================] - 23s 12ms/step - loss: 1.1120 - accuracy: 0.5429 - val_loss: 1.0282 - val_accuracy: 0.5701\n",
            "Epoch 96/100\n",
            "1875/1875 [==============================] - 25s 13ms/step - loss: 1.1534 - accuracy: 0.5294 - val_loss: 1.0302 - val_accuracy: 0.5637\n",
            "Epoch 97/100\n",
            "1875/1875 [==============================] - 23s 13ms/step - loss: 1.1355 - accuracy: 0.5402 - val_loss: 1.0074 - val_accuracy: 0.5784\n",
            "Epoch 98/100\n",
            "1875/1875 [==============================] - 24s 13ms/step - loss: 1.1081 - accuracy: 0.5447 - val_loss: 1.0287 - val_accuracy: 0.5746\n",
            "Epoch 99/100\n",
            "1875/1875 [==============================] - 23s 12ms/step - loss: 1.1088 - accuracy: 0.5473 - val_loss: 1.0019 - val_accuracy: 0.5771\n",
            "Epoch 100/100\n",
            "1875/1875 [==============================] - 23s 13ms/step - loss: 1.1088 - accuracy: 0.5471 - val_loss: 1.0124 - val_accuracy: 0.5739\n"
          ]
        }
      ],
      "source": [
        "history = model.fit(X_train, y_train, batch_size=64, epochs=100, validation_data=(X_val, y_val))\n",
        "#model.save('NewAllDataModel_E50_B64.h5')"
      ]
    },
    {
      "cell_type": "code",
      "execution_count": 30,
      "metadata": {
        "id": "R7QQeqVidKBR",
        "colab": {
          "base_uri": "https://localhost:8080/"
        },
        "outputId": "06c6eee6-cc72-49c1-b7e6-ae48a2ade5b1"
      },
      "outputs": [
        {
          "output_type": "stream",
          "name": "stdout",
          "text": [
            "469/469 [==============================] - 3s 5ms/step - loss: 1.0137 - accuracy: 0.5730\n"
          ]
        }
      ],
      "source": [
        "test_acc = model.evaluate(X_test, y_test)"
      ]
    },
    {
      "cell_type": "code",
      "source": [
        "test_acc"
      ],
      "metadata": {
        "id": "6fuTmgGrUgGg",
        "colab": {
          "base_uri": "https://localhost:8080/"
        },
        "outputId": "a4f407e5-1e93-4fd9-87db-0d00c507116d"
      },
      "execution_count": 31,
      "outputs": [
        {
          "output_type": "execute_result",
          "data": {
            "text/plain": [
              "[1.0136940479278564, 0.5730000138282776]"
            ]
          },
          "metadata": {},
          "execution_count": 31
        }
      ]
    },
    {
      "cell_type": "code",
      "execution_count": 32,
      "metadata": {
        "id": "OHpifyqGdKn-",
        "colab": {
          "base_uri": "https://localhost:8080/"
        },
        "outputId": "6193263a-915e-4eb2-fa11-e87d0c36a622"
      },
      "outputs": [
        {
          "output_type": "stream",
          "name": "stdout",
          "text": [
            "469/469 [==============================] - 2s 4ms/step\n"
          ]
        }
      ],
      "source": [
        "y_test_prob = model.predict(X_test, verbose=1)"
      ]
    },
    {
      "cell_type": "code",
      "source": [
        "np.set_printoptions(suppress=True)\n",
        "y_test_prob_backup = y_test_prob\n",
        "y_test_prob"
      ],
      "metadata": {
        "id": "rRPswrrkmhp2",
        "colab": {
          "base_uri": "https://localhost:8080/"
        },
        "outputId": "d79d4170-3c7d-410b-b08b-62c4ddbe6436"
      },
      "execution_count": 33,
      "outputs": [
        {
          "output_type": "execute_result",
          "data": {
            "text/plain": [
              "array([[0.00155542, 0.02537911, 0.35414007, ..., 0.1347409 , 0.09726319,\n",
              "        0.03721102],\n",
              "       [0.        , 0.00003572, 0.15949348, ..., 0.04920213, 0.00013735,\n",
              "        0.00000106],\n",
              "       [0.94193   , 0.05596552, 0.00015203, ..., 0.00001151, 0.00021959,\n",
              "        0.00170644],\n",
              "       ...,\n",
              "       [0.00021496, 0.00217563, 0.09925682, ..., 0.2738261 , 0.13811655,\n",
              "        0.03680334],\n",
              "       [0.00002274, 0.00033735, 0.08449731, ..., 0.29091   , 0.09890722,\n",
              "        0.01699129],\n",
              "       [0.0020657 , 0.00096914, 0.00646982, ..., 0.06003435, 0.33466786,\n",
              "        0.5422356 ]], dtype=float32)"
            ]
          },
          "metadata": {},
          "execution_count": 33
        }
      ]
    },
    {
      "cell_type": "code",
      "source": [
        "plt.figure(figsize=(10,10))\n",
        "plt.hist(y_test_prob_backup)"
      ],
      "metadata": {
        "colab": {
          "base_uri": "https://localhost:8080/",
          "height": 951
        },
        "id": "zEfx01QSE3Qh",
        "outputId": "16e19060-5d46-4748-e9c6-00b5fa39646d"
      },
      "execution_count": 34,
      "outputs": [
        {
          "output_type": "execute_result",
          "data": {
            "text/plain": [
              "(array([[12907.,    58.,    36.,    33.,    30.,    46.,    58.,    82.,\n",
              "           149.,  1601.],\n",
              "        [12759.,   307.,   103.,    74.,    45.,    27.,    39.,    52.,\n",
              "            75.,  1519.],\n",
              "        [11205.,  1404.,   556.,   268.,   221.,   237.,   250.,   262.,\n",
              "           559.,    38.],\n",
              "        [ 8207.,  3246.,  2145.,   614.,   248.,   268.,   272.,     0.,\n",
              "             0.,     0.],\n",
              "        [ 8327.,  3081.,  1940.,  1152.,   500.,     0.,     0.,     0.,\n",
              "             0.,     0.],\n",
              "        [ 8031.,  2798.,  2815.,  1349.,     7.,     0.,     0.,     0.,\n",
              "             0.,     0.],\n",
              "        [ 7925.,  1605.,  2708.,  2756.,     6.,     0.,     0.,     0.,\n",
              "             0.,     0.],\n",
              "        [ 9780.,  1344.,   846.,   734.,   561.,   516.,   576.,   590.,\n",
              "            53.,     0.]]),\n",
              " array([0.        , 0.09997892, 0.19995783, 0.29993674, 0.39991567,\n",
              "        0.4998946 , 0.5998735 , 0.6998524 , 0.79983133, 0.89981025,\n",
              "        0.9997892 ], dtype=float32),\n",
              " <a list of 8 Lists of Patches objects>)"
            ]
          },
          "metadata": {},
          "execution_count": 34
        },
        {
          "output_type": "display_data",
          "data": {
            "text/plain": [
              "<Figure size 720x720 with 1 Axes>"
            ],
            "image/png": "[encoded data removed]"
          },
          "metadata": {
            "needs_background": "light"
          }
        }
      ]
    },
    {
      "cell_type": "code",
      "source": [
        "c0, c1, c2, c3, c4, c5, c6, c7 = [], [], [], [], [], [], [], []\n",
        "\n",
        "i = 0\n",
        "l = len(y_test_prob_backup)\n",
        "while  l > 0:\n",
        "  c0.append(y_test_prob_backup[i][0])\n",
        "  c1.append(y_test_prob_backup[i][1])\n",
        "  c2.append(y_test_prob_backup[i][2])\n",
        "  c3.append(y_test_prob_backup[i][3])\n",
        "  c4.append(y_test_prob_backup[i][4])\n",
        "  c5.append(y_test_prob_backup[i][5])\n",
        "  c6.append(y_test_prob_backup[i][6])\n",
        "  c7.append(y_test_prob_backup[i][7])\n",
        "  i+=1\n",
        "  l-=1\n",
        "#print(c5[:10])"
      ],
      "metadata": {
        "id": "AeH9mwYbKj2K"
      },
      "execution_count": 35,
      "outputs": []
    },
    {
      "cell_type": "code",
      "source": [
        "#plt.figure(figsize=(40,20))\n",
        "fig, axes = plt.subplots(nrows=2, ncols=4)\n",
        "ax0, ax1, ax2, ax3, ax4, ax5, ax6, ax7 = axes.flatten()\n",
        "\n",
        "ax0.hist(c0)\n",
        "ax0.set_title(\"class 0\")\n",
        "ax1.hist(c1)\n",
        "ax1.set_title(\"class 1\")\n",
        "ax2.hist(c2)\n",
        "ax2.set_title(\"class 2\")\n",
        "ax3.hist(c3)\n",
        "ax3.set_title(\"class 3\")\n",
        "ax4.hist(c4)\n",
        "ax4.set_title(\"class 4\")\n",
        "ax5.hist(c5)\n",
        "ax5.set_title(\"class 5\")\n",
        "ax6.hist(c6)\n",
        "ax6.set_title(\"class 6\")\n",
        "ax7.hist(c7)\n",
        "ax7.set_title(\"class 7\")\n",
        "\n",
        "fig.set_size_inches(25,10)\n",
        "plt.show()"
      ],
      "metadata": {
        "id": "tRycz48aHgXl",
        "outputId": "fe2f5876-b7e6-4735-f341-d14b9b31a766",
        "colab": {
          "base_uri": "https://localhost:8080/",
          "height": 443
        }
      },
      "execution_count": 36,
      "outputs": [
        {
          "output_type": "display_data",
          "data": {
            "text/plain": [
              "<Figure size 1800x720 with 8 Axes>"
            ],
            "image/png": "[encoded data removed]"
          },
          "metadata": {
            "needs_background": "light"
          }
        }
      ]
    },
    {
      "cell_type": "code",
      "execution_count": 37,
      "metadata": {
        "id": "AfmdrBILdMwj"
      },
      "outputs": [],
      "source": [
        "y_test_pred = np.where(y_test_prob > 0.5, 1, 0)"
      ]
    },
    {
      "cell_type": "code",
      "execution_count": 38,
      "metadata": {
        "id": "8DoJy_p9dPzN"
      },
      "outputs": [],
      "source": [
        "from sklearn.metrics import multilabel_confusion_matrix"
      ]
    },
    {
      "cell_type": "code",
      "source": [
        "y_test"
      ],
      "metadata": {
        "id": "n1Us2yrfcGl-",
        "colab": {
          "base_uri": "https://localhost:8080/"
        },
        "outputId": "078760f8-d827-48a9-cc0e-2a18e15e7282"
      },
      "execution_count": 39,
      "outputs": [
        {
          "output_type": "execute_result",
          "data": {
            "text/plain": [
              "array([[0., 1., 0., ..., 0., 0., 0.],\n",
              "       [0., 0., 0., ..., 0., 0., 0.],\n",
              "       [1., 0., 0., ..., 0., 0., 0.],\n",
              "       ...,\n",
              "       [0., 0., 0., ..., 0., 1., 0.],\n",
              "       [0., 0., 0., ..., 0., 0., 0.],\n",
              "       [0., 0., 0., ..., 0., 0., 1.]])"
            ]
          },
          "metadata": {},
          "execution_count": 39
        }
      ]
    },
    {
      "cell_type": "code",
      "source": [
        "y_test.shape"
      ],
      "metadata": {
        "id": "VnmvTcvWbxr9",
        "colab": {
          "base_uri": "https://localhost:8080/"
        },
        "outputId": "6882c1ec-a51d-4418-95af-13eb4bd6f3a1"
      },
      "execution_count": 40,
      "outputs": [
        {
          "output_type": "execute_result",
          "data": {
            "text/plain": [
              "(15000, 8)"
            ]
          },
          "metadata": {},
          "execution_count": 40
        }
      ]
    },
    {
      "cell_type": "code",
      "source": [
        "y_test_pred"
      ],
      "metadata": {
        "id": "nMBOgzrgcJBj",
        "colab": {
          "base_uri": "https://localhost:8080/"
        },
        "outputId": "aea5d060-8b2a-41d1-cb31-8b17767b4cfd"
      },
      "execution_count": 41,
      "outputs": [
        {
          "output_type": "execute_result",
          "data": {
            "text/plain": [
              "array([[0, 0, 0, ..., 0, 0, 0],\n",
              "       [0, 0, 0, ..., 0, 0, 0],\n",
              "       [1, 0, 0, ..., 0, 0, 0],\n",
              "       ...,\n",
              "       [0, 0, 0, ..., 0, 0, 0],\n",
              "       [0, 0, 0, ..., 0, 0, 0],\n",
              "       [0, 0, 0, ..., 0, 0, 1]])"
            ]
          },
          "metadata": {},
          "execution_count": 41
        }
      ]
    },
    {
      "cell_type": "code",
      "source": [
        "y_test_pred.shape"
      ],
      "metadata": {
        "id": "SXKZof8Ye5uI",
        "colab": {
          "base_uri": "https://localhost:8080/"
        },
        "outputId": "666d8ddd-87f9-43c6-a8df-c2105a69abb0"
      },
      "execution_count": 42,
      "outputs": [
        {
          "output_type": "execute_result",
          "data": {
            "text/plain": [
              "(15000, 8)"
            ]
          },
          "metadata": {},
          "execution_count": 42
        }
      ]
    },
    {
      "cell_type": "code",
      "source": [
        "y_decoded_pred = tf.argmax(y_test_pred, axis = 1)"
      ],
      "metadata": {
        "id": "leDQwKOjgwwi"
      },
      "execution_count": 43,
      "outputs": []
    },
    {
      "cell_type": "code",
      "source": [
        "y_decoded = tf.argmax(y_test, axis = 1)"
      ],
      "metadata": {
        "id": "sAHRmtesif6g"
      },
      "execution_count": 44,
      "outputs": []
    },
    {
      "cell_type": "code",
      "source": [
        "y_decoded_pred"
      ],
      "metadata": {
        "id": "_lvFhrmPhprD",
        "colab": {
          "base_uri": "https://localhost:8080/"
        },
        "outputId": "ef2a0c6f-a27d-4d16-fd26-6bd22d9c55f2"
      },
      "execution_count": 45,
      "outputs": [
        {
          "output_type": "execute_result",
          "data": {
            "text/plain": [
              "<tf.Tensor: shape=(15000,), dtype=int64, numpy=array([0, 3, 0, ..., 0, 0, 7])>"
            ]
          },
          "metadata": {},
          "execution_count": 45
        }
      ]
    },
    {
      "cell_type": "code",
      "source": [
        "y_decoded"
      ],
      "metadata": {
        "id": "YV1FXgHviPwm",
        "colab": {
          "base_uri": "https://localhost:8080/"
        },
        "outputId": "350cb801-0985-4471-de74-58fe19bbe700"
      },
      "execution_count": 46,
      "outputs": [
        {
          "output_type": "execute_result",
          "data": {
            "text/plain": [
              "<tf.Tensor: shape=(15000,), dtype=int64, numpy=array([1, 4, 0, ..., 6, 3, 7])>"
            ]
          },
          "metadata": {},
          "execution_count": 46
        }
      ]
    },
    {
      "cell_type": "code",
      "source": [
        "y_test_pred = y_decoded_pred\n"
      ],
      "metadata": {
        "id": "6-6jFqzGh380"
      },
      "execution_count": 47,
      "outputs": []
    },
    {
      "cell_type": "code",
      "source": [
        "y_test = y_decoded"
      ],
      "metadata": {
        "id": "9pogVvdIiwss"
      },
      "execution_count": 48,
      "outputs": []
    },
    {
      "cell_type": "code",
      "source": [
        "y_test"
      ],
      "metadata": {
        "id": "oGt5aJetiKR6",
        "colab": {
          "base_uri": "https://localhost:8080/"
        },
        "outputId": "1fe306d7-6493-4946-cf88-f613ecffac10"
      },
      "execution_count": 49,
      "outputs": [
        {
          "output_type": "execute_result",
          "data": {
            "text/plain": [
              "<tf.Tensor: shape=(15000,), dtype=int64, numpy=array([1, 4, 0, ..., 6, 3, 7])>"
            ]
          },
          "metadata": {},
          "execution_count": 49
        }
      ]
    },
    {
      "cell_type": "code",
      "source": [
        "y_test_pred"
      ],
      "metadata": {
        "id": "fLgDwAIfiyv2",
        "colab": {
          "base_uri": "https://localhost:8080/"
        },
        "outputId": "888480d3-34fd-461b-c4fc-9c7eb35a2503"
      },
      "execution_count": 50,
      "outputs": [
        {
          "output_type": "execute_result",
          "data": {
            "text/plain": [
              "<tf.Tensor: shape=(15000,), dtype=int64, numpy=array([0, 3, 0, ..., 0, 0, 7])>"
            ]
          },
          "metadata": {},
          "execution_count": 50
        }
      ]
    },
    {
      "cell_type": "code",
      "execution_count": 51,
      "metadata": {
        "id": "fTCsPjW8dQaZ"
      },
      "outputs": [],
      "source": [
        "cfm=confusion_matrix(y_test, y_test_pred)"
      ]
    },
    {
      "cell_type": "code",
      "source": [
        "cfm"
      ],
      "metadata": {
        "id": "_67lPg6ic4cH",
        "colab": {
          "base_uri": "https://localhost:8080/"
        },
        "outputId": "86ccf42f-d3b7-4330-936d-208d9558d46b"
      },
      "execution_count": 52,
      "outputs": [
        {
          "output_type": "execute_result",
          "data": {
            "text/plain": [
              "array([[1835,   38,    0,    0,    0,    0,    0,    4],\n",
              "       [ 157, 1594,   49,    0,    0,    0,    0,    1],\n",
              "       [ 697,   75, 1025,   33,    0,    0,    0,    5],\n",
              "       [1334,    3,  219,  364,    0,    0,    0,    6],\n",
              "       [1699,    0,   25,  128,    0,    0,    0,   34],\n",
              "       [1853,    0,   19,   15,    0,    0,    0,   58],\n",
              "       [1350,    1,    7,    0,    0,    0,    0,  514],\n",
              "       [ 743,    1,    1,    0,    0,    0,    0, 1113]])"
            ]
          },
          "metadata": {},
          "execution_count": 52
        }
      ]
    },
    {
      "cell_type": "code",
      "source": [
        " print(classification_report(y_test,y_test_pred))"
      ],
      "metadata": {
        "id": "XTqR_xnwRWCJ",
        "colab": {
          "base_uri": "https://localhost:8080/"
        },
        "outputId": "11fcc32f-27d6-4208-e970-23e2200db403"
      },
      "execution_count": 53,
      "outputs": [
        {
          "output_type": "stream",
          "name": "stdout",
          "text": [
            "              precision    recall  f1-score   support\n",
            "\n",
            "           0       0.19      0.98      0.32      1877\n",
            "           1       0.93      0.89      0.91      1801\n",
            "           2       0.76      0.56      0.64      1835\n",
            "           3       0.67      0.19      0.30      1926\n",
            "           4       0.00      0.00      0.00      1886\n",
            "           5       0.00      0.00      0.00      1945\n",
            "           6       0.00      0.00      0.00      1872\n",
            "           7       0.64      0.60      0.62      1858\n",
            "\n",
            "    accuracy                           0.40     15000\n",
            "   macro avg       0.40      0.40      0.35     15000\n",
            "weighted avg       0.39      0.40      0.34     15000\n",
            "\n"
          ]
        }
      ]
    },
    {
      "cell_type": "code",
      "execution_count": 54,
      "metadata": {
        "id": "te3fslrY9Eca",
        "colab": {
          "base_uri": "https://localhost:8080/",
          "height": 900
        },
        "outputId": "0729ac36-2f6b-4e97-ab10-bc091cb60b06"
      },
      "outputs": [
        {
          "output_type": "stream",
          "name": "stdout",
          "text": [
            "Confusion matrix, without normalization\n",
            "[[1835   38    0    0    0    0    0    4]\n",
            " [ 157 1594   49    0    0    0    0    1]\n",
            " [ 697   75 1025   33    0    0    0    5]\n",
            " [1334    3  219  364    0    0    0    6]\n",
            " [1699    0   25  128    0    0    0   34]\n",
            " [1853    0   19   15    0    0    0   58]\n",
            " [1350    1    7    0    0    0    0  514]\n",
            " [ 743    1    1    0    0    0    0 1113]]\n",
            "Normalized confusion matrix\n",
            "[[0.98 0.02 0.   0.   0.   0.   0.   0.  ]\n",
            " [0.09 0.89 0.03 0.   0.   0.   0.   0.  ]\n",
            " [0.38 0.04 0.56 0.02 0.   0.   0.   0.  ]\n",
            " [0.69 0.   0.11 0.19 0.   0.   0.   0.  ]\n",
            " [0.9  0.   0.01 0.07 0.   0.   0.   0.02]\n",
            " [0.95 0.   0.01 0.01 0.   0.   0.   0.03]\n",
            " [0.72 0.   0.   0.   0.   0.   0.   0.27]\n",
            " [0.4  0.   0.   0.   0.   0.   0.   0.6 ]]\n"
          ]
        },
        {
          "output_type": "display_data",
          "data": {
            "text/plain": [
              "<Figure size 432x288 with 2 Axes>"
            ],
            "image/png": "[encoded data removed]"
          },
          "metadata": {
            "needs_background": "light"
          }
        },
        {
          "output_type": "display_data",
          "data": {
            "text/plain": [
              "<Figure size 432x288 with 2 Axes>"
            ],
            "image/png": "[encoded data removed]"
          },
          "metadata": {
            "needs_background": "light"
          }
        }
      ],
      "source": [
        "import numpy as np\n",
        "import matplotlib.pyplot as plt\n",
        "\n",
        "from sklearn import svm, datasets\n",
        "from sklearn.model_selection import train_test_split\n",
        "from sklearn.metrics import confusion_matrix\n",
        "from sklearn.utils.multiclass import unique_labels\n",
        "\n",
        "class_names = np.array(['0', '1', '2', '3', '4', '5', '6', '7'])\n",
        "\n",
        "def plot_confusion_matrix(y_true, y_pred, classes,\n",
        "                          normalize=False,\n",
        "                          title=None,\n",
        "                          cmap=plt.cm.Blues):\n",
        "    \"\"\"\n",
        "    This function prints and plots the confusion matrix.\n",
        "    Normalization can be applied by setting `normalize=True`.\n",
        "    \"\"\"\n",
        "    if not title:\n",
        "        if normalize:\n",
        "            title = 'Normalized confusion matrix'\n",
        "        else:\n",
        "            title = 'Confusion matrix, without normalization'\n",
        "\n",
        "    # Compute confusion matrix\n",
        "    cm = confusion_matrix(y_true, y_pred)\n",
        "    # Only use the labels that appear in the data\n",
        "    classes = classes[unique_labels(y_true, y_pred)]\n",
        "    if normalize:\n",
        "        cm = cm.astype('float') / cm.sum(axis=1)[:, np.newaxis]\n",
        "        print(\"Normalized confusion matrix\")\n",
        "    else:\n",
        "        print('Confusion matrix, without normalization')\n",
        "\n",
        "    print(cm)\n",
        "\n",
        "    fig, ax = plt.subplots()\n",
        "    im = ax.imshow(cm, interpolation='nearest', cmap=cmap)\n",
        "    ax.figure.colorbar(im, ax=ax)\n",
        "    # We want to show all ticks...\n",
        "    ax.set(xticks=np.arange(cm.shape[1]),\n",
        "           yticks=np.arange(cm.shape[0]),\n",
        "           # ... and label them with the respective list entries\n",
        "           xticklabels=classes, yticklabels=classes,\n",
        "           title=title,\n",
        "           ylabel='True label',\n",
        "           xlabel='Predicted label')\n",
        "\n",
        "    # Rotate the tick labels and set their alignment.\n",
        "    plt.setp(ax.get_xticklabels(), rotation=45, ha=\"right\",\n",
        "             rotation_mode=\"anchor\")\n",
        "\n",
        "    # Loop over data dimensions and create text annotations.\n",
        "    fmt = '.2f' if normalize else 'd'\n",
        "    thresh = cm.max() / 2.\n",
        "    for i in range(cm.shape[0]):\n",
        "        for j in range(cm.shape[1]):\n",
        "            ax.text(j, i, format(cm[i, j], fmt),\n",
        "                    ha=\"center\", va=\"center\",\n",
        "                    color=\"white\" if cm[i, j] > thresh else \"black\")\n",
        "    fig.tight_layout()\n",
        "\n",
        "    return ax\n",
        "\n",
        "\n",
        "np.set_printoptions(precision=2)\n",
        "\n",
        "# Plot non-normalized confusion matrix\n",
        "plot_confusion_matrix(y_test, y_test_pred, classes=class_names,\n",
        "                      title='Confusion matrix, without normalization')\n",
        "\n",
        "# Plot normalized confusion matrix\n",
        "plot_confusion_matrix(y_test, y_test_pred, classes=class_names, normalize=True,\n",
        "                      title='Normalized confusion matrix')\n",
        "\n",
        "plt.show()"
      ]
    },
    {
      "cell_type": "code",
      "execution_count": 55,
      "metadata": {
        "id": "fhdLAhgPUnH3"
      },
      "outputs": [],
      "source": [
        "def plot_learningCurve(history, epoch):\n",
        "  # Plot training & validation accuracy values\n",
        "  epoch_range = range(1, epoch+1)\n",
        "  plt.plot(epoch_range, history.history['accuracy'])\n",
        "  plt.plot(epoch_range, history.history['val_accuracy'])\n",
        "  plt.title('Model accuracy')\n",
        "  plt.ylabel('Accuracy')\n",
        "  plt.xlabel('Epoch')\n",
        "  plt.legend(['Train', 'Val'], loc='upper left')\n",
        "  plt.show()\n",
        "\n",
        "  # Plot training & validation loss values\n",
        "  plt.plot(epoch_range, history.history['loss'])\n",
        "  plt.plot(epoch_range, history.history['val_loss'])\n",
        "  plt.title('Model loss')\n",
        "  plt.ylabel('Loss')\n",
        "  plt.xlabel('Epoch')\n",
        "  plt.legend(['Train', 'Val'], loc='upper left')\n",
        "  plt.show()"
      ]
    },
    {
      "cell_type": "code",
      "execution_count": 56,
      "metadata": {
        "id": "WlkQkWHgU5mL",
        "colab": {
          "base_uri": "https://localhost:8080/",
          "height": 581
        },
        "outputId": "d492edb1-3375-47df-9fea-077762e4420e"
      },
      "outputs": [
        {
          "output_type": "display_data",
          "data": {
            "text/plain": [
              "<Figure size 432x288 with 1 Axes>"
            ],
            "image/png": "[encoded data removed]"
          },
          "metadata": {
            "needs_background": "light"
          }
        },
        {
          "output_type": "display_data",
          "data": {
            "text/plain": [
              "<Figure size 432x288 with 1 Axes>"
            ],
            "image/png": "[encoded data removed]"
          },
          "metadata": {
            "needs_background": "light"
          }
        }
      ],
      "source": [
        "plot_learningCurve(history, 100)"
      ]
    }
  ],
  "metadata": {
    "colab": {
      "collapsed_sections": [
        "f857kfHqUk0-"
      ],
      "name": "Multi_Class_MD_LSTM_step_200_files_120.ipynb",
      "provenance": [],
      "include_colab_link": true
    },
    "kernelspec": {
      "display_name": "Python 3",
      "name": "python3"
    },
    "language_info": {
      "name": "python"
    },
    "accelerator": "GPU"
  },
  "nbformat": 4,
  "nbformat_minor": 0
}