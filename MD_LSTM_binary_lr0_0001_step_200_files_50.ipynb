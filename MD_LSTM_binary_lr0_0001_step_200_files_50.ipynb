{
  "cells": [
    {
      "cell_type": "markdown",
      "metadata": {
        "id": "view-in-github",
        "colab_type": "text"
      },
      "source": [
        "<a href=\"https://colab.research.google.com/github/kwanderer/MachineLearning/blob/main/MD_LSTM_binary_lr0_0001_step_200_files_50.ipynb\" target=\"_parent\"><img src=\"https://colab.research.google.com/assets/colab-badge.svg\" alt=\"Open In Colab\"/></a>"
      ]
    },
    {
      "cell_type": "markdown",
      "metadata": {
        "id": "f857kfHqUk0-"
      },
      "source": [
        "\n",
        "\n",
        "#Datu kopa"
      ]
    },
    {
      "cell_type": "markdown",
      "metadata": {
        "id": "nM9WE3QGUwVi"
      },
      "source": [
        "Datu kopas avots: https://www.kaggle.com/uysalserkan/fault-induction-motor-dataset"
      ]
    },
    {
      "cell_type": "markdown",
      "metadata": {
        "id": "_sN_h3qHHy6r"
      },
      "source": [
        "Darbā tiek izmantota indukcijas motora parametru datu bāze. Izmantotajā datu kopā ir dati, kas tika iegūti SpectraQuest aparatūras kļūdu simulatorā (Machinery Fault Simulator).\n",
        "\n",
        "Katra mērījumu secība tika ģenerēta ar frekvenci 50 kHz 5 sekunžu laikā, kopā 250 000 mērījumi.\n",
        "\n",
        "Dati ir apkopoti vairākos failos, dažādos darbības stāvokļos un to apjoms ir ļoti liels. Šajā darbā tika izmantota daļa(viena mērījumu secība) no motora normālas darbības datiem.\n"
      ]
    },
    {
      "cell_type": "markdown",
      "metadata": {
        "id": "KtFAOaHYHLPo"
      },
      "source": [
        "Dati ir apkopoti tabulā, kura satur 8 parametrus. Dati ir iedalīti sekojošās kolonas:\n",
        "\n",
        "**tachometer** – tahometra signāls, kas ļauj novērtēt rotācijas frekvenci\n",
        "\n",
        "**und-accelerometer-axial** - apakšā esošā gultņa akselerometrs (aksiālais virziens)\n",
        "\n",
        "**und-accelerometer-radial** – apakšā esošā gultņa akselerometrs (radiālais virziens)\n",
        "\n",
        "**und-accelerometer-tangential** - apakšā esošā gultņa akselerometrs (tangenciālais virziens)\n",
        "\n",
        "**over-accelerometer-axial** - pārkares gultņa akselerometrs (aksiālais virziens)\n",
        "\n",
        "**over-accelerometer-radial** – pārkares gultņa akselerometrs (radiālais  virziens)\n",
        "\n",
        "**over-accelerometer-tangential**  - pārkares gultņa akselerometrs (tangenciālais virziens)\n",
        "\n",
        "**microphone** – mikrofona vērtība\n"
      ]
    },
    {
      "cell_type": "markdown",
      "metadata": {
        "id": "XymoNLKMVFUC"
      },
      "source": [
        "#Datu ielasīšana un satura vizualizācija"
      ]
    },
    {
      "cell_type": "code",
      "execution_count": 1,
      "metadata": {
        "id": "_yqYZDeOFq5s"
      },
      "outputs": [],
      "source": [
        "import keras\n",
        "from keras.layers import LSTM, Dropout, Dense\n",
        "import tensorflow as tf\n",
        "import numpy as np\n",
        "import pandas as pd\n",
        "\n",
        "from sklearn import linear_model  #pip install sklearn - loti plasa masinapmacibas biblioteka\n",
        "from sklearn.linear_model import LinearRegression  \n",
        "import csv          #pip install csv - darbam ar CSV datu kopam\n",
        "import requests     #pip install requests  - vienkarsakam darbam ar tiessaistes CSV datu kopam tiessaistes\n",
        "\n",
        "import matplotlib\n",
        "import matplotlib.pyplot as plt\n",
        "\n",
        "import glob\n"
      ]
    },
    {
      "cell_type": "code",
      "execution_count": 2,
      "metadata": {
        "id": "wlRTBbM2eUcV",
        "colab": {
          "base_uri": "https://localhost:8080/"
        },
        "outputId": "bc89d9d3-5a67-4d65-ce0b-75af4c1a1b9c"
      },
      "outputs": [
        {
          "output_type": "stream",
          "name": "stdout",
          "text": [
            "Mounted at /content/gdrive\n"
          ]
        }
      ],
      "source": [
        "from google.colab import drive\n",
        "import os\n",
        "drive.mount('/content/gdrive')\n",
        "os.chdir(\"/content/gdrive/MyDrive/Colab Notebooks/data_binary/\")"
      ]
    },
    {
      "cell_type": "code",
      "execution_count": 3,
      "metadata": {
        "id": "zzz6fBl_SNom"
      },
      "outputs": [],
      "source": [
        "#extension = 'csv'\n",
        "#all_filenames = [i for i in glob.glob('*.{}'.format(extension))]"
      ]
    },
    {
      "cell_type": "code",
      "execution_count": 4,
      "metadata": {
        "id": "vagKFCkToBi0"
      },
      "outputs": [],
      "source": [
        "#combine all files in the list\n",
        "#combined_csv = pd.concat([pd.read_csv(f) for f in all_filenames ])\n",
        "#export to csv\n",
        "#combined_csv.to_csv( \"binary_data_csv.csv\", index=False, encoding='utf-8-sig')"
      ]
    },
    {
      "cell_type": "code",
      "execution_count": 5,
      "metadata": {
        "id": "encEkbDhSfGI"
      },
      "outputs": [],
      "source": [
        "data = pd.read_csv(\"binary_data_csv.csv\")"
      ]
    },
    {
      "cell_type": "code",
      "execution_count": 6,
      "metadata": {
        "id": "yz5Qe8ZWk1Zq",
        "colab": {
          "base_uri": "https://localhost:8080/"
        },
        "outputId": "87f29678-a211-4910-cd67-d1e14614d9fb"
      },
      "outputs": [
        {
          "output_type": "stream",
          "name": "stdout",
          "text": [
            "<class 'pandas.core.frame.DataFrame'>\n",
            "RangeIndex: 12500000 entries, 0 to 12499999\n",
            "Data columns (total 9 columns):\n",
            " #   Column                         Dtype  \n",
            "---  ------                         -----  \n",
            " 0   tachometer                     float64\n",
            " 1   und-accelerometer-axial        float64\n",
            " 2   und-accelerometer-radial       float64\n",
            " 3   und-accelerometer-tangential   float64\n",
            " 4   over-accelerometer-axial       float64\n",
            " 5   over-accelerometer-radial      float64\n",
            " 6   over-accelerometer-tangential  float64\n",
            " 7   microphone                     float64\n",
            " 8   Class                          int64  \n",
            "dtypes: float64(8), int64(1)\n",
            "memory usage: 858.3 MB\n"
          ]
        }
      ],
      "source": [
        "data.info()"
      ]
    },
    {
      "cell_type": "code",
      "execution_count": 7,
      "metadata": {
        "id": "WUW9ezX6a_st",
        "colab": {
          "base_uri": "https://localhost:8080/"
        },
        "outputId": "1c0a03b0-dda0-4665-fdf4-c20382b1f62a"
      },
      "outputs": [
        {
          "output_type": "execute_result",
          "data": {
            "text/plain": [
              "12500000"
            ]
          },
          "metadata": {},
          "execution_count": 7
        }
      ],
      "source": [
        "rec_count = len(data)\n",
        "rec_count"
      ]
    },
    {
      "cell_type": "markdown",
      "source": [
        "# Datu dalīšana mazākos gabalos"
      ],
      "metadata": {
        "id": "6RVC1PZy88fC"
      }
    },
    {
      "cell_type": "code",
      "execution_count": 8,
      "metadata": {
        "id": "DOvnCYkcbGaE"
      },
      "outputs": [],
      "source": [
        "sequence_length = 200"
      ]
    },
    {
      "cell_type": "code",
      "execution_count": 9,
      "metadata": {
        "id": "RG0o2L3zbTEx"
      },
      "outputs": [],
      "source": [
        "def generate_data(X, y, sequence_length = 200, step = 200):\n",
        "    X_local = []\n",
        "    y_local = []\n",
        "    for start in range(0, len(data) - sequence_length, step):\n",
        "        end = start + sequence_length\n",
        "        X_local.append(X[start:end])\n",
        "        y_local.append(y[end-1])\n",
        "    return np.array(X_local), np.array(y_local)\n",
        "\n",
        "X_sequence, y = generate_data(data.loc[:, \"tachometer\":\"microphone\"].values, data.Class)"
      ]
    },
    {
      "cell_type": "code",
      "execution_count": 10,
      "metadata": {
        "id": "s0QxwK66cLVF",
        "colab": {
          "base_uri": "https://localhost:8080/"
        },
        "outputId": "fc919cab-6e40-47c7-d046-838480224d69"
      },
      "outputs": [
        {
          "output_type": "execute_result",
          "data": {
            "text/plain": [
              "((62499, 200, 8), (62499,))"
            ]
          },
          "metadata": {},
          "execution_count": 10
        }
      ],
      "source": [
        "X_sequence.shape, y.shape"
      ]
    },
    {
      "cell_type": "code",
      "source": [
        "data = 0"
      ],
      "metadata": {
        "id": "i7R1oo6Mj8wx"
      },
      "execution_count": 11,
      "outputs": []
    },
    {
      "cell_type": "markdown",
      "source": [
        "# Random/Shuffle"
      ],
      "metadata": {
        "id": "5BXSDoHa9UX_"
      }
    },
    {
      "cell_type": "code",
      "source": [
        "shuffler = np.random.permutation(len(X_sequence))\n",
        "X_sequence_shuffled = X_sequence[shuffler]\n",
        "y_shuffled = y[shuffler]"
      ],
      "metadata": {
        "id": "ZcfE9idy-ckb"
      },
      "execution_count": 12,
      "outputs": []
    },
    {
      "cell_type": "markdown",
      "source": [
        "# LSTM"
      ],
      "metadata": {
        "id": "TfhRTTNcE2s8"
      }
    },
    {
      "cell_type": "code",
      "execution_count": 13,
      "metadata": {
        "id": "ihrXMuVAEwlY"
      },
      "outputs": [],
      "source": [
        "import pandas as pd\n",
        "import sklearn.metrics as metrique\n",
        "from pandas import Series\n",
        "from sklearn.preprocessing import StandardScaler, MinMaxScaler\n",
        "from matplotlib import pyplot\n",
        "from sklearn.model_selection import train_test_split\n",
        "import numpy as np\n",
        "import tensorflow as tf\n",
        "import sys\n",
        "import numpy as np\n",
        "import pandas as pd\n",
        "import tensorflow as tf\n",
        "import matplotlib.pyplot as plt\n",
        "from sklearn.model_selection import train_test_split\n",
        "from sklearn import preprocessing\n",
        "from sklearn.preprocessing import StandardScaler\n",
        "from sklearn.metrics import classification_report\n",
        "import warnings\n",
        "warnings.filterwarnings('ignore')\n",
        "plt.style.use('ggplot')\n",
        "import seaborn as sns \n",
        "%matplotlib inline\n",
        "from keras.callbacks import EarlyStopping\n",
        "from keras.callbacks import ModelCheckpoint\n",
        "from sklearn.metrics import accuracy_score\n",
        "from sklearn.metrics import classification_report, confusion_matrix\n",
        "from keras.models import Sequential\n",
        "from keras.utils import np_utils\n",
        "from keras.layers import LSTM, Dense, Embedding, Dropout,Input, Layer, Concatenate, Permute, Dot, Multiply, Flatten\n",
        "from keras.layers import RepeatVector, Dense, Activation, Lambda\n",
        "from keras.models import Sequential\n",
        "from keras import backend as K, regularizers, Model, metrics\n",
        "from keras.backend import cast"
      ]
    },
    {
      "cell_type": "code",
      "execution_count": 14,
      "metadata": {
        "id": "PjKWKiA6aH3z",
        "colab": {
          "base_uri": "https://localhost:8080/"
        },
        "outputId": "cf53aec2-0f93-48f8-b892-7f3b0359e506"
      },
      "outputs": [
        {
          "output_type": "stream",
          "name": "stdout",
          "text": [
            "Model: \"sequential\"\n",
            "_________________________________________________________________\n",
            " Layer (type)                Output Shape              Param #   \n",
            "=================================================================\n",
            " lstm (LSTM)                 (None, 100)               43600     \n",
            "                                                                 \n",
            " dropout (Dropout)           (None, 100)               0         \n",
            "                                                                 \n",
            " dense (Dense)               (None, 1)                 101       \n",
            "                                                                 \n",
            "=================================================================\n",
            "Total params: 43,701\n",
            "Trainable params: 43,701\n",
            "Non-trainable params: 0\n",
            "_________________________________________________________________\n"
          ]
        }
      ],
      "source": [
        "from tensorflow.keras import optimizers\n",
        "sgd = optimizers.SGD(lr=0.0001, decay=1e-6, momentum=0.9, nesterov=True)\n",
        "model = keras.Sequential()\n",
        "model.add(LSTM(100, input_shape = (200, 8)))\n",
        "model.add(Dropout(0.5))\n",
        "model.add(Dense(1, activation=\"sigmoid\"))\n",
        "\n",
        "#model.compile(loss='mean_squared_error', optimizer=sgd)\n",
        "model.compile(loss=\"binary_crossentropy\"\n",
        "              , metrics=[keras.metrics.binary_accuracy]\n",
        "              , optimizer=sgd)\n",
        "\n",
        "model.summary()"
      ]
    },
    {
      "cell_type": "code",
      "execution_count": 15,
      "metadata": {
        "id": "tg8wrqsqc8UX"
      },
      "outputs": [],
      "source": [
        "training_size = int(len(X_sequence) * 0.8)\n",
        "val_size = int(len(X_sequence) * 0.9)"
      ]
    },
    {
      "cell_type": "code",
      "execution_count": 16,
      "metadata": {
        "id": "avIp3TEKc-qF"
      },
      "outputs": [],
      "source": [
        "X_train, y_train = X_sequence_shuffled[:training_size], y_shuffled[:training_size]\n",
        "X_val, y_val = X_sequence_shuffled[training_size:val_size], y_shuffled[training_size:val_size]\n",
        "X_test, y_test = X_sequence_shuffled[val_size:], y_shuffled[val_size:]"
      ]
    },
    {
      "cell_type": "code",
      "source": [
        "X_sequence = 0\n",
        "y = 0"
      ],
      "metadata": {
        "id": "RABc_uKzkBUT"
      },
      "execution_count": 17,
      "outputs": []
    },
    {
      "cell_type": "code",
      "execution_count": 18,
      "metadata": {
        "id": "cen4faX0dFJP",
        "colab": {
          "base_uri": "https://localhost:8080/"
        },
        "outputId": "5b188186-fdc5-42dd-acca-ed25a085583b"
      },
      "outputs": [
        {
          "output_type": "stream",
          "name": "stdout",
          "text": [
            "Epoch 1/50\n",
            "782/782 [==============================] - 153s 193ms/step - loss: 0.6874 - binary_accuracy: 0.5444 - val_loss: 0.6788 - val_binary_accuracy: 0.5899\n",
            "Epoch 2/50\n",
            "782/782 [==============================] - 150s 192ms/step - loss: 0.6766 - binary_accuracy: 0.5784 - val_loss: 0.6732 - val_binary_accuracy: 0.5939\n",
            "Epoch 3/50\n",
            "782/782 [==============================] - 155s 198ms/step - loss: 0.6727 - binary_accuracy: 0.5867 - val_loss: 0.6700 - val_binary_accuracy: 0.5944\n",
            "Epoch 4/50\n",
            "782/782 [==============================] - 152s 195ms/step - loss: 0.6688 - binary_accuracy: 0.5918 - val_loss: 0.6676 - val_binary_accuracy: 0.5944\n",
            "Epoch 5/50\n",
            "782/782 [==============================] - 151s 193ms/step - loss: 0.6671 - binary_accuracy: 0.5927 - val_loss: 0.6654 - val_binary_accuracy: 0.5944\n",
            "Epoch 6/50\n",
            "782/782 [==============================] - 153s 195ms/step - loss: 0.6649 - binary_accuracy: 0.5955 - val_loss: 0.6630 - val_binary_accuracy: 0.5944\n",
            "Epoch 7/50\n",
            "782/782 [==============================] - 153s 196ms/step - loss: 0.6625 - binary_accuracy: 0.5957 - val_loss: 0.6605 - val_binary_accuracy: 0.5944\n",
            "Epoch 8/50\n",
            "782/782 [==============================] - 152s 194ms/step - loss: 0.6601 - binary_accuracy: 0.5952 - val_loss: 0.6578 - val_binary_accuracy: 0.5944\n",
            "Epoch 9/50\n",
            "782/782 [==============================] - 151s 193ms/step - loss: 0.6570 - binary_accuracy: 0.5964 - val_loss: 0.6547 - val_binary_accuracy: 0.5944\n",
            "Epoch 10/50\n",
            "782/782 [==============================] - 151s 193ms/step - loss: 0.6534 - binary_accuracy: 0.5964 - val_loss: 0.6510 - val_binary_accuracy: 0.5944\n",
            "Epoch 11/50\n",
            "782/782 [==============================] - 151s 193ms/step - loss: 0.6498 - binary_accuracy: 0.5972 - val_loss: 0.6466 - val_binary_accuracy: 0.5944\n",
            "Epoch 12/50\n",
            "782/782 [==============================] - 152s 194ms/step - loss: 0.6450 - binary_accuracy: 0.5963 - val_loss: 0.6413 - val_binary_accuracy: 0.5944\n",
            "Epoch 13/50\n",
            "782/782 [==============================] - 151s 193ms/step - loss: 0.6387 - binary_accuracy: 0.5973 - val_loss: 0.6345 - val_binary_accuracy: 0.5942\n",
            "Epoch 14/50\n",
            "782/782 [==============================] - 151s 193ms/step - loss: 0.6319 - binary_accuracy: 0.6004 - val_loss: 0.6253 - val_binary_accuracy: 0.5928\n",
            "Epoch 15/50\n",
            "782/782 [==============================] - 151s 193ms/step - loss: 0.6217 - binary_accuracy: 0.6060 - val_loss: 0.6121 - val_binary_accuracy: 0.5971\n",
            "Epoch 16/50\n",
            "782/782 [==============================] - 153s 196ms/step - loss: 0.6048 - binary_accuracy: 0.6354 - val_loss: 0.5906 - val_binary_accuracy: 0.6710\n",
            "Epoch 17/50\n",
            "782/782 [==============================] - 151s 193ms/step - loss: 0.5753 - binary_accuracy: 0.6865 - val_loss: 0.5500 - val_binary_accuracy: 0.7179\n",
            "Epoch 18/50\n",
            "782/782 [==============================] - 152s 194ms/step - loss: 0.5246 - binary_accuracy: 0.7373 - val_loss: 0.4932 - val_binary_accuracy: 0.7622\n",
            "Epoch 19/50\n",
            "782/782 [==============================] - 152s 194ms/step - loss: 0.4768 - binary_accuracy: 0.7745 - val_loss: 0.4577 - val_binary_accuracy: 0.7882\n",
            "Epoch 20/50\n",
            "782/782 [==============================] - 152s 195ms/step - loss: 0.4484 - binary_accuracy: 0.7949 - val_loss: 0.4363 - val_binary_accuracy: 0.8021\n",
            "Epoch 21/50\n",
            "782/782 [==============================] - 152s 194ms/step - loss: 0.4241 - binary_accuracy: 0.8134 - val_loss: 0.3988 - val_binary_accuracy: 0.8338\n",
            "Epoch 22/50\n",
            "782/782 [==============================] - 151s 193ms/step - loss: 0.3985 - binary_accuracy: 0.8305 - val_loss: 0.3832 - val_binary_accuracy: 0.8403\n",
            "Epoch 23/50\n",
            "782/782 [==============================] - 151s 193ms/step - loss: 0.3767 - binary_accuracy: 0.8438 - val_loss: 0.3676 - val_binary_accuracy: 0.8470\n",
            "Epoch 24/50\n",
            "782/782 [==============================] - 151s 193ms/step - loss: 0.3603 - binary_accuracy: 0.8536 - val_loss: 0.3476 - val_binary_accuracy: 0.8541\n",
            "Epoch 25/50\n",
            "782/782 [==============================] - 152s 194ms/step - loss: 0.3460 - binary_accuracy: 0.8599 - val_loss: 0.3358 - val_binary_accuracy: 0.8627\n",
            "Epoch 26/50\n",
            "782/782 [==============================] - 152s 194ms/step - loss: 0.3350 - binary_accuracy: 0.8645 - val_loss: 0.3305 - val_binary_accuracy: 0.8635\n",
            "Epoch 27/50\n",
            "782/782 [==============================] - 151s 194ms/step - loss: 0.3227 - binary_accuracy: 0.8707 - val_loss: 0.3096 - val_binary_accuracy: 0.8781\n",
            "Epoch 28/50\n",
            "782/782 [==============================] - 153s 196ms/step - loss: 0.3108 - binary_accuracy: 0.8756 - val_loss: 0.3046 - val_binary_accuracy: 0.8747\n",
            "Epoch 29/50\n",
            "782/782 [==============================] - 152s 194ms/step - loss: 0.2999 - binary_accuracy: 0.8810 - val_loss: 0.2935 - val_binary_accuracy: 0.8802\n",
            "Epoch 30/50\n",
            "782/782 [==============================] - 151s 194ms/step - loss: 0.2917 - binary_accuracy: 0.8850 - val_loss: 0.2888 - val_binary_accuracy: 0.8842\n",
            "Epoch 31/50\n",
            "782/782 [==============================] - 152s 194ms/step - loss: 0.2824 - binary_accuracy: 0.8879 - val_loss: 0.2762 - val_binary_accuracy: 0.8888\n",
            "Epoch 32/50\n",
            "782/782 [==============================] - 152s 195ms/step - loss: 0.2735 - binary_accuracy: 0.8921 - val_loss: 0.3460 - val_binary_accuracy: 0.8437\n",
            "Epoch 33/50\n",
            "782/782 [==============================] - 152s 194ms/step - loss: 0.2639 - binary_accuracy: 0.8952 - val_loss: 0.2635 - val_binary_accuracy: 0.8941\n",
            "Epoch 34/50\n",
            "782/782 [==============================] - 153s 195ms/step - loss: 0.2557 - binary_accuracy: 0.8985 - val_loss: 0.2423 - val_binary_accuracy: 0.9067\n",
            "Epoch 35/50\n",
            "782/782 [==============================] - 153s 195ms/step - loss: 0.2454 - binary_accuracy: 0.9039 - val_loss: 0.2314 - val_binary_accuracy: 0.9098\n",
            "Epoch 36/50\n",
            "782/782 [==============================] - 153s 195ms/step - loss: 0.2395 - binary_accuracy: 0.9051 - val_loss: 0.2636 - val_binary_accuracy: 0.8896\n",
            "Epoch 37/50\n",
            "782/782 [==============================] - 152s 194ms/step - loss: 0.2288 - binary_accuracy: 0.9104 - val_loss: 0.2170 - val_binary_accuracy: 0.9152\n",
            "Epoch 38/50\n",
            "782/782 [==============================] - 152s 195ms/step - loss: 0.2191 - binary_accuracy: 0.9151 - val_loss: 0.7036 - val_binary_accuracy: 0.7502\n",
            "Epoch 39/50\n",
            "782/782 [==============================] - 152s 194ms/step - loss: 0.2134 - binary_accuracy: 0.9177 - val_loss: 0.2481 - val_binary_accuracy: 0.9037\n",
            "Epoch 40/50\n",
            "782/782 [==============================] - 153s 195ms/step - loss: 0.2079 - binary_accuracy: 0.9207 - val_loss: 0.1862 - val_binary_accuracy: 0.9304\n",
            "Epoch 41/50\n",
            "782/782 [==============================] - 152s 195ms/step - loss: 0.1963 - binary_accuracy: 0.9259 - val_loss: 0.1897 - val_binary_accuracy: 0.9294\n",
            "Epoch 42/50\n",
            "782/782 [==============================] - 153s 195ms/step - loss: 0.1896 - binary_accuracy: 0.9295 - val_loss: 0.1750 - val_binary_accuracy: 0.9363\n",
            "Epoch 43/50\n",
            "782/782 [==============================] - 153s 195ms/step - loss: 0.1833 - binary_accuracy: 0.9325 - val_loss: 0.2060 - val_binary_accuracy: 0.9200\n",
            "Epoch 44/50\n",
            "782/782 [==============================] - 153s 195ms/step - loss: 0.1808 - binary_accuracy: 0.9341 - val_loss: 0.1654 - val_binary_accuracy: 0.9392\n",
            "Epoch 45/50\n",
            "782/782 [==============================] - 153s 195ms/step - loss: 0.1755 - binary_accuracy: 0.9355 - val_loss: 0.3968 - val_binary_accuracy: 0.8299\n",
            "Epoch 46/50\n",
            "782/782 [==============================] - 152s 194ms/step - loss: 0.1857 - binary_accuracy: 0.9331 - val_loss: 0.1786 - val_binary_accuracy: 0.9307\n",
            "Epoch 47/50\n",
            "782/782 [==============================] - 152s 194ms/step - loss: 0.1629 - binary_accuracy: 0.9410 - val_loss: 0.1867 - val_binary_accuracy: 0.9315\n",
            "Epoch 48/50\n",
            "782/782 [==============================] - 153s 195ms/step - loss: 0.1629 - binary_accuracy: 0.9410 - val_loss: 0.1872 - val_binary_accuracy: 0.9200\n",
            "Epoch 49/50\n",
            "782/782 [==============================] - 153s 196ms/step - loss: 0.1549 - binary_accuracy: 0.9447 - val_loss: 0.1498 - val_binary_accuracy: 0.9462\n",
            "Epoch 50/50\n",
            "782/782 [==============================] - 155s 198ms/step - loss: 0.1615 - binary_accuracy: 0.9413 - val_loss: 0.2767 - val_binary_accuracy: 0.9016\n"
          ]
        }
      ],
      "source": [
        "history = model.fit(X_train, y_train, batch_size=64, epochs=50, validation_data=(X_val, y_val))\n",
        "model.save('AllDataModel_Binary_E50_B64.h5')"
      ]
    },
    {
      "cell_type": "code",
      "execution_count": 19,
      "metadata": {
        "id": "R7QQeqVidKBR",
        "colab": {
          "base_uri": "https://localhost:8080/"
        },
        "outputId": "cbae06f1-007a-4a06-8f15-4c7e5487ac5e"
      },
      "outputs": [
        {
          "output_type": "stream",
          "name": "stdout",
          "text": [
            "196/196 [==============================] - 8s 42ms/step - loss: 0.2750 - binary_accuracy: 0.9013\n"
          ]
        },
        {
          "output_type": "execute_result",
          "data": {
            "text/plain": [
              "[0.274972528219223, 0.9012799859046936]"
            ]
          },
          "metadata": {},
          "execution_count": 19
        }
      ],
      "source": [
        "model.evaluate(X_test, y_test)"
      ]
    },
    {
      "cell_type": "code",
      "execution_count": 20,
      "metadata": {
        "id": "OHpifyqGdKn-",
        "colab": {
          "base_uri": "https://localhost:8080/"
        },
        "outputId": "c5c3496f-4946-4dee-be12-45bf5054bacc"
      },
      "outputs": [
        {
          "output_type": "stream",
          "name": "stdout",
          "text": [
            "196/196 [==============================] - 9s 42ms/step\n"
          ]
        }
      ],
      "source": [
        "y_test_prob = model.predict(X_test, verbose=1)"
      ]
    },
    {
      "cell_type": "code",
      "source": [
        "y_test_prob"
      ],
      "metadata": {
        "id": "G2WIGq_dnAvT"
      },
      "execution_count": null,
      "outputs": []
    },
    {
      "cell_type": "code",
      "execution_count": 22,
      "metadata": {
        "id": "AfmdrBILdMwj"
      },
      "outputs": [],
      "source": [
        "y_test_pred = np.where(y_test_prob > 0.5, 1, 0)"
      ]
    },
    {
      "cell_type": "code",
      "execution_count": 23,
      "metadata": {
        "id": "8DoJy_p9dPzN"
      },
      "outputs": [],
      "source": [
        "from sklearn.metrics import confusion_matrix"
      ]
    },
    {
      "cell_type": "code",
      "execution_count": 24,
      "metadata": {
        "id": "fTCsPjW8dQaZ",
        "colab": {
          "base_uri": "https://localhost:8080/"
        },
        "outputId": "475bd7d9-bd3a-4443-a162-30833f30b2b4"
      },
      "outputs": [
        {
          "output_type": "execute_result",
          "data": {
            "text/plain": [
              "array([[2048,  508],\n",
              "       [ 109, 3585]])"
            ]
          },
          "metadata": {},
          "execution_count": 24
        }
      ],
      "source": [
        "confusion_matrix(y_test, y_test_pred)"
      ]
    },
    {
      "cell_type": "code",
      "execution_count": 25,
      "metadata": {
        "id": "te3fslrY9Eca",
        "colab": {
          "base_uri": "https://localhost:8080/",
          "height": 686
        },
        "outputId": "7c980cb0-8cd0-47bb-d1f4-514c29a8c476"
      },
      "outputs": [
        {
          "output_type": "stream",
          "name": "stdout",
          "text": [
            "Confusion matrix, without normalization\n",
            "[[ 892 1643]\n",
            " [1265 2450]]\n",
            "Normalized confusion matrix\n",
            "[[0.35 0.65]\n",
            " [0.34 0.66]]\n"
          ]
        },
        {
          "output_type": "display_data",
          "data": {
            "text/plain": [
              "<Figure size 432x288 with 2 Axes>"
            ],
            "image/png": "[encoded data removed]"
          },
          "metadata": {
            "needs_background": "light"
          }
        },
        {
          "output_type": "display_data",
          "data": {
            "text/plain": [
              "<Figure size 432x288 with 2 Axes>"
            ],
            "image/png": "[encoded data removed]"
          },
          "metadata": {
            "needs_background": "light"
          }
        }
      ],
      "source": [
        "import numpy as np\n",
        "import matplotlib.pyplot as plt\n",
        "\n",
        "from sklearn import svm, datasets\n",
        "from sklearn.model_selection import train_test_split\n",
        "from sklearn.metrics import confusion_matrix\n",
        "from sklearn.utils.multiclass import unique_labels\n",
        "\n",
        "class_names = np.array(['0', '1'])\n",
        "\n",
        "def plot_confusion_matrix(y_true, y_pred, classes,\n",
        "                          normalize=False,\n",
        "                          title=None,\n",
        "                          cmap=plt.cm.Blues):\n",
        "    \"\"\"\n",
        "    This function prints and plots the confusion matrix.\n",
        "    Normalization can be applied by setting `normalize=True`.\n",
        "    \"\"\"\n",
        "    if not title:\n",
        "        if normalize:\n",
        "            title = 'Normalized confusion matrix'\n",
        "        else:\n",
        "            title = 'Confusion matrix, without normalization'\n",
        "\n",
        "    # Compute confusion matrix\n",
        "    cm = confusion_matrix(y_true, y_pred)\n",
        "    # Only use the labels that appear in the data\n",
        "    classes = classes[unique_labels(y_true, y_pred)]\n",
        "    if normalize:\n",
        "        cm = cm.astype('float') / cm.sum(axis=1)[:, np.newaxis]\n",
        "        print(\"Normalized confusion matrix\")\n",
        "    else:\n",
        "        print('Confusion matrix, without normalization')\n",
        "\n",
        "    print(cm)\n",
        "\n",
        "    fig, ax = plt.subplots()\n",
        "    im = ax.imshow(cm, interpolation='nearest', cmap=cmap)\n",
        "    ax.figure.colorbar(im, ax=ax)\n",
        "    # We want to show all ticks...\n",
        "    ax.set(xticks=np.arange(cm.shape[1]),\n",
        "           yticks=np.arange(cm.shape[0]),\n",
        "           # ... and label them with the respective list entries\n",
        "           xticklabels=classes, yticklabels=classes,\n",
        "           title=title,\n",
        "           ylabel='True label',\n",
        "           xlabel='Predicted label')\n",
        "\n",
        "    # Rotate the tick labels and set their alignment.\n",
        "    plt.setp(ax.get_xticklabels(), rotation=45, ha=\"right\",\n",
        "             rotation_mode=\"anchor\")\n",
        "\n",
        "    # Loop over data dimensions and create text annotations.\n",
        "    fmt = '.2f' if normalize else 'd'\n",
        "    thresh = cm.max() / 2.\n",
        "    for i in range(cm.shape[0]):\n",
        "        for j in range(cm.shape[1]):\n",
        "            ax.text(j, i, format(cm[i, j], fmt),\n",
        "                    ha=\"center\", va=\"center\",\n",
        "                    color=\"white\" if cm[i, j] > thresh else \"black\")\n",
        "    fig.tight_layout()\n",
        "\n",
        "    return ax\n",
        "\n",
        "\n",
        "np.set_printoptions(precision=2)\n",
        "\n",
        "# Plot non-normalized confusion matrix\n",
        "plot_confusion_matrix(y_val, y_test_pred, classes=class_names,\n",
        "                      title='Confusion matrix, without normalization')\n",
        "\n",
        "# Plot normalized confusion matrix\n",
        "plot_confusion_matrix(y_val, y_test_pred, classes=class_names, normalize=True,\n",
        "                      title='Normalized confusion matrix')\n",
        "\n",
        "plt.show()"
      ]
    },
    {
      "cell_type": "code",
      "source": [
        "def plot_learningCurve(history, epoch):\n",
        "  # Plot training & validation accuracy values\n",
        "  epoch_range = range(1, epoch+1)\n",
        "  plt.plot(epoch_range, history.history['binary_accuracy'])\n",
        "  plt.plot(epoch_range, history.history['val_binary_accuracy'])\n",
        "  plt.title('Model accuracy')\n",
        "  plt.ylabel('Accuracy')\n",
        "  plt.xlabel('Epoch')\n",
        "  plt.legend(['Train', 'Val'], loc='upper left')\n",
        "  plt.show()\n",
        "\n",
        "  # Plot training & validation loss values\n",
        "  plt.plot(epoch_range, history.history['loss'])\n",
        "  plt.plot(epoch_range, history.history['val_loss'])\n",
        "  plt.title('Model loss')\n",
        "  plt.ylabel('Loss')\n",
        "  plt.xlabel('Epoch')\n",
        "  plt.legend(['Train', 'Val'], loc='upper left')\n",
        "  plt.show()"
      ],
      "metadata": {
        "id": "fhdLAhgPUnH3"
      },
      "execution_count": 26,
      "outputs": []
    },
    {
      "cell_type": "code",
      "source": [
        "plot_learningCurve(history, 50)"
      ],
      "metadata": {
        "id": "WlkQkWHgU5mL",
        "colab": {
          "base_uri": "https://localhost:8080/",
          "height": 581
        },
        "outputId": "a057a006-78ce-41e9-e621-5a3c8f968247"
      },
      "execution_count": 27,
      "outputs": [
        {
          "output_type": "display_data",
          "data": {
            "text/plain": [
              "<Figure size 432x288 with 1 Axes>"
            ],
            "image/png": "[encoded data removed]"
          },
          "metadata": {
            "needs_background": "light"
          }
        },
        {
          "output_type": "display_data",
          "data": {
            "text/plain": [
              "<Figure size 432x288 with 1 Axes>"
            ],
            "image/png": "[encoded data removed]"
          },
          "metadata": {
            "needs_background": "light"
          }
        }
      ]
    },
    {
      "cell_type": "code",
      "execution_count": 28,
      "metadata": {
        "id": "CPb2Ed-6PG6G"
      },
      "outputs": [],
      "source": [
        "##from keras.models import load_model\n",
        "# Assuming your model includes instance of an \"AttentionLayer\" class\n",
        "##uploadmodel = load_model('AllDataModel_E50_B64.h5')\n",
        "#custom_ob = {'att_out': custom_layer.Attention,'AttLayer2': custom_layer.Attention}\n",
        "#new_model = load_model('test.h5', custom_objects={'AttentionLayer': att_out})\n",
        "#new_model = tf.keras.models.load_model('test.h5',custom_objects={'att_out': custom_layer.Attention})\n",
        "\n",
        "# Show the model architecture\n",
        "##uploadmodel.summary()\n"
      ]
    }
  ],
  "metadata": {
    "colab": {
      "collapsed_sections": [
        "f857kfHqUk0-"
      ],
      "name": "MD_LSTM_step_200_files_50.ipynb",
      "provenance": [],
      "include_colab_link": true
    },
    "kernelspec": {
      "display_name": "Python 3",
      "name": "python3"
    },
    "language_info": {
      "name": "python"
    }
  },
  "nbformat": 4,
  "nbformat_minor": 0
}