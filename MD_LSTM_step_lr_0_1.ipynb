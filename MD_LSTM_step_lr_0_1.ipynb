{
  "cells": [
    {
      "cell_type": "markdown",
      "metadata": {
        "id": "view-in-github",
        "colab_type": "text"
      },
      "source": [
        "<a href=\"https://colab.research.google.com/github/kwanderer/MachineLearning/blob/main/MD_LSTM_step_lr_0_1.ipynb\" target=\"_parent\"><img src=\"https://colab.research.google.com/assets/colab-badge.svg\" alt=\"Open In Colab\"/></a>"
      ]
    },
    {
      "cell_type": "markdown",
      "metadata": {
        "id": "f857kfHqUk0-"
      },
      "source": [
        "\n",
        "\n",
        "#Datu kopa"
      ]
    },
    {
      "cell_type": "markdown",
      "metadata": {
        "id": "nM9WE3QGUwVi"
      },
      "source": [
        "Datu kopas avots: https://www.kaggle.com/uysalserkan/fault-induction-motor-dataset"
      ]
    },
    {
      "cell_type": "markdown",
      "metadata": {
        "id": "_sN_h3qHHy6r"
      },
      "source": [
        "Darbā tiek izmantota indukcijas motora parametru datu bāze. Izmantotajā datu kopā ir dati, kas tika iegūti SpectraQuest aparatūras kļūdu simulatorā (Machinery Fault Simulator).\n",
        "\n",
        "Katra mērījumu secība tika ģenerēta ar frekvenci 50 kHz 5 sekunžu laikā, kopā 250 000 mērījumi.\n",
        "\n",
        "Dati ir apkopoti vairākos failos, dažādos darbības stāvokļos un to apjoms ir ļoti liels. Šajā darbā tika izmantota daļa(viena mērījumu secība) no motora normālas darbības datiem.\n"
      ]
    },
    {
      "cell_type": "markdown",
      "metadata": {
        "id": "KtFAOaHYHLPo"
      },
      "source": [
        "Dati ir apkopoti tabulā, kura satur 8 parametrus. Dati ir iedalīti sekojošās kolonas:\n",
        "\n",
        "**tachometer** – tahometra signāls, kas ļauj novērtēt rotācijas frekvenci\n",
        "\n",
        "**und-accelerometer-axial** - apakšā esošā gultņa akselerometrs (aksiālais virziens)\n",
        "\n",
        "**und-accelerometer-radial** – apakšā esošā gultņa akselerometrs (radiālais virziens)\n",
        "\n",
        "**und-accelerometer-tangential** - apakšā esošā gultņa akselerometrs (tangenciālais virziens)\n",
        "\n",
        "**over-accelerometer-axial** - pārkares gultņa akselerometrs (aksiālais virziens)\n",
        "\n",
        "**over-accelerometer-radial** – pārkares gultņa akselerometrs (radiālais  virziens)\n",
        "\n",
        "**over-accelerometer-tangential**  - pārkares gultņa akselerometrs (tangenciālais virziens)\n",
        "\n",
        "**microphone** – mikrofona vērtība\n"
      ]
    },
    {
      "cell_type": "markdown",
      "metadata": {
        "id": "XymoNLKMVFUC"
      },
      "source": [
        "#Datu ielasīšana un satura vizualizācija"
      ]
    },
    {
      "cell_type": "code",
      "execution_count": 1,
      "metadata": {
        "id": "_yqYZDeOFq5s"
      },
      "outputs": [],
      "source": [
        "import keras\n",
        "from keras.layers import LSTM, Dropout, Dense\n",
        "import tensorflow as tf\n",
        "import numpy as np\n",
        "import pandas as pd\n",
        "\n",
        "from sklearn import linear_model  #pip install sklearn - loti plasa masinapmacibas biblioteka\n",
        "from sklearn.linear_model import LinearRegression  \n",
        "import csv          #pip install csv - darbam ar CSV datu kopam\n",
        "import requests     #pip install requests  - vienkarsakam darbam ar tiessaistes CSV datu kopam tiessaistes\n",
        "\n",
        "import matplotlib\n",
        "import matplotlib.pyplot as plt\n",
        "\n",
        "import glob\n"
      ]
    },
    {
      "cell_type": "code",
      "execution_count": 2,
      "metadata": {
        "id": "wlRTBbM2eUcV",
        "colab": {
          "base_uri": "https://localhost:8080/"
        },
        "outputId": "30b36896-87b9-46cb-99e8-91a8cc8a1469"
      },
      "outputs": [
        {
          "output_type": "stream",
          "name": "stdout",
          "text": [
            "Mounted at /content/gdrive\n"
          ]
        }
      ],
      "source": [
        "from google.colab import drive\n",
        "import os\n",
        "drive.mount('/content/gdrive')\n",
        "os.chdir(\"/content/gdrive/MyDrive/Colab Notebooks/data/motor/\")"
      ]
    },
    {
      "cell_type": "code",
      "execution_count": 3,
      "metadata": {
        "id": "zzz6fBl_SNom"
      },
      "outputs": [],
      "source": [
        "#extension = 'csv'\n",
        "#all_filenames = [i for i in glob.glob('*.{}'.format(extension))]"
      ]
    },
    {
      "cell_type": "code",
      "execution_count": 4,
      "metadata": {
        "id": "vagKFCkToBi0"
      },
      "outputs": [],
      "source": [
        "#combine all files in the list\n",
        "#combined_csv = pd.concat([pd.read_csv(f) for f in all_filenames ])\n",
        "#export to csv\n",
        "#combined_csv.to_csv( \"combined_csv.csv\", index=False, encoding='utf-8-sig')"
      ]
    },
    {
      "cell_type": "code",
      "execution_count": 5,
      "metadata": {
        "id": "encEkbDhSfGI"
      },
      "outputs": [],
      "source": [
        "data = pd.read_csv(\"combined_csv.csv\")"
      ]
    },
    {
      "cell_type": "code",
      "execution_count": 6,
      "metadata": {
        "id": "yz5Qe8ZWk1Zq",
        "colab": {
          "base_uri": "https://localhost:8080/"
        },
        "outputId": "f522992c-50fb-480d-cfdf-4ffb35567b0b"
      },
      "outputs": [
        {
          "output_type": "stream",
          "name": "stdout",
          "text": [
            "<class 'pandas.core.frame.DataFrame'>\n",
            "RangeIndex: 500000 entries, 0 to 499999\n",
            "Data columns (total 9 columns):\n",
            " #   Column                         Non-Null Count   Dtype  \n",
            "---  ------                         --------------   -----  \n",
            " 0   tachometer                     500000 non-null  float64\n",
            " 1   und-accelerometer-axial        500000 non-null  float64\n",
            " 2   und-accelerometer-radial       500000 non-null  float64\n",
            " 3   und-accelerometer-tangential   500000 non-null  float64\n",
            " 4   over-accelerometer-axial       500000 non-null  float64\n",
            " 5   over-accelerometer-radial      500000 non-null  float64\n",
            " 6   over-accelerometer-tangential  500000 non-null  float64\n",
            " 7   microphone                     500000 non-null  float64\n",
            " 8   Class                          500000 non-null  int64  \n",
            "dtypes: float64(8), int64(1)\n",
            "memory usage: 34.3 MB\n"
          ]
        }
      ],
      "source": [
        "data.info()"
      ]
    },
    {
      "cell_type": "code",
      "execution_count": 7,
      "metadata": {
        "id": "WUW9ezX6a_st",
        "colab": {
          "base_uri": "https://localhost:8080/"
        },
        "outputId": "1a540269-7464-4045-840b-9ebdf95b0fd4"
      },
      "outputs": [
        {
          "output_type": "execute_result",
          "data": {
            "text/plain": [
              "500000"
            ]
          },
          "metadata": {},
          "execution_count": 7
        }
      ],
      "source": [
        "rec_count = len(data)\n",
        "rec_count"
      ]
    },
    {
      "cell_type": "markdown",
      "source": [
        "# Datu dalīšana mazākos gabalos"
      ],
      "metadata": {
        "id": "6RVC1PZy88fC"
      }
    },
    {
      "cell_type": "code",
      "execution_count": 8,
      "metadata": {
        "id": "DOvnCYkcbGaE"
      },
      "outputs": [],
      "source": [
        "sequence_length = 200"
      ]
    },
    {
      "cell_type": "code",
      "execution_count": 9,
      "metadata": {
        "id": "RG0o2L3zbTEx"
      },
      "outputs": [],
      "source": [
        "def generate_data(X, y, sequence_length = 200, step = 20):\n",
        "    X_local = []\n",
        "    y_local = []\n",
        "    for start in range(0, len(data) - sequence_length, step):\n",
        "        end = start + sequence_length\n",
        "        X_local.append(X[start:end])\n",
        "        y_local.append(y[end-1])\n",
        "    return np.array(X_local), np.array(y_local)\n",
        "\n",
        "X_sequence, y = generate_data(data.loc[:, \"tachometer\":\"microphone\"].values, data.Class)"
      ]
    },
    {
      "cell_type": "code",
      "execution_count": 10,
      "metadata": {
        "id": "s0QxwK66cLVF",
        "colab": {
          "base_uri": "https://localhost:8080/"
        },
        "outputId": "e16c5436-204e-453e-b3c1-2cb48389097a"
      },
      "outputs": [
        {
          "output_type": "execute_result",
          "data": {
            "text/plain": [
              "((24990, 200, 8), (24990,))"
            ]
          },
          "metadata": {},
          "execution_count": 10
        }
      ],
      "source": [
        "X_sequence.shape, y.shape"
      ]
    },
    {
      "cell_type": "markdown",
      "source": [
        "# Random/Shuffle"
      ],
      "metadata": {
        "id": "5BXSDoHa9UX_"
      }
    },
    {
      "cell_type": "code",
      "source": [
        "shuffler = np.random.permutation(len(X_sequence))\n",
        "X_sequence_shuffled = X_sequence[shuffler]\n",
        "y_shuffled = y[shuffler]"
      ],
      "metadata": {
        "id": "ZcfE9idy-ckb"
      },
      "execution_count": 11,
      "outputs": []
    },
    {
      "cell_type": "markdown",
      "source": [
        "# LSTM"
      ],
      "metadata": {
        "id": "TfhRTTNcE2s8"
      }
    },
    {
      "cell_type": "code",
      "execution_count": 12,
      "metadata": {
        "id": "PjKWKiA6aH3z",
        "colab": {
          "base_uri": "https://localhost:8080/"
        },
        "outputId": "5b666d62-780f-431a-8f1d-82d741f8a42f"
      },
      "outputs": [
        {
          "output_type": "stream",
          "name": "stderr",
          "text": [
            "/usr/local/lib/python3.7/dist-packages/keras/optimizer_v2/gradient_descent.py:102: UserWarning: The `lr` argument is deprecated, use `learning_rate` instead.\n",
            "  super(SGD, self).__init__(name, **kwargs)\n"
          ]
        },
        {
          "output_type": "stream",
          "name": "stdout",
          "text": [
            "Model: \"sequential\"\n",
            "_________________________________________________________________\n",
            " Layer (type)                Output Shape              Param #   \n",
            "=================================================================\n",
            " lstm (LSTM)                 (None, 100)               43600     \n",
            "                                                                 \n",
            " dropout (Dropout)           (None, 100)               0         \n",
            "                                                                 \n",
            " dense (Dense)               (None, 1)                 101       \n",
            "                                                                 \n",
            "=================================================================\n",
            "Total params: 43,701\n",
            "Trainable params: 43,701\n",
            "Non-trainable params: 0\n",
            "_________________________________________________________________\n"
          ]
        }
      ],
      "source": [
        "from tensorflow.keras import optimizers\n",
        "sgd = optimizers.SGD(lr=0.1, decay=1e-6, momentum=0.9, nesterov=True)\n",
        "model = keras.Sequential()\n",
        "model.add(LSTM(100, input_shape = (200, 8)))\n",
        "model.add(Dropout(0.5))\n",
        "model.add(Dense(1, activation=\"sigmoid\"))\n",
        "\n",
        "#model.compile(loss='mean_squared_error', optimizer=sgd)\n",
        "model.compile(loss=\"binary_crossentropy\"\n",
        "              , metrics=[keras.metrics.binary_accuracy]\n",
        "              , optimizer=sgd)\n",
        "\n",
        "model.summary()"
      ]
    },
    {
      "cell_type": "code",
      "execution_count": 13,
      "metadata": {
        "id": "tg8wrqsqc8UX"
      },
      "outputs": [],
      "source": [
        "training_size = int(len(X_sequence) * 0.7)"
      ]
    },
    {
      "cell_type": "code",
      "execution_count": 14,
      "metadata": {
        "id": "avIp3TEKc-qF"
      },
      "outputs": [],
      "source": [
        "X_train, y_train = X_sequence_shuffled[:training_size], y_shuffled[:training_size]\n",
        "X_test, y_test = X_sequence_shuffled[training_size:], y_shuffled[training_size:]"
      ]
    },
    {
      "cell_type": "code",
      "execution_count": 15,
      "metadata": {
        "id": "cen4faX0dFJP",
        "colab": {
          "base_uri": "https://localhost:8080/"
        },
        "outputId": "655aaa1c-3527-4282-c124-b76e5d4b89bc"
      },
      "outputs": [
        {
          "output_type": "stream",
          "name": "stdout",
          "text": [
            "Epoch 1/50\n",
            "274/274 [==============================] - 65s 230ms/step - loss: 0.1980 - binary_accuracy: 0.9288 - val_loss: 0.0766 - val_binary_accuracy: 0.9729\n",
            "Epoch 2/50\n",
            "274/274 [==============================] - 66s 240ms/step - loss: 0.2932 - binary_accuracy: 0.8917 - val_loss: 0.2494 - val_binary_accuracy: 0.9024\n",
            "Epoch 3/50\n",
            "274/274 [==============================] - 63s 231ms/step - loss: 0.2429 - binary_accuracy: 0.9095 - val_loss: 0.1790 - val_binary_accuracy: 0.9242\n",
            "Epoch 4/50\n",
            "274/274 [==============================] - 61s 222ms/step - loss: 0.1474 - binary_accuracy: 0.9525 - val_loss: 0.1010 - val_binary_accuracy: 0.9667\n",
            "Epoch 5/50\n",
            "274/274 [==============================] - 62s 225ms/step - loss: 0.2676 - binary_accuracy: 0.8974 - val_loss: 0.2369 - val_binary_accuracy: 0.9144\n",
            "Epoch 6/50\n",
            "274/274 [==============================] - 60s 219ms/step - loss: 0.2522 - binary_accuracy: 0.9107 - val_loss: 0.1470 - val_binary_accuracy: 0.9440\n",
            "Epoch 7/50\n",
            "274/274 [==============================] - 62s 225ms/step - loss: 0.1999 - binary_accuracy: 0.9308 - val_loss: 0.1183 - val_binary_accuracy: 0.9619\n",
            "Epoch 8/50\n",
            "274/274 [==============================] - 60s 220ms/step - loss: 0.1523 - binary_accuracy: 0.9504 - val_loss: 0.0798 - val_binary_accuracy: 0.9756\n",
            "Epoch 9/50\n",
            "274/274 [==============================] - 64s 234ms/step - loss: 0.1258 - binary_accuracy: 0.9589 - val_loss: 0.0758 - val_binary_accuracy: 0.9745\n",
            "Epoch 10/50\n",
            "274/274 [==============================] - 66s 240ms/step - loss: 0.1002 - binary_accuracy: 0.9688 - val_loss: 0.0512 - val_binary_accuracy: 0.9843\n",
            "Epoch 11/50\n",
            "274/274 [==============================] - 65s 239ms/step - loss: 0.1020 - binary_accuracy: 0.9688 - val_loss: 0.1104 - val_binary_accuracy: 0.9633\n",
            "Epoch 12/50\n",
            "274/274 [==============================] - 63s 229ms/step - loss: 0.1249 - binary_accuracy: 0.9589 - val_loss: 0.0775 - val_binary_accuracy: 0.9723\n",
            "Epoch 13/50\n",
            "274/274 [==============================] - 61s 224ms/step - loss: 0.1054 - binary_accuracy: 0.9685 - val_loss: 0.0444 - val_binary_accuracy: 0.9861\n",
            "Epoch 14/50\n",
            "274/274 [==============================] - 60s 220ms/step - loss: 0.1175 - binary_accuracy: 0.9620 - val_loss: 0.0631 - val_binary_accuracy: 0.9787\n",
            "Epoch 15/50\n",
            "274/274 [==============================] - 60s 220ms/step - loss: 0.0959 - binary_accuracy: 0.9699 - val_loss: 0.0938 - val_binary_accuracy: 0.9720\n",
            "Epoch 16/50\n",
            "274/274 [==============================] - 60s 218ms/step - loss: 0.0735 - binary_accuracy: 0.9773 - val_loss: 0.0361 - val_binary_accuracy: 0.9872\n",
            "Epoch 17/50\n",
            "274/274 [==============================] - 60s 220ms/step - loss: 0.0675 - binary_accuracy: 0.9796 - val_loss: 0.0467 - val_binary_accuracy: 0.9841\n",
            "Epoch 18/50\n",
            "274/274 [==============================] - 60s 218ms/step - loss: 0.0463 - binary_accuracy: 0.9842 - val_loss: 0.0179 - val_binary_accuracy: 0.9947\n",
            "Epoch 19/50\n",
            "274/274 [==============================] - 60s 219ms/step - loss: 0.0520 - binary_accuracy: 0.9839 - val_loss: 0.0229 - val_binary_accuracy: 0.9933\n",
            "Epoch 20/50\n",
            "274/274 [==============================] - 60s 220ms/step - loss: 0.1824 - binary_accuracy: 0.9440 - val_loss: 0.1362 - val_binary_accuracy: 0.9381\n",
            "Epoch 21/50\n",
            "274/274 [==============================] - 61s 221ms/step - loss: 0.5065 - binary_accuracy: 0.8132 - val_loss: 0.3660 - val_binary_accuracy: 0.8497\n",
            "Epoch 22/50\n",
            "274/274 [==============================] - 61s 223ms/step - loss: 0.4264 - binary_accuracy: 0.8155 - val_loss: 0.3582 - val_binary_accuracy: 0.8542\n",
            "Epoch 23/50\n",
            "274/274 [==============================] - 63s 228ms/step - loss: 0.4351 - binary_accuracy: 0.8100 - val_loss: 0.3542 - val_binary_accuracy: 0.8551\n",
            "Epoch 24/50\n",
            "274/274 [==============================] - 63s 231ms/step - loss: 0.4223 - binary_accuracy: 0.8203 - val_loss: 0.3610 - val_binary_accuracy: 0.8477\n",
            "Epoch 25/50\n",
            "274/274 [==============================] - 62s 228ms/step - loss: 0.4326 - binary_accuracy: 0.8114 - val_loss: 0.3563 - val_binary_accuracy: 0.8535\n",
            "Epoch 26/50\n",
            "274/274 [==============================] - 61s 222ms/step - loss: 0.4428 - binary_accuracy: 0.8055 - val_loss: 0.3692 - val_binary_accuracy: 0.8395\n",
            "Epoch 27/50\n",
            "274/274 [==============================] - 62s 226ms/step - loss: 0.4217 - binary_accuracy: 0.8221 - val_loss: 0.3309 - val_binary_accuracy: 0.8666\n",
            "Epoch 28/50\n",
            "274/274 [==============================] - 63s 230ms/step - loss: 0.4349 - binary_accuracy: 0.8103 - val_loss: 0.3845 - val_binary_accuracy: 0.8302\n",
            "Epoch 29/50\n",
            "274/274 [==============================] - 63s 229ms/step - loss: 0.4734 - binary_accuracy: 0.7911 - val_loss: 0.3860 - val_binary_accuracy: 0.8283\n",
            "Epoch 30/50\n",
            "274/274 [==============================] - 62s 225ms/step - loss: 0.4624 - binary_accuracy: 0.7940 - val_loss: 0.3884 - val_binary_accuracy: 0.8429\n",
            "Epoch 31/50\n",
            "274/274 [==============================] - 63s 230ms/step - loss: 0.4596 - binary_accuracy: 0.7981 - val_loss: 0.4136 - val_binary_accuracy: 0.8287\n",
            "Epoch 32/50\n",
            "274/274 [==============================] - 64s 234ms/step - loss: 0.4728 - binary_accuracy: 0.7899 - val_loss: 0.3834 - val_binary_accuracy: 0.8371\n",
            "Epoch 33/50\n",
            "274/274 [==============================] - 63s 230ms/step - loss: 0.4735 - binary_accuracy: 0.7901 - val_loss: 0.3987 - val_binary_accuracy: 0.8291\n",
            "Epoch 34/50\n",
            "274/274 [==============================] - 64s 233ms/step - loss: 0.4697 - binary_accuracy: 0.7910 - val_loss: 0.3754 - val_binary_accuracy: 0.8549\n",
            "Epoch 35/50\n",
            "274/274 [==============================] - 63s 232ms/step - loss: 0.4639 - binary_accuracy: 0.7943 - val_loss: 0.3815 - val_binary_accuracy: 0.8442\n",
            "Epoch 36/50\n",
            "274/274 [==============================] - 65s 236ms/step - loss: 0.4671 - binary_accuracy: 0.7928 - val_loss: 0.3889 - val_binary_accuracy: 0.8302\n",
            "Epoch 37/50\n",
            "274/274 [==============================] - 63s 231ms/step - loss: 0.4729 - binary_accuracy: 0.7885 - val_loss: 0.3891 - val_binary_accuracy: 0.8589\n",
            "Epoch 38/50\n",
            "274/274 [==============================] - 65s 236ms/step - loss: 0.4661 - binary_accuracy: 0.7907 - val_loss: 0.3714 - val_binary_accuracy: 0.8425\n",
            "Epoch 39/50\n",
            "274/274 [==============================] - 66s 239ms/step - loss: 0.4561 - binary_accuracy: 0.7999 - val_loss: 0.3801 - val_binary_accuracy: 0.8095\n",
            "Epoch 40/50\n",
            "274/274 [==============================] - 65s 236ms/step - loss: 0.4645 - binary_accuracy: 0.7963 - val_loss: 0.3655 - val_binary_accuracy: 0.8463\n",
            "Epoch 41/50\n",
            "274/274 [==============================] - 64s 234ms/step - loss: 0.4651 - binary_accuracy: 0.7938 - val_loss: 0.3721 - val_binary_accuracy: 0.8373\n",
            "Epoch 42/50\n",
            "274/274 [==============================] - 65s 237ms/step - loss: 0.4671 - binary_accuracy: 0.7919 - val_loss: 0.3729 - val_binary_accuracy: 0.8471\n",
            "Epoch 43/50\n",
            "274/274 [==============================] - 63s 229ms/step - loss: 0.4542 - binary_accuracy: 0.8015 - val_loss: 0.3699 - val_binary_accuracy: 0.8377\n",
            "Epoch 44/50\n",
            "274/274 [==============================] - 64s 233ms/step - loss: 0.4704 - binary_accuracy: 0.7884 - val_loss: 0.3895 - val_binary_accuracy: 0.8317\n",
            "Epoch 45/50\n",
            "274/274 [==============================] - 65s 236ms/step - loss: 0.4619 - binary_accuracy: 0.7946 - val_loss: 0.3787 - val_binary_accuracy: 0.8457\n",
            "Epoch 46/50\n",
            "274/274 [==============================] - 65s 236ms/step - loss: 0.4681 - binary_accuracy: 0.7896 - val_loss: 0.3782 - val_binary_accuracy: 0.8315\n",
            "Epoch 47/50\n",
            "274/274 [==============================] - 64s 235ms/step - loss: 0.4608 - binary_accuracy: 0.7989 - val_loss: 0.3837 - val_binary_accuracy: 0.8605\n",
            "Epoch 48/50\n",
            "274/274 [==============================] - 65s 238ms/step - loss: 0.4625 - binary_accuracy: 0.7961 - val_loss: 0.3905 - val_binary_accuracy: 0.8498\n",
            "Epoch 49/50\n",
            "274/274 [==============================] - 67s 243ms/step - loss: 0.4777 - binary_accuracy: 0.7853 - val_loss: 0.3979 - val_binary_accuracy: 0.7983\n",
            "Epoch 50/50\n",
            "274/274 [==============================] - 67s 246ms/step - loss: 0.4690 - binary_accuracy: 0.7917 - val_loss: 0.3777 - val_binary_accuracy: 0.8522\n"
          ]
        }
      ],
      "source": [
        "history = model.fit(X_train, y_train, batch_size=64, epochs=50, validation_data=(X_test, y_test))"
      ]
    },
    {
      "cell_type": "code",
      "execution_count": 16,
      "metadata": {
        "id": "R7QQeqVidKBR",
        "colab": {
          "base_uri": "https://localhost:8080/"
        },
        "outputId": "74ee32ac-cd16-4238-e3ff-ca5303c1a560"
      },
      "outputs": [
        {
          "output_type": "stream",
          "name": "stdout",
          "text": [
            "235/235 [==============================] - 12s 49ms/step - loss: 0.3777 - binary_accuracy: 0.8522\n"
          ]
        },
        {
          "output_type": "execute_result",
          "data": {
            "text/plain": [
              "[0.37765300273895264, 0.8522075414657593]"
            ]
          },
          "metadata": {},
          "execution_count": 16
        }
      ],
      "source": [
        "model.evaluate(X_test, y_test)"
      ]
    },
    {
      "cell_type": "code",
      "execution_count": 17,
      "metadata": {
        "id": "OHpifyqGdKn-",
        "colab": {
          "base_uri": "https://localhost:8080/"
        },
        "outputId": "3602648b-5c68-43e8-b8cc-f40c610c98bb"
      },
      "outputs": [
        {
          "output_type": "stream",
          "name": "stdout",
          "text": [
            "235/235 [==============================] - 12s 48ms/step\n"
          ]
        }
      ],
      "source": [
        "y_test_prob = model.predict(X_test, verbose=1)"
      ]
    },
    {
      "cell_type": "code",
      "execution_count": 18,
      "metadata": {
        "id": "AfmdrBILdMwj"
      },
      "outputs": [],
      "source": [
        "y_test_pred = np.where(y_test_prob > 0.5, 1, 0)"
      ]
    },
    {
      "cell_type": "code",
      "execution_count": 19,
      "metadata": {
        "id": "8DoJy_p9dPzN"
      },
      "outputs": [],
      "source": [
        "from sklearn.metrics import confusion_matrix"
      ]
    },
    {
      "cell_type": "code",
      "execution_count": 20,
      "metadata": {
        "id": "fTCsPjW8dQaZ",
        "colab": {
          "base_uri": "https://localhost:8080/"
        },
        "outputId": "1d25a943-a20c-4f79-ef5a-6864b0dd841d"
      },
      "outputs": [
        {
          "output_type": "execute_result",
          "data": {
            "text/plain": [
              "array([[3308,  433],\n",
              "       [ 675, 3081]])"
            ]
          },
          "metadata": {},
          "execution_count": 20
        }
      ],
      "source": [
        "confusion_matrix(y_test, y_test_pred)"
      ]
    },
    {
      "cell_type": "code",
      "execution_count": 21,
      "metadata": {
        "id": "te3fslrY9Eca",
        "colab": {
          "base_uri": "https://localhost:8080/",
          "height": 685
        },
        "outputId": "1bbf294b-d2e0-42de-a86a-1904979dcaf6"
      },
      "outputs": [
        {
          "output_type": "stream",
          "name": "stdout",
          "text": [
            "Confusion matrix, without normalization\n",
            "[[3308  433]\n",
            " [ 675 3081]]\n",
            "Normalized confusion matrix\n",
            "[[0.88 0.12]\n",
            " [0.18 0.82]]\n"
          ]
        },
        {
          "output_type": "display_data",
          "data": {
            "text/plain": [
              "<Figure size 432x288 with 2 Axes>"
            ],
            "image/png": "[encoded data removed]"
          },
          "metadata": {
            "needs_background": "light"
          }
        },
        {
          "output_type": "display_data",
          "data": {
            "text/plain": [
              "<Figure size 432x288 with 2 Axes>"
            ],
            "image/png": "[encoded data removed]"
          },
          "metadata": {
            "needs_background": "light"
          }
        }
      ],
      "source": [
        "import numpy as np\n",
        "import matplotlib.pyplot as plt\n",
        "\n",
        "from sklearn import svm, datasets\n",
        "from sklearn.model_selection import train_test_split\n",
        "from sklearn.metrics import confusion_matrix\n",
        "from sklearn.utils.multiclass import unique_labels\n",
        "\n",
        "class_names = np.array(['0', '1'])\n",
        "\n",
        "def plot_confusion_matrix(y_true, y_pred, classes,\n",
        "                          normalize=False,\n",
        "                          title=None,\n",
        "                          cmap=plt.cm.Blues):\n",
        "    \"\"\"\n",
        "    This function prints and plots the confusion matrix.\n",
        "    Normalization can be applied by setting `normalize=True`.\n",
        "    \"\"\"\n",
        "    if not title:\n",
        "        if normalize:\n",
        "            title = 'Normalized confusion matrix'\n",
        "        else:\n",
        "            title = 'Confusion matrix, without normalization'\n",
        "\n",
        "    # Compute confusion matrix\n",
        "    cm = confusion_matrix(y_true, y_pred)\n",
        "    # Only use the labels that appear in the data\n",
        "    classes = classes[unique_labels(y_true, y_pred)]\n",
        "    if normalize:\n",
        "        cm = cm.astype('float') / cm.sum(axis=1)[:, np.newaxis]\n",
        "        print(\"Normalized confusion matrix\")\n",
        "    else:\n",
        "        print('Confusion matrix, without normalization')\n",
        "\n",
        "    print(cm)\n",
        "\n",
        "    fig, ax = plt.subplots()\n",
        "    im = ax.imshow(cm, interpolation='nearest', cmap=cmap)\n",
        "    ax.figure.colorbar(im, ax=ax)\n",
        "    # We want to show all ticks...\n",
        "    ax.set(xticks=np.arange(cm.shape[1]),\n",
        "           yticks=np.arange(cm.shape[0]),\n",
        "           # ... and label them with the respective list entries\n",
        "           xticklabels=classes, yticklabels=classes,\n",
        "           title=title,\n",
        "           ylabel='True label',\n",
        "           xlabel='Predicted label')\n",
        "\n",
        "    # Rotate the tick labels and set their alignment.\n",
        "    plt.setp(ax.get_xticklabels(), rotation=45, ha=\"right\",\n",
        "             rotation_mode=\"anchor\")\n",
        "\n",
        "    # Loop over data dimensions and create text annotations.\n",
        "    fmt = '.2f' if normalize else 'd'\n",
        "    thresh = cm.max() / 2.\n",
        "    for i in range(cm.shape[0]):\n",
        "        for j in range(cm.shape[1]):\n",
        "            ax.text(j, i, format(cm[i, j], fmt),\n",
        "                    ha=\"center\", va=\"center\",\n",
        "                    color=\"white\" if cm[i, j] > thresh else \"black\")\n",
        "    fig.tight_layout()\n",
        "\n",
        "    return ax\n",
        "\n",
        "\n",
        "np.set_printoptions(precision=2)\n",
        "\n",
        "# Plot non-normalized confusion matrix\n",
        "plot_confusion_matrix(y_test, y_test_pred, classes=class_names,\n",
        "                      title='Confusion matrix, without normalization')\n",
        "\n",
        "# Plot normalized confusion matrix\n",
        "plot_confusion_matrix(y_test, y_test_pred, classes=class_names, normalize=True,\n",
        "                      title='Normalized confusion matrix')\n",
        "\n",
        "plt.show()"
      ]
    },
    {
      "cell_type": "code",
      "source": [
        "def plot_learningCurve(history, epoch):\n",
        "  # Plot training & validation accuracy values\n",
        "  epoch_range = range(1, epoch+1)\n",
        "  plt.plot(epoch_range, history.history['binary_accuracy'])\n",
        "  plt.plot(epoch_range, history.history['val_binary_accuracy'])\n",
        "  plt.title('Model accuracy')\n",
        "  plt.ylabel('Accuracy')\n",
        "  plt.xlabel('Epoch')\n",
        "  plt.legend(['Train', 'Val'], loc='upper left')\n",
        "  plt.show()\n",
        "\n",
        "  # Plot training & validation loss values\n",
        "  plt.plot(epoch_range, history.history['loss'])\n",
        "  plt.plot(epoch_range, history.history['val_loss'])\n",
        "  plt.title('Model loss')\n",
        "  plt.ylabel('Loss')\n",
        "  plt.xlabel('Epoch')\n",
        "  plt.legend(['Train', 'Val'], loc='upper left')\n",
        "  plt.show()"
      ],
      "metadata": {
        "id": "fhdLAhgPUnH3"
      },
      "execution_count": 22,
      "outputs": []
    },
    {
      "cell_type": "code",
      "source": [
        "plot_learningCurve(history, 50)"
      ],
      "metadata": {
        "id": "WlkQkWHgU5mL",
        "colab": {
          "base_uri": "https://localhost:8080/",
          "height": 573
        },
        "outputId": "aecd3329-a420-4e31-a637-800627bbd250"
      },
      "execution_count": 23,
      "outputs": [
        {
          "output_type": "display_data",
          "data": {
            "text/plain": [
              "<Figure size 432x288 with 1 Axes>"
            ],
            "image/png": "[encoded data removed]"
          },
          "metadata": {
            "needs_background": "light"
          }
        },
        {
          "output_type": "display_data",
          "data": {
            "text/plain": [
              "<Figure size 432x288 with 1 Axes>"
            ],
            "image/png": "[encoded data removed]"
          },
          "metadata": {
            "needs_background": "light"
          }
        }
      ]
    }
  ],
  "metadata": {
    "colab": {
      "collapsed_sections": [
        "f857kfHqUk0-"
      ],
      "name": "MD LSTM step 10.ipynb",
      "provenance": [],
      "authorship_tag": "ABX9TyPQ+/iyYDkD2G4wBihsBn7M",
      "include_colab_link": true
    },
    "kernelspec": {
      "display_name": "Python 3",
      "name": "python3"
    },
    "language_info": {
      "name": "python"
    }
  },
  "nbformat": 4,
  "nbformat_minor": 0
}