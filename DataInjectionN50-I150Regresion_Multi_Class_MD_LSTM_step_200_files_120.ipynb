{
  "cells": [
    {
      "cell_type": "markdown",
      "metadata": {
        "id": "view-in-github",
        "colab_type": "text"
      },
      "source": [
        "<a href=\"https://colab.research.google.com/github/kwanderer/MachineLearning/blob/main/DataInjectionN50-I150Regresion_Multi_Class_MD_LSTM_step_200_files_120.ipynb\" target=\"_parent\"><img src=\"https://colab.research.google.com/assets/colab-badge.svg\" alt=\"Open In Colab\"/></a>"
      ]
    },
    {
      "cell_type": "markdown",
      "metadata": {
        "id": "f857kfHqUk0-"
      },
      "source": [
        "\n",
        "\n",
        "#Datu kopa"
      ]
    },
    {
      "cell_type": "markdown",
      "metadata": {
        "id": "nM9WE3QGUwVi"
      },
      "source": [
        "Datu kopas avots: https://www.kaggle.com/uysalserkan/fault-induction-motor-dataset"
      ]
    },
    {
      "cell_type": "markdown",
      "metadata": {
        "id": "_sN_h3qHHy6r"
      },
      "source": [
        "Darbā tiek izmantota indukcijas motora parametru datu bāze. Izmantotajā datu kopā ir dati, kas tika iegūti SpectraQuest aparatūras kļūdu simulatorā (Machinery Fault Simulator).\n",
        "\n",
        "Katra mērījumu secība tika ģenerēta ar frekvenci 50 kHz 5 sekunžu laikā, kopā 250 000 mērījumi.\n"
      ]
    },
    {
      "cell_type": "markdown",
      "metadata": {
        "id": "KtFAOaHYHLPo"
      },
      "source": [
        "Dati ir apkopoti tabulā, kura satur 8 parametrus. Dati ir iedalīti sekojošās kolonas:\n",
        "\n",
        "**tachometer** – tahometra signāls, kas ļauj novērtēt rotācijas frekvenci\n",
        "\n",
        "**und-accelerometer-axial** - apakšā esošā gultņa akselerometrs (aksiālais virziens)\n",
        "\n",
        "**und-accelerometer-radial** – apakšā esošā gultņa akselerometrs (radiālais virziens)\n",
        "\n",
        "**und-accelerometer-tangential** - apakšā esošā gultņa akselerometrs (tangenciālais virziens)\n",
        "\n",
        "**over-accelerometer-axial** - pārkares gultņa akselerometrs (aksiālais virziens)\n",
        "\n",
        "**over-accelerometer-radial** – pārkares gultņa akselerometrs (radiālais  virziens)\n",
        "\n",
        "**over-accelerometer-tangential**  - pārkares gultņa akselerometrs (tangenciālais virziens)\n",
        "\n",
        "**microphone** – mikrofona vērtība\n"
      ]
    },
    {
      "cell_type": "markdown",
      "metadata": {
        "id": "XymoNLKMVFUC"
      },
      "source": [
        "#Datu ielasīšana un satura vizualizācija"
      ]
    },
    {
      "cell_type": "code",
      "execution_count": 284,
      "metadata": {
        "id": "_yqYZDeOFq5s"
      },
      "outputs": [],
      "source": [
        "import keras\n",
        "from keras.layers import LSTM, Dropout, Dense\n",
        "import tensorflow as tf\n",
        "import numpy as np\n",
        "import pandas as pd\n",
        "\n",
        "from sklearn import linear_model  #pip install sklearn - loti plasa masinapmacibas biblioteka\n",
        "from sklearn.linear_model import LinearRegression  \n",
        "import csv          #pip install csv - darbam ar CSV datu kopam\n",
        "import requests     #pip install requests  - vienkarsakam darbam ar tiessaistes CSV datu kopam tiessaistes\n",
        "\n",
        "import matplotlib\n",
        "import matplotlib.pyplot as plt\n",
        "\n",
        "import glob\n"
      ]
    },
    {
      "cell_type": "code",
      "execution_count": 285,
      "metadata": {
        "id": "wlRTBbM2eUcV",
        "colab": {
          "base_uri": "https://localhost:8080/"
        },
        "outputId": "103ac43b-5c9c-48c0-ecb4-52ece94b34a1"
      },
      "outputs": [
        {
          "output_type": "stream",
          "name": "stdout",
          "text": [
            "Drive already mounted at /content/gdrive; to attempt to forcibly remount, call drive.mount(\"/content/gdrive\", force_remount=True).\n"
          ]
        }
      ],
      "source": [
        "from google.colab import drive\n",
        "import os\n",
        "drive.mount('/content/gdrive')\n",
        "os.chdir(\"/content/gdrive/MyDrive/Colab Notebooks/\")"
      ]
    },
    {
      "cell_type": "code",
      "source": [
        "os.chdir(\"/content/gdrive/MyDrive/Colab Notebooks/cutted/\")\n",
        "dataNormal =  pd.read_csv(\"Normal.csv\")\n",
        "dataImbalance6 =  pd.read_csv(\"Imbalance6.csv\")\n",
        "dataImbalance10 =  pd.read_csv(\"Imbalance10.csv\")\n",
        "dataImbalance15 =  pd.read_csv(\"Imbalance15.csv\")\n",
        "dataImbalance20 =  pd.read_csv(\"Imbalance20.csv\")\n",
        "dataImbalance25 =  pd.read_csv(\"Imbalance25.csv\")\n",
        "dataImbalance30 =  pd.read_csv(\"Imbalance30.csv\")\n",
        "dataImbalance35 =  pd.read_csv(\"Imbalance35.csv\")"
      ],
      "metadata": {
        "id": "IztGfkS1TF4c"
      },
      "execution_count": 286,
      "outputs": []
    },
    {
      "cell_type": "code",
      "execution_count": 287,
      "metadata": {
        "id": "yz5Qe8ZWk1Zq",
        "colab": {
          "base_uri": "https://localhost:8080/"
        },
        "outputId": "91a3ee4c-2482-4f40-ad5e-20cbc07f1c43"
      },
      "outputs": [
        {
          "output_type": "stream",
          "name": "stdout",
          "text": [
            "<class 'pandas.core.frame.DataFrame'>\n",
            "RangeIndex: 245972 entries, 0 to 245971\n",
            "Data columns (total 9 columns):\n",
            " #   Column                         Non-Null Count   Dtype  \n",
            "---  ------                         --------------   -----  \n",
            " 0   tachometer                     245972 non-null  float64\n",
            " 1   und-accelerometer-axial        245972 non-null  float64\n",
            " 2   und-accelerometer-radial       245972 non-null  float64\n",
            " 3   und-accelerometer-tangential   245972 non-null  float64\n",
            " 4   over-accelerometer-axial       245972 non-null  float64\n",
            " 5   over-accelerometer-radial      245972 non-null  float64\n",
            " 6   over-accelerometer-tangential  245972 non-null  float64\n",
            " 7   microphone                     245972 non-null  float64\n",
            " 8   Class                          245972 non-null  int64  \n",
            "dtypes: float64(8), int64(1)\n",
            "memory usage: 16.9 MB\n",
            "<class 'pandas.core.frame.DataFrame'>\n",
            "RangeIndex: 248391 entries, 0 to 248390\n",
            "Data columns (total 9 columns):\n",
            " #   Column                         Non-Null Count   Dtype  \n",
            "---  ------                         --------------   -----  \n",
            " 0   tachometer                     248391 non-null  float64\n",
            " 1   und-accelerometer-axial        248391 non-null  float64\n",
            " 2   und-accelerometer-radial       248391 non-null  float64\n",
            " 3   und-accelerometer-tangential   248391 non-null  float64\n",
            " 4   over-accelerometer-axial       248391 non-null  float64\n",
            " 5   over-accelerometer-radial      248391 non-null  float64\n",
            " 6   over-accelerometer-tangential  248391 non-null  float64\n",
            " 7   microphone                     248391 non-null  float64\n",
            " 8   Class                          248391 non-null  int64  \n",
            "dtypes: float64(8), int64(1)\n",
            "memory usage: 17.1 MB\n",
            "<class 'pandas.core.frame.DataFrame'>\n",
            "RangeIndex: 246368 entries, 0 to 246367\n",
            "Data columns (total 9 columns):\n",
            " #   Column                         Non-Null Count   Dtype  \n",
            "---  ------                         --------------   -----  \n",
            " 0   tachometer                     246368 non-null  float64\n",
            " 1   und-accelerometer-axial        246368 non-null  float64\n",
            " 2   und-accelerometer-radial       246368 non-null  float64\n",
            " 3   und-accelerometer-tangential   246368 non-null  float64\n",
            " 4   over-accelerometer-axial       246368 non-null  float64\n",
            " 5   over-accelerometer-radial      246368 non-null  float64\n",
            " 6   over-accelerometer-tangential  246368 non-null  float64\n",
            " 7   microphone                     246368 non-null  float64\n",
            " 8   Class                          246368 non-null  int64  \n",
            "dtypes: float64(8), int64(1)\n",
            "memory usage: 16.9 MB\n",
            "<class 'pandas.core.frame.DataFrame'>\n",
            "RangeIndex: 248350 entries, 0 to 248349\n",
            "Data columns (total 9 columns):\n",
            " #   Column                         Non-Null Count   Dtype  \n",
            "---  ------                         --------------   -----  \n",
            " 0   tachometer                     248350 non-null  float64\n",
            " 1   und-accelerometer-axial        248350 non-null  float64\n",
            " 2   und-accelerometer-radial       248350 non-null  float64\n",
            " 3   und-accelerometer-tangential   248350 non-null  float64\n",
            " 4   over-accelerometer-axial       248350 non-null  float64\n",
            " 5   over-accelerometer-radial      248350 non-null  float64\n",
            " 6   over-accelerometer-tangential  248350 non-null  float64\n",
            " 7   microphone                     248350 non-null  float64\n",
            " 8   Class                          248350 non-null  int64  \n",
            "dtypes: float64(8), int64(1)\n",
            "memory usage: 17.1 MB\n",
            "<class 'pandas.core.frame.DataFrame'>\n",
            "RangeIndex: 249167 entries, 0 to 249166\n",
            "Data columns (total 9 columns):\n",
            " #   Column                         Non-Null Count   Dtype  \n",
            "---  ------                         --------------   -----  \n",
            " 0   tachometer                     249167 non-null  float64\n",
            " 1   und-accelerometer-axial        249167 non-null  float64\n",
            " 2   und-accelerometer-radial       249167 non-null  float64\n",
            " 3   und-accelerometer-tangential   249167 non-null  float64\n",
            " 4   over-accelerometer-axial       249167 non-null  float64\n",
            " 5   over-accelerometer-radial      249167 non-null  float64\n",
            " 6   over-accelerometer-tangential  249167 non-null  float64\n",
            " 7   microphone                     249167 non-null  float64\n",
            " 8   Class                          249167 non-null  int64  \n",
            "dtypes: float64(8), int64(1)\n",
            "memory usage: 17.1 MB\n",
            "<class 'pandas.core.frame.DataFrame'>\n",
            "RangeIndex: 246727 entries, 0 to 246726\n",
            "Data columns (total 9 columns):\n",
            " #   Column                         Non-Null Count   Dtype  \n",
            "---  ------                         --------------   -----  \n",
            " 0   tachometer                     246727 non-null  float64\n",
            " 1   und-accelerometer-axial        246727 non-null  float64\n",
            " 2   und-accelerometer-radial       246727 non-null  float64\n",
            " 3   und-accelerometer-tangential   246727 non-null  float64\n",
            " 4   over-accelerometer-axial       246727 non-null  float64\n",
            " 5   over-accelerometer-radial      246727 non-null  float64\n",
            " 6   over-accelerometer-tangential  246727 non-null  float64\n",
            " 7   microphone                     246727 non-null  float64\n",
            " 8   Class                          246727 non-null  int64  \n",
            "dtypes: float64(8), int64(1)\n",
            "memory usage: 16.9 MB\n",
            "<class 'pandas.core.frame.DataFrame'>\n",
            "RangeIndex: 245995 entries, 0 to 245994\n",
            "Data columns (total 9 columns):\n",
            " #   Column                         Non-Null Count   Dtype  \n",
            "---  ------                         --------------   -----  \n",
            " 0   tachometer                     245995 non-null  float64\n",
            " 1   und-accelerometer-axial        245995 non-null  float64\n",
            " 2   und-accelerometer-radial       245995 non-null  float64\n",
            " 3   und-accelerometer-tangential   245995 non-null  float64\n",
            " 4   over-accelerometer-axial       245995 non-null  float64\n",
            " 5   over-accelerometer-radial      245995 non-null  float64\n",
            " 6   over-accelerometer-tangential  245995 non-null  float64\n",
            " 7   microphone                     245995 non-null  float64\n",
            " 8   Class                          245995 non-null  int64  \n",
            "dtypes: float64(8), int64(1)\n",
            "memory usage: 16.9 MB\n",
            "<class 'pandas.core.frame.DataFrame'>\n",
            "RangeIndex: 246183 entries, 0 to 246182\n",
            "Data columns (total 9 columns):\n",
            " #   Column                         Non-Null Count   Dtype  \n",
            "---  ------                         --------------   -----  \n",
            " 0   tachometer                     246183 non-null  float64\n",
            " 1   und-accelerometer-axial        246183 non-null  float64\n",
            " 2   und-accelerometer-radial       246183 non-null  float64\n",
            " 3   und-accelerometer-tangential   246183 non-null  float64\n",
            " 4   over-accelerometer-axial       246183 non-null  float64\n",
            " 5   over-accelerometer-radial      246183 non-null  float64\n",
            " 6   over-accelerometer-tangential  246183 non-null  float64\n",
            " 7   microphone                     246183 non-null  float64\n",
            " 8   Class                          246183 non-null  int64  \n",
            "dtypes: float64(8), int64(1)\n",
            "memory usage: 16.9 MB\n"
          ]
        }
      ],
      "source": [
        "dataNormal.info()\n",
        "dataImbalance6.info()\n",
        "dataImbalance10.info()\n",
        "dataImbalance15.info()\n",
        "dataImbalance20.info()\n",
        "dataImbalance25.info()\n",
        "dataImbalance30.info()\n",
        "dataImbalance35.info()"
      ]
    },
    {
      "cell_type": "code",
      "execution_count": 288,
      "metadata": {
        "id": "WUW9ezX6a_st",
        "colab": {
          "base_uri": "https://localhost:8080/"
        },
        "outputId": "d3499c72-4fc9-4727-922c-eaf886901a50"
      },
      "outputs": [
        {
          "output_type": "execute_result",
          "data": {
            "text/plain": [
              "245972"
            ]
          },
          "metadata": {},
          "execution_count": 288
        }
      ],
      "source": [
        "rec_count = len(dataNormal)\n",
        "rec_count"
      ]
    },
    {
      "cell_type": "markdown",
      "metadata": {
        "id": "6RVC1PZy88fC"
      },
      "source": [
        "# Datu dalīšana mazākos gabalos"
      ]
    },
    {
      "cell_type": "code",
      "execution_count": 289,
      "metadata": {
        "id": "DOvnCYkcbGaE"
      },
      "outputs": [],
      "source": [
        "sequence_length = 200"
      ]
    },
    {
      "cell_type": "code",
      "execution_count": 290,
      "metadata": {
        "id": "RG0o2L3zbTEx"
      },
      "outputs": [],
      "source": [
        "def generate_data(X, y, X2, y2, sequence_length = 200, step = 10, sequence_length1 = 50):\n",
        "    X_local = []\n",
        "    y_local = []\n",
        "    for start in range(0, len(dataNormal) - sequence_length, step):\n",
        "        end = start + sequence_length\n",
        "        sequenceNormalEnd = start + sequence_length1\n",
        "        X_local.append(np.concatenate((X[start:sequenceNormalEnd], X2[sequenceNormalEnd:end])))\n",
        "        #X_local.append()\n",
        "        y_local.append(y2[end-1])\n",
        "    return np.array(X_local), np.array(y_local)\n",
        "\n",
        "X_sequence, y = generate_data(dataNormal.loc[:,\"tachometer\":\"microphone\"].values, dataNormal.Class, dataImbalance35.loc[:,\"tachometer\" :\"microphone\"].values, dataImbalance35.Class)\n",
        "#X_sequence, y = generate_data(data.loc[:, [\"und-accelerometer-axial\", \"und-accelerometer-radial\", \"und-accelerometer-tangential\", \"microphone\"]].values, data.Class)\n"
      ]
    },
    {
      "cell_type": "code",
      "execution_count": 291,
      "metadata": {
        "id": "s0QxwK66cLVF",
        "colab": {
          "base_uri": "https://localhost:8080/"
        },
        "outputId": "e24a505b-27a5-4620-c894-2d51fb25c293"
      },
      "outputs": [
        {
          "output_type": "execute_result",
          "data": {
            "text/plain": [
              "((24578, 200, 8), (24578,))"
            ]
          },
          "metadata": {},
          "execution_count": 291
        }
      ],
      "source": [
        "X_sequence.shape, y.shape"
      ]
    },
    {
      "cell_type": "code",
      "source": [
        "y"
      ],
      "metadata": {
        "id": "4tu6MQMZjahk",
        "colab": {
          "base_uri": "https://localhost:8080/"
        },
        "outputId": "38b07908-7a58-4eda-d04d-2be478f57601"
      },
      "execution_count": 292,
      "outputs": [
        {
          "output_type": "execute_result",
          "data": {
            "text/plain": [
              "array([1, 1, 1, ..., 1, 1, 1])"
            ]
          },
          "metadata": {},
          "execution_count": 292
        }
      ]
    },
    {
      "cell_type": "code",
      "source": [
        "i = 0\n",
        "while i < 24578:\n",
        "  if y[i] == 1:\n",
        "    y[i] = 7\n",
        "  elif y[i] == 2:\n",
        "    y[i] = 6\n",
        "  elif y[i] == 3:\n",
        "    y[i] = 5\n",
        "  elif y[i] == 4:\n",
        "    y[i] = 4\n",
        "  elif y[i] == 5:\n",
        "    y[i] = 3\n",
        "  elif y[i] == 6:\n",
        "    y[i] = 2\n",
        "  elif y[i] == 7:\n",
        "    y[i] = 1\n",
        "  i+=1"
      ],
      "metadata": {
        "id": "81C4tUPRMdef"
      },
      "execution_count": 293,
      "outputs": []
    },
    {
      "cell_type": "code",
      "source": [
        "y"
      ],
      "metadata": {
        "colab": {
          "base_uri": "https://localhost:8080/"
        },
        "id": "q_4VACR1MjTo",
        "outputId": "bf09f321-ac0d-4757-c76d-a9960913b04b"
      },
      "execution_count": 294,
      "outputs": [
        {
          "output_type": "execute_result",
          "data": {
            "text/plain": [
              "array([7, 7, 7, ..., 7, 7, 7])"
            ]
          },
          "metadata": {},
          "execution_count": 294
        }
      ]
    },
    {
      "cell_type": "code",
      "source": [
        "unique, counts = np.unique(y, return_counts=True)"
      ],
      "metadata": {
        "id": "l8Lq455lV1JR"
      },
      "execution_count": 295,
      "outputs": []
    },
    {
      "cell_type": "code",
      "source": [
        "unique"
      ],
      "metadata": {
        "id": "t0BRO3nAWQxe",
        "colab": {
          "base_uri": "https://localhost:8080/"
        },
        "outputId": "31085189-0b19-4f13-8456-2068d662116b"
      },
      "execution_count": 296,
      "outputs": [
        {
          "output_type": "execute_result",
          "data": {
            "text/plain": [
              "array([7])"
            ]
          },
          "metadata": {},
          "execution_count": 296
        }
      ]
    },
    {
      "cell_type": "code",
      "source": [
        "counts"
      ],
      "metadata": {
        "id": "WWZ7QWR4WS_r",
        "colab": {
          "base_uri": "https://localhost:8080/"
        },
        "outputId": "e08ace61-b297-44c5-d14c-6efd4afe6680"
      },
      "execution_count": 297,
      "outputs": [
        {
          "output_type": "execute_result",
          "data": {
            "text/plain": [
              "array([24578])"
            ]
          },
          "metadata": {},
          "execution_count": 297
        }
      ]
    },
    {
      "cell_type": "code",
      "execution_count": 298,
      "metadata": {
        "id": "i7R1oo6Mj8wx"
      },
      "outputs": [],
      "source": [
        "data = 0"
      ]
    },
    {
      "cell_type": "code",
      "source": [
        "#from sklearn.preprocessing import OneHotEncoder"
      ],
      "metadata": {
        "id": "lAk_JscRWmqY"
      },
      "execution_count": 299,
      "outputs": []
    },
    {
      "cell_type": "code",
      "source": [
        "#label_encoder = OneHotEncoder(sparse=False)\n",
        "#label_encoder.fit(y.reshape(-1,1))"
      ],
      "metadata": {
        "id": "14B9aYy0W0y6"
      },
      "execution_count": 300,
      "outputs": []
    },
    {
      "cell_type": "code",
      "source": [
        "#y_encoded = label_encoder.transform(y.reshape(-1,1))"
      ],
      "metadata": {
        "id": "VjpWn96xXgPS"
      },
      "execution_count": 301,
      "outputs": []
    },
    {
      "cell_type": "code",
      "source": [
        "#y_encoded[0:5]"
      ],
      "metadata": {
        "id": "VL6KMFo9XpBi"
      },
      "execution_count": 302,
      "outputs": []
    },
    {
      "cell_type": "code",
      "source": [
        "#y=y_encoded"
      ],
      "metadata": {
        "id": "5c8km253YKBl"
      },
      "execution_count": 303,
      "outputs": []
    },
    {
      "cell_type": "markdown",
      "metadata": {
        "id": "5BXSDoHa9UX_"
      },
      "source": [
        "# Random/Shuffle"
      ]
    },
    {
      "cell_type": "code",
      "execution_count": 304,
      "metadata": {
        "id": "ZcfE9idy-ckb"
      },
      "outputs": [],
      "source": [
        "#shuffler = np.random.RandomState(seed=42).permutation(len(X_sequence))\n",
        "#X_sequence_shuffled = X_sequence[shuffler]\n",
        "#y_shuffled = y[shuffler]"
      ]
    },
    {
      "cell_type": "markdown",
      "metadata": {
        "id": "TfhRTTNcE2s8"
      },
      "source": [
        "# LSTM"
      ]
    },
    {
      "cell_type": "code",
      "execution_count": 305,
      "metadata": {
        "id": "ihrXMuVAEwlY"
      },
      "outputs": [],
      "source": [
        "import pandas as pd\n",
        "import sklearn.metrics as metrique\n",
        "from pandas import Series\n",
        "from sklearn.preprocessing import StandardScaler, MinMaxScaler\n",
        "from matplotlib import pyplot\n",
        "from sklearn.model_selection import train_test_split\n",
        "import numpy as np\n",
        "import tensorflow as tf\n",
        "import sys\n",
        "import numpy as np\n",
        "import pandas as pd\n",
        "import tensorflow as tf\n",
        "import matplotlib.pyplot as plt\n",
        "from sklearn.model_selection import train_test_split\n",
        "from sklearn import preprocessing\n",
        "from sklearn.preprocessing import StandardScaler\n",
        "from sklearn.metrics import classification_report\n",
        "import warnings\n",
        "warnings.filterwarnings('ignore')\n",
        "plt.style.use('ggplot')\n",
        "import seaborn as sns \n",
        "%matplotlib inline\n",
        "from keras.callbacks import EarlyStopping\n",
        "from keras.callbacks import ModelCheckpoint\n",
        "from sklearn.metrics import accuracy_score\n",
        "from sklearn.metrics import classification_report, confusion_matrix\n",
        "from keras.models import Sequential\n",
        "from keras.utils import np_utils\n",
        "from keras.layers import LSTM, Dense, Embedding, Dropout,Input, Layer, Concatenate, Permute, Dot, Multiply, Flatten\n",
        "from keras.layers import RepeatVector, Dense, Activation, Lambda\n",
        "from keras.models import Sequential\n",
        "from keras import backend as K, regularizers, Model, metrics\n",
        "from keras.backend import cast"
      ]
    },
    {
      "cell_type": "code",
      "execution_count": 306,
      "metadata": {
        "id": "PjKWKiA6aH3z"
      },
      "outputs": [],
      "source": [
        "#from tensorflow.keras import optimizers\n",
        "#sgd = optimizers.SGD(lr=0.0001, decay=1e-6, momentum=0.9, nesterov=True)\n",
        "#model = keras.Sequential()\n",
        "#model.add(LSTM(100, input_shape = (200, 8)))\n",
        "#model.add(Dropout(0.5))\n",
        "#model.add(Dense(1, activation=\"softmax\"))\n",
        "\n",
        "\n",
        "#model.compile(loss=\"categorical_crossentropy\"\n",
        "#              , metrics=[keras.metrics.binary_accuracy]\n",
        "#              , optimizer='sgd')\n",
        "\n",
        "#model.summary()"
      ]
    },
    {
      "cell_type": "code",
      "execution_count": 307,
      "metadata": {
        "id": "_2SaVmwSWJVB"
      },
      "outputs": [],
      "source": [
        "#from tensorflow.keras import optimizers\n",
        "##sgd = optimizers.SGD(lr=0.0001, decay=1e-6, momentum=0.9, nesterov=True)\n",
        "#optimizer = tf.keras.optimizers.Adam(lr=0.0001)\n",
        "#model = keras.Sequential()\n",
        "#model.add(LSTM(100, input_shape = (200, 8)))\n",
        "#model.add(Dropout(0.5))\n",
        "#model.add(Dense(1))# dense 1, activation - relu/sigmoid\n",
        "\n",
        "##model.compile(loss='mean_squared_error', optimizer=sgd)\n",
        "#model.compile(loss=\"mse\" #mse\n",
        "#              , metrics=['accuracy']\n",
        "#              , optimizer=optimizer)\n",
        "\n",
        "#model.summary()"
      ]
    },
    {
      "cell_type": "code",
      "source": [
        "from tensorflow.keras import optimizers\n",
        "#sgd = optimizers.SGD(lr=0.0001, decay=1e-6, momentum=0.9, nesterov=True)\n",
        "optimizer = tf.keras.optimizers.Adam(lr=0.0001)\n",
        "model = keras.Sequential()\n",
        "model.add(LSTM(300, input_shape = (200, 8)))\n",
        "model.add(Dropout(0.5))\n",
        "model.add(Dense(1))# dense 1, activation - relu/sigmoid\n",
        "\n",
        "#model.compile(loss='mean_squared_error', optimizer=sgd)\n",
        "model.compile(loss=\"mse\" #mse\n",
        "              , metrics=['accuracy']\n",
        "              , optimizer=optimizer)\n",
        "\n",
        "model.summary()"
      ],
      "metadata": {
        "colab": {
          "base_uri": "https://localhost:8080/"
        },
        "id": "t1nmMJObF6VD",
        "outputId": "321dda88-9a7d-4ebe-a474-bf515c13bdd2"
      },
      "execution_count": 308,
      "outputs": [
        {
          "output_type": "stream",
          "name": "stdout",
          "text": [
            "Model: \"sequential_5\"\n",
            "_________________________________________________________________\n",
            " Layer (type)                Output Shape              Param #   \n",
            "=================================================================\n",
            " lstm_5 (LSTM)               (None, 300)               370800    \n",
            "                                                                 \n",
            " dropout_5 (Dropout)         (None, 300)               0         \n",
            "                                                                 \n",
            " dense_5 (Dense)             (None, 1)                 301       \n",
            "                                                                 \n",
            "=================================================================\n",
            "Total params: 371,101\n",
            "Trainable params: 371,101\n",
            "Non-trainable params: 0\n",
            "_________________________________________________________________\n"
          ]
        }
      ]
    },
    {
      "cell_type": "code",
      "execution_count": 309,
      "metadata": {
        "id": "tg8wrqsqc8UX"
      },
      "outputs": [],
      "source": [
        "#training_size = int(len(X_sequence) * 0.8)\n",
        "#val_size = int(len(X_sequence) * 0.9)"
      ]
    },
    {
      "cell_type": "code",
      "execution_count": 310,
      "metadata": {
        "id": "avIp3TEKc-qF"
      },
      "outputs": [],
      "source": [
        "#X_train, y_train = X_sequence_shuffled[:training_size], y_shuffled[:training_size]\n",
        "#X_val, y_val = X_sequence_shuffled[training_size:val_size], y_shuffled[training_size:val_size]\n",
        "#X_test, y_test = X_sequence_shuffled[val_size:], y_shuffled[val_size:]"
      ]
    },
    {
      "cell_type": "code",
      "source": [
        "from keras.models import load_model\n",
        "os.chdir(\"/content/gdrive/MyDrive/Colab Notebooks/\")\n",
        "# Assuming your model includes instance of an \"AttentionLayer\" class\n",
        "uploadmodel = load_model('data_multiclass/RegresionMulticlassModel_E100_B64.h5')\n",
        "#custom_ob = {'att_out': custom_layer.Attention,'AttLayer2': custom_layer.Attention}\n",
        "#new_model = load_model('test.h5', custom_objects={'AttentionLayer': att_out})\n",
        "#new_model = tf.keras.models.load_model('test.h5',custom_objects={'att_out': custom_layer.Attention})\n",
        "\n",
        "# Show the model architecture\n",
        "uploadmodel.summary()\n"
      ],
      "metadata": {
        "colab": {
          "base_uri": "https://localhost:8080/"
        },
        "id": "abg1O-qlF8L0",
        "outputId": "932f17a2-27fd-477e-cc81-5ea5a080903c"
      },
      "execution_count": 311,
      "outputs": [
        {
          "output_type": "stream",
          "name": "stdout",
          "text": [
            "Model: \"sequential\"\n",
            "_________________________________________________________________\n",
            " Layer (type)                Output Shape              Param #   \n",
            "=================================================================\n",
            " lstm (LSTM)                 (None, 300)               370800    \n",
            "                                                                 \n",
            " dropout (Dropout)           (None, 300)               0         \n",
            "                                                                 \n",
            " dense (Dense)               (None, 1)                 301       \n",
            "                                                                 \n",
            "=================================================================\n",
            "Total params: 371,101\n",
            "Trainable params: 371,101\n",
            "Non-trainable params: 0\n",
            "_________________________________________________________________\n"
          ]
        }
      ]
    },
    {
      "cell_type": "code",
      "execution_count": 312,
      "metadata": {
        "id": "cen4faX0dFJP"
      },
      "outputs": [],
      "source": [
        "#history = model.fit(X_train, y_train, batch_size=64, epochs=100, validation_data=(X_val, y_val))\n",
        "#model.save('NewAllDataModel_E100_B64.h5')"
      ]
    },
    {
      "cell_type": "code",
      "execution_count": 313,
      "metadata": {
        "id": "R7QQeqVidKBR",
        "colab": {
          "base_uri": "https://localhost:8080/"
        },
        "outputId": "a4888fff-d09a-4dcd-cb7f-1b2f9aa88f15"
      },
      "outputs": [
        {
          "output_type": "stream",
          "name": "stdout",
          "text": [
            "769/769 [==============================] - 166s 215ms/step - loss: 4.5327 - accuracy: 0.0000e+00\n"
          ]
        }
      ],
      "source": [
        "test_acc = uploadmodel.evaluate(X_sequence, y)"
      ]
    },
    {
      "cell_type": "code",
      "source": [
        "test_acc"
      ],
      "metadata": {
        "id": "6fuTmgGrUgGg",
        "colab": {
          "base_uri": "https://localhost:8080/"
        },
        "outputId": "67d38d01-c1e7-4c86-a90d-5959e1ac4b0d"
      },
      "execution_count": 314,
      "outputs": [
        {
          "output_type": "execute_result",
          "data": {
            "text/plain": [
              "[4.532693386077881, 0.0]"
            ]
          },
          "metadata": {},
          "execution_count": 314
        }
      ]
    },
    {
      "cell_type": "code",
      "execution_count": 315,
      "metadata": {
        "id": "OHpifyqGdKn-",
        "colab": {
          "base_uri": "https://localhost:8080/"
        },
        "outputId": "e4da29cc-a04d-4132-bb64-ef5a998441d0"
      },
      "outputs": [
        {
          "output_type": "stream",
          "name": "stdout",
          "text": [
            "769/769 [==============================] - 165s 214ms/step\n"
          ]
        }
      ],
      "source": [
        "y_test_prob = uploadmodel.predict(X_sequence, verbose=1)"
      ]
    },
    {
      "cell_type": "code",
      "source": [
        "np.set_printoptions(suppress=True)\n",
        "y_test_prob_backup = y_test_prob\n",
        "y_test_prob"
      ],
      "metadata": {
        "id": "rRPswrrkmhp2",
        "colab": {
          "base_uri": "https://localhost:8080/"
        },
        "outputId": "2d5a1288-2652-409f-a0e1-4d80c2fa670f"
      },
      "execution_count": 316,
      "outputs": [
        {
          "output_type": "execute_result",
          "data": {
            "text/plain": [
              "array([[6.92],\n",
              "       [6.95],\n",
              "       [6.99],\n",
              "       ...,\n",
              "       [6.95],\n",
              "       [6.97],\n",
              "       [6.94]], dtype=float32)"
            ]
          },
          "metadata": {},
          "execution_count": 316
        }
      ]
    },
    {
      "cell_type": "code",
      "source": [
        "plt.figure(figsize=(10,10))\n",
        "plt.hist(y_test_prob_backup)"
      ],
      "metadata": {
        "id": "qsgK5XvWjrAP",
        "colab": {
          "base_uri": "https://localhost:8080/",
          "height": 682
        },
        "outputId": "b4620491-c5fe-42cb-96c0-86c85670e2a5"
      },
      "execution_count": 317,
      "outputs": [
        {
          "output_type": "execute_result",
          "data": {
            "text/plain": [
              "(array([ 1349.,   938.,    35.,    34.,    22.,    30.,    27.,    36.,\n",
              "          206., 21901.]),\n",
              " array([-0.74,  0.09,  0.92,  1.75,  2.58,  3.41,  4.24,  5.07,  5.9 ,\n",
              "         6.73,  7.56], dtype=float32),\n",
              " <a list of 10 Patch objects>)"
            ]
          },
          "metadata": {},
          "execution_count": 317
        },
        {
          "output_type": "display_data",
          "data": {
            "text/plain": [
              "<Figure size 720x720 with 1 Axes>"
            ],
            "image/png": "[encoded data removed]"
          },
          "metadata": {
            "needs_background": "light"
          }
        }
      ]
    },
    {
      "cell_type": "code",
      "source": [
        "y_test_prob_backup[:10]"
      ],
      "metadata": {
        "id": "M6Xj4ugPx610",
        "colab": {
          "base_uri": "https://localhost:8080/"
        },
        "outputId": "ec590eb5-c241-43d7-a0d8-1a23140aba76"
      },
      "execution_count": 318,
      "outputs": [
        {
          "output_type": "execute_result",
          "data": {
            "text/plain": [
              "array([[6.92],\n",
              "       [6.95],\n",
              "       [6.99],\n",
              "       [6.87],\n",
              "       [0.53],\n",
              "       [0.56],\n",
              "       [0.48],\n",
              "       [6.92],\n",
              "       [0.46],\n",
              "       [0.6 ]], dtype=float32)"
            ]
          },
          "metadata": {},
          "execution_count": 318
        }
      ]
    },
    {
      "cell_type": "code",
      "execution_count": 319,
      "metadata": {
        "id": "8DoJy_p9dPzN"
      },
      "outputs": [],
      "source": [
        "from sklearn.metrics import multilabel_confusion_matrix"
      ]
    },
    {
      "cell_type": "code",
      "source": [
        "y_test_prob"
      ],
      "metadata": {
        "id": "fLgDwAIfiyv2",
        "colab": {
          "base_uri": "https://localhost:8080/"
        },
        "outputId": "cd95317b-2594-424e-819d-07f17a6661a1"
      },
      "execution_count": 320,
      "outputs": [
        {
          "output_type": "execute_result",
          "data": {
            "text/plain": [
              "array([[6.92],\n",
              "       [6.95],\n",
              "       [6.99],\n",
              "       ...,\n",
              "       [6.95],\n",
              "       [6.97],\n",
              "       [6.94]], dtype=float32)"
            ]
          },
          "metadata": {},
          "execution_count": 320
        }
      ]
    },
    {
      "cell_type": "code",
      "source": [
        "y_test_pred = np.reshape(y_test_prob, -1)"
      ],
      "metadata": {
        "id": "ISi7-hg2gI7f"
      },
      "execution_count": 321,
      "outputs": []
    },
    {
      "cell_type": "code",
      "source": [
        "y_test_pred"
      ],
      "metadata": {
        "id": "lsLE4-aGiT6A",
        "colab": {
          "base_uri": "https://localhost:8080/"
        },
        "outputId": "671730b3-dd85-4b36-b18f-b2083a15d8f3"
      },
      "execution_count": 322,
      "outputs": [
        {
          "output_type": "execute_result",
          "data": {
            "text/plain": [
              "array([6.92, 6.95, 6.99, ..., 6.95, 6.97, 6.94], dtype=float32)"
            ]
          },
          "metadata": {},
          "execution_count": 322
        }
      ]
    },
    {
      "cell_type": "code",
      "source": [
        "y_test_pred_int = np.round(y_test_pred)\n",
        "print(y_test_pred_int)\n",
        "y_test_pred_int = y_test_pred_int.astype(int)"
      ],
      "metadata": {
        "id": "jiZwDk3pvcVw",
        "colab": {
          "base_uri": "https://localhost:8080/"
        },
        "outputId": "ef87f8a8-141f-4410-eaf1-489851e0c62c"
      },
      "execution_count": 323,
      "outputs": [
        {
          "output_type": "stream",
          "name": "stdout",
          "text": [
            "[7. 7. 7. ... 7. 7. 7.]\n"
          ]
        }
      ]
    },
    {
      "cell_type": "code",
      "source": [
        "y_test_pred_int"
      ],
      "metadata": {
        "id": "VTPEZkizvo1c",
        "colab": {
          "base_uri": "https://localhost:8080/"
        },
        "outputId": "8e3f8930-1c1f-4ccc-ccbb-086ace50c7a9"
      },
      "execution_count": 324,
      "outputs": [
        {
          "output_type": "execute_result",
          "data": {
            "text/plain": [
              "array([7, 7, 7, ..., 7, 7, 7])"
            ]
          },
          "metadata": {},
          "execution_count": 324
        }
      ]
    },
    {
      "cell_type": "code",
      "execution_count": 325,
      "metadata": {
        "id": "fTCsPjW8dQaZ"
      },
      "outputs": [],
      "source": [
        "cfm=confusion_matrix(y, y_test_pred_int)"
      ]
    },
    {
      "cell_type": "code",
      "source": [
        "cfm"
      ],
      "metadata": {
        "id": "_67lPg6ic4cH",
        "colab": {
          "base_uri": "https://localhost:8080/"
        },
        "outputId": "7368554a-dc70-4e20-9b8a-f2bc372c217f"
      },
      "execution_count": 326,
      "outputs": [
        {
          "output_type": "execute_result",
          "data": {
            "text/plain": [
              "array([[    0,     0,     0,     0,     0,     0,     0,     0,     0,\n",
              "            0],\n",
              "       [    0,     0,     0,     0,     0,     0,     0,     0,     0,\n",
              "            0],\n",
              "       [    0,     0,     0,     0,     0,     0,     0,     0,     0,\n",
              "            0],\n",
              "       [    0,     0,     0,     0,     0,     0,     0,     0,     0,\n",
              "            0],\n",
              "       [    0,     0,     0,     0,     0,     0,     0,     0,     0,\n",
              "            0],\n",
              "       [    0,     0,     0,     0,     0,     0,     0,     0,     0,\n",
              "            0],\n",
              "       [    0,     0,     0,     0,     0,     0,     0,     0,     0,\n",
              "            0],\n",
              "       [    0,     0,     0,     0,     0,     0,     0,     0,     0,\n",
              "            0],\n",
              "       [    1,  2192,   123,    39,    29,    33,    33,   121, 22005,\n",
              "            2],\n",
              "       [    0,     0,     0,     0,     0,     0,     0,     0,     0,\n",
              "            0]])"
            ]
          },
          "metadata": {},
          "execution_count": 326
        }
      ]
    },
    {
      "cell_type": "code",
      "source": [
        " print(classification_report(y, y_test_pred_int))"
      ],
      "metadata": {
        "id": "XTqR_xnwRWCJ",
        "colab": {
          "base_uri": "https://localhost:8080/"
        },
        "outputId": "350451d4-5745-4693-f19c-434ade2c825b"
      },
      "execution_count": 327,
      "outputs": [
        {
          "output_type": "stream",
          "name": "stdout",
          "text": [
            "              precision    recall  f1-score   support\n",
            "\n",
            "          -1       0.00      0.00      0.00         0\n",
            "           0       0.00      0.00      0.00         0\n",
            "           1       0.00      0.00      0.00         0\n",
            "           2       0.00      0.00      0.00         0\n",
            "           3       0.00      0.00      0.00         0\n",
            "           4       0.00      0.00      0.00         0\n",
            "           5       0.00      0.00      0.00         0\n",
            "           6       0.00      0.00      0.00         0\n",
            "           7       1.00      0.90      0.94     24578\n",
            "           8       0.00      0.00      0.00         0\n",
            "\n",
            "    accuracy                           0.90     24578\n",
            "   macro avg       0.10      0.09      0.09     24578\n",
            "weighted avg       1.00      0.90      0.94     24578\n",
            "\n"
          ]
        }
      ]
    },
    {
      "cell_type": "code",
      "source": [
        "plt.plot(y_test_pred, y, 'o')\n",
        "#plt.title('')\n",
        "plt.ylabel('y_test')\n",
        "plt.xlabel('y_test_pred')\n",
        "plt.show()"
      ],
      "metadata": {
        "id": "l5sCwqd8ZdyS",
        "colab": {
          "base_uri": "https://localhost:8080/",
          "height": 282
        },
        "outputId": "3d0f858d-482f-4f74-88fa-e0f549bc2cff"
      },
      "execution_count": 328,
      "outputs": [
        {
          "output_type": "display_data",
          "data": {
            "text/plain": [
              "<Figure size 432x288 with 1 Axes>"
            ],
            "image/png": "[encoded data removed]"
          },
          "metadata": {
            "needs_background": "light"
          }
        }
      ]
    },
    {
      "cell_type": "code",
      "source": [
        "plt.plot(y_test_pred_int, y, 'o')\n",
        "#plt.title('')\n",
        "plt.ylabel('y_test')\n",
        "plt.xlabel('y_test_pred_int')\n",
        "plt.show()"
      ],
      "metadata": {
        "id": "Fug6j8EeXP5G",
        "colab": {
          "base_uri": "https://localhost:8080/",
          "height": 282
        },
        "outputId": "746a1723-b5b5-46bd-c8de-f897ed85f4d1"
      },
      "execution_count": 329,
      "outputs": [
        {
          "output_type": "display_data",
          "data": {
            "text/plain": [
              "<Figure size 432x288 with 1 Axes>"
            ],
            "image/png": "[encoded data removed]"
          },
          "metadata": {
            "needs_background": "light"
          }
        }
      ]
    },
    {
      "cell_type": "code",
      "execution_count": 330,
      "metadata": {
        "id": "fhdLAhgPUnH3"
      },
      "outputs": [],
      "source": [
        "def plot_learningCurve(history, epoch):\n",
        "  # Plot training & validation accuracy values\n",
        "  epoch_range = range(1, epoch+1)\n",
        "  plt.plot(epoch_range, history.history['accuracy'])\n",
        "  plt.plot(epoch_range, history.history['val_accuracy'])\n",
        "  plt.title('Model accuracy')\n",
        "  plt.ylabel('Accuracy')\n",
        "  plt.xlabel('Epoch')\n",
        "  plt.legend(['Train', 'Val'], loc='upper left')\n",
        "  plt.show()\n",
        "\n",
        "  # Plot training & validation loss values\n",
        "  plt.plot(epoch_range, history.history['loss'])\n",
        "  plt.plot(epoch_range, history.history['val_loss'])\n",
        "  plt.title('Model loss')\n",
        "  plt.ylabel('Loss')\n",
        "  plt.xlabel('Epoch')\n",
        "  plt.legend(['Train', 'Val'], loc='upper left')\n",
        "  plt.show()"
      ]
    },
    {
      "cell_type": "code",
      "execution_count": 331,
      "metadata": {
        "id": "WlkQkWHgU5mL",
        "colab": {
          "base_uri": "https://localhost:8080/",
          "height": 169
        },
        "outputId": "c5d98cc3-aed2-428f-b8b6-bd291e0cff40"
      },
      "outputs": [
        {
          "output_type": "error",
          "ename": "NameError",
          "evalue": "ignored",
          "traceback": [
            "\u001b[0;31m---------------------------------------------------------------------------\u001b[0m",
            "\u001b[0;31mNameError\u001b[0m                                 Traceback (most recent call last)",
            "\u001b[0;32m<ipython-input-331-40b6ded80803>\u001b[0m in \u001b[0;36m<module>\u001b[0;34m()\u001b[0m\n\u001b[0;32m----> 1\u001b[0;31m \u001b[0mplot_learningCurve\u001b[0m\u001b[0;34m(\u001b[0m\u001b[0mhistory\u001b[0m\u001b[0;34m,\u001b[0m \u001b[0;36m100\u001b[0m\u001b[0;34m)\u001b[0m\u001b[0;34m\u001b[0m\u001b[0;34m\u001b[0m\u001b[0m\n\u001b[0m",
            "\u001b[0;31mNameError\u001b[0m: name 'history' is not defined"
          ]
        }
      ],
      "source": [
        "plot_learningCurve(history, 100)"
      ]
    },
    {
      "cell_type": "code",
      "source": [
        "import numpy as np\n",
        "import matplotlib.pyplot as plt\n",
        "\n",
        "from sklearn import svm, datasets\n",
        "from sklearn.model_selection import train_test_split\n",
        "from sklearn.metrics import confusion_matrix\n",
        "from sklearn.utils.multiclass import unique_labels\n",
        "\n",
        "class_names = np.array(['0', '1', '2', '3', '4', '5', '6', '7', '8', '-1'])\n",
        "\n",
        "def plot_confusion_matrix(y_true, y_pred, classes,\n",
        "                          normalize=False,\n",
        "                          title=None,\n",
        "                          cmap=plt.cm.Blues):\n",
        "    \"\"\"\n",
        "    This function prints and plots the confusion matrix.\n",
        "    Normalization can be applied by setting `normalize=True`.\n",
        "    \"\"\"\n",
        "    if not title:\n",
        "        if normalize:\n",
        "            title = 'Normalized confusion matrix'\n",
        "        else:\n",
        "            title = 'Confusion matrix, without normalization'\n",
        "\n",
        "    # Compute confusion matrix\n",
        "    cm = confusion_matrix(y_true, y_pred)\n",
        "    # Only use the labels that appear in the data\n",
        "    classes = classes[unique_labels(y_true, y_pred)]\n",
        "    if normalize:\n",
        "        cm = cm.astype('float') / cm.sum(axis=1)[:, np.newaxis]\n",
        "        print(\"Normalized confusion matrix\")\n",
        "    else:\n",
        "        print('Confusion matrix, without normalization')\n",
        "\n",
        "    print(cm)\n",
        "\n",
        "    fig, ax = plt.subplots()\n",
        "    im = ax.imshow(cm, interpolation='nearest', cmap=cmap)\n",
        "    ax.figure.colorbar(im, ax=ax)\n",
        "    # We want to show all ticks...\n",
        "    ax.set(xticks=np.arange(cm.shape[1]),\n",
        "           yticks=np.arange(cm.shape[0]),\n",
        "           # ... and label them with the respective list entries\n",
        "           xticklabels=classes, yticklabels=classes,\n",
        "           title=title,\n",
        "           ylabel='True label',\n",
        "           xlabel='Predicted label')\n",
        "\n",
        "    # Rotate the tick labels and set their alignment.\n",
        "    plt.setp(ax.get_xticklabels(), rotation=45, ha=\"right\",\n",
        "             rotation_mode=\"anchor\")\n",
        "\n",
        "    # Loop over data dimensions and create text annotations.\n",
        "    fmt = '.2f' if normalize else 'd'\n",
        "    thresh = cm.max() / 2.\n",
        "    for i in range(cm.shape[0]):\n",
        "        for j in range(cm.shape[1]):\n",
        "            ax.text(j, i, format(cm[i, j], fmt),\n",
        "                    ha=\"center\", va=\"center\",\n",
        "                    color=\"white\" if cm[i, j] > thresh or (cm[i, j] > 0.85 and cm[i, j] < 0.95 )else \"black\")\n",
        "    fig.tight_layout()\n",
        "\n",
        "    return ax\n",
        "\n",
        "\n",
        "np.set_printoptions(precision=2)\n",
        "\n",
        "# Plot non-normalized confusion matrix\n",
        "plot_confusion_matrix(y, y_test_pred_int, classes=class_names,\n",
        "                      title='Confusion matrix, without normalization')\n",
        "\n",
        "# Plot normalized confusion matrix\n",
        "plot_confusion_matrix(y, y_test_pred_int, classes=class_names, normalize=True,\n",
        "                      title='Normalized confusion matrix')\n",
        "\n",
        "plt.show()"
      ],
      "metadata": {
        "id": "H_QpRmAjwxbM",
        "colab": {
          "base_uri": "https://localhost:8080/",
          "height": 972
        },
        "outputId": "8a1b1325-b6e6-49ff-e502-eddc4ea211e5"
      },
      "execution_count": 334,
      "outputs": [
        {
          "output_type": "stream",
          "name": "stdout",
          "text": [
            "Confusion matrix, without normalization\n",
            "[[    0     0     0     0     0     0     0     0     0     0]\n",
            " [    0     0     0     0     0     0     0     0     0     0]\n",
            " [    0     0     0     0     0     0     0     0     0     0]\n",
            " [    0     0     0     0     0     0     0     0     0     0]\n",
            " [    0     0     0     0     0     0     0     0     0     0]\n",
            " [    0     0     0     0     0     0     0     0     0     0]\n",
            " [    0     0     0     0     0     0     0     0     0     0]\n",
            " [    0     0     0     0     0     0     0     0     0     0]\n",
            " [    1  2192   123    39    29    33    33   121 22005     2]\n",
            " [    0     0     0     0     0     0     0     0     0     0]]\n",
            "Normalized confusion matrix\n",
            "[[ nan  nan  nan  nan  nan  nan  nan  nan  nan  nan]\n",
            " [ nan  nan  nan  nan  nan  nan  nan  nan  nan  nan]\n",
            " [ nan  nan  nan  nan  nan  nan  nan  nan  nan  nan]\n",
            " [ nan  nan  nan  nan  nan  nan  nan  nan  nan  nan]\n",
            " [ nan  nan  nan  nan  nan  nan  nan  nan  nan  nan]\n",
            " [ nan  nan  nan  nan  nan  nan  nan  nan  nan  nan]\n",
            " [ nan  nan  nan  nan  nan  nan  nan  nan  nan  nan]\n",
            " [ nan  nan  nan  nan  nan  nan  nan  nan  nan  nan]\n",
            " [0.   0.09 0.01 0.   0.   0.   0.   0.   0.9  0.  ]\n",
            " [ nan  nan  nan  nan  nan  nan  nan  nan  nan  nan]]\n"
          ]
        },
        {
          "output_type": "display_data",
          "data": {
            "text/plain": [
              "<Figure size 432x288 with 2 Axes>"
            ],
            "image/png": "[encoded data removed]"
          },
          "metadata": {
            "needs_background": "light"
          }
        },
        {
          "output_type": "display_data",
          "data": {
            "text/plain": [
              "<Figure size 432x288 with 2 Axes>"
            ],
            "image/png": "[encoded data removed]"
          },
          "metadata": {
            "needs_background": "light"
          }
        }
      ]
    }
  ],
  "metadata": {
    "colab": {
      "collapsed_sections": [
        "f857kfHqUk0-"
      ],
      "name": "DataInjectionRegresion_Multi_Class_MD_LSTM_step_200_files_120.ipynb",
      "provenance": [],
      "include_colab_link": true
    },
    "kernelspec": {
      "display_name": "Python 3",
      "name": "python3"
    },
    "language_info": {
      "name": "python"
    }
  },
  "nbformat": 4,
  "nbformat_minor": 0
}