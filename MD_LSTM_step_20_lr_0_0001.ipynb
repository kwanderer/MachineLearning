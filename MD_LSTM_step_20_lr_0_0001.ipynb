{
  "cells": [
    {
      "cell_type": "markdown",
      "metadata": {
        "id": "view-in-github",
        "colab_type": "text"
      },
      "source": [
        "<a href=\"https://colab.research.google.com/github/kwanderer/MachineLearning/blob/main/MD_LSTM_step_20_lr_0_0001.ipynb\" target=\"_parent\"><img src=\"https://colab.research.google.com/assets/colab-badge.svg\" alt=\"Open In Colab\"/></a>"
      ]
    },
    {
      "cell_type": "markdown",
      "metadata": {
        "id": "f857kfHqUk0-"
      },
      "source": [
        "\n",
        "\n",
        "#Datu kopa"
      ]
    },
    {
      "cell_type": "markdown",
      "metadata": {
        "id": "nM9WE3QGUwVi"
      },
      "source": [
        "Datu kopas avots: https://www.kaggle.com/uysalserkan/fault-induction-motor-dataset"
      ]
    },
    {
      "cell_type": "markdown",
      "metadata": {
        "id": "_sN_h3qHHy6r"
      },
      "source": [
        "Darbā tiek izmantota indukcijas motora parametru datu bāze. Izmantotajā datu kopā ir dati, kas tika iegūti SpectraQuest aparatūras kļūdu simulatorā (Machinery Fault Simulator).\n",
        "\n",
        "Katra mērījumu secība tika ģenerēta ar frekvenci 50 kHz 5 sekunžu laikā, kopā 250 000 mērījumi.\n",
        "\n",
        "Dati ir apkopoti vairākos failos, dažādos darbības stāvokļos un to apjoms ir ļoti liels. Šajā darbā tika izmantota daļa(viena mērījumu secība) no motora normālas darbības datiem.\n"
      ]
    },
    {
      "cell_type": "markdown",
      "metadata": {
        "id": "KtFAOaHYHLPo"
      },
      "source": [
        "Dati ir apkopoti tabulā, kura satur 8 parametrus. Dati ir iedalīti sekojošās kolonas:\n",
        "\n",
        "**tachometer** – tahometra signāls, kas ļauj novērtēt rotācijas frekvenci\n",
        "\n",
        "**und-accelerometer-axial** - apakšā esošā gultņa akselerometrs (aksiālais virziens)\n",
        "\n",
        "**und-accelerometer-radial** – apakšā esošā gultņa akselerometrs (radiālais virziens)\n",
        "\n",
        "**und-accelerometer-tangential** - apakšā esošā gultņa akselerometrs (tangenciālais virziens)\n",
        "\n",
        "**over-accelerometer-axial** - pārkares gultņa akselerometrs (aksiālais virziens)\n",
        "\n",
        "**over-accelerometer-radial** – pārkares gultņa akselerometrs (radiālais  virziens)\n",
        "\n",
        "**over-accelerometer-tangential**  - pārkares gultņa akselerometrs (tangenciālais virziens)\n",
        "\n",
        "**microphone** – mikrofona vērtība\n"
      ]
    },
    {
      "cell_type": "markdown",
      "metadata": {
        "id": "XymoNLKMVFUC"
      },
      "source": [
        "#Datu ielasīšana un satura vizualizācija"
      ]
    },
    {
      "cell_type": "code",
      "execution_count": 70,
      "metadata": {
        "id": "_yqYZDeOFq5s"
      },
      "outputs": [],
      "source": [
        "import keras\n",
        "from keras.layers import LSTM, Dropout, Dense\n",
        "import tensorflow as tf\n",
        "import numpy as np\n",
        "import pandas as pd\n",
        "\n",
        "from sklearn import linear_model  #pip install sklearn - loti plasa masinapmacibas biblioteka\n",
        "from sklearn.linear_model import LinearRegression  \n",
        "import csv          #pip install csv - darbam ar CSV datu kopam\n",
        "import requests     #pip install requests  - vienkarsakam darbam ar tiessaistes CSV datu kopam tiessaistes\n",
        "\n",
        "import matplotlib\n",
        "import matplotlib.pyplot as plt\n",
        "\n",
        "import glob\n"
      ]
    },
    {
      "cell_type": "code",
      "execution_count": 71,
      "metadata": {
        "id": "wlRTBbM2eUcV",
        "colab": {
          "base_uri": "https://localhost:8080/"
        },
        "outputId": "55860aba-142f-4d55-d5cc-567f9d650758"
      },
      "outputs": [
        {
          "output_type": "stream",
          "name": "stdout",
          "text": [
            "Drive already mounted at /content/gdrive; to attempt to forcibly remount, call drive.mount(\"/content/gdrive\", force_remount=True).\n"
          ]
        }
      ],
      "source": [
        "from google.colab import drive\n",
        "import os\n",
        "drive.mount('/content/gdrive')\n",
        "os.chdir(\"/content/gdrive/MyDrive/Colab Notebooks/data/motor/\")"
      ]
    },
    {
      "cell_type": "code",
      "execution_count": 72,
      "metadata": {
        "id": "zzz6fBl_SNom"
      },
      "outputs": [],
      "source": [
        "#extension = 'csv'\n",
        "#all_filenames = [i for i in glob.glob('*.{}'.format(extension))]"
      ]
    },
    {
      "cell_type": "code",
      "execution_count": 73,
      "metadata": {
        "id": "vagKFCkToBi0"
      },
      "outputs": [],
      "source": [
        "#combine all files in the list\n",
        "#combined_csv = pd.concat([pd.read_csv(f) for f in all_filenames ])\n",
        "#export to csv\n",
        "#combined_csv.to_csv( \"combined_csv.csv\", index=False, encoding='utf-8-sig')"
      ]
    },
    {
      "cell_type": "code",
      "execution_count": 74,
      "metadata": {
        "id": "encEkbDhSfGI"
      },
      "outputs": [],
      "source": [
        "data = pd.read_csv(\"combined_csv.csv\")"
      ]
    },
    {
      "cell_type": "code",
      "execution_count": 75,
      "metadata": {
        "id": "yz5Qe8ZWk1Zq",
        "colab": {
          "base_uri": "https://localhost:8080/"
        },
        "outputId": "aad55d65-af64-454b-b59d-cb0f4c8c5795"
      },
      "outputs": [
        {
          "output_type": "stream",
          "name": "stdout",
          "text": [
            "<class 'pandas.core.frame.DataFrame'>\n",
            "RangeIndex: 500000 entries, 0 to 499999\n",
            "Data columns (total 9 columns):\n",
            " #   Column                         Non-Null Count   Dtype  \n",
            "---  ------                         --------------   -----  \n",
            " 0   tachometer                     500000 non-null  float64\n",
            " 1   und-accelerometer-axial        500000 non-null  float64\n",
            " 2   und-accelerometer-radial       500000 non-null  float64\n",
            " 3   und-accelerometer-tangential   500000 non-null  float64\n",
            " 4   over-accelerometer-axial       500000 non-null  float64\n",
            " 5   over-accelerometer-radial      500000 non-null  float64\n",
            " 6   over-accelerometer-tangential  500000 non-null  float64\n",
            " 7   microphone                     500000 non-null  float64\n",
            " 8   Class                          500000 non-null  int64  \n",
            "dtypes: float64(8), int64(1)\n",
            "memory usage: 34.3 MB\n"
          ]
        }
      ],
      "source": [
        "data.info()"
      ]
    },
    {
      "cell_type": "code",
      "execution_count": 76,
      "metadata": {
        "id": "WUW9ezX6a_st",
        "colab": {
          "base_uri": "https://localhost:8080/"
        },
        "outputId": "727c0d20-c3ab-4ee0-87ff-8cbbfcf98065"
      },
      "outputs": [
        {
          "output_type": "execute_result",
          "data": {
            "text/plain": [
              "500000"
            ]
          },
          "metadata": {},
          "execution_count": 76
        }
      ],
      "source": [
        "rec_count = len(data)\n",
        "rec_count"
      ]
    },
    {
      "cell_type": "markdown",
      "source": [
        "# Datu dalīšana mazākos gabalos"
      ],
      "metadata": {
        "id": "6RVC1PZy88fC"
      }
    },
    {
      "cell_type": "code",
      "execution_count": 77,
      "metadata": {
        "id": "DOvnCYkcbGaE"
      },
      "outputs": [],
      "source": [
        "sequence_length = 200"
      ]
    },
    {
      "cell_type": "code",
      "execution_count": 78,
      "metadata": {
        "id": "RG0o2L3zbTEx"
      },
      "outputs": [],
      "source": [
        "def generate_data(X, y, sequence_length = 200, step = 20):\n",
        "    X_local = []\n",
        "    y_local = []\n",
        "    for start in range(0, len(data) - sequence_length, step):\n",
        "        end = start + sequence_length\n",
        "        X_local.append(X[start:end])\n",
        "        y_local.append(y[end-1])\n",
        "    return np.array(X_local), np.array(y_local)\n",
        "\n",
        "X_sequence, y = generate_data(data.loc[:, \"tachometer\":\"microphone\"].values, data.Class)"
      ]
    },
    {
      "cell_type": "code",
      "execution_count": 79,
      "metadata": {
        "id": "s0QxwK66cLVF",
        "colab": {
          "base_uri": "https://localhost:8080/"
        },
        "outputId": "87506e03-31fb-4363-e1ca-cd26a900037c"
      },
      "outputs": [
        {
          "output_type": "execute_result",
          "data": {
            "text/plain": [
              "((24990, 200, 8), (24990,))"
            ]
          },
          "metadata": {},
          "execution_count": 79
        }
      ],
      "source": [
        "X_sequence.shape, y.shape"
      ]
    },
    {
      "cell_type": "markdown",
      "source": [
        "# Random/Shuffle"
      ],
      "metadata": {
        "id": "5BXSDoHa9UX_"
      }
    },
    {
      "cell_type": "code",
      "source": [
        "shuffler = np.random.permutation(len(X_sequence))\n",
        "X_sequence_shuffled = X_sequence[shuffler]\n",
        "y_shuffled = y[shuffler]"
      ],
      "metadata": {
        "id": "ZcfE9idy-ckb"
      },
      "execution_count": 80,
      "outputs": []
    },
    {
      "cell_type": "markdown",
      "source": [
        "# LSTM"
      ],
      "metadata": {
        "id": "TfhRTTNcE2s8"
      }
    },
    {
      "cell_type": "code",
      "execution_count": 81,
      "metadata": {
        "id": "PjKWKiA6aH3z",
        "colab": {
          "base_uri": "https://localhost:8080/"
        },
        "outputId": "cf38b4fb-d15b-4052-9d8a-a37ea8fe898a"
      },
      "outputs": [
        {
          "output_type": "stream",
          "name": "stderr",
          "text": [
            "/usr/local/lib/python3.7/dist-packages/keras/optimizer_v2/gradient_descent.py:102: UserWarning: The `lr` argument is deprecated, use `learning_rate` instead.\n",
            "  super(SGD, self).__init__(name, **kwargs)\n"
          ]
        },
        {
          "output_type": "stream",
          "name": "stdout",
          "text": [
            "Model: \"sequential_3\"\n",
            "_________________________________________________________________\n",
            " Layer (type)                Output Shape              Param #   \n",
            "=================================================================\n",
            " lstm_3 (LSTM)               (None, 100)               43600     \n",
            "                                                                 \n",
            " dropout_3 (Dropout)         (None, 100)               0         \n",
            "                                                                 \n",
            " dense_3 (Dense)             (None, 1)                 101       \n",
            "                                                                 \n",
            "=================================================================\n",
            "Total params: 43,701\n",
            "Trainable params: 43,701\n",
            "Non-trainable params: 0\n",
            "_________________________________________________________________\n"
          ]
        }
      ],
      "source": [
        "from tensorflow.keras import optimizers\n",
        "sgd = optimizers.SGD(lr=0.0001, decay=1e-6, momentum=0.9, nesterov=True)\n",
        "model = keras.Sequential()\n",
        "model.add(LSTM(100, input_shape = (200, 8)))\n",
        "model.add(Dropout(0.5))\n",
        "model.add(Dense(1, activation=\"sigmoid\"))\n",
        "\n",
        "#model.compile(loss='mean_squared_error', optimizer=sgd)\n",
        "model.compile(loss=\"binary_crossentropy\"\n",
        "              , metrics=[keras.metrics.binary_accuracy]\n",
        "              , optimizer=sgd)\n",
        "\n",
        "model.summary()"
      ]
    },
    {
      "cell_type": "code",
      "execution_count": 82,
      "metadata": {
        "id": "tg8wrqsqc8UX"
      },
      "outputs": [],
      "source": [
        "training_size = int(len(X_sequence) * 0.7)"
      ]
    },
    {
      "cell_type": "code",
      "execution_count": 83,
      "metadata": {
        "id": "avIp3TEKc-qF"
      },
      "outputs": [],
      "source": [
        "X_train, y_train = X_sequence_shuffled[:training_size], y_shuffled[:training_size]\n",
        "X_test, y_test = X_sequence_shuffled[training_size:], y_shuffled[training_size:]"
      ]
    },
    {
      "cell_type": "code",
      "execution_count": 84,
      "metadata": {
        "id": "cen4faX0dFJP",
        "colab": {
          "base_uri": "https://localhost:8080/"
        },
        "outputId": "5e9f23e5-4f4f-4af0-8178-85622aa9c29a"
      },
      "outputs": [
        {
          "output_type": "stream",
          "name": "stdout",
          "text": [
            "Epoch 1/50\n",
            "274/274 [==============================] - 63s 221ms/step - loss: 0.6683 - binary_accuracy: 0.6177 - val_loss: 0.6444 - val_binary_accuracy: 0.8145\n",
            "Epoch 2/50\n",
            "274/274 [==============================] - 63s 229ms/step - loss: 0.6374 - binary_accuracy: 0.7151 - val_loss: 0.6174 - val_binary_accuracy: 0.8277\n",
            "Epoch 3/50\n",
            "274/274 [==============================] - 63s 229ms/step - loss: 0.6119 - binary_accuracy: 0.7670 - val_loss: 0.5922 - val_binary_accuracy: 0.8499\n",
            "Epoch 4/50\n",
            "274/274 [==============================] - 61s 223ms/step - loss: 0.5853 - binary_accuracy: 0.8032 - val_loss: 0.5675 - val_binary_accuracy: 0.8577\n",
            "Epoch 5/50\n",
            "274/274 [==============================] - 60s 219ms/step - loss: 0.5624 - binary_accuracy: 0.8190 - val_loss: 0.5428 - val_binary_accuracy: 0.8642\n",
            "Epoch 6/50\n",
            "274/274 [==============================] - 60s 220ms/step - loss: 0.5388 - binary_accuracy: 0.8326 - val_loss: 0.5178 - val_binary_accuracy: 0.8691\n",
            "Epoch 7/50\n",
            "274/274 [==============================] - 61s 225ms/step - loss: 0.5141 - binary_accuracy: 0.8457 - val_loss: 0.4923 - val_binary_accuracy: 0.8727\n",
            "Epoch 8/50\n",
            "274/274 [==============================] - 60s 219ms/step - loss: 0.4883 - binary_accuracy: 0.8549 - val_loss: 0.4665 - val_binary_accuracy: 0.8745\n",
            "Epoch 9/50\n",
            "274/274 [==============================] - 60s 221ms/step - loss: 0.4643 - binary_accuracy: 0.8604 - val_loss: 0.4405 - val_binary_accuracy: 0.8756\n",
            "Epoch 10/50\n",
            "274/274 [==============================] - 63s 229ms/step - loss: 0.4360 - binary_accuracy: 0.8670 - val_loss: 0.4147 - val_binary_accuracy: 0.8789\n",
            "Epoch 11/50\n",
            "274/274 [==============================] - 61s 223ms/step - loss: 0.4126 - binary_accuracy: 0.8711 - val_loss: 0.3897 - val_binary_accuracy: 0.8812\n",
            "Epoch 12/50\n",
            "274/274 [==============================] - 62s 228ms/step - loss: 0.3867 - binary_accuracy: 0.8775 - val_loss: 0.3665 - val_binary_accuracy: 0.8838\n",
            "Epoch 13/50\n",
            "274/274 [==============================] - 72s 262ms/step - loss: 0.3671 - binary_accuracy: 0.8817 - val_loss: 0.3460 - val_binary_accuracy: 0.8874\n",
            "Epoch 14/50\n",
            "274/274 [==============================] - 63s 230ms/step - loss: 0.3465 - binary_accuracy: 0.8864 - val_loss: 0.3287 - val_binary_accuracy: 0.8906\n",
            "Epoch 15/50\n",
            "274/274 [==============================] - 62s 227ms/step - loss: 0.3317 - binary_accuracy: 0.8909 - val_loss: 0.3146 - val_binary_accuracy: 0.8922\n",
            "Epoch 16/50\n",
            "274/274 [==============================] - 62s 228ms/step - loss: 0.3194 - binary_accuracy: 0.8926 - val_loss: 0.3035 - val_binary_accuracy: 0.8952\n",
            "Epoch 17/50\n",
            "274/274 [==============================] - 62s 225ms/step - loss: 0.3073 - binary_accuracy: 0.8938 - val_loss: 0.2945 - val_binary_accuracy: 0.8966\n",
            "Epoch 18/50\n",
            "274/274 [==============================] - 62s 227ms/step - loss: 0.3000 - binary_accuracy: 0.8958 - val_loss: 0.2872 - val_binary_accuracy: 0.8976\n",
            "Epoch 19/50\n",
            "274/274 [==============================] - 61s 223ms/step - loss: 0.2926 - binary_accuracy: 0.8973 - val_loss: 0.2807 - val_binary_accuracy: 0.8985\n",
            "Epoch 20/50\n",
            "274/274 [==============================] - 60s 220ms/step - loss: 0.2875 - binary_accuracy: 0.8980 - val_loss: 0.2750 - val_binary_accuracy: 0.9000\n",
            "Epoch 21/50\n",
            "274/274 [==============================] - 60s 220ms/step - loss: 0.2813 - binary_accuracy: 0.9005 - val_loss: 0.2694 - val_binary_accuracy: 0.9001\n",
            "Epoch 22/50\n",
            "274/274 [==============================] - 60s 220ms/step - loss: 0.2759 - binary_accuracy: 0.9008 - val_loss: 0.2636 - val_binary_accuracy: 0.9009\n",
            "Epoch 23/50\n",
            "274/274 [==============================] - 61s 221ms/step - loss: 0.2715 - binary_accuracy: 0.9017 - val_loss: 0.2579 - val_binary_accuracy: 0.9042\n",
            "Epoch 24/50\n",
            "274/274 [==============================] - 60s 220ms/step - loss: 0.2647 - binary_accuracy: 0.9044 - val_loss: 0.2512 - val_binary_accuracy: 0.9068\n",
            "Epoch 25/50\n",
            "274/274 [==============================] - 60s 219ms/step - loss: 0.2563 - binary_accuracy: 0.9079 - val_loss: 0.2433 - val_binary_accuracy: 0.9114\n",
            "Epoch 26/50\n",
            "274/274 [==============================] - 60s 219ms/step - loss: 0.2499 - binary_accuracy: 0.9119 - val_loss: 0.2348 - val_binary_accuracy: 0.9158\n",
            "Epoch 27/50\n",
            "274/274 [==============================] - 60s 218ms/step - loss: 0.2404 - binary_accuracy: 0.9180 - val_loss: 0.2245 - val_binary_accuracy: 0.9213\n",
            "Epoch 28/50\n",
            "274/274 [==============================] - 59s 217ms/step - loss: 0.2302 - binary_accuracy: 0.9236 - val_loss: 0.2130 - val_binary_accuracy: 0.9292\n",
            "Epoch 29/50\n",
            "274/274 [==============================] - 60s 220ms/step - loss: 0.2222 - binary_accuracy: 0.9281 - val_loss: 0.2082 - val_binary_accuracy: 0.9306\n",
            "Epoch 30/50\n",
            "274/274 [==============================] - 60s 218ms/step - loss: 0.2154 - binary_accuracy: 0.9310 - val_loss: 0.2015 - val_binary_accuracy: 0.9341\n",
            "Epoch 31/50\n",
            "274/274 [==============================] - 59s 216ms/step - loss: 0.2110 - binary_accuracy: 0.9331 - val_loss: 0.1956 - val_binary_accuracy: 0.9365\n",
            "Epoch 32/50\n",
            "274/274 [==============================] - 59s 217ms/step - loss: 0.2042 - binary_accuracy: 0.9353 - val_loss: 0.1980 - val_binary_accuracy: 0.9366\n",
            "Epoch 33/50\n",
            "274/274 [==============================] - 58s 213ms/step - loss: 0.2038 - binary_accuracy: 0.9349 - val_loss: 0.1853 - val_binary_accuracy: 0.9410\n",
            "Epoch 34/50\n",
            "274/274 [==============================] - 58s 213ms/step - loss: 0.1959 - binary_accuracy: 0.9384 - val_loss: 0.1834 - val_binary_accuracy: 0.9416\n",
            "Epoch 35/50\n",
            "274/274 [==============================] - 59s 214ms/step - loss: 0.2606 - binary_accuracy: 0.9095 - val_loss: 0.7737 - val_binary_accuracy: 0.6793\n",
            "Epoch 36/50\n",
            "274/274 [==============================] - 59s 215ms/step - loss: 0.3602 - binary_accuracy: 0.8507 - val_loss: 0.1954 - val_binary_accuracy: 0.9366\n",
            "Epoch 37/50\n",
            "274/274 [==============================] - 58s 213ms/step - loss: 0.1950 - binary_accuracy: 0.9360 - val_loss: 0.1828 - val_binary_accuracy: 0.9396\n",
            "Epoch 38/50\n",
            "274/274 [==============================] - 58s 212ms/step - loss: 0.1840 - binary_accuracy: 0.9395 - val_loss: 0.1709 - val_binary_accuracy: 0.9460\n",
            "Epoch 39/50\n",
            "274/274 [==============================] - 58s 213ms/step - loss: 0.1775 - binary_accuracy: 0.9423 - val_loss: 0.1661 - val_binary_accuracy: 0.9466\n",
            "Epoch 40/50\n",
            "274/274 [==============================] - 59s 215ms/step - loss: 0.1753 - binary_accuracy: 0.9427 - val_loss: 0.1638 - val_binary_accuracy: 0.9481\n",
            "Epoch 41/50\n",
            "274/274 [==============================] - 59s 214ms/step - loss: 0.2080 - binary_accuracy: 0.9296 - val_loss: 0.2641 - val_binary_accuracy: 0.9114\n",
            "Epoch 42/50\n",
            "274/274 [==============================] - 59s 216ms/step - loss: 0.2354 - binary_accuracy: 0.9180 - val_loss: 0.2189 - val_binary_accuracy: 0.9225\n",
            "Epoch 43/50\n",
            "274/274 [==============================] - 59s 215ms/step - loss: 0.2065 - binary_accuracy: 0.9249 - val_loss: 0.1937 - val_binary_accuracy: 0.9322\n",
            "Epoch 44/50\n",
            "274/274 [==============================] - 59s 216ms/step - loss: 0.1859 - binary_accuracy: 0.9349 - val_loss: 0.1749 - val_binary_accuracy: 0.9400\n",
            "Epoch 45/50\n",
            "274/274 [==============================] - 60s 217ms/step - loss: 0.1731 - binary_accuracy: 0.9411 - val_loss: 0.1623 - val_binary_accuracy: 0.9465\n",
            "Epoch 46/50\n",
            "274/274 [==============================] - 59s 214ms/step - loss: 0.1639 - binary_accuracy: 0.9477 - val_loss: 0.1557 - val_binary_accuracy: 0.9510\n",
            "Epoch 47/50\n",
            "274/274 [==============================] - 58s 213ms/step - loss: 0.1552 - binary_accuracy: 0.9540 - val_loss: 0.1473 - val_binary_accuracy: 0.9558\n",
            "Epoch 48/50\n",
            "274/274 [==============================] - 58s 212ms/step - loss: 0.1520 - binary_accuracy: 0.9567 - val_loss: 0.1453 - val_binary_accuracy: 0.9595\n",
            "Epoch 49/50\n",
            "274/274 [==============================] - 59s 215ms/step - loss: 0.1400 - binary_accuracy: 0.9600 - val_loss: 0.1290 - val_binary_accuracy: 0.9623\n",
            "Epoch 50/50\n",
            "274/274 [==============================] - 59s 215ms/step - loss: 0.1323 - binary_accuracy: 0.9644 - val_loss: 0.1185 - val_binary_accuracy: 0.9676\n"
          ]
        }
      ],
      "source": [
        "history = model.fit(X_train, y_train, batch_size=64, epochs=50, validation_data=(X_test, y_test))"
      ]
    },
    {
      "cell_type": "code",
      "execution_count": 85,
      "metadata": {
        "id": "R7QQeqVidKBR",
        "colab": {
          "base_uri": "https://localhost:8080/"
        },
        "outputId": "18e18647-47aa-4e23-a328-96118fae9ddb"
      },
      "outputs": [
        {
          "output_type": "stream",
          "name": "stdout",
          "text": [
            "235/235 [==============================] - 10s 42ms/step - loss: 0.1185 - binary_accuracy: 0.9676\n"
          ]
        },
        {
          "output_type": "execute_result",
          "data": {
            "text/plain": [
              "[0.11849506199359894, 0.9675870537757874]"
            ]
          },
          "metadata": {},
          "execution_count": 85
        }
      ],
      "source": [
        "model.evaluate(X_test, y_test)"
      ]
    },
    {
      "cell_type": "code",
      "execution_count": 86,
      "metadata": {
        "id": "OHpifyqGdKn-",
        "colab": {
          "base_uri": "https://localhost:8080/"
        },
        "outputId": "c15503f9-bbf4-45e4-b4b6-e31bc8320236"
      },
      "outputs": [
        {
          "output_type": "stream",
          "name": "stdout",
          "text": [
            "235/235 [==============================] - 10s 41ms/step\n"
          ]
        }
      ],
      "source": [
        "y_test_prob = model.predict(X_test, verbose=1)"
      ]
    },
    {
      "cell_type": "code",
      "execution_count": 87,
      "metadata": {
        "id": "AfmdrBILdMwj"
      },
      "outputs": [],
      "source": [
        "y_test_pred = np.where(y_test_prob > 0.5, 1, 0)"
      ]
    },
    {
      "cell_type": "code",
      "execution_count": 88,
      "metadata": {
        "id": "8DoJy_p9dPzN"
      },
      "outputs": [],
      "source": [
        "from sklearn.metrics import confusion_matrix"
      ]
    },
    {
      "cell_type": "code",
      "execution_count": 89,
      "metadata": {
        "id": "fTCsPjW8dQaZ",
        "colab": {
          "base_uri": "https://localhost:8080/"
        },
        "outputId": "a6c46dc4-ee88-4b8d-e255-86ef69dcfe14"
      },
      "outputs": [
        {
          "output_type": "execute_result",
          "data": {
            "text/plain": [
              "array([[3731,   55],\n",
              "       [ 188, 3523]])"
            ]
          },
          "metadata": {},
          "execution_count": 89
        }
      ],
      "source": [
        "confusion_matrix(y_test, y_test_pred)"
      ]
    },
    {
      "cell_type": "code",
      "execution_count": 90,
      "metadata": {
        "id": "te3fslrY9Eca",
        "colab": {
          "base_uri": "https://localhost:8080/",
          "height": 685
        },
        "outputId": "a111cb48-e4ce-4f36-e66d-f013e4122ccc"
      },
      "outputs": [
        {
          "output_type": "stream",
          "name": "stdout",
          "text": [
            "Confusion matrix, without normalization\n",
            "[[3731   55]\n",
            " [ 188 3523]]\n",
            "Normalized confusion matrix\n",
            "[[0.99 0.01]\n",
            " [0.05 0.95]]\n"
          ]
        },
        {
          "output_type": "display_data",
          "data": {
            "text/plain": [
              "<Figure size 432x288 with 2 Axes>"
            ],
            "image/png": "[encoded data removed]"
          },
          "metadata": {
            "needs_background": "light"
          }
        },
        {
          "output_type": "display_data",
          "data": {
            "text/plain": [
              "<Figure size 432x288 with 2 Axes>"
            ],
            "image/png": "[encoded data removed]"
          },
          "metadata": {
            "needs_background": "light"
          }
        }
      ],
      "source": [
        "import numpy as np\n",
        "import matplotlib.pyplot as plt\n",
        "\n",
        "from sklearn import svm, datasets\n",
        "from sklearn.model_selection import train_test_split\n",
        "from sklearn.metrics import confusion_matrix\n",
        "from sklearn.utils.multiclass import unique_labels\n",
        "\n",
        "class_names = np.array(['0', '1'])\n",
        "\n",
        "def plot_confusion_matrix(y_true, y_pred, classes,\n",
        "                          normalize=False,\n",
        "                          title=None,\n",
        "                          cmap=plt.cm.Blues):\n",
        "    \"\"\"\n",
        "    This function prints and plots the confusion matrix.\n",
        "    Normalization can be applied by setting `normalize=True`.\n",
        "    \"\"\"\n",
        "    if not title:\n",
        "        if normalize:\n",
        "            title = 'Normalized confusion matrix'\n",
        "        else:\n",
        "            title = 'Confusion matrix, without normalization'\n",
        "\n",
        "    # Compute confusion matrix\n",
        "    cm = confusion_matrix(y_true, y_pred)\n",
        "    # Only use the labels that appear in the data\n",
        "    classes = classes[unique_labels(y_true, y_pred)]\n",
        "    if normalize:\n",
        "        cm = cm.astype('float') / cm.sum(axis=1)[:, np.newaxis]\n",
        "        print(\"Normalized confusion matrix\")\n",
        "    else:\n",
        "        print('Confusion matrix, without normalization')\n",
        "\n",
        "    print(cm)\n",
        "\n",
        "    fig, ax = plt.subplots()\n",
        "    im = ax.imshow(cm, interpolation='nearest', cmap=cmap)\n",
        "    ax.figure.colorbar(im, ax=ax)\n",
        "    # We want to show all ticks...\n",
        "    ax.set(xticks=np.arange(cm.shape[1]),\n",
        "           yticks=np.arange(cm.shape[0]),\n",
        "           # ... and label them with the respective list entries\n",
        "           xticklabels=classes, yticklabels=classes,\n",
        "           title=title,\n",
        "           ylabel='True label',\n",
        "           xlabel='Predicted label')\n",
        "\n",
        "    # Rotate the tick labels and set their alignment.\n",
        "    plt.setp(ax.get_xticklabels(), rotation=45, ha=\"right\",\n",
        "             rotation_mode=\"anchor\")\n",
        "\n",
        "    # Loop over data dimensions and create text annotations.\n",
        "    fmt = '.2f' if normalize else 'd'\n",
        "    thresh = cm.max() / 2.\n",
        "    for i in range(cm.shape[0]):\n",
        "        for j in range(cm.shape[1]):\n",
        "            ax.text(j, i, format(cm[i, j], fmt),\n",
        "                    ha=\"center\", va=\"center\",\n",
        "                    color=\"white\" if cm[i, j] > thresh else \"black\")\n",
        "    fig.tight_layout()\n",
        "\n",
        "    return ax\n",
        "\n",
        "\n",
        "np.set_printoptions(precision=2)\n",
        "\n",
        "# Plot non-normalized confusion matrix\n",
        "plot_confusion_matrix(y_test, y_test_pred, classes=class_names,\n",
        "                      title='Confusion matrix, without normalization')\n",
        "\n",
        "# Plot normalized confusion matrix\n",
        "plot_confusion_matrix(y_test, y_test_pred, classes=class_names, normalize=True,\n",
        "                      title='Normalized confusion matrix')\n",
        "\n",
        "plt.show()"
      ]
    },
    {
      "cell_type": "code",
      "source": [
        "def plot_learningCurve(history, epoch):\n",
        "  # Plot training & validation accuracy values\n",
        "  epoch_range = range(1, epoch+1)\n",
        "  plt.plot(epoch_range, history.history['binary_accuracy'])\n",
        "  plt.plot(epoch_range, history.history['val_binary_accuracy'])\n",
        "  plt.title('Model accuracy')\n",
        "  plt.ylabel('Accuracy')\n",
        "  plt.xlabel('Epoch')\n",
        "  plt.legend(['Train', 'Val'], loc='upper left')\n",
        "  plt.show()\n",
        "\n",
        "  # Plot training & validation loss values\n",
        "  plt.plot(epoch_range, history.history['loss'])\n",
        "  plt.plot(epoch_range, history.history['val_loss'])\n",
        "  plt.title('Model loss')\n",
        "  plt.ylabel('Loss')\n",
        "  plt.xlabel('Epoch')\n",
        "  plt.legend(['Train', 'Val'], loc='upper left')\n",
        "  plt.show()"
      ],
      "metadata": {
        "id": "fhdLAhgPUnH3"
      },
      "execution_count": 91,
      "outputs": []
    },
    {
      "cell_type": "code",
      "source": [
        "plot_learningCurve(history, 50)"
      ],
      "metadata": {
        "id": "WlkQkWHgU5mL",
        "colab": {
          "base_uri": "https://localhost:8080/",
          "height": 573
        },
        "outputId": "240d1180-d4f8-484f-c2f9-ba7603a848a5"
      },
      "execution_count": 92,
      "outputs": [
        {
          "output_type": "display_data",
          "data": {
            "text/plain": [
              "<Figure size 432x288 with 1 Axes>"
            ],
            "image/png": "[encoded data removed]"
          },
          "metadata": {
            "needs_background": "light"
          }
        },
        {
          "output_type": "display_data",
          "data": {
            "text/plain": [
              "<Figure size 432x288 with 1 Axes>"
            ],
            "image/png": "[encoded data removed]"
          },
          "metadata": {
            "needs_background": "light"
          }
        }
      ]
    }
  ],
  "metadata": {
    "colab": {
      "collapsed_sections": [
        "f857kfHqUk0-"
      ],
      "name": "MD LSTM step 10.ipynb",
      "provenance": [],
      "authorship_tag": "ABX9TyO6dMm3Dir0MTTc+KEF9IPb",
      "include_colab_link": true
    },
    "kernelspec": {
      "display_name": "Python 3",
      "name": "python3"
    },
    "language_info": {
      "name": "python"
    }
  },
  "nbformat": 4,
  "nbformat_minor": 0
}