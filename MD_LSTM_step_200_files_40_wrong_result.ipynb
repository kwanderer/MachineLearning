{
  "cells": [
    {
      "cell_type": "markdown",
      "metadata": {
        "id": "view-in-github",
        "colab_type": "text"
      },
      "source": [
        "<a href=\"https://colab.research.google.com/github/kwanderer/MachineLearning/blob/main/MD_LSTM_step_200_files_40_wrong_result.ipynb\" target=\"_parent\"><img src=\"https://colab.research.google.com/assets/colab-badge.svg\" alt=\"Open In Colab\"/></a>"
      ]
    },
    {
      "cell_type": "markdown",
      "metadata": {
        "id": "f857kfHqUk0-"
      },
      "source": [
        "\n",
        "\n",
        "#Datu kopa"
      ]
    },
    {
      "cell_type": "markdown",
      "metadata": {
        "id": "nM9WE3QGUwVi"
      },
      "source": [
        "Datu kopas avots: https://www.kaggle.com/uysalserkan/fault-induction-motor-dataset"
      ]
    },
    {
      "cell_type": "markdown",
      "metadata": {
        "id": "_sN_h3qHHy6r"
      },
      "source": [
        "Darbā tiek izmantota indukcijas motora parametru datu bāze. Izmantotajā datu kopā ir dati, kas tika iegūti SpectraQuest aparatūras kļūdu simulatorā (Machinery Fault Simulator).\n",
        "\n",
        "Katra mērījumu secība tika ģenerēta ar frekvenci 50 kHz 5 sekunžu laikā, kopā 250 000 mērījumi.\n",
        "\n",
        "Dati ir apkopoti vairākos failos, dažādos darbības stāvokļos un to apjoms ir ļoti liels. Šajā darbā tika izmantota daļa(viena mērījumu secība) no motora normālas darbības datiem.\n"
      ]
    },
    {
      "cell_type": "markdown",
      "metadata": {
        "id": "KtFAOaHYHLPo"
      },
      "source": [
        "Dati ir apkopoti tabulā, kura satur 8 parametrus. Dati ir iedalīti sekojošās kolonas:\n",
        "\n",
        "**tachometer** – tahometra signāls, kas ļauj novērtēt rotācijas frekvenci\n",
        "\n",
        "**und-accelerometer-axial** - apakšā esošā gultņa akselerometrs (aksiālais virziens)\n",
        "\n",
        "**und-accelerometer-radial** – apakšā esošā gultņa akselerometrs (radiālais virziens)\n",
        "\n",
        "**und-accelerometer-tangential** - apakšā esošā gultņa akselerometrs (tangenciālais virziens)\n",
        "\n",
        "**over-accelerometer-axial** - pārkares gultņa akselerometrs (aksiālais virziens)\n",
        "\n",
        "**over-accelerometer-radial** – pārkares gultņa akselerometrs (radiālais  virziens)\n",
        "\n",
        "**over-accelerometer-tangential**  - pārkares gultņa akselerometrs (tangenciālais virziens)\n",
        "\n",
        "**microphone** – mikrofona vērtība\n"
      ]
    },
    {
      "cell_type": "markdown",
      "metadata": {
        "id": "XymoNLKMVFUC"
      },
      "source": [
        "#Datu ielasīšana un satura vizualizācija"
      ]
    },
    {
      "cell_type": "code",
      "execution_count": 1,
      "metadata": {
        "id": "_yqYZDeOFq5s"
      },
      "outputs": [],
      "source": [
        "import keras\n",
        "from keras.layers import LSTM, Dropout, Dense\n",
        "import tensorflow as tf\n",
        "import numpy as np\n",
        "import pandas as pd\n",
        "\n",
        "from sklearn import linear_model  #pip install sklearn - loti plasa masinapmacibas biblioteka\n",
        "from sklearn.linear_model import LinearRegression  \n",
        "import csv          #pip install csv - darbam ar CSV datu kopam\n",
        "import requests     #pip install requests  - vienkarsakam darbam ar tiessaistes CSV datu kopam tiessaistes\n",
        "\n",
        "import matplotlib\n",
        "import matplotlib.pyplot as plt\n",
        "\n",
        "import glob\n"
      ]
    },
    {
      "cell_type": "code",
      "execution_count": 2,
      "metadata": {
        "id": "wlRTBbM2eUcV",
        "colab": {
          "base_uri": "https://localhost:8080/"
        },
        "outputId": "487abc65-4f4c-4eb9-e577-29589d76eb07"
      },
      "outputs": [
        {
          "output_type": "stream",
          "name": "stdout",
          "text": [
            "Mounted at /content/gdrive\n"
          ]
        }
      ],
      "source": [
        "from google.colab import drive\n",
        "import os\n",
        "drive.mount('/content/gdrive')\n",
        "os.chdir(\"/content/gdrive/MyDrive/Colab Notebooks/data3/\")"
      ]
    },
    {
      "cell_type": "code",
      "execution_count": 4,
      "metadata": {
        "id": "zzz6fBl_SNom"
      },
      "outputs": [],
      "source": [
        "extension = 'csv'\n",
        "all_filenames = [i for i in glob.glob('*.{}'.format(extension))]"
      ]
    },
    {
      "cell_type": "code",
      "execution_count": 5,
      "metadata": {
        "id": "vagKFCkToBi0"
      },
      "outputs": [],
      "source": [
        "#combine all files in the list\n",
        "combined_csv = pd.concat([pd.read_csv(f) for f in all_filenames ])\n",
        "#export to csv\n",
        "combined_csv.to_csv( \"combined_csv.csv\", index=False, encoding='utf-8-sig')"
      ]
    },
    {
      "cell_type": "code",
      "execution_count": 6,
      "metadata": {
        "id": "encEkbDhSfGI"
      },
      "outputs": [],
      "source": [
        "data = pd.read_csv(\"combined_csv.csv\")"
      ]
    },
    {
      "cell_type": "code",
      "execution_count": 7,
      "metadata": {
        "id": "yz5Qe8ZWk1Zq",
        "colab": {
          "base_uri": "https://localhost:8080/"
        },
        "outputId": "4f815182-caf0-4d74-9beb-c4129385d932"
      },
      "outputs": [
        {
          "output_type": "stream",
          "name": "stdout",
          "text": [
            "<class 'pandas.core.frame.DataFrame'>\n",
            "RangeIndex: 10000000 entries, 0 to 9999999\n",
            "Data columns (total 9 columns):\n",
            " #   Column                         Dtype  \n",
            "---  ------                         -----  \n",
            " 0   tachometer                     float64\n",
            " 1   und-accelerometer-axial        float64\n",
            " 2   und-accelerometer-radial       float64\n",
            " 3   und-accelerometer-tangential   float64\n",
            " 4   over-accelerometer-axial       float64\n",
            " 5   over-accelerometer-radial      float64\n",
            " 6   over-accelerometer-tangential  float64\n",
            " 7   microphone                     float64\n",
            " 8   Class                          int64  \n",
            "dtypes: float64(8), int64(1)\n",
            "memory usage: 686.6 MB\n"
          ]
        }
      ],
      "source": [
        "data.info()"
      ]
    },
    {
      "cell_type": "code",
      "execution_count": 8,
      "metadata": {
        "id": "WUW9ezX6a_st",
        "colab": {
          "base_uri": "https://localhost:8080/"
        },
        "outputId": "f9bfb0f8-e0cc-4ee4-ddc7-162c92b7057b"
      },
      "outputs": [
        {
          "output_type": "execute_result",
          "data": {
            "text/plain": [
              "10000000"
            ]
          },
          "metadata": {},
          "execution_count": 8
        }
      ],
      "source": [
        "rec_count = len(data)\n",
        "rec_count"
      ]
    },
    {
      "cell_type": "markdown",
      "source": [
        "# Datu dalīšana mazākos gabalos"
      ],
      "metadata": {
        "id": "6RVC1PZy88fC"
      }
    },
    {
      "cell_type": "code",
      "execution_count": 9,
      "metadata": {
        "id": "DOvnCYkcbGaE"
      },
      "outputs": [],
      "source": [
        "sequence_length = 200"
      ]
    },
    {
      "cell_type": "code",
      "execution_count": 10,
      "metadata": {
        "id": "RG0o2L3zbTEx"
      },
      "outputs": [],
      "source": [
        "def generate_data(X, y, sequence_length = 200, step = 200):\n",
        "    X_local = []\n",
        "    y_local = []\n",
        "    for start in range(0, len(data) - sequence_length, step):\n",
        "        end = start + sequence_length\n",
        "        X_local.append(X[start:end])\n",
        "        y_local.append(y[end-1])\n",
        "    return np.array(X_local), np.array(y_local)\n",
        "\n",
        "X_sequence, y = generate_data(data.loc[:, \"tachometer\":\"microphone\"].values, data.Class)"
      ]
    },
    {
      "cell_type": "code",
      "execution_count": 11,
      "metadata": {
        "id": "s0QxwK66cLVF",
        "colab": {
          "base_uri": "https://localhost:8080/"
        },
        "outputId": "da1bd05a-ea72-4349-8225-25d91520f8cf"
      },
      "outputs": [
        {
          "output_type": "execute_result",
          "data": {
            "text/plain": [
              "((49999, 200, 8), (49999,))"
            ]
          },
          "metadata": {},
          "execution_count": 11
        }
      ],
      "source": [
        "X_sequence.shape, y.shape"
      ]
    },
    {
      "cell_type": "code",
      "source": [
        "data = 0"
      ],
      "metadata": {
        "id": "i7R1oo6Mj8wx"
      },
      "execution_count": 12,
      "outputs": []
    },
    {
      "cell_type": "markdown",
      "source": [
        "# Random/Shuffle"
      ],
      "metadata": {
        "id": "5BXSDoHa9UX_"
      }
    },
    {
      "cell_type": "code",
      "source": [
        "shuffler = np.random.permutation(len(X_sequence))\n",
        "X_sequence_shuffled = X_sequence[shuffler]\n",
        "y_shuffled = y[shuffler]"
      ],
      "metadata": {
        "id": "ZcfE9idy-ckb"
      },
      "execution_count": 13,
      "outputs": []
    },
    {
      "cell_type": "markdown",
      "source": [
        "# LSTM"
      ],
      "metadata": {
        "id": "TfhRTTNcE2s8"
      }
    },
    {
      "cell_type": "code",
      "execution_count": 14,
      "metadata": {
        "id": "ihrXMuVAEwlY"
      },
      "outputs": [],
      "source": [
        "import pandas as pd\n",
        "import sklearn.metrics as metrique\n",
        "from pandas import Series\n",
        "from sklearn.preprocessing import StandardScaler, MinMaxScaler\n",
        "from matplotlib import pyplot\n",
        "from sklearn.model_selection import train_test_split\n",
        "import numpy as np\n",
        "import tensorflow as tf\n",
        "import sys\n",
        "import numpy as np\n",
        "import pandas as pd\n",
        "import tensorflow as tf\n",
        "import matplotlib.pyplot as plt\n",
        "from sklearn.model_selection import train_test_split\n",
        "from sklearn import preprocessing\n",
        "from sklearn.preprocessing import StandardScaler\n",
        "from sklearn.metrics import classification_report\n",
        "import warnings\n",
        "warnings.filterwarnings('ignore')\n",
        "plt.style.use('ggplot')\n",
        "import seaborn as sns \n",
        "%matplotlib inline\n",
        "from keras.callbacks import EarlyStopping\n",
        "from keras.callbacks import ModelCheckpoint\n",
        "from sklearn.metrics import accuracy_score\n",
        "from sklearn.metrics import classification_report, confusion_matrix\n",
        "from keras.models import Sequential\n",
        "from keras.utils import np_utils\n",
        "from keras.layers import LSTM, Dense, Embedding, Dropout,Input, Layer, Concatenate, Permute, Dot, Multiply, Flatten\n",
        "from keras.layers import RepeatVector, Dense, Activation, Lambda\n",
        "from keras.models import Sequential\n",
        "from keras import backend as K, regularizers, Model, metrics\n",
        "from keras.backend import cast"
      ]
    },
    {
      "cell_type": "code",
      "execution_count": 15,
      "metadata": {
        "id": "PjKWKiA6aH3z",
        "colab": {
          "base_uri": "https://localhost:8080/"
        },
        "outputId": "2e83d8ba-4ace-47a7-ce2e-a26e4d7e4645"
      },
      "outputs": [
        {
          "output_type": "stream",
          "name": "stdout",
          "text": [
            "Model: \"sequential\"\n",
            "_________________________________________________________________\n",
            " Layer (type)                Output Shape              Param #   \n",
            "=================================================================\n",
            " lstm (LSTM)                 (None, 100)               43600     \n",
            "                                                                 \n",
            " dropout (Dropout)           (None, 100)               0         \n",
            "                                                                 \n",
            " dense (Dense)               (None, 1)                 101       \n",
            "                                                                 \n",
            "=================================================================\n",
            "Total params: 43,701\n",
            "Trainable params: 43,701\n",
            "Non-trainable params: 0\n",
            "_________________________________________________________________\n"
          ]
        }
      ],
      "source": [
        "from tensorflow.keras import optimizers\n",
        "sgd = optimizers.SGD(lr=0.0001, decay=1e-6, momentum=0.9, nesterov=True)\n",
        "model = keras.Sequential()\n",
        "model.add(LSTM(100, input_shape = (200, 8)))\n",
        "model.add(Dropout(0.5))\n",
        "model.add(Dense(1, activation=\"sigmoid\"))\n",
        "\n",
        "#model.compile(loss='mean_squared_error', optimizer=sgd)\n",
        "model.compile(loss=\"binary_crossentropy\"\n",
        "              , metrics=[keras.metrics.binary_accuracy]\n",
        "              , optimizer=sgd)\n",
        "\n",
        "model.summary()"
      ]
    },
    {
      "cell_type": "code",
      "execution_count": 16,
      "metadata": {
        "id": "tg8wrqsqc8UX"
      },
      "outputs": [],
      "source": [
        "training_size = int(len(X_sequence) * 0.8)\n",
        "val_size = int(len(X_sequence) * 0.9)"
      ]
    },
    {
      "cell_type": "code",
      "execution_count": 17,
      "metadata": {
        "id": "avIp3TEKc-qF"
      },
      "outputs": [],
      "source": [
        "X_train, y_train = X_sequence_shuffled[:training_size], y_shuffled[:training_size]\n",
        "X_val, y_val = X_sequence_shuffled[training_size:val_size], y_shuffled[training_size:val_size]\n",
        "X_test, y_test = X_sequence_shuffled[val_size:], y_shuffled[val_size:]"
      ]
    },
    {
      "cell_type": "code",
      "source": [
        "X_sequence = 0\n",
        "y = 0"
      ],
      "metadata": {
        "id": "RABc_uKzkBUT"
      },
      "execution_count": 18,
      "outputs": []
    },
    {
      "cell_type": "code",
      "execution_count": 19,
      "metadata": {
        "id": "cen4faX0dFJP",
        "colab": {
          "base_uri": "https://localhost:8080/"
        },
        "outputId": "d83c761a-1f6b-4004-bd07-74d0b6875631"
      },
      "outputs": [
        {
          "output_type": "stream",
          "name": "stdout",
          "text": [
            "Epoch 1/50\n",
            "625/625 [==============================] - 130s 204ms/step - loss: -0.1451 - binary_accuracy: 0.2468 - val_loss: -1.2662 - val_binary_accuracy: 0.2528\n",
            "Epoch 2/50\n",
            "625/625 [==============================] - 124s 199ms/step - loss: -3.2677 - binary_accuracy: 0.2506 - val_loss: -6.2182 - val_binary_accuracy: 0.2528\n",
            "Epoch 3/50\n",
            "625/625 [==============================] - 118s 189ms/step - loss: -11.3930 - binary_accuracy: 0.2508 - val_loss: -18.5735 - val_binary_accuracy: 0.2528\n",
            "Epoch 4/50\n",
            "625/625 [==============================] - 118s 188ms/step - loss: -25.6238 - binary_accuracy: 0.2508 - val_loss: -34.2449 - val_binary_accuracy: 0.2528\n",
            "Epoch 5/50\n",
            "625/625 [==============================] - 118s 189ms/step - loss: -41.0099 - binary_accuracy: 0.2508 - val_loss: -50.1533 - val_binary_accuracy: 0.2528\n",
            "Epoch 6/50\n",
            "625/625 [==============================] - 118s 189ms/step - loss: -56.5525 - binary_accuracy: 0.2508 - val_loss: -66.1663 - val_binary_accuracy: 0.2528\n",
            "Epoch 7/50\n",
            "625/625 [==============================] - 121s 194ms/step - loss: -72.0144 - binary_accuracy: 0.2508 - val_loss: -82.1837 - val_binary_accuracy: 0.2528\n",
            "Epoch 8/50\n",
            "625/625 [==============================] - 121s 193ms/step - loss: -87.5452 - binary_accuracy: 0.2508 - val_loss: -98.1969 - val_binary_accuracy: 0.2528\n",
            "Epoch 9/50\n",
            "625/625 [==============================] - 121s 193ms/step - loss: -102.9955 - binary_accuracy: 0.2508 - val_loss: -114.1850 - val_binary_accuracy: 0.2528\n",
            "Epoch 10/50\n",
            "625/625 [==============================] - 123s 196ms/step - loss: -118.7440 - binary_accuracy: 0.2508 - val_loss: -130.2108 - val_binary_accuracy: 0.2528\n",
            "Epoch 11/50\n",
            "625/625 [==============================] - 121s 194ms/step - loss: -134.5442 - binary_accuracy: 0.2508 - val_loss: -146.2397 - val_binary_accuracy: 0.2528\n",
            "Epoch 12/50\n",
            "625/625 [==============================] - 122s 196ms/step - loss: -149.6731 - binary_accuracy: 0.2508 - val_loss: -162.1800 - val_binary_accuracy: 0.2528\n",
            "Epoch 13/50\n",
            "625/625 [==============================] - 121s 193ms/step - loss: -165.5207 - binary_accuracy: 0.2508 - val_loss: -178.1903 - val_binary_accuracy: 0.2528\n",
            "Epoch 14/50\n",
            "625/625 [==============================] - 121s 193ms/step - loss: -181.2148 - binary_accuracy: 0.2508 - val_loss: -194.1926 - val_binary_accuracy: 0.2528\n",
            "Epoch 15/50\n",
            "625/625 [==============================] - 121s 194ms/step - loss: -196.2625 - binary_accuracy: 0.2508 - val_loss: -210.1196 - val_binary_accuracy: 0.2528\n",
            "Epoch 16/50\n",
            "625/625 [==============================] - 121s 193ms/step - loss: -211.9897 - binary_accuracy: 0.2508 - val_loss: -226.0969 - val_binary_accuracy: 0.2528\n",
            "Epoch 17/50\n",
            "625/625 [==============================] - 120s 192ms/step - loss: -227.6187 - binary_accuracy: 0.2508 - val_loss: -242.0440 - val_binary_accuracy: 0.2528\n",
            "Epoch 18/50\n",
            "625/625 [==============================] - 122s 195ms/step - loss: -242.9495 - binary_accuracy: 0.2508 - val_loss: -257.9670 - val_binary_accuracy: 0.2528\n",
            "Epoch 19/50\n",
            "625/625 [==============================] - 123s 197ms/step - loss: -257.9072 - binary_accuracy: 0.2508 - val_loss: -273.8793 - val_binary_accuracy: 0.2528\n",
            "Epoch 20/50\n",
            "625/625 [==============================] - 123s 197ms/step - loss: -273.7863 - binary_accuracy: 0.2508 - val_loss: -289.8005 - val_binary_accuracy: 0.2528\n",
            "Epoch 21/50\n",
            "625/625 [==============================] - 122s 195ms/step - loss: -289.2155 - binary_accuracy: 0.2508 - val_loss: -305.6652 - val_binary_accuracy: 0.2528\n",
            "Epoch 22/50\n",
            "625/625 [==============================] - 122s 196ms/step - loss: -304.5544 - binary_accuracy: 0.2508 - val_loss: -321.5836 - val_binary_accuracy: 0.2528\n",
            "Epoch 23/50\n",
            "625/625 [==============================] - 123s 197ms/step - loss: -320.1094 - binary_accuracy: 0.2508 - val_loss: -337.4123 - val_binary_accuracy: 0.2528\n",
            "Epoch 24/50\n",
            "625/625 [==============================] - 123s 197ms/step - loss: -336.4064 - binary_accuracy: 0.2508 - val_loss: -353.3715 - val_binary_accuracy: 0.2528\n",
            "Epoch 25/50\n",
            "625/625 [==============================] - 123s 197ms/step - loss: -351.5915 - binary_accuracy: 0.2508 - val_loss: -369.2222 - val_binary_accuracy: 0.2528\n",
            "Epoch 26/50\n",
            "625/625 [==============================] - 123s 196ms/step - loss: -366.3610 - binary_accuracy: 0.2508 - val_loss: -385.0999 - val_binary_accuracy: 0.2528\n",
            "Epoch 27/50\n",
            "625/625 [==============================] - 123s 197ms/step - loss: -381.9954 - binary_accuracy: 0.2508 - val_loss: -400.9279 - val_binary_accuracy: 0.2528\n",
            "Epoch 28/50\n",
            "625/625 [==============================] - 123s 197ms/step - loss: -397.3022 - binary_accuracy: 0.2508 - val_loss: -416.7481 - val_binary_accuracy: 0.2528\n",
            "Epoch 29/50\n",
            "625/625 [==============================] - 125s 200ms/step - loss: -413.2241 - binary_accuracy: 0.2508 - val_loss: -432.5894 - val_binary_accuracy: 0.2528\n",
            "Epoch 30/50\n",
            "625/625 [==============================] - 123s 197ms/step - loss: -428.1309 - binary_accuracy: 0.2508 - val_loss: -448.4214 - val_binary_accuracy: 0.2528\n",
            "Epoch 31/50\n",
            "625/625 [==============================] - 123s 197ms/step - loss: -443.5320 - binary_accuracy: 0.2508 - val_loss: -464.2235 - val_binary_accuracy: 0.2528\n",
            "Epoch 32/50\n",
            "625/625 [==============================] - 123s 197ms/step - loss: -459.4089 - binary_accuracy: 0.2508 - val_loss: -480.0318 - val_binary_accuracy: 0.2528\n",
            "Epoch 33/50\n",
            "625/625 [==============================] - 124s 198ms/step - loss: -473.5417 - binary_accuracy: 0.2508 - val_loss: -495.7984 - val_binary_accuracy: 0.2528\n",
            "Epoch 34/50\n",
            "625/625 [==============================] - 125s 200ms/step - loss: -489.1140 - binary_accuracy: 0.2508 - val_loss: -511.5916 - val_binary_accuracy: 0.2528\n",
            "Epoch 35/50\n",
            "625/625 [==============================] - 123s 197ms/step - loss: -505.4867 - binary_accuracy: 0.2508 - val_loss: -527.3559 - val_binary_accuracy: 0.2528\n",
            "Epoch 36/50\n",
            "625/625 [==============================] - 122s 195ms/step - loss: -519.6729 - binary_accuracy: 0.2508 - val_loss: -543.1268 - val_binary_accuracy: 0.2528\n",
            "Epoch 37/50\n",
            "625/625 [==============================] - 121s 194ms/step - loss: -534.8894 - binary_accuracy: 0.2508 - val_loss: -558.8204 - val_binary_accuracy: 0.2528\n",
            "Epoch 38/50\n",
            "625/625 [==============================] - 121s 194ms/step - loss: -551.0983 - binary_accuracy: 0.2508 - val_loss: -574.5892 - val_binary_accuracy: 0.2528\n",
            "Epoch 39/50\n",
            "625/625 [==============================] - 122s 195ms/step - loss: -566.7675 - binary_accuracy: 0.2508 - val_loss: -590.3141 - val_binary_accuracy: 0.2528\n",
            "Epoch 40/50\n",
            "625/625 [==============================] - 122s 196ms/step - loss: -580.8951 - binary_accuracy: 0.2508 - val_loss: -606.0378 - val_binary_accuracy: 0.2528\n",
            "Epoch 41/50\n",
            "625/625 [==============================] - 122s 195ms/step - loss: -596.5369 - binary_accuracy: 0.2508 - val_loss: -621.7682 - val_binary_accuracy: 0.2528\n",
            "Epoch 42/50\n",
            "625/625 [==============================] - 123s 197ms/step - loss: -612.4333 - binary_accuracy: 0.2508 - val_loss: -637.4880 - val_binary_accuracy: 0.2528\n",
            "Epoch 43/50\n",
            "625/625 [==============================] - 122s 196ms/step - loss: -627.5536 - binary_accuracy: 0.2508 - val_loss: -653.1349 - val_binary_accuracy: 0.2528\n",
            "Epoch 44/50\n",
            "625/625 [==============================] - 122s 196ms/step - loss: -640.8594 - binary_accuracy: 0.2508 - val_loss: -668.8433 - val_binary_accuracy: 0.2528\n",
            "Epoch 45/50\n",
            "625/625 [==============================] - 122s 195ms/step - loss: -658.1270 - binary_accuracy: 0.2508 - val_loss: -684.5010 - val_binary_accuracy: 0.2528\n",
            "Epoch 46/50\n",
            "625/625 [==============================] - 122s 195ms/step - loss: -673.4722 - binary_accuracy: 0.2508 - val_loss: -700.1986 - val_binary_accuracy: 0.2528\n",
            "Epoch 47/50\n",
            "625/625 [==============================] - 122s 196ms/step - loss: -688.1672 - binary_accuracy: 0.2508 - val_loss: -715.8345 - val_binary_accuracy: 0.2528\n",
            "Epoch 48/50\n",
            "625/625 [==============================] - 123s 196ms/step - loss: -702.6462 - binary_accuracy: 0.2508 - val_loss: -731.4601 - val_binary_accuracy: 0.2528\n",
            "Epoch 49/50\n",
            "625/625 [==============================] - 123s 196ms/step - loss: -719.1233 - binary_accuracy: 0.2508 - val_loss: -747.1042 - val_binary_accuracy: 0.2528\n",
            "Epoch 50/50\n",
            "625/625 [==============================] - 123s 196ms/step - loss: -733.6481 - binary_accuracy: 0.2508 - val_loss: -762.7327 - val_binary_accuracy: 0.2528\n"
          ]
        }
      ],
      "source": [
        "history = model.fit(X_train, y_train, batch_size=64, epochs=50, validation_data=(X_val, y_val))\n",
        "model.save('NewAllDataModel_E50_B64.h5')"
      ]
    },
    {
      "cell_type": "code",
      "execution_count": 20,
      "metadata": {
        "id": "R7QQeqVidKBR",
        "colab": {
          "base_uri": "https://localhost:8080/"
        },
        "outputId": "d9e8b47b-ab79-4f6d-df4c-e69bdf97dedb"
      },
      "outputs": [
        {
          "output_type": "stream",
          "name": "stdout",
          "text": [
            "157/157 [==============================] - 7s 42ms/step - loss: -751.1219 - binary_accuracy: 0.2410\n"
          ]
        },
        {
          "output_type": "execute_result",
          "data": {
            "text/plain": [
              "[-751.1219482421875, 0.2409999966621399]"
            ]
          },
          "metadata": {},
          "execution_count": 20
        }
      ],
      "source": [
        "model.evaluate(X_test, y_test)"
      ]
    },
    {
      "cell_type": "code",
      "execution_count": 21,
      "metadata": {
        "id": "OHpifyqGdKn-",
        "colab": {
          "base_uri": "https://localhost:8080/"
        },
        "outputId": "afa53559-a538-4e81-c1c1-14a8ea030cad"
      },
      "outputs": [
        {
          "output_type": "stream",
          "name": "stdout",
          "text": [
            "157/157 [==============================] - 7s 41ms/step\n"
          ]
        }
      ],
      "source": [
        "y_test_prob = model.predict(X_test, verbose=1)"
      ]
    },
    {
      "cell_type": "code",
      "execution_count": 22,
      "metadata": {
        "id": "AfmdrBILdMwj"
      },
      "outputs": [],
      "source": [
        "y_test_pred = np.where(y_test_prob > 0.5, 1, 0)"
      ]
    },
    {
      "cell_type": "code",
      "execution_count": 23,
      "metadata": {
        "id": "8DoJy_p9dPzN"
      },
      "outputs": [],
      "source": [
        "from sklearn.metrics import confusion_matrix"
      ]
    },
    {
      "cell_type": "code",
      "execution_count": 24,
      "metadata": {
        "id": "fTCsPjW8dQaZ",
        "colab": {
          "base_uri": "https://localhost:8080/"
        },
        "outputId": "42fb0a0c-527d-4b57-ba67-36a44f2439c5"
      },
      "outputs": [
        {
          "output_type": "execute_result",
          "data": {
            "text/plain": [
              "array([[   0, 1277,    0,    0],\n",
              "       [   0, 1205,    0,    0],\n",
              "       [   0, 1236,    0,    0],\n",
              "       [   0, 1282,    0,    0]])"
            ]
          },
          "metadata": {},
          "execution_count": 24
        }
      ],
      "source": [
        "confusion_matrix(y_test, y_test_pred)"
      ]
    },
    {
      "cell_type": "code",
      "execution_count": 25,
      "metadata": {
        "id": "te3fslrY9Eca",
        "colab": {
          "base_uri": "https://localhost:8080/",
          "height": 756
        },
        "outputId": "69cd0ea4-d690-4fa6-bd6f-aa1e6537d7a0"
      },
      "outputs": [
        {
          "output_type": "stream",
          "name": "stdout",
          "text": [
            "Confusion matrix, without normalization\n",
            "[[   0 1277    0    0]\n",
            " [   0 1205    0    0]\n",
            " [   0 1236    0    0]\n",
            " [   0 1282    0    0]]\n",
            "Normalized confusion matrix\n",
            "[[0. 1. 0. 0.]\n",
            " [0. 1. 0. 0.]\n",
            " [0. 1. 0. 0.]\n",
            " [0. 1. 0. 0.]]\n"
          ]
        },
        {
          "output_type": "display_data",
          "data": {
            "text/plain": [
              "<Figure size 432x288 with 2 Axes>"
            ],
            "image/png": "[encoded data removed]"
          },
          "metadata": {
            "needs_background": "light"
          }
        },
        {
          "output_type": "display_data",
          "data": {
            "text/plain": [
              "<Figure size 432x288 with 2 Axes>"
            ],
            "image/png": "[encoded data removed]"
          },
          "metadata": {
            "needs_background": "light"
          }
        }
      ],
      "source": [
        "import numpy as np\n",
        "import matplotlib.pyplot as plt\n",
        "\n",
        "from sklearn import svm, datasets\n",
        "from sklearn.model_selection import train_test_split\n",
        "from sklearn.metrics import confusion_matrix\n",
        "from sklearn.utils.multiclass import unique_labels\n",
        "\n",
        "class_names = np.array(['0', '1', '2', '3'])\n",
        "\n",
        "def plot_confusion_matrix(y_true, y_pred, classes,\n",
        "                          normalize=False,\n",
        "                          title=None,\n",
        "                          cmap=plt.cm.Blues):\n",
        "    \"\"\"\n",
        "    This function prints and plots the confusion matrix.\n",
        "    Normalization can be applied by setting `normalize=True`.\n",
        "    \"\"\"\n",
        "    if not title:\n",
        "        if normalize:\n",
        "            title = 'Normalized confusion matrix'\n",
        "        else:\n",
        "            title = 'Confusion matrix, without normalization'\n",
        "\n",
        "    # Compute confusion matrix\n",
        "    cm = confusion_matrix(y_true, y_pred)\n",
        "    # Only use the labels that appear in the data\n",
        "    classes = classes[unique_labels(y_true, y_pred)]\n",
        "    if normalize:\n",
        "        cm = cm.astype('float') / cm.sum(axis=1)[:, np.newaxis]\n",
        "        print(\"Normalized confusion matrix\")\n",
        "    else:\n",
        "        print('Confusion matrix, without normalization')\n",
        "\n",
        "    print(cm)\n",
        "\n",
        "    fig, ax = plt.subplots()\n",
        "    im = ax.imshow(cm, interpolation='nearest', cmap=cmap)\n",
        "    ax.figure.colorbar(im, ax=ax)\n",
        "    # We want to show all ticks...\n",
        "    ax.set(xticks=np.arange(cm.shape[1]),\n",
        "           yticks=np.arange(cm.shape[0]),\n",
        "           # ... and label them with the respective list entries\n",
        "           xticklabels=classes, yticklabels=classes,\n",
        "           title=title,\n",
        "           ylabel='True label',\n",
        "           xlabel='Predicted label')\n",
        "\n",
        "    # Rotate the tick labels and set their alignment.\n",
        "    plt.setp(ax.get_xticklabels(), rotation=45, ha=\"right\",\n",
        "             rotation_mode=\"anchor\")\n",
        "\n",
        "    # Loop over data dimensions and create text annotations.\n",
        "    fmt = '.2f' if normalize else 'd'\n",
        "    thresh = cm.max() / 2.\n",
        "    for i in range(cm.shape[0]):\n",
        "        for j in range(cm.shape[1]):\n",
        "            ax.text(j, i, format(cm[i, j], fmt),\n",
        "                    ha=\"center\", va=\"center\",\n",
        "                    color=\"white\" if cm[i, j] > thresh else \"black\")\n",
        "    fig.tight_layout()\n",
        "\n",
        "    return ax\n",
        "\n",
        "\n",
        "np.set_printoptions(precision=2)\n",
        "\n",
        "# Plot non-normalized confusion matrix\n",
        "plot_confusion_matrix(y_test, y_test_pred, classes=class_names,\n",
        "                      title='Confusion matrix, without normalization')\n",
        "\n",
        "# Plot normalized confusion matrix\n",
        "plot_confusion_matrix(y_test, y_test_pred, classes=class_names, normalize=True,\n",
        "                      title='Normalized confusion matrix')\n",
        "\n",
        "plt.show()"
      ]
    },
    {
      "cell_type": "code",
      "source": [
        "def plot_learningCurve(history, epoch):\n",
        "  # Plot training & validation accuracy values\n",
        "  epoch_range = range(1, epoch+1)\n",
        "  plt.plot(epoch_range, history.history['binary_accuracy'])\n",
        "  plt.plot(epoch_range, history.history['val_binary_accuracy'])\n",
        "  plt.title('Model accuracy')\n",
        "  plt.ylabel('Accuracy')\n",
        "  plt.xlabel('Epoch')\n",
        "  plt.legend(['Train', 'Val'], loc='upper left')\n",
        "  plt.show()\n",
        "\n",
        "  # Plot training & validation loss values\n",
        "  plt.plot(epoch_range, history.history['loss'])\n",
        "  plt.plot(epoch_range, history.history['val_loss'])\n",
        "  plt.title('Model loss')\n",
        "  plt.ylabel('Loss')\n",
        "  plt.xlabel('Epoch')\n",
        "  plt.legend(['Train', 'Val'], loc='upper left')\n",
        "  plt.show()"
      ],
      "metadata": {
        "id": "fhdLAhgPUnH3"
      },
      "execution_count": 26,
      "outputs": []
    },
    {
      "cell_type": "code",
      "source": [
        "plot_learningCurve(history, 50)"
      ],
      "metadata": {
        "id": "WlkQkWHgU5mL",
        "colab": {
          "base_uri": "https://localhost:8080/",
          "height": 581
        },
        "outputId": "c22406c5-d068-4d17-eb53-19aabc775f45"
      },
      "execution_count": 27,
      "outputs": [
        {
          "output_type": "display_data",
          "data": {
            "text/plain": [
              "<Figure size 432x288 with 1 Axes>"
            ],
            "image/png": "[encoded data removed]"
          },
          "metadata": {
            "needs_background": "light"
          }
        },
        {
          "output_type": "display_data",
          "data": {
            "text/plain": [
              "<Figure size 432x288 with 1 Axes>"
            ],
            "image/png": "[encoded data removed]"
          },
          "metadata": {
            "needs_background": "light"
          }
        }
      ]
    }
  ],
  "metadata": {
    "colab": {
      "collapsed_sections": [
        "f857kfHqUk0-"
      ],
      "name": "MD LSTM step 200 files 40.ipynb",
      "provenance": [],
      "authorship_tag": "ABX9TyM9/XqD6HzjiietcodPIZuU",
      "include_colab_link": true
    },
    "kernelspec": {
      "display_name": "Python 3",
      "name": "python3"
    },
    "language_info": {
      "name": "python"
    }
  },
  "nbformat": 4,
  "nbformat_minor": 0
}