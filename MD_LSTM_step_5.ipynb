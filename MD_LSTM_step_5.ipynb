{
  "cells": [
    {
      "cell_type": "markdown",
      "metadata": {
        "id": "view-in-github",
        "colab_type": "text"
      },
      "source": [
        "<a href=\"https://colab.research.google.com/github/kwanderer/MachineLearning/blob/main/MD_LSTM_step_5.ipynb\" target=\"_parent\"><img src=\"https://colab.research.google.com/assets/colab-badge.svg\" alt=\"Open In Colab\"/></a>"
      ]
    },
    {
      "cell_type": "markdown",
      "metadata": {
        "id": "f857kfHqUk0-"
      },
      "source": [
        "\n",
        "\n",
        "#Datu kopa"
      ]
    },
    {
      "cell_type": "markdown",
      "metadata": {
        "id": "nM9WE3QGUwVi"
      },
      "source": [
        "Datu kopas avots: https://www.kaggle.com/uysalserkan/fault-induction-motor-dataset"
      ]
    },
    {
      "cell_type": "markdown",
      "metadata": {
        "id": "_sN_h3qHHy6r"
      },
      "source": [
        "Darbā tiek izmantota indukcijas motora parametru datu bāze. Izmantotajā datu kopā ir dati, kas tika iegūti SpectraQuest aparatūras kļūdu simulatorā (Machinery Fault Simulator).\n",
        "\n",
        "Katra mērījumu secība tika ģenerēta ar frekvenci 50 kHz 5 sekunžu laikā, kopā 250 000 mērījumi.\n",
        "\n",
        "Dati ir apkopoti vairākos failos, dažādos darbības stāvokļos un to apjoms ir ļoti liels. Šajā darbā tika izmantota daļa(viena mērījumu secība) no motora normālas darbības datiem.\n"
      ]
    },
    {
      "cell_type": "markdown",
      "metadata": {
        "id": "KtFAOaHYHLPo"
      },
      "source": [
        "Dati ir apkopoti tabulā, kura satur 8 parametrus. Dati ir iedalīti sekojošās kolonas:\n",
        "\n",
        "**tachometer** – tahometra signāls, kas ļauj novērtēt rotācijas frekvenci\n",
        "\n",
        "**und-accelerometer-axial** - apakšā esošā gultņa akselerometrs (aksiālais virziens)\n",
        "\n",
        "**und-accelerometer-radial** – apakšā esošā gultņa akselerometrs (radiālais virziens)\n",
        "\n",
        "**und-accelerometer-tangential** - apakšā esošā gultņa akselerometrs (tangenciālais virziens)\n",
        "\n",
        "**over-accelerometer-axial** - pārkares gultņa akselerometrs (aksiālais virziens)\n",
        "\n",
        "**over-accelerometer-radial** – pārkares gultņa akselerometrs (radiālais  virziens)\n",
        "\n",
        "**over-accelerometer-tangential**  - pārkares gultņa akselerometrs (tangenciālais virziens)\n",
        "\n",
        "**microphone** – mikrofona vērtība\n"
      ]
    },
    {
      "cell_type": "markdown",
      "metadata": {
        "id": "XymoNLKMVFUC"
      },
      "source": [
        "#Datu ielasīšana un satura vizualizācija"
      ]
    },
    {
      "cell_type": "code",
      "execution_count": 1,
      "metadata": {
        "id": "_yqYZDeOFq5s"
      },
      "outputs": [],
      "source": [
        "import keras\n",
        "from keras.layers import LSTM, Dropout, Dense\n",
        "import tensorflow as tf\n",
        "import numpy as np\n",
        "import pandas as pd\n",
        "\n",
        "from sklearn import linear_model  #pip install sklearn - loti plasa masinapmacibas biblioteka\n",
        "from sklearn.linear_model import LinearRegression  \n",
        "import csv          #pip install csv - darbam ar CSV datu kopam\n",
        "import requests     #pip install requests  - vienkarsakam darbam ar tiessaistes CSV datu kopam tiessaistes\n",
        "\n",
        "import matplotlib\n",
        "import matplotlib.pyplot as plt\n",
        "\n",
        "import glob\n"
      ]
    },
    {
      "cell_type": "code",
      "execution_count": 2,
      "metadata": {
        "id": "wlRTBbM2eUcV",
        "colab": {
          "base_uri": "https://localhost:8080/"
        },
        "outputId": "2cc4342f-5366-4de6-d398-1bdacbc57e55"
      },
      "outputs": [
        {
          "output_type": "stream",
          "name": "stdout",
          "text": [
            "Drive already mounted at /content/gdrive; to attempt to forcibly remount, call drive.mount(\"/content/gdrive\", force_remount=True).\n"
          ]
        }
      ],
      "source": [
        "from google.colab import drive\n",
        "import os\n",
        "drive.mount('/content/gdrive')\n",
        "os.chdir(\"/content/gdrive/MyDrive/Colab Notebooks/data/motor/\")"
      ]
    },
    {
      "cell_type": "code",
      "execution_count": 3,
      "metadata": {
        "id": "zzz6fBl_SNom"
      },
      "outputs": [],
      "source": [
        "#extension = 'csv'\n",
        "#all_filenames = [i for i in glob.glob('*.{}'.format(extension))]"
      ]
    },
    {
      "cell_type": "code",
      "execution_count": 4,
      "metadata": {
        "id": "vagKFCkToBi0"
      },
      "outputs": [],
      "source": [
        "#combine all files in the list\n",
        "#combined_csv = pd.concat([pd.read_csv(f) for f in all_filenames ])\n",
        "#export to csv\n",
        "#combined_csv.to_csv( \"combined_csv.csv\", index=False, encoding='utf-8-sig')"
      ]
    },
    {
      "cell_type": "code",
      "execution_count": 5,
      "metadata": {
        "id": "encEkbDhSfGI"
      },
      "outputs": [],
      "source": [
        "data = pd.read_csv(\"combined_csv.csv\")"
      ]
    },
    {
      "cell_type": "code",
      "execution_count": 6,
      "metadata": {
        "id": "yz5Qe8ZWk1Zq",
        "colab": {
          "base_uri": "https://localhost:8080/"
        },
        "outputId": "e01e3c72-5df1-4bab-96e8-fb79b43e0c76"
      },
      "outputs": [
        {
          "output_type": "stream",
          "name": "stdout",
          "text": [
            "<class 'pandas.core.frame.DataFrame'>\n",
            "RangeIndex: 500000 entries, 0 to 499999\n",
            "Data columns (total 9 columns):\n",
            " #   Column                         Non-Null Count   Dtype  \n",
            "---  ------                         --------------   -----  \n",
            " 0   tachometer                     500000 non-null  float64\n",
            " 1   und-accelerometer-axial        500000 non-null  float64\n",
            " 2   und-accelerometer-radial       500000 non-null  float64\n",
            " 3   und-accelerometer-tangential   500000 non-null  float64\n",
            " 4   over-accelerometer-axial       500000 non-null  float64\n",
            " 5   over-accelerometer-radial      500000 non-null  float64\n",
            " 6   over-accelerometer-tangential  500000 non-null  float64\n",
            " 7   microphone                     500000 non-null  float64\n",
            " 8   Class                          500000 non-null  int64  \n",
            "dtypes: float64(8), int64(1)\n",
            "memory usage: 34.3 MB\n"
          ]
        }
      ],
      "source": [
        "data.info()"
      ]
    },
    {
      "cell_type": "code",
      "execution_count": 7,
      "metadata": {
        "id": "WUW9ezX6a_st",
        "colab": {
          "base_uri": "https://localhost:8080/"
        },
        "outputId": "9856f4b9-a64f-43cc-a819-a0542189bfad"
      },
      "outputs": [
        {
          "output_type": "execute_result",
          "data": {
            "text/plain": [
              "500000"
            ]
          },
          "metadata": {},
          "execution_count": 7
        }
      ],
      "source": [
        "rec_count = len(data)\n",
        "rec_count"
      ]
    },
    {
      "cell_type": "markdown",
      "source": [
        "# Datu dalīšana mazākos gabalos"
      ],
      "metadata": {
        "id": "6RVC1PZy88fC"
      }
    },
    {
      "cell_type": "code",
      "execution_count": 8,
      "metadata": {
        "id": "DOvnCYkcbGaE"
      },
      "outputs": [],
      "source": [
        "sequence_length = 200"
      ]
    },
    {
      "cell_type": "code",
      "execution_count": 9,
      "metadata": {
        "id": "RG0o2L3zbTEx"
      },
      "outputs": [],
      "source": [
        "def generate_data(X, y, sequence_length = 200, step = 5):\n",
        "    X_local = []\n",
        "    y_local = []\n",
        "    for start in range(0, len(data) - sequence_length, step):\n",
        "        end = start + sequence_length\n",
        "        X_local.append(X[start:end])\n",
        "        y_local.append(y[end-1])\n",
        "    return np.array(X_local), np.array(y_local)\n",
        "\n",
        "X_sequence, y = generate_data(data.loc[:, \"tachometer\":\"microphone\"].values, data.Class)"
      ]
    },
    {
      "cell_type": "code",
      "execution_count": 10,
      "metadata": {
        "id": "s0QxwK66cLVF",
        "colab": {
          "base_uri": "https://localhost:8080/"
        },
        "outputId": "c2b0bf03-a5b4-4260-a874-eb126c6136e1"
      },
      "outputs": [
        {
          "output_type": "execute_result",
          "data": {
            "text/plain": [
              "((99960, 200, 8), (99960,))"
            ]
          },
          "metadata": {},
          "execution_count": 10
        }
      ],
      "source": [
        "X_sequence.shape, y.shape"
      ]
    },
    {
      "cell_type": "markdown",
      "source": [
        "# Random/Shuffle"
      ],
      "metadata": {
        "id": "5BXSDoHa9UX_"
      }
    },
    {
      "cell_type": "code",
      "source": [
        "shuffler = np.random.permutation(len(X_sequence))\n",
        "X_sequence_shuffled = X_sequence[shuffler]\n",
        "y_shuffled = y[shuffler]"
      ],
      "metadata": {
        "id": "ZcfE9idy-ckb"
      },
      "execution_count": 11,
      "outputs": []
    },
    {
      "cell_type": "markdown",
      "source": [
        "# LSTM"
      ],
      "metadata": {
        "id": "TfhRTTNcE2s8"
      }
    },
    {
      "cell_type": "code",
      "execution_count": 12,
      "metadata": {
        "id": "PjKWKiA6aH3z",
        "colab": {
          "base_uri": "https://localhost:8080/"
        },
        "outputId": "1f68362a-d21a-4437-a92b-923bbd29ff1c"
      },
      "outputs": [
        {
          "output_type": "stream",
          "name": "stdout",
          "text": [
            "Model: \"sequential\"\n",
            "_________________________________________________________________\n",
            " Layer (type)                Output Shape              Param #   \n",
            "=================================================================\n",
            " lstm (LSTM)                 (None, 100)               43600     \n",
            "                                                                 \n",
            " dropout (Dropout)           (None, 100)               0         \n",
            "                                                                 \n",
            " dense (Dense)               (None, 1)                 101       \n",
            "                                                                 \n",
            "=================================================================\n",
            "Total params: 43,701\n",
            "Trainable params: 43,701\n",
            "Non-trainable params: 0\n",
            "_________________________________________________________________\n"
          ]
        }
      ],
      "source": [
        "model = keras.Sequential()\n",
        "model.add(LSTM(100, input_shape = (200, 8)))\n",
        "model.add(Dropout(0.5))\n",
        "model.add(Dense(1, activation=\"sigmoid\"))\n",
        "model.compile(loss=\"binary_crossentropy\"\n",
        "              , metrics=[keras.metrics.binary_accuracy]\n",
        "              , optimizer=\"adam\")\n",
        "\n",
        "model.summary()"
      ]
    },
    {
      "cell_type": "code",
      "execution_count": 13,
      "metadata": {
        "id": "tg8wrqsqc8UX"
      },
      "outputs": [],
      "source": [
        "training_size = int(len(X_sequence) * 0.7)"
      ]
    },
    {
      "cell_type": "code",
      "execution_count": 14,
      "metadata": {
        "id": "avIp3TEKc-qF"
      },
      "outputs": [],
      "source": [
        "X_train, y_train = X_sequence_shuffled[:training_size], y_shuffled[:training_size]\n",
        "X_test, y_test = X_sequence_shuffled[training_size:], y_shuffled[training_size:]"
      ]
    },
    {
      "cell_type": "code",
      "execution_count": 15,
      "metadata": {
        "id": "cen4faX0dFJP",
        "colab": {
          "base_uri": "https://localhost:8080/"
        },
        "outputId": "85e24924-82bd-4b46-fb73-ea4737fe7022"
      },
      "outputs": [
        {
          "output_type": "stream",
          "name": "stdout",
          "text": [
            "Epoch 1/50\n",
            "1094/1094 [==============================] - 249s 220ms/step - loss: 0.2029 - binary_accuracy: 0.9273 - val_loss: 0.2139 - val_binary_accuracy: 0.9335\n",
            "Epoch 2/50\n",
            "1094/1094 [==============================] - 237s 216ms/step - loss: 0.2350 - binary_accuracy: 0.9076 - val_loss: 0.2540 - val_binary_accuracy: 0.9606\n",
            "Epoch 3/50\n",
            "1094/1094 [==============================] - 237s 216ms/step - loss: 0.1508 - binary_accuracy: 0.9563 - val_loss: 0.0988 - val_binary_accuracy: 0.9729\n",
            "Epoch 4/50\n",
            "1094/1094 [==============================] - 237s 216ms/step - loss: 0.0986 - binary_accuracy: 0.9704 - val_loss: 0.0532 - val_binary_accuracy: 0.9836\n",
            "Epoch 5/50\n",
            "1094/1094 [==============================] - 237s 217ms/step - loss: 0.0870 - binary_accuracy: 0.9736 - val_loss: 0.0581 - val_binary_accuracy: 0.9821\n",
            "Epoch 6/50\n",
            "1094/1094 [==============================] - 238s 217ms/step - loss: 0.0797 - binary_accuracy: 0.9787 - val_loss: 0.0423 - val_binary_accuracy: 0.9884\n",
            "Epoch 7/50\n",
            "1094/1094 [==============================] - 238s 218ms/step - loss: 0.1137 - binary_accuracy: 0.9642 - val_loss: 0.1215 - val_binary_accuracy: 0.9643\n",
            "Epoch 8/50\n",
            "1094/1094 [==============================] - 238s 218ms/step - loss: 0.0904 - binary_accuracy: 0.9722 - val_loss: 0.0337 - val_binary_accuracy: 0.9904\n",
            "Epoch 9/50\n",
            "1094/1094 [==============================] - 238s 218ms/step - loss: 0.0979 - binary_accuracy: 0.9686 - val_loss: 0.1164 - val_binary_accuracy: 0.9767\n",
            "Epoch 10/50\n",
            "1094/1094 [==============================] - 237s 217ms/step - loss: 0.1438 - binary_accuracy: 0.9535 - val_loss: 0.0759 - val_binary_accuracy: 0.9740\n",
            "Epoch 11/50\n",
            "1094/1094 [==============================] - 238s 217ms/step - loss: 0.0655 - binary_accuracy: 0.9821 - val_loss: 0.0732 - val_binary_accuracy: 0.9854\n",
            "Epoch 12/50\n",
            "1094/1094 [==============================] - 238s 217ms/step - loss: 0.0717 - binary_accuracy: 0.9791 - val_loss: 0.4530 - val_binary_accuracy: 0.8897\n",
            "Epoch 13/50\n",
            "1094/1094 [==============================] - 238s 217ms/step - loss: 0.0442 - binary_accuracy: 0.9876 - val_loss: 0.2500 - val_binary_accuracy: 0.9464\n",
            "Epoch 14/50\n",
            "1094/1094 [==============================] - 238s 217ms/step - loss: 0.0742 - binary_accuracy: 0.9781 - val_loss: 0.0352 - val_binary_accuracy: 0.9887\n",
            "Epoch 15/50\n",
            "1094/1094 [==============================] - 238s 217ms/step - loss: 0.0584 - binary_accuracy: 0.9827 - val_loss: 0.0473 - val_binary_accuracy: 0.9841\n",
            "Epoch 16/50\n",
            "1094/1094 [==============================] - 238s 218ms/step - loss: 0.0408 - binary_accuracy: 0.9886 - val_loss: 0.0295 - val_binary_accuracy: 0.9928\n",
            "Epoch 17/50\n",
            "1094/1094 [==============================] - 238s 218ms/step - loss: 0.0290 - binary_accuracy: 0.9917 - val_loss: 0.0326 - val_binary_accuracy: 0.9934\n",
            "Epoch 18/50\n",
            "1094/1094 [==============================] - 238s 217ms/step - loss: 0.0439 - binary_accuracy: 0.9891 - val_loss: 0.0552 - val_binary_accuracy: 0.9792\n",
            "Epoch 19/50\n",
            "1094/1094 [==============================] - 242s 222ms/step - loss: 0.0527 - binary_accuracy: 0.9847 - val_loss: 0.0133 - val_binary_accuracy: 0.9961\n",
            "Epoch 20/50\n",
            "1094/1094 [==============================] - 239s 218ms/step - loss: 0.0231 - binary_accuracy: 0.9931 - val_loss: 0.0168 - val_binary_accuracy: 0.9963\n",
            "Epoch 21/50\n",
            "1094/1094 [==============================] - 238s 218ms/step - loss: 0.0207 - binary_accuracy: 0.9951 - val_loss: 0.0054 - val_binary_accuracy: 0.9989\n",
            "Epoch 22/50\n",
            "1094/1094 [==============================] - 242s 221ms/step - loss: 0.0223 - binary_accuracy: 0.9942 - val_loss: 0.0063 - val_binary_accuracy: 0.9984\n",
            "Epoch 23/50\n",
            "1094/1094 [==============================] - 240s 219ms/step - loss: 0.0116 - binary_accuracy: 0.9977 - val_loss: 0.0112 - val_binary_accuracy: 0.9980\n",
            "Epoch 24/50\n",
            "1094/1094 [==============================] - 242s 221ms/step - loss: 0.0183 - binary_accuracy: 0.9960 - val_loss: 0.0071 - val_binary_accuracy: 0.9984\n",
            "Epoch 25/50\n",
            "1094/1094 [==============================] - 238s 218ms/step - loss: 0.0119 - binary_accuracy: 0.9970 - val_loss: 0.0178 - val_binary_accuracy: 0.9956\n",
            "Epoch 26/50\n",
            "1094/1094 [==============================] - 237s 217ms/step - loss: 0.0390 - binary_accuracy: 0.9888 - val_loss: 0.0361 - val_binary_accuracy: 0.9872\n",
            "Epoch 27/50\n",
            "1094/1094 [==============================] - 239s 218ms/step - loss: 0.0227 - binary_accuracy: 0.9943 - val_loss: 0.0097 - val_binary_accuracy: 0.9975\n",
            "Epoch 28/50\n",
            "1094/1094 [==============================] - 238s 218ms/step - loss: 0.0125 - binary_accuracy: 0.9968 - val_loss: 0.0056 - val_binary_accuracy: 0.9985\n",
            "Epoch 29/50\n",
            "1094/1094 [==============================] - 238s 217ms/step - loss: 0.0124 - binary_accuracy: 0.9964 - val_loss: 0.0048 - val_binary_accuracy: 0.9985\n",
            "Epoch 30/50\n",
            "1094/1094 [==============================] - 238s 217ms/step - loss: 0.0224 - binary_accuracy: 0.9934 - val_loss: 0.0154 - val_binary_accuracy: 0.9958\n",
            "Epoch 31/50\n",
            "1094/1094 [==============================] - 238s 218ms/step - loss: 0.0170 - binary_accuracy: 0.9959 - val_loss: 0.0179 - val_binary_accuracy: 0.9969\n",
            "Epoch 32/50\n",
            "1094/1094 [==============================] - 238s 218ms/step - loss: 0.0236 - binary_accuracy: 0.9920 - val_loss: 0.0038 - val_binary_accuracy: 0.9991\n",
            "Epoch 33/50\n",
            "1094/1094 [==============================] - 238s 218ms/step - loss: 0.0036 - binary_accuracy: 0.9992 - val_loss: 0.0023 - val_binary_accuracy: 0.9995\n",
            "Epoch 34/50\n",
            "1094/1094 [==============================] - 239s 219ms/step - loss: 0.0038 - binary_accuracy: 0.9992 - val_loss: 0.0018 - val_binary_accuracy: 0.9996\n",
            "Epoch 35/50\n",
            "1094/1094 [==============================] - 239s 218ms/step - loss: 0.0053 - binary_accuracy: 0.9985 - val_loss: 0.0073 - val_binary_accuracy: 0.9980\n",
            "Epoch 36/50\n",
            "1094/1094 [==============================] - 238s 218ms/step - loss: 0.0123 - binary_accuracy: 0.9965 - val_loss: 0.0056 - val_binary_accuracy: 0.9985\n",
            "Epoch 37/50\n",
            "1094/1094 [==============================] - 238s 218ms/step - loss: 0.0064 - binary_accuracy: 0.9984 - val_loss: 0.0032 - val_binary_accuracy: 0.9993\n",
            "Epoch 38/50\n",
            "1094/1094 [==============================] - 239s 218ms/step - loss: 0.0099 - binary_accuracy: 0.9982 - val_loss: 0.0056 - val_binary_accuracy: 0.9986\n",
            "Epoch 39/50\n",
            "1094/1094 [==============================] - 239s 218ms/step - loss: 0.0054 - binary_accuracy: 0.9988 - val_loss: 0.0029 - val_binary_accuracy: 0.9993\n",
            "Epoch 40/50\n",
            "1094/1094 [==============================] - 238s 218ms/step - loss: 0.0033 - binary_accuracy: 0.9991 - val_loss: 0.0035 - val_binary_accuracy: 0.9989\n",
            "Epoch 41/50\n",
            "1094/1094 [==============================] - 239s 218ms/step - loss: 0.0028 - binary_accuracy: 0.9994 - val_loss: 0.0022 - val_binary_accuracy: 0.9997\n",
            "Epoch 42/50\n",
            "1094/1094 [==============================] - 239s 218ms/step - loss: 0.0081 - binary_accuracy: 0.9981 - val_loss: 0.0035 - val_binary_accuracy: 0.9992\n",
            "Epoch 43/50\n",
            "1094/1094 [==============================] - 239s 218ms/step - loss: 0.0016 - binary_accuracy: 0.9996 - val_loss: 0.0019 - val_binary_accuracy: 0.9994\n",
            "Epoch 44/50\n",
            "1094/1094 [==============================] - 238s 218ms/step - loss: 0.0032 - binary_accuracy: 0.9990 - val_loss: 0.0067 - val_binary_accuracy: 0.9983\n",
            "Epoch 45/50\n",
            "1094/1094 [==============================] - 238s 218ms/step - loss: 0.0011 - binary_accuracy: 0.9997 - val_loss: 6.7136e-04 - val_binary_accuracy: 0.9998\n",
            "Epoch 46/50\n",
            "1094/1094 [==============================] - 238s 218ms/step - loss: 0.0026 - binary_accuracy: 0.9993 - val_loss: 7.7874e-04 - val_binary_accuracy: 0.9998\n",
            "Epoch 47/50\n",
            "1094/1094 [==============================] - 238s 218ms/step - loss: 0.0055 - binary_accuracy: 0.9984 - val_loss: 0.0019 - val_binary_accuracy: 0.9998\n",
            "Epoch 48/50\n",
            "1094/1094 [==============================] - 238s 217ms/step - loss: 0.0011 - binary_accuracy: 0.9998 - val_loss: 0.0014 - val_binary_accuracy: 0.9996\n",
            "Epoch 49/50\n",
            "1094/1094 [==============================] - 240s 219ms/step - loss: 0.0036 - binary_accuracy: 0.9990 - val_loss: 0.0052 - val_binary_accuracy: 0.9983\n",
            "Epoch 50/50\n",
            "1094/1094 [==============================] - 239s 219ms/step - loss: 0.0011 - binary_accuracy: 0.9998 - val_loss: 2.8083e-04 - val_binary_accuracy: 1.0000\n"
          ]
        }
      ],
      "source": [
        "history = model.fit(X_train, y_train, batch_size=64, epochs=50, validation_data=(X_test, y_test))"
      ]
    },
    {
      "cell_type": "code",
      "execution_count": 16,
      "metadata": {
        "id": "R7QQeqVidKBR",
        "colab": {
          "base_uri": "https://localhost:8080/"
        },
        "outputId": "e866f00a-3998-4d2b-8dde-7668f8700591"
      },
      "outputs": [
        {
          "output_type": "stream",
          "name": "stdout",
          "text": [
            "938/938 [==============================] - 41s 43ms/step - loss: 2.8083e-04 - binary_accuracy: 1.0000\n"
          ]
        },
        {
          "output_type": "execute_result",
          "data": {
            "text/plain": [
              "[0.00028082766220904887, 0.9999666810035706]"
            ]
          },
          "metadata": {},
          "execution_count": 16
        }
      ],
      "source": [
        "model.evaluate(X_test, y_test)"
      ]
    },
    {
      "cell_type": "code",
      "execution_count": 17,
      "metadata": {
        "id": "OHpifyqGdKn-",
        "colab": {
          "base_uri": "https://localhost:8080/"
        },
        "outputId": "01056270-8aad-41e7-b800-92691ab48c1c"
      },
      "outputs": [
        {
          "output_type": "stream",
          "name": "stdout",
          "text": [
            "938/938 [==============================] - 41s 43ms/step\n"
          ]
        }
      ],
      "source": [
        "y_test_prob = model.predict(X_test, verbose=1)"
      ]
    },
    {
      "cell_type": "code",
      "execution_count": 18,
      "metadata": {
        "id": "AfmdrBILdMwj"
      },
      "outputs": [],
      "source": [
        "y_test_pred = np.where(y_test_prob > 0.5, 1, 0)"
      ]
    },
    {
      "cell_type": "code",
      "execution_count": 19,
      "metadata": {
        "id": "8DoJy_p9dPzN"
      },
      "outputs": [],
      "source": [
        "from sklearn.metrics import confusion_matrix"
      ]
    },
    {
      "cell_type": "code",
      "execution_count": 20,
      "metadata": {
        "id": "fTCsPjW8dQaZ",
        "colab": {
          "base_uri": "https://localhost:8080/"
        },
        "outputId": "24be8e60-1bcf-4131-f711-d58973584d5d"
      },
      "outputs": [
        {
          "output_type": "execute_result",
          "data": {
            "text/plain": [
              "array([[15041,     0],\n",
              "       [    1, 14946]])"
            ]
          },
          "metadata": {},
          "execution_count": 20
        }
      ],
      "source": [
        "confusion_matrix(y_test, y_test_pred)"
      ]
    },
    {
      "cell_type": "code",
      "execution_count": 21,
      "metadata": {
        "id": "te3fslrY9Eca",
        "colab": {
          "base_uri": "https://localhost:8080/",
          "height": 685
        },
        "outputId": "f6c22163-6128-4e82-eb06-a9a40180a7bf"
      },
      "outputs": [
        {
          "output_type": "stream",
          "name": "stdout",
          "text": [
            "Confusion matrix, without normalization\n",
            "[[15041     0]\n",
            " [    1 14946]]\n",
            "Normalized confusion matrix\n",
            "[[1.00e+00 0.00e+00]\n",
            " [6.69e-05 1.00e+00]]\n"
          ]
        },
        {
          "output_type": "display_data",
          "data": {
            "text/plain": [
              "<Figure size 432x288 with 2 Axes>"
            ],
            "image/png": "[encoded data removed]"
          },
          "metadata": {
            "needs_background": "light"
          }
        },
        {
          "output_type": "display_data",
          "data": {
            "text/plain": [
              "<Figure size 432x288 with 2 Axes>"
            ],
            "image/png": "[encoded data removed]"
          },
          "metadata": {
            "needs_background": "light"
          }
        }
      ],
      "source": [
        "import numpy as np\n",
        "import matplotlib.pyplot as plt\n",
        "\n",
        "from sklearn import svm, datasets\n",
        "from sklearn.model_selection import train_test_split\n",
        "from sklearn.metrics import confusion_matrix\n",
        "from sklearn.utils.multiclass import unique_labels\n",
        "\n",
        "class_names = np.array(['0', '1'])\n",
        "\n",
        "def plot_confusion_matrix(y_true, y_pred, classes,\n",
        "                          normalize=False,\n",
        "                          title=None,\n",
        "                          cmap=plt.cm.Blues):\n",
        "    \"\"\"\n",
        "    This function prints and plots the confusion matrix.\n",
        "    Normalization can be applied by setting `normalize=True`.\n",
        "    \"\"\"\n",
        "    if not title:\n",
        "        if normalize:\n",
        "            title = 'Normalized confusion matrix'\n",
        "        else:\n",
        "            title = 'Confusion matrix, without normalization'\n",
        "\n",
        "    # Compute confusion matrix\n",
        "    cm = confusion_matrix(y_true, y_pred)\n",
        "    # Only use the labels that appear in the data\n",
        "    classes = classes[unique_labels(y_true, y_pred)]\n",
        "    if normalize:\n",
        "        cm = cm.astype('float') / cm.sum(axis=1)[:, np.newaxis]\n",
        "        print(\"Normalized confusion matrix\")\n",
        "    else:\n",
        "        print('Confusion matrix, without normalization')\n",
        "\n",
        "    print(cm)\n",
        "\n",
        "    fig, ax = plt.subplots()\n",
        "    im = ax.imshow(cm, interpolation='nearest', cmap=cmap)\n",
        "    ax.figure.colorbar(im, ax=ax)\n",
        "    # We want to show all ticks...\n",
        "    ax.set(xticks=np.arange(cm.shape[1]),\n",
        "           yticks=np.arange(cm.shape[0]),\n",
        "           # ... and label them with the respective list entries\n",
        "           xticklabels=classes, yticklabels=classes,\n",
        "           title=title,\n",
        "           ylabel='True label',\n",
        "           xlabel='Predicted label')\n",
        "\n",
        "    # Rotate the tick labels and set their alignment.\n",
        "    plt.setp(ax.get_xticklabels(), rotation=45, ha=\"right\",\n",
        "             rotation_mode=\"anchor\")\n",
        "\n",
        "    # Loop over data dimensions and create text annotations.\n",
        "    fmt = '.2f' if normalize else 'd'\n",
        "    thresh = cm.max() / 2.\n",
        "    for i in range(cm.shape[0]):\n",
        "        for j in range(cm.shape[1]):\n",
        "            ax.text(j, i, format(cm[i, j], fmt),\n",
        "                    ha=\"center\", va=\"center\",\n",
        "                    color=\"white\" if cm[i, j] > thresh else \"black\")\n",
        "    fig.tight_layout()\n",
        "\n",
        "    return ax\n",
        "\n",
        "\n",
        "np.set_printoptions(precision=2)\n",
        "\n",
        "# Plot non-normalized confusion matrix\n",
        "plot_confusion_matrix(y_test, y_test_pred, classes=class_names,\n",
        "                      title='Confusion matrix, without normalization')\n",
        "\n",
        "# Plot normalized confusion matrix\n",
        "plot_confusion_matrix(y_test, y_test_pred, classes=class_names, normalize=True,\n",
        "                      title='Normalized confusion matrix')\n",
        "\n",
        "plt.show()"
      ]
    },
    {
      "cell_type": "code",
      "source": [
        "def plot_learningCurve(history, epoch):\n",
        "  # Plot training & validation accuracy values\n",
        "  epoch_range = range(1, epoch+1)\n",
        "  plt.plot(epoch_range, history.history['binary_accuracy'])\n",
        "  plt.plot(epoch_range, history.history['val_binary_accuracy'])\n",
        "  plt.title('Model accuracy')\n",
        "  plt.ylabel('Accuracy')\n",
        "  plt.xlabel('Epoch')\n",
        "  plt.legend(['Train', 'Val'], loc='upper left')\n",
        "  plt.show()\n",
        "\n",
        "  # Plot training & validation loss values\n",
        "  plt.plot(epoch_range, history.history['loss'])\n",
        "  plt.plot(epoch_range, history.history['val_loss'])\n",
        "  plt.title('Model loss')\n",
        "  plt.ylabel('Loss')\n",
        "  plt.xlabel('Epoch')\n",
        "  plt.legend(['Train', 'Val'], loc='upper left')\n",
        "  plt.show()"
      ],
      "metadata": {
        "id": "fhdLAhgPUnH3"
      },
      "execution_count": 22,
      "outputs": []
    },
    {
      "cell_type": "code",
      "source": [
        "plot_learningCurve(history, 50)"
      ],
      "metadata": {
        "id": "WlkQkWHgU5mL",
        "colab": {
          "base_uri": "https://localhost:8080/",
          "height": 573
        },
        "outputId": "636d2299-b45d-47a7-aa3d-a41fa9bc7dd5"
      },
      "execution_count": 23,
      "outputs": [
        {
          "output_type": "display_data",
          "data": {
            "text/plain": [
              "<Figure size 432x288 with 1 Axes>"
            ],
            "image/png": "[encoded data removed]"
          },
          "metadata": {
            "needs_background": "light"
          }
        },
        {
          "output_type": "display_data",
          "data": {
            "text/plain": [
              "<Figure size 432x288 with 1 Axes>"
            ],
            "image/png": "[encoded data removed]"
          },
          "metadata": {
            "needs_background": "light"
          }
        }
      ]
    }
  ],
  "metadata": {
    "colab": {
      "collapsed_sections": [
        "f857kfHqUk0-"
      ],
      "name": "MD LSTM step 5.ipynb",
      "provenance": [],
      "authorship_tag": "ABX9TyM6LASXApmZAgVoDT3A9WYv",
      "include_colab_link": true
    },
    "kernelspec": {
      "display_name": "Python 3",
      "name": "python3"
    },
    "language_info": {
      "name": "python"
    }
  },
  "nbformat": 4,
  "nbformat_minor": 0
}