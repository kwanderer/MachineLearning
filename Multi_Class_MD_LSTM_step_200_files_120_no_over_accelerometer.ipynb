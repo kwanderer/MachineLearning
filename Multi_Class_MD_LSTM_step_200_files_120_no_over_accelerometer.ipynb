{
  "cells": [
    {
      "cell_type": "markdown",
      "metadata": {
        "id": "view-in-github",
        "colab_type": "text"
      },
      "source": [
        "<a href=\"https://colab.research.google.com/github/kwanderer/MachineLearning/blob/main/Multi_Class_MD_LSTM_step_200_files_120_no_over_accelerometer.ipynb\" target=\"_parent\"><img src=\"https://colab.research.google.com/assets/colab-badge.svg\" alt=\"Open In Colab\"/></a>"
      ]
    },
    {
      "cell_type": "markdown",
      "metadata": {
        "id": "f857kfHqUk0-"
      },
      "source": [
        "\n",
        "\n",
        "#Datu kopa"
      ]
    },
    {
      "cell_type": "markdown",
      "metadata": {
        "id": "nM9WE3QGUwVi"
      },
      "source": [
        "Datu kopas avots: https://www.kaggle.com/uysalserkan/fault-induction-motor-dataset"
      ]
    },
    {
      "cell_type": "markdown",
      "metadata": {
        "id": "_sN_h3qHHy6r"
      },
      "source": [
        "Darbā tiek izmantota indukcijas motora parametru datu bāze. Izmantotajā datu kopā ir dati, kas tika iegūti SpectraQuest aparatūras kļūdu simulatorā (Machinery Fault Simulator).\n",
        "\n",
        "Katra mērījumu secība tika ģenerēta ar frekvenci 50 kHz 5 sekunžu laikā, kopā 250 000 mērījumi.\n",
        "\n",
        "Dati ir apkopoti vairākos failos, dažādos darbības stāvokļos un to apjoms ir ļoti liels. Šajā darbā tika izmantota daļa(viena mērījumu secība) no motora normālas darbības datiem.\n"
      ]
    },
    {
      "cell_type": "markdown",
      "metadata": {
        "id": "KtFAOaHYHLPo"
      },
      "source": [
        "Dati ir apkopoti tabulā, kura satur 8 parametrus. Dati ir iedalīti sekojošās kolonas:\n",
        "\n",
        "**tachometer** – tahometra signāls, kas ļauj novērtēt rotācijas frekvenci\n",
        "\n",
        "**und-accelerometer-axial** - apakšā esošā gultņa akselerometrs (aksiālais virziens)\n",
        "\n",
        "**und-accelerometer-radial** – apakšā esošā gultņa akselerometrs (radiālais virziens)\n",
        "\n",
        "**und-accelerometer-tangential** - apakšā esošā gultņa akselerometrs (tangenciālais virziens)\n",
        "\n",
        "**over-accelerometer-axial** - pārkares gultņa akselerometrs (aksiālais virziens)\n",
        "\n",
        "**over-accelerometer-radial** – pārkares gultņa akselerometrs (radiālais  virziens)\n",
        "\n",
        "**over-accelerometer-tangential**  - pārkares gultņa akselerometrs (tangenciālais virziens)\n",
        "\n",
        "**microphone** – mikrofona vērtība\n"
      ]
    },
    {
      "cell_type": "markdown",
      "metadata": {
        "id": "XymoNLKMVFUC"
      },
      "source": [
        "#Datu ielasīšana un satura vizualizācija"
      ]
    },
    {
      "cell_type": "code",
      "execution_count": 95,
      "metadata": {
        "id": "_yqYZDeOFq5s"
      },
      "outputs": [],
      "source": [
        "import keras\n",
        "from keras.layers import LSTM, Dropout, Dense\n",
        "import tensorflow as tf\n",
        "import numpy as np\n",
        "import pandas as pd\n",
        "\n",
        "from sklearn import linear_model  #pip install sklearn - loti plasa masinapmacibas biblioteka\n",
        "from sklearn.linear_model import LinearRegression  \n",
        "import csv          #pip install csv - darbam ar CSV datu kopam\n",
        "import requests     #pip install requests  - vienkarsakam darbam ar tiessaistes CSV datu kopam tiessaistes\n",
        "\n",
        "import matplotlib\n",
        "import matplotlib.pyplot as plt\n",
        "\n",
        "import glob\n"
      ]
    },
    {
      "cell_type": "code",
      "execution_count": 96,
      "metadata": {
        "id": "wlRTBbM2eUcV",
        "colab": {
          "base_uri": "https://localhost:8080/"
        },
        "outputId": "505eef43-5b66-4e91-9472-4f96859f9b4a"
      },
      "outputs": [
        {
          "output_type": "stream",
          "name": "stdout",
          "text": [
            "Drive already mounted at /content/gdrive; to attempt to forcibly remount, call drive.mount(\"/content/gdrive\", force_remount=True).\n"
          ]
        }
      ],
      "source": [
        "from google.colab import drive\n",
        "import os\n",
        "drive.mount('/content/gdrive')\n",
        "os.chdir(\"/content/gdrive/MyDrive/Colab Notebooks/data_multiclass/\")"
      ]
    },
    {
      "cell_type": "code",
      "execution_count": 97,
      "metadata": {
        "id": "zzz6fBl_SNom"
      },
      "outputs": [],
      "source": [
        "#extension = 'csv'\n",
        "#all_filenames = [i for i in glob.glob('*.{}'.format(extension))]"
      ]
    },
    {
      "cell_type": "code",
      "execution_count": 98,
      "metadata": {
        "id": "vagKFCkToBi0"
      },
      "outputs": [],
      "source": [
        "#combine all files in the list\n",
        "#combined_csv = pd.concat([pd.read_csv(f) for f in all_filenames ])\n",
        "#export to csv\n",
        "#combined_csv.to_csv( \"combined_multiclass_csv.csv\", index=False, encoding='utf-8-sig')"
      ]
    },
    {
      "cell_type": "code",
      "execution_count": 99,
      "metadata": {
        "id": "encEkbDhSfGI"
      },
      "outputs": [],
      "source": [
        "data = pd.read_csv(\"combined_multiclass_csv.csv\")"
      ]
    },
    {
      "cell_type": "code",
      "execution_count": 100,
      "metadata": {
        "id": "yz5Qe8ZWk1Zq",
        "colab": {
          "base_uri": "https://localhost:8080/"
        },
        "outputId": "41470862-d410-4557-f70d-2fa39572c814"
      },
      "outputs": [
        {
          "output_type": "stream",
          "name": "stdout",
          "text": [
            "<class 'pandas.core.frame.DataFrame'>\n",
            "RangeIndex: 30000000 entries, 0 to 29999999\n",
            "Data columns (total 9 columns):\n",
            " #   Column                         Dtype  \n",
            "---  ------                         -----  \n",
            " 0   tachometer                     float64\n",
            " 1   und-accelerometer-axial        float64\n",
            " 2   und-accelerometer-radial       float64\n",
            " 3   und-accelerometer-tangential   float64\n",
            " 4   over-accelerometer-axial       float64\n",
            " 5   over-accelerometer-radial      float64\n",
            " 6   over-accelerometer-tangential  float64\n",
            " 7   microphone                     float64\n",
            " 8   Class                          int64  \n",
            "dtypes: float64(8), int64(1)\n",
            "memory usage: 2.0 GB\n"
          ]
        }
      ],
      "source": [
        "data.info()"
      ]
    },
    {
      "cell_type": "code",
      "execution_count": 101,
      "metadata": {
        "id": "WUW9ezX6a_st",
        "colab": {
          "base_uri": "https://localhost:8080/"
        },
        "outputId": "e7b0c0a3-d9a4-406c-d273-a8ba020ffebe"
      },
      "outputs": [
        {
          "output_type": "execute_result",
          "data": {
            "text/plain": [
              "30000000"
            ]
          },
          "metadata": {},
          "execution_count": 101
        }
      ],
      "source": [
        "rec_count = len(data)\n",
        "rec_count"
      ]
    },
    {
      "cell_type": "markdown",
      "metadata": {
        "id": "6RVC1PZy88fC"
      },
      "source": [
        "# Datu dalīšana mazākos gabalos"
      ]
    },
    {
      "cell_type": "code",
      "execution_count": 102,
      "metadata": {
        "id": "DOvnCYkcbGaE"
      },
      "outputs": [],
      "source": [
        "sequence_length = 200"
      ]
    },
    {
      "cell_type": "code",
      "execution_count": 103,
      "metadata": {
        "id": "RG0o2L3zbTEx"
      },
      "outputs": [],
      "source": [
        "def generate_data(X, y, sequence_length = 200, step = 200):\n",
        "    X_local = []\n",
        "    y_local = []\n",
        "    for start in range(0, len(data) - sequence_length, step):\n",
        "        end = start + sequence_length\n",
        "        X_local.append(X[start:end])\n",
        "        y_local.append(y[end-1])\n",
        "    return np.array(X_local), np.array(y_local)\n",
        "\n",
        "#X_sequence, y = generate_data(data.loc[:, [\"tachometer\", \"und-accelerometer-axial\", \"und-accelerometer-radial\", \"und-accelerometer-tangential\", \"over-accelerometer-axial\", \"over-accelerometer-radial\", \"over-accelerometer-tangential\", \"microphone\"]].values, data.Class)\n",
        "X_sequence, y = generate_data(data.loc[:, [\"tachometer\", \"und-accelerometer-axial\", \"und-accelerometer-radial\", \"und-accelerometer-tangential\", \"microphone\"]].values, data.Class)\n"
      ]
    },
    {
      "cell_type": "code",
      "execution_count": 104,
      "metadata": {
        "id": "s0QxwK66cLVF",
        "colab": {
          "base_uri": "https://localhost:8080/"
        },
        "outputId": "a395d762-96f4-4045-d56c-2379898a70b1"
      },
      "outputs": [
        {
          "output_type": "execute_result",
          "data": {
            "text/plain": [
              "((149999, 200, 5), (149999,))"
            ]
          },
          "metadata": {},
          "execution_count": 104
        }
      ],
      "source": [
        "X_sequence.shape, y.shape"
      ]
    },
    {
      "cell_type": "code",
      "source": [
        "unique, counts = np.unique(y, return_counts=True)"
      ],
      "metadata": {
        "id": "l8Lq455lV1JR"
      },
      "execution_count": 105,
      "outputs": []
    },
    {
      "cell_type": "code",
      "source": [
        "unique"
      ],
      "metadata": {
        "id": "t0BRO3nAWQxe",
        "colab": {
          "base_uri": "https://localhost:8080/"
        },
        "outputId": "0368efbf-22ba-4f42-f551-692fb7ebef8f"
      },
      "execution_count": 106,
      "outputs": [
        {
          "output_type": "execute_result",
          "data": {
            "text/plain": [
              "array([0, 1, 2, 3, 4, 5, 6, 7])"
            ]
          },
          "metadata": {},
          "execution_count": 106
        }
      ]
    },
    {
      "cell_type": "code",
      "source": [
        "counts"
      ],
      "metadata": {
        "id": "WWZ7QWR4WS_r",
        "colab": {
          "base_uri": "https://localhost:8080/"
        },
        "outputId": "1686da52-cf04-473b-f297-fcfb0c835997"
      },
      "execution_count": 107,
      "outputs": [
        {
          "output_type": "execute_result",
          "data": {
            "text/plain": [
              "array([18749, 18750, 18750, 18750, 18750, 18750, 18750, 18750])"
            ]
          },
          "metadata": {},
          "execution_count": 107
        }
      ]
    },
    {
      "cell_type": "code",
      "execution_count": 108,
      "metadata": {
        "id": "i7R1oo6Mj8wx"
      },
      "outputs": [],
      "source": [
        "data = 0"
      ]
    },
    {
      "cell_type": "code",
      "source": [
        "from sklearn.preprocessing import OneHotEncoder"
      ],
      "metadata": {
        "id": "lAk_JscRWmqY"
      },
      "execution_count": 109,
      "outputs": []
    },
    {
      "cell_type": "code",
      "source": [
        "label_encoder = OneHotEncoder(sparse=False)\n",
        "label_encoder.fit(y.reshape(-1,1))"
      ],
      "metadata": {
        "id": "14B9aYy0W0y6",
        "colab": {
          "base_uri": "https://localhost:8080/"
        },
        "outputId": "4faf5bb8-9d40-4f13-c6f4-96afb558d1d6"
      },
      "execution_count": 110,
      "outputs": [
        {
          "output_type": "execute_result",
          "data": {
            "text/plain": [
              "OneHotEncoder(sparse=False)"
            ]
          },
          "metadata": {},
          "execution_count": 110
        }
      ]
    },
    {
      "cell_type": "code",
      "source": [
        "y_encoded = label_encoder.transform(y.reshape(-1,1))"
      ],
      "metadata": {
        "id": "VjpWn96xXgPS"
      },
      "execution_count": 111,
      "outputs": []
    },
    {
      "cell_type": "code",
      "source": [
        "y_encoded[0:5]"
      ],
      "metadata": {
        "id": "VL6KMFo9XpBi",
        "colab": {
          "base_uri": "https://localhost:8080/"
        },
        "outputId": "e58d8006-9080-4ce0-802b-dbbec1867058"
      },
      "execution_count": 112,
      "outputs": [
        {
          "output_type": "execute_result",
          "data": {
            "text/plain": [
              "array([[0., 0., 0., 0., 0., 0., 0., 1.],\n",
              "       [0., 0., 0., 0., 0., 0., 0., 1.],\n",
              "       [0., 0., 0., 0., 0., 0., 0., 1.],\n",
              "       [0., 0., 0., 0., 0., 0., 0., 1.],\n",
              "       [0., 0., 0., 0., 0., 0., 0., 1.]])"
            ]
          },
          "metadata": {},
          "execution_count": 112
        }
      ]
    },
    {
      "cell_type": "code",
      "source": [
        "y=y_encoded"
      ],
      "metadata": {
        "id": "5c8km253YKBl"
      },
      "execution_count": 113,
      "outputs": []
    },
    {
      "cell_type": "markdown",
      "metadata": {
        "id": "5BXSDoHa9UX_"
      },
      "source": [
        "# Random/Shuffle"
      ]
    },
    {
      "cell_type": "code",
      "execution_count": 114,
      "metadata": {
        "id": "ZcfE9idy-ckb"
      },
      "outputs": [],
      "source": [
        "shuffler = np.random.permutation(len(X_sequence))\n",
        "X_sequence_shuffled = X_sequence[shuffler]\n",
        "y_shuffled = y[shuffler]"
      ]
    },
    {
      "cell_type": "markdown",
      "metadata": {
        "id": "TfhRTTNcE2s8"
      },
      "source": [
        "# LSTM"
      ]
    },
    {
      "cell_type": "code",
      "execution_count": 115,
      "metadata": {
        "id": "ihrXMuVAEwlY"
      },
      "outputs": [],
      "source": [
        "import pandas as pd\n",
        "import sklearn.metrics as metrique\n",
        "from pandas import Series\n",
        "from sklearn.preprocessing import StandardScaler, MinMaxScaler\n",
        "from matplotlib import pyplot\n",
        "from sklearn.model_selection import train_test_split\n",
        "import numpy as np\n",
        "import tensorflow as tf\n",
        "import sys\n",
        "import numpy as np\n",
        "import pandas as pd\n",
        "import tensorflow as tf\n",
        "import matplotlib.pyplot as plt\n",
        "from sklearn.model_selection import train_test_split\n",
        "from sklearn import preprocessing\n",
        "from sklearn.preprocessing import StandardScaler\n",
        "from sklearn.metrics import classification_report\n",
        "import warnings\n",
        "warnings.filterwarnings('ignore')\n",
        "plt.style.use('ggplot')\n",
        "import seaborn as sns \n",
        "%matplotlib inline\n",
        "from keras.callbacks import EarlyStopping\n",
        "from keras.callbacks import ModelCheckpoint\n",
        "from sklearn.metrics import accuracy_score\n",
        "from sklearn.metrics import classification_report, confusion_matrix\n",
        "from keras.models import Sequential\n",
        "from keras.utils import np_utils\n",
        "from keras.layers import LSTM, Dense, Embedding, Dropout,Input, Layer, Concatenate, Permute, Dot, Multiply, Flatten\n",
        "from keras.layers import RepeatVector, Dense, Activation, Lambda\n",
        "from keras.models import Sequential\n",
        "from keras import backend as K, regularizers, Model, metrics\n",
        "from keras.backend import cast"
      ]
    },
    {
      "cell_type": "code",
      "execution_count": 116,
      "metadata": {
        "id": "PjKWKiA6aH3z"
      },
      "outputs": [],
      "source": [
        "#from tensorflow.keras import optimizers\n",
        "#sgd = optimizers.SGD(lr=0.0001, decay=1e-6, momentum=0.9, nesterov=True)\n",
        "#model = keras.Sequential()\n",
        "#model.add(LSTM(100, input_shape = (200, 8)))\n",
        "#model.add(Dropout(0.5))\n",
        "#model.add(Dense(1, activation=\"softmax\"))\n",
        "\n",
        "\n",
        "#model.compile(loss=\"categorical_crossentropy\"\n",
        "#              , metrics=[keras.metrics.binary_accuracy]\n",
        "#              , optimizer='sgd')\n",
        "\n",
        "#model.summary()"
      ]
    },
    {
      "cell_type": "code",
      "execution_count": 117,
      "metadata": {
        "id": "_2SaVmwSWJVB",
        "colab": {
          "base_uri": "https://localhost:8080/"
        },
        "outputId": "f6a994bd-c5bf-4cab-9b40-ed787bb12fa4"
      },
      "outputs": [
        {
          "output_type": "stream",
          "name": "stdout",
          "text": [
            "Model: \"sequential_3\"\n",
            "_________________________________________________________________\n",
            " Layer (type)                Output Shape              Param #   \n",
            "=================================================================\n",
            " lstm_3 (LSTM)               (None, 100)               42400     \n",
            "                                                                 \n",
            " dropout_3 (Dropout)         (None, 100)               0         \n",
            "                                                                 \n",
            " dense_3 (Dense)             (None, 8)                 808       \n",
            "                                                                 \n",
            "=================================================================\n",
            "Total params: 43,208\n",
            "Trainable params: 43,208\n",
            "Non-trainable params: 0\n",
            "_________________________________________________________________\n"
          ]
        }
      ],
      "source": [
        "from tensorflow.keras import optimizers\n",
        "#sgd = optimizers.SGD(lr=0.0001, decay=1e-6, momentum=0.9, nesterov=True)\n",
        "optimizer = tf.keras.optimizers.Adam(lr=0.0001)\n",
        "model = keras.Sequential()\n",
        "model.add(LSTM(100, input_shape = (200, 5)))\n",
        "model.add(Dropout(0.5))#0.25\n",
        "model.add(Dense(8, activation=\"softmax\"))\n",
        "\n",
        "#model.compile(loss='mean_squared_error', optimizer=sgd)\n",
        "model.compile(loss=\"categorical_crossentropy\"\n",
        "              , metrics=['accuracy']\n",
        "              , optimizer=optimizer)\n",
        "\n",
        "model.summary()"
      ]
    },
    {
      "cell_type": "code",
      "execution_count": 118,
      "metadata": {
        "id": "tg8wrqsqc8UX"
      },
      "outputs": [],
      "source": [
        "training_size = int(len(X_sequence) * 0.8)\n",
        "val_size = int(len(X_sequence) * 0.9)"
      ]
    },
    {
      "cell_type": "code",
      "execution_count": 119,
      "metadata": {
        "id": "avIp3TEKc-qF"
      },
      "outputs": [],
      "source": [
        "X_train, y_train = X_sequence_shuffled[:training_size], y_shuffled[:training_size]\n",
        "X_val, y_val = X_sequence_shuffled[training_size:val_size], y_shuffled[training_size:val_size]\n",
        "X_test, y_test = X_sequence_shuffled[val_size:], y_shuffled[val_size:]"
      ]
    },
    {
      "cell_type": "code",
      "execution_count": 120,
      "metadata": {
        "id": "RABc_uKzkBUT"
      },
      "outputs": [],
      "source": [
        "#X_sequence = 0\n",
        "#y = 0"
      ]
    },
    {
      "cell_type": "code",
      "source": [
        "X_train.shape"
      ],
      "metadata": {
        "id": "Omv-ht1dhGxL",
        "colab": {
          "base_uri": "https://localhost:8080/"
        },
        "outputId": "9ce763c1-2de2-4c79-d910-4abdae84655f"
      },
      "execution_count": 121,
      "outputs": [
        {
          "output_type": "execute_result",
          "data": {
            "text/plain": [
              "(119999, 200, 5)"
            ]
          },
          "metadata": {},
          "execution_count": 121
        }
      ]
    },
    {
      "cell_type": "code",
      "execution_count": 122,
      "metadata": {
        "id": "8aIhPJ-wLCwZ",
        "colab": {
          "base_uri": "https://localhost:8080/"
        },
        "outputId": "7d449278-6e75-4f29-f0b7-41650e434a42"
      },
      "outputs": [
        {
          "output_type": "execute_result",
          "data": {
            "text/plain": [
              "array([[0., 0., 0., 0., 0., 0., 1., 0.],\n",
              "       [0., 0., 0., 0., 1., 0., 0., 0.],\n",
              "       [0., 1., 0., 0., 0., 0., 0., 0.],\n",
              "       [0., 0., 0., 0., 0., 1., 0., 0.],\n",
              "       [0., 0., 0., 0., 0., 1., 0., 0.],\n",
              "       [1., 0., 0., 0., 0., 0., 0., 0.],\n",
              "       [1., 0., 0., 0., 0., 0., 0., 0.],\n",
              "       [0., 0., 0., 0., 0., 1., 0., 0.],\n",
              "       [0., 0., 0., 0., 0., 0., 1., 0.],\n",
              "       [0., 0., 0., 0., 0., 1., 0., 0.]])"
            ]
          },
          "metadata": {},
          "execution_count": 122
        }
      ],
      "source": [
        "y_train[:10]"
      ]
    },
    {
      "cell_type": "code",
      "execution_count": 123,
      "metadata": {
        "id": "cen4faX0dFJP",
        "colab": {
          "base_uri": "https://localhost:8080/"
        },
        "outputId": "b70f2a21-c58b-4a45-fdd5-6889dcb4a35e"
      },
      "outputs": [
        {
          "output_type": "stream",
          "name": "stdout",
          "text": [
            "Epoch 1/100\n",
            "1875/1875 [==============================] - 26s 13ms/step - loss: 2.0122 - accuracy: 0.1691 - val_loss: 1.9423 - val_accuracy: 0.2098\n",
            "Epoch 2/100\n",
            "1875/1875 [==============================] - 23s 12ms/step - loss: 1.9194 - accuracy: 0.2169 - val_loss: 1.8438 - val_accuracy: 0.2453\n",
            "Epoch 3/100\n",
            "1875/1875 [==============================] - 23s 12ms/step - loss: 1.8449 - accuracy: 0.2370 - val_loss: 1.7869 - val_accuracy: 0.2622\n",
            "Epoch 4/100\n",
            "1875/1875 [==============================] - 23s 12ms/step - loss: 1.7900 - accuracy: 0.2553 - val_loss: 1.7356 - val_accuracy: 0.2771\n",
            "Epoch 5/100\n",
            "1875/1875 [==============================] - 23s 12ms/step - loss: 1.7525 - accuracy: 0.2648 - val_loss: 1.7047 - val_accuracy: 0.2926\n",
            "Epoch 6/100\n",
            "1875/1875 [==============================] - 23s 12ms/step - loss: 1.7283 - accuracy: 0.2744 - val_loss: 1.6786 - val_accuracy: 0.2996\n",
            "Epoch 7/100\n",
            "1875/1875 [==============================] - 23s 12ms/step - loss: 1.7068 - accuracy: 0.2846 - val_loss: 1.6596 - val_accuracy: 0.3004\n",
            "Epoch 8/100\n",
            "1875/1875 [==============================] - 23s 12ms/step - loss: 1.6923 - accuracy: 0.2910 - val_loss: 1.6584 - val_accuracy: 0.2989\n",
            "Epoch 9/100\n",
            "1875/1875 [==============================] - 23s 12ms/step - loss: 1.6848 - accuracy: 0.2932 - val_loss: 1.6492 - val_accuracy: 0.3085\n",
            "Epoch 10/100\n",
            "1875/1875 [==============================] - 23s 12ms/step - loss: 1.6641 - accuracy: 0.3030 - val_loss: 1.6168 - val_accuracy: 0.3275\n",
            "Epoch 11/100\n",
            "1875/1875 [==============================] - 23s 12ms/step - loss: 1.6550 - accuracy: 0.3071 - val_loss: 1.6283 - val_accuracy: 0.3103\n",
            "Epoch 12/100\n",
            "1875/1875 [==============================] - 23s 12ms/step - loss: 1.6453 - accuracy: 0.3127 - val_loss: 1.5919 - val_accuracy: 0.3407\n",
            "Epoch 13/100\n",
            "1875/1875 [==============================] - 23s 12ms/step - loss: 1.6330 - accuracy: 0.3171 - val_loss: 1.5950 - val_accuracy: 0.3377\n",
            "Epoch 14/100\n",
            "1875/1875 [==============================] - 23s 12ms/step - loss: 1.6112 - accuracy: 0.3281 - val_loss: 1.5705 - val_accuracy: 0.3534\n",
            "Epoch 15/100\n",
            "1875/1875 [==============================] - 23s 12ms/step - loss: 1.6169 - accuracy: 0.3291 - val_loss: 1.5873 - val_accuracy: 0.3382\n",
            "Epoch 16/100\n",
            "1875/1875 [==============================] - 23s 12ms/step - loss: 1.6087 - accuracy: 0.3306 - val_loss: 1.5424 - val_accuracy: 0.3565\n",
            "Epoch 17/100\n",
            "1875/1875 [==============================] - 23s 12ms/step - loss: 1.5806 - accuracy: 0.3441 - val_loss: 1.5187 - val_accuracy: 0.3725\n",
            "Epoch 18/100\n",
            "1875/1875 [==============================] - 24s 13ms/step - loss: 1.5594 - accuracy: 0.3547 - val_loss: 1.5167 - val_accuracy: 0.3657\n",
            "Epoch 19/100\n",
            "1875/1875 [==============================] - 23s 12ms/step - loss: 1.5373 - accuracy: 0.3624 - val_loss: 1.4889 - val_accuracy: 0.3801\n",
            "Epoch 20/100\n",
            "1875/1875 [==============================] - 23s 12ms/step - loss: 1.5202 - accuracy: 0.3725 - val_loss: 1.5008 - val_accuracy: 0.3808\n",
            "Epoch 21/100\n",
            "1875/1875 [==============================] - 23s 12ms/step - loss: 1.5012 - accuracy: 0.3807 - val_loss: 1.4559 - val_accuracy: 0.4006\n",
            "Epoch 22/100\n",
            "1875/1875 [==============================] - 23s 12ms/step - loss: 1.5263 - accuracy: 0.3699 - val_loss: 1.4827 - val_accuracy: 0.3831\n",
            "Epoch 23/100\n",
            "1875/1875 [==============================] - 23s 12ms/step - loss: 1.4905 - accuracy: 0.3827 - val_loss: 1.4484 - val_accuracy: 0.4041\n",
            "Epoch 24/100\n",
            "1875/1875 [==============================] - 23s 12ms/step - loss: 1.4729 - accuracy: 0.3910 - val_loss: 1.4454 - val_accuracy: 0.4047\n",
            "Epoch 25/100\n",
            "1875/1875 [==============================] - 23s 12ms/step - loss: 1.4768 - accuracy: 0.3839 - val_loss: 1.4488 - val_accuracy: 0.4000\n",
            "Epoch 26/100\n",
            "1875/1875 [==============================] - 23s 12ms/step - loss: 1.4343 - accuracy: 0.4059 - val_loss: 1.3785 - val_accuracy: 0.4288\n",
            "Epoch 27/100\n",
            "1875/1875 [==============================] - 24s 13ms/step - loss: 1.4086 - accuracy: 0.4178 - val_loss: 1.3801 - val_accuracy: 0.4340\n",
            "Epoch 28/100\n",
            "1875/1875 [==============================] - 23s 12ms/step - loss: 1.3954 - accuracy: 0.4230 - val_loss: 1.3356 - val_accuracy: 0.4511\n",
            "Epoch 29/100\n",
            "1875/1875 [==============================] - 23s 12ms/step - loss: 1.3869 - accuracy: 0.4259 - val_loss: 1.3617 - val_accuracy: 0.4344\n",
            "Epoch 30/100\n",
            "1875/1875 [==============================] - 23s 12ms/step - loss: 1.3697 - accuracy: 0.4340 - val_loss: 1.3285 - val_accuracy: 0.4451\n",
            "Epoch 31/100\n",
            "1875/1875 [==============================] - 25s 13ms/step - loss: 1.3540 - accuracy: 0.4416 - val_loss: 1.3360 - val_accuracy: 0.4433\n",
            "Epoch 32/100\n",
            "1875/1875 [==============================] - 23s 12ms/step - loss: 1.3445 - accuracy: 0.4446 - val_loss: 1.3260 - val_accuracy: 0.4583\n",
            "Epoch 33/100\n",
            "1875/1875 [==============================] - 24s 13ms/step - loss: 1.3337 - accuracy: 0.4494 - val_loss: 1.2776 - val_accuracy: 0.4674\n",
            "Epoch 34/100\n",
            "1875/1875 [==============================] - 24s 13ms/step - loss: 1.3182 - accuracy: 0.4559 - val_loss: 1.2842 - val_accuracy: 0.4701\n",
            "Epoch 35/100\n",
            "1875/1875 [==============================] - 23s 12ms/step - loss: 1.3052 - accuracy: 0.4635 - val_loss: 1.2774 - val_accuracy: 0.4690\n",
            "Epoch 36/100\n",
            "1875/1875 [==============================] - 23s 12ms/step - loss: 1.3053 - accuracy: 0.4613 - val_loss: 1.2578 - val_accuracy: 0.4803\n",
            "Epoch 37/100\n",
            "1875/1875 [==============================] - 23s 12ms/step - loss: 1.2897 - accuracy: 0.4677 - val_loss: 1.2572 - val_accuracy: 0.4812\n",
            "Epoch 38/100\n",
            "1875/1875 [==============================] - 24s 13ms/step - loss: 1.2749 - accuracy: 0.4745 - val_loss: 1.2216 - val_accuracy: 0.4987\n",
            "Epoch 39/100\n",
            "1875/1875 [==============================] - 23s 12ms/step - loss: 1.2635 - accuracy: 0.4790 - val_loss: 1.2091 - val_accuracy: 0.5017\n",
            "Epoch 40/100\n",
            "1875/1875 [==============================] - 23s 12ms/step - loss: 1.2546 - accuracy: 0.4814 - val_loss: 1.2131 - val_accuracy: 0.5051\n",
            "Epoch 41/100\n",
            "1875/1875 [==============================] - 23s 12ms/step - loss: 1.2845 - accuracy: 0.4772 - val_loss: 1.3610 - val_accuracy: 0.4512\n",
            "Epoch 42/100\n",
            "1875/1875 [==============================] - 23s 12ms/step - loss: 1.2781 - accuracy: 0.4719 - val_loss: 1.2319 - val_accuracy: 0.4825\n",
            "Epoch 43/100\n",
            "1875/1875 [==============================] - 23s 12ms/step - loss: 1.2372 - accuracy: 0.4875 - val_loss: 1.1815 - val_accuracy: 0.5085\n",
            "Epoch 44/100\n",
            "1875/1875 [==============================] - 23s 12ms/step - loss: 1.2222 - accuracy: 0.4962 - val_loss: 1.1815 - val_accuracy: 0.5129\n",
            "Epoch 45/100\n",
            "1875/1875 [==============================] - 23s 12ms/step - loss: 1.2087 - accuracy: 0.4994 - val_loss: 1.1857 - val_accuracy: 0.5053\n",
            "Epoch 46/100\n",
            "1875/1875 [==============================] - 23s 12ms/step - loss: 1.1985 - accuracy: 0.5038 - val_loss: 1.1524 - val_accuracy: 0.5231\n",
            "Epoch 47/100\n",
            "1875/1875 [==============================] - 23s 12ms/step - loss: 1.1832 - accuracy: 0.5101 - val_loss: 1.1560 - val_accuracy: 0.5136\n",
            "Epoch 48/100\n",
            "1875/1875 [==============================] - 23s 12ms/step - loss: 1.1764 - accuracy: 0.5137 - val_loss: 1.1201 - val_accuracy: 0.5349\n",
            "Epoch 49/100\n",
            "1875/1875 [==============================] - 23s 12ms/step - loss: 1.1656 - accuracy: 0.5169 - val_loss: 1.1094 - val_accuracy: 0.5379\n",
            "Epoch 50/100\n",
            "1875/1875 [==============================] - 23s 12ms/step - loss: 1.1594 - accuracy: 0.5184 - val_loss: 1.1187 - val_accuracy: 0.5399\n",
            "Epoch 51/100\n",
            "1875/1875 [==============================] - 23s 12ms/step - loss: 1.1457 - accuracy: 0.5234 - val_loss: 1.1437 - val_accuracy: 0.5223\n",
            "Epoch 52/100\n",
            "1875/1875 [==============================] - 23s 12ms/step - loss: 1.1419 - accuracy: 0.5251 - val_loss: 1.0834 - val_accuracy: 0.5479\n",
            "Epoch 53/100\n",
            "1875/1875 [==============================] - 23s 12ms/step - loss: 1.1296 - accuracy: 0.5303 - val_loss: 1.0962 - val_accuracy: 0.5397\n",
            "Epoch 54/100\n",
            "1875/1875 [==============================] - 24s 13ms/step - loss: 1.1252 - accuracy: 0.5308 - val_loss: 1.1048 - val_accuracy: 0.5376\n",
            "Epoch 55/100\n",
            "1875/1875 [==============================] - 23s 12ms/step - loss: 1.1146 - accuracy: 0.5376 - val_loss: 1.0798 - val_accuracy: 0.5513\n",
            "Epoch 56/100\n",
            "1875/1875 [==============================] - 23s 12ms/step - loss: 1.1085 - accuracy: 0.5385 - val_loss: 1.0712 - val_accuracy: 0.5553\n",
            "Epoch 57/100\n",
            "1875/1875 [==============================] - 23s 12ms/step - loss: 1.0983 - accuracy: 0.5425 - val_loss: 1.0718 - val_accuracy: 0.5496\n",
            "Epoch 58/100\n",
            "1875/1875 [==============================] - 23s 12ms/step - loss: 1.0926 - accuracy: 0.5466 - val_loss: 1.0613 - val_accuracy: 0.5531\n",
            "Epoch 59/100\n",
            "1875/1875 [==============================] - 23s 12ms/step - loss: 1.0844 - accuracy: 0.5484 - val_loss: 1.0525 - val_accuracy: 0.5676\n",
            "Epoch 60/100\n",
            "1875/1875 [==============================] - 23s 12ms/step - loss: 1.0767 - accuracy: 0.5522 - val_loss: 1.0116 - val_accuracy: 0.5838\n",
            "Epoch 61/100\n",
            "1875/1875 [==============================] - 25s 13ms/step - loss: 1.0729 - accuracy: 0.5552 - val_loss: 1.0255 - val_accuracy: 0.5793\n",
            "Epoch 62/100\n",
            "1875/1875 [==============================] - 23s 12ms/step - loss: 1.0640 - accuracy: 0.5601 - val_loss: 1.0322 - val_accuracy: 0.5765\n",
            "Epoch 63/100\n",
            "1875/1875 [==============================] - 23s 12ms/step - loss: 1.0611 - accuracy: 0.5609 - val_loss: 1.0090 - val_accuracy: 0.5817\n",
            "Epoch 64/100\n",
            "1875/1875 [==============================] - 23s 12ms/step - loss: 1.0534 - accuracy: 0.5644 - val_loss: 1.0464 - val_accuracy: 0.5669\n",
            "Epoch 65/100\n",
            "1875/1875 [==============================] - 25s 13ms/step - loss: 1.0466 - accuracy: 0.5677 - val_loss: 1.0272 - val_accuracy: 0.5741\n",
            "Epoch 66/100\n",
            "1875/1875 [==============================] - 23s 12ms/step - loss: 1.0420 - accuracy: 0.5673 - val_loss: 1.0459 - val_accuracy: 0.5676\n",
            "Epoch 67/100\n",
            "1875/1875 [==============================] - 23s 12ms/step - loss: 1.0393 - accuracy: 0.5704 - val_loss: 1.0379 - val_accuracy: 0.5711\n",
            "Epoch 68/100\n",
            "1875/1875 [==============================] - 23s 12ms/step - loss: 1.0317 - accuracy: 0.5750 - val_loss: 0.9890 - val_accuracy: 0.5852\n",
            "Epoch 69/100\n",
            "1875/1875 [==============================] - 24s 13ms/step - loss: 1.0347 - accuracy: 0.5708 - val_loss: 0.9713 - val_accuracy: 0.6018\n",
            "Epoch 70/100\n",
            "1875/1875 [==============================] - 23s 12ms/step - loss: 1.0238 - accuracy: 0.5778 - val_loss: 0.9702 - val_accuracy: 0.5971\n",
            "Epoch 71/100\n",
            "1875/1875 [==============================] - 23s 12ms/step - loss: 1.0126 - accuracy: 0.5836 - val_loss: 0.9885 - val_accuracy: 0.5949\n",
            "Epoch 72/100\n",
            "1875/1875 [==============================] - 23s 12ms/step - loss: 1.0087 - accuracy: 0.5847 - val_loss: 0.9761 - val_accuracy: 0.5956\n",
            "Epoch 73/100\n",
            "1875/1875 [==============================] - 23s 12ms/step - loss: 1.0058 - accuracy: 0.5858 - val_loss: 0.9692 - val_accuracy: 0.6027\n",
            "Epoch 74/100\n",
            "1875/1875 [==============================] - 23s 13ms/step - loss: 0.9920 - accuracy: 0.5902 - val_loss: 0.9497 - val_accuracy: 0.6064\n",
            "Epoch 75/100\n",
            "1875/1875 [==============================] - 23s 12ms/step - loss: 0.9953 - accuracy: 0.5910 - val_loss: 0.9886 - val_accuracy: 0.5959\n",
            "Epoch 76/100\n",
            "1875/1875 [==============================] - 23s 12ms/step - loss: 0.9891 - accuracy: 0.5935 - val_loss: 0.9425 - val_accuracy: 0.6089\n",
            "Epoch 77/100\n",
            "1875/1875 [==============================] - 23s 12ms/step - loss: 0.9733 - accuracy: 0.6016 - val_loss: 0.9376 - val_accuracy: 0.6082\n",
            "Epoch 78/100\n",
            "1875/1875 [==============================] - 23s 12ms/step - loss: 0.9718 - accuracy: 0.6015 - val_loss: 0.9359 - val_accuracy: 0.6100\n",
            "Epoch 79/100\n",
            "1875/1875 [==============================] - 23s 12ms/step - loss: 0.9702 - accuracy: 0.6041 - val_loss: 0.9316 - val_accuracy: 0.6194\n",
            "Epoch 80/100\n",
            "1875/1875 [==============================] - 23s 12ms/step - loss: 0.9577 - accuracy: 0.6090 - val_loss: 0.9319 - val_accuracy: 0.6203\n",
            "Epoch 81/100\n",
            "1875/1875 [==============================] - 23s 12ms/step - loss: 0.9521 - accuracy: 0.6122 - val_loss: 0.9204 - val_accuracy: 0.6219\n",
            "Epoch 82/100\n",
            "1875/1875 [==============================] - 23s 12ms/step - loss: 0.9462 - accuracy: 0.6133 - val_loss: 0.9218 - val_accuracy: 0.6221\n",
            "Epoch 83/100\n",
            "1875/1875 [==============================] - 23s 12ms/step - loss: 0.9412 - accuracy: 0.6170 - val_loss: 0.9040 - val_accuracy: 0.6251\n",
            "Epoch 84/100\n",
            "1875/1875 [==============================] - 23s 12ms/step - loss: 0.9349 - accuracy: 0.6195 - val_loss: 0.8780 - val_accuracy: 0.6447\n",
            "Epoch 85/100\n",
            "1875/1875 [==============================] - 23s 12ms/step - loss: 0.9328 - accuracy: 0.6203 - val_loss: 0.9154 - val_accuracy: 0.6271\n",
            "Epoch 86/100\n",
            "1875/1875 [==============================] - 23s 12ms/step - loss: 0.9243 - accuracy: 0.6239 - val_loss: 0.8729 - val_accuracy: 0.6385\n",
            "Epoch 87/100\n",
            "1875/1875 [==============================] - 25s 13ms/step - loss: 0.9198 - accuracy: 0.6245 - val_loss: 0.8939 - val_accuracy: 0.6279\n",
            "Epoch 88/100\n",
            "1875/1875 [==============================] - 24s 13ms/step - loss: 0.9168 - accuracy: 0.6278 - val_loss: 0.8791 - val_accuracy: 0.6402\n",
            "Epoch 89/100\n",
            "1875/1875 [==============================] - 23s 12ms/step - loss: 0.9092 - accuracy: 0.6310 - val_loss: 0.8816 - val_accuracy: 0.6379\n",
            "Epoch 90/100\n",
            "1875/1875 [==============================] - 24s 13ms/step - loss: 0.9017 - accuracy: 0.6343 - val_loss: 0.8590 - val_accuracy: 0.6459\n",
            "Epoch 91/100\n",
            "1875/1875 [==============================] - 23s 13ms/step - loss: 0.8975 - accuracy: 0.6366 - val_loss: 0.8443 - val_accuracy: 0.6563\n",
            "Epoch 92/100\n",
            "1875/1875 [==============================] - 23s 12ms/step - loss: 0.8949 - accuracy: 0.6367 - val_loss: 0.8866 - val_accuracy: 0.6323\n",
            "Epoch 93/100\n",
            "1875/1875 [==============================] - 25s 13ms/step - loss: 0.8852 - accuracy: 0.6417 - val_loss: 0.8664 - val_accuracy: 0.6476\n",
            "Epoch 94/100\n",
            "1875/1875 [==============================] - 23s 12ms/step - loss: 0.8832 - accuracy: 0.6415 - val_loss: 0.8551 - val_accuracy: 0.6517\n",
            "Epoch 95/100\n",
            "1875/1875 [==============================] - 23s 12ms/step - loss: 0.8743 - accuracy: 0.6461 - val_loss: 0.8533 - val_accuracy: 0.6533\n",
            "Epoch 96/100\n",
            "1875/1875 [==============================] - 23s 12ms/step - loss: 0.8759 - accuracy: 0.6450 - val_loss: 0.8223 - val_accuracy: 0.6657\n",
            "Epoch 97/100\n",
            "1875/1875 [==============================] - 25s 13ms/step - loss: 0.8662 - accuracy: 0.6512 - val_loss: 0.8613 - val_accuracy: 0.6508\n",
            "Epoch 98/100\n",
            "1875/1875 [==============================] - 25s 13ms/step - loss: 0.8618 - accuracy: 0.6522 - val_loss: 0.8421 - val_accuracy: 0.6528\n",
            "Epoch 99/100\n",
            "1875/1875 [==============================] - 23s 12ms/step - loss: 0.8610 - accuracy: 0.6530 - val_loss: 0.8421 - val_accuracy: 0.6580\n",
            "Epoch 100/100\n",
            "1875/1875 [==============================] - 25s 13ms/step - loss: 0.8466 - accuracy: 0.6592 - val_loss: 0.8126 - val_accuracy: 0.6686\n"
          ]
        }
      ],
      "source": [
        "history = model.fit(X_train, y_train, batch_size=64, epochs=100, validation_data=(X_val, y_val))\n",
        "#model.save('NewAllDataModel_E100_B64.h5')"
      ]
    },
    {
      "cell_type": "code",
      "execution_count": 124,
      "metadata": {
        "id": "R7QQeqVidKBR",
        "colab": {
          "base_uri": "https://localhost:8080/"
        },
        "outputId": "040d7e85-b212-431e-d91a-a19be6c10798"
      },
      "outputs": [
        {
          "output_type": "stream",
          "name": "stdout",
          "text": [
            "469/469 [==============================] - 3s 6ms/step - loss: 0.7968 - accuracy: 0.6753\n"
          ]
        }
      ],
      "source": [
        "test_acc = model.evaluate(X_test, y_test)"
      ]
    },
    {
      "cell_type": "code",
      "source": [
        "test_acc"
      ],
      "metadata": {
        "id": "6fuTmgGrUgGg",
        "colab": {
          "base_uri": "https://localhost:8080/"
        },
        "outputId": "5a332b75-96cc-4425-cfd2-b663f2afc962"
      },
      "execution_count": 125,
      "outputs": [
        {
          "output_type": "execute_result",
          "data": {
            "text/plain": [
              "[0.7967675924301147, 0.675266683101654]"
            ]
          },
          "metadata": {},
          "execution_count": 125
        }
      ]
    },
    {
      "cell_type": "code",
      "execution_count": 126,
      "metadata": {
        "id": "OHpifyqGdKn-",
        "colab": {
          "base_uri": "https://localhost:8080/"
        },
        "outputId": "2bb3d8e2-e28b-4fe1-b469-2acff97d713a"
      },
      "outputs": [
        {
          "output_type": "stream",
          "name": "stdout",
          "text": [
            "469/469 [==============================] - 2s 4ms/step\n"
          ]
        }
      ],
      "source": [
        "y_test_prob = model.predict(X_test, verbose=1)"
      ]
    },
    {
      "cell_type": "code",
      "source": [
        "np.set_printoptions(suppress=True)\n",
        "y_test_prob_backup = y_test_prob\n",
        "y_test_prob"
      ],
      "metadata": {
        "id": "rRPswrrkmhp2",
        "colab": {
          "base_uri": "https://localhost:8080/"
        },
        "outputId": "a112f8fa-621a-4144-adf5-1784422e4b87"
      },
      "execution_count": 127,
      "outputs": [
        {
          "output_type": "execute_result",
          "data": {
            "text/plain": [
              "array([[0.46, 0.  , 0.  , ..., 0.  , 0.01, 0.53],\n",
              "       [0.  , 0.  , 0.  , ..., 0.02, 0.97, 0.01],\n",
              "       [0.  , 0.  , 0.  , ..., 0.  , 0.89, 0.11],\n",
              "       ...,\n",
              "       [0.03, 0.  , 0.  , ..., 0.01, 0.2 , 0.76],\n",
              "       [0.  , 0.  , 0.02, ..., 0.26, 0.  , 0.  ],\n",
              "       [0.  , 0.6 , 0.38, ..., 0.  , 0.  , 0.  ]], dtype=float32)"
            ]
          },
          "metadata": {},
          "execution_count": 127
        }
      ]
    },
    {
      "cell_type": "code",
      "source": [
        "plt.figure(figsize=(10,10))\n",
        "plt.hist(y_test_prob_backup)"
      ],
      "metadata": {
        "colab": {
          "base_uri": "https://localhost:8080/",
          "height": 939
        },
        "id": "qsgK5XvWjrAP",
        "outputId": "91c23eb8-24c2-4d8f-8d82-1192b1a91c45"
      },
      "execution_count": 128,
      "outputs": [
        {
          "output_type": "execute_result",
          "data": {
            "text/plain": [
              "(array([[12192.,   425.,   253.,   177.,   166.,   141.,   166.,   197.,\n",
              "           369.,   914.],\n",
              "        [11626.,   870.,   398.,   300.,   222.,   182.,   157.,   161.,\n",
              "           252.,   832.],\n",
              "        [10274.,  1546.,   753.,   595.,   435.,   412.,   405.,   315.,\n",
              "           252.,    13.],\n",
              "        [10152.,  1466.,   963.,   750.,   524.,   355.,   275.,   214.,\n",
              "           216.,    85.],\n",
              "        [10142.,  1516.,  1110.,   869.,   562.,   264.,   134.,   125.,\n",
              "           126.,   152.],\n",
              "        [ 9892.,  1434.,  1194.,   922.,   508.,   311.,   191.,   146.,\n",
              "           174.,   228.],\n",
              "        [10692.,  1259.,   822.,   611.,   403.,   279.,   198.,   175.,\n",
              "           213.,   348.],\n",
              "        [11314.,   922.,   501.,   391.,   329.,   323.,   268.,   247.,\n",
              "           195.,   510.]]),\n",
              " array([0. , 0.1, 0.2, 0.3, 0.4, 0.5, 0.6, 0.7, 0.8, 0.9, 1. ],\n",
              "       dtype=float32),\n",
              " <a list of 8 Lists of Patches objects>)"
            ]
          },
          "metadata": {},
          "execution_count": 128
        },
        {
          "output_type": "display_data",
          "data": {
            "text/plain": [
              "<Figure size 720x720 with 1 Axes>"
            ],
            "image/png": "[encoded data removed]"
          },
          "metadata": {
            "needs_background": "light"
          }
        }
      ]
    },
    {
      "cell_type": "code",
      "source": [
        "y_test_prob_backup[:10]"
      ],
      "metadata": {
        "colab": {
          "base_uri": "https://localhost:8080/"
        },
        "id": "M6Xj4ugPx610",
        "outputId": "c126a564-9033-4353-a680-5c9bdc91a10c"
      },
      "execution_count": 129,
      "outputs": [
        {
          "output_type": "execute_result",
          "data": {
            "text/plain": [
              "array([[0.46, 0.  , 0.  , 0.  , 0.  , 0.  , 0.01, 0.53],\n",
              "       [0.  , 0.  , 0.  , 0.  , 0.  , 0.02, 0.97, 0.01],\n",
              "       [0.  , 0.  , 0.  , 0.  , 0.  , 0.  , 0.89, 0.11],\n",
              "       [0.  , 0.  , 0.  , 0.  , 0.02, 0.98, 0.01, 0.  ],\n",
              "       [0.  , 0.  , 0.01, 0.02, 0.06, 0.49, 0.4 , 0.01],\n",
              "       [0.92, 0.  , 0.  , 0.  , 0.  , 0.  , 0.  , 0.08],\n",
              "       [0.  , 0.03, 0.18, 0.32, 0.28, 0.19, 0.01, 0.  ],\n",
              "       [0.  , 0.11, 0.25, 0.13, 0.09, 0.34, 0.09, 0.01],\n",
              "       [0.05, 0.  , 0.  , 0.  , 0.  , 0.01, 0.2 , 0.75],\n",
              "       [0.  , 0.01, 0.12, 0.25, 0.25, 0.27, 0.08, 0.01]], dtype=float32)"
            ]
          },
          "metadata": {},
          "execution_count": 129
        }
      ]
    },
    {
      "cell_type": "code",
      "source": [
        "c0, c1, c2, c3, c4, c5, c6, c7 = [], [], [], [], [], [], [], []\n",
        "\n",
        "i = 0\n",
        "l = len(y_test_prob_backup)\n",
        "while  l > 0:\n",
        "  c0.append(y_test_prob_backup[i][0])\n",
        "  c1.append(y_test_prob_backup[i][1])\n",
        "  c2.append(y_test_prob_backup[i][2])\n",
        "  c3.append(y_test_prob_backup[i][3])\n",
        "  c4.append(y_test_prob_backup[i][4])\n",
        "  c5.append(y_test_prob_backup[i][5])\n",
        "  c6.append(y_test_prob_backup[i][6])\n",
        "  c7.append(y_test_prob_backup[i][7])\n",
        "  i+=1\n",
        "  l-=1\n",
        "#print(c5[:10])"
      ],
      "metadata": {
        "id": "IjD61mD7yTuY"
      },
      "execution_count": 130,
      "outputs": []
    },
    {
      "cell_type": "code",
      "source": [
        "#plt.figure(figsize=(40,20))\n",
        "fig, axes = plt.subplots(nrows=2, ncols=4)\n",
        "ax0, ax1, ax2, ax3, ax4, ax5, ax6, ax7 = axes.flatten()\n",
        "\n",
        "ax0.hist(c0, bins=20)\n",
        "ax0.set_title(\"class 0\")\n",
        "ax1.hist(c1, bins=20)\n",
        "ax1.set_title(\"class 1\")\n",
        "ax2.hist(c2, bins=20)\n",
        "ax2.set_title(\"class 2\")\n",
        "ax3.hist(c3, bins=20)\n",
        "ax3.set_title(\"class 3\")\n",
        "ax4.hist(c4, bins=20)\n",
        "ax4.set_title(\"class 4\")\n",
        "ax5.hist(c5, bins=20)\n",
        "ax5.set_title(\"class 5\")\n",
        "ax6.hist(c6, bins=20)\n",
        "ax6.set_title(\"class 6\")\n",
        "ax7.hist(c7, bins=20)\n",
        "ax7.set_title(\"class 7\")\n",
        "\n",
        "fig.set_size_inches(25,10)\n",
        "plt.show()\n"
      ],
      "metadata": {
        "colab": {
          "base_uri": "https://localhost:8080/",
          "height": 609
        },
        "id": "z1rhvO7GCj7t",
        "outputId": "e7e60afb-7c5f-4d26-c454-3bd77fda840a"
      },
      "execution_count": 131,
      "outputs": [
        {
          "output_type": "display_data",
          "data": {
            "text/plain": [
              "<Figure size 1800x720 with 8 Axes>"
            ],
            "image/png": "[encoded data removed]"
          },
          "metadata": {
            "needs_background": "light"
          }
        }
      ]
    },
    {
      "cell_type": "code",
      "source": [
        "fig, axes = plt.subplots(nrows=2, ncols=4)\n",
        "ax0, ax1, ax2, ax3, ax4, ax5, ax6, ax7 = axes.flatten()\n",
        "\n",
        "ax0.plot(np.fft.fft(c0))\n",
        "ax0.set_title(\"class 0\")\n",
        "ax1.plot(np.fft.fft(c1))\n",
        "ax1.set_title(\"class 1\")\n",
        "ax2.plot(np.fft.fft(c2))\n",
        "ax2.set_title(\"class 2\")\n",
        "ax3.plot(np.fft.fft(c3))\n",
        "ax3.set_title(\"class 3\")\n",
        "ax4.plot(np.fft.fft(c4))\n",
        "ax4.set_title(\"class 4\")\n",
        "ax5.plot(np.fft.fft(c5))\n",
        "ax5.set_title(\"class 5\")\n",
        "ax6.plot(np.fft.fft(c6))\n",
        "ax6.set_title(\"class 6\")\n",
        "ax7.plot(np.fft.fft(c7))\n",
        "ax7.set_title(\"class 7\")\n",
        "\n",
        "fig.set_size_inches(25,10)\n",
        "plt.show()"
      ],
      "metadata": {
        "colab": {
          "base_uri": "https://localhost:8080/",
          "height": 609
        },
        "id": "42iDU40-KLvb",
        "outputId": "e5cc8bce-b9fd-43c9-f266-61e292ba77f6"
      },
      "execution_count": 132,
      "outputs": [
        {
          "output_type": "display_data",
          "data": {
            "text/plain": [
              "<Figure size 1800x720 with 8 Axes>"
            ],
            "image/png": "[encoded data removed]"
          },
          "metadata": {
            "needs_background": "light"
          }
        }
      ]
    },
    {
      "cell_type": "code",
      "execution_count": 133,
      "metadata": {
        "id": "AfmdrBILdMwj"
      },
      "outputs": [],
      "source": [
        "y_test_pred = np.where(y_test_prob > 0.5, 1, 0)"
      ]
    },
    {
      "cell_type": "code",
      "execution_count": 134,
      "metadata": {
        "id": "8DoJy_p9dPzN"
      },
      "outputs": [],
      "source": [
        "from sklearn.metrics import multilabel_confusion_matrix"
      ]
    },
    {
      "cell_type": "code",
      "source": [
        "y_test"
      ],
      "metadata": {
        "id": "n1Us2yrfcGl-",
        "colab": {
          "base_uri": "https://localhost:8080/"
        },
        "outputId": "a328abc1-8cec-4490-9ccd-7f1abe92e3e4"
      },
      "execution_count": 135,
      "outputs": [
        {
          "output_type": "execute_result",
          "data": {
            "text/plain": [
              "array([[1., 0., 0., ..., 0., 0., 0.],\n",
              "       [0., 0., 0., ..., 0., 1., 0.],\n",
              "       [0., 0., 0., ..., 0., 1., 0.],\n",
              "       ...,\n",
              "       [0., 0., 0., ..., 0., 0., 1.],\n",
              "       [0., 0., 0., ..., 0., 0., 0.],\n",
              "       [0., 1., 0., ..., 0., 0., 0.]])"
            ]
          },
          "metadata": {},
          "execution_count": 135
        }
      ]
    },
    {
      "cell_type": "code",
      "source": [
        "y_test.shape"
      ],
      "metadata": {
        "id": "VnmvTcvWbxr9",
        "colab": {
          "base_uri": "https://localhost:8080/"
        },
        "outputId": "9e616756-600b-4d90-cdc2-4d75dae95971"
      },
      "execution_count": 136,
      "outputs": [
        {
          "output_type": "execute_result",
          "data": {
            "text/plain": [
              "(15000, 8)"
            ]
          },
          "metadata": {},
          "execution_count": 136
        }
      ]
    },
    {
      "cell_type": "code",
      "source": [
        "y_test_pred"
      ],
      "metadata": {
        "id": "nMBOgzrgcJBj",
        "colab": {
          "base_uri": "https://localhost:8080/"
        },
        "outputId": "365e237f-d9a3-4561-92f7-9762107bb423"
      },
      "execution_count": 137,
      "outputs": [
        {
          "output_type": "execute_result",
          "data": {
            "text/plain": [
              "array([[0, 0, 0, ..., 0, 0, 1],\n",
              "       [0, 0, 0, ..., 0, 1, 0],\n",
              "       [0, 0, 0, ..., 0, 1, 0],\n",
              "       ...,\n",
              "       [0, 0, 0, ..., 0, 0, 1],\n",
              "       [0, 0, 0, ..., 0, 0, 0],\n",
              "       [0, 1, 0, ..., 0, 0, 0]])"
            ]
          },
          "metadata": {},
          "execution_count": 137
        }
      ]
    },
    {
      "cell_type": "code",
      "source": [
        "y_test_pred.shape"
      ],
      "metadata": {
        "id": "SXKZof8Ye5uI",
        "colab": {
          "base_uri": "https://localhost:8080/"
        },
        "outputId": "024c33ab-9a70-4802-ce59-80787138b263"
      },
      "execution_count": 138,
      "outputs": [
        {
          "output_type": "execute_result",
          "data": {
            "text/plain": [
              "(15000, 8)"
            ]
          },
          "metadata": {},
          "execution_count": 138
        }
      ]
    },
    {
      "cell_type": "code",
      "source": [
        "y_decoded_pred = tf.argmax(y_test_pred, axis = 1)"
      ],
      "metadata": {
        "id": "leDQwKOjgwwi"
      },
      "execution_count": 139,
      "outputs": []
    },
    {
      "cell_type": "code",
      "source": [
        "y_decoded = tf.argmax(y_test, axis = 1)"
      ],
      "metadata": {
        "id": "sAHRmtesif6g"
      },
      "execution_count": 140,
      "outputs": []
    },
    {
      "cell_type": "code",
      "source": [
        "y_decoded_pred"
      ],
      "metadata": {
        "id": "_lvFhrmPhprD",
        "colab": {
          "base_uri": "https://localhost:8080/"
        },
        "outputId": "e7a73916-f2bc-4e12-8439-6892584e39f7"
      },
      "execution_count": 141,
      "outputs": [
        {
          "output_type": "execute_result",
          "data": {
            "text/plain": [
              "<tf.Tensor: shape=(15000,), dtype=int64, numpy=array([7, 6, 6, ..., 7, 4, 1])>"
            ]
          },
          "metadata": {},
          "execution_count": 141
        }
      ]
    },
    {
      "cell_type": "code",
      "source": [
        "y_decoded"
      ],
      "metadata": {
        "id": "YV1FXgHviPwm",
        "colab": {
          "base_uri": "https://localhost:8080/"
        },
        "outputId": "44764a03-7941-4910-ee80-b3fd6ef24f13"
      },
      "execution_count": 142,
      "outputs": [
        {
          "output_type": "execute_result",
          "data": {
            "text/plain": [
              "<tf.Tensor: shape=(15000,), dtype=int64, numpy=array([0, 6, 6, ..., 7, 4, 1])>"
            ]
          },
          "metadata": {},
          "execution_count": 142
        }
      ]
    },
    {
      "cell_type": "code",
      "source": [
        "y_test_pred = y_decoded_pred\n"
      ],
      "metadata": {
        "id": "6-6jFqzGh380"
      },
      "execution_count": 143,
      "outputs": []
    },
    {
      "cell_type": "code",
      "source": [
        "y_test = y_decoded"
      ],
      "metadata": {
        "id": "9pogVvdIiwss"
      },
      "execution_count": 144,
      "outputs": []
    },
    {
      "cell_type": "code",
      "source": [
        "y_test"
      ],
      "metadata": {
        "id": "oGt5aJetiKR6",
        "colab": {
          "base_uri": "https://localhost:8080/"
        },
        "outputId": "5e1a09a6-498e-4b49-eec3-8df37c188cbe"
      },
      "execution_count": 145,
      "outputs": [
        {
          "output_type": "execute_result",
          "data": {
            "text/plain": [
              "<tf.Tensor: shape=(15000,), dtype=int64, numpy=array([0, 6, 6, ..., 7, 4, 1])>"
            ]
          },
          "metadata": {},
          "execution_count": 145
        }
      ]
    },
    {
      "cell_type": "code",
      "source": [
        "y_test_pred"
      ],
      "metadata": {
        "id": "fLgDwAIfiyv2",
        "colab": {
          "base_uri": "https://localhost:8080/"
        },
        "outputId": "03de32a3-0ab2-4953-9831-fde8c846687e"
      },
      "execution_count": 146,
      "outputs": [
        {
          "output_type": "execute_result",
          "data": {
            "text/plain": [
              "<tf.Tensor: shape=(15000,), dtype=int64, numpy=array([7, 6, 6, ..., 7, 4, 1])>"
            ]
          },
          "metadata": {},
          "execution_count": 146
        }
      ]
    },
    {
      "cell_type": "code",
      "execution_count": 147,
      "metadata": {
        "id": "fTCsPjW8dQaZ"
      },
      "outputs": [],
      "source": [
        "cfm=confusion_matrix(y_test, y_test_pred)"
      ]
    },
    {
      "cell_type": "code",
      "source": [
        "cfm"
      ],
      "metadata": {
        "id": "_67lPg6ic4cH",
        "colab": {
          "base_uri": "https://localhost:8080/"
        },
        "outputId": "130717da-c0a7-4a03-c343-843307e79054"
      },
      "execution_count": 148,
      "outputs": [
        {
          "output_type": "execute_result",
          "data": {
            "text/plain": [
              "array([[1674,    4,    0,    0,    0,    0,    4,  177],\n",
              "       [ 251, 1389,  272,    8,    6,    6,    0,   18],\n",
              "       [ 605,  176,  957,   95,    4,   10,    3,    5],\n",
              "       [ 706,    6,  142,  817,  116,   27,    0,    0],\n",
              "       [ 864,    2,   13,  204,  606,  156,   16,    0],\n",
              "       [1011,    2,    7,   18,   59,  765,   84,    7],\n",
              "       [ 705,    0,    2,    0,    6,   85,  967,  117],\n",
              "       [ 467,    5,    0,    0,    0,    0,  136, 1218]])"
            ]
          },
          "metadata": {},
          "execution_count": 148
        }
      ]
    },
    {
      "cell_type": "code",
      "source": [
        " print(classification_report(y_test,y_test_pred))"
      ],
      "metadata": {
        "id": "XTqR_xnwRWCJ",
        "colab": {
          "base_uri": "https://localhost:8080/"
        },
        "outputId": "630cd38c-43e2-4055-b88d-084add93e57f"
      },
      "execution_count": 149,
      "outputs": [
        {
          "output_type": "stream",
          "name": "stdout",
          "text": [
            "              precision    recall  f1-score   support\n",
            "\n",
            "           0       0.27      0.90      0.41      1859\n",
            "           1       0.88      0.71      0.79      1950\n",
            "           2       0.69      0.52      0.59      1855\n",
            "           3       0.72      0.45      0.55      1814\n",
            "           4       0.76      0.33      0.46      1861\n",
            "           5       0.73      0.39      0.51      1953\n",
            "           6       0.80      0.51      0.63      1882\n",
            "           7       0.79      0.67      0.72      1826\n",
            "\n",
            "    accuracy                           0.56     15000\n",
            "   macro avg       0.70      0.56      0.58     15000\n",
            "weighted avg       0.70      0.56      0.58     15000\n",
            "\n"
          ]
        }
      ]
    },
    {
      "cell_type": "code",
      "execution_count": 150,
      "metadata": {
        "id": "te3fslrY9Eca",
        "colab": {
          "base_uri": "https://localhost:8080/",
          "height": 905
        },
        "outputId": "a5ff1646-1a19-46cb-da04-f2a7f82b1349"
      },
      "outputs": [
        {
          "output_type": "stream",
          "name": "stdout",
          "text": [
            "Confusion matrix, without normalization\n",
            "[[1674    4    0    0    0    0    4  177]\n",
            " [ 251 1389  272    8    6    6    0   18]\n",
            " [ 605  176  957   95    4   10    3    5]\n",
            " [ 706    6  142  817  116   27    0    0]\n",
            " [ 864    2   13  204  606  156   16    0]\n",
            " [1011    2    7   18   59  765   84    7]\n",
            " [ 705    0    2    0    6   85  967  117]\n",
            " [ 467    5    0    0    0    0  136 1218]]\n",
            "Normalized confusion matrix\n",
            "[[0.9  0.   0.   0.   0.   0.   0.   0.1 ]\n",
            " [0.13 0.71 0.14 0.   0.   0.   0.   0.01]\n",
            " [0.33 0.09 0.52 0.05 0.   0.01 0.   0.  ]\n",
            " [0.39 0.   0.08 0.45 0.06 0.01 0.   0.  ]\n",
            " [0.46 0.   0.01 0.11 0.33 0.08 0.01 0.  ]\n",
            " [0.52 0.   0.   0.01 0.03 0.39 0.04 0.  ]\n",
            " [0.37 0.   0.   0.   0.   0.05 0.51 0.06]\n",
            " [0.26 0.   0.   0.   0.   0.   0.07 0.67]]\n"
          ]
        },
        {
          "output_type": "display_data",
          "data": {
            "text/plain": [
              "<Figure size 432x288 with 2 Axes>"
            ],
            "image/png": "[encoded data removed]"
          },
          "metadata": {
            "needs_background": "light"
          }
        },
        {
          "output_type": "display_data",
          "data": {
            "text/plain": [
              "<Figure size 432x288 with 2 Axes>"
            ],
            "image/png": "[encoded data removed]"
          },
          "metadata": {
            "needs_background": "light"
          }
        }
      ],
      "source": [
        "import numpy as np\n",
        "import matplotlib.pyplot as plt\n",
        "\n",
        "from sklearn import svm, datasets\n",
        "from sklearn.model_selection import train_test_split\n",
        "from sklearn.metrics import confusion_matrix\n",
        "from sklearn.utils.multiclass import unique_labels\n",
        "\n",
        "class_names = np.array(['0', '1', '2', '3', '4', '5', '6', '7'])\n",
        "\n",
        "def plot_confusion_matrix(y_true, y_pred, classes,\n",
        "                          normalize=False,\n",
        "                          title=None,\n",
        "                          cmap=plt.cm.Blues):\n",
        "    \"\"\"\n",
        "    This function prints and plots the confusion matrix.\n",
        "    Normalization can be applied by setting `normalize=True`.\n",
        "    \"\"\"\n",
        "    if not title:\n",
        "        if normalize:\n",
        "            title = 'Normalized confusion matrix'\n",
        "        else:\n",
        "            title = 'Confusion matrix, without normalization'\n",
        "\n",
        "    # Compute confusion matrix\n",
        "    cm = confusion_matrix(y_true, y_pred)\n",
        "    # Only use the labels that appear in the data\n",
        "    classes = classes[unique_labels(y_true, y_pred)]\n",
        "    if normalize:\n",
        "        cm = cm.astype('float') / cm.sum(axis=1)[:, np.newaxis]\n",
        "        print(\"Normalized confusion matrix\")\n",
        "    else:\n",
        "        print('Confusion matrix, without normalization')\n",
        "\n",
        "    print(cm)\n",
        "\n",
        "    fig, ax = plt.subplots()\n",
        "    im = ax.imshow(cm, interpolation='nearest', cmap=cmap)\n",
        "    ax.figure.colorbar(im, ax=ax)\n",
        "    # We want to show all ticks...\n",
        "    ax.set(xticks=np.arange(cm.shape[1]),\n",
        "           yticks=np.arange(cm.shape[0]),\n",
        "           # ... and label them with the respective list entries\n",
        "           xticklabels=classes, yticklabels=classes,\n",
        "           title=title,\n",
        "           ylabel='True label',\n",
        "           xlabel='Predicted label')\n",
        "\n",
        "    # Rotate the tick labels and set their alignment.\n",
        "    plt.setp(ax.get_xticklabels(), rotation=45, ha=\"right\",\n",
        "             rotation_mode=\"anchor\")\n",
        "\n",
        "    # Loop over data dimensions and create text annotations.\n",
        "    fmt = '.2f' if normalize else 'd'\n",
        "    thresh = cm.max() / 2.\n",
        "    for i in range(cm.shape[0]):\n",
        "        for j in range(cm.shape[1]):\n",
        "            ax.text(j, i, format(cm[i, j], fmt),\n",
        "                    ha=\"center\", va=\"center\",\n",
        "                    color=\"white\" if cm[i, j] > thresh else \"black\")\n",
        "    fig.tight_layout()\n",
        "\n",
        "    return ax\n",
        "\n",
        "\n",
        "np.set_printoptions(precision=2)\n",
        "\n",
        "# Plot non-normalized confusion matrix\n",
        "plot_confusion_matrix(y_test, y_test_pred, classes=class_names,\n",
        "                      title='Confusion matrix, without normalization')\n",
        "\n",
        "# Plot normalized confusion matrix\n",
        "plot_confusion_matrix(y_test, y_test_pred, classes=class_names, normalize=True,\n",
        "                      title='Normalized confusion matrix')\n",
        "\n",
        "plt.show()"
      ]
    },
    {
      "cell_type": "code",
      "execution_count": 151,
      "metadata": {
        "id": "fhdLAhgPUnH3"
      },
      "outputs": [],
      "source": [
        "def plot_learningCurve(history, epoch):\n",
        "  # Plot training & validation accuracy values\n",
        "  epoch_range = range(1, epoch+1)\n",
        "  plt.plot(epoch_range, history.history['accuracy'])\n",
        "  plt.plot(epoch_range, history.history['val_accuracy'])\n",
        "  plt.title('Model accuracy')\n",
        "  plt.ylabel('Accuracy')\n",
        "  plt.xlabel('Epoch')\n",
        "  plt.legend(['Train', 'Val'], loc='upper left')\n",
        "  plt.show()\n",
        "\n",
        "  # Plot training & validation loss values\n",
        "  plt.plot(epoch_range, history.history['loss'])\n",
        "  plt.plot(epoch_range, history.history['val_loss'])\n",
        "  plt.title('Model loss')\n",
        "  plt.ylabel('Loss')\n",
        "  plt.xlabel('Epoch')\n",
        "  plt.legend(['Train', 'Val'], loc='upper left')\n",
        "  plt.show()"
      ]
    },
    {
      "cell_type": "code",
      "execution_count": 152,
      "metadata": {
        "id": "WlkQkWHgU5mL",
        "colab": {
          "base_uri": "https://localhost:8080/",
          "height": 581
        },
        "outputId": "2b71ad39-efde-4345-a5ee-399a8308bb5c"
      },
      "outputs": [
        {
          "output_type": "display_data",
          "data": {
            "text/plain": [
              "<Figure size 432x288 with 1 Axes>"
            ],
            "image/png": "[encoded data removed]"
          },
          "metadata": {
            "needs_background": "light"
          }
        },
        {
          "output_type": "display_data",
          "data": {
            "text/plain": [
              "<Figure size 432x288 with 1 Axes>"
            ],
            "image/png": "[encoded data removed]"
          },
          "metadata": {
            "needs_background": "light"
          }
        }
      ],
      "source": [
        "plot_learningCurve(history, 100)"
      ]
    }
  ],
  "metadata": {
    "colab": {
      "collapsed_sections": [
        "f857kfHqUk0-"
      ],
      "name": "Multi_Class_MD_LSTM_step_200_files_120.ipynb",
      "provenance": [],
      "include_colab_link": true
    },
    "kernelspec": {
      "display_name": "Python 3",
      "name": "python3"
    },
    "language_info": {
      "name": "python"
    },
    "accelerator": "GPU"
  },
  "nbformat": 4,
  "nbformat_minor": 0
}