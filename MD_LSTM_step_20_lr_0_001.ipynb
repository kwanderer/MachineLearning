{
  "cells": [
    {
      "cell_type": "markdown",
      "metadata": {
        "id": "view-in-github",
        "colab_type": "text"
      },
      "source": [
        "<a href=\"https://colab.research.google.com/github/kwanderer/MachineLearning/blob/main/MD_LSTM_step_20_lr_0_001.ipynb\" target=\"_parent\"><img src=\"https://colab.research.google.com/assets/colab-badge.svg\" alt=\"Open In Colab\"/></a>"
      ]
    },
    {
      "cell_type": "markdown",
      "metadata": {
        "id": "f857kfHqUk0-"
      },
      "source": [
        "\n",
        "\n",
        "#Datu kopa"
      ]
    },
    {
      "cell_type": "markdown",
      "metadata": {
        "id": "nM9WE3QGUwVi"
      },
      "source": [
        "Datu kopas avots: https://www.kaggle.com/uysalserkan/fault-induction-motor-dataset"
      ]
    },
    {
      "cell_type": "markdown",
      "metadata": {
        "id": "_sN_h3qHHy6r"
      },
      "source": [
        "Darbā tiek izmantota indukcijas motora parametru datu bāze. Izmantotajā datu kopā ir dati, kas tika iegūti SpectraQuest aparatūras kļūdu simulatorā (Machinery Fault Simulator).\n",
        "\n",
        "Katra mērījumu secība tika ģenerēta ar frekvenci 50 kHz 5 sekunžu laikā, kopā 250 000 mērījumi.\n",
        "\n",
        "Dati ir apkopoti vairākos failos, dažādos darbības stāvokļos un to apjoms ir ļoti liels. Šajā darbā tika izmantota daļa(viena mērījumu secība) no motora normālas darbības datiem.\n"
      ]
    },
    {
      "cell_type": "markdown",
      "metadata": {
        "id": "KtFAOaHYHLPo"
      },
      "source": [
        "Dati ir apkopoti tabulā, kura satur 8 parametrus. Dati ir iedalīti sekojošās kolonas:\n",
        "\n",
        "**tachometer** – tahometra signāls, kas ļauj novērtēt rotācijas frekvenci\n",
        "\n",
        "**und-accelerometer-axial** - apakšā esošā gultņa akselerometrs (aksiālais virziens)\n",
        "\n",
        "**und-accelerometer-radial** – apakšā esošā gultņa akselerometrs (radiālais virziens)\n",
        "\n",
        "**und-accelerometer-tangential** - apakšā esošā gultņa akselerometrs (tangenciālais virziens)\n",
        "\n",
        "**over-accelerometer-axial** - pārkares gultņa akselerometrs (aksiālais virziens)\n",
        "\n",
        "**over-accelerometer-radial** – pārkares gultņa akselerometrs (radiālais  virziens)\n",
        "\n",
        "**over-accelerometer-tangential**  - pārkares gultņa akselerometrs (tangenciālais virziens)\n",
        "\n",
        "**microphone** – mikrofona vērtība\n"
      ]
    },
    {
      "cell_type": "markdown",
      "metadata": {
        "id": "XymoNLKMVFUC"
      },
      "source": [
        "#Datu ielasīšana un satura vizualizācija"
      ]
    },
    {
      "cell_type": "code",
      "execution_count": 47,
      "metadata": {
        "id": "_yqYZDeOFq5s"
      },
      "outputs": [],
      "source": [
        "import keras\n",
        "from keras.layers import LSTM, Dropout, Dense\n",
        "import tensorflow as tf\n",
        "import numpy as np\n",
        "import pandas as pd\n",
        "\n",
        "from sklearn import linear_model  #pip install sklearn - loti plasa masinapmacibas biblioteka\n",
        "from sklearn.linear_model import LinearRegression  \n",
        "import csv          #pip install csv - darbam ar CSV datu kopam\n",
        "import requests     #pip install requests  - vienkarsakam darbam ar tiessaistes CSV datu kopam tiessaistes\n",
        "\n",
        "import matplotlib\n",
        "import matplotlib.pyplot as plt\n",
        "\n",
        "import glob\n"
      ]
    },
    {
      "cell_type": "code",
      "execution_count": 48,
      "metadata": {
        "id": "wlRTBbM2eUcV",
        "colab": {
          "base_uri": "https://localhost:8080/"
        },
        "outputId": "56cb01e4-ca23-43ec-c0fd-ec0dae971b77"
      },
      "outputs": [
        {
          "output_type": "stream",
          "name": "stdout",
          "text": [
            "Drive already mounted at /content/gdrive; to attempt to forcibly remount, call drive.mount(\"/content/gdrive\", force_remount=True).\n"
          ]
        }
      ],
      "source": [
        "from google.colab import drive\n",
        "import os\n",
        "drive.mount('/content/gdrive')\n",
        "os.chdir(\"/content/gdrive/MyDrive/Colab Notebooks/data/motor/\")"
      ]
    },
    {
      "cell_type": "code",
      "execution_count": 49,
      "metadata": {
        "id": "zzz6fBl_SNom"
      },
      "outputs": [],
      "source": [
        "#extension = 'csv'\n",
        "#all_filenames = [i for i in glob.glob('*.{}'.format(extension))]"
      ]
    },
    {
      "cell_type": "code",
      "execution_count": 50,
      "metadata": {
        "id": "vagKFCkToBi0"
      },
      "outputs": [],
      "source": [
        "#combine all files in the list\n",
        "#combined_csv = pd.concat([pd.read_csv(f) for f in all_filenames ])\n",
        "#export to csv\n",
        "#combined_csv.to_csv( \"combined_csv.csv\", index=False, encoding='utf-8-sig')"
      ]
    },
    {
      "cell_type": "code",
      "execution_count": 51,
      "metadata": {
        "id": "encEkbDhSfGI"
      },
      "outputs": [],
      "source": [
        "data = pd.read_csv(\"combined_csv.csv\")"
      ]
    },
    {
      "cell_type": "code",
      "execution_count": 52,
      "metadata": {
        "id": "yz5Qe8ZWk1Zq",
        "colab": {
          "base_uri": "https://localhost:8080/"
        },
        "outputId": "f9246681-744e-48a9-af1f-e815fdc65b2d"
      },
      "outputs": [
        {
          "output_type": "stream",
          "name": "stdout",
          "text": [
            "<class 'pandas.core.frame.DataFrame'>\n",
            "RangeIndex: 500000 entries, 0 to 499999\n",
            "Data columns (total 9 columns):\n",
            " #   Column                         Non-Null Count   Dtype  \n",
            "---  ------                         --------------   -----  \n",
            " 0   tachometer                     500000 non-null  float64\n",
            " 1   und-accelerometer-axial        500000 non-null  float64\n",
            " 2   und-accelerometer-radial       500000 non-null  float64\n",
            " 3   und-accelerometer-tangential   500000 non-null  float64\n",
            " 4   over-accelerometer-axial       500000 non-null  float64\n",
            " 5   over-accelerometer-radial      500000 non-null  float64\n",
            " 6   over-accelerometer-tangential  500000 non-null  float64\n",
            " 7   microphone                     500000 non-null  float64\n",
            " 8   Class                          500000 non-null  int64  \n",
            "dtypes: float64(8), int64(1)\n",
            "memory usage: 34.3 MB\n"
          ]
        }
      ],
      "source": [
        "data.info()"
      ]
    },
    {
      "cell_type": "code",
      "execution_count": 53,
      "metadata": {
        "id": "WUW9ezX6a_st",
        "colab": {
          "base_uri": "https://localhost:8080/"
        },
        "outputId": "9269a1b4-28bf-4a62-9ccc-7161e7de8c50"
      },
      "outputs": [
        {
          "output_type": "execute_result",
          "data": {
            "text/plain": [
              "500000"
            ]
          },
          "metadata": {},
          "execution_count": 53
        }
      ],
      "source": [
        "rec_count = len(data)\n",
        "rec_count"
      ]
    },
    {
      "cell_type": "markdown",
      "source": [
        "# Datu dalīšana mazākos gabalos"
      ],
      "metadata": {
        "id": "6RVC1PZy88fC"
      }
    },
    {
      "cell_type": "code",
      "execution_count": 54,
      "metadata": {
        "id": "DOvnCYkcbGaE"
      },
      "outputs": [],
      "source": [
        "sequence_length = 200"
      ]
    },
    {
      "cell_type": "code",
      "execution_count": 55,
      "metadata": {
        "id": "RG0o2L3zbTEx"
      },
      "outputs": [],
      "source": [
        "def generate_data(X, y, sequence_length = 200, step = 20):\n",
        "    X_local = []\n",
        "    y_local = []\n",
        "    for start in range(0, len(data) - sequence_length, step):\n",
        "        end = start + sequence_length\n",
        "        X_local.append(X[start:end])\n",
        "        y_local.append(y[end-1])\n",
        "    return np.array(X_local), np.array(y_local)\n",
        "\n",
        "X_sequence, y = generate_data(data.loc[:, \"tachometer\":\"microphone\"].values, data.Class)"
      ]
    },
    {
      "cell_type": "code",
      "execution_count": 56,
      "metadata": {
        "id": "s0QxwK66cLVF",
        "colab": {
          "base_uri": "https://localhost:8080/"
        },
        "outputId": "38fa0cb9-f87b-4517-fb4b-f6f724e7b220"
      },
      "outputs": [
        {
          "output_type": "execute_result",
          "data": {
            "text/plain": [
              "((24990, 200, 8), (24990,))"
            ]
          },
          "metadata": {},
          "execution_count": 56
        }
      ],
      "source": [
        "X_sequence.shape, y.shape"
      ]
    },
    {
      "cell_type": "markdown",
      "source": [
        "# Random/Shuffle"
      ],
      "metadata": {
        "id": "5BXSDoHa9UX_"
      }
    },
    {
      "cell_type": "code",
      "source": [
        "shuffler = np.random.permutation(len(X_sequence))\n",
        "X_sequence_shuffled = X_sequence[shuffler]\n",
        "y_shuffled = y[shuffler]"
      ],
      "metadata": {
        "id": "ZcfE9idy-ckb"
      },
      "execution_count": 57,
      "outputs": []
    },
    {
      "cell_type": "markdown",
      "source": [
        "# LSTM"
      ],
      "metadata": {
        "id": "TfhRTTNcE2s8"
      }
    },
    {
      "cell_type": "code",
      "execution_count": 58,
      "metadata": {
        "id": "PjKWKiA6aH3z",
        "colab": {
          "base_uri": "https://localhost:8080/"
        },
        "outputId": "447170fd-ff7c-426c-a8b5-81e2877e247d"
      },
      "outputs": [
        {
          "output_type": "stream",
          "name": "stderr",
          "text": [
            "/usr/local/lib/python3.7/dist-packages/keras/optimizer_v2/gradient_descent.py:102: UserWarning: The `lr` argument is deprecated, use `learning_rate` instead.\n",
            "  super(SGD, self).__init__(name, **kwargs)\n"
          ]
        },
        {
          "output_type": "stream",
          "name": "stdout",
          "text": [
            "Model: \"sequential_2\"\n",
            "_________________________________________________________________\n",
            " Layer (type)                Output Shape              Param #   \n",
            "=================================================================\n",
            " lstm_2 (LSTM)               (None, 100)               43600     \n",
            "                                                                 \n",
            " dropout_2 (Dropout)         (None, 100)               0         \n",
            "                                                                 \n",
            " dense_2 (Dense)             (None, 1)                 101       \n",
            "                                                                 \n",
            "=================================================================\n",
            "Total params: 43,701\n",
            "Trainable params: 43,701\n",
            "Non-trainable params: 0\n",
            "_________________________________________________________________\n"
          ]
        }
      ],
      "source": [
        "from tensorflow.keras import optimizers\n",
        "sgd = optimizers.SGD(lr=0.001, decay=1e-6, momentum=0.9, nesterov=True)\n",
        "model = keras.Sequential()\n",
        "model.add(LSTM(100, input_shape = (200, 8)))\n",
        "model.add(Dropout(0.5))\n",
        "model.add(Dense(1, activation=\"sigmoid\"))\n",
        "\n",
        "#model.compile(loss='mean_squared_error', optimizer=sgd)\n",
        "model.compile(loss=\"binary_crossentropy\"\n",
        "              , metrics=[keras.metrics.binary_accuracy]\n",
        "              , optimizer=sgd)\n",
        "\n",
        "model.summary()"
      ]
    },
    {
      "cell_type": "code",
      "execution_count": 59,
      "metadata": {
        "id": "tg8wrqsqc8UX"
      },
      "outputs": [],
      "source": [
        "training_size = int(len(X_sequence) * 0.7)"
      ]
    },
    {
      "cell_type": "code",
      "execution_count": 60,
      "metadata": {
        "id": "avIp3TEKc-qF"
      },
      "outputs": [],
      "source": [
        "X_train, y_train = X_sequence_shuffled[:training_size], y_shuffled[:training_size]\n",
        "X_test, y_test = X_sequence_shuffled[training_size:], y_shuffled[training_size:]"
      ]
    },
    {
      "cell_type": "code",
      "execution_count": 61,
      "metadata": {
        "id": "cen4faX0dFJP",
        "colab": {
          "base_uri": "https://localhost:8080/"
        },
        "outputId": "c1c18141-fc5d-4979-cb1f-63f0c90b0a5f"
      },
      "outputs": [
        {
          "output_type": "stream",
          "name": "stdout",
          "text": [
            "Epoch 1/50\n",
            "274/274 [==============================] - 63s 222ms/step - loss: 0.5870 - binary_accuracy: 0.7304 - val_loss: 0.4514 - val_binary_accuracy: 0.8801\n",
            "Epoch 2/50\n",
            "274/274 [==============================] - 61s 223ms/step - loss: 0.3551 - binary_accuracy: 0.8861 - val_loss: 0.2782 - val_binary_accuracy: 0.9036\n",
            "Epoch 3/50\n",
            "274/274 [==============================] - 63s 230ms/step - loss: 0.2434 - binary_accuracy: 0.9208 - val_loss: 0.2149 - val_binary_accuracy: 0.9324\n",
            "Epoch 4/50\n",
            "274/274 [==============================] - 63s 229ms/step - loss: 0.4720 - binary_accuracy: 0.8207 - val_loss: 0.2945 - val_binary_accuracy: 0.9006\n",
            "Epoch 5/50\n",
            "274/274 [==============================] - 62s 227ms/step - loss: 0.2800 - binary_accuracy: 0.8993 - val_loss: 0.2423 - val_binary_accuracy: 0.9086\n",
            "Epoch 6/50\n",
            "274/274 [==============================] - 66s 240ms/step - loss: 0.2188 - binary_accuracy: 0.9211 - val_loss: 0.1615 - val_binary_accuracy: 0.9470\n",
            "Epoch 7/50\n",
            "274/274 [==============================] - 61s 223ms/step - loss: 0.1646 - binary_accuracy: 0.9518 - val_loss: 0.1354 - val_binary_accuracy: 0.9532\n",
            "Epoch 8/50\n",
            "274/274 [==============================] - 62s 226ms/step - loss: 0.3628 - binary_accuracy: 0.8561 - val_loss: 0.1836 - val_binary_accuracy: 0.9302\n",
            "Epoch 9/50\n",
            "274/274 [==============================] - 63s 230ms/step - loss: 0.2047 - binary_accuracy: 0.9297 - val_loss: 0.1770 - val_binary_accuracy: 0.9280\n",
            "Epoch 10/50\n",
            "274/274 [==============================] - 62s 227ms/step - loss: 0.1483 - binary_accuracy: 0.9481 - val_loss: 0.1181 - val_binary_accuracy: 0.9627\n",
            "Epoch 11/50\n",
            "274/274 [==============================] - 62s 226ms/step - loss: 0.1243 - binary_accuracy: 0.9600 - val_loss: 0.2864 - val_binary_accuracy: 0.8942\n",
            "Epoch 12/50\n",
            "274/274 [==============================] - 62s 227ms/step - loss: 0.3113 - binary_accuracy: 0.9004 - val_loss: 0.3024 - val_binary_accuracy: 0.8974\n",
            "Epoch 13/50\n",
            "274/274 [==============================] - 62s 227ms/step - loss: 0.2275 - binary_accuracy: 0.9119 - val_loss: 0.1463 - val_binary_accuracy: 0.9603\n",
            "Epoch 14/50\n",
            "274/274 [==============================] - 62s 228ms/step - loss: 0.3641 - binary_accuracy: 0.8669 - val_loss: 0.2502 - val_binary_accuracy: 0.9214\n",
            "Epoch 15/50\n",
            "274/274 [==============================] - 62s 228ms/step - loss: 0.2196 - binary_accuracy: 0.9246 - val_loss: 0.1693 - val_binary_accuracy: 0.9398\n",
            "Epoch 16/50\n",
            "274/274 [==============================] - 62s 227ms/step - loss: 0.1532 - binary_accuracy: 0.9491 - val_loss: 0.1226 - val_binary_accuracy: 0.9648\n",
            "Epoch 17/50\n",
            "274/274 [==============================] - 62s 226ms/step - loss: 0.1382 - binary_accuracy: 0.9575 - val_loss: 0.1705 - val_binary_accuracy: 0.9388\n",
            "Epoch 18/50\n",
            "274/274 [==============================] - 61s 223ms/step - loss: 0.2429 - binary_accuracy: 0.9260 - val_loss: 0.1856 - val_binary_accuracy: 0.9376\n",
            "Epoch 19/50\n",
            "274/274 [==============================] - 61s 221ms/step - loss: 0.1678 - binary_accuracy: 0.9452 - val_loss: 0.1501 - val_binary_accuracy: 0.9441\n",
            "Epoch 20/50\n",
            "274/274 [==============================] - 61s 222ms/step - loss: 0.1348 - binary_accuracy: 0.9563 - val_loss: 0.1288 - val_binary_accuracy: 0.9613\n",
            "Epoch 21/50\n",
            "274/274 [==============================] - 60s 220ms/step - loss: 0.1252 - binary_accuracy: 0.9640 - val_loss: 0.1162 - val_binary_accuracy: 0.9664\n",
            "Epoch 22/50\n",
            "274/274 [==============================] - 61s 221ms/step - loss: 0.1120 - binary_accuracy: 0.9691 - val_loss: 0.1066 - val_binary_accuracy: 0.9692\n",
            "Epoch 23/50\n",
            "274/274 [==============================] - 60s 220ms/step - loss: 0.1880 - binary_accuracy: 0.9409 - val_loss: 0.3556 - val_binary_accuracy: 0.8809\n",
            "Epoch 24/50\n",
            "274/274 [==============================] - 61s 222ms/step - loss: 0.2649 - binary_accuracy: 0.9107 - val_loss: 0.2264 - val_binary_accuracy: 0.9201\n",
            "Epoch 25/50\n",
            "274/274 [==============================] - 61s 221ms/step - loss: 0.2323 - binary_accuracy: 0.9209 - val_loss: 0.2131 - val_binary_accuracy: 0.9258\n",
            "Epoch 26/50\n",
            "274/274 [==============================] - 62s 225ms/step - loss: 0.1995 - binary_accuracy: 0.9308 - val_loss: 0.1792 - val_binary_accuracy: 0.9360\n",
            "Epoch 27/50\n",
            "274/274 [==============================] - 61s 223ms/step - loss: 0.2119 - binary_accuracy: 0.9240 - val_loss: 0.1413 - val_binary_accuracy: 0.9493\n",
            "Epoch 28/50\n",
            "274/274 [==============================] - 61s 224ms/step - loss: 0.1862 - binary_accuracy: 0.9381 - val_loss: 0.1613 - val_binary_accuracy: 0.9424\n",
            "Epoch 29/50\n",
            "274/274 [==============================] - 62s 228ms/step - loss: 0.1531 - binary_accuracy: 0.9500 - val_loss: 0.0933 - val_binary_accuracy: 0.9737\n",
            "Epoch 30/50\n",
            "274/274 [==============================] - 62s 226ms/step - loss: 0.1180 - binary_accuracy: 0.9656 - val_loss: 0.0837 - val_binary_accuracy: 0.9765\n",
            "Epoch 31/50\n",
            "274/274 [==============================] - 62s 226ms/step - loss: 0.0815 - binary_accuracy: 0.9794 - val_loss: 0.0724 - val_binary_accuracy: 0.9775\n",
            "Epoch 32/50\n",
            "274/274 [==============================] - 62s 227ms/step - loss: 0.1076 - binary_accuracy: 0.9686 - val_loss: 0.0853 - val_binary_accuracy: 0.9777\n",
            "Epoch 33/50\n",
            "274/274 [==============================] - 62s 225ms/step - loss: 0.0801 - binary_accuracy: 0.9795 - val_loss: 0.0765 - val_binary_accuracy: 0.9800\n",
            "Epoch 34/50\n",
            "274/274 [==============================] - 61s 224ms/step - loss: 0.0793 - binary_accuracy: 0.9805 - val_loss: 0.0690 - val_binary_accuracy: 0.9817\n",
            "Epoch 35/50\n",
            "274/274 [==============================] - 63s 230ms/step - loss: 0.1786 - binary_accuracy: 0.9457 - val_loss: 0.1935 - val_binary_accuracy: 0.9508\n",
            "Epoch 36/50\n",
            "274/274 [==============================] - 62s 227ms/step - loss: 0.1302 - binary_accuracy: 0.9673 - val_loss: 0.1005 - val_binary_accuracy: 0.9733\n",
            "Epoch 37/50\n",
            "274/274 [==============================] - 61s 224ms/step - loss: 0.1106 - binary_accuracy: 0.9716 - val_loss: 0.0810 - val_binary_accuracy: 0.9773\n",
            "Epoch 38/50\n",
            "274/274 [==============================] - 62s 226ms/step - loss: 0.0960 - binary_accuracy: 0.9746 - val_loss: 0.0729 - val_binary_accuracy: 0.9797\n",
            "Epoch 39/50\n",
            "274/274 [==============================] - 62s 225ms/step - loss: 0.1304 - binary_accuracy: 0.9628 - val_loss: 0.1478 - val_binary_accuracy: 0.9522\n",
            "Epoch 40/50\n",
            "274/274 [==============================] - 61s 224ms/step - loss: 0.1080 - binary_accuracy: 0.9698 - val_loss: 0.0943 - val_binary_accuracy: 0.9689\n",
            "Epoch 41/50\n",
            "274/274 [==============================] - 62s 225ms/step - loss: 0.0992 - binary_accuracy: 0.9739 - val_loss: 0.1042 - val_binary_accuracy: 0.9715\n",
            "Epoch 42/50\n",
            "274/274 [==============================] - 62s 225ms/step - loss: 0.3737 - binary_accuracy: 0.9043 - val_loss: 0.3942 - val_binary_accuracy: 0.8860\n",
            "Epoch 43/50\n",
            "274/274 [==============================] - 61s 223ms/step - loss: 0.3054 - binary_accuracy: 0.8970 - val_loss: 0.2419 - val_binary_accuracy: 0.8929\n",
            "Epoch 44/50\n",
            "274/274 [==============================] - 61s 223ms/step - loss: 0.2460 - binary_accuracy: 0.9035 - val_loss: 0.2212 - val_binary_accuracy: 0.9393\n",
            "Epoch 45/50\n",
            "274/274 [==============================] - 61s 222ms/step - loss: 0.2229 - binary_accuracy: 0.9195 - val_loss: 0.1783 - val_binary_accuracy: 0.9498\n",
            "Epoch 46/50\n",
            "274/274 [==============================] - 61s 223ms/step - loss: 0.2048 - binary_accuracy: 0.9263 - val_loss: 0.1667 - val_binary_accuracy: 0.9496\n",
            "Epoch 47/50\n",
            "274/274 [==============================] - 61s 223ms/step - loss: 0.1633 - binary_accuracy: 0.9459 - val_loss: 0.1368 - val_binary_accuracy: 0.9623\n",
            "Epoch 48/50\n",
            "274/274 [==============================] - 61s 221ms/step - loss: 0.2185 - binary_accuracy: 0.9320 - val_loss: 0.2124 - val_binary_accuracy: 0.9326\n",
            "Epoch 49/50\n",
            "274/274 [==============================] - 61s 224ms/step - loss: 0.1958 - binary_accuracy: 0.9398 - val_loss: 0.1675 - val_binary_accuracy: 0.9469\n",
            "Epoch 50/50\n",
            "274/274 [==============================] - 61s 224ms/step - loss: 0.1759 - binary_accuracy: 0.9456 - val_loss: 0.1472 - val_binary_accuracy: 0.9546\n"
          ]
        }
      ],
      "source": [
        "history = model.fit(X_train, y_train, batch_size=64, epochs=50, validation_data=(X_test, y_test))"
      ]
    },
    {
      "cell_type": "code",
      "execution_count": 62,
      "metadata": {
        "id": "R7QQeqVidKBR",
        "colab": {
          "base_uri": "https://localhost:8080/"
        },
        "outputId": "6b54222b-3fce-4df1-d150-d54f26a39d5e"
      },
      "outputs": [
        {
          "output_type": "stream",
          "name": "stdout",
          "text": [
            "235/235 [==============================] - 10s 43ms/step - loss: 0.1472 - binary_accuracy: 0.9546\n"
          ]
        },
        {
          "output_type": "execute_result",
          "data": {
            "text/plain": [
              "[0.1472177505493164, 0.9546485543251038]"
            ]
          },
          "metadata": {},
          "execution_count": 62
        }
      ],
      "source": [
        "model.evaluate(X_test, y_test)"
      ]
    },
    {
      "cell_type": "code",
      "execution_count": 63,
      "metadata": {
        "id": "OHpifyqGdKn-",
        "colab": {
          "base_uri": "https://localhost:8080/"
        },
        "outputId": "88b69071-c987-41cf-98d2-44de5aedb957"
      },
      "outputs": [
        {
          "output_type": "stream",
          "name": "stdout",
          "text": [
            "235/235 [==============================] - 11s 43ms/step\n"
          ]
        }
      ],
      "source": [
        "y_test_prob = model.predict(X_test, verbose=1)"
      ]
    },
    {
      "cell_type": "code",
      "execution_count": 64,
      "metadata": {
        "id": "AfmdrBILdMwj"
      },
      "outputs": [],
      "source": [
        "y_test_pred = np.where(y_test_prob > 0.5, 1, 0)"
      ]
    },
    {
      "cell_type": "code",
      "execution_count": 65,
      "metadata": {
        "id": "8DoJy_p9dPzN"
      },
      "outputs": [],
      "source": [
        "from sklearn.metrics import confusion_matrix"
      ]
    },
    {
      "cell_type": "code",
      "execution_count": 66,
      "metadata": {
        "id": "fTCsPjW8dQaZ",
        "colab": {
          "base_uri": "https://localhost:8080/"
        },
        "outputId": "91cd8d18-9ffd-4ed9-ae2c-667e2fb54df0"
      },
      "outputs": [
        {
          "output_type": "execute_result",
          "data": {
            "text/plain": [
              "array([[3690,   54],\n",
              "       [ 286, 3467]])"
            ]
          },
          "metadata": {},
          "execution_count": 66
        }
      ],
      "source": [
        "confusion_matrix(y_test, y_test_pred)"
      ]
    },
    {
      "cell_type": "code",
      "execution_count": 67,
      "metadata": {
        "id": "te3fslrY9Eca",
        "colab": {
          "base_uri": "https://localhost:8080/",
          "height": 685
        },
        "outputId": "e37063a2-cee5-4bca-dbab-53469b43dbae"
      },
      "outputs": [
        {
          "output_type": "stream",
          "name": "stdout",
          "text": [
            "Confusion matrix, without normalization\n",
            "[[3690   54]\n",
            " [ 286 3467]]\n",
            "Normalized confusion matrix\n",
            "[[0.99 0.01]\n",
            " [0.08 0.92]]\n"
          ]
        },
        {
          "output_type": "display_data",
          "data": {
            "text/plain": [
              "<Figure size 432x288 with 2 Axes>"
            ],
            "image/png": "[encoded data removed]"
          },
          "metadata": {
            "needs_background": "light"
          }
        },
        {
          "output_type": "display_data",
          "data": {
            "text/plain": [
              "<Figure size 432x288 with 2 Axes>"
            ],
            "image/png": "[encoded data removed]"
          },
          "metadata": {
            "needs_background": "light"
          }
        }
      ],
      "source": [
        "import numpy as np\n",
        "import matplotlib.pyplot as plt\n",
        "\n",
        "from sklearn import svm, datasets\n",
        "from sklearn.model_selection import train_test_split\n",
        "from sklearn.metrics import confusion_matrix\n",
        "from sklearn.utils.multiclass import unique_labels\n",
        "\n",
        "class_names = np.array(['0', '1'])\n",
        "\n",
        "def plot_confusion_matrix(y_true, y_pred, classes,\n",
        "                          normalize=False,\n",
        "                          title=None,\n",
        "                          cmap=plt.cm.Blues):\n",
        "    \"\"\"\n",
        "    This function prints and plots the confusion matrix.\n",
        "    Normalization can be applied by setting `normalize=True`.\n",
        "    \"\"\"\n",
        "    if not title:\n",
        "        if normalize:\n",
        "            title = 'Normalized confusion matrix'\n",
        "        else:\n",
        "            title = 'Confusion matrix, without normalization'\n",
        "\n",
        "    # Compute confusion matrix\n",
        "    cm = confusion_matrix(y_true, y_pred)\n",
        "    # Only use the labels that appear in the data\n",
        "    classes = classes[unique_labels(y_true, y_pred)]\n",
        "    if normalize:\n",
        "        cm = cm.astype('float') / cm.sum(axis=1)[:, np.newaxis]\n",
        "        print(\"Normalized confusion matrix\")\n",
        "    else:\n",
        "        print('Confusion matrix, without normalization')\n",
        "\n",
        "    print(cm)\n",
        "\n",
        "    fig, ax = plt.subplots()\n",
        "    im = ax.imshow(cm, interpolation='nearest', cmap=cmap)\n",
        "    ax.figure.colorbar(im, ax=ax)\n",
        "    # We want to show all ticks...\n",
        "    ax.set(xticks=np.arange(cm.shape[1]),\n",
        "           yticks=np.arange(cm.shape[0]),\n",
        "           # ... and label them with the respective list entries\n",
        "           xticklabels=classes, yticklabels=classes,\n",
        "           title=title,\n",
        "           ylabel='True label',\n",
        "           xlabel='Predicted label')\n",
        "\n",
        "    # Rotate the tick labels and set their alignment.\n",
        "    plt.setp(ax.get_xticklabels(), rotation=45, ha=\"right\",\n",
        "             rotation_mode=\"anchor\")\n",
        "\n",
        "    # Loop over data dimensions and create text annotations.\n",
        "    fmt = '.2f' if normalize else 'd'\n",
        "    thresh = cm.max() / 2.\n",
        "    for i in range(cm.shape[0]):\n",
        "        for j in range(cm.shape[1]):\n",
        "            ax.text(j, i, format(cm[i, j], fmt),\n",
        "                    ha=\"center\", va=\"center\",\n",
        "                    color=\"white\" if cm[i, j] > thresh else \"black\")\n",
        "    fig.tight_layout()\n",
        "\n",
        "    return ax\n",
        "\n",
        "\n",
        "np.set_printoptions(precision=2)\n",
        "\n",
        "# Plot non-normalized confusion matrix\n",
        "plot_confusion_matrix(y_test, y_test_pred, classes=class_names,\n",
        "                      title='Confusion matrix, without normalization')\n",
        "\n",
        "# Plot normalized confusion matrix\n",
        "plot_confusion_matrix(y_test, y_test_pred, classes=class_names, normalize=True,\n",
        "                      title='Normalized confusion matrix')\n",
        "\n",
        "plt.show()"
      ]
    },
    {
      "cell_type": "code",
      "source": [
        "def plot_learningCurve(history, epoch):\n",
        "  # Plot training & validation accuracy values\n",
        "  epoch_range = range(1, epoch+1)\n",
        "  plt.plot(epoch_range, history.history['binary_accuracy'])\n",
        "  plt.plot(epoch_range, history.history['val_binary_accuracy'])\n",
        "  plt.title('Model accuracy')\n",
        "  plt.ylabel('Accuracy')\n",
        "  plt.xlabel('Epoch')\n",
        "  plt.legend(['Train', 'Val'], loc='upper left')\n",
        "  plt.show()\n",
        "\n",
        "  # Plot training & validation loss values\n",
        "  plt.plot(epoch_range, history.history['loss'])\n",
        "  plt.plot(epoch_range, history.history['val_loss'])\n",
        "  plt.title('Model loss')\n",
        "  plt.ylabel('Loss')\n",
        "  plt.xlabel('Epoch')\n",
        "  plt.legend(['Train', 'Val'], loc='upper left')\n",
        "  plt.show()"
      ],
      "metadata": {
        "id": "fhdLAhgPUnH3"
      },
      "execution_count": 68,
      "outputs": []
    },
    {
      "cell_type": "code",
      "source": [
        "plot_learningCurve(history, 50)"
      ],
      "metadata": {
        "id": "WlkQkWHgU5mL",
        "colab": {
          "base_uri": "https://localhost:8080/",
          "height": 573
        },
        "outputId": "db6acc4e-e940-4f0a-c12b-42421505fb3d"
      },
      "execution_count": 69,
      "outputs": [
        {
          "output_type": "display_data",
          "data": {
            "text/plain": [
              "<Figure size 432x288 with 1 Axes>"
            ],
            "image/png": "[encoded data removed]"
          },
          "metadata": {
            "needs_background": "light"
          }
        },
        {
          "output_type": "display_data",
          "data": {
            "text/plain": [
              "<Figure size 432x288 with 1 Axes>"
            ],
            "image/png": "[encoded data removed]"
          },
          "metadata": {
            "needs_background": "light"
          }
        }
      ]
    }
  ],
  "metadata": {
    "colab": {
      "collapsed_sections": [
        "f857kfHqUk0-"
      ],
      "name": "MD LSTM step 10.ipynb",
      "provenance": [],
      "authorship_tag": "ABX9TyN7k7DNyBCGhGAp9ZWD0iDf",
      "include_colab_link": true
    },
    "kernelspec": {
      "display_name": "Python 3",
      "name": "python3"
    },
    "language_info": {
      "name": "python"
    }
  },
  "nbformat": 4,
  "nbformat_minor": 0
}