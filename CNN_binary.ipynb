{
  "metadata": {
    "kernelspec": {
      "language": "python",
      "display_name": "Python 3",
      "name": "python3"
    },
    "language_info": {
      "name": "python",
      "version": "3.7.12",
      "mimetype": "text/x-python",
      "codemirror_mode": {
        "name": "ipython",
        "version": 3
      },
      "pygments_lexer": "ipython3",
      "nbconvert_exporter": "python",
      "file_extension": ".py"
    },
    "colab": {
      "name": "Binary Model 1.ipynb",
      "provenance": [],
      "collapsed_sections": [],
      "include_colab_link": true
    },
    "accelerator": "GPU"
  },
  "nbformat_minor": 0,
  "nbformat": 4,
  "cells": [
    {
      "cell_type": "markdown",
      "metadata": {
        "id": "view-in-github",
        "colab_type": "text"
      },
      "source": [
        "<a href=\"https://colab.research.google.com/github/kwanderer/MachineLearning/blob/main/CNN_binary.ipynb\" target=\"_parent\"><img src=\"https://colab.research.google.com/assets/colab-badge.svg\" alt=\"Open In Colab\"/></a>"
      ]
    },
    {
      "cell_type": "code",
      "source": [
        "import sys\n",
        "import numpy as np\n",
        "import pandas as pd\n",
        "import tensorflow as tf\n",
        "import matplotlib.pyplot as plt\n",
        "from sklearn.model_selection import train_test_split\n",
        "from sklearn import preprocessing\n",
        "from sklearn.preprocessing import StandardScaler\n",
        "from sklearn.metrics import classification_report\n",
        "import warnings\n",
        "warnings.filterwarnings('ignore')\n",
        "plt.style.use('ggplot')\n",
        "import seaborn as sns \n",
        "%matplotlib inline"
      ],
      "metadata": {
        "execution": {
          "iopub.status.busy": "2022-03-09T19:23:03.253803Z",
          "iopub.execute_input": "2022-03-09T19:23:03.254417Z",
          "iopub.status.idle": "2022-03-09T19:23:08.469110Z",
          "shell.execute_reply.started": "2022-03-09T19:23:03.254272Z",
          "shell.execute_reply": "2022-03-09T19:23:08.468330Z"
        },
        "trusted": true,
        "id": "ssTvuSFNDBbX"
      },
      "execution_count": 1,
      "outputs": []
    },
    {
      "cell_type": "code",
      "source": [
        "from google.colab import drive\n",
        "import os\n",
        "drive.mount('/content/gdrive')\n",
        "os.chdir(\"/content/gdrive/MyDrive/Colab Notebooks/data_binary/\")\n",
        "#os.chdir(\"/content/gdrive/MyDrive/Colab Notebooks/data_multiclass/\")"
      ],
      "metadata": {
        "execution": {
          "iopub.status.busy": "2022-03-09T19:23:08.470930Z",
          "iopub.execute_input": "2022-03-09T19:23:08.471203Z",
          "iopub.status.idle": "2022-03-09T19:23:12.713130Z",
          "shell.execute_reply.started": "2022-03-09T19:23:08.471159Z",
          "shell.execute_reply": "2022-03-09T19:23:12.712327Z"
        },
        "trusted": true,
        "colab": {
          "base_uri": "https://localhost:8080/"
        },
        "id": "-zoH04gSDBbg",
        "outputId": "bdce7704-9b18-4b85-f087-903805dc88a7"
      },
      "execution_count": 2,
      "outputs": [
        {
          "output_type": "stream",
          "name": "stdout",
          "text": [
            "Mounted at /content/gdrive\n"
          ]
        }
      ]
    },
    {
      "cell_type": "code",
      "source": [
        "df = pd.read_csv(\"binary_data_csv.csv\")\n",
        "#df = pd.read_csv(\"combined_multiclass_csv.csv\")"
      ],
      "metadata": {
        "id": "rTZHPrFSDyvN"
      },
      "execution_count": 3,
      "outputs": []
    },
    {
      "cell_type": "code",
      "source": [
        "df.head()"
      ],
      "metadata": {
        "execution": {
          "iopub.status.busy": "2022-03-09T19:23:12.714704Z",
          "iopub.execute_input": "2022-03-09T19:23:12.714987Z",
          "iopub.status.idle": "2022-03-09T19:23:12.755981Z",
          "shell.execute_reply.started": "2022-03-09T19:23:12.714948Z",
          "shell.execute_reply": "2022-03-09T19:23:12.755126Z"
        },
        "trusted": true,
        "colab": {
          "base_uri": "https://localhost:8080/",
          "height": 285
        },
        "id": "NIZTvAfsDBbh",
        "outputId": "cc9cd142-c3fc-40d7-f81e-5ec56480f019"
      },
      "execution_count": 4,
      "outputs": [
        {
          "output_type": "execute_result",
          "data": {
            "text/plain": [
              "   tachometer  und-accelerometer-axial  und-accelerometer-radial  \\\n",
              "0      4.5051                -1.542900                  -0.36705   \n",
              "1      4.4602                 0.824310                   0.34692   \n",
              "2      4.5097                -1.091100                  -0.34990   \n",
              "3      4.4614                 0.043019                   0.23206   \n",
              "4      4.5006                -0.085942                  -0.13515   \n",
              "\n",
              "   und-accelerometer-tangential  over-accelerometer-axial  \\\n",
              "0                     -0.082564                   -2.5684   \n",
              "1                      0.053980                   -2.4641   \n",
              "2                     -0.047315                   -2.5442   \n",
              "3                      0.062850                   -2.5026   \n",
              "4                      0.019958                   -2.5031   \n",
              "\n",
              "   over-accelerometer-radial  over-accelerometer-tangential  microphone  Class  \n",
              "0                   0.077869                       -0.80149     0.15873      1  \n",
              "1                   0.075809                       -0.71191    -0.11093      1  \n",
              "2                   0.073877                       -0.78388     0.19010      1  \n",
              "3                   0.073081                       -0.73637    -0.10022      1  \n",
              "4                   0.072786                       -0.72987     0.16343      1  "
            ],
            "text/html": [
              "\n",
              "  <div id=\"df-12e2537a-0820-4dca-8d4f-ed86b60e9e10\">\n",
              "    <div class=\"colab-df-container\">\n",
              "      <div>\n",
              "<style scoped>\n",
              "    .dataframe tbody tr th:only-of-type {\n",
              "        vertical-align: middle;\n",
              "    }\n",
              "\n",
              "    .dataframe tbody tr th {\n",
              "        vertical-align: top;\n",
              "    }\n",
              "\n",
              "    .dataframe thead th {\n",
              "        text-align: right;\n",
              "    }\n",
              "</style>\n",
              "<table border=\"1\" class=\"dataframe\">\n",
              "  <thead>\n",
              "    <tr style=\"text-align: right;\">\n",
              "      <th></th>\n",
              "      <th>tachometer</th>\n",
              "      <th>und-accelerometer-axial</th>\n",
              "      <th>und-accelerometer-radial</th>\n",
              "      <th>und-accelerometer-tangential</th>\n",
              "      <th>over-accelerometer-axial</th>\n",
              "      <th>over-accelerometer-radial</th>\n",
              "      <th>over-accelerometer-tangential</th>\n",
              "      <th>microphone</th>\n",
              "      <th>Class</th>\n",
              "    </tr>\n",
              "  </thead>\n",
              "  <tbody>\n",
              "    <tr>\n",
              "      <th>0</th>\n",
              "      <td>4.5051</td>\n",
              "      <td>-1.542900</td>\n",
              "      <td>-0.36705</td>\n",
              "      <td>-0.082564</td>\n",
              "      <td>-2.5684</td>\n",
              "      <td>0.077869</td>\n",
              "      <td>-0.80149</td>\n",
              "      <td>0.15873</td>\n",
              "      <td>1</td>\n",
              "    </tr>\n",
              "    <tr>\n",
              "      <th>1</th>\n",
              "      <td>4.4602</td>\n",
              "      <td>0.824310</td>\n",
              "      <td>0.34692</td>\n",
              "      <td>0.053980</td>\n",
              "      <td>-2.4641</td>\n",
              "      <td>0.075809</td>\n",
              "      <td>-0.71191</td>\n",
              "      <td>-0.11093</td>\n",
              "      <td>1</td>\n",
              "    </tr>\n",
              "    <tr>\n",
              "      <th>2</th>\n",
              "      <td>4.5097</td>\n",
              "      <td>-1.091100</td>\n",
              "      <td>-0.34990</td>\n",
              "      <td>-0.047315</td>\n",
              "      <td>-2.5442</td>\n",
              "      <td>0.073877</td>\n",
              "      <td>-0.78388</td>\n",
              "      <td>0.19010</td>\n",
              "      <td>1</td>\n",
              "    </tr>\n",
              "    <tr>\n",
              "      <th>3</th>\n",
              "      <td>4.4614</td>\n",
              "      <td>0.043019</td>\n",
              "      <td>0.23206</td>\n",
              "      <td>0.062850</td>\n",
              "      <td>-2.5026</td>\n",
              "      <td>0.073081</td>\n",
              "      <td>-0.73637</td>\n",
              "      <td>-0.10022</td>\n",
              "      <td>1</td>\n",
              "    </tr>\n",
              "    <tr>\n",
              "      <th>4</th>\n",
              "      <td>4.5006</td>\n",
              "      <td>-0.085942</td>\n",
              "      <td>-0.13515</td>\n",
              "      <td>0.019958</td>\n",
              "      <td>-2.5031</td>\n",
              "      <td>0.072786</td>\n",
              "      <td>-0.72987</td>\n",
              "      <td>0.16343</td>\n",
              "      <td>1</td>\n",
              "    </tr>\n",
              "  </tbody>\n",
              "</table>\n",
              "</div>\n",
              "      <button class=\"colab-df-convert\" onclick=\"convertToInteractive('df-12e2537a-0820-4dca-8d4f-ed86b60e9e10')\"\n",
              "              title=\"Convert this dataframe to an interactive table.\"\n",
              "              style=\"display:none;\">\n",
              "        \n",
              "  <svg xmlns=\"http://www.w3.org/2000/svg\" height=\"24px\"viewBox=\"0 0 24 24\"\n",
              "       width=\"24px\">\n",
              "    <path d=\"M0 0h24v24H0V0z\" fill=\"none\"/>\n",
              "    <path d=\"M18.56 5.44l.94 2.06.94-2.06 2.06-.94-2.06-.94-.94-2.06-.94 2.06-2.06.94zm-11 1L8.5 8.5l.94-2.06 2.06-.94-2.06-.94L8.5 2.5l-.94 2.06-2.06.94zm10 10l.94 2.06.94-2.06 2.06-.94-2.06-.94-.94-2.06-.94 2.06-2.06.94z\"/><path d=\"M17.41 7.96l-1.37-1.37c-.4-.4-.92-.59-1.43-.59-.52 0-1.04.2-1.43.59L10.3 9.45l-7.72 7.72c-.78.78-.78 2.05 0 2.83L4 21.41c.39.39.9.59 1.41.59.51 0 1.02-.2 1.41-.59l7.78-7.78 2.81-2.81c.8-.78.8-2.07 0-2.86zM5.41 20L4 18.59l7.72-7.72 1.47 1.35L5.41 20z\"/>\n",
              "  </svg>\n",
              "      </button>\n",
              "      \n",
              "  <style>\n",
              "    .colab-df-container {\n",
              "      display:flex;\n",
              "      flex-wrap:wrap;\n",
              "      gap: 12px;\n",
              "    }\n",
              "\n",
              "    .colab-df-convert {\n",
              "      background-color: #E8F0FE;\n",
              "      border: none;\n",
              "      border-radius: 50%;\n",
              "      cursor: pointer;\n",
              "      display: none;\n",
              "      fill: #1967D2;\n",
              "      height: 32px;\n",
              "      padding: 0 0 0 0;\n",
              "      width: 32px;\n",
              "    }\n",
              "\n",
              "    .colab-df-convert:hover {\n",
              "      background-color: #E2EBFA;\n",
              "      box-shadow: 0px 1px 2px rgba(60, 64, 67, 0.3), 0px 1px 3px 1px rgba(60, 64, 67, 0.15);\n",
              "      fill: #174EA6;\n",
              "    }\n",
              "\n",
              "    [theme=dark] .colab-df-convert {\n",
              "      background-color: #3B4455;\n",
              "      fill: #D2E3FC;\n",
              "    }\n",
              "\n",
              "    [theme=dark] .colab-df-convert:hover {\n",
              "      background-color: #434B5C;\n",
              "      box-shadow: 0px 1px 3px 1px rgba(0, 0, 0, 0.15);\n",
              "      filter: drop-shadow(0px 1px 2px rgba(0, 0, 0, 0.3));\n",
              "      fill: #FFFFFF;\n",
              "    }\n",
              "  </style>\n",
              "\n",
              "      <script>\n",
              "        const buttonEl =\n",
              "          document.querySelector('#df-12e2537a-0820-4dca-8d4f-ed86b60e9e10 button.colab-df-convert');\n",
              "        buttonEl.style.display =\n",
              "          google.colab.kernel.accessAllowed ? 'block' : 'none';\n",
              "\n",
              "        async function convertToInteractive(key) {\n",
              "          const element = document.querySelector('#df-12e2537a-0820-4dca-8d4f-ed86b60e9e10');\n",
              "          const dataTable =\n",
              "            await google.colab.kernel.invokeFunction('convertToInteractive',\n",
              "                                                     [key], {});\n",
              "          if (!dataTable) return;\n",
              "\n",
              "          const docLinkHtml = 'Like what you see? Visit the ' +\n",
              "            '<a target=\"_blank\" href=https://colab.research.google.com/notebooks/data_table.ipynb>data table notebook</a>'\n",
              "            + ' to learn more about interactive tables.';\n",
              "          element.innerHTML = '';\n",
              "          dataTable['output_type'] = 'display_data';\n",
              "          await google.colab.output.renderOutput(dataTable, element);\n",
              "          const docLink = document.createElement('div');\n",
              "          docLink.innerHTML = docLinkHtml;\n",
              "          element.appendChild(docLink);\n",
              "        }\n",
              "      </script>\n",
              "    </div>\n",
              "  </div>\n",
              "  "
            ]
          },
          "metadata": {},
          "execution_count": 4
        }
      ]
    },
    {
      "cell_type": "code",
      "source": [
        "print('This data frame has {} rows and {} columns.'.format(df.shape[0], df.shape[1]))"
      ],
      "metadata": {
        "execution": {
          "iopub.status.busy": "2022-03-09T19:23:12.757255Z",
          "iopub.execute_input": "2022-03-09T19:23:12.757987Z",
          "iopub.status.idle": "2022-03-09T19:23:12.764342Z",
          "shell.execute_reply.started": "2022-03-09T19:23:12.757941Z",
          "shell.execute_reply": "2022-03-09T19:23:12.763522Z"
        },
        "trusted": true,
        "colab": {
          "base_uri": "https://localhost:8080/"
        },
        "id": "arZi9AlaDBbj",
        "outputId": "9697d222-bfe1-47e3-9bd8-ade1b73799c9"
      },
      "execution_count": 5,
      "outputs": [
        {
          "output_type": "stream",
          "name": "stdout",
          "text": [
            "This data frame has 12500000 rows and 9 columns.\n"
          ]
        }
      ]
    },
    {
      "cell_type": "code",
      "source": [
        "sequence_length = 200"
      ],
      "metadata": {
        "id": "sQuCtzlWHtuA"
      },
      "execution_count": 6,
      "outputs": []
    },
    {
      "cell_type": "code",
      "source": [
        "def generate_data(X, y, sequence_length = 200, step = 200):\n",
        "    X_local = []\n",
        "    y_local = []\n",
        "    for start in range(0, len(df) - sequence_length, step):\n",
        "        end = start + sequence_length\n",
        "        X_local.append(X[start:end])\n",
        "        y_local.append(y[end-1])\n",
        "    return np.array(X_local), np.array(y_local)\n",
        "\n",
        "X_sequence, y = generate_data(df.loc[:, [\"tachometer\", \"und-accelerometer-axial\", \"und-accelerometer-radial\", \"und-accelerometer-tangential\", \"over-accelerometer-axial\", \"over-accelerometer-radial\", \"over-accelerometer-tangential\", \"microphone\"]].values, df.Class)\n",
        "#X_sequence, y = generate_data(data.loc[:, [\"und-accelerometer-axial\", \"und-accelerometer-radial\", \"und-accelerometer-tangential\", \"microphone\"]].values, data.Class)\n"
      ],
      "metadata": {
        "id": "t8BAt_GCHwHJ"
      },
      "execution_count": 7,
      "outputs": []
    },
    {
      "cell_type": "code",
      "source": [
        "X_sequence.shape, y.shape"
      ],
      "metadata": {
        "colab": {
          "base_uri": "https://localhost:8080/"
        },
        "id": "QDTrbvinHxLi",
        "outputId": "50124340-371b-4c82-efcc-4dd3c6ebd208"
      },
      "execution_count": 8,
      "outputs": [
        {
          "output_type": "execute_result",
          "data": {
            "text/plain": [
              "((62499, 200, 8), (62499,))"
            ]
          },
          "metadata": {},
          "execution_count": 8
        }
      ]
    },
    {
      "cell_type": "code",
      "source": [
        "#count of fraud vs. normal transactions \n",
        "\n",
        "#counts = df.Class.value_counts()\n",
        "#normal = counts[0]\n",
        "#imbalance = counts[1]\n",
        "#perc_normal = (normal/(normal+imbalance))*100\n",
        "#perc_imbalance = (imbalance/(normal+imbalance))*100\n",
        "#print('There were {} normal data ({:.3f}%) and {} imbalance transactions ({:.3f}%).'.format(normal, perc_normal, imbalance, perc_imbalance))"
      ],
      "metadata": {
        "execution": {
          "iopub.status.busy": "2022-03-09T19:23:12.766985Z",
          "iopub.execute_input": "2022-03-09T19:23:12.767640Z",
          "iopub.status.idle": "2022-03-09T19:23:12.783789Z",
          "shell.execute_reply.started": "2022-03-09T19:23:12.767597Z",
          "shell.execute_reply": "2022-03-09T19:23:12.782867Z"
        },
        "trusted": true,
        "id": "eA2qdt1gDBbl"
      },
      "execution_count": 9,
      "outputs": []
    },
    {
      "cell_type": "code",
      "source": [
        "#plt.figure(figsize=(10,8))\n",
        "#sns.barplot(X_sequence=counts.index, y=counts)\n",
        "#plt.title('Normal vs. Imbalance')\n",
        "#plt.ylabel('Count')\n",
        "#plt.xlabel('Class (0:Normal, 1:Imbalance)')"
      ],
      "metadata": {
        "execution": {
          "iopub.status.busy": "2022-03-09T19:23:12.786086Z",
          "iopub.execute_input": "2022-03-09T19:23:12.786478Z",
          "iopub.status.idle": "2022-03-09T19:23:13.024171Z",
          "shell.execute_reply.started": "2022-03-09T19:23:12.786436Z",
          "shell.execute_reply": "2022-03-09T19:23:13.023484Z"
        },
        "trusted": true,
        "id": "P3Dh62YzDBbn"
      },
      "execution_count": 10,
      "outputs": []
    },
    {
      "cell_type": "code",
      "source": [
        "#finding correlation between columns and plotting heatmap\n",
        "\n",
        "corr = df.corr()\n",
        "plt.figure(figsize=(12,10))\n",
        "heat = sns.heatmap(data=corr)\n",
        "plt.title('Heatmap of Correlation')"
      ],
      "metadata": {
        "execution": {
          "iopub.status.busy": "2022-03-09T19:23:13.025311Z",
          "iopub.execute_input": "2022-03-09T19:23:13.025868Z",
          "iopub.status.idle": "2022-03-09T19:23:14.431178Z",
          "shell.execute_reply.started": "2022-03-09T19:23:13.025827Z",
          "shell.execute_reply": "2022-03-09T19:23:14.430421Z"
        },
        "trusted": true,
        "colab": {
          "base_uri": "https://localhost:8080/",
          "height": 768
        },
        "id": "UqKCOanUDBbo",
        "outputId": "b83d3565-6e64-4c9c-dffc-ae9dd944e58e"
      },
      "execution_count": 11,
      "outputs": [
        {
          "output_type": "execute_result",
          "data": {
            "text/plain": [
              "Text(0.5, 1.0, 'Heatmap of Correlation')"
            ]
          },
          "metadata": {},
          "execution_count": 11
        },
        {
          "output_type": "display_data",
          "data": {
            "text/plain": [
              "<Figure size 864x720 with 2 Axes>"
            ],
            "image/png": "[encoded data removed]"
          },
          "metadata": {
            "needs_background": "light"
          }
        }
      ]
    },
    {
      "cell_type": "code",
      "source": [
        "df.isnull().sum()"
      ],
      "metadata": {
        "execution": {
          "iopub.status.busy": "2022-03-09T19:23:14.432637Z",
          "iopub.execute_input": "2022-03-09T19:23:14.433073Z",
          "iopub.status.idle": "2022-03-09T19:23:14.460344Z",
          "shell.execute_reply.started": "2022-03-09T19:23:14.433032Z",
          "shell.execute_reply": "2022-03-09T19:23:14.459495Z"
        },
        "trusted": true,
        "colab": {
          "base_uri": "https://localhost:8080/"
        },
        "id": "uj4iNgxZDBbq",
        "outputId": "5f68a5f7-f908-4371-f928-86f740bf143c"
      },
      "execution_count": 12,
      "outputs": [
        {
          "output_type": "execute_result",
          "data": {
            "text/plain": [
              "tachometer                       0\n",
              "und-accelerometer-axial          0\n",
              "und-accelerometer-radial         0\n",
              "und-accelerometer-tangential     0\n",
              "over-accelerometer-axial         0\n",
              "over-accelerometer-radial        0\n",
              "over-accelerometer-tangential    0\n",
              "microphone                       0\n",
              "Class                            0\n",
              "dtype: int64"
            ]
          },
          "metadata": {},
          "execution_count": 12
        }
      ]
    },
    {
      "cell_type": "code",
      "source": [
        "df.info()"
      ],
      "metadata": {
        "execution": {
          "iopub.status.busy": "2022-03-09T19:23:14.461935Z",
          "iopub.execute_input": "2022-03-09T19:23:14.462215Z",
          "iopub.status.idle": "2022-03-09T19:23:14.497983Z",
          "shell.execute_reply.started": "2022-03-09T19:23:14.462165Z",
          "shell.execute_reply": "2022-03-09T19:23:14.497096Z"
        },
        "trusted": true,
        "colab": {
          "base_uri": "https://localhost:8080/"
        },
        "id": "oF2RDWabDBbs",
        "outputId": "6d3231c7-2ce9-4078-c47d-3e05a98de7d4"
      },
      "execution_count": 13,
      "outputs": [
        {
          "output_type": "stream",
          "name": "stdout",
          "text": [
            "<class 'pandas.core.frame.DataFrame'>\n",
            "RangeIndex: 12500000 entries, 0 to 12499999\n",
            "Data columns (total 9 columns):\n",
            " #   Column                         Dtype  \n",
            "---  ------                         -----  \n",
            " 0   tachometer                     float64\n",
            " 1   und-accelerometer-axial        float64\n",
            " 2   und-accelerometer-radial       float64\n",
            " 3   und-accelerometer-tangential   float64\n",
            " 4   over-accelerometer-axial       float64\n",
            " 5   over-accelerometer-radial      float64\n",
            " 6   over-accelerometer-tangential  float64\n",
            " 7   microphone                     float64\n",
            " 8   Class                          int64  \n",
            "dtypes: float64(8), int64(1)\n",
            "memory usage: 858.3 MB\n"
          ]
        }
      ]
    },
    {
      "cell_type": "code",
      "source": [
        "data=df.copy()"
      ],
      "metadata": {
        "id": "SAeHnxOIV8MT"
      },
      "execution_count": 14,
      "outputs": []
    },
    {
      "cell_type": "code",
      "source": [
        "data.info()"
      ],
      "metadata": {
        "colab": {
          "base_uri": "https://localhost:8080/"
        },
        "id": "tSM1lWrcV-0Q",
        "outputId": "cf65b479-824d-4353-deea-fb237979348e"
      },
      "execution_count": 15,
      "outputs": [
        {
          "output_type": "stream",
          "name": "stdout",
          "text": [
            "<class 'pandas.core.frame.DataFrame'>\n",
            "RangeIndex: 12500000 entries, 0 to 12499999\n",
            "Data columns (total 9 columns):\n",
            " #   Column                         Dtype  \n",
            "---  ------                         -----  \n",
            " 0   tachometer                     float64\n",
            " 1   und-accelerometer-axial        float64\n",
            " 2   und-accelerometer-radial       float64\n",
            " 3   und-accelerometer-tangential   float64\n",
            " 4   over-accelerometer-axial       float64\n",
            " 5   over-accelerometer-radial      float64\n",
            " 6   over-accelerometer-tangential  float64\n",
            " 7   microphone                     float64\n",
            " 8   Class                          int64  \n",
            "dtypes: float64(8), int64(1)\n",
            "memory usage: 858.3 MB\n"
          ]
        }
      ]
    },
    {
      "cell_type": "code",
      "source": [
        "df = 0"
      ],
      "metadata": {
        "id": "X7yTl6skVBdf"
      },
      "execution_count": 16,
      "outputs": []
    },
    {
      "cell_type": "markdown",
      "source": [
        "**Model-1(Over Sampling)**"
      ],
      "metadata": {
        "id": "sfJm8G7MDBbw"
      }
    },
    {
      "cell_type": "code",
      "source": [
        "# Create two different dataframes of majority and minority class \n",
        "#df_fraud = data[data.Class==1]\n",
        "#df_non_fraud = data[data.Class==0]\n",
        "\n",
        "# Oversample the minority class\n",
        "#from sklearn.utils import resample\n",
        "#df_fraud_oversampled = resample(df_fraud, \n",
        "#                                 replace=True,    # sample with replacement\n",
        "#                                 n_samples=len(df_non_fraud) , # to match majority class with len(df_majority) rows\n",
        "#                                 random_state=42)  # reproducible results\n",
        "\n",
        "# Combine majority class with oversampled minority class\n",
        "#df_oversampled = pd.concat([df_fraud_oversampled, df_non_fraud])"
      ],
      "metadata": {
        "execution": {
          "iopub.status.busy": "2022-03-09T19:23:14.568720Z",
          "iopub.execute_input": "2022-03-09T19:23:14.569000Z",
          "iopub.status.idle": "2022-03-09T19:23:14.683613Z",
          "shell.execute_reply.started": "2022-03-09T19:23:14.568964Z",
          "shell.execute_reply": "2022-03-09T19:23:14.682826Z"
        },
        "trusted": true,
        "id": "SoSbDG7ADBbz"
      },
      "execution_count": 17,
      "outputs": []
    },
    {
      "cell_type": "code",
      "source": [
        "#df_oversampled.Class.value_counts()"
      ],
      "metadata": {
        "execution": {
          "iopub.status.busy": "2022-03-09T19:23:14.685296Z",
          "iopub.execute_input": "2022-03-09T19:23:14.685566Z",
          "iopub.status.idle": "2022-03-09T19:23:14.695024Z",
          "shell.execute_reply.started": "2022-03-09T19:23:14.685530Z",
          "shell.execute_reply": "2022-03-09T19:23:14.694258Z"
        },
        "trusted": true,
        "id": "QREWWAaBDBb0"
      },
      "execution_count": 18,
      "outputs": []
    },
    {
      "cell_type": "code",
      "source": [
        "#g = sns.countplot(df_oversampled.Class)\n",
        "#g.set_xticklabels(['Normal','Imbalance'])"
      ],
      "metadata": {
        "execution": {
          "iopub.status.busy": "2022-03-09T19:23:14.699945Z",
          "iopub.execute_input": "2022-03-09T19:23:14.700544Z",
          "iopub.status.idle": "2022-03-09T19:23:14.914051Z",
          "shell.execute_reply.started": "2022-03-09T19:23:14.700504Z",
          "shell.execute_reply": "2022-03-09T19:23:14.913247Z"
        },
        "trusted": true,
        "id": "kAiI821mDBb1"
      },
      "execution_count": 19,
      "outputs": []
    },
    {
      "cell_type": "code",
      "source": [
        "# Target y and features X for developing NN models\n",
        "#y = df_oversampled.Class\n",
        "#X = df_oversampled.drop(['Class'], axis=1)"
      ],
      "metadata": {
        "execution": {
          "iopub.status.busy": "2022-03-09T19:23:14.915669Z",
          "iopub.execute_input": "2022-03-09T19:23:14.916177Z",
          "iopub.status.idle": "2022-03-09T19:23:14.967971Z",
          "shell.execute_reply.started": "2022-03-09T19:23:14.916138Z",
          "shell.execute_reply": "2022-03-09T19:23:14.967121Z"
        },
        "trusted": true,
        "id": "aHoU-OocDBb3"
      },
      "execution_count": 20,
      "outputs": []
    },
    {
      "cell_type": "code",
      "source": [
        "from sklearn.model_selection import train_test_split\n",
        "from sklearn.metrics import recall_score, precision_score, f1_score, roc_auc_score, confusion_matrix, roc_curve, roc_auc_score"
      ],
      "metadata": {
        "execution": {
          "iopub.status.busy": "2022-03-09T19:23:14.969061Z",
          "iopub.execute_input": "2022-03-09T19:23:14.969319Z",
          "iopub.status.idle": "2022-03-09T19:23:14.978210Z",
          "shell.execute_reply.started": "2022-03-09T19:23:14.969291Z",
          "shell.execute_reply": "2022-03-09T19:23:14.977270Z"
        },
        "trusted": true,
        "id": "qzggi-JkDBb4"
      },
      "execution_count": 21,
      "outputs": []
    },
    {
      "cell_type": "code",
      "source": [
        "shuffler = np.random.permutation(len(X_sequence))\n",
        "X_sequence_shuffled = X_sequence[shuffler]\n",
        "y_shuffled = y[shuffler]"
      ],
      "metadata": {
        "id": "8v24AvsuJyvr"
      },
      "execution_count": 22,
      "outputs": []
    },
    {
      "cell_type": "code",
      "source": [
        "training_size = int(len(X_sequence) * 0.8)\n",
        "val_size = int(len(X_sequence) * 0.9)"
      ],
      "metadata": {
        "id": "WbKhe6veJzmK"
      },
      "execution_count": 23,
      "outputs": []
    },
    {
      "cell_type": "code",
      "source": [
        "X_train, y_train = X_sequence_shuffled[:training_size], y_shuffled[:training_size]\n",
        "X_val, y_val = X_sequence_shuffled[training_size:val_size], y_shuffled[training_size:val_size]\n",
        "X_test, y_test = X_sequence_shuffled[val_size:], y_shuffled[val_size:]"
      ],
      "metadata": {
        "id": "YSoZ42lUJ-i0"
      },
      "execution_count": 24,
      "outputs": []
    },
    {
      "cell_type": "code",
      "source": [
        "# split the data (X, y) to train-data and test-data\n",
        "#X_train, X_test, y_train, y_test = train_test_split(X, y, test_size=0.2, stratify=y, random_state=101)"
      ],
      "metadata": {
        "execution": {
          "iopub.status.busy": "2022-03-09T19:23:14.980009Z",
          "iopub.execute_input": "2022-03-09T19:23:14.980658Z",
          "iopub.status.idle": "2022-03-09T19:23:15.370819Z",
          "shell.execute_reply.started": "2022-03-09T19:23:14.980595Z",
          "shell.execute_reply": "2022-03-09T19:23:15.370074Z"
        },
        "trusted": true,
        "id": "sN5Yy5OoDBb4"
      },
      "execution_count": 25,
      "outputs": []
    },
    {
      "cell_type": "code",
      "source": [
        "X_train.shape, X_test.shape"
      ],
      "metadata": {
        "execution": {
          "iopub.status.busy": "2022-03-09T19:23:15.372239Z",
          "iopub.execute_input": "2022-03-09T19:23:15.372500Z",
          "iopub.status.idle": "2022-03-09T19:23:15.379608Z",
          "shell.execute_reply.started": "2022-03-09T19:23:15.372464Z",
          "shell.execute_reply": "2022-03-09T19:23:15.378724Z"
        },
        "trusted": true,
        "colab": {
          "base_uri": "https://localhost:8080/"
        },
        "id": "qsFy6tJbDBb6",
        "outputId": "742560e7-91ef-4033-8f0a-ad13087faf07"
      },
      "execution_count": 26,
      "outputs": [
        {
          "output_type": "execute_result",
          "data": {
            "text/plain": [
              "((49999, 200, 8), (6250, 200, 8))"
            ]
          },
          "metadata": {},
          "execution_count": 26
        }
      ]
    },
    {
      "cell_type": "code",
      "source": [
        "data = 0\n",
        "X_sequence = 0\n",
        "y = 0"
      ],
      "metadata": {
        "id": "N6kpMmoMIp3I"
      },
      "execution_count": 27,
      "outputs": []
    },
    {
      "cell_type": "code",
      "source": [
        "#scaler = StandardScaler()\n",
        "#X_train = scaler.fit_transform(X_train)\n",
        "#X_test = scaler.transform(X_test)"
      ],
      "metadata": {
        "execution": {
          "iopub.status.busy": "2022-03-09T19:23:15.381215Z",
          "iopub.execute_input": "2022-03-09T19:23:15.382209Z",
          "iopub.status.idle": "2022-03-09T19:23:15.589013Z",
          "shell.execute_reply.started": "2022-03-09T19:23:15.382154Z",
          "shell.execute_reply": "2022-03-09T19:23:15.588240Z"
        },
        "trusted": true,
        "id": "o7MfFDcfDBb7"
      },
      "execution_count": 28,
      "outputs": []
    },
    {
      "cell_type": "code",
      "source": [
        "#y_train = y_train.to_numpy()\n",
        "#y_test = y_test.to_numpy()"
      ],
      "metadata": {
        "execution": {
          "iopub.status.busy": "2022-03-09T19:23:15.590487Z",
          "iopub.execute_input": "2022-03-09T19:23:15.590757Z",
          "iopub.status.idle": "2022-03-09T19:23:15.597168Z",
          "shell.execute_reply.started": "2022-03-09T19:23:15.590720Z",
          "shell.execute_reply": "2022-03-09T19:23:15.596423Z"
        },
        "trusted": true,
        "id": "zbUx5MTwDBb8"
      },
      "execution_count": 29,
      "outputs": []
    },
    {
      "cell_type": "code",
      "source": [
        "#X_train = X_train.reshape(X_train.shape[0], X_train.shape[1], 1)\n",
        "#X_test = X_test.reshape(X_test.shape[0], X_test.shape[1], 1)"
      ],
      "metadata": {
        "execution": {
          "iopub.status.busy": "2022-03-09T19:23:15.598873Z",
          "iopub.execute_input": "2022-03-09T19:23:15.599216Z",
          "iopub.status.idle": "2022-03-09T19:23:15.605636Z",
          "shell.execute_reply.started": "2022-03-09T19:23:15.599161Z",
          "shell.execute_reply": "2022-03-09T19:23:15.604304Z"
        },
        "trusted": true,
        "id": "G5442zLgDBb8"
      },
      "execution_count": 30,
      "outputs": []
    },
    {
      "cell_type": "code",
      "source": [
        "X_train.shape, X_test.shape"
      ],
      "metadata": {
        "execution": {
          "iopub.status.busy": "2022-03-09T19:23:15.607548Z",
          "iopub.execute_input": "2022-03-09T19:23:15.607888Z",
          "iopub.status.idle": "2022-03-09T19:23:15.616413Z",
          "shell.execute_reply.started": "2022-03-09T19:23:15.607844Z",
          "shell.execute_reply": "2022-03-09T19:23:15.615560Z"
        },
        "trusted": true,
        "colab": {
          "base_uri": "https://localhost:8080/"
        },
        "id": "3nz3AYtSDBb9",
        "outputId": "6304ba68-bb96-4640-e77b-82cedf1b34a5"
      },
      "execution_count": 31,
      "outputs": [
        {
          "output_type": "execute_result",
          "data": {
            "text/plain": [
              "((49999, 200, 8), (6250, 200, 8))"
            ]
          },
          "metadata": {},
          "execution_count": 31
        }
      ]
    },
    {
      "cell_type": "code",
      "source": [
        "epochs=100\n",
        "model_cnn = tf.keras.models.Sequential([\n",
        "    tf.keras.layers.Conv1D(filters=32, kernel_size=3, activation='relu', input_shape=X_train[0].shape),\n",
        "    tf.keras.layers.MaxPooling1D(pool_size=1),\n",
        "    tf.keras.layers.Conv1D(filters=64, kernel_size=3, activation='relu'),\n",
        "    tf.keras.layers.MaxPooling1D((1)),\n",
        "    tf.keras.layers.Conv1D(filters=64, kernel_size=3, activation='relu'),\n",
        "    tf.keras.layers.Flatten(),\n",
        "    tf.keras.layers.Dense(512,activation='relu'),\n",
        "    tf.keras.layers.Dense(1,activation='sigmoid')\n",
        "])\n",
        "\n",
        "model_cnn.summary()"
      ],
      "metadata": {
        "execution": {
          "iopub.status.busy": "2022-03-09T19:23:15.617846Z",
          "iopub.execute_input": "2022-03-09T19:23:15.618376Z",
          "iopub.status.idle": "2022-03-09T19:23:19.306227Z",
          "shell.execute_reply.started": "2022-03-09T19:23:15.618335Z",
          "shell.execute_reply": "2022-03-09T19:23:19.305528Z"
        },
        "trusted": true,
        "colab": {
          "base_uri": "https://localhost:8080/"
        },
        "id": "DYCaNKhfDBb-",
        "outputId": "9238e4c3-2481-4e77-abe5-8b8456e9b2be"
      },
      "execution_count": 32,
      "outputs": [
        {
          "output_type": "stream",
          "name": "stdout",
          "text": [
            "Model: \"sequential\"\n",
            "_________________________________________________________________\n",
            " Layer (type)                Output Shape              Param #   \n",
            "=================================================================\n",
            " conv1d (Conv1D)             (None, 198, 32)           800       \n",
            "                                                                 \n",
            " max_pooling1d (MaxPooling1D  (None, 198, 32)          0         \n",
            " )                                                               \n",
            "                                                                 \n",
            " conv1d_1 (Conv1D)           (None, 196, 64)           6208      \n",
            "                                                                 \n",
            " max_pooling1d_1 (MaxPooling  (None, 196, 64)          0         \n",
            " 1D)                                                             \n",
            "                                                                 \n",
            " conv1d_2 (Conv1D)           (None, 194, 64)           12352     \n",
            "                                                                 \n",
            " flatten (Flatten)           (None, 12416)             0         \n",
            "                                                                 \n",
            " dense (Dense)               (None, 512)               6357504   \n",
            "                                                                 \n",
            " dense_1 (Dense)             (None, 1)                 513       \n",
            "                                                                 \n",
            "=================================================================\n",
            "Total params: 6,377,377\n",
            "Trainable params: 6,377,377\n",
            "Non-trainable params: 0\n",
            "_________________________________________________________________\n"
          ]
        }
      ]
    },
    {
      "cell_type": "code",
      "source": [
        "# Compile the model as usual\n",
        "optimizer = tf.keras.optimizers.Adam(lr=0.0001)\n",
        "model_cnn.compile(optimizer=optimizer,\n",
        "                 loss='binary_crossentropy',\n",
        "                 metrics=['accuracy'])"
      ],
      "metadata": {
        "execution": {
          "iopub.status.busy": "2022-03-09T19:23:19.307548Z",
          "iopub.execute_input": "2022-03-09T19:23:19.307966Z",
          "iopub.status.idle": "2022-03-09T19:23:19.324570Z",
          "shell.execute_reply.started": "2022-03-09T19:23:19.307923Z",
          "shell.execute_reply": "2022-03-09T19:23:19.323764Z"
        },
        "trusted": true,
        "id": "fCnzSVEQDBb-"
      },
      "execution_count": 33,
      "outputs": []
    },
    {
      "cell_type": "code",
      "source": [
        "# Train the model\n",
        "history = model_cnn.fit(X_train, y_train, epochs=100, batch_size=512, validation_data=(X_val, y_val))"
      ],
      "metadata": {
        "execution": {
          "iopub.status.busy": "2022-03-09T19:23:19.326061Z",
          "iopub.execute_input": "2022-03-09T19:23:19.326327Z",
          "iopub.status.idle": "2022-03-09T19:23:30.575919Z",
          "shell.execute_reply.started": "2022-03-09T19:23:19.326290Z",
          "shell.execute_reply": "2022-03-09T19:23:30.572061Z"
        },
        "trusted": true,
        "colab": {
          "base_uri": "https://localhost:8080/"
        },
        "id": "dEMiORgIDBb_",
        "outputId": "2f568464-da1d-4c10-aa80-e11fea92f1c4"
      },
      "execution_count": 34,
      "outputs": [
        {
          "output_type": "stream",
          "name": "stdout",
          "text": [
            "Epoch 1/100\n",
            "98/98 [==============================] - 15s 52ms/step - loss: 0.4033 - accuracy: 0.8153 - val_loss: 0.2569 - val_accuracy: 0.8960\n",
            "Epoch 2/100\n",
            "98/98 [==============================] - 4s 43ms/step - loss: 0.2063 - accuracy: 0.9201 - val_loss: 0.1678 - val_accuracy: 0.9358\n",
            "Epoch 3/100\n",
            "98/98 [==============================] - 4s 43ms/step - loss: 0.1523 - accuracy: 0.9412 - val_loss: 0.1348 - val_accuracy: 0.9469\n",
            "Epoch 4/100\n",
            "98/98 [==============================] - 4s 45ms/step - loss: 0.1227 - accuracy: 0.9537 - val_loss: 0.1076 - val_accuracy: 0.9613\n",
            "Epoch 5/100\n",
            "98/98 [==============================] - 4s 44ms/step - loss: 0.1078 - accuracy: 0.9595 - val_loss: 0.0944 - val_accuracy: 0.9637\n",
            "Epoch 6/100\n",
            "98/98 [==============================] - 4s 43ms/step - loss: 0.0955 - accuracy: 0.9650 - val_loss: 0.0840 - val_accuracy: 0.9690\n",
            "Epoch 7/100\n",
            "98/98 [==============================] - 4s 43ms/step - loss: 0.0841 - accuracy: 0.9694 - val_loss: 0.0813 - val_accuracy: 0.9710\n",
            "Epoch 8/100\n",
            "98/98 [==============================] - 4s 43ms/step - loss: 0.0795 - accuracy: 0.9708 - val_loss: 0.0716 - val_accuracy: 0.9736\n",
            "Epoch 9/100\n",
            "98/98 [==============================] - 4s 43ms/step - loss: 0.0749 - accuracy: 0.9726 - val_loss: 0.0653 - val_accuracy: 0.9754\n",
            "Epoch 10/100\n",
            "98/98 [==============================] - 4s 44ms/step - loss: 0.0679 - accuracy: 0.9756 - val_loss: 0.0654 - val_accuracy: 0.9779\n",
            "Epoch 11/100\n",
            "98/98 [==============================] - 4s 44ms/step - loss: 0.0636 - accuracy: 0.9765 - val_loss: 0.0583 - val_accuracy: 0.9794\n",
            "Epoch 12/100\n",
            "98/98 [==============================] - 4s 44ms/step - loss: 0.0577 - accuracy: 0.9794 - val_loss: 0.0588 - val_accuracy: 0.9800\n",
            "Epoch 13/100\n",
            "98/98 [==============================] - 4s 45ms/step - loss: 0.0547 - accuracy: 0.9803 - val_loss: 0.0590 - val_accuracy: 0.9768\n",
            "Epoch 14/100\n",
            "98/98 [==============================] - 4s 44ms/step - loss: 0.0546 - accuracy: 0.9801 - val_loss: 0.0544 - val_accuracy: 0.9794\n",
            "Epoch 15/100\n",
            "98/98 [==============================] - 5s 46ms/step - loss: 0.0496 - accuracy: 0.9828 - val_loss: 0.0516 - val_accuracy: 0.9810\n",
            "Epoch 16/100\n",
            "98/98 [==============================] - 4s 44ms/step - loss: 0.0490 - accuracy: 0.9820 - val_loss: 0.0507 - val_accuracy: 0.9827\n",
            "Epoch 17/100\n",
            "98/98 [==============================] - 4s 45ms/step - loss: 0.0447 - accuracy: 0.9838 - val_loss: 0.0464 - val_accuracy: 0.9842\n",
            "Epoch 18/100\n",
            "98/98 [==============================] - 4s 45ms/step - loss: 0.0440 - accuracy: 0.9839 - val_loss: 0.0509 - val_accuracy: 0.9810\n",
            "Epoch 19/100\n",
            "98/98 [==============================] - 4s 44ms/step - loss: 0.0404 - accuracy: 0.9858 - val_loss: 0.0437 - val_accuracy: 0.9842\n",
            "Epoch 20/100\n",
            "98/98 [==============================] - 4s 45ms/step - loss: 0.0435 - accuracy: 0.9834 - val_loss: 0.0417 - val_accuracy: 0.9854\n",
            "Epoch 21/100\n",
            "98/98 [==============================] - 4s 44ms/step - loss: 0.0359 - accuracy: 0.9873 - val_loss: 0.0434 - val_accuracy: 0.9853\n",
            "Epoch 22/100\n",
            "98/98 [==============================] - 4s 44ms/step - loss: 0.0349 - accuracy: 0.9876 - val_loss: 0.0420 - val_accuracy: 0.9859\n",
            "Epoch 23/100\n",
            "98/98 [==============================] - 4s 45ms/step - loss: 0.0320 - accuracy: 0.9890 - val_loss: 0.0408 - val_accuracy: 0.9843\n",
            "Epoch 24/100\n",
            "98/98 [==============================] - 4s 44ms/step - loss: 0.0318 - accuracy: 0.9887 - val_loss: 0.0391 - val_accuracy: 0.9859\n",
            "Epoch 25/100\n",
            "98/98 [==============================] - 4s 44ms/step - loss: 0.0340 - accuracy: 0.9875 - val_loss: 0.0382 - val_accuracy: 0.9859\n",
            "Epoch 26/100\n",
            "98/98 [==============================] - 4s 45ms/step - loss: 0.0306 - accuracy: 0.9894 - val_loss: 0.0392 - val_accuracy: 0.9866\n",
            "Epoch 27/100\n",
            "98/98 [==============================] - 4s 44ms/step - loss: 0.0309 - accuracy: 0.9890 - val_loss: 0.0385 - val_accuracy: 0.9848\n",
            "Epoch 28/100\n",
            "98/98 [==============================] - 4s 44ms/step - loss: 0.0289 - accuracy: 0.9899 - val_loss: 0.0401 - val_accuracy: 0.9867\n",
            "Epoch 29/100\n",
            "98/98 [==============================] - 4s 44ms/step - loss: 0.0297 - accuracy: 0.9896 - val_loss: 0.0364 - val_accuracy: 0.9872\n",
            "Epoch 30/100\n",
            "98/98 [==============================] - 4s 44ms/step - loss: 0.0252 - accuracy: 0.9910 - val_loss: 0.0331 - val_accuracy: 0.9888\n",
            "Epoch 31/100\n",
            "98/98 [==============================] - 4s 44ms/step - loss: 0.0245 - accuracy: 0.9917 - val_loss: 0.0341 - val_accuracy: 0.9880\n",
            "Epoch 32/100\n",
            "98/98 [==============================] - 4s 44ms/step - loss: 0.0223 - accuracy: 0.9924 - val_loss: 0.0336 - val_accuracy: 0.9885\n",
            "Epoch 33/100\n",
            "98/98 [==============================] - 4s 44ms/step - loss: 0.0240 - accuracy: 0.9913 - val_loss: 0.0336 - val_accuracy: 0.9883\n",
            "Epoch 34/100\n",
            "98/98 [==============================] - 4s 44ms/step - loss: 0.0218 - accuracy: 0.9925 - val_loss: 0.0324 - val_accuracy: 0.9885\n",
            "Epoch 35/100\n",
            "98/98 [==============================] - 4s 45ms/step - loss: 0.0196 - accuracy: 0.9933 - val_loss: 0.0401 - val_accuracy: 0.9872\n",
            "Epoch 36/100\n",
            "98/98 [==============================] - 4s 44ms/step - loss: 0.0210 - accuracy: 0.9929 - val_loss: 0.0307 - val_accuracy: 0.9894\n",
            "Epoch 37/100\n",
            "98/98 [==============================] - 4s 45ms/step - loss: 0.0179 - accuracy: 0.9940 - val_loss: 0.0297 - val_accuracy: 0.9901\n",
            "Epoch 38/100\n",
            "98/98 [==============================] - 5s 46ms/step - loss: 0.0178 - accuracy: 0.9939 - val_loss: 0.0374 - val_accuracy: 0.9878\n",
            "Epoch 39/100\n",
            "98/98 [==============================] - 4s 43ms/step - loss: 0.0180 - accuracy: 0.9941 - val_loss: 0.0299 - val_accuracy: 0.9893\n",
            "Epoch 40/100\n",
            "98/98 [==============================] - 4s 43ms/step - loss: 0.0186 - accuracy: 0.9937 - val_loss: 0.0290 - val_accuracy: 0.9906\n",
            "Epoch 41/100\n",
            "98/98 [==============================] - 4s 44ms/step - loss: 0.0159 - accuracy: 0.9951 - val_loss: 0.0399 - val_accuracy: 0.9870\n",
            "Epoch 42/100\n",
            "98/98 [==============================] - 4s 43ms/step - loss: 0.0151 - accuracy: 0.9951 - val_loss: 0.0279 - val_accuracy: 0.9896\n",
            "Epoch 43/100\n",
            "98/98 [==============================] - 4s 44ms/step - loss: 0.0147 - accuracy: 0.9951 - val_loss: 0.0267 - val_accuracy: 0.9910\n",
            "Epoch 44/100\n",
            "98/98 [==============================] - 4s 44ms/step - loss: 0.0138 - accuracy: 0.9957 - val_loss: 0.0372 - val_accuracy: 0.9848\n",
            "Epoch 45/100\n",
            "98/98 [==============================] - 4s 44ms/step - loss: 0.0165 - accuracy: 0.9943 - val_loss: 0.0292 - val_accuracy: 0.9896\n",
            "Epoch 46/100\n",
            "98/98 [==============================] - 4s 43ms/step - loss: 0.0157 - accuracy: 0.9945 - val_loss: 0.0276 - val_accuracy: 0.9915\n",
            "Epoch 47/100\n",
            "98/98 [==============================] - 4s 44ms/step - loss: 0.0123 - accuracy: 0.9964 - val_loss: 0.0257 - val_accuracy: 0.9907\n",
            "Epoch 48/100\n",
            "98/98 [==============================] - 4s 45ms/step - loss: 0.0119 - accuracy: 0.9962 - val_loss: 0.0360 - val_accuracy: 0.9891\n",
            "Epoch 49/100\n",
            "98/98 [==============================] - 4s 44ms/step - loss: 0.0112 - accuracy: 0.9967 - val_loss: 0.0296 - val_accuracy: 0.9894\n",
            "Epoch 50/100\n",
            "98/98 [==============================] - 4s 43ms/step - loss: 0.0124 - accuracy: 0.9959 - val_loss: 0.0279 - val_accuracy: 0.9893\n",
            "Epoch 51/100\n",
            "98/98 [==============================] - 4s 44ms/step - loss: 0.0111 - accuracy: 0.9964 - val_loss: 0.0242 - val_accuracy: 0.9909\n",
            "Epoch 52/100\n",
            "98/98 [==============================] - 4s 43ms/step - loss: 0.0093 - accuracy: 0.9973 - val_loss: 0.0302 - val_accuracy: 0.9894\n",
            "Epoch 53/100\n",
            "98/98 [==============================] - 4s 45ms/step - loss: 0.0119 - accuracy: 0.9962 - val_loss: 0.0277 - val_accuracy: 0.9906\n",
            "Epoch 54/100\n",
            "98/98 [==============================] - 4s 45ms/step - loss: 0.0094 - accuracy: 0.9969 - val_loss: 0.0272 - val_accuracy: 0.9904\n",
            "Epoch 55/100\n",
            "98/98 [==============================] - 4s 45ms/step - loss: 0.0080 - accuracy: 0.9978 - val_loss: 0.0285 - val_accuracy: 0.9902\n",
            "Epoch 56/100\n",
            "98/98 [==============================] - 4s 44ms/step - loss: 0.0094 - accuracy: 0.9972 - val_loss: 0.0238 - val_accuracy: 0.9928\n",
            "Epoch 57/100\n",
            "98/98 [==============================] - 4s 44ms/step - loss: 0.0071 - accuracy: 0.9983 - val_loss: 0.0360 - val_accuracy: 0.9872\n",
            "Epoch 58/100\n",
            "98/98 [==============================] - 4s 44ms/step - loss: 0.0078 - accuracy: 0.9977 - val_loss: 0.0262 - val_accuracy: 0.9918\n",
            "Epoch 59/100\n",
            "98/98 [==============================] - 4s 45ms/step - loss: 0.0073 - accuracy: 0.9980 - val_loss: 0.0361 - val_accuracy: 0.9882\n",
            "Epoch 60/100\n",
            "98/98 [==============================] - 4s 44ms/step - loss: 0.0097 - accuracy: 0.9967 - val_loss: 0.0238 - val_accuracy: 0.9923\n",
            "Epoch 61/100\n",
            "98/98 [==============================] - 4s 44ms/step - loss: 0.0071 - accuracy: 0.9979 - val_loss: 0.0302 - val_accuracy: 0.9891\n",
            "Epoch 62/100\n",
            "98/98 [==============================] - 4s 45ms/step - loss: 0.0075 - accuracy: 0.9978 - val_loss: 0.0244 - val_accuracy: 0.9926\n",
            "Epoch 63/100\n",
            "98/98 [==============================] - 4s 46ms/step - loss: 0.0053 - accuracy: 0.9988 - val_loss: 0.0248 - val_accuracy: 0.9925\n",
            "Epoch 64/100\n",
            "98/98 [==============================] - 4s 45ms/step - loss: 0.0056 - accuracy: 0.9985 - val_loss: 0.0373 - val_accuracy: 0.9912\n",
            "Epoch 65/100\n",
            "98/98 [==============================] - 4s 44ms/step - loss: 0.0059 - accuracy: 0.9983 - val_loss: 0.0243 - val_accuracy: 0.9923\n",
            "Epoch 66/100\n",
            "98/98 [==============================] - 4s 44ms/step - loss: 0.0053 - accuracy: 0.9989 - val_loss: 0.0301 - val_accuracy: 0.9899\n",
            "Epoch 67/100\n",
            "98/98 [==============================] - 4s 43ms/step - loss: 0.0052 - accuracy: 0.9986 - val_loss: 0.0285 - val_accuracy: 0.9918\n",
            "Epoch 68/100\n",
            "98/98 [==============================] - 4s 45ms/step - loss: 0.0043 - accuracy: 0.9991 - val_loss: 0.0265 - val_accuracy: 0.9923\n",
            "Epoch 69/100\n",
            "98/98 [==============================] - 4s 45ms/step - loss: 0.0061 - accuracy: 0.9982 - val_loss: 0.0251 - val_accuracy: 0.9922\n",
            "Epoch 70/100\n",
            "98/98 [==============================] - 4s 44ms/step - loss: 0.0044 - accuracy: 0.9991 - val_loss: 0.0309 - val_accuracy: 0.9918\n",
            "Epoch 71/100\n",
            "98/98 [==============================] - 4s 43ms/step - loss: 0.0093 - accuracy: 0.9972 - val_loss: 0.0400 - val_accuracy: 0.9904\n",
            "Epoch 72/100\n",
            "98/98 [==============================] - 4s 43ms/step - loss: 0.0087 - accuracy: 0.9974 - val_loss: 0.0394 - val_accuracy: 0.9861\n",
            "Epoch 73/100\n",
            "98/98 [==============================] - 4s 44ms/step - loss: 0.0043 - accuracy: 0.9991 - val_loss: 0.0214 - val_accuracy: 0.9923\n",
            "Epoch 74/100\n",
            "98/98 [==============================] - 4s 44ms/step - loss: 0.0028 - accuracy: 0.9997 - val_loss: 0.0264 - val_accuracy: 0.9915\n",
            "Epoch 75/100\n",
            "98/98 [==============================] - 4s 44ms/step - loss: 0.0027 - accuracy: 0.9997 - val_loss: 0.0220 - val_accuracy: 0.9934\n",
            "Epoch 76/100\n",
            "98/98 [==============================] - 4s 44ms/step - loss: 0.0099 - accuracy: 0.9968 - val_loss: 0.0773 - val_accuracy: 0.9802\n",
            "Epoch 77/100\n",
            "98/98 [==============================] - 4s 45ms/step - loss: 0.0084 - accuracy: 0.9974 - val_loss: 0.0223 - val_accuracy: 0.9923\n",
            "Epoch 78/100\n",
            "98/98 [==============================] - 4s 44ms/step - loss: 0.0027 - accuracy: 0.9997 - val_loss: 0.0238 - val_accuracy: 0.9923\n",
            "Epoch 79/100\n",
            "98/98 [==============================] - 4s 44ms/step - loss: 0.0024 - accuracy: 0.9996 - val_loss: 0.0238 - val_accuracy: 0.9928\n",
            "Epoch 80/100\n",
            "98/98 [==============================] - 4s 43ms/step - loss: 0.0021 - accuracy: 0.9999 - val_loss: 0.0231 - val_accuracy: 0.9931\n",
            "Epoch 81/100\n",
            "98/98 [==============================] - 4s 44ms/step - loss: 0.0026 - accuracy: 0.9996 - val_loss: 0.0212 - val_accuracy: 0.9934\n",
            "Epoch 82/100\n",
            "98/98 [==============================] - 4s 43ms/step - loss: 0.0019 - accuracy: 0.9999 - val_loss: 0.0216 - val_accuracy: 0.9934\n",
            "Epoch 83/100\n",
            "98/98 [==============================] - 4s 43ms/step - loss: 0.0018 - accuracy: 0.9999 - val_loss: 0.0235 - val_accuracy: 0.9928\n",
            "Epoch 84/100\n",
            "98/98 [==============================] - 4s 43ms/step - loss: 0.0019 - accuracy: 0.9999 - val_loss: 0.0283 - val_accuracy: 0.9922\n",
            "Epoch 85/100\n",
            "98/98 [==============================] - 4s 44ms/step - loss: 0.0022 - accuracy: 0.9997 - val_loss: 0.0242 - val_accuracy: 0.9925\n",
            "Epoch 86/100\n",
            "98/98 [==============================] - 4s 44ms/step - loss: 0.0016 - accuracy: 0.9999 - val_loss: 0.0235 - val_accuracy: 0.9931\n",
            "Epoch 87/100\n",
            "98/98 [==============================] - 4s 43ms/step - loss: 0.0016 - accuracy: 0.9999 - val_loss: 0.0245 - val_accuracy: 0.9922\n",
            "Epoch 88/100\n",
            "98/98 [==============================] - 4s 44ms/step - loss: 0.0023 - accuracy: 0.9997 - val_loss: 0.0219 - val_accuracy: 0.9931\n",
            "Epoch 89/100\n",
            "98/98 [==============================] - 4s 44ms/step - loss: 0.0013 - accuracy: 1.0000 - val_loss: 0.0240 - val_accuracy: 0.9934\n",
            "Epoch 90/100\n",
            "98/98 [==============================] - 4s 43ms/step - loss: 0.0019 - accuracy: 0.9997 - val_loss: 0.0377 - val_accuracy: 0.9904\n",
            "Epoch 91/100\n",
            "98/98 [==============================] - 4s 44ms/step - loss: 0.0233 - accuracy: 0.9938 - val_loss: 0.0310 - val_accuracy: 0.9904\n",
            "Epoch 92/100\n",
            "98/98 [==============================] - 4s 44ms/step - loss: 0.0039 - accuracy: 0.9990 - val_loss: 0.0204 - val_accuracy: 0.9936\n",
            "Epoch 93/100\n",
            "98/98 [==============================] - 4s 44ms/step - loss: 0.0020 - accuracy: 0.9997 - val_loss: 0.0234 - val_accuracy: 0.9925\n",
            "Epoch 94/100\n",
            "98/98 [==============================] - 4s 45ms/step - loss: 0.0014 - accuracy: 1.0000 - val_loss: 0.0217 - val_accuracy: 0.9928\n",
            "Epoch 95/100\n",
            "98/98 [==============================] - 4s 43ms/step - loss: 0.0013 - accuracy: 1.0000 - val_loss: 0.0214 - val_accuracy: 0.9941\n",
            "Epoch 96/100\n",
            "98/98 [==============================] - 4s 44ms/step - loss: 9.9194e-04 - accuracy: 1.0000 - val_loss: 0.0216 - val_accuracy: 0.9939\n",
            "Epoch 97/100\n",
            "98/98 [==============================] - 4s 44ms/step - loss: 9.5175e-04 - accuracy: 1.0000 - val_loss: 0.0228 - val_accuracy: 0.9934\n",
            "Epoch 98/100\n",
            "98/98 [==============================] - 4s 44ms/step - loss: 9.3780e-04 - accuracy: 1.0000 - val_loss: 0.0261 - val_accuracy: 0.9933\n",
            "Epoch 99/100\n",
            "98/98 [==============================] - 4s 44ms/step - loss: 8.9495e-04 - accuracy: 1.0000 - val_loss: 0.0237 - val_accuracy: 0.9933\n",
            "Epoch 100/100\n",
            "98/98 [==============================] - 4s 44ms/step - loss: 9.0112e-04 - accuracy: 1.0000 - val_loss: 0.0243 - val_accuracy: 0.9930\n"
          ]
        }
      ]
    },
    {
      "cell_type": "code",
      "source": [
        "history_dict = history.history\n",
        "loss = history_dict['loss']\n",
        "val_loss = history_dict['val_loss']\n",
        "acc = history_dict['accuracy']\n",
        "val_acc = history_dict['val_accuracy']\n",
        "\n",
        "epochs = range(1, len(loss) + 1)\n",
        "\n",
        "plt.plot(epochs, loss, 'b', label='Training Loss')\n",
        "plt.plot(epochs, val_loss, 'r', label='Validation Loss')\n",
        "plt.title('Training and Validation Loss')\n",
        "plt.xlabel('Epochs')\n",
        "plt.ylabel('Loss')\n",
        "plt.legend()\n",
        "plt.savefig('cnn_loss_plot.png')\n",
        "plt.show()\n",
        "\n",
        "plt.figure()\n",
        "\n",
        "plt.plot(epochs, acc, 'b', label='Training Accuracy')\n",
        "plt.plot(epochs, val_acc, 'r', label='Validation Accuracy')\n",
        "plt.title('Training and Validation Accuracy')\n",
        "plt.xlabel('Epochs')\n",
        "plt.ylabel('Accuracy')\n",
        "plt.legend()\n",
        "plt.savefig('cnn_acc_plot.png')\n",
        "plt.show()"
      ],
      "metadata": {
        "execution": {
          "iopub.status.busy": "2022-03-09T19:23:30.577316Z",
          "iopub.status.idle": "2022-03-09T19:23:30.577933Z",
          "shell.execute_reply.started": "2022-03-09T19:23:30.577667Z",
          "shell.execute_reply": "2022-03-09T19:23:30.577695Z"
        },
        "trusted": true,
        "colab": {
          "base_uri": "https://localhost:8080/",
          "height": 581
        },
        "id": "4Aq5JP3xDBb_",
        "outputId": "c69df0e5-e569-4709-a4e2-0f21202b5a6c"
      },
      "execution_count": 35,
      "outputs": [
        {
          "output_type": "display_data",
          "data": {
            "text/plain": [
              "<Figure size 432x288 with 1 Axes>"
            ],
            "image/png": "[encoded data removed]"
          },
          "metadata": {
            "needs_background": "light"
          }
        },
        {
          "output_type": "display_data",
          "data": {
            "text/plain": [
              "<Figure size 432x288 with 1 Axes>"
            ],
            "image/png": "[encoded data removed]"
          },
          "metadata": {
            "needs_background": "light"
          }
        }
      ]
    },
    {
      "cell_type": "code",
      "source": [
        "val_predictions = model_cnn.predict(X_test)\n",
        "pred=np.around(val_predictions)\n",
        "pred"
      ],
      "metadata": {
        "execution": {
          "iopub.status.busy": "2022-03-09T19:23:30.579200Z",
          "iopub.status.idle": "2022-03-09T19:23:30.580003Z",
          "shell.execute_reply.started": "2022-03-09T19:23:30.579724Z",
          "shell.execute_reply": "2022-03-09T19:23:30.579750Z"
        },
        "trusted": true,
        "colab": {
          "base_uri": "https://localhost:8080/"
        },
        "id": "ZXAOQHmrDBcA",
        "outputId": "eb97502c-f399-4733-9e73-6aaff0f3f57f"
      },
      "execution_count": 36,
      "outputs": [
        {
          "output_type": "execute_result",
          "data": {
            "text/plain": [
              "array([[1.],\n",
              "       [1.],\n",
              "       [1.],\n",
              "       ...,\n",
              "       [0.],\n",
              "       [1.],\n",
              "       [0.]], dtype=float32)"
            ]
          },
          "metadata": {},
          "execution_count": 36
        }
      ]
    },
    {
      "cell_type": "code",
      "source": [
        "print(classification_report(y_test, pred))"
      ],
      "metadata": {
        "execution": {
          "iopub.status.busy": "2022-03-09T19:23:30.581398Z",
          "iopub.status.idle": "2022-03-09T19:23:30.581822Z",
          "shell.execute_reply.started": "2022-03-09T19:23:30.581591Z",
          "shell.execute_reply": "2022-03-09T19:23:30.581615Z"
        },
        "trusted": true,
        "colab": {
          "base_uri": "https://localhost:8080/"
        },
        "id": "OeaY3kBoDBcB",
        "outputId": "8569eb25-9f84-45aa-9a70-fe4dedcf8717"
      },
      "execution_count": 37,
      "outputs": [
        {
          "output_type": "stream",
          "name": "stdout",
          "text": [
            "              precision    recall  f1-score   support\n",
            "\n",
            "           0       0.99      1.00      0.99      2516\n",
            "           1       1.00      0.99      1.00      3734\n",
            "\n",
            "    accuracy                           1.00      6250\n",
            "   macro avg       0.99      1.00      0.99      6250\n",
            "weighted avg       1.00      1.00      1.00      6250\n",
            "\n"
          ]
        }
      ]
    },
    {
      "cell_type": "code",
      "source": [
        "def get_confusion_matrix(y_true, y_pred):\n",
        "    n_classes = len(np.unique(y_true))\n",
        "    conf = np.zeros((n_classes, n_classes))\n",
        "    for actual, pred in zip(y_true, y_pred):\n",
        "        conf[int(actual)][int(pred)] += 1\n",
        "    return conf.astype('int')"
      ],
      "metadata": {
        "id": "-hQBliwzUU1k"
      },
      "execution_count": 38,
      "outputs": []
    },
    {
      "cell_type": "code",
      "source": [
        "import itertools\n",
        "\n",
        "print(classification_report(y_test, pred))\n",
        "\n",
        "conf = get_confusion_matrix(y_test, pred)\n",
        "conf\n",
        "\n",
        "classes = [0, 1]\n",
        "# plot confusion matrix\n",
        "plt.imshow(conf, interpolation='nearest', cmap=plt.cm.Greens)\n",
        "plt.title(\"Confusion Matrix\")\n",
        "plt.colorbar()\n",
        "tick_marks = np.arange(len(classes))\n",
        "plt.xticks(tick_marks, classes)\n",
        "plt.yticks(tick_marks, classes)\n",
        "\n",
        "fmt = 'd'\n",
        "thresh = conf.max() / 2.\n",
        "for i, j in itertools.product(range(conf.shape[0]), range(conf.shape[1])):\n",
        "    plt.text(j, i, format(conf[i, j], fmt),\n",
        "             horizontalalignment=\"center\",\n",
        "             color=\"white\" if conf[i, j] > thresh else \"black\")\n",
        "\n",
        "plt.tight_layout()\n",
        "plt.ylabel('True label')\n",
        "plt.xlabel('Predicted label')"
      ],
      "metadata": {
        "colab": {
          "base_uri": "https://localhost:8080/",
          "height": 494
        },
        "id": "EUlTHOm5UZls",
        "outputId": "3946b328-f299-4093-c979-5c5ce928cff1"
      },
      "execution_count": 40,
      "outputs": [
        {
          "output_type": "stream",
          "name": "stdout",
          "text": [
            "              precision    recall  f1-score   support\n",
            "\n",
            "           0       0.99      1.00      0.99      2516\n",
            "           1       1.00      0.99      1.00      3734\n",
            "\n",
            "    accuracy                           1.00      6250\n",
            "   macro avg       0.99      1.00      0.99      6250\n",
            "weighted avg       1.00      1.00      1.00      6250\n",
            "\n"
          ]
        },
        {
          "output_type": "execute_result",
          "data": {
            "text/plain": [
              "Text(0.5, 15.0, 'Predicted label')"
            ]
          },
          "metadata": {},
          "execution_count": 40
        },
        {
          "output_type": "display_data",
          "data": {
            "text/plain": [
              "<Figure size 432x288 with 2 Axes>"
            ],
            "image/png": "[encoded data removed]"
          },
          "metadata": {
            "needs_background": "light"
          }
        }
      ]
    }
  ]
}