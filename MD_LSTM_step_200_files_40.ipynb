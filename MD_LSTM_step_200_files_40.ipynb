{
  "cells": [
    {
      "cell_type": "markdown",
      "metadata": {
        "id": "view-in-github",
        "colab_type": "text"
      },
      "source": [
        "<a href=\"https://colab.research.google.com/github/kwanderer/MachineLearning/blob/main/MD_LSTM_step_200_files_40.ipynb\" target=\"_parent\"><img src=\"https://colab.research.google.com/assets/colab-badge.svg\" alt=\"Open In Colab\"/></a>"
      ]
    },
    {
      "cell_type": "markdown",
      "metadata": {
        "id": "f857kfHqUk0-"
      },
      "source": [
        "\n",
        "\n",
        "#Datu kopa"
      ]
    },
    {
      "cell_type": "markdown",
      "metadata": {
        "id": "nM9WE3QGUwVi"
      },
      "source": [
        "Datu kopas avots: https://www.kaggle.com/uysalserkan/fault-induction-motor-dataset"
      ]
    },
    {
      "cell_type": "markdown",
      "metadata": {
        "id": "_sN_h3qHHy6r"
      },
      "source": [
        "Darbā tiek izmantota indukcijas motora parametru datu bāze. Izmantotajā datu kopā ir dati, kas tika iegūti SpectraQuest aparatūras kļūdu simulatorā (Machinery Fault Simulator).\n",
        "\n",
        "Katra mērījumu secība tika ģenerēta ar frekvenci 50 kHz 5 sekunžu laikā, kopā 250 000 mērījumi.\n",
        "\n",
        "Dati ir apkopoti vairākos failos, dažādos darbības stāvokļos un to apjoms ir ļoti liels. Šajā darbā tika izmantota daļa(viena mērījumu secība) no motora normālas darbības datiem.\n"
      ]
    },
    {
      "cell_type": "markdown",
      "metadata": {
        "id": "KtFAOaHYHLPo"
      },
      "source": [
        "Dati ir apkopoti tabulā, kura satur 8 parametrus. Dati ir iedalīti sekojošās kolonas:\n",
        "\n",
        "**tachometer** – tahometra signāls, kas ļauj novērtēt rotācijas frekvenci\n",
        "\n",
        "**und-accelerometer-axial** - apakšā esošā gultņa akselerometrs (aksiālais virziens)\n",
        "\n",
        "**und-accelerometer-radial** – apakšā esošā gultņa akselerometrs (radiālais virziens)\n",
        "\n",
        "**und-accelerometer-tangential** - apakšā esošā gultņa akselerometrs (tangenciālais virziens)\n",
        "\n",
        "**over-accelerometer-axial** - pārkares gultņa akselerometrs (aksiālais virziens)\n",
        "\n",
        "**over-accelerometer-radial** – pārkares gultņa akselerometrs (radiālais  virziens)\n",
        "\n",
        "**over-accelerometer-tangential**  - pārkares gultņa akselerometrs (tangenciālais virziens)\n",
        "\n",
        "**microphone** – mikrofona vērtība\n"
      ]
    },
    {
      "cell_type": "markdown",
      "metadata": {
        "id": "XymoNLKMVFUC"
      },
      "source": [
        "#Datu ielasīšana un satura vizualizācija"
      ]
    },
    {
      "cell_type": "code",
      "execution_count": 38,
      "metadata": {
        "id": "_yqYZDeOFq5s"
      },
      "outputs": [],
      "source": [
        "import keras\n",
        "from keras.layers import LSTM, Dropout, Dense\n",
        "import tensorflow as tf\n",
        "import numpy as np\n",
        "import pandas as pd\n",
        "\n",
        "from sklearn import linear_model  #pip install sklearn - loti plasa masinapmacibas biblioteka\n",
        "from sklearn.linear_model import LinearRegression  \n",
        "import csv          #pip install csv - darbam ar CSV datu kopam\n",
        "import requests     #pip install requests  - vienkarsakam darbam ar tiessaistes CSV datu kopam tiessaistes\n",
        "\n",
        "import matplotlib\n",
        "import matplotlib.pyplot as plt\n",
        "\n",
        "import glob\n"
      ]
    },
    {
      "cell_type": "code",
      "execution_count": 39,
      "metadata": {
        "id": "wlRTBbM2eUcV",
        "colab": {
          "base_uri": "https://localhost:8080/"
        },
        "outputId": "57026f73-e128-4256-a9ce-fea49d3f9853"
      },
      "outputs": [
        {
          "output_type": "stream",
          "name": "stdout",
          "text": [
            "Drive already mounted at /content/gdrive; to attempt to forcibly remount, call drive.mount(\"/content/gdrive\", force_remount=True).\n"
          ]
        }
      ],
      "source": [
        "from google.colab import drive\n",
        "import os\n",
        "drive.mount('/content/gdrive')\n",
        "os.chdir(\"/content/gdrive/MyDrive/Colab Notebooks/data2/\")"
      ]
    },
    {
      "cell_type": "code",
      "execution_count": 40,
      "metadata": {
        "id": "zzz6fBl_SNom"
      },
      "outputs": [],
      "source": [
        "#extension = 'csv'\n",
        "#all_filenames = [i for i in glob.glob('*.{}'.format(extension))]"
      ]
    },
    {
      "cell_type": "code",
      "execution_count": 41,
      "metadata": {
        "id": "vagKFCkToBi0"
      },
      "outputs": [],
      "source": [
        "#combine all files in the list\n",
        "#combined_csv = pd.concat([pd.read_csv(f) for f in all_filenames ])\n",
        "#export to csv\n",
        "#combined_csv.to_csv( \"combined_csv.csv\", index=False, encoding='utf-8-sig')"
      ]
    },
    {
      "cell_type": "code",
      "execution_count": 42,
      "metadata": {
        "id": "encEkbDhSfGI"
      },
      "outputs": [],
      "source": [
        "data = pd.read_csv(\"combined_csv.csv\")"
      ]
    },
    {
      "cell_type": "code",
      "execution_count": 43,
      "metadata": {
        "id": "yz5Qe8ZWk1Zq",
        "colab": {
          "base_uri": "https://localhost:8080/"
        },
        "outputId": "18a36279-fcdf-4802-ba56-f2b0ab8f0f34"
      },
      "outputs": [
        {
          "output_type": "stream",
          "name": "stdout",
          "text": [
            "<class 'pandas.core.frame.DataFrame'>\n",
            "RangeIndex: 10000000 entries, 0 to 9999999\n",
            "Data columns (total 9 columns):\n",
            " #   Column                         Dtype  \n",
            "---  ------                         -----  \n",
            " 0   tachometer                     float64\n",
            " 1   und-accelerometer-axial        float64\n",
            " 2   und-accelerometer-radial       float64\n",
            " 3   und-accelerometer-tangential   float64\n",
            " 4   over-accelerometer-axial       float64\n",
            " 5   over-accelerometer-radial      float64\n",
            " 6   over-accelerometer-tangential  float64\n",
            " 7   microphone                     float64\n",
            " 8   Class                          int64  \n",
            "dtypes: float64(8), int64(1)\n",
            "memory usage: 686.6 MB\n"
          ]
        }
      ],
      "source": [
        "data.info()"
      ]
    },
    {
      "cell_type": "code",
      "execution_count": 44,
      "metadata": {
        "id": "WUW9ezX6a_st",
        "colab": {
          "base_uri": "https://localhost:8080/"
        },
        "outputId": "cceeece2-209c-4004-b42e-cbcfece4496f"
      },
      "outputs": [
        {
          "output_type": "execute_result",
          "data": {
            "text/plain": [
              "10000000"
            ]
          },
          "metadata": {},
          "execution_count": 44
        }
      ],
      "source": [
        "rec_count = len(data)\n",
        "rec_count"
      ]
    },
    {
      "cell_type": "markdown",
      "source": [
        "# Datu dalīšana mazākos gabalos"
      ],
      "metadata": {
        "id": "6RVC1PZy88fC"
      }
    },
    {
      "cell_type": "code",
      "execution_count": 45,
      "metadata": {
        "id": "DOvnCYkcbGaE"
      },
      "outputs": [],
      "source": [
        "sequence_length = 200"
      ]
    },
    {
      "cell_type": "code",
      "execution_count": 46,
      "metadata": {
        "id": "RG0o2L3zbTEx"
      },
      "outputs": [],
      "source": [
        "def generate_data(X, y, sequence_length = 200, step = 200):\n",
        "    X_local = []\n",
        "    y_local = []\n",
        "    for start in range(0, len(data) - sequence_length, step):\n",
        "        end = start + sequence_length\n",
        "        X_local.append(X[start:end])\n",
        "        y_local.append(y[end-1])\n",
        "    return np.array(X_local), np.array(y_local)\n",
        "\n",
        "X_sequence, y = generate_data(data.loc[:, \"tachometer\":\"microphone\"].values, data.Class)"
      ]
    },
    {
      "cell_type": "code",
      "execution_count": 47,
      "metadata": {
        "id": "s0QxwK66cLVF",
        "colab": {
          "base_uri": "https://localhost:8080/"
        },
        "outputId": "d002e25d-8305-4033-c93f-6769000e74f0"
      },
      "outputs": [
        {
          "output_type": "execute_result",
          "data": {
            "text/plain": [
              "((49999, 200, 8), (49999,))"
            ]
          },
          "metadata": {},
          "execution_count": 47
        }
      ],
      "source": [
        "X_sequence.shape, y.shape"
      ]
    },
    {
      "cell_type": "code",
      "source": [
        "data = 0"
      ],
      "metadata": {
        "id": "i7R1oo6Mj8wx"
      },
      "execution_count": 48,
      "outputs": []
    },
    {
      "cell_type": "markdown",
      "source": [
        "# Random/Shuffle"
      ],
      "metadata": {
        "id": "5BXSDoHa9UX_"
      }
    },
    {
      "cell_type": "code",
      "source": [
        "shuffler = np.random.permutation(len(X_sequence))\n",
        "X_sequence_shuffled = X_sequence[shuffler]\n",
        "y_shuffled = y[shuffler]"
      ],
      "metadata": {
        "id": "ZcfE9idy-ckb"
      },
      "execution_count": 49,
      "outputs": []
    },
    {
      "cell_type": "markdown",
      "source": [
        "# LSTM"
      ],
      "metadata": {
        "id": "TfhRTTNcE2s8"
      }
    },
    {
      "cell_type": "code",
      "execution_count": 50,
      "metadata": {
        "id": "ihrXMuVAEwlY"
      },
      "outputs": [],
      "source": [
        "import pandas as pd\n",
        "import sklearn.metrics as metrique\n",
        "from pandas import Series\n",
        "from sklearn.preprocessing import StandardScaler, MinMaxScaler\n",
        "from matplotlib import pyplot\n",
        "from sklearn.model_selection import train_test_split\n",
        "import numpy as np\n",
        "import tensorflow as tf\n",
        "import sys\n",
        "import numpy as np\n",
        "import pandas as pd\n",
        "import tensorflow as tf\n",
        "import matplotlib.pyplot as plt\n",
        "from sklearn.model_selection import train_test_split\n",
        "from sklearn import preprocessing\n",
        "from sklearn.preprocessing import StandardScaler\n",
        "from sklearn.metrics import classification_report\n",
        "import warnings\n",
        "warnings.filterwarnings('ignore')\n",
        "plt.style.use('ggplot')\n",
        "import seaborn as sns \n",
        "%matplotlib inline\n",
        "from keras.callbacks import EarlyStopping\n",
        "from keras.callbacks import ModelCheckpoint\n",
        "from sklearn.metrics import accuracy_score\n",
        "from sklearn.metrics import classification_report, confusion_matrix\n",
        "from keras.models import Sequential\n",
        "from keras.utils import np_utils\n",
        "from keras.layers import LSTM, Dense, Embedding, Dropout,Input, Layer, Concatenate, Permute, Dot, Multiply, Flatten\n",
        "from keras.layers import RepeatVector, Dense, Activation, Lambda\n",
        "from keras.models import Sequential\n",
        "from keras import backend as K, regularizers, Model, metrics\n",
        "from keras.backend import cast"
      ]
    },
    {
      "cell_type": "code",
      "execution_count": 51,
      "metadata": {
        "id": "PjKWKiA6aH3z",
        "colab": {
          "base_uri": "https://localhost:8080/"
        },
        "outputId": "6973fc57-34c4-419e-8cd2-874765a42fb4"
      },
      "outputs": [
        {
          "output_type": "stream",
          "name": "stdout",
          "text": [
            "Model: \"sequential_1\"\n",
            "_________________________________________________________________\n",
            " Layer (type)                Output Shape              Param #   \n",
            "=================================================================\n",
            " lstm_1 (LSTM)               (None, 100)               43600     \n",
            "                                                                 \n",
            " dropout_1 (Dropout)         (None, 100)               0         \n",
            "                                                                 \n",
            " dense_1 (Dense)             (None, 1)                 101       \n",
            "                                                                 \n",
            "=================================================================\n",
            "Total params: 43,701\n",
            "Trainable params: 43,701\n",
            "Non-trainable params: 0\n",
            "_________________________________________________________________\n"
          ]
        }
      ],
      "source": [
        "from tensorflow.keras import optimizers\n",
        "sgd = optimizers.SGD(lr=0.0001, decay=1e-6, momentum=0.9, nesterov=True)\n",
        "model = keras.Sequential()\n",
        "model.add(LSTM(100, input_shape = (200, 8)))\n",
        "model.add(Dropout(0.5))\n",
        "model.add(Dense(1, activation=\"sigmoid\"))\n",
        "\n",
        "#model.compile(loss='mean_squared_error', optimizer=sgd)\n",
        "model.compile(loss=\"binary_crossentropy\"\n",
        "              , metrics=[keras.metrics.binary_accuracy]\n",
        "              , optimizer=sgd)\n",
        "\n",
        "model.summary()"
      ]
    },
    {
      "cell_type": "code",
      "execution_count": 52,
      "metadata": {
        "id": "tg8wrqsqc8UX"
      },
      "outputs": [],
      "source": [
        "training_size = int(len(X_sequence) * 0.8)\n",
        "val_size = int(len(X_sequence) * 0.9)"
      ]
    },
    {
      "cell_type": "code",
      "execution_count": 53,
      "metadata": {
        "id": "avIp3TEKc-qF"
      },
      "outputs": [],
      "source": [
        "X_train, y_train = X_sequence_shuffled[:training_size], y_shuffled[:training_size]\n",
        "X_val, y_val = X_sequence_shuffled[training_size:val_size], y_shuffled[training_size:val_size]\n",
        "X_test, y_test = X_sequence_shuffled[val_size:], y_shuffled[val_size:]"
      ]
    },
    {
      "cell_type": "code",
      "source": [
        "X_sequence = 0\n",
        "y = 0"
      ],
      "metadata": {
        "id": "RABc_uKzkBUT"
      },
      "execution_count": 54,
      "outputs": []
    },
    {
      "cell_type": "code",
      "execution_count": 55,
      "metadata": {
        "id": "cen4faX0dFJP",
        "colab": {
          "base_uri": "https://localhost:8080/"
        },
        "outputId": "7ab94dd1-471d-4720-f5be-1fd282ffa284"
      },
      "outputs": [
        {
          "output_type": "stream",
          "name": "stdout",
          "text": [
            "Epoch 1/50\n",
            "625/625 [==============================] - 128s 202ms/step - loss: 0.6995 - binary_accuracy: 0.5416 - val_loss: 0.6928 - val_binary_accuracy: 0.5512\n",
            "Epoch 2/50\n",
            "625/625 [==============================] - 123s 196ms/step - loss: 0.6954 - binary_accuracy: 0.5338 - val_loss: 0.6907 - val_binary_accuracy: 0.5502\n",
            "Epoch 3/50\n",
            "625/625 [==============================] - 123s 197ms/step - loss: 0.6928 - binary_accuracy: 0.5374 - val_loss: 0.6891 - val_binary_accuracy: 0.5496\n",
            "Epoch 4/50\n",
            "625/625 [==============================] - 122s 195ms/step - loss: 0.6921 - binary_accuracy: 0.5375 - val_loss: 0.6876 - val_binary_accuracy: 0.5840\n",
            "Epoch 5/50\n",
            "625/625 [==============================] - 126s 202ms/step - loss: 0.6908 - binary_accuracy: 0.5448 - val_loss: 0.6861 - val_binary_accuracy: 0.6074\n",
            "Epoch 6/50\n",
            "625/625 [==============================] - 126s 201ms/step - loss: 0.6888 - binary_accuracy: 0.5543 - val_loss: 0.6847 - val_binary_accuracy: 0.6256\n",
            "Epoch 7/50\n",
            "625/625 [==============================] - 124s 198ms/step - loss: 0.6876 - binary_accuracy: 0.5596 - val_loss: 0.6832 - val_binary_accuracy: 0.6374\n",
            "Epoch 8/50\n",
            "625/625 [==============================] - 123s 197ms/step - loss: 0.6866 - binary_accuracy: 0.5598 - val_loss: 0.6818 - val_binary_accuracy: 0.6442\n",
            "Epoch 9/50\n",
            "625/625 [==============================] - 124s 199ms/step - loss: 0.6835 - binary_accuracy: 0.5731 - val_loss: 0.6801 - val_binary_accuracy: 0.6570\n",
            "Epoch 10/50\n",
            "625/625 [==============================] - 123s 198ms/step - loss: 0.6820 - binary_accuracy: 0.5820 - val_loss: 0.6784 - val_binary_accuracy: 0.6628\n",
            "Epoch 11/50\n",
            "625/625 [==============================] - 126s 202ms/step - loss: 0.6808 - binary_accuracy: 0.5883 - val_loss: 0.6766 - val_binary_accuracy: 0.6660\n",
            "Epoch 12/50\n",
            "625/625 [==============================] - 124s 198ms/step - loss: 0.6780 - binary_accuracy: 0.5978 - val_loss: 0.6744 - val_binary_accuracy: 0.6700\n",
            "Epoch 13/50\n",
            "625/625 [==============================] - 124s 198ms/step - loss: 0.6767 - binary_accuracy: 0.5987 - val_loss: 0.6720 - val_binary_accuracy: 0.6760\n",
            "Epoch 14/50\n",
            "625/625 [==============================] - 123s 197ms/step - loss: 0.6734 - binary_accuracy: 0.6137 - val_loss: 0.6692 - val_binary_accuracy: 0.6856\n",
            "Epoch 15/50\n",
            "625/625 [==============================] - 122s 196ms/step - loss: 0.6713 - binary_accuracy: 0.6189 - val_loss: 0.6657 - val_binary_accuracy: 0.6918\n",
            "Epoch 16/50\n",
            "625/625 [==============================] - 123s 196ms/step - loss: 0.6671 - binary_accuracy: 0.6326 - val_loss: 0.6613 - val_binary_accuracy: 0.6984\n",
            "Epoch 17/50\n",
            "625/625 [==============================] - 123s 196ms/step - loss: 0.6620 - binary_accuracy: 0.6459 - val_loss: 0.6558 - val_binary_accuracy: 0.7038\n",
            "Epoch 18/50\n",
            "625/625 [==============================] - 123s 196ms/step - loss: 0.6565 - binary_accuracy: 0.6554 - val_loss: 0.6480 - val_binary_accuracy: 0.7126\n",
            "Epoch 19/50\n",
            "625/625 [==============================] - 124s 198ms/step - loss: 0.6467 - binary_accuracy: 0.6727 - val_loss: 0.6369 - val_binary_accuracy: 0.7226\n",
            "Epoch 20/50\n",
            "625/625 [==============================] - 123s 197ms/step - loss: 0.6318 - binary_accuracy: 0.6936 - val_loss: 0.6186 - val_binary_accuracy: 0.7284\n",
            "Epoch 21/50\n",
            "625/625 [==============================] - 123s 197ms/step - loss: 0.6073 - binary_accuracy: 0.7187 - val_loss: 0.5843 - val_binary_accuracy: 0.7488\n",
            "Epoch 22/50\n",
            "625/625 [==============================] - 124s 198ms/step - loss: 0.5467 - binary_accuracy: 0.7650 - val_loss: 0.4760 - val_binary_accuracy: 0.8068\n",
            "Epoch 23/50\n",
            "625/625 [==============================] - 123s 197ms/step - loss: 0.4445 - binary_accuracy: 0.8293 - val_loss: 0.4064 - val_binary_accuracy: 0.8462\n",
            "Epoch 24/50\n",
            "625/625 [==============================] - 124s 199ms/step - loss: 0.4141 - binary_accuracy: 0.8450 - val_loss: 0.4664 - val_binary_accuracy: 0.8060\n",
            "Epoch 25/50\n",
            "625/625 [==============================] - 123s 197ms/step - loss: 0.3954 - binary_accuracy: 0.8525 - val_loss: 0.3727 - val_binary_accuracy: 0.8618\n",
            "Epoch 26/50\n",
            "625/625 [==============================] - 123s 197ms/step - loss: 0.3766 - binary_accuracy: 0.8611 - val_loss: 0.3755 - val_binary_accuracy: 0.8578\n",
            "Epoch 27/50\n",
            "625/625 [==============================] - 123s 197ms/step - loss: 0.4199 - binary_accuracy: 0.8368 - val_loss: 0.3618 - val_binary_accuracy: 0.8680\n",
            "Epoch 28/50\n",
            "625/625 [==============================] - 123s 196ms/step - loss: 0.3589 - binary_accuracy: 0.8681 - val_loss: 0.3409 - val_binary_accuracy: 0.8742\n",
            "Epoch 29/50\n",
            "625/625 [==============================] - 123s 197ms/step - loss: 0.3455 - binary_accuracy: 0.8737 - val_loss: 0.3334 - val_binary_accuracy: 0.8796\n",
            "Epoch 30/50\n",
            "625/625 [==============================] - 123s 197ms/step - loss: 0.3367 - binary_accuracy: 0.8757 - val_loss: 0.3254 - val_binary_accuracy: 0.8770\n",
            "Epoch 31/50\n",
            "625/625 [==============================] - 124s 198ms/step - loss: 0.3299 - binary_accuracy: 0.8796 - val_loss: 0.3205 - val_binary_accuracy: 0.8792\n",
            "Epoch 32/50\n",
            "625/625 [==============================] - 124s 198ms/step - loss: 0.3207 - binary_accuracy: 0.8828 - val_loss: 0.3127 - val_binary_accuracy: 0.8838\n",
            "Epoch 33/50\n",
            "625/625 [==============================] - 123s 196ms/step - loss: 0.3178 - binary_accuracy: 0.8827 - val_loss: 0.3037 - val_binary_accuracy: 0.8874\n",
            "Epoch 34/50\n",
            "625/625 [==============================] - 124s 198ms/step - loss: 0.3104 - binary_accuracy: 0.8857 - val_loss: 0.3075 - val_binary_accuracy: 0.8800\n",
            "Epoch 35/50\n",
            "625/625 [==============================] - 123s 197ms/step - loss: 0.3032 - binary_accuracy: 0.8886 - val_loss: 0.2875 - val_binary_accuracy: 0.8912\n",
            "Epoch 36/50\n",
            "625/625 [==============================] - 124s 198ms/step - loss: 0.2954 - binary_accuracy: 0.8915 - val_loss: 0.2847 - val_binary_accuracy: 0.8942\n",
            "Epoch 37/50\n",
            "625/625 [==============================] - 124s 198ms/step - loss: 0.2880 - binary_accuracy: 0.8944 - val_loss: 0.2739 - val_binary_accuracy: 0.8964\n",
            "Epoch 38/50\n",
            "625/625 [==============================] - 124s 198ms/step - loss: 0.2832 - binary_accuracy: 0.8964 - val_loss: 0.2642 - val_binary_accuracy: 0.9040\n",
            "Epoch 39/50\n",
            "625/625 [==============================] - 123s 198ms/step - loss: 0.2753 - binary_accuracy: 0.8993 - val_loss: 0.2577 - val_binary_accuracy: 0.9054\n",
            "Epoch 40/50\n",
            "625/625 [==============================] - 124s 198ms/step - loss: 0.2668 - binary_accuracy: 0.9029 - val_loss: 0.2483 - val_binary_accuracy: 0.9108\n",
            "Epoch 41/50\n",
            "625/625 [==============================] - 124s 199ms/step - loss: 0.2588 - binary_accuracy: 0.9060 - val_loss: 0.2358 - val_binary_accuracy: 0.9176\n",
            "Epoch 42/50\n",
            "625/625 [==============================] - 124s 198ms/step - loss: 0.2517 - binary_accuracy: 0.9091 - val_loss: 0.2372 - val_binary_accuracy: 0.9138\n",
            "Epoch 43/50\n",
            "625/625 [==============================] - 125s 201ms/step - loss: 0.2439 - binary_accuracy: 0.9128 - val_loss: 0.2303 - val_binary_accuracy: 0.9146\n",
            "Epoch 44/50\n",
            "625/625 [==============================] - 124s 198ms/step - loss: 0.2363 - binary_accuracy: 0.9155 - val_loss: 0.2143 - val_binary_accuracy: 0.9262\n",
            "Epoch 45/50\n",
            "625/625 [==============================] - 124s 198ms/step - loss: 0.2294 - binary_accuracy: 0.9181 - val_loss: 0.2270 - val_binary_accuracy: 0.9156\n",
            "Epoch 46/50\n",
            "625/625 [==============================] - 124s 198ms/step - loss: 0.2236 - binary_accuracy: 0.9195 - val_loss: 0.2075 - val_binary_accuracy: 0.9228\n",
            "Epoch 47/50\n",
            "625/625 [==============================] - 123s 197ms/step - loss: 0.2102 - binary_accuracy: 0.9259 - val_loss: 0.1856 - val_binary_accuracy: 0.9324\n",
            "Epoch 48/50\n",
            "625/625 [==============================] - 124s 198ms/step - loss: 0.2198 - binary_accuracy: 0.9212 - val_loss: 0.1922 - val_binary_accuracy: 0.9328\n",
            "Epoch 49/50\n",
            "625/625 [==============================] - 123s 198ms/step - loss: 0.1978 - binary_accuracy: 0.9310 - val_loss: 0.1854 - val_binary_accuracy: 0.9304\n",
            "Epoch 50/50\n",
            "625/625 [==============================] - 124s 198ms/step - loss: 0.1911 - binary_accuracy: 0.9337 - val_loss: 0.1602 - val_binary_accuracy: 0.9468\n"
          ]
        }
      ],
      "source": [
        "history = model.fit(X_train, y_train, batch_size=64, epochs=50, validation_data=(X_val, y_val))\n",
        "model.save('NewAllDataModel_E50_B64.h5')"
      ]
    },
    {
      "cell_type": "code",
      "execution_count": 56,
      "metadata": {
        "id": "R7QQeqVidKBR",
        "colab": {
          "base_uri": "https://localhost:8080/"
        },
        "outputId": "c915230c-9621-4244-8cbe-5be2c8bb9c6a"
      },
      "outputs": [
        {
          "output_type": "stream",
          "name": "stdout",
          "text": [
            "157/157 [==============================] - 7s 44ms/step - loss: 0.1669 - binary_accuracy: 0.9444\n"
          ]
        },
        {
          "output_type": "execute_result",
          "data": {
            "text/plain": [
              "[0.16691985726356506, 0.9444000124931335]"
            ]
          },
          "metadata": {},
          "execution_count": 56
        }
      ],
      "source": [
        "model.evaluate(X_test, y_test)"
      ]
    },
    {
      "cell_type": "code",
      "execution_count": 57,
      "metadata": {
        "id": "OHpifyqGdKn-",
        "colab": {
          "base_uri": "https://localhost:8080/"
        },
        "outputId": "4a08488d-7790-4903-e1a4-01f3902e0cf4"
      },
      "outputs": [
        {
          "output_type": "stream",
          "name": "stdout",
          "text": [
            "157/157 [==============================] - 7s 43ms/step\n"
          ]
        }
      ],
      "source": [
        "y_test_prob = model.predict(X_test, verbose=1)"
      ]
    },
    {
      "cell_type": "code",
      "execution_count": null,
      "metadata": {
        "id": "AfmdrBILdMwj"
      },
      "outputs": [],
      "source": [
        "y_test_pred = np.where(y_test_prob > 0.5, 1, 0)"
      ]
    },
    {
      "cell_type": "code",
      "execution_count": 59,
      "metadata": {
        "id": "8DoJy_p9dPzN"
      },
      "outputs": [],
      "source": [
        "from sklearn.metrics import confusion_matrix"
      ]
    },
    {
      "cell_type": "code",
      "execution_count": 60,
      "metadata": {
        "id": "fTCsPjW8dQaZ",
        "colab": {
          "base_uri": "https://localhost:8080/"
        },
        "outputId": "2e90bd06-2525-401b-8376-84ef4b910908"
      },
      "outputs": [
        {
          "output_type": "execute_result",
          "data": {
            "text/plain": [
              "array([[2449,   66],\n",
              "       [ 212, 2273]])"
            ]
          },
          "metadata": {},
          "execution_count": 60
        }
      ],
      "source": [
        "confusion_matrix(y_test, y_test_pred)"
      ]
    },
    {
      "cell_type": "code",
      "execution_count": 61,
      "metadata": {
        "id": "te3fslrY9Eca",
        "colab": {
          "base_uri": "https://localhost:8080/",
          "height": 685
        },
        "outputId": "47e70bba-a86f-4b8b-9fbc-1ea5c9d29566"
      },
      "outputs": [
        {
          "output_type": "stream",
          "name": "stdout",
          "text": [
            "Confusion matrix, without normalization\n",
            "[[2449   66]\n",
            " [ 212 2273]]\n",
            "Normalized confusion matrix\n",
            "[[0.97 0.03]\n",
            " [0.09 0.91]]\n"
          ]
        },
        {
          "output_type": "display_data",
          "data": {
            "text/plain": [
              "<Figure size 432x288 with 2 Axes>"
            ],
            "image/png": "[encoded data removed]"
          },
          "metadata": {
            "needs_background": "light"
          }
        },
        {
          "output_type": "display_data",
          "data": {
            "text/plain": [
              "<Figure size 432x288 with 2 Axes>"
            ],
            "image/png": "[encoded data removed]"
          },
          "metadata": {
            "needs_background": "light"
          }
        }
      ],
      "source": [
        "import numpy as np\n",
        "import matplotlib.pyplot as plt\n",
        "\n",
        "from sklearn import svm, datasets\n",
        "from sklearn.model_selection import train_test_split\n",
        "from sklearn.metrics import confusion_matrix\n",
        "from sklearn.utils.multiclass import unique_labels\n",
        "\n",
        "class_names = np.array(['0', '1'])\n",
        "\n",
        "def plot_confusion_matrix(y_true, y_pred, classes,\n",
        "                          normalize=False,\n",
        "                          title=None,\n",
        "                          cmap=plt.cm.Blues):\n",
        "    \"\"\"\n",
        "    This function prints and plots the confusion matrix.\n",
        "    Normalization can be applied by setting `normalize=True`.\n",
        "    \"\"\"\n",
        "    if not title:\n",
        "        if normalize:\n",
        "            title = 'Normalized confusion matrix'\n",
        "        else:\n",
        "            title = 'Confusion matrix, without normalization'\n",
        "\n",
        "    # Compute confusion matrix\n",
        "    cm = confusion_matrix(y_true, y_pred)\n",
        "    # Only use the labels that appear in the data\n",
        "    classes = classes[unique_labels(y_true, y_pred)]\n",
        "    if normalize:\n",
        "        cm = cm.astype('float') / cm.sum(axis=1)[:, np.newaxis]\n",
        "        print(\"Normalized confusion matrix\")\n",
        "    else:\n",
        "        print('Confusion matrix, without normalization')\n",
        "\n",
        "    print(cm)\n",
        "\n",
        "    fig, ax = plt.subplots()\n",
        "    im = ax.imshow(cm, interpolation='nearest', cmap=cmap)\n",
        "    ax.figure.colorbar(im, ax=ax)\n",
        "    # We want to show all ticks...\n",
        "    ax.set(xticks=np.arange(cm.shape[1]),\n",
        "           yticks=np.arange(cm.shape[0]),\n",
        "           # ... and label them with the respective list entries\n",
        "           xticklabels=classes, yticklabels=classes,\n",
        "           title=title,\n",
        "           ylabel='True label',\n",
        "           xlabel='Predicted label')\n",
        "\n",
        "    # Rotate the tick labels and set their alignment.\n",
        "    plt.setp(ax.get_xticklabels(), rotation=45, ha=\"right\",\n",
        "             rotation_mode=\"anchor\")\n",
        "\n",
        "    # Loop over data dimensions and create text annotations.\n",
        "    fmt = '.2f' if normalize else 'd'\n",
        "    thresh = cm.max() / 2.\n",
        "    for i in range(cm.shape[0]):\n",
        "        for j in range(cm.shape[1]):\n",
        "            ax.text(j, i, format(cm[i, j], fmt),\n",
        "                    ha=\"center\", va=\"center\",\n",
        "                    color=\"white\" if cm[i, j] > thresh else \"black\")\n",
        "    fig.tight_layout()\n",
        "\n",
        "    return ax\n",
        "\n",
        "\n",
        "np.set_printoptions(precision=2)\n",
        "\n",
        "# Plot non-normalized confusion matrix\n",
        "plot_confusion_matrix(y_test, y_test_pred, classes=class_names,\n",
        "                      title='Confusion matrix, without normalization')\n",
        "\n",
        "# Plot normalized confusion matrix\n",
        "plot_confusion_matrix(y_test, y_test_pred, classes=class_names, normalize=True,\n",
        "                      title='Normalized confusion matrix')\n",
        "\n",
        "plt.show()"
      ]
    },
    {
      "cell_type": "code",
      "source": [
        "def plot_learningCurve(history, epoch):\n",
        "  # Plot training & validation accuracy values\n",
        "  epoch_range = range(1, epoch+1)\n",
        "  plt.plot(epoch_range, history.history['binary_accuracy'])\n",
        "  plt.plot(epoch_range, history.history['val_binary_accuracy'])\n",
        "  plt.title('Model accuracy')\n",
        "  plt.ylabel('Accuracy')\n",
        "  plt.xlabel('Epoch')\n",
        "  plt.legend(['Train', 'Val'], loc='upper left')\n",
        "  plt.show()\n",
        "\n",
        "  # Plot training & validation loss values\n",
        "  plt.plot(epoch_range, history.history['loss'])\n",
        "  plt.plot(epoch_range, history.history['val_loss'])\n",
        "  plt.title('Model loss')\n",
        "  plt.ylabel('Loss')\n",
        "  plt.xlabel('Epoch')\n",
        "  plt.legend(['Train', 'Val'], loc='upper left')\n",
        "  plt.show()"
      ],
      "metadata": {
        "id": "fhdLAhgPUnH3"
      },
      "execution_count": 62,
      "outputs": []
    },
    {
      "cell_type": "code",
      "source": [
        "plot_learningCurve(history, 50)"
      ],
      "metadata": {
        "id": "WlkQkWHgU5mL",
        "colab": {
          "base_uri": "https://localhost:8080/",
          "height": 581
        },
        "outputId": "1386fd4a-785d-48f1-ad3f-bbbf384aff7a"
      },
      "execution_count": 63,
      "outputs": [
        {
          "output_type": "display_data",
          "data": {
            "text/plain": [
              "<Figure size 432x288 with 1 Axes>"
            ],
            "image/png": "[encoded data removed]"
          },
          "metadata": {
            "needs_background": "light"
          }
        },
        {
          "output_type": "display_data",
          "data": {
            "text/plain": [
              "<Figure size 432x288 with 1 Axes>"
            ],
            "image/png": "[encoded data removed]"
          },
          "metadata": {
            "needs_background": "light"
          }
        }
      ]
    },
    {
      "cell_type": "code",
      "source": [
        ""
      ],
      "metadata": {
        "id": "mcRYm4JmgH0t"
      },
      "execution_count": 63,
      "outputs": []
    }
  ],
  "metadata": {
    "colab": {
      "collapsed_sections": [
        "f857kfHqUk0-"
      ],
      "name": "MD LSTM step 200 files 40.ipynb",
      "provenance": [],
      "authorship_tag": "ABX9TyMMtAk3Eq+PfRGbBn8yWiT2",
      "include_colab_link": true
    },
    "kernelspec": {
      "display_name": "Python 3",
      "name": "python3"
    },
    "language_info": {
      "name": "python"
    }
  },
  "nbformat": 4,
  "nbformat_minor": 0
}