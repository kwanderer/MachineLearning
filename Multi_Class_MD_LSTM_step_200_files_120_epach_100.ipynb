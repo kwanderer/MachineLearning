{
  "cells": [
    {
      "cell_type": "markdown",
      "metadata": {
        "id": "view-in-github",
        "colab_type": "text"
      },
      "source": [
        "<a href=\"https://colab.research.google.com/github/kwanderer/MachineLearning/blob/main/Multi_Class_MD_LSTM_step_200_files_120_epach_100.ipynb\" target=\"_parent\"><img src=\"https://colab.research.google.com/assets/colab-badge.svg\" alt=\"Open In Colab\"/></a>"
      ]
    },
    {
      "cell_type": "markdown",
      "metadata": {
        "id": "f857kfHqUk0-"
      },
      "source": [
        "\n",
        "\n",
        "#Datu kopa"
      ]
    },
    {
      "cell_type": "markdown",
      "metadata": {
        "id": "nM9WE3QGUwVi"
      },
      "source": [
        "Datu kopas avots: https://www.kaggle.com/uysalserkan/fault-induction-motor-dataset"
      ]
    },
    {
      "cell_type": "markdown",
      "metadata": {
        "id": "_sN_h3qHHy6r"
      },
      "source": [
        "Darbā tiek izmantota indukcijas motora parametru datu bāze. Izmantotajā datu kopā ir dati, kas tika iegūti SpectraQuest aparatūras kļūdu simulatorā (Machinery Fault Simulator).\n",
        "\n",
        "Katra mērījumu secība tika ģenerēta ar frekvenci 50 kHz 5 sekunžu laikā, kopā 250 000 mērījumi.\n",
        "\n",
        "Dati ir apkopoti vairākos failos, dažādos darbības stāvokļos un to apjoms ir ļoti liels. Šajā darbā tika izmantota daļa(viena mērījumu secība) no motora normālas darbības datiem.\n"
      ]
    },
    {
      "cell_type": "markdown",
      "metadata": {
        "id": "KtFAOaHYHLPo"
      },
      "source": [
        "Dati ir apkopoti tabulā, kura satur 8 parametrus. Dati ir iedalīti sekojošās kolonas:\n",
        "\n",
        "**tachometer** – tahometra signāls, kas ļauj novērtēt rotācijas frekvenci\n",
        "\n",
        "**und-accelerometer-axial** - apakšā esošā gultņa akselerometrs (aksiālais virziens)\n",
        "\n",
        "**und-accelerometer-radial** – apakšā esošā gultņa akselerometrs (radiālais virziens)\n",
        "\n",
        "**und-accelerometer-tangential** - apakšā esošā gultņa akselerometrs (tangenciālais virziens)\n",
        "\n",
        "**over-accelerometer-axial** - pārkares gultņa akselerometrs (aksiālais virziens)\n",
        "\n",
        "**over-accelerometer-radial** – pārkares gultņa akselerometrs (radiālais  virziens)\n",
        "\n",
        "**over-accelerometer-tangential**  - pārkares gultņa akselerometrs (tangenciālais virziens)\n",
        "\n",
        "**microphone** – mikrofona vērtība\n"
      ]
    },
    {
      "cell_type": "markdown",
      "metadata": {
        "id": "XymoNLKMVFUC"
      },
      "source": [
        "#Datu ielasīšana un satura vizualizācija"
      ]
    },
    {
      "cell_type": "code",
      "execution_count": 1,
      "metadata": {
        "id": "_yqYZDeOFq5s"
      },
      "outputs": [],
      "source": [
        "import keras\n",
        "from keras.layers import LSTM, Dropout, Dense\n",
        "import tensorflow as tf\n",
        "import numpy as np\n",
        "import pandas as pd\n",
        "\n",
        "from sklearn import linear_model  #pip install sklearn - loti plasa masinapmacibas biblioteka\n",
        "from sklearn.linear_model import LinearRegression  \n",
        "import csv          #pip install csv - darbam ar CSV datu kopam\n",
        "import requests     #pip install requests  - vienkarsakam darbam ar tiessaistes CSV datu kopam tiessaistes\n",
        "\n",
        "import matplotlib\n",
        "import matplotlib.pyplot as plt\n",
        "\n",
        "import glob\n"
      ]
    },
    {
      "cell_type": "code",
      "execution_count": 2,
      "metadata": {
        "id": "wlRTBbM2eUcV",
        "colab": {
          "base_uri": "https://localhost:8080/"
        },
        "outputId": "ea799b15-3690-4e1c-ee67-970e2fc6bd96"
      },
      "outputs": [
        {
          "output_type": "stream",
          "name": "stdout",
          "text": [
            "Mounted at /content/gdrive\n"
          ]
        }
      ],
      "source": [
        "from google.colab import drive\n",
        "import os\n",
        "drive.mount('/content/gdrive')\n",
        "os.chdir(\"/content/gdrive/MyDrive/Colab Notebooks/data_multiclass/\")"
      ]
    },
    {
      "cell_type": "code",
      "execution_count": 3,
      "metadata": {
        "id": "zzz6fBl_SNom"
      },
      "outputs": [],
      "source": [
        "#extension = 'csv'\n",
        "#all_filenames = [i for i in glob.glob('*.{}'.format(extension))]"
      ]
    },
    {
      "cell_type": "code",
      "execution_count": 4,
      "metadata": {
        "id": "vagKFCkToBi0"
      },
      "outputs": [],
      "source": [
        "#combine all files in the list\n",
        "#combined_csv = pd.concat([pd.read_csv(f) for f in all_filenames ])\n",
        "#export to csv\n",
        "#combined_csv.to_csv( \"combined_multiclass_csv.csv\", index=False, encoding='utf-8-sig')"
      ]
    },
    {
      "cell_type": "code",
      "execution_count": 5,
      "metadata": {
        "id": "encEkbDhSfGI"
      },
      "outputs": [],
      "source": [
        "data = pd.read_csv(\"combined_multiclass_csv.csv\")"
      ]
    },
    {
      "cell_type": "code",
      "execution_count": 6,
      "metadata": {
        "id": "yz5Qe8ZWk1Zq",
        "colab": {
          "base_uri": "https://localhost:8080/"
        },
        "outputId": "1119e371-fec9-4a1b-d7bb-c06bfcf96abe"
      },
      "outputs": [
        {
          "output_type": "stream",
          "name": "stdout",
          "text": [
            "<class 'pandas.core.frame.DataFrame'>\n",
            "RangeIndex: 30000000 entries, 0 to 29999999\n",
            "Data columns (total 9 columns):\n",
            " #   Column                         Dtype  \n",
            "---  ------                         -----  \n",
            " 0   tachometer                     float64\n",
            " 1   und-accelerometer-axial        float64\n",
            " 2   und-accelerometer-radial       float64\n",
            " 3   und-accelerometer-tangential   float64\n",
            " 4   over-accelerometer-axial       float64\n",
            " 5   over-accelerometer-radial      float64\n",
            " 6   over-accelerometer-tangential  float64\n",
            " 7   microphone                     float64\n",
            " 8   Class                          int64  \n",
            "dtypes: float64(8), int64(1)\n",
            "memory usage: 2.0 GB\n"
          ]
        }
      ],
      "source": [
        "data.info()"
      ]
    },
    {
      "cell_type": "code",
      "execution_count": 7,
      "metadata": {
        "id": "WUW9ezX6a_st",
        "colab": {
          "base_uri": "https://localhost:8080/"
        },
        "outputId": "6be56ee5-529a-4e8a-9f27-4289b2d6218e"
      },
      "outputs": [
        {
          "output_type": "execute_result",
          "data": {
            "text/plain": [
              "30000000"
            ]
          },
          "metadata": {},
          "execution_count": 7
        }
      ],
      "source": [
        "rec_count = len(data)\n",
        "rec_count"
      ]
    },
    {
      "cell_type": "markdown",
      "metadata": {
        "id": "6RVC1PZy88fC"
      },
      "source": [
        "# Datu dalīšana mazākos gabalos"
      ]
    },
    {
      "cell_type": "code",
      "execution_count": 8,
      "metadata": {
        "id": "DOvnCYkcbGaE"
      },
      "outputs": [],
      "source": [
        "sequence_length = 200"
      ]
    },
    {
      "cell_type": "code",
      "execution_count": 9,
      "metadata": {
        "id": "RG0o2L3zbTEx"
      },
      "outputs": [],
      "source": [
        "def generate_data(X, y, sequence_length = 200, step = 200):\n",
        "    X_local = []\n",
        "    y_local = []\n",
        "    for start in range(0, len(data) - sequence_length, step):\n",
        "        end = start + sequence_length\n",
        "        X_local.append(X[start:end])\n",
        "        y_local.append(y[end-1])\n",
        "    return np.array(X_local), np.array(y_local)\n",
        "\n",
        "X_sequence, y = generate_data(data.loc[:, \"tachometer\":\"microphone\"].values, data.Class)"
      ]
    },
    {
      "cell_type": "code",
      "execution_count": 10,
      "metadata": {
        "id": "s0QxwK66cLVF",
        "colab": {
          "base_uri": "https://localhost:8080/"
        },
        "outputId": "2873865d-9f3d-482f-919a-8e559ca07452"
      },
      "outputs": [
        {
          "output_type": "execute_result",
          "data": {
            "text/plain": [
              "((149999, 200, 8), (149999,))"
            ]
          },
          "metadata": {},
          "execution_count": 10
        }
      ],
      "source": [
        "X_sequence.shape, y.shape"
      ]
    },
    {
      "cell_type": "code",
      "source": [
        "unique, counts = np.unique(y, return_counts=True)"
      ],
      "metadata": {
        "id": "l8Lq455lV1JR"
      },
      "execution_count": 11,
      "outputs": []
    },
    {
      "cell_type": "code",
      "source": [
        "unique"
      ],
      "metadata": {
        "id": "t0BRO3nAWQxe",
        "colab": {
          "base_uri": "https://localhost:8080/"
        },
        "outputId": "17831f54-8dd4-4181-ab2c-7b12952dbb4b"
      },
      "execution_count": 12,
      "outputs": [
        {
          "output_type": "execute_result",
          "data": {
            "text/plain": [
              "array([0, 1, 2, 3, 4, 5, 6, 7])"
            ]
          },
          "metadata": {},
          "execution_count": 12
        }
      ]
    },
    {
      "cell_type": "code",
      "source": [
        "counts"
      ],
      "metadata": {
        "id": "WWZ7QWR4WS_r",
        "colab": {
          "base_uri": "https://localhost:8080/"
        },
        "outputId": "b38a7d3f-9b06-4b10-c4bf-876e7157e15d"
      },
      "execution_count": 13,
      "outputs": [
        {
          "output_type": "execute_result",
          "data": {
            "text/plain": [
              "array([18749, 18750, 18750, 18750, 18750, 18750, 18750, 18750])"
            ]
          },
          "metadata": {},
          "execution_count": 13
        }
      ]
    },
    {
      "cell_type": "code",
      "execution_count": 14,
      "metadata": {
        "id": "i7R1oo6Mj8wx"
      },
      "outputs": [],
      "source": [
        "data = 0"
      ]
    },
    {
      "cell_type": "code",
      "source": [
        "from sklearn.preprocessing import OneHotEncoder"
      ],
      "metadata": {
        "id": "lAk_JscRWmqY"
      },
      "execution_count": 15,
      "outputs": []
    },
    {
      "cell_type": "code",
      "source": [
        "label_encoder = OneHotEncoder(sparse=False)\n",
        "label_encoder.fit(y.reshape(-1,1))"
      ],
      "metadata": {
        "id": "14B9aYy0W0y6",
        "colab": {
          "base_uri": "https://localhost:8080/"
        },
        "outputId": "407fad21-e8c2-4375-a984-a061972edc06"
      },
      "execution_count": 16,
      "outputs": [
        {
          "output_type": "execute_result",
          "data": {
            "text/plain": [
              "OneHotEncoder(sparse=False)"
            ]
          },
          "metadata": {},
          "execution_count": 16
        }
      ]
    },
    {
      "cell_type": "code",
      "source": [
        "y_encoded = label_encoder.transform(y.reshape(-1,1))"
      ],
      "metadata": {
        "id": "VjpWn96xXgPS"
      },
      "execution_count": 17,
      "outputs": []
    },
    {
      "cell_type": "code",
      "source": [
        "y_encoded[0:5]"
      ],
      "metadata": {
        "id": "VL6KMFo9XpBi",
        "colab": {
          "base_uri": "https://localhost:8080/"
        },
        "outputId": "9d5f6075-7404-4eaf-cf66-2c2e6d29a4d4"
      },
      "execution_count": 18,
      "outputs": [
        {
          "output_type": "execute_result",
          "data": {
            "text/plain": [
              "array([[0., 0., 0., 0., 0., 0., 0., 1.],\n",
              "       [0., 0., 0., 0., 0., 0., 0., 1.],\n",
              "       [0., 0., 0., 0., 0., 0., 0., 1.],\n",
              "       [0., 0., 0., 0., 0., 0., 0., 1.],\n",
              "       [0., 0., 0., 0., 0., 0., 0., 1.]])"
            ]
          },
          "metadata": {},
          "execution_count": 18
        }
      ]
    },
    {
      "cell_type": "code",
      "source": [
        "y=y_encoded"
      ],
      "metadata": {
        "id": "5c8km253YKBl"
      },
      "execution_count": 19,
      "outputs": []
    },
    {
      "cell_type": "markdown",
      "metadata": {
        "id": "5BXSDoHa9UX_"
      },
      "source": [
        "# Random/Shuffle"
      ]
    },
    {
      "cell_type": "code",
      "execution_count": 20,
      "metadata": {
        "id": "ZcfE9idy-ckb"
      },
      "outputs": [],
      "source": [
        "shuffler = np.random.permutation(len(X_sequence))\n",
        "X_sequence_shuffled = X_sequence[shuffler]\n",
        "y_shuffled = y[shuffler]"
      ]
    },
    {
      "cell_type": "markdown",
      "metadata": {
        "id": "TfhRTTNcE2s8"
      },
      "source": [
        "# LSTM"
      ]
    },
    {
      "cell_type": "code",
      "execution_count": 21,
      "metadata": {
        "id": "ihrXMuVAEwlY"
      },
      "outputs": [],
      "source": [
        "import pandas as pd\n",
        "import sklearn.metrics as metrique\n",
        "from pandas import Series\n",
        "from sklearn.preprocessing import StandardScaler, MinMaxScaler\n",
        "from matplotlib import pyplot\n",
        "from sklearn.model_selection import train_test_split\n",
        "import numpy as np\n",
        "import tensorflow as tf\n",
        "import sys\n",
        "import numpy as np\n",
        "import pandas as pd\n",
        "import tensorflow as tf\n",
        "import matplotlib.pyplot as plt\n",
        "from sklearn.model_selection import train_test_split\n",
        "from sklearn import preprocessing\n",
        "from sklearn.preprocessing import StandardScaler\n",
        "from sklearn.metrics import classification_report\n",
        "import warnings\n",
        "warnings.filterwarnings('ignore')\n",
        "plt.style.use('ggplot')\n",
        "import seaborn as sns \n",
        "%matplotlib inline\n",
        "from keras.callbacks import EarlyStopping\n",
        "from keras.callbacks import ModelCheckpoint\n",
        "from sklearn.metrics import accuracy_score\n",
        "from sklearn.metrics import classification_report, confusion_matrix\n",
        "from keras.models import Sequential\n",
        "from keras.utils import np_utils\n",
        "from keras.layers import LSTM, Dense, Embedding, Dropout,Input, Layer, Concatenate, Permute, Dot, Multiply, Flatten\n",
        "from keras.layers import RepeatVector, Dense, Activation, Lambda\n",
        "from keras.models import Sequential\n",
        "from keras import backend as K, regularizers, Model, metrics\n",
        "from keras.backend import cast"
      ]
    },
    {
      "cell_type": "code",
      "execution_count": 22,
      "metadata": {
        "id": "PjKWKiA6aH3z"
      },
      "outputs": [],
      "source": [
        "#from tensorflow.keras import optimizers\n",
        "#sgd = optimizers.SGD(lr=0.0001, decay=1e-6, momentum=0.9, nesterov=True)\n",
        "#model = keras.Sequential()\n",
        "#model.add(LSTM(100, input_shape = (200, 8)))\n",
        "#model.add(Dropout(0.5))\n",
        "#model.add(Dense(1, activation=\"softmax\"))\n",
        "\n",
        "\n",
        "#model.compile(loss=\"categorical_crossentropy\"\n",
        "#              , metrics=[keras.metrics.binary_accuracy]\n",
        "#              , optimizer='sgd')\n",
        "\n",
        "#model.summary()"
      ]
    },
    {
      "cell_type": "code",
      "execution_count": 23,
      "metadata": {
        "id": "_2SaVmwSWJVB",
        "colab": {
          "base_uri": "https://localhost:8080/"
        },
        "outputId": "c60f5bbb-6ad8-491c-979d-b16b6ccf5503"
      },
      "outputs": [
        {
          "output_type": "stream",
          "name": "stdout",
          "text": [
            "Model: \"sequential\"\n",
            "_________________________________________________________________\n",
            " Layer (type)                Output Shape              Param #   \n",
            "=================================================================\n",
            " lstm (LSTM)                 (None, 100)               43600     \n",
            "                                                                 \n",
            " dropout (Dropout)           (None, 100)               0         \n",
            "                                                                 \n",
            " dense (Dense)               (None, 8)                 808       \n",
            "                                                                 \n",
            "=================================================================\n",
            "Total params: 44,408\n",
            "Trainable params: 44,408\n",
            "Non-trainable params: 0\n",
            "_________________________________________________________________\n"
          ]
        }
      ],
      "source": [
        "from tensorflow.keras import optimizers\n",
        "#sgd = optimizers.SGD(lr=0.0001, decay=1e-6, momentum=0.9, nesterov=True)\n",
        "optimizer = tf.keras.optimizers.Adam(lr=0.0001)\n",
        "model = keras.Sequential()\n",
        "model.add(LSTM(100, input_shape = (200, 8)))\n",
        "model.add(Dropout(0.5))#0.25\n",
        "model.add(Dense(8, activation=\"softmax\"))\n",
        "\n",
        "#model.compile(loss='mean_squared_error', optimizer=sgd)\n",
        "model.compile(loss=\"categorical_crossentropy\"\n",
        "              , metrics=['accuracy']\n",
        "              , optimizer=optimizer)\n",
        "\n",
        "model.summary()"
      ]
    },
    {
      "cell_type": "code",
      "execution_count": 24,
      "metadata": {
        "id": "tg8wrqsqc8UX"
      },
      "outputs": [],
      "source": [
        "training_size = int(len(X_sequence) * 0.8)\n",
        "val_size = int(len(X_sequence) * 0.9)"
      ]
    },
    {
      "cell_type": "code",
      "execution_count": 25,
      "metadata": {
        "id": "avIp3TEKc-qF"
      },
      "outputs": [],
      "source": [
        "X_train, y_train = X_sequence_shuffled[:training_size], y_shuffled[:training_size]\n",
        "X_val, y_val = X_sequence_shuffled[training_size:val_size], y_shuffled[training_size:val_size]\n",
        "X_test, y_test = X_sequence_shuffled[val_size:], y_shuffled[val_size:]"
      ]
    },
    {
      "cell_type": "code",
      "execution_count": 26,
      "metadata": {
        "id": "RABc_uKzkBUT"
      },
      "outputs": [],
      "source": [
        "#X_sequence = 0\n",
        "#y = 0"
      ]
    },
    {
      "cell_type": "code",
      "source": [
        "X_train.shape"
      ],
      "metadata": {
        "id": "Omv-ht1dhGxL",
        "colab": {
          "base_uri": "https://localhost:8080/"
        },
        "outputId": "621d9302-10b3-46ec-fd2f-eab8cc9ff469"
      },
      "execution_count": 27,
      "outputs": [
        {
          "output_type": "execute_result",
          "data": {
            "text/plain": [
              "(119999, 200, 8)"
            ]
          },
          "metadata": {},
          "execution_count": 27
        }
      ]
    },
    {
      "cell_type": "code",
      "execution_count": 28,
      "metadata": {
        "id": "8aIhPJ-wLCwZ",
        "colab": {
          "base_uri": "https://localhost:8080/"
        },
        "outputId": "da34be20-13b2-4d38-afbc-5a3b05c803dd"
      },
      "outputs": [
        {
          "output_type": "execute_result",
          "data": {
            "text/plain": [
              "array([[0., 1., 0., 0., 0., 0., 0., 0.],\n",
              "       [1., 0., 0., 0., 0., 0., 0., 0.],\n",
              "       [0., 0., 0., 1., 0., 0., 0., 0.],\n",
              "       [0., 0., 0., 0., 0., 1., 0., 0.],\n",
              "       [0., 0., 0., 1., 0., 0., 0., 0.],\n",
              "       [0., 0., 0., 0., 0., 0., 1., 0.],\n",
              "       [0., 0., 0., 1., 0., 0., 0., 0.],\n",
              "       [0., 0., 1., 0., 0., 0., 0., 0.],\n",
              "       [0., 0., 0., 0., 1., 0., 0., 0.],\n",
              "       [0., 0., 0., 0., 1., 0., 0., 0.]])"
            ]
          },
          "metadata": {},
          "execution_count": 28
        }
      ],
      "source": [
        "y_train[:10]"
      ]
    },
    {
      "cell_type": "code",
      "execution_count": 29,
      "metadata": {
        "id": "cen4faX0dFJP",
        "colab": {
          "base_uri": "https://localhost:8080/"
        },
        "outputId": "b22da772-02fe-4111-e97b-fd13c1b707f3"
      },
      "outputs": [
        {
          "output_type": "stream",
          "name": "stdout",
          "text": [
            "Epoch 1/100\n",
            "1875/1875 [==============================] - 80s 38ms/step - loss: 1.8529 - accuracy: 0.2202 - val_loss: 1.7197 - val_accuracy: 0.2723\n",
            "Epoch 2/100\n",
            "1875/1875 [==============================] - 70s 37ms/step - loss: 1.8948 - accuracy: 0.2176 - val_loss: 1.7695 - val_accuracy: 0.2741\n",
            "Epoch 3/100\n",
            "1875/1875 [==============================] - 69s 37ms/step - loss: 1.7337 - accuracy: 0.2531 - val_loss: 1.6539 - val_accuracy: 0.2929\n",
            "Epoch 4/100\n",
            "1875/1875 [==============================] - 68s 36ms/step - loss: 1.6775 - accuracy: 0.2702 - val_loss: 1.6201 - val_accuracy: 0.3129\n",
            "Epoch 5/100\n",
            "1875/1875 [==============================] - 69s 37ms/step - loss: 1.6270 - accuracy: 0.2965 - val_loss: 1.5789 - val_accuracy: 0.3384\n",
            "Epoch 6/100\n",
            "1875/1875 [==============================] - 67s 36ms/step - loss: 1.5849 - accuracy: 0.3221 - val_loss: 1.5194 - val_accuracy: 0.3689\n",
            "Epoch 7/100\n",
            "1875/1875 [==============================] - 69s 37ms/step - loss: 1.5237 - accuracy: 0.3580 - val_loss: 1.4292 - val_accuracy: 0.4180\n",
            "Epoch 8/100\n",
            "1875/1875 [==============================] - 68s 36ms/step - loss: 1.4425 - accuracy: 0.4054 - val_loss: 1.3681 - val_accuracy: 0.4413\n",
            "Epoch 9/100\n",
            "1875/1875 [==============================] - 68s 36ms/step - loss: 1.3919 - accuracy: 0.4286 - val_loss: 1.3224 - val_accuracy: 0.4597\n",
            "Epoch 10/100\n",
            "1875/1875 [==============================] - 68s 36ms/step - loss: 1.3878 - accuracy: 0.4352 - val_loss: 1.3210 - val_accuracy: 0.4663\n",
            "Epoch 11/100\n",
            "1875/1875 [==============================] - 67s 36ms/step - loss: 1.3512 - accuracy: 0.4457 - val_loss: 1.2762 - val_accuracy: 0.4804\n",
            "Epoch 12/100\n",
            "1875/1875 [==============================] - 68s 36ms/step - loss: 1.3331 - accuracy: 0.4543 - val_loss: 1.2650 - val_accuracy: 0.4778\n",
            "Epoch 13/100\n",
            "1875/1875 [==============================] - 69s 37ms/step - loss: 1.3703 - accuracy: 0.4481 - val_loss: 1.2767 - val_accuracy: 0.4703\n",
            "Epoch 14/100\n",
            "1875/1875 [==============================] - 69s 37ms/step - loss: 1.3035 - accuracy: 0.4691 - val_loss: 1.2281 - val_accuracy: 0.4951\n",
            "Epoch 15/100\n",
            "1875/1875 [==============================] - 68s 36ms/step - loss: 1.2988 - accuracy: 0.4679 - val_loss: 1.2262 - val_accuracy: 0.5008\n",
            "Epoch 16/100\n",
            "1875/1875 [==============================] - 67s 36ms/step - loss: 1.3302 - accuracy: 0.4581 - val_loss: 1.2406 - val_accuracy: 0.4922\n",
            "Epoch 17/100\n",
            "1875/1875 [==============================] - 69s 37ms/step - loss: 1.2557 - accuracy: 0.4840 - val_loss: 1.1904 - val_accuracy: 0.5141\n",
            "Epoch 18/100\n",
            "1875/1875 [==============================] - 70s 37ms/step - loss: 1.2710 - accuracy: 0.4787 - val_loss: 1.2008 - val_accuracy: 0.5076\n",
            "Epoch 19/100\n",
            "1875/1875 [==============================] - 68s 36ms/step - loss: 1.2522 - accuracy: 0.4878 - val_loss: 1.1766 - val_accuracy: 0.5160\n",
            "Epoch 20/100\n",
            "1875/1875 [==============================] - 67s 35ms/step - loss: 1.2491 - accuracy: 0.4883 - val_loss: 1.1641 - val_accuracy: 0.5247\n",
            "Epoch 21/100\n",
            "1875/1875 [==============================] - 68s 36ms/step - loss: 1.2533 - accuracy: 0.4924 - val_loss: 1.3413 - val_accuracy: 0.4733\n",
            "Epoch 22/100\n",
            "1875/1875 [==============================] - 69s 37ms/step - loss: 1.2922 - accuracy: 0.4751 - val_loss: 1.2136 - val_accuracy: 0.5076\n",
            "Epoch 23/100\n",
            "1875/1875 [==============================] - 69s 37ms/step - loss: 1.2422 - accuracy: 0.4936 - val_loss: 1.1788 - val_accuracy: 0.5191\n",
            "Epoch 24/100\n",
            "1875/1875 [==============================] - 69s 37ms/step - loss: 1.2129 - accuracy: 0.5003 - val_loss: 1.1661 - val_accuracy: 0.5204\n",
            "Epoch 25/100\n",
            "1875/1875 [==============================] - 69s 37ms/step - loss: 1.1998 - accuracy: 0.5071 - val_loss: 1.1452 - val_accuracy: 0.5335\n",
            "Epoch 26/100\n",
            "1875/1875 [==============================] - 67s 36ms/step - loss: 1.1891 - accuracy: 0.5110 - val_loss: 1.1647 - val_accuracy: 0.5241\n",
            "Epoch 27/100\n",
            "1875/1875 [==============================] - 68s 36ms/step - loss: 1.1767 - accuracy: 0.5165 - val_loss: 1.1183 - val_accuracy: 0.5398\n",
            "Epoch 28/100\n",
            "1875/1875 [==============================] - 67s 36ms/step - loss: 1.1515 - accuracy: 0.5251 - val_loss: 1.0984 - val_accuracy: 0.5467\n",
            "Epoch 29/100\n",
            "1875/1875 [==============================] - 67s 36ms/step - loss: 1.1706 - accuracy: 0.5172 - val_loss: 1.1208 - val_accuracy: 0.5383\n",
            "Epoch 30/100\n",
            "1875/1875 [==============================] - 67s 36ms/step - loss: 1.1195 - accuracy: 0.5360 - val_loss: 1.0530 - val_accuracy: 0.5631\n",
            "Epoch 31/100\n",
            "1875/1875 [==============================] - 70s 37ms/step - loss: 1.1083 - accuracy: 0.5396 - val_loss: 1.1504 - val_accuracy: 0.5262\n",
            "Epoch 32/100\n",
            "1875/1875 [==============================] - 68s 36ms/step - loss: 1.1006 - accuracy: 0.5440 - val_loss: 1.0484 - val_accuracy: 0.5627\n",
            "Epoch 33/100\n",
            "1875/1875 [==============================] - 68s 36ms/step - loss: 1.0809 - accuracy: 0.5488 - val_loss: 0.9988 - val_accuracy: 0.5828\n",
            "Epoch 34/100\n",
            "1875/1875 [==============================] - 74s 39ms/step - loss: 1.0591 - accuracy: 0.5554 - val_loss: 1.0280 - val_accuracy: 0.5744\n",
            "Epoch 35/100\n",
            "1875/1875 [==============================] - 70s 37ms/step - loss: 1.1409 - accuracy: 0.5313 - val_loss: 1.0644 - val_accuracy: 0.5572\n",
            "Epoch 36/100\n",
            "1875/1875 [==============================] - 73s 39ms/step - loss: 1.1063 - accuracy: 0.5458 - val_loss: 1.0089 - val_accuracy: 0.5771\n",
            "Epoch 37/100\n",
            "1875/1875 [==============================] - 72s 39ms/step - loss: 1.0431 - accuracy: 0.5626 - val_loss: 0.9823 - val_accuracy: 0.5903\n",
            "Epoch 38/100\n",
            "1875/1875 [==============================] - 69s 37ms/step - loss: 1.0238 - accuracy: 0.5684 - val_loss: 1.0482 - val_accuracy: 0.5841\n",
            "Epoch 39/100\n",
            "1875/1875 [==============================] - 68s 36ms/step - loss: 1.0262 - accuracy: 0.5687 - val_loss: 0.9943 - val_accuracy: 0.5823\n",
            "Epoch 40/100\n",
            "1875/1875 [==============================] - 68s 36ms/step - loss: 1.0283 - accuracy: 0.5658 - val_loss: 0.9807 - val_accuracy: 0.5885\n",
            "Epoch 41/100\n",
            "1875/1875 [==============================] - 75s 40ms/step - loss: 1.0008 - accuracy: 0.5777 - val_loss: 0.9459 - val_accuracy: 0.6020\n",
            "Epoch 42/100\n",
            "1875/1875 [==============================] - 74s 39ms/step - loss: 1.0131 - accuracy: 0.5717 - val_loss: 0.9520 - val_accuracy: 0.5991\n",
            "Epoch 43/100\n",
            "1875/1875 [==============================] - 76s 40ms/step - loss: 1.0287 - accuracy: 0.5670 - val_loss: 0.9580 - val_accuracy: 0.6012\n",
            "Epoch 44/100\n",
            "1875/1875 [==============================] - 73s 39ms/step - loss: 0.9868 - accuracy: 0.5813 - val_loss: 0.9362 - val_accuracy: 0.6088\n",
            "Epoch 45/100\n",
            "1875/1875 [==============================] - 72s 38ms/step - loss: 0.9974 - accuracy: 0.5789 - val_loss: 0.9389 - val_accuracy: 0.6023\n",
            "Epoch 46/100\n",
            "1875/1875 [==============================] - 69s 37ms/step - loss: 0.9691 - accuracy: 0.5878 - val_loss: 0.9284 - val_accuracy: 0.6038\n",
            "Epoch 47/100\n",
            "1875/1875 [==============================] - 72s 39ms/step - loss: 0.9841 - accuracy: 0.5837 - val_loss: 0.9117 - val_accuracy: 0.6121\n",
            "Epoch 48/100\n",
            "1875/1875 [==============================] - 72s 39ms/step - loss: 0.9631 - accuracy: 0.5901 - val_loss: 0.9079 - val_accuracy: 0.6113\n",
            "Epoch 49/100\n",
            "1875/1875 [==============================] - 74s 40ms/step - loss: 0.9800 - accuracy: 0.5857 - val_loss: 0.9325 - val_accuracy: 0.6101\n",
            "Epoch 50/100\n",
            "1875/1875 [==============================] - 69s 37ms/step - loss: 0.9515 - accuracy: 0.5967 - val_loss: 0.8969 - val_accuracy: 0.6217\n",
            "Epoch 51/100\n",
            "1875/1875 [==============================] - 74s 40ms/step - loss: 0.9465 - accuracy: 0.5961 - val_loss: 0.8979 - val_accuracy: 0.6215\n",
            "Epoch 52/100\n",
            "1875/1875 [==============================] - 75s 40ms/step - loss: 0.9354 - accuracy: 0.6011 - val_loss: 0.8895 - val_accuracy: 0.6128\n",
            "Epoch 53/100\n",
            "1875/1875 [==============================] - 72s 38ms/step - loss: 1.0719 - accuracy: 0.5708 - val_loss: 0.9529 - val_accuracy: 0.5900\n",
            "Epoch 54/100\n",
            "1875/1875 [==============================] - 72s 39ms/step - loss: 0.9381 - accuracy: 0.6026 - val_loss: 0.8802 - val_accuracy: 0.6279\n",
            "Epoch 55/100\n",
            "1875/1875 [==============================] - 74s 39ms/step - loss: 0.9275 - accuracy: 0.6047 - val_loss: 0.8766 - val_accuracy: 0.6215\n",
            "Epoch 56/100\n",
            "1875/1875 [==============================] - 73s 39ms/step - loss: 0.9232 - accuracy: 0.6073 - val_loss: 0.8831 - val_accuracy: 0.6153\n",
            "Epoch 57/100\n",
            "1875/1875 [==============================] - 74s 40ms/step - loss: 0.9236 - accuracy: 0.6075 - val_loss: 0.9220 - val_accuracy: 0.6035\n",
            "Epoch 58/100\n",
            "1875/1875 [==============================] - 70s 37ms/step - loss: 0.9549 - accuracy: 0.5964 - val_loss: 0.8661 - val_accuracy: 0.6301\n",
            "Epoch 59/100\n",
            "1875/1875 [==============================] - 71s 38ms/step - loss: 0.9034 - accuracy: 0.6141 - val_loss: 0.8586 - val_accuracy: 0.6309\n",
            "Epoch 60/100\n",
            "1875/1875 [==============================] - 77s 41ms/step - loss: 0.9001 - accuracy: 0.6168 - val_loss: 0.8669 - val_accuracy: 0.6291\n",
            "Epoch 61/100\n",
            "1875/1875 [==============================] - 76s 40ms/step - loss: 0.8947 - accuracy: 0.6172 - val_loss: 0.8613 - val_accuracy: 0.6327\n",
            "Epoch 62/100\n",
            "1875/1875 [==============================] - 73s 39ms/step - loss: 0.8910 - accuracy: 0.6202 - val_loss: 0.8607 - val_accuracy: 0.6393\n",
            "Epoch 63/100\n",
            "1875/1875 [==============================] - 75s 40ms/step - loss: 0.8846 - accuracy: 0.6225 - val_loss: 0.8534 - val_accuracy: 0.6353\n",
            "Epoch 64/100\n",
            "1875/1875 [==============================] - 79s 42ms/step - loss: 0.8821 - accuracy: 0.6243 - val_loss: 0.8345 - val_accuracy: 0.6400\n",
            "Epoch 65/100\n",
            "1875/1875 [==============================] - 72s 38ms/step - loss: 0.8774 - accuracy: 0.6258 - val_loss: 0.8450 - val_accuracy: 0.6379\n",
            "Epoch 66/100\n",
            "1875/1875 [==============================] - 73s 39ms/step - loss: 0.8749 - accuracy: 0.6265 - val_loss: 0.8782 - val_accuracy: 0.6301\n",
            "Epoch 67/100\n",
            "1875/1875 [==============================] - 74s 39ms/step - loss: 0.8753 - accuracy: 0.6279 - val_loss: 0.8373 - val_accuracy: 0.6409\n",
            "Epoch 68/100\n",
            "1875/1875 [==============================] - 75s 40ms/step - loss: 0.8604 - accuracy: 0.6327 - val_loss: 0.8374 - val_accuracy: 0.6429\n",
            "Epoch 69/100\n",
            "1875/1875 [==============================] - 71s 38ms/step - loss: 0.8610 - accuracy: 0.6318 - val_loss: 0.8512 - val_accuracy: 0.6385\n",
            "Epoch 70/100\n",
            "1875/1875 [==============================] - 73s 39ms/step - loss: 0.8522 - accuracy: 0.6363 - val_loss: 0.8219 - val_accuracy: 0.6463\n",
            "Epoch 71/100\n",
            "1875/1875 [==============================] - 75s 40ms/step - loss: 0.8491 - accuracy: 0.6380 - val_loss: 0.8203 - val_accuracy: 0.6541\n",
            "Epoch 72/100\n",
            "1875/1875 [==============================] - 76s 40ms/step - loss: 0.8433 - accuracy: 0.6410 - val_loss: 0.8061 - val_accuracy: 0.6579\n",
            "Epoch 73/100\n",
            "1875/1875 [==============================] - 72s 38ms/step - loss: 0.8401 - accuracy: 0.6419 - val_loss: 0.8095 - val_accuracy: 0.6500\n",
            "Epoch 74/100\n",
            "1875/1875 [==============================] - 74s 40ms/step - loss: 0.8371 - accuracy: 0.6452 - val_loss: 0.7827 - val_accuracy: 0.6689\n",
            "Epoch 75/100\n",
            "1875/1875 [==============================] - 73s 39ms/step - loss: 0.8342 - accuracy: 0.6457 - val_loss: 0.8032 - val_accuracy: 0.6587\n",
            "Epoch 76/100\n",
            "1875/1875 [==============================] - 67s 36ms/step - loss: 0.8305 - accuracy: 0.6502 - val_loss: 0.8063 - val_accuracy: 0.6536\n",
            "Epoch 77/100\n",
            "1875/1875 [==============================] - 67s 36ms/step - loss: 0.8273 - accuracy: 0.6519 - val_loss: 0.8502 - val_accuracy: 0.6404\n",
            "Epoch 78/100\n",
            "1875/1875 [==============================] - 66s 35ms/step - loss: 0.8136 - accuracy: 0.6587 - val_loss: 0.7747 - val_accuracy: 0.6749\n",
            "Epoch 79/100\n",
            "1875/1875 [==============================] - 69s 37ms/step - loss: 0.8099 - accuracy: 0.6584 - val_loss: 0.7872 - val_accuracy: 0.6716\n",
            "Epoch 80/100\n",
            "1875/1875 [==============================] - 71s 38ms/step - loss: 0.8095 - accuracy: 0.6609 - val_loss: 0.7572 - val_accuracy: 0.6805\n",
            "Epoch 81/100\n",
            "1875/1875 [==============================] - 70s 37ms/step - loss: 0.8014 - accuracy: 0.6644 - val_loss: 0.7791 - val_accuracy: 0.6714\n",
            "Epoch 82/100\n",
            "1875/1875 [==============================] - 75s 40ms/step - loss: 0.7979 - accuracy: 0.6669 - val_loss: 0.7626 - val_accuracy: 0.6799\n",
            "Epoch 83/100\n",
            "1875/1875 [==============================] - 72s 39ms/step - loss: 0.7937 - accuracy: 0.6700 - val_loss: 0.7350 - val_accuracy: 0.6929\n",
            "Epoch 84/100\n",
            "1875/1875 [==============================] - 70s 38ms/step - loss: 0.7872 - accuracy: 0.6714 - val_loss: 0.7344 - val_accuracy: 0.6929\n",
            "Epoch 85/100\n",
            "1875/1875 [==============================] - 71s 38ms/step - loss: 0.7812 - accuracy: 0.6735 - val_loss: 0.7602 - val_accuracy: 0.6864\n",
            "Epoch 86/100\n",
            "1875/1875 [==============================] - 72s 38ms/step - loss: 0.7810 - accuracy: 0.6747 - val_loss: 0.7456 - val_accuracy: 0.6877\n",
            "Epoch 87/100\n",
            "1875/1875 [==============================] - 72s 38ms/step - loss: 0.7779 - accuracy: 0.6774 - val_loss: 0.7576 - val_accuracy: 0.6862\n",
            "Epoch 88/100\n",
            "1875/1875 [==============================] - 71s 38ms/step - loss: 0.7719 - accuracy: 0.6796 - val_loss: 0.7335 - val_accuracy: 0.6977\n",
            "Epoch 89/100\n",
            "1875/1875 [==============================] - 73s 39ms/step - loss: 0.7631 - accuracy: 0.6829 - val_loss: 0.7358 - val_accuracy: 0.6931\n",
            "Epoch 90/100\n",
            "1875/1875 [==============================] - 72s 39ms/step - loss: 0.7575 - accuracy: 0.6853 - val_loss: 0.8431 - val_accuracy: 0.6802\n",
            "Epoch 91/100\n",
            "1875/1875 [==============================] - 72s 38ms/step - loss: 0.7912 - accuracy: 0.6737 - val_loss: 0.7616 - val_accuracy: 0.6843\n",
            "Epoch 92/100\n",
            "1875/1875 [==============================] - 71s 38ms/step - loss: 0.7535 - accuracy: 0.6899 - val_loss: 0.7244 - val_accuracy: 0.6984\n",
            "Epoch 93/100\n",
            "1875/1875 [==============================] - 70s 37ms/step - loss: 0.7474 - accuracy: 0.6918 - val_loss: 0.7272 - val_accuracy: 0.6970\n",
            "Epoch 94/100\n",
            "1875/1875 [==============================] - 70s 37ms/step - loss: 0.7422 - accuracy: 0.6939 - val_loss: 0.7062 - val_accuracy: 0.7087\n",
            "Epoch 95/100\n",
            "1875/1875 [==============================] - 72s 38ms/step - loss: 0.7419 - accuracy: 0.6943 - val_loss: 0.7008 - val_accuracy: 0.7091\n",
            "Epoch 96/100\n",
            "1875/1875 [==============================] - 73s 39ms/step - loss: 0.7371 - accuracy: 0.6954 - val_loss: 0.7099 - val_accuracy: 0.7043\n",
            "Epoch 97/100\n",
            "1875/1875 [==============================] - 72s 38ms/step - loss: 0.7510 - accuracy: 0.6950 - val_loss: 0.6963 - val_accuracy: 0.7115\n",
            "Epoch 98/100\n",
            "1875/1875 [==============================] - 70s 38ms/step - loss: 0.7255 - accuracy: 0.7012 - val_loss: 0.6823 - val_accuracy: 0.7172\n",
            "Epoch 99/100\n",
            "1875/1875 [==============================] - 72s 39ms/step - loss: 0.7197 - accuracy: 0.7046 - val_loss: 0.7101 - val_accuracy: 0.7081\n",
            "Epoch 100/100\n",
            "1875/1875 [==============================] - 72s 39ms/step - loss: 0.7178 - accuracy: 0.7058 - val_loss: 0.6847 - val_accuracy: 0.7177\n"
          ]
        }
      ],
      "source": [
        "history = model.fit(X_train, y_train, batch_size=64, epochs=100, validation_data=(X_val, y_val))\n",
        "#model.save('NewAllDataModel_E50_B64.h5')"
      ]
    },
    {
      "cell_type": "code",
      "execution_count": 30,
      "metadata": {
        "id": "R7QQeqVidKBR",
        "colab": {
          "base_uri": "https://localhost:8080/"
        },
        "outputId": "fdcbf58a-8734-47ce-83d7-f8c870d4439b"
      },
      "outputs": [
        {
          "output_type": "stream",
          "name": "stdout",
          "text": [
            "469/469 [==============================] - 8s 17ms/step - loss: 0.6806 - accuracy: 0.7183\n"
          ]
        }
      ],
      "source": [
        "test_acc = model.evaluate(X_test, y_test)"
      ]
    },
    {
      "cell_type": "code",
      "source": [
        "test_acc"
      ],
      "metadata": {
        "id": "6fuTmgGrUgGg",
        "colab": {
          "base_uri": "https://localhost:8080/"
        },
        "outputId": "ace6d85f-e731-41f3-8472-794437f47556"
      },
      "execution_count": 31,
      "outputs": [
        {
          "output_type": "execute_result",
          "data": {
            "text/plain": [
              "[0.6805998682975769, 0.7182666659355164]"
            ]
          },
          "metadata": {},
          "execution_count": 31
        }
      ]
    },
    {
      "cell_type": "code",
      "execution_count": 32,
      "metadata": {
        "id": "OHpifyqGdKn-",
        "colab": {
          "base_uri": "https://localhost:8080/"
        },
        "outputId": "f0c4c7a4-d1de-49bf-8aea-b68fd2eeb622"
      },
      "outputs": [
        {
          "output_type": "stream",
          "name": "stdout",
          "text": [
            "469/469 [==============================] - 7s 14ms/step\n"
          ]
        }
      ],
      "source": [
        "y_test_prob = model.predict(X_test, verbose=1)"
      ]
    },
    {
      "cell_type": "code",
      "source": [
        "np.set_printoptions(suppress=True)\n",
        "y_test_prob"
      ],
      "metadata": {
        "id": "rRPswrrkmhp2",
        "colab": {
          "base_uri": "https://localhost:8080/"
        },
        "outputId": "f5888c6e-f28b-4a57-9d65-093bf198c684"
      },
      "execution_count": 33,
      "outputs": [
        {
          "output_type": "execute_result",
          "data": {
            "text/plain": [
              "array([[0.00000586, 0.00000044, 0.00036318, ..., 0.02459733, 0.00217982,\n",
              "        0.00000181],\n",
              "       [0.00000022, 0.00172182, 0.9945093 , ..., 0.00001621, 0.00006752,\n",
              "        0.00000699],\n",
              "       [0.0000029 , 0.0000025 , 0.01727829, ..., 0.13362145, 0.00387184,\n",
              "        0.00010817],\n",
              "       ...,\n",
              "       [0.00014755, 0.00018766, 0.12566887, ..., 0.2412227 , 0.19046326,\n",
              "        0.02055566],\n",
              "       [0.811951  , 0.1850429 , 0.00018475, ..., 0.0000774 , 0.00005875,\n",
              "        0.00245476],\n",
              "       [0.00000436, 0.00000827, 0.03267659, ..., 0.5037249 , 0.00200994,\n",
              "        0.00003326]], dtype=float32)"
            ]
          },
          "metadata": {},
          "execution_count": 33
        }
      ]
    },
    {
      "cell_type": "code",
      "execution_count": 34,
      "metadata": {
        "id": "AfmdrBILdMwj"
      },
      "outputs": [],
      "source": [
        "y_test_pred = np.where(y_test_prob > 0.5, 1, 0)"
      ]
    },
    {
      "cell_type": "code",
      "execution_count": 35,
      "metadata": {
        "id": "8DoJy_p9dPzN"
      },
      "outputs": [],
      "source": [
        "from sklearn.metrics import multilabel_confusion_matrix"
      ]
    },
    {
      "cell_type": "code",
      "source": [
        "y_test"
      ],
      "metadata": {
        "id": "n1Us2yrfcGl-",
        "colab": {
          "base_uri": "https://localhost:8080/"
        },
        "outputId": "13cfd03b-c28c-46bf-b984-a2ac863e13c2"
      },
      "execution_count": 36,
      "outputs": [
        {
          "output_type": "execute_result",
          "data": {
            "text/plain": [
              "array([[0., 0., 0., ..., 0., 0., 0.],\n",
              "       [0., 0., 1., ..., 0., 0., 0.],\n",
              "       [0., 0., 0., ..., 0., 0., 0.],\n",
              "       ...,\n",
              "       [0., 0., 0., ..., 0., 0., 0.],\n",
              "       [1., 0., 0., ..., 0., 0., 0.],\n",
              "       [0., 0., 0., ..., 1., 0., 0.]])"
            ]
          },
          "metadata": {},
          "execution_count": 36
        }
      ]
    },
    {
      "cell_type": "code",
      "source": [
        "y_test.shape"
      ],
      "metadata": {
        "id": "VnmvTcvWbxr9",
        "colab": {
          "base_uri": "https://localhost:8080/"
        },
        "outputId": "7e3e6842-ef5f-4d63-905f-7cc32335c897"
      },
      "execution_count": 37,
      "outputs": [
        {
          "output_type": "execute_result",
          "data": {
            "text/plain": [
              "(15000, 8)"
            ]
          },
          "metadata": {},
          "execution_count": 37
        }
      ]
    },
    {
      "cell_type": "code",
      "source": [
        "y_test_pred"
      ],
      "metadata": {
        "id": "nMBOgzrgcJBj",
        "colab": {
          "base_uri": "https://localhost:8080/"
        },
        "outputId": "075fb708-8a97-4e74-b293-2d51454ded2a"
      },
      "execution_count": 38,
      "outputs": [
        {
          "output_type": "execute_result",
          "data": {
            "text/plain": [
              "array([[0, 0, 0, ..., 0, 0, 0],\n",
              "       [0, 0, 1, ..., 0, 0, 0],\n",
              "       [0, 0, 0, ..., 0, 0, 0],\n",
              "       ...,\n",
              "       [0, 0, 0, ..., 0, 0, 0],\n",
              "       [1, 0, 0, ..., 0, 0, 0],\n",
              "       [0, 0, 0, ..., 1, 0, 0]])"
            ]
          },
          "metadata": {},
          "execution_count": 38
        }
      ]
    },
    {
      "cell_type": "code",
      "source": [
        "y_test_pred.shape"
      ],
      "metadata": {
        "id": "SXKZof8Ye5uI",
        "colab": {
          "base_uri": "https://localhost:8080/"
        },
        "outputId": "16e1fc09-f3c3-474c-a0c8-60eba08e93a3"
      },
      "execution_count": 39,
      "outputs": [
        {
          "output_type": "execute_result",
          "data": {
            "text/plain": [
              "(15000, 8)"
            ]
          },
          "metadata": {},
          "execution_count": 39
        }
      ]
    },
    {
      "cell_type": "code",
      "source": [
        "y_decoded_pred = tf.argmax(y_test_pred, axis = 1)"
      ],
      "metadata": {
        "id": "leDQwKOjgwwi"
      },
      "execution_count": 40,
      "outputs": []
    },
    {
      "cell_type": "code",
      "source": [
        "y_decoded = tf.argmax(y_test, axis = 1)"
      ],
      "metadata": {
        "id": "sAHRmtesif6g"
      },
      "execution_count": 41,
      "outputs": []
    },
    {
      "cell_type": "code",
      "source": [
        "y_decoded_pred"
      ],
      "metadata": {
        "id": "_lvFhrmPhprD",
        "colab": {
          "base_uri": "https://localhost:8080/"
        },
        "outputId": "d3c32c20-8ba2-4fa9-d442-378bd568b25b"
      },
      "execution_count": 42,
      "outputs": [
        {
          "output_type": "execute_result",
          "data": {
            "text/plain": [
              "<tf.Tensor: shape=(15000,), dtype=int64, numpy=array([4, 2, 0, ..., 0, 0, 5])>"
            ]
          },
          "metadata": {},
          "execution_count": 42
        }
      ]
    },
    {
      "cell_type": "code",
      "source": [
        "y_decoded"
      ],
      "metadata": {
        "id": "YV1FXgHviPwm",
        "colab": {
          "base_uri": "https://localhost:8080/"
        },
        "outputId": "1989dffb-c277-46a7-a25f-04e5b6acadba"
      },
      "execution_count": 43,
      "outputs": [
        {
          "output_type": "execute_result",
          "data": {
            "text/plain": [
              "<tf.Tensor: shape=(15000,), dtype=int64, numpy=array([4, 2, 3, ..., 3, 0, 5])>"
            ]
          },
          "metadata": {},
          "execution_count": 43
        }
      ]
    },
    {
      "cell_type": "code",
      "source": [
        "y_test_pred = y_decoded_pred\n"
      ],
      "metadata": {
        "id": "6-6jFqzGh380"
      },
      "execution_count": 44,
      "outputs": []
    },
    {
      "cell_type": "code",
      "source": [
        "y_test = y_decoded"
      ],
      "metadata": {
        "id": "9pogVvdIiwss"
      },
      "execution_count": 45,
      "outputs": []
    },
    {
      "cell_type": "code",
      "source": [
        "y_test"
      ],
      "metadata": {
        "id": "oGt5aJetiKR6",
        "colab": {
          "base_uri": "https://localhost:8080/"
        },
        "outputId": "b149b779-3cf7-4de0-b566-e780dd876d72"
      },
      "execution_count": 46,
      "outputs": [
        {
          "output_type": "execute_result",
          "data": {
            "text/plain": [
              "<tf.Tensor: shape=(15000,), dtype=int64, numpy=array([4, 2, 3, ..., 3, 0, 5])>"
            ]
          },
          "metadata": {},
          "execution_count": 46
        }
      ]
    },
    {
      "cell_type": "code",
      "source": [
        "y_test_pred"
      ],
      "metadata": {
        "id": "fLgDwAIfiyv2",
        "colab": {
          "base_uri": "https://localhost:8080/"
        },
        "outputId": "a5ec7b1b-1a72-4e42-9bbb-cba4f8b82674"
      },
      "execution_count": 47,
      "outputs": [
        {
          "output_type": "execute_result",
          "data": {
            "text/plain": [
              "<tf.Tensor: shape=(15000,), dtype=int64, numpy=array([4, 2, 0, ..., 0, 0, 5])>"
            ]
          },
          "metadata": {},
          "execution_count": 47
        }
      ]
    },
    {
      "cell_type": "code",
      "execution_count": 48,
      "metadata": {
        "id": "fTCsPjW8dQaZ"
      },
      "outputs": [],
      "source": [
        "cfm=confusion_matrix(y_test, y_test_pred)"
      ]
    },
    {
      "cell_type": "code",
      "source": [
        "cfm"
      ],
      "metadata": {
        "id": "_67lPg6ic4cH",
        "colab": {
          "base_uri": "https://localhost:8080/"
        },
        "outputId": "ba9bae05-a2ac-4f29-d67c-e0a024978f87"
      },
      "execution_count": 49,
      "outputs": [
        {
          "output_type": "execute_result",
          "data": {
            "text/plain": [
              "array([[1835,   12,    0,    0,    0,    0,    0,    1],\n",
              "       [  70, 1850,   35,    0,    0,    0,    0,    8],\n",
              "       [ 469,   11, 1228,   84,    1,    7,   26,   62],\n",
              "       [ 679,    0,   75,  917,  130,  124,    3,    2],\n",
              "       [ 800,    0,    7,  171,  606,  186,   75,   13],\n",
              "       [ 937,    0,    5,   92,   74,  681,   49,   10],\n",
              "       [ 625,    0,   10,    3,   13,   39,  723,  395],\n",
              "       [ 240,    5,    2,    0,    0,    0,   91, 1519]])"
            ]
          },
          "metadata": {},
          "execution_count": 49
        }
      ]
    },
    {
      "cell_type": "code",
      "source": [
        " print(classification_report(y_test,y_test_pred))"
      ],
      "metadata": {
        "id": "XTqR_xnwRWCJ",
        "colab": {
          "base_uri": "https://localhost:8080/"
        },
        "outputId": "729d1b27-9476-4b39-a492-b9fbdb5273d3"
      },
      "execution_count": 50,
      "outputs": [
        {
          "output_type": "stream",
          "name": "stdout",
          "text": [
            "              precision    recall  f1-score   support\n",
            "\n",
            "           0       0.32      0.99      0.49      1848\n",
            "           1       0.99      0.94      0.96      1963\n",
            "           2       0.90      0.65      0.76      1888\n",
            "           3       0.72      0.48      0.57      1930\n",
            "           4       0.74      0.33      0.45      1858\n",
            "           5       0.66      0.37      0.47      1848\n",
            "           6       0.75      0.40      0.52      1808\n",
            "           7       0.76      0.82      0.79      1857\n",
            "\n",
            "    accuracy                           0.62     15000\n",
            "   macro avg       0.73      0.62      0.63     15000\n",
            "weighted avg       0.73      0.62      0.63     15000\n",
            "\n"
          ]
        }
      ]
    },
    {
      "cell_type": "code",
      "execution_count": 51,
      "metadata": {
        "id": "te3fslrY9Eca",
        "colab": {
          "base_uri": "https://localhost:8080/",
          "height": 903
        },
        "outputId": "22bcc4e2-5970-4516-c2ff-a8f035d67bcb"
      },
      "outputs": [
        {
          "output_type": "stream",
          "name": "stdout",
          "text": [
            "Confusion matrix, without normalization\n",
            "[[1835   12    0    0    0    0    0    1]\n",
            " [  70 1850   35    0    0    0    0    8]\n",
            " [ 469   11 1228   84    1    7   26   62]\n",
            " [ 679    0   75  917  130  124    3    2]\n",
            " [ 800    0    7  171  606  186   75   13]\n",
            " [ 937    0    5   92   74  681   49   10]\n",
            " [ 625    0   10    3   13   39  723  395]\n",
            " [ 240    5    2    0    0    0   91 1519]]\n",
            "Normalized confusion matrix\n",
            "[[0.99 0.01 0.   0.   0.   0.   0.   0.  ]\n",
            " [0.04 0.94 0.02 0.   0.   0.   0.   0.  ]\n",
            " [0.25 0.01 0.65 0.04 0.   0.   0.01 0.03]\n",
            " [0.35 0.   0.04 0.48 0.07 0.06 0.   0.  ]\n",
            " [0.43 0.   0.   0.09 0.33 0.1  0.04 0.01]\n",
            " [0.51 0.   0.   0.05 0.04 0.37 0.03 0.01]\n",
            " [0.35 0.   0.01 0.   0.01 0.02 0.4  0.22]\n",
            " [0.13 0.   0.   0.   0.   0.   0.05 0.82]]\n"
          ]
        },
        {
          "output_type": "display_data",
          "data": {
            "text/plain": [
              "<Figure size 432x288 with 2 Axes>"
            ],
            "image/png": "[encoded data removed]"
          },
          "metadata": {
            "needs_background": "light"
          }
        },
        {
          "output_type": "display_data",
          "data": {
            "text/plain": [
              "<Figure size 432x288 with 2 Axes>"
            ],
            "image/png": "[encoded data removed]"
          },
          "metadata": {
            "needs_background": "light"
          }
        }
      ],
      "source": [
        "import numpy as np\n",
        "import matplotlib.pyplot as plt\n",
        "\n",
        "from sklearn import svm, datasets\n",
        "from sklearn.model_selection import train_test_split\n",
        "from sklearn.metrics import confusion_matrix\n",
        "from sklearn.utils.multiclass import unique_labels\n",
        "\n",
        "class_names = np.array(['0', '1', '2', '3', '4', '5', '6', '7'])\n",
        "\n",
        "def plot_confusion_matrix(y_true, y_pred, classes,\n",
        "                          normalize=False,\n",
        "                          title=None,\n",
        "                          cmap=plt.cm.Blues):\n",
        "    \"\"\"\n",
        "    This function prints and plots the confusion matrix.\n",
        "    Normalization can be applied by setting `normalize=True`.\n",
        "    \"\"\"\n",
        "    if not title:\n",
        "        if normalize:\n",
        "            title = 'Normalized confusion matrix'\n",
        "        else:\n",
        "            title = 'Confusion matrix, without normalization'\n",
        "\n",
        "    # Compute confusion matrix\n",
        "    cm = confusion_matrix(y_true, y_pred)\n",
        "    # Only use the labels that appear in the data\n",
        "    classes = classes[unique_labels(y_true, y_pred)]\n",
        "    if normalize:\n",
        "        cm = cm.astype('float') / cm.sum(axis=1)[:, np.newaxis]\n",
        "        print(\"Normalized confusion matrix\")\n",
        "    else:\n",
        "        print('Confusion matrix, without normalization')\n",
        "\n",
        "    print(cm)\n",
        "\n",
        "    fig, ax = plt.subplots()\n",
        "    im = ax.imshow(cm, interpolation='nearest', cmap=cmap)\n",
        "    ax.figure.colorbar(im, ax=ax)\n",
        "    # We want to show all ticks...\n",
        "    ax.set(xticks=np.arange(cm.shape[1]),\n",
        "           yticks=np.arange(cm.shape[0]),\n",
        "           # ... and label them with the respective list entries\n",
        "           xticklabels=classes, yticklabels=classes,\n",
        "           title=title,\n",
        "           ylabel='True label',\n",
        "           xlabel='Predicted label')\n",
        "\n",
        "    # Rotate the tick labels and set their alignment.\n",
        "    plt.setp(ax.get_xticklabels(), rotation=45, ha=\"right\",\n",
        "             rotation_mode=\"anchor\")\n",
        "\n",
        "    # Loop over data dimensions and create text annotations.\n",
        "    fmt = '.2f' if normalize else 'd'\n",
        "    thresh = cm.max() / 2.\n",
        "    for i in range(cm.shape[0]):\n",
        "        for j in range(cm.shape[1]):\n",
        "            ax.text(j, i, format(cm[i, j], fmt),\n",
        "                    ha=\"center\", va=\"center\",\n",
        "                    color=\"white\" if cm[i, j] > thresh else \"black\")\n",
        "    fig.tight_layout()\n",
        "\n",
        "    return ax\n",
        "\n",
        "\n",
        "np.set_printoptions(precision=2)\n",
        "\n",
        "# Plot non-normalized confusion matrix\n",
        "plot_confusion_matrix(y_test, y_test_pred, classes=class_names,\n",
        "                      title='Confusion matrix, without normalization')\n",
        "\n",
        "# Plot normalized confusion matrix\n",
        "plot_confusion_matrix(y_test, y_test_pred, classes=class_names, normalize=True,\n",
        "                      title='Normalized confusion matrix')\n",
        "\n",
        "plt.show()"
      ]
    },
    {
      "cell_type": "code",
      "execution_count": 52,
      "metadata": {
        "id": "fhdLAhgPUnH3"
      },
      "outputs": [],
      "source": [
        "def plot_learningCurve(history, epoch):\n",
        "  # Plot training & validation accuracy values\n",
        "  epoch_range = range(1, epoch+1)\n",
        "  plt.plot(epoch_range, history.history['accuracy'])\n",
        "  plt.plot(epoch_range, history.history['val_accuracy'])\n",
        "  plt.title('Model accuracy')\n",
        "  plt.ylabel('Accuracy')\n",
        "  plt.xlabel('Epoch')\n",
        "  plt.legend(['Train', 'Val'], loc='upper left')\n",
        "  plt.show()\n",
        "\n",
        "  # Plot training & validation loss values\n",
        "  plt.plot(epoch_range, history.history['loss'])\n",
        "  plt.plot(epoch_range, history.history['val_loss'])\n",
        "  plt.title('Model loss')\n",
        "  plt.ylabel('Loss')\n",
        "  plt.xlabel('Epoch')\n",
        "  plt.legend(['Train', 'Val'], loc='upper left')\n",
        "  plt.show()"
      ]
    },
    {
      "cell_type": "code",
      "execution_count": 53,
      "metadata": {
        "id": "WlkQkWHgU5mL",
        "colab": {
          "base_uri": "https://localhost:8080/",
          "height": 581
        },
        "outputId": "791deb92-4924-4c1f-ec5b-ca72df787af8"
      },
      "outputs": [
        {
          "output_type": "display_data",
          "data": {
            "text/plain": [
              "<Figure size 432x288 with 1 Axes>"
            ],
            "image/png": "[encoded data removed]"
          },
          "metadata": {
            "needs_background": "light"
          }
        },
        {
          "output_type": "display_data",
          "data": {
            "text/plain": [
              "<Figure size 432x288 with 1 Axes>"
            ],
            "image/png": "[encoded data removed]"
          },
          "metadata": {
            "needs_background": "light"
          }
        }
      ],
      "source": [
        "plot_learningCurve(history, 100)"
      ]
    }
  ],
  "metadata": {
    "colab": {
      "collapsed_sections": [
        "f857kfHqUk0-"
      ],
      "name": "Multi_Class_MD_LSTM_step_200_files_120.ipynb",
      "provenance": [],
      "include_colab_link": true
    },
    "kernelspec": {
      "display_name": "Python 3",
      "name": "python3"
    },
    "language_info": {
      "name": "python"
    },
    "accelerator": "GPU"
  },
  "nbformat": 4,
  "nbformat_minor": 0
}