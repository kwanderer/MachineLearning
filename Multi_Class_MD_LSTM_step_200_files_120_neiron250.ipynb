{
  "cells": [
    {
      "cell_type": "markdown",
      "metadata": {
        "id": "view-in-github",
        "colab_type": "text"
      },
      "source": [
        "<a href=\"https://colab.research.google.com/github/kwanderer/MachineLearning/blob/main/Multi_Class_MD_LSTM_step_200_files_120_neiron250.ipynb\" target=\"_parent\"><img src=\"https://colab.research.google.com/assets/colab-badge.svg\" alt=\"Open In Colab\"/></a>"
      ]
    },
    {
      "cell_type": "markdown",
      "metadata": {
        "id": "f857kfHqUk0-"
      },
      "source": [
        "\n",
        "\n",
        "#Datu kopa"
      ]
    },
    {
      "cell_type": "markdown",
      "metadata": {
        "id": "nM9WE3QGUwVi"
      },
      "source": [
        "Datu kopas avots: https://www.kaggle.com/uysalserkan/fault-induction-motor-dataset"
      ]
    },
    {
      "cell_type": "markdown",
      "metadata": {
        "id": "_sN_h3qHHy6r"
      },
      "source": [
        "Darbā tiek izmantota indukcijas motora parametru datu bāze. Izmantotajā datu kopā ir dati, kas tika iegūti SpectraQuest aparatūras kļūdu simulatorā (Machinery Fault Simulator).\n",
        "\n",
        "Katra mērījumu secība tika ģenerēta ar frekvenci 50 kHz 5 sekunžu laikā, kopā 250 000 mērījumi.\n",
        "\n",
        "Dati ir apkopoti vairākos failos, dažādos darbības stāvokļos un to apjoms ir ļoti liels. Šajā darbā tika izmantota daļa(viena mērījumu secība) no motora normālas darbības datiem.\n"
      ]
    },
    {
      "cell_type": "markdown",
      "metadata": {
        "id": "KtFAOaHYHLPo"
      },
      "source": [
        "Dati ir apkopoti tabulā, kura satur 8 parametrus. Dati ir iedalīti sekojošās kolonas:\n",
        "\n",
        "**tachometer** – tahometra signāls, kas ļauj novērtēt rotācijas frekvenci\n",
        "\n",
        "**und-accelerometer-axial** - apakšā esošā gultņa akselerometrs (aksiālais virziens)\n",
        "\n",
        "**und-accelerometer-radial** – apakšā esošā gultņa akselerometrs (radiālais virziens)\n",
        "\n",
        "**und-accelerometer-tangential** - apakšā esošā gultņa akselerometrs (tangenciālais virziens)\n",
        "\n",
        "**over-accelerometer-axial** - pārkares gultņa akselerometrs (aksiālais virziens)\n",
        "\n",
        "**over-accelerometer-radial** – pārkares gultņa akselerometrs (radiālais  virziens)\n",
        "\n",
        "**over-accelerometer-tangential**  - pārkares gultņa akselerometrs (tangenciālais virziens)\n",
        "\n",
        "**microphone** – mikrofona vērtība\n"
      ]
    },
    {
      "cell_type": "markdown",
      "metadata": {
        "id": "XymoNLKMVFUC"
      },
      "source": [
        "#Datu ielasīšana un satura vizualizācija"
      ]
    },
    {
      "cell_type": "code",
      "execution_count": 1,
      "metadata": {
        "id": "_yqYZDeOFq5s"
      },
      "outputs": [],
      "source": [
        "import keras\n",
        "from keras.layers import LSTM, Dropout, Dense\n",
        "import tensorflow as tf\n",
        "import numpy as np\n",
        "import pandas as pd\n",
        "\n",
        "from sklearn import linear_model  #pip install sklearn - loti plasa masinapmacibas biblioteka\n",
        "from sklearn.linear_model import LinearRegression  \n",
        "import csv          #pip install csv - darbam ar CSV datu kopam\n",
        "import requests     #pip install requests  - vienkarsakam darbam ar tiessaistes CSV datu kopam tiessaistes\n",
        "\n",
        "import matplotlib\n",
        "import matplotlib.pyplot as plt\n",
        "\n",
        "import glob\n"
      ]
    },
    {
      "cell_type": "code",
      "execution_count": 2,
      "metadata": {
        "id": "wlRTBbM2eUcV",
        "colab": {
          "base_uri": "https://localhost:8080/"
        },
        "outputId": "cc53f6eb-7076-4c3c-edfc-5df8f0776947"
      },
      "outputs": [
        {
          "output_type": "stream",
          "name": "stdout",
          "text": [
            "Mounted at /content/gdrive\n"
          ]
        }
      ],
      "source": [
        "from google.colab import drive\n",
        "import os\n",
        "drive.mount('/content/gdrive')\n",
        "os.chdir(\"/content/gdrive/MyDrive/Colab Notebooks/data_multiclass/\")"
      ]
    },
    {
      "cell_type": "code",
      "execution_count": 3,
      "metadata": {
        "id": "zzz6fBl_SNom"
      },
      "outputs": [],
      "source": [
        "#extension = 'csv'\n",
        "#all_filenames = [i for i in glob.glob('*.{}'.format(extension))]"
      ]
    },
    {
      "cell_type": "code",
      "execution_count": 4,
      "metadata": {
        "id": "vagKFCkToBi0"
      },
      "outputs": [],
      "source": [
        "#combine all files in the list\n",
        "#combined_csv = pd.concat([pd.read_csv(f) for f in all_filenames ])\n",
        "#export to csv\n",
        "#combined_csv.to_csv( \"combined_multiclass_csv.csv\", index=False, encoding='utf-8-sig')"
      ]
    },
    {
      "cell_type": "code",
      "execution_count": 5,
      "metadata": {
        "id": "encEkbDhSfGI"
      },
      "outputs": [],
      "source": [
        "data = pd.read_csv(\"combined_multiclass_csv.csv\")"
      ]
    },
    {
      "cell_type": "code",
      "execution_count": 6,
      "metadata": {
        "id": "yz5Qe8ZWk1Zq",
        "colab": {
          "base_uri": "https://localhost:8080/"
        },
        "outputId": "f2f2979c-a42f-4161-dc7c-ce5ee87f71b1"
      },
      "outputs": [
        {
          "output_type": "stream",
          "name": "stdout",
          "text": [
            "<class 'pandas.core.frame.DataFrame'>\n",
            "RangeIndex: 30000000 entries, 0 to 29999999\n",
            "Data columns (total 9 columns):\n",
            " #   Column                         Dtype  \n",
            "---  ------                         -----  \n",
            " 0   tachometer                     float64\n",
            " 1   und-accelerometer-axial        float64\n",
            " 2   und-accelerometer-radial       float64\n",
            " 3   und-accelerometer-tangential   float64\n",
            " 4   over-accelerometer-axial       float64\n",
            " 5   over-accelerometer-radial      float64\n",
            " 6   over-accelerometer-tangential  float64\n",
            " 7   microphone                     float64\n",
            " 8   Class                          int64  \n",
            "dtypes: float64(8), int64(1)\n",
            "memory usage: 2.0 GB\n"
          ]
        }
      ],
      "source": [
        "data.info()"
      ]
    },
    {
      "cell_type": "code",
      "execution_count": 7,
      "metadata": {
        "id": "WUW9ezX6a_st",
        "colab": {
          "base_uri": "https://localhost:8080/"
        },
        "outputId": "efeaa858-859b-4b49-8995-def4b86bd9c0"
      },
      "outputs": [
        {
          "output_type": "execute_result",
          "data": {
            "text/plain": [
              "30000000"
            ]
          },
          "metadata": {},
          "execution_count": 7
        }
      ],
      "source": [
        "rec_count = len(data)\n",
        "rec_count"
      ]
    },
    {
      "cell_type": "markdown",
      "metadata": {
        "id": "6RVC1PZy88fC"
      },
      "source": [
        "# Datu dalīšana mazākos gabalos"
      ]
    },
    {
      "cell_type": "code",
      "execution_count": 8,
      "metadata": {
        "id": "DOvnCYkcbGaE"
      },
      "outputs": [],
      "source": [
        "sequence_length = 200"
      ]
    },
    {
      "cell_type": "code",
      "execution_count": 9,
      "metadata": {
        "id": "RG0o2L3zbTEx"
      },
      "outputs": [],
      "source": [
        "def generate_data(X, y, sequence_length = 200, step = 200):\n",
        "    X_local = []\n",
        "    y_local = []\n",
        "    for start in range(0, len(data) - sequence_length, step):\n",
        "        end = start + sequence_length\n",
        "        X_local.append(X[start:end])\n",
        "        y_local.append(y[end-1])\n",
        "    return np.array(X_local), np.array(y_local)\n",
        "\n",
        "X_sequence, y = generate_data(data.loc[:, \"tachometer\":\"microphone\"].values, data.Class)\n",
        "#X_sequence, y = generate_data(data.loc[:, [\"tachometer\", \"und-accelerometer-axial\", \"und-accelerometer-radial\", \"und-accelerometer-tangential\", \"over-accelerometer-axial\", \"over-accelerometer-radial\", \"over-accelerometer-tangential\", \"microphone\"]].values, data.Class)\n",
        "#\"microphone\"\n",
        "#X_sequence, y = generate_data(data.loc[:, [\"tachometer\", \"und-accelerometer-axial\", \"und-accelerometer-radial\", \"und-accelerometer-tangential\", \"over-accelerometer-axial\", \"over-accelerometer-radial\", \"over-accelerometer-tangential\"]].values, data.Class)"
      ]
    },
    {
      "cell_type": "code",
      "execution_count": 10,
      "metadata": {
        "id": "s0QxwK66cLVF",
        "colab": {
          "base_uri": "https://localhost:8080/"
        },
        "outputId": "bceb615a-b1a0-41e8-a7e5-ed71e0e08f98"
      },
      "outputs": [
        {
          "output_type": "execute_result",
          "data": {
            "text/plain": [
              "((149999, 200, 8), (149999,))"
            ]
          },
          "metadata": {},
          "execution_count": 10
        }
      ],
      "source": [
        "X_sequence.shape, y.shape"
      ]
    },
    {
      "cell_type": "code",
      "source": [
        "unique, counts = np.unique(y, return_counts=True)"
      ],
      "metadata": {
        "id": "l8Lq455lV1JR"
      },
      "execution_count": 11,
      "outputs": []
    },
    {
      "cell_type": "code",
      "source": [
        "unique"
      ],
      "metadata": {
        "id": "t0BRO3nAWQxe",
        "colab": {
          "base_uri": "https://localhost:8080/"
        },
        "outputId": "3aeb3b3a-bc33-4f58-cd67-c74b96d8c08d"
      },
      "execution_count": 12,
      "outputs": [
        {
          "output_type": "execute_result",
          "data": {
            "text/plain": [
              "array([0, 1, 2, 3, 4, 5, 6, 7])"
            ]
          },
          "metadata": {},
          "execution_count": 12
        }
      ]
    },
    {
      "cell_type": "code",
      "source": [
        "counts"
      ],
      "metadata": {
        "id": "WWZ7QWR4WS_r",
        "colab": {
          "base_uri": "https://localhost:8080/"
        },
        "outputId": "90651538-7b52-4fae-866d-a2efef94e184"
      },
      "execution_count": 13,
      "outputs": [
        {
          "output_type": "execute_result",
          "data": {
            "text/plain": [
              "array([18749, 18750, 18750, 18750, 18750, 18750, 18750, 18750])"
            ]
          },
          "metadata": {},
          "execution_count": 13
        }
      ]
    },
    {
      "cell_type": "code",
      "execution_count": 14,
      "metadata": {
        "id": "i7R1oo6Mj8wx"
      },
      "outputs": [],
      "source": [
        "data = 0"
      ]
    },
    {
      "cell_type": "code",
      "source": [
        "from sklearn.preprocessing import OneHotEncoder"
      ],
      "metadata": {
        "id": "lAk_JscRWmqY"
      },
      "execution_count": 15,
      "outputs": []
    },
    {
      "cell_type": "code",
      "source": [
        "label_encoder = OneHotEncoder(sparse=False)\n",
        "label_encoder.fit(y.reshape(-1,1))"
      ],
      "metadata": {
        "id": "14B9aYy0W0y6",
        "colab": {
          "base_uri": "https://localhost:8080/"
        },
        "outputId": "e9ec10b1-b7c0-40a0-e62b-2c9ef245ff03"
      },
      "execution_count": 16,
      "outputs": [
        {
          "output_type": "execute_result",
          "data": {
            "text/plain": [
              "OneHotEncoder(sparse=False)"
            ]
          },
          "metadata": {},
          "execution_count": 16
        }
      ]
    },
    {
      "cell_type": "code",
      "source": [
        "y_encoded = label_encoder.transform(y.reshape(-1,1))"
      ],
      "metadata": {
        "id": "VjpWn96xXgPS"
      },
      "execution_count": 17,
      "outputs": []
    },
    {
      "cell_type": "code",
      "source": [
        "y_encoded[0:5]"
      ],
      "metadata": {
        "id": "VL6KMFo9XpBi",
        "colab": {
          "base_uri": "https://localhost:8080/"
        },
        "outputId": "723deb25-94e3-42aa-c3e3-7efebf2767b7"
      },
      "execution_count": 18,
      "outputs": [
        {
          "output_type": "execute_result",
          "data": {
            "text/plain": [
              "array([[0., 0., 0., 0., 0., 0., 0., 1.],\n",
              "       [0., 0., 0., 0., 0., 0., 0., 1.],\n",
              "       [0., 0., 0., 0., 0., 0., 0., 1.],\n",
              "       [0., 0., 0., 0., 0., 0., 0., 1.],\n",
              "       [0., 0., 0., 0., 0., 0., 0., 1.]])"
            ]
          },
          "metadata": {},
          "execution_count": 18
        }
      ]
    },
    {
      "cell_type": "code",
      "source": [
        "y=y_encoded"
      ],
      "metadata": {
        "id": "5c8km253YKBl"
      },
      "execution_count": 19,
      "outputs": []
    },
    {
      "cell_type": "markdown",
      "metadata": {
        "id": "5BXSDoHa9UX_"
      },
      "source": [
        "# Random/Shuffle"
      ]
    },
    {
      "cell_type": "code",
      "execution_count": 20,
      "metadata": {
        "id": "ZcfE9idy-ckb"
      },
      "outputs": [],
      "source": [
        "shuffler = np.random.permutation(len(X_sequence))\n",
        "X_sequence_shuffled = X_sequence[shuffler]\n",
        "y_shuffled = y[shuffler]"
      ]
    },
    {
      "cell_type": "markdown",
      "metadata": {
        "id": "TfhRTTNcE2s8"
      },
      "source": [
        "# LSTM"
      ]
    },
    {
      "cell_type": "code",
      "execution_count": 21,
      "metadata": {
        "id": "ihrXMuVAEwlY"
      },
      "outputs": [],
      "source": [
        "import pandas as pd\n",
        "import sklearn.metrics as metrique\n",
        "from pandas import Series\n",
        "from sklearn.preprocessing import StandardScaler, MinMaxScaler\n",
        "from matplotlib import pyplot\n",
        "from sklearn.model_selection import train_test_split\n",
        "import numpy as np\n",
        "import tensorflow as tf\n",
        "import sys\n",
        "import numpy as np\n",
        "import pandas as pd\n",
        "import tensorflow as tf\n",
        "import matplotlib.pyplot as plt\n",
        "from sklearn.model_selection import train_test_split\n",
        "from sklearn import preprocessing\n",
        "from sklearn.preprocessing import StandardScaler\n",
        "from sklearn.metrics import classification_report\n",
        "import warnings\n",
        "warnings.filterwarnings('ignore')\n",
        "plt.style.use('ggplot')\n",
        "import seaborn as sns \n",
        "%matplotlib inline\n",
        "from keras.callbacks import EarlyStopping\n",
        "from keras.callbacks import ModelCheckpoint\n",
        "from sklearn.metrics import accuracy_score\n",
        "from sklearn.metrics import classification_report, confusion_matrix\n",
        "from keras.models import Sequential\n",
        "from keras.utils import np_utils\n",
        "from keras.layers import LSTM, Dense, Embedding, Dropout,Input, Layer, Concatenate, Permute, Dot, Multiply, Flatten\n",
        "from keras.layers import RepeatVector, Dense, Activation, Lambda\n",
        "from keras.models import Sequential\n",
        "from keras import backend as K, regularizers, Model, metrics\n",
        "from keras.backend import cast"
      ]
    },
    {
      "cell_type": "code",
      "execution_count": 22,
      "metadata": {
        "id": "PjKWKiA6aH3z"
      },
      "outputs": [],
      "source": [
        "#from tensorflow.keras import optimizers\n",
        "#sgd = optimizers.SGD(lr=0.0001, decay=1e-6, momentum=0.9, nesterov=True)\n",
        "#model = keras.Sequential()\n",
        "#model.add(LSTM(100, input_shape = (200, 8)))\n",
        "#model.add(Dropout(0.5))\n",
        "#model.add(Dense(1, activation=\"softmax\"))\n",
        "\n",
        "\n",
        "#model.compile(loss=\"categorical_crossentropy\"\n",
        "#              , metrics=[keras.metrics.binary_accuracy]\n",
        "#              , optimizer='sgd')\n",
        "\n",
        "#model.summary()"
      ]
    },
    {
      "cell_type": "code",
      "execution_count": 23,
      "metadata": {
        "id": "_2SaVmwSWJVB",
        "colab": {
          "base_uri": "https://localhost:8080/"
        },
        "outputId": "4b079473-8d21-4a66-cbf3-06c3711e692e"
      },
      "outputs": [
        {
          "output_type": "stream",
          "name": "stdout",
          "text": [
            "Model: \"sequential\"\n",
            "_________________________________________________________________\n",
            " Layer (type)                Output Shape              Param #   \n",
            "=================================================================\n",
            " lstm (LSTM)                 (None, 250)               259000    \n",
            "                                                                 \n",
            " dropout (Dropout)           (None, 250)               0         \n",
            "                                                                 \n",
            " dense (Dense)               (None, 8)                 2008      \n",
            "                                                                 \n",
            "=================================================================\n",
            "Total params: 261,008\n",
            "Trainable params: 261,008\n",
            "Non-trainable params: 0\n",
            "_________________________________________________________________\n"
          ]
        }
      ],
      "source": [
        "from tensorflow.keras import optimizers\n",
        "#sgd = optimizers.SGD(lr=0.0001, decay=1e-6, momentum=0.9, nesterov=True)\n",
        "optimizer = tf.keras.optimizers.Adam(lr=0.0001)\n",
        "model = keras.Sequential()\n",
        "model.add(LSTM(250, input_shape = (200, 8)))\n",
        "model.add(Dropout(0.5))#0.25\n",
        "model.add(Dense(8, activation=\"softmax\"))\n",
        "\n",
        "#model.compile(loss='mean_squared_error', optimizer=sgd)\n",
        "model.compile(loss=\"categorical_crossentropy\"\n",
        "              , metrics=['accuracy']\n",
        "              , optimizer=optimizer)\n",
        "\n",
        "model.summary()"
      ]
    },
    {
      "cell_type": "code",
      "execution_count": 24,
      "metadata": {
        "id": "tg8wrqsqc8UX"
      },
      "outputs": [],
      "source": [
        "training_size = int(len(X_sequence) * 0.8)\n",
        "val_size = int(len(X_sequence) * 0.9)"
      ]
    },
    {
      "cell_type": "code",
      "execution_count": 25,
      "metadata": {
        "id": "avIp3TEKc-qF"
      },
      "outputs": [],
      "source": [
        "X_train, y_train = X_sequence_shuffled[:training_size], y_shuffled[:training_size]\n",
        "X_val, y_val = X_sequence_shuffled[training_size:val_size], y_shuffled[training_size:val_size]\n",
        "X_test, y_test = X_sequence_shuffled[val_size:], y_shuffled[val_size:]"
      ]
    },
    {
      "cell_type": "code",
      "execution_count": 26,
      "metadata": {
        "id": "RABc_uKzkBUT"
      },
      "outputs": [],
      "source": [
        "#X_sequence = 0\n",
        "#y = 0"
      ]
    },
    {
      "cell_type": "code",
      "source": [
        "X_train.shape"
      ],
      "metadata": {
        "id": "Omv-ht1dhGxL",
        "colab": {
          "base_uri": "https://localhost:8080/"
        },
        "outputId": "1ece6bd9-d457-405b-9b1d-baa3cb8a1637"
      },
      "execution_count": 27,
      "outputs": [
        {
          "output_type": "execute_result",
          "data": {
            "text/plain": [
              "(119999, 200, 8)"
            ]
          },
          "metadata": {},
          "execution_count": 27
        }
      ]
    },
    {
      "cell_type": "code",
      "execution_count": 28,
      "metadata": {
        "id": "8aIhPJ-wLCwZ",
        "colab": {
          "base_uri": "https://localhost:8080/"
        },
        "outputId": "78d0a4ca-b8c8-4dc2-a36f-5a4115fa6f13"
      },
      "outputs": [
        {
          "output_type": "execute_result",
          "data": {
            "text/plain": [
              "array([[0., 0., 1., 0., 0., 0., 0., 0.],\n",
              "       [0., 0., 0., 0., 0., 0., 1., 0.],\n",
              "       [0., 0., 0., 1., 0., 0., 0., 0.],\n",
              "       [0., 0., 1., 0., 0., 0., 0., 0.],\n",
              "       [0., 0., 0., 0., 0., 0., 1., 0.],\n",
              "       [0., 1., 0., 0., 0., 0., 0., 0.],\n",
              "       [1., 0., 0., 0., 0., 0., 0., 0.],\n",
              "       [0., 0., 0., 0., 1., 0., 0., 0.],\n",
              "       [0., 0., 0., 0., 0., 0., 0., 1.],\n",
              "       [0., 0., 0., 0., 0., 0., 1., 0.]])"
            ]
          },
          "metadata": {},
          "execution_count": 28
        }
      ],
      "source": [
        "y_train[:10]"
      ]
    },
    {
      "cell_type": "code",
      "execution_count": 29,
      "metadata": {
        "id": "cen4faX0dFJP",
        "colab": {
          "base_uri": "https://localhost:8080/"
        },
        "outputId": "7f73e556-05e3-4a85-e4df-368bace78198"
      },
      "outputs": [
        {
          "output_type": "stream",
          "name": "stdout",
          "text": [
            "Epoch 1/100\n",
            "1875/1875 [==============================] - 36s 16ms/step - loss: 1.7384 - accuracy: 0.2504 - val_loss: 1.6174 - val_accuracy: 0.3096\n",
            "Epoch 2/100\n",
            "1875/1875 [==============================] - 29s 16ms/step - loss: 1.6389 - accuracy: 0.3158 - val_loss: 1.6165 - val_accuracy: 0.3371\n",
            "Epoch 3/100\n",
            "1875/1875 [==============================] - 31s 16ms/step - loss: 1.7105 - accuracy: 0.3003 - val_loss: 1.7833 - val_accuracy: 0.3012\n",
            "Epoch 4/100\n",
            "1875/1875 [==============================] - 30s 16ms/step - loss: 1.6956 - accuracy: 0.3179 - val_loss: 1.8901 - val_accuracy: 0.2320\n",
            "Epoch 5/100\n",
            "1875/1875 [==============================] - 30s 16ms/step - loss: 1.6555 - accuracy: 0.3294 - val_loss: 1.6039 - val_accuracy: 0.3607\n",
            "Epoch 6/100\n",
            "1875/1875 [==============================] - 30s 16ms/step - loss: 1.5191 - accuracy: 0.3829 - val_loss: 1.4144 - val_accuracy: 0.4238\n",
            "Epoch 7/100\n",
            "1875/1875 [==============================] - 31s 16ms/step - loss: 1.5206 - accuracy: 0.3918 - val_loss: 1.4889 - val_accuracy: 0.3984\n",
            "Epoch 8/100\n",
            "1875/1875 [==============================] - 31s 16ms/step - loss: 1.5284 - accuracy: 0.3796 - val_loss: 1.5473 - val_accuracy: 0.3667\n",
            "Epoch 9/100\n",
            "1875/1875 [==============================] - 31s 16ms/step - loss: 1.4669 - accuracy: 0.3952 - val_loss: 1.3480 - val_accuracy: 0.4573\n",
            "Epoch 10/100\n",
            "1875/1875 [==============================] - 31s 16ms/step - loss: 1.4405 - accuracy: 0.4156 - val_loss: 1.3696 - val_accuracy: 0.4530\n",
            "Epoch 11/100\n",
            "1875/1875 [==============================] - 31s 16ms/step - loss: 1.7189 - accuracy: 0.3193 - val_loss: 2.0855 - val_accuracy: 0.2522\n",
            "Epoch 12/100\n",
            "1875/1875 [==============================] - 31s 16ms/step - loss: 1.8374 - accuracy: 0.2595 - val_loss: 1.6514 - val_accuracy: 0.3229\n",
            "Epoch 13/100\n",
            "1875/1875 [==============================] - 31s 16ms/step - loss: 1.6576 - accuracy: 0.3349 - val_loss: 1.6647 - val_accuracy: 0.3323\n",
            "Epoch 14/100\n",
            "1875/1875 [==============================] - 32s 17ms/step - loss: 1.5909 - accuracy: 0.3539 - val_loss: 1.4159 - val_accuracy: 0.4196\n",
            "Epoch 15/100\n",
            "1875/1875 [==============================] - 31s 16ms/step - loss: 1.4636 - accuracy: 0.4058 - val_loss: 1.5064 - val_accuracy: 0.4005\n",
            "Epoch 16/100\n",
            "1875/1875 [==============================] - 31s 16ms/step - loss: 1.4240 - accuracy: 0.4238 - val_loss: 1.3202 - val_accuracy: 0.4643\n",
            "Epoch 17/100\n",
            "1875/1875 [==============================] - 32s 17ms/step - loss: 1.3793 - accuracy: 0.4472 - val_loss: 1.4507 - val_accuracy: 0.4240\n",
            "Epoch 18/100\n",
            "1875/1875 [==============================] - 31s 16ms/step - loss: 1.4014 - accuracy: 0.4393 - val_loss: 1.3545 - val_accuracy: 0.4561\n",
            "Epoch 19/100\n",
            "1875/1875 [==============================] - 31s 16ms/step - loss: 1.3349 - accuracy: 0.4628 - val_loss: 1.3079 - val_accuracy: 0.4726\n",
            "Epoch 20/100\n",
            "1875/1875 [==============================] - 31s 16ms/step - loss: 1.6937 - accuracy: 0.3439 - val_loss: 1.5345 - val_accuracy: 0.3968\n",
            "Epoch 21/100\n",
            "1875/1875 [==============================] - 31s 16ms/step - loss: 1.6323 - accuracy: 0.3472 - val_loss: 1.4766 - val_accuracy: 0.4015\n",
            "Epoch 22/100\n",
            "1875/1875 [==============================] - 31s 16ms/step - loss: 1.4600 - accuracy: 0.3930 - val_loss: 1.3553 - val_accuracy: 0.4364\n",
            "Epoch 23/100\n",
            "1875/1875 [==============================] - 31s 16ms/step - loss: 1.3168 - accuracy: 0.4557 - val_loss: 1.2692 - val_accuracy: 0.4828\n",
            "Epoch 24/100\n",
            "1875/1875 [==============================] - 31s 16ms/step - loss: 1.2535 - accuracy: 0.4816 - val_loss: 1.2640 - val_accuracy: 0.4777\n",
            "Epoch 25/100\n",
            "1875/1875 [==============================] - 31s 16ms/step - loss: 1.2375 - accuracy: 0.4921 - val_loss: 1.2504 - val_accuracy: 0.4969\n",
            "Epoch 26/100\n",
            "1875/1875 [==============================] - 31s 16ms/step - loss: 1.2111 - accuracy: 0.5015 - val_loss: 1.1713 - val_accuracy: 0.5137\n",
            "Epoch 27/100\n",
            "1875/1875 [==============================] - 31s 16ms/step - loss: 1.1797 - accuracy: 0.5138 - val_loss: 1.1211 - val_accuracy: 0.5349\n",
            "Epoch 28/100\n",
            "1875/1875 [==============================] - 31s 16ms/step - loss: 1.1553 - accuracy: 0.5249 - val_loss: 1.1853 - val_accuracy: 0.5071\n",
            "Epoch 29/100\n",
            "1875/1875 [==============================] - 31s 16ms/step - loss: 1.1251 - accuracy: 0.5368 - val_loss: 1.0855 - val_accuracy: 0.5507\n",
            "Epoch 30/100\n",
            "1875/1875 [==============================] - 31s 16ms/step - loss: 1.0941 - accuracy: 0.5489 - val_loss: 1.0395 - val_accuracy: 0.5703\n",
            "Epoch 31/100\n",
            "1875/1875 [==============================] - 31s 16ms/step - loss: 1.0692 - accuracy: 0.5586 - val_loss: 1.0344 - val_accuracy: 0.5703\n",
            "Epoch 32/100\n",
            "1875/1875 [==============================] - 31s 16ms/step - loss: 1.0687 - accuracy: 0.5612 - val_loss: 1.0340 - val_accuracy: 0.5743\n",
            "Epoch 33/100\n",
            "1875/1875 [==============================] - 31s 16ms/step - loss: 1.0209 - accuracy: 0.5812 - val_loss: 0.9623 - val_accuracy: 0.5999\n",
            "Epoch 34/100\n",
            "1875/1875 [==============================] - 31s 16ms/step - loss: 0.9874 - accuracy: 0.5931 - val_loss: 1.0144 - val_accuracy: 0.5826\n",
            "Epoch 35/100\n",
            "1875/1875 [==============================] - 31s 16ms/step - loss: 0.9622 - accuracy: 0.6027 - val_loss: 0.9112 - val_accuracy: 0.6205\n",
            "Epoch 36/100\n",
            "1875/1875 [==============================] - 32s 17ms/step - loss: 0.9483 - accuracy: 0.6082 - val_loss: 0.9175 - val_accuracy: 0.6148\n",
            "Epoch 37/100\n",
            "1875/1875 [==============================] - 31s 16ms/step - loss: 0.9337 - accuracy: 0.6151 - val_loss: 0.8906 - val_accuracy: 0.6317\n",
            "Epoch 38/100\n",
            "1875/1875 [==============================] - 31s 16ms/step - loss: 0.8940 - accuracy: 0.6299 - val_loss: 0.9287 - val_accuracy: 0.6215\n",
            "Epoch 39/100\n",
            "1875/1875 [==============================] - 31s 16ms/step - loss: 0.8905 - accuracy: 0.6320 - val_loss: 0.8720 - val_accuracy: 0.6360\n",
            "Epoch 40/100\n",
            "1875/1875 [==============================] - 32s 17ms/step - loss: 0.8697 - accuracy: 0.6386 - val_loss: 0.8866 - val_accuracy: 0.6300\n",
            "Epoch 41/100\n",
            "1875/1875 [==============================] - 31s 16ms/step - loss: 0.8523 - accuracy: 0.6463 - val_loss: 0.8261 - val_accuracy: 0.6539\n",
            "Epoch 42/100\n",
            "1875/1875 [==============================] - 31s 16ms/step - loss: 0.8425 - accuracy: 0.6533 - val_loss: 1.0286 - val_accuracy: 0.6008\n",
            "Epoch 43/100\n",
            "1875/1875 [==============================] - 31s 16ms/step - loss: 0.8342 - accuracy: 0.6564 - val_loss: 0.8192 - val_accuracy: 0.6597\n",
            "Epoch 44/100\n",
            "1875/1875 [==============================] - 31s 16ms/step - loss: 0.8105 - accuracy: 0.6654 - val_loss: 0.8274 - val_accuracy: 0.6548\n",
            "Epoch 45/100\n",
            "1875/1875 [==============================] - 31s 16ms/step - loss: 0.7958 - accuracy: 0.6707 - val_loss: 0.7649 - val_accuracy: 0.6863\n",
            "Epoch 46/100\n",
            "1875/1875 [==============================] - 32s 17ms/step - loss: 0.7827 - accuracy: 0.6781 - val_loss: 0.7826 - val_accuracy: 0.6803\n",
            "Epoch 47/100\n",
            "1875/1875 [==============================] - 31s 17ms/step - loss: 0.7682 - accuracy: 0.6838 - val_loss: 0.8163 - val_accuracy: 0.6609\n",
            "Epoch 48/100\n",
            "1875/1875 [==============================] - 32s 17ms/step - loss: 0.7551 - accuracy: 0.6908 - val_loss: 0.7318 - val_accuracy: 0.7005\n",
            "Epoch 49/100\n",
            "1875/1875 [==============================] - 31s 16ms/step - loss: 0.7444 - accuracy: 0.6949 - val_loss: 0.7328 - val_accuracy: 0.6967\n",
            "Epoch 50/100\n",
            "1875/1875 [==============================] - 31s 16ms/step - loss: 0.7352 - accuracy: 0.7004 - val_loss: 0.7202 - val_accuracy: 0.7033\n",
            "Epoch 51/100\n",
            "1875/1875 [==============================] - 31s 16ms/step - loss: 0.7165 - accuracy: 0.7054 - val_loss: 0.7370 - val_accuracy: 0.6987\n",
            "Epoch 52/100\n",
            "1875/1875 [==============================] - 32s 17ms/step - loss: 0.7109 - accuracy: 0.7100 - val_loss: 0.7058 - val_accuracy: 0.7099\n",
            "Epoch 53/100\n",
            "1875/1875 [==============================] - 31s 16ms/step - loss: 0.6974 - accuracy: 0.7155 - val_loss: 0.6753 - val_accuracy: 0.7213\n",
            "Epoch 54/100\n",
            "1875/1875 [==============================] - 31s 16ms/step - loss: 0.6847 - accuracy: 0.7209 - val_loss: 0.6642 - val_accuracy: 0.7257\n",
            "Epoch 55/100\n",
            "1875/1875 [==============================] - 31s 16ms/step - loss: 0.6751 - accuracy: 0.7249 - val_loss: 0.6576 - val_accuracy: 0.7307\n",
            "Epoch 56/100\n",
            "1875/1875 [==============================] - 32s 17ms/step - loss: 0.6719 - accuracy: 0.7267 - val_loss: 0.6595 - val_accuracy: 0.7288\n",
            "Epoch 57/100\n",
            "1875/1875 [==============================] - 31s 16ms/step - loss: 0.6569 - accuracy: 0.7335 - val_loss: 0.6486 - val_accuracy: 0.7350\n",
            "Epoch 58/100\n",
            "1875/1875 [==============================] - 32s 17ms/step - loss: 0.6442 - accuracy: 0.7390 - val_loss: 0.6495 - val_accuracy: 0.7336\n",
            "Epoch 59/100\n",
            "1875/1875 [==============================] - 31s 16ms/step - loss: 0.6342 - accuracy: 0.7436 - val_loss: 0.6665 - val_accuracy: 0.7289\n",
            "Epoch 60/100\n",
            "1875/1875 [==============================] - 31s 16ms/step - loss: 0.6358 - accuracy: 0.7434 - val_loss: 0.6177 - val_accuracy: 0.7482\n",
            "Epoch 61/100\n",
            "1875/1875 [==============================] - 31s 16ms/step - loss: 0.6168 - accuracy: 0.7506 - val_loss: 0.6400 - val_accuracy: 0.7409\n",
            "Epoch 62/100\n",
            "1875/1875 [==============================] - 31s 16ms/step - loss: 0.6069 - accuracy: 0.7547 - val_loss: 0.6156 - val_accuracy: 0.7503\n",
            "Epoch 63/100\n",
            "1875/1875 [==============================] - 31s 16ms/step - loss: 0.6017 - accuracy: 0.7558 - val_loss: 0.5814 - val_accuracy: 0.7617\n",
            "Epoch 64/100\n",
            "1875/1875 [==============================] - 31s 16ms/step - loss: 0.5984 - accuracy: 0.7599 - val_loss: 0.6502 - val_accuracy: 0.7425\n",
            "Epoch 65/100\n",
            "1875/1875 [==============================] - 32s 17ms/step - loss: 0.5835 - accuracy: 0.7674 - val_loss: 0.5595 - val_accuracy: 0.7764\n",
            "Epoch 66/100\n",
            "1875/1875 [==============================] - 31s 16ms/step - loss: 0.5685 - accuracy: 0.7728 - val_loss: 0.5700 - val_accuracy: 0.7705\n",
            "Epoch 67/100\n",
            "1875/1875 [==============================] - 31s 16ms/step - loss: 0.5612 - accuracy: 0.7735 - val_loss: 0.5513 - val_accuracy: 0.7759\n",
            "Epoch 68/100\n",
            "1875/1875 [==============================] - 31s 16ms/step - loss: 0.5506 - accuracy: 0.7794 - val_loss: 0.5493 - val_accuracy: 0.7755\n",
            "Epoch 69/100\n",
            "1875/1875 [==============================] - 31s 16ms/step - loss: 0.5404 - accuracy: 0.7842 - val_loss: 0.5373 - val_accuracy: 0.7829\n",
            "Epoch 70/100\n",
            "1875/1875 [==============================] - 31s 17ms/step - loss: 0.5347 - accuracy: 0.7864 - val_loss: 0.5317 - val_accuracy: 0.7900\n",
            "Epoch 71/100\n",
            "1875/1875 [==============================] - 32s 17ms/step - loss: 0.5207 - accuracy: 0.7914 - val_loss: 0.5397 - val_accuracy: 0.7855\n",
            "Epoch 72/100\n",
            "1875/1875 [==============================] - 32s 17ms/step - loss: 0.5122 - accuracy: 0.7951 - val_loss: 0.5084 - val_accuracy: 0.7969\n",
            "Epoch 73/100\n",
            "1875/1875 [==============================] - 31s 16ms/step - loss: 0.5037 - accuracy: 0.7987 - val_loss: 0.5288 - val_accuracy: 0.7909\n",
            "Epoch 74/100\n",
            "1875/1875 [==============================] - 32s 17ms/step - loss: 0.4902 - accuracy: 0.8046 - val_loss: 0.5221 - val_accuracy: 0.7901\n",
            "Epoch 75/100\n",
            "1875/1875 [==============================] - 32s 17ms/step - loss: 0.4848 - accuracy: 0.8075 - val_loss: 0.4777 - val_accuracy: 0.8137\n",
            "Epoch 76/100\n",
            "1875/1875 [==============================] - 31s 17ms/step - loss: 0.4755 - accuracy: 0.8094 - val_loss: 0.4847 - val_accuracy: 0.8055\n",
            "Epoch 77/100\n",
            "1875/1875 [==============================] - 31s 17ms/step - loss: 0.4653 - accuracy: 0.8142 - val_loss: 0.4639 - val_accuracy: 0.8150\n",
            "Epoch 78/100\n",
            "1875/1875 [==============================] - 31s 16ms/step - loss: 0.4556 - accuracy: 0.8200 - val_loss: 0.4660 - val_accuracy: 0.8173\n",
            "Epoch 79/100\n",
            "1875/1875 [==============================] - 32s 17ms/step - loss: 0.4441 - accuracy: 0.8246 - val_loss: 0.4533 - val_accuracy: 0.8192\n",
            "Epoch 80/100\n",
            "1875/1875 [==============================] - 31s 16ms/step - loss: 0.4362 - accuracy: 0.8280 - val_loss: 0.4701 - val_accuracy: 0.8177\n",
            "Epoch 81/100\n",
            "1875/1875 [==============================] - 31s 16ms/step - loss: 0.4266 - accuracy: 0.8323 - val_loss: 0.4563 - val_accuracy: 0.8213\n",
            "Epoch 82/100\n",
            "1875/1875 [==============================] - 31s 16ms/step - loss: 0.4200 - accuracy: 0.8356 - val_loss: 0.4390 - val_accuracy: 0.8263\n",
            "Epoch 83/100\n",
            "1875/1875 [==============================] - 31s 17ms/step - loss: 0.4079 - accuracy: 0.8401 - val_loss: 0.4590 - val_accuracy: 0.8238\n",
            "Epoch 84/100\n",
            "1875/1875 [==============================] - 31s 17ms/step - loss: 0.4060 - accuracy: 0.8418 - val_loss: 0.4254 - val_accuracy: 0.8329\n",
            "Epoch 85/100\n",
            "1875/1875 [==============================] - 31s 16ms/step - loss: 0.3906 - accuracy: 0.8470 - val_loss: 0.4105 - val_accuracy: 0.8412\n",
            "Epoch 86/100\n",
            "1875/1875 [==============================] - 32s 17ms/step - loss: 0.3827 - accuracy: 0.8509 - val_loss: 0.4000 - val_accuracy: 0.8443\n",
            "Epoch 87/100\n",
            "1875/1875 [==============================] - 31s 16ms/step - loss: 0.3749 - accuracy: 0.8545 - val_loss: 0.3876 - val_accuracy: 0.8478\n",
            "Epoch 88/100\n",
            "1875/1875 [==============================] - 31s 17ms/step - loss: 0.3686 - accuracy: 0.8570 - val_loss: 0.3847 - val_accuracy: 0.8474\n",
            "Epoch 89/100\n",
            "1875/1875 [==============================] - 31s 17ms/step - loss: 0.3609 - accuracy: 0.8607 - val_loss: 0.3767 - val_accuracy: 0.8537\n",
            "Epoch 90/100\n",
            "1875/1875 [==============================] - 31s 17ms/step - loss: 0.3500 - accuracy: 0.8656 - val_loss: 0.3641 - val_accuracy: 0.8596\n",
            "Epoch 91/100\n",
            "1875/1875 [==============================] - 31s 17ms/step - loss: 0.3458 - accuracy: 0.8672 - val_loss: 0.3729 - val_accuracy: 0.8553\n",
            "Epoch 92/100\n",
            "1875/1875 [==============================] - 31s 17ms/step - loss: 0.3372 - accuracy: 0.8699 - val_loss: 0.3679 - val_accuracy: 0.8593\n",
            "Epoch 93/100\n",
            "1875/1875 [==============================] - 31s 17ms/step - loss: 0.3272 - accuracy: 0.8745 - val_loss: 0.3874 - val_accuracy: 0.8485\n",
            "Epoch 94/100\n",
            "1875/1875 [==============================] - 31s 17ms/step - loss: 0.3212 - accuracy: 0.8770 - val_loss: 0.3573 - val_accuracy: 0.8643\n",
            "Epoch 95/100\n",
            "1875/1875 [==============================] - 31s 17ms/step - loss: 0.3146 - accuracy: 0.8799 - val_loss: 0.3799 - val_accuracy: 0.8546\n",
            "Epoch 96/100\n",
            "1875/1875 [==============================] - 31s 17ms/step - loss: 0.3077 - accuracy: 0.8831 - val_loss: 0.3329 - val_accuracy: 0.8748\n",
            "Epoch 97/100\n",
            "1875/1875 [==============================] - 31s 17ms/step - loss: 0.2997 - accuracy: 0.8863 - val_loss: 0.3202 - val_accuracy: 0.8757\n",
            "Epoch 98/100\n",
            "1875/1875 [==============================] - 31s 17ms/step - loss: 0.2945 - accuracy: 0.8883 - val_loss: 0.3308 - val_accuracy: 0.8758\n",
            "Epoch 99/100\n",
            "1875/1875 [==============================] - 31s 17ms/step - loss: 0.2858 - accuracy: 0.8930 - val_loss: 0.3134 - val_accuracy: 0.8810\n",
            "Epoch 100/100\n",
            "1875/1875 [==============================] - 31s 17ms/step - loss: 0.2787 - accuracy: 0.8952 - val_loss: 0.3125 - val_accuracy: 0.8819\n"
          ]
        }
      ],
      "source": [
        "history = model.fit(X_train, y_train, batch_size=64, epochs=100, validation_data=(X_val, y_val))\n",
        "#model.save('NewAllDataModel_E50_B64.h5')"
      ]
    },
    {
      "cell_type": "code",
      "execution_count": 30,
      "metadata": {
        "id": "R7QQeqVidKBR",
        "colab": {
          "base_uri": "https://localhost:8080/"
        },
        "outputId": "e6f95b39-47ce-4fb3-8129-6125a2cea43c"
      },
      "outputs": [
        {
          "output_type": "stream",
          "name": "stdout",
          "text": [
            "469/469 [==============================] - 3s 6ms/step - loss: 0.3103 - accuracy: 0.8828\n"
          ]
        }
      ],
      "source": [
        "test_acc = model.evaluate(X_test, y_test)"
      ]
    },
    {
      "cell_type": "code",
      "source": [
        "test_acc"
      ],
      "metadata": {
        "id": "6fuTmgGrUgGg",
        "colab": {
          "base_uri": "https://localhost:8080/"
        },
        "outputId": "d3a7946c-cd54-4969-f19e-f2483ca20608"
      },
      "execution_count": 31,
      "outputs": [
        {
          "output_type": "execute_result",
          "data": {
            "text/plain": [
              "[0.3102743923664093, 0.8827999830245972]"
            ]
          },
          "metadata": {},
          "execution_count": 31
        }
      ]
    },
    {
      "cell_type": "code",
      "execution_count": 32,
      "metadata": {
        "id": "OHpifyqGdKn-",
        "colab": {
          "base_uri": "https://localhost:8080/"
        },
        "outputId": "d9024dc5-0b5e-4d40-bbf4-534e72604e11"
      },
      "outputs": [
        {
          "output_type": "stream",
          "name": "stdout",
          "text": [
            "469/469 [==============================] - 3s 5ms/step\n"
          ]
        }
      ],
      "source": [
        "y_test_prob = model.predict(X_test, verbose=1)"
      ]
    },
    {
      "cell_type": "code",
      "source": [
        "np.set_printoptions(suppress=True)\n",
        "y_test_prob_backup = y_test_prob\n",
        "y_test_prob"
      ],
      "metadata": {
        "id": "rRPswrrkmhp2",
        "colab": {
          "base_uri": "https://localhost:8080/"
        },
        "outputId": "bccc8844-adb0-41a2-8ddb-ac11870b6616"
      },
      "execution_count": 33,
      "outputs": [
        {
          "output_type": "execute_result",
          "data": {
            "text/plain": [
              "array([[0.00000229, 0.00002242, 0.5156698 , ..., 0.34402004, 0.00200806,\n",
              "        0.0000088 ],\n",
              "       [0.0000003 , 0.00000025, 0.00003903, ..., 0.98562765, 0.00008102,\n",
              "        0.00000043],\n",
              "       [0.00002934, 0.00000172, 0.00001455, ..., 0.00001365, 0.00633945,\n",
              "        0.9935755 ],\n",
              "       ...,\n",
              "       [0.00000241, 0.00000041, 0.00046017, ..., 0.06506546, 0.90255356,\n",
              "        0.00027441],\n",
              "       [0.0000003 , 0.99999416, 0.00000552, ..., 0.        , 0.        ,\n",
              "        0.00000001],\n",
              "       [0.00000064, 0.00000209, 0.00287756, ..., 0.02082458, 0.00030159,\n",
              "        0.00000091]], dtype=float32)"
            ]
          },
          "metadata": {},
          "execution_count": 33
        }
      ]
    },
    {
      "cell_type": "code",
      "source": [
        "plt.figure(figsize=(10,10))\n",
        "plt.hist(y_test_prob_backup)"
      ],
      "metadata": {
        "colab": {
          "base_uri": "https://localhost:8080/",
          "height": 951
        },
        "id": "zEfx01QSE3Qh",
        "outputId": "e7ffa041-1e58-4cbf-90ef-05923d55078b"
      },
      "execution_count": 34,
      "outputs": [
        {
          "output_type": "execute_result",
          "data": {
            "text/plain": [
              "(array([[12996.,     9.,     6.,     7.,     1.,     6.,     0.,     9.,\n",
              "            13.,  1953.],\n",
              "        [13133.,    23.,    12.,     3.,    10.,     7.,     8.,    12.,\n",
              "            13.,  1779.],\n",
              "        [12504.,   319.,   161.,   129.,   111.,    94.,    91.,   106.,\n",
              "           117.,  1368.],\n",
              "        [12227.,   446.,   234.,   191.,   123.,   120.,   156.,   176.,\n",
              "           222.,  1105.],\n",
              "        [12133.,   465.,   260.,   198.,   183.,   193.,   192.,   193.,\n",
              "           248.,   935.],\n",
              "        [12227.,   450.,   274.,   185.,   158.,   176.,   147.,   166.,\n",
              "           240.,   977.],\n",
              "        [12200.,   459.,   269.,   179.,   175.,   191.,   213.,   210.,\n",
              "           243.,   861.],\n",
              "        [12466.,   223.,   154.,   125.,   110.,   119.,    91.,   109.,\n",
              "           228.,  1375.]]),\n",
              " array([0.        , 0.09999983, 0.19999966, 0.2999995 , 0.39999932,\n",
              "        0.49999917, 0.599999  , 0.69999886, 0.79999864, 0.8999985 ,\n",
              "        0.99999833], dtype=float32),\n",
              " <a list of 8 Lists of Patches objects>)"
            ]
          },
          "metadata": {},
          "execution_count": 34
        },
        {
          "output_type": "display_data",
          "data": {
            "text/plain": [
              "<Figure size 720x720 with 1 Axes>"
            ],
            "image/png": "[encoded data removed]"
          },
          "metadata": {
            "needs_background": "light"
          }
        }
      ]
    },
    {
      "cell_type": "code",
      "source": [
        "c0, c1, c2, c3, c4, c5, c6, c7 = [], [], [], [], [], [], [], []\n",
        "\n",
        "i = 0\n",
        "l = len(y_test_prob_backup)\n",
        "while  l > 0:\n",
        "  c0.append(y_test_prob_backup[i][0])\n",
        "  c1.append(y_test_prob_backup[i][1])\n",
        "  c2.append(y_test_prob_backup[i][2])\n",
        "  c3.append(y_test_prob_backup[i][3])\n",
        "  c4.append(y_test_prob_backup[i][4])\n",
        "  c5.append(y_test_prob_backup[i][5])\n",
        "  c6.append(y_test_prob_backup[i][6])\n",
        "  c7.append(y_test_prob_backup[i][7])\n",
        "  i+=1\n",
        "  l-=1\n",
        "#print(c5[:10])"
      ],
      "metadata": {
        "id": "AeH9mwYbKj2K"
      },
      "execution_count": 35,
      "outputs": []
    },
    {
      "cell_type": "code",
      "source": [
        "#plt.figure(figsize=(40,20))\n",
        "fig, axes = plt.subplots(nrows=2, ncols=4)\n",
        "ax0, ax1, ax2, ax3, ax4, ax5, ax6, ax7 = axes.flatten()\n",
        "\n",
        "ax0.hist(c0)\n",
        "ax0.set_title(\"class 0\")\n",
        "ax1.hist(c1)\n",
        "ax1.set_title(\"class 1\")\n",
        "ax2.hist(c2)\n",
        "ax2.set_title(\"class 2\")\n",
        "ax3.hist(c3)\n",
        "ax3.set_title(\"class 3\")\n",
        "ax4.hist(c4)\n",
        "ax4.set_title(\"class 4\")\n",
        "ax5.hist(c5)\n",
        "ax5.set_title(\"class 5\")\n",
        "ax6.hist(c6)\n",
        "ax6.set_title(\"class 6\")\n",
        "ax7.hist(c7)\n",
        "ax7.set_title(\"class 7\")\n",
        "\n",
        "fig.set_size_inches(25,10)\n",
        "plt.show()"
      ],
      "metadata": {
        "id": "tRycz48aHgXl",
        "outputId": "8b544970-8657-48d5-ec64-bfa4d2da4c79",
        "colab": {
          "base_uri": "https://localhost:8080/",
          "height": 274
        }
      },
      "execution_count": 36,
      "outputs": [
        {
          "output_type": "display_data",
          "data": {
            "text/plain": [
              "<Figure size 1800x720 with 8 Axes>"
            ],
            "image/png": "[encoded data removed]"
          },
          "metadata": {
            "needs_background": "light"
          }
        }
      ]
    },
    {
      "cell_type": "code",
      "execution_count": 37,
      "metadata": {
        "id": "AfmdrBILdMwj"
      },
      "outputs": [],
      "source": [
        "y_test_pred = np.where(y_test_prob > 0.5, 1, 0)"
      ]
    },
    {
      "cell_type": "code",
      "execution_count": 38,
      "metadata": {
        "id": "8DoJy_p9dPzN"
      },
      "outputs": [],
      "source": [
        "from sklearn.metrics import multilabel_confusion_matrix"
      ]
    },
    {
      "cell_type": "code",
      "source": [
        "y_test"
      ],
      "metadata": {
        "id": "n1Us2yrfcGl-",
        "colab": {
          "base_uri": "https://localhost:8080/"
        },
        "outputId": "d071fc1e-176e-4b82-e537-c2d0cad29030"
      },
      "execution_count": 39,
      "outputs": [
        {
          "output_type": "execute_result",
          "data": {
            "text/plain": [
              "array([[0., 0., 0., ..., 1., 0., 0.],\n",
              "       [0., 0., 0., ..., 1., 0., 0.],\n",
              "       [0., 0., 0., ..., 0., 0., 1.],\n",
              "       ...,\n",
              "       [0., 0., 0., ..., 0., 1., 0.],\n",
              "       [0., 1., 0., ..., 0., 0., 0.],\n",
              "       [0., 0., 0., ..., 0., 0., 0.]])"
            ]
          },
          "metadata": {},
          "execution_count": 39
        }
      ]
    },
    {
      "cell_type": "code",
      "source": [
        "y_test.shape"
      ],
      "metadata": {
        "id": "VnmvTcvWbxr9",
        "colab": {
          "base_uri": "https://localhost:8080/"
        },
        "outputId": "5e7f869b-64a9-4729-a9ce-0489d149ef59"
      },
      "execution_count": 40,
      "outputs": [
        {
          "output_type": "execute_result",
          "data": {
            "text/plain": [
              "(15000, 8)"
            ]
          },
          "metadata": {},
          "execution_count": 40
        }
      ]
    },
    {
      "cell_type": "code",
      "source": [
        "y_test_pred"
      ],
      "metadata": {
        "id": "nMBOgzrgcJBj",
        "colab": {
          "base_uri": "https://localhost:8080/"
        },
        "outputId": "87172c10-eb64-4f0f-8fdc-cd15911d48e7"
      },
      "execution_count": 41,
      "outputs": [
        {
          "output_type": "execute_result",
          "data": {
            "text/plain": [
              "array([[0, 0, 1, ..., 0, 0, 0],\n",
              "       [0, 0, 0, ..., 1, 0, 0],\n",
              "       [0, 0, 0, ..., 0, 0, 1],\n",
              "       ...,\n",
              "       [0, 0, 0, ..., 0, 1, 0],\n",
              "       [0, 1, 0, ..., 0, 0, 0],\n",
              "       [0, 0, 0, ..., 0, 0, 0]])"
            ]
          },
          "metadata": {},
          "execution_count": 41
        }
      ]
    },
    {
      "cell_type": "code",
      "source": [
        "y_test_pred.shape"
      ],
      "metadata": {
        "id": "SXKZof8Ye5uI",
        "colab": {
          "base_uri": "https://localhost:8080/"
        },
        "outputId": "bb87c8c9-495b-4789-a622-1fa6f3d49e0a"
      },
      "execution_count": 42,
      "outputs": [
        {
          "output_type": "execute_result",
          "data": {
            "text/plain": [
              "(15000, 8)"
            ]
          },
          "metadata": {},
          "execution_count": 42
        }
      ]
    },
    {
      "cell_type": "code",
      "source": [
        "y_decoded_pred = tf.argmax(y_test_pred, axis = 1)"
      ],
      "metadata": {
        "id": "leDQwKOjgwwi"
      },
      "execution_count": 43,
      "outputs": []
    },
    {
      "cell_type": "code",
      "source": [
        "y_decoded = tf.argmax(y_test, axis = 1)"
      ],
      "metadata": {
        "id": "sAHRmtesif6g"
      },
      "execution_count": 44,
      "outputs": []
    },
    {
      "cell_type": "code",
      "source": [
        "y_decoded_pred"
      ],
      "metadata": {
        "id": "_lvFhrmPhprD",
        "colab": {
          "base_uri": "https://localhost:8080/"
        },
        "outputId": "29f43333-cbc4-4555-dc30-83a9e2247fbd"
      },
      "execution_count": 45,
      "outputs": [
        {
          "output_type": "execute_result",
          "data": {
            "text/plain": [
              "<tf.Tensor: shape=(15000,), dtype=int64, numpy=array([2, 5, 7, ..., 6, 1, 4])>"
            ]
          },
          "metadata": {},
          "execution_count": 45
        }
      ]
    },
    {
      "cell_type": "code",
      "source": [
        "y_decoded"
      ],
      "metadata": {
        "id": "YV1FXgHviPwm",
        "colab": {
          "base_uri": "https://localhost:8080/"
        },
        "outputId": "fd41229b-929b-4f31-c0e6-1fd1bc44608d"
      },
      "execution_count": 46,
      "outputs": [
        {
          "output_type": "execute_result",
          "data": {
            "text/plain": [
              "<tf.Tensor: shape=(15000,), dtype=int64, numpy=array([5, 5, 7, ..., 6, 1, 4])>"
            ]
          },
          "metadata": {},
          "execution_count": 46
        }
      ]
    },
    {
      "cell_type": "code",
      "source": [
        "y_test_pred = y_decoded_pred\n"
      ],
      "metadata": {
        "id": "6-6jFqzGh380"
      },
      "execution_count": 47,
      "outputs": []
    },
    {
      "cell_type": "code",
      "source": [
        "y_test = y_decoded"
      ],
      "metadata": {
        "id": "9pogVvdIiwss"
      },
      "execution_count": 48,
      "outputs": []
    },
    {
      "cell_type": "code",
      "source": [
        "y_test"
      ],
      "metadata": {
        "id": "oGt5aJetiKR6",
        "colab": {
          "base_uri": "https://localhost:8080/"
        },
        "outputId": "bd8c8a5b-29cd-4024-8732-9e693a15dc41"
      },
      "execution_count": 49,
      "outputs": [
        {
          "output_type": "execute_result",
          "data": {
            "text/plain": [
              "<tf.Tensor: shape=(15000,), dtype=int64, numpy=array([5, 5, 7, ..., 6, 1, 4])>"
            ]
          },
          "metadata": {},
          "execution_count": 49
        }
      ]
    },
    {
      "cell_type": "code",
      "source": [
        "y_test_pred"
      ],
      "metadata": {
        "id": "fLgDwAIfiyv2",
        "colab": {
          "base_uri": "https://localhost:8080/"
        },
        "outputId": "1e5d71cc-fa4f-4943-952d-2699166da404"
      },
      "execution_count": 50,
      "outputs": [
        {
          "output_type": "execute_result",
          "data": {
            "text/plain": [
              "<tf.Tensor: shape=(15000,), dtype=int64, numpy=array([2, 5, 7, ..., 6, 1, 4])>"
            ]
          },
          "metadata": {},
          "execution_count": 50
        }
      ]
    },
    {
      "cell_type": "code",
      "execution_count": 51,
      "metadata": {
        "id": "fTCsPjW8dQaZ"
      },
      "outputs": [],
      "source": [
        "cfm=confusion_matrix(y_test, y_test_pred)"
      ]
    },
    {
      "cell_type": "code",
      "source": [
        "cfm"
      ],
      "metadata": {
        "id": "_67lPg6ic4cH",
        "colab": {
          "base_uri": "https://localhost:8080/"
        },
        "outputId": "a0916f55-97c5-4ec7-8569-d259c22356dc"
      },
      "execution_count": 52,
      "outputs": [
        {
          "output_type": "execute_result",
          "data": {
            "text/plain": [
              "array([[1954,    7,    0,    0,    0,    0,    0,    0],\n",
              "       [  30, 1802,    7,    0,    0,    0,    0,    4],\n",
              "       [  62,    8, 1628,   76,   17,   23,   37,   12],\n",
              "       [  95,    0,   58, 1523,   99,   68,    8,    0],\n",
              "       [ 124,    0,   10,   86, 1461,   93,   78,    5],\n",
              "       [ 134,    0,   40,   90,  126, 1480,   35,    6],\n",
              "       [  80,    0,   28,    4,   52,   38, 1452,  182],\n",
              "       [  40,    2,    5,    0,    6,    4,  108, 1713]])"
            ]
          },
          "metadata": {},
          "execution_count": 52
        }
      ]
    },
    {
      "cell_type": "code",
      "source": [
        " print(classification_report(y_test,y_test_pred))"
      ],
      "metadata": {
        "id": "XTqR_xnwRWCJ",
        "colab": {
          "base_uri": "https://localhost:8080/"
        },
        "outputId": "b15600a5-6a8e-4962-e20d-accf6fc0aee0"
      },
      "execution_count": 53,
      "outputs": [
        {
          "output_type": "stream",
          "name": "stdout",
          "text": [
            "              precision    recall  f1-score   support\n",
            "\n",
            "           0       0.78      1.00      0.87      1961\n",
            "           1       0.99      0.98      0.98      1843\n",
            "           2       0.92      0.87      0.89      1863\n",
            "           3       0.86      0.82      0.84      1851\n",
            "           4       0.83      0.79      0.81      1857\n",
            "           5       0.87      0.77      0.82      1911\n",
            "           6       0.85      0.79      0.82      1836\n",
            "           7       0.89      0.91      0.90      1878\n",
            "\n",
            "    accuracy                           0.87     15000\n",
            "   macro avg       0.87      0.87      0.87     15000\n",
            "weighted avg       0.87      0.87      0.87     15000\n",
            "\n"
          ]
        }
      ]
    },
    {
      "cell_type": "code",
      "execution_count": 54,
      "metadata": {
        "id": "te3fslrY9Eca",
        "colab": {
          "base_uri": "https://localhost:8080/",
          "height": 900
        },
        "outputId": "47b8ee3a-b5c5-49a5-cb38-f45cf7022b31"
      },
      "outputs": [
        {
          "output_type": "stream",
          "name": "stdout",
          "text": [
            "Confusion matrix, without normalization\n",
            "[[1954    7    0    0    0    0    0    0]\n",
            " [  30 1802    7    0    0    0    0    4]\n",
            " [  62    8 1628   76   17   23   37   12]\n",
            " [  95    0   58 1523   99   68    8    0]\n",
            " [ 124    0   10   86 1461   93   78    5]\n",
            " [ 134    0   40   90  126 1480   35    6]\n",
            " [  80    0   28    4   52   38 1452  182]\n",
            " [  40    2    5    0    6    4  108 1713]]\n",
            "Normalized confusion matrix\n",
            "[[1.   0.   0.   0.   0.   0.   0.   0.  ]\n",
            " [0.02 0.98 0.   0.   0.   0.   0.   0.  ]\n",
            " [0.03 0.   0.87 0.04 0.01 0.01 0.02 0.01]\n",
            " [0.05 0.   0.03 0.82 0.05 0.04 0.   0.  ]\n",
            " [0.07 0.   0.01 0.05 0.79 0.05 0.04 0.  ]\n",
            " [0.07 0.   0.02 0.05 0.07 0.77 0.02 0.  ]\n",
            " [0.04 0.   0.02 0.   0.03 0.02 0.79 0.1 ]\n",
            " [0.02 0.   0.   0.   0.   0.   0.06 0.91]]\n"
          ]
        },
        {
          "output_type": "display_data",
          "data": {
            "text/plain": [
              "<Figure size 432x288 with 2 Axes>"
            ],
            "image/png": "[encoded data removed]"
          },
          "metadata": {
            "needs_background": "light"
          }
        },
        {
          "output_type": "display_data",
          "data": {
            "text/plain": [
              "<Figure size 432x288 with 2 Axes>"
            ],
            "image/png": "[encoded data removed]"
          },
          "metadata": {
            "needs_background": "light"
          }
        }
      ],
      "source": [
        "import numpy as np\n",
        "import matplotlib.pyplot as plt\n",
        "\n",
        "from sklearn import svm, datasets\n",
        "from sklearn.model_selection import train_test_split\n",
        "from sklearn.metrics import confusion_matrix\n",
        "from sklearn.utils.multiclass import unique_labels\n",
        "\n",
        "class_names = np.array(['0', '1', '2', '3', '4', '5', '6', '7'])\n",
        "\n",
        "def plot_confusion_matrix(y_true, y_pred, classes,\n",
        "                          normalize=False,\n",
        "                          title=None,\n",
        "                          cmap=plt.cm.Blues):\n",
        "    \"\"\"\n",
        "    This function prints and plots the confusion matrix.\n",
        "    Normalization can be applied by setting `normalize=True`.\n",
        "    \"\"\"\n",
        "    if not title:\n",
        "        if normalize:\n",
        "            title = 'Normalized confusion matrix'\n",
        "        else:\n",
        "            title = 'Confusion matrix, without normalization'\n",
        "\n",
        "    # Compute confusion matrix\n",
        "    cm = confusion_matrix(y_true, y_pred)\n",
        "    # Only use the labels that appear in the data\n",
        "    classes = classes[unique_labels(y_true, y_pred)]\n",
        "    if normalize:\n",
        "        cm = cm.astype('float') / cm.sum(axis=1)[:, np.newaxis]\n",
        "        print(\"Normalized confusion matrix\")\n",
        "    else:\n",
        "        print('Confusion matrix, without normalization')\n",
        "\n",
        "    print(cm)\n",
        "\n",
        "    fig, ax = plt.subplots()\n",
        "    im = ax.imshow(cm, interpolation='nearest', cmap=cmap)\n",
        "    ax.figure.colorbar(im, ax=ax)\n",
        "    # We want to show all ticks...\n",
        "    ax.set(xticks=np.arange(cm.shape[1]),\n",
        "           yticks=np.arange(cm.shape[0]),\n",
        "           # ... and label them with the respective list entries\n",
        "           xticklabels=classes, yticklabels=classes,\n",
        "           title=title,\n",
        "           ylabel='True label',\n",
        "           xlabel='Predicted label')\n",
        "\n",
        "    # Rotate the tick labels and set their alignment.\n",
        "    plt.setp(ax.get_xticklabels(), rotation=45, ha=\"right\",\n",
        "             rotation_mode=\"anchor\")\n",
        "\n",
        "    # Loop over data dimensions and create text annotations.\n",
        "    fmt = '.2f' if normalize else 'd'\n",
        "    thresh = cm.max() / 2.\n",
        "    for i in range(cm.shape[0]):\n",
        "        for j in range(cm.shape[1]):\n",
        "            ax.text(j, i, format(cm[i, j], fmt),\n",
        "                    ha=\"center\", va=\"center\",\n",
        "                    color=\"white\" if cm[i, j] > thresh else \"black\")\n",
        "    fig.tight_layout()\n",
        "\n",
        "    return ax\n",
        "\n",
        "\n",
        "np.set_printoptions(precision=2)\n",
        "\n",
        "# Plot non-normalized confusion matrix\n",
        "plot_confusion_matrix(y_test, y_test_pred, classes=class_names,\n",
        "                      title='Confusion matrix, without normalization')\n",
        "\n",
        "# Plot normalized confusion matrix\n",
        "plot_confusion_matrix(y_test, y_test_pred, classes=class_names, normalize=True,\n",
        "                      title='Normalized confusion matrix')\n",
        "\n",
        "plt.show()"
      ]
    },
    {
      "cell_type": "code",
      "execution_count": 55,
      "metadata": {
        "id": "fhdLAhgPUnH3"
      },
      "outputs": [],
      "source": [
        "def plot_learningCurve(history, epoch):\n",
        "  # Plot training & validation accuracy values\n",
        "  epoch_range = range(1, epoch+1)\n",
        "  plt.plot(epoch_range, history.history['accuracy'])\n",
        "  plt.plot(epoch_range, history.history['val_accuracy'])\n",
        "  plt.title('Model accuracy')\n",
        "  plt.ylabel('Accuracy')\n",
        "  plt.xlabel('Epoch')\n",
        "  plt.legend(['Train', 'Val'], loc='upper left')\n",
        "  plt.show()\n",
        "\n",
        "  # Plot training & validation loss values\n",
        "  plt.plot(epoch_range, history.history['loss'])\n",
        "  plt.plot(epoch_range, history.history['val_loss'])\n",
        "  plt.title('Model loss')\n",
        "  plt.ylabel('Loss')\n",
        "  plt.xlabel('Epoch')\n",
        "  plt.legend(['Train', 'Val'], loc='upper left')\n",
        "  plt.show()"
      ]
    },
    {
      "cell_type": "code",
      "execution_count": 56,
      "metadata": {
        "id": "WlkQkWHgU5mL",
        "colab": {
          "base_uri": "https://localhost:8080/",
          "height": 581
        },
        "outputId": "f346a881-1c7c-42a4-ddca-767b6f878984"
      },
      "outputs": [
        {
          "output_type": "display_data",
          "data": {
            "text/plain": [
              "<Figure size 432x288 with 1 Axes>"
            ],
            "image/png": "[encoded data removed]"
          },
          "metadata": {
            "needs_background": "light"
          }
        },
        {
          "output_type": "display_data",
          "data": {
            "text/plain": [
              "<Figure size 432x288 with 1 Axes>"
            ],
            "image/png": "[encoded data removed]"
          },
          "metadata": {
            "needs_background": "light"
          }
        }
      ],
      "source": [
        "plot_learningCurve(history, 100)"
      ]
    }
  ],
  "metadata": {
    "colab": {
      "collapsed_sections": [
        "f857kfHqUk0-"
      ],
      "name": "Multi_Class_MD_LSTM_step_200_files_120.ipynb",
      "provenance": [],
      "include_colab_link": true
    },
    "kernelspec": {
      "display_name": "Python 3",
      "name": "python3"
    },
    "language_info": {
      "name": "python"
    },
    "accelerator": "GPU"
  },
  "nbformat": 4,
  "nbformat_minor": 0
}