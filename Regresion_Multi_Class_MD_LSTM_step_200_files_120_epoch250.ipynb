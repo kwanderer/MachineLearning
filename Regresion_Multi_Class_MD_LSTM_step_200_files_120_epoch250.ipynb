{
  "cells": [
    {
      "cell_type": "markdown",
      "metadata": {
        "id": "view-in-github",
        "colab_type": "text"
      },
      "source": [
        "<a href=\"https://colab.research.google.com/github/kwanderer/MachineLearning/blob/main/Regresion_Multi_Class_MD_LSTM_step_200_files_120_epoch250.ipynb\" target=\"_parent\"><img src=\"https://colab.research.google.com/assets/colab-badge.svg\" alt=\"Open In Colab\"/></a>"
      ]
    },
    {
      "cell_type": "markdown",
      "metadata": {
        "id": "f857kfHqUk0-"
      },
      "source": [
        "\n",
        "\n",
        "#Datu kopa"
      ]
    },
    {
      "cell_type": "markdown",
      "metadata": {
        "id": "nM9WE3QGUwVi"
      },
      "source": [
        "Datu kopas avots: https://www.kaggle.com/uysalserkan/fault-induction-motor-dataset"
      ]
    },
    {
      "cell_type": "markdown",
      "metadata": {
        "id": "_sN_h3qHHy6r"
      },
      "source": [
        "Darbā tiek izmantota indukcijas motora parametru datu bāze. Izmantotajā datu kopā ir dati, kas tika iegūti SpectraQuest aparatūras kļūdu simulatorā (Machinery Fault Simulator).\n",
        "\n",
        "Katra mērījumu secība tika ģenerēta ar frekvenci 50 kHz 5 sekunžu laikā, kopā 250 000 mērījumi.\n",
        "\n",
        "Dati ir apkopoti vairākos failos, dažādos darbības stāvokļos un to apjoms ir ļoti liels. Šajā darbā tika izmantota daļa(viena mērījumu secība) no motora normālas darbības datiem.\n"
      ]
    },
    {
      "cell_type": "markdown",
      "metadata": {
        "id": "KtFAOaHYHLPo"
      },
      "source": [
        "Dati ir apkopoti tabulā, kura satur 8 parametrus. Dati ir iedalīti sekojošās kolonas:\n",
        "\n",
        "**tachometer** – tahometra signāls, kas ļauj novērtēt rotācijas frekvenci\n",
        "\n",
        "**und-accelerometer-axial** - apakšā esošā gultņa akselerometrs (aksiālais virziens)\n",
        "\n",
        "**und-accelerometer-radial** – apakšā esošā gultņa akselerometrs (radiālais virziens)\n",
        "\n",
        "**und-accelerometer-tangential** - apakšā esošā gultņa akselerometrs (tangenciālais virziens)\n",
        "\n",
        "**over-accelerometer-axial** - pārkares gultņa akselerometrs (aksiālais virziens)\n",
        "\n",
        "**over-accelerometer-radial** – pārkares gultņa akselerometrs (radiālais  virziens)\n",
        "\n",
        "**over-accelerometer-tangential**  - pārkares gultņa akselerometrs (tangenciālais virziens)\n",
        "\n",
        "**microphone** – mikrofona vērtība\n"
      ]
    },
    {
      "cell_type": "markdown",
      "metadata": {
        "id": "XymoNLKMVFUC"
      },
      "source": [
        "#Datu ielasīšana un satura vizualizācija"
      ]
    },
    {
      "cell_type": "code",
      "execution_count": 1,
      "metadata": {
        "id": "_yqYZDeOFq5s"
      },
      "outputs": [],
      "source": [
        "import keras\n",
        "from keras.layers import LSTM, Dropout, Dense\n",
        "import tensorflow as tf\n",
        "import numpy as np\n",
        "import pandas as pd\n",
        "\n",
        "from sklearn import linear_model  #pip install sklearn - loti plasa masinapmacibas biblioteka\n",
        "from sklearn.linear_model import LinearRegression  \n",
        "import csv          #pip install csv - darbam ar CSV datu kopam\n",
        "import requests     #pip install requests  - vienkarsakam darbam ar tiessaistes CSV datu kopam tiessaistes\n",
        "\n",
        "import matplotlib\n",
        "import matplotlib.pyplot as plt\n",
        "\n",
        "import glob\n"
      ]
    },
    {
      "cell_type": "code",
      "execution_count": 2,
      "metadata": {
        "id": "wlRTBbM2eUcV",
        "colab": {
          "base_uri": "https://localhost:8080/"
        },
        "outputId": "0a1c316f-9898-4733-d28e-afeaf33df96a"
      },
      "outputs": [
        {
          "output_type": "stream",
          "name": "stdout",
          "text": [
            "Drive already mounted at /content/gdrive; to attempt to forcibly remount, call drive.mount(\"/content/gdrive\", force_remount=True).\n"
          ]
        }
      ],
      "source": [
        "from google.colab import drive\n",
        "import os\n",
        "drive.mount('/content/gdrive')\n",
        "os.chdir(\"/content/gdrive/MyDrive/Colab Notebooks/data_multiclass/\")"
      ]
    },
    {
      "cell_type": "code",
      "execution_count": 3,
      "metadata": {
        "id": "zzz6fBl_SNom"
      },
      "outputs": [],
      "source": [
        "#extension = 'csv'\n",
        "#all_filenames = [i for i in glob.glob('*.{}'.format(extension))]"
      ]
    },
    {
      "cell_type": "code",
      "execution_count": 4,
      "metadata": {
        "id": "vagKFCkToBi0"
      },
      "outputs": [],
      "source": [
        "#combine all files in the list\n",
        "#combined_csv = pd.concat([pd.read_csv(f) for f in all_filenames ])\n",
        "#export to csv\n",
        "#combined_csv.to_csv( \"combined_multiclass_csv.csv\", index=False, encoding='utf-8-sig')"
      ]
    },
    {
      "cell_type": "code",
      "execution_count": 5,
      "metadata": {
        "id": "encEkbDhSfGI"
      },
      "outputs": [],
      "source": [
        "data = pd.read_csv(\"combined_multiclass_csv.csv\")"
      ]
    },
    {
      "cell_type": "code",
      "execution_count": 6,
      "metadata": {
        "id": "yz5Qe8ZWk1Zq",
        "colab": {
          "base_uri": "https://localhost:8080/"
        },
        "outputId": "36f954b2-cb6d-4925-af07-341a57eb7cc3"
      },
      "outputs": [
        {
          "output_type": "stream",
          "name": "stdout",
          "text": [
            "<class 'pandas.core.frame.DataFrame'>\n",
            "RangeIndex: 30000000 entries, 0 to 29999999\n",
            "Data columns (total 9 columns):\n",
            " #   Column                         Dtype  \n",
            "---  ------                         -----  \n",
            " 0   tachometer                     float64\n",
            " 1   und-accelerometer-axial        float64\n",
            " 2   und-accelerometer-radial       float64\n",
            " 3   und-accelerometer-tangential   float64\n",
            " 4   over-accelerometer-axial       float64\n",
            " 5   over-accelerometer-radial      float64\n",
            " 6   over-accelerometer-tangential  float64\n",
            " 7   microphone                     float64\n",
            " 8   Class                          int64  \n",
            "dtypes: float64(8), int64(1)\n",
            "memory usage: 2.0 GB\n"
          ]
        }
      ],
      "source": [
        "data.info()"
      ]
    },
    {
      "cell_type": "code",
      "execution_count": 7,
      "metadata": {
        "id": "WUW9ezX6a_st",
        "colab": {
          "base_uri": "https://localhost:8080/"
        },
        "outputId": "d6447b97-5742-4dc0-95cb-a71909beb35a"
      },
      "outputs": [
        {
          "output_type": "execute_result",
          "data": {
            "text/plain": [
              "30000000"
            ]
          },
          "metadata": {},
          "execution_count": 7
        }
      ],
      "source": [
        "rec_count = len(data)\n",
        "rec_count"
      ]
    },
    {
      "cell_type": "markdown",
      "metadata": {
        "id": "6RVC1PZy88fC"
      },
      "source": [
        "# Datu dalīšana mazākos gabalos"
      ]
    },
    {
      "cell_type": "code",
      "execution_count": 8,
      "metadata": {
        "id": "DOvnCYkcbGaE"
      },
      "outputs": [],
      "source": [
        "sequence_length = 200"
      ]
    },
    {
      "cell_type": "code",
      "execution_count": 9,
      "metadata": {
        "id": "RG0o2L3zbTEx"
      },
      "outputs": [],
      "source": [
        "def generate_data(X, y, sequence_length = 200, step = 200):\n",
        "    X_local = []\n",
        "    y_local = []\n",
        "    for start in range(0, len(data) - sequence_length, step):\n",
        "        end = start + sequence_length\n",
        "        X_local.append(X[start:end])\n",
        "        y_local.append(y[end-1])\n",
        "    return np.array(X_local), np.array(y_local)\n",
        "\n",
        "X_sequence, y = generate_data(data.loc[:, [\"tachometer\", \"und-accelerometer-axial\", \"und-accelerometer-radial\", \"und-accelerometer-tangential\", \"over-accelerometer-axial\", \"over-accelerometer-radial\", \"over-accelerometer-tangential\", \"microphone\"]].values, data.Class)\n",
        "#X_sequence, y = generate_data(data.loc[:, [\"und-accelerometer-axial\", \"und-accelerometer-radial\", \"und-accelerometer-tangential\", \"microphone\"]].values, data.Class)\n"
      ]
    },
    {
      "cell_type": "code",
      "execution_count": 10,
      "metadata": {
        "id": "s0QxwK66cLVF",
        "colab": {
          "base_uri": "https://localhost:8080/"
        },
        "outputId": "57992e7f-8198-4046-e101-d255e44a9a01"
      },
      "outputs": [
        {
          "output_type": "execute_result",
          "data": {
            "text/plain": [
              "((149999, 200, 8), (149999,))"
            ]
          },
          "metadata": {},
          "execution_count": 10
        }
      ],
      "source": [
        "X_sequence.shape, y.shape"
      ]
    },
    {
      "cell_type": "code",
      "source": [
        "y"
      ],
      "metadata": {
        "id": "4tu6MQMZjahk",
        "colab": {
          "base_uri": "https://localhost:8080/"
        },
        "outputId": "da3712ce-ce68-4f4c-abb0-6915d1e57531"
      },
      "execution_count": 11,
      "outputs": [
        {
          "output_type": "execute_result",
          "data": {
            "text/plain": [
              "array([7, 7, 7, ..., 0, 0, 0])"
            ]
          },
          "metadata": {},
          "execution_count": 11
        }
      ]
    },
    {
      "cell_type": "code",
      "source": [
        "i = 0\n",
        "while i < 149999:\n",
        "  if y[i] == 1:\n",
        "    y[i] = 7\n",
        "  elif y[i] == 2:\n",
        "    y[i] = 6\n",
        "  elif y[i] == 3:\n",
        "    y[i] = 5\n",
        "  elif y[i] == 4:\n",
        "    y[i] = 4\n",
        "  elif y[i] == 5:\n",
        "    y[i] = 3\n",
        "  elif y[i] == 6:\n",
        "    y[i] = 2\n",
        "  elif y[i] == 7:\n",
        "    y[i] = 1\n",
        "  i+=1"
      ],
      "metadata": {
        "id": "i_jgMMlgjT4O"
      },
      "execution_count": 12,
      "outputs": []
    },
    {
      "cell_type": "code",
      "source": [
        "y"
      ],
      "metadata": {
        "id": "mgCNJtOCkKZJ",
        "colab": {
          "base_uri": "https://localhost:8080/"
        },
        "outputId": "be73b3a0-bd84-4e06-cf3e-abf803a42776"
      },
      "execution_count": 13,
      "outputs": [
        {
          "output_type": "execute_result",
          "data": {
            "text/plain": [
              "array([1, 1, 1, ..., 0, 0, 0])"
            ]
          },
          "metadata": {},
          "execution_count": 13
        }
      ]
    },
    {
      "cell_type": "code",
      "source": [
        "y.shape"
      ],
      "metadata": {
        "id": "L9-ql6wZkMNC",
        "colab": {
          "base_uri": "https://localhost:8080/"
        },
        "outputId": "d568b42a-b7d2-4722-8d88-d993d3c022df"
      },
      "execution_count": 14,
      "outputs": [
        {
          "output_type": "execute_result",
          "data": {
            "text/plain": [
              "(149999,)"
            ]
          },
          "metadata": {},
          "execution_count": 14
        }
      ]
    },
    {
      "cell_type": "code",
      "source": [
        "#b = np.load(\"mydata.npy\")"
      ],
      "metadata": {
        "id": "fxB_2ohGgkXJ"
      },
      "execution_count": 15,
      "outputs": []
    },
    {
      "cell_type": "code",
      "source": [
        "#b.shape"
      ],
      "metadata": {
        "id": "HguuDdetguf7"
      },
      "execution_count": 16,
      "outputs": []
    },
    {
      "cell_type": "code",
      "source": [
        "unique, counts = np.unique(y, return_counts=True)"
      ],
      "metadata": {
        "id": "l8Lq455lV1JR"
      },
      "execution_count": 17,
      "outputs": []
    },
    {
      "cell_type": "code",
      "source": [
        "unique"
      ],
      "metadata": {
        "id": "t0BRO3nAWQxe",
        "colab": {
          "base_uri": "https://localhost:8080/"
        },
        "outputId": "77a03167-d5ce-4ddc-ac45-ab4c4b06ef30"
      },
      "execution_count": 18,
      "outputs": [
        {
          "output_type": "execute_result",
          "data": {
            "text/plain": [
              "array([0, 1, 2, 3, 4, 5, 6, 7])"
            ]
          },
          "metadata": {},
          "execution_count": 18
        }
      ]
    },
    {
      "cell_type": "code",
      "source": [
        "counts"
      ],
      "metadata": {
        "id": "WWZ7QWR4WS_r",
        "colab": {
          "base_uri": "https://localhost:8080/"
        },
        "outputId": "c6c688d3-e9f7-4236-89f5-02a3419c6529"
      },
      "execution_count": 19,
      "outputs": [
        {
          "output_type": "execute_result",
          "data": {
            "text/plain": [
              "array([18749, 18750, 18750, 18750, 18750, 18750, 18750, 18750])"
            ]
          },
          "metadata": {},
          "execution_count": 19
        }
      ]
    },
    {
      "cell_type": "code",
      "execution_count": 20,
      "metadata": {
        "id": "i7R1oo6Mj8wx"
      },
      "outputs": [],
      "source": [
        "data = 0"
      ]
    },
    {
      "cell_type": "code",
      "source": [
        "#from sklearn.preprocessing import OneHotEncoder"
      ],
      "metadata": {
        "id": "lAk_JscRWmqY"
      },
      "execution_count": 21,
      "outputs": []
    },
    {
      "cell_type": "code",
      "source": [
        "#label_encoder = OneHotEncoder(sparse=False)\n",
        "#label_encoder.fit(y.reshape(-1,1))"
      ],
      "metadata": {
        "id": "14B9aYy0W0y6"
      },
      "execution_count": 22,
      "outputs": []
    },
    {
      "cell_type": "code",
      "source": [
        "#y_encoded = label_encoder.transform(y.reshape(-1,1))"
      ],
      "metadata": {
        "id": "VjpWn96xXgPS"
      },
      "execution_count": 23,
      "outputs": []
    },
    {
      "cell_type": "code",
      "source": [
        "#y_encoded[0:5]"
      ],
      "metadata": {
        "id": "VL6KMFo9XpBi"
      },
      "execution_count": 24,
      "outputs": []
    },
    {
      "cell_type": "code",
      "source": [
        "#y=y_encoded"
      ],
      "metadata": {
        "id": "5c8km253YKBl"
      },
      "execution_count": 25,
      "outputs": []
    },
    {
      "cell_type": "markdown",
      "metadata": {
        "id": "5BXSDoHa9UX_"
      },
      "source": [
        "# Random/Shuffle"
      ]
    },
    {
      "cell_type": "code",
      "execution_count": 26,
      "metadata": {
        "id": "ZcfE9idy-ckb"
      },
      "outputs": [],
      "source": [
        "shuffler = np.random.permutation(len(X_sequence))\n",
        "X_sequence_shuffled = X_sequence[shuffler]\n",
        "y_shuffled = y[shuffler]"
      ]
    },
    {
      "cell_type": "code",
      "source": [
        "np.save(\"RegresionX_sequence_shuffled.npy\",X_sequence_shuffled)\n",
        "np.save(\"RegresionY_shuffled.npy\",y_shuffled)"
      ],
      "metadata": {
        "id": "GxbjqpHhaCBD"
      },
      "execution_count": 27,
      "outputs": []
    },
    {
      "cell_type": "markdown",
      "metadata": {
        "id": "TfhRTTNcE2s8"
      },
      "source": [
        "# LSTM"
      ]
    },
    {
      "cell_type": "code",
      "execution_count": 28,
      "metadata": {
        "id": "ihrXMuVAEwlY"
      },
      "outputs": [],
      "source": [
        "import pandas as pd\n",
        "import sklearn.metrics as metrique\n",
        "from pandas import Series\n",
        "from sklearn.preprocessing import StandardScaler, MinMaxScaler\n",
        "from matplotlib import pyplot\n",
        "from sklearn.model_selection import train_test_split\n",
        "import numpy as np\n",
        "import tensorflow as tf\n",
        "import sys\n",
        "import numpy as np\n",
        "import pandas as pd\n",
        "import tensorflow as tf\n",
        "import matplotlib.pyplot as plt\n",
        "from sklearn.model_selection import train_test_split\n",
        "from sklearn import preprocessing\n",
        "from sklearn.preprocessing import StandardScaler\n",
        "from sklearn.metrics import classification_report\n",
        "import warnings\n",
        "warnings.filterwarnings('ignore')\n",
        "plt.style.use('ggplot')\n",
        "import seaborn as sns \n",
        "%matplotlib inline\n",
        "from keras.callbacks import EarlyStopping\n",
        "from keras.callbacks import ModelCheckpoint\n",
        "from sklearn.metrics import accuracy_score\n",
        "from sklearn.metrics import classification_report, confusion_matrix\n",
        "from keras.models import Sequential\n",
        "from keras.utils import np_utils\n",
        "from keras.layers import LSTM, Dense, Embedding, Dropout,Input, Layer, Concatenate, Permute, Dot, Multiply, Flatten\n",
        "from keras.layers import RepeatVector, Dense, Activation, Lambda\n",
        "from keras.models import Sequential\n",
        "from keras import backend as K, regularizers, Model, metrics\n",
        "from keras.backend import cast"
      ]
    },
    {
      "cell_type": "code",
      "execution_count": 29,
      "metadata": {
        "id": "PjKWKiA6aH3z"
      },
      "outputs": [],
      "source": [
        "#from tensorflow.keras import optimizers\n",
        "#sgd = optimizers.SGD(lr=0.0001, decay=1e-6, momentum=0.9, nesterov=True)\n",
        "#model = keras.Sequential()\n",
        "#model.add(LSTM(100, input_shape = (200, 8)))\n",
        "#model.add(Dropout(0.5))\n",
        "#model.add(Dense(1, activation=\"softmax\"))\n",
        "\n",
        "\n",
        "#model.compile(loss=\"categorical_crossentropy\"\n",
        "#              , metrics=[keras.metrics.binary_accuracy]\n",
        "#              , optimizer='sgd')\n",
        "\n",
        "#model.summary()"
      ]
    },
    {
      "cell_type": "code",
      "execution_count": 30,
      "metadata": {
        "id": "_2SaVmwSWJVB",
        "colab": {
          "base_uri": "https://localhost:8080/"
        },
        "outputId": "7b03fb01-702f-43aa-d1db-77197e4377c0"
      },
      "outputs": [
        {
          "output_type": "stream",
          "name": "stdout",
          "text": [
            "Model: \"sequential\"\n",
            "_________________________________________________________________\n",
            " Layer (type)                Output Shape              Param #   \n",
            "=================================================================\n",
            " lstm (LSTM)                 (None, 300)               370800    \n",
            "                                                                 \n",
            " dropout (Dropout)           (None, 300)               0         \n",
            "                                                                 \n",
            " dense (Dense)               (None, 1)                 301       \n",
            "                                                                 \n",
            "=================================================================\n",
            "Total params: 371,101\n",
            "Trainable params: 371,101\n",
            "Non-trainable params: 0\n",
            "_________________________________________________________________\n"
          ]
        }
      ],
      "source": [
        "from tensorflow.keras import optimizers\n",
        "#sgd = optimizers.SGD(lr=0.0001, decay=1e-6, momentum=0.9, nesterov=True)\n",
        "optimizer = tf.keras.optimizers.Adam(lr=0.0001)\n",
        "model = keras.Sequential()\n",
        "model.add(LSTM(300, input_shape = (200, 8)))\n",
        "model.add(Dropout(0.5))\n",
        "model.add(Dense(1))# dense 1, activation - relu/sigmoid\n",
        "\n",
        "#model.compile(loss='mean_squared_error', optimizer=sgd)\n",
        "model.compile(loss=\"mse\" #mse\n",
        "              , metrics=['accuracy']\n",
        "              , optimizer=optimizer)\n",
        "\n",
        "model.summary()"
      ]
    },
    {
      "cell_type": "code",
      "execution_count": 31,
      "metadata": {
        "id": "tg8wrqsqc8UX"
      },
      "outputs": [],
      "source": [
        "training_size = int(len(X_sequence) * 0.8)\n",
        "val_size = int(len(X_sequence) * 0.9)"
      ]
    },
    {
      "cell_type": "code",
      "execution_count": 32,
      "metadata": {
        "id": "avIp3TEKc-qF"
      },
      "outputs": [],
      "source": [
        "X_train, y_train = X_sequence_shuffled[:training_size], y_shuffled[:training_size]\n",
        "X_val, y_val = X_sequence_shuffled[training_size:val_size], y_shuffled[training_size:val_size]\n",
        "X_test, y_test = X_sequence_shuffled[val_size:], y_shuffled[val_size:]"
      ]
    },
    {
      "cell_type": "code",
      "execution_count": 33,
      "metadata": {
        "id": "RABc_uKzkBUT"
      },
      "outputs": [],
      "source": [
        "X_sequence = 0\n",
        "y = 0"
      ]
    },
    {
      "cell_type": "code",
      "source": [
        "X_train.shape"
      ],
      "metadata": {
        "id": "Omv-ht1dhGxL",
        "colab": {
          "base_uri": "https://localhost:8080/"
        },
        "outputId": "b672a483-4902-4bdc-cc5a-2fe6db7d32cc"
      },
      "execution_count": 34,
      "outputs": [
        {
          "output_type": "execute_result",
          "data": {
            "text/plain": [
              "(119999, 200, 8)"
            ]
          },
          "metadata": {},
          "execution_count": 34
        }
      ]
    },
    {
      "cell_type": "code",
      "execution_count": 35,
      "metadata": {
        "id": "8aIhPJ-wLCwZ",
        "colab": {
          "base_uri": "https://localhost:8080/"
        },
        "outputId": "6a21bb03-6860-4a75-8ccb-d5ff104c7c08"
      },
      "outputs": [
        {
          "output_type": "execute_result",
          "data": {
            "text/plain": [
              "array([7, 5, 7, 1, 6, 1, 6, 0, 2, 4])"
            ]
          },
          "metadata": {},
          "execution_count": 35
        }
      ],
      "source": [
        "y_train[:10]"
      ]
    },
    {
      "cell_type": "code",
      "execution_count": 36,
      "metadata": {
        "id": "cen4faX0dFJP",
        "colab": {
          "base_uri": "https://localhost:8080/"
        },
        "outputId": "f5536569-8fa1-482f-bb0f-ace35a52b564"
      },
      "outputs": [
        {
          "output_type": "stream",
          "name": "stdout",
          "text": [
            "Epoch 1/250\n",
            "1875/1875 [==============================] - 51s 24ms/step - loss: 4.4662 - accuracy: 0.1254 - val_loss: 3.7648 - val_accuracy: 0.1303\n",
            "Epoch 2/250\n",
            "1875/1875 [==============================] - 39s 21ms/step - loss: 3.5246 - accuracy: 0.1308 - val_loss: 3.1495 - val_accuracy: 0.1301\n",
            "Epoch 3/250\n",
            "1875/1875 [==============================] - 40s 21ms/step - loss: 3.2663 - accuracy: 0.1410 - val_loss: 2.7862 - val_accuracy: 0.1258\n",
            "Epoch 4/250\n",
            "1875/1875 [==============================] - 39s 21ms/step - loss: 3.0035 - accuracy: 0.1434 - val_loss: 3.3332 - val_accuracy: 0.1646\n",
            "Epoch 5/250\n",
            "1875/1875 [==============================] - 40s 21ms/step - loss: 2.9747 - accuracy: 0.1504 - val_loss: 2.3548 - val_accuracy: 0.1697\n",
            "Epoch 6/250\n",
            "1875/1875 [==============================] - 39s 21ms/step - loss: 2.7697 - accuracy: 0.1606 - val_loss: 2.6070 - val_accuracy: 0.1407\n",
            "Epoch 7/250\n",
            "1875/1875 [==============================] - 39s 21ms/step - loss: 2.5917 - accuracy: 0.1579 - val_loss: 2.2601 - val_accuracy: 0.1547\n",
            "Epoch 8/250\n",
            "1875/1875 [==============================] - 39s 21ms/step - loss: 2.4036 - accuracy: 0.1700 - val_loss: 2.0372 - val_accuracy: 0.1630\n",
            "Epoch 9/250\n",
            "1875/1875 [==============================] - 40s 21ms/step - loss: 2.4993 - accuracy: 0.1669 - val_loss: 2.0295 - val_accuracy: 0.1889\n",
            "Epoch 10/250\n",
            "1875/1875 [==============================] - 40s 21ms/step - loss: 2.3476 - accuracy: 0.1726 - val_loss: 2.0077 - val_accuracy: 0.1699\n",
            "Epoch 11/250\n",
            "1875/1875 [==============================] - 40s 21ms/step - loss: 2.2319 - accuracy: 0.1786 - val_loss: 2.5876 - val_accuracy: 0.1717\n",
            "Epoch 12/250\n",
            "1875/1875 [==============================] - 39s 21ms/step - loss: 2.4915 - accuracy: 0.1677 - val_loss: 2.3727 - val_accuracy: 0.2067\n",
            "Epoch 13/250\n",
            "1875/1875 [==============================] - 40s 21ms/step - loss: 2.1464 - accuracy: 0.1913 - val_loss: 1.9163 - val_accuracy: 0.1761\n",
            "Epoch 14/250\n",
            "1875/1875 [==============================] - 40s 21ms/step - loss: 2.0589 - accuracy: 0.1911 - val_loss: 1.8394 - val_accuracy: 0.1955\n",
            "Epoch 15/250\n",
            "1875/1875 [==============================] - 39s 21ms/step - loss: 1.8978 - accuracy: 0.2047 - val_loss: 1.8026 - val_accuracy: 0.2007\n",
            "Epoch 16/250\n",
            "1875/1875 [==============================] - 39s 21ms/step - loss: 1.9339 - accuracy: 0.2005 - val_loss: 1.6932 - val_accuracy: 0.2027\n",
            "Epoch 17/250\n",
            "1875/1875 [==============================] - 39s 21ms/step - loss: 1.7694 - accuracy: 0.2108 - val_loss: 1.8150 - val_accuracy: 0.2133\n",
            "Epoch 18/250\n",
            "1875/1875 [==============================] - 39s 21ms/step - loss: 1.7908 - accuracy: 0.2051 - val_loss: 1.5788 - val_accuracy: 0.2101\n",
            "Epoch 19/250\n",
            "1875/1875 [==============================] - 39s 21ms/step - loss: 1.7029 - accuracy: 0.2188 - val_loss: 1.4505 - val_accuracy: 0.2246\n",
            "Epoch 20/250\n",
            "1875/1875 [==============================] - 39s 21ms/step - loss: 1.5691 - accuracy: 0.2234 - val_loss: 1.4365 - val_accuracy: 0.2058\n",
            "Epoch 21/250\n",
            "1875/1875 [==============================] - 39s 21ms/step - loss: 1.5509 - accuracy: 0.2236 - val_loss: 1.4498 - val_accuracy: 0.2300\n",
            "Epoch 22/250\n",
            "1875/1875 [==============================] - 39s 21ms/step - loss: 1.5970 - accuracy: 0.2180 - val_loss: 1.3372 - val_accuracy: 0.2345\n",
            "Epoch 23/250\n",
            "1875/1875 [==============================] - 40s 21ms/step - loss: 1.4818 - accuracy: 0.2251 - val_loss: 1.3684 - val_accuracy: 0.2293\n",
            "Epoch 24/250\n",
            "1875/1875 [==============================] - 40s 21ms/step - loss: 1.4342 - accuracy: 0.2285 - val_loss: 1.2752 - val_accuracy: 0.2324\n",
            "Epoch 25/250\n",
            "1875/1875 [==============================] - 40s 21ms/step - loss: 1.3694 - accuracy: 0.2298 - val_loss: 1.5866 - val_accuracy: 0.2345\n",
            "Epoch 26/250\n",
            "1875/1875 [==============================] - 40s 21ms/step - loss: 1.3673 - accuracy: 0.2283 - val_loss: 1.3050 - val_accuracy: 0.2255\n",
            "Epoch 27/250\n",
            "1875/1875 [==============================] - 40s 22ms/step - loss: 1.3515 - accuracy: 0.2306 - val_loss: 1.1498 - val_accuracy: 0.2381\n",
            "Epoch 28/250\n",
            "1875/1875 [==============================] - 40s 21ms/step - loss: 1.2964 - accuracy: 0.2323 - val_loss: 1.1735 - val_accuracy: 0.2352\n",
            "Epoch 29/250\n",
            "1875/1875 [==============================] - 40s 21ms/step - loss: 1.2760 - accuracy: 0.2327 - val_loss: 1.1617 - val_accuracy: 0.2363\n",
            "Epoch 30/250\n",
            "1875/1875 [==============================] - 40s 21ms/step - loss: 1.2165 - accuracy: 0.2333 - val_loss: 1.0612 - val_accuracy: 0.2416\n",
            "Epoch 31/250\n",
            "1875/1875 [==============================] - 39s 21ms/step - loss: 1.2190 - accuracy: 0.2339 - val_loss: 1.1601 - val_accuracy: 0.2385\n",
            "Epoch 32/250\n",
            "1875/1875 [==============================] - 40s 21ms/step - loss: 1.2604 - accuracy: 0.2327 - val_loss: 1.0707 - val_accuracy: 0.2400\n",
            "Epoch 33/250\n",
            "1875/1875 [==============================] - 40s 21ms/step - loss: 1.2815 - accuracy: 0.2321 - val_loss: 1.0661 - val_accuracy: 0.2367\n",
            "Epoch 34/250\n",
            "1875/1875 [==============================] - 40s 21ms/step - loss: 1.1692 - accuracy: 0.2339 - val_loss: 1.0949 - val_accuracy: 0.2219\n",
            "Epoch 35/250\n",
            "1875/1875 [==============================] - 40s 22ms/step - loss: 1.1560 - accuracy: 0.2328 - val_loss: 0.9778 - val_accuracy: 0.2380\n",
            "Epoch 36/250\n",
            "1875/1875 [==============================] - 40s 21ms/step - loss: 1.2067 - accuracy: 0.2311 - val_loss: 1.0745 - val_accuracy: 0.2376\n",
            "Epoch 37/250\n",
            "1875/1875 [==============================] - 40s 21ms/step - loss: 1.1600 - accuracy: 0.2323 - val_loss: 1.0798 - val_accuracy: 0.2365\n",
            "Epoch 38/250\n",
            "1875/1875 [==============================] - 39s 21ms/step - loss: 1.0812 - accuracy: 0.2332 - val_loss: 1.0074 - val_accuracy: 0.2402\n",
            "Epoch 39/250\n",
            "1875/1875 [==============================] - 40s 21ms/step - loss: 1.0753 - accuracy: 0.2344 - val_loss: 0.9893 - val_accuracy: 0.2331\n",
            "Epoch 40/250\n",
            "1875/1875 [==============================] - 40s 21ms/step - loss: 1.0602 - accuracy: 0.2339 - val_loss: 1.0144 - val_accuracy: 0.2432\n",
            "Epoch 41/250\n",
            "1875/1875 [==============================] - 40s 21ms/step - loss: 1.0556 - accuracy: 0.2351 - val_loss: 1.1330 - val_accuracy: 0.2292\n",
            "Epoch 42/250\n",
            "1875/1875 [==============================] - 39s 21ms/step - loss: 1.0960 - accuracy: 0.2348 - val_loss: 0.9103 - val_accuracy: 0.2401\n",
            "Epoch 43/250\n",
            "1875/1875 [==============================] - 40s 21ms/step - loss: 0.9927 - accuracy: 0.2353 - val_loss: 1.2737 - val_accuracy: 0.2411\n",
            "Epoch 44/250\n",
            "1875/1875 [==============================] - 39s 21ms/step - loss: 1.0544 - accuracy: 0.2334 - val_loss: 0.9212 - val_accuracy: 0.2339\n",
            "Epoch 45/250\n",
            "1875/1875 [==============================] - 40s 21ms/step - loss: 0.9720 - accuracy: 0.2356 - val_loss: 0.8423 - val_accuracy: 0.2426\n",
            "Epoch 46/250\n",
            "1875/1875 [==============================] - 39s 21ms/step - loss: 0.9944 - accuracy: 0.2361 - val_loss: 0.8329 - val_accuracy: 0.2399\n",
            "Epoch 47/250\n",
            "1875/1875 [==============================] - 40s 21ms/step - loss: 0.9807 - accuracy: 0.2367 - val_loss: 0.8361 - val_accuracy: 0.2377\n",
            "Epoch 48/250\n",
            "1875/1875 [==============================] - 40s 21ms/step - loss: 1.1201 - accuracy: 0.2336 - val_loss: 0.9652 - val_accuracy: 0.2357\n",
            "Epoch 49/250\n",
            "1875/1875 [==============================] - 40s 21ms/step - loss: 0.9396 - accuracy: 0.2364 - val_loss: 0.9356 - val_accuracy: 0.2367\n",
            "Epoch 50/250\n",
            "1875/1875 [==============================] - 40s 21ms/step - loss: 0.8935 - accuracy: 0.2375 - val_loss: 0.7834 - val_accuracy: 0.2398\n",
            "Epoch 51/250\n",
            "1875/1875 [==============================] - 40s 22ms/step - loss: 0.8972 - accuracy: 0.2384 - val_loss: 0.8532 - val_accuracy: 0.2381\n",
            "Epoch 52/250\n",
            "1875/1875 [==============================] - 38s 20ms/step - loss: 0.9013 - accuracy: 0.2376 - val_loss: 0.7068 - val_accuracy: 0.2445\n",
            "Epoch 53/250\n",
            "1875/1875 [==============================] - 40s 21ms/step - loss: 0.8441 - accuracy: 0.2390 - val_loss: 0.7295 - val_accuracy: 0.2442\n",
            "Epoch 54/250\n",
            "1875/1875 [==============================] - 39s 21ms/step - loss: 0.8253 - accuracy: 0.2366 - val_loss: 0.6644 - val_accuracy: 0.2411\n",
            "Epoch 55/250\n",
            "1875/1875 [==============================] - 40s 21ms/step - loss: 0.8037 - accuracy: 0.2361 - val_loss: 0.6901 - val_accuracy: 0.2311\n",
            "Epoch 56/250\n",
            "1875/1875 [==============================] - 39s 21ms/step - loss: 0.8147 - accuracy: 0.2375 - val_loss: 0.9040 - val_accuracy: 0.2301\n",
            "Epoch 57/250\n",
            "1875/1875 [==============================] - 39s 21ms/step - loss: 0.7666 - accuracy: 0.2397 - val_loss: 0.7037 - val_accuracy: 0.2431\n",
            "Epoch 58/250\n",
            "1875/1875 [==============================] - 39s 21ms/step - loss: 0.7177 - accuracy: 0.2406 - val_loss: 0.6130 - val_accuracy: 0.2402\n",
            "Epoch 59/250\n",
            "1875/1875 [==============================] - 40s 21ms/step - loss: 0.7263 - accuracy: 0.2397 - val_loss: 0.6364 - val_accuracy: 0.2358\n",
            "Epoch 60/250\n",
            "1875/1875 [==============================] - 39s 21ms/step - loss: 0.6886 - accuracy: 0.2368 - val_loss: 0.5950 - val_accuracy: 0.2438\n",
            "Epoch 61/250\n",
            "1875/1875 [==============================] - 39s 21ms/step - loss: 0.6664 - accuracy: 0.2412 - val_loss: 0.5896 - val_accuracy: 0.2403\n",
            "Epoch 62/250\n",
            "1875/1875 [==============================] - 39s 21ms/step - loss: 0.6587 - accuracy: 0.2399 - val_loss: 0.5395 - val_accuracy: 0.2449\n",
            "Epoch 63/250\n",
            "1875/1875 [==============================] - 40s 21ms/step - loss: 0.6398 - accuracy: 0.2399 - val_loss: 0.9274 - val_accuracy: 0.2393\n",
            "Epoch 64/250\n",
            "1875/1875 [==============================] - 40s 21ms/step - loss: 0.6285 - accuracy: 0.2407 - val_loss: 0.5627 - val_accuracy: 0.2451\n",
            "Epoch 65/250\n",
            "1875/1875 [==============================] - 40s 21ms/step - loss: 0.6284 - accuracy: 0.2407 - val_loss: 0.5292 - val_accuracy: 0.2436\n",
            "Epoch 66/250\n",
            "1875/1875 [==============================] - 39s 21ms/step - loss: 0.6290 - accuracy: 0.2395 - val_loss: 0.5862 - val_accuracy: 0.2421\n",
            "Epoch 67/250\n",
            "1875/1875 [==============================] - 39s 21ms/step - loss: 0.5852 - accuracy: 0.2407 - val_loss: 0.5466 - val_accuracy: 0.2417\n",
            "Epoch 68/250\n",
            "1875/1875 [==============================] - 39s 21ms/step - loss: 0.6175 - accuracy: 0.2402 - val_loss: 0.4930 - val_accuracy: 0.2443\n",
            "Epoch 69/250\n",
            "1875/1875 [==============================] - 39s 21ms/step - loss: 0.7080 - accuracy: 0.2374 - val_loss: 0.6207 - val_accuracy: 0.2337\n",
            "Epoch 70/250\n",
            "1875/1875 [==============================] - 40s 21ms/step - loss: 0.5435 - accuracy: 0.2412 - val_loss: 0.5154 - val_accuracy: 0.2424\n",
            "Epoch 71/250\n",
            "1875/1875 [==============================] - 39s 21ms/step - loss: 0.5777 - accuracy: 0.2391 - val_loss: 0.4740 - val_accuracy: 0.2451\n",
            "Epoch 72/250\n",
            "1875/1875 [==============================] - 39s 21ms/step - loss: 0.6156 - accuracy: 0.2405 - val_loss: 0.4877 - val_accuracy: 0.2449\n",
            "Epoch 73/250\n",
            "1875/1875 [==============================] - 40s 21ms/step - loss: 0.5646 - accuracy: 0.2384 - val_loss: 0.6711 - val_accuracy: 0.2193\n",
            "Epoch 74/250\n",
            "1875/1875 [==============================] - 39s 21ms/step - loss: 0.5318 - accuracy: 0.2372 - val_loss: 0.4248 - val_accuracy: 0.2423\n",
            "Epoch 75/250\n",
            "1875/1875 [==============================] - 39s 21ms/step - loss: 0.5144 - accuracy: 0.2425 - val_loss: 0.4712 - val_accuracy: 0.2407\n",
            "Epoch 76/250\n",
            "1875/1875 [==============================] - 39s 21ms/step - loss: 0.5519 - accuracy: 0.2409 - val_loss: 0.4609 - val_accuracy: 0.2471\n",
            "Epoch 77/250\n",
            "1875/1875 [==============================] - 40s 21ms/step - loss: 0.5017 - accuracy: 0.2427 - val_loss: 0.6404 - val_accuracy: 0.2273\n",
            "Epoch 78/250\n",
            "1875/1875 [==============================] - 39s 21ms/step - loss: 0.4780 - accuracy: 0.2426 - val_loss: 0.4141 - val_accuracy: 0.2472\n",
            "Epoch 79/250\n",
            "1875/1875 [==============================] - 40s 21ms/step - loss: 0.4666 - accuracy: 0.2430 - val_loss: 0.4056 - val_accuracy: 0.2465\n",
            "Epoch 80/250\n",
            "1875/1875 [==============================] - 39s 21ms/step - loss: 0.4942 - accuracy: 0.2410 - val_loss: 0.3929 - val_accuracy: 0.2451\n",
            "Epoch 81/250\n",
            "1875/1875 [==============================] - 40s 21ms/step - loss: 0.4621 - accuracy: 0.2442 - val_loss: 0.4192 - val_accuracy: 0.2475\n",
            "Epoch 82/250\n",
            "1875/1875 [==============================] - 40s 21ms/step - loss: 0.4500 - accuracy: 0.2439 - val_loss: 0.3674 - val_accuracy: 0.2480\n",
            "Epoch 83/250\n",
            "1875/1875 [==============================] - 39s 21ms/step - loss: 0.4388 - accuracy: 0.2432 - val_loss: 0.4726 - val_accuracy: 0.2463\n",
            "Epoch 84/250\n",
            "1875/1875 [==============================] - 40s 21ms/step - loss: 0.4402 - accuracy: 0.2434 - val_loss: 0.4424 - val_accuracy: 0.2471\n",
            "Epoch 85/250\n",
            "1875/1875 [==============================] - 39s 21ms/step - loss: 0.4179 - accuracy: 0.2417 - val_loss: 0.4643 - val_accuracy: 0.2429\n",
            "Epoch 86/250\n",
            "1875/1875 [==============================] - 39s 21ms/step - loss: 0.4084 - accuracy: 0.2444 - val_loss: 0.3569 - val_accuracy: 0.2457\n",
            "Epoch 87/250\n",
            "1875/1875 [==============================] - 40s 21ms/step - loss: 0.4505 - accuracy: 0.2419 - val_loss: 0.3492 - val_accuracy: 0.2463\n",
            "Epoch 88/250\n",
            "1875/1875 [==============================] - 39s 21ms/step - loss: 0.4180 - accuracy: 0.2431 - val_loss: 0.3704 - val_accuracy: 0.2447\n",
            "Epoch 89/250\n",
            "1875/1875 [==============================] - 40s 21ms/step - loss: 0.3811 - accuracy: 0.2438 - val_loss: 0.3359 - val_accuracy: 0.2466\n",
            "Epoch 90/250\n",
            "1875/1875 [==============================] - 39s 21ms/step - loss: 0.3859 - accuracy: 0.2425 - val_loss: 0.3429 - val_accuracy: 0.2470\n",
            "Epoch 91/250\n",
            "1875/1875 [==============================] - 38s 20ms/step - loss: 0.4157 - accuracy: 0.2444 - val_loss: 0.5744 - val_accuracy: 0.2446\n",
            "Epoch 92/250\n",
            "1875/1875 [==============================] - 38s 20ms/step - loss: 0.3850 - accuracy: 0.2451 - val_loss: 0.3163 - val_accuracy: 0.2479\n",
            "Epoch 93/250\n",
            "1875/1875 [==============================] - 37s 20ms/step - loss: 0.3785 - accuracy: 0.2448 - val_loss: 0.3128 - val_accuracy: 0.2487\n",
            "Epoch 94/250\n",
            "1875/1875 [==============================] - 37s 20ms/step - loss: 0.3891 - accuracy: 0.2396 - val_loss: 0.3389 - val_accuracy: 0.2473\n",
            "Epoch 95/250\n",
            "1875/1875 [==============================] - 38s 20ms/step - loss: 0.3493 - accuracy: 0.2460 - val_loss: 0.2972 - val_accuracy: 0.2475\n",
            "Epoch 96/250\n",
            "1875/1875 [==============================] - 38s 20ms/step - loss: 0.4364 - accuracy: 0.2435 - val_loss: 0.3453 - val_accuracy: 0.2483\n",
            "Epoch 97/250\n",
            "1875/1875 [==============================] - 38s 20ms/step - loss: 0.3941 - accuracy: 0.2439 - val_loss: 0.3760 - val_accuracy: 0.2449\n",
            "Epoch 98/250\n",
            "1875/1875 [==============================] - 37s 20ms/step - loss: 0.3712 - accuracy: 0.2440 - val_loss: 0.5754 - val_accuracy: 0.2405\n",
            "Epoch 99/250\n",
            "1875/1875 [==============================] - 39s 21ms/step - loss: 0.4513 - accuracy: 0.2414 - val_loss: 0.3024 - val_accuracy: 0.2473\n",
            "Epoch 100/250\n",
            "1875/1875 [==============================] - 38s 20ms/step - loss: 0.3488 - accuracy: 0.2444 - val_loss: 0.4311 - val_accuracy: 0.2419\n",
            "Epoch 101/250\n",
            "1875/1875 [==============================] - 37s 20ms/step - loss: 0.3312 - accuracy: 0.2448 - val_loss: 0.2751 - val_accuracy: 0.2479\n",
            "Epoch 102/250\n",
            "1875/1875 [==============================] - 37s 20ms/step - loss: 0.3415 - accuracy: 0.2442 - val_loss: 0.2694 - val_accuracy: 0.2471\n",
            "Epoch 103/250\n",
            "1875/1875 [==============================] - 38s 20ms/step - loss: 0.3207 - accuracy: 0.2444 - val_loss: 0.3007 - val_accuracy: 0.2470\n",
            "Epoch 104/250\n",
            "1875/1875 [==============================] - 38s 20ms/step - loss: 0.3239 - accuracy: 0.2455 - val_loss: 0.2531 - val_accuracy: 0.2476\n",
            "Epoch 105/250\n",
            "1875/1875 [==============================] - 38s 20ms/step - loss: 0.3141 - accuracy: 0.2457 - val_loss: 0.3952 - val_accuracy: 0.2469\n",
            "Epoch 106/250\n",
            "1875/1875 [==============================] - 39s 21ms/step - loss: 0.3710 - accuracy: 0.2451 - val_loss: 0.2646 - val_accuracy: 0.2475\n",
            "Epoch 107/250\n",
            "1875/1875 [==============================] - 38s 20ms/step - loss: 0.3493 - accuracy: 0.2442 - val_loss: 0.2585 - val_accuracy: 0.2483\n",
            "Epoch 108/250\n",
            "1875/1875 [==============================] - 38s 20ms/step - loss: 0.3744 - accuracy: 0.2437 - val_loss: 0.4179 - val_accuracy: 0.2383\n",
            "Epoch 109/250\n",
            "1875/1875 [==============================] - 38s 20ms/step - loss: 0.3168 - accuracy: 0.2441 - val_loss: 0.2667 - val_accuracy: 0.2479\n",
            "Epoch 110/250\n",
            "1875/1875 [==============================] - 38s 20ms/step - loss: 0.3047 - accuracy: 0.2444 - val_loss: 0.3029 - val_accuracy: 0.2362\n",
            "Epoch 111/250\n",
            "1875/1875 [==============================] - 38s 20ms/step - loss: 0.2857 - accuracy: 0.2446 - val_loss: 0.2777 - val_accuracy: 0.2485\n",
            "Epoch 112/250\n",
            "1875/1875 [==============================] - 38s 20ms/step - loss: 0.3308 - accuracy: 0.2448 - val_loss: 0.3283 - val_accuracy: 0.2471\n",
            "Epoch 113/250\n",
            "1875/1875 [==============================] - 38s 20ms/step - loss: 0.2791 - accuracy: 0.2468 - val_loss: 0.3765 - val_accuracy: 0.2449\n",
            "Epoch 114/250\n",
            "1875/1875 [==============================] - 38s 20ms/step - loss: 0.2770 - accuracy: 0.2453 - val_loss: 0.2223 - val_accuracy: 0.2480\n",
            "Epoch 115/250\n",
            "1875/1875 [==============================] - 38s 20ms/step - loss: 0.2865 - accuracy: 0.2462 - val_loss: 0.3660 - val_accuracy: 0.2439\n",
            "Epoch 116/250\n",
            "1875/1875 [==============================] - 38s 20ms/step - loss: 0.3214 - accuracy: 0.2448 - val_loss: 0.2211 - val_accuracy: 0.2491\n",
            "Epoch 117/250\n",
            "1875/1875 [==============================] - 38s 20ms/step - loss: 0.2650 - accuracy: 0.2464 - val_loss: 0.2247 - val_accuracy: 0.2487\n",
            "Epoch 118/250\n",
            "1875/1875 [==============================] - 38s 20ms/step - loss: 0.2866 - accuracy: 0.2463 - val_loss: 0.2268 - val_accuracy: 0.2466\n",
            "Epoch 119/250\n",
            "1875/1875 [==============================] - 38s 20ms/step - loss: 0.2517 - accuracy: 0.2464 - val_loss: 0.2392 - val_accuracy: 0.2477\n",
            "Epoch 120/250\n",
            "1875/1875 [==============================] - 38s 20ms/step - loss: 0.2601 - accuracy: 0.2459 - val_loss: 0.2453 - val_accuracy: 0.2493\n",
            "Epoch 121/250\n",
            "1875/1875 [==============================] - 39s 21ms/step - loss: 0.3507 - accuracy: 0.2434 - val_loss: 0.5519 - val_accuracy: 0.2159\n",
            "Epoch 122/250\n",
            "1875/1875 [==============================] - 38s 20ms/step - loss: 0.3081 - accuracy: 0.2415 - val_loss: 0.2366 - val_accuracy: 0.2466\n",
            "Epoch 123/250\n",
            "1875/1875 [==============================] - 38s 20ms/step - loss: 0.2476 - accuracy: 0.2471 - val_loss: 0.7322 - val_accuracy: 0.2435\n",
            "Epoch 124/250\n",
            "1875/1875 [==============================] - 38s 20ms/step - loss: 0.3748 - accuracy: 0.2437 - val_loss: 0.3239 - val_accuracy: 0.2433\n",
            "Epoch 125/250\n",
            "1875/1875 [==============================] - 38s 20ms/step - loss: 0.2626 - accuracy: 0.2455 - val_loss: 0.2408 - val_accuracy: 0.2489\n",
            "Epoch 126/250\n",
            "1875/1875 [==============================] - 39s 21ms/step - loss: 0.2598 - accuracy: 0.2467 - val_loss: 0.2380 - val_accuracy: 0.2488\n",
            "Epoch 127/250\n",
            "1875/1875 [==============================] - 38s 20ms/step - loss: 0.2616 - accuracy: 0.2455 - val_loss: 1.0004 - val_accuracy: 0.1588\n",
            "Epoch 128/250\n",
            "1875/1875 [==============================] - 38s 20ms/step - loss: 0.2732 - accuracy: 0.2391 - val_loss: 0.2399 - val_accuracy: 0.2500\n",
            "Epoch 129/250\n",
            "1875/1875 [==============================] - 38s 20ms/step - loss: 0.2513 - accuracy: 0.2453 - val_loss: 0.2327 - val_accuracy: 0.2473\n",
            "Epoch 130/250\n",
            "1875/1875 [==============================] - 38s 20ms/step - loss: 0.2576 - accuracy: 0.2460 - val_loss: 0.2116 - val_accuracy: 0.2482\n",
            "Epoch 131/250\n",
            "1875/1875 [==============================] - 38s 20ms/step - loss: 0.2623 - accuracy: 0.2420 - val_loss: 0.4132 - val_accuracy: 0.2245\n",
            "Epoch 132/250\n",
            "1875/1875 [==============================] - 39s 21ms/step - loss: 0.2397 - accuracy: 0.2432 - val_loss: 0.1868 - val_accuracy: 0.2493\n",
            "Epoch 133/250\n",
            "1875/1875 [==============================] - 38s 20ms/step - loss: 0.2493 - accuracy: 0.2458 - val_loss: 0.2745 - val_accuracy: 0.2439\n",
            "Epoch 134/250\n",
            "1875/1875 [==============================] - 39s 21ms/step - loss: 0.3501 - accuracy: 0.2430 - val_loss: 0.2418 - val_accuracy: 0.2472\n",
            "Epoch 135/250\n",
            "1875/1875 [==============================] - 38s 20ms/step - loss: 0.3315 - accuracy: 0.2440 - val_loss: 0.2195 - val_accuracy: 0.2479\n",
            "Epoch 136/250\n",
            "1875/1875 [==============================] - 38s 20ms/step - loss: 0.2221 - accuracy: 0.2460 - val_loss: 0.2257 - val_accuracy: 0.2495\n",
            "Epoch 137/250\n",
            "1875/1875 [==============================] - 38s 20ms/step - loss: 0.2225 - accuracy: 0.2474 - val_loss: 0.1956 - val_accuracy: 0.2499\n",
            "Epoch 138/250\n",
            "1875/1875 [==============================] - 38s 20ms/step - loss: 0.2205 - accuracy: 0.2477 - val_loss: 0.2547 - val_accuracy: 0.2497\n",
            "Epoch 139/250\n",
            "1875/1875 [==============================] - 39s 21ms/step - loss: 0.2539 - accuracy: 0.2451 - val_loss: 0.2008 - val_accuracy: 0.2489\n",
            "Epoch 140/250\n",
            "1875/1875 [==============================] - 38s 20ms/step - loss: 0.2347 - accuracy: 0.2467 - val_loss: 0.1988 - val_accuracy: 0.2496\n",
            "Epoch 141/250\n",
            "1875/1875 [==============================] - 38s 20ms/step - loss: 0.2151 - accuracy: 0.2473 - val_loss: 0.1917 - val_accuracy: 0.2499\n",
            "Epoch 142/250\n",
            "1875/1875 [==============================] - 38s 20ms/step - loss: 0.2242 - accuracy: 0.2476 - val_loss: 0.2064 - val_accuracy: 0.2489\n",
            "Epoch 143/250\n",
            "1875/1875 [==============================] - 38s 20ms/step - loss: 0.2110 - accuracy: 0.2478 - val_loss: 0.1914 - val_accuracy: 0.2499\n",
            "Epoch 144/250\n",
            "1875/1875 [==============================] - 38s 20ms/step - loss: 0.2202 - accuracy: 0.2471 - val_loss: 0.2099 - val_accuracy: 0.2498\n",
            "Epoch 145/250\n",
            "1875/1875 [==============================] - 38s 20ms/step - loss: 0.2277 - accuracy: 0.2464 - val_loss: 0.2266 - val_accuracy: 0.2496\n",
            "Epoch 146/250\n",
            "1875/1875 [==============================] - 38s 20ms/step - loss: 0.2035 - accuracy: 0.2477 - val_loss: 0.2667 - val_accuracy: 0.2493\n",
            "Epoch 147/250\n",
            "1875/1875 [==============================] - 38s 20ms/step - loss: 0.2170 - accuracy: 0.2471 - val_loss: 0.1618 - val_accuracy: 0.2499\n",
            "Epoch 148/250\n",
            "1875/1875 [==============================] - 38s 20ms/step - loss: 0.2956 - accuracy: 0.2443 - val_loss: 0.2467 - val_accuracy: 0.2484\n",
            "Epoch 149/250\n",
            "1875/1875 [==============================] - 39s 21ms/step - loss: 0.2163 - accuracy: 0.2454 - val_loss: 0.1897 - val_accuracy: 0.2486\n",
            "Epoch 150/250\n",
            "1875/1875 [==============================] - 39s 21ms/step - loss: 0.2006 - accuracy: 0.2463 - val_loss: 0.2064 - val_accuracy: 0.2479\n",
            "Epoch 151/250\n",
            "1875/1875 [==============================] - 38s 20ms/step - loss: 0.1845 - accuracy: 0.2483 - val_loss: 0.3046 - val_accuracy: 0.2501\n",
            "Epoch 152/250\n",
            "1875/1875 [==============================] - 38s 20ms/step - loss: 0.2427 - accuracy: 0.2454 - val_loss: 0.1586 - val_accuracy: 0.2491\n",
            "Epoch 153/250\n",
            "1875/1875 [==============================] - 38s 20ms/step - loss: 0.1870 - accuracy: 0.2480 - val_loss: 0.2009 - val_accuracy: 0.2499\n",
            "Epoch 154/250\n",
            "1875/1875 [==============================] - 38s 20ms/step - loss: 0.2338 - accuracy: 0.2472 - val_loss: 0.1822 - val_accuracy: 0.2498\n",
            "Epoch 155/250\n",
            "1875/1875 [==============================] - 38s 20ms/step - loss: 0.2631 - accuracy: 0.2466 - val_loss: 0.2483 - val_accuracy: 0.2488\n",
            "Epoch 156/250\n",
            "1875/1875 [==============================] - 38s 20ms/step - loss: 0.2442 - accuracy: 0.2468 - val_loss: 0.2735 - val_accuracy: 0.2475\n",
            "Epoch 157/250\n",
            "1875/1875 [==============================] - 38s 20ms/step - loss: 0.2055 - accuracy: 0.2475 - val_loss: 0.1669 - val_accuracy: 0.2495\n",
            "Epoch 158/250\n",
            "1875/1875 [==============================] - 38s 20ms/step - loss: 0.1944 - accuracy: 0.2464 - val_loss: 0.1722 - val_accuracy: 0.2466\n",
            "Epoch 159/250\n",
            "1875/1875 [==============================] - 39s 21ms/step - loss: 0.1834 - accuracy: 0.2473 - val_loss: 0.1772 - val_accuracy: 0.2497\n",
            "Epoch 160/250\n",
            "1875/1875 [==============================] - 38s 21ms/step - loss: 0.1694 - accuracy: 0.2481 - val_loss: 0.1487 - val_accuracy: 0.2503\n",
            "Epoch 161/250\n",
            "1875/1875 [==============================] - 38s 20ms/step - loss: 0.1745 - accuracy: 0.2482 - val_loss: 0.2610 - val_accuracy: 0.2504\n",
            "Epoch 162/250\n",
            "1875/1875 [==============================] - 38s 20ms/step - loss: 0.2464 - accuracy: 0.2459 - val_loss: 0.2046 - val_accuracy: 0.2466\n",
            "Epoch 163/250\n",
            "1875/1875 [==============================] - 38s 20ms/step - loss: 0.1815 - accuracy: 0.2469 - val_loss: 0.1625 - val_accuracy: 0.2501\n",
            "Epoch 164/250\n",
            "1875/1875 [==============================] - 39s 21ms/step - loss: 0.1670 - accuracy: 0.2483 - val_loss: 0.1403 - val_accuracy: 0.2503\n",
            "Epoch 165/250\n",
            "1875/1875 [==============================] - 39s 21ms/step - loss: 0.1646 - accuracy: 0.2479 - val_loss: 0.2136 - val_accuracy: 0.2503\n",
            "Epoch 166/250\n",
            "1875/1875 [==============================] - 38s 20ms/step - loss: 0.1612 - accuracy: 0.2483 - val_loss: 0.8657 - val_accuracy: 0.2241\n",
            "Epoch 167/250\n",
            "1875/1875 [==============================] - 38s 20ms/step - loss: 0.6260 - accuracy: 0.2367 - val_loss: 0.4712 - val_accuracy: 0.2331\n",
            "Epoch 168/250\n",
            "1875/1875 [==============================] - 38s 20ms/step - loss: 0.2687 - accuracy: 0.2443 - val_loss: 0.2117 - val_accuracy: 0.2483\n",
            "Epoch 169/250\n",
            "1875/1875 [==============================] - 38s 20ms/step - loss: 0.1853 - accuracy: 0.2472 - val_loss: 0.1677 - val_accuracy: 0.2494\n",
            "Epoch 170/250\n",
            "1875/1875 [==============================] - 38s 20ms/step - loss: 0.1918 - accuracy: 0.2474 - val_loss: 0.1529 - val_accuracy: 0.2501\n",
            "Epoch 171/250\n",
            "1875/1875 [==============================] - 38s 20ms/step - loss: 0.2246 - accuracy: 0.2462 - val_loss: 0.1614 - val_accuracy: 0.2502\n",
            "Epoch 172/250\n",
            "1875/1875 [==============================] - 38s 20ms/step - loss: 0.4472 - accuracy: 0.2422 - val_loss: 0.5998 - val_accuracy: 0.2433\n",
            "Epoch 173/250\n",
            "1875/1875 [==============================] - 39s 21ms/step - loss: 0.4694 - accuracy: 0.2385 - val_loss: 0.2663 - val_accuracy: 0.2444\n",
            "Epoch 174/250\n",
            "1875/1875 [==============================] - 38s 20ms/step - loss: 0.3157 - accuracy: 0.2435 - val_loss: 0.2926 - val_accuracy: 0.2476\n",
            "Epoch 175/250\n",
            "1875/1875 [==============================] - 38s 20ms/step - loss: 0.2287 - accuracy: 0.2450 - val_loss: 0.2259 - val_accuracy: 0.2478\n",
            "Epoch 176/250\n",
            "1875/1875 [==============================] - 39s 21ms/step - loss: 0.1946 - accuracy: 0.2462 - val_loss: 0.1660 - val_accuracy: 0.2471\n",
            "Epoch 177/250\n",
            "1875/1875 [==============================] - 38s 20ms/step - loss: 0.2198 - accuracy: 0.2454 - val_loss: 0.1641 - val_accuracy: 0.2492\n",
            "Epoch 178/250\n",
            "1875/1875 [==============================] - 38s 20ms/step - loss: 0.1998 - accuracy: 0.2472 - val_loss: 0.1805 - val_accuracy: 0.2493\n",
            "Epoch 179/250\n",
            "1875/1875 [==============================] - 38s 20ms/step - loss: 0.3801 - accuracy: 0.2393 - val_loss: 0.2035 - val_accuracy: 0.2479\n",
            "Epoch 180/250\n",
            "1875/1875 [==============================] - 38s 20ms/step - loss: 0.1841 - accuracy: 0.2462 - val_loss: 0.2138 - val_accuracy: 0.2495\n",
            "Epoch 181/250\n",
            "1875/1875 [==============================] - 39s 21ms/step - loss: 0.1817 - accuracy: 0.2476 - val_loss: 0.1665 - val_accuracy: 0.2492\n",
            "Epoch 182/250\n",
            "1875/1875 [==============================] - 38s 20ms/step - loss: 0.1688 - accuracy: 0.2475 - val_loss: 0.1670 - val_accuracy: 0.2499\n",
            "Epoch 183/250\n",
            "1875/1875 [==============================] - 38s 20ms/step - loss: 0.1620 - accuracy: 0.2478 - val_loss: 0.1513 - val_accuracy: 0.2496\n",
            "Epoch 184/250\n",
            "1875/1875 [==============================] - 38s 20ms/step - loss: 0.1679 - accuracy: 0.2479 - val_loss: 0.1862 - val_accuracy: 0.2499\n",
            "Epoch 185/250\n",
            "1875/1875 [==============================] - 39s 21ms/step - loss: 0.1784 - accuracy: 0.2470 - val_loss: 0.1398 - val_accuracy: 0.2499\n",
            "Epoch 186/250\n",
            "1875/1875 [==============================] - 38s 20ms/step - loss: 0.2320 - accuracy: 0.2473 - val_loss: 0.1516 - val_accuracy: 0.2495\n",
            "Epoch 187/250\n",
            "1875/1875 [==============================] - 38s 20ms/step - loss: 0.1575 - accuracy: 0.2464 - val_loss: 0.1646 - val_accuracy: 0.2499\n",
            "Epoch 188/250\n",
            "1875/1875 [==============================] - 38s 20ms/step - loss: 0.1490 - accuracy: 0.2479 - val_loss: 0.1703 - val_accuracy: 0.2498\n",
            "Epoch 189/250\n",
            "1875/1875 [==============================] - 38s 20ms/step - loss: 0.1680 - accuracy: 0.2480 - val_loss: 0.2368 - val_accuracy: 0.2493\n",
            "Epoch 190/250\n",
            "1875/1875 [==============================] - 38s 20ms/step - loss: 0.1557 - accuracy: 0.2479 - val_loss: 0.1391 - val_accuracy: 0.2505\n",
            "Epoch 191/250\n",
            "1875/1875 [==============================] - 39s 21ms/step - loss: 0.2187 - accuracy: 0.2467 - val_loss: 0.2032 - val_accuracy: 0.2471\n",
            "Epoch 192/250\n",
            "1875/1875 [==============================] - 39s 21ms/step - loss: 0.2196 - accuracy: 0.2412 - val_loss: 0.1732 - val_accuracy: 0.2487\n",
            "Epoch 193/250\n",
            "1875/1875 [==============================] - 38s 20ms/step - loss: 0.2010 - accuracy: 0.2426 - val_loss: 0.4298 - val_accuracy: 0.2188\n",
            "Epoch 194/250\n",
            "1875/1875 [==============================] - 38s 20ms/step - loss: 0.1973 - accuracy: 0.2403 - val_loss: 0.1363 - val_accuracy: 0.2490\n",
            "Epoch 195/250\n",
            "1875/1875 [==============================] - 38s 20ms/step - loss: 0.2212 - accuracy: 0.2467 - val_loss: 0.1744 - val_accuracy: 0.2494\n",
            "Epoch 196/250\n",
            "1875/1875 [==============================] - 38s 20ms/step - loss: 0.1421 - accuracy: 0.2480 - val_loss: 0.2284 - val_accuracy: 0.2493\n",
            "Epoch 197/250\n",
            "1875/1875 [==============================] - 38s 20ms/step - loss: 0.1449 - accuracy: 0.2484 - val_loss: 0.1614 - val_accuracy: 0.2502\n",
            "Epoch 198/250\n",
            "1875/1875 [==============================] - 38s 20ms/step - loss: 0.1468 - accuracy: 0.2484 - val_loss: 0.1854 - val_accuracy: 0.2469\n",
            "Epoch 199/250\n",
            "1875/1875 [==============================] - 39s 21ms/step - loss: 0.1604 - accuracy: 0.2472 - val_loss: 0.2039 - val_accuracy: 0.2465\n",
            "Epoch 200/250\n",
            "1875/1875 [==============================] - 38s 20ms/step - loss: 0.1508 - accuracy: 0.2478 - val_loss: 0.1348 - val_accuracy: 0.2499\n",
            "Epoch 201/250\n",
            "1875/1875 [==============================] - 39s 21ms/step - loss: 0.1434 - accuracy: 0.2474 - val_loss: 0.1499 - val_accuracy: 0.2505\n",
            "Epoch 202/250\n",
            "1875/1875 [==============================] - 38s 20ms/step - loss: 0.2419 - accuracy: 0.2442 - val_loss: 0.1694 - val_accuracy: 0.2484\n",
            "Epoch 203/250\n",
            "1875/1875 [==============================] - 38s 20ms/step - loss: 0.6198 - accuracy: 0.2378 - val_loss: 0.6049 - val_accuracy: 0.2372\n",
            "Epoch 204/250\n",
            "1875/1875 [==============================] - 39s 21ms/step - loss: 0.4539 - accuracy: 0.2399 - val_loss: 0.3104 - val_accuracy: 0.2470\n",
            "Epoch 205/250\n",
            "1875/1875 [==============================] - 38s 20ms/step - loss: 0.2851 - accuracy: 0.2454 - val_loss: 0.2270 - val_accuracy: 0.2477\n",
            "Epoch 206/250\n",
            "1875/1875 [==============================] - 38s 20ms/step - loss: 0.2085 - accuracy: 0.2468 - val_loss: 0.1822 - val_accuracy: 0.2486\n",
            "Epoch 207/250\n",
            "1875/1875 [==============================] - 39s 21ms/step - loss: 0.1940 - accuracy: 0.2461 - val_loss: 0.1721 - val_accuracy: 0.2497\n",
            "Epoch 208/250\n",
            "1875/1875 [==============================] - 38s 20ms/step - loss: 0.1886 - accuracy: 0.2463 - val_loss: 0.1605 - val_accuracy: 0.2497\n",
            "Epoch 209/250\n",
            "1875/1875 [==============================] - 38s 20ms/step - loss: 0.1711 - accuracy: 0.2472 - val_loss: 0.1592 - val_accuracy: 0.2484\n",
            "Epoch 210/250\n",
            "1875/1875 [==============================] - 38s 20ms/step - loss: 0.1436 - accuracy: 0.2470 - val_loss: 0.1416 - val_accuracy: 0.2504\n",
            "Epoch 211/250\n",
            "1875/1875 [==============================] - 38s 20ms/step - loss: 0.1479 - accuracy: 0.2471 - val_loss: 0.1305 - val_accuracy: 0.2495\n",
            "Epoch 212/250\n",
            "1875/1875 [==============================] - 39s 21ms/step - loss: 0.1363 - accuracy: 0.2473 - val_loss: 0.1349 - val_accuracy: 0.2502\n",
            "Epoch 213/250\n",
            "1875/1875 [==============================] - 38s 20ms/step - loss: 0.1406 - accuracy: 0.2483 - val_loss: 0.1351 - val_accuracy: 0.2503\n",
            "Epoch 214/250\n",
            "1875/1875 [==============================] - 38s 20ms/step - loss: 0.1798 - accuracy: 0.2471 - val_loss: 0.1824 - val_accuracy: 0.2481\n",
            "Epoch 215/250\n",
            "1875/1875 [==============================] - 38s 20ms/step - loss: 0.1331 - accuracy: 0.2483 - val_loss: 0.1275 - val_accuracy: 0.2493\n",
            "Epoch 216/250\n",
            "1875/1875 [==============================] - 38s 20ms/step - loss: 0.2546 - accuracy: 0.2438 - val_loss: 0.1466 - val_accuracy: 0.2501\n",
            "Epoch 217/250\n",
            "1875/1875 [==============================] - 39s 21ms/step - loss: 0.1588 - accuracy: 0.2475 - val_loss: 0.1459 - val_accuracy: 0.2504\n",
            "Epoch 218/250\n",
            "1875/1875 [==============================] - 38s 20ms/step - loss: 0.1498 - accuracy: 0.2475 - val_loss: 0.1545 - val_accuracy: 0.2497\n",
            "Epoch 219/250\n",
            "1875/1875 [==============================] - 39s 21ms/step - loss: 0.1261 - accuracy: 0.2482 - val_loss: 0.1415 - val_accuracy: 0.2505\n",
            "Epoch 220/250\n",
            "1875/1875 [==============================] - 39s 21ms/step - loss: 0.1481 - accuracy: 0.2480 - val_loss: 0.1344 - val_accuracy: 0.2506\n",
            "Epoch 221/250\n",
            "1875/1875 [==============================] - 38s 20ms/step - loss: 0.3266 - accuracy: 0.2429 - val_loss: 0.3475 - val_accuracy: 0.2385\n",
            "Epoch 222/250\n",
            "1875/1875 [==============================] - 38s 20ms/step - loss: 0.2162 - accuracy: 0.2447 - val_loss: 0.1602 - val_accuracy: 0.2493\n",
            "Epoch 223/250\n",
            "1875/1875 [==============================] - 38s 20ms/step - loss: 0.1394 - accuracy: 0.2478 - val_loss: 0.1553 - val_accuracy: 0.2498\n",
            "Epoch 224/250\n",
            "1875/1875 [==============================] - 38s 20ms/step - loss: 0.1823 - accuracy: 0.2466 - val_loss: 0.1610 - val_accuracy: 0.2499\n",
            "Epoch 225/250\n",
            "1875/1875 [==============================] - 38s 20ms/step - loss: 0.1716 - accuracy: 0.2472 - val_loss: 0.7939 - val_accuracy: 0.2457\n",
            "Epoch 226/250\n",
            "1875/1875 [==============================] - 39s 21ms/step - loss: 0.2242 - accuracy: 0.2464 - val_loss: 2.4433 - val_accuracy: 0.1628\n",
            "Epoch 227/250\n",
            "1875/1875 [==============================] - 39s 21ms/step - loss: 0.2011 - accuracy: 0.2392 - val_loss: 0.1414 - val_accuracy: 0.2491\n",
            "Epoch 228/250\n",
            "1875/1875 [==============================] - 39s 21ms/step - loss: 0.1200 - accuracy: 0.2478 - val_loss: 0.1302 - val_accuracy: 0.2503\n",
            "Epoch 229/250\n",
            "1875/1875 [==============================] - 38s 20ms/step - loss: 0.1421 - accuracy: 0.2457 - val_loss: 0.1296 - val_accuracy: 0.2496\n",
            "Epoch 230/250\n",
            "1875/1875 [==============================] - 39s 21ms/step - loss: 0.1641 - accuracy: 0.2450 - val_loss: 0.1256 - val_accuracy: 0.2497\n",
            "Epoch 231/250\n",
            "1875/1875 [==============================] - 39s 21ms/step - loss: 0.1995 - accuracy: 0.2460 - val_loss: 0.2524 - val_accuracy: 0.2500\n",
            "Epoch 232/250\n",
            "1875/1875 [==============================] - 39s 21ms/step - loss: 0.1704 - accuracy: 0.2462 - val_loss: 0.1444 - val_accuracy: 0.2503\n",
            "Epoch 233/250\n",
            "1875/1875 [==============================] - 38s 20ms/step - loss: 0.1316 - accuracy: 0.2474 - val_loss: 0.1256 - val_accuracy: 0.2501\n",
            "Epoch 234/250\n",
            "1875/1875 [==============================] - 38s 20ms/step - loss: 0.1138 - accuracy: 0.2488 - val_loss: 0.1423 - val_accuracy: 0.2507\n",
            "Epoch 235/250\n",
            "1875/1875 [==============================] - 38s 21ms/step - loss: 0.1461 - accuracy: 0.2478 - val_loss: 0.1226 - val_accuracy: 0.2503\n",
            "Epoch 236/250\n",
            "1875/1875 [==============================] - 38s 20ms/step - loss: 0.1074 - accuracy: 0.2483 - val_loss: 0.1326 - val_accuracy: 0.2503\n",
            "Epoch 237/250\n",
            "1875/1875 [==============================] - 38s 20ms/step - loss: 0.1139 - accuracy: 0.2483 - val_loss: 0.1321 - val_accuracy: 0.2507\n",
            "Epoch 238/250\n",
            "1875/1875 [==============================] - 38s 21ms/step - loss: 0.1397 - accuracy: 0.2477 - val_loss: 0.1308 - val_accuracy: 0.2507\n",
            "Epoch 239/250\n",
            "1875/1875 [==============================] - 39s 21ms/step - loss: 0.1448 - accuracy: 0.2468 - val_loss: 0.1227 - val_accuracy: 0.2504\n",
            "Epoch 240/250\n",
            "1875/1875 [==============================] - 39s 21ms/step - loss: 0.1929 - accuracy: 0.2455 - val_loss: 0.1248 - val_accuracy: 0.2501\n",
            "Epoch 241/250\n",
            "1875/1875 [==============================] - 39s 21ms/step - loss: 0.1471 - accuracy: 0.2480 - val_loss: 0.2594 - val_accuracy: 0.2471\n",
            "Epoch 242/250\n",
            "1875/1875 [==============================] - 38s 20ms/step - loss: 0.1103 - accuracy: 0.2484 - val_loss: 0.1483 - val_accuracy: 0.2505\n",
            "Epoch 243/250\n",
            "1875/1875 [==============================] - 38s 20ms/step - loss: 0.1797 - accuracy: 0.2436 - val_loss: 0.1239 - val_accuracy: 0.2503\n",
            "Epoch 244/250\n",
            "1875/1875 [==============================] - 38s 20ms/step - loss: 0.1492 - accuracy: 0.2467 - val_loss: 0.1505 - val_accuracy: 0.2499\n",
            "Epoch 245/250\n",
            "1875/1875 [==============================] - 39s 21ms/step - loss: 0.1111 - accuracy: 0.2481 - val_loss: 0.1275 - val_accuracy: 0.2508\n",
            "Epoch 246/250\n",
            "1875/1875 [==============================] - 39s 21ms/step - loss: 0.1308 - accuracy: 0.2475 - val_loss: 0.1327 - val_accuracy: 0.2502\n",
            "Epoch 247/250\n",
            "1875/1875 [==============================] - 38s 20ms/step - loss: 0.1654 - accuracy: 0.2472 - val_loss: 0.1824 - val_accuracy: 0.2503\n",
            "Epoch 248/250\n",
            "1875/1875 [==============================] - 38s 20ms/step - loss: 0.1381 - accuracy: 0.2474 - val_loss: 0.1218 - val_accuracy: 0.2499\n",
            "Epoch 249/250\n",
            "1875/1875 [==============================] - 38s 20ms/step - loss: 0.1082 - accuracy: 0.2478 - val_loss: 0.3913 - val_accuracy: 0.2268\n",
            "Epoch 250/250\n",
            "1875/1875 [==============================] - 38s 20ms/step - loss: 0.1137 - accuracy: 0.2474 - val_loss: 0.1204 - val_accuracy: 0.2507\n"
          ]
        }
      ],
      "source": [
        "history = model.fit(X_train, y_train, batch_size=64, epochs=250, validation_data=(X_val, y_val))\n",
        "model.save('RegresionMulticlassModel_E100_B64.h5')"
      ]
    },
    {
      "cell_type": "code",
      "execution_count": 37,
      "metadata": {
        "id": "R7QQeqVidKBR",
        "colab": {
          "base_uri": "https://localhost:8080/"
        },
        "outputId": "464a73c4-dbd4-48dc-babd-cc4b3d303450"
      },
      "outputs": [
        {
          "output_type": "stream",
          "name": "stdout",
          "text": [
            "469/469 [==============================] - 3s 6ms/step - loss: 0.1145 - accuracy: 0.2489\n"
          ]
        }
      ],
      "source": [
        "test_acc = model.evaluate(X_test, y_test)"
      ]
    },
    {
      "cell_type": "code",
      "source": [
        "test_acc"
      ],
      "metadata": {
        "id": "6fuTmgGrUgGg",
        "colab": {
          "base_uri": "https://localhost:8080/"
        },
        "outputId": "592b98ce-aa72-4a9c-a76c-92f497b01964"
      },
      "execution_count": 38,
      "outputs": [
        {
          "output_type": "execute_result",
          "data": {
            "text/plain": [
              "[0.11450104415416718, 0.2489333301782608]"
            ]
          },
          "metadata": {},
          "execution_count": 38
        }
      ]
    },
    {
      "cell_type": "code",
      "execution_count": 39,
      "metadata": {
        "id": "OHpifyqGdKn-",
        "colab": {
          "base_uri": "https://localhost:8080/"
        },
        "outputId": "67f171b8-e60c-4727-f980-d66c47524327"
      },
      "outputs": [
        {
          "output_type": "stream",
          "name": "stdout",
          "text": [
            "469/469 [==============================] - 3s 5ms/step\n"
          ]
        }
      ],
      "source": [
        "y_test_prob = model.predict(X_test, verbose=1)"
      ]
    },
    {
      "cell_type": "code",
      "source": [
        "np.set_printoptions(suppress=True)\n",
        "y_test_prob_backup = y_test_prob\n",
        "y_test_prob"
      ],
      "metadata": {
        "id": "rRPswrrkmhp2",
        "colab": {
          "base_uri": "https://localhost:8080/"
        },
        "outputId": "a4ac0cee-f29e-4208-f85b-e937a1a9a404"
      },
      "execution_count": 40,
      "outputs": [
        {
          "output_type": "execute_result",
          "data": {
            "text/plain": [
              "array([[5.874392 ],\n",
              "       [5.0463295],\n",
              "       [2.836287 ],\n",
              "       ...,\n",
              "       [5.9730034],\n",
              "       [5.7739506],\n",
              "       [1.0525362]], dtype=float32)"
            ]
          },
          "metadata": {},
          "execution_count": 40
        }
      ]
    },
    {
      "cell_type": "code",
      "source": [
        "plt.figure(figsize=(10,10))\n",
        "plt.hist(y_test_prob_backup)"
      ],
      "metadata": {
        "id": "qsgK5XvWjrAP",
        "colab": {
          "base_uri": "https://localhost:8080/",
          "height": 700
        },
        "outputId": "1afe59fb-e8a8-4d0d-8939-ef2d236a2bf5"
      },
      "execution_count": 41,
      "outputs": [
        {
          "output_type": "execute_result",
          "data": {
            "text/plain": [
              "(array([1862., 1795., 1270., 1039., 1513., 1534., 1338.,  993., 1722.,\n",
              "        1934.]),\n",
              " array([-0.10108113,  0.63549614,  1.3720734 ,  2.1086507 ,  2.845228  ,\n",
              "         3.5818052 ,  4.3183827 ,  5.05496   ,  5.7915373 ,  6.5281143 ,\n",
              "         7.264692  ], dtype=float32),\n",
              " <a list of 10 Patch objects>)"
            ]
          },
          "metadata": {},
          "execution_count": 41
        },
        {
          "output_type": "display_data",
          "data": {
            "text/plain": [
              "<Figure size 720x720 with 1 Axes>"
            ],
            "image/png": "[encoded data removed]"
          },
          "metadata": {
            "needs_background": "light"
          }
        }
      ]
    },
    {
      "cell_type": "code",
      "source": [
        "y_test_prob_backup[:10]"
      ],
      "metadata": {
        "id": "M6Xj4ugPx610",
        "colab": {
          "base_uri": "https://localhost:8080/"
        },
        "outputId": "a7407212-c070-4e26-8da7-d2cc0aa7ea90"
      },
      "execution_count": 42,
      "outputs": [
        {
          "output_type": "execute_result",
          "data": {
            "text/plain": [
              "array([[5.874392  ],\n",
              "       [5.0463295 ],\n",
              "       [2.836287  ],\n",
              "       [4.9929733 ],\n",
              "       [6.9511456 ],\n",
              "       [1.089067  ],\n",
              "       [2.9104958 ],\n",
              "       [5.9014015 ],\n",
              "       [0.03718281],\n",
              "       [4.021162  ]], dtype=float32)"
            ]
          },
          "metadata": {},
          "execution_count": 42
        }
      ]
    },
    {
      "cell_type": "code",
      "execution_count": 43,
      "metadata": {
        "id": "8DoJy_p9dPzN"
      },
      "outputs": [],
      "source": [
        "from sklearn.metrics import multilabel_confusion_matrix"
      ]
    },
    {
      "cell_type": "code",
      "source": [
        "y_test"
      ],
      "metadata": {
        "id": "n1Us2yrfcGl-",
        "colab": {
          "base_uri": "https://localhost:8080/"
        },
        "outputId": "8030e66f-c273-46f2-bbb9-e40d2c62816f"
      },
      "execution_count": 44,
      "outputs": [
        {
          "output_type": "execute_result",
          "data": {
            "text/plain": [
              "array([6, 5, 3, ..., 6, 6, 1])"
            ]
          },
          "metadata": {},
          "execution_count": 44
        }
      ]
    },
    {
      "cell_type": "code",
      "source": [
        "y_test.shape"
      ],
      "metadata": {
        "id": "VnmvTcvWbxr9",
        "colab": {
          "base_uri": "https://localhost:8080/"
        },
        "outputId": "3c9fda69-db08-42b4-966f-a27238534330"
      },
      "execution_count": 45,
      "outputs": [
        {
          "output_type": "execute_result",
          "data": {
            "text/plain": [
              "(15000,)"
            ]
          },
          "metadata": {},
          "execution_count": 45
        }
      ]
    },
    {
      "cell_type": "code",
      "source": [
        "y_test_prob"
      ],
      "metadata": {
        "id": "fLgDwAIfiyv2",
        "colab": {
          "base_uri": "https://localhost:8080/"
        },
        "outputId": "2df4f4a2-e4d8-4572-a0bf-2cc52cb0af80"
      },
      "execution_count": 46,
      "outputs": [
        {
          "output_type": "execute_result",
          "data": {
            "text/plain": [
              "array([[5.874392 ],\n",
              "       [5.0463295],\n",
              "       [2.836287 ],\n",
              "       ...,\n",
              "       [5.9730034],\n",
              "       [5.7739506],\n",
              "       [1.0525362]], dtype=float32)"
            ]
          },
          "metadata": {},
          "execution_count": 46
        }
      ]
    },
    {
      "cell_type": "code",
      "source": [
        "y_test_pred = np.reshape(y_test_prob, -1)"
      ],
      "metadata": {
        "id": "ISi7-hg2gI7f"
      },
      "execution_count": 47,
      "outputs": []
    },
    {
      "cell_type": "code",
      "source": [
        "y_test_pred"
      ],
      "metadata": {
        "id": "lsLE4-aGiT6A",
        "colab": {
          "base_uri": "https://localhost:8080/"
        },
        "outputId": "52d0ed60-a02d-449e-8894-0937d282c647"
      },
      "execution_count": 48,
      "outputs": [
        {
          "output_type": "execute_result",
          "data": {
            "text/plain": [
              "array([5.874392 , 5.0463295, 2.836287 , ..., 5.9730034, 5.7739506,\n",
              "       1.0525362], dtype=float32)"
            ]
          },
          "metadata": {},
          "execution_count": 48
        }
      ]
    },
    {
      "cell_type": "code",
      "source": [
        "y_test_pred_int = np.round(y_test_pred)\n",
        "print(y_test_pred_int)\n",
        "y_test_pred_int = y_test_pred_int.astype(int)"
      ],
      "metadata": {
        "id": "jiZwDk3pvcVw",
        "colab": {
          "base_uri": "https://localhost:8080/"
        },
        "outputId": "d0fabd6a-b2ac-432d-da19-3372f233aaff"
      },
      "execution_count": 49,
      "outputs": [
        {
          "output_type": "stream",
          "name": "stdout",
          "text": [
            "[6. 5. 3. ... 6. 6. 1.]\n"
          ]
        }
      ]
    },
    {
      "cell_type": "code",
      "source": [
        "y_test_pred_int"
      ],
      "metadata": {
        "id": "VTPEZkizvo1c",
        "colab": {
          "base_uri": "https://localhost:8080/"
        },
        "outputId": "1ff381f4-f32c-4fce-a2bd-555189a3ae42"
      },
      "execution_count": 50,
      "outputs": [
        {
          "output_type": "execute_result",
          "data": {
            "text/plain": [
              "array([6, 5, 3, ..., 6, 6, 1])"
            ]
          },
          "metadata": {},
          "execution_count": 50
        }
      ]
    },
    {
      "cell_type": "code",
      "execution_count": 51,
      "metadata": {
        "id": "fTCsPjW8dQaZ"
      },
      "outputs": [],
      "source": [
        "cfm=confusion_matrix(y_test, y_test_pred_int)"
      ]
    },
    {
      "cell_type": "code",
      "source": [
        "cfm"
      ],
      "metadata": {
        "id": "_67lPg6ic4cH",
        "colab": {
          "base_uri": "https://localhost:8080/"
        },
        "outputId": "446c8dc7-cc7c-4259-f04f-ce527937a911"
      },
      "execution_count": 52,
      "outputs": [
        {
          "output_type": "execute_result",
          "data": {
            "text/plain": [
              "array([[1856,    5,    0,    1,    1,    0,    0,    2],\n",
              "       [   5, 1773,  101,    2,    1,    0,    0,    1],\n",
              "       [   0,  135, 1580,  127,    8,    3,    2,    0],\n",
              "       [   0,    2,   56, 1542,  267,   23,    8,    0],\n",
              "       [   0,    1,    1,  166, 1499,  172,    7,    0],\n",
              "       [   0,    0,    0,    5,   93, 1638,  118,    0],\n",
              "       [   0,    0,    2,    5,    7,   67, 1771,   34],\n",
              "       [   0,    0,    0,    0,    0,    0,   10, 1903]])"
            ]
          },
          "metadata": {},
          "execution_count": 52
        }
      ]
    },
    {
      "cell_type": "code",
      "source": [
        " print(classification_report(y_test,y_test_pred_int))"
      ],
      "metadata": {
        "id": "XTqR_xnwRWCJ",
        "colab": {
          "base_uri": "https://localhost:8080/"
        },
        "outputId": "46a36a8b-b817-49dd-9916-97a5f8329d86"
      },
      "execution_count": 53,
      "outputs": [
        {
          "output_type": "stream",
          "name": "stdout",
          "text": [
            "              precision    recall  f1-score   support\n",
            "\n",
            "           0       1.00      1.00      1.00      1865\n",
            "           1       0.93      0.94      0.93      1883\n",
            "           2       0.91      0.85      0.88      1855\n",
            "           3       0.83      0.81      0.82      1898\n",
            "           4       0.80      0.81      0.81      1846\n",
            "           5       0.86      0.88      0.87      1854\n",
            "           6       0.92      0.94      0.93      1886\n",
            "           7       0.98      0.99      0.99      1913\n",
            "\n",
            "    accuracy                           0.90     15000\n",
            "   macro avg       0.90      0.90      0.90     15000\n",
            "weighted avg       0.90      0.90      0.90     15000\n",
            "\n"
          ]
        }
      ]
    },
    {
      "cell_type": "code",
      "source": [
        "plt.plot(y_test_pred, y_test, 'o')\n",
        "#plt.title('')\n",
        "plt.ylabel('y_test')\n",
        "plt.xlabel('y_test_pred')\n",
        "plt.show()"
      ],
      "metadata": {
        "id": "l5sCwqd8ZdyS",
        "colab": {
          "base_uri": "https://localhost:8080/",
          "height": 282
        },
        "outputId": "d89b0b8f-cb9c-483b-f9f4-9c171b5ff531"
      },
      "execution_count": 54,
      "outputs": [
        {
          "output_type": "display_data",
          "data": {
            "text/plain": [
              "<Figure size 432x288 with 1 Axes>"
            ],
            "image/png": "[encoded data removed]"
          },
          "metadata": {
            "needs_background": "light"
          }
        }
      ]
    },
    {
      "cell_type": "code",
      "source": [
        "plt.plot(y_test_pred_int, y_test, 'o')\n",
        "#plt.title('')\n",
        "plt.ylabel('y_test')\n",
        "plt.xlabel('y_test_pred_int')\n",
        "plt.show()"
      ],
      "metadata": {
        "id": "Fug6j8EeXP5G",
        "colab": {
          "base_uri": "https://localhost:8080/",
          "height": 282
        },
        "outputId": "2cddde74-b11b-4d03-e9c3-c2cd206c6bb6"
      },
      "execution_count": 55,
      "outputs": [
        {
          "output_type": "display_data",
          "data": {
            "text/plain": [
              "<Figure size 432x288 with 1 Axes>"
            ],
            "image/png": "[encoded data removed]"
          },
          "metadata": {
            "needs_background": "light"
          }
        }
      ]
    },
    {
      "cell_type": "code",
      "execution_count": 56,
      "metadata": {
        "id": "fhdLAhgPUnH3"
      },
      "outputs": [],
      "source": [
        "def plot_learningCurve(history, epoch):\n",
        "  # Plot training & validation accuracy values\n",
        "  epoch_range = range(1, epoch+1)\n",
        "  plt.plot(epoch_range, history.history['accuracy'])\n",
        "  plt.plot(epoch_range, history.history['val_accuracy'])\n",
        "  plt.title('Model accuracy')\n",
        "  plt.ylabel('Accuracy')\n",
        "  plt.xlabel('Epoch')\n",
        "  plt.legend(['Train', 'Val'], loc='upper left')\n",
        "  plt.show()\n",
        "\n",
        "  # Plot training & validation loss values\n",
        "  plt.plot(epoch_range, history.history['loss'])\n",
        "  plt.plot(epoch_range, history.history['val_loss'])\n",
        "  plt.title('Model loss')\n",
        "  plt.ylabel('Loss')\n",
        "  plt.xlabel('Epoch')\n",
        "  plt.legend(['Train', 'Val'], loc='upper left')\n",
        "  plt.show()"
      ]
    },
    {
      "cell_type": "code",
      "execution_count": 58,
      "metadata": {
        "id": "WlkQkWHgU5mL",
        "colab": {
          "base_uri": "https://localhost:8080/",
          "height": 581
        },
        "outputId": "e7036f24-55e1-49f7-f62c-6fdc75090253"
      },
      "outputs": [
        {
          "output_type": "display_data",
          "data": {
            "text/plain": [
              "<Figure size 432x288 with 1 Axes>"
            ],
            "image/png": "[encoded data removed]"
          },
          "metadata": {
            "needs_background": "light"
          }
        },
        {
          "output_type": "display_data",
          "data": {
            "text/plain": [
              "<Figure size 432x288 with 1 Axes>"
            ],
            "image/png": "[encoded data removed]"
          },
          "metadata": {
            "needs_background": "light"
          }
        }
      ],
      "source": [
        "plot_learningCurve(history, 250)"
      ]
    },
    {
      "cell_type": "code",
      "source": [
        "import numpy as np\n",
        "import matplotlib.pyplot as plt\n",
        "\n",
        "from sklearn import svm, datasets\n",
        "from sklearn.model_selection import train_test_split\n",
        "from sklearn.metrics import confusion_matrix\n",
        "from sklearn.utils.multiclass import unique_labels\n",
        "\n",
        "class_names = np.array(['0', '6', '10', '15', '20', '25', '30', '35'])\n",
        "\n",
        "def plot_confusion_matrix(y_true, y_pred, classes,\n",
        "                          normalize=False,\n",
        "                          title=None,\n",
        "                          cmap=plt.cm.Blues):\n",
        "    \"\"\"\n",
        "    This function prints and plots the confusion matrix.\n",
        "    Normalization can be applied by setting `normalize=True`.\n",
        "    \"\"\"\n",
        "    if not title:\n",
        "        if normalize:\n",
        "            title = 'Normalized confusion matrix'\n",
        "        else:\n",
        "            title = 'Confusion matrix, without normalization'\n",
        "\n",
        "    # Compute confusion matrix\n",
        "    cm = confusion_matrix(y_true, y_pred)\n",
        "    # Only use the labels that appear in the data\n",
        "    classes = classes[unique_labels(y_true, y_pred)]\n",
        "    if normalize:\n",
        "        cm = cm.astype('float') / cm.sum(axis=1)[:, np.newaxis]\n",
        "        print(\"Normalized confusion matrix\")\n",
        "    else:\n",
        "        print('Confusion matrix, without normalization')\n",
        "\n",
        "    print(cm)\n",
        "\n",
        "    fig, ax = plt.subplots()\n",
        "    im = ax.imshow(cm, interpolation='nearest', cmap=cmap)\n",
        "    ax.figure.colorbar(im, ax=ax)\n",
        "    # We want to show all ticks...\n",
        "    ax.set(xticks=np.arange(cm.shape[1]),\n",
        "           yticks=np.arange(cm.shape[0]),\n",
        "           # ... and label them with the respective list entries\n",
        "           xticklabels=classes, yticklabels=classes,\n",
        "           title=title,\n",
        "           ylabel='True label',\n",
        "           xlabel='Predicted label')\n",
        "\n",
        "    # Rotate the tick labels and set their alignment.\n",
        "    plt.setp(ax.get_xticklabels(), rotation=45, ha=\"right\",\n",
        "             rotation_mode=\"anchor\")\n",
        "\n",
        "    # Loop over data dimensions and create text annotations.\n",
        "    fmt = '.2f' if normalize else 'd'\n",
        "    thresh = cm.max() / 2.\n",
        "    for i in range(cm.shape[0]):\n",
        "        for j in range(cm.shape[1]):\n",
        "            ax.text(j, i, format(cm[i, j], fmt),\n",
        "                    ha=\"center\", va=\"center\",\n",
        "                    color=\"white\" if cm[i, j] > thresh else \"black\")\n",
        "    fig.tight_layout()\n",
        "\n",
        "    return ax\n",
        "\n",
        "\n",
        "np.set_printoptions(precision=2)\n",
        "\n",
        "# Plot non-normalized confusion matrix\n",
        "plot_confusion_matrix(y_test, y_test_pred_int, classes=class_names,\n",
        "                      title='Confusion matrix, without normalization')\n",
        "\n",
        "# Plot normalized confusion matrix\n",
        "plot_confusion_matrix(y_test, y_test_pred_int, classes=class_names, normalize=True,\n",
        "                      title='Normalized confusion matrix')\n",
        "\n",
        "plt.show()"
      ],
      "metadata": {
        "id": "H_QpRmAjwxbM",
        "colab": {
          "base_uri": "https://localhost:8080/",
          "height": 900
        },
        "outputId": "9130dcbb-17b0-49c5-950f-2d08a969b264"
      },
      "execution_count": 59,
      "outputs": [
        {
          "output_type": "stream",
          "name": "stdout",
          "text": [
            "Confusion matrix, without normalization\n",
            "[[1856    5    0    1    1    0    0    2]\n",
            " [   5 1773  101    2    1    0    0    1]\n",
            " [   0  135 1580  127    8    3    2    0]\n",
            " [   0    2   56 1542  267   23    8    0]\n",
            " [   0    1    1  166 1499  172    7    0]\n",
            " [   0    0    0    5   93 1638  118    0]\n",
            " [   0    0    2    5    7   67 1771   34]\n",
            " [   0    0    0    0    0    0   10 1903]]\n",
            "Normalized confusion matrix\n",
            "[[1.   0.   0.   0.   0.   0.   0.   0.  ]\n",
            " [0.   0.94 0.05 0.   0.   0.   0.   0.  ]\n",
            " [0.   0.07 0.85 0.07 0.   0.   0.   0.  ]\n",
            " [0.   0.   0.03 0.81 0.14 0.01 0.   0.  ]\n",
            " [0.   0.   0.   0.09 0.81 0.09 0.   0.  ]\n",
            " [0.   0.   0.   0.   0.05 0.88 0.06 0.  ]\n",
            " [0.   0.   0.   0.   0.   0.04 0.94 0.02]\n",
            " [0.   0.   0.   0.   0.   0.   0.01 0.99]]\n"
          ]
        },
        {
          "output_type": "display_data",
          "data": {
            "text/plain": [
              "<Figure size 432x288 with 2 Axes>"
            ],
            "image/png": "[encoded data removed]"
          },
          "metadata": {
            "needs_background": "light"
          }
        },
        {
          "output_type": "display_data",
          "data": {
            "text/plain": [
              "<Figure size 432x288 with 2 Axes>"
            ],
            "image/png": "[encoded data removed]"
          },
          "metadata": {
            "needs_background": "light"
          }
        }
      ]
    }
  ],
  "metadata": {
    "colab": {
      "collapsed_sections": [
        "f857kfHqUk0-"
      ],
      "name": "Regresion_Multi_Class_MD_LSTM_step_200_files_120.ipynb",
      "provenance": [],
      "include_colab_link": true
    },
    "kernelspec": {
      "display_name": "Python 3",
      "name": "python3"
    },
    "language_info": {
      "name": "python"
    },
    "accelerator": "GPU"
  },
  "nbformat": 4,
  "nbformat_minor": 0
}