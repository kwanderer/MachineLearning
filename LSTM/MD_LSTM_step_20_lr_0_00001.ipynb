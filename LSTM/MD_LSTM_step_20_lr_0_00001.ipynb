{
  "cells": [
    {
      "cell_type": "markdown",
      "metadata": {
        "id": "view-in-github",
        "colab_type": "text"
      },
      "source": [
        "<a href=\"https://colab.research.google.com/github/kwanderer/MachineLearning/blob/main/MD_LSTM_step_20_lr_0_00001.ipynb\" target=\"_parent\"><img src=\"https://colab.research.google.com/assets/colab-badge.svg\" alt=\"Open In Colab\"/></a>"
      ]
    },
    {
      "cell_type": "markdown",
      "metadata": {
        "id": "f857kfHqUk0-"
      },
      "source": [
        "\n",
        "\n",
        "#Datu kopa"
      ]
    },
    {
      "cell_type": "markdown",
      "metadata": {
        "id": "nM9WE3QGUwVi"
      },
      "source": [
        "Datu kopas avots: https://www.kaggle.com/uysalserkan/fault-induction-motor-dataset"
      ]
    },
    {
      "cell_type": "markdown",
      "metadata": {
        "id": "_sN_h3qHHy6r"
      },
      "source": [
        "Darbā tiek izmantota indukcijas motora parametru datu bāze. Izmantotajā datu kopā ir dati, kas tika iegūti SpectraQuest aparatūras kļūdu simulatorā (Machinery Fault Simulator).\n",
        "\n",
        "Katra mērījumu secība tika ģenerēta ar frekvenci 50 kHz 5 sekunžu laikā, kopā 250 000 mērījumi.\n",
        "\n",
        "Dati ir apkopoti vairākos failos, dažādos darbības stāvokļos un to apjoms ir ļoti liels. Šajā darbā tika izmantota daļa(viena mērījumu secība) no motora normālas darbības datiem.\n"
      ]
    },
    {
      "cell_type": "markdown",
      "metadata": {
        "id": "KtFAOaHYHLPo"
      },
      "source": [
        "Dati ir apkopoti tabulā, kura satur 8 parametrus. Dati ir iedalīti sekojošās kolonas:\n",
        "\n",
        "**tachometer** – tahometra signāls, kas ļauj novērtēt rotācijas frekvenci\n",
        "\n",
        "**und-accelerometer-axial** - apakšā esošā gultņa akselerometrs (aksiālais virziens)\n",
        "\n",
        "**und-accelerometer-radial** – apakšā esošā gultņa akselerometrs (radiālais virziens)\n",
        "\n",
        "**und-accelerometer-tangential** - apakšā esošā gultņa akselerometrs (tangenciālais virziens)\n",
        "\n",
        "**over-accelerometer-axial** - pārkares gultņa akselerometrs (aksiālais virziens)\n",
        "\n",
        "**over-accelerometer-radial** – pārkares gultņa akselerometrs (radiālais  virziens)\n",
        "\n",
        "**over-accelerometer-tangential**  - pārkares gultņa akselerometrs (tangenciālais virziens)\n",
        "\n",
        "**microphone** – mikrofona vērtība\n"
      ]
    },
    {
      "cell_type": "markdown",
      "metadata": {
        "id": "XymoNLKMVFUC"
      },
      "source": [
        "#Datu ielasīšana un satura vizualizācija"
      ]
    },
    {
      "cell_type": "code",
      "execution_count": 93,
      "metadata": {
        "id": "_yqYZDeOFq5s"
      },
      "outputs": [],
      "source": [
        "import keras\n",
        "from keras.layers import LSTM, Dropout, Dense\n",
        "import tensorflow as tf\n",
        "import numpy as np\n",
        "import pandas as pd\n",
        "\n",
        "from sklearn import linear_model  #pip install sklearn - loti plasa masinapmacibas biblioteka\n",
        "from sklearn.linear_model import LinearRegression  \n",
        "import csv          #pip install csv - darbam ar CSV datu kopam\n",
        "import requests     #pip install requests  - vienkarsakam darbam ar tiessaistes CSV datu kopam tiessaistes\n",
        "\n",
        "import matplotlib\n",
        "import matplotlib.pyplot as plt\n",
        "\n",
        "import glob\n"
      ]
    },
    {
      "cell_type": "code",
      "execution_count": 94,
      "metadata": {
        "id": "wlRTBbM2eUcV",
        "colab": {
          "base_uri": "https://localhost:8080/"
        },
        "outputId": "af712291-339d-4fbb-da1e-a3c5e78a9f59"
      },
      "outputs": [
        {
          "output_type": "stream",
          "name": "stdout",
          "text": [
            "Drive already mounted at /content/gdrive; to attempt to forcibly remount, call drive.mount(\"/content/gdrive\", force_remount=True).\n"
          ]
        }
      ],
      "source": [
        "from google.colab import drive\n",
        "import os\n",
        "drive.mount('/content/gdrive')\n",
        "os.chdir(\"/content/gdrive/MyDrive/Colab Notebooks/data/motor/\")"
      ]
    },
    {
      "cell_type": "code",
      "execution_count": 95,
      "metadata": {
        "id": "zzz6fBl_SNom"
      },
      "outputs": [],
      "source": [
        "#extension = 'csv'\n",
        "#all_filenames = [i for i in glob.glob('*.{}'.format(extension))]"
      ]
    },
    {
      "cell_type": "code",
      "execution_count": 96,
      "metadata": {
        "id": "vagKFCkToBi0"
      },
      "outputs": [],
      "source": [
        "#combine all files in the list\n",
        "#combined_csv = pd.concat([pd.read_csv(f) for f in all_filenames ])\n",
        "#export to csv\n",
        "#combined_csv.to_csv( \"combined_csv.csv\", index=False, encoding='utf-8-sig')"
      ]
    },
    {
      "cell_type": "code",
      "execution_count": 97,
      "metadata": {
        "id": "encEkbDhSfGI"
      },
      "outputs": [],
      "source": [
        "data = pd.read_csv(\"combined_csv.csv\")"
      ]
    },
    {
      "cell_type": "code",
      "execution_count": 98,
      "metadata": {
        "id": "yz5Qe8ZWk1Zq",
        "colab": {
          "base_uri": "https://localhost:8080/"
        },
        "outputId": "e43329a9-1ab7-4425-c1fe-5660cb318381"
      },
      "outputs": [
        {
          "output_type": "stream",
          "name": "stdout",
          "text": [
            "<class 'pandas.core.frame.DataFrame'>\n",
            "RangeIndex: 500000 entries, 0 to 499999\n",
            "Data columns (total 9 columns):\n",
            " #   Column                         Non-Null Count   Dtype  \n",
            "---  ------                         --------------   -----  \n",
            " 0   tachometer                     500000 non-null  float64\n",
            " 1   und-accelerometer-axial        500000 non-null  float64\n",
            " 2   und-accelerometer-radial       500000 non-null  float64\n",
            " 3   und-accelerometer-tangential   500000 non-null  float64\n",
            " 4   over-accelerometer-axial       500000 non-null  float64\n",
            " 5   over-accelerometer-radial      500000 non-null  float64\n",
            " 6   over-accelerometer-tangential  500000 non-null  float64\n",
            " 7   microphone                     500000 non-null  float64\n",
            " 8   Class                          500000 non-null  int64  \n",
            "dtypes: float64(8), int64(1)\n",
            "memory usage: 34.3 MB\n"
          ]
        }
      ],
      "source": [
        "data.info()"
      ]
    },
    {
      "cell_type": "code",
      "execution_count": 99,
      "metadata": {
        "id": "WUW9ezX6a_st",
        "colab": {
          "base_uri": "https://localhost:8080/"
        },
        "outputId": "563a5eea-7184-4d9e-9e30-ffd985d23659"
      },
      "outputs": [
        {
          "output_type": "execute_result",
          "data": {
            "text/plain": [
              "500000"
            ]
          },
          "metadata": {},
          "execution_count": 99
        }
      ],
      "source": [
        "rec_count = len(data)\n",
        "rec_count"
      ]
    },
    {
      "cell_type": "markdown",
      "source": [
        "# Datu dalīšana mazākos gabalos"
      ],
      "metadata": {
        "id": "6RVC1PZy88fC"
      }
    },
    {
      "cell_type": "code",
      "execution_count": 100,
      "metadata": {
        "id": "DOvnCYkcbGaE"
      },
      "outputs": [],
      "source": [
        "sequence_length = 200"
      ]
    },
    {
      "cell_type": "code",
      "execution_count": 101,
      "metadata": {
        "id": "RG0o2L3zbTEx"
      },
      "outputs": [],
      "source": [
        "def generate_data(X, y, sequence_length = 200, step = 20):\n",
        "    X_local = []\n",
        "    y_local = []\n",
        "    for start in range(0, len(data) - sequence_length, step):\n",
        "        end = start + sequence_length\n",
        "        X_local.append(X[start:end])\n",
        "        y_local.append(y[end-1])\n",
        "    return np.array(X_local), np.array(y_local)\n",
        "\n",
        "X_sequence, y = generate_data(data.loc[:, \"tachometer\":\"microphone\"].values, data.Class)"
      ]
    },
    {
      "cell_type": "code",
      "execution_count": 102,
      "metadata": {
        "id": "s0QxwK66cLVF",
        "colab": {
          "base_uri": "https://localhost:8080/"
        },
        "outputId": "f750ecfe-a99a-4968-ad1f-6e40a220a1db"
      },
      "outputs": [
        {
          "output_type": "execute_result",
          "data": {
            "text/plain": [
              "((24990, 200, 8), (24990,))"
            ]
          },
          "metadata": {},
          "execution_count": 102
        }
      ],
      "source": [
        "X_sequence.shape, y.shape"
      ]
    },
    {
      "cell_type": "markdown",
      "source": [
        "# Random/Shuffle"
      ],
      "metadata": {
        "id": "5BXSDoHa9UX_"
      }
    },
    {
      "cell_type": "code",
      "source": [
        "shuffler = np.random.permutation(len(X_sequence))\n",
        "X_sequence_shuffled = X_sequence[shuffler]\n",
        "y_shuffled = y[shuffler]"
      ],
      "metadata": {
        "id": "ZcfE9idy-ckb"
      },
      "execution_count": 103,
      "outputs": []
    },
    {
      "cell_type": "markdown",
      "source": [
        "# LSTM"
      ],
      "metadata": {
        "id": "TfhRTTNcE2s8"
      }
    },
    {
      "cell_type": "code",
      "execution_count": 104,
      "metadata": {
        "id": "PjKWKiA6aH3z",
        "colab": {
          "base_uri": "https://localhost:8080/"
        },
        "outputId": "5f705f7a-bc46-406a-96c0-35da6e31ffa6"
      },
      "outputs": [
        {
          "output_type": "stream",
          "name": "stderr",
          "text": [
            "/usr/local/lib/python3.7/dist-packages/keras/optimizer_v2/gradient_descent.py:102: UserWarning: The `lr` argument is deprecated, use `learning_rate` instead.\n",
            "  super(SGD, self).__init__(name, **kwargs)\n"
          ]
        },
        {
          "output_type": "stream",
          "name": "stdout",
          "text": [
            "Model: \"sequential_4\"\n",
            "_________________________________________________________________\n",
            " Layer (type)                Output Shape              Param #   \n",
            "=================================================================\n",
            " lstm_4 (LSTM)               (None, 100)               43600     \n",
            "                                                                 \n",
            " dropout_4 (Dropout)         (None, 100)               0         \n",
            "                                                                 \n",
            " dense_4 (Dense)             (None, 1)                 101       \n",
            "                                                                 \n",
            "=================================================================\n",
            "Total params: 43,701\n",
            "Trainable params: 43,701\n",
            "Non-trainable params: 0\n",
            "_________________________________________________________________\n"
          ]
        }
      ],
      "source": [
        "from tensorflow.keras import optimizers\n",
        "sgd = optimizers.SGD(lr=0.00001, decay=1e-6, momentum=0.9, nesterov=True)\n",
        "model = keras.Sequential()\n",
        "model.add(LSTM(100, input_shape = (200, 8)))\n",
        "model.add(Dropout(0.5))\n",
        "model.add(Dense(1, activation=\"sigmoid\"))\n",
        "\n",
        "#model.compile(loss='mean_squared_error', optimizer=sgd)\n",
        "model.compile(loss=\"binary_crossentropy\"\n",
        "              , metrics=[keras.metrics.binary_accuracy]\n",
        "              , optimizer=sgd)\n",
        "\n",
        "model.summary()"
      ]
    },
    {
      "cell_type": "code",
      "execution_count": 105,
      "metadata": {
        "id": "tg8wrqsqc8UX"
      },
      "outputs": [],
      "source": [
        "training_size = int(len(X_sequence) * 0.7)"
      ]
    },
    {
      "cell_type": "code",
      "execution_count": 106,
      "metadata": {
        "id": "avIp3TEKc-qF"
      },
      "outputs": [],
      "source": [
        "X_train, y_train = X_sequence_shuffled[:training_size], y_shuffled[:training_size]\n",
        "X_test, y_test = X_sequence_shuffled[training_size:], y_shuffled[training_size:]"
      ]
    },
    {
      "cell_type": "code",
      "execution_count": 107,
      "metadata": {
        "id": "cen4faX0dFJP",
        "colab": {
          "base_uri": "https://localhost:8080/"
        },
        "outputId": "21df5f9d-be94-4d48-8769-5d189145c9f4"
      },
      "outputs": [
        {
          "output_type": "stream",
          "name": "stdout",
          "text": [
            "Epoch 1/50\n",
            "274/274 [==============================] - 63s 224ms/step - loss: 0.7036 - binary_accuracy: 0.4710 - val_loss: 0.6968 - val_binary_accuracy: 0.4523\n",
            "Epoch 2/50\n",
            "274/274 [==============================] - 61s 222ms/step - loss: 0.7013 - binary_accuracy: 0.4757 - val_loss: 0.6932 - val_binary_accuracy: 0.4673\n",
            "Epoch 3/50\n",
            "274/274 [==============================] - 59s 217ms/step - loss: 0.6970 - binary_accuracy: 0.4911 - val_loss: 0.6897 - val_binary_accuracy: 0.4837\n",
            "Epoch 4/50\n",
            "274/274 [==============================] - 59s 215ms/step - loss: 0.6941 - binary_accuracy: 0.5025 - val_loss: 0.6862 - val_binary_accuracy: 0.5058\n",
            "Epoch 5/50\n",
            "274/274 [==============================] - 59s 215ms/step - loss: 0.6899 - binary_accuracy: 0.5180 - val_loss: 0.6828 - val_binary_accuracy: 0.5369\n",
            "Epoch 6/50\n",
            "274/274 [==============================] - 62s 226ms/step - loss: 0.6874 - binary_accuracy: 0.5306 - val_loss: 0.6795 - val_binary_accuracy: 0.5736\n",
            "Epoch 7/50\n",
            "274/274 [==============================] - 63s 230ms/step - loss: 0.6831 - binary_accuracy: 0.5434 - val_loss: 0.6763 - val_binary_accuracy: 0.6108\n",
            "Epoch 8/50\n",
            "274/274 [==============================] - 59s 217ms/step - loss: 0.6790 - binary_accuracy: 0.5646 - val_loss: 0.6731 - val_binary_accuracy: 0.6431\n",
            "Epoch 9/50\n",
            "274/274 [==============================] - 62s 227ms/step - loss: 0.6768 - binary_accuracy: 0.5737 - val_loss: 0.6701 - val_binary_accuracy: 0.6691\n",
            "Epoch 10/50\n",
            "274/274 [==============================] - 61s 224ms/step - loss: 0.6764 - binary_accuracy: 0.5804 - val_loss: 0.6671 - val_binary_accuracy: 0.6932\n",
            "Epoch 11/50\n",
            "274/274 [==============================] - 61s 222ms/step - loss: 0.6711 - binary_accuracy: 0.5982 - val_loss: 0.6641 - val_binary_accuracy: 0.7142\n",
            "Epoch 12/50\n",
            "274/274 [==============================] - 59s 217ms/step - loss: 0.6678 - binary_accuracy: 0.6117 - val_loss: 0.6612 - val_binary_accuracy: 0.7302\n",
            "Epoch 13/50\n",
            "274/274 [==============================] - 59s 217ms/step - loss: 0.6646 - binary_accuracy: 0.6186 - val_loss: 0.6583 - val_binary_accuracy: 0.7492\n",
            "Epoch 14/50\n",
            "274/274 [==============================] - 61s 221ms/step - loss: 0.6611 - binary_accuracy: 0.6340 - val_loss: 0.6555 - val_binary_accuracy: 0.7618\n",
            "Epoch 15/50\n",
            "274/274 [==============================] - 60s 221ms/step - loss: 0.6592 - binary_accuracy: 0.6405 - val_loss: 0.6528 - val_binary_accuracy: 0.7763\n",
            "Epoch 16/50\n",
            "274/274 [==============================] - 62s 226ms/step - loss: 0.6574 - binary_accuracy: 0.6504 - val_loss: 0.6501 - val_binary_accuracy: 0.7898\n",
            "Epoch 17/50\n",
            "274/274 [==============================] - 62s 227ms/step - loss: 0.6546 - binary_accuracy: 0.6623 - val_loss: 0.6474 - val_binary_accuracy: 0.8007\n",
            "Epoch 18/50\n",
            "274/274 [==============================] - 63s 230ms/step - loss: 0.6497 - binary_accuracy: 0.6763 - val_loss: 0.6447 - val_binary_accuracy: 0.8127\n",
            "Epoch 19/50\n",
            "274/274 [==============================] - 60s 220ms/step - loss: 0.6498 - binary_accuracy: 0.6838 - val_loss: 0.6421 - val_binary_accuracy: 0.8203\n",
            "Epoch 20/50\n",
            "274/274 [==============================] - 61s 222ms/step - loss: 0.6464 - binary_accuracy: 0.6874 - val_loss: 0.6395 - val_binary_accuracy: 0.8286\n",
            "Epoch 21/50\n",
            "274/274 [==============================] - 63s 230ms/step - loss: 0.6439 - binary_accuracy: 0.6970 - val_loss: 0.6369 - val_binary_accuracy: 0.8355\n",
            "Epoch 22/50\n",
            "274/274 [==============================] - 64s 234ms/step - loss: 0.6419 - binary_accuracy: 0.7035 - val_loss: 0.6344 - val_binary_accuracy: 0.8397\n",
            "Epoch 23/50\n",
            "274/274 [==============================] - 62s 228ms/step - loss: 0.6380 - binary_accuracy: 0.7173 - val_loss: 0.6319 - val_binary_accuracy: 0.8435\n",
            "Epoch 24/50\n",
            "274/274 [==============================] - 63s 232ms/step - loss: 0.6366 - binary_accuracy: 0.7253 - val_loss: 0.6294 - val_binary_accuracy: 0.8467\n",
            "Epoch 25/50\n",
            "274/274 [==============================] - 62s 228ms/step - loss: 0.6327 - binary_accuracy: 0.7332 - val_loss: 0.6269 - val_binary_accuracy: 0.8495\n",
            "Epoch 26/50\n",
            "274/274 [==============================] - 64s 234ms/step - loss: 0.6317 - binary_accuracy: 0.7346 - val_loss: 0.6244 - val_binary_accuracy: 0.8511\n",
            "Epoch 27/50\n",
            "274/274 [==============================] - 64s 233ms/step - loss: 0.6288 - binary_accuracy: 0.7446 - val_loss: 0.6219 - val_binary_accuracy: 0.8537\n",
            "Epoch 28/50\n",
            "274/274 [==============================] - 62s 226ms/step - loss: 0.6277 - binary_accuracy: 0.7473 - val_loss: 0.6195 - val_binary_accuracy: 0.8569\n",
            "Epoch 29/50\n",
            "274/274 [==============================] - 61s 222ms/step - loss: 0.6248 - binary_accuracy: 0.7536 - val_loss: 0.6171 - val_binary_accuracy: 0.8597\n",
            "Epoch 30/50\n",
            "274/274 [==============================] - 62s 225ms/step - loss: 0.6213 - binary_accuracy: 0.7618 - val_loss: 0.6147 - val_binary_accuracy: 0.8609\n",
            "Epoch 31/50\n",
            "274/274 [==============================] - 62s 227ms/step - loss: 0.6185 - binary_accuracy: 0.7681 - val_loss: 0.6123 - val_binary_accuracy: 0.8638\n",
            "Epoch 32/50\n",
            "274/274 [==============================] - 62s 226ms/step - loss: 0.6161 - binary_accuracy: 0.7739 - val_loss: 0.6099 - val_binary_accuracy: 0.8646\n",
            "Epoch 33/50\n",
            "274/274 [==============================] - 62s 226ms/step - loss: 0.6147 - binary_accuracy: 0.7772 - val_loss: 0.6075 - val_binary_accuracy: 0.8662\n",
            "Epoch 34/50\n",
            "274/274 [==============================] - 62s 225ms/step - loss: 0.6124 - binary_accuracy: 0.7801 - val_loss: 0.6051 - val_binary_accuracy: 0.8677\n",
            "Epoch 35/50\n",
            "274/274 [==============================] - 62s 226ms/step - loss: 0.6094 - binary_accuracy: 0.7804 - val_loss: 0.6027 - val_binary_accuracy: 0.8675\n",
            "Epoch 36/50\n",
            "274/274 [==============================] - 63s 228ms/step - loss: 0.6082 - binary_accuracy: 0.7855 - val_loss: 0.6004 - val_binary_accuracy: 0.8694\n",
            "Epoch 37/50\n",
            "274/274 [==============================] - 63s 229ms/step - loss: 0.6046 - binary_accuracy: 0.7922 - val_loss: 0.5980 - val_binary_accuracy: 0.8687\n",
            "Epoch 38/50\n",
            "274/274 [==============================] - 62s 227ms/step - loss: 0.6016 - binary_accuracy: 0.7976 - val_loss: 0.5957 - val_binary_accuracy: 0.8685\n",
            "Epoch 39/50\n",
            "274/274 [==============================] - 62s 225ms/step - loss: 0.6019 - binary_accuracy: 0.7961 - val_loss: 0.5933 - val_binary_accuracy: 0.8686\n",
            "Epoch 40/50\n",
            "274/274 [==============================] - 62s 226ms/step - loss: 0.5976 - binary_accuracy: 0.8015 - val_loss: 0.5910 - val_binary_accuracy: 0.8691\n",
            "Epoch 41/50\n",
            "274/274 [==============================] - 62s 227ms/step - loss: 0.5947 - binary_accuracy: 0.8017 - val_loss: 0.5886 - val_binary_accuracy: 0.8690\n",
            "Epoch 42/50\n",
            "274/274 [==============================] - 64s 235ms/step - loss: 0.5931 - binary_accuracy: 0.8050 - val_loss: 0.5863 - val_binary_accuracy: 0.8694\n",
            "Epoch 43/50\n",
            "274/274 [==============================] - 61s 223ms/step - loss: 0.5916 - binary_accuracy: 0.8054 - val_loss: 0.5839 - val_binary_accuracy: 0.8693\n",
            "Epoch 44/50\n",
            "274/274 [==============================] - 61s 222ms/step - loss: 0.5881 - binary_accuracy: 0.8132 - val_loss: 0.5816 - val_binary_accuracy: 0.8695\n",
            "Epoch 45/50\n",
            "274/274 [==============================] - 61s 222ms/step - loss: 0.5864 - binary_accuracy: 0.8111 - val_loss: 0.5792 - val_binary_accuracy: 0.8699\n",
            "Epoch 46/50\n",
            "274/274 [==============================] - 60s 218ms/step - loss: 0.5846 - binary_accuracy: 0.8152 - val_loss: 0.5769 - val_binary_accuracy: 0.8706\n",
            "Epoch 47/50\n",
            "274/274 [==============================] - 60s 220ms/step - loss: 0.5819 - binary_accuracy: 0.8148 - val_loss: 0.5745 - val_binary_accuracy: 0.8707\n",
            "Epoch 48/50\n",
            "274/274 [==============================] - 60s 219ms/step - loss: 0.5795 - binary_accuracy: 0.8163 - val_loss: 0.5722 - val_binary_accuracy: 0.8706\n",
            "Epoch 49/50\n",
            "274/274 [==============================] - 60s 218ms/step - loss: 0.5761 - binary_accuracy: 0.8225 - val_loss: 0.5698 - val_binary_accuracy: 0.8709\n",
            "Epoch 50/50\n",
            "274/274 [==============================] - 60s 219ms/step - loss: 0.5754 - binary_accuracy: 0.8166 - val_loss: 0.5675 - val_binary_accuracy: 0.8705\n"
          ]
        }
      ],
      "source": [
        "history = model.fit(X_train, y_train, batch_size=64, epochs=50, validation_data=(X_test, y_test))"
      ]
    },
    {
      "cell_type": "code",
      "execution_count": 108,
      "metadata": {
        "id": "R7QQeqVidKBR",
        "colab": {
          "base_uri": "https://localhost:8080/"
        },
        "outputId": "859b7b24-1395-4db0-b4f2-d9f243d06d27"
      },
      "outputs": [
        {
          "output_type": "stream",
          "name": "stdout",
          "text": [
            "235/235 [==============================] - 10s 43ms/step - loss: 0.5675 - binary_accuracy: 0.8705\n"
          ]
        },
        {
          "output_type": "execute_result",
          "data": {
            "text/plain": [
              "[0.5674782991409302, 0.870481550693512]"
            ]
          },
          "metadata": {},
          "execution_count": 108
        }
      ],
      "source": [
        "model.evaluate(X_test, y_test)"
      ]
    },
    {
      "cell_type": "code",
      "execution_count": 109,
      "metadata": {
        "id": "OHpifyqGdKn-",
        "colab": {
          "base_uri": "https://localhost:8080/"
        },
        "outputId": "cecfc35b-d4f2-4a06-be11-7fd21edfb887"
      },
      "outputs": [
        {
          "output_type": "stream",
          "name": "stdout",
          "text": [
            "235/235 [==============================] - 10s 42ms/step\n"
          ]
        }
      ],
      "source": [
        "y_test_prob = model.predict(X_test, verbose=1)"
      ]
    },
    {
      "cell_type": "code",
      "execution_count": 110,
      "metadata": {
        "id": "AfmdrBILdMwj"
      },
      "outputs": [],
      "source": [
        "y_test_pred = np.where(y_test_prob > 0.5, 1, 0)"
      ]
    },
    {
      "cell_type": "code",
      "execution_count": 111,
      "metadata": {
        "id": "8DoJy_p9dPzN"
      },
      "outputs": [],
      "source": [
        "from sklearn.metrics import confusion_matrix"
      ]
    },
    {
      "cell_type": "code",
      "execution_count": 112,
      "metadata": {
        "id": "fTCsPjW8dQaZ",
        "colab": {
          "base_uri": "https://localhost:8080/"
        },
        "outputId": "5ab1c796-54e0-4bad-dce4-c61b2a4fbd9e"
      },
      "outputs": [
        {
          "output_type": "execute_result",
          "data": {
            "text/plain": [
              "array([[3597,  121],\n",
              "       [ 850, 2929]])"
            ]
          },
          "metadata": {},
          "execution_count": 112
        }
      ],
      "source": [
        "confusion_matrix(y_test, y_test_pred)"
      ]
    },
    {
      "cell_type": "code",
      "execution_count": 113,
      "metadata": {
        "id": "te3fslrY9Eca",
        "colab": {
          "base_uri": "https://localhost:8080/",
          "height": 685
        },
        "outputId": "e4faae03-0982-4e60-a6c1-65795e97c348"
      },
      "outputs": [
        {
          "output_type": "stream",
          "name": "stdout",
          "text": [
            "Confusion matrix, without normalization\n",
            "[[3597  121]\n",
            " [ 850 2929]]\n",
            "Normalized confusion matrix\n",
            "[[0.97 0.03]\n",
            " [0.22 0.78]]\n"
          ]
        },
        {
          "output_type": "display_data",
          "data": {
            "text/plain": [
              "<Figure size 432x288 with 2 Axes>"
            ],
            "image/png": "[encoded data removed]"
          },
          "metadata": {
            "needs_background": "light"
          }
        },
        {
          "output_type": "display_data",
          "data": {
            "text/plain": [
              "<Figure size 432x288 with 2 Axes>"
            ],
            "image/png": "[encoded data removed]"
          },
          "metadata": {
            "needs_background": "light"
          }
        }
      ],
      "source": [
        "import numpy as np\n",
        "import matplotlib.pyplot as plt\n",
        "\n",
        "from sklearn import svm, datasets\n",
        "from sklearn.model_selection import train_test_split\n",
        "from sklearn.metrics import confusion_matrix\n",
        "from sklearn.utils.multiclass import unique_labels\n",
        "\n",
        "class_names = np.array(['0', '1'])\n",
        "\n",
        "def plot_confusion_matrix(y_true, y_pred, classes,\n",
        "                          normalize=False,\n",
        "                          title=None,\n",
        "                          cmap=plt.cm.Blues):\n",
        "    \"\"\"\n",
        "    This function prints and plots the confusion matrix.\n",
        "    Normalization can be applied by setting `normalize=True`.\n",
        "    \"\"\"\n",
        "    if not title:\n",
        "        if normalize:\n",
        "            title = 'Normalized confusion matrix'\n",
        "        else:\n",
        "            title = 'Confusion matrix, without normalization'\n",
        "\n",
        "    # Compute confusion matrix\n",
        "    cm = confusion_matrix(y_true, y_pred)\n",
        "    # Only use the labels that appear in the data\n",
        "    classes = classes[unique_labels(y_true, y_pred)]\n",
        "    if normalize:\n",
        "        cm = cm.astype('float') / cm.sum(axis=1)[:, np.newaxis]\n",
        "        print(\"Normalized confusion matrix\")\n",
        "    else:\n",
        "        print('Confusion matrix, without normalization')\n",
        "\n",
        "    print(cm)\n",
        "\n",
        "    fig, ax = plt.subplots()\n",
        "    im = ax.imshow(cm, interpolation='nearest', cmap=cmap)\n",
        "    ax.figure.colorbar(im, ax=ax)\n",
        "    # We want to show all ticks...\n",
        "    ax.set(xticks=np.arange(cm.shape[1]),\n",
        "           yticks=np.arange(cm.shape[0]),\n",
        "           # ... and label them with the respective list entries\n",
        "           xticklabels=classes, yticklabels=classes,\n",
        "           title=title,\n",
        "           ylabel='True label',\n",
        "           xlabel='Predicted label')\n",
        "\n",
        "    # Rotate the tick labels and set their alignment.\n",
        "    plt.setp(ax.get_xticklabels(), rotation=45, ha=\"right\",\n",
        "             rotation_mode=\"anchor\")\n",
        "\n",
        "    # Loop over data dimensions and create text annotations.\n",
        "    fmt = '.2f' if normalize else 'd'\n",
        "    thresh = cm.max() / 2.\n",
        "    for i in range(cm.shape[0]):\n",
        "        for j in range(cm.shape[1]):\n",
        "            ax.text(j, i, format(cm[i, j], fmt),\n",
        "                    ha=\"center\", va=\"center\",\n",
        "                    color=\"white\" if cm[i, j] > thresh else \"black\")\n",
        "    fig.tight_layout()\n",
        "\n",
        "    return ax\n",
        "\n",
        "\n",
        "np.set_printoptions(precision=2)\n",
        "\n",
        "# Plot non-normalized confusion matrix\n",
        "plot_confusion_matrix(y_test, y_test_pred, classes=class_names,\n",
        "                      title='Confusion matrix, without normalization')\n",
        "\n",
        "# Plot normalized confusion matrix\n",
        "plot_confusion_matrix(y_test, y_test_pred, classes=class_names, normalize=True,\n",
        "                      title='Normalized confusion matrix')\n",
        "\n",
        "plt.show()"
      ]
    },
    {
      "cell_type": "code",
      "source": [
        "def plot_learningCurve(history, epoch):\n",
        "  # Plot training & validation accuracy values\n",
        "  epoch_range = range(1, epoch+1)\n",
        "  plt.plot(epoch_range, history.history['binary_accuracy'])\n",
        "  plt.plot(epoch_range, history.history['val_binary_accuracy'])\n",
        "  plt.title('Model accuracy')\n",
        "  plt.ylabel('Accuracy')\n",
        "  plt.xlabel('Epoch')\n",
        "  plt.legend(['Train', 'Val'], loc='upper left')\n",
        "  plt.show()\n",
        "\n",
        "  # Plot training & validation loss values\n",
        "  plt.plot(epoch_range, history.history['loss'])\n",
        "  plt.plot(epoch_range, history.history['val_loss'])\n",
        "  plt.title('Model loss')\n",
        "  plt.ylabel('Loss')\n",
        "  plt.xlabel('Epoch')\n",
        "  plt.legend(['Train', 'Val'], loc='upper left')\n",
        "  plt.show()"
      ],
      "metadata": {
        "id": "fhdLAhgPUnH3"
      },
      "execution_count": 114,
      "outputs": []
    },
    {
      "cell_type": "code",
      "source": [
        "plot_learningCurve(history, 50)"
      ],
      "metadata": {
        "id": "WlkQkWHgU5mL",
        "colab": {
          "base_uri": "https://localhost:8080/",
          "height": 573
        },
        "outputId": "65a318f0-76db-455f-f81a-0e6cf771fca6"
      },
      "execution_count": 115,
      "outputs": [
        {
          "output_type": "display_data",
          "data": {
            "text/plain": [
              "<Figure size 432x288 with 1 Axes>"
            ],
            "image/png": "[encoded data removed]"
          },
          "metadata": {
            "needs_background": "light"
          }
        },
        {
          "output_type": "display_data",
          "data": {
            "text/plain": [
              "<Figure size 432x288 with 1 Axes>"
            ],
            "image/png": "[encoded data removed]"
          },
          "metadata": {
            "needs_background": "light"
          }
        }
      ]
    }
  ],
  "metadata": {
    "colab": {
      "collapsed_sections": [
        "f857kfHqUk0-"
      ],
      "name": "MD LSTM step 20.ipynb",
      "provenance": [],
      "authorship_tag": "ABX9TyPDvcmEEUt2IjM4tgy9qEJF",
      "include_colab_link": true
    },
    "kernelspec": {
      "display_name": "Python 3",
      "name": "python3"
    },
    "language_info": {
      "name": "python"
    }
  },
  "nbformat": 4,
  "nbformat_minor": 0
}
