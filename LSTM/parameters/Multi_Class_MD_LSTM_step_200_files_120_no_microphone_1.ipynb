{
  "cells": [
    {
      "cell_type": "markdown",
      "metadata": {
        "id": "view-in-github",
        "colab_type": "text"
      },
      "source": [
        "<a href=\"https://colab.research.google.com/github/kwanderer/Autonomas-sistemas-un-roboti/blob/main/Multi_Class_MD_LSTM_step_200_files_120_no_microphone_1.ipynb\" target=\"_parent\"><img src=\"https://colab.research.google.com/assets/colab-badge.svg\" alt=\"Open In Colab\"/></a>"
      ]
    },
    {
      "cell_type": "markdown",
      "metadata": {
        "id": "f857kfHqUk0-"
      },
      "source": [
        "\n",
        "\n",
        "#Datu kopa"
      ]
    },
    {
      "cell_type": "markdown",
      "metadata": {
        "id": "nM9WE3QGUwVi"
      },
      "source": [
        "Datu kopas avots: https://www.kaggle.com/uysalserkan/fault-induction-motor-dataset"
      ]
    },
    {
      "cell_type": "markdown",
      "metadata": {
        "id": "_sN_h3qHHy6r"
      },
      "source": [
        "Darbā tiek izmantota indukcijas motora parametru datu bāze. Izmantotajā datu kopā ir dati, kas tika iegūti SpectraQuest aparatūras kļūdu simulatorā (Machinery Fault Simulator).\n",
        "\n",
        "Katra mērījumu secība tika ģenerēta ar frekvenci 50 kHz 5 sekunžu laikā, kopā 250 000 mērījumi.\n",
        "\n",
        "Dati ir apkopoti vairākos failos, dažādos darbības stāvokļos un to apjoms ir ļoti liels. Šajā darbā tika izmantota daļa(viena mērījumu secība) no motora normālas darbības datiem.\n"
      ]
    },
    {
      "cell_type": "markdown",
      "metadata": {
        "id": "KtFAOaHYHLPo"
      },
      "source": [
        "Dati ir apkopoti tabulā, kura satur 8 parametrus. Dati ir iedalīti sekojošās kolonas:\n",
        "\n",
        "**tachometer** – tahometra signāls, kas ļauj novērtēt rotācijas frekvenci\n",
        "\n",
        "**und-accelerometer-axial** - apakšā esošā gultņa akselerometrs (aksiālais virziens)\n",
        "\n",
        "**und-accelerometer-radial** – apakšā esošā gultņa akselerometrs (radiālais virziens)\n",
        "\n",
        "**und-accelerometer-tangential** - apakšā esošā gultņa akselerometrs (tangenciālais virziens)\n",
        "\n",
        "**over-accelerometer-axial** - pārkares gultņa akselerometrs (aksiālais virziens)\n",
        "\n",
        "**over-accelerometer-radial** – pārkares gultņa akselerometrs (radiālais  virziens)\n",
        "\n",
        "**over-accelerometer-tangential**  - pārkares gultņa akselerometrs (tangenciālais virziens)\n",
        "\n",
        "**microphone** – mikrofona vērtība\n"
      ]
    },
    {
      "cell_type": "markdown",
      "metadata": {
        "id": "XymoNLKMVFUC"
      },
      "source": [
        "#Datu ielasīšana un satura vizualizācija"
      ]
    },
    {
      "cell_type": "code",
      "execution_count": 1,
      "metadata": {
        "id": "_yqYZDeOFq5s"
      },
      "outputs": [],
      "source": [
        "import keras\n",
        "from keras.layers import LSTM, Dropout, Dense\n",
        "import tensorflow as tf\n",
        "import numpy as np\n",
        "import pandas as pd\n",
        "\n",
        "from sklearn import linear_model  #pip install sklearn - loti plasa masinapmacibas biblioteka\n",
        "from sklearn.linear_model import LinearRegression  \n",
        "import csv          #pip install csv - darbam ar CSV datu kopam\n",
        "import requests     #pip install requests  - vienkarsakam darbam ar tiessaistes CSV datu kopam tiessaistes\n",
        "\n",
        "import matplotlib\n",
        "import matplotlib.pyplot as plt\n",
        "\n",
        "import glob\n"
      ]
    },
    {
      "cell_type": "code",
      "execution_count": 2,
      "metadata": {
        "id": "wlRTBbM2eUcV",
        "colab": {
          "base_uri": "https://localhost:8080/"
        },
        "outputId": "0917227a-dc2c-428f-8f39-5ab2a47f6c8c"
      },
      "outputs": [
        {
          "output_type": "stream",
          "name": "stdout",
          "text": [
            "Drive already mounted at /content/gdrive; to attempt to forcibly remount, call drive.mount(\"/content/gdrive\", force_remount=True).\n"
          ]
        }
      ],
      "source": [
        "from google.colab import drive\n",
        "import os\n",
        "drive.mount('/content/gdrive')\n",
        "os.chdir(\"/content/gdrive/MyDrive/Colab Notebooks/data_multiclass/\")"
      ]
    },
    {
      "cell_type": "code",
      "execution_count": 3,
      "metadata": {
        "id": "zzz6fBl_SNom"
      },
      "outputs": [],
      "source": [
        "#extension = 'csv'\n",
        "#all_filenames = [i for i in glob.glob('*.{}'.format(extension))]"
      ]
    },
    {
      "cell_type": "code",
      "execution_count": 4,
      "metadata": {
        "id": "vagKFCkToBi0"
      },
      "outputs": [],
      "source": [
        "#combine all files in the list\n",
        "#combined_csv = pd.concat([pd.read_csv(f) for f in all_filenames ])\n",
        "#export to csv\n",
        "#combined_csv.to_csv( \"combined_multiclass_csv.csv\", index=False, encoding='utf-8-sig')"
      ]
    },
    {
      "cell_type": "code",
      "execution_count": 5,
      "metadata": {
        "id": "encEkbDhSfGI"
      },
      "outputs": [],
      "source": [
        "data = pd.read_csv(\"combined_multiclass_csv.csv\")"
      ]
    },
    {
      "cell_type": "code",
      "execution_count": 6,
      "metadata": {
        "id": "yz5Qe8ZWk1Zq",
        "colab": {
          "base_uri": "https://localhost:8080/"
        },
        "outputId": "804ecf8c-1f68-4f1a-f0d6-5e3bc9152e65"
      },
      "outputs": [
        {
          "output_type": "stream",
          "name": "stdout",
          "text": [
            "<class 'pandas.core.frame.DataFrame'>\n",
            "RangeIndex: 30000000 entries, 0 to 29999999\n",
            "Data columns (total 9 columns):\n",
            " #   Column                         Dtype  \n",
            "---  ------                         -----  \n",
            " 0   tachometer                     float64\n",
            " 1   und-accelerometer-axial        float64\n",
            " 2   und-accelerometer-radial       float64\n",
            " 3   und-accelerometer-tangential   float64\n",
            " 4   over-accelerometer-axial       float64\n",
            " 5   over-accelerometer-radial      float64\n",
            " 6   over-accelerometer-tangential  float64\n",
            " 7   microphone                     float64\n",
            " 8   Class                          int64  \n",
            "dtypes: float64(8), int64(1)\n",
            "memory usage: 2.0 GB\n"
          ]
        }
      ],
      "source": [
        "data.info()"
      ]
    },
    {
      "cell_type": "code",
      "execution_count": 7,
      "metadata": {
        "id": "WUW9ezX6a_st",
        "colab": {
          "base_uri": "https://localhost:8080/"
        },
        "outputId": "d492a9e4-368a-4d7c-ae22-cbaaf5da56b1"
      },
      "outputs": [
        {
          "output_type": "execute_result",
          "data": {
            "text/plain": [
              "30000000"
            ]
          },
          "metadata": {},
          "execution_count": 7
        }
      ],
      "source": [
        "rec_count = len(data)\n",
        "rec_count"
      ]
    },
    {
      "cell_type": "markdown",
      "metadata": {
        "id": "6RVC1PZy88fC"
      },
      "source": [
        "# Datu dalīšana mazākos gabalos"
      ]
    },
    {
      "cell_type": "code",
      "execution_count": 8,
      "metadata": {
        "id": "DOvnCYkcbGaE"
      },
      "outputs": [],
      "source": [
        "sequence_length = 200"
      ]
    },
    {
      "cell_type": "code",
      "execution_count": 9,
      "metadata": {
        "id": "RG0o2L3zbTEx"
      },
      "outputs": [],
      "source": [
        "def generate_data(X, y, sequence_length = 200, step = 200):\n",
        "    X_local = []\n",
        "    y_local = []\n",
        "    for start in range(0, len(data) - sequence_length, step):\n",
        "        end = start + sequence_length\n",
        "        X_local.append(X[start:end])\n",
        "        y_local.append(y[end-1])\n",
        "    return np.array(X_local), np.array(y_local)\n",
        "\n",
        "#X_sequence, y = generate_data(data.loc[:, \"tachometer\":\"microphone\"].values, data.Class)\n",
        "#X_sequence, y = generate_data(data.loc[:, [\"tachometer\", \"und-accelerometer-axial\", \"und-accelerometer-radial\", \"und-accelerometer-tangential\", \"over-accelerometer-axial\", \"over-accelerometer-radial\", \"over-accelerometer-tangential\", \"microphone\"]].values, data.Class)\n",
        "#\"microphone\"\n",
        "X_sequence, y = generate_data(data.loc[:, [\"tachometer\", \"und-accelerometer-axial\", \"und-accelerometer-radial\", \"und-accelerometer-tangential\", \"over-accelerometer-axial\", \"over-accelerometer-radial\", \"over-accelerometer-tangential\"]].values, data.Class)"
      ]
    },
    {
      "cell_type": "code",
      "execution_count": 10,
      "metadata": {
        "id": "s0QxwK66cLVF",
        "colab": {
          "base_uri": "https://localhost:8080/"
        },
        "outputId": "26cabf22-23ef-480e-ff6b-2ee51c5fbd67"
      },
      "outputs": [
        {
          "output_type": "execute_result",
          "data": {
            "text/plain": [
              "((149999, 200, 7), (149999,))"
            ]
          },
          "metadata": {},
          "execution_count": 10
        }
      ],
      "source": [
        "X_sequence.shape, y.shape"
      ]
    },
    {
      "cell_type": "code",
      "source": [
        "unique, counts = np.unique(y, return_counts=True)"
      ],
      "metadata": {
        "id": "l8Lq455lV1JR"
      },
      "execution_count": 11,
      "outputs": []
    },
    {
      "cell_type": "code",
      "source": [
        "unique"
      ],
      "metadata": {
        "id": "t0BRO3nAWQxe",
        "colab": {
          "base_uri": "https://localhost:8080/"
        },
        "outputId": "bbc99582-0193-4a86-9702-7a21208bf3de"
      },
      "execution_count": 12,
      "outputs": [
        {
          "output_type": "execute_result",
          "data": {
            "text/plain": [
              "array([0, 1, 2, 3, 4, 5, 6, 7])"
            ]
          },
          "metadata": {},
          "execution_count": 12
        }
      ]
    },
    {
      "cell_type": "code",
      "source": [
        "counts"
      ],
      "metadata": {
        "id": "WWZ7QWR4WS_r",
        "colab": {
          "base_uri": "https://localhost:8080/"
        },
        "outputId": "bd6262bc-bf4e-481a-b646-3e986dbd7aa5"
      },
      "execution_count": 13,
      "outputs": [
        {
          "output_type": "execute_result",
          "data": {
            "text/plain": [
              "array([18749, 18750, 18750, 18750, 18750, 18750, 18750, 18750])"
            ]
          },
          "metadata": {},
          "execution_count": 13
        }
      ]
    },
    {
      "cell_type": "code",
      "execution_count": 14,
      "metadata": {
        "id": "i7R1oo6Mj8wx"
      },
      "outputs": [],
      "source": [
        "data = 0"
      ]
    },
    {
      "cell_type": "code",
      "source": [
        "from sklearn.preprocessing import OneHotEncoder"
      ],
      "metadata": {
        "id": "lAk_JscRWmqY"
      },
      "execution_count": 15,
      "outputs": []
    },
    {
      "cell_type": "code",
      "source": [
        "label_encoder = OneHotEncoder(sparse=False)\n",
        "label_encoder.fit(y.reshape(-1,1))"
      ],
      "metadata": {
        "id": "14B9aYy0W0y6",
        "colab": {
          "base_uri": "https://localhost:8080/"
        },
        "outputId": "5c9df221-cdcb-4da9-fa86-3e1899be56a6"
      },
      "execution_count": 16,
      "outputs": [
        {
          "output_type": "execute_result",
          "data": {
            "text/plain": [
              "OneHotEncoder(sparse=False)"
            ]
          },
          "metadata": {},
          "execution_count": 16
        }
      ]
    },
    {
      "cell_type": "code",
      "source": [
        "y_encoded = label_encoder.transform(y.reshape(-1,1))"
      ],
      "metadata": {
        "id": "VjpWn96xXgPS"
      },
      "execution_count": 17,
      "outputs": []
    },
    {
      "cell_type": "code",
      "source": [
        "y_encoded[0:5]"
      ],
      "metadata": {
        "id": "VL6KMFo9XpBi",
        "colab": {
          "base_uri": "https://localhost:8080/"
        },
        "outputId": "06e9a620-9044-4182-fe6e-f6f5a8325b88"
      },
      "execution_count": 18,
      "outputs": [
        {
          "output_type": "execute_result",
          "data": {
            "text/plain": [
              "array([[0., 0., 0., 0., 0., 0., 0., 1.],\n",
              "       [0., 0., 0., 0., 0., 0., 0., 1.],\n",
              "       [0., 0., 0., 0., 0., 0., 0., 1.],\n",
              "       [0., 0., 0., 0., 0., 0., 0., 1.],\n",
              "       [0., 0., 0., 0., 0., 0., 0., 1.]])"
            ]
          },
          "metadata": {},
          "execution_count": 18
        }
      ]
    },
    {
      "cell_type": "code",
      "source": [
        "y=y_encoded"
      ],
      "metadata": {
        "id": "5c8km253YKBl"
      },
      "execution_count": 19,
      "outputs": []
    },
    {
      "cell_type": "markdown",
      "metadata": {
        "id": "5BXSDoHa9UX_"
      },
      "source": [
        "# Random/Shuffle"
      ]
    },
    {
      "cell_type": "code",
      "execution_count": 20,
      "metadata": {
        "id": "ZcfE9idy-ckb"
      },
      "outputs": [],
      "source": [
        "shuffler = np.random.permutation(len(X_sequence))\n",
        "X_sequence_shuffled = X_sequence[shuffler]\n",
        "y_shuffled = y[shuffler]"
      ]
    },
    {
      "cell_type": "markdown",
      "metadata": {
        "id": "TfhRTTNcE2s8"
      },
      "source": [
        "# LSTM"
      ]
    },
    {
      "cell_type": "code",
      "execution_count": 21,
      "metadata": {
        "id": "ihrXMuVAEwlY"
      },
      "outputs": [],
      "source": [
        "import pandas as pd\n",
        "import sklearn.metrics as metrique\n",
        "from pandas import Series\n",
        "from sklearn.preprocessing import StandardScaler, MinMaxScaler\n",
        "from matplotlib import pyplot\n",
        "from sklearn.model_selection import train_test_split\n",
        "import numpy as np\n",
        "import tensorflow as tf\n",
        "import sys\n",
        "import numpy as np\n",
        "import pandas as pd\n",
        "import tensorflow as tf\n",
        "import matplotlib.pyplot as plt\n",
        "from sklearn.model_selection import train_test_split\n",
        "from sklearn import preprocessing\n",
        "from sklearn.preprocessing import StandardScaler\n",
        "from sklearn.metrics import classification_report\n",
        "import warnings\n",
        "warnings.filterwarnings('ignore')\n",
        "plt.style.use('ggplot')\n",
        "import seaborn as sns \n",
        "%matplotlib inline\n",
        "from keras.callbacks import EarlyStopping\n",
        "from keras.callbacks import ModelCheckpoint\n",
        "from sklearn.metrics import accuracy_score\n",
        "from sklearn.metrics import classification_report, confusion_matrix\n",
        "from keras.models import Sequential\n",
        "from keras.utils import np_utils\n",
        "from keras.layers import LSTM, Dense, Embedding, Dropout,Input, Layer, Concatenate, Permute, Dot, Multiply, Flatten\n",
        "from keras.layers import RepeatVector, Dense, Activation, Lambda\n",
        "from keras.models import Sequential\n",
        "from keras import backend as K, regularizers, Model, metrics\n",
        "from keras.backend import cast"
      ]
    },
    {
      "cell_type": "code",
      "execution_count": 22,
      "metadata": {
        "id": "PjKWKiA6aH3z"
      },
      "outputs": [],
      "source": [
        "#from tensorflow.keras import optimizers\n",
        "#sgd = optimizers.SGD(lr=0.0001, decay=1e-6, momentum=0.9, nesterov=True)\n",
        "#model = keras.Sequential()\n",
        "#model.add(LSTM(100, input_shape = (200, 8)))\n",
        "#model.add(Dropout(0.5))\n",
        "#model.add(Dense(1, activation=\"softmax\"))\n",
        "\n",
        "\n",
        "#model.compile(loss=\"categorical_crossentropy\"\n",
        "#              , metrics=[keras.metrics.binary_accuracy]\n",
        "#              , optimizer='sgd')\n",
        "\n",
        "#model.summary()"
      ]
    },
    {
      "cell_type": "code",
      "execution_count": 23,
      "metadata": {
        "id": "_2SaVmwSWJVB",
        "colab": {
          "base_uri": "https://localhost:8080/"
        },
        "outputId": "7dcd9c87-1485-4ff3-8ed3-ef93e639835d"
      },
      "outputs": [
        {
          "output_type": "stream",
          "name": "stdout",
          "text": [
            "Model: \"sequential\"\n",
            "_________________________________________________________________\n",
            " Layer (type)                Output Shape              Param #   \n",
            "=================================================================\n",
            " lstm (LSTM)                 (None, 150)               94800     \n",
            "                                                                 \n",
            " dropout (Dropout)           (None, 150)               0         \n",
            "                                                                 \n",
            " dense (Dense)               (None, 8)                 1208      \n",
            "                                                                 \n",
            "=================================================================\n",
            "Total params: 96,008\n",
            "Trainable params: 96,008\n",
            "Non-trainable params: 0\n",
            "_________________________________________________________________\n"
          ]
        }
      ],
      "source": [
        "from tensorflow.keras import optimizers\n",
        "#sgd = optimizers.SGD(lr=0.0001, decay=1e-6, momentum=0.9, nesterov=True)\n",
        "optimizer = tf.keras.optimizers.Adam(lr=0.0001)\n",
        "model = keras.Sequential()\n",
        "model.add(LSTM(150, input_shape = (200, 7)))\n",
        "model.add(Dropout(0.5))#0.25\n",
        "model.add(Dense(8, activation=\"softmax\"))\n",
        "\n",
        "#model.compile(loss='mean_squared_error', optimizer=sgd)\n",
        "model.compile(loss=\"categorical_crossentropy\"\n",
        "              , metrics=['accuracy']\n",
        "              , optimizer=optimizer)\n",
        "\n",
        "model.summary()"
      ]
    },
    {
      "cell_type": "code",
      "execution_count": 24,
      "metadata": {
        "id": "tg8wrqsqc8UX"
      },
      "outputs": [],
      "source": [
        "training_size = int(len(X_sequence) * 0.8)\n",
        "val_size = int(len(X_sequence) * 0.9)"
      ]
    },
    {
      "cell_type": "code",
      "execution_count": 25,
      "metadata": {
        "id": "avIp3TEKc-qF"
      },
      "outputs": [],
      "source": [
        "X_train, y_train = X_sequence_shuffled[:training_size], y_shuffled[:training_size]\n",
        "X_val, y_val = X_sequence_shuffled[training_size:val_size], y_shuffled[training_size:val_size]\n",
        "X_test, y_test = X_sequence_shuffled[val_size:], y_shuffled[val_size:]"
      ]
    },
    {
      "cell_type": "code",
      "execution_count": 26,
      "metadata": {
        "id": "RABc_uKzkBUT"
      },
      "outputs": [],
      "source": [
        "#X_sequence = 0\n",
        "#y = 0"
      ]
    },
    {
      "cell_type": "code",
      "source": [
        "X_train.shape"
      ],
      "metadata": {
        "id": "Omv-ht1dhGxL",
        "colab": {
          "base_uri": "https://localhost:8080/"
        },
        "outputId": "60f8e13b-92cd-4c82-9f2b-9376c4bda2d0"
      },
      "execution_count": 27,
      "outputs": [
        {
          "output_type": "execute_result",
          "data": {
            "text/plain": [
              "(119999, 200, 7)"
            ]
          },
          "metadata": {},
          "execution_count": 27
        }
      ]
    },
    {
      "cell_type": "code",
      "execution_count": 28,
      "metadata": {
        "id": "8aIhPJ-wLCwZ",
        "colab": {
          "base_uri": "https://localhost:8080/"
        },
        "outputId": "9cbe17fb-d009-41a7-d4c3-6b2296ca995d"
      },
      "outputs": [
        {
          "output_type": "execute_result",
          "data": {
            "text/plain": [
              "array([[0., 0., 0., 0., 1., 0., 0., 0.],\n",
              "       [0., 0., 0., 0., 1., 0., 0., 0.],\n",
              "       [0., 0., 0., 0., 0., 0., 1., 0.],\n",
              "       [0., 0., 0., 0., 0., 0., 1., 0.],\n",
              "       [1., 0., 0., 0., 0., 0., 0., 0.],\n",
              "       [0., 0., 0., 0., 1., 0., 0., 0.],\n",
              "       [0., 0., 0., 0., 0., 0., 0., 1.],\n",
              "       [1., 0., 0., 0., 0., 0., 0., 0.],\n",
              "       [0., 0., 0., 1., 0., 0., 0., 0.],\n",
              "       [0., 0., 0., 0., 0., 1., 0., 0.]])"
            ]
          },
          "metadata": {},
          "execution_count": 28
        }
      ],
      "source": [
        "y_train[:10]"
      ]
    },
    {
      "cell_type": "code",
      "execution_count": 29,
      "metadata": {
        "id": "cen4faX0dFJP",
        "colab": {
          "base_uri": "https://localhost:8080/"
        },
        "outputId": "6e4415b4-f76d-47e2-a3e0-4cd50f529b93"
      },
      "outputs": [
        {
          "output_type": "stream",
          "name": "stdout",
          "text": [
            "Epoch 1/100\n",
            "1875/1875 [==============================] - 88s 45ms/step - loss: 1.7585 - accuracy: 0.2450 - val_loss: 1.6238 - val_accuracy: 0.2995\n",
            "Epoch 2/100\n",
            "1875/1875 [==============================] - 80s 42ms/step - loss: 1.5722 - accuracy: 0.3319 - val_loss: 1.4877 - val_accuracy: 0.4009\n",
            "Epoch 3/100\n",
            "1875/1875 [==============================] - 82s 44ms/step - loss: 1.4972 - accuracy: 0.3862 - val_loss: 1.4581 - val_accuracy: 0.3973\n",
            "Epoch 4/100\n",
            "1875/1875 [==============================] - 80s 43ms/step - loss: 1.5648 - accuracy: 0.3813 - val_loss: 1.6660 - val_accuracy: 0.3391\n",
            "Epoch 5/100\n",
            "1875/1875 [==============================] - 80s 43ms/step - loss: 1.4798 - accuracy: 0.3943 - val_loss: 1.3798 - val_accuracy: 0.4359\n",
            "Epoch 6/100\n",
            "1875/1875 [==============================] - 80s 43ms/step - loss: 1.4058 - accuracy: 0.4277 - val_loss: 1.3663 - val_accuracy: 0.4403\n",
            "Epoch 7/100\n",
            "1875/1875 [==============================] - 79s 42ms/step - loss: 1.4171 - accuracy: 0.4218 - val_loss: 1.4061 - val_accuracy: 0.4203\n",
            "Epoch 8/100\n",
            "1875/1875 [==============================] - 79s 42ms/step - loss: 1.4278 - accuracy: 0.4228 - val_loss: 1.4595 - val_accuracy: 0.4028\n",
            "Epoch 9/100\n",
            "1875/1875 [==============================] - 80s 42ms/step - loss: 1.4211 - accuracy: 0.4191 - val_loss: 1.3656 - val_accuracy: 0.4456\n",
            "Epoch 10/100\n",
            "1875/1875 [==============================] - 80s 42ms/step - loss: 1.3261 - accuracy: 0.4645 - val_loss: 1.3215 - val_accuracy: 0.4605\n",
            "Epoch 11/100\n",
            "1875/1875 [==============================] - 79s 42ms/step - loss: 1.3511 - accuracy: 0.4605 - val_loss: 1.3566 - val_accuracy: 0.4585\n",
            "Epoch 12/100\n",
            "1875/1875 [==============================] - 80s 43ms/step - loss: 1.3135 - accuracy: 0.4722 - val_loss: 1.2665 - val_accuracy: 0.4911\n",
            "Epoch 13/100\n",
            "1875/1875 [==============================] - 79s 42ms/step - loss: 1.6080 - accuracy: 0.3877 - val_loss: 1.4956 - val_accuracy: 0.4165\n",
            "Epoch 14/100\n",
            "1875/1875 [==============================] - 79s 42ms/step - loss: 1.5480 - accuracy: 0.3810 - val_loss: 1.4979 - val_accuracy: 0.3913\n",
            "Epoch 15/100\n",
            "1875/1875 [==============================] - 79s 42ms/step - loss: 1.4583 - accuracy: 0.4119 - val_loss: 1.4786 - val_accuracy: 0.3929\n",
            "Epoch 16/100\n",
            "1875/1875 [==============================] - 81s 43ms/step - loss: 1.4459 - accuracy: 0.4148 - val_loss: 1.3794 - val_accuracy: 0.4309\n",
            "Epoch 17/100\n",
            "1875/1875 [==============================] - 78s 42ms/step - loss: 1.3687 - accuracy: 0.4459 - val_loss: 1.2836 - val_accuracy: 0.4783\n",
            "Epoch 18/100\n",
            "1875/1875 [==============================] - 78s 42ms/step - loss: 1.2993 - accuracy: 0.4739 - val_loss: 1.2614 - val_accuracy: 0.4916\n",
            "Epoch 19/100\n",
            "1875/1875 [==============================] - 79s 42ms/step - loss: 1.2992 - accuracy: 0.4716 - val_loss: 1.3001 - val_accuracy: 0.4628\n",
            "Epoch 20/100\n",
            "1875/1875 [==============================] - 81s 43ms/step - loss: 1.3399 - accuracy: 0.4635 - val_loss: 1.3921 - val_accuracy: 0.4283\n",
            "Epoch 21/100\n",
            "1875/1875 [==============================] - 79s 42ms/step - loss: 1.3247 - accuracy: 0.4610 - val_loss: 1.2660 - val_accuracy: 0.4822\n",
            "Epoch 22/100\n",
            "1875/1875 [==============================] - 78s 42ms/step - loss: 1.3061 - accuracy: 0.4715 - val_loss: 1.2487 - val_accuracy: 0.4941\n",
            "Epoch 23/100\n",
            "1875/1875 [==============================] - 79s 42ms/step - loss: 1.2569 - accuracy: 0.4883 - val_loss: 1.2145 - val_accuracy: 0.5000\n",
            "Epoch 24/100\n",
            "1875/1875 [==============================] - 79s 42ms/step - loss: 1.2184 - accuracy: 0.5023 - val_loss: 1.2328 - val_accuracy: 0.4946\n",
            "Epoch 25/100\n",
            "1875/1875 [==============================] - 81s 43ms/step - loss: 1.2237 - accuracy: 0.5012 - val_loss: 1.2011 - val_accuracy: 0.5049\n",
            "Epoch 26/100\n",
            "1875/1875 [==============================] - 78s 42ms/step - loss: 1.2635 - accuracy: 0.4902 - val_loss: 1.2289 - val_accuracy: 0.4921\n",
            "Epoch 27/100\n",
            "1875/1875 [==============================] - 79s 42ms/step - loss: 1.5006 - accuracy: 0.4202 - val_loss: 1.5157 - val_accuracy: 0.3831\n",
            "Epoch 28/100\n",
            "1875/1875 [==============================] - 81s 43ms/step - loss: 1.3867 - accuracy: 0.4334 - val_loss: 1.2830 - val_accuracy: 0.4765\n",
            "Epoch 29/100\n",
            "1875/1875 [==============================] - 79s 42ms/step - loss: 1.2801 - accuracy: 0.4802 - val_loss: 1.2371 - val_accuracy: 0.4905\n",
            "Epoch 30/100\n",
            "1875/1875 [==============================] - 80s 42ms/step - loss: 1.2473 - accuracy: 0.4918 - val_loss: 1.2056 - val_accuracy: 0.5022\n",
            "Epoch 31/100\n",
            "1875/1875 [==============================] - 80s 43ms/step - loss: 1.2112 - accuracy: 0.5032 - val_loss: 1.2081 - val_accuracy: 0.4999\n",
            "Epoch 32/100\n",
            "1875/1875 [==============================] - 80s 43ms/step - loss: 1.1940 - accuracy: 0.5130 - val_loss: 1.1893 - val_accuracy: 0.5077\n",
            "Epoch 33/100\n",
            "1875/1875 [==============================] - 80s 43ms/step - loss: 1.1706 - accuracy: 0.5198 - val_loss: 1.1364 - val_accuracy: 0.5331\n",
            "Epoch 34/100\n",
            "1875/1875 [==============================] - 82s 44ms/step - loss: 1.1537 - accuracy: 0.5292 - val_loss: 1.1311 - val_accuracy: 0.5387\n",
            "Epoch 35/100\n",
            "1875/1875 [==============================] - 80s 43ms/step - loss: 1.1779 - accuracy: 0.5204 - val_loss: 1.1317 - val_accuracy: 0.5330\n",
            "Epoch 36/100\n",
            "1875/1875 [==============================] - 80s 43ms/step - loss: 1.1632 - accuracy: 0.5276 - val_loss: 1.1082 - val_accuracy: 0.5471\n",
            "Epoch 37/100\n",
            "1875/1875 [==============================] - 80s 43ms/step - loss: 1.1051 - accuracy: 0.5469 - val_loss: 1.1070 - val_accuracy: 0.5467\n",
            "Epoch 38/100\n",
            "1875/1875 [==============================] - 80s 42ms/step - loss: 1.0966 - accuracy: 0.5517 - val_loss: 1.0770 - val_accuracy: 0.5501\n",
            "Epoch 39/100\n",
            "1875/1875 [==============================] - 81s 43ms/step - loss: 1.1129 - accuracy: 0.5460 - val_loss: 1.0916 - val_accuracy: 0.5459\n",
            "Epoch 40/100\n",
            "1875/1875 [==============================] - 82s 44ms/step - loss: 1.0830 - accuracy: 0.5571 - val_loss: 1.0613 - val_accuracy: 0.5555\n",
            "Epoch 41/100\n",
            "1875/1875 [==============================] - 80s 43ms/step - loss: 1.0981 - accuracy: 0.5568 - val_loss: 1.0971 - val_accuracy: 0.5526\n",
            "Epoch 42/100\n",
            "1875/1875 [==============================] - 80s 43ms/step - loss: 1.0874 - accuracy: 0.5573 - val_loss: 1.0383 - val_accuracy: 0.5650\n",
            "Epoch 43/100\n",
            "1875/1875 [==============================] - 80s 42ms/step - loss: 1.0358 - accuracy: 0.5761 - val_loss: 1.0344 - val_accuracy: 0.5642\n",
            "Epoch 44/100\n",
            "1875/1875 [==============================] - 80s 43ms/step - loss: 1.0254 - accuracy: 0.5770 - val_loss: 1.1895 - val_accuracy: 0.5244\n",
            "Epoch 45/100\n",
            "1875/1875 [==============================] - 82s 44ms/step - loss: 1.4679 - accuracy: 0.4449 - val_loss: 1.4956 - val_accuracy: 0.4034\n",
            "Epoch 46/100\n",
            "1875/1875 [==============================] - 80s 43ms/step - loss: 1.4188 - accuracy: 0.4316 - val_loss: 1.2991 - val_accuracy: 0.4655\n",
            "Epoch 47/100\n",
            "1875/1875 [==============================] - 80s 42ms/step - loss: 1.2741 - accuracy: 0.4808 - val_loss: 1.1744 - val_accuracy: 0.5178\n",
            "Epoch 48/100\n",
            "1875/1875 [==============================] - 80s 43ms/step - loss: 1.0844 - accuracy: 0.5593 - val_loss: 1.0348 - val_accuracy: 0.5742\n",
            "Epoch 49/100\n",
            "1875/1875 [==============================] - 80s 43ms/step - loss: 1.0550 - accuracy: 0.5713 - val_loss: 1.0043 - val_accuracy: 0.5827\n",
            "Epoch 50/100\n",
            "1875/1875 [==============================] - 80s 43ms/step - loss: 0.9955 - accuracy: 0.5909 - val_loss: 0.9670 - val_accuracy: 0.5981\n",
            "Epoch 51/100\n",
            "1875/1875 [==============================] - 80s 43ms/step - loss: 1.2572 - accuracy: 0.5123 - val_loss: 1.2853 - val_accuracy: 0.4783\n",
            "Epoch 52/100\n",
            "1875/1875 [==============================] - 80s 42ms/step - loss: 1.2396 - accuracy: 0.5057 - val_loss: 1.1368 - val_accuracy: 0.5427\n",
            "Epoch 53/100\n",
            "1875/1875 [==============================] - 80s 43ms/step - loss: 1.1319 - accuracy: 0.5467 - val_loss: 1.0780 - val_accuracy: 0.5602\n",
            "Epoch 54/100\n",
            "1875/1875 [==============================] - 80s 43ms/step - loss: 1.0679 - accuracy: 0.5694 - val_loss: 1.0175 - val_accuracy: 0.5827\n",
            "Epoch 55/100\n",
            "1875/1875 [==============================] - 80s 43ms/step - loss: 1.0349 - accuracy: 0.5810 - val_loss: 1.1217 - val_accuracy: 0.5359\n",
            "Epoch 56/100\n",
            "1875/1875 [==============================] - 80s 43ms/step - loss: 1.0297 - accuracy: 0.5839 - val_loss: 0.9738 - val_accuracy: 0.5963\n",
            "Epoch 57/100\n",
            "1875/1875 [==============================] - 80s 43ms/step - loss: 1.0264 - accuracy: 0.5844 - val_loss: 1.0059 - val_accuracy: 0.5869\n",
            "Epoch 58/100\n",
            "1875/1875 [==============================] - 80s 43ms/step - loss: 0.9692 - accuracy: 0.6037 - val_loss: 0.9328 - val_accuracy: 0.6086\n",
            "Epoch 59/100\n",
            "1875/1875 [==============================] - 80s 43ms/step - loss: 0.9463 - accuracy: 0.6083 - val_loss: 0.9216 - val_accuracy: 0.6177\n",
            "Epoch 60/100\n",
            "1875/1875 [==============================] - 80s 43ms/step - loss: 0.9372 - accuracy: 0.6116 - val_loss: 0.9466 - val_accuracy: 0.6052\n",
            "Epoch 61/100\n",
            "1875/1875 [==============================] - 81s 43ms/step - loss: 0.9333 - accuracy: 0.6134 - val_loss: 0.8889 - val_accuracy: 0.6271\n",
            "Epoch 62/100\n",
            "1875/1875 [==============================] - 81s 43ms/step - loss: 0.9143 - accuracy: 0.6205 - val_loss: 0.9116 - val_accuracy: 0.6197\n",
            "Epoch 63/100\n",
            "1875/1875 [==============================] - 81s 43ms/step - loss: 0.9340 - accuracy: 0.6152 - val_loss: 0.9189 - val_accuracy: 0.6248\n",
            "Epoch 64/100\n",
            "1875/1875 [==============================] - 83s 44ms/step - loss: 0.8992 - accuracy: 0.6289 - val_loss: 0.8891 - val_accuracy: 0.6235\n",
            "Epoch 65/100\n",
            "1875/1875 [==============================] - 81s 43ms/step - loss: 0.9001 - accuracy: 0.6265 - val_loss: 0.8728 - val_accuracy: 0.6349\n",
            "Epoch 66/100\n",
            "1875/1875 [==============================] - 81s 43ms/step - loss: 0.8833 - accuracy: 0.6339 - val_loss: 0.8627 - val_accuracy: 0.6389\n",
            "Epoch 67/100\n",
            "1875/1875 [==============================] - 80s 43ms/step - loss: 0.8745 - accuracy: 0.6372 - val_loss: 0.8689 - val_accuracy: 0.6397\n",
            "Epoch 68/100\n",
            "1875/1875 [==============================] - 80s 43ms/step - loss: 0.8927 - accuracy: 0.6318 - val_loss: 0.8502 - val_accuracy: 0.6481\n",
            "Epoch 69/100\n",
            "1875/1875 [==============================] - 79s 42ms/step - loss: 0.8656 - accuracy: 0.6427 - val_loss: 0.8450 - val_accuracy: 0.6425\n",
            "Epoch 70/100\n",
            "1875/1875 [==============================] - 79s 42ms/step - loss: 0.8576 - accuracy: 0.6463 - val_loss: 0.8422 - val_accuracy: 0.6517\n",
            "Epoch 71/100\n",
            "1875/1875 [==============================] - 79s 42ms/step - loss: 0.8487 - accuracy: 0.6478 - val_loss: 0.8355 - val_accuracy: 0.6521\n",
            "Epoch 72/100\n",
            "1875/1875 [==============================] - 81s 43ms/step - loss: 0.8403 - accuracy: 0.6519 - val_loss: 0.8413 - val_accuracy: 0.6472\n",
            "Epoch 73/100\n",
            "1875/1875 [==============================] - 80s 43ms/step - loss: 0.8329 - accuracy: 0.6552 - val_loss: 0.8000 - val_accuracy: 0.6687\n",
            "Epoch 74/100\n",
            "1875/1875 [==============================] - 81s 43ms/step - loss: 0.8279 - accuracy: 0.6566 - val_loss: 0.8158 - val_accuracy: 0.6563\n",
            "Epoch 75/100\n",
            "1875/1875 [==============================] - 80s 43ms/step - loss: 0.8196 - accuracy: 0.6615 - val_loss: 0.8010 - val_accuracy: 0.6652\n",
            "Epoch 76/100\n",
            "1875/1875 [==============================] - 79s 42ms/step - loss: 0.8176 - accuracy: 0.6645 - val_loss: 0.8020 - val_accuracy: 0.6667\n",
            "Epoch 77/100\n",
            "1875/1875 [==============================] - 81s 43ms/step - loss: 0.8050 - accuracy: 0.6673 - val_loss: 0.8127 - val_accuracy: 0.6585\n",
            "Epoch 78/100\n",
            "1875/1875 [==============================] - 82s 44ms/step - loss: 0.7982 - accuracy: 0.6712 - val_loss: 0.7811 - val_accuracy: 0.6745\n",
            "Epoch 79/100\n",
            "1875/1875 [==============================] - 82s 44ms/step - loss: 0.7945 - accuracy: 0.6721 - val_loss: 0.7849 - val_accuracy: 0.6711\n",
            "Epoch 80/100\n",
            "1875/1875 [==============================] - 80s 43ms/step - loss: 0.7844 - accuracy: 0.6772 - val_loss: 0.7855 - val_accuracy: 0.6741\n",
            "Epoch 81/100\n",
            "1875/1875 [==============================] - 80s 43ms/step - loss: 0.7766 - accuracy: 0.6816 - val_loss: 0.7609 - val_accuracy: 0.6852\n",
            "Epoch 82/100\n",
            "1875/1875 [==============================] - 80s 43ms/step - loss: 0.7714 - accuracy: 0.6838 - val_loss: 0.7784 - val_accuracy: 0.6760\n",
            "Epoch 83/100\n",
            "1875/1875 [==============================] - 80s 43ms/step - loss: 0.7620 - accuracy: 0.6879 - val_loss: 0.7792 - val_accuracy: 0.6767\n",
            "Epoch 84/100\n",
            "1875/1875 [==============================] - 80s 43ms/step - loss: 0.7558 - accuracy: 0.6904 - val_loss: 0.7556 - val_accuracy: 0.6813\n",
            "Epoch 85/100\n",
            "1875/1875 [==============================] - 82s 44ms/step - loss: 0.7534 - accuracy: 0.6928 - val_loss: 0.7517 - val_accuracy: 0.6880\n",
            "Epoch 86/100\n",
            "1875/1875 [==============================] - 82s 44ms/step - loss: 0.7402 - accuracy: 0.6990 - val_loss: 0.7296 - val_accuracy: 0.6927\n",
            "Epoch 87/100\n",
            "1875/1875 [==============================] - 82s 44ms/step - loss: 0.7375 - accuracy: 0.6994 - val_loss: 0.7275 - val_accuracy: 0.6972\n",
            "Epoch 88/100\n",
            "1875/1875 [==============================] - 80s 43ms/step - loss: 0.7331 - accuracy: 0.7018 - val_loss: 0.7414 - val_accuracy: 0.6963\n",
            "Epoch 89/100\n",
            "1875/1875 [==============================] - 80s 43ms/step - loss: 0.7299 - accuracy: 0.7039 - val_loss: 0.7143 - val_accuracy: 0.7035\n",
            "Epoch 90/100\n",
            "1875/1875 [==============================] - 80s 43ms/step - loss: 0.7235 - accuracy: 0.7063 - val_loss: 0.7127 - val_accuracy: 0.7055\n",
            "Epoch 91/100\n",
            "1875/1875 [==============================] - 80s 43ms/step - loss: 0.7171 - accuracy: 0.7089 - val_loss: 0.7163 - val_accuracy: 0.7060\n",
            "Epoch 92/100\n",
            "1875/1875 [==============================] - 80s 43ms/step - loss: 0.7134 - accuracy: 0.7103 - val_loss: 0.6957 - val_accuracy: 0.7142\n",
            "Epoch 93/100\n",
            "1875/1875 [==============================] - 80s 43ms/step - loss: 0.7131 - accuracy: 0.7103 - val_loss: 0.7040 - val_accuracy: 0.7133\n",
            "Epoch 94/100\n",
            "1875/1875 [==============================] - 80s 43ms/step - loss: 0.7220 - accuracy: 0.7105 - val_loss: 0.6944 - val_accuracy: 0.7141\n",
            "Epoch 95/100\n",
            "1875/1875 [==============================] - 80s 43ms/step - loss: 0.7029 - accuracy: 0.7163 - val_loss: 0.6822 - val_accuracy: 0.7237\n",
            "Epoch 96/100\n",
            "1875/1875 [==============================] - 80s 43ms/step - loss: 0.6963 - accuracy: 0.7174 - val_loss: 0.6963 - val_accuracy: 0.7169\n",
            "Epoch 97/100\n",
            "1875/1875 [==============================] - 80s 43ms/step - loss: 0.7243 - accuracy: 0.7152 - val_loss: 0.6781 - val_accuracy: 0.7214\n",
            "Epoch 98/100\n",
            "1875/1875 [==============================] - 80s 43ms/step - loss: 0.6853 - accuracy: 0.7237 - val_loss: 0.6953 - val_accuracy: 0.7163\n",
            "Epoch 99/100\n",
            "1875/1875 [==============================] - 80s 43ms/step - loss: 0.6841 - accuracy: 0.7230 - val_loss: 0.6565 - val_accuracy: 0.7320\n",
            "Epoch 100/100\n",
            "1875/1875 [==============================] - 80s 43ms/step - loss: 0.6741 - accuracy: 0.7283 - val_loss: 0.6648 - val_accuracy: 0.7233\n"
          ]
        }
      ],
      "source": [
        "history = model.fit(X_train, y_train, batch_size=64, epochs=100, validation_data=(X_val, y_val))\n",
        "#model.save('NewAllDataModel_E50_B64.h5')"
      ]
    },
    {
      "cell_type": "code",
      "execution_count": 30,
      "metadata": {
        "id": "R7QQeqVidKBR",
        "colab": {
          "base_uri": "https://localhost:8080/"
        },
        "outputId": "02c9a452-8e2b-4bde-b261-10a31d06a533"
      },
      "outputs": [
        {
          "output_type": "stream",
          "name": "stdout",
          "text": [
            "469/469 [==============================] - 9s 19ms/step - loss: 0.6592 - accuracy: 0.7278\n"
          ]
        }
      ],
      "source": [
        "test_acc = model.evaluate(X_test, y_test)"
      ]
    },
    {
      "cell_type": "code",
      "source": [
        "test_acc"
      ],
      "metadata": {
        "id": "6fuTmgGrUgGg",
        "colab": {
          "base_uri": "https://localhost:8080/"
        },
        "outputId": "9d9dd931-3377-4bc6-bf94-ea0624d84842"
      },
      "execution_count": 31,
      "outputs": [
        {
          "output_type": "execute_result",
          "data": {
            "text/plain": [
              "[0.6591625809669495, 0.7278000116348267]"
            ]
          },
          "metadata": {},
          "execution_count": 31
        }
      ]
    },
    {
      "cell_type": "code",
      "execution_count": 32,
      "metadata": {
        "id": "OHpifyqGdKn-",
        "colab": {
          "base_uri": "https://localhost:8080/"
        },
        "outputId": "87cae304-ed27-420a-f875-db9129614f03"
      },
      "outputs": [
        {
          "output_type": "stream",
          "name": "stdout",
          "text": [
            "469/469 [==============================] - 7s 13ms/step\n"
          ]
        }
      ],
      "source": [
        "y_test_prob = model.predict(X_test, verbose=1)"
      ]
    },
    {
      "cell_type": "code",
      "source": [
        "np.set_printoptions(suppress=True)\n",
        "y_test_prob_backup = y_test_prob\n",
        "y_test_prob"
      ],
      "metadata": {
        "id": "rRPswrrkmhp2",
        "colab": {
          "base_uri": "https://localhost:8080/"
        },
        "outputId": "58ffba63-bd23-48da-da95-ddd6d03d3b26"
      },
      "execution_count": 33,
      "outputs": [
        {
          "output_type": "execute_result",
          "data": {
            "text/plain": [
              "array([[0.00006131, 0.00021029, 0.07220157, ..., 0.2561796 , 0.32952172,\n",
              "        0.02963996],\n",
              "       [0.00000031, 0.00000009, 0.00003389, ..., 0.14802244, 0.0050874 ,\n",
              "        0.00000179],\n",
              "       [0.00086923, 0.00116519, 0.00414973, ..., 0.00004414, 0.02606392,\n",
              "        0.9675885 ],\n",
              "       ...,\n",
              "       [0.00018921, 0.000616  , 0.01154834, ..., 0.00270357, 0.07000987,\n",
              "        0.9114076 ],\n",
              "       [0.00000002, 0.00000058, 0.00844726, ..., 0.01520952, 0.00021571,\n",
              "        0.00000142],\n",
              "       [0.04314698, 0.95261896, 0.00131981, ..., 0.0001198 , 0.00019627,\n",
              "        0.00239539]], dtype=float32)"
            ]
          },
          "metadata": {},
          "execution_count": 33
        }
      ]
    },
    {
      "cell_type": "code",
      "execution_count": 34,
      "metadata": {
        "id": "AfmdrBILdMwj"
      },
      "outputs": [],
      "source": [
        "y_test_pred = np.where(y_test_prob > 0.5, 1, 0)"
      ]
    },
    {
      "cell_type": "code",
      "execution_count": 35,
      "metadata": {
        "id": "8DoJy_p9dPzN"
      },
      "outputs": [],
      "source": [
        "from sklearn.metrics import multilabel_confusion_matrix"
      ]
    },
    {
      "cell_type": "code",
      "source": [
        "y_test"
      ],
      "metadata": {
        "id": "n1Us2yrfcGl-",
        "colab": {
          "base_uri": "https://localhost:8080/"
        },
        "outputId": "b244d9ce-5645-484e-a271-8e13b7403f12"
      },
      "execution_count": 36,
      "outputs": [
        {
          "output_type": "execute_result",
          "data": {
            "text/plain": [
              "array([[0., 0., 0., ..., 0., 0., 0.],\n",
              "       [0., 0., 0., ..., 0., 0., 0.],\n",
              "       [0., 0., 0., ..., 0., 0., 1.],\n",
              "       ...,\n",
              "       [0., 0., 0., ..., 0., 0., 1.],\n",
              "       [0., 0., 0., ..., 0., 0., 0.],\n",
              "       [0., 1., 0., ..., 0., 0., 0.]])"
            ]
          },
          "metadata": {},
          "execution_count": 36
        }
      ]
    },
    {
      "cell_type": "code",
      "source": [
        "y_test.shape"
      ],
      "metadata": {
        "id": "VnmvTcvWbxr9",
        "colab": {
          "base_uri": "https://localhost:8080/"
        },
        "outputId": "c2f3ea87-eca3-464d-d203-6111e73fc542"
      },
      "execution_count": 37,
      "outputs": [
        {
          "output_type": "execute_result",
          "data": {
            "text/plain": [
              "(15000, 8)"
            ]
          },
          "metadata": {},
          "execution_count": 37
        }
      ]
    },
    {
      "cell_type": "code",
      "source": [
        "y_test_pred"
      ],
      "metadata": {
        "id": "nMBOgzrgcJBj",
        "colab": {
          "base_uri": "https://localhost:8080/"
        },
        "outputId": "66972a22-77cc-454b-aa26-6aa4b26dbf8d"
      },
      "execution_count": 38,
      "outputs": [
        {
          "output_type": "execute_result",
          "data": {
            "text/plain": [
              "array([[0, 0, 0, ..., 0, 0, 0],\n",
              "       [0, 0, 0, ..., 0, 0, 0],\n",
              "       [0, 0, 0, ..., 0, 0, 1],\n",
              "       ...,\n",
              "       [0, 0, 0, ..., 0, 0, 1],\n",
              "       [0, 0, 0, ..., 0, 0, 0],\n",
              "       [0, 1, 0, ..., 0, 0, 0]])"
            ]
          },
          "metadata": {},
          "execution_count": 38
        }
      ]
    },
    {
      "cell_type": "code",
      "source": [
        "y_test_pred.shape"
      ],
      "metadata": {
        "id": "SXKZof8Ye5uI",
        "colab": {
          "base_uri": "https://localhost:8080/"
        },
        "outputId": "83cb33e6-10c6-4702-ba85-581d9350b556"
      },
      "execution_count": 39,
      "outputs": [
        {
          "output_type": "execute_result",
          "data": {
            "text/plain": [
              "(15000, 8)"
            ]
          },
          "metadata": {},
          "execution_count": 39
        }
      ]
    },
    {
      "cell_type": "code",
      "source": [
        "y_decoded_pred = tf.argmax(y_test_pred, axis = 1)"
      ],
      "metadata": {
        "id": "leDQwKOjgwwi"
      },
      "execution_count": 40,
      "outputs": []
    },
    {
      "cell_type": "code",
      "source": [
        "y_decoded = tf.argmax(y_test, axis = 1)"
      ],
      "metadata": {
        "id": "sAHRmtesif6g"
      },
      "execution_count": 41,
      "outputs": []
    },
    {
      "cell_type": "code",
      "source": [
        "y_decoded_pred"
      ],
      "metadata": {
        "id": "_lvFhrmPhprD",
        "colab": {
          "base_uri": "https://localhost:8080/"
        },
        "outputId": "af180db6-59a7-47de-c442-7f0d1bc23c21"
      },
      "execution_count": 42,
      "outputs": [
        {
          "output_type": "execute_result",
          "data": {
            "text/plain": [
              "<tf.Tensor: shape=(15000,), dtype=int64, numpy=array([0, 4, 7, ..., 7, 3, 1])>"
            ]
          },
          "metadata": {},
          "execution_count": 42
        }
      ]
    },
    {
      "cell_type": "code",
      "source": [
        "y_decoded"
      ],
      "metadata": {
        "id": "YV1FXgHviPwm",
        "colab": {
          "base_uri": "https://localhost:8080/"
        },
        "outputId": "8d5a8bdd-3703-46bd-e0eb-c14c681b823e"
      },
      "execution_count": 43,
      "outputs": [
        {
          "output_type": "execute_result",
          "data": {
            "text/plain": [
              "<tf.Tensor: shape=(15000,), dtype=int64, numpy=array([4, 4, 7, ..., 7, 3, 1])>"
            ]
          },
          "metadata": {},
          "execution_count": 43
        }
      ]
    },
    {
      "cell_type": "code",
      "source": [
        "y_test_pred = y_decoded_pred\n"
      ],
      "metadata": {
        "id": "6-6jFqzGh380"
      },
      "execution_count": 44,
      "outputs": []
    },
    {
      "cell_type": "code",
      "source": [
        "y_test = y_decoded"
      ],
      "metadata": {
        "id": "9pogVvdIiwss"
      },
      "execution_count": 45,
      "outputs": []
    },
    {
      "cell_type": "code",
      "source": [
        "y_test"
      ],
      "metadata": {
        "id": "oGt5aJetiKR6",
        "colab": {
          "base_uri": "https://localhost:8080/"
        },
        "outputId": "a9352a09-5b6b-40b4-daae-6d9f5f11b804"
      },
      "execution_count": 46,
      "outputs": [
        {
          "output_type": "execute_result",
          "data": {
            "text/plain": [
              "<tf.Tensor: shape=(15000,), dtype=int64, numpy=array([4, 4, 7, ..., 7, 3, 1])>"
            ]
          },
          "metadata": {},
          "execution_count": 46
        }
      ]
    },
    {
      "cell_type": "code",
      "source": [
        "y_test_pred"
      ],
      "metadata": {
        "id": "fLgDwAIfiyv2",
        "colab": {
          "base_uri": "https://localhost:8080/"
        },
        "outputId": "b398da64-418f-4168-9e7a-f94a857c736b"
      },
      "execution_count": 47,
      "outputs": [
        {
          "output_type": "execute_result",
          "data": {
            "text/plain": [
              "<tf.Tensor: shape=(15000,), dtype=int64, numpy=array([0, 4, 7, ..., 7, 3, 1])>"
            ]
          },
          "metadata": {},
          "execution_count": 47
        }
      ]
    },
    {
      "cell_type": "code",
      "execution_count": 48,
      "metadata": {
        "id": "fTCsPjW8dQaZ"
      },
      "outputs": [],
      "source": [
        "cfm=confusion_matrix(y_test, y_test_pred)"
      ]
    },
    {
      "cell_type": "code",
      "source": [
        "cfm"
      ],
      "metadata": {
        "id": "_67lPg6ic4cH",
        "colab": {
          "base_uri": "https://localhost:8080/"
        },
        "outputId": "5518adef-5479-489a-8572-b4f4a8a099b1"
      },
      "execution_count": 49,
      "outputs": [
        {
          "output_type": "execute_result",
          "data": {
            "text/plain": [
              "array([[1849,   28,    0,    0,    0,    0,    0,    0],\n",
              "       [  74, 1773,   13,    0,    0,    0,    0,   14],\n",
              "       [ 497,   17, 1191,   96,    6,    6,   28,   51],\n",
              "       [ 602,    0,   20, 1059,   77,   97,    6,    1],\n",
              "       [ 720,    0,    6,  178,  784,  121,   69,    9],\n",
              "       [ 871,    0,    7,  164,   65,  752,   29,    4],\n",
              "       [ 715,    0,   29,    5,   21,   37,  780,  243],\n",
              "       [ 389,    9,    3,    0,    3,    1,  138, 1343]])"
            ]
          },
          "metadata": {},
          "execution_count": 49
        }
      ]
    },
    {
      "cell_type": "code",
      "source": [
        " print(classification_report(y_test,y_test_pred))"
      ],
      "metadata": {
        "id": "XTqR_xnwRWCJ",
        "colab": {
          "base_uri": "https://localhost:8080/"
        },
        "outputId": "2a01d188-7d33-4d53-f388-31e50fee0ec5"
      },
      "execution_count": 50,
      "outputs": [
        {
          "output_type": "stream",
          "name": "stdout",
          "text": [
            "              precision    recall  f1-score   support\n",
            "\n",
            "           0       0.32      0.99      0.49      1877\n",
            "           1       0.97      0.95      0.96      1874\n",
            "           2       0.94      0.63      0.75      1892\n",
            "           3       0.71      0.57      0.63      1862\n",
            "           4       0.82      0.42      0.55      1887\n",
            "           5       0.74      0.40      0.52      1892\n",
            "           6       0.74      0.43      0.54      1830\n",
            "           7       0.81      0.71      0.76      1886\n",
            "\n",
            "    accuracy                           0.64     15000\n",
            "   macro avg       0.76      0.64      0.65     15000\n",
            "weighted avg       0.76      0.64      0.65     15000\n",
            "\n"
          ]
        }
      ]
    },
    {
      "cell_type": "code",
      "execution_count": 51,
      "metadata": {
        "id": "te3fslrY9Eca",
        "colab": {
          "base_uri": "https://localhost:8080/",
          "height": 903
        },
        "outputId": "68183efa-2eac-4612-e8a2-93d3e74990d4"
      },
      "outputs": [
        {
          "output_type": "stream",
          "name": "stdout",
          "text": [
            "Confusion matrix, without normalization\n",
            "[[1849   28    0    0    0    0    0    0]\n",
            " [  74 1773   13    0    0    0    0   14]\n",
            " [ 497   17 1191   96    6    6   28   51]\n",
            " [ 602    0   20 1059   77   97    6    1]\n",
            " [ 720    0    6  178  784  121   69    9]\n",
            " [ 871    0    7  164   65  752   29    4]\n",
            " [ 715    0   29    5   21   37  780  243]\n",
            " [ 389    9    3    0    3    1  138 1343]]\n",
            "Normalized confusion matrix\n",
            "[[0.99 0.01 0.   0.   0.   0.   0.   0.  ]\n",
            " [0.04 0.95 0.01 0.   0.   0.   0.   0.01]\n",
            " [0.26 0.01 0.63 0.05 0.   0.   0.01 0.03]\n",
            " [0.32 0.   0.01 0.57 0.04 0.05 0.   0.  ]\n",
            " [0.38 0.   0.   0.09 0.42 0.06 0.04 0.  ]\n",
            " [0.46 0.   0.   0.09 0.03 0.4  0.02 0.  ]\n",
            " [0.39 0.   0.02 0.   0.01 0.02 0.43 0.13]\n",
            " [0.21 0.   0.   0.   0.   0.   0.07 0.71]]\n"
          ]
        },
        {
          "output_type": "display_data",
          "data": {
            "text/plain": [
              "<Figure size 432x288 with 2 Axes>"
            ],
            "image/png": "[encoded data removed]"
          },
          "metadata": {
            "needs_background": "light"
          }
        },
        {
          "output_type": "display_data",
          "data": {
            "text/plain": [
              "<Figure size 432x288 with 2 Axes>"
            ],
            "image/png": "[encoded data removed]"
          },
          "metadata": {
            "needs_background": "light"
          }
        }
      ],
      "source": [
        "import numpy as np\n",
        "import matplotlib.pyplot as plt\n",
        "\n",
        "from sklearn import svm, datasets\n",
        "from sklearn.model_selection import train_test_split\n",
        "from sklearn.metrics import confusion_matrix\n",
        "from sklearn.utils.multiclass import unique_labels\n",
        "\n",
        "class_names = np.array(['0', '1', '2', '3', '4', '5', '6', '7'])\n",
        "\n",
        "def plot_confusion_matrix(y_true, y_pred, classes,\n",
        "                          normalize=False,\n",
        "                          title=None,\n",
        "                          cmap=plt.cm.Blues):\n",
        "    \"\"\"\n",
        "    This function prints and plots the confusion matrix.\n",
        "    Normalization can be applied by setting `normalize=True`.\n",
        "    \"\"\"\n",
        "    if not title:\n",
        "        if normalize:\n",
        "            title = 'Normalized confusion matrix'\n",
        "        else:\n",
        "            title = 'Confusion matrix, without normalization'\n",
        "\n",
        "    # Compute confusion matrix\n",
        "    cm = confusion_matrix(y_true, y_pred)\n",
        "    # Only use the labels that appear in the data\n",
        "    classes = classes[unique_labels(y_true, y_pred)]\n",
        "    if normalize:\n",
        "        cm = cm.astype('float') / cm.sum(axis=1)[:, np.newaxis]\n",
        "        print(\"Normalized confusion matrix\")\n",
        "    else:\n",
        "        print('Confusion matrix, without normalization')\n",
        "\n",
        "    print(cm)\n",
        "\n",
        "    fig, ax = plt.subplots()\n",
        "    im = ax.imshow(cm, interpolation='nearest', cmap=cmap)\n",
        "    ax.figure.colorbar(im, ax=ax)\n",
        "    # We want to show all ticks...\n",
        "    ax.set(xticks=np.arange(cm.shape[1]),\n",
        "           yticks=np.arange(cm.shape[0]),\n",
        "           # ... and label them with the respective list entries\n",
        "           xticklabels=classes, yticklabels=classes,\n",
        "           title=title,\n",
        "           ylabel='True label',\n",
        "           xlabel='Predicted label')\n",
        "\n",
        "    # Rotate the tick labels and set their alignment.\n",
        "    plt.setp(ax.get_xticklabels(), rotation=45, ha=\"right\",\n",
        "             rotation_mode=\"anchor\")\n",
        "\n",
        "    # Loop over data dimensions and create text annotations.\n",
        "    fmt = '.2f' if normalize else 'd'\n",
        "    thresh = cm.max() / 2.\n",
        "    for i in range(cm.shape[0]):\n",
        "        for j in range(cm.shape[1]):\n",
        "            ax.text(j, i, format(cm[i, j], fmt),\n",
        "                    ha=\"center\", va=\"center\",\n",
        "                    color=\"white\" if cm[i, j] > thresh else \"black\")\n",
        "    fig.tight_layout()\n",
        "\n",
        "    return ax\n",
        "\n",
        "\n",
        "np.set_printoptions(precision=2)\n",
        "\n",
        "# Plot non-normalized confusion matrix\n",
        "plot_confusion_matrix(y_test, y_test_pred, classes=class_names,\n",
        "                      title='Confusion matrix, without normalization')\n",
        "\n",
        "# Plot normalized confusion matrix\n",
        "plot_confusion_matrix(y_test, y_test_pred, classes=class_names, normalize=True,\n",
        "                      title='Normalized confusion matrix')\n",
        "\n",
        "plt.show()"
      ]
    },
    {
      "cell_type": "code",
      "execution_count": 52,
      "metadata": {
        "id": "fhdLAhgPUnH3"
      },
      "outputs": [],
      "source": [
        "def plot_learningCurve(history, epoch):\n",
        "  # Plot training & validation accuracy values\n",
        "  epoch_range = range(1, epoch+1)\n",
        "  plt.plot(epoch_range, history.history['accuracy'])\n",
        "  plt.plot(epoch_range, history.history['val_accuracy'])\n",
        "  plt.title('Model accuracy')\n",
        "  plt.ylabel('Accuracy')\n",
        "  plt.xlabel('Epoch')\n",
        "  plt.legend(['Train', 'Val'], loc='upper left')\n",
        "  plt.show()\n",
        "\n",
        "  # Plot training & validation loss values\n",
        "  plt.plot(epoch_range, history.history['loss'])\n",
        "  plt.plot(epoch_range, history.history['val_loss'])\n",
        "  plt.title('Model loss')\n",
        "  plt.ylabel('Loss')\n",
        "  plt.xlabel('Epoch')\n",
        "  plt.legend(['Train', 'Val'], loc='upper left')\n",
        "  plt.show()"
      ]
    },
    {
      "cell_type": "code",
      "execution_count": 53,
      "metadata": {
        "id": "WlkQkWHgU5mL",
        "colab": {
          "base_uri": "https://localhost:8080/",
          "height": 581
        },
        "outputId": "6019d8e8-3ed1-4cf0-d00c-d7461f4efdd1"
      },
      "outputs": [
        {
          "output_type": "display_data",
          "data": {
            "text/plain": [
              "<Figure size 432x288 with 1 Axes>"
            ],
            "image/png": "[encoded data removed]"
          },
          "metadata": {
            "needs_background": "light"
          }
        },
        {
          "output_type": "display_data",
          "data": {
            "text/plain": [
              "<Figure size 432x288 with 1 Axes>"
            ],
            "image/png": "[encoded data removed]"
          },
          "metadata": {
            "needs_background": "light"
          }
        }
      ],
      "source": [
        "plot_learningCurve(history, 100)"
      ]
    }
  ],
  "metadata": {
    "colab": {
      "collapsed_sections": [
        "f857kfHqUk0-"
      ],
      "name": "Multi_Class_MD_LSTM_step_200_files_120.ipynb",
      "provenance": [],
      "include_colab_link": true
    },
    "kernelspec": {
      "display_name": "Python 3",
      "name": "python3"
    },
    "language_info": {
      "name": "python"
    },
    "accelerator": "GPU"
  },
  "nbformat": 4,
  "nbformat_minor": 0
}
