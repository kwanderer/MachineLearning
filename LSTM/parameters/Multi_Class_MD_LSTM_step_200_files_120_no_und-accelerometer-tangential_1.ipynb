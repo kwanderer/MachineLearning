{
  "cells": [
    {
      "cell_type": "markdown",
      "metadata": {
        "id": "view-in-github",
        "colab_type": "text"
      },
      "source": [
        "<a href=\"https://colab.research.google.com/github/kwanderer/Autonomas-sistemas-un-roboti/blob/main/Multi_Class_MD_LSTM_step_200_files_120_no_und-accelerometer-tangential_1.ipynb\" target=\"_parent\"><img src=\"https://colab.research.google.com/assets/colab-badge.svg\" alt=\"Open In Colab\"/></a>"
      ]
    },
    {
      "cell_type": "markdown",
      "metadata": {
        "id": "f857kfHqUk0-"
      },
      "source": [
        "\n",
        "\n",
        "#Datu kopa"
      ]
    },
    {
      "cell_type": "markdown",
      "metadata": {
        "id": "nM9WE3QGUwVi"
      },
      "source": [
        "Datu kopas avots: https://www.kaggle.com/uysalserkan/fault-induction-motor-dataset"
      ]
    },
    {
      "cell_type": "markdown",
      "metadata": {
        "id": "_sN_h3qHHy6r"
      },
      "source": [
        "Darbā tiek izmantota indukcijas motora parametru datu bāze. Izmantotajā datu kopā ir dati, kas tika iegūti SpectraQuest aparatūras kļūdu simulatorā (Machinery Fault Simulator).\n",
        "\n",
        "Katra mērījumu secība tika ģenerēta ar frekvenci 50 kHz 5 sekunžu laikā, kopā 250 000 mērījumi.\n",
        "\n",
        "Dati ir apkopoti vairākos failos, dažādos darbības stāvokļos un to apjoms ir ļoti liels. Šajā darbā tika izmantota daļa(viena mērījumu secība) no motora normālas darbības datiem.\n"
      ]
    },
    {
      "cell_type": "markdown",
      "metadata": {
        "id": "KtFAOaHYHLPo"
      },
      "source": [
        "Dati ir apkopoti tabulā, kura satur 8 parametrus. Dati ir iedalīti sekojošās kolonas:\n",
        "\n",
        "**tachometer** – tahometra signāls, kas ļauj novērtēt rotācijas frekvenci\n",
        "\n",
        "**und-accelerometer-axial** - apakšā esošā gultņa akselerometrs (aksiālais virziens)\n",
        "\n",
        "**und-accelerometer-radial** – apakšā esošā gultņa akselerometrs (radiālais virziens)\n",
        "\n",
        "**und-accelerometer-tangential** - apakšā esošā gultņa akselerometrs (tangenciālais virziens)\n",
        "\n",
        "**over-accelerometer-axial** - pārkares gultņa akselerometrs (aksiālais virziens)\n",
        "\n",
        "**over-accelerometer-radial** – pārkares gultņa akselerometrs (radiālais  virziens)\n",
        "\n",
        "**over-accelerometer-tangential**  - pārkares gultņa akselerometrs (tangenciālais virziens)\n",
        "\n",
        "**microphone** – mikrofona vērtība\n"
      ]
    },
    {
      "cell_type": "markdown",
      "metadata": {
        "id": "XymoNLKMVFUC"
      },
      "source": [
        "#Datu ielasīšana un satura vizualizācija"
      ]
    },
    {
      "cell_type": "code",
      "execution_count": 91,
      "metadata": {
        "id": "_yqYZDeOFq5s"
      },
      "outputs": [],
      "source": [
        "import keras\n",
        "from keras.layers import LSTM, Dropout, Dense\n",
        "import tensorflow as tf\n",
        "import numpy as np\n",
        "import pandas as pd\n",
        "\n",
        "from sklearn import linear_model  #pip install sklearn - loti plasa masinapmacibas biblioteka\n",
        "from sklearn.linear_model import LinearRegression  \n",
        "import csv          #pip install csv - darbam ar CSV datu kopam\n",
        "import requests     #pip install requests  - vienkarsakam darbam ar tiessaistes CSV datu kopam tiessaistes\n",
        "\n",
        "import matplotlib\n",
        "import matplotlib.pyplot as plt\n",
        "\n",
        "import glob\n"
      ]
    },
    {
      "cell_type": "code",
      "execution_count": 92,
      "metadata": {
        "id": "wlRTBbM2eUcV",
        "colab": {
          "base_uri": "https://localhost:8080/"
        },
        "outputId": "05499a6d-5e74-48b1-8bcb-3afa307e621e"
      },
      "outputs": [
        {
          "output_type": "stream",
          "name": "stdout",
          "text": [
            "Drive already mounted at /content/gdrive; to attempt to forcibly remount, call drive.mount(\"/content/gdrive\", force_remount=True).\n"
          ]
        }
      ],
      "source": [
        "from google.colab import drive\n",
        "import os\n",
        "drive.mount('/content/gdrive')\n",
        "os.chdir(\"/content/gdrive/MyDrive/Colab Notebooks/data_multiclass/\")"
      ]
    },
    {
      "cell_type": "code",
      "execution_count": 93,
      "metadata": {
        "id": "zzz6fBl_SNom"
      },
      "outputs": [],
      "source": [
        "#extension = 'csv'\n",
        "#all_filenames = [i for i in glob.glob('*.{}'.format(extension))]"
      ]
    },
    {
      "cell_type": "code",
      "execution_count": 94,
      "metadata": {
        "id": "vagKFCkToBi0"
      },
      "outputs": [],
      "source": [
        "#combine all files in the list\n",
        "#combined_csv = pd.concat([pd.read_csv(f) for f in all_filenames ])\n",
        "#export to csv\n",
        "#combined_csv.to_csv( \"combined_multiclass_csv.csv\", index=False, encoding='utf-8-sig')"
      ]
    },
    {
      "cell_type": "code",
      "execution_count": 95,
      "metadata": {
        "id": "encEkbDhSfGI"
      },
      "outputs": [],
      "source": [
        "data = pd.read_csv(\"combined_multiclass_csv.csv\")"
      ]
    },
    {
      "cell_type": "code",
      "execution_count": 96,
      "metadata": {
        "id": "yz5Qe8ZWk1Zq",
        "colab": {
          "base_uri": "https://localhost:8080/"
        },
        "outputId": "edf3c4f1-cb82-44c1-8a42-5663c86acb17"
      },
      "outputs": [
        {
          "output_type": "stream",
          "name": "stdout",
          "text": [
            "<class 'pandas.core.frame.DataFrame'>\n",
            "RangeIndex: 30000000 entries, 0 to 29999999\n",
            "Data columns (total 9 columns):\n",
            " #   Column                         Dtype  \n",
            "---  ------                         -----  \n",
            " 0   tachometer                     float64\n",
            " 1   und-accelerometer-axial        float64\n",
            " 2   und-accelerometer-radial       float64\n",
            " 3   und-accelerometer-tangential   float64\n",
            " 4   over-accelerometer-axial       float64\n",
            " 5   over-accelerometer-radial      float64\n",
            " 6   over-accelerometer-tangential  float64\n",
            " 7   microphone                     float64\n",
            " 8   Class                          int64  \n",
            "dtypes: float64(8), int64(1)\n",
            "memory usage: 2.0 GB\n"
          ]
        }
      ],
      "source": [
        "data.info()"
      ]
    },
    {
      "cell_type": "code",
      "execution_count": 97,
      "metadata": {
        "id": "WUW9ezX6a_st",
        "colab": {
          "base_uri": "https://localhost:8080/"
        },
        "outputId": "04a6677d-7d82-48a8-d58b-6475fde66671"
      },
      "outputs": [
        {
          "output_type": "execute_result",
          "data": {
            "text/plain": [
              "30000000"
            ]
          },
          "metadata": {},
          "execution_count": 97
        }
      ],
      "source": [
        "rec_count = len(data)\n",
        "rec_count"
      ]
    },
    {
      "cell_type": "markdown",
      "metadata": {
        "id": "6RVC1PZy88fC"
      },
      "source": [
        "# Datu dalīšana mazākos gabalos"
      ]
    },
    {
      "cell_type": "code",
      "execution_count": 98,
      "metadata": {
        "id": "DOvnCYkcbGaE"
      },
      "outputs": [],
      "source": [
        "sequence_length = 200"
      ]
    },
    {
      "cell_type": "code",
      "execution_count": 99,
      "metadata": {
        "id": "RG0o2L3zbTEx"
      },
      "outputs": [],
      "source": [
        "def generate_data(X, y, sequence_length = 200, step = 200):\n",
        "    X_local = []\n",
        "    y_local = []\n",
        "    for start in range(0, len(data) - sequence_length, step):\n",
        "        end = start + sequence_length\n",
        "        X_local.append(X[start:end])\n",
        "        y_local.append(y[end-1])\n",
        "    return np.array(X_local), np.array(y_local)\n",
        "\n",
        "#X_sequence, y = generate_data(data.loc[:, [\"tachometer\", \"und-accelerometer-axial\", \"und-accelerometer-radial\", \"und-accelerometer-tangential\", \"over-accelerometer-axial\", \"over-accelerometer-radial\", \"over-accelerometer-tangential\", \"microphone\"]].values, data.Class)\n",
        "X_sequence, y = generate_data(data.loc[:, [\"tachometer\", \"und-accelerometer-axial\", \"und-accelerometer-radial\", \"over-accelerometer-axial\", \"over-accelerometer-radial\", \"over-accelerometer-tangential\", \"microphone\"]].values, data.Class)\n"
      ]
    },
    {
      "cell_type": "code",
      "execution_count": 100,
      "metadata": {
        "id": "s0QxwK66cLVF",
        "colab": {
          "base_uri": "https://localhost:8080/"
        },
        "outputId": "4439e89e-5fdf-4db9-eb7d-9d5c722bc6a6"
      },
      "outputs": [
        {
          "output_type": "execute_result",
          "data": {
            "text/plain": [
              "((149999, 200, 7), (149999,))"
            ]
          },
          "metadata": {},
          "execution_count": 100
        }
      ],
      "source": [
        "X_sequence.shape, y.shape"
      ]
    },
    {
      "cell_type": "code",
      "source": [
        "unique, counts = np.unique(y, return_counts=True)"
      ],
      "metadata": {
        "id": "l8Lq455lV1JR"
      },
      "execution_count": 101,
      "outputs": []
    },
    {
      "cell_type": "code",
      "source": [
        "unique"
      ],
      "metadata": {
        "id": "t0BRO3nAWQxe",
        "colab": {
          "base_uri": "https://localhost:8080/"
        },
        "outputId": "02df7285-30d8-4b80-ce96-2a30ea207743"
      },
      "execution_count": 102,
      "outputs": [
        {
          "output_type": "execute_result",
          "data": {
            "text/plain": [
              "array([0, 1, 2, 3, 4, 5, 6, 7])"
            ]
          },
          "metadata": {},
          "execution_count": 102
        }
      ]
    },
    {
      "cell_type": "code",
      "source": [
        "counts"
      ],
      "metadata": {
        "id": "WWZ7QWR4WS_r",
        "colab": {
          "base_uri": "https://localhost:8080/"
        },
        "outputId": "8f6bec9c-3e1c-4260-cbdd-ab6ba72fe864"
      },
      "execution_count": 103,
      "outputs": [
        {
          "output_type": "execute_result",
          "data": {
            "text/plain": [
              "array([18749, 18750, 18750, 18750, 18750, 18750, 18750, 18750])"
            ]
          },
          "metadata": {},
          "execution_count": 103
        }
      ]
    },
    {
      "cell_type": "code",
      "execution_count": 104,
      "metadata": {
        "id": "i7R1oo6Mj8wx"
      },
      "outputs": [],
      "source": [
        "data = 0"
      ]
    },
    {
      "cell_type": "code",
      "source": [
        "from sklearn.preprocessing import OneHotEncoder"
      ],
      "metadata": {
        "id": "lAk_JscRWmqY"
      },
      "execution_count": 105,
      "outputs": []
    },
    {
      "cell_type": "code",
      "source": [
        "label_encoder = OneHotEncoder(sparse=False)\n",
        "label_encoder.fit(y.reshape(-1,1))"
      ],
      "metadata": {
        "id": "14B9aYy0W0y6",
        "colab": {
          "base_uri": "https://localhost:8080/"
        },
        "outputId": "fa30b07b-b9db-4cde-c99e-e2e8fafac2c6"
      },
      "execution_count": 106,
      "outputs": [
        {
          "output_type": "execute_result",
          "data": {
            "text/plain": [
              "OneHotEncoder(sparse=False)"
            ]
          },
          "metadata": {},
          "execution_count": 106
        }
      ]
    },
    {
      "cell_type": "code",
      "source": [
        "y_encoded = label_encoder.transform(y.reshape(-1,1))"
      ],
      "metadata": {
        "id": "VjpWn96xXgPS"
      },
      "execution_count": 107,
      "outputs": []
    },
    {
      "cell_type": "code",
      "source": [
        "y_encoded[0:5]"
      ],
      "metadata": {
        "id": "VL6KMFo9XpBi",
        "colab": {
          "base_uri": "https://localhost:8080/"
        },
        "outputId": "35a2f949-45c2-4376-e94a-a14f533f98bf"
      },
      "execution_count": 108,
      "outputs": [
        {
          "output_type": "execute_result",
          "data": {
            "text/plain": [
              "array([[0., 0., 0., 0., 0., 0., 0., 1.],\n",
              "       [0., 0., 0., 0., 0., 0., 0., 1.],\n",
              "       [0., 0., 0., 0., 0., 0., 0., 1.],\n",
              "       [0., 0., 0., 0., 0., 0., 0., 1.],\n",
              "       [0., 0., 0., 0., 0., 0., 0., 1.]])"
            ]
          },
          "metadata": {},
          "execution_count": 108
        }
      ]
    },
    {
      "cell_type": "code",
      "source": [
        "y=y_encoded"
      ],
      "metadata": {
        "id": "5c8km253YKBl"
      },
      "execution_count": 109,
      "outputs": []
    },
    {
      "cell_type": "markdown",
      "metadata": {
        "id": "5BXSDoHa9UX_"
      },
      "source": [
        "# Random/Shuffle"
      ]
    },
    {
      "cell_type": "code",
      "execution_count": 110,
      "metadata": {
        "id": "ZcfE9idy-ckb"
      },
      "outputs": [],
      "source": [
        "shuffler = np.random.permutation(len(X_sequence))\n",
        "X_sequence_shuffled = X_sequence[shuffler]\n",
        "y_shuffled = y[shuffler]"
      ]
    },
    {
      "cell_type": "markdown",
      "metadata": {
        "id": "TfhRTTNcE2s8"
      },
      "source": [
        "# LSTM"
      ]
    },
    {
      "cell_type": "code",
      "execution_count": 111,
      "metadata": {
        "id": "ihrXMuVAEwlY"
      },
      "outputs": [],
      "source": [
        "import pandas as pd\n",
        "import sklearn.metrics as metrique\n",
        "from pandas import Series\n",
        "from sklearn.preprocessing import StandardScaler, MinMaxScaler\n",
        "from matplotlib import pyplot\n",
        "from sklearn.model_selection import train_test_split\n",
        "import numpy as np\n",
        "import tensorflow as tf\n",
        "import sys\n",
        "import numpy as np\n",
        "import pandas as pd\n",
        "import tensorflow as tf\n",
        "import matplotlib.pyplot as plt\n",
        "from sklearn.model_selection import train_test_split\n",
        "from sklearn import preprocessing\n",
        "from sklearn.preprocessing import StandardScaler\n",
        "from sklearn.metrics import classification_report\n",
        "import warnings\n",
        "warnings.filterwarnings('ignore')\n",
        "plt.style.use('ggplot')\n",
        "import seaborn as sns \n",
        "%matplotlib inline\n",
        "from keras.callbacks import EarlyStopping\n",
        "from keras.callbacks import ModelCheckpoint\n",
        "from sklearn.metrics import accuracy_score\n",
        "from sklearn.metrics import classification_report, confusion_matrix\n",
        "from keras.models import Sequential\n",
        "from keras.utils import np_utils\n",
        "from keras.layers import LSTM, Dense, Embedding, Dropout,Input, Layer, Concatenate, Permute, Dot, Multiply, Flatten\n",
        "from keras.layers import RepeatVector, Dense, Activation, Lambda\n",
        "from keras.models import Sequential\n",
        "from keras import backend as K, regularizers, Model, metrics\n",
        "from keras.backend import cast"
      ]
    },
    {
      "cell_type": "code",
      "execution_count": 112,
      "metadata": {
        "id": "PjKWKiA6aH3z"
      },
      "outputs": [],
      "source": [
        "#from tensorflow.keras import optimizers\n",
        "#sgd = optimizers.SGD(lr=0.0001, decay=1e-6, momentum=0.9, nesterov=True)\n",
        "#model = keras.Sequential()\n",
        "#model.add(LSTM(100, input_shape = (200, 8)))\n",
        "#model.add(Dropout(0.5))\n",
        "#model.add(Dense(1, activation=\"softmax\"))\n",
        "\n",
        "\n",
        "#model.compile(loss=\"categorical_crossentropy\"\n",
        "#              , metrics=[keras.metrics.binary_accuracy]\n",
        "#              , optimizer='sgd')\n",
        "\n",
        "#model.summary()"
      ]
    },
    {
      "cell_type": "code",
      "execution_count": 113,
      "metadata": {
        "id": "_2SaVmwSWJVB",
        "colab": {
          "base_uri": "https://localhost:8080/"
        },
        "outputId": "dbd5a008-41be-42b4-da47-cd9b8a2cd252"
      },
      "outputs": [
        {
          "output_type": "stream",
          "name": "stdout",
          "text": [
            "Model: \"sequential_3\"\n",
            "_________________________________________________________________\n",
            " Layer (type)                Output Shape              Param #   \n",
            "=================================================================\n",
            " lstm_3 (LSTM)               (None, 150)               94800     \n",
            "                                                                 \n",
            " dropout_3 (Dropout)         (None, 150)               0         \n",
            "                                                                 \n",
            " dense_3 (Dense)             (None, 8)                 1208      \n",
            "                                                                 \n",
            "=================================================================\n",
            "Total params: 96,008\n",
            "Trainable params: 96,008\n",
            "Non-trainable params: 0\n",
            "_________________________________________________________________\n"
          ]
        }
      ],
      "source": [
        "from tensorflow.keras import optimizers\n",
        "#sgd = optimizers.SGD(lr=0.0001, decay=1e-6, momentum=0.9, nesterov=True)\n",
        "optimizer = tf.keras.optimizers.Adam(lr=0.0001)\n",
        "model = keras.Sequential()\n",
        "model.add(LSTM(150, input_shape = (200, 7)))\n",
        "model.add(Dropout(0.5))#0.25\n",
        "model.add(Dense(8, activation=\"softmax\"))\n",
        "\n",
        "#model.compile(loss='mean_squared_error', optimizer=sgd)\n",
        "model.compile(loss=\"categorical_crossentropy\"\n",
        "              , metrics=['accuracy']\n",
        "              , optimizer=optimizer)\n",
        "\n",
        "model.summary()"
      ]
    },
    {
      "cell_type": "code",
      "execution_count": 114,
      "metadata": {
        "id": "tg8wrqsqc8UX"
      },
      "outputs": [],
      "source": [
        "training_size = int(len(X_sequence) * 0.8)\n",
        "val_size = int(len(X_sequence) * 0.9)"
      ]
    },
    {
      "cell_type": "code",
      "execution_count": 115,
      "metadata": {
        "id": "avIp3TEKc-qF"
      },
      "outputs": [],
      "source": [
        "X_train, y_train = X_sequence_shuffled[:training_size], y_shuffled[:training_size]\n",
        "X_val, y_val = X_sequence_shuffled[training_size:val_size], y_shuffled[training_size:val_size]\n",
        "X_test, y_test = X_sequence_shuffled[val_size:], y_shuffled[val_size:]"
      ]
    },
    {
      "cell_type": "code",
      "execution_count": 116,
      "metadata": {
        "id": "RABc_uKzkBUT"
      },
      "outputs": [],
      "source": [
        "#X_sequence = 0\n",
        "#y = 0"
      ]
    },
    {
      "cell_type": "code",
      "source": [
        "X_train.shape"
      ],
      "metadata": {
        "id": "Omv-ht1dhGxL",
        "colab": {
          "base_uri": "https://localhost:8080/"
        },
        "outputId": "6a0be9b0-95b3-466b-faa1-b31c67602acf"
      },
      "execution_count": 117,
      "outputs": [
        {
          "output_type": "execute_result",
          "data": {
            "text/plain": [
              "(119999, 200, 7)"
            ]
          },
          "metadata": {},
          "execution_count": 117
        }
      ]
    },
    {
      "cell_type": "code",
      "execution_count": 118,
      "metadata": {
        "id": "8aIhPJ-wLCwZ",
        "colab": {
          "base_uri": "https://localhost:8080/"
        },
        "outputId": "878d333b-e796-40a8-adaa-b5750850af0b"
      },
      "outputs": [
        {
          "output_type": "execute_result",
          "data": {
            "text/plain": [
              "array([[0., 0., 0., 0., 0., 1., 0., 0.],\n",
              "       [0., 0., 0., 0., 0., 0., 0., 1.],\n",
              "       [0., 0., 1., 0., 0., 0., 0., 0.],\n",
              "       [0., 0., 0., 0., 0., 1., 0., 0.],\n",
              "       [0., 0., 0., 1., 0., 0., 0., 0.],\n",
              "       [0., 0., 1., 0., 0., 0., 0., 0.],\n",
              "       [0., 0., 0., 0., 1., 0., 0., 0.],\n",
              "       [0., 0., 0., 0., 0., 1., 0., 0.],\n",
              "       [0., 0., 0., 1., 0., 0., 0., 0.],\n",
              "       [0., 0., 0., 0., 0., 1., 0., 0.]])"
            ]
          },
          "metadata": {},
          "execution_count": 118
        }
      ],
      "source": [
        "y_train[:10]"
      ]
    },
    {
      "cell_type": "code",
      "execution_count": 119,
      "metadata": {
        "id": "cen4faX0dFJP",
        "colab": {
          "base_uri": "https://localhost:8080/"
        },
        "outputId": "10f21ee5-bbea-4a16-aa0a-f5bc008ff72c"
      },
      "outputs": [
        {
          "output_type": "stream",
          "name": "stdout",
          "text": [
            "Epoch 1/100\n",
            "1875/1875 [==============================] - 28s 14ms/step - loss: 1.7665 - accuracy: 0.2417 - val_loss: 1.6423 - val_accuracy: 0.3005\n",
            "Epoch 2/100\n",
            "1875/1875 [==============================] - 23s 13ms/step - loss: 1.6703 - accuracy: 0.2866 - val_loss: 1.5899 - val_accuracy: 0.3367\n",
            "Epoch 3/100\n",
            "1875/1875 [==============================] - 23s 12ms/step - loss: 1.5473 - accuracy: 0.3458 - val_loss: 1.4888 - val_accuracy: 0.3811\n",
            "Epoch 4/100\n",
            "1875/1875 [==============================] - 23s 13ms/step - loss: 1.5035 - accuracy: 0.3721 - val_loss: 1.4347 - val_accuracy: 0.4147\n",
            "Epoch 5/100\n",
            "1875/1875 [==============================] - 24s 13ms/step - loss: 1.4665 - accuracy: 0.3965 - val_loss: 1.5042 - val_accuracy: 0.3866\n",
            "Epoch 6/100\n",
            "1875/1875 [==============================] - 23s 12ms/step - loss: 1.4986 - accuracy: 0.3907 - val_loss: 1.4327 - val_accuracy: 0.4079\n",
            "Epoch 7/100\n",
            "1875/1875 [==============================] - 24s 13ms/step - loss: 1.4690 - accuracy: 0.3980 - val_loss: 1.4162 - val_accuracy: 0.4210\n",
            "Epoch 8/100\n",
            "1875/1875 [==============================] - 24s 13ms/step - loss: 1.4489 - accuracy: 0.4112 - val_loss: 1.4027 - val_accuracy: 0.4181\n",
            "Epoch 9/100\n",
            "1875/1875 [==============================] - 23s 13ms/step - loss: 1.3968 - accuracy: 0.4271 - val_loss: 1.3470 - val_accuracy: 0.4451\n",
            "Epoch 10/100\n",
            "1875/1875 [==============================] - 23s 13ms/step - loss: 1.4007 - accuracy: 0.4282 - val_loss: 1.3550 - val_accuracy: 0.4507\n",
            "Epoch 11/100\n",
            "1875/1875 [==============================] - 23s 13ms/step - loss: 1.3907 - accuracy: 0.4348 - val_loss: 1.3452 - val_accuracy: 0.4514\n",
            "Epoch 12/100\n",
            "1875/1875 [==============================] - 23s 12ms/step - loss: 1.3605 - accuracy: 0.4446 - val_loss: 1.3221 - val_accuracy: 0.4553\n",
            "Epoch 13/100\n",
            "1875/1875 [==============================] - 23s 12ms/step - loss: 1.3521 - accuracy: 0.4460 - val_loss: 1.2976 - val_accuracy: 0.4653\n",
            "Epoch 14/100\n",
            "1875/1875 [==============================] - 24s 13ms/step - loss: 1.4325 - accuracy: 0.4213 - val_loss: 1.4182 - val_accuracy: 0.4157\n",
            "Epoch 15/100\n",
            "1875/1875 [==============================] - 24s 13ms/step - loss: 1.4201 - accuracy: 0.4234 - val_loss: 1.4642 - val_accuracy: 0.4057\n",
            "Epoch 16/100\n",
            "1875/1875 [==============================] - 23s 13ms/step - loss: 1.3750 - accuracy: 0.4370 - val_loss: 1.3151 - val_accuracy: 0.4511\n",
            "Epoch 17/100\n",
            "1875/1875 [==============================] - 23s 13ms/step - loss: 1.3361 - accuracy: 0.4528 - val_loss: 1.3001 - val_accuracy: 0.4554\n",
            "Epoch 18/100\n",
            "1875/1875 [==============================] - 23s 12ms/step - loss: 1.3285 - accuracy: 0.4571 - val_loss: 1.2793 - val_accuracy: 0.4705\n",
            "Epoch 19/100\n",
            "1875/1875 [==============================] - 23s 13ms/step - loss: 1.3057 - accuracy: 0.4621 - val_loss: 1.3880 - val_accuracy: 0.4343\n",
            "Epoch 20/100\n",
            "1875/1875 [==============================] - 23s 13ms/step - loss: 1.3171 - accuracy: 0.4580 - val_loss: 1.2559 - val_accuracy: 0.4783\n",
            "Epoch 21/100\n",
            "1875/1875 [==============================] - 23s 12ms/step - loss: 1.3615 - accuracy: 0.4443 - val_loss: 1.2889 - val_accuracy: 0.4682\n",
            "Epoch 22/100\n",
            "1875/1875 [==============================] - 23s 13ms/step - loss: 1.3063 - accuracy: 0.4620 - val_loss: 1.2847 - val_accuracy: 0.4633\n",
            "Epoch 23/100\n",
            "1875/1875 [==============================] - 23s 12ms/step - loss: 1.2745 - accuracy: 0.4721 - val_loss: 1.2526 - val_accuracy: 0.4770\n",
            "Epoch 24/100\n",
            "1875/1875 [==============================] - 24s 13ms/step - loss: 1.2441 - accuracy: 0.4842 - val_loss: 1.2290 - val_accuracy: 0.4800\n",
            "Epoch 25/100\n",
            "1875/1875 [==============================] - 23s 13ms/step - loss: 1.2397 - accuracy: 0.4861 - val_loss: 1.3015 - val_accuracy: 0.4581\n",
            "Epoch 26/100\n",
            "1875/1875 [==============================] - 23s 12ms/step - loss: 1.2549 - accuracy: 0.4806 - val_loss: 1.1866 - val_accuracy: 0.5012\n",
            "Epoch 27/100\n",
            "1875/1875 [==============================] - 24s 13ms/step - loss: 1.2192 - accuracy: 0.4951 - val_loss: 1.1812 - val_accuracy: 0.5000\n",
            "Epoch 28/100\n",
            "1875/1875 [==============================] - 24s 13ms/step - loss: 1.2130 - accuracy: 0.4972 - val_loss: 1.2303 - val_accuracy: 0.4938\n",
            "Epoch 29/100\n",
            "1875/1875 [==============================] - 24s 13ms/step - loss: 1.1954 - accuracy: 0.5034 - val_loss: 1.1601 - val_accuracy: 0.5203\n",
            "Epoch 30/100\n",
            "1875/1875 [==============================] - 23s 13ms/step - loss: 1.3180 - accuracy: 0.4593 - val_loss: 1.1989 - val_accuracy: 0.4956\n",
            "Epoch 31/100\n",
            "1875/1875 [==============================] - 24s 13ms/step - loss: 1.1696 - accuracy: 0.5117 - val_loss: 1.1611 - val_accuracy: 0.5109\n",
            "Epoch 32/100\n",
            "1875/1875 [==============================] - 23s 13ms/step - loss: 1.1439 - accuracy: 0.5217 - val_loss: 1.1154 - val_accuracy: 0.5248\n",
            "Epoch 33/100\n",
            "1875/1875 [==============================] - 24s 13ms/step - loss: 1.1801 - accuracy: 0.5087 - val_loss: 1.1620 - val_accuracy: 0.5223\n",
            "Epoch 34/100\n",
            "1875/1875 [==============================] - 24s 13ms/step - loss: 1.1409 - accuracy: 0.5244 - val_loss: 1.0996 - val_accuracy: 0.5430\n",
            "Epoch 35/100\n",
            "1875/1875 [==============================] - 24s 13ms/step - loss: 1.1131 - accuracy: 0.5330 - val_loss: 1.0852 - val_accuracy: 0.5405\n",
            "Epoch 36/100\n",
            "1875/1875 [==============================] - 23s 12ms/step - loss: 1.1407 - accuracy: 0.5282 - val_loss: 1.5480 - val_accuracy: 0.3895\n",
            "Epoch 37/100\n",
            "1875/1875 [==============================] - 24s 13ms/step - loss: 1.1623 - accuracy: 0.5192 - val_loss: 1.1103 - val_accuracy: 0.5398\n",
            "Epoch 38/100\n",
            "1875/1875 [==============================] - 24s 13ms/step - loss: 1.1212 - accuracy: 0.5374 - val_loss: 1.1022 - val_accuracy: 0.5332\n",
            "Epoch 39/100\n",
            "1875/1875 [==============================] - 24s 13ms/step - loss: 1.1559 - accuracy: 0.5233 - val_loss: 1.1250 - val_accuracy: 0.5385\n",
            "Epoch 40/100\n",
            "1875/1875 [==============================] - 24s 13ms/step - loss: 1.0947 - accuracy: 0.5428 - val_loss: 1.0611 - val_accuracy: 0.5532\n",
            "Epoch 41/100\n",
            "1875/1875 [==============================] - 24s 13ms/step - loss: 1.0562 - accuracy: 0.5570 - val_loss: 1.0703 - val_accuracy: 0.5483\n",
            "Epoch 42/100\n",
            "1875/1875 [==============================] - 24s 13ms/step - loss: 1.0415 - accuracy: 0.5592 - val_loss: 1.0564 - val_accuracy: 0.5511\n",
            "Epoch 43/100\n",
            "1875/1875 [==============================] - 23s 12ms/step - loss: 1.1466 - accuracy: 0.5215 - val_loss: 1.0958 - val_accuracy: 0.5364\n",
            "Epoch 44/100\n",
            "1875/1875 [==============================] - 25s 13ms/step - loss: 1.0789 - accuracy: 0.5467 - val_loss: 1.0920 - val_accuracy: 0.5418\n",
            "Epoch 45/100\n",
            "1875/1875 [==============================] - 23s 12ms/step - loss: 1.0722 - accuracy: 0.5514 - val_loss: 1.0341 - val_accuracy: 0.5562\n",
            "Epoch 46/100\n",
            "1875/1875 [==============================] - 23s 12ms/step - loss: 1.0298 - accuracy: 0.5677 - val_loss: 0.9830 - val_accuracy: 0.5845\n",
            "Epoch 47/100\n",
            "1875/1875 [==============================] - 23s 12ms/step - loss: 1.1334 - accuracy: 0.5308 - val_loss: 1.0084 - val_accuracy: 0.5783\n",
            "Epoch 48/100\n",
            "1875/1875 [==============================] - 25s 13ms/step - loss: 1.2909 - accuracy: 0.5105 - val_loss: 2.0165 - val_accuracy: 0.2802\n",
            "Epoch 49/100\n",
            "1875/1875 [==============================] - 23s 12ms/step - loss: 1.4695 - accuracy: 0.4199 - val_loss: 1.1766 - val_accuracy: 0.5168\n",
            "Epoch 50/100\n",
            "1875/1875 [==============================] - 23s 12ms/step - loss: 1.3380 - accuracy: 0.4671 - val_loss: 1.2376 - val_accuracy: 0.4873\n",
            "Epoch 51/100\n",
            "1875/1875 [==============================] - 24s 13ms/step - loss: 1.2033 - accuracy: 0.5058 - val_loss: 1.1444 - val_accuracy: 0.5254\n",
            "Epoch 52/100\n",
            "1875/1875 [==============================] - 25s 13ms/step - loss: 1.1211 - accuracy: 0.5327 - val_loss: 1.0572 - val_accuracy: 0.5525\n",
            "Epoch 53/100\n",
            "1875/1875 [==============================] - 25s 13ms/step - loss: 1.0541 - accuracy: 0.5599 - val_loss: 0.9896 - val_accuracy: 0.5823\n",
            "Epoch 54/100\n",
            "1875/1875 [==============================] - 24s 13ms/step - loss: 0.9994 - accuracy: 0.5783 - val_loss: 0.9680 - val_accuracy: 0.5857\n",
            "Epoch 55/100\n",
            "1875/1875 [==============================] - 23s 13ms/step - loss: 0.9853 - accuracy: 0.5848 - val_loss: 0.9366 - val_accuracy: 0.6019\n",
            "Epoch 56/100\n",
            "1875/1875 [==============================] - 24s 13ms/step - loss: 0.9794 - accuracy: 0.5879 - val_loss: 0.9804 - val_accuracy: 0.5822\n",
            "Epoch 57/100\n",
            "1875/1875 [==============================] - 23s 12ms/step - loss: 0.9632 - accuracy: 0.5947 - val_loss: 0.9120 - val_accuracy: 0.6147\n",
            "Epoch 58/100\n",
            "1875/1875 [==============================] - 23s 12ms/step - loss: 0.9527 - accuracy: 0.5986 - val_loss: 1.0442 - val_accuracy: 0.5702\n",
            "Epoch 59/100\n",
            "1875/1875 [==============================] - 23s 12ms/step - loss: 0.9623 - accuracy: 0.5966 - val_loss: 0.9322 - val_accuracy: 0.6003\n",
            "Epoch 60/100\n",
            "1875/1875 [==============================] - 23s 12ms/step - loss: 0.9301 - accuracy: 0.6109 - val_loss: 0.9624 - val_accuracy: 0.5913\n",
            "Epoch 61/100\n",
            "1875/1875 [==============================] - 25s 13ms/step - loss: 0.9234 - accuracy: 0.6109 - val_loss: 0.8863 - val_accuracy: 0.6300\n",
            "Epoch 62/100\n",
            "1875/1875 [==============================] - 23s 12ms/step - loss: 1.0991 - accuracy: 0.5553 - val_loss: 1.1436 - val_accuracy: 0.5331\n",
            "Epoch 63/100\n",
            "1875/1875 [==============================] - 24s 13ms/step - loss: 1.1408 - accuracy: 0.5409 - val_loss: 0.9859 - val_accuracy: 0.5973\n",
            "Epoch 64/100\n",
            "1875/1875 [==============================] - 23s 12ms/step - loss: 0.9863 - accuracy: 0.5955 - val_loss: 0.9679 - val_accuracy: 0.6018\n",
            "Epoch 65/100\n",
            "1875/1875 [==============================] - 25s 13ms/step - loss: 0.9270 - accuracy: 0.6155 - val_loss: 0.8988 - val_accuracy: 0.6263\n",
            "Epoch 66/100\n",
            "1875/1875 [==============================] - 24s 13ms/step - loss: 0.9575 - accuracy: 0.6056 - val_loss: 0.9291 - val_accuracy: 0.6190\n",
            "Epoch 67/100\n",
            "1875/1875 [==============================] - 23s 12ms/step - loss: 0.9127 - accuracy: 0.6186 - val_loss: 0.9368 - val_accuracy: 0.6106\n",
            "Epoch 68/100\n",
            "1875/1875 [==============================] - 23s 12ms/step - loss: 1.0278 - accuracy: 0.5775 - val_loss: 0.8870 - val_accuracy: 0.6218\n",
            "Epoch 69/100\n",
            "1875/1875 [==============================] - 23s 13ms/step - loss: 0.9143 - accuracy: 0.6200 - val_loss: 0.8817 - val_accuracy: 0.6373\n",
            "Epoch 70/100\n",
            "1875/1875 [==============================] - 23s 12ms/step - loss: 0.8989 - accuracy: 0.6254 - val_loss: 0.8697 - val_accuracy: 0.6367\n",
            "Epoch 71/100\n",
            "1875/1875 [==============================] - 24s 13ms/step - loss: 1.0146 - accuracy: 0.5839 - val_loss: 0.8849 - val_accuracy: 0.6361\n",
            "Epoch 72/100\n",
            "1875/1875 [==============================] - 24s 13ms/step - loss: 0.8872 - accuracy: 0.6291 - val_loss: 0.8577 - val_accuracy: 0.6433\n",
            "Epoch 73/100\n",
            "1875/1875 [==============================] - 24s 13ms/step - loss: 0.9494 - accuracy: 0.6128 - val_loss: 0.9175 - val_accuracy: 0.6237\n",
            "Epoch 74/100\n",
            "1875/1875 [==============================] - 24s 13ms/step - loss: 0.9062 - accuracy: 0.6293 - val_loss: 0.8617 - val_accuracy: 0.6406\n",
            "Epoch 75/100\n",
            "1875/1875 [==============================] - 24s 13ms/step - loss: 0.8747 - accuracy: 0.6376 - val_loss: 0.8468 - val_accuracy: 0.6435\n",
            "Epoch 76/100\n",
            "1875/1875 [==============================] - 24s 13ms/step - loss: 0.8609 - accuracy: 0.6406 - val_loss: 0.8361 - val_accuracy: 0.6503\n",
            "Epoch 77/100\n",
            "1875/1875 [==============================] - 24s 13ms/step - loss: 0.8984 - accuracy: 0.6292 - val_loss: 0.8793 - val_accuracy: 0.6343\n",
            "Epoch 78/100\n",
            "1875/1875 [==============================] - 24s 13ms/step - loss: 0.8644 - accuracy: 0.6398 - val_loss: 0.8937 - val_accuracy: 0.6371\n",
            "Epoch 79/100\n",
            "1875/1875 [==============================] - 24s 13ms/step - loss: 0.8494 - accuracy: 0.6468 - val_loss: 0.8134 - val_accuracy: 0.6589\n",
            "Epoch 80/100\n",
            "1875/1875 [==============================] - 24s 13ms/step - loss: 0.8480 - accuracy: 0.6475 - val_loss: 0.8314 - val_accuracy: 0.6575\n",
            "Epoch 81/100\n",
            "1875/1875 [==============================] - 24s 13ms/step - loss: 0.8453 - accuracy: 0.6477 - val_loss: 0.8211 - val_accuracy: 0.6585\n",
            "Epoch 82/100\n",
            "1875/1875 [==============================] - 24s 13ms/step - loss: 0.8583 - accuracy: 0.6470 - val_loss: 0.7978 - val_accuracy: 0.6659\n",
            "Epoch 83/100\n",
            "1875/1875 [==============================] - 24s 13ms/step - loss: 0.8206 - accuracy: 0.6586 - val_loss: 0.8262 - val_accuracy: 0.6519\n",
            "Epoch 84/100\n",
            "1875/1875 [==============================] - 24s 13ms/step - loss: 0.8176 - accuracy: 0.6603 - val_loss: 0.9032 - val_accuracy: 0.6300\n",
            "Epoch 85/100\n",
            "1875/1875 [==============================] - 24s 13ms/step - loss: 0.8238 - accuracy: 0.6592 - val_loss: 0.8047 - val_accuracy: 0.6685\n",
            "Epoch 86/100\n",
            "1875/1875 [==============================] - 25s 13ms/step - loss: 0.8044 - accuracy: 0.6667 - val_loss: 0.7834 - val_accuracy: 0.6732\n",
            "Epoch 87/100\n",
            "1875/1875 [==============================] - 24s 13ms/step - loss: 0.7975 - accuracy: 0.6694 - val_loss: 0.8103 - val_accuracy: 0.6617\n",
            "Epoch 88/100\n",
            "1875/1875 [==============================] - 24s 13ms/step - loss: 0.8603 - accuracy: 0.6473 - val_loss: 0.8435 - val_accuracy: 0.6524\n",
            "Epoch 89/100\n",
            "1875/1875 [==============================] - 24s 13ms/step - loss: 0.8485 - accuracy: 0.6561 - val_loss: 0.8599 - val_accuracy: 0.6597\n",
            "Epoch 90/100\n",
            "1875/1875 [==============================] - 24s 13ms/step - loss: 0.8970 - accuracy: 0.6418 - val_loss: 1.5451 - val_accuracy: 0.4205\n",
            "Epoch 91/100\n",
            "1875/1875 [==============================] - 24s 13ms/step - loss: 1.0072 - accuracy: 0.5928 - val_loss: 0.8019 - val_accuracy: 0.6745\n",
            "Epoch 92/100\n",
            "1875/1875 [==============================] - 24s 13ms/step - loss: 0.7986 - accuracy: 0.6737 - val_loss: 0.7745 - val_accuracy: 0.6775\n",
            "Epoch 93/100\n",
            "1875/1875 [==============================] - 24s 13ms/step - loss: 0.7809 - accuracy: 0.6777 - val_loss: 0.8502 - val_accuracy: 0.6557\n",
            "Epoch 94/100\n",
            "1875/1875 [==============================] - 24s 13ms/step - loss: 0.7828 - accuracy: 0.6783 - val_loss: 0.7385 - val_accuracy: 0.6934\n",
            "Epoch 95/100\n",
            "1875/1875 [==============================] - 25s 13ms/step - loss: 0.7638 - accuracy: 0.6873 - val_loss: 0.7458 - val_accuracy: 0.6898\n",
            "Epoch 96/100\n",
            "1875/1875 [==============================] - 24s 13ms/step - loss: 0.7571 - accuracy: 0.6886 - val_loss: 0.7398 - val_accuracy: 0.7015\n",
            "Epoch 97/100\n",
            "1875/1875 [==============================] - 24s 13ms/step - loss: 0.7581 - accuracy: 0.6879 - val_loss: 0.7625 - val_accuracy: 0.6861\n",
            "Epoch 98/100\n",
            "1875/1875 [==============================] - 24s 13ms/step - loss: 0.7777 - accuracy: 0.6816 - val_loss: 0.7695 - val_accuracy: 0.6796\n",
            "Epoch 99/100\n",
            "1875/1875 [==============================] - 24s 13ms/step - loss: 0.7407 - accuracy: 0.6958 - val_loss: 0.7214 - val_accuracy: 0.7005\n",
            "Epoch 100/100\n",
            "1875/1875 [==============================] - 24s 13ms/step - loss: 0.7336 - accuracy: 0.6994 - val_loss: 0.6940 - val_accuracy: 0.7147\n"
          ]
        }
      ],
      "source": [
        "history = model.fit(X_train, y_train, batch_size=64, epochs=100, validation_data=(X_val, y_val))\n",
        "#model.save('NewAllDataModel_E50_B64.h5')"
      ]
    },
    {
      "cell_type": "code",
      "execution_count": 120,
      "metadata": {
        "id": "R7QQeqVidKBR",
        "colab": {
          "base_uri": "https://localhost:8080/"
        },
        "outputId": "c899c9ee-4395-42ea-9903-0f629fffecc2"
      },
      "outputs": [
        {
          "output_type": "stream",
          "name": "stdout",
          "text": [
            "469/469 [==============================] - 3s 6ms/step - loss: 0.7114 - accuracy: 0.7044\n"
          ]
        }
      ],
      "source": [
        "test_acc = model.evaluate(X_test, y_test)"
      ]
    },
    {
      "cell_type": "code",
      "source": [
        "test_acc"
      ],
      "metadata": {
        "id": "6fuTmgGrUgGg",
        "colab": {
          "base_uri": "https://localhost:8080/"
        },
        "outputId": "6294ff4b-e4d4-48d9-cfa9-7d6005f8bb14"
      },
      "execution_count": 121,
      "outputs": [
        {
          "output_type": "execute_result",
          "data": {
            "text/plain": [
              "[0.7114285230636597, 0.7044000029563904]"
            ]
          },
          "metadata": {},
          "execution_count": 121
        }
      ]
    },
    {
      "cell_type": "code",
      "execution_count": 122,
      "metadata": {
        "id": "OHpifyqGdKn-",
        "colab": {
          "base_uri": "https://localhost:8080/"
        },
        "outputId": "25c304da-1741-43e3-c9ce-325b94ee474f"
      },
      "outputs": [
        {
          "output_type": "stream",
          "name": "stdout",
          "text": [
            "469/469 [==============================] - 3s 5ms/step\n"
          ]
        }
      ],
      "source": [
        "y_test_prob = model.predict(X_test, verbose=1)"
      ]
    },
    {
      "cell_type": "code",
      "source": [
        "np.set_printoptions(suppress=True)\n",
        "y_test_prob_backup = y_test_prob\n",
        "y_test_prob"
      ],
      "metadata": {
        "id": "rRPswrrkmhp2",
        "colab": {
          "base_uri": "https://localhost:8080/"
        },
        "outputId": "b9d4f5c1-e128-4816-8f62-e3fecc93937f"
      },
      "execution_count": 123,
      "outputs": [
        {
          "output_type": "execute_result",
          "data": {
            "text/plain": [
              "array([[0.  , 0.  , 0.  , ..., 0.63, 0.13, 0.01],\n",
              "       [0.  , 1.  , 0.  , ..., 0.  , 0.  , 0.  ],\n",
              "       [0.  , 0.  , 0.  , ..., 0.46, 0.02, 0.  ],\n",
              "       ...,\n",
              "       [0.  , 0.  , 0.1 , ..., 0.05, 0.48, 0.22],\n",
              "       [0.  , 0.  , 0.  , ..., 0.7 , 0.  , 0.  ],\n",
              "       [0.  , 0.  , 0.13, ..., 0.07, 0.41, 0.29]], dtype=float32)"
            ]
          },
          "metadata": {},
          "execution_count": 123
        }
      ]
    },
    {
      "cell_type": "code",
      "execution_count": 124,
      "metadata": {
        "id": "AfmdrBILdMwj"
      },
      "outputs": [],
      "source": [
        "y_test_pred = np.where(y_test_prob > 0.5, 1, 0)"
      ]
    },
    {
      "cell_type": "code",
      "execution_count": 125,
      "metadata": {
        "id": "8DoJy_p9dPzN"
      },
      "outputs": [],
      "source": [
        "from sklearn.metrics import multilabel_confusion_matrix"
      ]
    },
    {
      "cell_type": "code",
      "source": [
        "y_test"
      ],
      "metadata": {
        "id": "n1Us2yrfcGl-",
        "colab": {
          "base_uri": "https://localhost:8080/"
        },
        "outputId": "aae6af6e-e908-426e-e6be-215936b92a68"
      },
      "execution_count": 126,
      "outputs": [
        {
          "output_type": "execute_result",
          "data": {
            "text/plain": [
              "array([[0., 0., 0., ..., 1., 0., 0.],\n",
              "       [0., 1., 0., ..., 0., 0., 0.],\n",
              "       [0., 0., 0., ..., 1., 0., 0.],\n",
              "       ...,\n",
              "       [0., 0., 0., ..., 0., 1., 0.],\n",
              "       [0., 0., 0., ..., 0., 0., 0.],\n",
              "       [0., 0., 1., ..., 0., 0., 0.]])"
            ]
          },
          "metadata": {},
          "execution_count": 126
        }
      ]
    },
    {
      "cell_type": "code",
      "source": [
        "y_test.shape"
      ],
      "metadata": {
        "id": "VnmvTcvWbxr9",
        "colab": {
          "base_uri": "https://localhost:8080/"
        },
        "outputId": "a6d55f1c-b1d0-4e5c-ead3-110a9a9dde9e"
      },
      "execution_count": 127,
      "outputs": [
        {
          "output_type": "execute_result",
          "data": {
            "text/plain": [
              "(15000, 8)"
            ]
          },
          "metadata": {},
          "execution_count": 127
        }
      ]
    },
    {
      "cell_type": "code",
      "source": [
        "y_test_pred"
      ],
      "metadata": {
        "id": "nMBOgzrgcJBj",
        "colab": {
          "base_uri": "https://localhost:8080/"
        },
        "outputId": "07e5ed6f-c8b7-49a6-f1a8-69b2c7184556"
      },
      "execution_count": 128,
      "outputs": [
        {
          "output_type": "execute_result",
          "data": {
            "text/plain": [
              "array([[0, 0, 0, ..., 1, 0, 0],\n",
              "       [0, 1, 0, ..., 0, 0, 0],\n",
              "       [0, 0, 0, ..., 0, 0, 0],\n",
              "       ...,\n",
              "       [0, 0, 0, ..., 0, 0, 0],\n",
              "       [0, 0, 0, ..., 1, 0, 0],\n",
              "       [0, 0, 0, ..., 0, 0, 0]])"
            ]
          },
          "metadata": {},
          "execution_count": 128
        }
      ]
    },
    {
      "cell_type": "code",
      "source": [
        "y_test_pred.shape"
      ],
      "metadata": {
        "id": "SXKZof8Ye5uI",
        "colab": {
          "base_uri": "https://localhost:8080/"
        },
        "outputId": "52dd18b5-0202-4a21-aa76-67600f63fe04"
      },
      "execution_count": 129,
      "outputs": [
        {
          "output_type": "execute_result",
          "data": {
            "text/plain": [
              "(15000, 8)"
            ]
          },
          "metadata": {},
          "execution_count": 129
        }
      ]
    },
    {
      "cell_type": "code",
      "source": [
        "y_decoded_pred = tf.argmax(y_test_pred, axis = 1)"
      ],
      "metadata": {
        "id": "leDQwKOjgwwi"
      },
      "execution_count": 130,
      "outputs": []
    },
    {
      "cell_type": "code",
      "source": [
        "y_decoded = tf.argmax(y_test, axis = 1)"
      ],
      "metadata": {
        "id": "sAHRmtesif6g"
      },
      "execution_count": 131,
      "outputs": []
    },
    {
      "cell_type": "code",
      "source": [
        "y_decoded_pred"
      ],
      "metadata": {
        "id": "_lvFhrmPhprD",
        "colab": {
          "base_uri": "https://localhost:8080/"
        },
        "outputId": "a02d9f8e-2300-419c-da84-ef0872c75c18"
      },
      "execution_count": 132,
      "outputs": [
        {
          "output_type": "execute_result",
          "data": {
            "text/plain": [
              "<tf.Tensor: shape=(15000,), dtype=int64, numpy=array([5, 1, 0, ..., 0, 5, 0])>"
            ]
          },
          "metadata": {},
          "execution_count": 132
        }
      ]
    },
    {
      "cell_type": "code",
      "source": [
        "y_decoded"
      ],
      "metadata": {
        "id": "YV1FXgHviPwm",
        "colab": {
          "base_uri": "https://localhost:8080/"
        },
        "outputId": "2dc59c19-9305-4313-c58f-379f329da997"
      },
      "execution_count": 133,
      "outputs": [
        {
          "output_type": "execute_result",
          "data": {
            "text/plain": [
              "<tf.Tensor: shape=(15000,), dtype=int64, numpy=array([5, 1, 5, ..., 6, 4, 2])>"
            ]
          },
          "metadata": {},
          "execution_count": 133
        }
      ]
    },
    {
      "cell_type": "code",
      "source": [
        "y_test_pred = y_decoded_pred\n"
      ],
      "metadata": {
        "id": "6-6jFqzGh380"
      },
      "execution_count": 134,
      "outputs": []
    },
    {
      "cell_type": "code",
      "source": [
        "y_test = y_decoded"
      ],
      "metadata": {
        "id": "9pogVvdIiwss"
      },
      "execution_count": 135,
      "outputs": []
    },
    {
      "cell_type": "code",
      "source": [
        "y_test"
      ],
      "metadata": {
        "id": "oGt5aJetiKR6",
        "colab": {
          "base_uri": "https://localhost:8080/"
        },
        "outputId": "878adf24-06e3-4e74-a3c3-9f0f448a1de7"
      },
      "execution_count": 136,
      "outputs": [
        {
          "output_type": "execute_result",
          "data": {
            "text/plain": [
              "<tf.Tensor: shape=(15000,), dtype=int64, numpy=array([5, 1, 5, ..., 6, 4, 2])>"
            ]
          },
          "metadata": {},
          "execution_count": 136
        }
      ]
    },
    {
      "cell_type": "code",
      "source": [
        "y_test_pred"
      ],
      "metadata": {
        "id": "fLgDwAIfiyv2",
        "colab": {
          "base_uri": "https://localhost:8080/"
        },
        "outputId": "d91ae07a-0fc9-4ba8-9eef-bd0dc55a0144"
      },
      "execution_count": 137,
      "outputs": [
        {
          "output_type": "execute_result",
          "data": {
            "text/plain": [
              "<tf.Tensor: shape=(15000,), dtype=int64, numpy=array([5, 1, 0, ..., 0, 5, 0])>"
            ]
          },
          "metadata": {},
          "execution_count": 137
        }
      ]
    },
    {
      "cell_type": "code",
      "execution_count": 138,
      "metadata": {
        "id": "fTCsPjW8dQaZ"
      },
      "outputs": [],
      "source": [
        "cfm=confusion_matrix(y_test, y_test_pred)"
      ]
    },
    {
      "cell_type": "code",
      "source": [
        "cfm"
      ],
      "metadata": {
        "id": "_67lPg6ic4cH",
        "colab": {
          "base_uri": "https://localhost:8080/"
        },
        "outputId": "1e8953bf-8257-4e73-fd50-e1f939eec717"
      },
      "execution_count": 139,
      "outputs": [
        {
          "output_type": "execute_result",
          "data": {
            "text/plain": [
              "array([[1798,   66,    0,    0,    0,    0,    0,    0],\n",
              "       [  94, 1769,    6,    0,    0,    0,    0,    6],\n",
              "       [ 415,   25, 1233,   35,    6,   21,   13,   71],\n",
              "       [ 730,    0,   94,  824,  116,  147,    9,    1],\n",
              "       [ 860,    0,   13,  120,  603,  123,  115,   17],\n",
              "       [ 939,    0,   11,   52,   87,  735,   27,   19],\n",
              "       [ 708,    0,   32,    5,   35,   27,  649,  450],\n",
              "       [ 377,    2,    5,    0,    1,    9,  187, 1313]])"
            ]
          },
          "metadata": {},
          "execution_count": 139
        }
      ]
    },
    {
      "cell_type": "code",
      "source": [
        " print(classification_report(y_test,y_test_pred))"
      ],
      "metadata": {
        "id": "XTqR_xnwRWCJ",
        "colab": {
          "base_uri": "https://localhost:8080/"
        },
        "outputId": "72b2c4a6-b7e5-427c-fe09-33671a3e9002"
      },
      "execution_count": 140,
      "outputs": [
        {
          "output_type": "stream",
          "name": "stdout",
          "text": [
            "              precision    recall  f1-score   support\n",
            "\n",
            "           0       0.30      0.96      0.46      1864\n",
            "           1       0.95      0.94      0.95      1875\n",
            "           2       0.88      0.68      0.77      1819\n",
            "           3       0.80      0.43      0.56      1921\n",
            "           4       0.71      0.33      0.45      1851\n",
            "           5       0.69      0.39      0.50      1870\n",
            "           6       0.65      0.34      0.45      1906\n",
            "           7       0.70      0.69      0.70      1894\n",
            "\n",
            "    accuracy                           0.59     15000\n",
            "   macro avg       0.71      0.60      0.60     15000\n",
            "weighted avg       0.71      0.59      0.60     15000\n",
            "\n"
          ]
        }
      ]
    },
    {
      "cell_type": "code",
      "execution_count": 141,
      "metadata": {
        "id": "te3fslrY9Eca",
        "colab": {
          "base_uri": "https://localhost:8080/",
          "height": 903
        },
        "outputId": "1ce2d076-02b5-44b0-ebae-70ab93d09d99"
      },
      "outputs": [
        {
          "output_type": "stream",
          "name": "stdout",
          "text": [
            "Confusion matrix, without normalization\n",
            "[[1798   66    0    0    0    0    0    0]\n",
            " [  94 1769    6    0    0    0    0    6]\n",
            " [ 415   25 1233   35    6   21   13   71]\n",
            " [ 730    0   94  824  116  147    9    1]\n",
            " [ 860    0   13  120  603  123  115   17]\n",
            " [ 939    0   11   52   87  735   27   19]\n",
            " [ 708    0   32    5   35   27  649  450]\n",
            " [ 377    2    5    0    1    9  187 1313]]\n",
            "Normalized confusion matrix\n",
            "[[0.96 0.04 0.   0.   0.   0.   0.   0.  ]\n",
            " [0.05 0.94 0.   0.   0.   0.   0.   0.  ]\n",
            " [0.23 0.01 0.68 0.02 0.   0.01 0.01 0.04]\n",
            " [0.38 0.   0.05 0.43 0.06 0.08 0.   0.  ]\n",
            " [0.46 0.   0.01 0.06 0.33 0.07 0.06 0.01]\n",
            " [0.5  0.   0.01 0.03 0.05 0.39 0.01 0.01]\n",
            " [0.37 0.   0.02 0.   0.02 0.01 0.34 0.24]\n",
            " [0.2  0.   0.   0.   0.   0.   0.1  0.69]]\n"
          ]
        },
        {
          "output_type": "display_data",
          "data": {
            "text/plain": [
              "<Figure size 432x288 with 2 Axes>"
            ],
            "image/png": "[encoded data removed]"
          },
          "metadata": {
            "needs_background": "light"
          }
        },
        {
          "output_type": "display_data",
          "data": {
            "text/plain": [
              "<Figure size 432x288 with 2 Axes>"
            ],
            "image/png": "[encoded data removed]"
          },
          "metadata": {
            "needs_background": "light"
          }
        }
      ],
      "source": [
        "import numpy as np\n",
        "import matplotlib.pyplot as plt\n",
        "\n",
        "from sklearn import svm, datasets\n",
        "from sklearn.model_selection import train_test_split\n",
        "from sklearn.metrics import confusion_matrix\n",
        "from sklearn.utils.multiclass import unique_labels\n",
        "\n",
        "class_names = np.array(['0', '1', '2', '3', '4', '5', '6', '7'])\n",
        "\n",
        "def plot_confusion_matrix(y_true, y_pred, classes,\n",
        "                          normalize=False,\n",
        "                          title=None,\n",
        "                          cmap=plt.cm.Blues):\n",
        "    \"\"\"\n",
        "    This function prints and plots the confusion matrix.\n",
        "    Normalization can be applied by setting `normalize=True`.\n",
        "    \"\"\"\n",
        "    if not title:\n",
        "        if normalize:\n",
        "            title = 'Normalized confusion matrix'\n",
        "        else:\n",
        "            title = 'Confusion matrix, without normalization'\n",
        "\n",
        "    # Compute confusion matrix\n",
        "    cm = confusion_matrix(y_true, y_pred)\n",
        "    # Only use the labels that appear in the data\n",
        "    classes = classes[unique_labels(y_true, y_pred)]\n",
        "    if normalize:\n",
        "        cm = cm.astype('float') / cm.sum(axis=1)[:, np.newaxis]\n",
        "        print(\"Normalized confusion matrix\")\n",
        "    else:\n",
        "        print('Confusion matrix, without normalization')\n",
        "\n",
        "    print(cm)\n",
        "\n",
        "    fig, ax = plt.subplots()\n",
        "    im = ax.imshow(cm, interpolation='nearest', cmap=cmap)\n",
        "    ax.figure.colorbar(im, ax=ax)\n",
        "    # We want to show all ticks...\n",
        "    ax.set(xticks=np.arange(cm.shape[1]),\n",
        "           yticks=np.arange(cm.shape[0]),\n",
        "           # ... and label them with the respective list entries\n",
        "           xticklabels=classes, yticklabels=classes,\n",
        "           title=title,\n",
        "           ylabel='True label',\n",
        "           xlabel='Predicted label')\n",
        "\n",
        "    # Rotate the tick labels and set their alignment.\n",
        "    plt.setp(ax.get_xticklabels(), rotation=45, ha=\"right\",\n",
        "             rotation_mode=\"anchor\")\n",
        "\n",
        "    # Loop over data dimensions and create text annotations.\n",
        "    fmt = '.2f' if normalize else 'd'\n",
        "    thresh = cm.max() / 2.\n",
        "    for i in range(cm.shape[0]):\n",
        "        for j in range(cm.shape[1]):\n",
        "            ax.text(j, i, format(cm[i, j], fmt),\n",
        "                    ha=\"center\", va=\"center\",\n",
        "                    color=\"white\" if cm[i, j] > thresh else \"black\")\n",
        "    fig.tight_layout()\n",
        "\n",
        "    return ax\n",
        "\n",
        "\n",
        "np.set_printoptions(precision=2)\n",
        "\n",
        "# Plot non-normalized confusion matrix\n",
        "plot_confusion_matrix(y_test, y_test_pred, classes=class_names,\n",
        "                      title='Confusion matrix, without normalization')\n",
        "\n",
        "# Plot normalized confusion matrix\n",
        "plot_confusion_matrix(y_test, y_test_pred, classes=class_names, normalize=True,\n",
        "                      title='Normalized confusion matrix')\n",
        "\n",
        "plt.show()"
      ]
    },
    {
      "cell_type": "code",
      "execution_count": 142,
      "metadata": {
        "id": "fhdLAhgPUnH3"
      },
      "outputs": [],
      "source": [
        "def plot_learningCurve(history, epoch):\n",
        "  # Plot training & validation accuracy values\n",
        "  epoch_range = range(1, epoch+1)\n",
        "  plt.plot(epoch_range, history.history['accuracy'])\n",
        "  plt.plot(epoch_range, history.history['val_accuracy'])\n",
        "  plt.title('Model accuracy')\n",
        "  plt.ylabel('Accuracy')\n",
        "  plt.xlabel('Epoch')\n",
        "  plt.legend(['Train', 'Val'], loc='upper left')\n",
        "  plt.show()\n",
        "\n",
        "  # Plot training & validation loss values\n",
        "  plt.plot(epoch_range, history.history['loss'])\n",
        "  plt.plot(epoch_range, history.history['val_loss'])\n",
        "  plt.title('Model loss')\n",
        "  plt.ylabel('Loss')\n",
        "  plt.xlabel('Epoch')\n",
        "  plt.legend(['Train', 'Val'], loc='upper left')\n",
        "  plt.show()"
      ]
    },
    {
      "cell_type": "code",
      "execution_count": 143,
      "metadata": {
        "id": "WlkQkWHgU5mL",
        "colab": {
          "base_uri": "https://localhost:8080/",
          "height": 581
        },
        "outputId": "4ffd9b2d-0b6a-445e-a0a8-34614264faeb"
      },
      "outputs": [
        {
          "output_type": "display_data",
          "data": {
            "text/plain": [
              "<Figure size 432x288 with 1 Axes>"
            ],
            "image/png": "[encoded data removed]"
          },
          "metadata": {
            "needs_background": "light"
          }
        },
        {
          "output_type": "display_data",
          "data": {
            "text/plain": [
              "<Figure size 432x288 with 1 Axes>"
            ],
            "image/png": "[encoded data removed]"
          },
          "metadata": {
            "needs_background": "light"
          }
        }
      ],
      "source": [
        "plot_learningCurve(history, 100)"
      ]
    }
  ],
  "metadata": {
    "colab": {
      "collapsed_sections": [
        "f857kfHqUk0-"
      ],
      "name": "Multi_Class_MD_LSTM_step_200_files_120.ipynb",
      "provenance": [],
      "include_colab_link": true
    },
    "kernelspec": {
      "display_name": "Python 3",
      "name": "python3"
    },
    "language_info": {
      "name": "python"
    },
    "accelerator": "GPU"
  },
  "nbformat": 4,
  "nbformat_minor": 0
}
