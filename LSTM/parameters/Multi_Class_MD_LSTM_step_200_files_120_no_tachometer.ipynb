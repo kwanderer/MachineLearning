{
  "cells": [
    {
      "cell_type": "markdown",
      "metadata": {
        "id": "view-in-github",
        "colab_type": "text"
      },
      "source": [
        "<a href=\"https://colab.research.google.com/github/kwanderer/MachineLearning/blob/main/Multi_Class_MD_LSTM_step_200_files_120.ipynb\" target=\"_parent\"><img src=\"https://colab.research.google.com/assets/colab-badge.svg\" alt=\"Open In Colab\"/></a>"
      ]
    },
    {
      "cell_type": "markdown",
      "metadata": {
        "id": "f857kfHqUk0-"
      },
      "source": [
        "\n",
        "\n",
        "#Datu kopa"
      ]
    },
    {
      "cell_type": "markdown",
      "metadata": {
        "id": "nM9WE3QGUwVi"
      },
      "source": [
        "Datu kopas avots: https://www.kaggle.com/uysalserkan/fault-induction-motor-dataset"
      ]
    },
    {
      "cell_type": "markdown",
      "metadata": {
        "id": "_sN_h3qHHy6r"
      },
      "source": [
        "Darbā tiek izmantota indukcijas motora parametru datu bāze. Izmantotajā datu kopā ir dati, kas tika iegūti SpectraQuest aparatūras kļūdu simulatorā (Machinery Fault Simulator).\n",
        "\n",
        "Katra mērījumu secība tika ģenerēta ar frekvenci 50 kHz 5 sekunžu laikā, kopā 250 000 mērījumi.\n",
        "\n",
        "Dati ir apkopoti vairākos failos, dažādos darbības stāvokļos un to apjoms ir ļoti liels. Šajā darbā tika izmantota daļa(viena mērījumu secība) no motora normālas darbības datiem.\n"
      ]
    },
    {
      "cell_type": "markdown",
      "metadata": {
        "id": "KtFAOaHYHLPo"
      },
      "source": [
        "Dati ir apkopoti tabulā, kura satur 8 parametrus. Dati ir iedalīti sekojošās kolonas:\n",
        "\n",
        "**tachometer** – tahometra signāls, kas ļauj novērtēt rotācijas frekvenci\n",
        "\n",
        "**und-accelerometer-axial** - apakšā esošā gultņa akselerometrs (aksiālais virziens)\n",
        "\n",
        "**und-accelerometer-radial** – apakšā esošā gultņa akselerometrs (radiālais virziens)\n",
        "\n",
        "**und-accelerometer-tangential** - apakšā esošā gultņa akselerometrs (tangenciālais virziens)\n",
        "\n",
        "**over-accelerometer-axial** - pārkares gultņa akselerometrs (aksiālais virziens)\n",
        "\n",
        "**over-accelerometer-radial** – pārkares gultņa akselerometrs (radiālais  virziens)\n",
        "\n",
        "**over-accelerometer-tangential**  - pārkares gultņa akselerometrs (tangenciālais virziens)\n",
        "\n",
        "**microphone** – mikrofona vērtība\n"
      ]
    },
    {
      "cell_type": "markdown",
      "metadata": {
        "id": "XymoNLKMVFUC"
      },
      "source": [
        "#Datu ielasīšana un satura vizualizācija"
      ]
    },
    {
      "cell_type": "code",
      "execution_count": 1,
      "metadata": {
        "id": "_yqYZDeOFq5s"
      },
      "outputs": [],
      "source": [
        "import keras\n",
        "from keras.layers import LSTM, Dropout, Dense\n",
        "import tensorflow as tf\n",
        "import numpy as np\n",
        "import pandas as pd\n",
        "\n",
        "from sklearn import linear_model  #pip install sklearn - loti plasa masinapmacibas biblioteka\n",
        "from sklearn.linear_model import LinearRegression  \n",
        "import csv          #pip install csv - darbam ar CSV datu kopam\n",
        "import requests     #pip install requests  - vienkarsakam darbam ar tiessaistes CSV datu kopam tiessaistes\n",
        "\n",
        "import matplotlib\n",
        "import matplotlib.pyplot as plt\n",
        "\n",
        "import glob\n"
      ]
    },
    {
      "cell_type": "code",
      "execution_count": 2,
      "metadata": {
        "id": "wlRTBbM2eUcV",
        "colab": {
          "base_uri": "https://localhost:8080/"
        },
        "outputId": "bab3cc56-8567-4ffa-fefe-3b799148d3a3"
      },
      "outputs": [
        {
          "output_type": "stream",
          "name": "stdout",
          "text": [
            "Mounted at /content/gdrive\n"
          ]
        }
      ],
      "source": [
        "from google.colab import drive\n",
        "import os\n",
        "drive.mount('/content/gdrive')\n",
        "os.chdir(\"/content/gdrive/MyDrive/Colab Notebooks/data_multiclass/\")"
      ]
    },
    {
      "cell_type": "code",
      "execution_count": 3,
      "metadata": {
        "id": "zzz6fBl_SNom"
      },
      "outputs": [],
      "source": [
        "#extension = 'csv'\n",
        "#all_filenames = [i for i in glob.glob('*.{}'.format(extension))]"
      ]
    },
    {
      "cell_type": "code",
      "execution_count": 4,
      "metadata": {
        "id": "vagKFCkToBi0"
      },
      "outputs": [],
      "source": [
        "#combine all files in the list\n",
        "#combined_csv = pd.concat([pd.read_csv(f) for f in all_filenames ])\n",
        "#export to csv\n",
        "#combined_csv.to_csv( \"combined_multiclass_csv.csv\", index=False, encoding='utf-8-sig')"
      ]
    },
    {
      "cell_type": "code",
      "execution_count": 5,
      "metadata": {
        "id": "encEkbDhSfGI"
      },
      "outputs": [],
      "source": [
        "data = pd.read_csv(\"combined_multiclass_csv.csv\")"
      ]
    },
    {
      "cell_type": "code",
      "execution_count": 6,
      "metadata": {
        "id": "yz5Qe8ZWk1Zq",
        "colab": {
          "base_uri": "https://localhost:8080/"
        },
        "outputId": "222cbaea-3618-4bf9-b4b0-6dfd1764ce72"
      },
      "outputs": [
        {
          "output_type": "stream",
          "name": "stdout",
          "text": [
            "<class 'pandas.core.frame.DataFrame'>\n",
            "RangeIndex: 30000000 entries, 0 to 29999999\n",
            "Data columns (total 9 columns):\n",
            " #   Column                         Dtype  \n",
            "---  ------                         -----  \n",
            " 0   tachometer                     float64\n",
            " 1   und-accelerometer-axial        float64\n",
            " 2   und-accelerometer-radial       float64\n",
            " 3   und-accelerometer-tangential   float64\n",
            " 4   over-accelerometer-axial       float64\n",
            " 5   over-accelerometer-radial      float64\n",
            " 6   over-accelerometer-tangential  float64\n",
            " 7   microphone                     float64\n",
            " 8   Class                          int64  \n",
            "dtypes: float64(8), int64(1)\n",
            "memory usage: 2.0 GB\n"
          ]
        }
      ],
      "source": [
        "data.info()"
      ]
    },
    {
      "cell_type": "code",
      "execution_count": 7,
      "metadata": {
        "id": "WUW9ezX6a_st",
        "colab": {
          "base_uri": "https://localhost:8080/"
        },
        "outputId": "d84a861f-6a27-454f-d2b8-594bd7573fd2"
      },
      "outputs": [
        {
          "output_type": "execute_result",
          "data": {
            "text/plain": [
              "30000000"
            ]
          },
          "metadata": {},
          "execution_count": 7
        }
      ],
      "source": [
        "rec_count = len(data)\n",
        "rec_count"
      ]
    },
    {
      "cell_type": "markdown",
      "metadata": {
        "id": "6RVC1PZy88fC"
      },
      "source": [
        "# Datu dalīšana mazākos gabalos"
      ]
    },
    {
      "cell_type": "code",
      "execution_count": 8,
      "metadata": {
        "id": "DOvnCYkcbGaE"
      },
      "outputs": [],
      "source": [
        "sequence_length = 200"
      ]
    },
    {
      "cell_type": "code",
      "execution_count": 9,
      "metadata": {
        "id": "RG0o2L3zbTEx"
      },
      "outputs": [],
      "source": [
        "def generate_data(X, y, sequence_length = 200, step = 200):\n",
        "    X_local = []\n",
        "    y_local = []\n",
        "    for start in range(0, len(data) - sequence_length, step):\n",
        "        end = start + sequence_length\n",
        "        X_local.append(X[start:end])\n",
        "        y_local.append(y[end-1])\n",
        "    return np.array(X_local), np.array(y_local)\n",
        "\n",
        "#X_sequence, y = generate_data(data.loc[:, \"tachometer\":\"microphone\"].values, data.Class)\n",
        "#X_sequence, y = generate_data(data.loc[:, [\"tachometer\", \"und-accelerometer-axial\", \"und-accelerometer-radial\", \"und-accelerometer-tangential\", \"over-accelerometer-axial\", \"over-accelerometer-radial\", \"over-accelerometer-tangential\", \"microphone\"]].values, data.Class)\n",
        "#tachometer\n",
        "X_sequence, y = generate_data(data.loc[:, [\"und-accelerometer-axial\", \"und-accelerometer-radial\", \"und-accelerometer-tangential\", \"over-accelerometer-axial\", \"over-accelerometer-radial\", \"over-accelerometer-tangential\", \"microphone\"]].values, data.Class)"
      ]
    },
    {
      "cell_type": "code",
      "execution_count": 10,
      "metadata": {
        "id": "s0QxwK66cLVF",
        "colab": {
          "base_uri": "https://localhost:8080/"
        },
        "outputId": "fe115f16-63c2-402a-fe24-419f0baa0de5"
      },
      "outputs": [
        {
          "output_type": "execute_result",
          "data": {
            "text/plain": [
              "((149999, 200, 7), (149999,))"
            ]
          },
          "metadata": {},
          "execution_count": 10
        }
      ],
      "source": [
        "X_sequence.shape, y.shape"
      ]
    },
    {
      "cell_type": "code",
      "source": [
        "unique, counts = np.unique(y, return_counts=True)"
      ],
      "metadata": {
        "id": "l8Lq455lV1JR"
      },
      "execution_count": 11,
      "outputs": []
    },
    {
      "cell_type": "code",
      "source": [
        "unique"
      ],
      "metadata": {
        "id": "t0BRO3nAWQxe",
        "colab": {
          "base_uri": "https://localhost:8080/"
        },
        "outputId": "1425e6be-6b29-4bb8-c72c-179e38d44354"
      },
      "execution_count": 12,
      "outputs": [
        {
          "output_type": "execute_result",
          "data": {
            "text/plain": [
              "array([0, 1, 2, 3, 4, 5, 6, 7])"
            ]
          },
          "metadata": {},
          "execution_count": 12
        }
      ]
    },
    {
      "cell_type": "code",
      "source": [
        "counts"
      ],
      "metadata": {
        "id": "WWZ7QWR4WS_r",
        "colab": {
          "base_uri": "https://localhost:8080/"
        },
        "outputId": "b7cb070e-7edc-412b-deb5-0fbf04ce5f05"
      },
      "execution_count": 13,
      "outputs": [
        {
          "output_type": "execute_result",
          "data": {
            "text/plain": [
              "array([18749, 18750, 18750, 18750, 18750, 18750, 18750, 18750])"
            ]
          },
          "metadata": {},
          "execution_count": 13
        }
      ]
    },
    {
      "cell_type": "code",
      "execution_count": 14,
      "metadata": {
        "id": "i7R1oo6Mj8wx"
      },
      "outputs": [],
      "source": [
        "data = 0"
      ]
    },
    {
      "cell_type": "code",
      "source": [
        "from sklearn.preprocessing import OneHotEncoder"
      ],
      "metadata": {
        "id": "lAk_JscRWmqY"
      },
      "execution_count": 15,
      "outputs": []
    },
    {
      "cell_type": "code",
      "source": [
        "label_encoder = OneHotEncoder(sparse=False)\n",
        "label_encoder.fit(y.reshape(-1,1))"
      ],
      "metadata": {
        "id": "14B9aYy0W0y6",
        "colab": {
          "base_uri": "https://localhost:8080/"
        },
        "outputId": "348a0bbf-0598-429e-dd9f-44522743326f"
      },
      "execution_count": 16,
      "outputs": [
        {
          "output_type": "execute_result",
          "data": {
            "text/plain": [
              "OneHotEncoder(sparse=False)"
            ]
          },
          "metadata": {},
          "execution_count": 16
        }
      ]
    },
    {
      "cell_type": "code",
      "source": [
        "y_encoded = label_encoder.transform(y.reshape(-1,1))"
      ],
      "metadata": {
        "id": "VjpWn96xXgPS"
      },
      "execution_count": 17,
      "outputs": []
    },
    {
      "cell_type": "code",
      "source": [
        "y_encoded[0:5]"
      ],
      "metadata": {
        "id": "VL6KMFo9XpBi",
        "colab": {
          "base_uri": "https://localhost:8080/"
        },
        "outputId": "c4c8a6ad-c6f3-4d27-d783-94298824198e"
      },
      "execution_count": 18,
      "outputs": [
        {
          "output_type": "execute_result",
          "data": {
            "text/plain": [
              "array([[0., 0., 0., 0., 0., 0., 0., 1.],\n",
              "       [0., 0., 0., 0., 0., 0., 0., 1.],\n",
              "       [0., 0., 0., 0., 0., 0., 0., 1.],\n",
              "       [0., 0., 0., 0., 0., 0., 0., 1.],\n",
              "       [0., 0., 0., 0., 0., 0., 0., 1.]])"
            ]
          },
          "metadata": {},
          "execution_count": 18
        }
      ]
    },
    {
      "cell_type": "code",
      "source": [
        "y=y_encoded"
      ],
      "metadata": {
        "id": "5c8km253YKBl"
      },
      "execution_count": 19,
      "outputs": []
    },
    {
      "cell_type": "markdown",
      "metadata": {
        "id": "5BXSDoHa9UX_"
      },
      "source": [
        "# Random/Shuffle"
      ]
    },
    {
      "cell_type": "code",
      "execution_count": 20,
      "metadata": {
        "id": "ZcfE9idy-ckb"
      },
      "outputs": [],
      "source": [
        "shuffler = np.random.permutation(len(X_sequence))\n",
        "X_sequence_shuffled = X_sequence[shuffler]\n",
        "y_shuffled = y[shuffler]"
      ]
    },
    {
      "cell_type": "markdown",
      "metadata": {
        "id": "TfhRTTNcE2s8"
      },
      "source": [
        "# LSTM"
      ]
    },
    {
      "cell_type": "code",
      "execution_count": 21,
      "metadata": {
        "id": "ihrXMuVAEwlY"
      },
      "outputs": [],
      "source": [
        "import pandas as pd\n",
        "import sklearn.metrics as metrique\n",
        "from pandas import Series\n",
        "from sklearn.preprocessing import StandardScaler, MinMaxScaler\n",
        "from matplotlib import pyplot\n",
        "from sklearn.model_selection import train_test_split\n",
        "import numpy as np\n",
        "import tensorflow as tf\n",
        "import sys\n",
        "import numpy as np\n",
        "import pandas as pd\n",
        "import tensorflow as tf\n",
        "import matplotlib.pyplot as plt\n",
        "from sklearn.model_selection import train_test_split\n",
        "from sklearn import preprocessing\n",
        "from sklearn.preprocessing import StandardScaler\n",
        "from sklearn.metrics import classification_report\n",
        "import warnings\n",
        "warnings.filterwarnings('ignore')\n",
        "plt.style.use('ggplot')\n",
        "import seaborn as sns \n",
        "%matplotlib inline\n",
        "from keras.callbacks import EarlyStopping\n",
        "from keras.callbacks import ModelCheckpoint\n",
        "from sklearn.metrics import accuracy_score\n",
        "from sklearn.metrics import classification_report, confusion_matrix\n",
        "from keras.models import Sequential\n",
        "from keras.utils import np_utils\n",
        "from keras.layers import LSTM, Dense, Embedding, Dropout,Input, Layer, Concatenate, Permute, Dot, Multiply, Flatten\n",
        "from keras.layers import RepeatVector, Dense, Activation, Lambda\n",
        "from keras.models import Sequential\n",
        "from keras import backend as K, regularizers, Model, metrics\n",
        "from keras.backend import cast"
      ]
    },
    {
      "cell_type": "code",
      "execution_count": 22,
      "metadata": {
        "id": "PjKWKiA6aH3z"
      },
      "outputs": [],
      "source": [
        "#from tensorflow.keras import optimizers\n",
        "#sgd = optimizers.SGD(lr=0.0001, decay=1e-6, momentum=0.9, nesterov=True)\n",
        "#model = keras.Sequential()\n",
        "#model.add(LSTM(100, input_shape = (200, 8)))\n",
        "#model.add(Dropout(0.5))\n",
        "#model.add(Dense(1, activation=\"softmax\"))\n",
        "\n",
        "\n",
        "#model.compile(loss=\"categorical_crossentropy\"\n",
        "#              , metrics=[keras.metrics.binary_accuracy]\n",
        "#              , optimizer='sgd')\n",
        "\n",
        "#model.summary()"
      ]
    },
    {
      "cell_type": "code",
      "execution_count": 23,
      "metadata": {
        "id": "_2SaVmwSWJVB",
        "colab": {
          "base_uri": "https://localhost:8080/"
        },
        "outputId": "67051de6-d561-49f4-e4b7-497c91a8ae5e"
      },
      "outputs": [
        {
          "output_type": "stream",
          "name": "stdout",
          "text": [
            "Model: \"sequential\"\n",
            "_________________________________________________________________\n",
            " Layer (type)                Output Shape              Param #   \n",
            "=================================================================\n",
            " lstm (LSTM)                 (None, 150)               94800     \n",
            "                                                                 \n",
            " dropout (Dropout)           (None, 150)               0         \n",
            "                                                                 \n",
            " dense (Dense)               (None, 8)                 1208      \n",
            "                                                                 \n",
            "=================================================================\n",
            "Total params: 96,008\n",
            "Trainable params: 96,008\n",
            "Non-trainable params: 0\n",
            "_________________________________________________________________\n"
          ]
        }
      ],
      "source": [
        "from tensorflow.keras import optimizers\n",
        "#sgd = optimizers.SGD(lr=0.0001, decay=1e-6, momentum=0.9, nesterov=True)\n",
        "optimizer = tf.keras.optimizers.Adam(lr=0.0001)\n",
        "model = keras.Sequential()\n",
        "model.add(LSTM(150, input_shape = (200, 7)))\n",
        "model.add(Dropout(0.5))#0.25\n",
        "model.add(Dense(8, activation=\"softmax\"))\n",
        "\n",
        "#model.compile(loss='mean_squared_error', optimizer=sgd)\n",
        "model.compile(loss=\"categorical_crossentropy\"\n",
        "              , metrics=['accuracy']\n",
        "              , optimizer=optimizer)\n",
        "\n",
        "model.summary()"
      ]
    },
    {
      "cell_type": "code",
      "execution_count": 24,
      "metadata": {
        "id": "tg8wrqsqc8UX"
      },
      "outputs": [],
      "source": [
        "training_size = int(len(X_sequence) * 0.8)\n",
        "val_size = int(len(X_sequence) * 0.9)"
      ]
    },
    {
      "cell_type": "code",
      "execution_count": 25,
      "metadata": {
        "id": "avIp3TEKc-qF"
      },
      "outputs": [],
      "source": [
        "X_train, y_train = X_sequence_shuffled[:training_size], y_shuffled[:training_size]\n",
        "X_val, y_val = X_sequence_shuffled[training_size:val_size], y_shuffled[training_size:val_size]\n",
        "X_test, y_test = X_sequence_shuffled[val_size:], y_shuffled[val_size:]"
      ]
    },
    {
      "cell_type": "code",
      "execution_count": 26,
      "metadata": {
        "id": "RABc_uKzkBUT"
      },
      "outputs": [],
      "source": [
        "#X_sequence = 0\n",
        "#y = 0"
      ]
    },
    {
      "cell_type": "code",
      "source": [
        "X_train.shape"
      ],
      "metadata": {
        "id": "Omv-ht1dhGxL",
        "colab": {
          "base_uri": "https://localhost:8080/"
        },
        "outputId": "811629f1-970e-4756-fbcf-b98c8aaf0904"
      },
      "execution_count": 27,
      "outputs": [
        {
          "output_type": "execute_result",
          "data": {
            "text/plain": [
              "(119999, 200, 7)"
            ]
          },
          "metadata": {},
          "execution_count": 27
        }
      ]
    },
    {
      "cell_type": "code",
      "execution_count": 28,
      "metadata": {
        "id": "8aIhPJ-wLCwZ",
        "colab": {
          "base_uri": "https://localhost:8080/"
        },
        "outputId": "28e55ac7-498c-486a-bb00-bda7d3896931"
      },
      "outputs": [
        {
          "output_type": "execute_result",
          "data": {
            "text/plain": [
              "array([[0., 0., 0., 0., 0., 0., 0., 1.],\n",
              "       [0., 0., 1., 0., 0., 0., 0., 0.],\n",
              "       [0., 0., 0., 0., 0., 1., 0., 0.],\n",
              "       [0., 0., 1., 0., 0., 0., 0., 0.],\n",
              "       [1., 0., 0., 0., 0., 0., 0., 0.],\n",
              "       [0., 0., 0., 0., 0., 1., 0., 0.],\n",
              "       [1., 0., 0., 0., 0., 0., 0., 0.],\n",
              "       [0., 0., 0., 1., 0., 0., 0., 0.],\n",
              "       [0., 0., 0., 1., 0., 0., 0., 0.],\n",
              "       [0., 0., 0., 0., 0., 0., 0., 1.]])"
            ]
          },
          "metadata": {},
          "execution_count": 28
        }
      ],
      "source": [
        "y_train[:10]"
      ]
    },
    {
      "cell_type": "code",
      "execution_count": 29,
      "metadata": {
        "id": "cen4faX0dFJP",
        "colab": {
          "base_uri": "https://localhost:8080/"
        },
        "outputId": "1c787ed3-cb8e-4a96-a525-eb0c361869d4"
      },
      "outputs": [
        {
          "output_type": "stream",
          "name": "stdout",
          "text": [
            "Epoch 1/100\n",
            "1875/1875 [==============================] - 87s 43ms/step - loss: 1.7247 - accuracy: 0.2481 - val_loss: 1.5911 - val_accuracy: 0.3032\n",
            "Epoch 2/100\n",
            "1875/1875 [==============================] - 78s 42ms/step - loss: 1.5625 - accuracy: 0.3295 - val_loss: 1.5742 - val_accuracy: 0.3411\n",
            "Epoch 3/100\n",
            "1875/1875 [==============================] - 78s 41ms/step - loss: 1.5868 - accuracy: 0.3232 - val_loss: 1.4897 - val_accuracy: 0.3811\n",
            "Epoch 4/100\n",
            "1875/1875 [==============================] - 78s 42ms/step - loss: 1.4734 - accuracy: 0.3781 - val_loss: 1.4090 - val_accuracy: 0.4157\n",
            "Epoch 5/100\n",
            "1875/1875 [==============================] - 78s 42ms/step - loss: 1.3996 - accuracy: 0.4254 - val_loss: 1.3751 - val_accuracy: 0.4393\n",
            "Epoch 6/100\n",
            "1875/1875 [==============================] - 78s 42ms/step - loss: 1.3542 - accuracy: 0.4455 - val_loss: 1.3161 - val_accuracy: 0.4723\n",
            "Epoch 7/100\n",
            "1875/1875 [==============================] - 78s 42ms/step - loss: 1.3209 - accuracy: 0.4608 - val_loss: 1.2809 - val_accuracy: 0.4730\n",
            "Epoch 8/100\n",
            "1875/1875 [==============================] - 80s 43ms/step - loss: 1.4820 - accuracy: 0.4050 - val_loss: 1.3077 - val_accuracy: 0.4667\n",
            "Epoch 9/100\n",
            "1875/1875 [==============================] - 78s 42ms/step - loss: 1.3201 - accuracy: 0.4658 - val_loss: 1.2651 - val_accuracy: 0.4906\n",
            "Epoch 10/100\n",
            "1875/1875 [==============================] - 78s 41ms/step - loss: 1.3035 - accuracy: 0.4705 - val_loss: 1.2699 - val_accuracy: 0.4761\n",
            "Epoch 11/100\n",
            "1875/1875 [==============================] - 78s 42ms/step - loss: 1.2661 - accuracy: 0.4866 - val_loss: 1.2219 - val_accuracy: 0.5064\n",
            "Epoch 12/100\n",
            "1875/1875 [==============================] - 78s 42ms/step - loss: 1.2243 - accuracy: 0.5037 - val_loss: 1.1996 - val_accuracy: 0.5115\n",
            "Epoch 13/100\n",
            "1875/1875 [==============================] - 78s 42ms/step - loss: 1.2263 - accuracy: 0.5014 - val_loss: 1.2107 - val_accuracy: 0.5033\n",
            "Epoch 14/100\n",
            "1875/1875 [==============================] - 78s 42ms/step - loss: 1.2383 - accuracy: 0.4973 - val_loss: 1.3227 - val_accuracy: 0.4673\n",
            "Epoch 15/100\n",
            "1875/1875 [==============================] - 78s 42ms/step - loss: 1.2377 - accuracy: 0.4966 - val_loss: 1.1614 - val_accuracy: 0.5274\n",
            "Epoch 16/100\n",
            "1875/1875 [==============================] - 78s 42ms/step - loss: 1.2609 - accuracy: 0.4885 - val_loss: 1.1790 - val_accuracy: 0.5252\n",
            "Epoch 17/100\n",
            "1875/1875 [==============================] - 78s 42ms/step - loss: 1.2889 - accuracy: 0.4808 - val_loss: 1.3507 - val_accuracy: 0.4557\n",
            "Epoch 18/100\n",
            "1875/1875 [==============================] - 78s 42ms/step - loss: 1.3702 - accuracy: 0.4552 - val_loss: 1.2858 - val_accuracy: 0.4682\n",
            "Epoch 19/100\n",
            "1875/1875 [==============================] - 78s 41ms/step - loss: 1.2452 - accuracy: 0.4949 - val_loss: 1.1900 - val_accuracy: 0.5117\n",
            "Epoch 20/100\n",
            "1875/1875 [==============================] - 80s 42ms/step - loss: 1.1971 - accuracy: 0.5110 - val_loss: 1.2606 - val_accuracy: 0.5034\n",
            "Epoch 21/100\n",
            "1875/1875 [==============================] - 78s 42ms/step - loss: 1.2266 - accuracy: 0.4993 - val_loss: 1.2977 - val_accuracy: 0.4807\n",
            "Epoch 22/100\n",
            "1875/1875 [==============================] - 78s 42ms/step - loss: 1.2069 - accuracy: 0.5083 - val_loss: 1.2240 - val_accuracy: 0.4995\n",
            "Epoch 23/100\n",
            "1875/1875 [==============================] - 77s 41ms/step - loss: 1.1560 - accuracy: 0.5239 - val_loss: 1.0988 - val_accuracy: 0.5459\n",
            "Epoch 24/100\n",
            "1875/1875 [==============================] - 78s 41ms/step - loss: 1.1811 - accuracy: 0.5221 - val_loss: 1.4705 - val_accuracy: 0.3852\n",
            "Epoch 25/100\n",
            "1875/1875 [==============================] - 78s 42ms/step - loss: 1.2775 - accuracy: 0.4699 - val_loss: 1.1704 - val_accuracy: 0.5129\n",
            "Epoch 26/100\n",
            "1875/1875 [==============================] - 78s 41ms/step - loss: 1.2082 - accuracy: 0.5061 - val_loss: 1.2163 - val_accuracy: 0.4943\n",
            "Epoch 27/100\n",
            "1875/1875 [==============================] - 78s 41ms/step - loss: 1.1467 - accuracy: 0.5258 - val_loss: 1.0963 - val_accuracy: 0.5438\n",
            "Epoch 28/100\n",
            "1875/1875 [==============================] - 78s 42ms/step - loss: 1.1134 - accuracy: 0.5416 - val_loss: 1.0851 - val_accuracy: 0.5427\n",
            "Epoch 29/100\n",
            "1875/1875 [==============================] - 79s 42ms/step - loss: 1.0991 - accuracy: 0.5454 - val_loss: 1.0359 - val_accuracy: 0.5654\n",
            "Epoch 30/100\n",
            "1875/1875 [==============================] - 78s 42ms/step - loss: 1.1005 - accuracy: 0.5441 - val_loss: 1.0487 - val_accuracy: 0.5713\n",
            "Epoch 31/100\n",
            "1875/1875 [==============================] - 77s 41ms/step - loss: 1.0385 - accuracy: 0.5662 - val_loss: 1.0112 - val_accuracy: 0.5789\n",
            "Epoch 32/100\n",
            "1875/1875 [==============================] - 77s 41ms/step - loss: 1.0290 - accuracy: 0.5695 - val_loss: 0.9794 - val_accuracy: 0.5855\n",
            "Epoch 33/100\n",
            "1875/1875 [==============================] - 77s 41ms/step - loss: 1.0180 - accuracy: 0.5740 - val_loss: 1.8123 - val_accuracy: 0.4655\n",
            "Epoch 34/100\n",
            "1875/1875 [==============================] - 77s 41ms/step - loss: 1.0268 - accuracy: 0.5725 - val_loss: 0.9799 - val_accuracy: 0.5915\n",
            "Epoch 35/100\n",
            "1875/1875 [==============================] - 77s 41ms/step - loss: 1.0117 - accuracy: 0.5778 - val_loss: 0.9635 - val_accuracy: 0.5974\n",
            "Epoch 36/100\n",
            "1875/1875 [==============================] - 77s 41ms/step - loss: 0.9910 - accuracy: 0.5854 - val_loss: 1.1038 - val_accuracy: 0.5473\n",
            "Epoch 37/100\n",
            "1875/1875 [==============================] - 78s 41ms/step - loss: 1.3017 - accuracy: 0.4832 - val_loss: 1.1865 - val_accuracy: 0.5117\n",
            "Epoch 38/100\n",
            "1875/1875 [==============================] - 77s 41ms/step - loss: 1.1002 - accuracy: 0.5450 - val_loss: 1.0061 - val_accuracy: 0.5755\n",
            "Epoch 39/100\n",
            "1875/1875 [==============================] - 78s 41ms/step - loss: 0.9977 - accuracy: 0.5815 - val_loss: 0.9549 - val_accuracy: 0.6005\n",
            "Epoch 40/100\n",
            "1875/1875 [==============================] - 77s 41ms/step - loss: 0.9685 - accuracy: 0.5921 - val_loss: 0.9612 - val_accuracy: 0.5914\n",
            "Epoch 41/100\n",
            "1875/1875 [==============================] - 78s 41ms/step - loss: 0.9566 - accuracy: 0.5968 - val_loss: 0.9503 - val_accuracy: 0.6028\n",
            "Epoch 42/100\n",
            "1875/1875 [==============================] - 79s 42ms/step - loss: 0.9936 - accuracy: 0.5893 - val_loss: 0.9756 - val_accuracy: 0.5963\n",
            "Epoch 43/100\n",
            "1875/1875 [==============================] - 78s 42ms/step - loss: 0.9677 - accuracy: 0.5939 - val_loss: 0.9181 - val_accuracy: 0.6159\n",
            "Epoch 44/100\n",
            "1875/1875 [==============================] - 79s 42ms/step - loss: 0.9320 - accuracy: 0.6065 - val_loss: 0.9069 - val_accuracy: 0.6169\n",
            "Epoch 45/100\n",
            "1875/1875 [==============================] - 79s 42ms/step - loss: 0.9663 - accuracy: 0.5987 - val_loss: 1.0519 - val_accuracy: 0.5777\n",
            "Epoch 46/100\n",
            "1875/1875 [==============================] - 79s 42ms/step - loss: 1.0030 - accuracy: 0.5844 - val_loss: 0.9560 - val_accuracy: 0.5968\n",
            "Epoch 47/100\n",
            "1875/1875 [==============================] - 79s 42ms/step - loss: 0.9286 - accuracy: 0.6111 - val_loss: 0.9119 - val_accuracy: 0.6211\n",
            "Epoch 48/100\n",
            "1875/1875 [==============================] - 79s 42ms/step - loss: 0.9611 - accuracy: 0.6004 - val_loss: 0.8785 - val_accuracy: 0.6294\n",
            "Epoch 49/100\n",
            "1875/1875 [==============================] - 78s 42ms/step - loss: 0.9138 - accuracy: 0.6166 - val_loss: 0.8669 - val_accuracy: 0.6369\n",
            "Epoch 50/100\n",
            "1875/1875 [==============================] - 78s 42ms/step - loss: 0.8931 - accuracy: 0.6256 - val_loss: 0.8827 - val_accuracy: 0.6325\n",
            "Epoch 51/100\n",
            "1875/1875 [==============================] - 79s 42ms/step - loss: 0.9383 - accuracy: 0.6109 - val_loss: 0.8725 - val_accuracy: 0.6342\n",
            "Epoch 52/100\n",
            "1875/1875 [==============================] - 78s 42ms/step - loss: 0.8922 - accuracy: 0.6282 - val_loss: 0.8666 - val_accuracy: 0.6374\n",
            "Epoch 53/100\n",
            "1875/1875 [==============================] - 79s 42ms/step - loss: 0.8744 - accuracy: 0.6348 - val_loss: 0.9328 - val_accuracy: 0.6039\n",
            "Epoch 54/100\n",
            "1875/1875 [==============================] - 79s 42ms/step - loss: 0.8659 - accuracy: 0.6392 - val_loss: 0.8585 - val_accuracy: 0.6394\n",
            "Epoch 55/100\n",
            "1875/1875 [==============================] - 78s 42ms/step - loss: 0.8571 - accuracy: 0.6426 - val_loss: 0.8582 - val_accuracy: 0.6411\n",
            "Epoch 56/100\n",
            "1875/1875 [==============================] - 78s 42ms/step - loss: 0.8538 - accuracy: 0.6454 - val_loss: 0.8125 - val_accuracy: 0.6616\n",
            "Epoch 57/100\n",
            "1875/1875 [==============================] - 81s 43ms/step - loss: 0.8485 - accuracy: 0.6490 - val_loss: 0.8134 - val_accuracy: 0.6649\n",
            "Epoch 58/100\n",
            "1875/1875 [==============================] - 79s 42ms/step - loss: 0.8280 - accuracy: 0.6579 - val_loss: 0.8038 - val_accuracy: 0.6701\n",
            "Epoch 59/100\n",
            "1875/1875 [==============================] - 79s 42ms/step - loss: 0.8211 - accuracy: 0.6606 - val_loss: 0.8036 - val_accuracy: 0.6677\n",
            "Epoch 60/100\n",
            "1875/1875 [==============================] - 79s 42ms/step - loss: 0.8213 - accuracy: 0.6625 - val_loss: 0.7877 - val_accuracy: 0.6809\n",
            "Epoch 61/100\n",
            "1875/1875 [==============================] - 79s 42ms/step - loss: 0.8097 - accuracy: 0.6663 - val_loss: 0.7883 - val_accuracy: 0.6723\n",
            "Epoch 62/100\n",
            "1875/1875 [==============================] - 79s 42ms/step - loss: 0.8066 - accuracy: 0.6698 - val_loss: 0.7914 - val_accuracy: 0.6787\n",
            "Epoch 63/100\n",
            "1875/1875 [==============================] - 79s 42ms/step - loss: 0.8622 - accuracy: 0.6534 - val_loss: 0.8445 - val_accuracy: 0.6587\n",
            "Epoch 64/100\n",
            "1875/1875 [==============================] - 78s 42ms/step - loss: 0.9382 - accuracy: 0.6214 - val_loss: 0.8126 - val_accuracy: 0.6683\n",
            "Epoch 65/100\n",
            "1875/1875 [==============================] - 78s 42ms/step - loss: 0.8122 - accuracy: 0.6710 - val_loss: 0.9209 - val_accuracy: 0.6219\n",
            "Epoch 66/100\n",
            "1875/1875 [==============================] - 78s 42ms/step - loss: 0.8836 - accuracy: 0.6502 - val_loss: 1.0333 - val_accuracy: 0.5810\n",
            "Epoch 67/100\n",
            "1875/1875 [==============================] - 78s 42ms/step - loss: 0.8339 - accuracy: 0.6663 - val_loss: 0.7781 - val_accuracy: 0.6841\n",
            "Epoch 68/100\n",
            "1875/1875 [==============================] - 78s 42ms/step - loss: 0.7847 - accuracy: 0.6812 - val_loss: 0.7552 - val_accuracy: 0.6927\n",
            "Epoch 69/100\n",
            "1875/1875 [==============================] - 78s 41ms/step - loss: 0.7738 - accuracy: 0.6868 - val_loss: 0.7785 - val_accuracy: 0.6861\n",
            "Epoch 70/100\n",
            "1875/1875 [==============================] - 80s 43ms/step - loss: 0.7612 - accuracy: 0.6905 - val_loss: 0.7680 - val_accuracy: 0.6878\n",
            "Epoch 71/100\n",
            "1875/1875 [==============================] - 78s 41ms/step - loss: 0.7527 - accuracy: 0.6934 - val_loss: 0.7419 - val_accuracy: 0.6989\n",
            "Epoch 72/100\n",
            "1875/1875 [==============================] - 78s 41ms/step - loss: 0.7500 - accuracy: 0.6955 - val_loss: 0.7145 - val_accuracy: 0.7109\n",
            "Epoch 73/100\n",
            "1875/1875 [==============================] - 78s 41ms/step - loss: 0.7385 - accuracy: 0.6992 - val_loss: 0.7381 - val_accuracy: 0.7046\n",
            "Epoch 74/100\n",
            "1875/1875 [==============================] - 78s 42ms/step - loss: 0.7481 - accuracy: 0.6967 - val_loss: 0.7807 - val_accuracy: 0.6879\n",
            "Epoch 75/100\n",
            "1875/1875 [==============================] - 78s 42ms/step - loss: 0.7317 - accuracy: 0.7033 - val_loss: 0.7163 - val_accuracy: 0.7065\n",
            "Epoch 76/100\n",
            "1875/1875 [==============================] - 78s 42ms/step - loss: 0.7202 - accuracy: 0.7082 - val_loss: 0.6979 - val_accuracy: 0.7149\n",
            "Epoch 77/100\n",
            "1875/1875 [==============================] - 78s 42ms/step - loss: 0.7146 - accuracy: 0.7108 - val_loss: 0.7168 - val_accuracy: 0.7114\n",
            "Epoch 78/100\n",
            "1875/1875 [==============================] - 78s 42ms/step - loss: 0.7113 - accuracy: 0.7126 - val_loss: 0.7094 - val_accuracy: 0.7159\n",
            "Epoch 79/100\n",
            "1875/1875 [==============================] - 78s 42ms/step - loss: 0.7019 - accuracy: 0.7161 - val_loss: 0.6990 - val_accuracy: 0.7167\n",
            "Epoch 80/100\n",
            "1875/1875 [==============================] - 80s 43ms/step - loss: 0.6947 - accuracy: 0.7186 - val_loss: 0.6829 - val_accuracy: 0.7213\n",
            "Epoch 81/100\n",
            "1875/1875 [==============================] - 79s 42ms/step - loss: 0.6922 - accuracy: 0.7205 - val_loss: 0.6825 - val_accuracy: 0.7229\n",
            "Epoch 82/100\n",
            "1875/1875 [==============================] - 79s 42ms/step - loss: 0.6860 - accuracy: 0.7231 - val_loss: 0.6933 - val_accuracy: 0.7155\n",
            "Epoch 83/100\n",
            "1875/1875 [==============================] - 79s 42ms/step - loss: 0.6802 - accuracy: 0.7256 - val_loss: 0.7046 - val_accuracy: 0.7178\n",
            "Epoch 84/100\n",
            "1875/1875 [==============================] - 80s 43ms/step - loss: 0.6769 - accuracy: 0.7275 - val_loss: 0.6417 - val_accuracy: 0.7404\n",
            "Epoch 85/100\n",
            "1875/1875 [==============================] - 82s 44ms/step - loss: 0.6699 - accuracy: 0.7301 - val_loss: 0.6722 - val_accuracy: 0.7297\n",
            "Epoch 86/100\n",
            "1875/1875 [==============================] - 82s 44ms/step - loss: 0.6641 - accuracy: 0.7325 - val_loss: 0.6758 - val_accuracy: 0.7280\n",
            "Epoch 87/100\n",
            "1875/1875 [==============================] - 83s 44ms/step - loss: 0.6540 - accuracy: 0.7368 - val_loss: 0.6350 - val_accuracy: 0.7443\n",
            "Epoch 88/100\n",
            "1875/1875 [==============================] - 83s 44ms/step - loss: 0.6506 - accuracy: 0.7372 - val_loss: 0.6326 - val_accuracy: 0.7459\n",
            "Epoch 89/100\n",
            "1875/1875 [==============================] - 83s 44ms/step - loss: 0.6470 - accuracy: 0.7386 - val_loss: 0.6137 - val_accuracy: 0.7521\n",
            "Epoch 90/100\n",
            "1875/1875 [==============================] - 82s 44ms/step - loss: 0.6381 - accuracy: 0.7435 - val_loss: 0.6321 - val_accuracy: 0.7465\n",
            "Epoch 91/100\n",
            "1875/1875 [==============================] - 82s 44ms/step - loss: 0.6339 - accuracy: 0.7446 - val_loss: 0.6114 - val_accuracy: 0.7564\n",
            "Epoch 92/100\n",
            "1875/1875 [==============================] - 83s 44ms/step - loss: 0.6274 - accuracy: 0.7483 - val_loss: 0.6096 - val_accuracy: 0.7569\n",
            "Epoch 93/100\n",
            "1875/1875 [==============================] - 83s 44ms/step - loss: 0.6178 - accuracy: 0.7518 - val_loss: 0.6250 - val_accuracy: 0.7487\n",
            "Epoch 94/100\n",
            "1875/1875 [==============================] - 83s 44ms/step - loss: 0.6161 - accuracy: 0.7533 - val_loss: 0.6041 - val_accuracy: 0.7548\n",
            "Epoch 95/100\n",
            "1875/1875 [==============================] - 82s 44ms/step - loss: 0.6133 - accuracy: 0.7534 - val_loss: 0.5930 - val_accuracy: 0.7636\n",
            "Epoch 96/100\n",
            "1875/1875 [==============================] - 83s 44ms/step - loss: 0.6014 - accuracy: 0.7594 - val_loss: 0.5921 - val_accuracy: 0.7607\n",
            "Epoch 97/100\n",
            "1875/1875 [==============================] - 82s 44ms/step - loss: 0.5992 - accuracy: 0.7601 - val_loss: 0.6052 - val_accuracy: 0.7608\n",
            "Epoch 98/100\n",
            "1875/1875 [==============================] - 83s 44ms/step - loss: 0.5917 - accuracy: 0.7626 - val_loss: 0.5962 - val_accuracy: 0.7655\n",
            "Epoch 99/100\n",
            "1875/1875 [==============================] - 83s 44ms/step - loss: 0.5858 - accuracy: 0.7663 - val_loss: 0.5715 - val_accuracy: 0.7727\n",
            "Epoch 100/100\n",
            "1875/1875 [==============================] - 82s 44ms/step - loss: 0.5781 - accuracy: 0.7691 - val_loss: 0.5910 - val_accuracy: 0.7625\n"
          ]
        }
      ],
      "source": [
        "history = model.fit(X_train, y_train, batch_size=64, epochs=100, validation_data=(X_val, y_val))\n",
        "#model.save('AllDataModel_E100_B64.h5')"
      ]
    },
    {
      "cell_type": "code",
      "execution_count": 30,
      "metadata": {
        "id": "R7QQeqVidKBR",
        "colab": {
          "base_uri": "https://localhost:8080/"
        },
        "outputId": "95935958-2862-458e-e1c3-6f3318263c15"
      },
      "outputs": [
        {
          "output_type": "stream",
          "name": "stdout",
          "text": [
            "469/469 [==============================] - 9s 18ms/step - loss: 0.5741 - accuracy: 0.7689\n"
          ]
        }
      ],
      "source": [
        "test_acc = model.evaluate(X_test, y_test)"
      ]
    },
    {
      "cell_type": "code",
      "source": [
        "test_acc"
      ],
      "metadata": {
        "id": "6fuTmgGrUgGg",
        "colab": {
          "base_uri": "https://localhost:8080/"
        },
        "outputId": "147f2db2-f3b9-4a9b-ccc7-2edaf4d371ad"
      },
      "execution_count": 31,
      "outputs": [
        {
          "output_type": "execute_result",
          "data": {
            "text/plain": [
              "[0.5741100907325745, 0.7689333558082581]"
            ]
          },
          "metadata": {},
          "execution_count": 31
        }
      ]
    },
    {
      "cell_type": "code",
      "execution_count": 32,
      "metadata": {
        "id": "OHpifyqGdKn-",
        "colab": {
          "base_uri": "https://localhost:8080/"
        },
        "outputId": "ad10ad05-0761-4f7b-b82d-411bf095eafc"
      },
      "outputs": [
        {
          "output_type": "stream",
          "name": "stdout",
          "text": [
            "469/469 [==============================] - 6s 12ms/step\n"
          ]
        }
      ],
      "source": [
        "y_test_prob = model.predict(X_test, verbose=1)"
      ]
    },
    {
      "cell_type": "code",
      "source": [
        "np.set_printoptions(suppress=True)\n",
        "y_test_prob"
      ],
      "metadata": {
        "id": "rRPswrrkmhp2",
        "colab": {
          "base_uri": "https://localhost:8080/"
        },
        "outputId": "0bbe75dc-0c38-4c6d-cc1f-a7bd975c2f22"
      },
      "execution_count": 33,
      "outputs": [
        {
          "output_type": "execute_result",
          "data": {
            "text/plain": [
              "array([[0.00003943, 0.00004288, 0.04000196, ..., 0.30486253, 0.13013867,\n",
              "        0.00726031],\n",
              "       [0.9087853 , 0.08889608, 0.00011133, ..., 0.00011047, 0.00016243,\n",
              "        0.00172679],\n",
              "       [0.00013328, 0.00514312, 0.9137936 , ..., 0.00474483, 0.03004692,\n",
              "        0.02100684],\n",
              "       ...,\n",
              "       [0.00000011, 0.00000002, 0.00000507, ..., 0.3088498 , 0.00254496,\n",
              "        0.00000193],\n",
              "       [0.00034207, 0.08523152, 0.9001078 , ..., 0.00003093, 0.00513444,\n",
              "        0.00747696],\n",
              "       [0.8945017 , 0.10270932, 0.00017208, ..., 0.00018167, 0.00036761,\n",
              "        0.00176235]], dtype=float32)"
            ]
          },
          "metadata": {},
          "execution_count": 33
        }
      ]
    },
    {
      "cell_type": "code",
      "execution_count": 34,
      "metadata": {
        "id": "AfmdrBILdMwj"
      },
      "outputs": [],
      "source": [
        "y_test_pred = np.where(y_test_prob > 0.5, 1, 0)"
      ]
    },
    {
      "cell_type": "code",
      "execution_count": 35,
      "metadata": {
        "id": "8DoJy_p9dPzN"
      },
      "outputs": [],
      "source": [
        "from sklearn.metrics import multilabel_confusion_matrix"
      ]
    },
    {
      "cell_type": "code",
      "source": [
        "y_test"
      ],
      "metadata": {
        "id": "n1Us2yrfcGl-",
        "colab": {
          "base_uri": "https://localhost:8080/"
        },
        "outputId": "7fe24003-c88f-48de-d6ec-692db55375d2"
      },
      "execution_count": 36,
      "outputs": [
        {
          "output_type": "execute_result",
          "data": {
            "text/plain": [
              "array([[0., 0., 0., ..., 0., 0., 0.],\n",
              "       [1., 0., 0., ..., 0., 0., 0.],\n",
              "       [0., 0., 1., ..., 0., 0., 0.],\n",
              "       ...,\n",
              "       [0., 0., 0., ..., 1., 0., 0.],\n",
              "       [0., 0., 1., ..., 0., 0., 0.],\n",
              "       [1., 0., 0., ..., 0., 0., 0.]])"
            ]
          },
          "metadata": {},
          "execution_count": 36
        }
      ]
    },
    {
      "cell_type": "code",
      "source": [
        "y_test.shape"
      ],
      "metadata": {
        "id": "VnmvTcvWbxr9",
        "colab": {
          "base_uri": "https://localhost:8080/"
        },
        "outputId": "19327cf9-4363-490c-946c-f1428fd43f91"
      },
      "execution_count": 37,
      "outputs": [
        {
          "output_type": "execute_result",
          "data": {
            "text/plain": [
              "(15000, 8)"
            ]
          },
          "metadata": {},
          "execution_count": 37
        }
      ]
    },
    {
      "cell_type": "code",
      "source": [
        "y_test_pred"
      ],
      "metadata": {
        "id": "nMBOgzrgcJBj",
        "colab": {
          "base_uri": "https://localhost:8080/"
        },
        "outputId": "30adc0a1-1157-4289-e83b-e22ad0927d22"
      },
      "execution_count": 38,
      "outputs": [
        {
          "output_type": "execute_result",
          "data": {
            "text/plain": [
              "array([[0, 0, 0, ..., 0, 0, 0],\n",
              "       [1, 0, 0, ..., 0, 0, 0],\n",
              "       [0, 0, 1, ..., 0, 0, 0],\n",
              "       ...,\n",
              "       [0, 0, 0, ..., 0, 0, 0],\n",
              "       [0, 0, 1, ..., 0, 0, 0],\n",
              "       [1, 0, 0, ..., 0, 0, 0]])"
            ]
          },
          "metadata": {},
          "execution_count": 38
        }
      ]
    },
    {
      "cell_type": "code",
      "source": [
        "y_test_pred.shape"
      ],
      "metadata": {
        "id": "SXKZof8Ye5uI",
        "colab": {
          "base_uri": "https://localhost:8080/"
        },
        "outputId": "58675cb9-dd2d-44f1-88f7-6c57deec21ef"
      },
      "execution_count": 39,
      "outputs": [
        {
          "output_type": "execute_result",
          "data": {
            "text/plain": [
              "(15000, 8)"
            ]
          },
          "metadata": {},
          "execution_count": 39
        }
      ]
    },
    {
      "cell_type": "code",
      "source": [
        "y_decoded_pred = tf.argmax(y_test_pred, axis = 1)"
      ],
      "metadata": {
        "id": "leDQwKOjgwwi"
      },
      "execution_count": 40,
      "outputs": []
    },
    {
      "cell_type": "code",
      "source": [
        "y_decoded = tf.argmax(y_test, axis = 1)"
      ],
      "metadata": {
        "id": "sAHRmtesif6g"
      },
      "execution_count": 41,
      "outputs": []
    },
    {
      "cell_type": "code",
      "source": [
        "y_decoded_pred"
      ],
      "metadata": {
        "id": "_lvFhrmPhprD",
        "colab": {
          "base_uri": "https://localhost:8080/"
        },
        "outputId": "7ac7e887-3fbe-488b-f55a-1e6f3f004946"
      },
      "execution_count": 42,
      "outputs": [
        {
          "output_type": "execute_result",
          "data": {
            "text/plain": [
              "<tf.Tensor: shape=(15000,), dtype=int64, numpy=array([0, 0, 2, ..., 4, 2, 0])>"
            ]
          },
          "metadata": {},
          "execution_count": 42
        }
      ]
    },
    {
      "cell_type": "code",
      "source": [
        "y_decoded"
      ],
      "metadata": {
        "id": "YV1FXgHviPwm",
        "colab": {
          "base_uri": "https://localhost:8080/"
        },
        "outputId": "748372d7-5555-4184-d3c9-e1bf3b870141"
      },
      "execution_count": 43,
      "outputs": [
        {
          "output_type": "execute_result",
          "data": {
            "text/plain": [
              "<tf.Tensor: shape=(15000,), dtype=int64, numpy=array([4, 0, 2, ..., 5, 2, 0])>"
            ]
          },
          "metadata": {},
          "execution_count": 43
        }
      ]
    },
    {
      "cell_type": "code",
      "source": [
        "y_test_pred = y_decoded_pred\n"
      ],
      "metadata": {
        "id": "6-6jFqzGh380"
      },
      "execution_count": 44,
      "outputs": []
    },
    {
      "cell_type": "code",
      "source": [
        "y_test = y_decoded"
      ],
      "metadata": {
        "id": "9pogVvdIiwss"
      },
      "execution_count": 45,
      "outputs": []
    },
    {
      "cell_type": "code",
      "source": [
        "y_test"
      ],
      "metadata": {
        "id": "oGt5aJetiKR6",
        "colab": {
          "base_uri": "https://localhost:8080/"
        },
        "outputId": "48f436bb-c614-4e53-9206-c64f05673c3e"
      },
      "execution_count": 46,
      "outputs": [
        {
          "output_type": "execute_result",
          "data": {
            "text/plain": [
              "<tf.Tensor: shape=(15000,), dtype=int64, numpy=array([4, 0, 2, ..., 5, 2, 0])>"
            ]
          },
          "metadata": {},
          "execution_count": 46
        }
      ]
    },
    {
      "cell_type": "code",
      "source": [
        "y_test_pred"
      ],
      "metadata": {
        "id": "fLgDwAIfiyv2",
        "colab": {
          "base_uri": "https://localhost:8080/"
        },
        "outputId": "2c811af9-997e-48f0-ef3d-d94e49b0ace6"
      },
      "execution_count": 47,
      "outputs": [
        {
          "output_type": "execute_result",
          "data": {
            "text/plain": [
              "<tf.Tensor: shape=(15000,), dtype=int64, numpy=array([0, 0, 2, ..., 4, 2, 0])>"
            ]
          },
          "metadata": {},
          "execution_count": 47
        }
      ]
    },
    {
      "cell_type": "code",
      "execution_count": 48,
      "metadata": {
        "id": "fTCsPjW8dQaZ"
      },
      "outputs": [],
      "source": [
        "cfm=confusion_matrix(y_test, y_test_pred)"
      ]
    },
    {
      "cell_type": "code",
      "source": [
        "cfm"
      ],
      "metadata": {
        "id": "_67lPg6ic4cH",
        "colab": {
          "base_uri": "https://localhost:8080/"
        },
        "outputId": "3535e006-113f-4ffc-851d-c2bb448b5081"
      },
      "execution_count": 49,
      "outputs": [
        {
          "output_type": "execute_result",
          "data": {
            "text/plain": [
              "array([[1874,   47,    0,    0,    0,    0,    0,    0],\n",
              "       [  22, 1850,    6,    0,    0,    0,    0,    6],\n",
              "       [ 270,   20, 1451,   86,    4,   36,   28,   49],\n",
              "       [ 404,    0,   47, 1151,  138,   71,   13,    2],\n",
              "       [ 536,    0,   27,  137,  853,  114,  169,   15],\n",
              "       [ 625,    0,   33,   82,  115,  881,   37,   25],\n",
              "       [ 400,    1,   42,    0,   25,   19,  946,  488],\n",
              "       [ 160,    6,   11,    0,    0,    8,  109, 1561]])"
            ]
          },
          "metadata": {},
          "execution_count": 49
        }
      ]
    },
    {
      "cell_type": "code",
      "source": [
        " print(classification_report(y_test,y_test_pred))"
      ],
      "metadata": {
        "id": "XTqR_xnwRWCJ",
        "colab": {
          "base_uri": "https://localhost:8080/"
        },
        "outputId": "49f9968f-1b70-4578-f1b7-ea2c34f67874"
      },
      "execution_count": 50,
      "outputs": [
        {
          "output_type": "stream",
          "name": "stdout",
          "text": [
            "              precision    recall  f1-score   support\n",
            "\n",
            "           0       0.44      0.98      0.60      1921\n",
            "           1       0.96      0.98      0.97      1884\n",
            "           2       0.90      0.75      0.81      1944\n",
            "           3       0.79      0.63      0.70      1826\n",
            "           4       0.75      0.46      0.57      1851\n",
            "           5       0.78      0.49      0.60      1798\n",
            "           6       0.73      0.49      0.59      1921\n",
            "           7       0.73      0.84      0.78      1855\n",
            "\n",
            "    accuracy                           0.70     15000\n",
            "   macro avg       0.76      0.70      0.70     15000\n",
            "weighted avg       0.76      0.70      0.70     15000\n",
            "\n"
          ]
        }
      ]
    },
    {
      "cell_type": "code",
      "execution_count": 51,
      "metadata": {
        "id": "te3fslrY9Eca",
        "colab": {
          "base_uri": "https://localhost:8080/",
          "height": 903
        },
        "outputId": "99076439-8f4d-48f8-b73d-cc9754e8085a"
      },
      "outputs": [
        {
          "output_type": "stream",
          "name": "stdout",
          "text": [
            "Confusion matrix, without normalization\n",
            "[[1874   47    0    0    0    0    0    0]\n",
            " [  22 1850    6    0    0    0    0    6]\n",
            " [ 270   20 1451   86    4   36   28   49]\n",
            " [ 404    0   47 1151  138   71   13    2]\n",
            " [ 536    0   27  137  853  114  169   15]\n",
            " [ 625    0   33   82  115  881   37   25]\n",
            " [ 400    1   42    0   25   19  946  488]\n",
            " [ 160    6   11    0    0    8  109 1561]]\n",
            "Normalized confusion matrix\n",
            "[[0.98 0.02 0.   0.   0.   0.   0.   0.  ]\n",
            " [0.01 0.98 0.   0.   0.   0.   0.   0.  ]\n",
            " [0.14 0.01 0.75 0.04 0.   0.02 0.01 0.03]\n",
            " [0.22 0.   0.03 0.63 0.08 0.04 0.01 0.  ]\n",
            " [0.29 0.   0.01 0.07 0.46 0.06 0.09 0.01]\n",
            " [0.35 0.   0.02 0.05 0.06 0.49 0.02 0.01]\n",
            " [0.21 0.   0.02 0.   0.01 0.01 0.49 0.25]\n",
            " [0.09 0.   0.01 0.   0.   0.   0.06 0.84]]\n"
          ]
        },
        {
          "output_type": "display_data",
          "data": {
            "text/plain": [
              "<Figure size 432x288 with 2 Axes>"
            ],
            "image/png": "[encoded data removed]"
          },
          "metadata": {
            "needs_background": "light"
          }
        },
        {
          "output_type": "display_data",
          "data": {
            "text/plain": [
              "<Figure size 432x288 with 2 Axes>"
            ],
            "image/png": "[encoded data removed]"
          },
          "metadata": {
            "needs_background": "light"
          }
        }
      ],
      "source": [
        "import numpy as np\n",
        "import matplotlib.pyplot as plt\n",
        "\n",
        "from sklearn import svm, datasets\n",
        "from sklearn.model_selection import train_test_split\n",
        "from sklearn.metrics import confusion_matrix\n",
        "from sklearn.utils.multiclass import unique_labels\n",
        "\n",
        "class_names = np.array(['0', '1', '2', '3', '4', '5', '6', '7'])\n",
        "\n",
        "def plot_confusion_matrix(y_true, y_pred, classes,\n",
        "                          normalize=False,\n",
        "                          title=None,\n",
        "                          cmap=plt.cm.Blues):\n",
        "    \"\"\"\n",
        "    This function prints and plots the confusion matrix.\n",
        "    Normalization can be applied by setting `normalize=True`.\n",
        "    \"\"\"\n",
        "    if not title:\n",
        "        if normalize:\n",
        "            title = 'Normalized confusion matrix'\n",
        "        else:\n",
        "            title = 'Confusion matrix, without normalization'\n",
        "\n",
        "    # Compute confusion matrix\n",
        "    cm = confusion_matrix(y_true, y_pred)\n",
        "    # Only use the labels that appear in the data\n",
        "    classes = classes[unique_labels(y_true, y_pred)]\n",
        "    if normalize:\n",
        "        cm = cm.astype('float') / cm.sum(axis=1)[:, np.newaxis]\n",
        "        print(\"Normalized confusion matrix\")\n",
        "    else:\n",
        "        print('Confusion matrix, without normalization')\n",
        "\n",
        "    print(cm)\n",
        "\n",
        "    fig, ax = plt.subplots()\n",
        "    im = ax.imshow(cm, interpolation='nearest', cmap=cmap)\n",
        "    ax.figure.colorbar(im, ax=ax)\n",
        "    # We want to show all ticks...\n",
        "    ax.set(xticks=np.arange(cm.shape[1]),\n",
        "           yticks=np.arange(cm.shape[0]),\n",
        "           # ... and label them with the respective list entries\n",
        "           xticklabels=classes, yticklabels=classes,\n",
        "           title=title,\n",
        "           ylabel='True label',\n",
        "           xlabel='Predicted label')\n",
        "\n",
        "    # Rotate the tick labels and set their alignment.\n",
        "    plt.setp(ax.get_xticklabels(), rotation=45, ha=\"right\",\n",
        "             rotation_mode=\"anchor\")\n",
        "\n",
        "    # Loop over data dimensions and create text annotations.\n",
        "    fmt = '.2f' if normalize else 'd'\n",
        "    thresh = cm.max() / 2.\n",
        "    for i in range(cm.shape[0]):\n",
        "        for j in range(cm.shape[1]):\n",
        "            ax.text(j, i, format(cm[i, j], fmt),\n",
        "                    ha=\"center\", va=\"center\",\n",
        "                    color=\"white\" if cm[i, j] > thresh else \"black\")\n",
        "    fig.tight_layout()\n",
        "\n",
        "    return ax\n",
        "\n",
        "\n",
        "np.set_printoptions(precision=2)\n",
        "\n",
        "# Plot non-normalized confusion matrix\n",
        "plot_confusion_matrix(y_test, y_test_pred, classes=class_names,\n",
        "                      title='Confusion matrix, without normalization')\n",
        "\n",
        "# Plot normalized confusion matrix\n",
        "plot_confusion_matrix(y_test, y_test_pred, classes=class_names, normalize=True,\n",
        "                      title='Normalized confusion matrix')\n",
        "\n",
        "plt.show()"
      ]
    },
    {
      "cell_type": "code",
      "execution_count": 52,
      "metadata": {
        "id": "fhdLAhgPUnH3"
      },
      "outputs": [],
      "source": [
        "def plot_learningCurve(history, epoch):\n",
        "  # Plot training & validation accuracy values\n",
        "  epoch_range = range(1, epoch+1)\n",
        "  plt.plot(epoch_range, history.history['accuracy'])\n",
        "  plt.plot(epoch_range, history.history['val_accuracy'])\n",
        "  plt.title('Model accuracy')\n",
        "  plt.ylabel('Accuracy')\n",
        "  plt.xlabel('Epoch')\n",
        "  plt.legend(['Train', 'Val'], loc='upper left')\n",
        "  plt.show()\n",
        "\n",
        "  # Plot training & validation loss values\n",
        "  plt.plot(epoch_range, history.history['loss'])\n",
        "  plt.plot(epoch_range, history.history['val_loss'])\n",
        "  plt.title('Model loss')\n",
        "  plt.ylabel('Loss')\n",
        "  plt.xlabel('Epoch')\n",
        "  plt.legend(['Train', 'Val'], loc='upper left')\n",
        "  plt.show()"
      ]
    },
    {
      "cell_type": "code",
      "execution_count": 53,
      "metadata": {
        "id": "WlkQkWHgU5mL",
        "colab": {
          "base_uri": "https://localhost:8080/",
          "height": 581
        },
        "outputId": "7f1a37ce-addc-4a5c-f79a-eb330593cd80"
      },
      "outputs": [
        {
          "output_type": "display_data",
          "data": {
            "text/plain": [
              "<Figure size 432x288 with 1 Axes>"
            ],
            "image/png": "[encoded data removed]"
          },
          "metadata": {
            "needs_background": "light"
          }
        },
        {
          "output_type": "display_data",
          "data": {
            "text/plain": [
              "<Figure size 432x288 with 1 Axes>"
            ],
            "image/png": "[encoded data removed]"
          },
          "metadata": {
            "needs_background": "light"
          }
        }
      ],
      "source": [
        "plot_learningCurve(history, 100)"
      ]
    }
  ],
  "metadata": {
    "colab": {
      "collapsed_sections": [
        "f857kfHqUk0-"
      ],
      "name": "Multi_Class_MD_LSTM_step_200_files_120.ipynb",
      "provenance": [],
      "include_colab_link": true
    },
    "kernelspec": {
      "display_name": "Python 3",
      "name": "python3"
    },
    "language_info": {
      "name": "python"
    },
    "accelerator": "GPU"
  },
  "nbformat": 4,
  "nbformat_minor": 0
}
