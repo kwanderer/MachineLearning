{
  "cells": [
    {
      "cell_type": "markdown",
      "metadata": {
        "id": "view-in-github",
        "colab_type": "text"
      },
      "source": [
        "<a href=\"https://colab.research.google.com/github/kwanderer/Autonomas-sistemas-un-roboti/blob/main/Multi_Class_MD_LSTM_step_200_files_120_no_over-accelerometer-tangential_1.ipynb\" target=\"_parent\"><img src=\"https://colab.research.google.com/assets/colab-badge.svg\" alt=\"Open In Colab\"/></a>"
      ]
    },
    {
      "cell_type": "markdown",
      "metadata": {
        "id": "f857kfHqUk0-"
      },
      "source": [
        "\n",
        "\n",
        "#Datu kopa"
      ]
    },
    {
      "cell_type": "markdown",
      "metadata": {
        "id": "nM9WE3QGUwVi"
      },
      "source": [
        "Datu kopas avots: https://www.kaggle.com/uysalserkan/fault-induction-motor-dataset"
      ]
    },
    {
      "cell_type": "markdown",
      "metadata": {
        "id": "_sN_h3qHHy6r"
      },
      "source": [
        "Darbā tiek izmantota indukcijas motora parametru datu bāze. Izmantotajā datu kopā ir dati, kas tika iegūti SpectraQuest aparatūras kļūdu simulatorā (Machinery Fault Simulator).\n",
        "\n",
        "Katra mērījumu secība tika ģenerēta ar frekvenci 50 kHz 5 sekunžu laikā, kopā 250 000 mērījumi.\n",
        "\n",
        "Dati ir apkopoti vairākos failos, dažādos darbības stāvokļos un to apjoms ir ļoti liels. Šajā darbā tika izmantota daļa(viena mērījumu secība) no motora normālas darbības datiem.\n"
      ]
    },
    {
      "cell_type": "markdown",
      "metadata": {
        "id": "KtFAOaHYHLPo"
      },
      "source": [
        "Dati ir apkopoti tabulā, kura satur 8 parametrus. Dati ir iedalīti sekojošās kolonas:\n",
        "\n",
        "**tachometer** – tahometra signāls, kas ļauj novērtēt rotācijas frekvenci\n",
        "\n",
        "**und-accelerometer-axial** - apakšā esošā gultņa akselerometrs (aksiālais virziens)\n",
        "\n",
        "**und-accelerometer-radial** – apakšā esošā gultņa akselerometrs (radiālais virziens)\n",
        "\n",
        "**und-accelerometer-tangential** - apakšā esošā gultņa akselerometrs (tangenciālais virziens)\n",
        "\n",
        "**over-accelerometer-axial** - pārkares gultņa akselerometrs (aksiālais virziens)\n",
        "\n",
        "**over-accelerometer-radial** – pārkares gultņa akselerometrs (radiālais  virziens)\n",
        "\n",
        "**over-accelerometer-tangential**  - pārkares gultņa akselerometrs (tangenciālais virziens)\n",
        "\n",
        "**microphone** – mikrofona vērtība\n"
      ]
    },
    {
      "cell_type": "markdown",
      "metadata": {
        "id": "XymoNLKMVFUC"
      },
      "source": [
        "#Datu ielasīšana un satura vizualizācija"
      ]
    },
    {
      "cell_type": "code",
      "execution_count": 1,
      "metadata": {
        "id": "_yqYZDeOFq5s"
      },
      "outputs": [],
      "source": [
        "import keras\n",
        "from keras.layers import LSTM, Dropout, Dense\n",
        "import tensorflow as tf\n",
        "import numpy as np\n",
        "import pandas as pd\n",
        "\n",
        "from sklearn import linear_model  #pip install sklearn - loti plasa masinapmacibas biblioteka\n",
        "from sklearn.linear_model import LinearRegression  \n",
        "import csv          #pip install csv - darbam ar CSV datu kopam\n",
        "import requests     #pip install requests  - vienkarsakam darbam ar tiessaistes CSV datu kopam tiessaistes\n",
        "\n",
        "import matplotlib\n",
        "import matplotlib.pyplot as plt\n",
        "\n",
        "import glob\n"
      ]
    },
    {
      "cell_type": "code",
      "execution_count": 2,
      "metadata": {
        "id": "wlRTBbM2eUcV",
        "colab": {
          "base_uri": "https://localhost:8080/"
        },
        "outputId": "62425881-2bb8-4a75-8bbb-ce807a659733"
      },
      "outputs": [
        {
          "output_type": "stream",
          "name": "stdout",
          "text": [
            "Mounted at /content/gdrive\n"
          ]
        }
      ],
      "source": [
        "from google.colab import drive\n",
        "import os\n",
        "drive.mount('/content/gdrive')\n",
        "os.chdir(\"/content/gdrive/MyDrive/Colab Notebooks/data_multiclass/\")"
      ]
    },
    {
      "cell_type": "code",
      "execution_count": 3,
      "metadata": {
        "id": "zzz6fBl_SNom"
      },
      "outputs": [],
      "source": [
        "#extension = 'csv'\n",
        "#all_filenames = [i for i in glob.glob('*.{}'.format(extension))]"
      ]
    },
    {
      "cell_type": "code",
      "execution_count": 4,
      "metadata": {
        "id": "vagKFCkToBi0"
      },
      "outputs": [],
      "source": [
        "#combine all files in the list\n",
        "#combined_csv = pd.concat([pd.read_csv(f) for f in all_filenames ])\n",
        "#export to csv\n",
        "#combined_csv.to_csv( \"combined_multiclass_csv.csv\", index=False, encoding='utf-8-sig')"
      ]
    },
    {
      "cell_type": "code",
      "execution_count": 5,
      "metadata": {
        "id": "encEkbDhSfGI"
      },
      "outputs": [],
      "source": [
        "data = pd.read_csv(\"combined_multiclass_csv.csv\")"
      ]
    },
    {
      "cell_type": "code",
      "execution_count": 6,
      "metadata": {
        "id": "yz5Qe8ZWk1Zq",
        "colab": {
          "base_uri": "https://localhost:8080/"
        },
        "outputId": "3343fff0-bc87-4307-bd76-4a6fb11c6619"
      },
      "outputs": [
        {
          "output_type": "stream",
          "name": "stdout",
          "text": [
            "<class 'pandas.core.frame.DataFrame'>\n",
            "RangeIndex: 30000000 entries, 0 to 29999999\n",
            "Data columns (total 9 columns):\n",
            " #   Column                         Dtype  \n",
            "---  ------                         -----  \n",
            " 0   tachometer                     float64\n",
            " 1   und-accelerometer-axial        float64\n",
            " 2   und-accelerometer-radial       float64\n",
            " 3   und-accelerometer-tangential   float64\n",
            " 4   over-accelerometer-axial       float64\n",
            " 5   over-accelerometer-radial      float64\n",
            " 6   over-accelerometer-tangential  float64\n",
            " 7   microphone                     float64\n",
            " 8   Class                          int64  \n",
            "dtypes: float64(8), int64(1)\n",
            "memory usage: 2.0 GB\n"
          ]
        }
      ],
      "source": [
        "data.info()"
      ]
    },
    {
      "cell_type": "code",
      "execution_count": 7,
      "metadata": {
        "id": "WUW9ezX6a_st",
        "colab": {
          "base_uri": "https://localhost:8080/"
        },
        "outputId": "5ae548f2-835c-4365-e7ca-91ccd2582ac4"
      },
      "outputs": [
        {
          "output_type": "execute_result",
          "data": {
            "text/plain": [
              "30000000"
            ]
          },
          "metadata": {},
          "execution_count": 7
        }
      ],
      "source": [
        "rec_count = len(data)\n",
        "rec_count"
      ]
    },
    {
      "cell_type": "markdown",
      "metadata": {
        "id": "6RVC1PZy88fC"
      },
      "source": [
        "# Datu dalīšana mazākos gabalos"
      ]
    },
    {
      "cell_type": "code",
      "execution_count": 8,
      "metadata": {
        "id": "DOvnCYkcbGaE"
      },
      "outputs": [],
      "source": [
        "sequence_length = 200"
      ]
    },
    {
      "cell_type": "code",
      "execution_count": 9,
      "metadata": {
        "id": "RG0o2L3zbTEx"
      },
      "outputs": [],
      "source": [
        "def generate_data(X, y, sequence_length = 200, step = 200):\n",
        "    X_local = []\n",
        "    y_local = []\n",
        "    for start in range(0, len(data) - sequence_length, step):\n",
        "        end = start + sequence_length\n",
        "        X_local.append(X[start:end])\n",
        "        y_local.append(y[end-1])\n",
        "    return np.array(X_local), np.array(y_local)\n",
        "\n",
        "#X_sequence, y = generate_data(data.loc[:, \"tachometer\":\"microphone\"].values, data.Class)\n",
        "#X_sequence, y = generate_data(data.loc[:, [\"tachometer\", \"und-accelerometer-axial\", \"und-accelerometer-radial\", \"und-accelerometer-tangential\", \"over-accelerometer-axial\", \"over-accelerometer-radial\", \"over-accelerometer-tangential\", \"microphone\"]].values, data.Class)\n",
        "#over-accelerometer-tangential\n",
        "X_sequence, y = generate_data(data.loc[:, [\"tachometer\", \"und-accelerometer-axial\", \"und-accelerometer-radial\", \"und-accelerometer-tangential\", \"over-accelerometer-axial\", \"over-accelerometer-radial\", \"microphone\"]].values, data.Class)"
      ]
    },
    {
      "cell_type": "code",
      "execution_count": 10,
      "metadata": {
        "id": "s0QxwK66cLVF",
        "colab": {
          "base_uri": "https://localhost:8080/"
        },
        "outputId": "29e9b77a-18f5-4dc8-e4e9-5c2f328ca5cc"
      },
      "outputs": [
        {
          "output_type": "execute_result",
          "data": {
            "text/plain": [
              "((149999, 200, 7), (149999,))"
            ]
          },
          "metadata": {},
          "execution_count": 10
        }
      ],
      "source": [
        "X_sequence.shape, y.shape"
      ]
    },
    {
      "cell_type": "code",
      "source": [
        "unique, counts = np.unique(y, return_counts=True)"
      ],
      "metadata": {
        "id": "l8Lq455lV1JR"
      },
      "execution_count": 11,
      "outputs": []
    },
    {
      "cell_type": "code",
      "source": [
        "unique"
      ],
      "metadata": {
        "id": "t0BRO3nAWQxe",
        "colab": {
          "base_uri": "https://localhost:8080/"
        },
        "outputId": "c38ffca1-e778-4bb2-ef8a-a5ca592d6a8c"
      },
      "execution_count": 12,
      "outputs": [
        {
          "output_type": "execute_result",
          "data": {
            "text/plain": [
              "array([0, 1, 2, 3, 4, 5, 6, 7])"
            ]
          },
          "metadata": {},
          "execution_count": 12
        }
      ]
    },
    {
      "cell_type": "code",
      "source": [
        "counts"
      ],
      "metadata": {
        "id": "WWZ7QWR4WS_r",
        "colab": {
          "base_uri": "https://localhost:8080/"
        },
        "outputId": "2479e775-2f76-4e50-9d0d-b5edfcdb7707"
      },
      "execution_count": 13,
      "outputs": [
        {
          "output_type": "execute_result",
          "data": {
            "text/plain": [
              "array([18749, 18750, 18750, 18750, 18750, 18750, 18750, 18750])"
            ]
          },
          "metadata": {},
          "execution_count": 13
        }
      ]
    },
    {
      "cell_type": "code",
      "execution_count": 14,
      "metadata": {
        "id": "i7R1oo6Mj8wx"
      },
      "outputs": [],
      "source": [
        "data = 0"
      ]
    },
    {
      "cell_type": "code",
      "source": [
        "from sklearn.preprocessing import OneHotEncoder"
      ],
      "metadata": {
        "id": "lAk_JscRWmqY"
      },
      "execution_count": 15,
      "outputs": []
    },
    {
      "cell_type": "code",
      "source": [
        "label_encoder = OneHotEncoder(sparse=False)\n",
        "label_encoder.fit(y.reshape(-1,1))"
      ],
      "metadata": {
        "id": "14B9aYy0W0y6",
        "colab": {
          "base_uri": "https://localhost:8080/"
        },
        "outputId": "7dd0d6a7-c61a-4d99-9b63-cc32c2d42adf"
      },
      "execution_count": 16,
      "outputs": [
        {
          "output_type": "execute_result",
          "data": {
            "text/plain": [
              "OneHotEncoder(sparse=False)"
            ]
          },
          "metadata": {},
          "execution_count": 16
        }
      ]
    },
    {
      "cell_type": "code",
      "source": [
        "y_encoded = label_encoder.transform(y.reshape(-1,1))"
      ],
      "metadata": {
        "id": "VjpWn96xXgPS"
      },
      "execution_count": 17,
      "outputs": []
    },
    {
      "cell_type": "code",
      "source": [
        "y_encoded[0:5]"
      ],
      "metadata": {
        "id": "VL6KMFo9XpBi",
        "colab": {
          "base_uri": "https://localhost:8080/"
        },
        "outputId": "297f8861-1385-4ee0-a0e2-a50c36dd8974"
      },
      "execution_count": 18,
      "outputs": [
        {
          "output_type": "execute_result",
          "data": {
            "text/plain": [
              "array([[0., 0., 0., 0., 0., 0., 0., 1.],\n",
              "       [0., 0., 0., 0., 0., 0., 0., 1.],\n",
              "       [0., 0., 0., 0., 0., 0., 0., 1.],\n",
              "       [0., 0., 0., 0., 0., 0., 0., 1.],\n",
              "       [0., 0., 0., 0., 0., 0., 0., 1.]])"
            ]
          },
          "metadata": {},
          "execution_count": 18
        }
      ]
    },
    {
      "cell_type": "code",
      "source": [
        "y=y_encoded"
      ],
      "metadata": {
        "id": "5c8km253YKBl"
      },
      "execution_count": 19,
      "outputs": []
    },
    {
      "cell_type": "markdown",
      "metadata": {
        "id": "5BXSDoHa9UX_"
      },
      "source": [
        "# Random/Shuffle"
      ]
    },
    {
      "cell_type": "code",
      "execution_count": 20,
      "metadata": {
        "id": "ZcfE9idy-ckb"
      },
      "outputs": [],
      "source": [
        "shuffler = np.random.permutation(len(X_sequence))\n",
        "X_sequence_shuffled = X_sequence[shuffler]\n",
        "y_shuffled = y[shuffler]"
      ]
    },
    {
      "cell_type": "markdown",
      "metadata": {
        "id": "TfhRTTNcE2s8"
      },
      "source": [
        "# LSTM"
      ]
    },
    {
      "cell_type": "code",
      "execution_count": 21,
      "metadata": {
        "id": "ihrXMuVAEwlY"
      },
      "outputs": [],
      "source": [
        "import pandas as pd\n",
        "import sklearn.metrics as metrique\n",
        "from pandas import Series\n",
        "from sklearn.preprocessing import StandardScaler, MinMaxScaler\n",
        "from matplotlib import pyplot\n",
        "from sklearn.model_selection import train_test_split\n",
        "import numpy as np\n",
        "import tensorflow as tf\n",
        "import sys\n",
        "import numpy as np\n",
        "import pandas as pd\n",
        "import tensorflow as tf\n",
        "import matplotlib.pyplot as plt\n",
        "from sklearn.model_selection import train_test_split\n",
        "from sklearn import preprocessing\n",
        "from sklearn.preprocessing import StandardScaler\n",
        "from sklearn.metrics import classification_report\n",
        "import warnings\n",
        "warnings.filterwarnings('ignore')\n",
        "plt.style.use('ggplot')\n",
        "import seaborn as sns \n",
        "%matplotlib inline\n",
        "from keras.callbacks import EarlyStopping\n",
        "from keras.callbacks import ModelCheckpoint\n",
        "from sklearn.metrics import accuracy_score\n",
        "from sklearn.metrics import classification_report, confusion_matrix\n",
        "from keras.models import Sequential\n",
        "from keras.utils import np_utils\n",
        "from keras.layers import LSTM, Dense, Embedding, Dropout,Input, Layer, Concatenate, Permute, Dot, Multiply, Flatten\n",
        "from keras.layers import RepeatVector, Dense, Activation, Lambda\n",
        "from keras.models import Sequential\n",
        "from keras import backend as K, regularizers, Model, metrics\n",
        "from keras.backend import cast"
      ]
    },
    {
      "cell_type": "code",
      "execution_count": 22,
      "metadata": {
        "id": "PjKWKiA6aH3z"
      },
      "outputs": [],
      "source": [
        "#from tensorflow.keras import optimizers\n",
        "#sgd = optimizers.SGD(lr=0.0001, decay=1e-6, momentum=0.9, nesterov=True)\n",
        "#model = keras.Sequential()\n",
        "#model.add(LSTM(100, input_shape = (200, 8)))\n",
        "#model.add(Dropout(0.5))\n",
        "#model.add(Dense(1, activation=\"softmax\"))\n",
        "\n",
        "\n",
        "#model.compile(loss=\"categorical_crossentropy\"\n",
        "#              , metrics=[keras.metrics.binary_accuracy]\n",
        "#              , optimizer='sgd')\n",
        "\n",
        "#model.summary()"
      ]
    },
    {
      "cell_type": "code",
      "execution_count": 23,
      "metadata": {
        "id": "_2SaVmwSWJVB",
        "colab": {
          "base_uri": "https://localhost:8080/"
        },
        "outputId": "96b062e9-6947-4970-a767-7ee262645d55"
      },
      "outputs": [
        {
          "output_type": "stream",
          "name": "stdout",
          "text": [
            "Model: \"sequential\"\n",
            "_________________________________________________________________\n",
            " Layer (type)                Output Shape              Param #   \n",
            "=================================================================\n",
            " lstm (LSTM)                 (None, 150)               94800     \n",
            "                                                                 \n",
            " dropout (Dropout)           (None, 150)               0         \n",
            "                                                                 \n",
            " dense (Dense)               (None, 8)                 1208      \n",
            "                                                                 \n",
            "=================================================================\n",
            "Total params: 96,008\n",
            "Trainable params: 96,008\n",
            "Non-trainable params: 0\n",
            "_________________________________________________________________\n"
          ]
        }
      ],
      "source": [
        "from tensorflow.keras import optimizers\n",
        "#sgd = optimizers.SGD(lr=0.0001, decay=1e-6, momentum=0.9, nesterov=True)\n",
        "optimizer = tf.keras.optimizers.Adam(lr=0.0001)\n",
        "model = keras.Sequential()\n",
        "model.add(LSTM(150, input_shape = (200, 7)))\n",
        "model.add(Dropout(0.5))#0.25\n",
        "model.add(Dense(8, activation=\"softmax\"))\n",
        "\n",
        "#model.compile(loss='mean_squared_error', optimizer=sgd)\n",
        "model.compile(loss=\"categorical_crossentropy\"\n",
        "              , metrics=['accuracy']\n",
        "              , optimizer=optimizer)\n",
        "\n",
        "model.summary()"
      ]
    },
    {
      "cell_type": "code",
      "execution_count": 24,
      "metadata": {
        "id": "tg8wrqsqc8UX"
      },
      "outputs": [],
      "source": [
        "training_size = int(len(X_sequence) * 0.8)\n",
        "val_size = int(len(X_sequence) * 0.9)"
      ]
    },
    {
      "cell_type": "code",
      "execution_count": 25,
      "metadata": {
        "id": "avIp3TEKc-qF"
      },
      "outputs": [],
      "source": [
        "X_train, y_train = X_sequence_shuffled[:training_size], y_shuffled[:training_size]\n",
        "X_val, y_val = X_sequence_shuffled[training_size:val_size], y_shuffled[training_size:val_size]\n",
        "X_test, y_test = X_sequence_shuffled[val_size:], y_shuffled[val_size:]"
      ]
    },
    {
      "cell_type": "code",
      "execution_count": 26,
      "metadata": {
        "id": "RABc_uKzkBUT"
      },
      "outputs": [],
      "source": [
        "#X_sequence = 0\n",
        "#y = 0"
      ]
    },
    {
      "cell_type": "code",
      "source": [
        "X_train.shape"
      ],
      "metadata": {
        "id": "Omv-ht1dhGxL",
        "colab": {
          "base_uri": "https://localhost:8080/"
        },
        "outputId": "a3cb8bd3-02f5-4032-9d3c-b9135ba0f010"
      },
      "execution_count": 27,
      "outputs": [
        {
          "output_type": "execute_result",
          "data": {
            "text/plain": [
              "(119999, 200, 7)"
            ]
          },
          "metadata": {},
          "execution_count": 27
        }
      ]
    },
    {
      "cell_type": "code",
      "execution_count": 28,
      "metadata": {
        "id": "8aIhPJ-wLCwZ",
        "colab": {
          "base_uri": "https://localhost:8080/"
        },
        "outputId": "1650dcff-d934-4d15-ad8a-74b126ba4ae6"
      },
      "outputs": [
        {
          "output_type": "execute_result",
          "data": {
            "text/plain": [
              "array([[0., 0., 0., 0., 1., 0., 0., 0.],\n",
              "       [1., 0., 0., 0., 0., 0., 0., 0.],\n",
              "       [0., 0., 0., 1., 0., 0., 0., 0.],\n",
              "       [0., 0., 0., 0., 1., 0., 0., 0.],\n",
              "       [0., 0., 0., 0., 0., 1., 0., 0.],\n",
              "       [1., 0., 0., 0., 0., 0., 0., 0.],\n",
              "       [0., 0., 0., 0., 0., 0., 0., 1.],\n",
              "       [0., 0., 0., 0., 0., 0., 1., 0.],\n",
              "       [0., 0., 0., 1., 0., 0., 0., 0.],\n",
              "       [0., 0., 0., 0., 0., 0., 1., 0.]])"
            ]
          },
          "metadata": {},
          "execution_count": 28
        }
      ],
      "source": [
        "y_train[:10]"
      ]
    },
    {
      "cell_type": "code",
      "execution_count": 29,
      "metadata": {
        "id": "cen4faX0dFJP",
        "colab": {
          "base_uri": "https://localhost:8080/"
        },
        "outputId": "8ce42c06-b49e-4216-b28e-f33e9ba51690"
      },
      "outputs": [
        {
          "output_type": "stream",
          "name": "stdout",
          "text": [
            "Epoch 1/100\n",
            "1875/1875 [==============================] - 86s 43ms/step - loss: 1.8559 - accuracy: 0.2180 - val_loss: 1.7325 - val_accuracy: 0.2679\n",
            "Epoch 2/100\n",
            "1875/1875 [==============================] - 80s 43ms/step - loss: 1.7296 - accuracy: 0.2707 - val_loss: 1.7147 - val_accuracy: 0.2820\n",
            "Epoch 3/100\n",
            "1875/1875 [==============================] - 80s 43ms/step - loss: 1.6587 - accuracy: 0.3107 - val_loss: 1.5698 - val_accuracy: 0.3345\n",
            "Epoch 4/100\n",
            "1875/1875 [==============================] - 79s 42ms/step - loss: 1.6773 - accuracy: 0.3170 - val_loss: 1.6162 - val_accuracy: 0.3465\n",
            "Epoch 5/100\n",
            "1875/1875 [==============================] - 79s 42ms/step - loss: 1.6374 - accuracy: 0.3296 - val_loss: 1.6556 - val_accuracy: 0.3361\n",
            "Epoch 6/100\n",
            "1875/1875 [==============================] - 80s 43ms/step - loss: 1.6289 - accuracy: 0.3329 - val_loss: 1.5399 - val_accuracy: 0.3607\n",
            "Epoch 7/100\n",
            "1875/1875 [==============================] - 79s 42ms/step - loss: 1.5726 - accuracy: 0.3481 - val_loss: 1.5482 - val_accuracy: 0.3615\n",
            "Epoch 8/100\n",
            "1875/1875 [==============================] - 80s 43ms/step - loss: 1.5848 - accuracy: 0.3454 - val_loss: 1.5429 - val_accuracy: 0.3679\n",
            "Epoch 9/100\n",
            "1875/1875 [==============================] - 82s 44ms/step - loss: 1.5880 - accuracy: 0.3448 - val_loss: 1.5729 - val_accuracy: 0.3549\n",
            "Epoch 10/100\n",
            "1875/1875 [==============================] - 80s 42ms/step - loss: 1.5567 - accuracy: 0.3603 - val_loss: 1.4629 - val_accuracy: 0.3989\n",
            "Epoch 11/100\n",
            "1875/1875 [==============================] - 79s 42ms/step - loss: 1.5393 - accuracy: 0.3670 - val_loss: 1.4773 - val_accuracy: 0.3960\n",
            "Epoch 12/100\n",
            "1875/1875 [==============================] - 82s 44ms/step - loss: 1.5907 - accuracy: 0.3562 - val_loss: 1.5140 - val_accuracy: 0.3658\n",
            "Epoch 13/100\n",
            "1875/1875 [==============================] - 80s 42ms/step - loss: 1.5183 - accuracy: 0.3760 - val_loss: 1.5334 - val_accuracy: 0.3763\n",
            "Epoch 14/100\n",
            "1875/1875 [==============================] - 82s 44ms/step - loss: 1.5544 - accuracy: 0.3607 - val_loss: 1.4162 - val_accuracy: 0.4107\n",
            "Epoch 15/100\n",
            "1875/1875 [==============================] - 79s 42ms/step - loss: 1.4562 - accuracy: 0.4005 - val_loss: 1.4510 - val_accuracy: 0.4043\n",
            "Epoch 16/100\n",
            "1875/1875 [==============================] - 79s 42ms/step - loss: 1.4614 - accuracy: 0.4100 - val_loss: 1.4414 - val_accuracy: 0.4120\n",
            "Epoch 17/100\n",
            "1875/1875 [==============================] - 80s 43ms/step - loss: 1.4327 - accuracy: 0.4180 - val_loss: 1.3971 - val_accuracy: 0.4299\n",
            "Epoch 18/100\n",
            "1875/1875 [==============================] - 80s 42ms/step - loss: 1.4241 - accuracy: 0.4248 - val_loss: 2.0876 - val_accuracy: 0.2186\n",
            "Epoch 19/100\n",
            "1875/1875 [==============================] - 80s 42ms/step - loss: 1.5761 - accuracy: 0.3658 - val_loss: 1.4991 - val_accuracy: 0.3931\n",
            "Epoch 20/100\n",
            "1875/1875 [==============================] - 82s 44ms/step - loss: 1.4813 - accuracy: 0.3960 - val_loss: 1.4667 - val_accuracy: 0.3975\n",
            "Epoch 21/100\n",
            "1875/1875 [==============================] - 79s 42ms/step - loss: 1.4425 - accuracy: 0.4103 - val_loss: 1.3425 - val_accuracy: 0.4438\n",
            "Epoch 22/100\n",
            "1875/1875 [==============================] - 82s 43ms/step - loss: 1.3879 - accuracy: 0.4299 - val_loss: 1.3124 - val_accuracy: 0.4549\n",
            "Epoch 23/100\n",
            "1875/1875 [==============================] - 80s 42ms/step - loss: 1.3468 - accuracy: 0.4473 - val_loss: 1.3962 - val_accuracy: 0.4495\n",
            "Epoch 24/100\n",
            "1875/1875 [==============================] - 80s 43ms/step - loss: 1.3273 - accuracy: 0.4555 - val_loss: 1.2923 - val_accuracy: 0.4458\n",
            "Epoch 25/100\n",
            "1875/1875 [==============================] - 80s 43ms/step - loss: 1.2646 - accuracy: 0.4788 - val_loss: 1.2662 - val_accuracy: 0.4739\n",
            "Epoch 26/100\n",
            "1875/1875 [==============================] - 80s 43ms/step - loss: 1.2249 - accuracy: 0.4929 - val_loss: 1.2257 - val_accuracy: 0.4879\n",
            "Epoch 27/100\n",
            "1875/1875 [==============================] - 82s 44ms/step - loss: 1.2081 - accuracy: 0.5018 - val_loss: 1.1560 - val_accuracy: 0.5238\n",
            "Epoch 28/100\n",
            "1875/1875 [==============================] - 82s 44ms/step - loss: 1.1784 - accuracy: 0.5133 - val_loss: 1.1659 - val_accuracy: 0.5256\n",
            "Epoch 29/100\n",
            "1875/1875 [==============================] - 80s 43ms/step - loss: 1.1596 - accuracy: 0.5234 - val_loss: 1.1402 - val_accuracy: 0.5212\n",
            "Epoch 30/100\n",
            "1875/1875 [==============================] - 80s 43ms/step - loss: 1.1504 - accuracy: 0.5263 - val_loss: 1.1289 - val_accuracy: 0.5265\n",
            "Epoch 31/100\n",
            "1875/1875 [==============================] - 80s 43ms/step - loss: 1.1260 - accuracy: 0.5351 - val_loss: 1.0851 - val_accuracy: 0.5487\n",
            "Epoch 32/100\n",
            "1875/1875 [==============================] - 80s 43ms/step - loss: 1.1091 - accuracy: 0.5418 - val_loss: 1.0577 - val_accuracy: 0.5600\n",
            "Epoch 33/100\n",
            "1875/1875 [==============================] - 80s 43ms/step - loss: 1.0875 - accuracy: 0.5505 - val_loss: 1.0506 - val_accuracy: 0.5618\n",
            "Epoch 34/100\n",
            "1875/1875 [==============================] - 80s 42ms/step - loss: 1.0725 - accuracy: 0.5545 - val_loss: 1.0334 - val_accuracy: 0.5633\n",
            "Epoch 35/100\n",
            "1875/1875 [==============================] - 80s 43ms/step - loss: 1.0570 - accuracy: 0.5583 - val_loss: 1.0314 - val_accuracy: 0.5699\n",
            "Epoch 36/100\n",
            "1875/1875 [==============================] - 82s 44ms/step - loss: 1.0441 - accuracy: 0.5662 - val_loss: 1.0178 - val_accuracy: 0.5759\n",
            "Epoch 37/100\n",
            "1875/1875 [==============================] - 80s 43ms/step - loss: 1.0320 - accuracy: 0.5703 - val_loss: 0.9914 - val_accuracy: 0.5857\n",
            "Epoch 38/100\n",
            "1875/1875 [==============================] - 80s 43ms/step - loss: 1.0153 - accuracy: 0.5774 - val_loss: 0.9933 - val_accuracy: 0.5806\n",
            "Epoch 39/100\n",
            "1875/1875 [==============================] - 80s 43ms/step - loss: 0.9984 - accuracy: 0.5818 - val_loss: 0.9672 - val_accuracy: 0.5940\n",
            "Epoch 40/100\n",
            "1875/1875 [==============================] - 83s 44ms/step - loss: 0.9914 - accuracy: 0.5885 - val_loss: 0.9752 - val_accuracy: 0.5956\n",
            "Epoch 41/100\n",
            "1875/1875 [==============================] - 82s 44ms/step - loss: 0.9766 - accuracy: 0.5930 - val_loss: 0.9774 - val_accuracy: 0.5927\n",
            "Epoch 42/100\n",
            "1875/1875 [==============================] - 80s 43ms/step - loss: 0.9694 - accuracy: 0.5964 - val_loss: 0.9290 - val_accuracy: 0.6121\n",
            "Epoch 43/100\n",
            "1875/1875 [==============================] - 82s 44ms/step - loss: 0.9543 - accuracy: 0.6048 - val_loss: 0.9414 - val_accuracy: 0.6009\n",
            "Epoch 44/100\n",
            "1875/1875 [==============================] - 79s 42ms/step - loss: 0.9469 - accuracy: 0.6044 - val_loss: 0.9163 - val_accuracy: 0.6140\n",
            "Epoch 45/100\n",
            "1875/1875 [==============================] - 78s 42ms/step - loss: 0.9352 - accuracy: 0.6114 - val_loss: 0.9429 - val_accuracy: 0.6057\n",
            "Epoch 46/100\n",
            "1875/1875 [==============================] - 81s 43ms/step - loss: 0.9246 - accuracy: 0.6157 - val_loss: 0.8898 - val_accuracy: 0.6244\n",
            "Epoch 47/100\n",
            "1875/1875 [==============================] - 79s 42ms/step - loss: 0.9253 - accuracy: 0.6158 - val_loss: 0.8984 - val_accuracy: 0.6257\n",
            "Epoch 48/100\n",
            "1875/1875 [==============================] - 81s 43ms/step - loss: 0.9064 - accuracy: 0.6257 - val_loss: 0.8683 - val_accuracy: 0.6365\n",
            "Epoch 49/100\n",
            "1875/1875 [==============================] - 79s 42ms/step - loss: 0.8996 - accuracy: 0.6276 - val_loss: 0.8788 - val_accuracy: 0.6319\n",
            "Epoch 50/100\n",
            "1875/1875 [==============================] - 79s 42ms/step - loss: 0.8893 - accuracy: 0.6319 - val_loss: 0.8901 - val_accuracy: 0.6323\n",
            "Epoch 51/100\n",
            "1875/1875 [==============================] - 80s 43ms/step - loss: 0.8852 - accuracy: 0.6331 - val_loss: 0.8539 - val_accuracy: 0.6465\n",
            "Epoch 52/100\n",
            "1875/1875 [==============================] - 82s 44ms/step - loss: 0.8786 - accuracy: 0.6370 - val_loss: 0.8483 - val_accuracy: 0.6467\n",
            "Epoch 53/100\n",
            "1875/1875 [==============================] - 82s 44ms/step - loss: 0.8655 - accuracy: 0.6429 - val_loss: 0.8500 - val_accuracy: 0.6440\n",
            "Epoch 54/100\n",
            "1875/1875 [==============================] - 83s 44ms/step - loss: 0.8623 - accuracy: 0.6426 - val_loss: 0.8362 - val_accuracy: 0.6505\n",
            "Epoch 55/100\n",
            "1875/1875 [==============================] - 81s 43ms/step - loss: 0.8536 - accuracy: 0.6463 - val_loss: 0.8160 - val_accuracy: 0.6576\n",
            "Epoch 56/100\n",
            "1875/1875 [==============================] - 82s 44ms/step - loss: 0.8465 - accuracy: 0.6510 - val_loss: 0.8637 - val_accuracy: 0.6435\n",
            "Epoch 57/100\n",
            "1875/1875 [==============================] - 84s 45ms/step - loss: 0.8388 - accuracy: 0.6533 - val_loss: 0.8191 - val_accuracy: 0.6559\n",
            "Epoch 58/100\n",
            "1875/1875 [==============================] - 82s 44ms/step - loss: 0.8351 - accuracy: 0.6557 - val_loss: 0.8341 - val_accuracy: 0.6564\n",
            "Epoch 59/100\n",
            "1875/1875 [==============================] - 82s 44ms/step - loss: 0.8286 - accuracy: 0.6573 - val_loss: 0.8121 - val_accuracy: 0.6617\n",
            "Epoch 60/100\n",
            "1875/1875 [==============================] - 82s 44ms/step - loss: 0.8193 - accuracy: 0.6614 - val_loss: 0.8373 - val_accuracy: 0.6517\n",
            "Epoch 61/100\n",
            "1875/1875 [==============================] - 84s 45ms/step - loss: 0.8108 - accuracy: 0.6657 - val_loss: 0.7927 - val_accuracy: 0.6673\n",
            "Epoch 62/100\n",
            "1875/1875 [==============================] - 82s 44ms/step - loss: 0.8074 - accuracy: 0.6661 - val_loss: 0.7805 - val_accuracy: 0.6700\n",
            "Epoch 63/100\n",
            "1875/1875 [==============================] - 82s 44ms/step - loss: 0.8018 - accuracy: 0.6684 - val_loss: 0.7692 - val_accuracy: 0.6771\n",
            "Epoch 64/100\n",
            "1875/1875 [==============================] - 81s 43ms/step - loss: 0.7923 - accuracy: 0.6737 - val_loss: 0.7593 - val_accuracy: 0.6831\n",
            "Epoch 65/100\n",
            "1875/1875 [==============================] - 81s 43ms/step - loss: 0.7911 - accuracy: 0.6753 - val_loss: 0.9367 - val_accuracy: 0.6266\n",
            "Epoch 66/100\n",
            "1875/1875 [==============================] - 81s 43ms/step - loss: 0.7920 - accuracy: 0.6738 - val_loss: 0.7513 - val_accuracy: 0.6804\n",
            "Epoch 67/100\n",
            "1875/1875 [==============================] - 81s 43ms/step - loss: 0.8062 - accuracy: 0.6662 - val_loss: 0.8276 - val_accuracy: 0.6549\n",
            "Epoch 68/100\n",
            "1875/1875 [==============================] - 84s 45ms/step - loss: 0.7791 - accuracy: 0.6775 - val_loss: 0.7621 - val_accuracy: 0.6789\n",
            "Epoch 69/100\n",
            "1875/1875 [==============================] - 82s 44ms/step - loss: 0.7614 - accuracy: 0.6852 - val_loss: 0.7422 - val_accuracy: 0.6890\n",
            "Epoch 70/100\n",
            "1875/1875 [==============================] - 84s 45ms/step - loss: 0.8057 - accuracy: 0.6713 - val_loss: 0.7765 - val_accuracy: 0.6744\n",
            "Epoch 71/100\n",
            "1875/1875 [==============================] - 82s 44ms/step - loss: 0.7545 - accuracy: 0.6888 - val_loss: 0.7328 - val_accuracy: 0.6978\n",
            "Epoch 72/100\n",
            "1875/1875 [==============================] - 84s 45ms/step - loss: 0.7492 - accuracy: 0.6916 - val_loss: 0.7270 - val_accuracy: 0.6986\n",
            "Epoch 73/100\n",
            "1875/1875 [==============================] - 82s 44ms/step - loss: 0.7384 - accuracy: 0.6962 - val_loss: 0.7450 - val_accuracy: 0.6919\n",
            "Epoch 74/100\n",
            "1875/1875 [==============================] - 82s 44ms/step - loss: 0.7341 - accuracy: 0.6978 - val_loss: 0.7162 - val_accuracy: 0.7010\n",
            "Epoch 75/100\n",
            "1875/1875 [==============================] - 82s 44ms/step - loss: 0.7328 - accuracy: 0.6985 - val_loss: 0.7160 - val_accuracy: 0.6995\n",
            "Epoch 76/100\n",
            "1875/1875 [==============================] - 80s 43ms/step - loss: 0.7250 - accuracy: 0.7042 - val_loss: 0.7182 - val_accuracy: 0.7043\n",
            "Epoch 77/100\n",
            "1875/1875 [==============================] - 80s 43ms/step - loss: 0.7177 - accuracy: 0.7062 - val_loss: 0.7040 - val_accuracy: 0.7108\n",
            "Epoch 78/100\n",
            "1875/1875 [==============================] - 80s 43ms/step - loss: 0.7123 - accuracy: 0.7079 - val_loss: 0.6861 - val_accuracy: 0.7171\n",
            "Epoch 79/100\n",
            "1875/1875 [==============================] - 80s 43ms/step - loss: 0.7482 - accuracy: 0.6957 - val_loss: 0.7201 - val_accuracy: 0.7065\n",
            "Epoch 80/100\n",
            "1875/1875 [==============================] - 82s 44ms/step - loss: 0.7032 - accuracy: 0.7122 - val_loss: 0.6988 - val_accuracy: 0.7121\n",
            "Epoch 81/100\n",
            "1875/1875 [==============================] - 82s 44ms/step - loss: 0.6990 - accuracy: 0.7154 - val_loss: 0.6917 - val_accuracy: 0.7123\n",
            "Epoch 82/100\n",
            "1875/1875 [==============================] - 83s 44ms/step - loss: 0.6919 - accuracy: 0.7177 - val_loss: 0.6936 - val_accuracy: 0.7163\n",
            "Epoch 83/100\n",
            "1875/1875 [==============================] - 82s 44ms/step - loss: 0.6865 - accuracy: 0.7192 - val_loss: 0.6940 - val_accuracy: 0.7159\n",
            "Epoch 84/100\n",
            "1875/1875 [==============================] - 82s 44ms/step - loss: 0.6808 - accuracy: 0.7224 - val_loss: 0.7082 - val_accuracy: 0.7124\n",
            "Epoch 85/100\n",
            "1875/1875 [==============================] - 84s 45ms/step - loss: 0.6813 - accuracy: 0.7229 - val_loss: 0.6770 - val_accuracy: 0.7214\n",
            "Epoch 86/100\n",
            "1875/1875 [==============================] - 84s 45ms/step - loss: 0.6814 - accuracy: 0.7225 - val_loss: 0.6494 - val_accuracy: 0.7279\n",
            "Epoch 87/100\n",
            "1875/1875 [==============================] - 83s 44ms/step - loss: 0.6621 - accuracy: 0.7316 - val_loss: 0.6638 - val_accuracy: 0.7239\n",
            "Epoch 88/100\n",
            "1875/1875 [==============================] - 82s 44ms/step - loss: 0.6592 - accuracy: 0.7342 - val_loss: 0.6583 - val_accuracy: 0.7295\n",
            "Epoch 89/100\n",
            "1875/1875 [==============================] - 83s 44ms/step - loss: 0.6546 - accuracy: 0.7346 - val_loss: 0.6551 - val_accuracy: 0.7288\n",
            "Epoch 90/100\n",
            "1875/1875 [==============================] - 85s 45ms/step - loss: 0.6516 - accuracy: 0.7366 - val_loss: 0.7070 - val_accuracy: 0.7161\n",
            "Epoch 91/100\n",
            "1875/1875 [==============================] - 83s 44ms/step - loss: 0.6457 - accuracy: 0.7382 - val_loss: 0.6282 - val_accuracy: 0.7469\n",
            "Epoch 92/100\n",
            "1875/1875 [==============================] - 81s 43ms/step - loss: 0.6383 - accuracy: 0.7420 - val_loss: 0.6329 - val_accuracy: 0.7386\n",
            "Epoch 93/100\n",
            "1875/1875 [==============================] - 82s 44ms/step - loss: 0.6347 - accuracy: 0.7436 - val_loss: 0.6542 - val_accuracy: 0.7309\n",
            "Epoch 94/100\n",
            "1875/1875 [==============================] - 82s 44ms/step - loss: 0.6254 - accuracy: 0.7469 - val_loss: 0.6202 - val_accuracy: 0.7482\n",
            "Epoch 95/100\n",
            "1875/1875 [==============================] - 82s 44ms/step - loss: 0.6413 - accuracy: 0.7411 - val_loss: 0.6214 - val_accuracy: 0.7481\n",
            "Epoch 96/100\n",
            "1875/1875 [==============================] - 84s 45ms/step - loss: 0.6188 - accuracy: 0.7505 - val_loss: 0.6063 - val_accuracy: 0.7533\n",
            "Epoch 97/100\n",
            "1875/1875 [==============================] - 82s 44ms/step - loss: 0.7232 - accuracy: 0.7199 - val_loss: 0.6614 - val_accuracy: 0.7342\n",
            "Epoch 98/100\n",
            "1875/1875 [==============================] - 82s 44ms/step - loss: 0.6311 - accuracy: 0.7476 - val_loss: 0.6494 - val_accuracy: 0.7399\n",
            "Epoch 99/100\n",
            "1875/1875 [==============================] - 82s 44ms/step - loss: 0.6056 - accuracy: 0.7572 - val_loss: 0.5958 - val_accuracy: 0.7583\n",
            "Epoch 100/100\n",
            "1875/1875 [==============================] - 82s 44ms/step - loss: 0.6038 - accuracy: 0.7582 - val_loss: 0.6276 - val_accuracy: 0.7465\n"
          ]
        }
      ],
      "source": [
        "history = model.fit(X_train, y_train, batch_size=64, epochs=100, validation_data=(X_val, y_val))\n",
        "#model.save('NewAllDataModel_E50_B64.h5')"
      ]
    },
    {
      "cell_type": "code",
      "execution_count": 30,
      "metadata": {
        "id": "R7QQeqVidKBR",
        "colab": {
          "base_uri": "https://localhost:8080/"
        },
        "outputId": "4ac19bfc-c8e8-4ad7-da96-699d2a62229c"
      },
      "outputs": [
        {
          "output_type": "stream",
          "name": "stdout",
          "text": [
            "469/469 [==============================] - 9s 19ms/step - loss: 0.6463 - accuracy: 0.7409\n"
          ]
        }
      ],
      "source": [
        "test_acc = model.evaluate(X_test, y_test)"
      ]
    },
    {
      "cell_type": "code",
      "source": [
        "test_acc"
      ],
      "metadata": {
        "id": "6fuTmgGrUgGg",
        "colab": {
          "base_uri": "https://localhost:8080/"
        },
        "outputId": "34c08ee6-73f4-4021-8ded-4ede3cf3668b"
      },
      "execution_count": 31,
      "outputs": [
        {
          "output_type": "execute_result",
          "data": {
            "text/plain": [
              "[0.6462817788124084, 0.740933358669281]"
            ]
          },
          "metadata": {},
          "execution_count": 31
        }
      ]
    },
    {
      "cell_type": "code",
      "execution_count": 32,
      "metadata": {
        "id": "OHpifyqGdKn-",
        "colab": {
          "base_uri": "https://localhost:8080/"
        },
        "outputId": "be0d846d-02c5-45ff-8da1-9dfd83e430b8"
      },
      "outputs": [
        {
          "output_type": "stream",
          "name": "stdout",
          "text": [
            "469/469 [==============================] - 7s 14ms/step\n"
          ]
        }
      ],
      "source": [
        "y_test_prob = model.predict(X_test, verbose=1)"
      ]
    },
    {
      "cell_type": "code",
      "source": [
        "np.set_printoptions(suppress=True)\n",
        "y_test_prob_backup = y_test_prob\n",
        "y_test_prob"
      ],
      "metadata": {
        "id": "rRPswrrkmhp2",
        "colab": {
          "base_uri": "https://localhost:8080/"
        },
        "outputId": "eb16d800-aa4c-4288-fdba-ffa751a00881"
      },
      "execution_count": 33,
      "outputs": [
        {
          "output_type": "execute_result",
          "data": {
            "text/plain": [
              "array([[0.00001625, 0.00010086, 0.02506992, ..., 0.13785817, 0.00740071,\n",
              "        0.0008477 ],\n",
              "       [0.00039924, 0.00160612, 0.12217983, ..., 0.01456234, 0.28176057,\n",
              "        0.5394204 ],\n",
              "       [0.00007849, 0.00003543, 0.00889695, ..., 0.03112554, 0.36010006,\n",
              "        0.5799172 ],\n",
              "       ...,\n",
              "       [0.00008858, 0.00105436, 0.13557704, ..., 0.23771833, 0.12116484,\n",
              "        0.02351952],\n",
              "       [0.00001083, 0.00107111, 0.20149617, ..., 0.29090098, 0.01543589,\n",
              "        0.01015865],\n",
              "       [0.00002823, 0.00000348, 0.00025059, ..., 0.00141062, 0.31422886,\n",
              "        0.6786955 ]], dtype=float32)"
            ]
          },
          "metadata": {},
          "execution_count": 33
        }
      ]
    },
    {
      "cell_type": "code",
      "execution_count": 34,
      "metadata": {
        "id": "AfmdrBILdMwj"
      },
      "outputs": [],
      "source": [
        "y_test_pred = np.where(y_test_prob > 0.5, 1, 0)"
      ]
    },
    {
      "cell_type": "code",
      "execution_count": 35,
      "metadata": {
        "id": "8DoJy_p9dPzN"
      },
      "outputs": [],
      "source": [
        "from sklearn.metrics import multilabel_confusion_matrix"
      ]
    },
    {
      "cell_type": "code",
      "source": [
        "y_test"
      ],
      "metadata": {
        "id": "n1Us2yrfcGl-",
        "colab": {
          "base_uri": "https://localhost:8080/"
        },
        "outputId": "62c4e893-8d62-472d-e97f-93704424a7d4"
      },
      "execution_count": 36,
      "outputs": [
        {
          "output_type": "execute_result",
          "data": {
            "text/plain": [
              "array([[0., 0., 0., ..., 0., 0., 0.],\n",
              "       [0., 0., 1., ..., 0., 0., 0.],\n",
              "       [0., 0., 0., ..., 0., 1., 0.],\n",
              "       ...,\n",
              "       [0., 0., 0., ..., 0., 0., 0.],\n",
              "       [0., 0., 0., ..., 1., 0., 0.],\n",
              "       [0., 0., 0., ..., 0., 1., 0.]])"
            ]
          },
          "metadata": {},
          "execution_count": 36
        }
      ]
    },
    {
      "cell_type": "code",
      "source": [
        "y_test.shape"
      ],
      "metadata": {
        "id": "VnmvTcvWbxr9",
        "colab": {
          "base_uri": "https://localhost:8080/"
        },
        "outputId": "501249c5-b48d-4306-a6f0-f894a2a323c1"
      },
      "execution_count": 37,
      "outputs": [
        {
          "output_type": "execute_result",
          "data": {
            "text/plain": [
              "(15000, 8)"
            ]
          },
          "metadata": {},
          "execution_count": 37
        }
      ]
    },
    {
      "cell_type": "code",
      "source": [
        "y_test_pred"
      ],
      "metadata": {
        "id": "nMBOgzrgcJBj",
        "colab": {
          "base_uri": "https://localhost:8080/"
        },
        "outputId": "685fcdeb-0e05-4097-b135-52c96be5c8b0"
      },
      "execution_count": 38,
      "outputs": [
        {
          "output_type": "execute_result",
          "data": {
            "text/plain": [
              "array([[0, 0, 0, ..., 0, 0, 0],\n",
              "       [0, 0, 0, ..., 0, 0, 1],\n",
              "       [0, 0, 0, ..., 0, 0, 1],\n",
              "       ...,\n",
              "       [0, 0, 0, ..., 0, 0, 0],\n",
              "       [0, 0, 0, ..., 0, 0, 0],\n",
              "       [0, 0, 0, ..., 0, 0, 1]])"
            ]
          },
          "metadata": {},
          "execution_count": 38
        }
      ]
    },
    {
      "cell_type": "code",
      "source": [
        "y_test_pred.shape"
      ],
      "metadata": {
        "id": "SXKZof8Ye5uI",
        "colab": {
          "base_uri": "https://localhost:8080/"
        },
        "outputId": "26f023db-f8f6-4ed8-a2f8-d9d9f2db7dfa"
      },
      "execution_count": 39,
      "outputs": [
        {
          "output_type": "execute_result",
          "data": {
            "text/plain": [
              "(15000, 8)"
            ]
          },
          "metadata": {},
          "execution_count": 39
        }
      ]
    },
    {
      "cell_type": "code",
      "source": [
        "y_decoded_pred = tf.argmax(y_test_pred, axis = 1)"
      ],
      "metadata": {
        "id": "leDQwKOjgwwi"
      },
      "execution_count": 40,
      "outputs": []
    },
    {
      "cell_type": "code",
      "source": [
        "y_decoded = tf.argmax(y_test, axis = 1)"
      ],
      "metadata": {
        "id": "sAHRmtesif6g"
      },
      "execution_count": 41,
      "outputs": []
    },
    {
      "cell_type": "code",
      "source": [
        "y_decoded_pred"
      ],
      "metadata": {
        "id": "_lvFhrmPhprD",
        "colab": {
          "base_uri": "https://localhost:8080/"
        },
        "outputId": "bafed0ec-0b7e-4fa3-c247-112bed250ff5"
      },
      "execution_count": 42,
      "outputs": [
        {
          "output_type": "execute_result",
          "data": {
            "text/plain": [
              "<tf.Tensor: shape=(15000,), dtype=int64, numpy=array([3, 7, 7, ..., 0, 0, 7])>"
            ]
          },
          "metadata": {},
          "execution_count": 42
        }
      ]
    },
    {
      "cell_type": "code",
      "source": [
        "y_decoded"
      ],
      "metadata": {
        "id": "YV1FXgHviPwm",
        "colab": {
          "base_uri": "https://localhost:8080/"
        },
        "outputId": "3f6476a9-1dca-413a-a53f-498c4c769be7"
      },
      "execution_count": 43,
      "outputs": [
        {
          "output_type": "execute_result",
          "data": {
            "text/plain": [
              "<tf.Tensor: shape=(15000,), dtype=int64, numpy=array([3, 2, 6, ..., 3, 5, 6])>"
            ]
          },
          "metadata": {},
          "execution_count": 43
        }
      ]
    },
    {
      "cell_type": "code",
      "source": [
        "y_test_pred = y_decoded_pred\n"
      ],
      "metadata": {
        "id": "6-6jFqzGh380"
      },
      "execution_count": 44,
      "outputs": []
    },
    {
      "cell_type": "code",
      "source": [
        "y_test = y_decoded"
      ],
      "metadata": {
        "id": "9pogVvdIiwss"
      },
      "execution_count": 45,
      "outputs": []
    },
    {
      "cell_type": "code",
      "source": [
        "y_test"
      ],
      "metadata": {
        "id": "oGt5aJetiKR6",
        "colab": {
          "base_uri": "https://localhost:8080/"
        },
        "outputId": "fe4d56c4-4e05-4577-b5da-67cf4897a9dc"
      },
      "execution_count": 46,
      "outputs": [
        {
          "output_type": "execute_result",
          "data": {
            "text/plain": [
              "<tf.Tensor: shape=(15000,), dtype=int64, numpy=array([3, 2, 6, ..., 3, 5, 6])>"
            ]
          },
          "metadata": {},
          "execution_count": 46
        }
      ]
    },
    {
      "cell_type": "code",
      "source": [
        "y_test_pred"
      ],
      "metadata": {
        "id": "fLgDwAIfiyv2",
        "colab": {
          "base_uri": "https://localhost:8080/"
        },
        "outputId": "4309215e-a3e2-4285-c64d-2f2bbe0fc9c5"
      },
      "execution_count": 47,
      "outputs": [
        {
          "output_type": "execute_result",
          "data": {
            "text/plain": [
              "<tf.Tensor: shape=(15000,), dtype=int64, numpy=array([3, 7, 7, ..., 0, 0, 7])>"
            ]
          },
          "metadata": {},
          "execution_count": 47
        }
      ]
    },
    {
      "cell_type": "code",
      "execution_count": 48,
      "metadata": {
        "id": "fTCsPjW8dQaZ"
      },
      "outputs": [],
      "source": [
        "cfm=confusion_matrix(y_test, y_test_pred)"
      ]
    },
    {
      "cell_type": "code",
      "source": [
        "cfm"
      ],
      "metadata": {
        "id": "_67lPg6ic4cH",
        "colab": {
          "base_uri": "https://localhost:8080/"
        },
        "outputId": "88ed1984-5457-4b95-ccc6-378ac0a727ea"
      },
      "execution_count": 49,
      "outputs": [
        {
          "output_type": "execute_result",
          "data": {
            "text/plain": [
              "array([[1809,   26,    0,    0,    0,    0,    0,    1],\n",
              "       [  58, 1807,   23,    0,    0,    0,    0,   14],\n",
              "       [ 432,    9, 1199,  136,   17,   18,   21,   40],\n",
              "       [ 336,    3,   67, 1327,   92,   31,    2,    0],\n",
              "       [ 563,    0,   15,  219,  868,  149,   42,    7],\n",
              "       [ 711,    0,    3,  215,  159,  714,   27,    3],\n",
              "       [ 619,    0,    8,   27,   49,   88,  954,  158],\n",
              "       [ 453,    0,    5,    2,    3,   29,  221, 1221]])"
            ]
          },
          "metadata": {},
          "execution_count": 49
        }
      ]
    },
    {
      "cell_type": "code",
      "source": [
        " print(classification_report(y_test,y_test_pred))"
      ],
      "metadata": {
        "id": "XTqR_xnwRWCJ",
        "colab": {
          "base_uri": "https://localhost:8080/"
        },
        "outputId": "c5e7c09d-f460-4edf-8ea0-9f0684803cbb"
      },
      "execution_count": 50,
      "outputs": [
        {
          "output_type": "stream",
          "name": "stdout",
          "text": [
            "              precision    recall  f1-score   support\n",
            "\n",
            "           0       0.36      0.99      0.53      1836\n",
            "           1       0.98      0.95      0.96      1902\n",
            "           2       0.91      0.64      0.75      1872\n",
            "           3       0.69      0.71      0.70      1858\n",
            "           4       0.73      0.47      0.57      1863\n",
            "           5       0.69      0.39      0.50      1832\n",
            "           6       0.75      0.50      0.60      1903\n",
            "           7       0.85      0.63      0.72      1934\n",
            "\n",
            "    accuracy                           0.66     15000\n",
            "   macro avg       0.75      0.66      0.67     15000\n",
            "weighted avg       0.75      0.66      0.67     15000\n",
            "\n"
          ]
        }
      ]
    },
    {
      "cell_type": "code",
      "execution_count": 51,
      "metadata": {
        "id": "te3fslrY9Eca",
        "colab": {
          "base_uri": "https://localhost:8080/",
          "height": 903
        },
        "outputId": "2086ea26-cdcc-4686-b03c-a43113bce1c9"
      },
      "outputs": [
        {
          "output_type": "stream",
          "name": "stdout",
          "text": [
            "Confusion matrix, without normalization\n",
            "[[1809   26    0    0    0    0    0    1]\n",
            " [  58 1807   23    0    0    0    0   14]\n",
            " [ 432    9 1199  136   17   18   21   40]\n",
            " [ 336    3   67 1327   92   31    2    0]\n",
            " [ 563    0   15  219  868  149   42    7]\n",
            " [ 711    0    3  215  159  714   27    3]\n",
            " [ 619    0    8   27   49   88  954  158]\n",
            " [ 453    0    5    2    3   29  221 1221]]\n",
            "Normalized confusion matrix\n",
            "[[0.99 0.01 0.   0.   0.   0.   0.   0.  ]\n",
            " [0.03 0.95 0.01 0.   0.   0.   0.   0.01]\n",
            " [0.23 0.   0.64 0.07 0.01 0.01 0.01 0.02]\n",
            " [0.18 0.   0.04 0.71 0.05 0.02 0.   0.  ]\n",
            " [0.3  0.   0.01 0.12 0.47 0.08 0.02 0.  ]\n",
            " [0.39 0.   0.   0.12 0.09 0.39 0.01 0.  ]\n",
            " [0.33 0.   0.   0.01 0.03 0.05 0.5  0.08]\n",
            " [0.23 0.   0.   0.   0.   0.01 0.11 0.63]]\n"
          ]
        },
        {
          "output_type": "display_data",
          "data": {
            "text/plain": [
              "<Figure size 432x288 with 2 Axes>"
            ],
            "image/png": "[encoded data removed]"
          },
          "metadata": {
            "needs_background": "light"
          }
        },
        {
          "output_type": "display_data",
          "data": {
            "text/plain": [
              "<Figure size 432x288 with 2 Axes>"
            ],
            "image/png": "[encoded data removed]"
          },
          "metadata": {
            "needs_background": "light"
          }
        }
      ],
      "source": [
        "import numpy as np\n",
        "import matplotlib.pyplot as plt\n",
        "\n",
        "from sklearn import svm, datasets\n",
        "from sklearn.model_selection import train_test_split\n",
        "from sklearn.metrics import confusion_matrix\n",
        "from sklearn.utils.multiclass import unique_labels\n",
        "\n",
        "class_names = np.array(['0', '1', '2', '3', '4', '5', '6', '7'])\n",
        "\n",
        "def plot_confusion_matrix(y_true, y_pred, classes,\n",
        "                          normalize=False,\n",
        "                          title=None,\n",
        "                          cmap=plt.cm.Blues):\n",
        "    \"\"\"\n",
        "    This function prints and plots the confusion matrix.\n",
        "    Normalization can be applied by setting `normalize=True`.\n",
        "    \"\"\"\n",
        "    if not title:\n",
        "        if normalize:\n",
        "            title = 'Normalized confusion matrix'\n",
        "        else:\n",
        "            title = 'Confusion matrix, without normalization'\n",
        "\n",
        "    # Compute confusion matrix\n",
        "    cm = confusion_matrix(y_true, y_pred)\n",
        "    # Only use the labels that appear in the data\n",
        "    classes = classes[unique_labels(y_true, y_pred)]\n",
        "    if normalize:\n",
        "        cm = cm.astype('float') / cm.sum(axis=1)[:, np.newaxis]\n",
        "        print(\"Normalized confusion matrix\")\n",
        "    else:\n",
        "        print('Confusion matrix, without normalization')\n",
        "\n",
        "    print(cm)\n",
        "\n",
        "    fig, ax = plt.subplots()\n",
        "    im = ax.imshow(cm, interpolation='nearest', cmap=cmap)\n",
        "    ax.figure.colorbar(im, ax=ax)\n",
        "    # We want to show all ticks...\n",
        "    ax.set(xticks=np.arange(cm.shape[1]),\n",
        "           yticks=np.arange(cm.shape[0]),\n",
        "           # ... and label them with the respective list entries\n",
        "           xticklabels=classes, yticklabels=classes,\n",
        "           title=title,\n",
        "           ylabel='True label',\n",
        "           xlabel='Predicted label')\n",
        "\n",
        "    # Rotate the tick labels and set their alignment.\n",
        "    plt.setp(ax.get_xticklabels(), rotation=45, ha=\"right\",\n",
        "             rotation_mode=\"anchor\")\n",
        "\n",
        "    # Loop over data dimensions and create text annotations.\n",
        "    fmt = '.2f' if normalize else 'd'\n",
        "    thresh = cm.max() / 2.\n",
        "    for i in range(cm.shape[0]):\n",
        "        for j in range(cm.shape[1]):\n",
        "            ax.text(j, i, format(cm[i, j], fmt),\n",
        "                    ha=\"center\", va=\"center\",\n",
        "                    color=\"white\" if cm[i, j] > thresh else \"black\")\n",
        "    fig.tight_layout()\n",
        "\n",
        "    return ax\n",
        "\n",
        "\n",
        "np.set_printoptions(precision=2)\n",
        "\n",
        "# Plot non-normalized confusion matrix\n",
        "plot_confusion_matrix(y_test, y_test_pred, classes=class_names,\n",
        "                      title='Confusion matrix, without normalization')\n",
        "\n",
        "# Plot normalized confusion matrix\n",
        "plot_confusion_matrix(y_test, y_test_pred, classes=class_names, normalize=True,\n",
        "                      title='Normalized confusion matrix')\n",
        "\n",
        "plt.show()"
      ]
    },
    {
      "cell_type": "code",
      "execution_count": 52,
      "metadata": {
        "id": "fhdLAhgPUnH3"
      },
      "outputs": [],
      "source": [
        "def plot_learningCurve(history, epoch):\n",
        "  # Plot training & validation accuracy values\n",
        "  epoch_range = range(1, epoch+1)\n",
        "  plt.plot(epoch_range, history.history['accuracy'])\n",
        "  plt.plot(epoch_range, history.history['val_accuracy'])\n",
        "  plt.title('Model accuracy')\n",
        "  plt.ylabel('Accuracy')\n",
        "  plt.xlabel('Epoch')\n",
        "  plt.legend(['Train', 'Val'], loc='upper left')\n",
        "  plt.show()\n",
        "\n",
        "  # Plot training & validation loss values\n",
        "  plt.plot(epoch_range, history.history['loss'])\n",
        "  plt.plot(epoch_range, history.history['val_loss'])\n",
        "  plt.title('Model loss')\n",
        "  plt.ylabel('Loss')\n",
        "  plt.xlabel('Epoch')\n",
        "  plt.legend(['Train', 'Val'], loc='upper left')\n",
        "  plt.show()"
      ]
    },
    {
      "cell_type": "code",
      "execution_count": 53,
      "metadata": {
        "id": "WlkQkWHgU5mL",
        "colab": {
          "base_uri": "https://localhost:8080/",
          "height": 581
        },
        "outputId": "0c91bedc-0ae4-4ace-877e-7ca6207273f7"
      },
      "outputs": [
        {
          "output_type": "display_data",
          "data": {
            "text/plain": [
              "<Figure size 432x288 with 1 Axes>"
            ],
            "image/png": "[encoded data removed]"
          },
          "metadata": {
            "needs_background": "light"
          }
        },
        {
          "output_type": "display_data",
          "data": {
            "text/plain": [
              "<Figure size 432x288 with 1 Axes>"
            ],
            "image/png": "[encoded data removed]"
          },
          "metadata": {
            "needs_background": "light"
          }
        }
      ],
      "source": [
        "plot_learningCurve(history, 100)"
      ]
    }
  ],
  "metadata": {
    "colab": {
      "collapsed_sections": [
        "f857kfHqUk0-"
      ],
      "name": "Multi_Class_MD_LSTM_step_200_files_120.ipynb",
      "provenance": [],
      "include_colab_link": true
    },
    "kernelspec": {
      "display_name": "Python 3",
      "name": "python3"
    },
    "language_info": {
      "name": "python"
    },
    "accelerator": "GPU"
  },
  "nbformat": 4,
  "nbformat_minor": 0
}
