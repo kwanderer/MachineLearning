{
  "cells": [
    {
      "cell_type": "markdown",
      "metadata": {
        "id": "view-in-github",
        "colab_type": "text"
      },
      "source": [
        "<a href=\"https://colab.research.google.com/github/kwanderer/Autonomas-sistemas-un-roboti/blob/main/Multi_Class_MD_LSTM_step_200_files_120_no_und-accelerometer-axial_1.ipynb\" target=\"_parent\"><img src=\"https://colab.research.google.com/assets/colab-badge.svg\" alt=\"Open In Colab\"/></a>"
      ]
    },
    {
      "cell_type": "markdown",
      "metadata": {
        "id": "f857kfHqUk0-"
      },
      "source": [
        "\n",
        "\n",
        "#Datu kopa"
      ]
    },
    {
      "cell_type": "markdown",
      "metadata": {
        "id": "nM9WE3QGUwVi"
      },
      "source": [
        "Datu kopas avots: https://www.kaggle.com/uysalserkan/fault-induction-motor-dataset"
      ]
    },
    {
      "cell_type": "markdown",
      "metadata": {
        "id": "_sN_h3qHHy6r"
      },
      "source": [
        "Darbā tiek izmantota indukcijas motora parametru datu bāze. Izmantotajā datu kopā ir dati, kas tika iegūti SpectraQuest aparatūras kļūdu simulatorā (Machinery Fault Simulator).\n",
        "\n",
        "Katra mērījumu secība tika ģenerēta ar frekvenci 50 kHz 5 sekunžu laikā, kopā 250 000 mērījumi.\n",
        "\n",
        "Dati ir apkopoti vairākos failos, dažādos darbības stāvokļos un to apjoms ir ļoti liels. Šajā darbā tika izmantota daļa(viena mērījumu secība) no motora normālas darbības datiem.\n"
      ]
    },
    {
      "cell_type": "markdown",
      "metadata": {
        "id": "KtFAOaHYHLPo"
      },
      "source": [
        "Dati ir apkopoti tabulā, kura satur 8 parametrus. Dati ir iedalīti sekojošās kolonas:\n",
        "\n",
        "**tachometer** – tahometra signāls, kas ļauj novērtēt rotācijas frekvenci\n",
        "\n",
        "**und-accelerometer-axial** - apakšā esošā gultņa akselerometrs (aksiālais virziens)\n",
        "\n",
        "**und-accelerometer-radial** – apakšā esošā gultņa akselerometrs (radiālais virziens)\n",
        "\n",
        "**und-accelerometer-tangential** - apakšā esošā gultņa akselerometrs (tangenciālais virziens)\n",
        "\n",
        "**over-accelerometer-axial** - pārkares gultņa akselerometrs (aksiālais virziens)\n",
        "\n",
        "**over-accelerometer-radial** – pārkares gultņa akselerometrs (radiālais  virziens)\n",
        "\n",
        "**over-accelerometer-tangential**  - pārkares gultņa akselerometrs (tangenciālais virziens)\n",
        "\n",
        "**microphone** – mikrofona vērtība\n"
      ]
    },
    {
      "cell_type": "markdown",
      "metadata": {
        "id": "XymoNLKMVFUC"
      },
      "source": [
        "#Datu ielasīšana un satura vizualizācija"
      ]
    },
    {
      "cell_type": "code",
      "execution_count": 38,
      "metadata": {
        "id": "_yqYZDeOFq5s"
      },
      "outputs": [],
      "source": [
        "import keras\n",
        "from keras.layers import LSTM, Dropout, Dense\n",
        "import tensorflow as tf\n",
        "import numpy as np\n",
        "import pandas as pd\n",
        "\n",
        "from sklearn import linear_model  #pip install sklearn - loti plasa masinapmacibas biblioteka\n",
        "from sklearn.linear_model import LinearRegression  \n",
        "import csv          #pip install csv - darbam ar CSV datu kopam\n",
        "import requests     #pip install requests  - vienkarsakam darbam ar tiessaistes CSV datu kopam tiessaistes\n",
        "\n",
        "import matplotlib\n",
        "import matplotlib.pyplot as plt\n",
        "\n",
        "import glob\n"
      ]
    },
    {
      "cell_type": "code",
      "execution_count": 39,
      "metadata": {
        "id": "wlRTBbM2eUcV",
        "colab": {
          "base_uri": "https://localhost:8080/"
        },
        "outputId": "f63b710f-fcca-401c-f6bd-b99a6538cb87"
      },
      "outputs": [
        {
          "output_type": "stream",
          "name": "stdout",
          "text": [
            "Drive already mounted at /content/gdrive; to attempt to forcibly remount, call drive.mount(\"/content/gdrive\", force_remount=True).\n"
          ]
        }
      ],
      "source": [
        "from google.colab import drive\n",
        "import os\n",
        "drive.mount('/content/gdrive')\n",
        "os.chdir(\"/content/gdrive/MyDrive/Colab Notebooks/data_multiclass/\")"
      ]
    },
    {
      "cell_type": "code",
      "execution_count": 40,
      "metadata": {
        "id": "zzz6fBl_SNom"
      },
      "outputs": [],
      "source": [
        "#extension = 'csv'\n",
        "#all_filenames = [i for i in glob.glob('*.{}'.format(extension))]"
      ]
    },
    {
      "cell_type": "code",
      "execution_count": 41,
      "metadata": {
        "id": "vagKFCkToBi0"
      },
      "outputs": [],
      "source": [
        "#combine all files in the list\n",
        "#combined_csv = pd.concat([pd.read_csv(f) for f in all_filenames ])\n",
        "#export to csv\n",
        "#combined_csv.to_csv( \"combined_multiclass_csv.csv\", index=False, encoding='utf-8-sig')"
      ]
    },
    {
      "cell_type": "code",
      "execution_count": 42,
      "metadata": {
        "id": "encEkbDhSfGI"
      },
      "outputs": [],
      "source": [
        "data = pd.read_csv(\"combined_multiclass_csv.csv\")"
      ]
    },
    {
      "cell_type": "code",
      "execution_count": 43,
      "metadata": {
        "id": "yz5Qe8ZWk1Zq",
        "colab": {
          "base_uri": "https://localhost:8080/"
        },
        "outputId": "aaadd81a-0fda-49ea-d846-e15c3e6534b1"
      },
      "outputs": [
        {
          "output_type": "stream",
          "name": "stdout",
          "text": [
            "<class 'pandas.core.frame.DataFrame'>\n",
            "RangeIndex: 30000000 entries, 0 to 29999999\n",
            "Data columns (total 9 columns):\n",
            " #   Column                         Dtype  \n",
            "---  ------                         -----  \n",
            " 0   tachometer                     float64\n",
            " 1   und-accelerometer-axial        float64\n",
            " 2   und-accelerometer-radial       float64\n",
            " 3   und-accelerometer-tangential   float64\n",
            " 4   over-accelerometer-axial       float64\n",
            " 5   over-accelerometer-radial      float64\n",
            " 6   over-accelerometer-tangential  float64\n",
            " 7   microphone                     float64\n",
            " 8   Class                          int64  \n",
            "dtypes: float64(8), int64(1)\n",
            "memory usage: 2.0 GB\n"
          ]
        }
      ],
      "source": [
        "data.info()"
      ]
    },
    {
      "cell_type": "code",
      "execution_count": 44,
      "metadata": {
        "id": "WUW9ezX6a_st",
        "colab": {
          "base_uri": "https://localhost:8080/"
        },
        "outputId": "ed9f67c9-c816-4f55-d6f7-20d61b866c92"
      },
      "outputs": [
        {
          "output_type": "execute_result",
          "data": {
            "text/plain": [
              "30000000"
            ]
          },
          "metadata": {},
          "execution_count": 44
        }
      ],
      "source": [
        "rec_count = len(data)\n",
        "rec_count"
      ]
    },
    {
      "cell_type": "markdown",
      "metadata": {
        "id": "6RVC1PZy88fC"
      },
      "source": [
        "# Datu dalīšana mazākos gabalos"
      ]
    },
    {
      "cell_type": "code",
      "execution_count": 45,
      "metadata": {
        "id": "DOvnCYkcbGaE"
      },
      "outputs": [],
      "source": [
        "sequence_length = 200"
      ]
    },
    {
      "cell_type": "code",
      "execution_count": 46,
      "metadata": {
        "id": "RG0o2L3zbTEx"
      },
      "outputs": [],
      "source": [
        "def generate_data(X, y, sequence_length = 200, step = 200):\n",
        "    X_local = []\n",
        "    y_local = []\n",
        "    for start in range(0, len(data) - sequence_length, step):\n",
        "        end = start + sequence_length\n",
        "        X_local.append(X[start:end])\n",
        "        y_local.append(y[end-1])\n",
        "    return np.array(X_local), np.array(y_local)\n",
        "\n",
        "#X_sequence, y = generate_data(data.loc[:, [\"tachometer\", \"und-accelerometer-axial\", \"und-accelerometer-radial\", \"und-accelerometer-tangential\", \"over-accelerometer-axial\", \"over-accelerometer-radial\", \"over-accelerometer-tangential\", \"microphone\"]].values, data.Class)\n",
        "X_sequence, y = generate_data(data.loc[:, [\"tachometer\", \"und-accelerometer-radial\", \"und-accelerometer-tangential\", \"over-accelerometer-axial\", \"over-accelerometer-radial\", \"over-accelerometer-tangential\", \"microphone\"]].values, data.Class)\n"
      ]
    },
    {
      "cell_type": "code",
      "execution_count": 47,
      "metadata": {
        "id": "s0QxwK66cLVF",
        "colab": {
          "base_uri": "https://localhost:8080/"
        },
        "outputId": "3a9d0cde-2ee6-420e-f264-1ea79b4e8568"
      },
      "outputs": [
        {
          "output_type": "execute_result",
          "data": {
            "text/plain": [
              "((149999, 200, 7), (149999,))"
            ]
          },
          "metadata": {},
          "execution_count": 47
        }
      ],
      "source": [
        "X_sequence.shape, y.shape"
      ]
    },
    {
      "cell_type": "code",
      "source": [
        "unique, counts = np.unique(y, return_counts=True)"
      ],
      "metadata": {
        "id": "l8Lq455lV1JR"
      },
      "execution_count": 48,
      "outputs": []
    },
    {
      "cell_type": "code",
      "source": [
        "unique"
      ],
      "metadata": {
        "id": "t0BRO3nAWQxe",
        "colab": {
          "base_uri": "https://localhost:8080/"
        },
        "outputId": "4f78a8fa-8a2e-49a4-f157-064c7083de44"
      },
      "execution_count": 49,
      "outputs": [
        {
          "output_type": "execute_result",
          "data": {
            "text/plain": [
              "array([0, 1, 2, 3, 4, 5, 6, 7])"
            ]
          },
          "metadata": {},
          "execution_count": 49
        }
      ]
    },
    {
      "cell_type": "code",
      "source": [
        "counts"
      ],
      "metadata": {
        "id": "WWZ7QWR4WS_r",
        "colab": {
          "base_uri": "https://localhost:8080/"
        },
        "outputId": "8b68dff2-43d7-4667-cce4-9f560bb7a86f"
      },
      "execution_count": 50,
      "outputs": [
        {
          "output_type": "execute_result",
          "data": {
            "text/plain": [
              "array([18749, 18750, 18750, 18750, 18750, 18750, 18750, 18750])"
            ]
          },
          "metadata": {},
          "execution_count": 50
        }
      ]
    },
    {
      "cell_type": "code",
      "execution_count": 51,
      "metadata": {
        "id": "i7R1oo6Mj8wx"
      },
      "outputs": [],
      "source": [
        "data = 0"
      ]
    },
    {
      "cell_type": "code",
      "source": [
        "from sklearn.preprocessing import OneHotEncoder"
      ],
      "metadata": {
        "id": "lAk_JscRWmqY"
      },
      "execution_count": 52,
      "outputs": []
    },
    {
      "cell_type": "code",
      "source": [
        "label_encoder = OneHotEncoder(sparse=False)\n",
        "label_encoder.fit(y.reshape(-1,1))"
      ],
      "metadata": {
        "id": "14B9aYy0W0y6",
        "colab": {
          "base_uri": "https://localhost:8080/"
        },
        "outputId": "0e790831-2174-4f53-c5b6-4b1be01496e1"
      },
      "execution_count": 53,
      "outputs": [
        {
          "output_type": "execute_result",
          "data": {
            "text/plain": [
              "OneHotEncoder(sparse=False)"
            ]
          },
          "metadata": {},
          "execution_count": 53
        }
      ]
    },
    {
      "cell_type": "code",
      "source": [
        "y_encoded = label_encoder.transform(y.reshape(-1,1))"
      ],
      "metadata": {
        "id": "VjpWn96xXgPS"
      },
      "execution_count": 54,
      "outputs": []
    },
    {
      "cell_type": "code",
      "source": [
        "y_encoded[0:5]"
      ],
      "metadata": {
        "id": "VL6KMFo9XpBi",
        "colab": {
          "base_uri": "https://localhost:8080/"
        },
        "outputId": "083fbc17-d808-4ed0-a857-72db5b37943e"
      },
      "execution_count": 55,
      "outputs": [
        {
          "output_type": "execute_result",
          "data": {
            "text/plain": [
              "array([[0., 0., 0., 0., 0., 0., 0., 1.],\n",
              "       [0., 0., 0., 0., 0., 0., 0., 1.],\n",
              "       [0., 0., 0., 0., 0., 0., 0., 1.],\n",
              "       [0., 0., 0., 0., 0., 0., 0., 1.],\n",
              "       [0., 0., 0., 0., 0., 0., 0., 1.]])"
            ]
          },
          "metadata": {},
          "execution_count": 55
        }
      ]
    },
    {
      "cell_type": "code",
      "source": [
        "y=y_encoded"
      ],
      "metadata": {
        "id": "5c8km253YKBl"
      },
      "execution_count": 56,
      "outputs": []
    },
    {
      "cell_type": "markdown",
      "metadata": {
        "id": "5BXSDoHa9UX_"
      },
      "source": [
        "# Random/Shuffle"
      ]
    },
    {
      "cell_type": "code",
      "execution_count": 57,
      "metadata": {
        "id": "ZcfE9idy-ckb"
      },
      "outputs": [],
      "source": [
        "shuffler = np.random.permutation(len(X_sequence))\n",
        "X_sequence_shuffled = X_sequence[shuffler]\n",
        "y_shuffled = y[shuffler]"
      ]
    },
    {
      "cell_type": "markdown",
      "metadata": {
        "id": "TfhRTTNcE2s8"
      },
      "source": [
        "# LSTM"
      ]
    },
    {
      "cell_type": "code",
      "execution_count": 58,
      "metadata": {
        "id": "ihrXMuVAEwlY"
      },
      "outputs": [],
      "source": [
        "import pandas as pd\n",
        "import sklearn.metrics as metrique\n",
        "from pandas import Series\n",
        "from sklearn.preprocessing import StandardScaler, MinMaxScaler\n",
        "from matplotlib import pyplot\n",
        "from sklearn.model_selection import train_test_split\n",
        "import numpy as np\n",
        "import tensorflow as tf\n",
        "import sys\n",
        "import numpy as np\n",
        "import pandas as pd\n",
        "import tensorflow as tf\n",
        "import matplotlib.pyplot as plt\n",
        "from sklearn.model_selection import train_test_split\n",
        "from sklearn import preprocessing\n",
        "from sklearn.preprocessing import StandardScaler\n",
        "from sklearn.metrics import classification_report\n",
        "import warnings\n",
        "warnings.filterwarnings('ignore')\n",
        "plt.style.use('ggplot')\n",
        "import seaborn as sns \n",
        "%matplotlib inline\n",
        "from keras.callbacks import EarlyStopping\n",
        "from keras.callbacks import ModelCheckpoint\n",
        "from sklearn.metrics import accuracy_score\n",
        "from sklearn.metrics import classification_report, confusion_matrix\n",
        "from keras.models import Sequential\n",
        "from keras.utils import np_utils\n",
        "from keras.layers import LSTM, Dense, Embedding, Dropout,Input, Layer, Concatenate, Permute, Dot, Multiply, Flatten\n",
        "from keras.layers import RepeatVector, Dense, Activation, Lambda\n",
        "from keras.models import Sequential\n",
        "from keras import backend as K, regularizers, Model, metrics\n",
        "from keras.backend import cast"
      ]
    },
    {
      "cell_type": "code",
      "execution_count": 24,
      "metadata": {
        "id": "PjKWKiA6aH3z"
      },
      "outputs": [],
      "source": [
        "#from tensorflow.keras import optimizers\n",
        "#sgd = optimizers.SGD(lr=0.0001, decay=1e-6, momentum=0.9, nesterov=True)\n",
        "#model = keras.Sequential()\n",
        "#model.add(LSTM(100, input_shape = (200, 8)))\n",
        "#model.add(Dropout(0.5))\n",
        "#model.add(Dense(1, activation=\"softmax\"))\n",
        "\n",
        "\n",
        "#model.compile(loss=\"categorical_crossentropy\"\n",
        "#              , metrics=[keras.metrics.binary_accuracy]\n",
        "#              , optimizer='sgd')\n",
        "\n",
        "#model.summary()"
      ]
    },
    {
      "cell_type": "code",
      "execution_count": 60,
      "metadata": {
        "id": "_2SaVmwSWJVB",
        "colab": {
          "base_uri": "https://localhost:8080/"
        },
        "outputId": "482c1609-5654-49ee-95d8-fa9c3a0dc9e4"
      },
      "outputs": [
        {
          "output_type": "stream",
          "name": "stdout",
          "text": [
            "Model: \"sequential_2\"\n",
            "_________________________________________________________________\n",
            " Layer (type)                Output Shape              Param #   \n",
            "=================================================================\n",
            " lstm_2 (LSTM)               (None, 150)               94800     \n",
            "                                                                 \n",
            " dropout_2 (Dropout)         (None, 150)               0         \n",
            "                                                                 \n",
            " dense_2 (Dense)             (None, 8)                 1208      \n",
            "                                                                 \n",
            "=================================================================\n",
            "Total params: 96,008\n",
            "Trainable params: 96,008\n",
            "Non-trainable params: 0\n",
            "_________________________________________________________________\n"
          ]
        }
      ],
      "source": [
        "from tensorflow.keras import optimizers\n",
        "#sgd = optimizers.SGD(lr=0.0001, decay=1e-6, momentum=0.9, nesterov=True)\n",
        "optimizer = tf.keras.optimizers.Adam(lr=0.0001)\n",
        "model = keras.Sequential()\n",
        "model.add(LSTM(150, input_shape = (200, 7)))\n",
        "model.add(Dropout(0.5))#0.25\n",
        "model.add(Dense(8, activation=\"softmax\"))\n",
        "\n",
        "#model.compile(loss='mean_squared_error', optimizer=sgd)\n",
        "model.compile(loss=\"categorical_crossentropy\"\n",
        "              , metrics=['accuracy']\n",
        "              , optimizer=optimizer)\n",
        "\n",
        "model.summary()"
      ]
    },
    {
      "cell_type": "code",
      "execution_count": 61,
      "metadata": {
        "id": "tg8wrqsqc8UX"
      },
      "outputs": [],
      "source": [
        "training_size = int(len(X_sequence) * 0.8)\n",
        "val_size = int(len(X_sequence) * 0.9)"
      ]
    },
    {
      "cell_type": "code",
      "execution_count": 62,
      "metadata": {
        "id": "avIp3TEKc-qF"
      },
      "outputs": [],
      "source": [
        "X_train, y_train = X_sequence_shuffled[:training_size], y_shuffled[:training_size]\n",
        "X_val, y_val = X_sequence_shuffled[training_size:val_size], y_shuffled[training_size:val_size]\n",
        "X_test, y_test = X_sequence_shuffled[val_size:], y_shuffled[val_size:]"
      ]
    },
    {
      "cell_type": "code",
      "execution_count": 63,
      "metadata": {
        "id": "RABc_uKzkBUT"
      },
      "outputs": [],
      "source": [
        "#X_sequence = 0\n",
        "#y = 0"
      ]
    },
    {
      "cell_type": "code",
      "source": [
        "X_train.shape"
      ],
      "metadata": {
        "id": "Omv-ht1dhGxL",
        "colab": {
          "base_uri": "https://localhost:8080/"
        },
        "outputId": "b0f5cd16-7eae-4b5d-c2e1-81f12d35e632"
      },
      "execution_count": 64,
      "outputs": [
        {
          "output_type": "execute_result",
          "data": {
            "text/plain": [
              "(119999, 200, 7)"
            ]
          },
          "metadata": {},
          "execution_count": 64
        }
      ]
    },
    {
      "cell_type": "code",
      "execution_count": 65,
      "metadata": {
        "id": "8aIhPJ-wLCwZ",
        "colab": {
          "base_uri": "https://localhost:8080/"
        },
        "outputId": "2bcac3b5-3dce-48bc-ce94-d6f67241fe8e"
      },
      "outputs": [
        {
          "output_type": "execute_result",
          "data": {
            "text/plain": [
              "array([[0., 0., 1., 0., 0., 0., 0., 0.],\n",
              "       [0., 0., 0., 0., 0., 0., 0., 1.],\n",
              "       [0., 1., 0., 0., 0., 0., 0., 0.],\n",
              "       [0., 0., 0., 0., 0., 0., 0., 1.],\n",
              "       [0., 0., 0., 1., 0., 0., 0., 0.],\n",
              "       [0., 0., 0., 1., 0., 0., 0., 0.],\n",
              "       [1., 0., 0., 0., 0., 0., 0., 0.],\n",
              "       [0., 0., 0., 0., 0., 0., 0., 1.],\n",
              "       [0., 0., 0., 0., 0., 0., 1., 0.],\n",
              "       [0., 0., 0., 0., 0., 0., 0., 1.]])"
            ]
          },
          "metadata": {},
          "execution_count": 65
        }
      ],
      "source": [
        "y_train[:10]"
      ]
    },
    {
      "cell_type": "code",
      "execution_count": 66,
      "metadata": {
        "id": "cen4faX0dFJP",
        "colab": {
          "base_uri": "https://localhost:8080/"
        },
        "outputId": "acd966bf-45c5-4ef4-e523-437c68af788f"
      },
      "outputs": [
        {
          "output_type": "stream",
          "name": "stdout",
          "text": [
            "Epoch 1/100\n",
            "1875/1875 [==============================] - 33s 15ms/step - loss: 1.8142 - accuracy: 0.2313 - val_loss: 1.7269 - val_accuracy: 0.2723\n",
            "Epoch 2/100\n",
            "1875/1875 [==============================] - 23s 12ms/step - loss: 1.6903 - accuracy: 0.2812 - val_loss: 1.6044 - val_accuracy: 0.3225\n",
            "Epoch 3/100\n",
            "1875/1875 [==============================] - 23s 13ms/step - loss: 1.6811 - accuracy: 0.2898 - val_loss: 1.5702 - val_accuracy: 0.3376\n",
            "Epoch 4/100\n",
            "1875/1875 [==============================] - 23s 13ms/step - loss: 1.5786 - accuracy: 0.3414 - val_loss: 1.4820 - val_accuracy: 0.3837\n",
            "Epoch 5/100\n",
            "1875/1875 [==============================] - 24s 13ms/step - loss: 1.5736 - accuracy: 0.3527 - val_loss: 1.5607 - val_accuracy: 0.3577\n",
            "Epoch 6/100\n",
            "1875/1875 [==============================] - 24s 13ms/step - loss: 1.5470 - accuracy: 0.3640 - val_loss: 1.4457 - val_accuracy: 0.4060\n",
            "Epoch 7/100\n",
            "1875/1875 [==============================] - 25s 13ms/step - loss: 1.5663 - accuracy: 0.3747 - val_loss: 1.4446 - val_accuracy: 0.4098\n",
            "Epoch 8/100\n",
            "1875/1875 [==============================] - 25s 13ms/step - loss: 1.4853 - accuracy: 0.3913 - val_loss: 3.0626 - val_accuracy: 0.2483\n",
            "Epoch 9/100\n",
            "1875/1875 [==============================] - 24s 13ms/step - loss: 1.5302 - accuracy: 0.3877 - val_loss: 1.4067 - val_accuracy: 0.4278\n",
            "Epoch 10/100\n",
            "1875/1875 [==============================] - 23s 12ms/step - loss: 1.4040 - accuracy: 0.4224 - val_loss: 1.4029 - val_accuracy: 0.4360\n",
            "Epoch 11/100\n",
            "1875/1875 [==============================] - 24s 13ms/step - loss: 1.4123 - accuracy: 0.4253 - val_loss: 1.3502 - val_accuracy: 0.4429\n",
            "Epoch 12/100\n",
            "1875/1875 [==============================] - 23s 12ms/step - loss: 1.4534 - accuracy: 0.4202 - val_loss: 1.3614 - val_accuracy: 0.4515\n",
            "Epoch 13/100\n",
            "1875/1875 [==============================] - 23s 12ms/step - loss: 1.3904 - accuracy: 0.4334 - val_loss: 1.3161 - val_accuracy: 0.4611\n",
            "Epoch 14/100\n",
            "1875/1875 [==============================] - 23s 12ms/step - loss: 1.3853 - accuracy: 0.4387 - val_loss: 1.4743 - val_accuracy: 0.4069\n",
            "Epoch 15/100\n",
            "1875/1875 [==============================] - 23s 12ms/step - loss: 1.3350 - accuracy: 0.4531 - val_loss: 1.2688 - val_accuracy: 0.4793\n",
            "Epoch 16/100\n",
            "1875/1875 [==============================] - 25s 13ms/step - loss: 1.3048 - accuracy: 0.4632 - val_loss: 1.2541 - val_accuracy: 0.4825\n",
            "Epoch 17/100\n",
            "1875/1875 [==============================] - 23s 12ms/step - loss: 1.3156 - accuracy: 0.4646 - val_loss: 1.4260 - val_accuracy: 0.4351\n",
            "Epoch 18/100\n",
            "1875/1875 [==============================] - 24s 13ms/step - loss: 1.2857 - accuracy: 0.4740 - val_loss: 1.3053 - val_accuracy: 0.4597\n",
            "Epoch 19/100\n",
            "1875/1875 [==============================] - 23s 12ms/step - loss: 1.2965 - accuracy: 0.4699 - val_loss: 1.2240 - val_accuracy: 0.4992\n",
            "Epoch 20/100\n",
            "1875/1875 [==============================] - 23s 12ms/step - loss: 1.2860 - accuracy: 0.4727 - val_loss: 1.2236 - val_accuracy: 0.5020\n",
            "Epoch 21/100\n",
            "1875/1875 [==============================] - 23s 12ms/step - loss: 1.3006 - accuracy: 0.4646 - val_loss: 1.2556 - val_accuracy: 0.4836\n",
            "Epoch 22/100\n",
            "1875/1875 [==============================] - 23s 12ms/step - loss: 1.2622 - accuracy: 0.4827 - val_loss: 1.2108 - val_accuracy: 0.5033\n",
            "Epoch 23/100\n",
            "1875/1875 [==============================] - 23s 12ms/step - loss: 1.2655 - accuracy: 0.4862 - val_loss: 1.2271 - val_accuracy: 0.4963\n",
            "Epoch 24/100\n",
            "1875/1875 [==============================] - 23s 12ms/step - loss: 1.2438 - accuracy: 0.4921 - val_loss: 1.2764 - val_accuracy: 0.4833\n",
            "Epoch 25/100\n",
            "1875/1875 [==============================] - 23s 12ms/step - loss: 1.2267 - accuracy: 0.4978 - val_loss: 1.1936 - val_accuracy: 0.5035\n",
            "Epoch 26/100\n",
            "1875/1875 [==============================] - 23s 12ms/step - loss: 1.2484 - accuracy: 0.4890 - val_loss: 1.2250 - val_accuracy: 0.4951\n",
            "Epoch 27/100\n",
            "1875/1875 [==============================] - 23s 12ms/step - loss: 1.2237 - accuracy: 0.4974 - val_loss: 1.1905 - val_accuracy: 0.5139\n",
            "Epoch 28/100\n",
            "1875/1875 [==============================] - 23s 12ms/step - loss: 1.2299 - accuracy: 0.4971 - val_loss: 1.1692 - val_accuracy: 0.5211\n",
            "Epoch 29/100\n",
            "1875/1875 [==============================] - 23s 12ms/step - loss: 1.1897 - accuracy: 0.5131 - val_loss: 1.1511 - val_accuracy: 0.5301\n",
            "Epoch 30/100\n",
            "1875/1875 [==============================] - 25s 13ms/step - loss: 1.2158 - accuracy: 0.5047 - val_loss: 1.1909 - val_accuracy: 0.5126\n",
            "Epoch 31/100\n",
            "1875/1875 [==============================] - 25s 13ms/step - loss: 1.2011 - accuracy: 0.5127 - val_loss: 1.1727 - val_accuracy: 0.5248\n",
            "Epoch 32/100\n",
            "1875/1875 [==============================] - 24s 13ms/step - loss: 1.1760 - accuracy: 0.5196 - val_loss: 1.1627 - val_accuracy: 0.5239\n",
            "Epoch 33/100\n",
            "1875/1875 [==============================] - 23s 12ms/step - loss: 1.1713 - accuracy: 0.5258 - val_loss: 1.1419 - val_accuracy: 0.5296\n",
            "Epoch 34/100\n",
            "1875/1875 [==============================] - 24s 13ms/step - loss: 1.2775 - accuracy: 0.4919 - val_loss: 1.2982 - val_accuracy: 0.4719\n",
            "Epoch 35/100\n",
            "1875/1875 [==============================] - 24s 13ms/step - loss: 1.1990 - accuracy: 0.5130 - val_loss: 1.2367 - val_accuracy: 0.5204\n",
            "Epoch 36/100\n",
            "1875/1875 [==============================] - 25s 13ms/step - loss: 1.1809 - accuracy: 0.5196 - val_loss: 1.1130 - val_accuracy: 0.5457\n",
            "Epoch 37/100\n",
            "1875/1875 [==============================] - 24s 13ms/step - loss: 1.3037 - accuracy: 0.4769 - val_loss: 1.1812 - val_accuracy: 0.5194\n",
            "Epoch 38/100\n",
            "1875/1875 [==============================] - 25s 13ms/step - loss: 1.1728 - accuracy: 0.5202 - val_loss: 1.1060 - val_accuracy: 0.5441\n",
            "Epoch 39/100\n",
            "1875/1875 [==============================] - 25s 13ms/step - loss: 1.2744 - accuracy: 0.4844 - val_loss: 1.3199 - val_accuracy: 0.4680\n",
            "Epoch 40/100\n",
            "1875/1875 [==============================] - 23s 13ms/step - loss: 1.3235 - accuracy: 0.4706 - val_loss: 1.2920 - val_accuracy: 0.4821\n",
            "Epoch 41/100\n",
            "1875/1875 [==============================] - 24s 13ms/step - loss: 1.3066 - accuracy: 0.4716 - val_loss: 1.2492 - val_accuracy: 0.4865\n",
            "Epoch 42/100\n",
            "1875/1875 [==============================] - 24s 13ms/step - loss: 1.1999 - accuracy: 0.5110 - val_loss: 1.1370 - val_accuracy: 0.5327\n",
            "Epoch 43/100\n",
            "1875/1875 [==============================] - 24s 13ms/step - loss: 1.1801 - accuracy: 0.5210 - val_loss: 1.1760 - val_accuracy: 0.5118\n",
            "Epoch 44/100\n",
            "1875/1875 [==============================] - 24s 13ms/step - loss: 1.1488 - accuracy: 0.5307 - val_loss: 1.0958 - val_accuracy: 0.5505\n",
            "Epoch 45/100\n",
            "1875/1875 [==============================] - 25s 13ms/step - loss: 1.1136 - accuracy: 0.5443 - val_loss: 1.0654 - val_accuracy: 0.5648\n",
            "Epoch 46/100\n",
            "1875/1875 [==============================] - 25s 13ms/step - loss: 1.0970 - accuracy: 0.5516 - val_loss: 1.0577 - val_accuracy: 0.5655\n",
            "Epoch 47/100\n",
            "1875/1875 [==============================] - 24s 13ms/step - loss: 1.0840 - accuracy: 0.5562 - val_loss: 1.0922 - val_accuracy: 0.5577\n",
            "Epoch 48/100\n",
            "1875/1875 [==============================] - 24s 13ms/step - loss: 1.0623 - accuracy: 0.5635 - val_loss: 1.0214 - val_accuracy: 0.5771\n",
            "Epoch 49/100\n",
            "1875/1875 [==============================] - 25s 13ms/step - loss: 1.0525 - accuracy: 0.5661 - val_loss: 1.0483 - val_accuracy: 0.5646\n",
            "Epoch 50/100\n",
            "1875/1875 [==============================] - 24s 13ms/step - loss: 1.0480 - accuracy: 0.5693 - val_loss: 1.0038 - val_accuracy: 0.5843\n",
            "Epoch 51/100\n",
            "1875/1875 [==============================] - 23s 12ms/step - loss: 1.0303 - accuracy: 0.5756 - val_loss: 1.0119 - val_accuracy: 0.5840\n",
            "Epoch 52/100\n",
            "1875/1875 [==============================] - 24s 13ms/step - loss: 1.0248 - accuracy: 0.5791 - val_loss: 0.9865 - val_accuracy: 0.5901\n",
            "Epoch 53/100\n",
            "1875/1875 [==============================] - 24s 13ms/step - loss: 1.0083 - accuracy: 0.5844 - val_loss: 0.9752 - val_accuracy: 0.5992\n",
            "Epoch 54/100\n",
            "1875/1875 [==============================] - 23s 13ms/step - loss: 0.9999 - accuracy: 0.5898 - val_loss: 0.9888 - val_accuracy: 0.5897\n",
            "Epoch 55/100\n",
            "1875/1875 [==============================] - 24s 13ms/step - loss: 0.9910 - accuracy: 0.5928 - val_loss: 0.9863 - val_accuracy: 0.5936\n",
            "Epoch 56/100\n",
            "1875/1875 [==============================] - 24s 13ms/step - loss: 0.9757 - accuracy: 0.5994 - val_loss: 1.0005 - val_accuracy: 0.5848\n",
            "Epoch 57/100\n",
            "1875/1875 [==============================] - 24s 13ms/step - loss: 0.9681 - accuracy: 0.6021 - val_loss: 0.9315 - val_accuracy: 0.6121\n",
            "Epoch 58/100\n",
            "1875/1875 [==============================] - 23s 13ms/step - loss: 0.9563 - accuracy: 0.6059 - val_loss: 0.9551 - val_accuracy: 0.6041\n",
            "Epoch 59/100\n",
            "1875/1875 [==============================] - 24s 13ms/step - loss: 0.9512 - accuracy: 0.6099 - val_loss: 0.9094 - val_accuracy: 0.6243\n",
            "Epoch 60/100\n",
            "1875/1875 [==============================] - 24s 13ms/step - loss: 0.9410 - accuracy: 0.6129 - val_loss: 0.9276 - val_accuracy: 0.6151\n",
            "Epoch 61/100\n",
            "1875/1875 [==============================] - 24s 13ms/step - loss: 0.9376 - accuracy: 0.6168 - val_loss: 0.9021 - val_accuracy: 0.6273\n",
            "Epoch 62/100\n",
            "1875/1875 [==============================] - 24s 13ms/step - loss: 0.9327 - accuracy: 0.6180 - val_loss: 0.9022 - val_accuracy: 0.6259\n",
            "Epoch 63/100\n",
            "1875/1875 [==============================] - 24s 13ms/step - loss: 0.9219 - accuracy: 0.6238 - val_loss: 0.8888 - val_accuracy: 0.6285\n",
            "Epoch 64/100\n",
            "1875/1875 [==============================] - 24s 13ms/step - loss: 0.9082 - accuracy: 0.6269 - val_loss: 0.8680 - val_accuracy: 0.6418\n",
            "Epoch 65/100\n",
            "1875/1875 [==============================] - 24s 13ms/step - loss: 0.9076 - accuracy: 0.6276 - val_loss: 0.8770 - val_accuracy: 0.6373\n",
            "Epoch 66/100\n",
            "1875/1875 [==============================] - 24s 13ms/step - loss: 0.9018 - accuracy: 0.6313 - val_loss: 0.8895 - val_accuracy: 0.6319\n",
            "Epoch 67/100\n",
            "1875/1875 [==============================] - 25s 13ms/step - loss: 0.8946 - accuracy: 0.6351 - val_loss: 0.8631 - val_accuracy: 0.6401\n",
            "Epoch 68/100\n",
            "1875/1875 [==============================] - 24s 13ms/step - loss: 0.8840 - accuracy: 0.6379 - val_loss: 0.8583 - val_accuracy: 0.6409\n",
            "Epoch 69/100\n",
            "1875/1875 [==============================] - 24s 13ms/step - loss: 0.8875 - accuracy: 0.6377 - val_loss: 1.0167 - val_accuracy: 0.5906\n",
            "Epoch 70/100\n",
            "1875/1875 [==============================] - 24s 13ms/step - loss: 0.8845 - accuracy: 0.6384 - val_loss: 0.8753 - val_accuracy: 0.6371\n",
            "Epoch 71/100\n",
            "1875/1875 [==============================] - 24s 13ms/step - loss: 0.8693 - accuracy: 0.6437 - val_loss: 0.8647 - val_accuracy: 0.6394\n",
            "Epoch 72/100\n",
            "1875/1875 [==============================] - 25s 13ms/step - loss: 0.8648 - accuracy: 0.6457 - val_loss: 0.8375 - val_accuracy: 0.6529\n",
            "Epoch 73/100\n",
            "1875/1875 [==============================] - 24s 13ms/step - loss: 0.8638 - accuracy: 0.6467 - val_loss: 0.8272 - val_accuracy: 0.6575\n",
            "Epoch 74/100\n",
            "1875/1875 [==============================] - 24s 13ms/step - loss: 0.8595 - accuracy: 0.6469 - val_loss: 0.8682 - val_accuracy: 0.6408\n",
            "Epoch 75/100\n",
            "1875/1875 [==============================] - 24s 13ms/step - loss: 0.8517 - accuracy: 0.6506 - val_loss: 0.8838 - val_accuracy: 0.6377\n",
            "Epoch 76/100\n",
            "1875/1875 [==============================] - 23s 12ms/step - loss: 0.8478 - accuracy: 0.6530 - val_loss: 0.8541 - val_accuracy: 0.6469\n",
            "Epoch 77/100\n",
            "1875/1875 [==============================] - 24s 13ms/step - loss: 0.8437 - accuracy: 0.6537 - val_loss: 0.8347 - val_accuracy: 0.6484\n",
            "Epoch 78/100\n",
            "1875/1875 [==============================] - 25s 13ms/step - loss: 0.8376 - accuracy: 0.6568 - val_loss: 0.8344 - val_accuracy: 0.6510\n",
            "Epoch 79/100\n",
            "1875/1875 [==============================] - 25s 13ms/step - loss: 0.8306 - accuracy: 0.6595 - val_loss: 0.8105 - val_accuracy: 0.6635\n",
            "Epoch 80/100\n",
            "1875/1875 [==============================] - 24s 13ms/step - loss: 0.8305 - accuracy: 0.6597 - val_loss: 0.8084 - val_accuracy: 0.6665\n",
            "Epoch 81/100\n",
            "1875/1875 [==============================] - 24s 13ms/step - loss: 0.8256 - accuracy: 0.6617 - val_loss: 0.8045 - val_accuracy: 0.6684\n",
            "Epoch 82/100\n",
            "1875/1875 [==============================] - 24s 13ms/step - loss: 0.8191 - accuracy: 0.6634 - val_loss: 0.8204 - val_accuracy: 0.6614\n",
            "Epoch 83/100\n",
            "1875/1875 [==============================] - 24s 13ms/step - loss: 0.8145 - accuracy: 0.6648 - val_loss: 0.8051 - val_accuracy: 0.6677\n",
            "Epoch 84/100\n",
            "1875/1875 [==============================] - 24s 13ms/step - loss: 0.8126 - accuracy: 0.6674 - val_loss: 0.7950 - val_accuracy: 0.6733\n",
            "Epoch 85/100\n",
            "1875/1875 [==============================] - 25s 13ms/step - loss: 0.8119 - accuracy: 0.6669 - val_loss: 0.8132 - val_accuracy: 0.6659\n",
            "Epoch 86/100\n",
            "1875/1875 [==============================] - 24s 13ms/step - loss: 0.8033 - accuracy: 0.6709 - val_loss: 0.7951 - val_accuracy: 0.6729\n",
            "Epoch 87/100\n",
            "1875/1875 [==============================] - 24s 13ms/step - loss: 0.8108 - accuracy: 0.6694 - val_loss: 0.8011 - val_accuracy: 0.6701\n",
            "Epoch 88/100\n",
            "1875/1875 [==============================] - 24s 13ms/step - loss: 0.7971 - accuracy: 0.6738 - val_loss: 0.7827 - val_accuracy: 0.6729\n",
            "Epoch 89/100\n",
            "1875/1875 [==============================] - 24s 13ms/step - loss: 0.7906 - accuracy: 0.6747 - val_loss: 0.7813 - val_accuracy: 0.6805\n",
            "Epoch 90/100\n",
            "1875/1875 [==============================] - 24s 13ms/step - loss: 0.7895 - accuracy: 0.6754 - val_loss: 0.7770 - val_accuracy: 0.6740\n",
            "Epoch 91/100\n",
            "1875/1875 [==============================] - 23s 13ms/step - loss: 0.7847 - accuracy: 0.6769 - val_loss: 0.7694 - val_accuracy: 0.6836\n",
            "Epoch 92/100\n",
            "1875/1875 [==============================] - 24s 13ms/step - loss: 0.7786 - accuracy: 0.6795 - val_loss: 0.7589 - val_accuracy: 0.6857\n",
            "Epoch 93/100\n",
            "1875/1875 [==============================] - 23s 13ms/step - loss: 0.7767 - accuracy: 0.6807 - val_loss: 0.7588 - val_accuracy: 0.6843\n",
            "Epoch 94/100\n",
            "1875/1875 [==============================] - 23s 13ms/step - loss: 0.7744 - accuracy: 0.6815 - val_loss: 0.7708 - val_accuracy: 0.6817\n",
            "Epoch 95/100\n",
            "1875/1875 [==============================] - 24s 13ms/step - loss: 0.7678 - accuracy: 0.6854 - val_loss: 0.7714 - val_accuracy: 0.6875\n",
            "Epoch 96/100\n",
            "1875/1875 [==============================] - 24s 13ms/step - loss: 0.7642 - accuracy: 0.6853 - val_loss: 0.7535 - val_accuracy: 0.6879\n",
            "Epoch 97/100\n",
            "1875/1875 [==============================] - 24s 13ms/step - loss: 0.7613 - accuracy: 0.6877 - val_loss: 0.7450 - val_accuracy: 0.6941\n",
            "Epoch 98/100\n",
            "1875/1875 [==============================] - 24s 13ms/step - loss: 0.7553 - accuracy: 0.6893 - val_loss: 0.7587 - val_accuracy: 0.6889\n",
            "Epoch 99/100\n",
            "1875/1875 [==============================] - 24s 13ms/step - loss: 0.7522 - accuracy: 0.6909 - val_loss: 0.7466 - val_accuracy: 0.6940\n",
            "Epoch 100/100\n",
            "1875/1875 [==============================] - 24s 13ms/step - loss: 0.7502 - accuracy: 0.6921 - val_loss: 0.7243 - val_accuracy: 0.6983\n"
          ]
        }
      ],
      "source": [
        "history = model.fit(X_train, y_train, batch_size=64, epochs=100, validation_data=(X_val, y_val))\n",
        "#model.save('NewAllDataModel_E50_B64.h5')"
      ]
    },
    {
      "cell_type": "code",
      "execution_count": 67,
      "metadata": {
        "id": "R7QQeqVidKBR",
        "colab": {
          "base_uri": "https://localhost:8080/"
        },
        "outputId": "5ea18295-ee54-4937-fcff-ce1401c401c5"
      },
      "outputs": [
        {
          "output_type": "stream",
          "name": "stdout",
          "text": [
            "469/469 [==============================] - 3s 6ms/step - loss: 0.7272 - accuracy: 0.6963\n"
          ]
        }
      ],
      "source": [
        "test_acc = model.evaluate(X_test, y_test)"
      ]
    },
    {
      "cell_type": "code",
      "source": [
        "test_acc"
      ],
      "metadata": {
        "id": "6fuTmgGrUgGg",
        "colab": {
          "base_uri": "https://localhost:8080/"
        },
        "outputId": "89d3c52b-1b18-41e8-a49b-9b8f41550a7a"
      },
      "execution_count": 68,
      "outputs": [
        {
          "output_type": "execute_result",
          "data": {
            "text/plain": [
              "[0.7272229194641113, 0.6963333487510681]"
            ]
          },
          "metadata": {},
          "execution_count": 68
        }
      ]
    },
    {
      "cell_type": "code",
      "execution_count": 69,
      "metadata": {
        "id": "OHpifyqGdKn-",
        "colab": {
          "base_uri": "https://localhost:8080/"
        },
        "outputId": "35fdfb60-58e9-48b5-cba0-d17e804a404c"
      },
      "outputs": [
        {
          "output_type": "stream",
          "name": "stdout",
          "text": [
            "469/469 [==============================] - 3s 5ms/step\n"
          ]
        }
      ],
      "source": [
        "y_test_prob = model.predict(X_test, verbose=1)"
      ]
    },
    {
      "cell_type": "code",
      "source": [
        "np.set_printoptions(suppress=True)\n",
        "y_test_prob_backup = y_test_prob\n",
        "y_test_prob"
      ],
      "metadata": {
        "id": "rRPswrrkmhp2",
        "colab": {
          "base_uri": "https://localhost:8080/"
        },
        "outputId": "25cfbe7a-42cc-4169-d10a-693ca51f73dc"
      },
      "execution_count": 70,
      "outputs": [
        {
          "output_type": "execute_result",
          "data": {
            "text/plain": [
              "array([[0.9956884 , 0.0042672 , 0.000002  , ..., 0.00000158, 0.00000161,\n",
              "        0.00003839],\n",
              "       [0.00007767, 0.00013596, 0.1296774 , ..., 0.3027318 , 0.15858366,\n",
              "        0.02635714],\n",
              "       [0.00001128, 0.00000012, 0.00000853, ..., 0.984643  , 0.00514087,\n",
              "        0.00002008],\n",
              "       ...,\n",
              "       [0.0000001 , 0.00002105, 0.99563205, ..., 0.00004252, 0.00018057,\n",
              "        0.0000027 ],\n",
              "       [0.00000792, 0.00011374, 0.3514748 , ..., 0.15812784, 0.04788212,\n",
              "        0.0010474 ],\n",
              "       [0.00000431, 0.00000699, 0.14346296, ..., 0.11718511, 0.00717011,\n",
              "        0.00010816]], dtype=float32)"
            ]
          },
          "metadata": {},
          "execution_count": 70
        }
      ]
    },
    {
      "cell_type": "code",
      "execution_count": 71,
      "metadata": {
        "id": "AfmdrBILdMwj"
      },
      "outputs": [],
      "source": [
        "y_test_pred = np.where(y_test_prob > 0.5, 1, 0)"
      ]
    },
    {
      "cell_type": "code",
      "execution_count": 72,
      "metadata": {
        "id": "8DoJy_p9dPzN"
      },
      "outputs": [],
      "source": [
        "from sklearn.metrics import multilabel_confusion_matrix"
      ]
    },
    {
      "cell_type": "code",
      "source": [
        "y_test"
      ],
      "metadata": {
        "id": "n1Us2yrfcGl-",
        "colab": {
          "base_uri": "https://localhost:8080/"
        },
        "outputId": "6e4de782-6e52-430a-ddc0-de22b0a0565d"
      },
      "execution_count": 73,
      "outputs": [
        {
          "output_type": "execute_result",
          "data": {
            "text/plain": [
              "array([[1., 0., 0., ..., 0., 0., 0.],\n",
              "       [0., 0., 0., ..., 0., 1., 0.],\n",
              "       [0., 0., 0., ..., 1., 0., 0.],\n",
              "       ...,\n",
              "       [0., 0., 1., ..., 0., 0., 0.],\n",
              "       [0., 0., 0., ..., 0., 0., 0.],\n",
              "       [0., 0., 0., ..., 0., 0., 0.]])"
            ]
          },
          "metadata": {},
          "execution_count": 73
        }
      ]
    },
    {
      "cell_type": "code",
      "source": [
        "y_test.shape"
      ],
      "metadata": {
        "id": "VnmvTcvWbxr9",
        "colab": {
          "base_uri": "https://localhost:8080/"
        },
        "outputId": "75766f22-3e47-4903-a2b9-77e140f9794d"
      },
      "execution_count": 74,
      "outputs": [
        {
          "output_type": "execute_result",
          "data": {
            "text/plain": [
              "(15000, 8)"
            ]
          },
          "metadata": {},
          "execution_count": 74
        }
      ]
    },
    {
      "cell_type": "code",
      "source": [
        "y_test_pred"
      ],
      "metadata": {
        "id": "nMBOgzrgcJBj",
        "colab": {
          "base_uri": "https://localhost:8080/"
        },
        "outputId": "234acd48-e79e-49cf-d537-5e32c65877d2"
      },
      "execution_count": 75,
      "outputs": [
        {
          "output_type": "execute_result",
          "data": {
            "text/plain": [
              "array([[1, 0, 0, ..., 0, 0, 0],\n",
              "       [0, 0, 0, ..., 0, 0, 0],\n",
              "       [0, 0, 0, ..., 1, 0, 0],\n",
              "       ...,\n",
              "       [0, 0, 1, ..., 0, 0, 0],\n",
              "       [0, 0, 0, ..., 0, 0, 0],\n",
              "       [0, 0, 0, ..., 0, 0, 0]])"
            ]
          },
          "metadata": {},
          "execution_count": 75
        }
      ]
    },
    {
      "cell_type": "code",
      "source": [
        "y_test_pred.shape"
      ],
      "metadata": {
        "id": "SXKZof8Ye5uI",
        "colab": {
          "base_uri": "https://localhost:8080/"
        },
        "outputId": "4d7fc116-33c7-49d2-c84b-603e9147a195"
      },
      "execution_count": 76,
      "outputs": [
        {
          "output_type": "execute_result",
          "data": {
            "text/plain": [
              "(15000, 8)"
            ]
          },
          "metadata": {},
          "execution_count": 76
        }
      ]
    },
    {
      "cell_type": "code",
      "source": [
        "y_decoded_pred = tf.argmax(y_test_pred, axis = 1)"
      ],
      "metadata": {
        "id": "leDQwKOjgwwi"
      },
      "execution_count": 77,
      "outputs": []
    },
    {
      "cell_type": "code",
      "source": [
        "y_decoded = tf.argmax(y_test, axis = 1)"
      ],
      "metadata": {
        "id": "sAHRmtesif6g"
      },
      "execution_count": 78,
      "outputs": []
    },
    {
      "cell_type": "code",
      "source": [
        "y_decoded_pred"
      ],
      "metadata": {
        "id": "_lvFhrmPhprD",
        "colab": {
          "base_uri": "https://localhost:8080/"
        },
        "outputId": "21df4daf-abc9-4756-85a2-2d5225e3916f"
      },
      "execution_count": 79,
      "outputs": [
        {
          "output_type": "execute_result",
          "data": {
            "text/plain": [
              "<tf.Tensor: shape=(15000,), dtype=int64, numpy=array([0, 0, 5, ..., 2, 0, 3])>"
            ]
          },
          "metadata": {},
          "execution_count": 79
        }
      ]
    },
    {
      "cell_type": "code",
      "source": [
        "y_decoded"
      ],
      "metadata": {
        "id": "YV1FXgHviPwm",
        "colab": {
          "base_uri": "https://localhost:8080/"
        },
        "outputId": "081d4cc5-7f53-42cc-a02d-7ba17c02a3d4"
      },
      "execution_count": 80,
      "outputs": [
        {
          "output_type": "execute_result",
          "data": {
            "text/plain": [
              "<tf.Tensor: shape=(15000,), dtype=int64, numpy=array([0, 6, 5, ..., 2, 3, 4])>"
            ]
          },
          "metadata": {},
          "execution_count": 80
        }
      ]
    },
    {
      "cell_type": "code",
      "source": [
        "y_test_pred = y_decoded_pred\n"
      ],
      "metadata": {
        "id": "6-6jFqzGh380"
      },
      "execution_count": 81,
      "outputs": []
    },
    {
      "cell_type": "code",
      "source": [
        "y_test = y_decoded"
      ],
      "metadata": {
        "id": "9pogVvdIiwss"
      },
      "execution_count": 82,
      "outputs": []
    },
    {
      "cell_type": "code",
      "source": [
        "y_test"
      ],
      "metadata": {
        "id": "oGt5aJetiKR6",
        "colab": {
          "base_uri": "https://localhost:8080/"
        },
        "outputId": "18463a72-f3c0-469a-84a3-88671e1cfb5a"
      },
      "execution_count": 83,
      "outputs": [
        {
          "output_type": "execute_result",
          "data": {
            "text/plain": [
              "<tf.Tensor: shape=(15000,), dtype=int64, numpy=array([0, 6, 5, ..., 2, 3, 4])>"
            ]
          },
          "metadata": {},
          "execution_count": 83
        }
      ]
    },
    {
      "cell_type": "code",
      "source": [
        "y_test_pred"
      ],
      "metadata": {
        "id": "fLgDwAIfiyv2",
        "colab": {
          "base_uri": "https://localhost:8080/"
        },
        "outputId": "0d2ae5ac-d880-470e-e5bd-0b7b56c3156d"
      },
      "execution_count": 84,
      "outputs": [
        {
          "output_type": "execute_result",
          "data": {
            "text/plain": [
              "<tf.Tensor: shape=(15000,), dtype=int64, numpy=array([0, 0, 5, ..., 2, 0, 3])>"
            ]
          },
          "metadata": {},
          "execution_count": 84
        }
      ]
    },
    {
      "cell_type": "code",
      "execution_count": 85,
      "metadata": {
        "id": "fTCsPjW8dQaZ"
      },
      "outputs": [],
      "source": [
        "cfm=confusion_matrix(y_test, y_test_pred)"
      ]
    },
    {
      "cell_type": "code",
      "source": [
        "cfm"
      ],
      "metadata": {
        "id": "_67lPg6ic4cH",
        "colab": {
          "base_uri": "https://localhost:8080/"
        },
        "outputId": "9e2be035-ad4f-41bd-e734-9e800aacf08d"
      },
      "execution_count": 86,
      "outputs": [
        {
          "output_type": "execute_result",
          "data": {
            "text/plain": [
              "array([[1926,   18,    0,    0,    0,    0,    0,    0],\n",
              "       [  88, 1813,    6,    0,    0,    0,    0,   12],\n",
              "       [ 613,   15, 1132,   41,    9,    1,   39,   60],\n",
              "       [ 841,    2,   40,  854,   95,   29,   11,    5],\n",
              "       [ 985,    0,   48,  172,  479,   80,   36,   10],\n",
              "       [1142,    0,    8,   65,   71,  533,   28,    5],\n",
              "       [ 977,    2,   25,    0,    0,   33,  561,  266],\n",
              "       [ 464,   10,    4,    0,    0,    2,   47, 1297]])"
            ]
          },
          "metadata": {},
          "execution_count": 86
        }
      ]
    },
    {
      "cell_type": "code",
      "source": [
        " print(classification_report(y_test,y_test_pred))"
      ],
      "metadata": {
        "id": "XTqR_xnwRWCJ",
        "colab": {
          "base_uri": "https://localhost:8080/"
        },
        "outputId": "dc396e15-6738-4818-8f2d-db3926fb0b5e"
      },
      "execution_count": 87,
      "outputs": [
        {
          "output_type": "stream",
          "name": "stdout",
          "text": [
            "              precision    recall  f1-score   support\n",
            "\n",
            "           0       0.27      0.99      0.43      1944\n",
            "           1       0.97      0.94      0.96      1919\n",
            "           2       0.90      0.59      0.71      1910\n",
            "           3       0.75      0.45      0.57      1877\n",
            "           4       0.73      0.26      0.39      1810\n",
            "           5       0.79      0.29      0.42      1852\n",
            "           6       0.78      0.30      0.43      1864\n",
            "           7       0.78      0.71      0.75      1824\n",
            "\n",
            "    accuracy                           0.57     15000\n",
            "   macro avg       0.75      0.57      0.58     15000\n",
            "weighted avg       0.75      0.57      0.58     15000\n",
            "\n"
          ]
        }
      ]
    },
    {
      "cell_type": "code",
      "execution_count": 88,
      "metadata": {
        "id": "te3fslrY9Eca",
        "colab": {
          "base_uri": "https://localhost:8080/",
          "height": 903
        },
        "outputId": "36ef3a0e-8843-4191-ceee-85e7e5824707"
      },
      "outputs": [
        {
          "output_type": "stream",
          "name": "stdout",
          "text": [
            "Confusion matrix, without normalization\n",
            "[[1926   18    0    0    0    0    0    0]\n",
            " [  88 1813    6    0    0    0    0   12]\n",
            " [ 613   15 1132   41    9    1   39   60]\n",
            " [ 841    2   40  854   95   29   11    5]\n",
            " [ 985    0   48  172  479   80   36   10]\n",
            " [1142    0    8   65   71  533   28    5]\n",
            " [ 977    2   25    0    0   33  561  266]\n",
            " [ 464   10    4    0    0    2   47 1297]]\n",
            "Normalized confusion matrix\n",
            "[[0.99 0.01 0.   0.   0.   0.   0.   0.  ]\n",
            " [0.05 0.94 0.   0.   0.   0.   0.   0.01]\n",
            " [0.32 0.01 0.59 0.02 0.   0.   0.02 0.03]\n",
            " [0.45 0.   0.02 0.45 0.05 0.02 0.01 0.  ]\n",
            " [0.54 0.   0.03 0.1  0.26 0.04 0.02 0.01]\n",
            " [0.62 0.   0.   0.04 0.04 0.29 0.02 0.  ]\n",
            " [0.52 0.   0.01 0.   0.   0.02 0.3  0.14]\n",
            " [0.25 0.01 0.   0.   0.   0.   0.03 0.71]]\n"
          ]
        },
        {
          "output_type": "display_data",
          "data": {
            "text/plain": [
              "<Figure size 432x288 with 2 Axes>"
            ],
            "image/png": "[encoded data removed]"
          },
          "metadata": {
            "needs_background": "light"
          }
        },
        {
          "output_type": "display_data",
          "data": {
            "text/plain": [
              "<Figure size 432x288 with 2 Axes>"
            ],
            "image/png": "[encoded data removed]"
          },
          "metadata": {
            "needs_background": "light"
          }
        }
      ],
      "source": [
        "import numpy as np\n",
        "import matplotlib.pyplot as plt\n",
        "\n",
        "from sklearn import svm, datasets\n",
        "from sklearn.model_selection import train_test_split\n",
        "from sklearn.metrics import confusion_matrix\n",
        "from sklearn.utils.multiclass import unique_labels\n",
        "\n",
        "class_names = np.array(['0', '1', '2', '3', '4', '5', '6', '7'])\n",
        "\n",
        "def plot_confusion_matrix(y_true, y_pred, classes,\n",
        "                          normalize=False,\n",
        "                          title=None,\n",
        "                          cmap=plt.cm.Blues):\n",
        "    \"\"\"\n",
        "    This function prints and plots the confusion matrix.\n",
        "    Normalization can be applied by setting `normalize=True`.\n",
        "    \"\"\"\n",
        "    if not title:\n",
        "        if normalize:\n",
        "            title = 'Normalized confusion matrix'\n",
        "        else:\n",
        "            title = 'Confusion matrix, without normalization'\n",
        "\n",
        "    # Compute confusion matrix\n",
        "    cm = confusion_matrix(y_true, y_pred)\n",
        "    # Only use the labels that appear in the data\n",
        "    classes = classes[unique_labels(y_true, y_pred)]\n",
        "    if normalize:\n",
        "        cm = cm.astype('float') / cm.sum(axis=1)[:, np.newaxis]\n",
        "        print(\"Normalized confusion matrix\")\n",
        "    else:\n",
        "        print('Confusion matrix, without normalization')\n",
        "\n",
        "    print(cm)\n",
        "\n",
        "    fig, ax = plt.subplots()\n",
        "    im = ax.imshow(cm, interpolation='nearest', cmap=cmap)\n",
        "    ax.figure.colorbar(im, ax=ax)\n",
        "    # We want to show all ticks...\n",
        "    ax.set(xticks=np.arange(cm.shape[1]),\n",
        "           yticks=np.arange(cm.shape[0]),\n",
        "           # ... and label them with the respective list entries\n",
        "           xticklabels=classes, yticklabels=classes,\n",
        "           title=title,\n",
        "           ylabel='True label',\n",
        "           xlabel='Predicted label')\n",
        "\n",
        "    # Rotate the tick labels and set their alignment.\n",
        "    plt.setp(ax.get_xticklabels(), rotation=45, ha=\"right\",\n",
        "             rotation_mode=\"anchor\")\n",
        "\n",
        "    # Loop over data dimensions and create text annotations.\n",
        "    fmt = '.2f' if normalize else 'd'\n",
        "    thresh = cm.max() / 2.\n",
        "    for i in range(cm.shape[0]):\n",
        "        for j in range(cm.shape[1]):\n",
        "            ax.text(j, i, format(cm[i, j], fmt),\n",
        "                    ha=\"center\", va=\"center\",\n",
        "                    color=\"white\" if cm[i, j] > thresh else \"black\")\n",
        "    fig.tight_layout()\n",
        "\n",
        "    return ax\n",
        "\n",
        "\n",
        "np.set_printoptions(precision=2)\n",
        "\n",
        "# Plot non-normalized confusion matrix\n",
        "plot_confusion_matrix(y_test, y_test_pred, classes=class_names,\n",
        "                      title='Confusion matrix, without normalization')\n",
        "\n",
        "# Plot normalized confusion matrix\n",
        "plot_confusion_matrix(y_test, y_test_pred, classes=class_names, normalize=True,\n",
        "                      title='Normalized confusion matrix')\n",
        "\n",
        "plt.show()"
      ]
    },
    {
      "cell_type": "code",
      "execution_count": 89,
      "metadata": {
        "id": "fhdLAhgPUnH3"
      },
      "outputs": [],
      "source": [
        "def plot_learningCurve(history, epoch):\n",
        "  # Plot training & validation accuracy values\n",
        "  epoch_range = range(1, epoch+1)\n",
        "  plt.plot(epoch_range, history.history['accuracy'])\n",
        "  plt.plot(epoch_range, history.history['val_accuracy'])\n",
        "  plt.title('Model accuracy')\n",
        "  plt.ylabel('Accuracy')\n",
        "  plt.xlabel('Epoch')\n",
        "  plt.legend(['Train', 'Val'], loc='upper left')\n",
        "  plt.show()\n",
        "\n",
        "  # Plot training & validation loss values\n",
        "  plt.plot(epoch_range, history.history['loss'])\n",
        "  plt.plot(epoch_range, history.history['val_loss'])\n",
        "  plt.title('Model loss')\n",
        "  plt.ylabel('Loss')\n",
        "  plt.xlabel('Epoch')\n",
        "  plt.legend(['Train', 'Val'], loc='upper left')\n",
        "  plt.show()"
      ]
    },
    {
      "cell_type": "code",
      "execution_count": 90,
      "metadata": {
        "id": "WlkQkWHgU5mL",
        "colab": {
          "base_uri": "https://localhost:8080/",
          "height": 581
        },
        "outputId": "0d0e45a5-13f0-4891-816a-1488ecef018b"
      },
      "outputs": [
        {
          "output_type": "display_data",
          "data": {
            "text/plain": [
              "<Figure size 432x288 with 1 Axes>"
            ],
            "image/png": "[encoded data removed]"
          },
          "metadata": {
            "needs_background": "light"
          }
        },
        {
          "output_type": "display_data",
          "data": {
            "text/plain": [
              "<Figure size 432x288 with 1 Axes>"
            ],
            "image/png": "[encoded data removed]"
          },
          "metadata": {
            "needs_background": "light"
          }
        }
      ],
      "source": [
        "plot_learningCurve(history, 100)"
      ]
    }
  ],
  "metadata": {
    "colab": {
      "collapsed_sections": [
        "f857kfHqUk0-"
      ],
      "name": "Multi_Class_MD_LSTM_step_200_files_120.ipynb",
      "provenance": [],
      "include_colab_link": true
    },
    "kernelspec": {
      "display_name": "Python 3",
      "name": "python3"
    },
    "language_info": {
      "name": "python"
    },
    "accelerator": "GPU"
  },
  "nbformat": 4,
  "nbformat_minor": 0
}
