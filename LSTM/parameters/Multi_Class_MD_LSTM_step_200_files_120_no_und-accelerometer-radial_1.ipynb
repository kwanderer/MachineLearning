{
  "cells": [
    {
      "cell_type": "markdown",
      "metadata": {
        "id": "view-in-github",
        "colab_type": "text"
      },
      "source": [
        "<a href=\"https://colab.research.google.com/github/kwanderer/Autonomas-sistemas-un-roboti/blob/main/Multi_Class_MD_LSTM_step_200_files_120_%D1%82%D1%89_und-accelerometer-radial_1.ipynb\" target=\"_parent\"><img src=\"https://colab.research.google.com/assets/colab-badge.svg\" alt=\"Open In Colab\"/></a>"
      ]
    },
    {
      "cell_type": "markdown",
      "metadata": {
        "id": "f857kfHqUk0-"
      },
      "source": [
        "\n",
        "\n",
        "#Datu kopa"
      ]
    },
    {
      "cell_type": "markdown",
      "metadata": {
        "id": "nM9WE3QGUwVi"
      },
      "source": [
        "Datu kopas avots: https://www.kaggle.com/uysalserkan/fault-induction-motor-dataset"
      ]
    },
    {
      "cell_type": "markdown",
      "metadata": {
        "id": "_sN_h3qHHy6r"
      },
      "source": [
        "Darbā tiek izmantota indukcijas motora parametru datu bāze. Izmantotajā datu kopā ir dati, kas tika iegūti SpectraQuest aparatūras kļūdu simulatorā (Machinery Fault Simulator).\n",
        "\n",
        "Katra mērījumu secība tika ģenerēta ar frekvenci 50 kHz 5 sekunžu laikā, kopā 250 000 mērījumi.\n",
        "\n",
        "Dati ir apkopoti vairākos failos, dažādos darbības stāvokļos un to apjoms ir ļoti liels. Šajā darbā tika izmantota daļa(viena mērījumu secība) no motora normālas darbības datiem.\n"
      ]
    },
    {
      "cell_type": "markdown",
      "metadata": {
        "id": "KtFAOaHYHLPo"
      },
      "source": [
        "Dati ir apkopoti tabulā, kura satur 8 parametrus. Dati ir iedalīti sekojošās kolonas:\n",
        "\n",
        "**tachometer** – tahometra signāls, kas ļauj novērtēt rotācijas frekvenci\n",
        "\n",
        "**und-accelerometer-axial** - apakšā esošā gultņa akselerometrs (aksiālais virziens)\n",
        "\n",
        "**und-accelerometer-radial** – apakšā esošā gultņa akselerometrs (radiālais virziens)\n",
        "\n",
        "**und-accelerometer-tangential** - apakšā esošā gultņa akselerometrs (tangenciālais virziens)\n",
        "\n",
        "**over-accelerometer-axial** - pārkares gultņa akselerometrs (aksiālais virziens)\n",
        "\n",
        "**over-accelerometer-radial** – pārkares gultņa akselerometrs (radiālais  virziens)\n",
        "\n",
        "**over-accelerometer-tangential**  - pārkares gultņa akselerometrs (tangenciālais virziens)\n",
        "\n",
        "**microphone** – mikrofona vērtība\n"
      ]
    },
    {
      "cell_type": "markdown",
      "metadata": {
        "id": "XymoNLKMVFUC"
      },
      "source": [
        "#Datu ielasīšana un satura vizualizācija"
      ]
    },
    {
      "cell_type": "code",
      "execution_count": 1,
      "metadata": {
        "id": "_yqYZDeOFq5s"
      },
      "outputs": [],
      "source": [
        "import keras\n",
        "from keras.layers import LSTM, Dropout, Dense\n",
        "import tensorflow as tf\n",
        "import numpy as np\n",
        "import pandas as pd\n",
        "\n",
        "from sklearn import linear_model  #pip install sklearn - loti plasa masinapmacibas biblioteka\n",
        "from sklearn.linear_model import LinearRegression  \n",
        "import csv          #pip install csv - darbam ar CSV datu kopam\n",
        "import requests     #pip install requests  - vienkarsakam darbam ar tiessaistes CSV datu kopam tiessaistes\n",
        "\n",
        "import matplotlib\n",
        "import matplotlib.pyplot as plt\n",
        "\n",
        "import glob\n"
      ]
    },
    {
      "cell_type": "code",
      "execution_count": 2,
      "metadata": {
        "id": "wlRTBbM2eUcV",
        "colab": {
          "base_uri": "https://localhost:8080/"
        },
        "outputId": "963a7ac6-4436-4921-d9e4-7fcaed955612"
      },
      "outputs": [
        {
          "output_type": "stream",
          "name": "stdout",
          "text": [
            "Mounted at /content/gdrive\n"
          ]
        }
      ],
      "source": [
        "from google.colab import drive\n",
        "import os\n",
        "drive.mount('/content/gdrive')\n",
        "os.chdir(\"/content/gdrive/MyDrive/Colab Notebooks/data_multiclass/\")"
      ]
    },
    {
      "cell_type": "code",
      "execution_count": 3,
      "metadata": {
        "id": "zzz6fBl_SNom"
      },
      "outputs": [],
      "source": [
        "#extension = 'csv'\n",
        "#all_filenames = [i for i in glob.glob('*.{}'.format(extension))]"
      ]
    },
    {
      "cell_type": "code",
      "execution_count": 4,
      "metadata": {
        "id": "vagKFCkToBi0"
      },
      "outputs": [],
      "source": [
        "#combine all files in the list\n",
        "#combined_csv = pd.concat([pd.read_csv(f) for f in all_filenames ])\n",
        "#export to csv\n",
        "#combined_csv.to_csv( \"combined_multiclass_csv.csv\", index=False, encoding='utf-8-sig')"
      ]
    },
    {
      "cell_type": "code",
      "execution_count": 5,
      "metadata": {
        "id": "encEkbDhSfGI"
      },
      "outputs": [],
      "source": [
        "data = pd.read_csv(\"combined_multiclass_csv.csv\")"
      ]
    },
    {
      "cell_type": "code",
      "execution_count": 6,
      "metadata": {
        "id": "yz5Qe8ZWk1Zq",
        "colab": {
          "base_uri": "https://localhost:8080/"
        },
        "outputId": "8b4f6487-52ee-46c6-e27e-52b8919c39e8"
      },
      "outputs": [
        {
          "output_type": "stream",
          "name": "stdout",
          "text": [
            "<class 'pandas.core.frame.DataFrame'>\n",
            "RangeIndex: 30000000 entries, 0 to 29999999\n",
            "Data columns (total 9 columns):\n",
            " #   Column                         Dtype  \n",
            "---  ------                         -----  \n",
            " 0   tachometer                     float64\n",
            " 1   und-accelerometer-axial        float64\n",
            " 2   und-accelerometer-radial       float64\n",
            " 3   und-accelerometer-tangential   float64\n",
            " 4   over-accelerometer-axial       float64\n",
            " 5   over-accelerometer-radial      float64\n",
            " 6   over-accelerometer-tangential  float64\n",
            " 7   microphone                     float64\n",
            " 8   Class                          int64  \n",
            "dtypes: float64(8), int64(1)\n",
            "memory usage: 2.0 GB\n"
          ]
        }
      ],
      "source": [
        "data.info()"
      ]
    },
    {
      "cell_type": "code",
      "execution_count": 7,
      "metadata": {
        "id": "WUW9ezX6a_st",
        "colab": {
          "base_uri": "https://localhost:8080/"
        },
        "outputId": "d520e9d6-6543-4f4e-921c-69944e7017e8"
      },
      "outputs": [
        {
          "output_type": "execute_result",
          "data": {
            "text/plain": [
              "30000000"
            ]
          },
          "metadata": {},
          "execution_count": 7
        }
      ],
      "source": [
        "rec_count = len(data)\n",
        "rec_count"
      ]
    },
    {
      "cell_type": "markdown",
      "metadata": {
        "id": "6RVC1PZy88fC"
      },
      "source": [
        "# Datu dalīšana mazākos gabalos"
      ]
    },
    {
      "cell_type": "code",
      "execution_count": 8,
      "metadata": {
        "id": "DOvnCYkcbGaE"
      },
      "outputs": [],
      "source": [
        "sequence_length = 200"
      ]
    },
    {
      "cell_type": "code",
      "execution_count": 10,
      "metadata": {
        "id": "RG0o2L3zbTEx"
      },
      "outputs": [],
      "source": [
        "def generate_data(X, y, sequence_length = 200, step = 200):\n",
        "    X_local = []\n",
        "    y_local = []\n",
        "    for start in range(0, len(data) - sequence_length, step):\n",
        "        end = start + sequence_length\n",
        "        X_local.append(X[start:end])\n",
        "        y_local.append(y[end-1])\n",
        "    return np.array(X_local), np.array(y_local)\n",
        "\n",
        "#X_sequence, y = generate_data(data.loc[:, \"tachometer\":\"microphone\"].values, data.Class)\n",
        "#X_sequence, y = generate_data(data.loc[:, [\"tachometer\", \"und-accelerometer-axial\", \"und-accelerometer-radial\", \"und-accelerometer-tangential\", \"over-accelerometer-axial\", \"over-accelerometer-radial\", \"over-accelerometer-tangential\", \"microphone\"]].values, data.Class)\n",
        "#und-accelerometer-radial\n",
        "X_sequence, y = generate_data(data.loc[:, [\"tachometer\", \"und-accelerometer-axial\", \"und-accelerometer-tangential\", \"over-accelerometer-axial\", \"over-accelerometer-radial\", \"over-accelerometer-tangential\", \"microphone\"]].values, data.Class)"
      ]
    },
    {
      "cell_type": "code",
      "execution_count": 11,
      "metadata": {
        "id": "s0QxwK66cLVF",
        "colab": {
          "base_uri": "https://localhost:8080/"
        },
        "outputId": "abb79e2a-9752-405e-e7c3-289828c4fd58"
      },
      "outputs": [
        {
          "output_type": "execute_result",
          "data": {
            "text/plain": [
              "((149999, 200, 7), (149999,))"
            ]
          },
          "metadata": {},
          "execution_count": 11
        }
      ],
      "source": [
        "X_sequence.shape, y.shape"
      ]
    },
    {
      "cell_type": "code",
      "source": [
        "unique, counts = np.unique(y, return_counts=True)"
      ],
      "metadata": {
        "id": "l8Lq455lV1JR"
      },
      "execution_count": 12,
      "outputs": []
    },
    {
      "cell_type": "code",
      "source": [
        "unique"
      ],
      "metadata": {
        "id": "t0BRO3nAWQxe",
        "colab": {
          "base_uri": "https://localhost:8080/"
        },
        "outputId": "2fe321a3-e06f-44cf-8e5b-487775ffa2d9"
      },
      "execution_count": 13,
      "outputs": [
        {
          "output_type": "execute_result",
          "data": {
            "text/plain": [
              "array([0, 1, 2, 3, 4, 5, 6, 7])"
            ]
          },
          "metadata": {},
          "execution_count": 13
        }
      ]
    },
    {
      "cell_type": "code",
      "source": [
        "counts"
      ],
      "metadata": {
        "id": "WWZ7QWR4WS_r",
        "colab": {
          "base_uri": "https://localhost:8080/"
        },
        "outputId": "1675df43-bb59-4ab8-d107-c27eb451cd01"
      },
      "execution_count": 14,
      "outputs": [
        {
          "output_type": "execute_result",
          "data": {
            "text/plain": [
              "array([18749, 18750, 18750, 18750, 18750, 18750, 18750, 18750])"
            ]
          },
          "metadata": {},
          "execution_count": 14
        }
      ]
    },
    {
      "cell_type": "code",
      "execution_count": 15,
      "metadata": {
        "id": "i7R1oo6Mj8wx"
      },
      "outputs": [],
      "source": [
        "data = 0"
      ]
    },
    {
      "cell_type": "code",
      "source": [
        "from sklearn.preprocessing import OneHotEncoder"
      ],
      "metadata": {
        "id": "lAk_JscRWmqY"
      },
      "execution_count": 16,
      "outputs": []
    },
    {
      "cell_type": "code",
      "source": [
        "label_encoder = OneHotEncoder(sparse=False)\n",
        "label_encoder.fit(y.reshape(-1,1))"
      ],
      "metadata": {
        "id": "14B9aYy0W0y6",
        "colab": {
          "base_uri": "https://localhost:8080/"
        },
        "outputId": "8431de36-c915-4416-8b30-467493e0997c"
      },
      "execution_count": 17,
      "outputs": [
        {
          "output_type": "execute_result",
          "data": {
            "text/plain": [
              "OneHotEncoder(sparse=False)"
            ]
          },
          "metadata": {},
          "execution_count": 17
        }
      ]
    },
    {
      "cell_type": "code",
      "source": [
        "y_encoded = label_encoder.transform(y.reshape(-1,1))"
      ],
      "metadata": {
        "id": "VjpWn96xXgPS"
      },
      "execution_count": 18,
      "outputs": []
    },
    {
      "cell_type": "code",
      "source": [
        "y_encoded[0:5]"
      ],
      "metadata": {
        "id": "VL6KMFo9XpBi",
        "colab": {
          "base_uri": "https://localhost:8080/"
        },
        "outputId": "87752108-d41d-4faa-c589-64bd902759bf"
      },
      "execution_count": 19,
      "outputs": [
        {
          "output_type": "execute_result",
          "data": {
            "text/plain": [
              "array([[0., 0., 0., 0., 0., 0., 0., 1.],\n",
              "       [0., 0., 0., 0., 0., 0., 0., 1.],\n",
              "       [0., 0., 0., 0., 0., 0., 0., 1.],\n",
              "       [0., 0., 0., 0., 0., 0., 0., 1.],\n",
              "       [0., 0., 0., 0., 0., 0., 0., 1.]])"
            ]
          },
          "metadata": {},
          "execution_count": 19
        }
      ]
    },
    {
      "cell_type": "code",
      "source": [
        "y=y_encoded"
      ],
      "metadata": {
        "id": "5c8km253YKBl"
      },
      "execution_count": 20,
      "outputs": []
    },
    {
      "cell_type": "markdown",
      "metadata": {
        "id": "5BXSDoHa9UX_"
      },
      "source": [
        "# Random/Shuffle"
      ]
    },
    {
      "cell_type": "code",
      "execution_count": 21,
      "metadata": {
        "id": "ZcfE9idy-ckb"
      },
      "outputs": [],
      "source": [
        "shuffler = np.random.permutation(len(X_sequence))\n",
        "X_sequence_shuffled = X_sequence[shuffler]\n",
        "y_shuffled = y[shuffler]"
      ]
    },
    {
      "cell_type": "markdown",
      "metadata": {
        "id": "TfhRTTNcE2s8"
      },
      "source": [
        "# LSTM"
      ]
    },
    {
      "cell_type": "code",
      "execution_count": 22,
      "metadata": {
        "id": "ihrXMuVAEwlY"
      },
      "outputs": [],
      "source": [
        "import pandas as pd\n",
        "import sklearn.metrics as metrique\n",
        "from pandas import Series\n",
        "from sklearn.preprocessing import StandardScaler, MinMaxScaler\n",
        "from matplotlib import pyplot\n",
        "from sklearn.model_selection import train_test_split\n",
        "import numpy as np\n",
        "import tensorflow as tf\n",
        "import sys\n",
        "import numpy as np\n",
        "import pandas as pd\n",
        "import tensorflow as tf\n",
        "import matplotlib.pyplot as plt\n",
        "from sklearn.model_selection import train_test_split\n",
        "from sklearn import preprocessing\n",
        "from sklearn.preprocessing import StandardScaler\n",
        "from sklearn.metrics import classification_report\n",
        "import warnings\n",
        "warnings.filterwarnings('ignore')\n",
        "plt.style.use('ggplot')\n",
        "import seaborn as sns \n",
        "%matplotlib inline\n",
        "from keras.callbacks import EarlyStopping\n",
        "from keras.callbacks import ModelCheckpoint\n",
        "from sklearn.metrics import accuracy_score\n",
        "from sklearn.metrics import classification_report, confusion_matrix\n",
        "from keras.models import Sequential\n",
        "from keras.utils import np_utils\n",
        "from keras.layers import LSTM, Dense, Embedding, Dropout,Input, Layer, Concatenate, Permute, Dot, Multiply, Flatten\n",
        "from keras.layers import RepeatVector, Dense, Activation, Lambda\n",
        "from keras.models import Sequential\n",
        "from keras import backend as K, regularizers, Model, metrics\n",
        "from keras.backend import cast"
      ]
    },
    {
      "cell_type": "code",
      "execution_count": 23,
      "metadata": {
        "id": "PjKWKiA6aH3z"
      },
      "outputs": [],
      "source": [
        "#from tensorflow.keras import optimizers\n",
        "#sgd = optimizers.SGD(lr=0.0001, decay=1e-6, momentum=0.9, nesterov=True)\n",
        "#model = keras.Sequential()\n",
        "#model.add(LSTM(100, input_shape = (200, 8)))\n",
        "#model.add(Dropout(0.5))\n",
        "#model.add(Dense(1, activation=\"softmax\"))\n",
        "\n",
        "\n",
        "#model.compile(loss=\"categorical_crossentropy\"\n",
        "#              , metrics=[keras.metrics.binary_accuracy]\n",
        "#              , optimizer='sgd')\n",
        "\n",
        "#model.summary()"
      ]
    },
    {
      "cell_type": "code",
      "execution_count": 31,
      "metadata": {
        "id": "_2SaVmwSWJVB",
        "colab": {
          "base_uri": "https://localhost:8080/"
        },
        "outputId": "0c1ff477-bdea-4ddf-99d4-c6a1b3a2c09e"
      },
      "outputs": [
        {
          "output_type": "stream",
          "name": "stdout",
          "text": [
            "Model: \"sequential_1\"\n",
            "_________________________________________________________________\n",
            " Layer (type)                Output Shape              Param #   \n",
            "=================================================================\n",
            " lstm_1 (LSTM)               (None, 150)               94800     \n",
            "                                                                 \n",
            " dropout_1 (Dropout)         (None, 150)               0         \n",
            "                                                                 \n",
            " dense_1 (Dense)             (None, 8)                 1208      \n",
            "                                                                 \n",
            "=================================================================\n",
            "Total params: 96,008\n",
            "Trainable params: 96,008\n",
            "Non-trainable params: 0\n",
            "_________________________________________________________________\n"
          ]
        }
      ],
      "source": [
        "from tensorflow.keras import optimizers\n",
        "#sgd = optimizers.SGD(lr=0.0001, decay=1e-6, momentum=0.9, nesterov=True)\n",
        "optimizer = tf.keras.optimizers.Adam(lr=0.0001)\n",
        "model = keras.Sequential()\n",
        "model.add(LSTM(150, input_shape = (200, 7)))\n",
        "model.add(Dropout(0.5))#0.25\n",
        "model.add(Dense(8, activation=\"softmax\"))\n",
        "\n",
        "#model.compile(loss='mean_squared_error', optimizer=sgd)\n",
        "model.compile(loss=\"categorical_crossentropy\"\n",
        "              , metrics=['accuracy']\n",
        "              , optimizer=optimizer)\n",
        "\n",
        "model.summary()"
      ]
    },
    {
      "cell_type": "code",
      "execution_count": 32,
      "metadata": {
        "id": "tg8wrqsqc8UX"
      },
      "outputs": [],
      "source": [
        "training_size = int(len(X_sequence) * 0.8)\n",
        "val_size = int(len(X_sequence) * 0.9)"
      ]
    },
    {
      "cell_type": "code",
      "execution_count": 33,
      "metadata": {
        "id": "avIp3TEKc-qF"
      },
      "outputs": [],
      "source": [
        "X_train, y_train = X_sequence_shuffled[:training_size], y_shuffled[:training_size]\n",
        "X_val, y_val = X_sequence_shuffled[training_size:val_size], y_shuffled[training_size:val_size]\n",
        "X_test, y_test = X_sequence_shuffled[val_size:], y_shuffled[val_size:]"
      ]
    },
    {
      "cell_type": "code",
      "execution_count": 34,
      "metadata": {
        "id": "RABc_uKzkBUT"
      },
      "outputs": [],
      "source": [
        "#X_sequence = 0\n",
        "#y = 0"
      ]
    },
    {
      "cell_type": "code",
      "source": [
        "X_train.shape"
      ],
      "metadata": {
        "id": "Omv-ht1dhGxL",
        "colab": {
          "base_uri": "https://localhost:8080/"
        },
        "outputId": "fb7d8f3b-88c4-4be1-9cd0-0b8b87624a51"
      },
      "execution_count": 35,
      "outputs": [
        {
          "output_type": "execute_result",
          "data": {
            "text/plain": [
              "(119999, 200, 7)"
            ]
          },
          "metadata": {},
          "execution_count": 35
        }
      ]
    },
    {
      "cell_type": "code",
      "execution_count": 36,
      "metadata": {
        "id": "8aIhPJ-wLCwZ",
        "colab": {
          "base_uri": "https://localhost:8080/"
        },
        "outputId": "937c89f1-59d5-4ac1-8915-7844b17de9a2"
      },
      "outputs": [
        {
          "output_type": "execute_result",
          "data": {
            "text/plain": [
              "array([[0., 0., 0., 0., 1., 0., 0., 0.],\n",
              "       [0., 1., 0., 0., 0., 0., 0., 0.],\n",
              "       [0., 0., 0., 0., 1., 0., 0., 0.],\n",
              "       [0., 0., 0., 0., 0., 0., 1., 0.],\n",
              "       [0., 0., 0., 0., 0., 0., 0., 1.],\n",
              "       [0., 0., 0., 0., 0., 0., 1., 0.],\n",
              "       [0., 0., 0., 0., 0., 1., 0., 0.],\n",
              "       [0., 0., 0., 0., 1., 0., 0., 0.],\n",
              "       [0., 0., 0., 0., 0., 0., 0., 1.],\n",
              "       [1., 0., 0., 0., 0., 0., 0., 0.]])"
            ]
          },
          "metadata": {},
          "execution_count": 36
        }
      ],
      "source": [
        "y_train[:10]"
      ]
    },
    {
      "cell_type": "code",
      "execution_count": 37,
      "metadata": {
        "id": "cen4faX0dFJP",
        "colab": {
          "base_uri": "https://localhost:8080/"
        },
        "outputId": "4f24a0c4-1964-4cd4-f351-c1f6befbb452"
      },
      "outputs": [
        {
          "output_type": "stream",
          "name": "stdout",
          "text": [
            "Epoch 1/100\n",
            "1875/1875 [==============================] - 87s 42ms/step - loss: 1.8055 - accuracy: 0.2236 - val_loss: 1.7002 - val_accuracy: 0.2619\n",
            "Epoch 2/100\n",
            "1875/1875 [==============================] - 77s 41ms/step - loss: 1.6813 - accuracy: 0.2586 - val_loss: 1.6642 - val_accuracy: 0.2697\n",
            "Epoch 3/100\n",
            "1875/1875 [==============================] - 77s 41ms/step - loss: 1.6691 - accuracy: 0.2636 - val_loss: 1.6400 - val_accuracy: 0.2886\n",
            "Epoch 4/100\n",
            "1875/1875 [==============================] - 77s 41ms/step - loss: 1.7313 - accuracy: 0.2566 - val_loss: 1.6381 - val_accuracy: 0.2787\n",
            "Epoch 5/100\n",
            "1875/1875 [==============================] - 78s 41ms/step - loss: 1.6591 - accuracy: 0.2662 - val_loss: 1.6526 - val_accuracy: 0.2835\n",
            "Epoch 6/100\n",
            "1875/1875 [==============================] - 77s 41ms/step - loss: 1.6243 - accuracy: 0.2770 - val_loss: 1.5897 - val_accuracy: 0.2998\n",
            "Epoch 7/100\n",
            "1875/1875 [==============================] - 77s 41ms/step - loss: 1.6233 - accuracy: 0.2814 - val_loss: 1.5821 - val_accuracy: 0.3087\n",
            "Epoch 8/100\n",
            "1875/1875 [==============================] - 78s 41ms/step - loss: 1.6253 - accuracy: 0.2863 - val_loss: 1.5921 - val_accuracy: 0.3102\n",
            "Epoch 9/100\n",
            "1875/1875 [==============================] - 77s 41ms/step - loss: 1.6288 - accuracy: 0.3024 - val_loss: 1.6570 - val_accuracy: 0.2955\n",
            "Epoch 10/100\n",
            "1875/1875 [==============================] - 76s 41ms/step - loss: 1.6018 - accuracy: 0.3040 - val_loss: 1.5414 - val_accuracy: 0.3453\n",
            "Epoch 11/100\n",
            "1875/1875 [==============================] - 79s 42ms/step - loss: 1.5638 - accuracy: 0.3269 - val_loss: 1.5325 - val_accuracy: 0.3530\n",
            "Epoch 12/100\n",
            "1875/1875 [==============================] - 76s 41ms/step - loss: 1.5361 - accuracy: 0.3415 - val_loss: 1.4788 - val_accuracy: 0.3805\n",
            "Epoch 13/100\n",
            "1875/1875 [==============================] - 76s 41ms/step - loss: 1.4850 - accuracy: 0.3642 - val_loss: 1.4446 - val_accuracy: 0.3898\n",
            "Epoch 14/100\n",
            "1875/1875 [==============================] - 76s 41ms/step - loss: 1.4962 - accuracy: 0.3667 - val_loss: 1.4192 - val_accuracy: 0.4130\n",
            "Epoch 15/100\n",
            "1875/1875 [==============================] - 76s 41ms/step - loss: 1.4729 - accuracy: 0.3845 - val_loss: 1.3983 - val_accuracy: 0.4247\n",
            "Epoch 16/100\n",
            "1875/1875 [==============================] - 79s 42ms/step - loss: 1.4669 - accuracy: 0.3829 - val_loss: 1.4153 - val_accuracy: 0.4054\n",
            "Epoch 17/100\n",
            "1875/1875 [==============================] - 76s 41ms/step - loss: 1.4340 - accuracy: 0.4042 - val_loss: 1.4718 - val_accuracy: 0.3892\n",
            "Epoch 18/100\n",
            "1875/1875 [==============================] - 76s 41ms/step - loss: 1.3975 - accuracy: 0.4261 - val_loss: 1.4127 - val_accuracy: 0.4023\n",
            "Epoch 19/100\n",
            "1875/1875 [==============================] - 76s 41ms/step - loss: 1.4011 - accuracy: 0.4226 - val_loss: 1.3678 - val_accuracy: 0.4393\n",
            "Epoch 20/100\n",
            "1875/1875 [==============================] - 76s 41ms/step - loss: 1.3658 - accuracy: 0.4378 - val_loss: 1.2752 - val_accuracy: 0.4841\n",
            "Epoch 21/100\n",
            "1875/1875 [==============================] - 76s 41ms/step - loss: 1.3893 - accuracy: 0.4223 - val_loss: 1.3402 - val_accuracy: 0.4446\n",
            "Epoch 22/100\n",
            "1875/1875 [==============================] - 76s 41ms/step - loss: 1.3245 - accuracy: 0.4560 - val_loss: 1.2596 - val_accuracy: 0.4840\n",
            "Epoch 23/100\n",
            "1875/1875 [==============================] - 76s 41ms/step - loss: 1.3094 - accuracy: 0.4671 - val_loss: 1.2652 - val_accuracy: 0.4865\n",
            "Epoch 24/100\n",
            "1875/1875 [==============================] - 76s 41ms/step - loss: 1.7513 - accuracy: 0.3331 - val_loss: 1.6916 - val_accuracy: 0.3365\n",
            "Epoch 25/100\n",
            "1875/1875 [==============================] - 76s 41ms/step - loss: 1.5418 - accuracy: 0.3706 - val_loss: 1.3848 - val_accuracy: 0.4373\n",
            "Epoch 26/100\n",
            "1875/1875 [==============================] - 77s 41ms/step - loss: 1.3802 - accuracy: 0.4249 - val_loss: 1.4345 - val_accuracy: 0.4093\n",
            "Epoch 27/100\n",
            "1875/1875 [==============================] - 77s 41ms/step - loss: 1.3391 - accuracy: 0.4523 - val_loss: 1.3042 - val_accuracy: 0.4581\n",
            "Epoch 28/100\n",
            "1875/1875 [==============================] - 79s 42ms/step - loss: 1.3571 - accuracy: 0.4440 - val_loss: 1.2780 - val_accuracy: 0.4788\n",
            "Epoch 29/100\n",
            "1875/1875 [==============================] - 76s 41ms/step - loss: 1.4013 - accuracy: 0.4396 - val_loss: 1.4320 - val_accuracy: 0.4203\n",
            "Epoch 30/100\n",
            "1875/1875 [==============================] - 76s 41ms/step - loss: 1.3721 - accuracy: 0.4486 - val_loss: 1.2513 - val_accuracy: 0.4959\n",
            "Epoch 31/100\n",
            "1875/1875 [==============================] - 77s 41ms/step - loss: 1.2473 - accuracy: 0.4905 - val_loss: 1.1594 - val_accuracy: 0.5273\n",
            "Epoch 32/100\n",
            "1875/1875 [==============================] - 79s 42ms/step - loss: 1.2161 - accuracy: 0.5023 - val_loss: 1.1548 - val_accuracy: 0.5305\n",
            "Epoch 33/100\n",
            "1875/1875 [==============================] - 77s 41ms/step - loss: 1.1727 - accuracy: 0.5191 - val_loss: 1.1471 - val_accuracy: 0.5272\n",
            "Epoch 34/100\n",
            "1875/1875 [==============================] - 77s 41ms/step - loss: 1.2240 - accuracy: 0.5024 - val_loss: 1.2706 - val_accuracy: 0.4788\n",
            "Epoch 35/100\n",
            "1875/1875 [==============================] - 77s 41ms/step - loss: 1.2366 - accuracy: 0.4933 - val_loss: 1.1783 - val_accuracy: 0.5215\n",
            "Epoch 36/100\n",
            "1875/1875 [==============================] - 77s 41ms/step - loss: 1.1749 - accuracy: 0.5183 - val_loss: 1.1189 - val_accuracy: 0.5393\n",
            "Epoch 37/100\n",
            "1875/1875 [==============================] - 77s 41ms/step - loss: 1.1407 - accuracy: 0.5283 - val_loss: 1.0651 - val_accuracy: 0.5597\n",
            "Epoch 38/100\n",
            "1875/1875 [==============================] - 76s 41ms/step - loss: 1.1044 - accuracy: 0.5405 - val_loss: 1.0727 - val_accuracy: 0.5479\n",
            "Epoch 39/100\n",
            "1875/1875 [==============================] - 76s 41ms/step - loss: 1.2134 - accuracy: 0.5028 - val_loss: 1.2811 - val_accuracy: 0.4800\n",
            "Epoch 40/100\n",
            "1875/1875 [==============================] - 78s 42ms/step - loss: 1.2158 - accuracy: 0.4995 - val_loss: 1.1588 - val_accuracy: 0.5224\n",
            "Epoch 41/100\n",
            "1875/1875 [==============================] - 77s 41ms/step - loss: 1.2331 - accuracy: 0.4957 - val_loss: 1.1980 - val_accuracy: 0.5010\n",
            "Epoch 42/100\n",
            "1875/1875 [==============================] - 77s 41ms/step - loss: 1.1557 - accuracy: 0.5242 - val_loss: 1.1024 - val_accuracy: 0.5392\n",
            "Epoch 43/100\n",
            "1875/1875 [==============================] - 78s 42ms/step - loss: 1.1092 - accuracy: 0.5420 - val_loss: 1.3545 - val_accuracy: 0.4426\n",
            "Epoch 44/100\n",
            "1875/1875 [==============================] - 79s 42ms/step - loss: 1.2465 - accuracy: 0.4897 - val_loss: 1.1213 - val_accuracy: 0.5393\n",
            "Epoch 45/100\n",
            "1875/1875 [==============================] - 77s 41ms/step - loss: 1.1027 - accuracy: 0.5426 - val_loss: 1.0689 - val_accuracy: 0.5591\n",
            "Epoch 46/100\n",
            "1875/1875 [==============================] - 77s 41ms/step - loss: 1.1065 - accuracy: 0.5423 - val_loss: 1.0566 - val_accuracy: 0.5595\n",
            "Epoch 47/100\n",
            "1875/1875 [==============================] - 79s 42ms/step - loss: 1.0782 - accuracy: 0.5500 - val_loss: 1.1370 - val_accuracy: 0.5342\n",
            "Epoch 48/100\n",
            "1875/1875 [==============================] - 77s 41ms/step - loss: 1.1520 - accuracy: 0.5302 - val_loss: 1.0471 - val_accuracy: 0.5655\n",
            "Epoch 49/100\n",
            "1875/1875 [==============================] - 77s 41ms/step - loss: 1.4443 - accuracy: 0.4281 - val_loss: 1.3491 - val_accuracy: 0.4613\n",
            "Epoch 50/100\n",
            "1875/1875 [==============================] - 77s 41ms/step - loss: 1.2232 - accuracy: 0.5009 - val_loss: 1.0778 - val_accuracy: 0.5581\n",
            "Epoch 51/100\n",
            "1875/1875 [==============================] - 77s 41ms/step - loss: 1.0808 - accuracy: 0.5527 - val_loss: 1.0256 - val_accuracy: 0.5715\n",
            "Epoch 52/100\n",
            "1875/1875 [==============================] - 77s 41ms/step - loss: 1.1382 - accuracy: 0.5323 - val_loss: 1.0521 - val_accuracy: 0.5632\n",
            "Epoch 53/100\n",
            "1875/1875 [==============================] - 79s 42ms/step - loss: 1.4396 - accuracy: 0.4273 - val_loss: 1.3918 - val_accuracy: 0.4350\n",
            "Epoch 54/100\n",
            "1875/1875 [==============================] - 77s 41ms/step - loss: 1.3135 - accuracy: 0.4606 - val_loss: 1.2337 - val_accuracy: 0.4924\n",
            "Epoch 55/100\n",
            "1875/1875 [==============================] - 77s 41ms/step - loss: 1.2201 - accuracy: 0.4972 - val_loss: 1.1535 - val_accuracy: 0.5289\n",
            "Epoch 56/100\n",
            "1875/1875 [==============================] - 80s 43ms/step - loss: 1.2015 - accuracy: 0.5069 - val_loss: 1.1501 - val_accuracy: 0.5271\n",
            "Epoch 57/100\n",
            "1875/1875 [==============================] - 77s 41ms/step - loss: 1.1372 - accuracy: 0.5305 - val_loss: 1.0903 - val_accuracy: 0.5498\n",
            "Epoch 58/100\n",
            "1875/1875 [==============================] - 77s 41ms/step - loss: 1.1069 - accuracy: 0.5414 - val_loss: 1.0931 - val_accuracy: 0.5400\n",
            "Epoch 59/100\n",
            "1875/1875 [==============================] - 77s 41ms/step - loss: 1.1190 - accuracy: 0.5376 - val_loss: 1.0793 - val_accuracy: 0.5571\n",
            "Epoch 60/100\n",
            "1875/1875 [==============================] - 79s 42ms/step - loss: 1.0776 - accuracy: 0.5535 - val_loss: 1.0490 - val_accuracy: 0.5725\n",
            "Epoch 61/100\n",
            "1875/1875 [==============================] - 77s 41ms/step - loss: 1.0462 - accuracy: 0.5639 - val_loss: 1.0263 - val_accuracy: 0.5671\n",
            "Epoch 62/100\n",
            "1875/1875 [==============================] - 77s 41ms/step - loss: 1.0766 - accuracy: 0.5545 - val_loss: 1.0416 - val_accuracy: 0.5679\n",
            "Epoch 63/100\n",
            "1875/1875 [==============================] - 77s 41ms/step - loss: 1.0256 - accuracy: 0.5708 - val_loss: 0.9907 - val_accuracy: 0.5825\n",
            "Epoch 64/100\n",
            "1875/1875 [==============================] - 79s 42ms/step - loss: 1.0091 - accuracy: 0.5803 - val_loss: 0.9818 - val_accuracy: 0.5921\n",
            "Epoch 65/100\n",
            "1875/1875 [==============================] - 77s 41ms/step - loss: 1.0000 - accuracy: 0.5814 - val_loss: 0.9761 - val_accuracy: 0.5883\n",
            "Epoch 66/100\n",
            "1875/1875 [==============================] - 77s 41ms/step - loss: 0.9883 - accuracy: 0.5865 - val_loss: 0.9687 - val_accuracy: 0.5872\n",
            "Epoch 67/100\n",
            "1875/1875 [==============================] - 77s 41ms/step - loss: 0.9787 - accuracy: 0.5893 - val_loss: 0.9790 - val_accuracy: 0.5950\n",
            "Epoch 68/100\n",
            "1875/1875 [==============================] - 77s 41ms/step - loss: 0.9653 - accuracy: 0.5969 - val_loss: 0.9497 - val_accuracy: 0.6045\n",
            "Epoch 69/100\n",
            "1875/1875 [==============================] - 77s 41ms/step - loss: 0.9579 - accuracy: 0.6001 - val_loss: 0.9291 - val_accuracy: 0.6104\n",
            "Epoch 70/100\n",
            "1875/1875 [==============================] - 77s 41ms/step - loss: 0.9585 - accuracy: 0.6019 - val_loss: 0.9600 - val_accuracy: 0.5937\n",
            "Epoch 71/100\n",
            "1875/1875 [==============================] - 77s 41ms/step - loss: 0.9424 - accuracy: 0.6087 - val_loss: 0.9222 - val_accuracy: 0.6153\n",
            "Epoch 72/100\n",
            "1875/1875 [==============================] - 77s 41ms/step - loss: 0.9315 - accuracy: 0.6116 - val_loss: 0.9099 - val_accuracy: 0.6216\n",
            "Epoch 73/100\n",
            "1875/1875 [==============================] - 77s 41ms/step - loss: 0.9270 - accuracy: 0.6154 - val_loss: 0.9030 - val_accuracy: 0.6281\n",
            "Epoch 74/100\n",
            "1875/1875 [==============================] - 77s 41ms/step - loss: 0.9696 - accuracy: 0.6019 - val_loss: 0.8925 - val_accuracy: 0.6341\n",
            "Epoch 75/100\n",
            "1875/1875 [==============================] - 78s 41ms/step - loss: 0.9074 - accuracy: 0.6237 - val_loss: 0.8620 - val_accuracy: 0.6441\n",
            "Epoch 76/100\n",
            "1875/1875 [==============================] - 78s 41ms/step - loss: 0.9014 - accuracy: 0.6254 - val_loss: 0.8667 - val_accuracy: 0.6431\n",
            "Epoch 77/100\n",
            "1875/1875 [==============================] - 78s 41ms/step - loss: 0.9014 - accuracy: 0.6274 - val_loss: 0.8589 - val_accuracy: 0.6466\n",
            "Epoch 78/100\n",
            "1875/1875 [==============================] - 77s 41ms/step - loss: 0.8880 - accuracy: 0.6330 - val_loss: 0.8810 - val_accuracy: 0.6344\n",
            "Epoch 79/100\n",
            "1875/1875 [==============================] - 77s 41ms/step - loss: 0.8834 - accuracy: 0.6357 - val_loss: 0.8612 - val_accuracy: 0.6437\n",
            "Epoch 80/100\n",
            "1875/1875 [==============================] - 77s 41ms/step - loss: 0.8799 - accuracy: 0.6390 - val_loss: 0.8517 - val_accuracy: 0.6427\n",
            "Epoch 81/100\n",
            "1875/1875 [==============================] - 77s 41ms/step - loss: 0.8675 - accuracy: 0.6433 - val_loss: 0.8327 - val_accuracy: 0.6582\n",
            "Epoch 82/100\n",
            "1875/1875 [==============================] - 77s 41ms/step - loss: 0.8584 - accuracy: 0.6457 - val_loss: 0.8722 - val_accuracy: 0.6373\n",
            "Epoch 83/100\n",
            "1875/1875 [==============================] - 77s 41ms/step - loss: 0.8486 - accuracy: 0.6493 - val_loss: 0.8075 - val_accuracy: 0.6640\n",
            "Epoch 84/100\n",
            "1875/1875 [==============================] - 77s 41ms/step - loss: 0.8417 - accuracy: 0.6534 - val_loss: 0.8404 - val_accuracy: 0.6505\n",
            "Epoch 85/100\n",
            "1875/1875 [==============================] - 77s 41ms/step - loss: 0.8363 - accuracy: 0.6555 - val_loss: 0.8164 - val_accuracy: 0.6621\n",
            "Epoch 86/100\n",
            "1875/1875 [==============================] - 77s 41ms/step - loss: 0.8361 - accuracy: 0.6566 - val_loss: 0.8337 - val_accuracy: 0.6606\n",
            "Epoch 87/100\n",
            "1875/1875 [==============================] - 77s 41ms/step - loss: 0.8193 - accuracy: 0.6624 - val_loss: 0.8017 - val_accuracy: 0.6682\n",
            "Epoch 88/100\n",
            "1875/1875 [==============================] - 77s 41ms/step - loss: 0.8161 - accuracy: 0.6637 - val_loss: 0.7991 - val_accuracy: 0.6658\n",
            "Epoch 89/100\n",
            "1875/1875 [==============================] - 77s 41ms/step - loss: 0.8085 - accuracy: 0.6656 - val_loss: 0.7856 - val_accuracy: 0.6707\n",
            "Epoch 90/100\n",
            "1875/1875 [==============================] - 77s 41ms/step - loss: 0.8855 - accuracy: 0.6402 - val_loss: 0.8428 - val_accuracy: 0.6529\n",
            "Epoch 91/100\n",
            "1875/1875 [==============================] - 77s 41ms/step - loss: 0.8102 - accuracy: 0.6681 - val_loss: 0.7831 - val_accuracy: 0.6728\n",
            "Epoch 92/100\n",
            "1875/1875 [==============================] - 77s 41ms/step - loss: 0.7930 - accuracy: 0.6728 - val_loss: 0.8085 - val_accuracy: 0.6717\n",
            "Epoch 93/100\n",
            "1875/1875 [==============================] - 77s 41ms/step - loss: 0.7861 - accuracy: 0.6756 - val_loss: 0.7760 - val_accuracy: 0.6791\n",
            "Epoch 94/100\n",
            "1875/1875 [==============================] - 77s 41ms/step - loss: 0.8044 - accuracy: 0.6708 - val_loss: 0.7965 - val_accuracy: 0.6636\n",
            "Epoch 95/100\n",
            "1875/1875 [==============================] - 77s 41ms/step - loss: 0.7802 - accuracy: 0.6787 - val_loss: 0.7762 - val_accuracy: 0.6784\n",
            "Epoch 96/100\n",
            "1875/1875 [==============================] - 77s 41ms/step - loss: 0.7768 - accuracy: 0.6801 - val_loss: 0.7479 - val_accuracy: 0.6917\n",
            "Epoch 97/100\n",
            "1875/1875 [==============================] - 77s 41ms/step - loss: 0.7704 - accuracy: 0.6823 - val_loss: 0.7551 - val_accuracy: 0.6850\n",
            "Epoch 98/100\n",
            "1875/1875 [==============================] - 77s 41ms/step - loss: 0.7823 - accuracy: 0.6798 - val_loss: 0.7403 - val_accuracy: 0.6899\n",
            "Epoch 99/100\n",
            "1875/1875 [==============================] - 77s 41ms/step - loss: 0.7573 - accuracy: 0.6876 - val_loss: 0.7330 - val_accuracy: 0.6895\n",
            "Epoch 100/100\n",
            "1875/1875 [==============================] - 77s 41ms/step - loss: 0.7530 - accuracy: 0.6895 - val_loss: 0.7324 - val_accuracy: 0.6965\n"
          ]
        }
      ],
      "source": [
        "history = model.fit(X_train, y_train, batch_size=64, epochs=100, validation_data=(X_val, y_val))\n",
        "#model.save('AllDataModel_E100_B64.h5')"
      ]
    },
    {
      "cell_type": "code",
      "execution_count": 38,
      "metadata": {
        "id": "R7QQeqVidKBR",
        "colab": {
          "base_uri": "https://localhost:8080/"
        },
        "outputId": "f31f7155-af7f-43e2-8050-e96c2be8add5"
      },
      "outputs": [
        {
          "output_type": "stream",
          "name": "stdout",
          "text": [
            "469/469 [==============================] - 7s 14ms/step - loss: 0.7362 - accuracy: 0.6912\n"
          ]
        }
      ],
      "source": [
        "test_acc = model.evaluate(X_test, y_test)"
      ]
    },
    {
      "cell_type": "code",
      "source": [
        "test_acc"
      ],
      "metadata": {
        "id": "6fuTmgGrUgGg",
        "colab": {
          "base_uri": "https://localhost:8080/"
        },
        "outputId": "b90112af-08d6-4e9c-c861-270bfb2efe2b"
      },
      "execution_count": 39,
      "outputs": [
        {
          "output_type": "execute_result",
          "data": {
            "text/plain": [
              "[0.7362192273139954, 0.6912000179290771]"
            ]
          },
          "metadata": {},
          "execution_count": 39
        }
      ]
    },
    {
      "cell_type": "code",
      "execution_count": 40,
      "metadata": {
        "id": "OHpifyqGdKn-",
        "colab": {
          "base_uri": "https://localhost:8080/"
        },
        "outputId": "08169d97-aa3c-4281-9206-07acc212ea80"
      },
      "outputs": [
        {
          "output_type": "stream",
          "name": "stdout",
          "text": [
            "469/469 [==============================] - 6s 12ms/step\n"
          ]
        }
      ],
      "source": [
        "y_test_prob = model.predict(X_test, verbose=1)"
      ]
    },
    {
      "cell_type": "code",
      "source": [
        "np.set_printoptions(suppress=True)\n",
        "y_test_prob"
      ],
      "metadata": {
        "id": "rRPswrrkmhp2",
        "colab": {
          "base_uri": "https://localhost:8080/"
        },
        "outputId": "8ac3e91b-c6e4-4eb0-e77b-5cefe1ffa5fa"
      },
      "execution_count": 41,
      "outputs": [
        {
          "output_type": "execute_result",
          "data": {
            "text/plain": [
              "array([[0.00003418, 0.00014386, 0.08829253, ..., 0.28896242, 0.1414246 ,\n",
              "        0.02557636],\n",
              "       [0.00019901, 0.00046636, 0.03905734, ..., 0.2698136 , 0.3415037 ,\n",
              "        0.13362662],\n",
              "       [0.00012548, 0.0000558 , 0.00339662, ..., 0.00019576, 0.1033039 ,\n",
              "        0.89178   ],\n",
              "       ...,\n",
              "       [0.00002648, 0.00008747, 0.01584418, ..., 0.38373205, 0.05582242,\n",
              "        0.00565437],\n",
              "       [0.9973793 , 0.00217502, 0.00000821, ..., 0.00002134, 0.00001316,\n",
              "        0.00039747],\n",
              "       [0.00004134, 0.00007315, 0.01934938, ..., 0.33614662, 0.07559627,\n",
              "        0.00855163]], dtype=float32)"
            ]
          },
          "metadata": {},
          "execution_count": 41
        }
      ]
    },
    {
      "cell_type": "code",
      "execution_count": 42,
      "metadata": {
        "id": "AfmdrBILdMwj"
      },
      "outputs": [],
      "source": [
        "y_test_pred = np.where(y_test_prob > 0.5, 1, 0)"
      ]
    },
    {
      "cell_type": "code",
      "execution_count": 43,
      "metadata": {
        "id": "8DoJy_p9dPzN"
      },
      "outputs": [],
      "source": [
        "from sklearn.metrics import multilabel_confusion_matrix"
      ]
    },
    {
      "cell_type": "code",
      "source": [
        "y_test"
      ],
      "metadata": {
        "id": "n1Us2yrfcGl-",
        "colab": {
          "base_uri": "https://localhost:8080/"
        },
        "outputId": "feb9825a-984d-4cca-b7c3-d2c707cb81e7"
      },
      "execution_count": 44,
      "outputs": [
        {
          "output_type": "execute_result",
          "data": {
            "text/plain": [
              "array([[0., 0., 0., ..., 0., 1., 0.],\n",
              "       [0., 0., 0., ..., 0., 1., 0.],\n",
              "       [0., 0., 0., ..., 0., 0., 1.],\n",
              "       ...,\n",
              "       [0., 0., 0., ..., 0., 0., 0.],\n",
              "       [1., 0., 0., ..., 0., 0., 0.],\n",
              "       [0., 0., 0., ..., 0., 0., 0.]])"
            ]
          },
          "metadata": {},
          "execution_count": 44
        }
      ]
    },
    {
      "cell_type": "code",
      "source": [
        "y_test.shape"
      ],
      "metadata": {
        "id": "VnmvTcvWbxr9",
        "colab": {
          "base_uri": "https://localhost:8080/"
        },
        "outputId": "024c6dcb-049f-402d-9cd4-b74c77f61596"
      },
      "execution_count": 45,
      "outputs": [
        {
          "output_type": "execute_result",
          "data": {
            "text/plain": [
              "(15000, 8)"
            ]
          },
          "metadata": {},
          "execution_count": 45
        }
      ]
    },
    {
      "cell_type": "code",
      "source": [
        "y_test_pred"
      ],
      "metadata": {
        "id": "nMBOgzrgcJBj",
        "colab": {
          "base_uri": "https://localhost:8080/"
        },
        "outputId": "83edf428-9103-40e3-c3f9-a033e682b5c2"
      },
      "execution_count": 46,
      "outputs": [
        {
          "output_type": "execute_result",
          "data": {
            "text/plain": [
              "array([[0, 0, 0, ..., 0, 0, 0],\n",
              "       [0, 0, 0, ..., 0, 0, 0],\n",
              "       [0, 0, 0, ..., 0, 0, 1],\n",
              "       ...,\n",
              "       [0, 0, 0, ..., 0, 0, 0],\n",
              "       [1, 0, 0, ..., 0, 0, 0],\n",
              "       [0, 0, 0, ..., 0, 0, 0]])"
            ]
          },
          "metadata": {},
          "execution_count": 46
        }
      ]
    },
    {
      "cell_type": "code",
      "source": [
        "y_test_pred.shape"
      ],
      "metadata": {
        "id": "SXKZof8Ye5uI",
        "colab": {
          "base_uri": "https://localhost:8080/"
        },
        "outputId": "f6c8a417-bc95-42a6-a58b-d3cd9b0db94f"
      },
      "execution_count": 47,
      "outputs": [
        {
          "output_type": "execute_result",
          "data": {
            "text/plain": [
              "(15000, 8)"
            ]
          },
          "metadata": {},
          "execution_count": 47
        }
      ]
    },
    {
      "cell_type": "code",
      "source": [
        "y_decoded_pred = tf.argmax(y_test_pred, axis = 1)"
      ],
      "metadata": {
        "id": "leDQwKOjgwwi"
      },
      "execution_count": 48,
      "outputs": []
    },
    {
      "cell_type": "code",
      "source": [
        "y_decoded = tf.argmax(y_test, axis = 1)"
      ],
      "metadata": {
        "id": "sAHRmtesif6g"
      },
      "execution_count": 49,
      "outputs": []
    },
    {
      "cell_type": "code",
      "source": [
        "y_decoded_pred"
      ],
      "metadata": {
        "id": "_lvFhrmPhprD",
        "colab": {
          "base_uri": "https://localhost:8080/"
        },
        "outputId": "983aea84-19b9-459d-bd34-bc7a2d4aaf86"
      },
      "execution_count": 50,
      "outputs": [
        {
          "output_type": "execute_result",
          "data": {
            "text/plain": [
              "<tf.Tensor: shape=(15000,), dtype=int64, numpy=array([0, 0, 7, ..., 0, 0, 0])>"
            ]
          },
          "metadata": {},
          "execution_count": 50
        }
      ]
    },
    {
      "cell_type": "code",
      "source": [
        "y_decoded"
      ],
      "metadata": {
        "id": "YV1FXgHviPwm",
        "colab": {
          "base_uri": "https://localhost:8080/"
        },
        "outputId": "6a9a9499-e481-4c25-f7db-1a36aeabee64"
      },
      "execution_count": 51,
      "outputs": [
        {
          "output_type": "execute_result",
          "data": {
            "text/plain": [
              "<tf.Tensor: shape=(15000,), dtype=int64, numpy=array([6, 6, 7, ..., 4, 0, 4])>"
            ]
          },
          "metadata": {},
          "execution_count": 51
        }
      ]
    },
    {
      "cell_type": "code",
      "source": [
        "y_test_pred = y_decoded_pred\n"
      ],
      "metadata": {
        "id": "6-6jFqzGh380"
      },
      "execution_count": 52,
      "outputs": []
    },
    {
      "cell_type": "code",
      "source": [
        "y_test = y_decoded"
      ],
      "metadata": {
        "id": "9pogVvdIiwss"
      },
      "execution_count": 53,
      "outputs": []
    },
    {
      "cell_type": "code",
      "source": [
        "y_test"
      ],
      "metadata": {
        "id": "oGt5aJetiKR6",
        "colab": {
          "base_uri": "https://localhost:8080/"
        },
        "outputId": "d854db69-b90e-43fa-8fbf-38a5721ac426"
      },
      "execution_count": 54,
      "outputs": [
        {
          "output_type": "execute_result",
          "data": {
            "text/plain": [
              "<tf.Tensor: shape=(15000,), dtype=int64, numpy=array([6, 6, 7, ..., 4, 0, 4])>"
            ]
          },
          "metadata": {},
          "execution_count": 54
        }
      ]
    },
    {
      "cell_type": "code",
      "source": [
        "y_test_pred"
      ],
      "metadata": {
        "id": "fLgDwAIfiyv2",
        "colab": {
          "base_uri": "https://localhost:8080/"
        },
        "outputId": "041b9599-d5e5-4639-88ae-3504b7d38d43"
      },
      "execution_count": 55,
      "outputs": [
        {
          "output_type": "execute_result",
          "data": {
            "text/plain": [
              "<tf.Tensor: shape=(15000,), dtype=int64, numpy=array([0, 0, 7, ..., 0, 0, 0])>"
            ]
          },
          "metadata": {},
          "execution_count": 55
        }
      ]
    },
    {
      "cell_type": "code",
      "execution_count": 56,
      "metadata": {
        "id": "fTCsPjW8dQaZ"
      },
      "outputs": [],
      "source": [
        "cfm=confusion_matrix(y_test, y_test_pred)"
      ]
    },
    {
      "cell_type": "code",
      "source": [
        "cfm"
      ],
      "metadata": {
        "id": "_67lPg6ic4cH",
        "colab": {
          "base_uri": "https://localhost:8080/"
        },
        "outputId": "8b379128-eab0-4de3-d333-696157786311"
      },
      "execution_count": 57,
      "outputs": [
        {
          "output_type": "execute_result",
          "data": {
            "text/plain": [
              "array([[1855,   27,    0,    0,    0,    0,    0,    0],\n",
              "       [ 104, 1839,   22,    0,    0,    0,    0,    5],\n",
              "       [ 455,   14, 1177,   95,    4,   18,   25,   54],\n",
              "       [ 659,    0,   50,  850,  145,  158,    4,    1],\n",
              "       [1001,    0,   12,  142,  525,   96,   69,   18],\n",
              "       [1040,    0,   11,  100,   56,  616,    6,    3],\n",
              "       [ 925,    0,   23,    4,   50,   21,  550,  267],\n",
              "       [ 481,    1,    6,    0,    3,    6,  239, 1168]])"
            ]
          },
          "metadata": {},
          "execution_count": 57
        }
      ]
    },
    {
      "cell_type": "code",
      "source": [
        " print(classification_report(y_test,y_test_pred))"
      ],
      "metadata": {
        "id": "XTqR_xnwRWCJ",
        "colab": {
          "base_uri": "https://localhost:8080/"
        },
        "outputId": "b9a89511-5c3a-4907-9513-3a63a74c798f"
      },
      "execution_count": 58,
      "outputs": [
        {
          "output_type": "stream",
          "name": "stdout",
          "text": [
            "              precision    recall  f1-score   support\n",
            "\n",
            "           0       0.28      0.99      0.44      1882\n",
            "           1       0.98      0.93      0.96      1970\n",
            "           2       0.90      0.64      0.75      1842\n",
            "           3       0.71      0.46      0.56      1867\n",
            "           4       0.67      0.28      0.40      1863\n",
            "           5       0.67      0.34      0.45      1832\n",
            "           6       0.62      0.30      0.40      1840\n",
            "           7       0.77      0.61      0.68      1904\n",
            "\n",
            "    accuracy                           0.57     15000\n",
            "   macro avg       0.70      0.57      0.58     15000\n",
            "weighted avg       0.70      0.57      0.58     15000\n",
            "\n"
          ]
        }
      ]
    },
    {
      "cell_type": "code",
      "execution_count": 59,
      "metadata": {
        "id": "te3fslrY9Eca",
        "colab": {
          "base_uri": "https://localhost:8080/",
          "height": 903
        },
        "outputId": "c27f16a6-d99c-478e-e3f4-87065a7d7c50"
      },
      "outputs": [
        {
          "output_type": "stream",
          "name": "stdout",
          "text": [
            "Confusion matrix, without normalization\n",
            "[[1855   27    0    0    0    0    0    0]\n",
            " [ 104 1839   22    0    0    0    0    5]\n",
            " [ 455   14 1177   95    4   18   25   54]\n",
            " [ 659    0   50  850  145  158    4    1]\n",
            " [1001    0   12  142  525   96   69   18]\n",
            " [1040    0   11  100   56  616    6    3]\n",
            " [ 925    0   23    4   50   21  550  267]\n",
            " [ 481    1    6    0    3    6  239 1168]]\n",
            "Normalized confusion matrix\n",
            "[[0.99 0.01 0.   0.   0.   0.   0.   0.  ]\n",
            " [0.05 0.93 0.01 0.   0.   0.   0.   0.  ]\n",
            " [0.25 0.01 0.64 0.05 0.   0.01 0.01 0.03]\n",
            " [0.35 0.   0.03 0.46 0.08 0.08 0.   0.  ]\n",
            " [0.54 0.   0.01 0.08 0.28 0.05 0.04 0.01]\n",
            " [0.57 0.   0.01 0.05 0.03 0.34 0.   0.  ]\n",
            " [0.5  0.   0.01 0.   0.03 0.01 0.3  0.15]\n",
            " [0.25 0.   0.   0.   0.   0.   0.13 0.61]]\n"
          ]
        },
        {
          "output_type": "display_data",
          "data": {
            "text/plain": [
              "<Figure size 432x288 with 2 Axes>"
            ],
            "image/png": "[encoded data removed]"
          },
          "metadata": {
            "needs_background": "light"
          }
        },
        {
          "output_type": "display_data",
          "data": {
            "text/plain": [
              "<Figure size 432x288 with 2 Axes>"
            ],
            "image/png": "[encoded data removed]"
          },
          "metadata": {
            "needs_background": "light"
          }
        }
      ],
      "source": [
        "import numpy as np\n",
        "import matplotlib.pyplot as plt\n",
        "\n",
        "from sklearn import svm, datasets\n",
        "from sklearn.model_selection import train_test_split\n",
        "from sklearn.metrics import confusion_matrix\n",
        "from sklearn.utils.multiclass import unique_labels\n",
        "\n",
        "class_names = np.array(['0', '1', '2', '3', '4', '5', '6', '7'])\n",
        "\n",
        "def plot_confusion_matrix(y_true, y_pred, classes,\n",
        "                          normalize=False,\n",
        "                          title=None,\n",
        "                          cmap=plt.cm.Blues):\n",
        "    \"\"\"\n",
        "    This function prints and plots the confusion matrix.\n",
        "    Normalization can be applied by setting `normalize=True`.\n",
        "    \"\"\"\n",
        "    if not title:\n",
        "        if normalize:\n",
        "            title = 'Normalized confusion matrix'\n",
        "        else:\n",
        "            title = 'Confusion matrix, without normalization'\n",
        "\n",
        "    # Compute confusion matrix\n",
        "    cm = confusion_matrix(y_true, y_pred)\n",
        "    # Only use the labels that appear in the data\n",
        "    classes = classes[unique_labels(y_true, y_pred)]\n",
        "    if normalize:\n",
        "        cm = cm.astype('float') / cm.sum(axis=1)[:, np.newaxis]\n",
        "        print(\"Normalized confusion matrix\")\n",
        "    else:\n",
        "        print('Confusion matrix, without normalization')\n",
        "\n",
        "    print(cm)\n",
        "\n",
        "    fig, ax = plt.subplots()\n",
        "    im = ax.imshow(cm, interpolation='nearest', cmap=cmap)\n",
        "    ax.figure.colorbar(im, ax=ax)\n",
        "    # We want to show all ticks...\n",
        "    ax.set(xticks=np.arange(cm.shape[1]),\n",
        "           yticks=np.arange(cm.shape[0]),\n",
        "           # ... and label them with the respective list entries\n",
        "           xticklabels=classes, yticklabels=classes,\n",
        "           title=title,\n",
        "           ylabel='True label',\n",
        "           xlabel='Predicted label')\n",
        "\n",
        "    # Rotate the tick labels and set their alignment.\n",
        "    plt.setp(ax.get_xticklabels(), rotation=45, ha=\"right\",\n",
        "             rotation_mode=\"anchor\")\n",
        "\n",
        "    # Loop over data dimensions and create text annotations.\n",
        "    fmt = '.2f' if normalize else 'd'\n",
        "    thresh = cm.max() / 2.\n",
        "    for i in range(cm.shape[0]):\n",
        "        for j in range(cm.shape[1]):\n",
        "            ax.text(j, i, format(cm[i, j], fmt),\n",
        "                    ha=\"center\", va=\"center\",\n",
        "                    color=\"white\" if cm[i, j] > thresh else \"black\")\n",
        "    fig.tight_layout()\n",
        "\n",
        "    return ax\n",
        "\n",
        "\n",
        "np.set_printoptions(precision=2)\n",
        "\n",
        "# Plot non-normalized confusion matrix\n",
        "plot_confusion_matrix(y_test, y_test_pred, classes=class_names,\n",
        "                      title='Confusion matrix, without normalization')\n",
        "\n",
        "# Plot normalized confusion matrix\n",
        "plot_confusion_matrix(y_test, y_test_pred, classes=class_names, normalize=True,\n",
        "                      title='Normalized confusion matrix')\n",
        "\n",
        "plt.show()"
      ]
    },
    {
      "cell_type": "code",
      "execution_count": 60,
      "metadata": {
        "id": "fhdLAhgPUnH3"
      },
      "outputs": [],
      "source": [
        "def plot_learningCurve(history, epoch):\n",
        "  # Plot training & validation accuracy values\n",
        "  epoch_range = range(1, epoch+1)\n",
        "  plt.plot(epoch_range, history.history['accuracy'])\n",
        "  plt.plot(epoch_range, history.history['val_accuracy'])\n",
        "  plt.title('Model accuracy')\n",
        "  plt.ylabel('Accuracy')\n",
        "  plt.xlabel('Epoch')\n",
        "  plt.legend(['Train', 'Val'], loc='upper left')\n",
        "  plt.show()\n",
        "\n",
        "  # Plot training & validation loss values\n",
        "  plt.plot(epoch_range, history.history['loss'])\n",
        "  plt.plot(epoch_range, history.history['val_loss'])\n",
        "  plt.title('Model loss')\n",
        "  plt.ylabel('Loss')\n",
        "  plt.xlabel('Epoch')\n",
        "  plt.legend(['Train', 'Val'], loc='upper left')\n",
        "  plt.show()"
      ]
    },
    {
      "cell_type": "code",
      "execution_count": 61,
      "metadata": {
        "id": "WlkQkWHgU5mL",
        "colab": {
          "base_uri": "https://localhost:8080/",
          "height": 581
        },
        "outputId": "b46ace76-fe13-4a0a-863d-e3b03bfbaf85"
      },
      "outputs": [
        {
          "output_type": "display_data",
          "data": {
            "text/plain": [
              "<Figure size 432x288 with 1 Axes>"
            ],
            "image/png": "[encoded data removed]"
          },
          "metadata": {
            "needs_background": "light"
          }
        },
        {
          "output_type": "display_data",
          "data": {
            "text/plain": [
              "<Figure size 432x288 with 1 Axes>"
            ],
            "image/png": "[encoded data removed]"
          },
          "metadata": {
            "needs_background": "light"
          }
        }
      ],
      "source": [
        "plot_learningCurve(history, 100)"
      ]
    }
  ],
  "metadata": {
    "colab": {
      "collapsed_sections": [
        "f857kfHqUk0-"
      ],
      "name": "Multi_Class_MD_LSTM_step_200_files_120.ipynb",
      "provenance": [],
      "include_colab_link": true
    },
    "kernelspec": {
      "display_name": "Python 3",
      "name": "python3"
    },
    "language_info": {
      "name": "python"
    },
    "accelerator": "GPU"
  },
  "nbformat": 4,
  "nbformat_minor": 0
}
