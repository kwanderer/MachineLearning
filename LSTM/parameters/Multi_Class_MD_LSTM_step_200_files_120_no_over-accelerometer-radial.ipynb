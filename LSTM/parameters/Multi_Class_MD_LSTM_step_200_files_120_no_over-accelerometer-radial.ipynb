{
  "cells": [
    {
      "cell_type": "markdown",
      "metadata": {
        "id": "view-in-github",
        "colab_type": "text"
      },
      "source": [
        "<a href=\"https://colab.research.google.com/github/kwanderer/MachineLearning/blob/main/Multi_Class_MD_LSTM_step_200_files_120_no_over-accelerometer-radial.ipynb\" target=\"_parent\"><img src=\"https://colab.research.google.com/assets/colab-badge.svg\" alt=\"Open In Colab\"/></a>"
      ]
    },
    {
      "cell_type": "markdown",
      "metadata": {
        "id": "f857kfHqUk0-"
      },
      "source": [
        "\n",
        "\n",
        "#Datu kopa"
      ]
    },
    {
      "cell_type": "markdown",
      "metadata": {
        "id": "nM9WE3QGUwVi"
      },
      "source": [
        "Datu kopas avots: https://www.kaggle.com/uysalserkan/fault-induction-motor-dataset"
      ]
    },
    {
      "cell_type": "markdown",
      "metadata": {
        "id": "_sN_h3qHHy6r"
      },
      "source": [
        "Darbā tiek izmantota indukcijas motora parametru datu bāze. Izmantotajā datu kopā ir dati, kas tika iegūti SpectraQuest aparatūras kļūdu simulatorā (Machinery Fault Simulator).\n",
        "\n",
        "Katra mērījumu secība tika ģenerēta ar frekvenci 50 kHz 5 sekunžu laikā, kopā 250 000 mērījumi.\n",
        "\n",
        "Dati ir apkopoti vairākos failos, dažādos darbības stāvokļos un to apjoms ir ļoti liels. Šajā darbā tika izmantota daļa(viena mērījumu secība) no motora normālas darbības datiem.\n"
      ]
    },
    {
      "cell_type": "markdown",
      "metadata": {
        "id": "KtFAOaHYHLPo"
      },
      "source": [
        "Dati ir apkopoti tabulā, kura satur 8 parametrus. Dati ir iedalīti sekojošās kolonas:\n",
        "\n",
        "**tachometer** – tahometra signāls, kas ļauj novērtēt rotācijas frekvenci\n",
        "\n",
        "**und-accelerometer-axial** - apakšā esošā gultņa akselerometrs (aksiālais virziens)\n",
        "\n",
        "**und-accelerometer-radial** – apakšā esošā gultņa akselerometrs (radiālais virziens)\n",
        "\n",
        "**und-accelerometer-tangential** - apakšā esošā gultņa akselerometrs (tangenciālais virziens)\n",
        "\n",
        "**over-accelerometer-axial** - pārkares gultņa akselerometrs (aksiālais virziens)\n",
        "\n",
        "**over-accelerometer-radial** – pārkares gultņa akselerometrs (radiālais  virziens)\n",
        "\n",
        "**over-accelerometer-tangential**  - pārkares gultņa akselerometrs (tangenciālais virziens)\n",
        "\n",
        "**microphone** – mikrofona vērtība\n"
      ]
    },
    {
      "cell_type": "markdown",
      "metadata": {
        "id": "XymoNLKMVFUC"
      },
      "source": [
        "#Datu ielasīšana un satura vizualizācija"
      ]
    },
    {
      "cell_type": "code",
      "execution_count": 54,
      "metadata": {
        "id": "_yqYZDeOFq5s"
      },
      "outputs": [],
      "source": [
        "import keras\n",
        "from keras.layers import LSTM, Dropout, Dense\n",
        "import tensorflow as tf\n",
        "import numpy as np\n",
        "import pandas as pd\n",
        "\n",
        "from sklearn import linear_model  #pip install sklearn - loti plasa masinapmacibas biblioteka\n",
        "from sklearn.linear_model import LinearRegression  \n",
        "import csv          #pip install csv - darbam ar CSV datu kopam\n",
        "import requests     #pip install requests  - vienkarsakam darbam ar tiessaistes CSV datu kopam tiessaistes\n",
        "\n",
        "import matplotlib\n",
        "import matplotlib.pyplot as plt\n",
        "\n",
        "import glob\n"
      ]
    },
    {
      "cell_type": "code",
      "execution_count": 55,
      "metadata": {
        "id": "wlRTBbM2eUcV",
        "colab": {
          "base_uri": "https://localhost:8080/"
        },
        "outputId": "814d783e-ab24-4f3d-c1cd-f58e5849fd8b"
      },
      "outputs": [
        {
          "output_type": "stream",
          "name": "stdout",
          "text": [
            "Drive already mounted at /content/gdrive; to attempt to forcibly remount, call drive.mount(\"/content/gdrive\", force_remount=True).\n"
          ]
        }
      ],
      "source": [
        "from google.colab import drive\n",
        "import os\n",
        "drive.mount('/content/gdrive')\n",
        "os.chdir(\"/content/gdrive/MyDrive/Colab Notebooks/data_multiclass/\")"
      ]
    },
    {
      "cell_type": "code",
      "execution_count": 56,
      "metadata": {
        "id": "zzz6fBl_SNom"
      },
      "outputs": [],
      "source": [
        "#extension = 'csv'\n",
        "#all_filenames = [i for i in glob.glob('*.{}'.format(extension))]"
      ]
    },
    {
      "cell_type": "code",
      "execution_count": 57,
      "metadata": {
        "id": "vagKFCkToBi0"
      },
      "outputs": [],
      "source": [
        "#combine all files in the list\n",
        "#combined_csv = pd.concat([pd.read_csv(f) for f in all_filenames ])\n",
        "#export to csv\n",
        "#combined_csv.to_csv( \"combined_multiclass_csv.csv\", index=False, encoding='utf-8-sig')"
      ]
    },
    {
      "cell_type": "code",
      "execution_count": 58,
      "metadata": {
        "id": "encEkbDhSfGI"
      },
      "outputs": [],
      "source": [
        "data = pd.read_csv(\"combined_multiclass_csv.csv\")"
      ]
    },
    {
      "cell_type": "code",
      "execution_count": 59,
      "metadata": {
        "id": "yz5Qe8ZWk1Zq",
        "colab": {
          "base_uri": "https://localhost:8080/"
        },
        "outputId": "6afb6615-c86d-45a0-fec6-c7d96e0bdd25"
      },
      "outputs": [
        {
          "output_type": "stream",
          "name": "stdout",
          "text": [
            "<class 'pandas.core.frame.DataFrame'>\n",
            "RangeIndex: 30000000 entries, 0 to 29999999\n",
            "Data columns (total 9 columns):\n",
            " #   Column                         Dtype  \n",
            "---  ------                         -----  \n",
            " 0   tachometer                     float64\n",
            " 1   und-accelerometer-axial        float64\n",
            " 2   und-accelerometer-radial       float64\n",
            " 3   und-accelerometer-tangential   float64\n",
            " 4   over-accelerometer-axial       float64\n",
            " 5   over-accelerometer-radial      float64\n",
            " 6   over-accelerometer-tangential  float64\n",
            " 7   microphone                     float64\n",
            " 8   Class                          int64  \n",
            "dtypes: float64(8), int64(1)\n",
            "memory usage: 2.0 GB\n"
          ]
        }
      ],
      "source": [
        "data.info()"
      ]
    },
    {
      "cell_type": "code",
      "execution_count": 60,
      "metadata": {
        "id": "WUW9ezX6a_st",
        "colab": {
          "base_uri": "https://localhost:8080/"
        },
        "outputId": "9bcd4838-a4b4-4e24-eaf5-f8d9f3281b35"
      },
      "outputs": [
        {
          "output_type": "execute_result",
          "data": {
            "text/plain": [
              "30000000"
            ]
          },
          "metadata": {},
          "execution_count": 60
        }
      ],
      "source": [
        "rec_count = len(data)\n",
        "rec_count"
      ]
    },
    {
      "cell_type": "markdown",
      "metadata": {
        "id": "6RVC1PZy88fC"
      },
      "source": [
        "# Datu dalīšana mazākos gabalos"
      ]
    },
    {
      "cell_type": "code",
      "execution_count": 61,
      "metadata": {
        "id": "DOvnCYkcbGaE"
      },
      "outputs": [],
      "source": [
        "sequence_length = 200"
      ]
    },
    {
      "cell_type": "code",
      "execution_count": 62,
      "metadata": {
        "id": "RG0o2L3zbTEx"
      },
      "outputs": [],
      "source": [
        "def generate_data(X, y, sequence_length = 200, step = 200):\n",
        "    X_local = []\n",
        "    y_local = []\n",
        "    for start in range(0, len(data) - sequence_length, step):\n",
        "        end = start + sequence_length\n",
        "        X_local.append(X[start:end])\n",
        "        y_local.append(y[end-1])\n",
        "    return np.array(X_local), np.array(y_local)\n",
        "\n",
        "#X_sequence, y = generate_data(data.loc[:, \"tachometer\":\"microphone\"].values, data.Class)\n",
        "#X_sequence, y = generate_data(data.loc[:, [\"tachometer\", \"und-accelerometer-axial\", \"und-accelerometer-radial\", \"und-accelerometer-tangential\", \"over-accelerometer-axial\", \"over-accelerometer-radial\", \"over-accelerometer-tangential\", \"microphone\"]].values, data.Class)\n",
        "#over-accelerometer-radial\n",
        "X_sequence, y = generate_data(data.loc[:, [\"tachometer\", \"und-accelerometer-axial\", \"und-accelerometer-radial\", \"und-accelerometer-tangential\", \"over-accelerometer-axial\", \"over-accelerometer-tangential\", \"microphone\"]].values, data.Class)"
      ]
    },
    {
      "cell_type": "code",
      "execution_count": 63,
      "metadata": {
        "id": "s0QxwK66cLVF",
        "colab": {
          "base_uri": "https://localhost:8080/"
        },
        "outputId": "6add24bb-a9d8-4f7f-b708-a7703ae51378"
      },
      "outputs": [
        {
          "output_type": "execute_result",
          "data": {
            "text/plain": [
              "((149999, 200, 7), (149999,))"
            ]
          },
          "metadata": {},
          "execution_count": 63
        }
      ],
      "source": [
        "X_sequence.shape, y.shape"
      ]
    },
    {
      "cell_type": "code",
      "source": [
        "unique, counts = np.unique(y, return_counts=True)"
      ],
      "metadata": {
        "id": "l8Lq455lV1JR"
      },
      "execution_count": 64,
      "outputs": []
    },
    {
      "cell_type": "code",
      "source": [
        "unique"
      ],
      "metadata": {
        "id": "t0BRO3nAWQxe",
        "colab": {
          "base_uri": "https://localhost:8080/"
        },
        "outputId": "895dade5-0245-42a4-f0f4-7848dab328f1"
      },
      "execution_count": 65,
      "outputs": [
        {
          "output_type": "execute_result",
          "data": {
            "text/plain": [
              "array([0, 1, 2, 3, 4, 5, 6, 7])"
            ]
          },
          "metadata": {},
          "execution_count": 65
        }
      ]
    },
    {
      "cell_type": "code",
      "source": [
        "counts"
      ],
      "metadata": {
        "id": "WWZ7QWR4WS_r",
        "colab": {
          "base_uri": "https://localhost:8080/"
        },
        "outputId": "81b086e4-85bc-416a-9ef2-2bed823d2cfb"
      },
      "execution_count": 66,
      "outputs": [
        {
          "output_type": "execute_result",
          "data": {
            "text/plain": [
              "array([18749, 18750, 18750, 18750, 18750, 18750, 18750, 18750])"
            ]
          },
          "metadata": {},
          "execution_count": 66
        }
      ]
    },
    {
      "cell_type": "code",
      "execution_count": 67,
      "metadata": {
        "id": "i7R1oo6Mj8wx"
      },
      "outputs": [],
      "source": [
        "data = 0"
      ]
    },
    {
      "cell_type": "code",
      "source": [
        "from sklearn.preprocessing import OneHotEncoder"
      ],
      "metadata": {
        "id": "lAk_JscRWmqY"
      },
      "execution_count": 68,
      "outputs": []
    },
    {
      "cell_type": "code",
      "source": [
        "label_encoder = OneHotEncoder(sparse=False)\n",
        "label_encoder.fit(y.reshape(-1,1))"
      ],
      "metadata": {
        "id": "14B9aYy0W0y6",
        "colab": {
          "base_uri": "https://localhost:8080/"
        },
        "outputId": "8461b1fd-b1b0-46ab-a947-440384fc0e4f"
      },
      "execution_count": 69,
      "outputs": [
        {
          "output_type": "execute_result",
          "data": {
            "text/plain": [
              "OneHotEncoder(sparse=False)"
            ]
          },
          "metadata": {},
          "execution_count": 69
        }
      ]
    },
    {
      "cell_type": "code",
      "source": [
        "y_encoded = label_encoder.transform(y.reshape(-1,1))"
      ],
      "metadata": {
        "id": "VjpWn96xXgPS"
      },
      "execution_count": 70,
      "outputs": []
    },
    {
      "cell_type": "code",
      "source": [
        "y_encoded[0:5]"
      ],
      "metadata": {
        "id": "VL6KMFo9XpBi",
        "colab": {
          "base_uri": "https://localhost:8080/"
        },
        "outputId": "8aa0a10b-5443-4401-fd80-ed8b52a6b7c4"
      },
      "execution_count": 71,
      "outputs": [
        {
          "output_type": "execute_result",
          "data": {
            "text/plain": [
              "array([[0., 0., 0., 0., 0., 0., 0., 1.],\n",
              "       [0., 0., 0., 0., 0., 0., 0., 1.],\n",
              "       [0., 0., 0., 0., 0., 0., 0., 1.],\n",
              "       [0., 0., 0., 0., 0., 0., 0., 1.],\n",
              "       [0., 0., 0., 0., 0., 0., 0., 1.]])"
            ]
          },
          "metadata": {},
          "execution_count": 71
        }
      ]
    },
    {
      "cell_type": "code",
      "source": [
        "y=y_encoded"
      ],
      "metadata": {
        "id": "5c8km253YKBl"
      },
      "execution_count": 72,
      "outputs": []
    },
    {
      "cell_type": "markdown",
      "metadata": {
        "id": "5BXSDoHa9UX_"
      },
      "source": [
        "# Random/Shuffle"
      ]
    },
    {
      "cell_type": "code",
      "execution_count": 73,
      "metadata": {
        "id": "ZcfE9idy-ckb"
      },
      "outputs": [],
      "source": [
        "shuffler = np.random.permutation(len(X_sequence))\n",
        "X_sequence_shuffled = X_sequence[shuffler]\n",
        "y_shuffled = y[shuffler]"
      ]
    },
    {
      "cell_type": "markdown",
      "metadata": {
        "id": "TfhRTTNcE2s8"
      },
      "source": [
        "# LSTM"
      ]
    },
    {
      "cell_type": "code",
      "execution_count": 74,
      "metadata": {
        "id": "ihrXMuVAEwlY"
      },
      "outputs": [],
      "source": [
        "import pandas as pd\n",
        "import sklearn.metrics as metrique\n",
        "from pandas import Series\n",
        "from sklearn.preprocessing import StandardScaler, MinMaxScaler\n",
        "from matplotlib import pyplot\n",
        "from sklearn.model_selection import train_test_split\n",
        "import numpy as np\n",
        "import tensorflow as tf\n",
        "import sys\n",
        "import numpy as np\n",
        "import pandas as pd\n",
        "import tensorflow as tf\n",
        "import matplotlib.pyplot as plt\n",
        "from sklearn.model_selection import train_test_split\n",
        "from sklearn import preprocessing\n",
        "from sklearn.preprocessing import StandardScaler\n",
        "from sklearn.metrics import classification_report\n",
        "import warnings\n",
        "warnings.filterwarnings('ignore')\n",
        "plt.style.use('ggplot')\n",
        "import seaborn as sns \n",
        "%matplotlib inline\n",
        "from keras.callbacks import EarlyStopping\n",
        "from keras.callbacks import ModelCheckpoint\n",
        "from sklearn.metrics import accuracy_score\n",
        "from sklearn.metrics import classification_report, confusion_matrix\n",
        "from keras.models import Sequential\n",
        "from keras.utils import np_utils\n",
        "from keras.layers import LSTM, Dense, Embedding, Dropout,Input, Layer, Concatenate, Permute, Dot, Multiply, Flatten\n",
        "from keras.layers import RepeatVector, Dense, Activation, Lambda\n",
        "from keras.models import Sequential\n",
        "from keras import backend as K, regularizers, Model, metrics\n",
        "from keras.backend import cast"
      ]
    },
    {
      "cell_type": "code",
      "execution_count": 75,
      "metadata": {
        "id": "PjKWKiA6aH3z"
      },
      "outputs": [],
      "source": [
        "#from tensorflow.keras import optimizers\n",
        "#sgd = optimizers.SGD(lr=0.0001, decay=1e-6, momentum=0.9, nesterov=True)\n",
        "#model = keras.Sequential()\n",
        "#model.add(LSTM(100, input_shape = (200, 8)))\n",
        "#model.add(Dropout(0.5))\n",
        "#model.add(Dense(1, activation=\"softmax\"))\n",
        "\n",
        "\n",
        "#model.compile(loss=\"categorical_crossentropy\"\n",
        "#              , metrics=[keras.metrics.binary_accuracy]\n",
        "#              , optimizer='sgd')\n",
        "\n",
        "#model.summary()"
      ]
    },
    {
      "cell_type": "code",
      "execution_count": 76,
      "metadata": {
        "id": "_2SaVmwSWJVB",
        "colab": {
          "base_uri": "https://localhost:8080/"
        },
        "outputId": "ee652bb8-93fc-4379-d9b7-e727eabbbacf"
      },
      "outputs": [
        {
          "output_type": "stream",
          "name": "stdout",
          "text": [
            "Model: \"sequential_1\"\n",
            "_________________________________________________________________\n",
            " Layer (type)                Output Shape              Param #   \n",
            "=================================================================\n",
            " lstm_1 (LSTM)               (None, 150)               94800     \n",
            "                                                                 \n",
            " dropout_1 (Dropout)         (None, 150)               0         \n",
            "                                                                 \n",
            " dense_1 (Dense)             (None, 8)                 1208      \n",
            "                                                                 \n",
            "=================================================================\n",
            "Total params: 96,008\n",
            "Trainable params: 96,008\n",
            "Non-trainable params: 0\n",
            "_________________________________________________________________\n"
          ]
        }
      ],
      "source": [
        "from tensorflow.keras import optimizers\n",
        "#sgd = optimizers.SGD(lr=0.0001, decay=1e-6, momentum=0.9, nesterov=True)\n",
        "optimizer = tf.keras.optimizers.Adam(lr=0.0001)\n",
        "model = keras.Sequential()\n",
        "model.add(LSTM(150, input_shape = (200, 7)))\n",
        "model.add(Dropout(0.5))#0.25\n",
        "model.add(Dense(8, activation=\"softmax\"))\n",
        "\n",
        "#model.compile(loss='mean_squared_error', optimizer=sgd)\n",
        "model.compile(loss=\"categorical_crossentropy\"\n",
        "              , metrics=['accuracy']\n",
        "              , optimizer=optimizer)\n",
        "\n",
        "model.summary()"
      ]
    },
    {
      "cell_type": "code",
      "execution_count": 77,
      "metadata": {
        "id": "tg8wrqsqc8UX"
      },
      "outputs": [],
      "source": [
        "training_size = int(len(X_sequence) * 0.8)\n",
        "val_size = int(len(X_sequence) * 0.9)"
      ]
    },
    {
      "cell_type": "code",
      "execution_count": 78,
      "metadata": {
        "id": "avIp3TEKc-qF"
      },
      "outputs": [],
      "source": [
        "X_train, y_train = X_sequence_shuffled[:training_size], y_shuffled[:training_size]\n",
        "X_val, y_val = X_sequence_shuffled[training_size:val_size], y_shuffled[training_size:val_size]\n",
        "X_test, y_test = X_sequence_shuffled[val_size:], y_shuffled[val_size:]"
      ]
    },
    {
      "cell_type": "code",
      "execution_count": 79,
      "metadata": {
        "id": "RABc_uKzkBUT"
      },
      "outputs": [],
      "source": [
        "#X_sequence = 0\n",
        "#y = 0"
      ]
    },
    {
      "cell_type": "code",
      "source": [
        "X_train.shape"
      ],
      "metadata": {
        "id": "Omv-ht1dhGxL",
        "colab": {
          "base_uri": "https://localhost:8080/"
        },
        "outputId": "307343a9-d6bc-4433-dd8e-0815107f6534"
      },
      "execution_count": 80,
      "outputs": [
        {
          "output_type": "execute_result",
          "data": {
            "text/plain": [
              "(119999, 200, 7)"
            ]
          },
          "metadata": {},
          "execution_count": 80
        }
      ]
    },
    {
      "cell_type": "code",
      "execution_count": 81,
      "metadata": {
        "id": "8aIhPJ-wLCwZ",
        "colab": {
          "base_uri": "https://localhost:8080/"
        },
        "outputId": "6fc0067b-ab3b-4849-bd42-b41119beb4e1"
      },
      "outputs": [
        {
          "output_type": "execute_result",
          "data": {
            "text/plain": [
              "array([[0., 0., 0., 0., 1., 0., 0., 0.],\n",
              "       [0., 0., 0., 1., 0., 0., 0., 0.],\n",
              "       [0., 0., 1., 0., 0., 0., 0., 0.],\n",
              "       [0., 0., 0., 0., 0., 1., 0., 0.],\n",
              "       [0., 0., 0., 0., 0., 0., 0., 1.],\n",
              "       [0., 0., 0., 0., 0., 0., 1., 0.],\n",
              "       [0., 0., 0., 1., 0., 0., 0., 0.],\n",
              "       [0., 0., 0., 0., 0., 0., 1., 0.],\n",
              "       [0., 1., 0., 0., 0., 0., 0., 0.],\n",
              "       [0., 0., 0., 0., 1., 0., 0., 0.]])"
            ]
          },
          "metadata": {},
          "execution_count": 81
        }
      ],
      "source": [
        "y_train[:10]"
      ]
    },
    {
      "cell_type": "code",
      "execution_count": 82,
      "metadata": {
        "id": "cen4faX0dFJP",
        "colab": {
          "base_uri": "https://localhost:8080/"
        },
        "outputId": "2ceb31a4-a8f8-4a17-bff7-fb100cb1e66b"
      },
      "outputs": [
        {
          "output_type": "stream",
          "name": "stdout",
          "text": [
            "Epoch 1/100\n",
            "1875/1875 [==============================] - 82s 43ms/step - loss: 1.7590 - accuracy: 0.2416 - val_loss: 1.6256 - val_accuracy: 0.3177\n",
            "Epoch 2/100\n",
            "1875/1875 [==============================] - 79s 42ms/step - loss: 1.7723 - accuracy: 0.2783 - val_loss: 1.6551 - val_accuracy: 0.3261\n",
            "Epoch 3/100\n",
            "1875/1875 [==============================] - 79s 42ms/step - loss: 1.7917 - accuracy: 0.2829 - val_loss: 1.6695 - val_accuracy: 0.3099\n",
            "Epoch 4/100\n",
            "1875/1875 [==============================] - 78s 42ms/step - loss: 1.6254 - accuracy: 0.3235 - val_loss: 1.5386 - val_accuracy: 0.3668\n",
            "Epoch 5/100\n",
            "1875/1875 [==============================] - 80s 43ms/step - loss: 1.5344 - accuracy: 0.3664 - val_loss: 1.5577 - val_accuracy: 0.3519\n",
            "Epoch 6/100\n",
            "1875/1875 [==============================] - 79s 42ms/step - loss: 1.5015 - accuracy: 0.3856 - val_loss: 1.4371 - val_accuracy: 0.4141\n",
            "Epoch 7/100\n",
            "1875/1875 [==============================] - 78s 42ms/step - loss: 1.4915 - accuracy: 0.3865 - val_loss: 1.4638 - val_accuracy: 0.4027\n",
            "Epoch 8/100\n",
            "1875/1875 [==============================] - 78s 42ms/step - loss: 1.5830 - accuracy: 0.3795 - val_loss: 1.4905 - val_accuracy: 0.4009\n",
            "Epoch 9/100\n",
            "1875/1875 [==============================] - 80s 43ms/step - loss: 1.4538 - accuracy: 0.4090 - val_loss: 1.3948 - val_accuracy: 0.4375\n",
            "Epoch 10/100\n",
            "1875/1875 [==============================] - 79s 42ms/step - loss: 1.4427 - accuracy: 0.4174 - val_loss: 1.5263 - val_accuracy: 0.3760\n",
            "Epoch 11/100\n",
            "1875/1875 [==============================] - 79s 42ms/step - loss: 1.4324 - accuracy: 0.4129 - val_loss: 1.3764 - val_accuracy: 0.4353\n",
            "Epoch 12/100\n",
            "1875/1875 [==============================] - 79s 42ms/step - loss: 1.4128 - accuracy: 0.4227 - val_loss: 1.3439 - val_accuracy: 0.4543\n",
            "Epoch 13/100\n",
            "1875/1875 [==============================] - 79s 42ms/step - loss: 1.3947 - accuracy: 0.4317 - val_loss: 1.3521 - val_accuracy: 0.4497\n",
            "Epoch 14/100\n",
            "1875/1875 [==============================] - 79s 42ms/step - loss: 1.3521 - accuracy: 0.4498 - val_loss: 1.3749 - val_accuracy: 0.4397\n",
            "Epoch 15/100\n",
            "1875/1875 [==============================] - 79s 42ms/step - loss: 1.3267 - accuracy: 0.4573 - val_loss: 1.3061 - val_accuracy: 0.4625\n",
            "Epoch 16/100\n",
            "1875/1875 [==============================] - 81s 43ms/step - loss: 1.4649 - accuracy: 0.4178 - val_loss: 1.3432 - val_accuracy: 0.4499\n",
            "Epoch 17/100\n",
            "1875/1875 [==============================] - 79s 42ms/step - loss: 1.4639 - accuracy: 0.4109 - val_loss: 1.4191 - val_accuracy: 0.4269\n",
            "Epoch 18/100\n",
            "1875/1875 [==============================] - 79s 42ms/step - loss: 1.3635 - accuracy: 0.4425 - val_loss: 1.3228 - val_accuracy: 0.4459\n",
            "Epoch 19/100\n",
            "1875/1875 [==============================] - 78s 42ms/step - loss: 1.3294 - accuracy: 0.4546 - val_loss: 1.2722 - val_accuracy: 0.4756\n",
            "Epoch 20/100\n",
            "1875/1875 [==============================] - 79s 42ms/step - loss: 1.3056 - accuracy: 0.4669 - val_loss: 1.3329 - val_accuracy: 0.4528\n",
            "Epoch 21/100\n",
            "1875/1875 [==============================] - 79s 42ms/step - loss: 1.3703 - accuracy: 0.4438 - val_loss: 1.2918 - val_accuracy: 0.4719\n",
            "Epoch 22/100\n",
            "1875/1875 [==============================] - 78s 42ms/step - loss: 1.2876 - accuracy: 0.4760 - val_loss: 1.2473 - val_accuracy: 0.4882\n",
            "Epoch 23/100\n",
            "1875/1875 [==============================] - 81s 43ms/step - loss: 1.2604 - accuracy: 0.4848 - val_loss: 1.2577 - val_accuracy: 0.4895\n",
            "Epoch 24/100\n",
            "1875/1875 [==============================] - 78s 42ms/step - loss: 1.2972 - accuracy: 0.4744 - val_loss: 1.2426 - val_accuracy: 0.4854\n",
            "Epoch 25/100\n",
            "1875/1875 [==============================] - 81s 43ms/step - loss: 1.2972 - accuracy: 0.4757 - val_loss: 1.2630 - val_accuracy: 0.4823\n",
            "Epoch 26/100\n",
            "1875/1875 [==============================] - 79s 42ms/step - loss: 1.2414 - accuracy: 0.4968 - val_loss: 1.2030 - val_accuracy: 0.5043\n",
            "Epoch 27/100\n",
            "1875/1875 [==============================] - 79s 42ms/step - loss: 1.2658 - accuracy: 0.4864 - val_loss: 1.2574 - val_accuracy: 0.4812\n",
            "Epoch 28/100\n",
            "1875/1875 [==============================] - 78s 42ms/step - loss: 1.2597 - accuracy: 0.4919 - val_loss: 1.2081 - val_accuracy: 0.5020\n",
            "Epoch 29/100\n",
            "1875/1875 [==============================] - 78s 42ms/step - loss: 1.2510 - accuracy: 0.4928 - val_loss: 1.2136 - val_accuracy: 0.4978\n",
            "Epoch 30/100\n",
            "1875/1875 [==============================] - 78s 42ms/step - loss: 1.2243 - accuracy: 0.5016 - val_loss: 1.1807 - val_accuracy: 0.5039\n",
            "Epoch 31/100\n",
            "1875/1875 [==============================] - 78s 42ms/step - loss: 1.1901 - accuracy: 0.5123 - val_loss: 1.1657 - val_accuracy: 0.5230\n",
            "Epoch 32/100\n",
            "1875/1875 [==============================] - 78s 42ms/step - loss: 1.1675 - accuracy: 0.5208 - val_loss: 1.2912 - val_accuracy: 0.4672\n",
            "Epoch 33/100\n",
            "1875/1875 [==============================] - 79s 42ms/step - loss: 1.4552 - accuracy: 0.4349 - val_loss: 1.3260 - val_accuracy: 0.4624\n",
            "Epoch 34/100\n",
            "1875/1875 [==============================] - 78s 42ms/step - loss: 1.2101 - accuracy: 0.5091 - val_loss: 1.1277 - val_accuracy: 0.5343\n",
            "Epoch 35/100\n",
            "1875/1875 [==============================] - 79s 42ms/step - loss: 1.2467 - accuracy: 0.4929 - val_loss: 1.1674 - val_accuracy: 0.5141\n",
            "Epoch 36/100\n",
            "1875/1875 [==============================] - 78s 42ms/step - loss: 1.2739 - accuracy: 0.4875 - val_loss: 1.2226 - val_accuracy: 0.5025\n",
            "Epoch 37/100\n",
            "1875/1875 [==============================] - 78s 42ms/step - loss: 1.2085 - accuracy: 0.5072 - val_loss: 1.1580 - val_accuracy: 0.5294\n",
            "Epoch 38/100\n",
            "1875/1875 [==============================] - 78s 42ms/step - loss: 1.1597 - accuracy: 0.5231 - val_loss: 1.1923 - val_accuracy: 0.5121\n",
            "Epoch 39/100\n",
            "1875/1875 [==============================] - 78s 42ms/step - loss: 1.1355 - accuracy: 0.5300 - val_loss: 1.1117 - val_accuracy: 0.5407\n",
            "Epoch 40/100\n",
            "1875/1875 [==============================] - 78s 42ms/step - loss: 1.1275 - accuracy: 0.5346 - val_loss: 1.0929 - val_accuracy: 0.5443\n",
            "Epoch 41/100\n",
            "1875/1875 [==============================] - 78s 42ms/step - loss: 1.2237 - accuracy: 0.5038 - val_loss: 1.2485 - val_accuracy: 0.4893\n",
            "Epoch 42/100\n",
            "1875/1875 [==============================] - 78s 42ms/step - loss: 1.1457 - accuracy: 0.5312 - val_loss: 1.0999 - val_accuracy: 0.5411\n",
            "Epoch 43/100\n",
            "1875/1875 [==============================] - 78s 42ms/step - loss: 1.1047 - accuracy: 0.5451 - val_loss: 1.1079 - val_accuracy: 0.5451\n",
            "Epoch 44/100\n",
            "1875/1875 [==============================] - 78s 42ms/step - loss: 1.1373 - accuracy: 0.5370 - val_loss: 1.5651 - val_accuracy: 0.4159\n",
            "Epoch 45/100\n",
            "1875/1875 [==============================] - 78s 42ms/step - loss: 1.2667 - accuracy: 0.4784 - val_loss: 1.1555 - val_accuracy: 0.5191\n",
            "Epoch 46/100\n",
            "1875/1875 [==============================] - 78s 42ms/step - loss: 1.1351 - accuracy: 0.5336 - val_loss: 1.0914 - val_accuracy: 0.5501\n",
            "Epoch 47/100\n",
            "1875/1875 [==============================] - 81s 43ms/step - loss: 1.1105 - accuracy: 0.5432 - val_loss: 1.0574 - val_accuracy: 0.5566\n",
            "Epoch 48/100\n",
            "1875/1875 [==============================] - 78s 42ms/step - loss: 1.0738 - accuracy: 0.5528 - val_loss: 1.0538 - val_accuracy: 0.5592\n",
            "Epoch 49/100\n",
            "1875/1875 [==============================] - 80s 43ms/step - loss: 1.1115 - accuracy: 0.5447 - val_loss: 1.0666 - val_accuracy: 0.5601\n",
            "Epoch 50/100\n",
            "1875/1875 [==============================] - 78s 42ms/step - loss: 1.0636 - accuracy: 0.5592 - val_loss: 1.1631 - val_accuracy: 0.5181\n",
            "Epoch 51/100\n",
            "1875/1875 [==============================] - 78s 42ms/step - loss: 1.1112 - accuracy: 0.5452 - val_loss: 1.0304 - val_accuracy: 0.5727\n",
            "Epoch 52/100\n",
            "1875/1875 [==============================] - 78s 42ms/step - loss: 1.0502 - accuracy: 0.5660 - val_loss: 1.0063 - val_accuracy: 0.5768\n",
            "Epoch 53/100\n",
            "1875/1875 [==============================] - 78s 42ms/step - loss: 1.0329 - accuracy: 0.5726 - val_loss: 1.0905 - val_accuracy: 0.5545\n",
            "Epoch 54/100\n",
            "1875/1875 [==============================] - 78s 42ms/step - loss: 1.0867 - accuracy: 0.5554 - val_loss: 1.0044 - val_accuracy: 0.5874\n",
            "Epoch 55/100\n",
            "1875/1875 [==============================] - 78s 42ms/step - loss: 1.0402 - accuracy: 0.5719 - val_loss: 1.0137 - val_accuracy: 0.5749\n",
            "Epoch 56/100\n",
            "1875/1875 [==============================] - 79s 42ms/step - loss: 1.0388 - accuracy: 0.5739 - val_loss: 0.9711 - val_accuracy: 0.5971\n",
            "Epoch 57/100\n",
            "1875/1875 [==============================] - 81s 43ms/step - loss: 1.0064 - accuracy: 0.5837 - val_loss: 0.9788 - val_accuracy: 0.5924\n",
            "Epoch 58/100\n",
            "1875/1875 [==============================] - 78s 42ms/step - loss: 0.9857 - accuracy: 0.5916 - val_loss: 0.9633 - val_accuracy: 0.5939\n",
            "Epoch 59/100\n",
            "1875/1875 [==============================] - 81s 43ms/step - loss: 0.9848 - accuracy: 0.5919 - val_loss: 0.9581 - val_accuracy: 0.6015\n",
            "Epoch 60/100\n",
            "1875/1875 [==============================] - 79s 42ms/step - loss: 0.9615 - accuracy: 0.6006 - val_loss: 0.9326 - val_accuracy: 0.6125\n",
            "Epoch 61/100\n",
            "1875/1875 [==============================] - 79s 42ms/step - loss: 0.9529 - accuracy: 0.6040 - val_loss: 0.9168 - val_accuracy: 0.6192\n",
            "Epoch 62/100\n",
            "1875/1875 [==============================] - 79s 42ms/step - loss: 0.9413 - accuracy: 0.6093 - val_loss: 0.9267 - val_accuracy: 0.6119\n",
            "Epoch 63/100\n",
            "1875/1875 [==============================] - 79s 42ms/step - loss: 0.9304 - accuracy: 0.6116 - val_loss: 0.9088 - val_accuracy: 0.6254\n",
            "Epoch 64/100\n",
            "1875/1875 [==============================] - 79s 42ms/step - loss: 0.9308 - accuracy: 0.6134 - val_loss: 0.9296 - val_accuracy: 0.6165\n",
            "Epoch 65/100\n",
            "1875/1875 [==============================] - 81s 43ms/step - loss: 0.9120 - accuracy: 0.6204 - val_loss: 0.8927 - val_accuracy: 0.6286\n",
            "Epoch 66/100\n",
            "1875/1875 [==============================] - 79s 42ms/step - loss: 0.8980 - accuracy: 0.6263 - val_loss: 0.8926 - val_accuracy: 0.6285\n",
            "Epoch 67/100\n",
            "1875/1875 [==============================] - 79s 42ms/step - loss: 0.8958 - accuracy: 0.6279 - val_loss: 0.8747 - val_accuracy: 0.6371\n",
            "Epoch 68/100\n",
            "1875/1875 [==============================] - 79s 42ms/step - loss: 0.8858 - accuracy: 0.6326 - val_loss: 0.8648 - val_accuracy: 0.6412\n",
            "Epoch 69/100\n",
            "1875/1875 [==============================] - 79s 42ms/step - loss: 0.8772 - accuracy: 0.6378 - val_loss: 0.9081 - val_accuracy: 0.6199\n",
            "Epoch 70/100\n",
            "1875/1875 [==============================] - 79s 42ms/step - loss: 0.8687 - accuracy: 0.6418 - val_loss: 0.8313 - val_accuracy: 0.6549\n",
            "Epoch 71/100\n",
            "1875/1875 [==============================] - 79s 42ms/step - loss: 0.8533 - accuracy: 0.6485 - val_loss: 0.8478 - val_accuracy: 0.6454\n",
            "Epoch 72/100\n",
            "1875/1875 [==============================] - 79s 42ms/step - loss: 0.8488 - accuracy: 0.6504 - val_loss: 0.8227 - val_accuracy: 0.6582\n",
            "Epoch 73/100\n",
            "1875/1875 [==============================] - 79s 42ms/step - loss: 0.8380 - accuracy: 0.6537 - val_loss: 0.8107 - val_accuracy: 0.6621\n",
            "Epoch 74/100\n",
            "1875/1875 [==============================] - 79s 42ms/step - loss: 0.8278 - accuracy: 0.6598 - val_loss: 0.8041 - val_accuracy: 0.6671\n",
            "Epoch 75/100\n",
            "1875/1875 [==============================] - 79s 42ms/step - loss: 0.8171 - accuracy: 0.6654 - val_loss: 0.8170 - val_accuracy: 0.6685\n",
            "Epoch 76/100\n",
            "1875/1875 [==============================] - 79s 42ms/step - loss: 0.8068 - accuracy: 0.6711 - val_loss: 0.7789 - val_accuracy: 0.6785\n",
            "Epoch 77/100\n",
            "1875/1875 [==============================] - 79s 42ms/step - loss: 0.7994 - accuracy: 0.6730 - val_loss: 0.8278 - val_accuracy: 0.6530\n",
            "Epoch 78/100\n",
            "1875/1875 [==============================] - 79s 42ms/step - loss: 0.7908 - accuracy: 0.6777 - val_loss: 0.7985 - val_accuracy: 0.6687\n",
            "Epoch 79/100\n",
            "1875/1875 [==============================] - 79s 42ms/step - loss: 0.7858 - accuracy: 0.6800 - val_loss: 0.7645 - val_accuracy: 0.6852\n",
            "Epoch 80/100\n",
            "1875/1875 [==============================] - 79s 42ms/step - loss: 0.7705 - accuracy: 0.6858 - val_loss: 0.7549 - val_accuracy: 0.6873\n",
            "Epoch 81/100\n",
            "1875/1875 [==============================] - 81s 43ms/step - loss: 0.7654 - accuracy: 0.6883 - val_loss: 0.7466 - val_accuracy: 0.6932\n",
            "Epoch 82/100\n",
            "1875/1875 [==============================] - 79s 42ms/step - loss: 0.7589 - accuracy: 0.6909 - val_loss: 0.7283 - val_accuracy: 0.6986\n",
            "Epoch 83/100\n",
            "1875/1875 [==============================] - 79s 42ms/step - loss: 0.7432 - accuracy: 0.6976 - val_loss: 0.7333 - val_accuracy: 0.7011\n",
            "Epoch 84/100\n",
            "1875/1875 [==============================] - 79s 42ms/step - loss: 0.7333 - accuracy: 0.7027 - val_loss: 0.7042 - val_accuracy: 0.7103\n",
            "Epoch 85/100\n",
            "1875/1875 [==============================] - 79s 42ms/step - loss: 0.7239 - accuracy: 0.7061 - val_loss: 0.7001 - val_accuracy: 0.7165\n",
            "Epoch 86/100\n",
            "1875/1875 [==============================] - 81s 43ms/step - loss: 0.7220 - accuracy: 0.7085 - val_loss: 0.6999 - val_accuracy: 0.7117\n",
            "Epoch 87/100\n",
            "1875/1875 [==============================] - 79s 42ms/step - loss: 0.7052 - accuracy: 0.7146 - val_loss: 0.7116 - val_accuracy: 0.7137\n",
            "Epoch 88/100\n",
            "1875/1875 [==============================] - 78s 42ms/step - loss: 0.6920 - accuracy: 0.7212 - val_loss: 0.6973 - val_accuracy: 0.7143\n",
            "Epoch 89/100\n",
            "1875/1875 [==============================] - 79s 42ms/step - loss: 0.6842 - accuracy: 0.7242 - val_loss: 0.6680 - val_accuracy: 0.7285\n",
            "Epoch 90/100\n",
            "1875/1875 [==============================] - 81s 43ms/step - loss: 0.6736 - accuracy: 0.7291 - val_loss: 0.6570 - val_accuracy: 0.7351\n",
            "Epoch 91/100\n",
            "1875/1875 [==============================] - 81s 43ms/step - loss: 0.6693 - accuracy: 0.7314 - val_loss: 0.6336 - val_accuracy: 0.7468\n",
            "Epoch 92/100\n",
            "1875/1875 [==============================] - 79s 42ms/step - loss: 0.6493 - accuracy: 0.7390 - val_loss: 0.6379 - val_accuracy: 0.7438\n",
            "Epoch 93/100\n",
            "1875/1875 [==============================] - 79s 42ms/step - loss: 0.6434 - accuracy: 0.7424 - val_loss: 0.6295 - val_accuracy: 0.7463\n",
            "Epoch 94/100\n",
            "1875/1875 [==============================] - 79s 42ms/step - loss: 0.6359 - accuracy: 0.7455 - val_loss: 0.6409 - val_accuracy: 0.7403\n",
            "Epoch 95/100\n",
            "1875/1875 [==============================] - 81s 43ms/step - loss: 0.6237 - accuracy: 0.7521 - val_loss: 0.6308 - val_accuracy: 0.7400\n",
            "Epoch 96/100\n",
            "1875/1875 [==============================] - 79s 42ms/step - loss: 0.6170 - accuracy: 0.7553 - val_loss: 0.6691 - val_accuracy: 0.7296\n",
            "Epoch 97/100\n",
            "1875/1875 [==============================] - 79s 42ms/step - loss: 0.6066 - accuracy: 0.7599 - val_loss: 0.6155 - val_accuracy: 0.7527\n",
            "Epoch 98/100\n",
            "1875/1875 [==============================] - 81s 43ms/step - loss: 0.5989 - accuracy: 0.7620 - val_loss: 0.5843 - val_accuracy: 0.7715\n",
            "Epoch 99/100\n",
            "1875/1875 [==============================] - 78s 42ms/step - loss: 0.5901 - accuracy: 0.7652 - val_loss: 0.6158 - val_accuracy: 0.7557\n",
            "Epoch 100/100\n",
            "1875/1875 [==============================] - 81s 43ms/step - loss: 0.5843 - accuracy: 0.7685 - val_loss: 0.5575 - val_accuracy: 0.7775\n"
          ]
        }
      ],
      "source": [
        "history = model.fit(X_train, y_train, batch_size=64, epochs=100, validation_data=(X_val, y_val))\n",
        "#model.save('AllDataModel_E100_B64.h5')"
      ]
    },
    {
      "cell_type": "code",
      "execution_count": 83,
      "metadata": {
        "id": "R7QQeqVidKBR",
        "colab": {
          "base_uri": "https://localhost:8080/"
        },
        "outputId": "9a885a7b-474d-48d6-b94f-f5a1cd0c6274"
      },
      "outputs": [
        {
          "output_type": "stream",
          "name": "stdout",
          "text": [
            "469/469 [==============================] - 8s 16ms/step - loss: 0.5583 - accuracy: 0.7789\n"
          ]
        }
      ],
      "source": [
        "test_acc = model.evaluate(X_test, y_test)"
      ]
    },
    {
      "cell_type": "code",
      "source": [
        "test_acc"
      ],
      "metadata": {
        "id": "6fuTmgGrUgGg",
        "colab": {
          "base_uri": "https://localhost:8080/"
        },
        "outputId": "d0938449-e6fb-4b70-974b-4ac218639801"
      },
      "execution_count": 84,
      "outputs": [
        {
          "output_type": "execute_result",
          "data": {
            "text/plain": [
              "[0.5583322048187256, 0.7789333462715149]"
            ]
          },
          "metadata": {},
          "execution_count": 84
        }
      ]
    },
    {
      "cell_type": "code",
      "execution_count": 85,
      "metadata": {
        "id": "OHpifyqGdKn-",
        "colab": {
          "base_uri": "https://localhost:8080/"
        },
        "outputId": "03756434-e96f-45f0-edc1-ba43ef1e76e0"
      },
      "outputs": [
        {
          "output_type": "stream",
          "name": "stdout",
          "text": [
            "469/469 [==============================] - 6s 12ms/step\n"
          ]
        }
      ],
      "source": [
        "y_test_prob = model.predict(X_test, verbose=1)"
      ]
    },
    {
      "cell_type": "code",
      "source": [
        "np.set_printoptions(suppress=True)\n",
        "y_test_prob"
      ],
      "metadata": {
        "id": "rRPswrrkmhp2",
        "colab": {
          "base_uri": "https://localhost:8080/"
        },
        "outputId": "424b4f8b-6c3e-4b7d-aec7-ed852e566509"
      },
      "execution_count": 86,
      "outputs": [
        {
          "output_type": "execute_result",
          "data": {
            "text/plain": [
              "array([[0.  , 0.  , 0.07, ..., 0.15, 0.21, 0.03],\n",
              "       [1.  , 0.  , 0.  , ..., 0.  , 0.  , 0.  ],\n",
              "       [0.  , 0.  , 0.02, ..., 0.72, 0.13, 0.03],\n",
              "       ...,\n",
              "       [0.  , 0.  , 0.  , ..., 0.01, 0.  , 0.  ],\n",
              "       [0.  , 0.  , 0.01, ..., 0.18, 0.37, 0.  ],\n",
              "       [0.  , 0.  , 0.07, ..., 0.09, 0.  , 0.  ]], dtype=float32)"
            ]
          },
          "metadata": {},
          "execution_count": 86
        }
      ]
    },
    {
      "cell_type": "code",
      "execution_count": 87,
      "metadata": {
        "id": "AfmdrBILdMwj"
      },
      "outputs": [],
      "source": [
        "y_test_pred = np.where(y_test_prob > 0.5, 1, 0)"
      ]
    },
    {
      "cell_type": "code",
      "execution_count": 88,
      "metadata": {
        "id": "8DoJy_p9dPzN"
      },
      "outputs": [],
      "source": [
        "from sklearn.metrics import multilabel_confusion_matrix"
      ]
    },
    {
      "cell_type": "code",
      "source": [
        "y_test"
      ],
      "metadata": {
        "id": "n1Us2yrfcGl-",
        "colab": {
          "base_uri": "https://localhost:8080/"
        },
        "outputId": "2c2c6c7f-60b3-4ffd-e1cb-e20c4abb36ed"
      },
      "execution_count": 89,
      "outputs": [
        {
          "output_type": "execute_result",
          "data": {
            "text/plain": [
              "array([[0., 0., 0., ..., 0., 0., 0.],\n",
              "       [1., 0., 0., ..., 0., 0., 0.],\n",
              "       [0., 0., 0., ..., 1., 0., 0.],\n",
              "       ...,\n",
              "       [0., 0., 0., ..., 0., 0., 0.],\n",
              "       [0., 0., 0., ..., 0., 0., 0.],\n",
              "       [0., 0., 0., ..., 0., 0., 0.]])"
            ]
          },
          "metadata": {},
          "execution_count": 89
        }
      ]
    },
    {
      "cell_type": "code",
      "source": [
        "y_test.shape"
      ],
      "metadata": {
        "id": "VnmvTcvWbxr9",
        "colab": {
          "base_uri": "https://localhost:8080/"
        },
        "outputId": "f7500f78-f6eb-49e7-cb1e-aa28d2c4d5d0"
      },
      "execution_count": 90,
      "outputs": [
        {
          "output_type": "execute_result",
          "data": {
            "text/plain": [
              "(15000, 8)"
            ]
          },
          "metadata": {},
          "execution_count": 90
        }
      ]
    },
    {
      "cell_type": "code",
      "source": [
        "y_test_pred"
      ],
      "metadata": {
        "id": "nMBOgzrgcJBj",
        "colab": {
          "base_uri": "https://localhost:8080/"
        },
        "outputId": "1e117073-063f-4a20-93a6-90e099219aaf"
      },
      "execution_count": 91,
      "outputs": [
        {
          "output_type": "execute_result",
          "data": {
            "text/plain": [
              "array([[0, 0, 0, ..., 0, 0, 0],\n",
              "       [1, 0, 0, ..., 0, 0, 0],\n",
              "       [0, 0, 0, ..., 1, 0, 0],\n",
              "       ...,\n",
              "       [0, 0, 0, ..., 0, 0, 0],\n",
              "       [0, 0, 0, ..., 0, 0, 0],\n",
              "       [0, 0, 0, ..., 0, 0, 0]])"
            ]
          },
          "metadata": {},
          "execution_count": 91
        }
      ]
    },
    {
      "cell_type": "code",
      "source": [
        "y_test_pred.shape"
      ],
      "metadata": {
        "id": "SXKZof8Ye5uI",
        "colab": {
          "base_uri": "https://localhost:8080/"
        },
        "outputId": "33873297-9da0-4a42-f678-8c1dc0a402ff"
      },
      "execution_count": 92,
      "outputs": [
        {
          "output_type": "execute_result",
          "data": {
            "text/plain": [
              "(15000, 8)"
            ]
          },
          "metadata": {},
          "execution_count": 92
        }
      ]
    },
    {
      "cell_type": "code",
      "source": [
        "y_decoded_pred = tf.argmax(y_test_pred, axis = 1)"
      ],
      "metadata": {
        "id": "leDQwKOjgwwi"
      },
      "execution_count": 93,
      "outputs": []
    },
    {
      "cell_type": "code",
      "source": [
        "y_decoded = tf.argmax(y_test, axis = 1)"
      ],
      "metadata": {
        "id": "sAHRmtesif6g"
      },
      "execution_count": 94,
      "outputs": []
    },
    {
      "cell_type": "code",
      "source": [
        "y_decoded_pred"
      ],
      "metadata": {
        "id": "_lvFhrmPhprD",
        "colab": {
          "base_uri": "https://localhost:8080/"
        },
        "outputId": "396b26ea-ca06-4454-b897-70547e51fad8"
      },
      "execution_count": 95,
      "outputs": [
        {
          "output_type": "execute_result",
          "data": {
            "text/plain": [
              "<tf.Tensor: shape=(15000,), dtype=int64, numpy=array([0, 0, 5, ..., 4, 0, 3])>"
            ]
          },
          "metadata": {},
          "execution_count": 95
        }
      ]
    },
    {
      "cell_type": "code",
      "source": [
        "y_decoded"
      ],
      "metadata": {
        "id": "YV1FXgHviPwm",
        "colab": {
          "base_uri": "https://localhost:8080/"
        },
        "outputId": "f8422f2d-4dfe-4e61-f29f-d408cd71a38d"
      },
      "execution_count": 96,
      "outputs": [
        {
          "output_type": "execute_result",
          "data": {
            "text/plain": [
              "<tf.Tensor: shape=(15000,), dtype=int64, numpy=array([4, 0, 5, ..., 4, 4, 3])>"
            ]
          },
          "metadata": {},
          "execution_count": 96
        }
      ]
    },
    {
      "cell_type": "code",
      "source": [
        "y_test_pred = y_decoded_pred\n"
      ],
      "metadata": {
        "id": "6-6jFqzGh380"
      },
      "execution_count": 97,
      "outputs": []
    },
    {
      "cell_type": "code",
      "source": [
        "y_test = y_decoded"
      ],
      "metadata": {
        "id": "9pogVvdIiwss"
      },
      "execution_count": 98,
      "outputs": []
    },
    {
      "cell_type": "code",
      "source": [
        "y_test"
      ],
      "metadata": {
        "id": "oGt5aJetiKR6",
        "colab": {
          "base_uri": "https://localhost:8080/"
        },
        "outputId": "5858625c-3d59-4109-a4a0-a7400550ef6c"
      },
      "execution_count": 99,
      "outputs": [
        {
          "output_type": "execute_result",
          "data": {
            "text/plain": [
              "<tf.Tensor: shape=(15000,), dtype=int64, numpy=array([4, 0, 5, ..., 4, 4, 3])>"
            ]
          },
          "metadata": {},
          "execution_count": 99
        }
      ]
    },
    {
      "cell_type": "code",
      "source": [
        "y_test_pred"
      ],
      "metadata": {
        "id": "fLgDwAIfiyv2",
        "colab": {
          "base_uri": "https://localhost:8080/"
        },
        "outputId": "dc041434-9beb-46ca-b549-9428cbab9beb"
      },
      "execution_count": 100,
      "outputs": [
        {
          "output_type": "execute_result",
          "data": {
            "text/plain": [
              "<tf.Tensor: shape=(15000,), dtype=int64, numpy=array([0, 0, 5, ..., 4, 0, 3])>"
            ]
          },
          "metadata": {},
          "execution_count": 100
        }
      ]
    },
    {
      "cell_type": "code",
      "execution_count": 101,
      "metadata": {
        "id": "fTCsPjW8dQaZ"
      },
      "outputs": [],
      "source": [
        "cfm=confusion_matrix(y_test, y_test_pred)"
      ]
    },
    {
      "cell_type": "code",
      "source": [
        "cfm"
      ],
      "metadata": {
        "id": "_67lPg6ic4cH",
        "colab": {
          "base_uri": "https://localhost:8080/"
        },
        "outputId": "ba56a679-c2a8-4593-803a-09b48db1dbb3"
      },
      "execution_count": 102,
      "outputs": [
        {
          "output_type": "execute_result",
          "data": {
            "text/plain": [
              "array([[1876,    7,    1,    0,    0,    0,    1,    8],\n",
              "       [  62, 1761,   29,    0,    0,    0,    0,   11],\n",
              "       [ 407,   23, 1159,  146,   10,   21,   30,   28],\n",
              "       [ 403,    0,   95, 1226,  111,   64,    1,    1],\n",
              "       [ 539,    0,   16,  220,  903,   87,   79,    5],\n",
              "       [ 557,    0,    2,   51,   93, 1003,  113,   17],\n",
              "       [ 493,    0,   11,    3,   17,   31, 1069,  334],\n",
              "       [ 191,    4,    1,    0,    1,    2,   73, 1604]])"
            ]
          },
          "metadata": {},
          "execution_count": 102
        }
      ]
    },
    {
      "cell_type": "code",
      "source": [
        " print(classification_report(y_test,y_test_pred))"
      ],
      "metadata": {
        "id": "XTqR_xnwRWCJ",
        "colab": {
          "base_uri": "https://localhost:8080/"
        },
        "outputId": "eeb81c7d-e2c5-4cae-a7d1-f5c85905c8a6"
      },
      "execution_count": 103,
      "outputs": [
        {
          "output_type": "stream",
          "name": "stdout",
          "text": [
            "              precision    recall  f1-score   support\n",
            "\n",
            "           0       0.41      0.99      0.58      1893\n",
            "           1       0.98      0.95      0.96      1863\n",
            "           2       0.88      0.64      0.74      1824\n",
            "           3       0.74      0.64      0.69      1901\n",
            "           4       0.80      0.49      0.61      1849\n",
            "           5       0.83      0.55      0.66      1836\n",
            "           6       0.78      0.55      0.64      1958\n",
            "           7       0.80      0.86      0.83      1876\n",
            "\n",
            "    accuracy                           0.71     15000\n",
            "   macro avg       0.78      0.71      0.71     15000\n",
            "weighted avg       0.78      0.71      0.71     15000\n",
            "\n"
          ]
        }
      ]
    },
    {
      "cell_type": "code",
      "execution_count": 104,
      "metadata": {
        "id": "te3fslrY9Eca",
        "colab": {
          "base_uri": "https://localhost:8080/",
          "height": 903
        },
        "outputId": "2e31cfd3-21bc-4859-9197-cb458f91fbc5"
      },
      "outputs": [
        {
          "output_type": "stream",
          "name": "stdout",
          "text": [
            "Confusion matrix, without normalization\n",
            "[[1876    7    1    0    0    0    1    8]\n",
            " [  62 1761   29    0    0    0    0   11]\n",
            " [ 407   23 1159  146   10   21   30   28]\n",
            " [ 403    0   95 1226  111   64    1    1]\n",
            " [ 539    0   16  220  903   87   79    5]\n",
            " [ 557    0    2   51   93 1003  113   17]\n",
            " [ 493    0   11    3   17   31 1069  334]\n",
            " [ 191    4    1    0    1    2   73 1604]]\n",
            "Normalized confusion matrix\n",
            "[[0.99 0.   0.   0.   0.   0.   0.   0.  ]\n",
            " [0.03 0.95 0.02 0.   0.   0.   0.   0.01]\n",
            " [0.22 0.01 0.64 0.08 0.01 0.01 0.02 0.02]\n",
            " [0.21 0.   0.05 0.64 0.06 0.03 0.   0.  ]\n",
            " [0.29 0.   0.01 0.12 0.49 0.05 0.04 0.  ]\n",
            " [0.3  0.   0.   0.03 0.05 0.55 0.06 0.01]\n",
            " [0.25 0.   0.01 0.   0.01 0.02 0.55 0.17]\n",
            " [0.1  0.   0.   0.   0.   0.   0.04 0.86]]\n"
          ]
        },
        {
          "output_type": "display_data",
          "data": {
            "text/plain": [
              "<Figure size 432x288 with 2 Axes>"
            ],
            "image/png": "[encoded data removed]"
          },
          "metadata": {
            "needs_background": "light"
          }
        },
        {
          "output_type": "display_data",
          "data": {
            "text/plain": [
              "<Figure size 432x288 with 2 Axes>"
            ],
            "image/png": "[encoded data removed]"
          },
          "metadata": {
            "needs_background": "light"
          }
        }
      ],
      "source": [
        "import numpy as np\n",
        "import matplotlib.pyplot as plt\n",
        "\n",
        "from sklearn import svm, datasets\n",
        "from sklearn.model_selection import train_test_split\n",
        "from sklearn.metrics import confusion_matrix\n",
        "from sklearn.utils.multiclass import unique_labels\n",
        "\n",
        "class_names = np.array(['0', '1', '2', '3', '4', '5', '6', '7'])\n",
        "\n",
        "def plot_confusion_matrix(y_true, y_pred, classes,\n",
        "                          normalize=False,\n",
        "                          title=None,\n",
        "                          cmap=plt.cm.Blues):\n",
        "    \"\"\"\n",
        "    This function prints and plots the confusion matrix.\n",
        "    Normalization can be applied by setting `normalize=True`.\n",
        "    \"\"\"\n",
        "    if not title:\n",
        "        if normalize:\n",
        "            title = 'Normalized confusion matrix'\n",
        "        else:\n",
        "            title = 'Confusion matrix, without normalization'\n",
        "\n",
        "    # Compute confusion matrix\n",
        "    cm = confusion_matrix(y_true, y_pred)\n",
        "    # Only use the labels that appear in the data\n",
        "    classes = classes[unique_labels(y_true, y_pred)]\n",
        "    if normalize:\n",
        "        cm = cm.astype('float') / cm.sum(axis=1)[:, np.newaxis]\n",
        "        print(\"Normalized confusion matrix\")\n",
        "    else:\n",
        "        print('Confusion matrix, without normalization')\n",
        "\n",
        "    print(cm)\n",
        "\n",
        "    fig, ax = plt.subplots()\n",
        "    im = ax.imshow(cm, interpolation='nearest', cmap=cmap)\n",
        "    ax.figure.colorbar(im, ax=ax)\n",
        "    # We want to show all ticks...\n",
        "    ax.set(xticks=np.arange(cm.shape[1]),\n",
        "           yticks=np.arange(cm.shape[0]),\n",
        "           # ... and label them with the respective list entries\n",
        "           xticklabels=classes, yticklabels=classes,\n",
        "           title=title,\n",
        "           ylabel='True label',\n",
        "           xlabel='Predicted label')\n",
        "\n",
        "    # Rotate the tick labels and set their alignment.\n",
        "    plt.setp(ax.get_xticklabels(), rotation=45, ha=\"right\",\n",
        "             rotation_mode=\"anchor\")\n",
        "\n",
        "    # Loop over data dimensions and create text annotations.\n",
        "    fmt = '.2f' if normalize else 'd'\n",
        "    thresh = cm.max() / 2.\n",
        "    for i in range(cm.shape[0]):\n",
        "        for j in range(cm.shape[1]):\n",
        "            ax.text(j, i, format(cm[i, j], fmt),\n",
        "                    ha=\"center\", va=\"center\",\n",
        "                    color=\"white\" if cm[i, j] > thresh else \"black\")\n",
        "    fig.tight_layout()\n",
        "\n",
        "    return ax\n",
        "\n",
        "\n",
        "np.set_printoptions(precision=2)\n",
        "\n",
        "# Plot non-normalized confusion matrix\n",
        "plot_confusion_matrix(y_test, y_test_pred, classes=class_names,\n",
        "                      title='Confusion matrix, without normalization')\n",
        "\n",
        "# Plot normalized confusion matrix\n",
        "plot_confusion_matrix(y_test, y_test_pred, classes=class_names, normalize=True,\n",
        "                      title='Normalized confusion matrix')\n",
        "\n",
        "plt.show()"
      ]
    },
    {
      "cell_type": "code",
      "execution_count": 105,
      "metadata": {
        "id": "fhdLAhgPUnH3"
      },
      "outputs": [],
      "source": [
        "def plot_learningCurve(history, epoch):\n",
        "  # Plot training & validation accuracy values\n",
        "  epoch_range = range(1, epoch+1)\n",
        "  plt.plot(epoch_range, history.history['accuracy'])\n",
        "  plt.plot(epoch_range, history.history['val_accuracy'])\n",
        "  plt.title('Model accuracy')\n",
        "  plt.ylabel('Accuracy')\n",
        "  plt.xlabel('Epoch')\n",
        "  plt.legend(['Train', 'Val'], loc='upper left')\n",
        "  plt.show()\n",
        "\n",
        "  # Plot training & validation loss values\n",
        "  plt.plot(epoch_range, history.history['loss'])\n",
        "  plt.plot(epoch_range, history.history['val_loss'])\n",
        "  plt.title('Model loss')\n",
        "  plt.ylabel('Loss')\n",
        "  plt.xlabel('Epoch')\n",
        "  plt.legend(['Train', 'Val'], loc='upper left')\n",
        "  plt.show()"
      ]
    },
    {
      "cell_type": "code",
      "execution_count": 106,
      "metadata": {
        "id": "WlkQkWHgU5mL",
        "colab": {
          "base_uri": "https://localhost:8080/",
          "height": 581
        },
        "outputId": "5ac889b8-28fe-4ba5-a268-9587eb41e0f0"
      },
      "outputs": [
        {
          "output_type": "display_data",
          "data": {
            "text/plain": [
              "<Figure size 432x288 with 1 Axes>"
            ],
            "image/png": "[encoded data removed]"
          },
          "metadata": {
            "needs_background": "light"
          }
        },
        {
          "output_type": "display_data",
          "data": {
            "text/plain": [
              "<Figure size 432x288 with 1 Axes>"
            ],
            "image/png": "[encoded data removed]"
          },
          "metadata": {
            "needs_background": "light"
          }
        }
      ],
      "source": [
        "plot_learningCurve(history, 100)"
      ]
    }
  ],
  "metadata": {
    "colab": {
      "collapsed_sections": [
        "f857kfHqUk0-"
      ],
      "name": "Multi_Class_MD_LSTM_step_200_files_120.ipynb",
      "provenance": [],
      "include_colab_link": true
    },
    "kernelspec": {
      "display_name": "Python 3",
      "name": "python3"
    },
    "language_info": {
      "name": "python"
    },
    "accelerator": "GPU"
  },
  "nbformat": 4,
  "nbformat_minor": 0
}
