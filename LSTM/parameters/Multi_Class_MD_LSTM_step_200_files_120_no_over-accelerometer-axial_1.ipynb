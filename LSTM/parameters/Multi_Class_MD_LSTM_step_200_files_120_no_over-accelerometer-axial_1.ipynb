{
  "cells": [
    {
      "cell_type": "markdown",
      "metadata": {
        "id": "view-in-github",
        "colab_type": "text"
      },
      "source": [
        "<a href=\"https://colab.research.google.com/github/kwanderer/Autonomas-sistemas-un-roboti/blob/main/Multi_Class_MD_LSTM_step_200_files_120_no_over-accelerometer-axial_1.ipynb\" target=\"_parent\"><img src=\"https://colab.research.google.com/assets/colab-badge.svg\" alt=\"Open In Colab\"/></a>"
      ]
    },
    {
      "cell_type": "markdown",
      "metadata": {
        "id": "f857kfHqUk0-"
      },
      "source": [
        "\n",
        "\n",
        "#Datu kopa"
      ]
    },
    {
      "cell_type": "markdown",
      "metadata": {
        "id": "nM9WE3QGUwVi"
      },
      "source": [
        "Datu kopas avots: https://www.kaggle.com/uysalserkan/fault-induction-motor-dataset"
      ]
    },
    {
      "cell_type": "markdown",
      "metadata": {
        "id": "_sN_h3qHHy6r"
      },
      "source": [
        "Darbā tiek izmantota indukcijas motora parametru datu bāze. Izmantotajā datu kopā ir dati, kas tika iegūti SpectraQuest aparatūras kļūdu simulatorā (Machinery Fault Simulator).\n",
        "\n",
        "Katra mērījumu secība tika ģenerēta ar frekvenci 50 kHz 5 sekunžu laikā, kopā 250 000 mērījumi.\n",
        "\n",
        "Dati ir apkopoti vairākos failos, dažādos darbības stāvokļos un to apjoms ir ļoti liels. Šajā darbā tika izmantota daļa(viena mērījumu secība) no motora normālas darbības datiem.\n"
      ]
    },
    {
      "cell_type": "markdown",
      "metadata": {
        "id": "KtFAOaHYHLPo"
      },
      "source": [
        "Dati ir apkopoti tabulā, kura satur 8 parametrus. Dati ir iedalīti sekojošās kolonas:\n",
        "\n",
        "**tachometer** – tahometra signāls, kas ļauj novērtēt rotācijas frekvenci\n",
        "\n",
        "**und-accelerometer-axial** - apakšā esošā gultņa akselerometrs (aksiālais virziens)\n",
        "\n",
        "**und-accelerometer-radial** – apakšā esošā gultņa akselerometrs (radiālais virziens)\n",
        "\n",
        "**und-accelerometer-tangential** - apakšā esošā gultņa akselerometrs (tangenciālais virziens)\n",
        "\n",
        "**over-accelerometer-axial** - pārkares gultņa akselerometrs (aksiālais virziens)\n",
        "\n",
        "**over-accelerometer-radial** – pārkares gultņa akselerometrs (radiālais  virziens)\n",
        "\n",
        "**over-accelerometer-tangential**  - pārkares gultņa akselerometrs (tangenciālais virziens)\n",
        "\n",
        "**microphone** – mikrofona vērtība\n"
      ]
    },
    {
      "cell_type": "markdown",
      "metadata": {
        "id": "XymoNLKMVFUC"
      },
      "source": [
        "#Datu ielasīšana un satura vizualizācija"
      ]
    },
    {
      "cell_type": "code",
      "execution_count": 1,
      "metadata": {
        "id": "_yqYZDeOFq5s"
      },
      "outputs": [],
      "source": [
        "import keras\n",
        "from keras.layers import LSTM, Dropout, Dense\n",
        "import tensorflow as tf\n",
        "import numpy as np\n",
        "import pandas as pd\n",
        "\n",
        "from sklearn import linear_model  #pip install sklearn - loti plasa masinapmacibas biblioteka\n",
        "from sklearn.linear_model import LinearRegression  \n",
        "import csv          #pip install csv - darbam ar CSV datu kopam\n",
        "import requests     #pip install requests  - vienkarsakam darbam ar tiessaistes CSV datu kopam tiessaistes\n",
        "\n",
        "import matplotlib\n",
        "import matplotlib.pyplot as plt\n",
        "\n",
        "import glob\n"
      ]
    },
    {
      "cell_type": "code",
      "execution_count": 2,
      "metadata": {
        "id": "wlRTBbM2eUcV",
        "colab": {
          "base_uri": "https://localhost:8080/"
        },
        "outputId": "c773b39a-a5e9-461a-efbd-5f14f2d9bd49"
      },
      "outputs": [
        {
          "output_type": "stream",
          "name": "stdout",
          "text": [
            "Mounted at /content/gdrive\n"
          ]
        }
      ],
      "source": [
        "from google.colab import drive\n",
        "import os\n",
        "drive.mount('/content/gdrive')\n",
        "os.chdir(\"/content/gdrive/MyDrive/Colab Notebooks/data_multiclass/\")"
      ]
    },
    {
      "cell_type": "code",
      "execution_count": 3,
      "metadata": {
        "id": "zzz6fBl_SNom"
      },
      "outputs": [],
      "source": [
        "#extension = 'csv'\n",
        "#all_filenames = [i for i in glob.glob('*.{}'.format(extension))]"
      ]
    },
    {
      "cell_type": "code",
      "execution_count": 4,
      "metadata": {
        "id": "vagKFCkToBi0"
      },
      "outputs": [],
      "source": [
        "#combine all files in the list\n",
        "#combined_csv = pd.concat([pd.read_csv(f) for f in all_filenames ])\n",
        "#export to csv\n",
        "#combined_csv.to_csv( \"combined_multiclass_csv.csv\", index=False, encoding='utf-8-sig')"
      ]
    },
    {
      "cell_type": "code",
      "execution_count": 5,
      "metadata": {
        "id": "encEkbDhSfGI"
      },
      "outputs": [],
      "source": [
        "data = pd.read_csv(\"combined_multiclass_csv.csv\")"
      ]
    },
    {
      "cell_type": "code",
      "execution_count": 6,
      "metadata": {
        "id": "yz5Qe8ZWk1Zq",
        "colab": {
          "base_uri": "https://localhost:8080/"
        },
        "outputId": "e0b46878-46dc-41fe-e26f-8ddaa03d21eb"
      },
      "outputs": [
        {
          "output_type": "stream",
          "name": "stdout",
          "text": [
            "<class 'pandas.core.frame.DataFrame'>\n",
            "RangeIndex: 30000000 entries, 0 to 29999999\n",
            "Data columns (total 9 columns):\n",
            " #   Column                         Dtype  \n",
            "---  ------                         -----  \n",
            " 0   tachometer                     float64\n",
            " 1   und-accelerometer-axial        float64\n",
            " 2   und-accelerometer-radial       float64\n",
            " 3   und-accelerometer-tangential   float64\n",
            " 4   over-accelerometer-axial       float64\n",
            " 5   over-accelerometer-radial      float64\n",
            " 6   over-accelerometer-tangential  float64\n",
            " 7   microphone                     float64\n",
            " 8   Class                          int64  \n",
            "dtypes: float64(8), int64(1)\n",
            "memory usage: 2.0 GB\n"
          ]
        }
      ],
      "source": [
        "data.info()"
      ]
    },
    {
      "cell_type": "code",
      "execution_count": 7,
      "metadata": {
        "id": "WUW9ezX6a_st",
        "colab": {
          "base_uri": "https://localhost:8080/"
        },
        "outputId": "8ec37524-b784-4859-bc45-bca14f7e99da"
      },
      "outputs": [
        {
          "output_type": "execute_result",
          "data": {
            "text/plain": [
              "30000000"
            ]
          },
          "metadata": {},
          "execution_count": 7
        }
      ],
      "source": [
        "rec_count = len(data)\n",
        "rec_count"
      ]
    },
    {
      "cell_type": "markdown",
      "metadata": {
        "id": "6RVC1PZy88fC"
      },
      "source": [
        "# Datu dalīšana mazākos gabalos"
      ]
    },
    {
      "cell_type": "code",
      "execution_count": 8,
      "metadata": {
        "id": "DOvnCYkcbGaE"
      },
      "outputs": [],
      "source": [
        "sequence_length = 200"
      ]
    },
    {
      "cell_type": "code",
      "execution_count": 9,
      "metadata": {
        "id": "RG0o2L3zbTEx"
      },
      "outputs": [],
      "source": [
        "def generate_data(X, y, sequence_length = 200, step = 200):\n",
        "    X_local = []\n",
        "    y_local = []\n",
        "    for start in range(0, len(data) - sequence_length, step):\n",
        "        end = start + sequence_length\n",
        "        X_local.append(X[start:end])\n",
        "        y_local.append(y[end-1])\n",
        "    return np.array(X_local), np.array(y_local)\n",
        "\n",
        "#X_sequence, y = generate_data(data.loc[:, \"tachometer\":\"microphone\"].values, data.Class)\n",
        "#X_sequence, y = generate_data(data.loc[:, [\"tachometer\", \"und-accelerometer-axial\", \"und-accelerometer-radial\", \"und-accelerometer-tangential\", \"over-accelerometer-axial\", \"over-accelerometer-radial\", \"over-accelerometer-tangential\", \"microphone\"]].values, data.Class)\n",
        "#over-accelerometer-axial\n",
        "X_sequence, y = generate_data(data.loc[:, [\"tachometer\", \"und-accelerometer-axial\", \"und-accelerometer-radial\", \"und-accelerometer-tangential\", \"over-accelerometer-radial\", \"over-accelerometer-tangential\", \"microphone\"]].values, data.Class)"
      ]
    },
    {
      "cell_type": "code",
      "execution_count": 10,
      "metadata": {
        "id": "s0QxwK66cLVF",
        "colab": {
          "base_uri": "https://localhost:8080/"
        },
        "outputId": "a7286ef7-2c9f-4fa6-d290-a93809510e1b"
      },
      "outputs": [
        {
          "output_type": "execute_result",
          "data": {
            "text/plain": [
              "((149999, 200, 7), (149999,))"
            ]
          },
          "metadata": {},
          "execution_count": 10
        }
      ],
      "source": [
        "X_sequence.shape, y.shape"
      ]
    },
    {
      "cell_type": "code",
      "source": [
        "unique, counts = np.unique(y, return_counts=True)"
      ],
      "metadata": {
        "id": "l8Lq455lV1JR"
      },
      "execution_count": 11,
      "outputs": []
    },
    {
      "cell_type": "code",
      "source": [
        "unique"
      ],
      "metadata": {
        "id": "t0BRO3nAWQxe",
        "colab": {
          "base_uri": "https://localhost:8080/"
        },
        "outputId": "ba45345f-8d70-40fe-b560-1102dc2549c1"
      },
      "execution_count": 12,
      "outputs": [
        {
          "output_type": "execute_result",
          "data": {
            "text/plain": [
              "array([0, 1, 2, 3, 4, 5, 6, 7])"
            ]
          },
          "metadata": {},
          "execution_count": 12
        }
      ]
    },
    {
      "cell_type": "code",
      "source": [
        "counts"
      ],
      "metadata": {
        "id": "WWZ7QWR4WS_r",
        "colab": {
          "base_uri": "https://localhost:8080/"
        },
        "outputId": "fabc4638-4b05-4a92-f68b-d459f8d46ed8"
      },
      "execution_count": 13,
      "outputs": [
        {
          "output_type": "execute_result",
          "data": {
            "text/plain": [
              "array([18749, 18750, 18750, 18750, 18750, 18750, 18750, 18750])"
            ]
          },
          "metadata": {},
          "execution_count": 13
        }
      ]
    },
    {
      "cell_type": "code",
      "execution_count": 14,
      "metadata": {
        "id": "i7R1oo6Mj8wx"
      },
      "outputs": [],
      "source": [
        "data = 0"
      ]
    },
    {
      "cell_type": "code",
      "source": [
        "from sklearn.preprocessing import OneHotEncoder"
      ],
      "metadata": {
        "id": "lAk_JscRWmqY"
      },
      "execution_count": 15,
      "outputs": []
    },
    {
      "cell_type": "code",
      "source": [
        "label_encoder = OneHotEncoder(sparse=False)\n",
        "label_encoder.fit(y.reshape(-1,1))"
      ],
      "metadata": {
        "id": "14B9aYy0W0y6",
        "colab": {
          "base_uri": "https://localhost:8080/"
        },
        "outputId": "7340afb7-45d8-42cd-85cf-a1684c68bf7a"
      },
      "execution_count": 16,
      "outputs": [
        {
          "output_type": "execute_result",
          "data": {
            "text/plain": [
              "OneHotEncoder(sparse=False)"
            ]
          },
          "metadata": {},
          "execution_count": 16
        }
      ]
    },
    {
      "cell_type": "code",
      "source": [
        "y_encoded = label_encoder.transform(y.reshape(-1,1))"
      ],
      "metadata": {
        "id": "VjpWn96xXgPS"
      },
      "execution_count": 17,
      "outputs": []
    },
    {
      "cell_type": "code",
      "source": [
        "y_encoded[0:5]"
      ],
      "metadata": {
        "id": "VL6KMFo9XpBi",
        "colab": {
          "base_uri": "https://localhost:8080/"
        },
        "outputId": "5e1dc1c7-e96f-4220-d56c-00928778615f"
      },
      "execution_count": 18,
      "outputs": [
        {
          "output_type": "execute_result",
          "data": {
            "text/plain": [
              "array([[0., 0., 0., 0., 0., 0., 0., 1.],\n",
              "       [0., 0., 0., 0., 0., 0., 0., 1.],\n",
              "       [0., 0., 0., 0., 0., 0., 0., 1.],\n",
              "       [0., 0., 0., 0., 0., 0., 0., 1.],\n",
              "       [0., 0., 0., 0., 0., 0., 0., 1.]])"
            ]
          },
          "metadata": {},
          "execution_count": 18
        }
      ]
    },
    {
      "cell_type": "code",
      "source": [
        "y=y_encoded"
      ],
      "metadata": {
        "id": "5c8km253YKBl"
      },
      "execution_count": 19,
      "outputs": []
    },
    {
      "cell_type": "markdown",
      "metadata": {
        "id": "5BXSDoHa9UX_"
      },
      "source": [
        "# Random/Shuffle"
      ]
    },
    {
      "cell_type": "code",
      "execution_count": 20,
      "metadata": {
        "id": "ZcfE9idy-ckb"
      },
      "outputs": [],
      "source": [
        "shuffler = np.random.permutation(len(X_sequence))\n",
        "X_sequence_shuffled = X_sequence[shuffler]\n",
        "y_shuffled = y[shuffler]"
      ]
    },
    {
      "cell_type": "markdown",
      "metadata": {
        "id": "TfhRTTNcE2s8"
      },
      "source": [
        "# LSTM"
      ]
    },
    {
      "cell_type": "code",
      "execution_count": 21,
      "metadata": {
        "id": "ihrXMuVAEwlY"
      },
      "outputs": [],
      "source": [
        "import pandas as pd\n",
        "import sklearn.metrics as metrique\n",
        "from pandas import Series\n",
        "from sklearn.preprocessing import StandardScaler, MinMaxScaler\n",
        "from matplotlib import pyplot\n",
        "from sklearn.model_selection import train_test_split\n",
        "import numpy as np\n",
        "import tensorflow as tf\n",
        "import sys\n",
        "import numpy as np\n",
        "import pandas as pd\n",
        "import tensorflow as tf\n",
        "import matplotlib.pyplot as plt\n",
        "from sklearn.model_selection import train_test_split\n",
        "from sklearn import preprocessing\n",
        "from sklearn.preprocessing import StandardScaler\n",
        "from sklearn.metrics import classification_report\n",
        "import warnings\n",
        "warnings.filterwarnings('ignore')\n",
        "plt.style.use('ggplot')\n",
        "import seaborn as sns \n",
        "%matplotlib inline\n",
        "from keras.callbacks import EarlyStopping\n",
        "from keras.callbacks import ModelCheckpoint\n",
        "from sklearn.metrics import accuracy_score\n",
        "from sklearn.metrics import classification_report, confusion_matrix\n",
        "from keras.models import Sequential\n",
        "from keras.utils import np_utils\n",
        "from keras.layers import LSTM, Dense, Embedding, Dropout,Input, Layer, Concatenate, Permute, Dot, Multiply, Flatten\n",
        "from keras.layers import RepeatVector, Dense, Activation, Lambda\n",
        "from keras.models import Sequential\n",
        "from keras import backend as K, regularizers, Model, metrics\n",
        "from keras.backend import cast"
      ]
    },
    {
      "cell_type": "code",
      "execution_count": 22,
      "metadata": {
        "id": "PjKWKiA6aH3z"
      },
      "outputs": [],
      "source": [
        "#from tensorflow.keras import optimizers\n",
        "#sgd = optimizers.SGD(lr=0.0001, decay=1e-6, momentum=0.9, nesterov=True)\n",
        "#model = keras.Sequential()\n",
        "#model.add(LSTM(100, input_shape = (200, 8)))\n",
        "#model.add(Dropout(0.5))\n",
        "#model.add(Dense(1, activation=\"softmax\"))\n",
        "\n",
        "\n",
        "#model.compile(loss=\"categorical_crossentropy\"\n",
        "#              , metrics=[keras.metrics.binary_accuracy]\n",
        "#              , optimizer='sgd')\n",
        "\n",
        "#model.summary()"
      ]
    },
    {
      "cell_type": "code",
      "execution_count": 23,
      "metadata": {
        "id": "_2SaVmwSWJVB",
        "colab": {
          "base_uri": "https://localhost:8080/"
        },
        "outputId": "09a61053-2f1a-49ed-b40e-b292682b2e03"
      },
      "outputs": [
        {
          "output_type": "stream",
          "name": "stdout",
          "text": [
            "Model: \"sequential\"\n",
            "_________________________________________________________________\n",
            " Layer (type)                Output Shape              Param #   \n",
            "=================================================================\n",
            " lstm (LSTM)                 (None, 150)               94800     \n",
            "                                                                 \n",
            " dropout (Dropout)           (None, 150)               0         \n",
            "                                                                 \n",
            " dense (Dense)               (None, 8)                 1208      \n",
            "                                                                 \n",
            "=================================================================\n",
            "Total params: 96,008\n",
            "Trainable params: 96,008\n",
            "Non-trainable params: 0\n",
            "_________________________________________________________________\n"
          ]
        }
      ],
      "source": [
        "from tensorflow.keras import optimizers\n",
        "#sgd = optimizers.SGD(lr=0.0001, decay=1e-6, momentum=0.9, nesterov=True)\n",
        "optimizer = tf.keras.optimizers.Adam(lr=0.0001)\n",
        "model = keras.Sequential()\n",
        "model.add(LSTM(150, input_shape = (200, 7)))\n",
        "model.add(Dropout(0.5))#0.25\n",
        "model.add(Dense(8, activation=\"softmax\"))\n",
        "\n",
        "#model.compile(loss='mean_squared_error', optimizer=sgd)\n",
        "model.compile(loss=\"categorical_crossentropy\"\n",
        "              , metrics=['accuracy']\n",
        "              , optimizer=optimizer)\n",
        "\n",
        "model.summary()"
      ]
    },
    {
      "cell_type": "code",
      "execution_count": 24,
      "metadata": {
        "id": "tg8wrqsqc8UX"
      },
      "outputs": [],
      "source": [
        "training_size = int(len(X_sequence) * 0.8)\n",
        "val_size = int(len(X_sequence) * 0.9)"
      ]
    },
    {
      "cell_type": "code",
      "execution_count": 25,
      "metadata": {
        "id": "avIp3TEKc-qF"
      },
      "outputs": [],
      "source": [
        "X_train, y_train = X_sequence_shuffled[:training_size], y_shuffled[:training_size]\n",
        "X_val, y_val = X_sequence_shuffled[training_size:val_size], y_shuffled[training_size:val_size]\n",
        "X_test, y_test = X_sequence_shuffled[val_size:], y_shuffled[val_size:]"
      ]
    },
    {
      "cell_type": "code",
      "execution_count": 26,
      "metadata": {
        "id": "RABc_uKzkBUT"
      },
      "outputs": [],
      "source": [
        "#X_sequence = 0\n",
        "#y = 0"
      ]
    },
    {
      "cell_type": "code",
      "source": [
        "X_train.shape"
      ],
      "metadata": {
        "id": "Omv-ht1dhGxL",
        "colab": {
          "base_uri": "https://localhost:8080/"
        },
        "outputId": "0340219c-d89e-45f9-8cc8-2e0684ecd6a8"
      },
      "execution_count": 27,
      "outputs": [
        {
          "output_type": "execute_result",
          "data": {
            "text/plain": [
              "(119999, 200, 7)"
            ]
          },
          "metadata": {},
          "execution_count": 27
        }
      ]
    },
    {
      "cell_type": "code",
      "execution_count": 28,
      "metadata": {
        "id": "8aIhPJ-wLCwZ",
        "colab": {
          "base_uri": "https://localhost:8080/"
        },
        "outputId": "c58586ca-64c8-413b-fcf9-ff5af3e50e53"
      },
      "outputs": [
        {
          "output_type": "execute_result",
          "data": {
            "text/plain": [
              "array([[0., 0., 0., 0., 1., 0., 0., 0.],\n",
              "       [0., 0., 0., 0., 0., 0., 1., 0.],\n",
              "       [0., 0., 1., 0., 0., 0., 0., 0.],\n",
              "       [0., 0., 0., 0., 1., 0., 0., 0.],\n",
              "       [0., 0., 0., 0., 0., 0., 0., 1.],\n",
              "       [0., 1., 0., 0., 0., 0., 0., 0.],\n",
              "       [0., 0., 0., 0., 1., 0., 0., 0.],\n",
              "       [0., 0., 0., 1., 0., 0., 0., 0.],\n",
              "       [0., 0., 0., 1., 0., 0., 0., 0.],\n",
              "       [0., 1., 0., 0., 0., 0., 0., 0.]])"
            ]
          },
          "metadata": {},
          "execution_count": 28
        }
      ],
      "source": [
        "y_train[:10]"
      ]
    },
    {
      "cell_type": "code",
      "execution_count": 29,
      "metadata": {
        "id": "cen4faX0dFJP",
        "colab": {
          "base_uri": "https://localhost:8080/"
        },
        "outputId": "dc1a5325-e64b-464c-f450-3c6764421be2"
      },
      "outputs": [
        {
          "output_type": "stream",
          "name": "stdout",
          "text": [
            "Epoch 1/100\n",
            "1875/1875 [==============================] - 86s 43ms/step - loss: 1.9065 - accuracy: 0.2261 - val_loss: 1.7789 - val_accuracy: 0.2833\n",
            "Epoch 2/100\n",
            "1875/1875 [==============================] - 79s 42ms/step - loss: 1.7752 - accuracy: 0.2820 - val_loss: 1.7514 - val_accuracy: 0.2951\n",
            "Epoch 3/100\n",
            "1875/1875 [==============================] - 80s 43ms/step - loss: 1.7323 - accuracy: 0.3017 - val_loss: 1.6902 - val_accuracy: 0.3191\n",
            "Epoch 4/100\n",
            "1875/1875 [==============================] - 78s 41ms/step - loss: 1.6896 - accuracy: 0.3155 - val_loss: 1.6482 - val_accuracy: 0.3298\n",
            "Epoch 5/100\n",
            "1875/1875 [==============================] - 78s 41ms/step - loss: 1.6522 - accuracy: 0.3336 - val_loss: 1.6040 - val_accuracy: 0.3553\n",
            "Epoch 6/100\n",
            "1875/1875 [==============================] - 77s 41ms/step - loss: 1.6160 - accuracy: 0.3520 - val_loss: 1.5685 - val_accuracy: 0.3824\n",
            "Epoch 7/100\n",
            "1875/1875 [==============================] - 80s 43ms/step - loss: 1.5993 - accuracy: 0.3618 - val_loss: 1.5534 - val_accuracy: 0.3853\n",
            "Epoch 8/100\n",
            "1875/1875 [==============================] - 78s 41ms/step - loss: 1.5594 - accuracy: 0.3758 - val_loss: 1.5556 - val_accuracy: 0.3805\n",
            "Epoch 9/100\n",
            "1875/1875 [==============================] - 78s 42ms/step - loss: 1.5442 - accuracy: 0.3833 - val_loss: 1.5085 - val_accuracy: 0.3883\n",
            "Epoch 10/100\n",
            "1875/1875 [==============================] - 78s 42ms/step - loss: 1.5007 - accuracy: 0.3951 - val_loss: 1.4546 - val_accuracy: 0.4183\n",
            "Epoch 11/100\n",
            "1875/1875 [==============================] - 77s 41ms/step - loss: 1.4711 - accuracy: 0.4070 - val_loss: 1.4613 - val_accuracy: 0.4125\n",
            "Epoch 12/100\n",
            "1875/1875 [==============================] - 77s 41ms/step - loss: 1.4452 - accuracy: 0.4179 - val_loss: 1.3914 - val_accuracy: 0.4394\n",
            "Epoch 13/100\n",
            "1875/1875 [==============================] - 77s 41ms/step - loss: 1.4214 - accuracy: 0.4276 - val_loss: 1.4189 - val_accuracy: 0.4228\n",
            "Epoch 14/100\n",
            "1875/1875 [==============================] - 78s 41ms/step - loss: 1.4005 - accuracy: 0.4370 - val_loss: 1.3746 - val_accuracy: 0.4477\n",
            "Epoch 15/100\n",
            "1875/1875 [==============================] - 78s 42ms/step - loss: 1.3850 - accuracy: 0.4414 - val_loss: 1.3294 - val_accuracy: 0.4703\n",
            "Epoch 16/100\n",
            "1875/1875 [==============================] - 78s 41ms/step - loss: 1.3668 - accuracy: 0.4495 - val_loss: 1.3443 - val_accuracy: 0.4619\n",
            "Epoch 17/100\n",
            "1875/1875 [==============================] - 80s 42ms/step - loss: 1.3542 - accuracy: 0.4551 - val_loss: 1.3098 - val_accuracy: 0.4763\n",
            "Epoch 18/100\n",
            "1875/1875 [==============================] - 78s 41ms/step - loss: 1.3376 - accuracy: 0.4633 - val_loss: 1.2997 - val_accuracy: 0.4785\n",
            "Epoch 19/100\n",
            "1875/1875 [==============================] - 80s 43ms/step - loss: 1.3224 - accuracy: 0.4695 - val_loss: 1.3065 - val_accuracy: 0.4793\n",
            "Epoch 20/100\n",
            "1875/1875 [==============================] - 78s 42ms/step - loss: 1.3103 - accuracy: 0.4742 - val_loss: 1.2682 - val_accuracy: 0.4918\n",
            "Epoch 21/100\n",
            "1875/1875 [==============================] - 78s 41ms/step - loss: 1.2967 - accuracy: 0.4798 - val_loss: 1.2500 - val_accuracy: 0.5035\n",
            "Epoch 22/100\n",
            "1875/1875 [==============================] - 78s 42ms/step - loss: 1.2819 - accuracy: 0.4850 - val_loss: 1.2824 - val_accuracy: 0.4877\n",
            "Epoch 23/100\n",
            "1875/1875 [==============================] - 77s 41ms/step - loss: 1.2672 - accuracy: 0.4916 - val_loss: 1.2232 - val_accuracy: 0.5133\n",
            "Epoch 24/100\n",
            "1875/1875 [==============================] - 79s 42ms/step - loss: 1.2546 - accuracy: 0.4976 - val_loss: 1.2590 - val_accuracy: 0.4934\n",
            "Epoch 25/100\n",
            "1875/1875 [==============================] - 77s 41ms/step - loss: 1.2426 - accuracy: 0.5035 - val_loss: 1.2064 - val_accuracy: 0.5177\n",
            "Epoch 26/100\n",
            "1875/1875 [==============================] - 79s 42ms/step - loss: 1.2303 - accuracy: 0.5086 - val_loss: 1.1909 - val_accuracy: 0.5213\n",
            "Epoch 27/100\n",
            "1875/1875 [==============================] - 78s 41ms/step - loss: 1.2142 - accuracy: 0.5142 - val_loss: 1.1649 - val_accuracy: 0.5394\n",
            "Epoch 28/100\n",
            "1875/1875 [==============================] - 77s 41ms/step - loss: 1.1977 - accuracy: 0.5219 - val_loss: 1.1534 - val_accuracy: 0.5417\n",
            "Epoch 29/100\n",
            "1875/1875 [==============================] - 78s 41ms/step - loss: 1.1895 - accuracy: 0.5235 - val_loss: 1.1484 - val_accuracy: 0.5417\n",
            "Epoch 30/100\n",
            "1875/1875 [==============================] - 78s 41ms/step - loss: 1.1740 - accuracy: 0.5304 - val_loss: 1.1412 - val_accuracy: 0.5385\n",
            "Epoch 31/100\n",
            "1875/1875 [==============================] - 80s 42ms/step - loss: 1.1617 - accuracy: 0.5356 - val_loss: 1.1181 - val_accuracy: 0.5559\n",
            "Epoch 32/100\n",
            "1875/1875 [==============================] - 77s 41ms/step - loss: 1.1486 - accuracy: 0.5416 - val_loss: 1.1004 - val_accuracy: 0.5658\n",
            "Epoch 33/100\n",
            "1875/1875 [==============================] - 78s 41ms/step - loss: 1.1360 - accuracy: 0.5473 - val_loss: 1.1190 - val_accuracy: 0.5548\n",
            "Epoch 34/100\n",
            "1875/1875 [==============================] - 80s 42ms/step - loss: 1.1199 - accuracy: 0.5533 - val_loss: 1.0946 - val_accuracy: 0.5613\n",
            "Epoch 35/100\n",
            "1875/1875 [==============================] - 78s 42ms/step - loss: 1.1291 - accuracy: 0.5510 - val_loss: 1.0772 - val_accuracy: 0.5687\n",
            "Epoch 36/100\n",
            "1875/1875 [==============================] - 78s 42ms/step - loss: 1.0997 - accuracy: 0.5620 - val_loss: 1.0719 - val_accuracy: 0.5745\n",
            "Epoch 37/100\n",
            "1875/1875 [==============================] - 78s 42ms/step - loss: 1.0873 - accuracy: 0.5675 - val_loss: 1.0560 - val_accuracy: 0.5738\n",
            "Epoch 38/100\n",
            "1875/1875 [==============================] - 78s 41ms/step - loss: 1.0775 - accuracy: 0.5710 - val_loss: 1.0656 - val_accuracy: 0.5741\n",
            "Epoch 39/100\n",
            "1875/1875 [==============================] - 79s 42ms/step - loss: 1.0645 - accuracy: 0.5771 - val_loss: 1.0646 - val_accuracy: 0.5680\n",
            "Epoch 40/100\n",
            "1875/1875 [==============================] - 77s 41ms/step - loss: 1.0555 - accuracy: 0.5798 - val_loss: 1.0534 - val_accuracy: 0.5788\n",
            "Epoch 41/100\n",
            "1875/1875 [==============================] - 77s 41ms/step - loss: 1.0452 - accuracy: 0.5841 - val_loss: 1.0176 - val_accuracy: 0.5933\n",
            "Epoch 42/100\n",
            "1875/1875 [==============================] - 78s 41ms/step - loss: 1.0335 - accuracy: 0.5887 - val_loss: 1.0182 - val_accuracy: 0.5901\n",
            "Epoch 43/100\n",
            "1875/1875 [==============================] - 78s 41ms/step - loss: 1.0231 - accuracy: 0.5938 - val_loss: 1.0074 - val_accuracy: 0.5945\n",
            "Epoch 44/100\n",
            "1875/1875 [==============================] - 78s 42ms/step - loss: 1.0120 - accuracy: 0.5978 - val_loss: 0.9938 - val_accuracy: 0.6040\n",
            "Epoch 45/100\n",
            "1875/1875 [==============================] - 78s 41ms/step - loss: 0.9994 - accuracy: 0.6021 - val_loss: 0.9755 - val_accuracy: 0.6091\n",
            "Epoch 46/100\n",
            "1875/1875 [==============================] - 78s 41ms/step - loss: 0.9915 - accuracy: 0.6060 - val_loss: 0.9656 - val_accuracy: 0.6136\n",
            "Epoch 47/100\n",
            "1875/1875 [==============================] - 79s 42ms/step - loss: 0.9811 - accuracy: 0.6096 - val_loss: 0.9520 - val_accuracy: 0.6238\n",
            "Epoch 48/100\n",
            "1875/1875 [==============================] - 77s 41ms/step - loss: 0.9767 - accuracy: 0.6113 - val_loss: 0.9683 - val_accuracy: 0.6105\n",
            "Epoch 49/100\n",
            "1875/1875 [==============================] - 81s 43ms/step - loss: 0.9615 - accuracy: 0.6170 - val_loss: 0.9971 - val_accuracy: 0.6000\n",
            "Epoch 50/100\n",
            "1875/1875 [==============================] - 79s 42ms/step - loss: 0.9574 - accuracy: 0.6188 - val_loss: 0.9324 - val_accuracy: 0.6212\n",
            "Epoch 51/100\n",
            "1875/1875 [==============================] - 79s 42ms/step - loss: 0.9425 - accuracy: 0.6250 - val_loss: 0.9489 - val_accuracy: 0.6206\n",
            "Epoch 52/100\n",
            "1875/1875 [==============================] - 80s 43ms/step - loss: 0.9370 - accuracy: 0.6261 - val_loss: 0.9152 - val_accuracy: 0.6286\n",
            "Epoch 53/100\n",
            "1875/1875 [==============================] - 80s 43ms/step - loss: 0.9266 - accuracy: 0.6316 - val_loss: 0.9098 - val_accuracy: 0.6375\n",
            "Epoch 54/100\n",
            "1875/1875 [==============================] - 79s 42ms/step - loss: 0.9224 - accuracy: 0.6319 - val_loss: 0.9086 - val_accuracy: 0.6343\n",
            "Epoch 55/100\n",
            "1875/1875 [==============================] - 81s 43ms/step - loss: 0.9108 - accuracy: 0.6388 - val_loss: 0.9142 - val_accuracy: 0.6297\n",
            "Epoch 56/100\n",
            "1875/1875 [==============================] - 79s 42ms/step - loss: 0.9042 - accuracy: 0.6416 - val_loss: 0.9243 - val_accuracy: 0.6269\n",
            "Epoch 57/100\n",
            "1875/1875 [==============================] - 80s 42ms/step - loss: 0.8981 - accuracy: 0.6437 - val_loss: 0.8617 - val_accuracy: 0.6541\n",
            "Epoch 58/100\n",
            "1875/1875 [==============================] - 79s 42ms/step - loss: 0.8855 - accuracy: 0.6489 - val_loss: 0.8667 - val_accuracy: 0.6527\n",
            "Epoch 59/100\n",
            "1875/1875 [==============================] - 81s 43ms/step - loss: 0.8800 - accuracy: 0.6501 - val_loss: 0.8701 - val_accuracy: 0.6504\n",
            "Epoch 60/100\n",
            "1875/1875 [==============================] - 79s 42ms/step - loss: 0.8713 - accuracy: 0.6541 - val_loss: 0.8266 - val_accuracy: 0.6676\n",
            "Epoch 61/100\n",
            "1875/1875 [==============================] - 79s 42ms/step - loss: 0.8649 - accuracy: 0.6562 - val_loss: 0.8461 - val_accuracy: 0.6528\n",
            "Epoch 62/100\n",
            "1875/1875 [==============================] - 79s 42ms/step - loss: 0.8618 - accuracy: 0.6590 - val_loss: 0.8498 - val_accuracy: 0.6593\n",
            "Epoch 63/100\n",
            "1875/1875 [==============================] - 79s 42ms/step - loss: 0.8509 - accuracy: 0.6637 - val_loss: 0.8298 - val_accuracy: 0.6677\n",
            "Epoch 64/100\n",
            "1875/1875 [==============================] - 79s 42ms/step - loss: 0.8425 - accuracy: 0.6660 - val_loss: 0.8274 - val_accuracy: 0.6732\n",
            "Epoch 65/100\n",
            "1875/1875 [==============================] - 78s 42ms/step - loss: 0.8332 - accuracy: 0.6702 - val_loss: 0.8046 - val_accuracy: 0.6787\n",
            "Epoch 66/100\n",
            "1875/1875 [==============================] - 78s 42ms/step - loss: 0.8273 - accuracy: 0.6731 - val_loss: 0.8239 - val_accuracy: 0.6714\n",
            "Epoch 67/100\n",
            "1875/1875 [==============================] - 78s 42ms/step - loss: 0.8178 - accuracy: 0.6766 - val_loss: 0.8724 - val_accuracy: 0.6515\n",
            "Epoch 68/100\n",
            "1875/1875 [==============================] - 78s 42ms/step - loss: 0.8123 - accuracy: 0.6778 - val_loss: 0.7998 - val_accuracy: 0.6784\n",
            "Epoch 69/100\n",
            "1875/1875 [==============================] - 79s 42ms/step - loss: 0.8007 - accuracy: 0.6832 - val_loss: 0.7853 - val_accuracy: 0.6864\n",
            "Epoch 70/100\n",
            "1875/1875 [==============================] - 78s 42ms/step - loss: 0.7942 - accuracy: 0.6859 - val_loss: 0.8305 - val_accuracy: 0.6737\n",
            "Epoch 71/100\n",
            "1875/1875 [==============================] - 79s 42ms/step - loss: 0.7851 - accuracy: 0.6894 - val_loss: 0.7946 - val_accuracy: 0.6804\n",
            "Epoch 72/100\n",
            "1875/1875 [==============================] - 78s 42ms/step - loss: 0.7783 - accuracy: 0.6938 - val_loss: 0.7473 - val_accuracy: 0.6999\n",
            "Epoch 73/100\n",
            "1875/1875 [==============================] - 79s 42ms/step - loss: 0.7671 - accuracy: 0.6967 - val_loss: 0.7755 - val_accuracy: 0.6863\n",
            "Epoch 74/100\n",
            "1875/1875 [==============================] - 78s 42ms/step - loss: 0.7600 - accuracy: 0.6986 - val_loss: 0.7511 - val_accuracy: 0.6951\n",
            "Epoch 75/100\n",
            "1875/1875 [==============================] - 78s 42ms/step - loss: 0.7520 - accuracy: 0.7030 - val_loss: 0.7408 - val_accuracy: 0.7029\n",
            "Epoch 76/100\n",
            "1875/1875 [==============================] - 77s 41ms/step - loss: 0.7453 - accuracy: 0.7058 - val_loss: 0.7404 - val_accuracy: 0.7001\n",
            "Epoch 77/100\n",
            "1875/1875 [==============================] - 76s 41ms/step - loss: 0.7366 - accuracy: 0.7089 - val_loss: 0.7203 - val_accuracy: 0.7123\n",
            "Epoch 78/100\n",
            "1875/1875 [==============================] - 76s 41ms/step - loss: 0.7284 - accuracy: 0.7116 - val_loss: 0.7032 - val_accuracy: 0.7217\n",
            "Epoch 79/100\n",
            "1875/1875 [==============================] - 76s 41ms/step - loss: 0.7219 - accuracy: 0.7151 - val_loss: 0.7103 - val_accuracy: 0.7179\n",
            "Epoch 80/100\n",
            "1875/1875 [==============================] - 78s 41ms/step - loss: 0.7144 - accuracy: 0.7170 - val_loss: 0.7226 - val_accuracy: 0.7063\n",
            "Epoch 81/100\n",
            "1875/1875 [==============================] - 79s 42ms/step - loss: 0.7068 - accuracy: 0.7227 - val_loss: 0.6898 - val_accuracy: 0.7202\n",
            "Epoch 82/100\n",
            "1875/1875 [==============================] - 77s 41ms/step - loss: 0.6976 - accuracy: 0.7249 - val_loss: 0.6780 - val_accuracy: 0.7315\n",
            "Epoch 83/100\n",
            "1875/1875 [==============================] - 77s 41ms/step - loss: 0.6956 - accuracy: 0.7258 - val_loss: 0.6701 - val_accuracy: 0.7355\n",
            "Epoch 84/100\n",
            "1875/1875 [==============================] - 77s 41ms/step - loss: 0.6797 - accuracy: 0.7317 - val_loss: 0.6717 - val_accuracy: 0.7285\n",
            "Epoch 85/100\n",
            "1875/1875 [==============================] - 77s 41ms/step - loss: 0.6785 - accuracy: 0.7328 - val_loss: 0.6436 - val_accuracy: 0.7449\n",
            "Epoch 86/100\n",
            "1875/1875 [==============================] - 77s 41ms/step - loss: 0.6734 - accuracy: 0.7350 - val_loss: 0.6558 - val_accuracy: 0.7361\n",
            "Epoch 87/100\n",
            "1875/1875 [==============================] - 77s 41ms/step - loss: 0.6640 - accuracy: 0.7375 - val_loss: 0.6323 - val_accuracy: 0.7513\n",
            "Epoch 88/100\n",
            "1875/1875 [==============================] - 77s 41ms/step - loss: 0.6541 - accuracy: 0.7426 - val_loss: 0.6400 - val_accuracy: 0.7484\n",
            "Epoch 89/100\n",
            "1875/1875 [==============================] - 77s 41ms/step - loss: 0.6507 - accuracy: 0.7447 - val_loss: 0.6477 - val_accuracy: 0.7475\n",
            "Epoch 90/100\n",
            "1875/1875 [==============================] - 77s 41ms/step - loss: 0.6401 - accuracy: 0.7486 - val_loss: 0.6429 - val_accuracy: 0.7427\n",
            "Epoch 91/100\n",
            "1875/1875 [==============================] - 77s 41ms/step - loss: 0.6378 - accuracy: 0.7501 - val_loss: 0.6408 - val_accuracy: 0.7471\n",
            "Epoch 92/100\n",
            "1875/1875 [==============================] - 77s 41ms/step - loss: 0.6339 - accuracy: 0.7507 - val_loss: 0.6277 - val_accuracy: 0.7533\n",
            "Epoch 93/100\n",
            "1875/1875 [==============================] - 77s 41ms/step - loss: 0.6287 - accuracy: 0.7533 - val_loss: 0.5948 - val_accuracy: 0.7647\n",
            "Epoch 94/100\n",
            "1875/1875 [==============================] - 77s 41ms/step - loss: 0.6202 - accuracy: 0.7581 - val_loss: 0.6201 - val_accuracy: 0.7592\n",
            "Epoch 95/100\n",
            "1875/1875 [==============================] - 77s 41ms/step - loss: 0.6170 - accuracy: 0.7582 - val_loss: 0.6271 - val_accuracy: 0.7525\n",
            "Epoch 96/100\n",
            "1875/1875 [==============================] - 79s 42ms/step - loss: 0.6090 - accuracy: 0.7613 - val_loss: 0.5963 - val_accuracy: 0.7645\n",
            "Epoch 97/100\n",
            "1875/1875 [==============================] - 77s 41ms/step - loss: 0.6033 - accuracy: 0.7641 - val_loss: 0.6214 - val_accuracy: 0.7549\n",
            "Epoch 98/100\n",
            "1875/1875 [==============================] - 77s 41ms/step - loss: 0.5946 - accuracy: 0.7683 - val_loss: 0.6155 - val_accuracy: 0.7594\n",
            "Epoch 99/100\n",
            "1875/1875 [==============================] - 77s 41ms/step - loss: 0.5923 - accuracy: 0.7701 - val_loss: 0.5945 - val_accuracy: 0.7699\n",
            "Epoch 100/100\n",
            "1875/1875 [==============================] - 77s 41ms/step - loss: 0.5881 - accuracy: 0.7713 - val_loss: 0.5943 - val_accuracy: 0.7663\n"
          ]
        }
      ],
      "source": [
        "history = model.fit(X_train, y_train, batch_size=64, epochs=100, validation_data=(X_val, y_val))\n",
        "#model.save('AllDataModel_E100_B64.h5')"
      ]
    },
    {
      "cell_type": "code",
      "execution_count": 30,
      "metadata": {
        "id": "R7QQeqVidKBR",
        "colab": {
          "base_uri": "https://localhost:8080/"
        },
        "outputId": "755ad417-0922-4986-da39-2a70fbe08208"
      },
      "outputs": [
        {
          "output_type": "stream",
          "name": "stdout",
          "text": [
            "469/469 [==============================] - 7s 15ms/step - loss: 0.5907 - accuracy: 0.7696\n"
          ]
        }
      ],
      "source": [
        "test_acc = model.evaluate(X_test, y_test)"
      ]
    },
    {
      "cell_type": "code",
      "source": [
        "test_acc"
      ],
      "metadata": {
        "id": "6fuTmgGrUgGg",
        "colab": {
          "base_uri": "https://localhost:8080/"
        },
        "outputId": "781d9260-9464-4444-bb3d-531486ca7c6c"
      },
      "execution_count": 31,
      "outputs": [
        {
          "output_type": "execute_result",
          "data": {
            "text/plain": [
              "[0.590671956539154, 0.769599974155426]"
            ]
          },
          "metadata": {},
          "execution_count": 31
        }
      ]
    },
    {
      "cell_type": "code",
      "execution_count": 32,
      "metadata": {
        "id": "OHpifyqGdKn-",
        "colab": {
          "base_uri": "https://localhost:8080/"
        },
        "outputId": "6b09ee24-a7cc-487b-a47b-93b099455bbd"
      },
      "outputs": [
        {
          "output_type": "stream",
          "name": "stdout",
          "text": [
            "469/469 [==============================] - 6s 12ms/step\n"
          ]
        }
      ],
      "source": [
        "y_test_prob = model.predict(X_test, verbose=1)"
      ]
    },
    {
      "cell_type": "code",
      "source": [
        "np.set_printoptions(suppress=True)\n",
        "y_test_prob"
      ],
      "metadata": {
        "id": "rRPswrrkmhp2",
        "colab": {
          "base_uri": "https://localhost:8080/"
        },
        "outputId": "ebfa155a-9963-4807-c6bc-e70944a513de"
      },
      "execution_count": 33,
      "outputs": [
        {
          "output_type": "execute_result",
          "data": {
            "text/plain": [
              "array([[0.00064433, 0.00166044, 0.10139084, ..., 0.27384186, 0.06556217,\n",
              "        0.00196137],\n",
              "       [0.0000003 , 0.00000045, 0.000004  , ..., 0.00982847, 0.98861444,\n",
              "        0.00130672],\n",
              "       [0.00000044, 0.00000025, 0.00000399, ..., 0.00202221, 0.9940738 ,\n",
              "        0.0038555 ],\n",
              "       ...,\n",
              "       [0.00082395, 0.00340137, 0.41355014, ..., 0.29570994, 0.12943932,\n",
              "        0.03536203],\n",
              "       [0.00000127, 0.00002553, 0.00280533, ..., 0.09403685, 0.00012576,\n",
              "        0.00000028],\n",
              "       [0.00000277, 0.00607269, 0.24822775, ..., 0.71390086, 0.00200753,\n",
              "        0.00000864]], dtype=float32)"
            ]
          },
          "metadata": {},
          "execution_count": 33
        }
      ]
    },
    {
      "cell_type": "code",
      "execution_count": 34,
      "metadata": {
        "id": "AfmdrBILdMwj"
      },
      "outputs": [],
      "source": [
        "y_test_pred = np.where(y_test_prob > 0.5, 1, 0)"
      ]
    },
    {
      "cell_type": "code",
      "execution_count": 35,
      "metadata": {
        "id": "8DoJy_p9dPzN"
      },
      "outputs": [],
      "source": [
        "from sklearn.metrics import multilabel_confusion_matrix"
      ]
    },
    {
      "cell_type": "code",
      "source": [
        "y_test"
      ],
      "metadata": {
        "id": "n1Us2yrfcGl-",
        "colab": {
          "base_uri": "https://localhost:8080/"
        },
        "outputId": "67389c0a-0b2c-44f7-8844-91aa79ed89b8"
      },
      "execution_count": 36,
      "outputs": [
        {
          "output_type": "execute_result",
          "data": {
            "text/plain": [
              "array([[0., 0., 0., ..., 0., 0., 0.],\n",
              "       [0., 0., 0., ..., 0., 1., 0.],\n",
              "       [0., 0., 0., ..., 0., 1., 0.],\n",
              "       ...,\n",
              "       [0., 0., 0., ..., 0., 0., 0.],\n",
              "       [0., 0., 0., ..., 0., 0., 0.],\n",
              "       [0., 0., 1., ..., 0., 0., 0.]])"
            ]
          },
          "metadata": {},
          "execution_count": 36
        }
      ]
    },
    {
      "cell_type": "code",
      "source": [
        "y_test.shape"
      ],
      "metadata": {
        "id": "VnmvTcvWbxr9",
        "colab": {
          "base_uri": "https://localhost:8080/"
        },
        "outputId": "6365ef35-e49c-46e8-bec0-fb6ee9234ff9"
      },
      "execution_count": 37,
      "outputs": [
        {
          "output_type": "execute_result",
          "data": {
            "text/plain": [
              "(15000, 8)"
            ]
          },
          "metadata": {},
          "execution_count": 37
        }
      ]
    },
    {
      "cell_type": "code",
      "source": [
        "y_test_pred"
      ],
      "metadata": {
        "id": "nMBOgzrgcJBj",
        "colab": {
          "base_uri": "https://localhost:8080/"
        },
        "outputId": "1c06da74-0447-4237-9805-3f201f79a9eb"
      },
      "execution_count": 38,
      "outputs": [
        {
          "output_type": "execute_result",
          "data": {
            "text/plain": [
              "array([[0, 0, 0, ..., 0, 0, 0],\n",
              "       [0, 0, 0, ..., 0, 1, 0],\n",
              "       [0, 0, 0, ..., 0, 1, 0],\n",
              "       ...,\n",
              "       [0, 0, 0, ..., 0, 0, 0],\n",
              "       [0, 0, 0, ..., 0, 0, 0],\n",
              "       [0, 0, 0, ..., 1, 0, 0]])"
            ]
          },
          "metadata": {},
          "execution_count": 38
        }
      ]
    },
    {
      "cell_type": "code",
      "source": [
        "y_test_pred.shape"
      ],
      "metadata": {
        "id": "SXKZof8Ye5uI",
        "colab": {
          "base_uri": "https://localhost:8080/"
        },
        "outputId": "13197dfe-8915-430f-ecdf-18ef72703aec"
      },
      "execution_count": 39,
      "outputs": [
        {
          "output_type": "execute_result",
          "data": {
            "text/plain": [
              "(15000, 8)"
            ]
          },
          "metadata": {},
          "execution_count": 39
        }
      ]
    },
    {
      "cell_type": "code",
      "source": [
        "y_decoded_pred = tf.argmax(y_test_pred, axis = 1)"
      ],
      "metadata": {
        "id": "leDQwKOjgwwi"
      },
      "execution_count": 40,
      "outputs": []
    },
    {
      "cell_type": "code",
      "source": [
        "y_decoded = tf.argmax(y_test, axis = 1)"
      ],
      "metadata": {
        "id": "sAHRmtesif6g"
      },
      "execution_count": 41,
      "outputs": []
    },
    {
      "cell_type": "code",
      "source": [
        "y_decoded_pred"
      ],
      "metadata": {
        "id": "_lvFhrmPhprD",
        "colab": {
          "base_uri": "https://localhost:8080/"
        },
        "outputId": "b70c930a-e699-4f01-b584-fd82a1d66fdd"
      },
      "execution_count": 42,
      "outputs": [
        {
          "output_type": "execute_result",
          "data": {
            "text/plain": [
              "<tf.Tensor: shape=(15000,), dtype=int64, numpy=array([0, 6, 6, ..., 0, 4, 5])>"
            ]
          },
          "metadata": {},
          "execution_count": 42
        }
      ]
    },
    {
      "cell_type": "code",
      "source": [
        "y_decoded"
      ],
      "metadata": {
        "id": "YV1FXgHviPwm",
        "colab": {
          "base_uri": "https://localhost:8080/"
        },
        "outputId": "956d7a5c-7e60-40d3-b1fa-8a5e1b975085"
      },
      "execution_count": 43,
      "outputs": [
        {
          "output_type": "execute_result",
          "data": {
            "text/plain": [
              "<tf.Tensor: shape=(15000,), dtype=int64, numpy=array([3, 6, 6, ..., 3, 4, 2])>"
            ]
          },
          "metadata": {},
          "execution_count": 43
        }
      ]
    },
    {
      "cell_type": "code",
      "source": [
        "y_test_pred = y_decoded_pred\n"
      ],
      "metadata": {
        "id": "6-6jFqzGh380"
      },
      "execution_count": 44,
      "outputs": []
    },
    {
      "cell_type": "code",
      "source": [
        "y_test = y_decoded"
      ],
      "metadata": {
        "id": "9pogVvdIiwss"
      },
      "execution_count": 45,
      "outputs": []
    },
    {
      "cell_type": "code",
      "source": [
        "y_test"
      ],
      "metadata": {
        "id": "oGt5aJetiKR6",
        "colab": {
          "base_uri": "https://localhost:8080/"
        },
        "outputId": "0ae9549b-9469-4de7-f358-51b461c5116d"
      },
      "execution_count": 46,
      "outputs": [
        {
          "output_type": "execute_result",
          "data": {
            "text/plain": [
              "<tf.Tensor: shape=(15000,), dtype=int64, numpy=array([3, 6, 6, ..., 3, 4, 2])>"
            ]
          },
          "metadata": {},
          "execution_count": 46
        }
      ]
    },
    {
      "cell_type": "code",
      "source": [
        "y_test_pred"
      ],
      "metadata": {
        "id": "fLgDwAIfiyv2",
        "colab": {
          "base_uri": "https://localhost:8080/"
        },
        "outputId": "98b6b086-f771-4418-eb0f-33f899292a97"
      },
      "execution_count": 47,
      "outputs": [
        {
          "output_type": "execute_result",
          "data": {
            "text/plain": [
              "<tf.Tensor: shape=(15000,), dtype=int64, numpy=array([0, 6, 6, ..., 0, 4, 5])>"
            ]
          },
          "metadata": {},
          "execution_count": 47
        }
      ]
    },
    {
      "cell_type": "code",
      "execution_count": 48,
      "metadata": {
        "id": "fTCsPjW8dQaZ"
      },
      "outputs": [],
      "source": [
        "cfm=confusion_matrix(y_test, y_test_pred)"
      ]
    },
    {
      "cell_type": "code",
      "source": [
        "cfm"
      ],
      "metadata": {
        "id": "_67lPg6ic4cH",
        "colab": {
          "base_uri": "https://localhost:8080/"
        },
        "outputId": "37aefce1-9c0f-45e5-b96a-2cc6c0037dd4"
      },
      "execution_count": 49,
      "outputs": [
        {
          "output_type": "execute_result",
          "data": {
            "text/plain": [
              "array([[1882,    6,    0,    0,    0,    0,    0,   57],\n",
              "       [  76, 1694,   88,   13,    4,    1,    1,    9],\n",
              "       [ 387,  105, 1213,   88,    9,   24,    7,   15],\n",
              "       [ 448,   24,  127, 1058,  177,   29,   16,    2],\n",
              "       [ 543,    9,   23,   93,  996,  127,   49,    2],\n",
              "       [ 556,    7,   30,    4,   54, 1013,  200,   15],\n",
              "       [ 375,    4,    6,    1,    9,   20, 1221,  203],\n",
              "       [ 376,    7,    2,    0,    0,    0,   53, 1442]])"
            ]
          },
          "metadata": {},
          "execution_count": 49
        }
      ]
    },
    {
      "cell_type": "code",
      "source": [
        " print(classification_report(y_test,y_test_pred))"
      ],
      "metadata": {
        "id": "XTqR_xnwRWCJ",
        "colab": {
          "base_uri": "https://localhost:8080/"
        },
        "outputId": "73dad58c-ad60-445d-913f-7d2e90ca322f"
      },
      "execution_count": 50,
      "outputs": [
        {
          "output_type": "stream",
          "name": "stdout",
          "text": [
            "              precision    recall  f1-score   support\n",
            "\n",
            "           0       0.41      0.97      0.57      1945\n",
            "           1       0.91      0.90      0.91      1886\n",
            "           2       0.81      0.66      0.73      1848\n",
            "           3       0.84      0.56      0.67      1881\n",
            "           4       0.80      0.54      0.64      1842\n",
            "           5       0.83      0.54      0.66      1879\n",
            "           6       0.79      0.66      0.72      1839\n",
            "           7       0.83      0.77      0.80      1880\n",
            "\n",
            "    accuracy                           0.70     15000\n",
            "   macro avg       0.78      0.70      0.71     15000\n",
            "weighted avg       0.78      0.70      0.71     15000\n",
            "\n"
          ]
        }
      ]
    },
    {
      "cell_type": "code",
      "execution_count": 51,
      "metadata": {
        "id": "te3fslrY9Eca",
        "colab": {
          "base_uri": "https://localhost:8080/",
          "height": 903
        },
        "outputId": "0f303100-0716-4196-fd09-c7b1e34beed3"
      },
      "outputs": [
        {
          "output_type": "stream",
          "name": "stdout",
          "text": [
            "Confusion matrix, without normalization\n",
            "[[1882    6    0    0    0    0    0   57]\n",
            " [  76 1694   88   13    4    1    1    9]\n",
            " [ 387  105 1213   88    9   24    7   15]\n",
            " [ 448   24  127 1058  177   29   16    2]\n",
            " [ 543    9   23   93  996  127   49    2]\n",
            " [ 556    7   30    4   54 1013  200   15]\n",
            " [ 375    4    6    1    9   20 1221  203]\n",
            " [ 376    7    2    0    0    0   53 1442]]\n",
            "Normalized confusion matrix\n",
            "[[0.97 0.   0.   0.   0.   0.   0.   0.03]\n",
            " [0.04 0.9  0.05 0.01 0.   0.   0.   0.  ]\n",
            " [0.21 0.06 0.66 0.05 0.   0.01 0.   0.01]\n",
            " [0.24 0.01 0.07 0.56 0.09 0.02 0.01 0.  ]\n",
            " [0.29 0.   0.01 0.05 0.54 0.07 0.03 0.  ]\n",
            " [0.3  0.   0.02 0.   0.03 0.54 0.11 0.01]\n",
            " [0.2  0.   0.   0.   0.   0.01 0.66 0.11]\n",
            " [0.2  0.   0.   0.   0.   0.   0.03 0.77]]\n"
          ]
        },
        {
          "output_type": "display_data",
          "data": {
            "text/plain": [
              "<Figure size 432x288 with 2 Axes>"
            ],
            "image/png": "[encoded data removed]"
          },
          "metadata": {
            "needs_background": "light"
          }
        },
        {
          "output_type": "display_data",
          "data": {
            "text/plain": [
              "<Figure size 432x288 with 2 Axes>"
            ],
            "image/png": "[encoded data removed]"
          },
          "metadata": {
            "needs_background": "light"
          }
        }
      ],
      "source": [
        "import numpy as np\n",
        "import matplotlib.pyplot as plt\n",
        "\n",
        "from sklearn import svm, datasets\n",
        "from sklearn.model_selection import train_test_split\n",
        "from sklearn.metrics import confusion_matrix\n",
        "from sklearn.utils.multiclass import unique_labels\n",
        "\n",
        "class_names = np.array(['0', '1', '2', '3', '4', '5', '6', '7'])\n",
        "\n",
        "def plot_confusion_matrix(y_true, y_pred, classes,\n",
        "                          normalize=False,\n",
        "                          title=None,\n",
        "                          cmap=plt.cm.Blues):\n",
        "    \"\"\"\n",
        "    This function prints and plots the confusion matrix.\n",
        "    Normalization can be applied by setting `normalize=True`.\n",
        "    \"\"\"\n",
        "    if not title:\n",
        "        if normalize:\n",
        "            title = 'Normalized confusion matrix'\n",
        "        else:\n",
        "            title = 'Confusion matrix, without normalization'\n",
        "\n",
        "    # Compute confusion matrix\n",
        "    cm = confusion_matrix(y_true, y_pred)\n",
        "    # Only use the labels that appear in the data\n",
        "    classes = classes[unique_labels(y_true, y_pred)]\n",
        "    if normalize:\n",
        "        cm = cm.astype('float') / cm.sum(axis=1)[:, np.newaxis]\n",
        "        print(\"Normalized confusion matrix\")\n",
        "    else:\n",
        "        print('Confusion matrix, without normalization')\n",
        "\n",
        "    print(cm)\n",
        "\n",
        "    fig, ax = plt.subplots()\n",
        "    im = ax.imshow(cm, interpolation='nearest', cmap=cmap)\n",
        "    ax.figure.colorbar(im, ax=ax)\n",
        "    # We want to show all ticks...\n",
        "    ax.set(xticks=np.arange(cm.shape[1]),\n",
        "           yticks=np.arange(cm.shape[0]),\n",
        "           # ... and label them with the respective list entries\n",
        "           xticklabels=classes, yticklabels=classes,\n",
        "           title=title,\n",
        "           ylabel='True label',\n",
        "           xlabel='Predicted label')\n",
        "\n",
        "    # Rotate the tick labels and set their alignment.\n",
        "    plt.setp(ax.get_xticklabels(), rotation=45, ha=\"right\",\n",
        "             rotation_mode=\"anchor\")\n",
        "\n",
        "    # Loop over data dimensions and create text annotations.\n",
        "    fmt = '.2f' if normalize else 'd'\n",
        "    thresh = cm.max() / 2.\n",
        "    for i in range(cm.shape[0]):\n",
        "        for j in range(cm.shape[1]):\n",
        "            ax.text(j, i, format(cm[i, j], fmt),\n",
        "                    ha=\"center\", va=\"center\",\n",
        "                    color=\"white\" if cm[i, j] > thresh else \"black\")\n",
        "    fig.tight_layout()\n",
        "\n",
        "    return ax\n",
        "\n",
        "\n",
        "np.set_printoptions(precision=2)\n",
        "\n",
        "# Plot non-normalized confusion matrix\n",
        "plot_confusion_matrix(y_test, y_test_pred, classes=class_names,\n",
        "                      title='Confusion matrix, without normalization')\n",
        "\n",
        "# Plot normalized confusion matrix\n",
        "plot_confusion_matrix(y_test, y_test_pred, classes=class_names, normalize=True,\n",
        "                      title='Normalized confusion matrix')\n",
        "\n",
        "plt.show()"
      ]
    },
    {
      "cell_type": "code",
      "execution_count": 52,
      "metadata": {
        "id": "fhdLAhgPUnH3"
      },
      "outputs": [],
      "source": [
        "def plot_learningCurve(history, epoch):\n",
        "  # Plot training & validation accuracy values\n",
        "  epoch_range = range(1, epoch+1)\n",
        "  plt.plot(epoch_range, history.history['accuracy'])\n",
        "  plt.plot(epoch_range, history.history['val_accuracy'])\n",
        "  plt.title('Model accuracy')\n",
        "  plt.ylabel('Accuracy')\n",
        "  plt.xlabel('Epoch')\n",
        "  plt.legend(['Train', 'Val'], loc='upper left')\n",
        "  plt.show()\n",
        "\n",
        "  # Plot training & validation loss values\n",
        "  plt.plot(epoch_range, history.history['loss'])\n",
        "  plt.plot(epoch_range, history.history['val_loss'])\n",
        "  plt.title('Model loss')\n",
        "  plt.ylabel('Loss')\n",
        "  plt.xlabel('Epoch')\n",
        "  plt.legend(['Train', 'Val'], loc='upper left')\n",
        "  plt.show()"
      ]
    },
    {
      "cell_type": "code",
      "execution_count": 53,
      "metadata": {
        "id": "WlkQkWHgU5mL",
        "colab": {
          "base_uri": "https://localhost:8080/",
          "height": 581
        },
        "outputId": "318bbb97-40a9-4e46-b307-64bef6cbbff8"
      },
      "outputs": [
        {
          "output_type": "display_data",
          "data": {
            "text/plain": [
              "<Figure size 432x288 with 1 Axes>"
            ],
            "image/png": "[encoded data removed]"
          },
          "metadata": {
            "needs_background": "light"
          }
        },
        {
          "output_type": "display_data",
          "data": {
            "text/plain": [
              "<Figure size 432x288 with 1 Axes>"
            ],
            "image/png": "[encoded data removed]"
          },
          "metadata": {
            "needs_background": "light"
          }
        }
      ],
      "source": [
        "plot_learningCurve(history, 100)"
      ]
    }
  ],
  "metadata": {
    "colab": {
      "collapsed_sections": [
        "f857kfHqUk0-"
      ],
      "name": "Multi_Class_MD_LSTM_step_200_files_120.ipynb",
      "provenance": [],
      "include_colab_link": true
    },
    "kernelspec": {
      "display_name": "Python 3",
      "name": "python3"
    },
    "language_info": {
      "name": "python"
    },
    "accelerator": "GPU"
  },
  "nbformat": 4,
  "nbformat_minor": 0
}
