{
  "cells": [
    {
      "cell_type": "markdown",
      "metadata": {
        "id": "view-in-github",
        "colab_type": "text"
      },
      "source": [
        "<a href=\"https://colab.research.google.com/github/kwanderer/MachineLearning/blob/main/MD_LSTM_step_10.ipynb\" target=\"_parent\"><img src=\"https://colab.research.google.com/assets/colab-badge.svg\" alt=\"Open In Colab\"/></a>"
      ]
    },
    {
      "cell_type": "markdown",
      "metadata": {
        "id": "f857kfHqUk0-"
      },
      "source": [
        "\n",
        "\n",
        "#Datu kopa"
      ]
    },
    {
      "cell_type": "markdown",
      "metadata": {
        "id": "nM9WE3QGUwVi"
      },
      "source": [
        "Datu kopas avots: https://www.kaggle.com/uysalserkan/fault-induction-motor-dataset"
      ]
    },
    {
      "cell_type": "markdown",
      "metadata": {
        "id": "_sN_h3qHHy6r"
      },
      "source": [
        "Darbā tiek izmantota indukcijas motora parametru datu bāze. Izmantotajā datu kopā ir dati, kas tika iegūti SpectraQuest aparatūras kļūdu simulatorā (Machinery Fault Simulator).\n",
        "\n",
        "Katra mērījumu secība tika ģenerēta ar frekvenci 50 kHz 5 sekunžu laikā, kopā 250 000 mērījumi.\n",
        "\n",
        "Dati ir apkopoti vairākos failos, dažādos darbības stāvokļos un to apjoms ir ļoti liels. Šajā darbā tika izmantota daļa(viena mērījumu secība) no motora normālas darbības datiem.\n"
      ]
    },
    {
      "cell_type": "markdown",
      "metadata": {
        "id": "KtFAOaHYHLPo"
      },
      "source": [
        "Dati ir apkopoti tabulā, kura satur 8 parametrus. Dati ir iedalīti sekojošās kolonas:\n",
        "\n",
        "**tachometer** – tahometra signāls, kas ļauj novērtēt rotācijas frekvenci\n",
        "\n",
        "**und-accelerometer-axial** - apakšā esošā gultņa akselerometrs (aksiālais virziens)\n",
        "\n",
        "**und-accelerometer-radial** – apakšā esošā gultņa akselerometrs (radiālais virziens)\n",
        "\n",
        "**und-accelerometer-tangential** - apakšā esošā gultņa akselerometrs (tangenciālais virziens)\n",
        "\n",
        "**over-accelerometer-axial** - pārkares gultņa akselerometrs (aksiālais virziens)\n",
        "\n",
        "**over-accelerometer-radial** – pārkares gultņa akselerometrs (radiālais  virziens)\n",
        "\n",
        "**over-accelerometer-tangential**  - pārkares gultņa akselerometrs (tangenciālais virziens)\n",
        "\n",
        "**microphone** – mikrofona vērtība\n"
      ]
    },
    {
      "cell_type": "markdown",
      "metadata": {
        "id": "XymoNLKMVFUC"
      },
      "source": [
        "#Datu ielasīšana un satura vizualizācija"
      ]
    },
    {
      "cell_type": "code",
      "execution_count": 1,
      "metadata": {
        "id": "_yqYZDeOFq5s"
      },
      "outputs": [],
      "source": [
        "import keras\n",
        "from keras.layers import LSTM, Dropout, Dense\n",
        "import tensorflow as tf\n",
        "import numpy as np\n",
        "import pandas as pd\n",
        "\n",
        "from sklearn import linear_model  #pip install sklearn - loti plasa masinapmacibas biblioteka\n",
        "from sklearn.linear_model import LinearRegression  \n",
        "import csv          #pip install csv - darbam ar CSV datu kopam\n",
        "import requests     #pip install requests  - vienkarsakam darbam ar tiessaistes CSV datu kopam tiessaistes\n",
        "\n",
        "import matplotlib\n",
        "import matplotlib.pyplot as plt\n",
        "\n",
        "import glob\n"
      ]
    },
    {
      "cell_type": "code",
      "execution_count": 2,
      "metadata": {
        "id": "wlRTBbM2eUcV",
        "colab": {
          "base_uri": "https://localhost:8080/"
        },
        "outputId": "2d960f8c-8f19-49b1-8285-badfc2d587ff"
      },
      "outputs": [
        {
          "output_type": "stream",
          "name": "stdout",
          "text": [
            "Drive already mounted at /content/gdrive; to attempt to forcibly remount, call drive.mount(\"/content/gdrive\", force_remount=True).\n"
          ]
        }
      ],
      "source": [
        "from google.colab import drive\n",
        "import os\n",
        "drive.mount('/content/gdrive')\n",
        "os.chdir(\"/content/gdrive/MyDrive/Colab Notebooks/data/motor/\")"
      ]
    },
    {
      "cell_type": "code",
      "execution_count": 3,
      "metadata": {
        "id": "zzz6fBl_SNom"
      },
      "outputs": [],
      "source": [
        "#extension = 'csv'\n",
        "#all_filenames = [i for i in glob.glob('*.{}'.format(extension))]"
      ]
    },
    {
      "cell_type": "code",
      "execution_count": 4,
      "metadata": {
        "id": "vagKFCkToBi0"
      },
      "outputs": [],
      "source": [
        "#combine all files in the list\n",
        "#combined_csv = pd.concat([pd.read_csv(f) for f in all_filenames ])\n",
        "#export to csv\n",
        "#combined_csv.to_csv( \"combined_csv.csv\", index=False, encoding='utf-8-sig')"
      ]
    },
    {
      "cell_type": "code",
      "execution_count": 5,
      "metadata": {
        "id": "encEkbDhSfGI"
      },
      "outputs": [],
      "source": [
        "data = pd.read_csv(\"combined_csv.csv\")"
      ]
    },
    {
      "cell_type": "code",
      "execution_count": 6,
      "metadata": {
        "id": "yz5Qe8ZWk1Zq",
        "colab": {
          "base_uri": "https://localhost:8080/"
        },
        "outputId": "f296e268-b2ad-4810-8fcc-b762ebad63e8"
      },
      "outputs": [
        {
          "output_type": "stream",
          "name": "stdout",
          "text": [
            "<class 'pandas.core.frame.DataFrame'>\n",
            "RangeIndex: 500000 entries, 0 to 499999\n",
            "Data columns (total 9 columns):\n",
            " #   Column                         Non-Null Count   Dtype  \n",
            "---  ------                         --------------   -----  \n",
            " 0   tachometer                     500000 non-null  float64\n",
            " 1   und-accelerometer-axial        500000 non-null  float64\n",
            " 2   und-accelerometer-radial       500000 non-null  float64\n",
            " 3   und-accelerometer-tangential   500000 non-null  float64\n",
            " 4   over-accelerometer-axial       500000 non-null  float64\n",
            " 5   over-accelerometer-radial      500000 non-null  float64\n",
            " 6   over-accelerometer-tangential  500000 non-null  float64\n",
            " 7   microphone                     500000 non-null  float64\n",
            " 8   Class                          500000 non-null  int64  \n",
            "dtypes: float64(8), int64(1)\n",
            "memory usage: 34.3 MB\n"
          ]
        }
      ],
      "source": [
        "data.info()"
      ]
    },
    {
      "cell_type": "code",
      "execution_count": 7,
      "metadata": {
        "id": "WUW9ezX6a_st",
        "colab": {
          "base_uri": "https://localhost:8080/"
        },
        "outputId": "5b6778cf-0e7d-4913-de10-3ca4daa3eff6"
      },
      "outputs": [
        {
          "output_type": "execute_result",
          "data": {
            "text/plain": [
              "500000"
            ]
          },
          "metadata": {},
          "execution_count": 7
        }
      ],
      "source": [
        "rec_count = len(data)\n",
        "rec_count"
      ]
    },
    {
      "cell_type": "markdown",
      "source": [
        "# Datu dalīšana mazākos gabalos"
      ],
      "metadata": {
        "id": "6RVC1PZy88fC"
      }
    },
    {
      "cell_type": "code",
      "execution_count": 8,
      "metadata": {
        "id": "DOvnCYkcbGaE"
      },
      "outputs": [],
      "source": [
        "sequence_length = 200"
      ]
    },
    {
      "cell_type": "code",
      "execution_count": 9,
      "metadata": {
        "id": "RG0o2L3zbTEx"
      },
      "outputs": [],
      "source": [
        "def generate_data(X, y, sequence_length = 200, step = 10):\n",
        "    X_local = []\n",
        "    y_local = []\n",
        "    for start in range(0, len(data) - sequence_length, step):\n",
        "        end = start + sequence_length\n",
        "        X_local.append(X[start:end])\n",
        "        y_local.append(y[end-1])\n",
        "    return np.array(X_local), np.array(y_local)\n",
        "\n",
        "X_sequence, y = generate_data(data.loc[:, \"tachometer\":\"microphone\"].values, data.Class)"
      ]
    },
    {
      "cell_type": "code",
      "execution_count": 10,
      "metadata": {
        "id": "s0QxwK66cLVF",
        "colab": {
          "base_uri": "https://localhost:8080/"
        },
        "outputId": "357be86a-6bb0-4a9b-c24c-18ff780cd6c6"
      },
      "outputs": [
        {
          "output_type": "execute_result",
          "data": {
            "text/plain": [
              "((49980, 200, 8), (49980,))"
            ]
          },
          "metadata": {},
          "execution_count": 10
        }
      ],
      "source": [
        "X_sequence.shape, y.shape"
      ]
    },
    {
      "cell_type": "markdown",
      "source": [
        "# Random/Shuffle"
      ],
      "metadata": {
        "id": "5BXSDoHa9UX_"
      }
    },
    {
      "cell_type": "code",
      "source": [
        "shuffler = np.random.permutation(len(X_sequence))\n",
        "X_sequence_shuffled = X_sequence[shuffler]\n",
        "y_shuffled = y[shuffler]"
      ],
      "metadata": {
        "id": "ZcfE9idy-ckb"
      },
      "execution_count": 11,
      "outputs": []
    },
    {
      "cell_type": "markdown",
      "source": [
        "# LSTM"
      ],
      "metadata": {
        "id": "TfhRTTNcE2s8"
      }
    },
    {
      "cell_type": "code",
      "execution_count": 12,
      "metadata": {
        "id": "PjKWKiA6aH3z",
        "colab": {
          "base_uri": "https://localhost:8080/"
        },
        "outputId": "2b10cd2a-2d3f-4767-e493-975f7f073707"
      },
      "outputs": [
        {
          "output_type": "stream",
          "name": "stdout",
          "text": [
            "Model: \"sequential\"\n",
            "_________________________________________________________________\n",
            " Layer (type)                Output Shape              Param #   \n",
            "=================================================================\n",
            " lstm (LSTM)                 (None, 100)               43600     \n",
            "                                                                 \n",
            " dropout (Dropout)           (None, 100)               0         \n",
            "                                                                 \n",
            " dense (Dense)               (None, 1)                 101       \n",
            "                                                                 \n",
            "=================================================================\n",
            "Total params: 43,701\n",
            "Trainable params: 43,701\n",
            "Non-trainable params: 0\n",
            "_________________________________________________________________\n"
          ]
        }
      ],
      "source": [
        "model = keras.Sequential()\n",
        "model.add(LSTM(100, input_shape = (200, 8)))\n",
        "model.add(Dropout(0.5))\n",
        "model.add(Dense(1, activation=\"sigmoid\"))\n",
        "model.compile(loss=\"binary_crossentropy\"\n",
        "              , metrics=[keras.metrics.binary_accuracy]\n",
        "              , optimizer=\"adam\")\n",
        "\n",
        "model.summary()"
      ]
    },
    {
      "cell_type": "code",
      "execution_count": 13,
      "metadata": {
        "id": "tg8wrqsqc8UX"
      },
      "outputs": [],
      "source": [
        "training_size = int(len(X_sequence) * 0.7)"
      ]
    },
    {
      "cell_type": "code",
      "execution_count": 14,
      "metadata": {
        "id": "avIp3TEKc-qF"
      },
      "outputs": [],
      "source": [
        "X_train, y_train = X_sequence_shuffled[:training_size], y_shuffled[:training_size]\n",
        "X_test, y_test = X_sequence_shuffled[training_size:], y_shuffled[training_size:]"
      ]
    },
    {
      "cell_type": "code",
      "execution_count": 15,
      "metadata": {
        "id": "cen4faX0dFJP",
        "colab": {
          "base_uri": "https://localhost:8080/"
        },
        "outputId": "78743ebe-b298-4a03-a757-0bf62fa07b10"
      },
      "outputs": [
        {
          "output_type": "stream",
          "name": "stdout",
          "text": [
            "Epoch 1/50\n",
            "547/547 [==============================] - 120s 216ms/step - loss: 0.1830 - binary_accuracy: 0.9340 - val_loss: 0.1673 - val_binary_accuracy: 0.9326\n",
            "Epoch 2/50\n",
            "547/547 [==============================] - 117s 214ms/step - loss: 0.1161 - binary_accuracy: 0.9651 - val_loss: 0.1529 - val_binary_accuracy: 0.9317\n",
            "Epoch 3/50\n",
            "547/547 [==============================] - 115s 211ms/step - loss: 0.0657 - binary_accuracy: 0.9825 - val_loss: 0.0492 - val_binary_accuracy: 0.9818\n",
            "Epoch 4/50\n",
            "547/547 [==============================] - 115s 211ms/step - loss: 0.1979 - binary_accuracy: 0.9255 - val_loss: 0.1527 - val_binary_accuracy: 0.9426\n",
            "Epoch 5/50\n",
            "547/547 [==============================] - 116s 213ms/step - loss: 0.1251 - binary_accuracy: 0.9607 - val_loss: 0.0696 - val_binary_accuracy: 0.9761\n",
            "Epoch 6/50\n",
            "547/547 [==============================] - 120s 219ms/step - loss: 0.2374 - binary_accuracy: 0.9145 - val_loss: 0.1436 - val_binary_accuracy: 0.9535\n",
            "Epoch 7/50\n",
            "547/547 [==============================] - 118s 216ms/step - loss: 0.0895 - binary_accuracy: 0.9760 - val_loss: 0.1498 - val_binary_accuracy: 0.9654\n",
            "Epoch 8/50\n",
            "547/547 [==============================] - 116s 213ms/step - loss: 0.2172 - binary_accuracy: 0.9202 - val_loss: 0.1479 - val_binary_accuracy: 0.9414\n",
            "Epoch 9/50\n",
            "547/547 [==============================] - 116s 212ms/step - loss: 0.1269 - binary_accuracy: 0.9616 - val_loss: 0.0757 - val_binary_accuracy: 0.9800\n",
            "Epoch 10/50\n",
            "547/547 [==============================] - 119s 217ms/step - loss: 0.2195 - binary_accuracy: 0.9167 - val_loss: 0.2359 - val_binary_accuracy: 0.9247\n",
            "Epoch 11/50\n",
            "547/547 [==============================] - 120s 219ms/step - loss: 0.1394 - binary_accuracy: 0.9544 - val_loss: 0.0895 - val_binary_accuracy: 0.9718\n",
            "Epoch 12/50\n",
            "547/547 [==============================] - 123s 225ms/step - loss: 0.0854 - binary_accuracy: 0.9734 - val_loss: 0.0493 - val_binary_accuracy: 0.9881\n",
            "Epoch 13/50\n",
            "547/547 [==============================] - 124s 227ms/step - loss: 0.1920 - binary_accuracy: 0.9367 - val_loss: 0.2533 - val_binary_accuracy: 0.9219\n",
            "Epoch 14/50\n",
            "547/547 [==============================] - 121s 222ms/step - loss: 0.2071 - binary_accuracy: 0.9296 - val_loss: 0.1469 - val_binary_accuracy: 0.9538\n",
            "Epoch 15/50\n",
            "547/547 [==============================] - 117s 214ms/step - loss: 0.1638 - binary_accuracy: 0.9451 - val_loss: 0.0834 - val_binary_accuracy: 0.9727\n",
            "Epoch 16/50\n",
            "547/547 [==============================] - 119s 218ms/step - loss: 0.0898 - binary_accuracy: 0.9740 - val_loss: 0.0717 - val_binary_accuracy: 0.9793\n",
            "Epoch 17/50\n",
            "547/547 [==============================] - 116s 212ms/step - loss: 0.0907 - binary_accuracy: 0.9697 - val_loss: 0.0561 - val_binary_accuracy: 0.9835\n",
            "Epoch 18/50\n",
            "547/547 [==============================] - 116s 212ms/step - loss: 0.1954 - binary_accuracy: 0.9293 - val_loss: 0.1169 - val_binary_accuracy: 0.9689\n",
            "Epoch 19/50\n",
            "547/547 [==============================] - 117s 214ms/step - loss: 0.1128 - binary_accuracy: 0.9677 - val_loss: 0.0639 - val_binary_accuracy: 0.9822\n",
            "Epoch 20/50\n",
            "547/547 [==============================] - 116s 213ms/step - loss: 0.0713 - binary_accuracy: 0.9810 - val_loss: 0.0426 - val_binary_accuracy: 0.9882\n",
            "Epoch 21/50\n",
            "547/547 [==============================] - 115s 209ms/step - loss: 0.0578 - binary_accuracy: 0.9858 - val_loss: 0.0422 - val_binary_accuracy: 0.9891\n",
            "Epoch 22/50\n",
            "547/547 [==============================] - 114s 209ms/step - loss: 0.0465 - binary_accuracy: 0.9890 - val_loss: 0.0316 - val_binary_accuracy: 0.9920\n",
            "Epoch 23/50\n",
            "547/547 [==============================] - 118s 216ms/step - loss: 0.0373 - binary_accuracy: 0.9915 - val_loss: 0.0253 - val_binary_accuracy: 0.9928\n",
            "Epoch 24/50\n",
            "547/547 [==============================] - 114s 209ms/step - loss: 0.0561 - binary_accuracy: 0.9876 - val_loss: 0.0239 - val_binary_accuracy: 0.9935\n",
            "Epoch 25/50\n",
            "547/547 [==============================] - 117s 214ms/step - loss: 0.0347 - binary_accuracy: 0.9910 - val_loss: 0.0372 - val_binary_accuracy: 0.9888\n",
            "Epoch 26/50\n",
            "547/547 [==============================] - 114s 208ms/step - loss: 0.0388 - binary_accuracy: 0.9904 - val_loss: 0.0273 - val_binary_accuracy: 0.9934\n",
            "Epoch 27/50\n",
            "547/547 [==============================] - 114s 208ms/step - loss: 0.0568 - binary_accuracy: 0.9858 - val_loss: 0.0241 - val_binary_accuracy: 0.9935\n",
            "Epoch 28/50\n",
            "547/547 [==============================] - 114s 208ms/step - loss: 0.0327 - binary_accuracy: 0.9919 - val_loss: 0.0753 - val_binary_accuracy: 0.9801\n",
            "Epoch 29/50\n",
            "547/547 [==============================] - 114s 208ms/step - loss: 0.0395 - binary_accuracy: 0.9905 - val_loss: 0.0238 - val_binary_accuracy: 0.9927\n",
            "Epoch 30/50\n",
            "547/547 [==============================] - 114s 209ms/step - loss: 0.0217 - binary_accuracy: 0.9947 - val_loss: 0.0145 - val_binary_accuracy: 0.9957\n",
            "Epoch 31/50\n",
            "547/547 [==============================] - 114s 208ms/step - loss: 0.0290 - binary_accuracy: 0.9925 - val_loss: 0.0170 - val_binary_accuracy: 0.9956\n",
            "Epoch 32/50\n",
            "547/547 [==============================] - 116s 212ms/step - loss: 0.0244 - binary_accuracy: 0.9927 - val_loss: 0.0088 - val_binary_accuracy: 0.9973\n",
            "Epoch 33/50\n",
            "547/547 [==============================] - 114s 209ms/step - loss: 0.0175 - binary_accuracy: 0.9955 - val_loss: 0.0112 - val_binary_accuracy: 0.9970\n",
            "Epoch 34/50\n",
            "547/547 [==============================] - 115s 211ms/step - loss: 0.0691 - binary_accuracy: 0.9763 - val_loss: 0.0208 - val_binary_accuracy: 0.9939\n",
            "Epoch 35/50\n",
            "547/547 [==============================] - 116s 211ms/step - loss: 0.0462 - binary_accuracy: 0.9868 - val_loss: 0.0491 - val_binary_accuracy: 0.9847\n",
            "Epoch 36/50\n",
            "547/547 [==============================] - 120s 219ms/step - loss: 0.0418 - binary_accuracy: 0.9882 - val_loss: 0.0398 - val_binary_accuracy: 0.9857\n",
            "Epoch 37/50\n",
            "547/547 [==============================] - 119s 217ms/step - loss: 0.0617 - binary_accuracy: 0.9841 - val_loss: 0.0293 - val_binary_accuracy: 0.9896\n",
            "Epoch 38/50\n",
            "547/547 [==============================] - 116s 212ms/step - loss: 0.0305 - binary_accuracy: 0.9910 - val_loss: 0.0266 - val_binary_accuracy: 0.9942\n",
            "Epoch 39/50\n",
            "547/547 [==============================] - 118s 217ms/step - loss: 0.0173 - binary_accuracy: 0.9957 - val_loss: 0.0126 - val_binary_accuracy: 0.9964\n",
            "Epoch 40/50\n",
            "547/547 [==============================] - 118s 215ms/step - loss: 0.0187 - binary_accuracy: 0.9965 - val_loss: 0.0092 - val_binary_accuracy: 0.9978\n",
            "Epoch 41/50\n",
            "547/547 [==============================] - 117s 213ms/step - loss: 0.0199 - binary_accuracy: 0.9957 - val_loss: 0.0097 - val_binary_accuracy: 0.9973\n",
            "Epoch 42/50\n",
            "547/547 [==============================] - 121s 221ms/step - loss: 0.0128 - binary_accuracy: 0.9969 - val_loss: 0.0129 - val_binary_accuracy: 0.9973\n",
            "Epoch 43/50\n",
            "547/547 [==============================] - 122s 223ms/step - loss: 0.0182 - binary_accuracy: 0.9944 - val_loss: 0.0144 - val_binary_accuracy: 0.9959\n",
            "Epoch 44/50\n",
            "547/547 [==============================] - 121s 221ms/step - loss: 0.0350 - binary_accuracy: 0.9891 - val_loss: 0.0111 - val_binary_accuracy: 0.9971\n",
            "Epoch 45/50\n",
            "547/547 [==============================] - 123s 225ms/step - loss: 0.0162 - binary_accuracy: 0.9957 - val_loss: 0.0145 - val_binary_accuracy: 0.9970\n",
            "Epoch 46/50\n",
            "547/547 [==============================] - 118s 216ms/step - loss: 0.0144 - binary_accuracy: 0.9968 - val_loss: 0.0042 - val_binary_accuracy: 0.9986\n",
            "Epoch 47/50\n",
            "547/547 [==============================] - 119s 217ms/step - loss: 0.0086 - binary_accuracy: 0.9976 - val_loss: 0.0034 - val_binary_accuracy: 0.9991\n",
            "Epoch 48/50\n",
            "547/547 [==============================] - 119s 217ms/step - loss: 0.0073 - binary_accuracy: 0.9981 - val_loss: 0.0056 - val_binary_accuracy: 0.9985\n",
            "Epoch 49/50\n",
            "547/547 [==============================] - 118s 216ms/step - loss: 0.0095 - binary_accuracy: 0.9981 - val_loss: 0.0041 - val_binary_accuracy: 0.9990\n",
            "Epoch 50/50\n",
            "547/547 [==============================] - 121s 222ms/step - loss: 0.0496 - binary_accuracy: 0.9855 - val_loss: 0.0165 - val_binary_accuracy: 0.9965\n"
          ]
        }
      ],
      "source": [
        "history = model.fit(X_train, y_train, batch_size=64, epochs=50, validation_data=(X_test, y_test))"
      ]
    },
    {
      "cell_type": "code",
      "execution_count": 16,
      "metadata": {
        "id": "R7QQeqVidKBR",
        "colab": {
          "base_uri": "https://localhost:8080/"
        },
        "outputId": "45ea047a-dc59-4164-8638-3584c5486b36"
      },
      "outputs": [
        {
          "output_type": "stream",
          "name": "stdout",
          "text": [
            "469/469 [==============================] - 20s 43ms/step - loss: 0.0165 - binary_accuracy: 0.9965\n"
          ]
        },
        {
          "output_type": "execute_result",
          "data": {
            "text/plain": [
              "[0.016502711921930313, 0.9965319633483887]"
            ]
          },
          "metadata": {},
          "execution_count": 16
        }
      ],
      "source": [
        "model.evaluate(X_test, y_test)"
      ]
    },
    {
      "cell_type": "code",
      "execution_count": 17,
      "metadata": {
        "id": "OHpifyqGdKn-",
        "colab": {
          "base_uri": "https://localhost:8080/"
        },
        "outputId": "4854d0c9-fccb-49c1-c261-5783ef43e7d9"
      },
      "outputs": [
        {
          "output_type": "stream",
          "name": "stdout",
          "text": [
            "469/469 [==============================] - 21s 43ms/step\n"
          ]
        }
      ],
      "source": [
        "y_test_prob = model.predict(X_test, verbose=1)"
      ]
    },
    {
      "cell_type": "code",
      "execution_count": 18,
      "metadata": {
        "id": "AfmdrBILdMwj"
      },
      "outputs": [],
      "source": [
        "y_test_pred = np.where(y_test_prob > 0.5, 1, 0)"
      ]
    },
    {
      "cell_type": "code",
      "execution_count": 19,
      "metadata": {
        "id": "8DoJy_p9dPzN"
      },
      "outputs": [],
      "source": [
        "from sklearn.metrics import confusion_matrix"
      ]
    },
    {
      "cell_type": "code",
      "execution_count": 20,
      "metadata": {
        "id": "fTCsPjW8dQaZ",
        "colab": {
          "base_uri": "https://localhost:8080/"
        },
        "outputId": "78614a3d-e30f-4d2d-ed0c-44c3c854ea57"
      },
      "outputs": [
        {
          "output_type": "execute_result",
          "data": {
            "text/plain": [
              "array([[7394,   20],\n",
              "       [  32, 7548]])"
            ]
          },
          "metadata": {},
          "execution_count": 20
        }
      ],
      "source": [
        "confusion_matrix(y_test, y_test_pred)"
      ]
    },
    {
      "cell_type": "code",
      "execution_count": 21,
      "metadata": {
        "id": "te3fslrY9Eca",
        "colab": {
          "base_uri": "https://localhost:8080/",
          "height": 685
        },
        "outputId": "333cf086-854b-450d-9685-d481445d5a81"
      },
      "outputs": [
        {
          "output_type": "stream",
          "name": "stdout",
          "text": [
            "Confusion matrix, without normalization\n",
            "[[7394   20]\n",
            " [  32 7548]]\n",
            "Normalized confusion matrix\n",
            "[[1. 0.]\n",
            " [0. 1.]]\n"
          ]
        },
        {
          "output_type": "display_data",
          "data": {
            "text/plain": [
              "<Figure size 432x288 with 2 Axes>"
            ],
            "image/png": "[encoded data removed]"
          },
          "metadata": {
            "needs_background": "light"
          }
        },
        {
          "output_type": "display_data",
          "data": {
            "text/plain": [
              "<Figure size 432x288 with 2 Axes>"
            ],
            "image/png": "[encoded data removed]"
          },
          "metadata": {
            "needs_background": "light"
          }
        }
      ],
      "source": [
        "import numpy as np\n",
        "import matplotlib.pyplot as plt\n",
        "\n",
        "from sklearn import svm, datasets\n",
        "from sklearn.model_selection import train_test_split\n",
        "from sklearn.metrics import confusion_matrix\n",
        "from sklearn.utils.multiclass import unique_labels\n",
        "\n",
        "class_names = np.array(['0', '1'])\n",
        "\n",
        "def plot_confusion_matrix(y_true, y_pred, classes,\n",
        "                          normalize=False,\n",
        "                          title=None,\n",
        "                          cmap=plt.cm.Blues):\n",
        "    \"\"\"\n",
        "    This function prints and plots the confusion matrix.\n",
        "    Normalization can be applied by setting `normalize=True`.\n",
        "    \"\"\"\n",
        "    if not title:\n",
        "        if normalize:\n",
        "            title = 'Normalized confusion matrix'\n",
        "        else:\n",
        "            title = 'Confusion matrix, without normalization'\n",
        "\n",
        "    # Compute confusion matrix\n",
        "    cm = confusion_matrix(y_true, y_pred)\n",
        "    # Only use the labels that appear in the data\n",
        "    classes = classes[unique_labels(y_true, y_pred)]\n",
        "    if normalize:\n",
        "        cm = cm.astype('float') / cm.sum(axis=1)[:, np.newaxis]\n",
        "        print(\"Normalized confusion matrix\")\n",
        "    else:\n",
        "        print('Confusion matrix, without normalization')\n",
        "\n",
        "    print(cm)\n",
        "\n",
        "    fig, ax = plt.subplots()\n",
        "    im = ax.imshow(cm, interpolation='nearest', cmap=cmap)\n",
        "    ax.figure.colorbar(im, ax=ax)\n",
        "    # We want to show all ticks...\n",
        "    ax.set(xticks=np.arange(cm.shape[1]),\n",
        "           yticks=np.arange(cm.shape[0]),\n",
        "           # ... and label them with the respective list entries\n",
        "           xticklabels=classes, yticklabels=classes,\n",
        "           title=title,\n",
        "           ylabel='True label',\n",
        "           xlabel='Predicted label')\n",
        "\n",
        "    # Rotate the tick labels and set their alignment.\n",
        "    plt.setp(ax.get_xticklabels(), rotation=45, ha=\"right\",\n",
        "             rotation_mode=\"anchor\")\n",
        "\n",
        "    # Loop over data dimensions and create text annotations.\n",
        "    fmt = '.2f' if normalize else 'd'\n",
        "    thresh = cm.max() / 2.\n",
        "    for i in range(cm.shape[0]):\n",
        "        for j in range(cm.shape[1]):\n",
        "            ax.text(j, i, format(cm[i, j], fmt),\n",
        "                    ha=\"center\", va=\"center\",\n",
        "                    color=\"white\" if cm[i, j] > thresh else \"black\")\n",
        "    fig.tight_layout()\n",
        "\n",
        "    return ax\n",
        "\n",
        "\n",
        "np.set_printoptions(precision=2)\n",
        "\n",
        "# Plot non-normalized confusion matrix\n",
        "plot_confusion_matrix(y_test, y_test_pred, classes=class_names,\n",
        "                      title='Confusion matrix, without normalization')\n",
        "\n",
        "# Plot normalized confusion matrix\n",
        "plot_confusion_matrix(y_test, y_test_pred, classes=class_names, normalize=True,\n",
        "                      title='Normalized confusion matrix')\n",
        "\n",
        "plt.show()"
      ]
    },
    {
      "cell_type": "code",
      "source": [
        "def plot_learningCurve(history, epoch):\n",
        "  # Plot training & validation accuracy values\n",
        "  epoch_range = range(1, epoch+1)\n",
        "  plt.plot(epoch_range, history.history['binary_accuracy'])\n",
        "  plt.plot(epoch_range, history.history['val_binary_accuracy'])\n",
        "  plt.title('Model accuracy')\n",
        "  plt.ylabel('Accuracy')\n",
        "  plt.xlabel('Epoch')\n",
        "  plt.legend(['Train', 'Val'], loc='upper left')\n",
        "  plt.show()\n",
        "\n",
        "  # Plot training & validation loss values\n",
        "  plt.plot(epoch_range, history.history['loss'])\n",
        "  plt.plot(epoch_range, history.history['val_loss'])\n",
        "  plt.title('Model loss')\n",
        "  plt.ylabel('Loss')\n",
        "  plt.xlabel('Epoch')\n",
        "  plt.legend(['Train', 'Val'], loc='upper left')\n",
        "  plt.show()"
      ],
      "metadata": {
        "id": "fhdLAhgPUnH3"
      },
      "execution_count": 22,
      "outputs": []
    },
    {
      "cell_type": "code",
      "source": [
        "plot_learningCurve(history, 50)"
      ],
      "metadata": {
        "id": "WlkQkWHgU5mL",
        "colab": {
          "base_uri": "https://localhost:8080/",
          "height": 573
        },
        "outputId": "31f042b2-4e36-4c20-eed6-e91ced691081"
      },
      "execution_count": 23,
      "outputs": [
        {
          "output_type": "display_data",
          "data": {
            "text/plain": [
              "<Figure size 432x288 with 1 Axes>"
            ],
            "image/png": "[encoded data removed]"
          },
          "metadata": {
            "needs_background": "light"
          }
        },
        {
          "output_type": "display_data",
          "data": {
            "text/plain": [
              "<Figure size 432x288 with 1 Axes>"
            ],
            "image/png": "[encoded data removed]"
          },
          "metadata": {
            "needs_background": "light"
          }
        }
      ]
    }
  ],
  "metadata": {
    "colab": {
      "collapsed_sections": [
        "f857kfHqUk0-"
      ],
      "name": "MD LSTM step 10.ipynb",
      "provenance": [],
      "authorship_tag": "ABX9TyPfY76JJilsw5O79Pf8A54A",
      "include_colab_link": true
    },
    "kernelspec": {
      "display_name": "Python 3",
      "name": "python3"
    },
    "language_info": {
      "name": "python"
    }
  },
  "nbformat": 4,
  "nbformat_minor": 0
}
