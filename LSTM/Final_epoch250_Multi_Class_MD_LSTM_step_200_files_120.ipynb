{
  "cells": [
    {
      "cell_type": "markdown",
      "metadata": {
        "id": "view-in-github",
        "colab_type": "text"
      },
      "source": [
        "<a href=\"https://colab.research.google.com/github/kwanderer/MachineLearning/blob/main/LSTM/Final_epoch250_Multi_Class_MD_LSTM_step_200_files_120.ipynb\" target=\"_parent\"><img src=\"https://colab.research.google.com/assets/colab-badge.svg\" alt=\"Open In Colab\"/></a>"
      ]
    },
    {
      "cell_type": "markdown",
      "metadata": {
        "id": "f857kfHqUk0-"
      },
      "source": [
        "\n",
        "\n",
        "#Datu kopa"
      ]
    },
    {
      "cell_type": "markdown",
      "metadata": {
        "id": "nM9WE3QGUwVi"
      },
      "source": [
        "Datu kopas avots: https://www.kaggle.com/uysalserkan/fault-induction-motor-dataset"
      ]
    },
    {
      "cell_type": "markdown",
      "metadata": {
        "id": "_sN_h3qHHy6r"
      },
      "source": [
        "Darbā tiek izmantota indukcijas motora parametru datu bāze. Izmantotajā datu kopā ir dati, kas tika iegūti SpectraQuest aparatūras kļūdu simulatorā (Machinery Fault Simulator).\n",
        "\n",
        "Katra mērījumu secība tika ģenerēta ar frekvenci 50 kHz 5 sekunžu laikā, kopā 250 000 mērījumi.\n",
        "\n",
        "Dati ir apkopoti vairākos failos, dažādos darbības stāvokļos un to apjoms ir ļoti liels. Šajā darbā tika izmantota daļa(viena mērījumu secība) no motora normālas darbības datiem.\n"
      ]
    },
    {
      "cell_type": "markdown",
      "metadata": {
        "id": "KtFAOaHYHLPo"
      },
      "source": [
        "Dati ir apkopoti tabulā, kura satur 8 parametrus. Dati ir iedalīti sekojošās kolonas:\n",
        "\n",
        "**tachometer** – tahometra signāls, kas ļauj novērtēt rotācijas frekvenci\n",
        "\n",
        "**und-accelerometer-axial** - apakšā esošā gultņa akselerometrs (aksiālais virziens)\n",
        "\n",
        "**und-accelerometer-radial** – apakšā esošā gultņa akselerometrs (radiālais virziens)\n",
        "\n",
        "**und-accelerometer-tangential** - apakšā esošā gultņa akselerometrs (tangenciālais virziens)\n",
        "\n",
        "**over-accelerometer-axial** - pārkares gultņa akselerometrs (aksiālais virziens)\n",
        "\n",
        "**over-accelerometer-radial** – pārkares gultņa akselerometrs (radiālais  virziens)\n",
        "\n",
        "**over-accelerometer-tangential**  - pārkares gultņa akselerometrs (tangenciālais virziens)\n",
        "\n",
        "**microphone** – mikrofona vērtība\n"
      ]
    },
    {
      "cell_type": "markdown",
      "metadata": {
        "id": "XymoNLKMVFUC"
      },
      "source": [
        "#Datu ielasīšana un satura vizualizācija"
      ]
    },
    {
      "cell_type": "code",
      "execution_count": null,
      "metadata": {
        "id": "_yqYZDeOFq5s"
      },
      "outputs": [],
      "source": [
        "import keras\n",
        "from keras.layers import LSTM, Dropout, Dense\n",
        "import tensorflow as tf\n",
        "import numpy as np\n",
        "import pandas as pd\n",
        "\n",
        "from sklearn import linear_model  #pip install sklearn - loti plasa masinapmacibas biblioteka\n",
        "from sklearn.linear_model import LinearRegression  \n",
        "import csv          #pip install csv - darbam ar CSV datu kopam\n",
        "import requests     #pip install requests  - vienkarsakam darbam ar tiessaistes CSV datu kopam tiessaistes\n",
        "\n",
        "import matplotlib\n",
        "import matplotlib.pyplot as plt\n",
        "\n",
        "import glob\n"
      ]
    },
    {
      "cell_type": "code",
      "execution_count": null,
      "metadata": {
        "id": "wlRTBbM2eUcV",
        "colab": {
          "base_uri": "https://localhost:8080/"
        },
        "outputId": "e19a918a-9d14-45b8-aba8-5195ba3aeb82"
      },
      "outputs": [
        {
          "output_type": "stream",
          "name": "stdout",
          "text": [
            "Mounted at /content/gdrive\n"
          ]
        }
      ],
      "source": [
        "from google.colab import drive\n",
        "import os\n",
        "drive.mount('/content/gdrive')\n",
        "os.chdir(\"/content/gdrive/MyDrive/Colab Notebooks/data_multiclass\")"
      ]
    },
    {
      "cell_type": "code",
      "execution_count": null,
      "metadata": {
        "id": "zzz6fBl_SNom"
      },
      "outputs": [],
      "source": [
        "#extension = 'csv'\n",
        "#all_filenames = [i for i in glob.glob('*.{}'.format(extension))]"
      ]
    },
    {
      "cell_type": "code",
      "execution_count": null,
      "metadata": {
        "id": "vagKFCkToBi0"
      },
      "outputs": [],
      "source": [
        "#combine all files in the list\n",
        "#combined_csv = pd.concat([pd.read_csv(f) for f in all_filenames ])\n",
        "#export to csv\n",
        "#combined_csv.to_csv( \"combined_multiclass_csv.csv\", index=False, encoding='utf-8-sig')"
      ]
    },
    {
      "cell_type": "code",
      "execution_count": null,
      "metadata": {
        "id": "encEkbDhSfGI"
      },
      "outputs": [],
      "source": [
        "data = pd.read_csv(\"combined_multiclass_csv.csv\")"
      ]
    },
    {
      "cell_type": "code",
      "execution_count": null,
      "metadata": {
        "id": "yz5Qe8ZWk1Zq",
        "colab": {
          "base_uri": "https://localhost:8080/"
        },
        "outputId": "b2fb7760-2ae9-4df0-dfb2-d4bf41b8a9b8"
      },
      "outputs": [
        {
          "output_type": "stream",
          "name": "stdout",
          "text": [
            "<class 'pandas.core.frame.DataFrame'>\n",
            "RangeIndex: 30000000 entries, 0 to 29999999\n",
            "Data columns (total 9 columns):\n",
            " #   Column                         Dtype  \n",
            "---  ------                         -----  \n",
            " 0   tachometer                     float64\n",
            " 1   und-accelerometer-axial        float64\n",
            " 2   und-accelerometer-radial       float64\n",
            " 3   und-accelerometer-tangential   float64\n",
            " 4   over-accelerometer-axial       float64\n",
            " 5   over-accelerometer-radial      float64\n",
            " 6   over-accelerometer-tangential  float64\n",
            " 7   microphone                     float64\n",
            " 8   Class                          int64  \n",
            "dtypes: float64(8), int64(1)\n",
            "memory usage: 2.0 GB\n"
          ]
        }
      ],
      "source": [
        "data.info()"
      ]
    },
    {
      "cell_type": "code",
      "execution_count": null,
      "metadata": {
        "id": "WUW9ezX6a_st",
        "colab": {
          "base_uri": "https://localhost:8080/"
        },
        "outputId": "bfcd5683-1dd6-4595-97d2-f9bf89a49b25"
      },
      "outputs": [
        {
          "output_type": "execute_result",
          "data": {
            "text/plain": [
              "30000000"
            ]
          },
          "metadata": {},
          "execution_count": 7
        }
      ],
      "source": [
        "rec_count = len(data)\n",
        "rec_count"
      ]
    },
    {
      "cell_type": "markdown",
      "metadata": {
        "id": "6RVC1PZy88fC"
      },
      "source": [
        "# Datu dalīšana mazākos gabalos"
      ]
    },
    {
      "cell_type": "code",
      "execution_count": null,
      "metadata": {
        "id": "DOvnCYkcbGaE"
      },
      "outputs": [],
      "source": [
        "sequence_length = 200"
      ]
    },
    {
      "cell_type": "code",
      "execution_count": null,
      "metadata": {
        "id": "RG0o2L3zbTEx"
      },
      "outputs": [],
      "source": [
        "def generate_data(X, y, sequence_length = 200, step = 200):\n",
        "    X_local = []\n",
        "    y_local = []\n",
        "    for start in range(0, len(data) - sequence_length, step):\n",
        "        end = start + sequence_length\n",
        "        X_local.append(X[start:end])\n",
        "        y_local.append(y[end-1])\n",
        "    return np.array(X_local), np.array(y_local)\n",
        "\n",
        "X_sequence, y = generate_data(data.loc[:, \"tachometer\":\"microphone\"].values, data.Class)\n",
        "#X_sequence, y = generate_data(data.loc[:, [\"und-accelerometer-axial\", \"und-accelerometer-radial\", \"und-accelerometer-tangential\", \"microphone\"]].values, data.Class)\n"
      ]
    },
    {
      "cell_type": "code",
      "execution_count": null,
      "metadata": {
        "id": "s0QxwK66cLVF",
        "colab": {
          "base_uri": "https://localhost:8080/"
        },
        "outputId": "bab434f9-9592-472e-d96d-42dfc0c5b926"
      },
      "outputs": [
        {
          "output_type": "execute_result",
          "data": {
            "text/plain": [
              "((149999, 200, 8), (149999,))"
            ]
          },
          "metadata": {},
          "execution_count": 10
        }
      ],
      "source": [
        "X_sequence.shape, y.shape"
      ]
    },
    {
      "cell_type": "code",
      "source": [
        "#np.save(\"mydata.npy\",X_sequence)"
      ],
      "metadata": {
        "id": "kvpMrUzMgZGE"
      },
      "execution_count": null,
      "outputs": []
    },
    {
      "cell_type": "code",
      "source": [
        "#b = np.load(\"mydata.npy\")"
      ],
      "metadata": {
        "id": "fxB_2ohGgkXJ"
      },
      "execution_count": null,
      "outputs": []
    },
    {
      "cell_type": "code",
      "source": [
        "#b.shape"
      ],
      "metadata": {
        "id": "HguuDdetguf7"
      },
      "execution_count": null,
      "outputs": []
    },
    {
      "cell_type": "code",
      "source": [
        "unique, counts = np.unique(y, return_counts=True)"
      ],
      "metadata": {
        "id": "l8Lq455lV1JR"
      },
      "execution_count": null,
      "outputs": []
    },
    {
      "cell_type": "code",
      "source": [
        "unique"
      ],
      "metadata": {
        "id": "t0BRO3nAWQxe",
        "colab": {
          "base_uri": "https://localhost:8080/"
        },
        "outputId": "d6f6abc9-86f8-4d24-a356-aecac2753643"
      },
      "execution_count": null,
      "outputs": [
        {
          "output_type": "execute_result",
          "data": {
            "text/plain": [
              "array([0, 1, 2, 3, 4, 5, 6, 7])"
            ]
          },
          "metadata": {},
          "execution_count": 15
        }
      ]
    },
    {
      "cell_type": "code",
      "source": [
        "counts"
      ],
      "metadata": {
        "id": "WWZ7QWR4WS_r",
        "colab": {
          "base_uri": "https://localhost:8080/"
        },
        "outputId": "6578a742-7f5c-4435-ed01-e55794998d95"
      },
      "execution_count": null,
      "outputs": [
        {
          "output_type": "execute_result",
          "data": {
            "text/plain": [
              "array([18749, 18750, 18750, 18750, 18750, 18750, 18750, 18750])"
            ]
          },
          "metadata": {},
          "execution_count": 16
        }
      ]
    },
    {
      "cell_type": "code",
      "execution_count": null,
      "metadata": {
        "id": "i7R1oo6Mj8wx"
      },
      "outputs": [],
      "source": [
        "data = 0"
      ]
    },
    {
      "cell_type": "code",
      "source": [
        "from sklearn.preprocessing import OneHotEncoder"
      ],
      "metadata": {
        "id": "lAk_JscRWmqY"
      },
      "execution_count": null,
      "outputs": []
    },
    {
      "cell_type": "code",
      "source": [
        "label_encoder = OneHotEncoder(sparse=False)\n",
        "label_encoder.fit(y.reshape(-1,1))"
      ],
      "metadata": {
        "id": "14B9aYy0W0y6",
        "colab": {
          "base_uri": "https://localhost:8080/"
        },
        "outputId": "e5a3fbed-1103-486a-d1fe-728ff895147d"
      },
      "execution_count": null,
      "outputs": [
        {
          "output_type": "execute_result",
          "data": {
            "text/plain": [
              "OneHotEncoder(sparse=False)"
            ]
          },
          "metadata": {},
          "execution_count": 19
        }
      ]
    },
    {
      "cell_type": "code",
      "source": [
        "y_encoded = label_encoder.transform(y.reshape(-1,1))"
      ],
      "metadata": {
        "id": "VjpWn96xXgPS"
      },
      "execution_count": null,
      "outputs": []
    },
    {
      "cell_type": "code",
      "source": [
        "y_encoded[0:5]"
      ],
      "metadata": {
        "id": "VL6KMFo9XpBi",
        "colab": {
          "base_uri": "https://localhost:8080/"
        },
        "outputId": "8f86f656-3175-450e-8b3b-1892cd95208f"
      },
      "execution_count": null,
      "outputs": [
        {
          "output_type": "execute_result",
          "data": {
            "text/plain": [
              "array([[0., 0., 0., 0., 0., 0., 0., 1.],\n",
              "       [0., 0., 0., 0., 0., 0., 0., 1.],\n",
              "       [0., 0., 0., 0., 0., 0., 0., 1.],\n",
              "       [0., 0., 0., 0., 0., 0., 0., 1.],\n",
              "       [0., 0., 0., 0., 0., 0., 0., 1.]])"
            ]
          },
          "metadata": {},
          "execution_count": 21
        }
      ]
    },
    {
      "cell_type": "code",
      "source": [
        "y=y_encoded"
      ],
      "metadata": {
        "id": "5c8km253YKBl"
      },
      "execution_count": null,
      "outputs": []
    },
    {
      "cell_type": "markdown",
      "metadata": {
        "id": "5BXSDoHa9UX_"
      },
      "source": [
        "# Random/Shuffle"
      ]
    },
    {
      "cell_type": "code",
      "execution_count": null,
      "metadata": {
        "id": "ZcfE9idy-ckb"
      },
      "outputs": [],
      "source": [
        "shuffler = np.random.RandomState(seed=42).permutation(len(X_sequence))\n",
        "X_sequence_shuffled = X_sequence[shuffler]\n",
        "y_shuffled = y[shuffler]"
      ]
    },
    {
      "cell_type": "markdown",
      "metadata": {
        "id": "TfhRTTNcE2s8"
      },
      "source": [
        "# LSTM"
      ]
    },
    {
      "cell_type": "code",
      "execution_count": null,
      "metadata": {
        "id": "ihrXMuVAEwlY"
      },
      "outputs": [],
      "source": [
        "import pandas as pd\n",
        "import sklearn.metrics as metrique\n",
        "from pandas import Series\n",
        "from sklearn.preprocessing import StandardScaler, MinMaxScaler\n",
        "from matplotlib import pyplot\n",
        "from sklearn.model_selection import train_test_split\n",
        "import numpy as np\n",
        "import tensorflow as tf\n",
        "import sys\n",
        "import numpy as np\n",
        "import pandas as pd\n",
        "import tensorflow as tf\n",
        "import matplotlib.pyplot as plt\n",
        "from sklearn.model_selection import train_test_split\n",
        "from sklearn import preprocessing\n",
        "from sklearn.preprocessing import StandardScaler\n",
        "from sklearn.metrics import classification_report\n",
        "import warnings\n",
        "warnings.filterwarnings('ignore')\n",
        "plt.style.use('ggplot')\n",
        "import seaborn as sns \n",
        "%matplotlib inline\n",
        "from keras.callbacks import EarlyStopping\n",
        "from keras.callbacks import ModelCheckpoint\n",
        "from sklearn.metrics import accuracy_score\n",
        "from sklearn.metrics import classification_report, confusion_matrix\n",
        "from keras.models import Sequential\n",
        "from keras.utils import np_utils\n",
        "from keras.layers import LSTM, Dense, Embedding, Dropout,Input, Layer, Concatenate, Permute, Dot, Multiply, Flatten\n",
        "from keras.layers import RepeatVector, Dense, Activation, Lambda\n",
        "from keras.models import Sequential\n",
        "from keras import backend as K, regularizers, Model, metrics\n",
        "from keras.backend import cast"
      ]
    },
    {
      "cell_type": "code",
      "execution_count": null,
      "metadata": {
        "id": "PjKWKiA6aH3z"
      },
      "outputs": [],
      "source": [
        "#from tensorflow.keras import optimizers\n",
        "#sgd = optimizers.SGD(lr=0.0001, decay=1e-6, momentum=0.9, nesterov=True)\n",
        "#model = keras.Sequential()\n",
        "#model.add(LSTM(100, input_shape = (200, 8)))\n",
        "#model.add(Dropout(0.5))\n",
        "#model.add(Dense(1, activation=\"softmax\"))\n",
        "\n",
        "\n",
        "#model.compile(loss=\"categorical_crossentropy\"\n",
        "#              , metrics=[keras.metrics.binary_accuracy]\n",
        "#              , optimizer='sgd')\n",
        "\n",
        "#model.summary()"
      ]
    },
    {
      "cell_type": "code",
      "execution_count": null,
      "metadata": {
        "id": "_2SaVmwSWJVB",
        "colab": {
          "base_uri": "https://localhost:8080/"
        },
        "outputId": "bd95d583-61dd-4388-c8bf-0389441f5b48"
      },
      "outputs": [
        {
          "output_type": "stream",
          "name": "stdout",
          "text": [
            "Model: \"sequential\"\n",
            "_________________________________________________________________\n",
            " Layer (type)                Output Shape              Param #   \n",
            "=================================================================\n",
            " lstm (LSTM)                 (None, 300)               370800    \n",
            "                                                                 \n",
            " dropout (Dropout)           (None, 300)               0         \n",
            "                                                                 \n",
            " dense (Dense)               (None, 8)                 2408      \n",
            "                                                                 \n",
            "=================================================================\n",
            "Total params: 373,208\n",
            "Trainable params: 373,208\n",
            "Non-trainable params: 0\n",
            "_________________________________________________________________\n"
          ]
        }
      ],
      "source": [
        "from tensorflow.keras import optimizers\n",
        "#sgd = optimizers.SGD(lr=0.0001, decay=1e-6, momentum=0.9, nesterov=True)\n",
        "optimizer = tf.keras.optimizers.Adam(lr=0.0001)\n",
        "model = keras.Sequential()\n",
        "model.add(LSTM(300, input_shape = (200, 8)))\n",
        "model.add(Dropout(0.5))\n",
        "model.add(Dense(8, activation=\"softmax\"))# dense 1, activation - relu/sigmoid\n",
        "\n",
        "#model.compile(loss='mean_squared_error', optimizer=sgd)\n",
        "model.compile(loss=\"categorical_crossentropy\" #mse\n",
        "              , metrics=['accuracy']\n",
        "              , optimizer=optimizer)\n",
        "\n",
        "model.summary()"
      ]
    },
    {
      "cell_type": "code",
      "execution_count": null,
      "metadata": {
        "id": "tg8wrqsqc8UX"
      },
      "outputs": [],
      "source": [
        "training_size = int(len(X_sequence) * 0.8)\n",
        "val_size = int(len(X_sequence) * 0.9)"
      ]
    },
    {
      "cell_type": "code",
      "execution_count": null,
      "metadata": {
        "id": "avIp3TEKc-qF"
      },
      "outputs": [],
      "source": [
        "X_train, y_train = X_sequence_shuffled[:training_size], y_shuffled[:training_size]\n",
        "X_val, y_val = X_sequence_shuffled[training_size:val_size], y_shuffled[training_size:val_size]\n",
        "X_test, y_test = X_sequence_shuffled[val_size:], y_shuffled[val_size:]"
      ]
    },
    {
      "cell_type": "code",
      "execution_count": null,
      "metadata": {
        "id": "RABc_uKzkBUT"
      },
      "outputs": [],
      "source": [
        "#X_sequence = 0\n",
        "#y = 0"
      ]
    },
    {
      "cell_type": "code",
      "source": [
        "X_train.shape"
      ],
      "metadata": {
        "id": "Omv-ht1dhGxL",
        "colab": {
          "base_uri": "https://localhost:8080/"
        },
        "outputId": "653f8229-b976-4c60-8d73-de9cb0323289"
      },
      "execution_count": null,
      "outputs": [
        {
          "output_type": "execute_result",
          "data": {
            "text/plain": [
              "(119999, 200, 8)"
            ]
          },
          "metadata": {},
          "execution_count": 31
        }
      ]
    },
    {
      "cell_type": "code",
      "execution_count": null,
      "metadata": {
        "id": "8aIhPJ-wLCwZ",
        "colab": {
          "base_uri": "https://localhost:8080/"
        },
        "outputId": "cf34d2e4-771a-48b0-d3ae-672370779d5a"
      },
      "outputs": [
        {
          "output_type": "execute_result",
          "data": {
            "text/plain": [
              "array([[0., 0., 0., 0., 1., 0., 0., 0.],\n",
              "       [0., 0., 0., 0., 0., 0., 1., 0.],\n",
              "       [0., 1., 0., 0., 0., 0., 0., 0.],\n",
              "       [1., 0., 0., 0., 0., 0., 0., 0.],\n",
              "       [1., 0., 0., 0., 0., 0., 0., 0.],\n",
              "       [0., 0., 1., 0., 0., 0., 0., 0.],\n",
              "       [0., 0., 0., 0., 0., 1., 0., 0.],\n",
              "       [0., 0., 0., 0., 0., 1., 0., 0.],\n",
              "       [0., 0., 0., 0., 1., 0., 0., 0.],\n",
              "       [0., 0., 0., 0., 1., 0., 0., 0.]])"
            ]
          },
          "metadata": {},
          "execution_count": 32
        }
      ],
      "source": [
        "y_train[:10]"
      ]
    },
    {
      "cell_type": "code",
      "execution_count": null,
      "metadata": {
        "id": "cen4faX0dFJP",
        "colab": {
          "base_uri": "https://localhost:8080/"
        },
        "outputId": "65c54644-8a21-48c0-fa2c-7e6b26d166f6"
      },
      "outputs": [
        {
          "output_type": "stream",
          "name": "stdout",
          "text": [
            "Epoch 1/250\n",
            "1875/1875 [==============================] - 43s 20ms/step - loss: 1.7694 - accuracy: 0.2629 - val_loss: 1.6699 - val_accuracy: 0.3263\n",
            "Epoch 2/250\n",
            "1875/1875 [==============================] - 38s 20ms/step - loss: 1.6477 - accuracy: 0.3209 - val_loss: 1.5358 - val_accuracy: 0.3556\n",
            "Epoch 3/250\n",
            "1875/1875 [==============================] - 39s 21ms/step - loss: 1.6906 - accuracy: 0.3144 - val_loss: 1.5498 - val_accuracy: 0.3689\n",
            "Epoch 4/250\n",
            "1875/1875 [==============================] - 38s 20ms/step - loss: 1.7863 - accuracy: 0.2891 - val_loss: 1.7342 - val_accuracy: 0.3077\n",
            "Epoch 5/250\n",
            "1875/1875 [==============================] - 39s 21ms/step - loss: 1.8044 - accuracy: 0.2656 - val_loss: 1.5934 - val_accuracy: 0.3488\n",
            "Epoch 6/250\n",
            "1875/1875 [==============================] - 38s 20ms/step - loss: 1.5808 - accuracy: 0.3533 - val_loss: 1.7101 - val_accuracy: 0.3334\n",
            "Epoch 7/250\n",
            "1875/1875 [==============================] - 38s 20ms/step - loss: 1.6099 - accuracy: 0.3438 - val_loss: 1.5003 - val_accuracy: 0.3855\n",
            "Epoch 8/250\n",
            "1875/1875 [==============================] - 38s 20ms/step - loss: 1.6092 - accuracy: 0.3493 - val_loss: 1.5907 - val_accuracy: 0.3410\n",
            "Epoch 9/250\n",
            "1875/1875 [==============================] - 38s 20ms/step - loss: 1.5863 - accuracy: 0.3513 - val_loss: 1.5625 - val_accuracy: 0.3693\n",
            "Epoch 10/250\n",
            "1875/1875 [==============================] - 38s 20ms/step - loss: 1.5307 - accuracy: 0.3775 - val_loss: 1.4751 - val_accuracy: 0.3907\n",
            "Epoch 11/250\n",
            "1875/1875 [==============================] - 38s 20ms/step - loss: 1.5103 - accuracy: 0.3892 - val_loss: 1.9603 - val_accuracy: 0.2634\n",
            "Epoch 12/250\n",
            "1875/1875 [==============================] - 38s 20ms/step - loss: 1.6982 - accuracy: 0.3146 - val_loss: 1.6410 - val_accuracy: 0.3409\n",
            "Epoch 13/250\n",
            "1875/1875 [==============================] - 38s 20ms/step - loss: 1.6139 - accuracy: 0.3436 - val_loss: 1.5565 - val_accuracy: 0.3797\n",
            "Epoch 14/250\n",
            "1875/1875 [==============================] - 38s 20ms/step - loss: 1.4925 - accuracy: 0.3932 - val_loss: 1.4508 - val_accuracy: 0.4075\n",
            "Epoch 15/250\n",
            "1875/1875 [==============================] - 38s 21ms/step - loss: 1.4891 - accuracy: 0.3930 - val_loss: 1.4056 - val_accuracy: 0.4211\n",
            "Epoch 16/250\n",
            "1875/1875 [==============================] - 39s 21ms/step - loss: 1.5622 - accuracy: 0.3719 - val_loss: 1.5315 - val_accuracy: 0.3740\n",
            "Epoch 17/250\n",
            "1875/1875 [==============================] - 38s 21ms/step - loss: 1.5094 - accuracy: 0.3817 - val_loss: 1.3926 - val_accuracy: 0.4329\n",
            "Epoch 18/250\n",
            "1875/1875 [==============================] - 38s 20ms/step - loss: 1.4423 - accuracy: 0.4090 - val_loss: 1.4388 - val_accuracy: 0.4133\n",
            "Epoch 19/250\n",
            "1875/1875 [==============================] - 38s 20ms/step - loss: 1.4099 - accuracy: 0.4211 - val_loss: 1.3372 - val_accuracy: 0.4523\n",
            "Epoch 20/250\n",
            "1875/1875 [==============================] - 39s 21ms/step - loss: 1.5234 - accuracy: 0.3855 - val_loss: 1.4613 - val_accuracy: 0.4045\n",
            "Epoch 21/250\n",
            "1875/1875 [==============================] - 38s 20ms/step - loss: 1.3967 - accuracy: 0.4304 - val_loss: 1.3552 - val_accuracy: 0.4385\n",
            "Epoch 22/250\n",
            "1875/1875 [==============================] - 39s 21ms/step - loss: 1.3649 - accuracy: 0.4420 - val_loss: 1.3339 - val_accuracy: 0.4329\n",
            "Epoch 23/250\n",
            "1875/1875 [==============================] - 38s 20ms/step - loss: 1.4776 - accuracy: 0.4109 - val_loss: 1.3495 - val_accuracy: 0.4586\n",
            "Epoch 24/250\n",
            "1875/1875 [==============================] - 38s 20ms/step - loss: 1.3709 - accuracy: 0.4490 - val_loss: 1.3806 - val_accuracy: 0.4425\n",
            "Epoch 25/250\n",
            "1875/1875 [==============================] - 38s 20ms/step - loss: 1.3423 - accuracy: 0.4537 - val_loss: 1.2563 - val_accuracy: 0.4873\n",
            "Epoch 26/250\n",
            "1875/1875 [==============================] - 39s 21ms/step - loss: 1.3264 - accuracy: 0.4606 - val_loss: 1.2094 - val_accuracy: 0.5032\n",
            "Epoch 27/250\n",
            "1875/1875 [==============================] - 39s 21ms/step - loss: 1.2229 - accuracy: 0.4994 - val_loss: 1.1795 - val_accuracy: 0.5216\n",
            "Epoch 28/250\n",
            "1875/1875 [==============================] - 39s 21ms/step - loss: 1.1958 - accuracy: 0.5122 - val_loss: 1.1423 - val_accuracy: 0.5323\n",
            "Epoch 29/250\n",
            "1875/1875 [==============================] - 38s 20ms/step - loss: 1.1731 - accuracy: 0.5184 - val_loss: 1.1556 - val_accuracy: 0.5306\n",
            "Epoch 30/250\n",
            "1875/1875 [==============================] - 38s 20ms/step - loss: 1.1384 - accuracy: 0.5337 - val_loss: 1.1154 - val_accuracy: 0.5427\n",
            "Epoch 31/250\n",
            "1875/1875 [==============================] - 39s 21ms/step - loss: 1.1107 - accuracy: 0.5455 - val_loss: 1.0840 - val_accuracy: 0.5591\n",
            "Epoch 32/250\n",
            "1875/1875 [==============================] - 38s 20ms/step - loss: 1.0918 - accuracy: 0.5526 - val_loss: 1.0421 - val_accuracy: 0.5746\n",
            "Epoch 33/250\n",
            "1875/1875 [==============================] - 38s 20ms/step - loss: 1.0665 - accuracy: 0.5626 - val_loss: 1.0406 - val_accuracy: 0.5805\n",
            "Epoch 34/250\n",
            "1875/1875 [==============================] - 38s 20ms/step - loss: 1.0507 - accuracy: 0.5688 - val_loss: 1.0188 - val_accuracy: 0.5893\n",
            "Epoch 35/250\n",
            "1875/1875 [==============================] - 38s 20ms/step - loss: 1.0187 - accuracy: 0.5820 - val_loss: 1.0153 - val_accuracy: 0.5943\n",
            "Epoch 36/250\n",
            "1875/1875 [==============================] - 38s 20ms/step - loss: 0.9963 - accuracy: 0.5912 - val_loss: 0.9547 - val_accuracy: 0.6087\n",
            "Epoch 37/250\n",
            "1875/1875 [==============================] - 38s 20ms/step - loss: 0.9829 - accuracy: 0.5960 - val_loss: 0.9560 - val_accuracy: 0.6091\n",
            "Epoch 38/250\n",
            "1875/1875 [==============================] - 38s 20ms/step - loss: 0.9590 - accuracy: 0.6028 - val_loss: 0.9516 - val_accuracy: 0.6103\n",
            "Epoch 39/250\n",
            "1875/1875 [==============================] - 38s 20ms/step - loss: 0.9400 - accuracy: 0.6124 - val_loss: 0.9006 - val_accuracy: 0.6329\n",
            "Epoch 40/250\n",
            "1875/1875 [==============================] - 38s 20ms/step - loss: 0.9253 - accuracy: 0.6186 - val_loss: 0.9011 - val_accuracy: 0.6341\n",
            "Epoch 41/250\n",
            "1875/1875 [==============================] - 38s 20ms/step - loss: 0.9125 - accuracy: 0.6237 - val_loss: 0.8891 - val_accuracy: 0.6315\n",
            "Epoch 42/250\n",
            "1875/1875 [==============================] - 39s 21ms/step - loss: 0.8911 - accuracy: 0.6330 - val_loss: 0.8851 - val_accuracy: 0.6366\n",
            "Epoch 43/250\n",
            "1875/1875 [==============================] - 38s 20ms/step - loss: 0.8780 - accuracy: 0.6380 - val_loss: 0.8744 - val_accuracy: 0.6395\n",
            "Epoch 44/250\n",
            "1875/1875 [==============================] - 38s 20ms/step - loss: 0.8627 - accuracy: 0.6443 - val_loss: 0.8526 - val_accuracy: 0.6528\n",
            "Epoch 45/250\n",
            "1875/1875 [==============================] - 38s 20ms/step - loss: 0.8534 - accuracy: 0.6496 - val_loss: 0.8872 - val_accuracy: 0.6361\n",
            "Epoch 46/250\n",
            "1875/1875 [==============================] - 39s 21ms/step - loss: 0.8340 - accuracy: 0.6593 - val_loss: 0.8203 - val_accuracy: 0.6702\n",
            "Epoch 47/250\n",
            "1875/1875 [==============================] - 39s 21ms/step - loss: 0.8179 - accuracy: 0.6652 - val_loss: 0.7923 - val_accuracy: 0.6809\n",
            "Epoch 48/250\n",
            "1875/1875 [==============================] - 38s 20ms/step - loss: 0.8023 - accuracy: 0.6726 - val_loss: 0.8008 - val_accuracy: 0.6732\n",
            "Epoch 49/250\n",
            "1875/1875 [==============================] - 38s 20ms/step - loss: 0.7866 - accuracy: 0.6810 - val_loss: 0.7530 - val_accuracy: 0.6921\n",
            "Epoch 50/250\n",
            "1875/1875 [==============================] - 39s 21ms/step - loss: 0.7678 - accuracy: 0.6884 - val_loss: 0.7637 - val_accuracy: 0.6921\n",
            "Epoch 51/250\n",
            "1875/1875 [==============================] - 39s 21ms/step - loss: 0.7532 - accuracy: 0.6959 - val_loss: 0.7510 - val_accuracy: 0.7003\n",
            "Epoch 52/250\n",
            "1875/1875 [==============================] - 39s 21ms/step - loss: 0.7428 - accuracy: 0.7008 - val_loss: 0.7575 - val_accuracy: 0.6941\n",
            "Epoch 53/250\n",
            "1875/1875 [==============================] - 38s 20ms/step - loss: 0.7311 - accuracy: 0.7064 - val_loss: 0.7203 - val_accuracy: 0.7055\n",
            "Epoch 54/250\n",
            "1875/1875 [==============================] - 39s 21ms/step - loss: 0.7155 - accuracy: 0.7109 - val_loss: 0.7059 - val_accuracy: 0.7148\n",
            "Epoch 55/250\n",
            "1875/1875 [==============================] - 38s 20ms/step - loss: 0.7035 - accuracy: 0.7173 - val_loss: 0.7280 - val_accuracy: 0.7067\n",
            "Epoch 56/250\n",
            "1875/1875 [==============================] - 38s 20ms/step - loss: 0.6903 - accuracy: 0.7223 - val_loss: 0.6912 - val_accuracy: 0.7240\n",
            "Epoch 57/250\n",
            "1875/1875 [==============================] - 38s 20ms/step - loss: 0.6768 - accuracy: 0.7282 - val_loss: 0.6785 - val_accuracy: 0.7252\n",
            "Epoch 58/250\n",
            "1875/1875 [==============================] - 38s 20ms/step - loss: 0.6636 - accuracy: 0.7330 - val_loss: 0.6794 - val_accuracy: 0.7271\n",
            "Epoch 59/250\n",
            "1875/1875 [==============================] - 38s 20ms/step - loss: 0.6532 - accuracy: 0.7386 - val_loss: 0.6643 - val_accuracy: 0.7351\n",
            "Epoch 60/250\n",
            "1875/1875 [==============================] - 39s 21ms/step - loss: 0.6378 - accuracy: 0.7454 - val_loss: 0.6421 - val_accuracy: 0.7381\n",
            "Epoch 61/250\n",
            "1875/1875 [==============================] - 38s 20ms/step - loss: 0.6252 - accuracy: 0.7494 - val_loss: 0.6460 - val_accuracy: 0.7393\n",
            "Epoch 62/250\n",
            "1875/1875 [==============================] - 38s 20ms/step - loss: 0.6135 - accuracy: 0.7541 - val_loss: 0.6264 - val_accuracy: 0.7450\n",
            "Epoch 63/250\n",
            "1875/1875 [==============================] - 38s 20ms/step - loss: 0.6057 - accuracy: 0.7594 - val_loss: 0.6289 - val_accuracy: 0.7465\n",
            "Epoch 64/250\n",
            "1875/1875 [==============================] - 38s 20ms/step - loss: 0.5958 - accuracy: 0.7628 - val_loss: 0.6099 - val_accuracy: 0.7561\n",
            "Epoch 65/250\n",
            "1875/1875 [==============================] - 38s 20ms/step - loss: 0.5825 - accuracy: 0.7677 - val_loss: 0.6028 - val_accuracy: 0.7583\n",
            "Epoch 66/250\n",
            "1875/1875 [==============================] - 38s 20ms/step - loss: 0.5843 - accuracy: 0.7689 - val_loss: 0.6270 - val_accuracy: 0.7515\n",
            "Epoch 67/250\n",
            "1875/1875 [==============================] - 38s 20ms/step - loss: 0.5625 - accuracy: 0.7773 - val_loss: 0.5749 - val_accuracy: 0.7745\n",
            "Epoch 68/250\n",
            "1875/1875 [==============================] - 38s 20ms/step - loss: 0.5542 - accuracy: 0.7816 - val_loss: 0.5688 - val_accuracy: 0.7733\n",
            "Epoch 69/250\n",
            "1875/1875 [==============================] - 39s 21ms/step - loss: 0.5420 - accuracy: 0.7853 - val_loss: 0.5606 - val_accuracy: 0.7782\n",
            "Epoch 70/250\n",
            "1875/1875 [==============================] - 39s 21ms/step - loss: 0.5330 - accuracy: 0.7892 - val_loss: 0.5431 - val_accuracy: 0.7835\n",
            "Epoch 71/250\n",
            "1875/1875 [==============================] - 38s 20ms/step - loss: 0.5252 - accuracy: 0.7919 - val_loss: 0.5724 - val_accuracy: 0.7717\n",
            "Epoch 72/250\n",
            "1875/1875 [==============================] - 38s 20ms/step - loss: 0.5195 - accuracy: 0.7957 - val_loss: 0.5500 - val_accuracy: 0.7857\n",
            "Epoch 73/250\n",
            "1875/1875 [==============================] - 38s 20ms/step - loss: 0.5227 - accuracy: 0.7952 - val_loss: 0.5339 - val_accuracy: 0.7896\n",
            "Epoch 74/250\n",
            "1875/1875 [==============================] - 39s 21ms/step - loss: 0.4943 - accuracy: 0.8052 - val_loss: 0.5236 - val_accuracy: 0.7929\n",
            "Epoch 75/250\n",
            "1875/1875 [==============================] - 39s 21ms/step - loss: 0.4884 - accuracy: 0.8080 - val_loss: 0.5269 - val_accuracy: 0.7945\n",
            "Epoch 76/250\n",
            "1875/1875 [==============================] - 38s 20ms/step - loss: 0.4803 - accuracy: 0.8115 - val_loss: 0.4986 - val_accuracy: 0.8043\n",
            "Epoch 77/250\n",
            "1875/1875 [==============================] - 38s 20ms/step - loss: 0.4719 - accuracy: 0.8143 - val_loss: 0.5039 - val_accuracy: 0.8019\n",
            "Epoch 78/250\n",
            "1875/1875 [==============================] - 38s 20ms/step - loss: 0.4646 - accuracy: 0.8185 - val_loss: 0.5292 - val_accuracy: 0.7921\n",
            "Epoch 79/250\n",
            "1875/1875 [==============================] - 38s 20ms/step - loss: 0.4584 - accuracy: 0.8200 - val_loss: 0.4901 - val_accuracy: 0.8102\n",
            "Epoch 80/250\n",
            "1875/1875 [==============================] - 38s 20ms/step - loss: 0.4478 - accuracy: 0.8256 - val_loss: 0.4765 - val_accuracy: 0.8154\n",
            "Epoch 81/250\n",
            "1875/1875 [==============================] - 38s 20ms/step - loss: 0.4373 - accuracy: 0.8295 - val_loss: 0.4722 - val_accuracy: 0.8199\n",
            "Epoch 82/250\n",
            "1875/1875 [==============================] - 39s 21ms/step - loss: 0.4274 - accuracy: 0.8329 - val_loss: 0.4782 - val_accuracy: 0.8142\n",
            "Epoch 83/250\n",
            "1875/1875 [==============================] - 38s 20ms/step - loss: 0.4239 - accuracy: 0.8338 - val_loss: 0.4614 - val_accuracy: 0.8215\n",
            "Epoch 84/250\n",
            "1875/1875 [==============================] - 39s 21ms/step - loss: 0.4193 - accuracy: 0.8382 - val_loss: 0.4561 - val_accuracy: 0.8249\n",
            "Epoch 85/250\n",
            "1875/1875 [==============================] - 38s 20ms/step - loss: 0.4053 - accuracy: 0.8437 - val_loss: 0.4929 - val_accuracy: 0.8117\n",
            "Epoch 86/250\n",
            "1875/1875 [==============================] - 38s 20ms/step - loss: 0.3958 - accuracy: 0.8467 - val_loss: 0.4467 - val_accuracy: 0.8292\n",
            "Epoch 87/250\n",
            "1875/1875 [==============================] - 38s 20ms/step - loss: 0.3902 - accuracy: 0.8491 - val_loss: 0.4256 - val_accuracy: 0.8383\n",
            "Epoch 88/250\n",
            "1875/1875 [==============================] - 38s 20ms/step - loss: 0.3795 - accuracy: 0.8534 - val_loss: 0.4443 - val_accuracy: 0.8361\n",
            "Epoch 89/250\n",
            "1875/1875 [==============================] - 38s 20ms/step - loss: 0.3758 - accuracy: 0.8549 - val_loss: 0.4279 - val_accuracy: 0.8371\n",
            "Epoch 90/250\n",
            "1875/1875 [==============================] - 38s 20ms/step - loss: 0.3672 - accuracy: 0.8601 - val_loss: 0.4187 - val_accuracy: 0.8380\n",
            "Epoch 91/250\n",
            "1875/1875 [==============================] - 38s 20ms/step - loss: 0.3581 - accuracy: 0.8628 - val_loss: 0.3903 - val_accuracy: 0.8542\n",
            "Epoch 92/250\n",
            "1875/1875 [==============================] - 39s 21ms/step - loss: 0.3498 - accuracy: 0.8662 - val_loss: 0.4006 - val_accuracy: 0.8477\n",
            "Epoch 93/250\n",
            "1875/1875 [==============================] - 39s 21ms/step - loss: 0.3448 - accuracy: 0.8683 - val_loss: 0.3946 - val_accuracy: 0.8471\n",
            "Epoch 94/250\n",
            "1875/1875 [==============================] - 38s 21ms/step - loss: 0.3371 - accuracy: 0.8714 - val_loss: 0.4059 - val_accuracy: 0.8471\n",
            "Epoch 95/250\n",
            "1875/1875 [==============================] - 39s 21ms/step - loss: 0.3311 - accuracy: 0.8738 - val_loss: 0.3744 - val_accuracy: 0.8575\n",
            "Epoch 96/250\n",
            "1875/1875 [==============================] - 38s 20ms/step - loss: 0.3220 - accuracy: 0.8777 - val_loss: 0.3754 - val_accuracy: 0.8594\n",
            "Epoch 97/250\n",
            "1875/1875 [==============================] - 38s 20ms/step - loss: 0.3163 - accuracy: 0.8801 - val_loss: 0.3761 - val_accuracy: 0.8614\n",
            "Epoch 98/250\n",
            "1875/1875 [==============================] - 38s 20ms/step - loss: 0.3077 - accuracy: 0.8834 - val_loss: 0.4053 - val_accuracy: 0.8507\n",
            "Epoch 99/250\n",
            "1875/1875 [==============================] - 38s 20ms/step - loss: 0.3035 - accuracy: 0.8854 - val_loss: 0.3889 - val_accuracy: 0.8541\n",
            "Epoch 100/250\n",
            "1875/1875 [==============================] - 39s 21ms/step - loss: 0.2943 - accuracy: 0.8888 - val_loss: 0.3950 - val_accuracy: 0.8540\n",
            "Epoch 101/250\n",
            "1875/1875 [==============================] - 38s 20ms/step - loss: 0.2877 - accuracy: 0.8915 - val_loss: 0.3608 - val_accuracy: 0.8662\n",
            "Epoch 102/250\n",
            "1875/1875 [==============================] - 38s 20ms/step - loss: 0.2833 - accuracy: 0.8936 - val_loss: 0.3303 - val_accuracy: 0.8799\n",
            "Epoch 103/250\n",
            "1875/1875 [==============================] - 39s 21ms/step - loss: 0.2781 - accuracy: 0.8948 - val_loss: 0.3500 - val_accuracy: 0.8703\n",
            "Epoch 104/250\n",
            "1875/1875 [==============================] - 38s 20ms/step - loss: 0.2732 - accuracy: 0.8971 - val_loss: 0.3219 - val_accuracy: 0.8823\n",
            "Epoch 105/250\n",
            "1875/1875 [==============================] - 39s 21ms/step - loss: 0.2698 - accuracy: 0.8993 - val_loss: 0.3468 - val_accuracy: 0.8719\n",
            "Epoch 106/250\n",
            "1875/1875 [==============================] - 38s 20ms/step - loss: 0.2643 - accuracy: 0.9011 - val_loss: 0.3514 - val_accuracy: 0.8709\n",
            "Epoch 107/250\n",
            "1875/1875 [==============================] - 38s 20ms/step - loss: 0.2551 - accuracy: 0.9053 - val_loss: 0.3216 - val_accuracy: 0.8799\n",
            "Epoch 108/250\n",
            "1875/1875 [==============================] - 39s 21ms/step - loss: 0.2521 - accuracy: 0.9052 - val_loss: 0.3255 - val_accuracy: 0.8802\n",
            "Epoch 109/250\n",
            "1875/1875 [==============================] - 38s 20ms/step - loss: 0.2454 - accuracy: 0.9089 - val_loss: 0.3191 - val_accuracy: 0.8894\n",
            "Epoch 110/250\n",
            "1875/1875 [==============================] - 39s 21ms/step - loss: 0.2420 - accuracy: 0.9097 - val_loss: 0.3195 - val_accuracy: 0.8811\n",
            "Epoch 111/250\n",
            "1875/1875 [==============================] - 38s 20ms/step - loss: 0.2385 - accuracy: 0.9116 - val_loss: 0.2992 - val_accuracy: 0.8929\n",
            "Epoch 112/250\n",
            "1875/1875 [==============================] - 38s 20ms/step - loss: 0.2323 - accuracy: 0.9134 - val_loss: 0.2995 - val_accuracy: 0.8936\n",
            "Epoch 113/250\n",
            "1875/1875 [==============================] - 38s 20ms/step - loss: 0.2286 - accuracy: 0.9143 - val_loss: 0.2902 - val_accuracy: 0.8929\n",
            "Epoch 114/250\n",
            "1875/1875 [==============================] - 38s 21ms/step - loss: 0.2246 - accuracy: 0.9173 - val_loss: 0.3000 - val_accuracy: 0.8916\n",
            "Epoch 115/250\n",
            "1875/1875 [==============================] - 39s 21ms/step - loss: 0.2226 - accuracy: 0.9181 - val_loss: 0.3486 - val_accuracy: 0.8751\n",
            "Epoch 116/250\n",
            "1875/1875 [==============================] - 39s 21ms/step - loss: 0.2160 - accuracy: 0.9195 - val_loss: 0.3021 - val_accuracy: 0.8908\n",
            "Epoch 117/250\n",
            "1875/1875 [==============================] - 38s 20ms/step - loss: 0.2172 - accuracy: 0.9196 - val_loss: 0.2780 - val_accuracy: 0.8977\n",
            "Epoch 118/250\n",
            "1875/1875 [==============================] - 39s 21ms/step - loss: 0.2095 - accuracy: 0.9225 - val_loss: 0.2722 - val_accuracy: 0.9017\n",
            "Epoch 119/250\n",
            "1875/1875 [==============================] - 39s 21ms/step - loss: 0.2027 - accuracy: 0.9252 - val_loss: 0.2943 - val_accuracy: 0.8959\n",
            "Epoch 120/250\n",
            "1875/1875 [==============================] - 39s 21ms/step - loss: 0.2062 - accuracy: 0.9243 - val_loss: 0.3016 - val_accuracy: 0.8901\n",
            "Epoch 121/250\n",
            "1875/1875 [==============================] - 38s 20ms/step - loss: 0.1967 - accuracy: 0.9279 - val_loss: 0.3233 - val_accuracy: 0.8900\n",
            "Epoch 122/250\n",
            "1875/1875 [==============================] - 38s 20ms/step - loss: 0.1924 - accuracy: 0.9294 - val_loss: 0.2566 - val_accuracy: 0.9073\n",
            "Epoch 123/250\n",
            "1875/1875 [==============================] - 39s 21ms/step - loss: 0.1896 - accuracy: 0.9305 - val_loss: 0.2796 - val_accuracy: 0.9009\n",
            "Epoch 124/250\n",
            "1875/1875 [==============================] - 39s 21ms/step - loss: 0.1851 - accuracy: 0.9320 - val_loss: 0.2842 - val_accuracy: 0.9023\n",
            "Epoch 125/250\n",
            "1875/1875 [==============================] - 39s 21ms/step - loss: 0.1855 - accuracy: 0.9319 - val_loss: 0.2679 - val_accuracy: 0.9071\n",
            "Epoch 126/250\n",
            "1875/1875 [==============================] - 38s 20ms/step - loss: 0.1792 - accuracy: 0.9346 - val_loss: 0.2755 - val_accuracy: 0.9034\n",
            "Epoch 127/250\n",
            "1875/1875 [==============================] - 38s 20ms/step - loss: 0.1816 - accuracy: 0.9341 - val_loss: 0.2771 - val_accuracy: 0.9011\n",
            "Epoch 128/250\n",
            "1875/1875 [==============================] - 39s 21ms/step - loss: 0.1772 - accuracy: 0.9356 - val_loss: 0.2575 - val_accuracy: 0.9092\n",
            "Epoch 129/250\n",
            "1875/1875 [==============================] - 39s 21ms/step - loss: 0.1692 - accuracy: 0.9393 - val_loss: 0.2526 - val_accuracy: 0.9131\n",
            "Epoch 130/250\n",
            "1875/1875 [==============================] - 39s 21ms/step - loss: 0.1686 - accuracy: 0.9394 - val_loss: 0.2713 - val_accuracy: 0.9072\n",
            "Epoch 131/250\n",
            "1875/1875 [==============================] - 39s 21ms/step - loss: 0.1660 - accuracy: 0.9396 - val_loss: 0.2443 - val_accuracy: 0.9160\n",
            "Epoch 132/250\n",
            "1875/1875 [==============================] - 38s 21ms/step - loss: 0.1660 - accuracy: 0.9395 - val_loss: 0.2689 - val_accuracy: 0.9079\n",
            "Epoch 133/250\n",
            "1875/1875 [==============================] - 39s 21ms/step - loss: 0.1591 - accuracy: 0.9422 - val_loss: 0.2527 - val_accuracy: 0.9160\n",
            "Epoch 134/250\n",
            "1875/1875 [==============================] - 39s 21ms/step - loss: 0.1641 - accuracy: 0.9419 - val_loss: 0.2521 - val_accuracy: 0.9122\n",
            "Epoch 135/250\n",
            "1875/1875 [==============================] - 38s 20ms/step - loss: 0.1508 - accuracy: 0.9455 - val_loss: 0.2464 - val_accuracy: 0.9153\n",
            "Epoch 136/250\n",
            "1875/1875 [==============================] - 38s 20ms/step - loss: 0.1505 - accuracy: 0.9449 - val_loss: 0.2889 - val_accuracy: 0.9013\n",
            "Epoch 137/250\n",
            "1875/1875 [==============================] - 39s 21ms/step - loss: 0.1510 - accuracy: 0.9454 - val_loss: 0.2612 - val_accuracy: 0.9131\n",
            "Epoch 138/250\n",
            "1875/1875 [==============================] - 38s 21ms/step - loss: 0.1497 - accuracy: 0.9452 - val_loss: 0.2541 - val_accuracy: 0.9138\n",
            "Epoch 139/250\n",
            "1875/1875 [==============================] - 38s 21ms/step - loss: 0.1473 - accuracy: 0.9470 - val_loss: 0.2493 - val_accuracy: 0.9162\n",
            "Epoch 140/250\n",
            "1875/1875 [==============================] - 38s 21ms/step - loss: 0.1407 - accuracy: 0.9494 - val_loss: 0.2681 - val_accuracy: 0.9097\n",
            "Epoch 141/250\n",
            "1875/1875 [==============================] - 38s 21ms/step - loss: 0.1398 - accuracy: 0.9501 - val_loss: 0.2306 - val_accuracy: 0.9237\n",
            "Epoch 142/250\n",
            "1875/1875 [==============================] - 38s 20ms/step - loss: 0.1407 - accuracy: 0.9491 - val_loss: 0.2587 - val_accuracy: 0.9142\n",
            "Epoch 143/250\n",
            "1875/1875 [==============================] - 38s 21ms/step - loss: 0.1374 - accuracy: 0.9507 - val_loss: 0.2730 - val_accuracy: 0.9086\n",
            "Epoch 144/250\n",
            "1875/1875 [==============================] - 38s 21ms/step - loss: 0.1327 - accuracy: 0.9523 - val_loss: 0.2350 - val_accuracy: 0.9231\n",
            "Epoch 145/250\n",
            "1875/1875 [==============================] - 38s 20ms/step - loss: 0.1316 - accuracy: 0.9525 - val_loss: 0.2288 - val_accuracy: 0.9251\n",
            "Epoch 146/250\n",
            "1875/1875 [==============================] - 39s 21ms/step - loss: 0.1323 - accuracy: 0.9524 - val_loss: 0.2306 - val_accuracy: 0.9209\n",
            "Epoch 147/250\n",
            "1875/1875 [==============================] - 38s 20ms/step - loss: 0.1266 - accuracy: 0.9545 - val_loss: 0.2475 - val_accuracy: 0.9205\n",
            "Epoch 148/250\n",
            "1875/1875 [==============================] - 38s 20ms/step - loss: 0.1278 - accuracy: 0.9544 - val_loss: 0.2735 - val_accuracy: 0.9086\n",
            "Epoch 149/250\n",
            "1875/1875 [==============================] - 38s 21ms/step - loss: 0.1274 - accuracy: 0.9541 - val_loss: 0.2213 - val_accuracy: 0.9260\n",
            "Epoch 150/250\n",
            "1875/1875 [==============================] - 39s 21ms/step - loss: 0.1204 - accuracy: 0.9571 - val_loss: 0.2584 - val_accuracy: 0.9166\n",
            "Epoch 151/250\n",
            "1875/1875 [==============================] - 39s 21ms/step - loss: 0.1232 - accuracy: 0.9558 - val_loss: 0.2523 - val_accuracy: 0.9198\n",
            "Epoch 152/250\n",
            "1875/1875 [==============================] - 39s 21ms/step - loss: 0.1190 - accuracy: 0.9570 - val_loss: 0.2183 - val_accuracy: 0.9253\n",
            "Epoch 153/250\n",
            "1875/1875 [==============================] - 38s 21ms/step - loss: 0.1185 - accuracy: 0.9576 - val_loss: 0.2051 - val_accuracy: 0.9309\n",
            "Epoch 154/250\n",
            "1875/1875 [==============================] - 39s 21ms/step - loss: 0.1129 - accuracy: 0.9598 - val_loss: 0.2240 - val_accuracy: 0.9258\n",
            "Epoch 155/250\n",
            "1875/1875 [==============================] - 38s 21ms/step - loss: 0.1161 - accuracy: 0.9587 - val_loss: 0.2640 - val_accuracy: 0.9161\n",
            "Epoch 156/250\n",
            "1875/1875 [==============================] - 38s 21ms/step - loss: 0.1148 - accuracy: 0.9588 - val_loss: 0.2591 - val_accuracy: 0.9139\n",
            "Epoch 157/250\n",
            "1875/1875 [==============================] - 38s 21ms/step - loss: 0.1108 - accuracy: 0.9617 - val_loss: 0.2203 - val_accuracy: 0.9275\n",
            "Epoch 158/250\n",
            "1875/1875 [==============================] - 39s 21ms/step - loss: 0.1086 - accuracy: 0.9616 - val_loss: 0.2554 - val_accuracy: 0.9221\n",
            "Epoch 159/250\n",
            "1875/1875 [==============================] - 38s 20ms/step - loss: 0.1077 - accuracy: 0.9618 - val_loss: 0.2357 - val_accuracy: 0.9219\n",
            "Epoch 160/250\n",
            "1875/1875 [==============================] - 39s 21ms/step - loss: 0.1074 - accuracy: 0.9620 - val_loss: 0.2129 - val_accuracy: 0.9319\n",
            "Epoch 161/250\n",
            "1875/1875 [==============================] - 39s 21ms/step - loss: 0.1040 - accuracy: 0.9633 - val_loss: 0.2343 - val_accuracy: 0.9271\n",
            "Epoch 162/250\n",
            "1875/1875 [==============================] - 39s 21ms/step - loss: 0.1049 - accuracy: 0.9630 - val_loss: 0.2342 - val_accuracy: 0.9264\n",
            "Epoch 163/250\n",
            "1875/1875 [==============================] - 39s 21ms/step - loss: 0.1034 - accuracy: 0.9634 - val_loss: 0.2506 - val_accuracy: 0.9209\n",
            "Epoch 164/250\n",
            "1875/1875 [==============================] - 38s 21ms/step - loss: 0.0985 - accuracy: 0.9649 - val_loss: 0.2528 - val_accuracy: 0.9175\n",
            "Epoch 165/250\n",
            "1875/1875 [==============================] - 39s 21ms/step - loss: 0.0986 - accuracy: 0.9656 - val_loss: 0.2523 - val_accuracy: 0.9245\n",
            "Epoch 166/250\n",
            "1875/1875 [==============================] - 38s 20ms/step - loss: 0.0988 - accuracy: 0.9650 - val_loss: 0.2103 - val_accuracy: 0.9327\n",
            "Epoch 167/250\n",
            "1875/1875 [==============================] - 39s 21ms/step - loss: 0.0976 - accuracy: 0.9654 - val_loss: 0.2277 - val_accuracy: 0.9280\n",
            "Epoch 168/250\n",
            "1875/1875 [==============================] - 39s 21ms/step - loss: 0.0959 - accuracy: 0.9661 - val_loss: 0.2379 - val_accuracy: 0.9281\n",
            "Epoch 169/250\n",
            "1875/1875 [==============================] - 39s 21ms/step - loss: 0.0916 - accuracy: 0.9676 - val_loss: 0.2023 - val_accuracy: 0.9361\n",
            "Epoch 170/250\n",
            "1875/1875 [==============================] - 39s 21ms/step - loss: 0.0925 - accuracy: 0.9675 - val_loss: 0.2061 - val_accuracy: 0.9337\n",
            "Epoch 171/250\n",
            "1875/1875 [==============================] - 38s 21ms/step - loss: 0.0922 - accuracy: 0.9675 - val_loss: 0.2419 - val_accuracy: 0.9258\n",
            "Epoch 172/250\n",
            "1875/1875 [==============================] - 38s 21ms/step - loss: 0.0903 - accuracy: 0.9683 - val_loss: 0.2088 - val_accuracy: 0.9343\n",
            "Epoch 173/250\n",
            "1875/1875 [==============================] - 39s 21ms/step - loss: 0.0966 - accuracy: 0.9668 - val_loss: 0.2078 - val_accuracy: 0.9365\n",
            "Epoch 174/250\n",
            "1875/1875 [==============================] - 38s 21ms/step - loss: 0.0939 - accuracy: 0.9685 - val_loss: 0.2112 - val_accuracy: 0.9343\n",
            "Epoch 175/250\n",
            "1875/1875 [==============================] - 39s 21ms/step - loss: 0.0844 - accuracy: 0.9709 - val_loss: 0.1910 - val_accuracy: 0.9407\n",
            "Epoch 176/250\n",
            "1875/1875 [==============================] - 39s 21ms/step - loss: 0.0871 - accuracy: 0.9695 - val_loss: 0.2543 - val_accuracy: 0.9252\n",
            "Epoch 177/250\n",
            "1875/1875 [==============================] - 39s 21ms/step - loss: 0.0852 - accuracy: 0.9703 - val_loss: 0.2286 - val_accuracy: 0.9312\n",
            "Epoch 178/250\n",
            "1875/1875 [==============================] - 39s 21ms/step - loss: 0.0815 - accuracy: 0.9719 - val_loss: 0.2218 - val_accuracy: 0.9313\n",
            "Epoch 179/250\n",
            "1875/1875 [==============================] - 39s 21ms/step - loss: 0.0838 - accuracy: 0.9713 - val_loss: 0.2244 - val_accuracy: 0.9327\n",
            "Epoch 180/250\n",
            "1875/1875 [==============================] - 39s 21ms/step - loss: 0.0807 - accuracy: 0.9717 - val_loss: 0.2492 - val_accuracy: 0.9285\n",
            "Epoch 181/250\n",
            "1875/1875 [==============================] - 38s 21ms/step - loss: 0.0843 - accuracy: 0.9708 - val_loss: 0.2127 - val_accuracy: 0.9361\n",
            "Epoch 182/250\n",
            "1875/1875 [==============================] - 39s 21ms/step - loss: 0.0780 - accuracy: 0.9728 - val_loss: 0.2236 - val_accuracy: 0.9317\n",
            "Epoch 183/250\n",
            "1875/1875 [==============================] - 39s 21ms/step - loss: 0.0789 - accuracy: 0.9728 - val_loss: 0.2271 - val_accuracy: 0.9299\n",
            "Epoch 184/250\n",
            "1875/1875 [==============================] - 39s 21ms/step - loss: 0.0780 - accuracy: 0.9723 - val_loss: 0.2425 - val_accuracy: 0.9300\n",
            "Epoch 185/250\n",
            "1875/1875 [==============================] - 39s 21ms/step - loss: 0.0735 - accuracy: 0.9740 - val_loss: 0.2398 - val_accuracy: 0.9293\n",
            "Epoch 186/250\n",
            "1875/1875 [==============================] - 39s 21ms/step - loss: 0.0737 - accuracy: 0.9744 - val_loss: 0.2492 - val_accuracy: 0.9266\n",
            "Epoch 187/250\n",
            "1875/1875 [==============================] - 40s 21ms/step - loss: 0.0731 - accuracy: 0.9750 - val_loss: 0.2150 - val_accuracy: 0.9358\n",
            "Epoch 188/250\n",
            "1875/1875 [==============================] - 39s 21ms/step - loss: 0.0748 - accuracy: 0.9743 - val_loss: 0.2198 - val_accuracy: 0.9354\n",
            "Epoch 189/250\n",
            "1875/1875 [==============================] - 39s 21ms/step - loss: 0.0711 - accuracy: 0.9752 - val_loss: 0.2144 - val_accuracy: 0.9365\n",
            "Epoch 190/250\n",
            "1875/1875 [==============================] - 40s 21ms/step - loss: 0.0700 - accuracy: 0.9762 - val_loss: 0.2133 - val_accuracy: 0.9367\n",
            "Epoch 191/250\n",
            "1875/1875 [==============================] - 40s 21ms/step - loss: 0.0739 - accuracy: 0.9744 - val_loss: 0.2323 - val_accuracy: 0.9323\n",
            "Epoch 192/250\n",
            "1875/1875 [==============================] - 39s 21ms/step - loss: 0.0671 - accuracy: 0.9768 - val_loss: 0.2425 - val_accuracy: 0.9301\n",
            "Epoch 193/250\n",
            "1875/1875 [==============================] - 39s 21ms/step - loss: 0.0803 - accuracy: 0.9735 - val_loss: 0.2020 - val_accuracy: 0.9407\n",
            "Epoch 194/250\n",
            "1875/1875 [==============================] - 39s 21ms/step - loss: 0.0647 - accuracy: 0.9777 - val_loss: 0.2001 - val_accuracy: 0.9395\n",
            "Epoch 195/250\n",
            "1875/1875 [==============================] - 40s 21ms/step - loss: 0.0677 - accuracy: 0.9769 - val_loss: 0.2305 - val_accuracy: 0.9347\n",
            "Epoch 196/250\n",
            "1875/1875 [==============================] - 39s 21ms/step - loss: 0.0673 - accuracy: 0.9773 - val_loss: 0.2114 - val_accuracy: 0.9401\n",
            "Epoch 197/250\n",
            "1875/1875 [==============================] - 39s 21ms/step - loss: 0.0670 - accuracy: 0.9772 - val_loss: 0.2179 - val_accuracy: 0.9397\n",
            "Epoch 198/250\n",
            "1875/1875 [==============================] - 39s 21ms/step - loss: 0.0673 - accuracy: 0.9771 - val_loss: 0.2208 - val_accuracy: 0.9375\n",
            "Epoch 199/250\n",
            "1875/1875 [==============================] - 39s 21ms/step - loss: 0.0654 - accuracy: 0.9779 - val_loss: 0.2015 - val_accuracy: 0.9399\n",
            "Epoch 200/250\n",
            "1875/1875 [==============================] - 39s 21ms/step - loss: 0.0668 - accuracy: 0.9777 - val_loss: 0.2296 - val_accuracy: 0.9322\n",
            "Epoch 201/250\n",
            "1875/1875 [==============================] - 39s 21ms/step - loss: 0.0607 - accuracy: 0.9792 - val_loss: 0.2070 - val_accuracy: 0.9406\n",
            "Epoch 202/250\n",
            "1875/1875 [==============================] - 39s 21ms/step - loss: 0.0616 - accuracy: 0.9788 - val_loss: 0.2215 - val_accuracy: 0.9371\n",
            "Epoch 203/250\n",
            "1875/1875 [==============================] - 39s 21ms/step - loss: 0.0611 - accuracy: 0.9789 - val_loss: 0.2204 - val_accuracy: 0.9363\n",
            "Epoch 204/250\n",
            "1875/1875 [==============================] - 39s 21ms/step - loss: 0.0617 - accuracy: 0.9784 - val_loss: 0.2216 - val_accuracy: 0.9385\n",
            "Epoch 205/250\n",
            "1875/1875 [==============================] - 39s 21ms/step - loss: 0.0623 - accuracy: 0.9788 - val_loss: 0.2211 - val_accuracy: 0.9374\n",
            "Epoch 206/250\n",
            "1875/1875 [==============================] - 39s 21ms/step - loss: 0.0601 - accuracy: 0.9796 - val_loss: 0.2309 - val_accuracy: 0.9344\n",
            "Epoch 207/250\n",
            "1875/1875 [==============================] - 39s 21ms/step - loss: 0.0592 - accuracy: 0.9795 - val_loss: 0.3202 - val_accuracy: 0.9171\n",
            "Epoch 208/250\n",
            "1875/1875 [==============================] - 39s 21ms/step - loss: 0.0628 - accuracy: 0.9789 - val_loss: 0.2347 - val_accuracy: 0.9339\n",
            "Epoch 209/250\n",
            "1875/1875 [==============================] - 40s 21ms/step - loss: 0.0566 - accuracy: 0.9805 - val_loss: 0.2371 - val_accuracy: 0.9335\n",
            "Epoch 210/250\n",
            "1875/1875 [==============================] - 39s 21ms/step - loss: 0.0557 - accuracy: 0.9809 - val_loss: 0.2502 - val_accuracy: 0.9307\n",
            "Epoch 211/250\n",
            "1875/1875 [==============================] - 39s 21ms/step - loss: 0.0570 - accuracy: 0.9806 - val_loss: 0.2642 - val_accuracy: 0.9334\n",
            "Epoch 212/250\n",
            "1875/1875 [==============================] - 40s 21ms/step - loss: 0.0575 - accuracy: 0.9806 - val_loss: 0.2397 - val_accuracy: 0.9331\n",
            "Epoch 213/250\n",
            "1875/1875 [==============================] - 39s 21ms/step - loss: 0.0561 - accuracy: 0.9806 - val_loss: 0.2226 - val_accuracy: 0.9395\n",
            "Epoch 214/250\n",
            "1875/1875 [==============================] - 39s 21ms/step - loss: 0.0564 - accuracy: 0.9810 - val_loss: 0.2366 - val_accuracy: 0.9369\n",
            "Epoch 215/250\n",
            "1875/1875 [==============================] - 39s 21ms/step - loss: 0.0520 - accuracy: 0.9822 - val_loss: 0.2133 - val_accuracy: 0.9418\n",
            "Epoch 216/250\n",
            "1875/1875 [==============================] - 39s 21ms/step - loss: 0.0532 - accuracy: 0.9815 - val_loss: 0.2685 - val_accuracy: 0.9291\n",
            "Epoch 217/250\n",
            "1875/1875 [==============================] - 39s 21ms/step - loss: 0.0536 - accuracy: 0.9821 - val_loss: 0.1997 - val_accuracy: 0.9487\n",
            "Epoch 218/250\n",
            "1875/1875 [==============================] - 40s 21ms/step - loss: 0.0550 - accuracy: 0.9813 - val_loss: 0.2224 - val_accuracy: 0.9407\n",
            "Epoch 219/250\n",
            "1875/1875 [==============================] - 39s 21ms/step - loss: 0.0533 - accuracy: 0.9822 - val_loss: 0.2603 - val_accuracy: 0.9297\n",
            "Epoch 220/250\n",
            "1875/1875 [==============================] - 40s 21ms/step - loss: 0.0541 - accuracy: 0.9826 - val_loss: 0.2023 - val_accuracy: 0.9448\n",
            "Epoch 221/250\n",
            "1875/1875 [==============================] - 39s 21ms/step - loss: 0.0514 - accuracy: 0.9829 - val_loss: 0.2235 - val_accuracy: 0.9411\n",
            "Epoch 222/250\n",
            "1875/1875 [==============================] - 39s 21ms/step - loss: 0.0497 - accuracy: 0.9828 - val_loss: 0.2418 - val_accuracy: 0.9355\n",
            "Epoch 223/250\n",
            "1875/1875 [==============================] - 39s 21ms/step - loss: 0.0509 - accuracy: 0.9830 - val_loss: 0.2191 - val_accuracy: 0.9413\n",
            "Epoch 224/250\n",
            "1875/1875 [==============================] - 39s 21ms/step - loss: 0.0504 - accuracy: 0.9834 - val_loss: 0.2262 - val_accuracy: 0.9400\n",
            "Epoch 225/250\n",
            "1875/1875 [==============================] - 39s 21ms/step - loss: 0.0480 - accuracy: 0.9833 - val_loss: 0.2204 - val_accuracy: 0.9430\n",
            "Epoch 226/250\n",
            "1875/1875 [==============================] - 39s 21ms/step - loss: 0.0505 - accuracy: 0.9830 - val_loss: 0.2271 - val_accuracy: 0.9377\n",
            "Epoch 227/250\n",
            "1875/1875 [==============================] - 40s 21ms/step - loss: 0.0484 - accuracy: 0.9837 - val_loss: 0.2100 - val_accuracy: 0.9417\n",
            "Epoch 228/250\n",
            "1875/1875 [==============================] - 39s 21ms/step - loss: 0.0467 - accuracy: 0.9844 - val_loss: 0.2498 - val_accuracy: 0.9333\n",
            "Epoch 229/250\n",
            "1875/1875 [==============================] - 39s 21ms/step - loss: 0.0497 - accuracy: 0.9833 - val_loss: 0.2146 - val_accuracy: 0.9394\n",
            "Epoch 230/250\n",
            "1875/1875 [==============================] - 39s 21ms/step - loss: 0.0481 - accuracy: 0.9841 - val_loss: 0.2054 - val_accuracy: 0.9431\n",
            "Epoch 231/250\n",
            "1875/1875 [==============================] - 39s 21ms/step - loss: 0.0473 - accuracy: 0.9843 - val_loss: 0.2349 - val_accuracy: 0.9361\n",
            "Epoch 232/250\n",
            "1875/1875 [==============================] - 39s 21ms/step - loss: 0.0477 - accuracy: 0.9839 - val_loss: 0.2342 - val_accuracy: 0.9393\n",
            "Epoch 233/250\n",
            "1875/1875 [==============================] - 39s 21ms/step - loss: 0.0447 - accuracy: 0.9855 - val_loss: 0.2427 - val_accuracy: 0.9358\n",
            "Epoch 234/250\n",
            "1875/1875 [==============================] - 39s 21ms/step - loss: 0.0465 - accuracy: 0.9844 - val_loss: 0.2060 - val_accuracy: 0.9439\n",
            "Epoch 235/250\n",
            "1875/1875 [==============================] - 39s 21ms/step - loss: 0.0463 - accuracy: 0.9848 - val_loss: 0.1954 - val_accuracy: 0.9471\n",
            "Epoch 236/250\n",
            "1875/1875 [==============================] - 39s 21ms/step - loss: 0.0452 - accuracy: 0.9846 - val_loss: 0.2107 - val_accuracy: 0.9433\n",
            "Epoch 237/250\n",
            "1875/1875 [==============================] - 39s 21ms/step - loss: 0.0440 - accuracy: 0.9856 - val_loss: 0.2213 - val_accuracy: 0.9431\n",
            "Epoch 238/250\n",
            "1875/1875 [==============================] - 39s 21ms/step - loss: 0.0452 - accuracy: 0.9850 - val_loss: 0.2423 - val_accuracy: 0.9367\n",
            "Epoch 239/250\n",
            "1875/1875 [==============================] - 39s 21ms/step - loss: 0.0417 - accuracy: 0.9861 - val_loss: 0.2636 - val_accuracy: 0.9319\n",
            "Epoch 240/250\n",
            "1875/1875 [==============================] - 40s 21ms/step - loss: 0.0441 - accuracy: 0.9856 - val_loss: 0.2069 - val_accuracy: 0.9457\n",
            "Epoch 241/250\n",
            "1875/1875 [==============================] - 40s 21ms/step - loss: 0.0397 - accuracy: 0.9866 - val_loss: 0.2067 - val_accuracy: 0.9449\n",
            "Epoch 242/250\n",
            "1875/1875 [==============================] - 39s 21ms/step - loss: 0.0409 - accuracy: 0.9866 - val_loss: 0.2200 - val_accuracy: 0.9437\n",
            "Epoch 243/250\n",
            "1875/1875 [==============================] - 40s 21ms/step - loss: 0.0429 - accuracy: 0.9854 - val_loss: 0.2130 - val_accuracy: 0.9436\n",
            "Epoch 244/250\n",
            "1875/1875 [==============================] - 39s 21ms/step - loss: 0.0424 - accuracy: 0.9861 - val_loss: 0.2277 - val_accuracy: 0.9401\n",
            "Epoch 245/250\n",
            "1875/1875 [==============================] - 39s 21ms/step - loss: 0.0431 - accuracy: 0.9855 - val_loss: 0.2076 - val_accuracy: 0.9463\n",
            "Epoch 246/250\n",
            "1875/1875 [==============================] - 40s 21ms/step - loss: 0.0410 - accuracy: 0.9866 - val_loss: 0.2164 - val_accuracy: 0.9429\n",
            "Epoch 247/250\n",
            "1875/1875 [==============================] - 39s 21ms/step - loss: 0.0390 - accuracy: 0.9874 - val_loss: 0.2921 - val_accuracy: 0.9263\n",
            "Epoch 248/250\n",
            "1875/1875 [==============================] - 40s 21ms/step - loss: 0.0397 - accuracy: 0.9871 - val_loss: 0.2665 - val_accuracy: 0.9302\n",
            "Epoch 249/250\n",
            "1875/1875 [==============================] - 40s 21ms/step - loss: 0.0407 - accuracy: 0.9869 - val_loss: 0.2233 - val_accuracy: 0.9423\n",
            "Epoch 250/250\n",
            "1875/1875 [==============================] - 40s 21ms/step - loss: 0.0394 - accuracy: 0.9876 - val_loss: 0.2060 - val_accuracy: 0.9457\n"
          ]
        }
      ],
      "source": [
        "history = model.fit(X_train, y_train, batch_size=64, epochs=250, validation_data=(X_val, y_val))\n",
        "model.save('AllDataModel_E100_B64.h5')"
      ]
    },
    {
      "cell_type": "code",
      "execution_count": null,
      "metadata": {
        "id": "R7QQeqVidKBR",
        "colab": {
          "base_uri": "https://localhost:8080/"
        },
        "outputId": "7c12b954-d988-43c5-ea74-9428f019b4f4"
      },
      "outputs": [
        {
          "output_type": "stream",
          "name": "stdout",
          "text": [
            "469/469 [==============================] - 3s 7ms/step - loss: 0.2002 - accuracy: 0.9441\n"
          ]
        }
      ],
      "source": [
        "test_acc = model.evaluate(X_test, y_test)"
      ]
    },
    {
      "cell_type": "code",
      "source": [
        "test_acc"
      ],
      "metadata": {
        "id": "6fuTmgGrUgGg",
        "colab": {
          "base_uri": "https://localhost:8080/"
        },
        "outputId": "aca28b64-b0da-41ee-a872-1ee166071838"
      },
      "execution_count": null,
      "outputs": [
        {
          "output_type": "execute_result",
          "data": {
            "text/plain": [
              "[0.20024442672729492, 0.9441333413124084]"
            ]
          },
          "metadata": {},
          "execution_count": 35
        }
      ]
    },
    {
      "cell_type": "code",
      "execution_count": null,
      "metadata": {
        "id": "OHpifyqGdKn-",
        "colab": {
          "base_uri": "https://localhost:8080/"
        },
        "outputId": "991d2b68-9ba6-4f6c-972a-0b0a307b9674"
      },
      "outputs": [
        {
          "output_type": "stream",
          "name": "stdout",
          "text": [
            "469/469 [==============================] - 3s 5ms/step\n"
          ]
        }
      ],
      "source": [
        "y_test_prob = model.predict(X_test, verbose=1)"
      ]
    },
    {
      "cell_type": "code",
      "source": [
        "np.set_printoptions(suppress=True)\n",
        "y_test_prob_backup = y_test_prob\n",
        "y_test_prob"
      ],
      "metadata": {
        "id": "rRPswrrkmhp2",
        "colab": {
          "base_uri": "https://localhost:8080/"
        },
        "outputId": "64752780-78d7-4dad-8f9a-7694a6278894"
      },
      "execution_count": null,
      "outputs": [
        {
          "output_type": "execute_result",
          "data": {
            "text/plain": [
              "array([[0.        , 0.        , 0.00000003, ..., 0.00000041, 0.9999876 ,\n",
              "        0.00001205],\n",
              "       [0.00000005, 0.99999917, 0.00000088, ..., 0.        , 0.        ,\n",
              "        0.        ],\n",
              "       [0.00000007, 0.00000696, 0.00000507, ..., 0.00001912, 0.00000121,\n",
              "        0.00000578],\n",
              "       ...,\n",
              "       [0.00000014, 0.99999416, 0.00000567, ..., 0.        , 0.00000001,\n",
              "        0.        ],\n",
              "       [0.99995255, 0.00004538, 0.00000004, ..., 0.00000003, 0.00000051,\n",
              "        0.00000143],\n",
              "       [0.        , 0.99998677, 0.00001305, ..., 0.        , 0.        ,\n",
              "        0.00000001]], dtype=float32)"
            ]
          },
          "metadata": {},
          "execution_count": 37
        }
      ]
    },
    {
      "cell_type": "code",
      "source": [
        "plt.figure(figsize=(10,10))\n",
        "plt.hist(y_test_prob_backup)"
      ],
      "metadata": {
        "id": "qsgK5XvWjrAP",
        "colab": {
          "base_uri": "https://localhost:8080/",
          "height": 395
        },
        "outputId": "d73ed16b-fa35-4e96-cd5b-ce47b3b66070"
      },
      "execution_count": null,
      "outputs": [
        {
          "output_type": "execute_result",
          "data": {
            "text/plain": [
              "(array([[13087.,     6.,     3.,     2.,     0.,     5.,     1.,     3.,\n",
              "             3.,  1890.],\n",
              "        [13136.,     5.,     5.,     4.,     4.,     0.,     3.,     4.,\n",
              "             9.,  1830.],\n",
              "        [13007.,    46.,    25.,    30.,    16.,    22.,    24.,    23.,\n",
              "            39.,  1768.],\n",
              "        [12917.,    75.,    45.,    45.,    39.,    25.,    36.,    51.,\n",
              "            66.,  1701.],\n",
              "        [12846.,    98.,    56.,    39.,    34.,    48.,    38.,    45.,\n",
              "            88.,  1708.],\n",
              "        [12999.,    92.,    41.,    36.,    30.,    37.,    44.,    36.,\n",
              "            77.,  1608.],\n",
              "        [12968.,    99.,    61.,    46.,    55.,    37.,    51.,    40.,\n",
              "            72.,  1571.],\n",
              "        [12912.,    52.,    28.,    31.,    24.,    38.,    25.,    39.,\n",
              "            55.,  1796.]]),\n",
              " array([0. , 0.1, 0.2, 0.3, 0.4, 0.5, 0.6, 0.7, 0.8, 0.9, 1. ],\n",
              "       dtype=float32),\n",
              " <a list of 8 Lists of Patches objects>)"
            ]
          },
          "metadata": {},
          "execution_count": 38
        },
        {
          "output_type": "display_data",
          "data": {
            "text/plain": [
              "<Figure size 720x720 with 1 Axes>"
            ],
            "image/png": "[encoded data removed]"
          },
          "metadata": {
            "needs_background": "light"
          }
        }
      ]
    },
    {
      "cell_type": "code",
      "source": [
        "y_test_prob_backup[:10]"
      ],
      "metadata": {
        "id": "M6Xj4ugPx610",
        "colab": {
          "base_uri": "https://localhost:8080/"
        },
        "outputId": "a3b3590a-6845-4c98-bf4b-a95d7546910e"
      },
      "execution_count": null,
      "outputs": [
        {
          "output_type": "execute_result",
          "data": {
            "text/plain": [
              "array([[0.        , 0.        , 0.00000003, 0.        , 0.00000001,\n",
              "        0.00000041, 0.9999876 , 0.00001205],\n",
              "       [0.00000005, 0.99999917, 0.00000088, 0.00000001, 0.00000001,\n",
              "        0.        , 0.        , 0.        ],\n",
              "       [0.00000007, 0.00000696, 0.00000507, 0.00047082, 0.999491  ,\n",
              "        0.00001912, 0.00000121, 0.00000578],\n",
              "       [0.9999989 , 0.00000032, 0.        , 0.        , 0.        ,\n",
              "        0.        , 0.00000004, 0.00000061],\n",
              "       [0.00001103, 0.00001094, 0.00005887, 0.00000009, 0.00002704,\n",
              "        0.00000159, 0.0001061 , 0.9997844 ],\n",
              "       [0.        , 0.00001178, 0.01326439, 0.9862135 , 0.00050748,\n",
              "        0.00000241, 0.00000047, 0.00000002],\n",
              "       [0.        , 0.0000016 , 0.99999666, 0.00000171, 0.        ,\n",
              "        0.        , 0.0000001 , 0.00000001],\n",
              "       [0.        , 0.        , 0.00001735, 0.9999815 , 0.00000111,\n",
              "        0.00000002, 0.        , 0.        ],\n",
              "       [0.00000002, 0.00000002, 0.00000055, 0.00000681, 0.0004277 ,\n",
              "        0.99951375, 0.00004038, 0.00001069],\n",
              "       [0.00005516, 0.99978954, 0.00014844, 0.00000181, 0.00000244,\n",
              "        0.00000032, 0.00000164, 0.00000061]], dtype=float32)"
            ]
          },
          "metadata": {},
          "execution_count": 39
        }
      ]
    },
    {
      "cell_type": "code",
      "source": [
        "c0, c1, c2, c3, c4, c5, c6, c7 = [], [], [], [], [], [], [], []\n",
        "\n",
        "i = 0\n",
        "l = len(y_test_prob_backup)\n",
        "while  l > 0:\n",
        "  c0.append(y_test_prob_backup[i][0])\n",
        "  c1.append(y_test_prob_backup[i][1])\n",
        "  c2.append(y_test_prob_backup[i][2])\n",
        "  c3.append(y_test_prob_backup[i][3])\n",
        "  c4.append(y_test_prob_backup[i][4])\n",
        "  c5.append(y_test_prob_backup[i][5])\n",
        "  c6.append(y_test_prob_backup[i][6])\n",
        "  c7.append(y_test_prob_backup[i][7])\n",
        "  i+=1\n",
        "  l-=1\n",
        "#print(c5[:10])"
      ],
      "metadata": {
        "id": "IjD61mD7yTuY"
      },
      "execution_count": null,
      "outputs": []
    },
    {
      "cell_type": "code",
      "source": [
        "#plt.figure(figsize=(40,20))\n",
        "fig, axes = plt.subplots(nrows=2, ncols=4)\n",
        "ax0, ax1, ax2, ax3, ax4, ax5, ax6, ax7 = axes.flatten()\n",
        "\n",
        "ax0.hist(c0, bins=20)\n",
        "ax0.set_title(\"class 0\")\n",
        "ax1.hist(c1, bins=20)\n",
        "ax1.set_title(\"class 1\")\n",
        "ax2.hist(c2, bins=20)\n",
        "ax2.set_title(\"class 2\")\n",
        "ax3.hist(c3, bins=20)\n",
        "ax3.set_title(\"class 3\")\n",
        "ax4.hist(c4, bins=20)\n",
        "ax4.set_title(\"class 4\")\n",
        "ax5.hist(c5, bins=20)\n",
        "ax5.set_title(\"class 5\")\n",
        "ax6.hist(c6, bins=20)\n",
        "ax6.set_title(\"class 6\")\n",
        "ax7.hist(c7, bins=20)\n",
        "ax7.set_title(\"class 7\")\n",
        "\n",
        "fig.set_size_inches(25,10)\n",
        "plt.show()\n"
      ],
      "metadata": {
        "id": "z1rhvO7GCj7t",
        "colab": {
          "base_uri": "https://localhost:8080/",
          "height": 443
        },
        "outputId": "612a78a0-2311-477d-90d1-6be7bbd30bee"
      },
      "execution_count": null,
      "outputs": [
        {
          "output_type": "display_data",
          "data": {
            "text/plain": [
              "<Figure size 1800x720 with 8 Axes>"
            ],
            "image/png": "[encoded data removed]"
          },
          "metadata": {
            "needs_background": "light"
          }
        }
      ]
    },
    {
      "cell_type": "code",
      "source": [
        "fig, axes = plt.subplots(nrows=2, ncols=4)\n",
        "ax0, ax1, ax2, ax3, ax4, ax5, ax6, ax7 = axes.flatten()\n",
        "\n",
        "ax0.plot(np.fft.fft(c0))\n",
        "ax0.set_title(\"class 0\")\n",
        "ax1.plot(np.fft.fft(c1))\n",
        "ax1.set_title(\"class 1\")\n",
        "ax2.plot(np.fft.fft(c2))\n",
        "ax2.set_title(\"class 2\")\n",
        "ax3.plot(np.fft.fft(c3))\n",
        "ax3.set_title(\"class 3\")\n",
        "ax4.plot(np.fft.fft(c4))\n",
        "ax4.set_title(\"class 4\")\n",
        "ax5.plot(np.fft.fft(c5))\n",
        "ax5.set_title(\"class 5\")\n",
        "ax6.plot(np.fft.fft(c6))\n",
        "ax6.set_title(\"class 6\")\n",
        "ax7.plot(np.fft.fft(c7))\n",
        "ax7.set_title(\"class 7\")\n",
        "\n",
        "fig.set_size_inches(25,10)\n",
        "plt.show()"
      ],
      "metadata": {
        "id": "42iDU40-KLvb",
        "colab": {
          "base_uri": "https://localhost:8080/",
          "height": 445
        },
        "outputId": "d933816f-acee-4f96-fa30-4d6adcd344fa"
      },
      "execution_count": null,
      "outputs": [
        {
          "output_type": "display_data",
          "data": {
            "text/plain": [
              "<Figure size 1800x720 with 8 Axes>"
            ],
            "image/png": "[encoded data removed]"
          },
          "metadata": {
            "needs_background": "light"
          }
        }
      ]
    },
    {
      "cell_type": "code",
      "execution_count": null,
      "metadata": {
        "id": "AfmdrBILdMwj"
      },
      "outputs": [],
      "source": [
        "y_test_pred = np.where(y_test_prob > 0.1, 1, 0)"
      ]
    },
    {
      "cell_type": "code",
      "execution_count": null,
      "metadata": {
        "id": "8DoJy_p9dPzN"
      },
      "outputs": [],
      "source": [
        "from sklearn.metrics import multilabel_confusion_matrix"
      ]
    },
    {
      "cell_type": "code",
      "source": [
        "y_test"
      ],
      "metadata": {
        "id": "n1Us2yrfcGl-",
        "colab": {
          "base_uri": "https://localhost:8080/"
        },
        "outputId": "79ebc2af-5853-4406-f42b-6a48f06c30ef"
      },
      "execution_count": null,
      "outputs": [
        {
          "output_type": "execute_result",
          "data": {
            "text/plain": [
              "array([[0., 0., 0., ..., 0., 1., 0.],\n",
              "       [0., 1., 0., ..., 0., 0., 0.],\n",
              "       [0., 0., 0., ..., 0., 0., 0.],\n",
              "       ...,\n",
              "       [0., 1., 0., ..., 0., 0., 0.],\n",
              "       [1., 0., 0., ..., 0., 0., 0.],\n",
              "       [0., 1., 0., ..., 0., 0., 0.]])"
            ]
          },
          "metadata": {},
          "execution_count": 45
        }
      ]
    },
    {
      "cell_type": "code",
      "source": [
        "y_test.shape"
      ],
      "metadata": {
        "id": "VnmvTcvWbxr9",
        "colab": {
          "base_uri": "https://localhost:8080/"
        },
        "outputId": "10757685-8ac7-4669-e614-162567101b75"
      },
      "execution_count": null,
      "outputs": [
        {
          "output_type": "execute_result",
          "data": {
            "text/plain": [
              "(15000, 8)"
            ]
          },
          "metadata": {},
          "execution_count": 46
        }
      ]
    },
    {
      "cell_type": "code",
      "source": [
        "y_test_pred"
      ],
      "metadata": {
        "id": "nMBOgzrgcJBj",
        "colab": {
          "base_uri": "https://localhost:8080/"
        },
        "outputId": "54004771-22fd-46f4-d775-41637c777e71"
      },
      "execution_count": null,
      "outputs": [
        {
          "output_type": "execute_result",
          "data": {
            "text/plain": [
              "array([[0, 0, 0, ..., 0, 1, 0],\n",
              "       [0, 1, 0, ..., 0, 0, 0],\n",
              "       [0, 0, 0, ..., 0, 0, 0],\n",
              "       ...,\n",
              "       [0, 1, 0, ..., 0, 0, 0],\n",
              "       [1, 0, 0, ..., 0, 0, 0],\n",
              "       [0, 1, 0, ..., 0, 0, 0]])"
            ]
          },
          "metadata": {},
          "execution_count": 47
        }
      ]
    },
    {
      "cell_type": "code",
      "source": [
        "y_test_pred.shape"
      ],
      "metadata": {
        "id": "SXKZof8Ye5uI",
        "colab": {
          "base_uri": "https://localhost:8080/"
        },
        "outputId": "114bb6c5-3c22-48b8-88d7-172ef4348559"
      },
      "execution_count": null,
      "outputs": [
        {
          "output_type": "execute_result",
          "data": {
            "text/plain": [
              "(15000, 8)"
            ]
          },
          "metadata": {},
          "execution_count": 48
        }
      ]
    },
    {
      "cell_type": "code",
      "source": [
        "y_decoded_pred = tf.argmax(y_test_pred, axis = 1)"
      ],
      "metadata": {
        "id": "leDQwKOjgwwi"
      },
      "execution_count": null,
      "outputs": []
    },
    {
      "cell_type": "code",
      "source": [
        "y_decoded = tf.argmax(y_test, axis = 1)"
      ],
      "metadata": {
        "id": "sAHRmtesif6g"
      },
      "execution_count": null,
      "outputs": []
    },
    {
      "cell_type": "code",
      "source": [
        "y_decoded_pred"
      ],
      "metadata": {
        "id": "_lvFhrmPhprD",
        "colab": {
          "base_uri": "https://localhost:8080/"
        },
        "outputId": "2cd2f34f-67f0-4d25-8031-2be1122618e7"
      },
      "execution_count": null,
      "outputs": [
        {
          "output_type": "execute_result",
          "data": {
            "text/plain": [
              "<tf.Tensor: shape=(15000,), dtype=int64, numpy=array([6, 1, 4, ..., 1, 0, 1])>"
            ]
          },
          "metadata": {},
          "execution_count": 51
        }
      ]
    },
    {
      "cell_type": "code",
      "source": [
        "y_decoded"
      ],
      "metadata": {
        "id": "YV1FXgHviPwm",
        "colab": {
          "base_uri": "https://localhost:8080/"
        },
        "outputId": "5eff3c3b-bb67-4c9e-bf51-d956462e10c7"
      },
      "execution_count": null,
      "outputs": [
        {
          "output_type": "execute_result",
          "data": {
            "text/plain": [
              "<tf.Tensor: shape=(15000,), dtype=int64, numpy=array([6, 1, 4, ..., 1, 0, 1])>"
            ]
          },
          "metadata": {},
          "execution_count": 52
        }
      ]
    },
    {
      "cell_type": "code",
      "source": [
        "y_test_pred = y_decoded_pred\n"
      ],
      "metadata": {
        "id": "6-6jFqzGh380"
      },
      "execution_count": null,
      "outputs": []
    },
    {
      "cell_type": "code",
      "source": [
        "y_test = y_decoded"
      ],
      "metadata": {
        "id": "9pogVvdIiwss"
      },
      "execution_count": null,
      "outputs": []
    },
    {
      "cell_type": "code",
      "source": [
        "y_test"
      ],
      "metadata": {
        "id": "oGt5aJetiKR6",
        "colab": {
          "base_uri": "https://localhost:8080/"
        },
        "outputId": "5c27e906-be63-4e6f-a2ad-760ab79f4196"
      },
      "execution_count": null,
      "outputs": [
        {
          "output_type": "execute_result",
          "data": {
            "text/plain": [
              "<tf.Tensor: shape=(15000,), dtype=int64, numpy=array([6, 1, 4, ..., 1, 0, 1])>"
            ]
          },
          "metadata": {},
          "execution_count": 55
        }
      ]
    },
    {
      "cell_type": "code",
      "source": [
        "y_test_pred"
      ],
      "metadata": {
        "id": "fLgDwAIfiyv2",
        "colab": {
          "base_uri": "https://localhost:8080/"
        },
        "outputId": "533842ca-4ae6-49b7-fe0c-cb745355431c"
      },
      "execution_count": null,
      "outputs": [
        {
          "output_type": "execute_result",
          "data": {
            "text/plain": [
              "<tf.Tensor: shape=(15000,), dtype=int64, numpy=array([6, 1, 4, ..., 1, 0, 1])>"
            ]
          },
          "metadata": {},
          "execution_count": 56
        }
      ]
    },
    {
      "cell_type": "code",
      "execution_count": null,
      "metadata": {
        "id": "fTCsPjW8dQaZ"
      },
      "outputs": [],
      "source": [
        "cfm=confusion_matrix(y_test, y_test_pred)"
      ]
    },
    {
      "cell_type": "code",
      "source": [
        "cfm"
      ],
      "metadata": {
        "id": "_67lPg6ic4cH",
        "colab": {
          "base_uri": "https://localhost:8080/"
        },
        "outputId": "29ebee83-5a38-4202-a272-c88b479778a5"
      },
      "execution_count": null,
      "outputs": [
        {
          "output_type": "execute_result",
          "data": {
            "text/plain": [
              "array([[1894,    3,    0,    0,    0,    0,    0,    1],\n",
              "       [  16, 1834,    7,    0,    0,    0,    0,    2],\n",
              "       [   0,    4, 1806,   27,    2,    8,    6,    4],\n",
              "       [   0,    0,   68, 1794,   29,   11,    1,    1],\n",
              "       [   0,    0,   16,   84, 1719,   20,   12,    2],\n",
              "       [   0,    0,   24,   70,  115, 1603,   10,    2],\n",
              "       [   0,    0,   49,   11,   71,   55, 1621,   44],\n",
              "       [   3,    2,   16,    3,   11,   31,  142, 1746]])"
            ]
          },
          "metadata": {},
          "execution_count": 58
        }
      ]
    },
    {
      "cell_type": "code",
      "source": [
        " print(classification_report(y_test,y_test_pred))"
      ],
      "metadata": {
        "id": "XTqR_xnwRWCJ",
        "colab": {
          "base_uri": "https://localhost:8080/"
        },
        "outputId": "40242542-3bf5-4384-e66d-35a256e65546"
      },
      "execution_count": null,
      "outputs": [
        {
          "output_type": "stream",
          "name": "stdout",
          "text": [
            "              precision    recall  f1-score   support\n",
            "\n",
            "           0       0.99      1.00      0.99      1898\n",
            "           1       1.00      0.99      0.99      1859\n",
            "           2       0.91      0.97      0.94      1857\n",
            "           3       0.90      0.94      0.92      1904\n",
            "           4       0.88      0.93      0.90      1853\n",
            "           5       0.93      0.88      0.90      1824\n",
            "           6       0.90      0.88      0.89      1851\n",
            "           7       0.97      0.89      0.93      1954\n",
            "\n",
            "    accuracy                           0.93     15000\n",
            "   macro avg       0.94      0.93      0.93     15000\n",
            "weighted avg       0.94      0.93      0.93     15000\n",
            "\n"
          ]
        }
      ]
    },
    {
      "cell_type": "code",
      "execution_count": null,
      "metadata": {
        "id": "te3fslrY9Eca",
        "colab": {
          "base_uri": "https://localhost:8080/",
          "height": 900
        },
        "outputId": "1992e0b1-47e2-4e75-a206-3749eb94a590"
      },
      "outputs": [
        {
          "output_type": "stream",
          "name": "stdout",
          "text": [
            "Confusion matrix, without normalization\n",
            "[[1894    3    0    0    0    0    0    1]\n",
            " [  16 1834    7    0    0    0    0    2]\n",
            " [   0    4 1806   27    2    8    6    4]\n",
            " [   0    0   68 1794   29   11    1    1]\n",
            " [   0    0   16   84 1719   20   12    2]\n",
            " [   0    0   24   70  115 1603   10    2]\n",
            " [   0    0   49   11   71   55 1621   44]\n",
            " [   3    2   16    3   11   31  142 1746]]\n",
            "Normalized confusion matrix\n",
            "[[1.   0.   0.   0.   0.   0.   0.   0.  ]\n",
            " [0.01 0.99 0.   0.   0.   0.   0.   0.  ]\n",
            " [0.   0.   0.97 0.01 0.   0.   0.   0.  ]\n",
            " [0.   0.   0.04 0.94 0.02 0.01 0.   0.  ]\n",
            " [0.   0.   0.01 0.05 0.93 0.01 0.01 0.  ]\n",
            " [0.   0.   0.01 0.04 0.06 0.88 0.01 0.  ]\n",
            " [0.   0.   0.03 0.01 0.04 0.03 0.88 0.02]\n",
            " [0.   0.   0.01 0.   0.01 0.02 0.07 0.89]]\n"
          ]
        },
        {
          "output_type": "display_data",
          "data": {
            "text/plain": [
              "<Figure size 432x288 with 2 Axes>"
            ],
            "image/png": "[encoded data removed]"
          },
          "metadata": {
            "needs_background": "light"
          }
        },
        {
          "output_type": "display_data",
          "data": {
            "text/plain": [
              "<Figure size 432x288 with 2 Axes>"
            ],
            "image/png": "[encoded data removed]"
          },
          "metadata": {
            "needs_background": "light"
          }
        }
      ],
      "source": [
        "import numpy as np\n",
        "import matplotlib.pyplot as plt\n",
        "\n",
        "from sklearn import svm, datasets\n",
        "from sklearn.model_selection import train_test_split\n",
        "from sklearn.metrics import confusion_matrix\n",
        "from sklearn.utils.multiclass import unique_labels\n",
        "\n",
        "class_names = np.array(['0', '1', '2', '3', '4', '5', '6', '7'])\n",
        "\n",
        "def plot_confusion_matrix(y_true, y_pred, classes,\n",
        "                          normalize=False,\n",
        "                          title=None,\n",
        "                          cmap=plt.cm.Blues):\n",
        "    \"\"\"\n",
        "    This function prints and plots the confusion matrix.\n",
        "    Normalization can be applied by setting `normalize=True`.\n",
        "    \"\"\"\n",
        "    if not title:\n",
        "        if normalize:\n",
        "            title = 'Normalized confusion matrix'\n",
        "        else:\n",
        "            title = 'Confusion matrix, without normalization'\n",
        "\n",
        "    # Compute confusion matrix\n",
        "    cm = confusion_matrix(y_true, y_pred)\n",
        "    # Only use the labels that appear in the data\n",
        "    classes = classes[unique_labels(y_true, y_pred)]\n",
        "    if normalize:\n",
        "        cm = cm.astype('float') / cm.sum(axis=1)[:, np.newaxis]\n",
        "        print(\"Normalized confusion matrix\")\n",
        "    else:\n",
        "        print('Confusion matrix, without normalization')\n",
        "\n",
        "    print(cm)\n",
        "\n",
        "    fig, ax = plt.subplots()\n",
        "    im = ax.imshow(cm, interpolation='nearest', cmap=cmap)\n",
        "    ax.figure.colorbar(im, ax=ax)\n",
        "    # We want to show all ticks...\n",
        "    ax.set(xticks=np.arange(cm.shape[1]),\n",
        "           yticks=np.arange(cm.shape[0]),\n",
        "           # ... and label them with the respective list entries\n",
        "           xticklabels=classes, yticklabels=classes,\n",
        "           title=title,\n",
        "           ylabel='True label',\n",
        "           xlabel='Predicted label')\n",
        "\n",
        "    # Rotate the tick labels and set their alignment.\n",
        "    plt.setp(ax.get_xticklabels(), rotation=45, ha=\"right\",\n",
        "             rotation_mode=\"anchor\")\n",
        "\n",
        "    # Loop over data dimensions and create text annotations.\n",
        "    fmt = '.2f' if normalize else 'd'\n",
        "    thresh = cm.max() / 2.\n",
        "    for i in range(cm.shape[0]):\n",
        "        for j in range(cm.shape[1]):\n",
        "            ax.text(j, i, format(cm[i, j], fmt),\n",
        "                    ha=\"center\", va=\"center\",\n",
        "                    color=\"white\" if cm[i, j] > thresh else \"black\")\n",
        "    fig.tight_layout()\n",
        "\n",
        "    return ax\n",
        "\n",
        "\n",
        "np.set_printoptions(precision=2)\n",
        "\n",
        "# Plot non-normalized confusion matrix\n",
        "plot_confusion_matrix(y_test, y_test_pred, classes=class_names,\n",
        "                      title='Confusion matrix, without normalization')\n",
        "\n",
        "# Plot normalized confusion matrix\n",
        "plot_confusion_matrix(y_test, y_test_pred, classes=class_names, normalize=True,\n",
        "                      title='Normalized confusion matrix')\n",
        "\n",
        "plt.show()"
      ]
    },
    {
      "cell_type": "code",
      "execution_count": null,
      "metadata": {
        "id": "fhdLAhgPUnH3"
      },
      "outputs": [],
      "source": [
        "def plot_learningCurve(history, epoch):\n",
        "  # Plot training & validation accuracy values\n",
        "  epoch_range = range(1, epoch+1)\n",
        "  plt.plot(epoch_range, history.history['accuracy'])\n",
        "  plt.plot(epoch_range, history.history['val_accuracy'])\n",
        "  plt.title('Model accuracy')\n",
        "  plt.ylabel('Accuracy')\n",
        "  plt.xlabel('Epoch')\n",
        "  plt.legend(['Train', 'Val'], loc='upper left')\n",
        "  plt.show()\n",
        "\n",
        "  # Plot training & validation loss values\n",
        "  plt.plot(epoch_range, history.history['loss'])\n",
        "  plt.plot(epoch_range, history.history['val_loss'])\n",
        "  plt.title('Model loss')\n",
        "  plt.ylabel('Loss')\n",
        "  plt.xlabel('Epoch')\n",
        "  plt.legend(['Train', 'Val'], loc='upper left')\n",
        "  plt.show()"
      ]
    },
    {
      "cell_type": "code",
      "execution_count": null,
      "metadata": {
        "id": "WlkQkWHgU5mL",
        "colab": {
          "base_uri": "https://localhost:8080/",
          "height": 72
        },
        "outputId": "c40dac0a-578f-4c86-b654-67f245ea8362"
      },
      "outputs": [
        {
          "output_type": "display_data",
          "data": {
            "text/plain": [
              "<Figure size 432x288 with 1 Axes>"
            ],
            "image/png": "[encoded data removed]"
          },
          "metadata": {
            "needs_background": "light"
          }
        },
        {
          "output_type": "display_data",
          "data": {
            "text/plain": [
              "<Figure size 432x288 with 1 Axes>"
            ],
            "image/png": "[encoded data removed]"
          },
          "metadata": {
            "needs_background": "light"
          }
        }
      ],
      "source": [
        "plot_learningCurve(history, 250)"
      ]
    }
  ],
  "metadata": {
    "colab": {
      "collapsed_sections": [
        "f857kfHqUk0-"
      ],
      "name": "NEW_Multi_Class_MD_LSTM_step_200_files_120.ipynb",
      "provenance": [],
      "include_colab_link": true
    },
    "kernelspec": {
      "display_name": "Python 3",
      "name": "python3"
    },
    "language_info": {
      "name": "python"
    },
    "accelerator": "GPU"
  },
  "nbformat": 4,
  "nbformat_minor": 0
}