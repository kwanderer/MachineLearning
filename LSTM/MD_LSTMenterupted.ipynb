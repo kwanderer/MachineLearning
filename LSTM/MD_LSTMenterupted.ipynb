{
  "cells": [
    {
      "cell_type": "markdown",
      "metadata": {
        "id": "view-in-github",
        "colab_type": "text"
      },
      "source": [
        "<a href=\"https://colab.research.google.com/github/kwanderer/MachineLearning/blob/main/MD_LSTMenterupted.ipynb\" target=\"_parent\"><img src=\"https://colab.research.google.com/assets/colab-badge.svg\" alt=\"Open In Colab\"/></a>"
      ]
    },
    {
      "cell_type": "markdown",
      "metadata": {
        "id": "f857kfHqUk0-"
      },
      "source": [
        "\n",
        "\n",
        "#Datu kopa"
      ]
    },
    {
      "cell_type": "markdown",
      "metadata": {
        "id": "nM9WE3QGUwVi"
      },
      "source": [
        "Datu kopas avots: https://www.kaggle.com/uysalserkan/fault-induction-motor-dataset"
      ]
    },
    {
      "cell_type": "markdown",
      "metadata": {
        "id": "_sN_h3qHHy6r"
      },
      "source": [
        "Darbā tiek izmantota indukcijas motora parametru datu bāze. Izmantotajā datu kopā ir dati, kas tika iegūti SpectraQuest aparatūras kļūdu simulatorā (Machinery Fault Simulator).\n",
        "\n",
        "Katra mērījumu secība tika ģenerēta ar frekvenci 50 kHz 5 sekunžu laikā, kopā 250 000 mērījumi.\n",
        "\n",
        "Dati ir apkopoti vairākos failos, dažādos darbības stāvokļos un to apjoms ir ļoti liels. Šajā darbā tika izmantota daļa(viena mērījumu secība) no motora normālas darbības datiem.\n"
      ]
    },
    {
      "cell_type": "markdown",
      "metadata": {
        "id": "KtFAOaHYHLPo"
      },
      "source": [
        "Dati ir apkopoti tabulā, kura satur 8 parametrus. Dati ir iedalīti sekojošās kolonas:\n",
        "\n",
        "**tachometer** – tahometra signāls, kas ļauj novērtēt rotācijas frekvenci\n",
        "\n",
        "**und-accelerometer-axial** - apakšā esošā gultņa akselerometrs (aksiālais virziens)\n",
        "\n",
        "**und-accelerometer-radial** – apakšā esošā gultņa akselerometrs (radiālais virziens)\n",
        "\n",
        "**und-accelerometer-tangential** - apakšā esošā gultņa akselerometrs (tangenciālais virziens)\n",
        "\n",
        "**over-accelerometer-axial** - pārkares gultņa akselerometrs (aksiālais virziens)\n",
        "\n",
        "**over-accelerometer-radial** – pārkares gultņa akselerometrs (radiālais  virziens)\n",
        "\n",
        "**over-accelerometer-tangential**  - pārkares gultņa akselerometrs (tangenciālais virziens)\n",
        "\n",
        "**microphone** – mikrofona vērtība\n"
      ]
    },
    {
      "cell_type": "markdown",
      "metadata": {
        "id": "XymoNLKMVFUC"
      },
      "source": [
        "#Datu ielasīšana un satura vizualizācija"
      ]
    },
    {
      "cell_type": "code",
      "execution_count": null,
      "metadata": {
        "id": "_yqYZDeOFq5s"
      },
      "outputs": [],
      "source": [
        "import keras\n",
        "from keras.layers import LSTM, Dropout, Dense\n",
        "import tensorflow as tf\n",
        "import numpy as np\n",
        "import pandas as pd\n",
        "\n",
        "from sklearn import linear_model  #pip install sklearn - loti plasa masinapmacibas biblioteka\n",
        "from sklearn.linear_model import LinearRegression  \n",
        "import csv          #pip install csv - darbam ar CSV datu kopam\n",
        "import requests     #pip install requests  - vienkarsakam darbam ar tiessaistes CSV datu kopam tiessaistes\n",
        "\n",
        "import matplotlib\n",
        "import matplotlib.pyplot as plt\n",
        "\n",
        "import glob\n"
      ]
    },
    {
      "cell_type": "code",
      "execution_count": null,
      "metadata": {
        "colab": {
          "base_uri": "https://localhost:8080/"
        },
        "id": "wlRTBbM2eUcV",
        "outputId": "907389ed-6a10-45f0-e343-8d8780013389"
      },
      "outputs": [
        {
          "output_type": "stream",
          "name": "stdout",
          "text": [
            "Mounted at /content/gdrive\n"
          ]
        }
      ],
      "source": [
        "from google.colab import drive\n",
        "import os\n",
        "drive.mount('/content/gdrive')\n",
        "os.chdir(\"/content/gdrive/MyDrive/Colab Notebooks/data/motor/\")"
      ]
    },
    {
      "cell_type": "code",
      "execution_count": null,
      "metadata": {
        "id": "zzz6fBl_SNom"
      },
      "outputs": [],
      "source": [
        "#extension = 'csv'\n",
        "#all_filenames = [i for i in glob.glob('*.{}'.format(extension))]"
      ]
    },
    {
      "cell_type": "code",
      "execution_count": null,
      "metadata": {
        "id": "vagKFCkToBi0"
      },
      "outputs": [],
      "source": [
        "#combine all files in the list\n",
        "#combined_csv = pd.concat([pd.read_csv(f) for f in all_filenames ])\n",
        "#export to csv\n",
        "#combined_csv.to_csv( \"combined_csv.csv\", index=False, encoding='utf-8-sig')"
      ]
    },
    {
      "cell_type": "code",
      "execution_count": null,
      "metadata": {
        "id": "encEkbDhSfGI"
      },
      "outputs": [],
      "source": [
        "data = pd.read_csv(\"combined_csv.csv\")"
      ]
    },
    {
      "cell_type": "code",
      "execution_count": null,
      "metadata": {
        "colab": {
          "base_uri": "https://localhost:8080/"
        },
        "id": "yz5Qe8ZWk1Zq",
        "outputId": "a04424fd-071f-4741-fd79-3d43a2e18c40"
      },
      "outputs": [
        {
          "output_type": "stream",
          "name": "stdout",
          "text": [
            "<class 'pandas.core.frame.DataFrame'>\n",
            "RangeIndex: 250000 entries, 0 to 249999\n",
            "Data columns (total 9 columns):\n",
            " #   Column                         Non-Null Count   Dtype  \n",
            "---  ------                         --------------   -----  \n",
            " 0   tachometer                     250000 non-null  float64\n",
            " 1   und-accelerometer-axial        250000 non-null  float64\n",
            " 2   und-accelerometer-radial       250000 non-null  float64\n",
            " 3   und-accelerometer-tangential   250000 non-null  float64\n",
            " 4   over-accelerometer-axial       250000 non-null  float64\n",
            " 5   over-accelerometer-radial      250000 non-null  float64\n",
            " 6   over-accelerometer-tangential  250000 non-null  float64\n",
            " 7   microphone                     250000 non-null  float64\n",
            " 8   Class                          250000 non-null  int64  \n",
            "dtypes: float64(8), int64(1)\n",
            "memory usage: 17.2 MB\n"
          ]
        }
      ],
      "source": [
        "data.info()"
      ]
    },
    {
      "cell_type": "code",
      "execution_count": null,
      "metadata": {
        "colab": {
          "base_uri": "https://localhost:8080/"
        },
        "id": "WUW9ezX6a_st",
        "outputId": "99be2b7b-cc0c-40fc-e7c2-e8df2826e01b"
      },
      "outputs": [
        {
          "output_type": "execute_result",
          "data": {
            "text/plain": [
              "250000"
            ]
          },
          "metadata": {},
          "execution_count": 8
        }
      ],
      "source": [
        "rec_count = len(data)\n",
        "rec_count"
      ]
    },
    {
      "cell_type": "code",
      "execution_count": null,
      "metadata": {
        "id": "DOvnCYkcbGaE"
      },
      "outputs": [],
      "source": [
        "sequence_length = 200"
      ]
    },
    {
      "cell_type": "code",
      "execution_count": null,
      "metadata": {
        "id": "RG0o2L3zbTEx"
      },
      "outputs": [],
      "source": [
        "def generate_data(X, y, sequence_length = 200, step = 1):\n",
        "    X_local = []\n",
        "    y_local = []\n",
        "    for start in range(0, len(data) - sequence_length, step):\n",
        "        end = start + sequence_length\n",
        "        X_local.append(X[start:end])\n",
        "        y_local.append(y[end-1])\n",
        "    return np.array(X_local), np.array(y_local)\n",
        "\n",
        "X_sequence, y = generate_data(data.loc[:, \"tachometer\":\"microphone\"].values, data.Class)"
      ]
    },
    {
      "cell_type": "code",
      "execution_count": null,
      "metadata": {
        "colab": {
          "base_uri": "https://localhost:8080/"
        },
        "id": "s0QxwK66cLVF",
        "outputId": "f1ef9840-978a-4f50-bd04-3e5c84e2b7e7"
      },
      "outputs": [
        {
          "output_type": "execute_result",
          "data": {
            "text/plain": [
              "((249800, 200, 8), (249800,))"
            ]
          },
          "metadata": {},
          "execution_count": 11
        }
      ],
      "source": [
        "X_sequence.shape, y.shape"
      ]
    },
    {
      "cell_type": "code",
      "source": [
        "def shuffle_in_unison(a, b):\n",
        "    assert len(a) == len(b)\n",
        "    shuffled_a = np.empty(a.shape, dtype=a.dtype)\n",
        "    shuffled_b = np.empty(b.shape, dtype=b.dtype)\n",
        "    permutation = np.random.permutation(len(a))\n",
        "    for old_index, new_index in enumerate(permutation):\n",
        "        shuffled_a[new_index] = a[old_index]\n",
        "        shuffled_b[new_index] = b[old_index]\n",
        "    return shuffled_a, shuffled_b"
      ],
      "metadata": {
        "id": "MKmtjWlveFRB"
      },
      "execution_count": null,
      "outputs": []
    },
    {
      "cell_type": "code",
      "source": [
        "X_sequence, y = shuffle_in_unison(X_sequence, y)"
      ],
      "metadata": {
        "id": "4IrNXHTJeGPx"
      },
      "execution_count": null,
      "outputs": []
    },
    {
      "cell_type": "code",
      "execution_count": null,
      "metadata": {
        "colab": {
          "base_uri": "https://localhost:8080/"
        },
        "id": "PjKWKiA6aH3z",
        "outputId": "1de4a833-f00f-4d40-bb9f-93d7bed2da42"
      },
      "outputs": [
        {
          "output_type": "stream",
          "name": "stdout",
          "text": [
            "Model: \"sequential\"\n",
            "_________________________________________________________________\n",
            " Layer (type)                Output Shape              Param #   \n",
            "=================================================================\n",
            " lstm (LSTM)                 (None, 100)               43600     \n",
            "                                                                 \n",
            " dropout (Dropout)           (None, 100)               0         \n",
            "                                                                 \n",
            " dense (Dense)               (None, 1)                 101       \n",
            "                                                                 \n",
            "=================================================================\n",
            "Total params: 43,701\n",
            "Trainable params: 43,701\n",
            "Non-trainable params: 0\n",
            "_________________________________________________________________\n"
          ]
        }
      ],
      "source": [
        "model = keras.Sequential()\n",
        "model.add(LSTM(100, input_shape = (200, 8)))\n",
        "model.add(Dropout(0.5))\n",
        "model.add(Dense(1, activation=\"sigmoid\"))\n",
        "model.compile(loss=\"binary_crossentropy\"\n",
        "              , metrics=[keras.metrics.binary_accuracy]\n",
        "              , optimizer=\"adam\")\n",
        "\n",
        "model.summary()"
      ]
    },
    {
      "cell_type": "code",
      "execution_count": null,
      "metadata": {
        "id": "tg8wrqsqc8UX"
      },
      "outputs": [],
      "source": [
        "training_size = int(len(X_sequence) * 0.7)"
      ]
    },
    {
      "cell_type": "code",
      "execution_count": null,
      "metadata": {
        "id": "avIp3TEKc-qF"
      },
      "outputs": [],
      "source": [
        "X_train, y_train = X_sequence[:training_size], y[:training_size]\n",
        "X_test, y_test = X_sequence[training_size:], y[training_size:]"
      ]
    },
    {
      "cell_type": "code",
      "execution_count": null,
      "metadata": {
        "colab": {
          "base_uri": "https://localhost:8080/"
        },
        "id": "cen4faX0dFJP",
        "outputId": "f49b86ea-0d3b-4939-b8b0-0907aaebd2e1"
      },
      "outputs": [
        {
          "output_type": "stream",
          "name": "stdout",
          "text": [
            "Epoch 1/50\n",
            "2733/2733 [==============================] - 529s 193ms/step - loss: 0.0023 - binary_accuracy: 0.9996\n",
            "Epoch 2/50\n",
            "2733/2733 [==============================] - 524s 192ms/step - loss: 2.0468e-06 - binary_accuracy: 1.0000\n",
            "Epoch 3/50\n",
            "2733/2733 [==============================] - 525s 192ms/step - loss: 5.0805e-07 - binary_accuracy: 1.0000\n",
            "Epoch 4/50\n",
            "2733/2733 [==============================] - 528s 193ms/step - loss: 1.3286e-07 - binary_accuracy: 1.0000\n",
            "Epoch 5/50\n",
            "2733/2733 [==============================] - 536s 196ms/step - loss: 3.9795e-08 - binary_accuracy: 1.0000\n",
            "Epoch 6/50\n",
            "2733/2733 [==============================] - 529s 194ms/step - loss: 1.1267e-08 - binary_accuracy: 1.0000\n",
            "Epoch 7/50\n",
            "2733/2733 [==============================] - 518s 190ms/step - loss: 3.4450e-09 - binary_accuracy: 1.0000\n",
            "Epoch 8/50\n",
            "2733/2733 [==============================] - 517s 189ms/step - loss: 1.2658e-09 - binary_accuracy: 1.0000\n",
            "Epoch 9/50\n",
            "2733/2733 [==============================] - 516s 189ms/step - loss: 5.8962e-10 - binary_accuracy: 1.0000\n",
            "Epoch 10/50\n",
            "2733/2733 [==============================] - 518s 190ms/step - loss: 3.6563e-10 - binary_accuracy: 1.0000\n",
            "Epoch 11/50\n",
            "2733/2733 [==============================] - 517s 189ms/step - loss: 2.5681e-10 - binary_accuracy: 1.0000\n",
            "Epoch 12/50\n",
            "2733/2733 [==============================] - 520s 190ms/step - loss: 1.7747e-10 - binary_accuracy: 1.0000\n",
            "Epoch 13/50\n",
            "2733/2733 [==============================] - 523s 191ms/step - loss: 1.4718e-10 - binary_accuracy: 1.0000\n",
            "Epoch 14/50\n",
            "2733/2733 [==============================] - 522s 191ms/step - loss: 1.2893e-10 - binary_accuracy: 1.0000\n",
            "Epoch 15/50\n",
            "2733/2733 [==============================] - 522s 191ms/step - loss: 1.1435e-10 - binary_accuracy: 1.0000\n",
            "Epoch 16/50\n",
            "2733/2733 [==============================] - 519s 190ms/step - loss: 9.3920e-11 - binary_accuracy: 1.0000\n",
            "Epoch 17/50\n",
            "2733/2733 [==============================] - 531s 194ms/step - loss: 8.7637e-11 - binary_accuracy: 1.0000\n",
            "Epoch 18/50\n",
            "2733/2733 [==============================] - 534s 195ms/step - loss: 7.0007e-11 - binary_accuracy: 1.0000\n",
            "Epoch 19/50\n",
            "2733/2733 [==============================] - 533s 195ms/step - loss: 7.4624e-11 - binary_accuracy: 1.0000\n",
            "Epoch 20/50\n",
            "2733/2733 [==============================] - 525s 192ms/step - loss: 6.6708e-11 - binary_accuracy: 1.0000\n",
            "Epoch 21/50\n",
            "2733/2733 [==============================] - 523s 191ms/step - loss: 5.3295e-11 - binary_accuracy: 1.0000\n",
            "Epoch 22/50\n",
            "2733/2733 [==============================] - 525s 192ms/step - loss: 6.0845e-11 - binary_accuracy: 1.0000\n",
            "Epoch 23/50\n",
            "2733/2733 [==============================] - 526s 193ms/step - loss: 5.7400e-11 - binary_accuracy: 1.0000\n",
            "Epoch 24/50\n",
            "2733/2733 [==============================] - 524s 192ms/step - loss: 5.9550e-11 - binary_accuracy: 1.0000\n",
            "Epoch 25/50\n",
            "2733/2733 [==============================] - 524s 192ms/step - loss: 6.5514e-11 - binary_accuracy: 1.0000\n",
            "Epoch 26/50\n",
            "2733/2733 [==============================] - 526s 192ms/step - loss: 3.9477e-11 - binary_accuracy: 1.0000\n",
            "Epoch 27/50\n",
            "2733/2733 [==============================] - 527s 193ms/step - loss: 3.9462e-11 - binary_accuracy: 1.0000\n",
            "Epoch 28/50\n",
            "2733/2733 [==============================] - 529s 194ms/step - loss: 4.3495e-11 - binary_accuracy: 1.0000\n",
            "Epoch 29/50\n",
            "2733/2733 [==============================] - 520s 190ms/step - loss: 3.7923e-11 - binary_accuracy: 1.0000\n",
            "Epoch 30/50\n",
            "2733/2733 [==============================] - 525s 192ms/step - loss: 3.4005e-11 - binary_accuracy: 1.0000\n",
            "Epoch 31/50\n",
            "2733/2733 [==============================] - 522s 191ms/step - loss: 3.3418e-11 - binary_accuracy: 1.0000\n",
            "Epoch 32/50\n",
            "2733/2733 [==============================] - 523s 191ms/step - loss: 3.7823e-11 - binary_accuracy: 1.0000\n",
            "Epoch 33/50\n",
            "2733/2733 [==============================] - 519s 190ms/step - loss: 3.1908e-11 - binary_accuracy: 1.0000\n",
            "Epoch 34/50\n",
            "2733/2733 [==============================] - 526s 192ms/step - loss: 3.2107e-11 - binary_accuracy: 1.0000\n",
            "Epoch 35/50\n",
            "2733/2733 [==============================] - 525s 192ms/step - loss: 3.0960e-11 - binary_accuracy: 1.0000\n",
            "Epoch 36/50\n",
            "2733/2733 [==============================] - 525s 192ms/step - loss: 2.6804e-11 - binary_accuracy: 1.0000\n",
            "Epoch 37/50\n",
            "2733/2733 [==============================] - 525s 192ms/step - loss: 2.8535e-11 - binary_accuracy: 1.0000\n",
            "Epoch 38/50\n",
            "2733/2733 [==============================] - 524s 192ms/step - loss: 3.0129e-11 - binary_accuracy: 1.0000\n",
            "Epoch 39/50\n",
            "2733/2733 [==============================] - 526s 193ms/step - loss: 2.9193e-11 - binary_accuracy: 1.0000\n",
            "Epoch 40/50\n",
            "2733/2733 [==============================] - 523s 191ms/step - loss: 2.2845e-11 - binary_accuracy: 1.0000\n",
            "Epoch 41/50\n",
            "2733/2733 [==============================] - 520s 190ms/step - loss: 2.5575e-11 - binary_accuracy: 1.0000\n",
            "Epoch 42/50\n",
            "2733/2733 [==============================] - 522s 191ms/step - loss: 2.0350e-11 - binary_accuracy: 1.0000\n",
            "Epoch 43/50\n",
            "2733/2733 [==============================] - 524s 192ms/step - loss: 2.2090e-11 - binary_accuracy: 1.0000\n",
            "Epoch 44/50\n",
            "2733/2733 [==============================] - 525s 192ms/step - loss: 2.1318e-11 - binary_accuracy: 1.0000\n",
            "Epoch 45/50\n",
            "2733/2733 [==============================] - 524s 192ms/step - loss: 2.0205e-11 - binary_accuracy: 1.0000\n",
            "Epoch 46/50\n",
            " 422/2733 [===>..........................] - ETA: 7:24 - loss: 1.8768e-11 - binary_accuracy: 1.0000"
          ]
        }
      ],
      "source": [
        "model.fit(X_train, y_train, batch_size=64, epochs=50)"
      ]
    },
    {
      "cell_type": "code",
      "execution_count": null,
      "metadata": {
        "id": "R7QQeqVidKBR"
      },
      "outputs": [],
      "source": [
        "model.evaluate(X_test, y_test)"
      ]
    },
    {
      "cell_type": "code",
      "execution_count": null,
      "metadata": {
        "id": "OHpifyqGdKn-"
      },
      "outputs": [],
      "source": [
        "y_test_prob = model.predict(X_test, verbose=1)"
      ]
    },
    {
      "cell_type": "code",
      "execution_count": null,
      "metadata": {
        "id": "AfmdrBILdMwj"
      },
      "outputs": [],
      "source": [
        "y_test_pred = np.where(y_test_prob > 0.5, 1, 0)"
      ]
    },
    {
      "cell_type": "code",
      "execution_count": null,
      "metadata": {
        "id": "8DoJy_p9dPzN"
      },
      "outputs": [],
      "source": [
        "from sklearn.metrics import confusion_matrix"
      ]
    },
    {
      "cell_type": "code",
      "execution_count": null,
      "metadata": {
        "id": "fTCsPjW8dQaZ"
      },
      "outputs": [],
      "source": [
        "confusion_matrix(y_test, y_test_pred)"
      ]
    },
    {
      "cell_type": "code",
      "execution_count": null,
      "metadata": {
        "id": "te3fslrY9Eca"
      },
      "outputs": [],
      "source": [
        "import numpy as np\n",
        "import matplotlib.pyplot as plt\n",
        "\n",
        "from sklearn import svm, datasets\n",
        "from sklearn.model_selection import train_test_split\n",
        "from sklearn.metrics import confusion_matrix\n",
        "from sklearn.utils.multiclass import unique_labels\n",
        "\n",
        "class_names = np.array(['0', '1'])\n",
        "\n",
        "def plot_confusion_matrix(y_true, y_pred, classes,\n",
        "                          normalize=False,\n",
        "                          title=None,\n",
        "                          cmap=plt.cm.Blues):\n",
        "    \"\"\"\n",
        "    This function prints and plots the confusion matrix.\n",
        "    Normalization can be applied by setting `normalize=True`.\n",
        "    \"\"\"\n",
        "    if not title:\n",
        "        if normalize:\n",
        "            title = 'Normalized confusion matrix'\n",
        "        else:\n",
        "            title = 'Confusion matrix, without normalization'\n",
        "\n",
        "    # Compute confusion matrix\n",
        "    cm = confusion_matrix(y_true, y_pred)\n",
        "    # Only use the labels that appear in the data\n",
        "    classes = classes[unique_labels(y_true, y_pred)]\n",
        "    if normalize:\n",
        "        cm = cm.astype('float') / cm.sum(axis=1)[:, np.newaxis]\n",
        "        print(\"Normalized confusion matrix\")\n",
        "    else:\n",
        "        print('Confusion matrix, without normalization')\n",
        "\n",
        "    print(cm)\n",
        "\n",
        "    fig, ax = plt.subplots()\n",
        "    im = ax.imshow(cm, interpolation='nearest', cmap=cmap)\n",
        "    ax.figure.colorbar(im, ax=ax)\n",
        "    # We want to show all ticks...\n",
        "    ax.set(xticks=np.arange(cm.shape[1]),\n",
        "           yticks=np.arange(cm.shape[0]),\n",
        "           # ... and label them with the respective list entries\n",
        "           xticklabels=classes, yticklabels=classes,\n",
        "           title=title,\n",
        "           ylabel='True label',\n",
        "           xlabel='Predicted label')\n",
        "\n",
        "    # Rotate the tick labels and set their alignment.\n",
        "    plt.setp(ax.get_xticklabels(), rotation=45, ha=\"right\",\n",
        "             rotation_mode=\"anchor\")\n",
        "\n",
        "    # Loop over data dimensions and create text annotations.\n",
        "    fmt = '.2f' if normalize else 'd'\n",
        "    thresh = cm.max() / 2.\n",
        "    for i in range(cm.shape[0]):\n",
        "        for j in range(cm.shape[1]):\n",
        "            ax.text(j, i, format(cm[i, j], fmt),\n",
        "                    ha=\"center\", va=\"center\",\n",
        "                    color=\"white\" if cm[i, j] > thresh else \"black\")\n",
        "    fig.tight_layout()\n",
        "    plt.xlim(-0.5, len(np.unique(y))-0.5)\n",
        "    plt.ylim(len(np.unique(y))-0.5, -0.5)\n",
        "    return ax\n",
        "\n",
        "\n",
        "np.set_printoptions(precision=2)\n",
        "\n",
        "# Plot non-normalized confusion matrix\n",
        "plot_confusion_matrix(y_test, y_test_pred, classes=class_names,\n",
        "                      title='Confusion matrix, without normalization')\n",
        "\n",
        "# Plot normalized confusion matrix\n",
        "plot_confusion_matrix(y_test, y_test_pred, classes=class_names, normalize=True,\n",
        "                      title='Normalized confusion matrix')\n",
        "\n",
        "plt.show()"
      ]
    }
  ],
  "metadata": {
    "colab": {
      "collapsed_sections": [
        "f857kfHqUk0-"
      ],
      "name": "MD LSTM.ipynb",
      "provenance": [],
      "authorship_tag": "ABX9TyPHKbqSxno5lhnzo8NBcDY1",
      "include_colab_link": true
    },
    "kernelspec": {
      "display_name": "Python 3",
      "name": "python3"
    },
    "language_info": {
      "name": "python"
    }
  },
  "nbformat": 4,
  "nbformat_minor": 0
}
