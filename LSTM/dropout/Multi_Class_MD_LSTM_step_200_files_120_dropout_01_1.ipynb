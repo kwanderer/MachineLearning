{
  "cells": [
    {
      "cell_type": "markdown",
      "metadata": {
        "id": "view-in-github",
        "colab_type": "text"
      },
      "source": [
        "<a href=\"https://colab.research.google.com/github/kwanderer/MachineLearning/blob/main/Multi_Class_MD_LSTM_step_200_files_120_dropout_01_1.ipynb\" target=\"_parent\"><img src=\"https://colab.research.google.com/assets/colab-badge.svg\" alt=\"Open In Colab\"/></a>"
      ]
    },
    {
      "cell_type": "markdown",
      "metadata": {
        "id": "f857kfHqUk0-"
      },
      "source": [
        "\n",
        "\n",
        "#Datu kopa"
      ]
    },
    {
      "cell_type": "markdown",
      "metadata": {
        "id": "nM9WE3QGUwVi"
      },
      "source": [
        "Datu kopas avots: https://www.kaggle.com/uysalserkan/fault-induction-motor-dataset"
      ]
    },
    {
      "cell_type": "markdown",
      "metadata": {
        "id": "_sN_h3qHHy6r"
      },
      "source": [
        "Darbā tiek izmantota indukcijas motora parametru datu bāze. Izmantotajā datu kopā ir dati, kas tika iegūti SpectraQuest aparatūras kļūdu simulatorā (Machinery Fault Simulator).\n",
        "\n",
        "Katra mērījumu secība tika ģenerēta ar frekvenci 50 kHz 5 sekunžu laikā, kopā 250 000 mērījumi.\n",
        "\n",
        "Dati ir apkopoti vairākos failos, dažādos darbības stāvokļos un to apjoms ir ļoti liels. Šajā darbā tika izmantota daļa(viena mērījumu secība) no motora normālas darbības datiem.\n"
      ]
    },
    {
      "cell_type": "markdown",
      "metadata": {
        "id": "KtFAOaHYHLPo"
      },
      "source": [
        "Dati ir apkopoti tabulā, kura satur 8 parametrus. Dati ir iedalīti sekojošās kolonas:\n",
        "\n",
        "**tachometer** – tahometra signāls, kas ļauj novērtēt rotācijas frekvenci\n",
        "\n",
        "**und-accelerometer-axial** - apakšā esošā gultņa akselerometrs (aksiālais virziens)\n",
        "\n",
        "**und-accelerometer-radial** – apakšā esošā gultņa akselerometrs (radiālais virziens)\n",
        "\n",
        "**und-accelerometer-tangential** - apakšā esošā gultņa akselerometrs (tangenciālais virziens)\n",
        "\n",
        "**over-accelerometer-axial** - pārkares gultņa akselerometrs (aksiālais virziens)\n",
        "\n",
        "**over-accelerometer-radial** – pārkares gultņa akselerometrs (radiālais  virziens)\n",
        "\n",
        "**over-accelerometer-tangential**  - pārkares gultņa akselerometrs (tangenciālais virziens)\n",
        "\n",
        "**microphone** – mikrofona vērtība\n"
      ]
    },
    {
      "cell_type": "markdown",
      "metadata": {
        "id": "XymoNLKMVFUC"
      },
      "source": [
        "#Datu ielasīšana un satura vizualizācija"
      ]
    },
    {
      "cell_type": "code",
      "execution_count": 1,
      "metadata": {
        "id": "_yqYZDeOFq5s"
      },
      "outputs": [],
      "source": [
        "import keras\n",
        "from keras.layers import LSTM, Dropout, Dense\n",
        "import tensorflow as tf\n",
        "import numpy as np\n",
        "import pandas as pd\n",
        "\n",
        "from sklearn import linear_model  #pip install sklearn - loti plasa masinapmacibas biblioteka\n",
        "from sklearn.linear_model import LinearRegression  \n",
        "import csv          #pip install csv - darbam ar CSV datu kopam\n",
        "import requests     #pip install requests  - vienkarsakam darbam ar tiessaistes CSV datu kopam tiessaistes\n",
        "\n",
        "import matplotlib\n",
        "import matplotlib.pyplot as plt\n",
        "\n",
        "import glob\n"
      ]
    },
    {
      "cell_type": "code",
      "execution_count": 2,
      "metadata": {
        "id": "wlRTBbM2eUcV",
        "colab": {
          "base_uri": "https://localhost:8080/"
        },
        "outputId": "7b2298ff-bb0c-4400-d95b-cf892c0ac000"
      },
      "outputs": [
        {
          "output_type": "stream",
          "name": "stdout",
          "text": [
            "Drive already mounted at /content/gdrive; to attempt to forcibly remount, call drive.mount(\"/content/gdrive\", force_remount=True).\n"
          ]
        }
      ],
      "source": [
        "from google.colab import drive\n",
        "import os\n",
        "drive.mount('/content/gdrive')\n",
        "os.chdir(\"/content/gdrive/MyDrive/Colab Notebooks/data_multiclass/\")"
      ]
    },
    {
      "cell_type": "code",
      "execution_count": 3,
      "metadata": {
        "id": "zzz6fBl_SNom"
      },
      "outputs": [],
      "source": [
        "#extension = 'csv'\n",
        "#all_filenames = [i for i in glob.glob('*.{}'.format(extension))]"
      ]
    },
    {
      "cell_type": "code",
      "execution_count": 4,
      "metadata": {
        "id": "vagKFCkToBi0"
      },
      "outputs": [],
      "source": [
        "#combine all files in the list\n",
        "#combined_csv = pd.concat([pd.read_csv(f) for f in all_filenames ])\n",
        "#export to csv\n",
        "#combined_csv.to_csv( \"combined_multiclass_csv.csv\", index=False, encoding='utf-8-sig')"
      ]
    },
    {
      "cell_type": "code",
      "execution_count": 5,
      "metadata": {
        "id": "encEkbDhSfGI"
      },
      "outputs": [],
      "source": [
        "data = pd.read_csv(\"combined_multiclass_csv.csv\")"
      ]
    },
    {
      "cell_type": "code",
      "execution_count": 6,
      "metadata": {
        "id": "yz5Qe8ZWk1Zq",
        "colab": {
          "base_uri": "https://localhost:8080/"
        },
        "outputId": "72b816bd-1a82-4abe-c60b-be78a3c41445"
      },
      "outputs": [
        {
          "output_type": "stream",
          "name": "stdout",
          "text": [
            "<class 'pandas.core.frame.DataFrame'>\n",
            "RangeIndex: 30000000 entries, 0 to 29999999\n",
            "Data columns (total 9 columns):\n",
            " #   Column                         Dtype  \n",
            "---  ------                         -----  \n",
            " 0   tachometer                     float64\n",
            " 1   und-accelerometer-axial        float64\n",
            " 2   und-accelerometer-radial       float64\n",
            " 3   und-accelerometer-tangential   float64\n",
            " 4   over-accelerometer-axial       float64\n",
            " 5   over-accelerometer-radial      float64\n",
            " 6   over-accelerometer-tangential  float64\n",
            " 7   microphone                     float64\n",
            " 8   Class                          int64  \n",
            "dtypes: float64(8), int64(1)\n",
            "memory usage: 2.0 GB\n"
          ]
        }
      ],
      "source": [
        "data.info()"
      ]
    },
    {
      "cell_type": "code",
      "execution_count": 7,
      "metadata": {
        "id": "WUW9ezX6a_st",
        "colab": {
          "base_uri": "https://localhost:8080/"
        },
        "outputId": "cbce0423-83df-43bd-d90d-dc9a11ceb7e3"
      },
      "outputs": [
        {
          "output_type": "execute_result",
          "data": {
            "text/plain": [
              "30000000"
            ]
          },
          "metadata": {},
          "execution_count": 7
        }
      ],
      "source": [
        "rec_count = len(data)\n",
        "rec_count"
      ]
    },
    {
      "cell_type": "markdown",
      "metadata": {
        "id": "6RVC1PZy88fC"
      },
      "source": [
        "# Datu dalīšana mazākos gabalos"
      ]
    },
    {
      "cell_type": "code",
      "execution_count": 8,
      "metadata": {
        "id": "DOvnCYkcbGaE"
      },
      "outputs": [],
      "source": [
        "sequence_length = 200"
      ]
    },
    {
      "cell_type": "code",
      "execution_count": 9,
      "metadata": {
        "id": "RG0o2L3zbTEx"
      },
      "outputs": [],
      "source": [
        "def generate_data(X, y, sequence_length = 200, step = 200):\n",
        "    X_local = []\n",
        "    y_local = []\n",
        "    for start in range(0, len(data) - sequence_length, step):\n",
        "        end = start + sequence_length\n",
        "        X_local.append(X[start:end])\n",
        "        y_local.append(y[end-1])\n",
        "    return np.array(X_local), np.array(y_local)\n",
        "\n",
        "X_sequence, y = generate_data(data.loc[:, \"tachometer\":\"microphone\"].values, data.Class)"
      ]
    },
    {
      "cell_type": "code",
      "execution_count": 10,
      "metadata": {
        "id": "s0QxwK66cLVF",
        "colab": {
          "base_uri": "https://localhost:8080/"
        },
        "outputId": "0a235e97-084b-4c1b-ae52-d62c89330d81"
      },
      "outputs": [
        {
          "output_type": "execute_result",
          "data": {
            "text/plain": [
              "((149999, 200, 8), (149999,))"
            ]
          },
          "metadata": {},
          "execution_count": 10
        }
      ],
      "source": [
        "X_sequence.shape, y.shape"
      ]
    },
    {
      "cell_type": "code",
      "source": [
        "unique, counts = np.unique(y, return_counts=True)"
      ],
      "metadata": {
        "id": "l8Lq455lV1JR"
      },
      "execution_count": 11,
      "outputs": []
    },
    {
      "cell_type": "code",
      "source": [
        "unique"
      ],
      "metadata": {
        "id": "t0BRO3nAWQxe",
        "colab": {
          "base_uri": "https://localhost:8080/"
        },
        "outputId": "8c06e0fb-2614-428b-cbea-e0c6a87ac767"
      },
      "execution_count": 12,
      "outputs": [
        {
          "output_type": "execute_result",
          "data": {
            "text/plain": [
              "array([0, 1, 2, 3, 4, 5, 6, 7])"
            ]
          },
          "metadata": {},
          "execution_count": 12
        }
      ]
    },
    {
      "cell_type": "code",
      "source": [
        "counts"
      ],
      "metadata": {
        "id": "WWZ7QWR4WS_r",
        "colab": {
          "base_uri": "https://localhost:8080/"
        },
        "outputId": "0dca0c14-5e7e-441b-fc91-a2f49615b7b2"
      },
      "execution_count": 13,
      "outputs": [
        {
          "output_type": "execute_result",
          "data": {
            "text/plain": [
              "array([18749, 18750, 18750, 18750, 18750, 18750, 18750, 18750])"
            ]
          },
          "metadata": {},
          "execution_count": 13
        }
      ]
    },
    {
      "cell_type": "code",
      "execution_count": 14,
      "metadata": {
        "id": "i7R1oo6Mj8wx"
      },
      "outputs": [],
      "source": [
        "data = 0"
      ]
    },
    {
      "cell_type": "code",
      "source": [
        "from sklearn.preprocessing import OneHotEncoder"
      ],
      "metadata": {
        "id": "lAk_JscRWmqY"
      },
      "execution_count": 15,
      "outputs": []
    },
    {
      "cell_type": "code",
      "source": [
        "label_encoder = OneHotEncoder(sparse=False)\n",
        "label_encoder.fit(y.reshape(-1,1))"
      ],
      "metadata": {
        "id": "14B9aYy0W0y6",
        "colab": {
          "base_uri": "https://localhost:8080/"
        },
        "outputId": "398a1847-e714-428d-b27c-f2a02b386977"
      },
      "execution_count": 16,
      "outputs": [
        {
          "output_type": "execute_result",
          "data": {
            "text/plain": [
              "OneHotEncoder(sparse=False)"
            ]
          },
          "metadata": {},
          "execution_count": 16
        }
      ]
    },
    {
      "cell_type": "code",
      "source": [
        "y_encoded = label_encoder.transform(y.reshape(-1,1))"
      ],
      "metadata": {
        "id": "VjpWn96xXgPS"
      },
      "execution_count": 17,
      "outputs": []
    },
    {
      "cell_type": "code",
      "source": [
        "y_encoded[0:5]"
      ],
      "metadata": {
        "id": "VL6KMFo9XpBi",
        "colab": {
          "base_uri": "https://localhost:8080/"
        },
        "outputId": "7dd73997-acb4-4a31-e83d-2d128dec41f0"
      },
      "execution_count": 18,
      "outputs": [
        {
          "output_type": "execute_result",
          "data": {
            "text/plain": [
              "array([[0., 0., 0., 0., 0., 0., 0., 1.],\n",
              "       [0., 0., 0., 0., 0., 0., 0., 1.],\n",
              "       [0., 0., 0., 0., 0., 0., 0., 1.],\n",
              "       [0., 0., 0., 0., 0., 0., 0., 1.],\n",
              "       [0., 0., 0., 0., 0., 0., 0., 1.]])"
            ]
          },
          "metadata": {},
          "execution_count": 18
        }
      ]
    },
    {
      "cell_type": "code",
      "source": [
        "y=y_encoded"
      ],
      "metadata": {
        "id": "5c8km253YKBl"
      },
      "execution_count": 19,
      "outputs": []
    },
    {
      "cell_type": "markdown",
      "metadata": {
        "id": "5BXSDoHa9UX_"
      },
      "source": [
        "# Random/Shuffle"
      ]
    },
    {
      "cell_type": "code",
      "execution_count": 20,
      "metadata": {
        "id": "ZcfE9idy-ckb"
      },
      "outputs": [],
      "source": [
        "shuffler = np.random.permutation(len(X_sequence))\n",
        "X_sequence_shuffled = X_sequence[shuffler]\n",
        "y_shuffled = y[shuffler]"
      ]
    },
    {
      "cell_type": "markdown",
      "metadata": {
        "id": "TfhRTTNcE2s8"
      },
      "source": [
        "# LSTM"
      ]
    },
    {
      "cell_type": "code",
      "execution_count": 21,
      "metadata": {
        "id": "ihrXMuVAEwlY"
      },
      "outputs": [],
      "source": [
        "import pandas as pd\n",
        "import sklearn.metrics as metrique\n",
        "from pandas import Series\n",
        "from sklearn.preprocessing import StandardScaler, MinMaxScaler\n",
        "from matplotlib import pyplot\n",
        "from sklearn.model_selection import train_test_split\n",
        "import numpy as np\n",
        "import tensorflow as tf\n",
        "import sys\n",
        "import numpy as np\n",
        "import pandas as pd\n",
        "import tensorflow as tf\n",
        "import matplotlib.pyplot as plt\n",
        "from sklearn.model_selection import train_test_split\n",
        "from sklearn import preprocessing\n",
        "from sklearn.preprocessing import StandardScaler\n",
        "from sklearn.metrics import classification_report\n",
        "import warnings\n",
        "warnings.filterwarnings('ignore')\n",
        "plt.style.use('ggplot')\n",
        "import seaborn as sns \n",
        "%matplotlib inline\n",
        "from keras.callbacks import EarlyStopping\n",
        "from keras.callbacks import ModelCheckpoint\n",
        "from sklearn.metrics import accuracy_score\n",
        "from sklearn.metrics import classification_report, confusion_matrix\n",
        "from keras.models import Sequential\n",
        "from keras.utils import np_utils\n",
        "from keras.layers import LSTM, Dense, Embedding, Dropout,Input, Layer, Concatenate, Permute, Dot, Multiply, Flatten\n",
        "from keras.layers import RepeatVector, Dense, Activation, Lambda\n",
        "from keras.models import Sequential\n",
        "from keras import backend as K, regularizers, Model, metrics\n",
        "from keras.backend import cast"
      ]
    },
    {
      "cell_type": "code",
      "execution_count": 22,
      "metadata": {
        "id": "PjKWKiA6aH3z"
      },
      "outputs": [],
      "source": [
        "#from tensorflow.keras import optimizers\n",
        "#sgd = optimizers.SGD(lr=0.0001, decay=1e-6, momentum=0.9, nesterov=True)\n",
        "#model = keras.Sequential()\n",
        "#model.add(LSTM(100, input_shape = (200, 8)))\n",
        "#model.add(Dropout(0.5))\n",
        "#model.add(Dense(1, activation=\"softmax\"))\n",
        "\n",
        "\n",
        "#model.compile(loss=\"categorical_crossentropy\"\n",
        "#              , metrics=[keras.metrics.binary_accuracy]\n",
        "#              , optimizer='sgd')\n",
        "\n",
        "#model.summary()"
      ]
    },
    {
      "cell_type": "code",
      "execution_count": 23,
      "metadata": {
        "id": "_2SaVmwSWJVB",
        "colab": {
          "base_uri": "https://localhost:8080/"
        },
        "outputId": "8cfeede0-53ad-4688-b699-86dad6c75805"
      },
      "outputs": [
        {
          "output_type": "stream",
          "name": "stdout",
          "text": [
            "Model: \"sequential\"\n",
            "_________________________________________________________________\n",
            " Layer (type)                Output Shape              Param #   \n",
            "=================================================================\n",
            " lstm (LSTM)                 (None, 100)               43600     \n",
            "                                                                 \n",
            " dropout (Dropout)           (None, 100)               0         \n",
            "                                                                 \n",
            " dense (Dense)               (None, 8)                 808       \n",
            "                                                                 \n",
            "=================================================================\n",
            "Total params: 44,408\n",
            "Trainable params: 44,408\n",
            "Non-trainable params: 0\n",
            "_________________________________________________________________\n"
          ]
        }
      ],
      "source": [
        "from tensorflow.keras import optimizers\n",
        "#sgd = optimizers.SGD(lr=0.0001, decay=1e-6, momentum=0.9, nesterov=True)\n",
        "optimizer = tf.keras.optimizers.Adam(lr=0.0001)\n",
        "model = keras.Sequential()\n",
        "model.add(LSTM(100, input_shape = (200, 8)))\n",
        "model.add(Dropout(0.1))#0.25\n",
        "model.add(Dense(8, activation=\"softmax\"))\n",
        "\n",
        "#model.compile(loss='mean_squared_error', optimizer=sgd)\n",
        "model.compile(loss=\"categorical_crossentropy\"\n",
        "              , metrics=['accuracy']\n",
        "              , optimizer=optimizer)\n",
        "\n",
        "model.summary()"
      ]
    },
    {
      "cell_type": "code",
      "execution_count": 24,
      "metadata": {
        "id": "tg8wrqsqc8UX"
      },
      "outputs": [],
      "source": [
        "training_size = int(len(X_sequence) * 0.8)\n",
        "val_size = int(len(X_sequence) * 0.9)"
      ]
    },
    {
      "cell_type": "code",
      "execution_count": 25,
      "metadata": {
        "id": "avIp3TEKc-qF"
      },
      "outputs": [],
      "source": [
        "X_train, y_train = X_sequence_shuffled[:training_size], y_shuffled[:training_size]\n",
        "X_val, y_val = X_sequence_shuffled[training_size:val_size], y_shuffled[training_size:val_size]\n",
        "X_test, y_test = X_sequence_shuffled[val_size:], y_shuffled[val_size:]"
      ]
    },
    {
      "cell_type": "code",
      "execution_count": 26,
      "metadata": {
        "id": "RABc_uKzkBUT"
      },
      "outputs": [],
      "source": [
        "#X_sequence = 0\n",
        "#y = 0"
      ]
    },
    {
      "cell_type": "code",
      "source": [
        "X_train.shape"
      ],
      "metadata": {
        "id": "Omv-ht1dhGxL",
        "colab": {
          "base_uri": "https://localhost:8080/"
        },
        "outputId": "84799c4f-a6b7-4543-f8d9-07bf316547e7"
      },
      "execution_count": 27,
      "outputs": [
        {
          "output_type": "execute_result",
          "data": {
            "text/plain": [
              "(119999, 200, 8)"
            ]
          },
          "metadata": {},
          "execution_count": 27
        }
      ]
    },
    {
      "cell_type": "code",
      "execution_count": 28,
      "metadata": {
        "id": "8aIhPJ-wLCwZ",
        "colab": {
          "base_uri": "https://localhost:8080/"
        },
        "outputId": "97ab8f45-9a9c-4de5-e956-ca55b37e7697"
      },
      "outputs": [
        {
          "output_type": "execute_result",
          "data": {
            "text/plain": [
              "array([[0., 0., 0., 0., 0., 0., 1., 0.],\n",
              "       [0., 0., 0., 1., 0., 0., 0., 0.],\n",
              "       [0., 0., 0., 0., 1., 0., 0., 0.],\n",
              "       [0., 0., 0., 0., 0., 1., 0., 0.],\n",
              "       [0., 0., 0., 0., 0., 0., 0., 1.],\n",
              "       [0., 0., 0., 0., 0., 0., 1., 0.],\n",
              "       [0., 0., 0., 1., 0., 0., 0., 0.],\n",
              "       [0., 0., 0., 0., 1., 0., 0., 0.],\n",
              "       [0., 0., 0., 0., 0., 0., 1., 0.],\n",
              "       [0., 1., 0., 0., 0., 0., 0., 0.]])"
            ]
          },
          "metadata": {},
          "execution_count": 28
        }
      ],
      "source": [
        "y_train[:10]"
      ]
    },
    {
      "cell_type": "code",
      "execution_count": 29,
      "metadata": {
        "id": "cen4faX0dFJP",
        "colab": {
          "base_uri": "https://localhost:8080/"
        },
        "outputId": "80fa3a4f-245c-4fb9-a71b-38212cf3cf98"
      },
      "outputs": [
        {
          "output_type": "stream",
          "name": "stdout",
          "text": [
            "Epoch 1/100\n",
            "1875/1875 [==============================] - 27s 12ms/step - loss: 1.8395 - accuracy: 0.2390 - val_loss: 1.9144 - val_accuracy: 0.2229\n",
            "Epoch 2/100\n",
            "1875/1875 [==============================] - 24s 13ms/step - loss: 1.7885 - accuracy: 0.2546 - val_loss: 1.7047 - val_accuracy: 0.2949\n",
            "Epoch 3/100\n",
            "1875/1875 [==============================] - 22s 12ms/step - loss: 1.6725 - accuracy: 0.2894 - val_loss: 1.6401 - val_accuracy: 0.3037\n",
            "Epoch 4/100\n",
            "1875/1875 [==============================] - 23s 12ms/step - loss: 1.6378 - accuracy: 0.3019 - val_loss: 1.6691 - val_accuracy: 0.3249\n",
            "Epoch 5/100\n",
            "1875/1875 [==============================] - 23s 12ms/step - loss: 1.6071 - accuracy: 0.3346 - val_loss: 1.6009 - val_accuracy: 0.3476\n",
            "Epoch 6/100\n",
            "1875/1875 [==============================] - 23s 12ms/step - loss: 1.5596 - accuracy: 0.3551 - val_loss: 1.5931 - val_accuracy: 0.3540\n",
            "Epoch 7/100\n",
            "1875/1875 [==============================] - 23s 12ms/step - loss: 1.5275 - accuracy: 0.3716 - val_loss: 1.4802 - val_accuracy: 0.3947\n",
            "Epoch 8/100\n",
            "1875/1875 [==============================] - 23s 12ms/step - loss: 1.4875 - accuracy: 0.3868 - val_loss: 1.4865 - val_accuracy: 0.3972\n",
            "Epoch 9/100\n",
            "1875/1875 [==============================] - 24s 13ms/step - loss: 1.4840 - accuracy: 0.3920 - val_loss: 1.4787 - val_accuracy: 0.3977\n",
            "Epoch 10/100\n",
            "1875/1875 [==============================] - 23s 12ms/step - loss: 1.4846 - accuracy: 0.3934 - val_loss: 1.4526 - val_accuracy: 0.4119\n",
            "Epoch 11/100\n",
            "1875/1875 [==============================] - 23s 12ms/step - loss: 1.4894 - accuracy: 0.3925 - val_loss: 1.4443 - val_accuracy: 0.4049\n",
            "Epoch 12/100\n",
            "1875/1875 [==============================] - 24s 13ms/step - loss: 1.4526 - accuracy: 0.4074 - val_loss: 1.4230 - val_accuracy: 0.4161\n",
            "Epoch 13/100\n",
            "1875/1875 [==============================] - 24s 13ms/step - loss: 1.4517 - accuracy: 0.4067 - val_loss: 1.4406 - val_accuracy: 0.4110\n",
            "Epoch 14/100\n",
            "1875/1875 [==============================] - 24s 13ms/step - loss: 1.4411 - accuracy: 0.4149 - val_loss: 1.4873 - val_accuracy: 0.3951\n",
            "Epoch 15/100\n",
            "1875/1875 [==============================] - 30s 16ms/step - loss: 1.4186 - accuracy: 0.4167 - val_loss: 1.3814 - val_accuracy: 0.4423\n",
            "Epoch 16/100\n",
            "1875/1875 [==============================] - 28s 15ms/step - loss: 1.4274 - accuracy: 0.4248 - val_loss: 1.3794 - val_accuracy: 0.4365\n",
            "Epoch 17/100\n",
            "1875/1875 [==============================] - 24s 13ms/step - loss: 1.3636 - accuracy: 0.4416 - val_loss: 1.3376 - val_accuracy: 0.4571\n",
            "Epoch 18/100\n",
            "1875/1875 [==============================] - 25s 13ms/step - loss: 1.3667 - accuracy: 0.4435 - val_loss: 1.3169 - val_accuracy: 0.4590\n",
            "Epoch 19/100\n",
            "1875/1875 [==============================] - 24s 13ms/step - loss: 1.3319 - accuracy: 0.4577 - val_loss: 1.3209 - val_accuracy: 0.4697\n",
            "Epoch 20/100\n",
            "1875/1875 [==============================] - 24s 13ms/step - loss: 1.3479 - accuracy: 0.4569 - val_loss: 1.3610 - val_accuracy: 0.4557\n",
            "Epoch 21/100\n",
            "1875/1875 [==============================] - 25s 13ms/step - loss: 1.3196 - accuracy: 0.4648 - val_loss: 1.3104 - val_accuracy: 0.4699\n",
            "Epoch 22/100\n",
            "1875/1875 [==============================] - 24s 13ms/step - loss: 1.3063 - accuracy: 0.4699 - val_loss: 1.3667 - val_accuracy: 0.4404\n",
            "Epoch 23/100\n",
            "1875/1875 [==============================] - 24s 13ms/step - loss: 1.3034 - accuracy: 0.4727 - val_loss: 1.2571 - val_accuracy: 0.4850\n",
            "Epoch 24/100\n",
            "1875/1875 [==============================] - 23s 12ms/step - loss: 1.2841 - accuracy: 0.4839 - val_loss: 1.3282 - val_accuracy: 0.4577\n",
            "Epoch 25/100\n",
            "1875/1875 [==============================] - 23s 12ms/step - loss: 1.2485 - accuracy: 0.4930 - val_loss: 1.2319 - val_accuracy: 0.4976\n",
            "Epoch 26/100\n",
            "1875/1875 [==============================] - 23s 12ms/step - loss: 1.2438 - accuracy: 0.4953 - val_loss: 1.2294 - val_accuracy: 0.4962\n",
            "Epoch 27/100\n",
            "1875/1875 [==============================] - 23s 12ms/step - loss: 1.2697 - accuracy: 0.4852 - val_loss: 1.2309 - val_accuracy: 0.4968\n",
            "Epoch 28/100\n",
            "1875/1875 [==============================] - 23s 12ms/step - loss: 1.2111 - accuracy: 0.5042 - val_loss: 1.1843 - val_accuracy: 0.5115\n",
            "Epoch 29/100\n",
            "1875/1875 [==============================] - 23s 12ms/step - loss: 1.1920 - accuracy: 0.5112 - val_loss: 1.1849 - val_accuracy: 0.5127\n",
            "Epoch 30/100\n",
            "1875/1875 [==============================] - 23s 12ms/step - loss: 1.1922 - accuracy: 0.5137 - val_loss: 1.2006 - val_accuracy: 0.5106\n",
            "Epoch 31/100\n",
            "1875/1875 [==============================] - 23s 12ms/step - loss: 1.1866 - accuracy: 0.5139 - val_loss: 1.1656 - val_accuracy: 0.5210\n",
            "Epoch 32/100\n",
            "1875/1875 [==============================] - 23s 12ms/step - loss: 1.1728 - accuracy: 0.5172 - val_loss: 1.1432 - val_accuracy: 0.5319\n",
            "Epoch 33/100\n",
            "1875/1875 [==============================] - 23s 12ms/step - loss: 1.1605 - accuracy: 0.5225 - val_loss: 1.1222 - val_accuracy: 0.5305\n",
            "Epoch 34/100\n",
            "1875/1875 [==============================] - 23s 13ms/step - loss: 1.1290 - accuracy: 0.5337 - val_loss: 1.1505 - val_accuracy: 0.5221\n",
            "Epoch 35/100\n",
            "1875/1875 [==============================] - 23s 12ms/step - loss: 1.1206 - accuracy: 0.5343 - val_loss: 1.0863 - val_accuracy: 0.5459\n",
            "Epoch 36/100\n",
            "1875/1875 [==============================] - 23s 12ms/step - loss: 1.0905 - accuracy: 0.5474 - val_loss: 1.1562 - val_accuracy: 0.5158\n",
            "Epoch 37/100\n",
            "1875/1875 [==============================] - 24s 13ms/step - loss: 1.2697 - accuracy: 0.5009 - val_loss: 1.1313 - val_accuracy: 0.5269\n",
            "Epoch 38/100\n",
            "1875/1875 [==============================] - 23s 12ms/step - loss: 1.1312 - accuracy: 0.5302 - val_loss: 1.1214 - val_accuracy: 0.5311\n",
            "Epoch 39/100\n",
            "1875/1875 [==============================] - 23s 12ms/step - loss: 1.1041 - accuracy: 0.5396 - val_loss: 1.1256 - val_accuracy: 0.5235\n",
            "Epoch 40/100\n",
            "1875/1875 [==============================] - 23s 12ms/step - loss: 1.0696 - accuracy: 0.5517 - val_loss: 1.0466 - val_accuracy: 0.5622\n",
            "Epoch 41/100\n",
            "1875/1875 [==============================] - 23s 12ms/step - loss: 1.0606 - accuracy: 0.5555 - val_loss: 1.0509 - val_accuracy: 0.5573\n",
            "Epoch 42/100\n",
            "1875/1875 [==============================] - 23s 12ms/step - loss: 1.0495 - accuracy: 0.5620 - val_loss: 1.0266 - val_accuracy: 0.5701\n",
            "Epoch 43/100\n",
            "1875/1875 [==============================] - 23s 12ms/step - loss: 1.0353 - accuracy: 0.5655 - val_loss: 1.1018 - val_accuracy: 0.5457\n",
            "Epoch 44/100\n",
            "1875/1875 [==============================] - 23s 12ms/step - loss: 1.0435 - accuracy: 0.5640 - val_loss: 1.0159 - val_accuracy: 0.5721\n",
            "Epoch 45/100\n",
            "1875/1875 [==============================] - 23s 12ms/step - loss: 1.0308 - accuracy: 0.5734 - val_loss: 1.0691 - val_accuracy: 0.5545\n",
            "Epoch 46/100\n",
            "1875/1875 [==============================] - 23s 12ms/step - loss: 1.0064 - accuracy: 0.5773 - val_loss: 0.9813 - val_accuracy: 0.5909\n",
            "Epoch 47/100\n",
            "1875/1875 [==============================] - 24s 13ms/step - loss: 1.0022 - accuracy: 0.5812 - val_loss: 0.9946 - val_accuracy: 0.5838\n",
            "Epoch 48/100\n",
            "1875/1875 [==============================] - 24s 13ms/step - loss: 0.9828 - accuracy: 0.5879 - val_loss: 0.9997 - val_accuracy: 0.5849\n",
            "Epoch 49/100\n",
            "1875/1875 [==============================] - 23s 12ms/step - loss: 0.9711 - accuracy: 0.5937 - val_loss: 0.9866 - val_accuracy: 0.5876\n",
            "Epoch 50/100\n",
            "1875/1875 [==============================] - 22s 12ms/step - loss: 0.9545 - accuracy: 0.5997 - val_loss: 0.9423 - val_accuracy: 0.6090\n",
            "Epoch 51/100\n",
            "1875/1875 [==============================] - 22s 12ms/step - loss: 0.9468 - accuracy: 0.6023 - val_loss: 0.9252 - val_accuracy: 0.6093\n",
            "Epoch 52/100\n",
            "1875/1875 [==============================] - 22s 12ms/step - loss: 0.9338 - accuracy: 0.6062 - val_loss: 0.9197 - val_accuracy: 0.6143\n",
            "Epoch 53/100\n",
            "1875/1875 [==============================] - 22s 12ms/step - loss: 0.9255 - accuracy: 0.6111 - val_loss: 0.9065 - val_accuracy: 0.6239\n",
            "Epoch 54/100\n",
            "1875/1875 [==============================] - 22s 12ms/step - loss: 0.9159 - accuracy: 0.6136 - val_loss: 0.8969 - val_accuracy: 0.6212\n",
            "Epoch 55/100\n",
            "1875/1875 [==============================] - 22s 12ms/step - loss: 0.9047 - accuracy: 0.6168 - val_loss: 0.8735 - val_accuracy: 0.6338\n",
            "Epoch 56/100\n",
            "1875/1875 [==============================] - 22s 12ms/step - loss: 0.8990 - accuracy: 0.6197 - val_loss: 1.0099 - val_accuracy: 0.5826\n",
            "Epoch 57/100\n",
            "1875/1875 [==============================] - 22s 12ms/step - loss: 0.8907 - accuracy: 0.6237 - val_loss: 0.8787 - val_accuracy: 0.6310\n",
            "Epoch 58/100\n",
            "1875/1875 [==============================] - 22s 12ms/step - loss: 0.8783 - accuracy: 0.6287 - val_loss: 0.9197 - val_accuracy: 0.6076\n",
            "Epoch 59/100\n",
            "1875/1875 [==============================] - 22s 12ms/step - loss: 0.8686 - accuracy: 0.6316 - val_loss: 0.8557 - val_accuracy: 0.6377\n",
            "Epoch 60/100\n",
            "1875/1875 [==============================] - 22s 12ms/step - loss: 0.8630 - accuracy: 0.6356 - val_loss: 0.8725 - val_accuracy: 0.6383\n",
            "Epoch 61/100\n",
            "1875/1875 [==============================] - 22s 12ms/step - loss: 0.8495 - accuracy: 0.6413 - val_loss: 0.8442 - val_accuracy: 0.6460\n",
            "Epoch 62/100\n",
            "1875/1875 [==============================] - 22s 12ms/step - loss: 0.8452 - accuracy: 0.6431 - val_loss: 0.8440 - val_accuracy: 0.6457\n",
            "Epoch 63/100\n",
            "1875/1875 [==============================] - 22s 12ms/step - loss: 0.8363 - accuracy: 0.6476 - val_loss: 0.8300 - val_accuracy: 0.6563\n",
            "Epoch 64/100\n",
            "1875/1875 [==============================] - 22s 12ms/step - loss: 0.8300 - accuracy: 0.6509 - val_loss: 0.8280 - val_accuracy: 0.6545\n",
            "Epoch 65/100\n",
            "1875/1875 [==============================] - 22s 12ms/step - loss: 0.8222 - accuracy: 0.6528 - val_loss: 0.8233 - val_accuracy: 0.6565\n",
            "Epoch 66/100\n",
            "1875/1875 [==============================] - 22s 12ms/step - loss: 0.8147 - accuracy: 0.6571 - val_loss: 0.7966 - val_accuracy: 0.6660\n",
            "Epoch 67/100\n",
            "1875/1875 [==============================] - 22s 12ms/step - loss: 0.8099 - accuracy: 0.6592 - val_loss: 0.7936 - val_accuracy: 0.6735\n",
            "Epoch 68/100\n",
            "1875/1875 [==============================] - 22s 12ms/step - loss: 0.8038 - accuracy: 0.6610 - val_loss: 0.8150 - val_accuracy: 0.6554\n",
            "Epoch 69/100\n",
            "1875/1875 [==============================] - 22s 12ms/step - loss: 0.7963 - accuracy: 0.6640 - val_loss: 0.7653 - val_accuracy: 0.6822\n",
            "Epoch 70/100\n",
            "1875/1875 [==============================] - 22s 12ms/step - loss: 0.7902 - accuracy: 0.6674 - val_loss: 0.7748 - val_accuracy: 0.6783\n",
            "Epoch 71/100\n",
            "1875/1875 [==============================] - 23s 12ms/step - loss: 0.7848 - accuracy: 0.6708 - val_loss: 0.7855 - val_accuracy: 0.6742\n",
            "Epoch 72/100\n",
            "1875/1875 [==============================] - 22s 12ms/step - loss: 0.7777 - accuracy: 0.6729 - val_loss: 0.7990 - val_accuracy: 0.6728\n",
            "Epoch 73/100\n",
            "1875/1875 [==============================] - 22s 12ms/step - loss: 0.7785 - accuracy: 0.6736 - val_loss: 0.7543 - val_accuracy: 0.6843\n",
            "Epoch 74/100\n",
            "1875/1875 [==============================] - 22s 12ms/step - loss: 0.7637 - accuracy: 0.6820 - val_loss: 0.7355 - val_accuracy: 0.6925\n",
            "Epoch 75/100\n",
            "1875/1875 [==============================] - 22s 12ms/step - loss: 0.7589 - accuracy: 0.6831 - val_loss: 0.7620 - val_accuracy: 0.6825\n",
            "Epoch 76/100\n",
            "1875/1875 [==============================] - 22s 12ms/step - loss: 0.7536 - accuracy: 0.6862 - val_loss: 0.7427 - val_accuracy: 0.6928\n",
            "Epoch 77/100\n",
            "1875/1875 [==============================] - 22s 12ms/step - loss: 0.7502 - accuracy: 0.6874 - val_loss: 0.7264 - val_accuracy: 0.7037\n",
            "Epoch 78/100\n",
            "1875/1875 [==============================] - 22s 12ms/step - loss: 0.7435 - accuracy: 0.6899 - val_loss: 0.7223 - val_accuracy: 0.7011\n",
            "Epoch 79/100\n",
            "1875/1875 [==============================] - 22s 12ms/step - loss: 0.7368 - accuracy: 0.6937 - val_loss: 0.7347 - val_accuracy: 0.6960\n",
            "Epoch 80/100\n",
            "1875/1875 [==============================] - 22s 12ms/step - loss: 0.7316 - accuracy: 0.6960 - val_loss: 0.7711 - val_accuracy: 0.6778\n",
            "Epoch 81/100\n",
            "1875/1875 [==============================] - 22s 12ms/step - loss: 0.7262 - accuracy: 0.6995 - val_loss: 0.7231 - val_accuracy: 0.7053\n",
            "Epoch 82/100\n",
            "1875/1875 [==============================] - 22s 12ms/step - loss: 0.7210 - accuracy: 0.7001 - val_loss: 0.7502 - val_accuracy: 0.6909\n",
            "Epoch 83/100\n",
            "1875/1875 [==============================] - 22s 12ms/step - loss: 0.7143 - accuracy: 0.7037 - val_loss: 0.7343 - val_accuracy: 0.6974\n",
            "Epoch 84/100\n",
            "1875/1875 [==============================] - 22s 12ms/step - loss: 0.7087 - accuracy: 0.7072 - val_loss: 0.7021 - val_accuracy: 0.7116\n",
            "Epoch 85/100\n",
            "1875/1875 [==============================] - 22s 12ms/step - loss: 0.7016 - accuracy: 0.7104 - val_loss: 0.7040 - val_accuracy: 0.7130\n",
            "Epoch 86/100\n",
            "1875/1875 [==============================] - 22s 12ms/step - loss: 0.6999 - accuracy: 0.7117 - val_loss: 0.7009 - val_accuracy: 0.7126\n",
            "Epoch 87/100\n",
            "1875/1875 [==============================] - 22s 12ms/step - loss: 0.6926 - accuracy: 0.7147 - val_loss: 0.6849 - val_accuracy: 0.7203\n",
            "Epoch 88/100\n",
            "1875/1875 [==============================] - 23s 12ms/step - loss: 0.6879 - accuracy: 0.7166 - val_loss: 0.6993 - val_accuracy: 0.7139\n",
            "Epoch 89/100\n",
            "1875/1875 [==============================] - 23s 12ms/step - loss: 0.6858 - accuracy: 0.7189 - val_loss: 0.6782 - val_accuracy: 0.7277\n",
            "Epoch 90/100\n",
            "1875/1875 [==============================] - 23s 12ms/step - loss: 0.6803 - accuracy: 0.7202 - val_loss: 0.6861 - val_accuracy: 0.7219\n",
            "Epoch 91/100\n",
            "1875/1875 [==============================] - 22s 12ms/step - loss: 0.6786 - accuracy: 0.7208 - val_loss: 0.6588 - val_accuracy: 0.7313\n",
            "Epoch 92/100\n",
            "1875/1875 [==============================] - 22s 12ms/step - loss: 0.6687 - accuracy: 0.7245 - val_loss: 0.6660 - val_accuracy: 0.7252\n",
            "Epoch 93/100\n",
            "1875/1875 [==============================] - 22s 12ms/step - loss: 0.6655 - accuracy: 0.7261 - val_loss: 0.6609 - val_accuracy: 0.7306\n",
            "Epoch 94/100\n",
            "1875/1875 [==============================] - 22s 12ms/step - loss: 0.6618 - accuracy: 0.7293 - val_loss: 0.6578 - val_accuracy: 0.7277\n",
            "Epoch 95/100\n",
            "1875/1875 [==============================] - 22s 12ms/step - loss: 0.6547 - accuracy: 0.7322 - val_loss: 0.6719 - val_accuracy: 0.7267\n",
            "Epoch 96/100\n",
            "1875/1875 [==============================] - 23s 12ms/step - loss: 0.6510 - accuracy: 0.7338 - val_loss: 0.6880 - val_accuracy: 0.7171\n",
            "Epoch 97/100\n",
            "1875/1875 [==============================] - 23s 12ms/step - loss: 0.6528 - accuracy: 0.7345 - val_loss: 0.6382 - val_accuracy: 0.7412\n",
            "Epoch 98/100\n",
            "1875/1875 [==============================] - 22s 12ms/step - loss: 0.6380 - accuracy: 0.7403 - val_loss: 0.6486 - val_accuracy: 0.7345\n",
            "Epoch 99/100\n",
            "1875/1875 [==============================] - 22s 12ms/step - loss: 0.6371 - accuracy: 0.7400 - val_loss: 0.6291 - val_accuracy: 0.7469\n",
            "Epoch 100/100\n",
            "1875/1875 [==============================] - 22s 12ms/step - loss: 0.6407 - accuracy: 0.7394 - val_loss: 0.6279 - val_accuracy: 0.7442\n"
          ]
        }
      ],
      "source": [
        "history = model.fit(X_train, y_train, batch_size=64, epochs=100, validation_data=(X_val, y_val))\n",
        "#model.save('NewAllDataModel_E50_B64.h5')"
      ]
    },
    {
      "cell_type": "code",
      "execution_count": 30,
      "metadata": {
        "id": "R7QQeqVidKBR",
        "colab": {
          "base_uri": "https://localhost:8080/"
        },
        "outputId": "759b612a-aa72-406c-e275-b049d055c669"
      },
      "outputs": [
        {
          "output_type": "stream",
          "name": "stdout",
          "text": [
            "469/469 [==============================] - 2s 5ms/step - loss: 0.6234 - accuracy: 0.7493\n"
          ]
        }
      ],
      "source": [
        "test_acc = model.evaluate(X_test, y_test)"
      ]
    },
    {
      "cell_type": "code",
      "source": [
        "test_acc"
      ],
      "metadata": {
        "id": "6fuTmgGrUgGg",
        "colab": {
          "base_uri": "https://localhost:8080/"
        },
        "outputId": "d1a03c28-8a83-4dbd-80a3-65034e6f7cd1"
      },
      "execution_count": 31,
      "outputs": [
        {
          "output_type": "execute_result",
          "data": {
            "text/plain": [
              "[0.6234334111213684, 0.7493333220481873]"
            ]
          },
          "metadata": {},
          "execution_count": 31
        }
      ]
    },
    {
      "cell_type": "code",
      "execution_count": 32,
      "metadata": {
        "id": "OHpifyqGdKn-",
        "colab": {
          "base_uri": "https://localhost:8080/"
        },
        "outputId": "e5a1bdd6-a961-4e12-a8cc-09d1fcfb269f"
      },
      "outputs": [
        {
          "output_type": "stream",
          "name": "stdout",
          "text": [
            "469/469 [==============================] - 2s 4ms/step\n"
          ]
        }
      ],
      "source": [
        "y_test_prob = model.predict(X_test, verbose=1)"
      ]
    },
    {
      "cell_type": "code",
      "source": [
        "np.set_printoptions(suppress=True)\n",
        "y_test_prob_backup = y_test_prob\n",
        "y_test_prob"
      ],
      "metadata": {
        "id": "rRPswrrkmhp2",
        "colab": {
          "base_uri": "https://localhost:8080/"
        },
        "outputId": "68fb88c2-6d25-43a4-d73a-d88202a313df"
      },
      "execution_count": 33,
      "outputs": [
        {
          "output_type": "execute_result",
          "data": {
            "text/plain": [
              "array([[0.0000415 , 0.00000498, 0.00152465, ..., 0.31304777, 0.13751203,\n",
              "        0.00044278],\n",
              "       [0.00060931, 0.00065291, 0.00899054, ..., 0.03959447, 0.63349074,\n",
              "        0.27224147],\n",
              "       [0.00006554, 0.00017169, 0.0932577 , ..., 0.33823588, 0.11785245,\n",
              "        0.02789686],\n",
              "       ...,\n",
              "       [0.00000078, 0.00000762, 0.01401786, ..., 0.193111  , 0.00396485,\n",
              "        0.00001069],\n",
              "       [0.00012126, 0.9973756 , 0.00241129, ..., 0.00001767, 0.00001721,\n",
              "        0.00001449],\n",
              "       [0.00000401, 0.00000156, 0.00404584, ..., 0.06698335, 0.00522311,\n",
              "        0.00014532]], dtype=float32)"
            ]
          },
          "metadata": {},
          "execution_count": 33
        }
      ]
    },
    {
      "cell_type": "code",
      "execution_count": 34,
      "metadata": {
        "id": "AfmdrBILdMwj"
      },
      "outputs": [],
      "source": [
        "y_test_pred = np.where(y_test_prob > 0.5, 1, 0)"
      ]
    },
    {
      "cell_type": "code",
      "execution_count": 35,
      "metadata": {
        "id": "8DoJy_p9dPzN"
      },
      "outputs": [],
      "source": [
        "from sklearn.metrics import multilabel_confusion_matrix"
      ]
    },
    {
      "cell_type": "code",
      "source": [
        "y_test"
      ],
      "metadata": {
        "id": "n1Us2yrfcGl-",
        "colab": {
          "base_uri": "https://localhost:8080/"
        },
        "outputId": "bda040c6-5b38-45c2-f00b-a7c56f11406e"
      },
      "execution_count": 36,
      "outputs": [
        {
          "output_type": "execute_result",
          "data": {
            "text/plain": [
              "array([[0., 0., 0., ..., 0., 1., 0.],\n",
              "       [0., 0., 0., ..., 0., 1., 0.],\n",
              "       [0., 0., 0., ..., 0., 1., 0.],\n",
              "       ...,\n",
              "       [0., 0., 0., ..., 0., 0., 0.],\n",
              "       [0., 1., 0., ..., 0., 0., 0.],\n",
              "       [0., 0., 0., ..., 0., 0., 0.]])"
            ]
          },
          "metadata": {},
          "execution_count": 36
        }
      ]
    },
    {
      "cell_type": "code",
      "source": [
        "y_test.shape"
      ],
      "metadata": {
        "id": "VnmvTcvWbxr9",
        "colab": {
          "base_uri": "https://localhost:8080/"
        },
        "outputId": "59a47c83-b3c4-4e65-8cde-fc85e06d0918"
      },
      "execution_count": 37,
      "outputs": [
        {
          "output_type": "execute_result",
          "data": {
            "text/plain": [
              "(15000, 8)"
            ]
          },
          "metadata": {},
          "execution_count": 37
        }
      ]
    },
    {
      "cell_type": "code",
      "source": [
        "y_test_pred"
      ],
      "metadata": {
        "id": "nMBOgzrgcJBj",
        "colab": {
          "base_uri": "https://localhost:8080/"
        },
        "outputId": "c0a54ce7-d5e2-49d6-8ff2-a7ac678e8ad7"
      },
      "execution_count": 38,
      "outputs": [
        {
          "output_type": "execute_result",
          "data": {
            "text/plain": [
              "array([[0, 0, 0, ..., 0, 0, 0],\n",
              "       [0, 0, 0, ..., 0, 1, 0],\n",
              "       [0, 0, 0, ..., 0, 0, 0],\n",
              "       ...,\n",
              "       [0, 0, 0, ..., 0, 0, 0],\n",
              "       [0, 1, 0, ..., 0, 0, 0],\n",
              "       [0, 0, 0, ..., 0, 0, 0]])"
            ]
          },
          "metadata": {},
          "execution_count": 38
        }
      ]
    },
    {
      "cell_type": "code",
      "source": [
        "y_test_pred.shape"
      ],
      "metadata": {
        "id": "SXKZof8Ye5uI",
        "colab": {
          "base_uri": "https://localhost:8080/"
        },
        "outputId": "a256b16a-69b4-47b4-ae1b-ee8ca545f788"
      },
      "execution_count": 39,
      "outputs": [
        {
          "output_type": "execute_result",
          "data": {
            "text/plain": [
              "(15000, 8)"
            ]
          },
          "metadata": {},
          "execution_count": 39
        }
      ]
    },
    {
      "cell_type": "code",
      "source": [
        "y_decoded_pred = tf.argmax(y_test_pred, axis = 1)"
      ],
      "metadata": {
        "id": "leDQwKOjgwwi"
      },
      "execution_count": 40,
      "outputs": []
    },
    {
      "cell_type": "code",
      "source": [
        "y_decoded = tf.argmax(y_test, axis = 1)"
      ],
      "metadata": {
        "id": "sAHRmtesif6g"
      },
      "execution_count": 41,
      "outputs": []
    },
    {
      "cell_type": "code",
      "source": [
        "y_decoded_pred"
      ],
      "metadata": {
        "id": "_lvFhrmPhprD",
        "colab": {
          "base_uri": "https://localhost:8080/"
        },
        "outputId": "6637fbf4-194e-4881-de9b-b4d7c4ea6898"
      },
      "execution_count": 42,
      "outputs": [
        {
          "output_type": "execute_result",
          "data": {
            "text/plain": [
              "<tf.Tensor: shape=(15000,), dtype=int64, numpy=array([0, 6, 0, ..., 4, 1, 0])>"
            ]
          },
          "metadata": {},
          "execution_count": 42
        }
      ]
    },
    {
      "cell_type": "code",
      "source": [
        "y_decoded"
      ],
      "metadata": {
        "id": "YV1FXgHviPwm",
        "colab": {
          "base_uri": "https://localhost:8080/"
        },
        "outputId": "690853ff-3d16-436f-a10e-5fd625696f1e"
      },
      "execution_count": 43,
      "outputs": [
        {
          "output_type": "execute_result",
          "data": {
            "text/plain": [
              "<tf.Tensor: shape=(15000,), dtype=int64, numpy=array([6, 6, 6, ..., 4, 1, 4])>"
            ]
          },
          "metadata": {},
          "execution_count": 43
        }
      ]
    },
    {
      "cell_type": "code",
      "source": [
        "y_test_pred = y_decoded_pred\n"
      ],
      "metadata": {
        "id": "6-6jFqzGh380"
      },
      "execution_count": 44,
      "outputs": []
    },
    {
      "cell_type": "code",
      "source": [
        "y_test = y_decoded"
      ],
      "metadata": {
        "id": "9pogVvdIiwss"
      },
      "execution_count": 45,
      "outputs": []
    },
    {
      "cell_type": "code",
      "source": [
        "y_test"
      ],
      "metadata": {
        "id": "oGt5aJetiKR6",
        "colab": {
          "base_uri": "https://localhost:8080/"
        },
        "outputId": "b85e4500-b182-41f8-cd95-371b298e35bb"
      },
      "execution_count": 46,
      "outputs": [
        {
          "output_type": "execute_result",
          "data": {
            "text/plain": [
              "<tf.Tensor: shape=(15000,), dtype=int64, numpy=array([6, 6, 6, ..., 4, 1, 4])>"
            ]
          },
          "metadata": {},
          "execution_count": 46
        }
      ]
    },
    {
      "cell_type": "code",
      "source": [
        "y_test_pred"
      ],
      "metadata": {
        "id": "fLgDwAIfiyv2",
        "colab": {
          "base_uri": "https://localhost:8080/"
        },
        "outputId": "7dbe81bd-bc99-4be8-9909-9dd442fda375"
      },
      "execution_count": 47,
      "outputs": [
        {
          "output_type": "execute_result",
          "data": {
            "text/plain": [
              "<tf.Tensor: shape=(15000,), dtype=int64, numpy=array([0, 6, 0, ..., 4, 1, 0])>"
            ]
          },
          "metadata": {},
          "execution_count": 47
        }
      ]
    },
    {
      "cell_type": "code",
      "execution_count": 48,
      "metadata": {
        "id": "fTCsPjW8dQaZ"
      },
      "outputs": [],
      "source": [
        "cfm=confusion_matrix(y_test, y_test_pred)"
      ]
    },
    {
      "cell_type": "code",
      "source": [
        "cfm"
      ],
      "metadata": {
        "id": "_67lPg6ic4cH",
        "colab": {
          "base_uri": "https://localhost:8080/"
        },
        "outputId": "45227cb6-d24b-4fa9-c66f-9055ee8b9565"
      },
      "execution_count": 49,
      "outputs": [
        {
          "output_type": "execute_result",
          "data": {
            "text/plain": [
              "array([[1864,    9,    0,    0,    0,    0,    0,    0],\n",
              "       [  63, 1764,   10,    0,    0,    0,    0,    7],\n",
              "       [ 423,   20, 1251,   90,    7,   29,   23,   36],\n",
              "       [ 573,    1,   65, 1030,  132,   88,    5,    0],\n",
              "       [ 754,    0,   17,  157,  726,  112,   59,    5],\n",
              "       [ 907,    0,    8,   62,  145,  682,   72,    4],\n",
              "       [ 616,    1,   14,    1,   11,   53,  956,  252],\n",
              "       [ 294,    4,    4,    0,    0,    2,  118, 1474]])"
            ]
          },
          "metadata": {},
          "execution_count": 49
        }
      ]
    },
    {
      "cell_type": "code",
      "source": [
        " print(classification_report(y_test,y_test_pred))"
      ],
      "metadata": {
        "id": "XTqR_xnwRWCJ",
        "colab": {
          "base_uri": "https://localhost:8080/"
        },
        "outputId": "d25589bb-5052-4242-fc9b-ee4920689ad0"
      },
      "execution_count": 50,
      "outputs": [
        {
          "output_type": "stream",
          "name": "stdout",
          "text": [
            "              precision    recall  f1-score   support\n",
            "\n",
            "           0       0.34      1.00      0.51      1873\n",
            "           1       0.98      0.96      0.97      1844\n",
            "           2       0.91      0.67      0.77      1879\n",
            "           3       0.77      0.54      0.64      1894\n",
            "           4       0.71      0.40      0.51      1830\n",
            "           5       0.71      0.36      0.48      1880\n",
            "           6       0.78      0.50      0.61      1904\n",
            "           7       0.83      0.78      0.80      1896\n",
            "\n",
            "    accuracy                           0.65     15000\n",
            "   macro avg       0.75      0.65      0.66     15000\n",
            "weighted avg       0.75      0.65      0.66     15000\n",
            "\n"
          ]
        }
      ]
    },
    {
      "cell_type": "code",
      "execution_count": 51,
      "metadata": {
        "id": "te3fslrY9Eca",
        "colab": {
          "base_uri": "https://localhost:8080/",
          "height": 908
        },
        "outputId": "8b60a4e4-1f6e-4d99-e7a7-0ce7ec0123d9"
      },
      "outputs": [
        {
          "output_type": "stream",
          "name": "stdout",
          "text": [
            "Confusion matrix, without normalization\n",
            "[[1864    9    0    0    0    0    0    0]\n",
            " [  63 1764   10    0    0    0    0    7]\n",
            " [ 423   20 1251   90    7   29   23   36]\n",
            " [ 573    1   65 1030  132   88    5    0]\n",
            " [ 754    0   17  157  726  112   59    5]\n",
            " [ 907    0    8   62  145  682   72    4]\n",
            " [ 616    1   14    1   11   53  956  252]\n",
            " [ 294    4    4    0    0    2  118 1474]]\n",
            "Normalized confusion matrix\n",
            "[[1.   0.   0.   0.   0.   0.   0.   0.  ]\n",
            " [0.03 0.96 0.01 0.   0.   0.   0.   0.  ]\n",
            " [0.23 0.01 0.67 0.05 0.   0.02 0.01 0.02]\n",
            " [0.3  0.   0.03 0.54 0.07 0.05 0.   0.  ]\n",
            " [0.41 0.   0.01 0.09 0.4  0.06 0.03 0.  ]\n",
            " [0.48 0.   0.   0.03 0.08 0.36 0.04 0.  ]\n",
            " [0.32 0.   0.01 0.   0.01 0.03 0.5  0.13]\n",
            " [0.16 0.   0.   0.   0.   0.   0.06 0.78]]\n"
          ]
        },
        {
          "output_type": "display_data",
          "data": {
            "text/plain": [
              "<Figure size 432x288 with 2 Axes>"
            ],
            "image/png": "[encoded data removed]"
          },
          "metadata": {
            "needs_background": "light"
          }
        },
        {
          "output_type": "display_data",
          "data": {
            "text/plain": [
              "<Figure size 432x288 with 2 Axes>"
            ],
            "image/png": "[encoded data removed]"
          },
          "metadata": {
            "needs_background": "light"
          }
        }
      ],
      "source": [
        "import numpy as np\n",
        "import matplotlib.pyplot as plt\n",
        "\n",
        "from sklearn import svm, datasets\n",
        "from sklearn.model_selection import train_test_split\n",
        "from sklearn.metrics import confusion_matrix\n",
        "from sklearn.utils.multiclass import unique_labels\n",
        "\n",
        "class_names = np.array(['0', '1', '2', '3', '4', '5', '6', '7'])\n",
        "\n",
        "def plot_confusion_matrix(y_true, y_pred, classes,\n",
        "                          normalize=False,\n",
        "                          title=None,\n",
        "                          cmap=plt.cm.Blues):\n",
        "    \"\"\"\n",
        "    This function prints and plots the confusion matrix.\n",
        "    Normalization can be applied by setting `normalize=True`.\n",
        "    \"\"\"\n",
        "    if not title:\n",
        "        if normalize:\n",
        "            title = 'Normalized confusion matrix'\n",
        "        else:\n",
        "            title = 'Confusion matrix, without normalization'\n",
        "\n",
        "    # Compute confusion matrix\n",
        "    cm = confusion_matrix(y_true, y_pred)\n",
        "    # Only use the labels that appear in the data\n",
        "    classes = classes[unique_labels(y_true, y_pred)]\n",
        "    if normalize:\n",
        "        cm = cm.astype('float') / cm.sum(axis=1)[:, np.newaxis]\n",
        "        print(\"Normalized confusion matrix\")\n",
        "    else:\n",
        "        print('Confusion matrix, without normalization')\n",
        "\n",
        "    print(cm)\n",
        "\n",
        "    fig, ax = plt.subplots()\n",
        "    im = ax.imshow(cm, interpolation='nearest', cmap=cmap)\n",
        "    ax.figure.colorbar(im, ax=ax)\n",
        "    # We want to show all ticks...\n",
        "    ax.set(xticks=np.arange(cm.shape[1]),\n",
        "           yticks=np.arange(cm.shape[0]),\n",
        "           # ... and label them with the respective list entries\n",
        "           xticklabels=classes, yticklabels=classes,\n",
        "           title=title,\n",
        "           ylabel='True label',\n",
        "           xlabel='Predicted label')\n",
        "\n",
        "    # Rotate the tick labels and set their alignment.\n",
        "    plt.setp(ax.get_xticklabels(), rotation=45, ha=\"right\",\n",
        "             rotation_mode=\"anchor\")\n",
        "\n",
        "    # Loop over data dimensions and create text annotations.\n",
        "    fmt = '.2f' if normalize else 'd'\n",
        "    thresh = cm.max() / 2.\n",
        "    for i in range(cm.shape[0]):\n",
        "        for j in range(cm.shape[1]):\n",
        "            ax.text(j, i, format(cm[i, j], fmt),\n",
        "                    ha=\"center\", va=\"center\",\n",
        "                    color=\"white\" if cm[i, j] > thresh else \"black\")\n",
        "    fig.tight_layout()\n",
        "\n",
        "    return ax\n",
        "\n",
        "\n",
        "np.set_printoptions(precision=2)\n",
        "\n",
        "# Plot non-normalized confusion matrix\n",
        "plot_confusion_matrix(y_test, y_test_pred, classes=class_names,\n",
        "                      title='Confusion matrix, without normalization')\n",
        "\n",
        "# Plot normalized confusion matrix\n",
        "plot_confusion_matrix(y_test, y_test_pred, classes=class_names, normalize=True,\n",
        "                      title='Normalized confusion matrix')\n",
        "\n",
        "plt.show()"
      ]
    },
    {
      "cell_type": "code",
      "execution_count": 52,
      "metadata": {
        "id": "fhdLAhgPUnH3"
      },
      "outputs": [],
      "source": [
        "def plot_learningCurve(history, epoch):\n",
        "  # Plot training & validation accuracy values\n",
        "  epoch_range = range(1, epoch+1)\n",
        "  plt.plot(epoch_range, history.history['accuracy'])\n",
        "  plt.plot(epoch_range, history.history['val_accuracy'])\n",
        "  plt.title('Model accuracy')\n",
        "  plt.ylabel('Accuracy')\n",
        "  plt.xlabel('Epoch')\n",
        "  plt.legend(['Train', 'Val'], loc='upper left')\n",
        "  plt.show()\n",
        "\n",
        "  # Plot training & validation loss values\n",
        "  plt.plot(epoch_range, history.history['loss'])\n",
        "  plt.plot(epoch_range, history.history['val_loss'])\n",
        "  plt.title('Model loss')\n",
        "  plt.ylabel('Loss')\n",
        "  plt.xlabel('Epoch')\n",
        "  plt.legend(['Train', 'Val'], loc='upper left')\n",
        "  plt.show()"
      ]
    },
    {
      "cell_type": "code",
      "execution_count": 53,
      "metadata": {
        "id": "WlkQkWHgU5mL",
        "colab": {
          "base_uri": "https://localhost:8080/",
          "height": 581
        },
        "outputId": "58e7aae0-32c2-4188-fe99-17b002482cfa"
      },
      "outputs": [
        {
          "output_type": "display_data",
          "data": {
            "text/plain": [
              "<Figure size 432x288 with 1 Axes>"
            ],
            "image/png": "[encoded data removed]"
          },
          "metadata": {
            "needs_background": "light"
          }
        },
        {
          "output_type": "display_data",
          "data": {
            "text/plain": [
              "<Figure size 432x288 with 1 Axes>"
            ],
            "image/png": "[encoded data removed]"
          },
          "metadata": {
            "needs_background": "light"
          }
        }
      ],
      "source": [
        "plot_learningCurve(history, 100)"
      ]
    }
  ],
  "metadata": {
    "colab": {
      "collapsed_sections": [
        "f857kfHqUk0-"
      ],
      "name": "Multi_Class_MD_LSTM_step_200_files_120.ipynb",
      "provenance": [],
      "include_colab_link": true
    },
    "kernelspec": {
      "display_name": "Python 3",
      "name": "python3"
    },
    "language_info": {
      "name": "python"
    },
    "accelerator": "GPU"
  },
  "nbformat": 4,
  "nbformat_minor": 0
}
