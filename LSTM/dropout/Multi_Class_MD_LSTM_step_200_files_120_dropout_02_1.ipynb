{
  "cells": [
    {
      "cell_type": "markdown",
      "metadata": {
        "id": "view-in-github",
        "colab_type": "text"
      },
      "source": [
        "<a href=\"https://colab.research.google.com/github/kwanderer/MachineLearning/blob/main/Multi_Class_MD_LSTM_step_200_files_120_dropout_02_1.ipynb\" target=\"_parent\"><img src=\"https://colab.research.google.com/assets/colab-badge.svg\" alt=\"Open In Colab\"/></a>"
      ]
    },
    {
      "cell_type": "markdown",
      "metadata": {
        "id": "f857kfHqUk0-"
      },
      "source": [
        "\n",
        "\n",
        "#Datu kopa"
      ]
    },
    {
      "cell_type": "markdown",
      "metadata": {
        "id": "nM9WE3QGUwVi"
      },
      "source": [
        "Datu kopas avots: https://www.kaggle.com/uysalserkan/fault-induction-motor-dataset"
      ]
    },
    {
      "cell_type": "markdown",
      "metadata": {
        "id": "_sN_h3qHHy6r"
      },
      "source": [
        "Darbā tiek izmantota indukcijas motora parametru datu bāze. Izmantotajā datu kopā ir dati, kas tika iegūti SpectraQuest aparatūras kļūdu simulatorā (Machinery Fault Simulator).\n",
        "\n",
        "Katra mērījumu secība tika ģenerēta ar frekvenci 50 kHz 5 sekunžu laikā, kopā 250 000 mērījumi.\n",
        "\n",
        "Dati ir apkopoti vairākos failos, dažādos darbības stāvokļos un to apjoms ir ļoti liels. Šajā darbā tika izmantota daļa(viena mērījumu secība) no motora normālas darbības datiem.\n"
      ]
    },
    {
      "cell_type": "markdown",
      "metadata": {
        "id": "KtFAOaHYHLPo"
      },
      "source": [
        "Dati ir apkopoti tabulā, kura satur 8 parametrus. Dati ir iedalīti sekojošās kolonas:\n",
        "\n",
        "**tachometer** – tahometra signāls, kas ļauj novērtēt rotācijas frekvenci\n",
        "\n",
        "**und-accelerometer-axial** - apakšā esošā gultņa akselerometrs (aksiālais virziens)\n",
        "\n",
        "**und-accelerometer-radial** – apakšā esošā gultņa akselerometrs (radiālais virziens)\n",
        "\n",
        "**und-accelerometer-tangential** - apakšā esošā gultņa akselerometrs (tangenciālais virziens)\n",
        "\n",
        "**over-accelerometer-axial** - pārkares gultņa akselerometrs (aksiālais virziens)\n",
        "\n",
        "**over-accelerometer-radial** – pārkares gultņa akselerometrs (radiālais  virziens)\n",
        "\n",
        "**over-accelerometer-tangential**  - pārkares gultņa akselerometrs (tangenciālais virziens)\n",
        "\n",
        "**microphone** – mikrofona vērtība\n"
      ]
    },
    {
      "cell_type": "markdown",
      "metadata": {
        "id": "XymoNLKMVFUC"
      },
      "source": [
        "#Datu ielasīšana un satura vizualizācija"
      ]
    },
    {
      "cell_type": "code",
      "execution_count": 1,
      "metadata": {
        "id": "_yqYZDeOFq5s"
      },
      "outputs": [],
      "source": [
        "import keras\n",
        "from keras.layers import LSTM, Dropout, Dense\n",
        "import tensorflow as tf\n",
        "import numpy as np\n",
        "import pandas as pd\n",
        "\n",
        "from sklearn import linear_model  #pip install sklearn - loti plasa masinapmacibas biblioteka\n",
        "from sklearn.linear_model import LinearRegression  \n",
        "import csv          #pip install csv - darbam ar CSV datu kopam\n",
        "import requests     #pip install requests  - vienkarsakam darbam ar tiessaistes CSV datu kopam tiessaistes\n",
        "\n",
        "import matplotlib\n",
        "import matplotlib.pyplot as plt\n",
        "\n",
        "import glob\n"
      ]
    },
    {
      "cell_type": "code",
      "execution_count": 2,
      "metadata": {
        "id": "wlRTBbM2eUcV",
        "colab": {
          "base_uri": "https://localhost:8080/"
        },
        "outputId": "273ea774-f981-4ab5-a2fb-cfcf89701e26"
      },
      "outputs": [
        {
          "output_type": "stream",
          "name": "stdout",
          "text": [
            "Drive already mounted at /content/gdrive; to attempt to forcibly remount, call drive.mount(\"/content/gdrive\", force_remount=True).\n"
          ]
        }
      ],
      "source": [
        "from google.colab import drive\n",
        "import os\n",
        "drive.mount('/content/gdrive')\n",
        "os.chdir(\"/content/gdrive/MyDrive/Colab Notebooks/data_multiclass/\")"
      ]
    },
    {
      "cell_type": "code",
      "execution_count": 3,
      "metadata": {
        "id": "zzz6fBl_SNom"
      },
      "outputs": [],
      "source": [
        "#extension = 'csv'\n",
        "#all_filenames = [i for i in glob.glob('*.{}'.format(extension))]"
      ]
    },
    {
      "cell_type": "code",
      "execution_count": 4,
      "metadata": {
        "id": "vagKFCkToBi0"
      },
      "outputs": [],
      "source": [
        "#combine all files in the list\n",
        "#combined_csv = pd.concat([pd.read_csv(f) for f in all_filenames ])\n",
        "#export to csv\n",
        "#combined_csv.to_csv( \"combined_multiclass_csv.csv\", index=False, encoding='utf-8-sig')"
      ]
    },
    {
      "cell_type": "code",
      "execution_count": 5,
      "metadata": {
        "id": "encEkbDhSfGI"
      },
      "outputs": [],
      "source": [
        "data = pd.read_csv(\"combined_multiclass_csv.csv\")"
      ]
    },
    {
      "cell_type": "code",
      "execution_count": 6,
      "metadata": {
        "id": "yz5Qe8ZWk1Zq",
        "colab": {
          "base_uri": "https://localhost:8080/"
        },
        "outputId": "5dd709df-baf2-4aac-f39e-9004f2e8fe4c"
      },
      "outputs": [
        {
          "output_type": "stream",
          "name": "stdout",
          "text": [
            "<class 'pandas.core.frame.DataFrame'>\n",
            "RangeIndex: 30000000 entries, 0 to 29999999\n",
            "Data columns (total 9 columns):\n",
            " #   Column                         Dtype  \n",
            "---  ------                         -----  \n",
            " 0   tachometer                     float64\n",
            " 1   und-accelerometer-axial        float64\n",
            " 2   und-accelerometer-radial       float64\n",
            " 3   und-accelerometer-tangential   float64\n",
            " 4   over-accelerometer-axial       float64\n",
            " 5   over-accelerometer-radial      float64\n",
            " 6   over-accelerometer-tangential  float64\n",
            " 7   microphone                     float64\n",
            " 8   Class                          int64  \n",
            "dtypes: float64(8), int64(1)\n",
            "memory usage: 2.0 GB\n"
          ]
        }
      ],
      "source": [
        "data.info()"
      ]
    },
    {
      "cell_type": "code",
      "execution_count": 7,
      "metadata": {
        "id": "WUW9ezX6a_st",
        "colab": {
          "base_uri": "https://localhost:8080/"
        },
        "outputId": "d37557f9-fd9c-455b-d71c-ce3df771edd3"
      },
      "outputs": [
        {
          "output_type": "execute_result",
          "data": {
            "text/plain": [
              "30000000"
            ]
          },
          "metadata": {},
          "execution_count": 7
        }
      ],
      "source": [
        "rec_count = len(data)\n",
        "rec_count"
      ]
    },
    {
      "cell_type": "markdown",
      "metadata": {
        "id": "6RVC1PZy88fC"
      },
      "source": [
        "# Datu dalīšana mazākos gabalos"
      ]
    },
    {
      "cell_type": "code",
      "execution_count": 8,
      "metadata": {
        "id": "DOvnCYkcbGaE"
      },
      "outputs": [],
      "source": [
        "sequence_length = 200"
      ]
    },
    {
      "cell_type": "code",
      "execution_count": 9,
      "metadata": {
        "id": "RG0o2L3zbTEx"
      },
      "outputs": [],
      "source": [
        "def generate_data(X, y, sequence_length = 200, step = 200):\n",
        "    X_local = []\n",
        "    y_local = []\n",
        "    for start in range(0, len(data) - sequence_length, step):\n",
        "        end = start + sequence_length\n",
        "        X_local.append(X[start:end])\n",
        "        y_local.append(y[end-1])\n",
        "    return np.array(X_local), np.array(y_local)\n",
        "\n",
        "X_sequence, y = generate_data(data.loc[:, \"tachometer\":\"microphone\"].values, data.Class)"
      ]
    },
    {
      "cell_type": "code",
      "execution_count": 10,
      "metadata": {
        "id": "s0QxwK66cLVF",
        "colab": {
          "base_uri": "https://localhost:8080/"
        },
        "outputId": "d9b0fd5f-8b87-40e5-ee70-df3537fcc15d"
      },
      "outputs": [
        {
          "output_type": "execute_result",
          "data": {
            "text/plain": [
              "((149999, 200, 8), (149999,))"
            ]
          },
          "metadata": {},
          "execution_count": 10
        }
      ],
      "source": [
        "X_sequence.shape, y.shape"
      ]
    },
    {
      "cell_type": "code",
      "source": [
        "unique, counts = np.unique(y, return_counts=True)"
      ],
      "metadata": {
        "id": "l8Lq455lV1JR"
      },
      "execution_count": 11,
      "outputs": []
    },
    {
      "cell_type": "code",
      "source": [
        "unique"
      ],
      "metadata": {
        "id": "t0BRO3nAWQxe",
        "colab": {
          "base_uri": "https://localhost:8080/"
        },
        "outputId": "ad57d79b-53d4-46e8-d9cb-5857e9c3860d"
      },
      "execution_count": 12,
      "outputs": [
        {
          "output_type": "execute_result",
          "data": {
            "text/plain": [
              "array([0, 1, 2, 3, 4, 5, 6, 7])"
            ]
          },
          "metadata": {},
          "execution_count": 12
        }
      ]
    },
    {
      "cell_type": "code",
      "source": [
        "counts"
      ],
      "metadata": {
        "id": "WWZ7QWR4WS_r",
        "colab": {
          "base_uri": "https://localhost:8080/"
        },
        "outputId": "77c841f4-a463-4f66-a49c-9def0b967bfd"
      },
      "execution_count": 13,
      "outputs": [
        {
          "output_type": "execute_result",
          "data": {
            "text/plain": [
              "array([18749, 18750, 18750, 18750, 18750, 18750, 18750, 18750])"
            ]
          },
          "metadata": {},
          "execution_count": 13
        }
      ]
    },
    {
      "cell_type": "code",
      "execution_count": 14,
      "metadata": {
        "id": "i7R1oo6Mj8wx"
      },
      "outputs": [],
      "source": [
        "data = 0"
      ]
    },
    {
      "cell_type": "code",
      "source": [
        "from sklearn.preprocessing import OneHotEncoder"
      ],
      "metadata": {
        "id": "lAk_JscRWmqY"
      },
      "execution_count": 15,
      "outputs": []
    },
    {
      "cell_type": "code",
      "source": [
        "label_encoder = OneHotEncoder(sparse=False)\n",
        "label_encoder.fit(y.reshape(-1,1))"
      ],
      "metadata": {
        "id": "14B9aYy0W0y6",
        "colab": {
          "base_uri": "https://localhost:8080/"
        },
        "outputId": "456b0c19-9fa5-4c8b-8130-67ea6d66c79a"
      },
      "execution_count": 16,
      "outputs": [
        {
          "output_type": "execute_result",
          "data": {
            "text/plain": [
              "OneHotEncoder(sparse=False)"
            ]
          },
          "metadata": {},
          "execution_count": 16
        }
      ]
    },
    {
      "cell_type": "code",
      "source": [
        "y_encoded = label_encoder.transform(y.reshape(-1,1))"
      ],
      "metadata": {
        "id": "VjpWn96xXgPS"
      },
      "execution_count": 17,
      "outputs": []
    },
    {
      "cell_type": "code",
      "source": [
        "y_encoded[0:5]"
      ],
      "metadata": {
        "id": "VL6KMFo9XpBi",
        "colab": {
          "base_uri": "https://localhost:8080/"
        },
        "outputId": "8e05e253-d7af-40ab-c8ce-2e0ef3c55e72"
      },
      "execution_count": 18,
      "outputs": [
        {
          "output_type": "execute_result",
          "data": {
            "text/plain": [
              "array([[0., 0., 0., 0., 0., 0., 0., 1.],\n",
              "       [0., 0., 0., 0., 0., 0., 0., 1.],\n",
              "       [0., 0., 0., 0., 0., 0., 0., 1.],\n",
              "       [0., 0., 0., 0., 0., 0., 0., 1.],\n",
              "       [0., 0., 0., 0., 0., 0., 0., 1.]])"
            ]
          },
          "metadata": {},
          "execution_count": 18
        }
      ]
    },
    {
      "cell_type": "code",
      "source": [
        "y=y_encoded"
      ],
      "metadata": {
        "id": "5c8km253YKBl"
      },
      "execution_count": 19,
      "outputs": []
    },
    {
      "cell_type": "markdown",
      "metadata": {
        "id": "5BXSDoHa9UX_"
      },
      "source": [
        "# Random/Shuffle"
      ]
    },
    {
      "cell_type": "code",
      "execution_count": 20,
      "metadata": {
        "id": "ZcfE9idy-ckb"
      },
      "outputs": [],
      "source": [
        "shuffler = np.random.permutation(len(X_sequence))\n",
        "X_sequence_shuffled = X_sequence[shuffler]\n",
        "y_shuffled = y[shuffler]"
      ]
    },
    {
      "cell_type": "markdown",
      "metadata": {
        "id": "TfhRTTNcE2s8"
      },
      "source": [
        "# LSTM"
      ]
    },
    {
      "cell_type": "code",
      "execution_count": 21,
      "metadata": {
        "id": "ihrXMuVAEwlY"
      },
      "outputs": [],
      "source": [
        "import pandas as pd\n",
        "import sklearn.metrics as metrique\n",
        "from pandas import Series\n",
        "from sklearn.preprocessing import StandardScaler, MinMaxScaler\n",
        "from matplotlib import pyplot\n",
        "from sklearn.model_selection import train_test_split\n",
        "import numpy as np\n",
        "import tensorflow as tf\n",
        "import sys\n",
        "import numpy as np\n",
        "import pandas as pd\n",
        "import tensorflow as tf\n",
        "import matplotlib.pyplot as plt\n",
        "from sklearn.model_selection import train_test_split\n",
        "from sklearn import preprocessing\n",
        "from sklearn.preprocessing import StandardScaler\n",
        "from sklearn.metrics import classification_report\n",
        "import warnings\n",
        "warnings.filterwarnings('ignore')\n",
        "plt.style.use('ggplot')\n",
        "import seaborn as sns \n",
        "%matplotlib inline\n",
        "from keras.callbacks import EarlyStopping\n",
        "from keras.callbacks import ModelCheckpoint\n",
        "from sklearn.metrics import accuracy_score\n",
        "from sklearn.metrics import classification_report, confusion_matrix\n",
        "from keras.models import Sequential\n",
        "from keras.utils import np_utils\n",
        "from keras.layers import LSTM, Dense, Embedding, Dropout,Input, Layer, Concatenate, Permute, Dot, Multiply, Flatten\n",
        "from keras.layers import RepeatVector, Dense, Activation, Lambda\n",
        "from keras.models import Sequential\n",
        "from keras import backend as K, regularizers, Model, metrics\n",
        "from keras.backend import cast"
      ]
    },
    {
      "cell_type": "code",
      "execution_count": 22,
      "metadata": {
        "id": "PjKWKiA6aH3z"
      },
      "outputs": [],
      "source": [
        "#from tensorflow.keras import optimizers\n",
        "#sgd = optimizers.SGD(lr=0.0001, decay=1e-6, momentum=0.9, nesterov=True)\n",
        "#model = keras.Sequential()\n",
        "#model.add(LSTM(100, input_shape = (200, 8)))\n",
        "#model.add(Dropout(0.5))\n",
        "#model.add(Dense(1, activation=\"softmax\"))\n",
        "\n",
        "\n",
        "#model.compile(loss=\"categorical_crossentropy\"\n",
        "#              , metrics=[keras.metrics.binary_accuracy]\n",
        "#              , optimizer='sgd')\n",
        "\n",
        "#model.summary()"
      ]
    },
    {
      "cell_type": "code",
      "execution_count": 23,
      "metadata": {
        "id": "_2SaVmwSWJVB",
        "colab": {
          "base_uri": "https://localhost:8080/"
        },
        "outputId": "6c8cd2a9-656f-4409-bdf1-2b1c93d40b12"
      },
      "outputs": [
        {
          "output_type": "stream",
          "name": "stdout",
          "text": [
            "Model: \"sequential\"\n",
            "_________________________________________________________________\n",
            " Layer (type)                Output Shape              Param #   \n",
            "=================================================================\n",
            " lstm (LSTM)                 (None, 100)               43600     \n",
            "                                                                 \n",
            " dropout (Dropout)           (None, 100)               0         \n",
            "                                                                 \n",
            " dense (Dense)               (None, 8)                 808       \n",
            "                                                                 \n",
            "=================================================================\n",
            "Total params: 44,408\n",
            "Trainable params: 44,408\n",
            "Non-trainable params: 0\n",
            "_________________________________________________________________\n"
          ]
        }
      ],
      "source": [
        "from tensorflow.keras import optimizers\n",
        "#sgd = optimizers.SGD(lr=0.0001, decay=1e-6, momentum=0.9, nesterov=True)\n",
        "optimizer = tf.keras.optimizers.Adam(lr=0.0001)\n",
        "model = keras.Sequential()\n",
        "model.add(LSTM(100, input_shape = (200, 8)))\n",
        "model.add(Dropout(0.2))#0.25\n",
        "model.add(Dense(8, activation=\"softmax\"))\n",
        "\n",
        "#model.compile(loss='mean_squared_error', optimizer=sgd)\n",
        "model.compile(loss=\"categorical_crossentropy\"\n",
        "              , metrics=['accuracy']\n",
        "              , optimizer=optimizer)\n",
        "\n",
        "model.summary()"
      ]
    },
    {
      "cell_type": "code",
      "execution_count": 24,
      "metadata": {
        "id": "tg8wrqsqc8UX"
      },
      "outputs": [],
      "source": [
        "training_size = int(len(X_sequence) * 0.8)\n",
        "val_size = int(len(X_sequence) * 0.9)"
      ]
    },
    {
      "cell_type": "code",
      "execution_count": 25,
      "metadata": {
        "id": "avIp3TEKc-qF"
      },
      "outputs": [],
      "source": [
        "X_train, y_train = X_sequence_shuffled[:training_size], y_shuffled[:training_size]\n",
        "X_val, y_val = X_sequence_shuffled[training_size:val_size], y_shuffled[training_size:val_size]\n",
        "X_test, y_test = X_sequence_shuffled[val_size:], y_shuffled[val_size:]"
      ]
    },
    {
      "cell_type": "code",
      "execution_count": 26,
      "metadata": {
        "id": "RABc_uKzkBUT"
      },
      "outputs": [],
      "source": [
        "#X_sequence = 0\n",
        "#y = 0"
      ]
    },
    {
      "cell_type": "code",
      "source": [
        "X_train.shape"
      ],
      "metadata": {
        "id": "Omv-ht1dhGxL",
        "colab": {
          "base_uri": "https://localhost:8080/"
        },
        "outputId": "b57e7d13-c7ec-4d94-fede-61155b094bb7"
      },
      "execution_count": 27,
      "outputs": [
        {
          "output_type": "execute_result",
          "data": {
            "text/plain": [
              "(119999, 200, 8)"
            ]
          },
          "metadata": {},
          "execution_count": 27
        }
      ]
    },
    {
      "cell_type": "code",
      "execution_count": 28,
      "metadata": {
        "id": "8aIhPJ-wLCwZ",
        "colab": {
          "base_uri": "https://localhost:8080/"
        },
        "outputId": "aae7cf4d-8404-4dea-e0a6-72001b121f5b"
      },
      "outputs": [
        {
          "output_type": "execute_result",
          "data": {
            "text/plain": [
              "array([[0., 0., 0., 0., 0., 0., 1., 0.],\n",
              "       [0., 1., 0., 0., 0., 0., 0., 0.],\n",
              "       [0., 0., 0., 1., 0., 0., 0., 0.],\n",
              "       [0., 0., 1., 0., 0., 0., 0., 0.],\n",
              "       [0., 0., 0., 0., 1., 0., 0., 0.],\n",
              "       [0., 0., 0., 0., 0., 0., 1., 0.],\n",
              "       [0., 1., 0., 0., 0., 0., 0., 0.],\n",
              "       [0., 0., 1., 0., 0., 0., 0., 0.],\n",
              "       [1., 0., 0., 0., 0., 0., 0., 0.],\n",
              "       [0., 1., 0., 0., 0., 0., 0., 0.]])"
            ]
          },
          "metadata": {},
          "execution_count": 28
        }
      ],
      "source": [
        "y_train[:10]"
      ]
    },
    {
      "cell_type": "code",
      "execution_count": 29,
      "metadata": {
        "id": "cen4faX0dFJP",
        "colab": {
          "base_uri": "https://localhost:8080/"
        },
        "outputId": "c9730c24-e42b-4d75-b54c-c0ed9d9b749d"
      },
      "outputs": [
        {
          "output_type": "stream",
          "name": "stdout",
          "text": [
            "Epoch 1/100\n",
            "1875/1875 [==============================] - 26s 12ms/step - loss: 1.7739 - accuracy: 0.2588 - val_loss: 1.6008 - val_accuracy: 0.3372\n",
            "Epoch 2/100\n",
            "1875/1875 [==============================] - 25s 13ms/step - loss: 1.6114 - accuracy: 0.3365 - val_loss: 1.5821 - val_accuracy: 0.3540\n",
            "Epoch 3/100\n",
            "1875/1875 [==============================] - 22s 12ms/step - loss: 1.4992 - accuracy: 0.3827 - val_loss: 1.4322 - val_accuracy: 0.4140\n",
            "Epoch 4/100\n",
            "1875/1875 [==============================] - 22s 12ms/step - loss: 1.4364 - accuracy: 0.4130 - val_loss: 1.3963 - val_accuracy: 0.4319\n",
            "Epoch 5/100\n",
            "1875/1875 [==============================] - 22s 12ms/step - loss: 1.4279 - accuracy: 0.4164 - val_loss: 1.4294 - val_accuracy: 0.4168\n",
            "Epoch 6/100\n",
            "1875/1875 [==============================] - 22s 12ms/step - loss: 1.3849 - accuracy: 0.4313 - val_loss: 1.3410 - val_accuracy: 0.4449\n",
            "Epoch 7/100\n",
            "1875/1875 [==============================] - 22s 12ms/step - loss: 1.3584 - accuracy: 0.4484 - val_loss: 1.4480 - val_accuracy: 0.4162\n",
            "Epoch 8/100\n",
            "1875/1875 [==============================] - 22s 12ms/step - loss: 1.3953 - accuracy: 0.4393 - val_loss: 1.2957 - val_accuracy: 0.4709\n",
            "Epoch 9/100\n",
            "1875/1875 [==============================] - 22s 12ms/step - loss: 1.3240 - accuracy: 0.4639 - val_loss: 1.3023 - val_accuracy: 0.4712\n",
            "Epoch 10/100\n",
            "1875/1875 [==============================] - 22s 12ms/step - loss: 1.3613 - accuracy: 0.4493 - val_loss: 1.3158 - val_accuracy: 0.4627\n",
            "Epoch 11/100\n",
            "1875/1875 [==============================] - 22s 12ms/step - loss: 1.3191 - accuracy: 0.4672 - val_loss: 1.2729 - val_accuracy: 0.4862\n",
            "Epoch 12/100\n",
            "1875/1875 [==============================] - 22s 12ms/step - loss: 1.2851 - accuracy: 0.4806 - val_loss: 1.2894 - val_accuracy: 0.4797\n",
            "Epoch 13/100\n",
            "1875/1875 [==============================] - 22s 12ms/step - loss: 1.2584 - accuracy: 0.4895 - val_loss: 1.2618 - val_accuracy: 0.4841\n",
            "Epoch 14/100\n",
            "1875/1875 [==============================] - 22s 12ms/step - loss: 1.2412 - accuracy: 0.4962 - val_loss: 1.2717 - val_accuracy: 0.4761\n",
            "Epoch 15/100\n",
            "1875/1875 [==============================] - 22s 12ms/step - loss: 1.2438 - accuracy: 0.4965 - val_loss: 1.2177 - val_accuracy: 0.5019\n",
            "Epoch 16/100\n",
            "1875/1875 [==============================] - 22s 12ms/step - loss: 1.2108 - accuracy: 0.5081 - val_loss: 1.1853 - val_accuracy: 0.5105\n",
            "Epoch 17/100\n",
            "1875/1875 [==============================] - 22s 12ms/step - loss: 1.2061 - accuracy: 0.5104 - val_loss: 1.1793 - val_accuracy: 0.5248\n",
            "Epoch 18/100\n",
            "1875/1875 [==============================] - 22s 12ms/step - loss: 1.2785 - accuracy: 0.4963 - val_loss: 1.4008 - val_accuracy: 0.4411\n",
            "Epoch 19/100\n",
            "1875/1875 [==============================] - 22s 12ms/step - loss: 1.2511 - accuracy: 0.4941 - val_loss: 1.1990 - val_accuracy: 0.5127\n",
            "Epoch 20/100\n",
            "1875/1875 [==============================] - 22s 12ms/step - loss: 1.1947 - accuracy: 0.5150 - val_loss: 1.1673 - val_accuracy: 0.5205\n",
            "Epoch 21/100\n",
            "1875/1875 [==============================] - 22s 12ms/step - loss: 1.1787 - accuracy: 0.5219 - val_loss: 1.1539 - val_accuracy: 0.5287\n",
            "Epoch 22/100\n",
            "1875/1875 [==============================] - 22s 12ms/step - loss: 1.1916 - accuracy: 0.5203 - val_loss: 1.1616 - val_accuracy: 0.5221\n",
            "Epoch 23/100\n",
            "1875/1875 [==============================] - 22s 12ms/step - loss: 1.1583 - accuracy: 0.5277 - val_loss: 1.1162 - val_accuracy: 0.5454\n",
            "Epoch 24/100\n",
            "1875/1875 [==============================] - 22s 12ms/step - loss: 1.1358 - accuracy: 0.5340 - val_loss: 1.1242 - val_accuracy: 0.5351\n",
            "Epoch 25/100\n",
            "1875/1875 [==============================] - 22s 12ms/step - loss: 1.1241 - accuracy: 0.5392 - val_loss: 1.1362 - val_accuracy: 0.5320\n",
            "Epoch 26/100\n",
            "1875/1875 [==============================] - 22s 12ms/step - loss: 1.1498 - accuracy: 0.5319 - val_loss: 1.1177 - val_accuracy: 0.5407\n",
            "Epoch 27/100\n",
            "1875/1875 [==============================] - 23s 12ms/step - loss: 1.1099 - accuracy: 0.5453 - val_loss: 1.0939 - val_accuracy: 0.5527\n",
            "Epoch 28/100\n",
            "1875/1875 [==============================] - 23s 12ms/step - loss: 1.1110 - accuracy: 0.5443 - val_loss: 1.0726 - val_accuracy: 0.5558\n",
            "Epoch 29/100\n",
            "1875/1875 [==============================] - 22s 12ms/step - loss: 1.0910 - accuracy: 0.5514 - val_loss: 1.0932 - val_accuracy: 0.5459\n",
            "Epoch 30/100\n",
            "1875/1875 [==============================] - 22s 12ms/step - loss: 1.0654 - accuracy: 0.5598 - val_loss: 1.0712 - val_accuracy: 0.5538\n",
            "Epoch 31/100\n",
            "1875/1875 [==============================] - 22s 12ms/step - loss: 1.0663 - accuracy: 0.5616 - val_loss: 1.0322 - val_accuracy: 0.5661\n",
            "Epoch 32/100\n",
            "1875/1875 [==============================] - 22s 12ms/step - loss: 1.0938 - accuracy: 0.5487 - val_loss: 1.0694 - val_accuracy: 0.5559\n",
            "Epoch 33/100\n",
            "1875/1875 [==============================] - 22s 12ms/step - loss: 1.0598 - accuracy: 0.5588 - val_loss: 1.0267 - val_accuracy: 0.5703\n",
            "Epoch 34/100\n",
            "1875/1875 [==============================] - 22s 12ms/step - loss: 1.0375 - accuracy: 0.5685 - val_loss: 1.0416 - val_accuracy: 0.5665\n",
            "Epoch 35/100\n",
            "1875/1875 [==============================] - 23s 12ms/step - loss: 1.0187 - accuracy: 0.5752 - val_loss: 0.9957 - val_accuracy: 0.5853\n",
            "Epoch 36/100\n",
            "1875/1875 [==============================] - 22s 12ms/step - loss: 1.0321 - accuracy: 0.5678 - val_loss: 0.9927 - val_accuracy: 0.5815\n",
            "Epoch 37/100\n",
            "1875/1875 [==============================] - 22s 12ms/step - loss: 1.0257 - accuracy: 0.5736 - val_loss: 1.0781 - val_accuracy: 0.5548\n",
            "Epoch 38/100\n",
            "1875/1875 [==============================] - 22s 12ms/step - loss: 1.0156 - accuracy: 0.5775 - val_loss: 0.9899 - val_accuracy: 0.5867\n",
            "Epoch 39/100\n",
            "1875/1875 [==============================] - 23s 12ms/step - loss: 0.9893 - accuracy: 0.5856 - val_loss: 1.0148 - val_accuracy: 0.5770\n",
            "Epoch 40/100\n",
            "1875/1875 [==============================] - 23s 12ms/step - loss: 0.9931 - accuracy: 0.5853 - val_loss: 0.9648 - val_accuracy: 0.5899\n",
            "Epoch 41/100\n",
            "1875/1875 [==============================] - 23s 12ms/step - loss: 1.0218 - accuracy: 0.5764 - val_loss: 0.9612 - val_accuracy: 0.5977\n",
            "Epoch 42/100\n",
            "1875/1875 [==============================] - 23s 12ms/step - loss: 0.9923 - accuracy: 0.5849 - val_loss: 0.9766 - val_accuracy: 0.5854\n",
            "Epoch 43/100\n",
            "1875/1875 [==============================] - 23s 12ms/step - loss: 0.9706 - accuracy: 0.5936 - val_loss: 0.9356 - val_accuracy: 0.6049\n",
            "Epoch 44/100\n",
            "1875/1875 [==============================] - 23s 12ms/step - loss: 0.9610 - accuracy: 0.5972 - val_loss: 0.9282 - val_accuracy: 0.6063\n",
            "Epoch 45/100\n",
            "1875/1875 [==============================] - 22s 12ms/step - loss: 0.9620 - accuracy: 0.5966 - val_loss: 0.9586 - val_accuracy: 0.5977\n",
            "Epoch 46/100\n",
            "1875/1875 [==============================] - 23s 12ms/step - loss: 0.9501 - accuracy: 0.5994 - val_loss: 0.9044 - val_accuracy: 0.6152\n",
            "Epoch 47/100\n",
            "1875/1875 [==============================] - 23s 12ms/step - loss: 0.9382 - accuracy: 0.6025 - val_loss: 0.9212 - val_accuracy: 0.6058\n",
            "Epoch 48/100\n",
            "1875/1875 [==============================] - 23s 12ms/step - loss: 0.9233 - accuracy: 0.6091 - val_loss: 0.9200 - val_accuracy: 0.6089\n",
            "Epoch 49/100\n",
            "1875/1875 [==============================] - 23s 12ms/step - loss: 0.9367 - accuracy: 0.6047 - val_loss: 0.8988 - val_accuracy: 0.6172\n",
            "Epoch 50/100\n",
            "1875/1875 [==============================] - 23s 12ms/step - loss: 0.9080 - accuracy: 0.6153 - val_loss: 0.9327 - val_accuracy: 0.6053\n",
            "Epoch 51/100\n",
            "1875/1875 [==============================] - 23s 12ms/step - loss: 0.9003 - accuracy: 0.6181 - val_loss: 0.8805 - val_accuracy: 0.6223\n",
            "Epoch 52/100\n",
            "1875/1875 [==============================] - 23s 12ms/step - loss: 0.9671 - accuracy: 0.5974 - val_loss: 0.8817 - val_accuracy: 0.6251\n",
            "Epoch 53/100\n",
            "1875/1875 [==============================] - 23s 12ms/step - loss: 0.9041 - accuracy: 0.6185 - val_loss: 0.8779 - val_accuracy: 0.6279\n",
            "Epoch 54/100\n",
            "1875/1875 [==============================] - 23s 12ms/step - loss: 0.8894 - accuracy: 0.6228 - val_loss: 1.0344 - val_accuracy: 0.5805\n",
            "Epoch 55/100\n",
            "1875/1875 [==============================] - 23s 12ms/step - loss: 0.8865 - accuracy: 0.6246 - val_loss: 0.8673 - val_accuracy: 0.6292\n",
            "Epoch 56/100\n",
            "1875/1875 [==============================] - 22s 12ms/step - loss: 0.8896 - accuracy: 0.6241 - val_loss: 0.8814 - val_accuracy: 0.6250\n",
            "Epoch 57/100\n",
            "1875/1875 [==============================] - 23s 12ms/step - loss: 0.9007 - accuracy: 0.6201 - val_loss: 0.8491 - val_accuracy: 0.6391\n",
            "Epoch 58/100\n",
            "1875/1875 [==============================] - 23s 12ms/step - loss: 0.8684 - accuracy: 0.6318 - val_loss: 0.8580 - val_accuracy: 0.6320\n",
            "Epoch 59/100\n",
            "1875/1875 [==============================] - 23s 12ms/step - loss: 0.9456 - accuracy: 0.6096 - val_loss: 0.8500 - val_accuracy: 0.6381\n",
            "Epoch 60/100\n",
            "1875/1875 [==============================] - 23s 12ms/step - loss: 0.8550 - accuracy: 0.6379 - val_loss: 0.8354 - val_accuracy: 0.6482\n",
            "Epoch 61/100\n",
            "1875/1875 [==============================] - 25s 13ms/step - loss: 0.9019 - accuracy: 0.6254 - val_loss: 0.8574 - val_accuracy: 0.6339\n",
            "Epoch 62/100\n",
            "1875/1875 [==============================] - 24s 13ms/step - loss: 1.0243 - accuracy: 0.5818 - val_loss: 0.8934 - val_accuracy: 0.6229\n",
            "Epoch 63/100\n",
            "1875/1875 [==============================] - 23s 12ms/step - loss: 0.8994 - accuracy: 0.6241 - val_loss: 0.8579 - val_accuracy: 0.6414\n",
            "Epoch 64/100\n",
            "1875/1875 [==============================] - 23s 12ms/step - loss: 0.8564 - accuracy: 0.6407 - val_loss: 0.8927 - val_accuracy: 0.6277\n",
            "Epoch 65/100\n",
            "1875/1875 [==============================] - 23s 12ms/step - loss: 0.8818 - accuracy: 0.6323 - val_loss: 0.8844 - val_accuracy: 0.6285\n",
            "Epoch 66/100\n",
            "1875/1875 [==============================] - 23s 12ms/step - loss: 0.8512 - accuracy: 0.6417 - val_loss: 0.8193 - val_accuracy: 0.6547\n",
            "Epoch 67/100\n",
            "1875/1875 [==============================] - 23s 12ms/step - loss: 0.8343 - accuracy: 0.6486 - val_loss: 0.8122 - val_accuracy: 0.6552\n",
            "Epoch 68/100\n",
            "1875/1875 [==============================] - 23s 12ms/step - loss: 0.8284 - accuracy: 0.6493 - val_loss: 0.7999 - val_accuracy: 0.6625\n",
            "Epoch 69/100\n",
            "1875/1875 [==============================] - 23s 12ms/step - loss: 0.8233 - accuracy: 0.6531 - val_loss: 0.8527 - val_accuracy: 0.6377\n",
            "Epoch 70/100\n",
            "1875/1875 [==============================] - 23s 12ms/step - loss: 0.8116 - accuracy: 0.6569 - val_loss: 0.8214 - val_accuracy: 0.6509\n",
            "Epoch 71/100\n",
            "1875/1875 [==============================] - 23s 12ms/step - loss: 0.8092 - accuracy: 0.6577 - val_loss: 0.7976 - val_accuracy: 0.6644\n",
            "Epoch 72/100\n",
            "1875/1875 [==============================] - 23s 12ms/step - loss: 0.8088 - accuracy: 0.6595 - val_loss: 0.7912 - val_accuracy: 0.6639\n",
            "Epoch 73/100\n",
            "1875/1875 [==============================] - 23s 12ms/step - loss: 0.7945 - accuracy: 0.6634 - val_loss: 0.7734 - val_accuracy: 0.6771\n",
            "Epoch 74/100\n",
            "1875/1875 [==============================] - 23s 12ms/step - loss: 0.7977 - accuracy: 0.6646 - val_loss: 0.7736 - val_accuracy: 0.6722\n",
            "Epoch 75/100\n",
            "1875/1875 [==============================] - 23s 12ms/step - loss: 0.7850 - accuracy: 0.6687 - val_loss: 0.7840 - val_accuracy: 0.6676\n",
            "Epoch 76/100\n",
            "1875/1875 [==============================] - 23s 12ms/step - loss: 0.7818 - accuracy: 0.6713 - val_loss: 0.7631 - val_accuracy: 0.6812\n",
            "Epoch 77/100\n",
            "1875/1875 [==============================] - 23s 12ms/step - loss: 0.7739 - accuracy: 0.6745 - val_loss: 0.7640 - val_accuracy: 0.6753\n",
            "Epoch 78/100\n",
            "1875/1875 [==============================] - 23s 12ms/step - loss: 0.7805 - accuracy: 0.6755 - val_loss: 0.7696 - val_accuracy: 0.6772\n",
            "Epoch 79/100\n",
            "1875/1875 [==============================] - 23s 12ms/step - loss: 0.7766 - accuracy: 0.6759 - val_loss: 0.7424 - val_accuracy: 0.6885\n",
            "Epoch 80/100\n",
            "1875/1875 [==============================] - 22s 12ms/step - loss: 0.7569 - accuracy: 0.6831 - val_loss: 0.7412 - val_accuracy: 0.6894\n",
            "Epoch 81/100\n",
            "1875/1875 [==============================] - 23s 12ms/step - loss: 0.8405 - accuracy: 0.6543 - val_loss: 0.8760 - val_accuracy: 0.6425\n",
            "Epoch 82/100\n",
            "1875/1875 [==============================] - 23s 12ms/step - loss: 0.8069 - accuracy: 0.6672 - val_loss: 0.7595 - val_accuracy: 0.6773\n",
            "Epoch 83/100\n",
            "1875/1875 [==============================] - 23s 12ms/step - loss: 0.7550 - accuracy: 0.6841 - val_loss: 0.7470 - val_accuracy: 0.6879\n",
            "Epoch 84/100\n",
            "1875/1875 [==============================] - 23s 12ms/step - loss: 0.7637 - accuracy: 0.6812 - val_loss: 0.7370 - val_accuracy: 0.6917\n",
            "Epoch 85/100\n",
            "1875/1875 [==============================] - 23s 12ms/step - loss: 0.7502 - accuracy: 0.6897 - val_loss: 0.7341 - val_accuracy: 0.6950\n",
            "Epoch 86/100\n",
            "1875/1875 [==============================] - 22s 12ms/step - loss: 0.7388 - accuracy: 0.6923 - val_loss: 0.7372 - val_accuracy: 0.6926\n",
            "Epoch 87/100\n",
            "1875/1875 [==============================] - 23s 12ms/step - loss: 0.7303 - accuracy: 0.6958 - val_loss: 0.7225 - val_accuracy: 0.6931\n",
            "Epoch 88/100\n",
            "1875/1875 [==============================] - 22s 12ms/step - loss: 0.7236 - accuracy: 0.6998 - val_loss: 0.7365 - val_accuracy: 0.6983\n",
            "Epoch 89/100\n",
            "1875/1875 [==============================] - 23s 12ms/step - loss: 0.7776 - accuracy: 0.6866 - val_loss: 0.7458 - val_accuracy: 0.6984\n",
            "Epoch 90/100\n",
            "1875/1875 [==============================] - 23s 12ms/step - loss: 0.7333 - accuracy: 0.6979 - val_loss: 0.7164 - val_accuracy: 0.7023\n",
            "Epoch 91/100\n",
            "1875/1875 [==============================] - 22s 12ms/step - loss: 0.7551 - accuracy: 0.6952 - val_loss: 0.7234 - val_accuracy: 0.7019\n",
            "Epoch 92/100\n",
            "1875/1875 [==============================] - 23s 12ms/step - loss: 0.7060 - accuracy: 0.7090 - val_loss: 0.7184 - val_accuracy: 0.7085\n",
            "Epoch 93/100\n",
            "1875/1875 [==============================] - 23s 12ms/step - loss: 0.7008 - accuracy: 0.7112 - val_loss: 0.6710 - val_accuracy: 0.7253\n",
            "Epoch 94/100\n",
            "1875/1875 [==============================] - 23s 12ms/step - loss: 0.6995 - accuracy: 0.7120 - val_loss: 0.6836 - val_accuracy: 0.7251\n",
            "Epoch 95/100\n",
            "1875/1875 [==============================] - 23s 12ms/step - loss: 0.7250 - accuracy: 0.7071 - val_loss: 0.9781 - val_accuracy: 0.6254\n",
            "Epoch 96/100\n",
            "1875/1875 [==============================] - 23s 12ms/step - loss: 0.7126 - accuracy: 0.7115 - val_loss: 0.6774 - val_accuracy: 0.7209\n",
            "Epoch 97/100\n",
            "1875/1875 [==============================] - 23s 12ms/step - loss: 0.6871 - accuracy: 0.7213 - val_loss: 0.7077 - val_accuracy: 0.7133\n",
            "Epoch 98/100\n",
            "1875/1875 [==============================] - 23s 12ms/step - loss: 0.7046 - accuracy: 0.7132 - val_loss: 0.7416 - val_accuracy: 0.6962\n",
            "Epoch 99/100\n",
            "1875/1875 [==============================] - 23s 12ms/step - loss: 0.6935 - accuracy: 0.7181 - val_loss: 0.8739 - val_accuracy: 0.6553\n",
            "Epoch 100/100\n",
            "1875/1875 [==============================] - 23s 12ms/step - loss: 0.7234 - accuracy: 0.7089 - val_loss: 0.6879 - val_accuracy: 0.7220\n"
          ]
        }
      ],
      "source": [
        "history = model.fit(X_train, y_train, batch_size=64, epochs=100, validation_data=(X_val, y_val))\n",
        "#model.save('NewAllDataModel_E50_B64.h5')"
      ]
    },
    {
      "cell_type": "code",
      "execution_count": 30,
      "metadata": {
        "id": "R7QQeqVidKBR",
        "colab": {
          "base_uri": "https://localhost:8080/"
        },
        "outputId": "209a31bc-21fa-4fee-addb-f42921624a1a"
      },
      "outputs": [
        {
          "output_type": "stream",
          "name": "stdout",
          "text": [
            "469/469 [==============================] - 2s 5ms/step - loss: 0.6953 - accuracy: 0.7196\n"
          ]
        }
      ],
      "source": [
        "test_acc = model.evaluate(X_test, y_test)"
      ]
    },
    {
      "cell_type": "code",
      "source": [
        "test_acc"
      ],
      "metadata": {
        "id": "6fuTmgGrUgGg",
        "colab": {
          "base_uri": "https://localhost:8080/"
        },
        "outputId": "900cb773-54cf-4fb8-b5f9-c9c8f8f092a2"
      },
      "execution_count": 31,
      "outputs": [
        {
          "output_type": "execute_result",
          "data": {
            "text/plain": [
              "[0.695256769657135, 0.7196000218391418]"
            ]
          },
          "metadata": {},
          "execution_count": 31
        }
      ]
    },
    {
      "cell_type": "code",
      "execution_count": 32,
      "metadata": {
        "id": "OHpifyqGdKn-",
        "colab": {
          "base_uri": "https://localhost:8080/"
        },
        "outputId": "7bfa52cb-5aad-4515-b64e-32ae199895ad"
      },
      "outputs": [
        {
          "output_type": "stream",
          "name": "stdout",
          "text": [
            "469/469 [==============================] - 2s 4ms/step\n"
          ]
        }
      ],
      "source": [
        "y_test_prob = model.predict(X_test, verbose=1)"
      ]
    },
    {
      "cell_type": "code",
      "source": [
        "np.set_printoptions(suppress=True)\n",
        "y_test_prob_backup = y_test_prob\n",
        "y_test_prob"
      ],
      "metadata": {
        "id": "rRPswrrkmhp2",
        "colab": {
          "base_uri": "https://localhost:8080/"
        },
        "outputId": "23963cd4-fce3-438d-ef61-957bc27b2da8"
      },
      "execution_count": 33,
      "outputs": [
        {
          "output_type": "execute_result",
          "data": {
            "text/plain": [
              "array([[0.00115365, 0.00098795, 0.06384088, ..., 0.00745205, 0.17881092,\n",
              "        0.7360997 ],\n",
              "       [0.00000007, 0.00000041, 0.0018085 , ..., 0.3259256 , 0.00121282,\n",
              "        0.00001055],\n",
              "       [0.00002445, 0.00016701, 0.06438439, ..., 0.40622237, 0.07367609,\n",
              "        0.00576677],\n",
              "       ...,\n",
              "       [0.0015647 , 0.00176356, 0.14896613, ..., 0.05309867, 0.31598973,\n",
              "        0.41579685],\n",
              "       [0.99825746, 0.00140483, 0.00000038, ..., 0.00000073, 0.00000294,\n",
              "        0.0003326 ],\n",
              "       [0.00010344, 0.00066208, 0.1477017 , ..., 0.07171468, 0.34775087,\n",
              "        0.31800443]], dtype=float32)"
            ]
          },
          "metadata": {},
          "execution_count": 33
        }
      ]
    },
    {
      "cell_type": "code",
      "execution_count": 34,
      "metadata": {
        "id": "AfmdrBILdMwj"
      },
      "outputs": [],
      "source": [
        "y_test_pred = np.where(y_test_prob > 0.5, 1, 0)"
      ]
    },
    {
      "cell_type": "code",
      "execution_count": 35,
      "metadata": {
        "id": "8DoJy_p9dPzN"
      },
      "outputs": [],
      "source": [
        "from sklearn.metrics import multilabel_confusion_matrix"
      ]
    },
    {
      "cell_type": "code",
      "source": [
        "y_test"
      ],
      "metadata": {
        "id": "n1Us2yrfcGl-",
        "colab": {
          "base_uri": "https://localhost:8080/"
        },
        "outputId": "ac4c6921-9f43-4aad-a6ae-874681534c39"
      },
      "execution_count": 36,
      "outputs": [
        {
          "output_type": "execute_result",
          "data": {
            "text/plain": [
              "array([[0., 0., 0., ..., 0., 0., 1.],\n",
              "       [0., 0., 0., ..., 0., 0., 0.],\n",
              "       [0., 0., 0., ..., 0., 0., 0.],\n",
              "       ...,\n",
              "       [0., 0., 1., ..., 0., 0., 0.],\n",
              "       [1., 0., 0., ..., 0., 0., 0.],\n",
              "       [0., 0., 1., ..., 0., 0., 0.]])"
            ]
          },
          "metadata": {},
          "execution_count": 36
        }
      ]
    },
    {
      "cell_type": "code",
      "source": [
        "y_test.shape"
      ],
      "metadata": {
        "id": "VnmvTcvWbxr9",
        "colab": {
          "base_uri": "https://localhost:8080/"
        },
        "outputId": "82dbd904-36ae-46c3-e644-9c2ba6ead868"
      },
      "execution_count": 37,
      "outputs": [
        {
          "output_type": "execute_result",
          "data": {
            "text/plain": [
              "(15000, 8)"
            ]
          },
          "metadata": {},
          "execution_count": 37
        }
      ]
    },
    {
      "cell_type": "code",
      "source": [
        "y_test_pred"
      ],
      "metadata": {
        "id": "nMBOgzrgcJBj",
        "colab": {
          "base_uri": "https://localhost:8080/"
        },
        "outputId": "402dca61-3d17-4d2b-8b1c-43a0d14c3452"
      },
      "execution_count": 38,
      "outputs": [
        {
          "output_type": "execute_result",
          "data": {
            "text/plain": [
              "array([[0, 0, 0, ..., 0, 0, 1],\n",
              "       [0, 0, 0, ..., 0, 0, 0],\n",
              "       [0, 0, 0, ..., 0, 0, 0],\n",
              "       ...,\n",
              "       [0, 0, 0, ..., 0, 0, 0],\n",
              "       [1, 0, 0, ..., 0, 0, 0],\n",
              "       [0, 0, 0, ..., 0, 0, 0]])"
            ]
          },
          "metadata": {},
          "execution_count": 38
        }
      ]
    },
    {
      "cell_type": "code",
      "source": [
        "y_test_pred.shape"
      ],
      "metadata": {
        "id": "SXKZof8Ye5uI",
        "colab": {
          "base_uri": "https://localhost:8080/"
        },
        "outputId": "4fe77a5e-03c7-4dc0-d4c7-6999cdba4a7b"
      },
      "execution_count": 39,
      "outputs": [
        {
          "output_type": "execute_result",
          "data": {
            "text/plain": [
              "(15000, 8)"
            ]
          },
          "metadata": {},
          "execution_count": 39
        }
      ]
    },
    {
      "cell_type": "code",
      "source": [
        "y_decoded_pred = tf.argmax(y_test_pred, axis = 1)"
      ],
      "metadata": {
        "id": "leDQwKOjgwwi"
      },
      "execution_count": 40,
      "outputs": []
    },
    {
      "cell_type": "code",
      "source": [
        "y_decoded = tf.argmax(y_test, axis = 1)"
      ],
      "metadata": {
        "id": "sAHRmtesif6g"
      },
      "execution_count": 41,
      "outputs": []
    },
    {
      "cell_type": "code",
      "source": [
        "y_decoded_pred"
      ],
      "metadata": {
        "id": "_lvFhrmPhprD",
        "colab": {
          "base_uri": "https://localhost:8080/"
        },
        "outputId": "243a4530-1de7-46e1-d082-9fadcc2deacd"
      },
      "execution_count": 42,
      "outputs": [
        {
          "output_type": "execute_result",
          "data": {
            "text/plain": [
              "<tf.Tensor: shape=(15000,), dtype=int64, numpy=array([7, 0, 0, ..., 0, 0, 0])>"
            ]
          },
          "metadata": {},
          "execution_count": 42
        }
      ]
    },
    {
      "cell_type": "code",
      "source": [
        "y_decoded"
      ],
      "metadata": {
        "id": "YV1FXgHviPwm",
        "colab": {
          "base_uri": "https://localhost:8080/"
        },
        "outputId": "8d1d89c6-ced6-4376-8b6c-53631d949143"
      },
      "execution_count": 43,
      "outputs": [
        {
          "output_type": "execute_result",
          "data": {
            "text/plain": [
              "<tf.Tensor: shape=(15000,), dtype=int64, numpy=array([7, 4, 4, ..., 2, 0, 2])>"
            ]
          },
          "metadata": {},
          "execution_count": 43
        }
      ]
    },
    {
      "cell_type": "code",
      "source": [
        "y_test_pred = y_decoded_pred\n"
      ],
      "metadata": {
        "id": "6-6jFqzGh380"
      },
      "execution_count": 44,
      "outputs": []
    },
    {
      "cell_type": "code",
      "source": [
        "y_test = y_decoded"
      ],
      "metadata": {
        "id": "9pogVvdIiwss"
      },
      "execution_count": 45,
      "outputs": []
    },
    {
      "cell_type": "code",
      "source": [
        "y_test"
      ],
      "metadata": {
        "id": "oGt5aJetiKR6",
        "colab": {
          "base_uri": "https://localhost:8080/"
        },
        "outputId": "85f9eadb-8ab8-4e8d-f30d-3ce783ff0c09"
      },
      "execution_count": 46,
      "outputs": [
        {
          "output_type": "execute_result",
          "data": {
            "text/plain": [
              "<tf.Tensor: shape=(15000,), dtype=int64, numpy=array([7, 4, 4, ..., 2, 0, 2])>"
            ]
          },
          "metadata": {},
          "execution_count": 46
        }
      ]
    },
    {
      "cell_type": "code",
      "source": [
        "y_test_pred"
      ],
      "metadata": {
        "id": "fLgDwAIfiyv2",
        "colab": {
          "base_uri": "https://localhost:8080/"
        },
        "outputId": "484599fa-a239-497a-d75e-cc96be3364f5"
      },
      "execution_count": 47,
      "outputs": [
        {
          "output_type": "execute_result",
          "data": {
            "text/plain": [
              "<tf.Tensor: shape=(15000,), dtype=int64, numpy=array([7, 0, 0, ..., 0, 0, 0])>"
            ]
          },
          "metadata": {},
          "execution_count": 47
        }
      ]
    },
    {
      "cell_type": "code",
      "execution_count": 48,
      "metadata": {
        "id": "fTCsPjW8dQaZ"
      },
      "outputs": [],
      "source": [
        "cfm=confusion_matrix(y_test, y_test_pred)"
      ]
    },
    {
      "cell_type": "code",
      "source": [
        "cfm"
      ],
      "metadata": {
        "id": "_67lPg6ic4cH",
        "colab": {
          "base_uri": "https://localhost:8080/"
        },
        "outputId": "a2e9c8b5-a40f-4a0c-b4c5-a3081e9da2ae"
      },
      "execution_count": 49,
      "outputs": [
        {
          "output_type": "execute_result",
          "data": {
            "text/plain": [
              "array([[1918,   64,    0,    0,    0,    0,    0,    1],\n",
              "       [  47, 1702,   40,    0,    0,    0,    0,   12],\n",
              "       [ 517,   30, 1191,   65,    2,    2,   16,   77],\n",
              "       [ 781,    0,   69,  878,   59,   57,    9,    0],\n",
              "       [ 936,    0,   11,  152,  631,   64,   94,   14],\n",
              "       [ 999,    0,   12,   59,   79,  560,  111,   20],\n",
              "       [ 676,    0,   11,    2,    7,   10,  765,  417],\n",
              "       [ 233,    8,    3,    0,    1,    1,   81, 1506]])"
            ]
          },
          "metadata": {},
          "execution_count": 49
        }
      ]
    },
    {
      "cell_type": "code",
      "source": [
        " print(classification_report(y_test,y_test_pred))"
      ],
      "metadata": {
        "id": "XTqR_xnwRWCJ",
        "colab": {
          "base_uri": "https://localhost:8080/"
        },
        "outputId": "951f0032-d8ad-4e41-ce5b-d6f2dfd6d1db"
      },
      "execution_count": 50,
      "outputs": [
        {
          "output_type": "stream",
          "name": "stdout",
          "text": [
            "              precision    recall  f1-score   support\n",
            "\n",
            "           0       0.31      0.97      0.47      1983\n",
            "           1       0.94      0.95      0.94      1801\n",
            "           2       0.89      0.63      0.74      1900\n",
            "           3       0.76      0.47      0.58      1853\n",
            "           4       0.81      0.33      0.47      1902\n",
            "           5       0.81      0.30      0.44      1840\n",
            "           6       0.71      0.41      0.52      1888\n",
            "           7       0.74      0.82      0.78      1833\n",
            "\n",
            "    accuracy                           0.61     15000\n",
            "   macro avg       0.75      0.61      0.62     15000\n",
            "weighted avg       0.74      0.61      0.62     15000\n",
            "\n"
          ]
        }
      ]
    },
    {
      "cell_type": "code",
      "execution_count": 51,
      "metadata": {
        "id": "te3fslrY9Eca",
        "colab": {
          "base_uri": "https://localhost:8080/",
          "height": 908
        },
        "outputId": "206859a8-64c2-4f9b-8282-734b6a2dbfcb"
      },
      "outputs": [
        {
          "output_type": "stream",
          "name": "stdout",
          "text": [
            "Confusion matrix, without normalization\n",
            "[[1918   64    0    0    0    0    0    1]\n",
            " [  47 1702   40    0    0    0    0   12]\n",
            " [ 517   30 1191   65    2    2   16   77]\n",
            " [ 781    0   69  878   59   57    9    0]\n",
            " [ 936    0   11  152  631   64   94   14]\n",
            " [ 999    0   12   59   79  560  111   20]\n",
            " [ 676    0   11    2    7   10  765  417]\n",
            " [ 233    8    3    0    1    1   81 1506]]\n",
            "Normalized confusion matrix\n",
            "[[0.97 0.03 0.   0.   0.   0.   0.   0.  ]\n",
            " [0.03 0.95 0.02 0.   0.   0.   0.   0.01]\n",
            " [0.27 0.02 0.63 0.03 0.   0.   0.01 0.04]\n",
            " [0.42 0.   0.04 0.47 0.03 0.03 0.   0.  ]\n",
            " [0.49 0.   0.01 0.08 0.33 0.03 0.05 0.01]\n",
            " [0.54 0.   0.01 0.03 0.04 0.3  0.06 0.01]\n",
            " [0.36 0.   0.01 0.   0.   0.01 0.41 0.22]\n",
            " [0.13 0.   0.   0.   0.   0.   0.04 0.82]]\n"
          ]
        },
        {
          "output_type": "display_data",
          "data": {
            "text/plain": [
              "<Figure size 432x288 with 2 Axes>"
            ],
            "image/png": "[encoded data removed]"
          },
          "metadata": {
            "needs_background": "light"
          }
        },
        {
          "output_type": "display_data",
          "data": {
            "text/plain": [
              "<Figure size 432x288 with 2 Axes>"
            ],
            "image/png": "[encoded data removed]"
          },
          "metadata": {
            "needs_background": "light"
          }
        }
      ],
      "source": [
        "import numpy as np\n",
        "import matplotlib.pyplot as plt\n",
        "\n",
        "from sklearn import svm, datasets\n",
        "from sklearn.model_selection import train_test_split\n",
        "from sklearn.metrics import confusion_matrix\n",
        "from sklearn.utils.multiclass import unique_labels\n",
        "\n",
        "class_names = np.array(['0', '1', '2', '3', '4', '5', '6', '7'])\n",
        "\n",
        "def plot_confusion_matrix(y_true, y_pred, classes,\n",
        "                          normalize=False,\n",
        "                          title=None,\n",
        "                          cmap=plt.cm.Blues):\n",
        "    \"\"\"\n",
        "    This function prints and plots the confusion matrix.\n",
        "    Normalization can be applied by setting `normalize=True`.\n",
        "    \"\"\"\n",
        "    if not title:\n",
        "        if normalize:\n",
        "            title = 'Normalized confusion matrix'\n",
        "        else:\n",
        "            title = 'Confusion matrix, without normalization'\n",
        "\n",
        "    # Compute confusion matrix\n",
        "    cm = confusion_matrix(y_true, y_pred)\n",
        "    # Only use the labels that appear in the data\n",
        "    classes = classes[unique_labels(y_true, y_pred)]\n",
        "    if normalize:\n",
        "        cm = cm.astype('float') / cm.sum(axis=1)[:, np.newaxis]\n",
        "        print(\"Normalized confusion matrix\")\n",
        "    else:\n",
        "        print('Confusion matrix, without normalization')\n",
        "\n",
        "    print(cm)\n",
        "\n",
        "    fig, ax = plt.subplots()\n",
        "    im = ax.imshow(cm, interpolation='nearest', cmap=cmap)\n",
        "    ax.figure.colorbar(im, ax=ax)\n",
        "    # We want to show all ticks...\n",
        "    ax.set(xticks=np.arange(cm.shape[1]),\n",
        "           yticks=np.arange(cm.shape[0]),\n",
        "           # ... and label them with the respective list entries\n",
        "           xticklabels=classes, yticklabels=classes,\n",
        "           title=title,\n",
        "           ylabel='True label',\n",
        "           xlabel='Predicted label')\n",
        "\n",
        "    # Rotate the tick labels and set their alignment.\n",
        "    plt.setp(ax.get_xticklabels(), rotation=45, ha=\"right\",\n",
        "             rotation_mode=\"anchor\")\n",
        "\n",
        "    # Loop over data dimensions and create text annotations.\n",
        "    fmt = '.2f' if normalize else 'd'\n",
        "    thresh = cm.max() / 2.\n",
        "    for i in range(cm.shape[0]):\n",
        "        for j in range(cm.shape[1]):\n",
        "            ax.text(j, i, format(cm[i, j], fmt),\n",
        "                    ha=\"center\", va=\"center\",\n",
        "                    color=\"white\" if cm[i, j] > thresh else \"black\")\n",
        "    fig.tight_layout()\n",
        "\n",
        "    return ax\n",
        "\n",
        "\n",
        "np.set_printoptions(precision=2)\n",
        "\n",
        "# Plot non-normalized confusion matrix\n",
        "plot_confusion_matrix(y_test, y_test_pred, classes=class_names,\n",
        "                      title='Confusion matrix, without normalization')\n",
        "\n",
        "# Plot normalized confusion matrix\n",
        "plot_confusion_matrix(y_test, y_test_pred, classes=class_names, normalize=True,\n",
        "                      title='Normalized confusion matrix')\n",
        "\n",
        "plt.show()"
      ]
    },
    {
      "cell_type": "code",
      "execution_count": 52,
      "metadata": {
        "id": "fhdLAhgPUnH3"
      },
      "outputs": [],
      "source": [
        "def plot_learningCurve(history, epoch):\n",
        "  # Plot training & validation accuracy values\n",
        "  epoch_range = range(1, epoch+1)\n",
        "  plt.plot(epoch_range, history.history['accuracy'])\n",
        "  plt.plot(epoch_range, history.history['val_accuracy'])\n",
        "  plt.title('Model accuracy')\n",
        "  plt.ylabel('Accuracy')\n",
        "  plt.xlabel('Epoch')\n",
        "  plt.legend(['Train', 'Val'], loc='upper left')\n",
        "  plt.show()\n",
        "\n",
        "  # Plot training & validation loss values\n",
        "  plt.plot(epoch_range, history.history['loss'])\n",
        "  plt.plot(epoch_range, history.history['val_loss'])\n",
        "  plt.title('Model loss')\n",
        "  plt.ylabel('Loss')\n",
        "  plt.xlabel('Epoch')\n",
        "  plt.legend(['Train', 'Val'], loc='upper left')\n",
        "  plt.show()"
      ]
    },
    {
      "cell_type": "code",
      "execution_count": 53,
      "metadata": {
        "id": "WlkQkWHgU5mL",
        "colab": {
          "base_uri": "https://localhost:8080/",
          "height": 581
        },
        "outputId": "b12766a1-e12d-4bf7-9dd4-7ed93992bab2"
      },
      "outputs": [
        {
          "output_type": "display_data",
          "data": {
            "text/plain": [
              "<Figure size 432x288 with 1 Axes>"
            ],
            "image/png": "[encoded data removed]"
          },
          "metadata": {
            "needs_background": "light"
          }
        },
        {
          "output_type": "display_data",
          "data": {
            "text/plain": [
              "<Figure size 432x288 with 1 Axes>"
            ],
            "image/png": "[encoded data removed]"
          },
          "metadata": {
            "needs_background": "light"
          }
        }
      ],
      "source": [
        "plot_learningCurve(history, 100)"
      ]
    }
  ],
  "metadata": {
    "colab": {
      "collapsed_sections": [
        "f857kfHqUk0-"
      ],
      "name": "Multi_Class_MD_LSTM_step_200_files_120.ipynb",
      "provenance": [],
      "include_colab_link": true
    },
    "kernelspec": {
      "display_name": "Python 3",
      "name": "python3"
    },
    "language_info": {
      "name": "python"
    },
    "accelerator": "GPU"
  },
  "nbformat": 4,
  "nbformat_minor": 0
}
