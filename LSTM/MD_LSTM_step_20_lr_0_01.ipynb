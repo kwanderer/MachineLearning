{
  "cells": [
    {
      "cell_type": "markdown",
      "metadata": {
        "id": "view-in-github",
        "colab_type": "text"
      },
      "source": [
        "<a href=\"https://colab.research.google.com/github/kwanderer/MachineLearning/blob/main/MD_LSTM_step_20_lr_0_01.ipynb\" target=\"_parent\"><img src=\"https://colab.research.google.com/assets/colab-badge.svg\" alt=\"Open In Colab\"/></a>"
      ]
    },
    {
      "cell_type": "markdown",
      "metadata": {
        "id": "f857kfHqUk0-"
      },
      "source": [
        "\n",
        "\n",
        "#Datu kopa"
      ]
    },
    {
      "cell_type": "markdown",
      "metadata": {
        "id": "nM9WE3QGUwVi"
      },
      "source": [
        "Datu kopas avots: https://www.kaggle.com/uysalserkan/fault-induction-motor-dataset"
      ]
    },
    {
      "cell_type": "markdown",
      "metadata": {
        "id": "_sN_h3qHHy6r"
      },
      "source": [
        "Darbā tiek izmantota indukcijas motora parametru datu bāze. Izmantotajā datu kopā ir dati, kas tika iegūti SpectraQuest aparatūras kļūdu simulatorā (Machinery Fault Simulator).\n",
        "\n",
        "Katra mērījumu secība tika ģenerēta ar frekvenci 50 kHz 5 sekunžu laikā, kopā 250 000 mērījumi.\n",
        "\n",
        "Dati ir apkopoti vairākos failos, dažādos darbības stāvokļos un to apjoms ir ļoti liels. Šajā darbā tika izmantota daļa(viena mērījumu secība) no motora normālas darbības datiem.\n"
      ]
    },
    {
      "cell_type": "markdown",
      "metadata": {
        "id": "KtFAOaHYHLPo"
      },
      "source": [
        "Dati ir apkopoti tabulā, kura satur 8 parametrus. Dati ir iedalīti sekojošās kolonas:\n",
        "\n",
        "**tachometer** – tahometra signāls, kas ļauj novērtēt rotācijas frekvenci\n",
        "\n",
        "**und-accelerometer-axial** - apakšā esošā gultņa akselerometrs (aksiālais virziens)\n",
        "\n",
        "**und-accelerometer-radial** – apakšā esošā gultņa akselerometrs (radiālais virziens)\n",
        "\n",
        "**und-accelerometer-tangential** - apakšā esošā gultņa akselerometrs (tangenciālais virziens)\n",
        "\n",
        "**over-accelerometer-axial** - pārkares gultņa akselerometrs (aksiālais virziens)\n",
        "\n",
        "**over-accelerometer-radial** – pārkares gultņa akselerometrs (radiālais  virziens)\n",
        "\n",
        "**over-accelerometer-tangential**  - pārkares gultņa akselerometrs (tangenciālais virziens)\n",
        "\n",
        "**microphone** – mikrofona vērtība\n"
      ]
    },
    {
      "cell_type": "markdown",
      "metadata": {
        "id": "XymoNLKMVFUC"
      },
      "source": [
        "#Datu ielasīšana un satura vizualizācija"
      ]
    },
    {
      "cell_type": "code",
      "execution_count": 24,
      "metadata": {
        "id": "_yqYZDeOFq5s"
      },
      "outputs": [],
      "source": [
        "import keras\n",
        "from keras.layers import LSTM, Dropout, Dense\n",
        "import tensorflow as tf\n",
        "import numpy as np\n",
        "import pandas as pd\n",
        "\n",
        "from sklearn import linear_model  #pip install sklearn - loti plasa masinapmacibas biblioteka\n",
        "from sklearn.linear_model import LinearRegression  \n",
        "import csv          #pip install csv - darbam ar CSV datu kopam\n",
        "import requests     #pip install requests  - vienkarsakam darbam ar tiessaistes CSV datu kopam tiessaistes\n",
        "\n",
        "import matplotlib\n",
        "import matplotlib.pyplot as plt\n",
        "\n",
        "import glob\n"
      ]
    },
    {
      "cell_type": "code",
      "execution_count": 25,
      "metadata": {
        "id": "wlRTBbM2eUcV",
        "colab": {
          "base_uri": "https://localhost:8080/"
        },
        "outputId": "2221cbf9-3eb7-43d4-c8b3-13367108612e"
      },
      "outputs": [
        {
          "output_type": "stream",
          "name": "stdout",
          "text": [
            "Drive already mounted at /content/gdrive; to attempt to forcibly remount, call drive.mount(\"/content/gdrive\", force_remount=True).\n"
          ]
        }
      ],
      "source": [
        "from google.colab import drive\n",
        "import os\n",
        "drive.mount('/content/gdrive')\n",
        "os.chdir(\"/content/gdrive/MyDrive/Colab Notebooks/data/motor/\")"
      ]
    },
    {
      "cell_type": "code",
      "execution_count": 26,
      "metadata": {
        "id": "zzz6fBl_SNom"
      },
      "outputs": [],
      "source": [
        "#extension = 'csv'\n",
        "#all_filenames = [i for i in glob.glob('*.{}'.format(extension))]"
      ]
    },
    {
      "cell_type": "code",
      "execution_count": 27,
      "metadata": {
        "id": "vagKFCkToBi0"
      },
      "outputs": [],
      "source": [
        "#combine all files in the list\n",
        "#combined_csv = pd.concat([pd.read_csv(f) for f in all_filenames ])\n",
        "#export to csv\n",
        "#combined_csv.to_csv( \"combined_csv.csv\", index=False, encoding='utf-8-sig')"
      ]
    },
    {
      "cell_type": "code",
      "execution_count": 28,
      "metadata": {
        "id": "encEkbDhSfGI"
      },
      "outputs": [],
      "source": [
        "data = pd.read_csv(\"combined_csv.csv\")"
      ]
    },
    {
      "cell_type": "code",
      "execution_count": 29,
      "metadata": {
        "id": "yz5Qe8ZWk1Zq",
        "colab": {
          "base_uri": "https://localhost:8080/"
        },
        "outputId": "66d4fd53-b685-405a-d68a-e9fc1e61ef57"
      },
      "outputs": [
        {
          "output_type": "stream",
          "name": "stdout",
          "text": [
            "<class 'pandas.core.frame.DataFrame'>\n",
            "RangeIndex: 500000 entries, 0 to 499999\n",
            "Data columns (total 9 columns):\n",
            " #   Column                         Non-Null Count   Dtype  \n",
            "---  ------                         --------------   -----  \n",
            " 0   tachometer                     500000 non-null  float64\n",
            " 1   und-accelerometer-axial        500000 non-null  float64\n",
            " 2   und-accelerometer-radial       500000 non-null  float64\n",
            " 3   und-accelerometer-tangential   500000 non-null  float64\n",
            " 4   over-accelerometer-axial       500000 non-null  float64\n",
            " 5   over-accelerometer-radial      500000 non-null  float64\n",
            " 6   over-accelerometer-tangential  500000 non-null  float64\n",
            " 7   microphone                     500000 non-null  float64\n",
            " 8   Class                          500000 non-null  int64  \n",
            "dtypes: float64(8), int64(1)\n",
            "memory usage: 34.3 MB\n"
          ]
        }
      ],
      "source": [
        "data.info()"
      ]
    },
    {
      "cell_type": "code",
      "execution_count": 30,
      "metadata": {
        "id": "WUW9ezX6a_st",
        "colab": {
          "base_uri": "https://localhost:8080/"
        },
        "outputId": "b48fda49-6c91-4d1d-928d-d7979fe87118"
      },
      "outputs": [
        {
          "output_type": "execute_result",
          "data": {
            "text/plain": [
              "500000"
            ]
          },
          "metadata": {},
          "execution_count": 30
        }
      ],
      "source": [
        "rec_count = len(data)\n",
        "rec_count"
      ]
    },
    {
      "cell_type": "markdown",
      "source": [
        "# Datu dalīšana mazākos gabalos"
      ],
      "metadata": {
        "id": "6RVC1PZy88fC"
      }
    },
    {
      "cell_type": "code",
      "execution_count": 31,
      "metadata": {
        "id": "DOvnCYkcbGaE"
      },
      "outputs": [],
      "source": [
        "sequence_length = 200"
      ]
    },
    {
      "cell_type": "code",
      "execution_count": 32,
      "metadata": {
        "id": "RG0o2L3zbTEx"
      },
      "outputs": [],
      "source": [
        "def generate_data(X, y, sequence_length = 200, step = 20):\n",
        "    X_local = []\n",
        "    y_local = []\n",
        "    for start in range(0, len(data) - sequence_length, step):\n",
        "        end = start + sequence_length\n",
        "        X_local.append(X[start:end])\n",
        "        y_local.append(y[end-1])\n",
        "    return np.array(X_local), np.array(y_local)\n",
        "\n",
        "X_sequence, y = generate_data(data.loc[:, \"tachometer\":\"microphone\"].values, data.Class)"
      ]
    },
    {
      "cell_type": "code",
      "execution_count": 33,
      "metadata": {
        "id": "s0QxwK66cLVF",
        "colab": {
          "base_uri": "https://localhost:8080/"
        },
        "outputId": "9f2836f2-d4db-470b-929f-4c007c8a7671"
      },
      "outputs": [
        {
          "output_type": "execute_result",
          "data": {
            "text/plain": [
              "((24990, 200, 8), (24990,))"
            ]
          },
          "metadata": {},
          "execution_count": 33
        }
      ],
      "source": [
        "X_sequence.shape, y.shape"
      ]
    },
    {
      "cell_type": "markdown",
      "source": [
        "# Random/Shuffle"
      ],
      "metadata": {
        "id": "5BXSDoHa9UX_"
      }
    },
    {
      "cell_type": "code",
      "source": [
        "shuffler = np.random.permutation(len(X_sequence))\n",
        "X_sequence_shuffled = X_sequence[shuffler]\n",
        "y_shuffled = y[shuffler]"
      ],
      "metadata": {
        "id": "ZcfE9idy-ckb"
      },
      "execution_count": 34,
      "outputs": []
    },
    {
      "cell_type": "markdown",
      "source": [
        "# LSTM"
      ],
      "metadata": {
        "id": "TfhRTTNcE2s8"
      }
    },
    {
      "cell_type": "code",
      "execution_count": 35,
      "metadata": {
        "id": "PjKWKiA6aH3z",
        "colab": {
          "base_uri": "https://localhost:8080/"
        },
        "outputId": "6047739b-8c9d-4505-b4fe-d4beb69696b4"
      },
      "outputs": [
        {
          "output_type": "stream",
          "name": "stderr",
          "text": [
            "/usr/local/lib/python3.7/dist-packages/keras/optimizer_v2/gradient_descent.py:102: UserWarning: The `lr` argument is deprecated, use `learning_rate` instead.\n",
            "  super(SGD, self).__init__(name, **kwargs)\n"
          ]
        },
        {
          "output_type": "stream",
          "name": "stdout",
          "text": [
            "Model: \"sequential_1\"\n",
            "_________________________________________________________________\n",
            " Layer (type)                Output Shape              Param #   \n",
            "=================================================================\n",
            " lstm_1 (LSTM)               (None, 100)               43600     \n",
            "                                                                 \n",
            " dropout_1 (Dropout)         (None, 100)               0         \n",
            "                                                                 \n",
            " dense_1 (Dense)             (None, 1)                 101       \n",
            "                                                                 \n",
            "=================================================================\n",
            "Total params: 43,701\n",
            "Trainable params: 43,701\n",
            "Non-trainable params: 0\n",
            "_________________________________________________________________\n"
          ]
        }
      ],
      "source": [
        "from tensorflow.keras import optimizers\n",
        "sgd = optimizers.SGD(lr=0.01, decay=1e-6, momentum=0.9, nesterov=True)\n",
        "model = keras.Sequential()\n",
        "model.add(LSTM(100, input_shape = (200, 8)))\n",
        "model.add(Dropout(0.5))\n",
        "model.add(Dense(1, activation=\"sigmoid\"))\n",
        "\n",
        "#model.compile(loss='mean_squared_error', optimizer=sgd)\n",
        "model.compile(loss=\"binary_crossentropy\"\n",
        "              , metrics=[keras.metrics.binary_accuracy]\n",
        "              , optimizer=sgd)\n",
        "\n",
        "model.summary()"
      ]
    },
    {
      "cell_type": "code",
      "execution_count": 36,
      "metadata": {
        "id": "tg8wrqsqc8UX"
      },
      "outputs": [],
      "source": [
        "training_size = int(len(X_sequence) * 0.7)"
      ]
    },
    {
      "cell_type": "code",
      "execution_count": 37,
      "metadata": {
        "id": "avIp3TEKc-qF"
      },
      "outputs": [],
      "source": [
        "X_train, y_train = X_sequence_shuffled[:training_size], y_shuffled[:training_size]\n",
        "X_test, y_test = X_sequence_shuffled[training_size:], y_shuffled[training_size:]"
      ]
    },
    {
      "cell_type": "code",
      "execution_count": 38,
      "metadata": {
        "id": "cen4faX0dFJP",
        "colab": {
          "base_uri": "https://localhost:8080/"
        },
        "outputId": "fc2e1935-f5ba-4156-c8b8-3003649a371c"
      },
      "outputs": [
        {
          "output_type": "stream",
          "name": "stdout",
          "text": [
            "Epoch 1/50\n",
            "274/274 [==============================] - 62s 218ms/step - loss: 0.2644 - binary_accuracy: 0.9001 - val_loss: 0.1066 - val_binary_accuracy: 0.9707\n",
            "Epoch 2/50\n",
            "274/274 [==============================] - 60s 219ms/step - loss: 0.2037 - binary_accuracy: 0.9305 - val_loss: 0.2174 - val_binary_accuracy: 0.9248\n",
            "Epoch 3/50\n",
            "274/274 [==============================] - 60s 220ms/step - loss: 0.1944 - binary_accuracy: 0.9394 - val_loss: 0.2105 - val_binary_accuracy: 0.9273\n",
            "Epoch 4/50\n",
            "274/274 [==============================] - 62s 225ms/step - loss: 0.4381 - binary_accuracy: 0.7927 - val_loss: 0.4296 - val_binary_accuracy: 0.8105\n",
            "Epoch 5/50\n",
            "274/274 [==============================] - 63s 229ms/step - loss: 0.4541 - binary_accuracy: 0.7919 - val_loss: 0.3702 - val_binary_accuracy: 0.8434\n",
            "Epoch 6/50\n",
            "274/274 [==============================] - 62s 227ms/step - loss: 0.4337 - binary_accuracy: 0.8075 - val_loss: 0.3614 - val_binary_accuracy: 0.8547\n",
            "Epoch 7/50\n",
            "274/274 [==============================] - 62s 227ms/step - loss: 0.4317 - binary_accuracy: 0.8105 - val_loss: 0.3531 - val_binary_accuracy: 0.8585\n",
            "Epoch 8/50\n",
            "274/274 [==============================] - 62s 228ms/step - loss: 0.4158 - binary_accuracy: 0.8189 - val_loss: 0.3398 - val_binary_accuracy: 0.8634\n",
            "Epoch 9/50\n",
            "274/274 [==============================] - 62s 228ms/step - loss: 0.4031 - binary_accuracy: 0.8255 - val_loss: 0.3402 - val_binary_accuracy: 0.8662\n",
            "Epoch 10/50\n",
            "274/274 [==============================] - 62s 227ms/step - loss: 0.4076 - binary_accuracy: 0.8231 - val_loss: 0.3351 - val_binary_accuracy: 0.8719\n",
            "Epoch 11/50\n",
            "274/274 [==============================] - 62s 227ms/step - loss: 0.4082 - binary_accuracy: 0.8236 - val_loss: 0.3468 - val_binary_accuracy: 0.8627\n",
            "Epoch 12/50\n",
            "274/274 [==============================] - 62s 226ms/step - loss: 0.4166 - binary_accuracy: 0.8192 - val_loss: 0.3412 - val_binary_accuracy: 0.8683\n",
            "Epoch 13/50\n",
            "274/274 [==============================] - 62s 228ms/step - loss: 0.4153 - binary_accuracy: 0.8222 - val_loss: 0.3438 - val_binary_accuracy: 0.8693\n",
            "Epoch 14/50\n",
            "274/274 [==============================] - 62s 228ms/step - loss: 0.4111 - binary_accuracy: 0.8219 - val_loss: 0.3397 - val_binary_accuracy: 0.8666\n",
            "Epoch 15/50\n",
            "274/274 [==============================] - 63s 230ms/step - loss: 0.3969 - binary_accuracy: 0.8276 - val_loss: 0.3298 - val_binary_accuracy: 0.8723\n",
            "Epoch 16/50\n",
            "274/274 [==============================] - 62s 225ms/step - loss: 0.4032 - binary_accuracy: 0.8266 - val_loss: 0.3326 - val_binary_accuracy: 0.8713\n",
            "Epoch 17/50\n",
            "274/274 [==============================] - 62s 228ms/step - loss: 0.3956 - binary_accuracy: 0.8312 - val_loss: 0.3310 - val_binary_accuracy: 0.8730\n",
            "Epoch 18/50\n",
            "274/274 [==============================] - 62s 226ms/step - loss: 0.4000 - binary_accuracy: 0.8288 - val_loss: 0.3271 - val_binary_accuracy: 0.8758\n",
            "Epoch 19/50\n",
            "274/274 [==============================] - 62s 225ms/step - loss: 0.3964 - binary_accuracy: 0.8315 - val_loss: 0.3289 - val_binary_accuracy: 0.8738\n",
            "Epoch 20/50\n",
            "274/274 [==============================] - 61s 222ms/step - loss: 0.3972 - binary_accuracy: 0.8292 - val_loss: 0.3322 - val_binary_accuracy: 0.8723\n",
            "Epoch 21/50\n",
            "274/274 [==============================] - 62s 225ms/step - loss: 0.3955 - binary_accuracy: 0.8303 - val_loss: 0.3323 - val_binary_accuracy: 0.8727\n",
            "Epoch 22/50\n",
            "274/274 [==============================] - 61s 222ms/step - loss: 0.4023 - binary_accuracy: 0.8262 - val_loss: 0.3305 - val_binary_accuracy: 0.8737\n",
            "Epoch 23/50\n",
            "274/274 [==============================] - 61s 222ms/step - loss: 0.3970 - binary_accuracy: 0.8277 - val_loss: 0.3358 - val_binary_accuracy: 0.8697\n",
            "Epoch 24/50\n",
            "274/274 [==============================] - 60s 220ms/step - loss: 0.3994 - binary_accuracy: 0.8267 - val_loss: 0.3317 - val_binary_accuracy: 0.8709\n",
            "Epoch 25/50\n",
            "274/274 [==============================] - 62s 226ms/step - loss: 0.4000 - binary_accuracy: 0.8291 - val_loss: 0.3356 - val_binary_accuracy: 0.8661\n",
            "Epoch 26/50\n",
            "274/274 [==============================] - 62s 227ms/step - loss: 0.3972 - binary_accuracy: 0.8286 - val_loss: 0.3362 - val_binary_accuracy: 0.8719\n",
            "Epoch 27/50\n",
            "274/274 [==============================] - 62s 226ms/step - loss: 0.3980 - binary_accuracy: 0.8302 - val_loss: 0.3341 - val_binary_accuracy: 0.8685\n",
            "Epoch 28/50\n",
            "274/274 [==============================] - 62s 226ms/step - loss: 0.3885 - binary_accuracy: 0.8341 - val_loss: 0.3237 - val_binary_accuracy: 0.8714\n",
            "Epoch 29/50\n",
            "274/274 [==============================] - 61s 225ms/step - loss: 0.4036 - binary_accuracy: 0.8251 - val_loss: 0.3371 - val_binary_accuracy: 0.8691\n",
            "Epoch 30/50\n",
            "274/274 [==============================] - 63s 228ms/step - loss: 0.4059 - binary_accuracy: 0.8248 - val_loss: 0.3435 - val_binary_accuracy: 0.8654\n",
            "Epoch 31/50\n",
            "274/274 [==============================] - 63s 229ms/step - loss: 0.4015 - binary_accuracy: 0.8257 - val_loss: 0.3392 - val_binary_accuracy: 0.8681\n",
            "Epoch 32/50\n",
            "274/274 [==============================] - 63s 229ms/step - loss: 0.4028 - binary_accuracy: 0.8294 - val_loss: 0.3470 - val_binary_accuracy: 0.8586\n",
            "Epoch 33/50\n",
            "274/274 [==============================] - 61s 225ms/step - loss: 0.4122 - binary_accuracy: 0.8232 - val_loss: 0.3491 - val_binary_accuracy: 0.8617\n",
            "Epoch 34/50\n",
            "274/274 [==============================] - 61s 222ms/step - loss: 0.4126 - binary_accuracy: 0.8199 - val_loss: 0.3466 - val_binary_accuracy: 0.8669\n",
            "Epoch 35/50\n",
            "274/274 [==============================] - 61s 224ms/step - loss: 0.4143 - binary_accuracy: 0.8188 - val_loss: 0.3883 - val_binary_accuracy: 0.8293\n",
            "Epoch 36/50\n",
            "274/274 [==============================] - 63s 229ms/step - loss: 0.4351 - binary_accuracy: 0.8060 - val_loss: 0.3676 - val_binary_accuracy: 0.8623\n",
            "Epoch 37/50\n",
            "274/274 [==============================] - 63s 232ms/step - loss: 0.4307 - binary_accuracy: 0.8095 - val_loss: 0.3574 - val_binary_accuracy: 0.8603\n",
            "Epoch 38/50\n",
            "274/274 [==============================] - 64s 232ms/step - loss: 0.4311 - binary_accuracy: 0.8098 - val_loss: 0.3612 - val_binary_accuracy: 0.8553\n",
            "Epoch 39/50\n",
            "274/274 [==============================] - 63s 231ms/step - loss: 0.4288 - binary_accuracy: 0.8112 - val_loss: 0.3594 - val_binary_accuracy: 0.8570\n",
            "Epoch 40/50\n",
            "274/274 [==============================] - 63s 229ms/step - loss: 0.4327 - binary_accuracy: 0.8128 - val_loss: 0.3600 - val_binary_accuracy: 0.8607\n",
            "Epoch 41/50\n",
            "274/274 [==============================] - 64s 235ms/step - loss: 0.4263 - binary_accuracy: 0.8153 - val_loss: 0.3603 - val_binary_accuracy: 0.8591\n",
            "Epoch 42/50\n",
            "274/274 [==============================] - 64s 235ms/step - loss: 0.4334 - binary_accuracy: 0.8118 - val_loss: 0.3615 - val_binary_accuracy: 0.8530\n",
            "Epoch 43/50\n",
            "274/274 [==============================] - 63s 230ms/step - loss: 0.4384 - binary_accuracy: 0.8058 - val_loss: 0.3663 - val_binary_accuracy: 0.8503\n",
            "Epoch 44/50\n",
            "274/274 [==============================] - 63s 230ms/step - loss: 0.4310 - binary_accuracy: 0.8098 - val_loss: 0.3643 - val_binary_accuracy: 0.8655\n",
            "Epoch 45/50\n",
            "274/274 [==============================] - 63s 230ms/step - loss: 0.4308 - binary_accuracy: 0.8087 - val_loss: 0.3674 - val_binary_accuracy: 0.8575\n",
            "Epoch 46/50\n",
            "274/274 [==============================] - 63s 231ms/step - loss: 0.4415 - binary_accuracy: 0.8041 - val_loss: 0.3735 - val_binary_accuracy: 0.8505\n",
            "Epoch 47/50\n",
            "274/274 [==============================] - 63s 230ms/step - loss: 0.4412 - binary_accuracy: 0.8020 - val_loss: 0.3736 - val_binary_accuracy: 0.8481\n",
            "Epoch 48/50\n",
            "274/274 [==============================] - 63s 231ms/step - loss: 0.4366 - binary_accuracy: 0.8063 - val_loss: 0.3611 - val_binary_accuracy: 0.8606\n",
            "Epoch 49/50\n",
            "274/274 [==============================] - 63s 230ms/step - loss: 0.4391 - binary_accuracy: 0.8056 - val_loss: 0.3647 - val_binary_accuracy: 0.8594\n",
            "Epoch 50/50\n",
            "274/274 [==============================] - 63s 230ms/step - loss: 0.4353 - binary_accuracy: 0.8050 - val_loss: 0.3627 - val_binary_accuracy: 0.8637\n"
          ]
        }
      ],
      "source": [
        "history = model.fit(X_train, y_train, batch_size=64, epochs=50, validation_data=(X_test, y_test))"
      ]
    },
    {
      "cell_type": "code",
      "execution_count": 39,
      "metadata": {
        "id": "R7QQeqVidKBR",
        "colab": {
          "base_uri": "https://localhost:8080/"
        },
        "outputId": "915fc9dc-30d9-478c-91da-35ccbc111840"
      },
      "outputs": [
        {
          "output_type": "stream",
          "name": "stdout",
          "text": [
            "235/235 [==============================] - 11s 47ms/step - loss: 0.3627 - binary_accuracy: 0.8637\n"
          ]
        },
        {
          "output_type": "execute_result",
          "data": {
            "text/plain": [
              "[0.3627188503742218, 0.8636788129806519]"
            ]
          },
          "metadata": {},
          "execution_count": 39
        }
      ],
      "source": [
        "model.evaluate(X_test, y_test)"
      ]
    },
    {
      "cell_type": "code",
      "execution_count": 40,
      "metadata": {
        "id": "OHpifyqGdKn-",
        "colab": {
          "base_uri": "https://localhost:8080/"
        },
        "outputId": "a0079158-e8dc-4b54-ced6-bdd9f104e023"
      },
      "outputs": [
        {
          "output_type": "stream",
          "name": "stdout",
          "text": [
            "235/235 [==============================] - 11s 47ms/step\n"
          ]
        }
      ],
      "source": [
        "y_test_prob = model.predict(X_test, verbose=1)"
      ]
    },
    {
      "cell_type": "code",
      "execution_count": 41,
      "metadata": {
        "id": "AfmdrBILdMwj"
      },
      "outputs": [],
      "source": [
        "y_test_pred = np.where(y_test_prob > 0.5, 1, 0)"
      ]
    },
    {
      "cell_type": "code",
      "execution_count": 42,
      "metadata": {
        "id": "8DoJy_p9dPzN"
      },
      "outputs": [],
      "source": [
        "from sklearn.metrics import confusion_matrix"
      ]
    },
    {
      "cell_type": "code",
      "execution_count": 43,
      "metadata": {
        "id": "fTCsPjW8dQaZ",
        "colab": {
          "base_uri": "https://localhost:8080/"
        },
        "outputId": "bc4b3e45-f358-4a70-e52d-94dee0337a8d"
      },
      "outputs": [
        {
          "output_type": "execute_result",
          "data": {
            "text/plain": [
              "array([[3442,  311],\n",
              "       [ 711, 3033]])"
            ]
          },
          "metadata": {},
          "execution_count": 43
        }
      ],
      "source": [
        "confusion_matrix(y_test, y_test_pred)"
      ]
    },
    {
      "cell_type": "code",
      "execution_count": 44,
      "metadata": {
        "id": "te3fslrY9Eca",
        "colab": {
          "base_uri": "https://localhost:8080/",
          "height": 685
        },
        "outputId": "f156e608-d8de-425c-b9f2-fb7163747abd"
      },
      "outputs": [
        {
          "output_type": "stream",
          "name": "stdout",
          "text": [
            "Confusion matrix, without normalization\n",
            "[[3442  311]\n",
            " [ 711 3033]]\n",
            "Normalized confusion matrix\n",
            "[[0.92 0.08]\n",
            " [0.19 0.81]]\n"
          ]
        },
        {
          "output_type": "display_data",
          "data": {
            "text/plain": [
              "<Figure size 432x288 with 2 Axes>"
            ],
            "image/png": "[encoded data removed]"
          },
          "metadata": {
            "needs_background": "light"
          }
        },
        {
          "output_type": "display_data",
          "data": {
            "text/plain": [
              "<Figure size 432x288 with 2 Axes>"
            ],
            "image/png": "[encoded data removed]"
          },
          "metadata": {
            "needs_background": "light"
          }
        }
      ],
      "source": [
        "import numpy as np\n",
        "import matplotlib.pyplot as plt\n",
        "\n",
        "from sklearn import svm, datasets\n",
        "from sklearn.model_selection import train_test_split\n",
        "from sklearn.metrics import confusion_matrix\n",
        "from sklearn.utils.multiclass import unique_labels\n",
        "\n",
        "class_names = np.array(['0', '1'])\n",
        "\n",
        "def plot_confusion_matrix(y_true, y_pred, classes,\n",
        "                          normalize=False,\n",
        "                          title=None,\n",
        "                          cmap=plt.cm.Blues):\n",
        "    \"\"\"\n",
        "    This function prints and plots the confusion matrix.\n",
        "    Normalization can be applied by setting `normalize=True`.\n",
        "    \"\"\"\n",
        "    if not title:\n",
        "        if normalize:\n",
        "            title = 'Normalized confusion matrix'\n",
        "        else:\n",
        "            title = 'Confusion matrix, without normalization'\n",
        "\n",
        "    # Compute confusion matrix\n",
        "    cm = confusion_matrix(y_true, y_pred)\n",
        "    # Only use the labels that appear in the data\n",
        "    classes = classes[unique_labels(y_true, y_pred)]\n",
        "    if normalize:\n",
        "        cm = cm.astype('float') / cm.sum(axis=1)[:, np.newaxis]\n",
        "        print(\"Normalized confusion matrix\")\n",
        "    else:\n",
        "        print('Confusion matrix, without normalization')\n",
        "\n",
        "    print(cm)\n",
        "\n",
        "    fig, ax = plt.subplots()\n",
        "    im = ax.imshow(cm, interpolation='nearest', cmap=cmap)\n",
        "    ax.figure.colorbar(im, ax=ax)\n",
        "    # We want to show all ticks...\n",
        "    ax.set(xticks=np.arange(cm.shape[1]),\n",
        "           yticks=np.arange(cm.shape[0]),\n",
        "           # ... and label them with the respective list entries\n",
        "           xticklabels=classes, yticklabels=classes,\n",
        "           title=title,\n",
        "           ylabel='True label',\n",
        "           xlabel='Predicted label')\n",
        "\n",
        "    # Rotate the tick labels and set their alignment.\n",
        "    plt.setp(ax.get_xticklabels(), rotation=45, ha=\"right\",\n",
        "             rotation_mode=\"anchor\")\n",
        "\n",
        "    # Loop over data dimensions and create text annotations.\n",
        "    fmt = '.2f' if normalize else 'd'\n",
        "    thresh = cm.max() / 2.\n",
        "    for i in range(cm.shape[0]):\n",
        "        for j in range(cm.shape[1]):\n",
        "            ax.text(j, i, format(cm[i, j], fmt),\n",
        "                    ha=\"center\", va=\"center\",\n",
        "                    color=\"white\" if cm[i, j] > thresh else \"black\")\n",
        "    fig.tight_layout()\n",
        "\n",
        "    return ax\n",
        "\n",
        "\n",
        "np.set_printoptions(precision=2)\n",
        "\n",
        "# Plot non-normalized confusion matrix\n",
        "plot_confusion_matrix(y_test, y_test_pred, classes=class_names,\n",
        "                      title='Confusion matrix, without normalization')\n",
        "\n",
        "# Plot normalized confusion matrix\n",
        "plot_confusion_matrix(y_test, y_test_pred, classes=class_names, normalize=True,\n",
        "                      title='Normalized confusion matrix')\n",
        "\n",
        "plt.show()"
      ]
    },
    {
      "cell_type": "code",
      "source": [
        "def plot_learningCurve(history, epoch):\n",
        "  # Plot training & validation accuracy values\n",
        "  epoch_range = range(1, epoch+1)\n",
        "  plt.plot(epoch_range, history.history['binary_accuracy'])\n",
        "  plt.plot(epoch_range, history.history['val_binary_accuracy'])\n",
        "  plt.title('Model accuracy')\n",
        "  plt.ylabel('Accuracy')\n",
        "  plt.xlabel('Epoch')\n",
        "  plt.legend(['Train', 'Val'], loc='upper left')\n",
        "  plt.show()\n",
        "\n",
        "  # Plot training & validation loss values\n",
        "  plt.plot(epoch_range, history.history['loss'])\n",
        "  plt.plot(epoch_range, history.history['val_loss'])\n",
        "  plt.title('Model loss')\n",
        "  plt.ylabel('Loss')\n",
        "  plt.xlabel('Epoch')\n",
        "  plt.legend(['Train', 'Val'], loc='upper left')\n",
        "  plt.show()"
      ],
      "metadata": {
        "id": "fhdLAhgPUnH3"
      },
      "execution_count": 45,
      "outputs": []
    },
    {
      "cell_type": "code",
      "source": [
        "plot_learningCurve(history, 50)"
      ],
      "metadata": {
        "id": "WlkQkWHgU5mL",
        "colab": {
          "base_uri": "https://localhost:8080/",
          "height": 573
        },
        "outputId": "d7032ea4-debd-4507-b4d9-21843d9e936e"
      },
      "execution_count": 46,
      "outputs": [
        {
          "output_type": "display_data",
          "data": {
            "text/plain": [
              "<Figure size 432x288 with 1 Axes>"
            ],
            "image/png": "[encoded data removed]"
          },
          "metadata": {
            "needs_background": "light"
          }
        },
        {
          "output_type": "display_data",
          "data": {
            "text/plain": [
              "<Figure size 432x288 with 1 Axes>"
            ],
            "image/png": "[encoded data removed]"
          },
          "metadata": {
            "needs_background": "light"
          }
        }
      ]
    }
  ],
  "metadata": {
    "colab": {
      "collapsed_sections": [
        "f857kfHqUk0-"
      ],
      "name": "MD LSTM step 10.ipynb",
      "provenance": [],
      "authorship_tag": "ABX9TyMqsY6aVmsDo8WFOWOTSlX1",
      "include_colab_link": true
    },
    "kernelspec": {
      "display_name": "Python 3",
      "name": "python3"
    },
    "language_info": {
      "name": "python"
    }
  },
  "nbformat": 4,
  "nbformat_minor": 0
}
