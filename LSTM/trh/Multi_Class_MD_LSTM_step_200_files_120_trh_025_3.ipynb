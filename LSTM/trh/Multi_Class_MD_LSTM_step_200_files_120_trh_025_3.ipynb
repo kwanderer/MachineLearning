{
  "cells": [
    {
      "cell_type": "markdown",
      "metadata": {
        "id": "view-in-github",
        "colab_type": "text"
      },
      "source": [
        "<a href=\"https://colab.research.google.com/github/kwanderer/MachineLearning/blob/main/Multi_Class_MD_LSTM_step_200_files_120_trh_025_3.ipynb\" target=\"_parent\"><img src=\"https://colab.research.google.com/assets/colab-badge.svg\" alt=\"Open In Colab\"/></a>"
      ]
    },
    {
      "cell_type": "markdown",
      "metadata": {
        "id": "f857kfHqUk0-"
      },
      "source": [
        "\n",
        "\n",
        "#Datu kopa"
      ]
    },
    {
      "cell_type": "markdown",
      "metadata": {
        "id": "nM9WE3QGUwVi"
      },
      "source": [
        "Datu kopas avots: https://www.kaggle.com/uysalserkan/fault-induction-motor-dataset"
      ]
    },
    {
      "cell_type": "markdown",
      "metadata": {
        "id": "_sN_h3qHHy6r"
      },
      "source": [
        "Darbā tiek izmantota indukcijas motora parametru datu bāze. Izmantotajā datu kopā ir dati, kas tika iegūti SpectraQuest aparatūras kļūdu simulatorā (Machinery Fault Simulator).\n",
        "\n",
        "Katra mērījumu secība tika ģenerēta ar frekvenci 50 kHz 5 sekunžu laikā, kopā 250 000 mērījumi.\n",
        "\n",
        "Dati ir apkopoti vairākos failos, dažādos darbības stāvokļos un to apjoms ir ļoti liels. Šajā darbā tika izmantota daļa(viena mērījumu secība) no motora normālas darbības datiem.\n"
      ]
    },
    {
      "cell_type": "markdown",
      "metadata": {
        "id": "KtFAOaHYHLPo"
      },
      "source": [
        "Dati ir apkopoti tabulā, kura satur 8 parametrus. Dati ir iedalīti sekojošās kolonas:\n",
        "\n",
        "**tachometer** – tahometra signāls, kas ļauj novērtēt rotācijas frekvenci\n",
        "\n",
        "**und-accelerometer-axial** - apakšā esošā gultņa akselerometrs (aksiālais virziens)\n",
        "\n",
        "**und-accelerometer-radial** – apakšā esošā gultņa akselerometrs (radiālais virziens)\n",
        "\n",
        "**und-accelerometer-tangential** - apakšā esošā gultņa akselerometrs (tangenciālais virziens)\n",
        "\n",
        "**over-accelerometer-axial** - pārkares gultņa akselerometrs (aksiālais virziens)\n",
        "\n",
        "**over-accelerometer-radial** – pārkares gultņa akselerometrs (radiālais  virziens)\n",
        "\n",
        "**over-accelerometer-tangential**  - pārkares gultņa akselerometrs (tangenciālais virziens)\n",
        "\n",
        "**microphone** – mikrofona vērtība\n"
      ]
    },
    {
      "cell_type": "markdown",
      "metadata": {
        "id": "XymoNLKMVFUC"
      },
      "source": [
        "#Datu ielasīšana un satura vizualizācija"
      ]
    },
    {
      "cell_type": "code",
      "execution_count": 1,
      "metadata": {
        "id": "_yqYZDeOFq5s"
      },
      "outputs": [],
      "source": [
        "import keras\n",
        "from keras.layers import LSTM, Dropout, Dense\n",
        "import tensorflow as tf\n",
        "import numpy as np\n",
        "import pandas as pd\n",
        "\n",
        "from sklearn import linear_model  #pip install sklearn - loti plasa masinapmacibas biblioteka\n",
        "from sklearn.linear_model import LinearRegression  \n",
        "import csv          #pip install csv - darbam ar CSV datu kopam\n",
        "import requests     #pip install requests  - vienkarsakam darbam ar tiessaistes CSV datu kopam tiessaistes\n",
        "\n",
        "import matplotlib\n",
        "import matplotlib.pyplot as plt\n",
        "\n",
        "import glob\n"
      ]
    },
    {
      "cell_type": "code",
      "execution_count": 2,
      "metadata": {
        "id": "wlRTBbM2eUcV",
        "colab": {
          "base_uri": "https://localhost:8080/"
        },
        "outputId": "94a7411a-cc0c-4e63-b41b-0081ada697ad"
      },
      "outputs": [
        {
          "output_type": "stream",
          "name": "stdout",
          "text": [
            "Mounted at /content/gdrive\n"
          ]
        }
      ],
      "source": [
        "from google.colab import drive\n",
        "import os\n",
        "drive.mount('/content/gdrive')\n",
        "os.chdir(\"/content/gdrive/MyDrive/Colab Notebooks/data_multiclass/\")"
      ]
    },
    {
      "cell_type": "code",
      "execution_count": 3,
      "metadata": {
        "id": "zzz6fBl_SNom"
      },
      "outputs": [],
      "source": [
        "#extension = 'csv'\n",
        "#all_filenames = [i for i in glob.glob('*.{}'.format(extension))]"
      ]
    },
    {
      "cell_type": "code",
      "execution_count": 4,
      "metadata": {
        "id": "vagKFCkToBi0"
      },
      "outputs": [],
      "source": [
        "#combine all files in the list\n",
        "#combined_csv = pd.concat([pd.read_csv(f) for f in all_filenames ])\n",
        "#export to csv\n",
        "#combined_csv.to_csv( \"combined_multiclass_csv.csv\", index=False, encoding='utf-8-sig')"
      ]
    },
    {
      "cell_type": "code",
      "execution_count": 5,
      "metadata": {
        "id": "encEkbDhSfGI"
      },
      "outputs": [],
      "source": [
        "data = pd.read_csv(\"combined_multiclass_csv.csv\")"
      ]
    },
    {
      "cell_type": "code",
      "execution_count": 6,
      "metadata": {
        "id": "yz5Qe8ZWk1Zq",
        "colab": {
          "base_uri": "https://localhost:8080/"
        },
        "outputId": "3abbce39-c62c-475f-c7dc-dde396073384"
      },
      "outputs": [
        {
          "output_type": "stream",
          "name": "stdout",
          "text": [
            "<class 'pandas.core.frame.DataFrame'>\n",
            "RangeIndex: 30000000 entries, 0 to 29999999\n",
            "Data columns (total 9 columns):\n",
            " #   Column                         Dtype  \n",
            "---  ------                         -----  \n",
            " 0   tachometer                     float64\n",
            " 1   und-accelerometer-axial        float64\n",
            " 2   und-accelerometer-radial       float64\n",
            " 3   und-accelerometer-tangential   float64\n",
            " 4   over-accelerometer-axial       float64\n",
            " 5   over-accelerometer-radial      float64\n",
            " 6   over-accelerometer-tangential  float64\n",
            " 7   microphone                     float64\n",
            " 8   Class                          int64  \n",
            "dtypes: float64(8), int64(1)\n",
            "memory usage: 2.0 GB\n"
          ]
        }
      ],
      "source": [
        "data.info()"
      ]
    },
    {
      "cell_type": "code",
      "execution_count": 7,
      "metadata": {
        "id": "WUW9ezX6a_st",
        "colab": {
          "base_uri": "https://localhost:8080/"
        },
        "outputId": "9adf5c4b-f0d7-4d1b-8b18-0961e64fc3d3"
      },
      "outputs": [
        {
          "output_type": "execute_result",
          "data": {
            "text/plain": [
              "30000000"
            ]
          },
          "metadata": {},
          "execution_count": 7
        }
      ],
      "source": [
        "rec_count = len(data)\n",
        "rec_count"
      ]
    },
    {
      "cell_type": "markdown",
      "metadata": {
        "id": "6RVC1PZy88fC"
      },
      "source": [
        "# Datu dalīšana mazākos gabalos"
      ]
    },
    {
      "cell_type": "code",
      "execution_count": 8,
      "metadata": {
        "id": "DOvnCYkcbGaE"
      },
      "outputs": [],
      "source": [
        "sequence_length = 200"
      ]
    },
    {
      "cell_type": "code",
      "execution_count": 9,
      "metadata": {
        "id": "RG0o2L3zbTEx"
      },
      "outputs": [],
      "source": [
        "def generate_data(X, y, sequence_length = 200, step = 200):\n",
        "    X_local = []\n",
        "    y_local = []\n",
        "    for start in range(0, len(data) - sequence_length, step):\n",
        "        end = start + sequence_length\n",
        "        X_local.append(X[start:end])\n",
        "        y_local.append(y[end-1])\n",
        "    return np.array(X_local), np.array(y_local)\n",
        "\n",
        "X_sequence, y = generate_data(data.loc[:, \"tachometer\":\"microphone\"].values, data.Class)"
      ]
    },
    {
      "cell_type": "code",
      "execution_count": 10,
      "metadata": {
        "id": "s0QxwK66cLVF",
        "colab": {
          "base_uri": "https://localhost:8080/"
        },
        "outputId": "719a89ea-3a62-4710-81a9-2da814d70e56"
      },
      "outputs": [
        {
          "output_type": "execute_result",
          "data": {
            "text/plain": [
              "((149999, 200, 8), (149999,))"
            ]
          },
          "metadata": {},
          "execution_count": 10
        }
      ],
      "source": [
        "X_sequence.shape, y.shape"
      ]
    },
    {
      "cell_type": "code",
      "source": [
        "unique, counts = np.unique(y, return_counts=True)"
      ],
      "metadata": {
        "id": "l8Lq455lV1JR"
      },
      "execution_count": 11,
      "outputs": []
    },
    {
      "cell_type": "code",
      "source": [
        "unique"
      ],
      "metadata": {
        "id": "t0BRO3nAWQxe",
        "colab": {
          "base_uri": "https://localhost:8080/"
        },
        "outputId": "4144fdce-69a1-48b5-cb7f-b527160a309e"
      },
      "execution_count": 12,
      "outputs": [
        {
          "output_type": "execute_result",
          "data": {
            "text/plain": [
              "array([0, 1, 2, 3, 4, 5, 6, 7])"
            ]
          },
          "metadata": {},
          "execution_count": 12
        }
      ]
    },
    {
      "cell_type": "code",
      "source": [
        "counts"
      ],
      "metadata": {
        "id": "WWZ7QWR4WS_r",
        "colab": {
          "base_uri": "https://localhost:8080/"
        },
        "outputId": "a34a10e3-fb05-45b0-b40a-0678ca4203f4"
      },
      "execution_count": 13,
      "outputs": [
        {
          "output_type": "execute_result",
          "data": {
            "text/plain": [
              "array([18749, 18750, 18750, 18750, 18750, 18750, 18750, 18750])"
            ]
          },
          "metadata": {},
          "execution_count": 13
        }
      ]
    },
    {
      "cell_type": "code",
      "execution_count": 14,
      "metadata": {
        "id": "i7R1oo6Mj8wx"
      },
      "outputs": [],
      "source": [
        "data = 0"
      ]
    },
    {
      "cell_type": "code",
      "source": [
        "from sklearn.preprocessing import OneHotEncoder"
      ],
      "metadata": {
        "id": "lAk_JscRWmqY"
      },
      "execution_count": 15,
      "outputs": []
    },
    {
      "cell_type": "code",
      "source": [
        "label_encoder = OneHotEncoder(sparse=False)\n",
        "label_encoder.fit(y.reshape(-1,1))"
      ],
      "metadata": {
        "id": "14B9aYy0W0y6",
        "colab": {
          "base_uri": "https://localhost:8080/"
        },
        "outputId": "7198e1f9-12a8-4f9c-fd7a-ee59adab5c65"
      },
      "execution_count": 16,
      "outputs": [
        {
          "output_type": "execute_result",
          "data": {
            "text/plain": [
              "OneHotEncoder(sparse=False)"
            ]
          },
          "metadata": {},
          "execution_count": 16
        }
      ]
    },
    {
      "cell_type": "code",
      "source": [
        "y_encoded = label_encoder.transform(y.reshape(-1,1))"
      ],
      "metadata": {
        "id": "VjpWn96xXgPS"
      },
      "execution_count": 17,
      "outputs": []
    },
    {
      "cell_type": "code",
      "source": [
        "y_encoded[0:5]"
      ],
      "metadata": {
        "id": "VL6KMFo9XpBi",
        "colab": {
          "base_uri": "https://localhost:8080/"
        },
        "outputId": "2612f923-b6ed-4898-c351-9387c3fc6440"
      },
      "execution_count": 18,
      "outputs": [
        {
          "output_type": "execute_result",
          "data": {
            "text/plain": [
              "array([[0., 0., 0., 0., 0., 0., 0., 1.],\n",
              "       [0., 0., 0., 0., 0., 0., 0., 1.],\n",
              "       [0., 0., 0., 0., 0., 0., 0., 1.],\n",
              "       [0., 0., 0., 0., 0., 0., 0., 1.],\n",
              "       [0., 0., 0., 0., 0., 0., 0., 1.]])"
            ]
          },
          "metadata": {},
          "execution_count": 18
        }
      ]
    },
    {
      "cell_type": "code",
      "source": [
        "y=y_encoded"
      ],
      "metadata": {
        "id": "5c8km253YKBl"
      },
      "execution_count": 19,
      "outputs": []
    },
    {
      "cell_type": "markdown",
      "metadata": {
        "id": "5BXSDoHa9UX_"
      },
      "source": [
        "# Random/Shuffle"
      ]
    },
    {
      "cell_type": "code",
      "execution_count": 20,
      "metadata": {
        "id": "ZcfE9idy-ckb"
      },
      "outputs": [],
      "source": [
        "shuffler = np.random.permutation(len(X_sequence))\n",
        "X_sequence_shuffled = X_sequence[shuffler]\n",
        "y_shuffled = y[shuffler]"
      ]
    },
    {
      "cell_type": "markdown",
      "metadata": {
        "id": "TfhRTTNcE2s8"
      },
      "source": [
        "# LSTM"
      ]
    },
    {
      "cell_type": "code",
      "execution_count": 21,
      "metadata": {
        "id": "ihrXMuVAEwlY"
      },
      "outputs": [],
      "source": [
        "import pandas as pd\n",
        "import sklearn.metrics as metrique\n",
        "from pandas import Series\n",
        "from sklearn.preprocessing import StandardScaler, MinMaxScaler\n",
        "from matplotlib import pyplot\n",
        "from sklearn.model_selection import train_test_split\n",
        "import numpy as np\n",
        "import tensorflow as tf\n",
        "import sys\n",
        "import numpy as np\n",
        "import pandas as pd\n",
        "import tensorflow as tf\n",
        "import matplotlib.pyplot as plt\n",
        "from sklearn.model_selection import train_test_split\n",
        "from sklearn import preprocessing\n",
        "from sklearn.preprocessing import StandardScaler\n",
        "from sklearn.metrics import classification_report\n",
        "import warnings\n",
        "warnings.filterwarnings('ignore')\n",
        "plt.style.use('ggplot')\n",
        "import seaborn as sns \n",
        "%matplotlib inline\n",
        "from keras.callbacks import EarlyStopping\n",
        "from keras.callbacks import ModelCheckpoint\n",
        "from sklearn.metrics import accuracy_score\n",
        "from sklearn.metrics import classification_report, confusion_matrix\n",
        "from keras.models import Sequential\n",
        "from keras.utils import np_utils\n",
        "from keras.layers import LSTM, Dense, Embedding, Dropout,Input, Layer, Concatenate, Permute, Dot, Multiply, Flatten\n",
        "from keras.layers import RepeatVector, Dense, Activation, Lambda\n",
        "from keras.models import Sequential\n",
        "from keras import backend as K, regularizers, Model, metrics\n",
        "from keras.backend import cast"
      ]
    },
    {
      "cell_type": "code",
      "execution_count": 22,
      "metadata": {
        "id": "PjKWKiA6aH3z"
      },
      "outputs": [],
      "source": [
        "#from tensorflow.keras import optimizers\n",
        "#sgd = optimizers.SGD(lr=0.0001, decay=1e-6, momentum=0.9, nesterov=True)\n",
        "#model = keras.Sequential()\n",
        "#model.add(LSTM(100, input_shape = (200, 8)))\n",
        "#model.add(Dropout(0.5))\n",
        "#model.add(Dense(1, activation=\"softmax\"))\n",
        "\n",
        "\n",
        "#model.compile(loss=\"categorical_crossentropy\"\n",
        "#              , metrics=[keras.metrics.binary_accuracy]\n",
        "#              , optimizer='sgd')\n",
        "\n",
        "#model.summary()"
      ]
    },
    {
      "cell_type": "code",
      "execution_count": 23,
      "metadata": {
        "id": "_2SaVmwSWJVB",
        "colab": {
          "base_uri": "https://localhost:8080/"
        },
        "outputId": "ad7d5fe9-b3ca-4ddb-93ed-2a20d8136b1d"
      },
      "outputs": [
        {
          "output_type": "stream",
          "name": "stdout",
          "text": [
            "Model: \"sequential\"\n",
            "_________________________________________________________________\n",
            " Layer (type)                Output Shape              Param #   \n",
            "=================================================================\n",
            " lstm (LSTM)                 (None, 100)               43600     \n",
            "                                                                 \n",
            " dropout (Dropout)           (None, 100)               0         \n",
            "                                                                 \n",
            " dense (Dense)               (None, 8)                 808       \n",
            "                                                                 \n",
            "=================================================================\n",
            "Total params: 44,408\n",
            "Trainable params: 44,408\n",
            "Non-trainable params: 0\n",
            "_________________________________________________________________\n"
          ]
        }
      ],
      "source": [
        "from tensorflow.keras import optimizers\n",
        "#sgd = optimizers.SGD(lr=0.0001, decay=1e-6, momentum=0.9, nesterov=True)\n",
        "optimizer = tf.keras.optimizers.Adam(lr=0.0001)\n",
        "model = keras.Sequential()\n",
        "model.add(LSTM(100, input_shape = (200, 8)))\n",
        "model.add(Dropout(0.5))#0.25\n",
        "model.add(Dense(8, activation=\"softmax\"))\n",
        "\n",
        "#model.compile(loss='mean_squared_error', optimizer=sgd)\n",
        "model.compile(loss=\"categorical_crossentropy\"\n",
        "              , metrics=['accuracy']\n",
        "              , optimizer=optimizer)\n",
        "\n",
        "model.summary()"
      ]
    },
    {
      "cell_type": "code",
      "execution_count": 24,
      "metadata": {
        "id": "tg8wrqsqc8UX"
      },
      "outputs": [],
      "source": [
        "training_size = int(len(X_sequence) * 0.8)\n",
        "val_size = int(len(X_sequence) * 0.9)"
      ]
    },
    {
      "cell_type": "code",
      "execution_count": 25,
      "metadata": {
        "id": "avIp3TEKc-qF"
      },
      "outputs": [],
      "source": [
        "X_train, y_train = X_sequence_shuffled[:training_size], y_shuffled[:training_size]\n",
        "X_val, y_val = X_sequence_shuffled[training_size:val_size], y_shuffled[training_size:val_size]\n",
        "X_test, y_test = X_sequence_shuffled[val_size:], y_shuffled[val_size:]"
      ]
    },
    {
      "cell_type": "code",
      "execution_count": 26,
      "metadata": {
        "id": "RABc_uKzkBUT"
      },
      "outputs": [],
      "source": [
        "#X_sequence = 0\n",
        "#y = 0"
      ]
    },
    {
      "cell_type": "code",
      "source": [
        "X_train.shape"
      ],
      "metadata": {
        "id": "Omv-ht1dhGxL",
        "colab": {
          "base_uri": "https://localhost:8080/"
        },
        "outputId": "1346f734-2b10-4528-d2f2-00f9f387ed87"
      },
      "execution_count": 27,
      "outputs": [
        {
          "output_type": "execute_result",
          "data": {
            "text/plain": [
              "(119999, 200, 8)"
            ]
          },
          "metadata": {},
          "execution_count": 27
        }
      ]
    },
    {
      "cell_type": "code",
      "execution_count": 28,
      "metadata": {
        "id": "8aIhPJ-wLCwZ",
        "colab": {
          "base_uri": "https://localhost:8080/"
        },
        "outputId": "546e3b4f-9ab2-4d64-f0af-b68a482e544f"
      },
      "outputs": [
        {
          "output_type": "execute_result",
          "data": {
            "text/plain": [
              "array([[0., 0., 0., 0., 1., 0., 0., 0.],\n",
              "       [0., 1., 0., 0., 0., 0., 0., 0.],\n",
              "       [0., 0., 0., 0., 0., 0., 1., 0.],\n",
              "       [0., 0., 0., 0., 0., 0., 1., 0.],\n",
              "       [0., 0., 0., 0., 0., 0., 1., 0.],\n",
              "       [0., 0., 0., 0., 1., 0., 0., 0.],\n",
              "       [0., 1., 0., 0., 0., 0., 0., 0.],\n",
              "       [0., 1., 0., 0., 0., 0., 0., 0.],\n",
              "       [0., 0., 0., 1., 0., 0., 0., 0.],\n",
              "       [1., 0., 0., 0., 0., 0., 0., 0.]])"
            ]
          },
          "metadata": {},
          "execution_count": 28
        }
      ],
      "source": [
        "y_train[:10]"
      ]
    },
    {
      "cell_type": "code",
      "execution_count": 29,
      "metadata": {
        "id": "cen4faX0dFJP",
        "colab": {
          "base_uri": "https://localhost:8080/"
        },
        "outputId": "24fcc861-1936-4771-dfe4-9ca6ec0e251c"
      },
      "outputs": [
        {
          "output_type": "stream",
          "name": "stdout",
          "text": [
            "Epoch 1/100\n",
            "1875/1875 [==============================] - 77s 38ms/step - loss: 1.7831 - accuracy: 0.2354 - val_loss: 1.6284 - val_accuracy: 0.3053\n",
            "Epoch 2/100\n",
            "1875/1875 [==============================] - 67s 36ms/step - loss: 1.5950 - accuracy: 0.3220 - val_loss: 1.5262 - val_accuracy: 0.3717\n",
            "Epoch 3/100\n",
            "1875/1875 [==============================] - 68s 36ms/step - loss: 1.5371 - accuracy: 0.3629 - val_loss: 1.4672 - val_accuracy: 0.4077\n",
            "Epoch 4/100\n",
            "1875/1875 [==============================] - 65s 34ms/step - loss: 1.4644 - accuracy: 0.3966 - val_loss: 1.3993 - val_accuracy: 0.4336\n",
            "Epoch 5/100\n",
            "1875/1875 [==============================] - 69s 37ms/step - loss: 1.4225 - accuracy: 0.4174 - val_loss: 1.4103 - val_accuracy: 0.4217\n",
            "Epoch 6/100\n",
            "1875/1875 [==============================] - 66s 35ms/step - loss: 1.3988 - accuracy: 0.4299 - val_loss: 1.3661 - val_accuracy: 0.4505\n",
            "Epoch 7/100\n",
            "1875/1875 [==============================] - 68s 36ms/step - loss: 1.3909 - accuracy: 0.4382 - val_loss: 1.3248 - val_accuracy: 0.4733\n",
            "Epoch 8/100\n",
            "1875/1875 [==============================] - 69s 37ms/step - loss: 1.4015 - accuracy: 0.4323 - val_loss: 1.3607 - val_accuracy: 0.4437\n",
            "Epoch 9/100\n",
            "1875/1875 [==============================] - 69s 37ms/step - loss: 1.3593 - accuracy: 0.4431 - val_loss: 1.3075 - val_accuracy: 0.4763\n",
            "Epoch 10/100\n",
            "1875/1875 [==============================] - 69s 37ms/step - loss: 1.3355 - accuracy: 0.4566 - val_loss: 1.3116 - val_accuracy: 0.4708\n",
            "Epoch 11/100\n",
            "1875/1875 [==============================] - 68s 36ms/step - loss: 1.4033 - accuracy: 0.4291 - val_loss: 1.3643 - val_accuracy: 0.4365\n",
            "Epoch 12/100\n",
            "1875/1875 [==============================] - 65s 35ms/step - loss: 1.3491 - accuracy: 0.4454 - val_loss: 1.3069 - val_accuracy: 0.4609\n",
            "Epoch 13/100\n",
            "1875/1875 [==============================] - 64s 34ms/step - loss: 1.3009 - accuracy: 0.4687 - val_loss: 1.2609 - val_accuracy: 0.4944\n",
            "Epoch 14/100\n",
            "1875/1875 [==============================] - 64s 34ms/step - loss: 1.3869 - accuracy: 0.4593 - val_loss: 1.4369 - val_accuracy: 0.4456\n",
            "Epoch 15/100\n",
            "1875/1875 [==============================] - 64s 34ms/step - loss: 1.3264 - accuracy: 0.4634 - val_loss: 1.3582 - val_accuracy: 0.4487\n",
            "Epoch 16/100\n",
            "1875/1875 [==============================] - 65s 35ms/step - loss: 1.3001 - accuracy: 0.4719 - val_loss: 1.2359 - val_accuracy: 0.5045\n",
            "Epoch 17/100\n",
            "1875/1875 [==============================] - 66s 35ms/step - loss: 1.3837 - accuracy: 0.4471 - val_loss: 1.2868 - val_accuracy: 0.4682\n",
            "Epoch 18/100\n",
            "1875/1875 [==============================] - 64s 34ms/step - loss: 1.2780 - accuracy: 0.4778 - val_loss: 1.2377 - val_accuracy: 0.4917\n",
            "Epoch 19/100\n",
            "1875/1875 [==============================] - 67s 36ms/step - loss: 1.2538 - accuracy: 0.4869 - val_loss: 1.2526 - val_accuracy: 0.4808\n",
            "Epoch 20/100\n",
            "1875/1875 [==============================] - 69s 37ms/step - loss: 1.2526 - accuracy: 0.4908 - val_loss: 1.2009 - val_accuracy: 0.5073\n",
            "Epoch 21/100\n",
            "1875/1875 [==============================] - 70s 37ms/step - loss: 1.2418 - accuracy: 0.4945 - val_loss: 1.2549 - val_accuracy: 0.4813\n",
            "Epoch 22/100\n",
            "1875/1875 [==============================] - 67s 36ms/step - loss: 1.2531 - accuracy: 0.4901 - val_loss: 1.2023 - val_accuracy: 0.5070\n",
            "Epoch 23/100\n",
            "1875/1875 [==============================] - 67s 36ms/step - loss: 1.2545 - accuracy: 0.4974 - val_loss: 1.1778 - val_accuracy: 0.5167\n",
            "Epoch 24/100\n",
            "1875/1875 [==============================] - 64s 34ms/step - loss: 1.2821 - accuracy: 0.4868 - val_loss: 1.1999 - val_accuracy: 0.5145\n",
            "Epoch 25/100\n",
            "1875/1875 [==============================] - 64s 34ms/step - loss: 1.1978 - accuracy: 0.5117 - val_loss: 1.1638 - val_accuracy: 0.5272\n",
            "Epoch 26/100\n",
            "1875/1875 [==============================] - 66s 35ms/step - loss: 1.2015 - accuracy: 0.5124 - val_loss: 1.1594 - val_accuracy: 0.5246\n",
            "Epoch 27/100\n",
            "1875/1875 [==============================] - 63s 34ms/step - loss: 1.2252 - accuracy: 0.5046 - val_loss: 1.1811 - val_accuracy: 0.5109\n",
            "Epoch 28/100\n",
            "1875/1875 [==============================] - 64s 34ms/step - loss: 1.1747 - accuracy: 0.5192 - val_loss: 1.1398 - val_accuracy: 0.5321\n",
            "Epoch 29/100\n",
            "1875/1875 [==============================] - 64s 34ms/step - loss: 1.1656 - accuracy: 0.5230 - val_loss: 1.1535 - val_accuracy: 0.5286\n",
            "Epoch 30/100\n",
            "1875/1875 [==============================] - 64s 34ms/step - loss: 1.1479 - accuracy: 0.5275 - val_loss: 1.1334 - val_accuracy: 0.5351\n",
            "Epoch 31/100\n",
            "1875/1875 [==============================] - 66s 35ms/step - loss: 1.1444 - accuracy: 0.5297 - val_loss: 1.1073 - val_accuracy: 0.5403\n",
            "Epoch 32/100\n",
            "1875/1875 [==============================] - 64s 34ms/step - loss: 1.1672 - accuracy: 0.5211 - val_loss: 1.1099 - val_accuracy: 0.5399\n",
            "Epoch 33/100\n",
            "1875/1875 [==============================] - 66s 35ms/step - loss: 1.1844 - accuracy: 0.5085 - val_loss: 1.1210 - val_accuracy: 0.5347\n",
            "Epoch 34/100\n",
            "1875/1875 [==============================] - 65s 35ms/step - loss: 1.1223 - accuracy: 0.5365 - val_loss: 1.0702 - val_accuracy: 0.5545\n",
            "Epoch 35/100\n",
            "1875/1875 [==============================] - 64s 34ms/step - loss: 1.0961 - accuracy: 0.5452 - val_loss: 1.1092 - val_accuracy: 0.5433\n",
            "Epoch 36/100\n",
            "1875/1875 [==============================] - 67s 36ms/step - loss: 1.0900 - accuracy: 0.5482 - val_loss: 1.0598 - val_accuracy: 0.5577\n",
            "Epoch 37/100\n",
            "1875/1875 [==============================] - 66s 35ms/step - loss: 1.1012 - accuracy: 0.5455 - val_loss: 1.1054 - val_accuracy: 0.5375\n",
            "Epoch 38/100\n",
            "1875/1875 [==============================] - 66s 35ms/step - loss: 1.0678 - accuracy: 0.5557 - val_loss: 1.1783 - val_accuracy: 0.5203\n",
            "Epoch 39/100\n",
            "1875/1875 [==============================] - 66s 35ms/step - loss: 1.0828 - accuracy: 0.5525 - val_loss: 1.0172 - val_accuracy: 0.5761\n",
            "Epoch 40/100\n",
            "1875/1875 [==============================] - 65s 35ms/step - loss: 1.0414 - accuracy: 0.5650 - val_loss: 1.0028 - val_accuracy: 0.5778\n",
            "Epoch 41/100\n",
            "1875/1875 [==============================] - 66s 35ms/step - loss: 1.0331 - accuracy: 0.5683 - val_loss: 1.0028 - val_accuracy: 0.5827\n",
            "Epoch 42/100\n",
            "1875/1875 [==============================] - 66s 35ms/step - loss: 1.0257 - accuracy: 0.5718 - val_loss: 0.9874 - val_accuracy: 0.5823\n",
            "Epoch 43/100\n",
            "1875/1875 [==============================] - 69s 37ms/step - loss: 1.0109 - accuracy: 0.5754 - val_loss: 0.9670 - val_accuracy: 0.5917\n",
            "Epoch 44/100\n",
            "1875/1875 [==============================] - 69s 37ms/step - loss: 1.0052 - accuracy: 0.5797 - val_loss: 0.9712 - val_accuracy: 0.5902\n",
            "Epoch 45/100\n",
            "1875/1875 [==============================] - 67s 36ms/step - loss: 1.0029 - accuracy: 0.5811 - val_loss: 0.9466 - val_accuracy: 0.5999\n",
            "Epoch 46/100\n",
            "1875/1875 [==============================] - 66s 35ms/step - loss: 0.9904 - accuracy: 0.5852 - val_loss: 0.9499 - val_accuracy: 0.5971\n",
            "Epoch 47/100\n",
            "1875/1875 [==============================] - 67s 35ms/step - loss: 0.9740 - accuracy: 0.5904 - val_loss: 0.9441 - val_accuracy: 0.6031\n",
            "Epoch 48/100\n",
            "1875/1875 [==============================] - 68s 36ms/step - loss: 0.9694 - accuracy: 0.5927 - val_loss: 0.9184 - val_accuracy: 0.6112\n",
            "Epoch 49/100\n",
            "1875/1875 [==============================] - 68s 36ms/step - loss: 0.9627 - accuracy: 0.5944 - val_loss: 0.9255 - val_accuracy: 0.6061\n",
            "Epoch 50/100\n",
            "1875/1875 [==============================] - 68s 36ms/step - loss: 0.9478 - accuracy: 0.5991 - val_loss: 0.9606 - val_accuracy: 0.6005\n",
            "Epoch 51/100\n",
            "1875/1875 [==============================] - 67s 36ms/step - loss: 0.9496 - accuracy: 0.5985 - val_loss: 0.9138 - val_accuracy: 0.6125\n",
            "Epoch 52/100\n",
            "1875/1875 [==============================] - 66s 35ms/step - loss: 0.9524 - accuracy: 0.5990 - val_loss: 0.9026 - val_accuracy: 0.6184\n",
            "Epoch 53/100\n",
            "1875/1875 [==============================] - 70s 37ms/step - loss: 0.9312 - accuracy: 0.6072 - val_loss: 0.9046 - val_accuracy: 0.6169\n",
            "Epoch 54/100\n",
            "1875/1875 [==============================] - 65s 35ms/step - loss: 0.9268 - accuracy: 0.6095 - val_loss: 0.8774 - val_accuracy: 0.6309\n",
            "Epoch 55/100\n",
            "1875/1875 [==============================] - 65s 35ms/step - loss: 0.9202 - accuracy: 0.6134 - val_loss: 0.8964 - val_accuracy: 0.6204\n",
            "Epoch 56/100\n",
            "1875/1875 [==============================] - 66s 35ms/step - loss: 0.9111 - accuracy: 0.6159 - val_loss: 0.8840 - val_accuracy: 0.6287\n",
            "Epoch 57/100\n",
            "1875/1875 [==============================] - 66s 35ms/step - loss: 0.9167 - accuracy: 0.6128 - val_loss: 0.8846 - val_accuracy: 0.6321\n",
            "Epoch 58/100\n",
            "1875/1875 [==============================] - 65s 35ms/step - loss: 0.9000 - accuracy: 0.6199 - val_loss: 0.8624 - val_accuracy: 0.6339\n",
            "Epoch 59/100\n",
            "1875/1875 [==============================] - 65s 35ms/step - loss: 0.9063 - accuracy: 0.6201 - val_loss: 0.8761 - val_accuracy: 0.6334\n",
            "Epoch 60/100\n",
            "1875/1875 [==============================] - 66s 35ms/step - loss: 0.8914 - accuracy: 0.6247 - val_loss: 0.8600 - val_accuracy: 0.6333\n",
            "Epoch 61/100\n",
            "1875/1875 [==============================] - 65s 34ms/step - loss: 0.8860 - accuracy: 0.6275 - val_loss: 0.8521 - val_accuracy: 0.6405\n",
            "Epoch 62/100\n",
            "1875/1875 [==============================] - 67s 36ms/step - loss: 0.8822 - accuracy: 0.6274 - val_loss: 0.8953 - val_accuracy: 0.6231\n",
            "Epoch 63/100\n",
            "1875/1875 [==============================] - 66s 35ms/step - loss: 0.8728 - accuracy: 0.6312 - val_loss: 0.8449 - val_accuracy: 0.6480\n",
            "Epoch 64/100\n",
            "1875/1875 [==============================] - 66s 35ms/step - loss: 0.8641 - accuracy: 0.6337 - val_loss: 0.8449 - val_accuracy: 0.6391\n",
            "Epoch 65/100\n",
            "1875/1875 [==============================] - 68s 36ms/step - loss: 0.8680 - accuracy: 0.6349 - val_loss: 0.8498 - val_accuracy: 0.6469\n",
            "Epoch 66/100\n",
            "1875/1875 [==============================] - 66s 35ms/step - loss: 0.8588 - accuracy: 0.6365 - val_loss: 0.8146 - val_accuracy: 0.6539\n",
            "Epoch 67/100\n",
            "1875/1875 [==============================] - 65s 35ms/step - loss: 0.8640 - accuracy: 0.6352 - val_loss: 0.8286 - val_accuracy: 0.6485\n",
            "Epoch 68/100\n",
            "1875/1875 [==============================] - 67s 36ms/step - loss: 0.8455 - accuracy: 0.6430 - val_loss: 0.8280 - val_accuracy: 0.6446\n",
            "Epoch 69/100\n",
            "1875/1875 [==============================] - 66s 35ms/step - loss: 0.8419 - accuracy: 0.6458 - val_loss: 0.8091 - val_accuracy: 0.6576\n",
            "Epoch 70/100\n",
            "1875/1875 [==============================] - 64s 34ms/step - loss: 0.8395 - accuracy: 0.6454 - val_loss: 0.7955 - val_accuracy: 0.6627\n",
            "Epoch 71/100\n",
            "1875/1875 [==============================] - 67s 36ms/step - loss: 0.8426 - accuracy: 0.6451 - val_loss: 0.8081 - val_accuracy: 0.6618\n",
            "Epoch 72/100\n",
            "1875/1875 [==============================] - 71s 38ms/step - loss: 0.8261 - accuracy: 0.6532 - val_loss: 0.8142 - val_accuracy: 0.6577\n",
            "Epoch 73/100\n",
            "1875/1875 [==============================] - 69s 37ms/step - loss: 0.8204 - accuracy: 0.6544 - val_loss: 0.8092 - val_accuracy: 0.6605\n",
            "Epoch 74/100\n",
            "1875/1875 [==============================] - 66s 35ms/step - loss: 0.8143 - accuracy: 0.6571 - val_loss: 0.8018 - val_accuracy: 0.6605\n",
            "Epoch 75/100\n",
            "1875/1875 [==============================] - 69s 37ms/step - loss: 0.8098 - accuracy: 0.6599 - val_loss: 0.7871 - val_accuracy: 0.6697\n",
            "Epoch 76/100\n",
            "1875/1875 [==============================] - 64s 34ms/step - loss: 0.8749 - accuracy: 0.6399 - val_loss: 0.8225 - val_accuracy: 0.6537\n",
            "Epoch 77/100\n",
            "1875/1875 [==============================] - 65s 34ms/step - loss: 0.8146 - accuracy: 0.6582 - val_loss: 0.7732 - val_accuracy: 0.6757\n",
            "Epoch 78/100\n",
            "1875/1875 [==============================] - 64s 34ms/step - loss: 0.7977 - accuracy: 0.6668 - val_loss: 0.7651 - val_accuracy: 0.6799\n",
            "Epoch 79/100\n",
            "1875/1875 [==============================] - 66s 35ms/step - loss: 0.7982 - accuracy: 0.6674 - val_loss: 0.7647 - val_accuracy: 0.6813\n",
            "Epoch 80/100\n",
            "1875/1875 [==============================] - 70s 37ms/step - loss: 0.8146 - accuracy: 0.6662 - val_loss: 0.7571 - val_accuracy: 0.6834\n",
            "Epoch 81/100\n",
            "1875/1875 [==============================] - 70s 37ms/step - loss: 0.8367 - accuracy: 0.6573 - val_loss: 0.7786 - val_accuracy: 0.6747\n",
            "Epoch 82/100\n",
            "1875/1875 [==============================] - 66s 35ms/step - loss: 0.8010 - accuracy: 0.6689 - val_loss: 0.7438 - val_accuracy: 0.6938\n",
            "Epoch 83/100\n",
            "1875/1875 [==============================] - 69s 37ms/step - loss: 0.7876 - accuracy: 0.6745 - val_loss: 0.7714 - val_accuracy: 0.6778\n",
            "Epoch 84/100\n",
            "1875/1875 [==============================] - 70s 37ms/step - loss: 0.7743 - accuracy: 0.6789 - val_loss: 0.7342 - val_accuracy: 0.6952\n",
            "Epoch 85/100\n",
            "1875/1875 [==============================] - 71s 38ms/step - loss: 0.7647 - accuracy: 0.6824 - val_loss: 0.7350 - val_accuracy: 0.6926\n",
            "Epoch 86/100\n",
            "1875/1875 [==============================] - 67s 36ms/step - loss: 0.7632 - accuracy: 0.6840 - val_loss: 0.7686 - val_accuracy: 0.6832\n",
            "Epoch 87/100\n",
            "1875/1875 [==============================] - 69s 37ms/step - loss: 0.7546 - accuracy: 0.6864 - val_loss: 0.7690 - val_accuracy: 0.6817\n",
            "Epoch 88/100\n",
            "1875/1875 [==============================] - 68s 36ms/step - loss: 0.7543 - accuracy: 0.6871 - val_loss: 0.7088 - val_accuracy: 0.7060\n",
            "Epoch 89/100\n",
            "1875/1875 [==============================] - 68s 36ms/step - loss: 0.7598 - accuracy: 0.6861 - val_loss: 0.7381 - val_accuracy: 0.6991\n",
            "Epoch 90/100\n",
            "1875/1875 [==============================] - 68s 36ms/step - loss: 0.7673 - accuracy: 0.6855 - val_loss: 0.7191 - val_accuracy: 0.7083\n",
            "Epoch 91/100\n",
            "1875/1875 [==============================] - 71s 38ms/step - loss: 0.7352 - accuracy: 0.6975 - val_loss: 0.6918 - val_accuracy: 0.7135\n",
            "Epoch 92/100\n",
            "1875/1875 [==============================] - 72s 39ms/step - loss: 0.7293 - accuracy: 0.6987 - val_loss: 0.7074 - val_accuracy: 0.6999\n",
            "Epoch 93/100\n",
            "1875/1875 [==============================] - 72s 39ms/step - loss: 0.7287 - accuracy: 0.6995 - val_loss: 0.7011 - val_accuracy: 0.7113\n",
            "Epoch 94/100\n",
            "1875/1875 [==============================] - 70s 38ms/step - loss: 0.7247 - accuracy: 0.7014 - val_loss: 0.6877 - val_accuracy: 0.7167\n",
            "Epoch 95/100\n",
            "1875/1875 [==============================] - 71s 38ms/step - loss: 0.7179 - accuracy: 0.7041 - val_loss: 0.7003 - val_accuracy: 0.7051\n",
            "Epoch 96/100\n",
            "1875/1875 [==============================] - 71s 38ms/step - loss: 0.7171 - accuracy: 0.7062 - val_loss: 0.6812 - val_accuracy: 0.7193\n",
            "Epoch 97/100\n",
            "1875/1875 [==============================] - 72s 38ms/step - loss: 0.7116 - accuracy: 0.7079 - val_loss: 0.6903 - val_accuracy: 0.7163\n",
            "Epoch 98/100\n",
            "1875/1875 [==============================] - 78s 42ms/step - loss: 0.7059 - accuracy: 0.7105 - val_loss: 0.6704 - val_accuracy: 0.7231\n",
            "Epoch 99/100\n",
            "1875/1875 [==============================] - 72s 39ms/step - loss: 0.7015 - accuracy: 0.7121 - val_loss: 0.6944 - val_accuracy: 0.7203\n",
            "Epoch 100/100\n",
            "1875/1875 [==============================] - 72s 39ms/step - loss: 0.6945 - accuracy: 0.7155 - val_loss: 0.6768 - val_accuracy: 0.7221\n"
          ]
        }
      ],
      "source": [
        "history = model.fit(X_train, y_train, batch_size=64, epochs=100, validation_data=(X_val, y_val))\n",
        "model.save('AllDataModel_E100_B64.h5')"
      ]
    },
    {
      "cell_type": "code",
      "execution_count": 30,
      "metadata": {
        "id": "R7QQeqVidKBR",
        "colab": {
          "base_uri": "https://localhost:8080/"
        },
        "outputId": "73543ebb-3f26-4336-d8f2-4619a0542146"
      },
      "outputs": [
        {
          "output_type": "stream",
          "name": "stdout",
          "text": [
            "469/469 [==============================] - 8s 17ms/step - loss: 0.6710 - accuracy: 0.7231\n"
          ]
        }
      ],
      "source": [
        "test_acc = model.evaluate(X_test, y_test)"
      ]
    },
    {
      "cell_type": "code",
      "source": [
        "test_acc"
      ],
      "metadata": {
        "id": "6fuTmgGrUgGg",
        "colab": {
          "base_uri": "https://localhost:8080/"
        },
        "outputId": "b3c518df-1123-4785-a954-fe26199ecb0d"
      },
      "execution_count": 31,
      "outputs": [
        {
          "output_type": "execute_result",
          "data": {
            "text/plain": [
              "[0.6710107922554016, 0.7230666875839233]"
            ]
          },
          "metadata": {},
          "execution_count": 31
        }
      ]
    },
    {
      "cell_type": "code",
      "execution_count": 32,
      "metadata": {
        "id": "OHpifyqGdKn-",
        "colab": {
          "base_uri": "https://localhost:8080/"
        },
        "outputId": "5ac46d5c-1cc2-4986-b17c-f95bcbbb0dac"
      },
      "outputs": [
        {
          "output_type": "stream",
          "name": "stdout",
          "text": [
            "469/469 [==============================] - 7s 14ms/step\n"
          ]
        }
      ],
      "source": [
        "y_test_prob = model.predict(X_test, verbose=1)"
      ]
    },
    {
      "cell_type": "code",
      "source": [
        "np.set_printoptions(suppress=True)\n",
        "y_test_prob"
      ],
      "metadata": {
        "id": "rRPswrrkmhp2",
        "colab": {
          "base_uri": "https://localhost:8080/"
        },
        "outputId": "dd69b6e6-29d1-4220-e859-9af8f90643e3"
      },
      "execution_count": 33,
      "outputs": [
        {
          "output_type": "execute_result",
          "data": {
            "text/plain": [
              "array([[0.9992023 , 0.00073703, 0.0000005 , ..., 0.00000035, 0.00000108,\n",
              "        0.00005824],\n",
              "       [0.00000187, 0.00027172, 0.10442268, ..., 0.01411887, 0.00049202,\n",
              "        0.00000272],\n",
              "       [0.0003089 , 0.00172948, 0.12757124, ..., 0.18069333, 0.36337107,\n",
              "        0.15824586],\n",
              "       ...,\n",
              "       [0.00009999, 0.00013671, 0.00159716, ..., 0.01152158, 0.63013583,\n",
              "        0.34826666],\n",
              "       [0.00001112, 0.00001128, 0.01213583, ..., 0.10349976, 0.00526726,\n",
              "        0.00015056],\n",
              "       [0.999605  , 0.00027168, 0.00000024, ..., 0.00000005, 0.00000051,\n",
              "        0.00012254]], dtype=float32)"
            ]
          },
          "metadata": {},
          "execution_count": 33
        }
      ]
    },
    {
      "cell_type": "code",
      "execution_count": 195,
      "metadata": {
        "id": "AfmdrBILdMwj"
      },
      "outputs": [],
      "source": [
        "y_test_pred = np.where(y_test_prob > 0.25, 1, 0)"
      ]
    },
    {
      "cell_type": "code",
      "execution_count": 196,
      "metadata": {
        "id": "8DoJy_p9dPzN"
      },
      "outputs": [],
      "source": [
        "from sklearn.metrics import multilabel_confusion_matrix"
      ]
    },
    {
      "cell_type": "code",
      "source": [
        "y_test"
      ],
      "metadata": {
        "id": "n1Us2yrfcGl-",
        "colab": {
          "base_uri": "https://localhost:8080/"
        },
        "outputId": "f6bcc206-597c-409e-a9a4-3db3681b5716"
      },
      "execution_count": 197,
      "outputs": [
        {
          "output_type": "execute_result",
          "data": {
            "text/plain": [
              "<tf.Tensor: shape=(15000,), dtype=int64, numpy=array([0, 3, 6, ..., 7, 4, 0])>"
            ]
          },
          "metadata": {},
          "execution_count": 197
        }
      ]
    },
    {
      "cell_type": "code",
      "source": [
        "y_test.shape"
      ],
      "metadata": {
        "id": "VnmvTcvWbxr9",
        "colab": {
          "base_uri": "https://localhost:8080/"
        },
        "outputId": "0886fd27-f515-46fb-b562-6d86b1f6e314"
      },
      "execution_count": 198,
      "outputs": [
        {
          "output_type": "execute_result",
          "data": {
            "text/plain": [
              "TensorShape([15000])"
            ]
          },
          "metadata": {},
          "execution_count": 198
        }
      ]
    },
    {
      "cell_type": "code",
      "source": [
        "y_test_pred"
      ],
      "metadata": {
        "id": "nMBOgzrgcJBj",
        "colab": {
          "base_uri": "https://localhost:8080/"
        },
        "outputId": "160704e4-a8fc-4808-a0ef-770469cc56a2"
      },
      "execution_count": 199,
      "outputs": [
        {
          "output_type": "execute_result",
          "data": {
            "text/plain": [
              "array([[1, 0, 0, ..., 0, 0, 0],\n",
              "       [0, 0, 0, ..., 0, 0, 0],\n",
              "       [0, 0, 0, ..., 0, 1, 0],\n",
              "       ...,\n",
              "       [0, 0, 0, ..., 0, 1, 1],\n",
              "       [0, 0, 0, ..., 0, 0, 0],\n",
              "       [1, 0, 0, ..., 0, 0, 0]])"
            ]
          },
          "metadata": {},
          "execution_count": 199
        }
      ]
    },
    {
      "cell_type": "code",
      "source": [
        "y_test_pred.shape"
      ],
      "metadata": {
        "id": "SXKZof8Ye5uI",
        "colab": {
          "base_uri": "https://localhost:8080/"
        },
        "outputId": "77281ca2-6bdc-42ec-bf74-f8038f5139ce"
      },
      "execution_count": 200,
      "outputs": [
        {
          "output_type": "execute_result",
          "data": {
            "text/plain": [
              "(15000, 8)"
            ]
          },
          "metadata": {},
          "execution_count": 200
        }
      ]
    },
    {
      "cell_type": "code",
      "source": [
        "y_decoded_pred = tf.argmax(y_test_pred, axis = 1)"
      ],
      "metadata": {
        "id": "leDQwKOjgwwi"
      },
      "execution_count": 201,
      "outputs": []
    },
    {
      "cell_type": "code",
      "source": [
        "#y_decoded = tf.argmax(y_test, axis = 1)"
      ],
      "metadata": {
        "id": "sAHRmtesif6g"
      },
      "execution_count": 202,
      "outputs": []
    },
    {
      "cell_type": "code",
      "source": [
        "y_decoded_pred"
      ],
      "metadata": {
        "id": "_lvFhrmPhprD",
        "colab": {
          "base_uri": "https://localhost:8080/"
        },
        "outputId": "a849ab25-3b7a-4128-e780-6734fd21ed1c"
      },
      "execution_count": 203,
      "outputs": [
        {
          "output_type": "execute_result",
          "data": {
            "text/plain": [
              "<tf.Tensor: shape=(15000,), dtype=int64, numpy=array([0, 3, 6, ..., 6, 3, 0])>"
            ]
          },
          "metadata": {},
          "execution_count": 203
        }
      ]
    },
    {
      "cell_type": "code",
      "source": [
        "y_decoded"
      ],
      "metadata": {
        "id": "YV1FXgHviPwm",
        "colab": {
          "base_uri": "https://localhost:8080/"
        },
        "outputId": "f83bed26-63fa-48bf-b716-f1dee1e7ef36"
      },
      "execution_count": 204,
      "outputs": [
        {
          "output_type": "execute_result",
          "data": {
            "text/plain": [
              "<tf.Tensor: shape=(15000,), dtype=int64, numpy=array([0, 3, 6, ..., 7, 4, 0])>"
            ]
          },
          "metadata": {},
          "execution_count": 204
        }
      ]
    },
    {
      "cell_type": "code",
      "source": [
        "y_test_pred = y_decoded_pred\n"
      ],
      "metadata": {
        "id": "6-6jFqzGh380"
      },
      "execution_count": 205,
      "outputs": []
    },
    {
      "cell_type": "code",
      "source": [
        "y_test = y_decoded"
      ],
      "metadata": {
        "id": "9pogVvdIiwss"
      },
      "execution_count": 206,
      "outputs": []
    },
    {
      "cell_type": "code",
      "source": [
        "y_test"
      ],
      "metadata": {
        "id": "oGt5aJetiKR6",
        "colab": {
          "base_uri": "https://localhost:8080/"
        },
        "outputId": "71cc330e-87a1-4f70-89ac-1878a044b389"
      },
      "execution_count": 207,
      "outputs": [
        {
          "output_type": "execute_result",
          "data": {
            "text/plain": [
              "<tf.Tensor: shape=(15000,), dtype=int64, numpy=array([0, 3, 6, ..., 7, 4, 0])>"
            ]
          },
          "metadata": {},
          "execution_count": 207
        }
      ]
    },
    {
      "cell_type": "code",
      "source": [
        "y_test_pred"
      ],
      "metadata": {
        "id": "fLgDwAIfiyv2",
        "colab": {
          "base_uri": "https://localhost:8080/"
        },
        "outputId": "f60c4831-68a9-4ab1-f8ac-86ae4b626271"
      },
      "execution_count": 208,
      "outputs": [
        {
          "output_type": "execute_result",
          "data": {
            "text/plain": [
              "<tf.Tensor: shape=(15000,), dtype=int64, numpy=array([0, 3, 6, ..., 6, 3, 0])>"
            ]
          },
          "metadata": {},
          "execution_count": 208
        }
      ]
    },
    {
      "cell_type": "code",
      "execution_count": 209,
      "metadata": {
        "id": "fTCsPjW8dQaZ"
      },
      "outputs": [],
      "source": [
        "cfm=confusion_matrix(y_test, y_test_pred)"
      ]
    },
    {
      "cell_type": "code",
      "source": [
        "cfm"
      ],
      "metadata": {
        "id": "_67lPg6ic4cH",
        "colab": {
          "base_uri": "https://localhost:8080/"
        },
        "outputId": "47b7b13d-8c85-432e-8b31-caca0b431c1d"
      },
      "execution_count": 210,
      "outputs": [
        {
          "output_type": "execute_result",
          "data": {
            "text/plain": [
              "array([[1907,   20,    0,    0,    0,    0,    0,    1],\n",
              "       [  41, 1773,   38,    0,    0,    0,    2,   10],\n",
              "       [  28,   11, 1389,  124,   51,   60,  160,   41],\n",
              "       [   5,    0,  185, 1380,  199,  112,   31,    0],\n",
              "       [  19,    0,   59,  500,  829,  241,  199,    6],\n",
              "       [  13,    0,   38,  448,  362,  715,  207,    2],\n",
              "       [  18,    0,   63,   11,   78,  132, 1305,  254],\n",
              "       [   3,    3,   15,    2,    3,   14,  524, 1369]])"
            ]
          },
          "metadata": {},
          "execution_count": 210
        }
      ]
    },
    {
      "cell_type": "code",
      "source": [
        " print(classification_report(y_test,y_test_pred))"
      ],
      "metadata": {
        "id": "XTqR_xnwRWCJ",
        "colab": {
          "base_uri": "https://localhost:8080/"
        },
        "outputId": "dea0d180-8aa8-4439-de3c-3bf6ae1200c9"
      },
      "execution_count": 211,
      "outputs": [
        {
          "output_type": "stream",
          "name": "stdout",
          "text": [
            "              precision    recall  f1-score   support\n",
            "\n",
            "           0       0.94      0.99      0.96      1928\n",
            "           1       0.98      0.95      0.97      1864\n",
            "           2       0.78      0.75      0.76      1864\n",
            "           3       0.56      0.72      0.63      1912\n",
            "           4       0.54      0.45      0.49      1853\n",
            "           5       0.56      0.40      0.47      1785\n",
            "           6       0.54      0.70      0.61      1861\n",
            "           7       0.81      0.71      0.76      1933\n",
            "\n",
            "    accuracy                           0.71     15000\n",
            "   macro avg       0.71      0.71      0.71     15000\n",
            "weighted avg       0.72      0.71      0.71     15000\n",
            "\n"
          ]
        }
      ]
    },
    {
      "cell_type": "code",
      "execution_count": 212,
      "metadata": {
        "id": "te3fslrY9Eca",
        "colab": {
          "base_uri": "https://localhost:8080/",
          "height": 903
        },
        "outputId": "914d5027-9a72-481d-efd1-001a62cfac90"
      },
      "outputs": [
        {
          "output_type": "stream",
          "name": "stdout",
          "text": [
            "Confusion matrix, without normalization\n",
            "[[1907   20    0    0    0    0    0    1]\n",
            " [  41 1773   38    0    0    0    2   10]\n",
            " [  28   11 1389  124   51   60  160   41]\n",
            " [   5    0  185 1380  199  112   31    0]\n",
            " [  19    0   59  500  829  241  199    6]\n",
            " [  13    0   38  448  362  715  207    2]\n",
            " [  18    0   63   11   78  132 1305  254]\n",
            " [   3    3   15    2    3   14  524 1369]]\n",
            "Normalized confusion matrix\n",
            "[[0.99 0.01 0.   0.   0.   0.   0.   0.  ]\n",
            " [0.02 0.95 0.02 0.   0.   0.   0.   0.01]\n",
            " [0.02 0.01 0.75 0.07 0.03 0.03 0.09 0.02]\n",
            " [0.   0.   0.1  0.72 0.1  0.06 0.02 0.  ]\n",
            " [0.01 0.   0.03 0.27 0.45 0.13 0.11 0.  ]\n",
            " [0.01 0.   0.02 0.25 0.2  0.4  0.12 0.  ]\n",
            " [0.01 0.   0.03 0.01 0.04 0.07 0.7  0.14]\n",
            " [0.   0.   0.01 0.   0.   0.01 0.27 0.71]]\n"
          ]
        },
        {
          "output_type": "display_data",
          "data": {
            "text/plain": [
              "<Figure size 432x288 with 2 Axes>"
            ],
            "image/png": "[encoded data removed]"
          },
          "metadata": {
            "needs_background": "light"
          }
        },
        {
          "output_type": "display_data",
          "data": {
            "text/plain": [
              "<Figure size 432x288 with 2 Axes>"
            ],
            "image/png": "[encoded data removed]"
          },
          "metadata": {
            "needs_background": "light"
          }
        }
      ],
      "source": [
        "import numpy as np\n",
        "import matplotlib.pyplot as plt\n",
        "\n",
        "from sklearn import svm, datasets\n",
        "from sklearn.model_selection import train_test_split\n",
        "from sklearn.metrics import confusion_matrix\n",
        "from sklearn.utils.multiclass import unique_labels\n",
        "\n",
        "class_names = np.array(['0', '1', '2', '3', '4', '5', '6', '7'])\n",
        "\n",
        "def plot_confusion_matrix(y_true, y_pred, classes,\n",
        "                          normalize=False,\n",
        "                          title=None,\n",
        "                          cmap=plt.cm.Blues):\n",
        "    \"\"\"\n",
        "    This function prints and plots the confusion matrix.\n",
        "    Normalization can be applied by setting `normalize=True`.\n",
        "    \"\"\"\n",
        "    if not title:\n",
        "        if normalize:\n",
        "            title = 'Normalized confusion matrix'\n",
        "        else:\n",
        "            title = 'Confusion matrix, without normalization'\n",
        "\n",
        "    # Compute confusion matrix\n",
        "    cm = confusion_matrix(y_true, y_pred)\n",
        "    # Only use the labels that appear in the data\n",
        "    classes = classes[unique_labels(y_true, y_pred)]\n",
        "    if normalize:\n",
        "        cm = cm.astype('float') / cm.sum(axis=1)[:, np.newaxis]\n",
        "        print(\"Normalized confusion matrix\")\n",
        "    else:\n",
        "        print('Confusion matrix, without normalization')\n",
        "\n",
        "    print(cm)\n",
        "\n",
        "    fig, ax = plt.subplots()\n",
        "    im = ax.imshow(cm, interpolation='nearest', cmap=cmap)\n",
        "    ax.figure.colorbar(im, ax=ax)\n",
        "    # We want to show all ticks...\n",
        "    ax.set(xticks=np.arange(cm.shape[1]),\n",
        "           yticks=np.arange(cm.shape[0]),\n",
        "           # ... and label them with the respective list entries\n",
        "           xticklabels=classes, yticklabels=classes,\n",
        "           title=title,\n",
        "           ylabel='True label',\n",
        "           xlabel='Predicted label')\n",
        "\n",
        "    # Rotate the tick labels and set their alignment.\n",
        "    plt.setp(ax.get_xticklabels(), rotation=45, ha=\"right\",\n",
        "             rotation_mode=\"anchor\")\n",
        "\n",
        "    # Loop over data dimensions and create text annotations.\n",
        "    fmt = '.2f' if normalize else 'd'\n",
        "    thresh = cm.max() / 2.\n",
        "    for i in range(cm.shape[0]):\n",
        "        for j in range(cm.shape[1]):\n",
        "            ax.text(j, i, format(cm[i, j], fmt),\n",
        "                    ha=\"center\", va=\"center\",\n",
        "                    color=\"white\" if cm[i, j] > thresh else \"black\")\n",
        "    fig.tight_layout()\n",
        "\n",
        "    return ax\n",
        "\n",
        "\n",
        "np.set_printoptions(precision=2)\n",
        "\n",
        "# Plot non-normalized confusion matrix\n",
        "plot_confusion_matrix(y_test, y_test_pred, classes=class_names,\n",
        "                      title='Confusion matrix, without normalization')\n",
        "\n",
        "# Plot normalized confusion matrix\n",
        "plot_confusion_matrix(y_test, y_test_pred, classes=class_names, normalize=True,\n",
        "                      title='Normalized confusion matrix')\n",
        "\n",
        "plt.show()"
      ]
    },
    {
      "cell_type": "code",
      "execution_count": 213,
      "metadata": {
        "id": "fhdLAhgPUnH3"
      },
      "outputs": [],
      "source": [
        "def plot_learningCurve(history, epoch):\n",
        "  # Plot training & validation accuracy values\n",
        "  epoch_range = range(1, epoch+1)\n",
        "  plt.plot(epoch_range, history.history['accuracy'])\n",
        "  plt.plot(epoch_range, history.history['val_accuracy'])\n",
        "  plt.title('Model accuracy')\n",
        "  plt.ylabel('Accuracy')\n",
        "  plt.xlabel('Epoch')\n",
        "  plt.legend(['Train', 'Val'], loc='upper left')\n",
        "  plt.show()\n",
        "\n",
        "  # Plot training & validation loss values\n",
        "  plt.plot(epoch_range, history.history['loss'])\n",
        "  plt.plot(epoch_range, history.history['val_loss'])\n",
        "  plt.title('Model loss')\n",
        "  plt.ylabel('Loss')\n",
        "  plt.xlabel('Epoch')\n",
        "  plt.legend(['Train', 'Val'], loc='upper left')\n",
        "  plt.show()"
      ]
    },
    {
      "cell_type": "code",
      "execution_count": 214,
      "metadata": {
        "id": "WlkQkWHgU5mL",
        "colab": {
          "base_uri": "https://localhost:8080/",
          "height": 581
        },
        "outputId": "9d0f35f4-5f3b-42a4-a219-80b7ec05c747"
      },
      "outputs": [
        {
          "output_type": "display_data",
          "data": {
            "text/plain": [
              "<Figure size 432x288 with 1 Axes>"
            ],
            "image/png": "[encoded data removed]"
          },
          "metadata": {
            "needs_background": "light"
          }
        },
        {
          "output_type": "display_data",
          "data": {
            "text/plain": [
              "<Figure size 432x288 with 1 Axes>"
            ],
            "image/png": "[encoded data removed]"
          },
          "metadata": {
            "needs_background": "light"
          }
        }
      ],
      "source": [
        "plot_learningCurve(history, 100)"
      ]
    }
  ],
  "metadata": {
    "colab": {
      "collapsed_sections": [
        "f857kfHqUk0-"
      ],
      "name": "Multi_Class_MD_LSTM_step_200_files_120.ipynb",
      "provenance": [],
      "include_colab_link": true
    },
    "kernelspec": {
      "display_name": "Python 3",
      "name": "python3"
    },
    "language_info": {
      "name": "python"
    },
    "accelerator": "GPU"
  },
  "nbformat": 4,
  "nbformat_minor": 0
}
