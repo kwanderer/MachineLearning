{
  "cells": [
    {
      "cell_type": "markdown",
      "metadata": {
        "id": "view-in-github",
        "colab_type": "text"
      },
      "source": [
        "<a href=\"https://colab.research.google.com/github/kwanderer/MachineLearning/blob/main/Multi_Class_MD_LSTM_step_200_files_120_trh_05_1.ipynb\" target=\"_parent\"><img src=\"https://colab.research.google.com/assets/colab-badge.svg\" alt=\"Open In Colab\"/></a>"
      ]
    },
    {
      "cell_type": "markdown",
      "metadata": {
        "id": "f857kfHqUk0-"
      },
      "source": [
        "\n",
        "\n",
        "#Datu kopa"
      ]
    },
    {
      "cell_type": "markdown",
      "metadata": {
        "id": "nM9WE3QGUwVi"
      },
      "source": [
        "Datu kopas avots: https://www.kaggle.com/uysalserkan/fault-induction-motor-dataset"
      ]
    },
    {
      "cell_type": "markdown",
      "metadata": {
        "id": "_sN_h3qHHy6r"
      },
      "source": [
        "Darbā tiek izmantota indukcijas motora parametru datu bāze. Izmantotajā datu kopā ir dati, kas tika iegūti SpectraQuest aparatūras kļūdu simulatorā (Machinery Fault Simulator).\n",
        "\n",
        "Katra mērījumu secība tika ģenerēta ar frekvenci 50 kHz 5 sekunžu laikā, kopā 250 000 mērījumi.\n",
        "\n",
        "Dati ir apkopoti vairākos failos, dažādos darbības stāvokļos un to apjoms ir ļoti liels. Šajā darbā tika izmantota daļa(viena mērījumu secība) no motora normālas darbības datiem.\n"
      ]
    },
    {
      "cell_type": "markdown",
      "metadata": {
        "id": "KtFAOaHYHLPo"
      },
      "source": [
        "Dati ir apkopoti tabulā, kura satur 8 parametrus. Dati ir iedalīti sekojošās kolonas:\n",
        "\n",
        "**tachometer** – tahometra signāls, kas ļauj novērtēt rotācijas frekvenci\n",
        "\n",
        "**und-accelerometer-axial** - apakšā esošā gultņa akselerometrs (aksiālais virziens)\n",
        "\n",
        "**und-accelerometer-radial** – apakšā esošā gultņa akselerometrs (radiālais virziens)\n",
        "\n",
        "**und-accelerometer-tangential** - apakšā esošā gultņa akselerometrs (tangenciālais virziens)\n",
        "\n",
        "**over-accelerometer-axial** - pārkares gultņa akselerometrs (aksiālais virziens)\n",
        "\n",
        "**over-accelerometer-radial** – pārkares gultņa akselerometrs (radiālais  virziens)\n",
        "\n",
        "**over-accelerometer-tangential**  - pārkares gultņa akselerometrs (tangenciālais virziens)\n",
        "\n",
        "**microphone** – mikrofona vērtība\n"
      ]
    },
    {
      "cell_type": "markdown",
      "metadata": {
        "id": "XymoNLKMVFUC"
      },
      "source": [
        "#Datu ielasīšana un satura vizualizācija"
      ]
    },
    {
      "cell_type": "code",
      "execution_count": 3,
      "metadata": {
        "id": "_yqYZDeOFq5s"
      },
      "outputs": [],
      "source": [
        "import keras\n",
        "from keras.layers import LSTM, Dropout, Dense\n",
        "import tensorflow as tf\n",
        "import numpy as np\n",
        "import pandas as pd\n",
        "\n",
        "from sklearn import linear_model  #pip install sklearn - loti plasa masinapmacibas biblioteka\n",
        "from sklearn.linear_model import LinearRegression  \n",
        "import csv          #pip install csv - darbam ar CSV datu kopam\n",
        "import requests     #pip install requests  - vienkarsakam darbam ar tiessaistes CSV datu kopam tiessaistes\n",
        "\n",
        "import matplotlib\n",
        "import matplotlib.pyplot as plt\n",
        "\n",
        "import glob\n"
      ]
    },
    {
      "cell_type": "code",
      "execution_count": 4,
      "metadata": {
        "id": "wlRTBbM2eUcV",
        "colab": {
          "base_uri": "https://localhost:8080/"
        },
        "outputId": "a4977024-fe8b-49ce-9d65-b0b8768a32ae"
      },
      "outputs": [
        {
          "output_type": "stream",
          "name": "stdout",
          "text": [
            "Mounted at /content/gdrive\n"
          ]
        }
      ],
      "source": [
        "from google.colab import drive\n",
        "import os\n",
        "drive.mount('/content/gdrive')\n",
        "os.chdir(\"/content/gdrive/MyDrive/Colab Notebooks/data_multiclass/\")"
      ]
    },
    {
      "cell_type": "code",
      "execution_count": 5,
      "metadata": {
        "id": "zzz6fBl_SNom"
      },
      "outputs": [],
      "source": [
        "#extension = 'csv'\n",
        "#all_filenames = [i for i in glob.glob('*.{}'.format(extension))]"
      ]
    },
    {
      "cell_type": "code",
      "execution_count": 6,
      "metadata": {
        "id": "vagKFCkToBi0"
      },
      "outputs": [],
      "source": [
        "#combine all files in the list\n",
        "#combined_csv = pd.concat([pd.read_csv(f) for f in all_filenames ])\n",
        "#export to csv\n",
        "#combined_csv.to_csv( \"combined_multiclass_csv.csv\", index=False, encoding='utf-8-sig')"
      ]
    },
    {
      "cell_type": "code",
      "execution_count": 7,
      "metadata": {
        "id": "encEkbDhSfGI"
      },
      "outputs": [],
      "source": [
        "data = pd.read_csv(\"combined_multiclass_csv.csv\")"
      ]
    },
    {
      "cell_type": "code",
      "execution_count": 8,
      "metadata": {
        "id": "yz5Qe8ZWk1Zq",
        "colab": {
          "base_uri": "https://localhost:8080/"
        },
        "outputId": "6e703d85-b51d-4804-dfc9-efc782d37d03"
      },
      "outputs": [
        {
          "output_type": "stream",
          "name": "stdout",
          "text": [
            "<class 'pandas.core.frame.DataFrame'>\n",
            "RangeIndex: 30000000 entries, 0 to 29999999\n",
            "Data columns (total 9 columns):\n",
            " #   Column                         Dtype  \n",
            "---  ------                         -----  \n",
            " 0   tachometer                     float64\n",
            " 1   und-accelerometer-axial        float64\n",
            " 2   und-accelerometer-radial       float64\n",
            " 3   und-accelerometer-tangential   float64\n",
            " 4   over-accelerometer-axial       float64\n",
            " 5   over-accelerometer-radial      float64\n",
            " 6   over-accelerometer-tangential  float64\n",
            " 7   microphone                     float64\n",
            " 8   Class                          int64  \n",
            "dtypes: float64(8), int64(1)\n",
            "memory usage: 2.0 GB\n"
          ]
        }
      ],
      "source": [
        "data.info()"
      ]
    },
    {
      "cell_type": "code",
      "execution_count": 9,
      "metadata": {
        "id": "WUW9ezX6a_st",
        "colab": {
          "base_uri": "https://localhost:8080/"
        },
        "outputId": "cf20e2fa-b847-425e-c30f-57c2d4bfef09"
      },
      "outputs": [
        {
          "output_type": "execute_result",
          "data": {
            "text/plain": [
              "30000000"
            ]
          },
          "metadata": {},
          "execution_count": 9
        }
      ],
      "source": [
        "rec_count = len(data)\n",
        "rec_count"
      ]
    },
    {
      "cell_type": "markdown",
      "metadata": {
        "id": "6RVC1PZy88fC"
      },
      "source": [
        "# Datu dalīšana mazākos gabalos"
      ]
    },
    {
      "cell_type": "code",
      "execution_count": 10,
      "metadata": {
        "id": "DOvnCYkcbGaE"
      },
      "outputs": [],
      "source": [
        "sequence_length = 200"
      ]
    },
    {
      "cell_type": "code",
      "execution_count": 11,
      "metadata": {
        "id": "RG0o2L3zbTEx"
      },
      "outputs": [],
      "source": [
        "def generate_data(X, y, sequence_length = 200, step = 200):\n",
        "    X_local = []\n",
        "    y_local = []\n",
        "    for start in range(0, len(data) - sequence_length, step):\n",
        "        end = start + sequence_length\n",
        "        X_local.append(X[start:end])\n",
        "        y_local.append(y[end-1])\n",
        "    return np.array(X_local), np.array(y_local)\n",
        "\n",
        "X_sequence, y = generate_data(data.loc[:, \"tachometer\":\"microphone\"].values, data.Class)"
      ]
    },
    {
      "cell_type": "code",
      "execution_count": 12,
      "metadata": {
        "id": "s0QxwK66cLVF",
        "colab": {
          "base_uri": "https://localhost:8080/"
        },
        "outputId": "0fabdbf1-1abf-490b-8f12-b697c162fe10"
      },
      "outputs": [
        {
          "output_type": "execute_result",
          "data": {
            "text/plain": [
              "((149999, 200, 8), (149999,))"
            ]
          },
          "metadata": {},
          "execution_count": 12
        }
      ],
      "source": [
        "X_sequence.shape, y.shape"
      ]
    },
    {
      "cell_type": "code",
      "source": [
        "unique, counts = np.unique(y, return_counts=True)"
      ],
      "metadata": {
        "id": "l8Lq455lV1JR"
      },
      "execution_count": 13,
      "outputs": []
    },
    {
      "cell_type": "code",
      "source": [
        "unique"
      ],
      "metadata": {
        "id": "t0BRO3nAWQxe",
        "colab": {
          "base_uri": "https://localhost:8080/"
        },
        "outputId": "71aabbf9-fb40-49c4-c95a-da41195d3154"
      },
      "execution_count": 14,
      "outputs": [
        {
          "output_type": "execute_result",
          "data": {
            "text/plain": [
              "array([0, 1, 2, 3, 4, 5, 6, 7])"
            ]
          },
          "metadata": {},
          "execution_count": 14
        }
      ]
    },
    {
      "cell_type": "code",
      "source": [
        "counts"
      ],
      "metadata": {
        "id": "WWZ7QWR4WS_r",
        "colab": {
          "base_uri": "https://localhost:8080/"
        },
        "outputId": "654c9fe5-fb48-4745-ca60-1f6ea3f5513a"
      },
      "execution_count": 15,
      "outputs": [
        {
          "output_type": "execute_result",
          "data": {
            "text/plain": [
              "array([18749, 18750, 18750, 18750, 18750, 18750, 18750, 18750])"
            ]
          },
          "metadata": {},
          "execution_count": 15
        }
      ]
    },
    {
      "cell_type": "code",
      "execution_count": 16,
      "metadata": {
        "id": "i7R1oo6Mj8wx"
      },
      "outputs": [],
      "source": [
        "data = 0"
      ]
    },
    {
      "cell_type": "code",
      "source": [
        "from sklearn.preprocessing import OneHotEncoder"
      ],
      "metadata": {
        "id": "lAk_JscRWmqY"
      },
      "execution_count": 17,
      "outputs": []
    },
    {
      "cell_type": "code",
      "source": [
        "label_encoder = OneHotEncoder(sparse=False)\n",
        "label_encoder.fit(y.reshape(-1,1))"
      ],
      "metadata": {
        "id": "14B9aYy0W0y6",
        "colab": {
          "base_uri": "https://localhost:8080/"
        },
        "outputId": "0320f7d6-f9cb-4ee3-e6fc-f5e13a3d6b57"
      },
      "execution_count": 18,
      "outputs": [
        {
          "output_type": "execute_result",
          "data": {
            "text/plain": [
              "OneHotEncoder(sparse=False)"
            ]
          },
          "metadata": {},
          "execution_count": 18
        }
      ]
    },
    {
      "cell_type": "code",
      "source": [
        "y_encoded = label_encoder.transform(y.reshape(-1,1))"
      ],
      "metadata": {
        "id": "VjpWn96xXgPS"
      },
      "execution_count": 19,
      "outputs": []
    },
    {
      "cell_type": "code",
      "source": [
        "y_encoded[0:5]"
      ],
      "metadata": {
        "id": "VL6KMFo9XpBi",
        "colab": {
          "base_uri": "https://localhost:8080/"
        },
        "outputId": "350791c8-ba48-49d8-b8e9-9f7dc04c5edf"
      },
      "execution_count": 20,
      "outputs": [
        {
          "output_type": "execute_result",
          "data": {
            "text/plain": [
              "array([[0., 0., 0., 0., 0., 0., 0., 1.],\n",
              "       [0., 0., 0., 0., 0., 0., 0., 1.],\n",
              "       [0., 0., 0., 0., 0., 0., 0., 1.],\n",
              "       [0., 0., 0., 0., 0., 0., 0., 1.],\n",
              "       [0., 0., 0., 0., 0., 0., 0., 1.]])"
            ]
          },
          "metadata": {},
          "execution_count": 20
        }
      ]
    },
    {
      "cell_type": "code",
      "source": [
        "y=y_encoded"
      ],
      "metadata": {
        "id": "5c8km253YKBl"
      },
      "execution_count": 21,
      "outputs": []
    },
    {
      "cell_type": "markdown",
      "metadata": {
        "id": "5BXSDoHa9UX_"
      },
      "source": [
        "# Random/Shuffle"
      ]
    },
    {
      "cell_type": "code",
      "execution_count": 22,
      "metadata": {
        "id": "ZcfE9idy-ckb"
      },
      "outputs": [],
      "source": [
        "shuffler = np.random.permutation(len(X_sequence))\n",
        "X_sequence_shuffled = X_sequence[shuffler]\n",
        "y_shuffled = y[shuffler]"
      ]
    },
    {
      "cell_type": "markdown",
      "metadata": {
        "id": "TfhRTTNcE2s8"
      },
      "source": [
        "# LSTM"
      ]
    },
    {
      "cell_type": "code",
      "execution_count": 23,
      "metadata": {
        "id": "ihrXMuVAEwlY"
      },
      "outputs": [],
      "source": [
        "import pandas as pd\n",
        "import sklearn.metrics as metrique\n",
        "from pandas import Series\n",
        "from sklearn.preprocessing import StandardScaler, MinMaxScaler\n",
        "from matplotlib import pyplot\n",
        "from sklearn.model_selection import train_test_split\n",
        "import numpy as np\n",
        "import tensorflow as tf\n",
        "import sys\n",
        "import numpy as np\n",
        "import pandas as pd\n",
        "import tensorflow as tf\n",
        "import matplotlib.pyplot as plt\n",
        "from sklearn.model_selection import train_test_split\n",
        "from sklearn import preprocessing\n",
        "from sklearn.preprocessing import StandardScaler\n",
        "from sklearn.metrics import classification_report\n",
        "import warnings\n",
        "warnings.filterwarnings('ignore')\n",
        "plt.style.use('ggplot')\n",
        "import seaborn as sns \n",
        "%matplotlib inline\n",
        "from keras.callbacks import EarlyStopping\n",
        "from keras.callbacks import ModelCheckpoint\n",
        "from sklearn.metrics import accuracy_score\n",
        "from sklearn.metrics import classification_report, confusion_matrix\n",
        "from keras.models import Sequential\n",
        "from keras.utils import np_utils\n",
        "from keras.layers import LSTM, Dense, Embedding, Dropout,Input, Layer, Concatenate, Permute, Dot, Multiply, Flatten\n",
        "from keras.layers import RepeatVector, Dense, Activation, Lambda\n",
        "from keras.models import Sequential\n",
        "from keras import backend as K, regularizers, Model, metrics\n",
        "from keras.backend import cast"
      ]
    },
    {
      "cell_type": "code",
      "execution_count": 24,
      "metadata": {
        "id": "PjKWKiA6aH3z"
      },
      "outputs": [],
      "source": [
        "#from tensorflow.keras import optimizers\n",
        "#sgd = optimizers.SGD(lr=0.0001, decay=1e-6, momentum=0.9, nesterov=True)\n",
        "#model = keras.Sequential()\n",
        "#model.add(LSTM(100, input_shape = (200, 8)))\n",
        "#model.add(Dropout(0.5))\n",
        "#model.add(Dense(1, activation=\"softmax\"))\n",
        "\n",
        "\n",
        "#model.compile(loss=\"categorical_crossentropy\"\n",
        "#              , metrics=[keras.metrics.binary_accuracy]\n",
        "#              , optimizer='sgd')\n",
        "\n",
        "#model.summary()"
      ]
    },
    {
      "cell_type": "code",
      "execution_count": 25,
      "metadata": {
        "id": "_2SaVmwSWJVB",
        "colab": {
          "base_uri": "https://localhost:8080/"
        },
        "outputId": "fb5674f9-1a04-4e57-8a31-51091d62aca8"
      },
      "outputs": [
        {
          "output_type": "stream",
          "name": "stdout",
          "text": [
            "Model: \"sequential\"\n",
            "_________________________________________________________________\n",
            " Layer (type)                Output Shape              Param #   \n",
            "=================================================================\n",
            " lstm (LSTM)                 (None, 100)               43600     \n",
            "                                                                 \n",
            " dropout (Dropout)           (None, 100)               0         \n",
            "                                                                 \n",
            " dense (Dense)               (None, 8)                 808       \n",
            "                                                                 \n",
            "=================================================================\n",
            "Total params: 44,408\n",
            "Trainable params: 44,408\n",
            "Non-trainable params: 0\n",
            "_________________________________________________________________\n"
          ]
        }
      ],
      "source": [
        "from tensorflow.keras import optimizers\n",
        "#sgd = optimizers.SGD(lr=0.0001, decay=1e-6, momentum=0.9, nesterov=True)\n",
        "optimizer = tf.keras.optimizers.Adam(lr=0.0001)\n",
        "model = keras.Sequential()\n",
        "model.add(LSTM(100, input_shape = (200, 8)))\n",
        "model.add(Dropout(0.5))#0.25\n",
        "model.add(Dense(8, activation=\"softmax\"))\n",
        "\n",
        "#model.compile(loss='mean_squared_error', optimizer=sgd)\n",
        "model.compile(loss=\"categorical_crossentropy\"\n",
        "              , metrics=['accuracy']\n",
        "              , optimizer=optimizer)\n",
        "\n",
        "model.summary()"
      ]
    },
    {
      "cell_type": "code",
      "execution_count": 26,
      "metadata": {
        "id": "tg8wrqsqc8UX"
      },
      "outputs": [],
      "source": [
        "training_size = int(len(X_sequence) * 0.8)\n",
        "val_size = int(len(X_sequence) * 0.9)"
      ]
    },
    {
      "cell_type": "code",
      "execution_count": 27,
      "metadata": {
        "id": "avIp3TEKc-qF"
      },
      "outputs": [],
      "source": [
        "X_train, y_train = X_sequence_shuffled[:training_size], y_shuffled[:training_size]\n",
        "X_val, y_val = X_sequence_shuffled[training_size:val_size], y_shuffled[training_size:val_size]\n",
        "X_test, y_test = X_sequence_shuffled[val_size:], y_shuffled[val_size:]"
      ]
    },
    {
      "cell_type": "code",
      "execution_count": 28,
      "metadata": {
        "id": "RABc_uKzkBUT"
      },
      "outputs": [],
      "source": [
        "#X_sequence = 0\n",
        "#y = 0"
      ]
    },
    {
      "cell_type": "code",
      "source": [
        "X_train.shape"
      ],
      "metadata": {
        "id": "Omv-ht1dhGxL",
        "colab": {
          "base_uri": "https://localhost:8080/"
        },
        "outputId": "9fa47504-e2f7-4e34-fc14-3cf0e302aecf"
      },
      "execution_count": 29,
      "outputs": [
        {
          "output_type": "execute_result",
          "data": {
            "text/plain": [
              "(119999, 200, 8)"
            ]
          },
          "metadata": {},
          "execution_count": 29
        }
      ]
    },
    {
      "cell_type": "code",
      "execution_count": 30,
      "metadata": {
        "id": "8aIhPJ-wLCwZ",
        "colab": {
          "base_uri": "https://localhost:8080/"
        },
        "outputId": "78484b20-d5de-4ae5-e752-b7a4c02bc969"
      },
      "outputs": [
        {
          "output_type": "execute_result",
          "data": {
            "text/plain": [
              "array([[0., 0., 0., 1., 0., 0., 0., 0.],\n",
              "       [0., 0., 0., 0., 0., 1., 0., 0.],\n",
              "       [0., 0., 0., 0., 1., 0., 0., 0.],\n",
              "       [0., 0., 0., 1., 0., 0., 0., 0.],\n",
              "       [0., 0., 0., 0., 0., 1., 0., 0.],\n",
              "       [0., 1., 0., 0., 0., 0., 0., 0.],\n",
              "       [0., 0., 0., 0., 0., 1., 0., 0.],\n",
              "       [0., 0., 0., 0., 0., 0., 1., 0.],\n",
              "       [0., 1., 0., 0., 0., 0., 0., 0.],\n",
              "       [0., 0., 0., 1., 0., 0., 0., 0.]])"
            ]
          },
          "metadata": {},
          "execution_count": 30
        }
      ],
      "source": [
        "y_train[:10]"
      ]
    },
    {
      "cell_type": "code",
      "execution_count": 31,
      "metadata": {
        "id": "cen4faX0dFJP",
        "colab": {
          "base_uri": "https://localhost:8080/"
        },
        "outputId": "9fa81316-0279-4d74-a7ca-e8afbbe6161f"
      },
      "outputs": [
        {
          "output_type": "stream",
          "name": "stdout",
          "text": [
            "Epoch 1/100\n",
            "1875/1875 [==============================] - 28s 12ms/step - loss: 1.7915 - accuracy: 0.2316 - val_loss: 1.6570 - val_accuracy: 0.2786\n",
            "Epoch 2/100\n",
            "1875/1875 [==============================] - 21s 11ms/step - loss: 1.6671 - accuracy: 0.2695 - val_loss: 1.6301 - val_accuracy: 0.2934\n",
            "Epoch 3/100\n",
            "1875/1875 [==============================] - 22s 11ms/step - loss: 1.6370 - accuracy: 0.2826 - val_loss: 1.6008 - val_accuracy: 0.3153\n",
            "Epoch 4/100\n",
            "1875/1875 [==============================] - 22s 12ms/step - loss: 1.6383 - accuracy: 0.2970 - val_loss: 1.5803 - val_accuracy: 0.3250\n",
            "Epoch 5/100\n",
            "1875/1875 [==============================] - 21s 11ms/step - loss: 1.6018 - accuracy: 0.3177 - val_loss: 1.5446 - val_accuracy: 0.3511\n",
            "Epoch 6/100\n",
            "1875/1875 [==============================] - 21s 11ms/step - loss: 1.5336 - accuracy: 0.3597 - val_loss: 1.4700 - val_accuracy: 0.3986\n",
            "Epoch 7/100\n",
            "1875/1875 [==============================] - 21s 11ms/step - loss: 1.5030 - accuracy: 0.3806 - val_loss: 1.4923 - val_accuracy: 0.3900\n",
            "Epoch 8/100\n",
            "1875/1875 [==============================] - 22s 12ms/step - loss: 1.5096 - accuracy: 0.3829 - val_loss: 1.5164 - val_accuracy: 0.3893\n",
            "Epoch 9/100\n",
            "1875/1875 [==============================] - 21s 11ms/step - loss: 1.4994 - accuracy: 0.3933 - val_loss: 1.4154 - val_accuracy: 0.4199\n",
            "Epoch 10/100\n",
            "1875/1875 [==============================] - 21s 11ms/step - loss: 1.4440 - accuracy: 0.4105 - val_loss: 1.4152 - val_accuracy: 0.4261\n",
            "Epoch 11/100\n",
            "1875/1875 [==============================] - 22s 12ms/step - loss: 1.4433 - accuracy: 0.4119 - val_loss: 1.3878 - val_accuracy: 0.4311\n",
            "Epoch 12/100\n",
            "1875/1875 [==============================] - 22s 12ms/step - loss: 1.4256 - accuracy: 0.4245 - val_loss: 1.5058 - val_accuracy: 0.4241\n",
            "Epoch 13/100\n",
            "1875/1875 [==============================] - 22s 12ms/step - loss: 1.4062 - accuracy: 0.4280 - val_loss: 1.3398 - val_accuracy: 0.4527\n",
            "Epoch 14/100\n",
            "1875/1875 [==============================] - 22s 12ms/step - loss: 1.4050 - accuracy: 0.4289 - val_loss: 1.3856 - val_accuracy: 0.4367\n",
            "Epoch 15/100\n",
            "1875/1875 [==============================] - 22s 12ms/step - loss: 1.3958 - accuracy: 0.4303 - val_loss: 1.3331 - val_accuracy: 0.4542\n",
            "Epoch 16/100\n",
            "1875/1875 [==============================] - 22s 12ms/step - loss: 1.3302 - accuracy: 0.4539 - val_loss: 1.3035 - val_accuracy: 0.4571\n",
            "Epoch 17/100\n",
            "1875/1875 [==============================] - 22s 12ms/step - loss: 1.3220 - accuracy: 0.4607 - val_loss: 1.2764 - val_accuracy: 0.4827\n",
            "Epoch 18/100\n",
            "1875/1875 [==============================] - 22s 12ms/step - loss: 1.3731 - accuracy: 0.4388 - val_loss: 1.3849 - val_accuracy: 0.4491\n",
            "Epoch 19/100\n",
            "1875/1875 [==============================] - 22s 12ms/step - loss: 1.3383 - accuracy: 0.4510 - val_loss: 1.3183 - val_accuracy: 0.4642\n",
            "Epoch 20/100\n",
            "1875/1875 [==============================] - 22s 12ms/step - loss: 1.3381 - accuracy: 0.4539 - val_loss: 1.2661 - val_accuracy: 0.4864\n",
            "Epoch 21/100\n",
            "1875/1875 [==============================] - 22s 12ms/step - loss: 1.2991 - accuracy: 0.4738 - val_loss: 1.2559 - val_accuracy: 0.4916\n",
            "Epoch 22/100\n",
            "1875/1875 [==============================] - 22s 12ms/step - loss: 1.2942 - accuracy: 0.4777 - val_loss: 1.2414 - val_accuracy: 0.4930\n",
            "Epoch 23/100\n",
            "1875/1875 [==============================] - 22s 12ms/step - loss: 1.2689 - accuracy: 0.4868 - val_loss: 1.2755 - val_accuracy: 0.4900\n",
            "Epoch 24/100\n",
            "1875/1875 [==============================] - 22s 12ms/step - loss: 1.2661 - accuracy: 0.4851 - val_loss: 1.2175 - val_accuracy: 0.5029\n",
            "Epoch 25/100\n",
            "1875/1875 [==============================] - 22s 12ms/step - loss: 1.3283 - accuracy: 0.4749 - val_loss: 1.3474 - val_accuracy: 0.4701\n",
            "Epoch 26/100\n",
            "1875/1875 [==============================] - 22s 12ms/step - loss: 1.2806 - accuracy: 0.4837 - val_loss: 1.2110 - val_accuracy: 0.5087\n",
            "Epoch 27/100\n",
            "1875/1875 [==============================] - 22s 12ms/step - loss: 1.2506 - accuracy: 0.4966 - val_loss: 1.6630 - val_accuracy: 0.4505\n",
            "Epoch 28/100\n",
            "1875/1875 [==============================] - 22s 12ms/step - loss: 1.3888 - accuracy: 0.4571 - val_loss: 1.2482 - val_accuracy: 0.4925\n",
            "Epoch 29/100\n",
            "1875/1875 [==============================] - 22s 12ms/step - loss: 1.2550 - accuracy: 0.4928 - val_loss: 1.2095 - val_accuracy: 0.5085\n",
            "Epoch 30/100\n",
            "1875/1875 [==============================] - 22s 12ms/step - loss: 1.2650 - accuracy: 0.4866 - val_loss: 1.2370 - val_accuracy: 0.4983\n",
            "Epoch 31/100\n",
            "1875/1875 [==============================] - 22s 12ms/step - loss: 1.2401 - accuracy: 0.4968 - val_loss: 1.1789 - val_accuracy: 0.5147\n",
            "Epoch 32/100\n",
            "1875/1875 [==============================] - 21s 11ms/step - loss: 1.2052 - accuracy: 0.5109 - val_loss: 1.1928 - val_accuracy: 0.5113\n",
            "Epoch 33/100\n",
            "1875/1875 [==============================] - 22s 12ms/step - loss: 1.2032 - accuracy: 0.5107 - val_loss: 1.1797 - val_accuracy: 0.5169\n",
            "Epoch 34/100\n",
            "1875/1875 [==============================] - 23s 12ms/step - loss: 1.2634 - accuracy: 0.4835 - val_loss: 1.2220 - val_accuracy: 0.4981\n",
            "Epoch 35/100\n",
            "1875/1875 [==============================] - 22s 12ms/step - loss: 1.2161 - accuracy: 0.5024 - val_loss: 1.1640 - val_accuracy: 0.5232\n",
            "Epoch 36/100\n",
            "1875/1875 [==============================] - 22s 12ms/step - loss: 1.2081 - accuracy: 0.5055 - val_loss: 1.1797 - val_accuracy: 0.5099\n",
            "Epoch 37/100\n",
            "1875/1875 [==============================] - 22s 12ms/step - loss: 1.1772 - accuracy: 0.5170 - val_loss: 1.1718 - val_accuracy: 0.5199\n",
            "Epoch 38/100\n",
            "1875/1875 [==============================] - 22s 12ms/step - loss: 1.1836 - accuracy: 0.5165 - val_loss: 1.1590 - val_accuracy: 0.5222\n",
            "Epoch 39/100\n",
            "1875/1875 [==============================] - 22s 12ms/step - loss: 1.1752 - accuracy: 0.5201 - val_loss: 1.1976 - val_accuracy: 0.5083\n",
            "Epoch 40/100\n",
            "1875/1875 [==============================] - 22s 12ms/step - loss: 1.1693 - accuracy: 0.5219 - val_loss: 1.1195 - val_accuracy: 0.5359\n",
            "Epoch 41/100\n",
            "1875/1875 [==============================] - 22s 12ms/step - loss: 1.1798 - accuracy: 0.5187 - val_loss: 1.1150 - val_accuracy: 0.5361\n",
            "Epoch 42/100\n",
            "1875/1875 [==============================] - 22s 12ms/step - loss: 1.1412 - accuracy: 0.5311 - val_loss: 1.1095 - val_accuracy: 0.5367\n",
            "Epoch 43/100\n",
            "1875/1875 [==============================] - 23s 12ms/step - loss: 1.1637 - accuracy: 0.5219 - val_loss: 1.1690 - val_accuracy: 0.5171\n",
            "Epoch 44/100\n",
            "1875/1875 [==============================] - 22s 12ms/step - loss: 1.1441 - accuracy: 0.5265 - val_loss: 1.0887 - val_accuracy: 0.5422\n",
            "Epoch 45/100\n",
            "1875/1875 [==============================] - 23s 12ms/step - loss: 1.1232 - accuracy: 0.5338 - val_loss: 1.0837 - val_accuracy: 0.5395\n",
            "Epoch 46/100\n",
            "1875/1875 [==============================] - 22s 12ms/step - loss: 1.1096 - accuracy: 0.5385 - val_loss: 1.0726 - val_accuracy: 0.5471\n",
            "Epoch 47/100\n",
            "1875/1875 [==============================] - 22s 12ms/step - loss: 1.1089 - accuracy: 0.5368 - val_loss: 1.0959 - val_accuracy: 0.5362\n",
            "Epoch 48/100\n",
            "1875/1875 [==============================] - 22s 12ms/step - loss: 1.0906 - accuracy: 0.5414 - val_loss: 1.0676 - val_accuracy: 0.5457\n",
            "Epoch 49/100\n",
            "1875/1875 [==============================] - 23s 12ms/step - loss: 1.0825 - accuracy: 0.5491 - val_loss: 1.0505 - val_accuracy: 0.5516\n",
            "Epoch 50/100\n",
            "1875/1875 [==============================] - 22s 12ms/step - loss: 1.0873 - accuracy: 0.5466 - val_loss: 1.0563 - val_accuracy: 0.5536\n",
            "Epoch 51/100\n",
            "1875/1875 [==============================] - 22s 12ms/step - loss: 1.1023 - accuracy: 0.5423 - val_loss: 1.0405 - val_accuracy: 0.5643\n",
            "Epoch 52/100\n",
            "1875/1875 [==============================] - 22s 12ms/step - loss: 1.0765 - accuracy: 0.5510 - val_loss: 1.0346 - val_accuracy: 0.5591\n",
            "Epoch 53/100\n",
            "1875/1875 [==============================] - 22s 12ms/step - loss: 1.0493 - accuracy: 0.5605 - val_loss: 1.0109 - val_accuracy: 0.5717\n",
            "Epoch 54/100\n",
            "1875/1875 [==============================] - 22s 12ms/step - loss: 1.0355 - accuracy: 0.5662 - val_loss: 1.1208 - val_accuracy: 0.5560\n",
            "Epoch 55/100\n",
            "1875/1875 [==============================] - 24s 13ms/step - loss: 1.0928 - accuracy: 0.5465 - val_loss: 0.9977 - val_accuracy: 0.5804\n",
            "Epoch 56/100\n",
            "1875/1875 [==============================] - 22s 12ms/step - loss: 1.0588 - accuracy: 0.5575 - val_loss: 1.2434 - val_accuracy: 0.4974\n",
            "Epoch 57/100\n",
            "1875/1875 [==============================] - 22s 12ms/step - loss: 1.1188 - accuracy: 0.5412 - val_loss: 1.1007 - val_accuracy: 0.5412\n",
            "Epoch 58/100\n",
            "1875/1875 [==============================] - 22s 12ms/step - loss: 1.0324 - accuracy: 0.5678 - val_loss: 0.9761 - val_accuracy: 0.5872\n",
            "Epoch 59/100\n",
            "1875/1875 [==============================] - 22s 12ms/step - loss: 1.0098 - accuracy: 0.5748 - val_loss: 1.0043 - val_accuracy: 0.5734\n",
            "Epoch 60/100\n",
            "1875/1875 [==============================] - 22s 12ms/step - loss: 1.1090 - accuracy: 0.5502 - val_loss: 0.9981 - val_accuracy: 0.5779\n",
            "Epoch 61/100\n",
            "1875/1875 [==============================] - 22s 12ms/step - loss: 1.0083 - accuracy: 0.5770 - val_loss: 0.9689 - val_accuracy: 0.5845\n",
            "Epoch 62/100\n",
            "1875/1875 [==============================] - 22s 12ms/step - loss: 1.2207 - accuracy: 0.5225 - val_loss: 1.5479 - val_accuracy: 0.4336\n",
            "Epoch 63/100\n",
            "1875/1875 [==============================] - 22s 12ms/step - loss: 1.3478 - accuracy: 0.4680 - val_loss: 1.2295 - val_accuracy: 0.4951\n",
            "Epoch 64/100\n",
            "1875/1875 [==============================] - 22s 12ms/step - loss: 1.2603 - accuracy: 0.4864 - val_loss: 1.1829 - val_accuracy: 0.5181\n",
            "Epoch 65/100\n",
            "1875/1875 [==============================] - 22s 12ms/step - loss: 1.2613 - accuracy: 0.4889 - val_loss: 1.1854 - val_accuracy: 0.5136\n",
            "Epoch 66/100\n",
            "1875/1875 [==============================] - 22s 12ms/step - loss: 1.1720 - accuracy: 0.5169 - val_loss: 1.0973 - val_accuracy: 0.5447\n",
            "Epoch 67/100\n",
            "1875/1875 [==============================] - 22s 12ms/step - loss: 1.1339 - accuracy: 0.5315 - val_loss: 1.0917 - val_accuracy: 0.5484\n",
            "Epoch 68/100\n",
            "1875/1875 [==============================] - 22s 12ms/step - loss: 1.0598 - accuracy: 0.5577 - val_loss: 1.0025 - val_accuracy: 0.5799\n",
            "Epoch 69/100\n",
            "1875/1875 [==============================] - 22s 12ms/step - loss: 1.0193 - accuracy: 0.5717 - val_loss: 0.9630 - val_accuracy: 0.5911\n",
            "Epoch 70/100\n",
            "1875/1875 [==============================] - 23s 12ms/step - loss: 0.9994 - accuracy: 0.5799 - val_loss: 0.9642 - val_accuracy: 0.5951\n",
            "Epoch 71/100\n",
            "1875/1875 [==============================] - 22s 12ms/step - loss: 0.9826 - accuracy: 0.5860 - val_loss: 0.9395 - val_accuracy: 0.5987\n",
            "Epoch 72/100\n",
            "1875/1875 [==============================] - 22s 12ms/step - loss: 0.9746 - accuracy: 0.5898 - val_loss: 0.9327 - val_accuracy: 0.6061\n",
            "Epoch 73/100\n",
            "1875/1875 [==============================] - 22s 12ms/step - loss: 1.0007 - accuracy: 0.5785 - val_loss: 0.9357 - val_accuracy: 0.6025\n",
            "Epoch 74/100\n",
            "1875/1875 [==============================] - 22s 12ms/step - loss: 1.0029 - accuracy: 0.5785 - val_loss: 0.9949 - val_accuracy: 0.5792\n",
            "Epoch 75/100\n",
            "1875/1875 [==============================] - 22s 12ms/step - loss: 0.9834 - accuracy: 0.5857 - val_loss: 0.9351 - val_accuracy: 0.6007\n",
            "Epoch 76/100\n",
            "1875/1875 [==============================] - 22s 12ms/step - loss: 0.9481 - accuracy: 0.6007 - val_loss: 0.9022 - val_accuracy: 0.6150\n",
            "Epoch 77/100\n",
            "1875/1875 [==============================] - 22s 12ms/step - loss: 0.9388 - accuracy: 0.6028 - val_loss: 0.8985 - val_accuracy: 0.6181\n",
            "Epoch 78/100\n",
            "1875/1875 [==============================] - 23s 12ms/step - loss: 1.0349 - accuracy: 0.5701 - val_loss: 0.9717 - val_accuracy: 0.5865\n",
            "Epoch 79/100\n",
            "1875/1875 [==============================] - 23s 13ms/step - loss: 0.9743 - accuracy: 0.5895 - val_loss: 0.9227 - val_accuracy: 0.6060\n",
            "Epoch 80/100\n",
            "1875/1875 [==============================] - 22s 12ms/step - loss: 0.9534 - accuracy: 0.5972 - val_loss: 0.9004 - val_accuracy: 0.6124\n",
            "Epoch 81/100\n",
            "1875/1875 [==============================] - 23s 12ms/step - loss: 0.9232 - accuracy: 0.6079 - val_loss: 0.8811 - val_accuracy: 0.6238\n",
            "Epoch 82/100\n",
            "1875/1875 [==============================] - 22s 12ms/step - loss: 0.9095 - accuracy: 0.6129 - val_loss: 0.8756 - val_accuracy: 0.6282\n",
            "Epoch 83/100\n",
            "1875/1875 [==============================] - 23s 12ms/step - loss: 0.9021 - accuracy: 0.6181 - val_loss: 0.8788 - val_accuracy: 0.6260\n",
            "Epoch 84/100\n",
            "1875/1875 [==============================] - 23s 12ms/step - loss: 0.9000 - accuracy: 0.6185 - val_loss: 0.8511 - val_accuracy: 0.6339\n",
            "Epoch 85/100\n",
            "1875/1875 [==============================] - 22s 12ms/step - loss: 0.8856 - accuracy: 0.6226 - val_loss: 0.8586 - val_accuracy: 0.6342\n",
            "Epoch 86/100\n",
            "1875/1875 [==============================] - 22s 12ms/step - loss: 0.8810 - accuracy: 0.6250 - val_loss: 0.8644 - val_accuracy: 0.6335\n",
            "Epoch 87/100\n",
            "1875/1875 [==============================] - 22s 12ms/step - loss: 0.8727 - accuracy: 0.6285 - val_loss: 0.8390 - val_accuracy: 0.6419\n",
            "Epoch 88/100\n",
            "1875/1875 [==============================] - 22s 12ms/step - loss: 0.9133 - accuracy: 0.6171 - val_loss: 1.2116 - val_accuracy: 0.4899\n",
            "Epoch 89/100\n",
            "1875/1875 [==============================] - 22s 12ms/step - loss: 0.9530 - accuracy: 0.5968 - val_loss: 0.8518 - val_accuracy: 0.6406\n",
            "Epoch 90/100\n",
            "1875/1875 [==============================] - 22s 12ms/step - loss: 0.8587 - accuracy: 0.6340 - val_loss: 0.8382 - val_accuracy: 0.6426\n",
            "Epoch 91/100\n",
            "1875/1875 [==============================] - 22s 12ms/step - loss: 0.8491 - accuracy: 0.6394 - val_loss: 0.8196 - val_accuracy: 0.6523\n",
            "Epoch 92/100\n",
            "1875/1875 [==============================] - 22s 12ms/step - loss: 0.8444 - accuracy: 0.6425 - val_loss: 0.8132 - val_accuracy: 0.6521\n",
            "Epoch 93/100\n",
            "1875/1875 [==============================] - 22s 12ms/step - loss: 0.8829 - accuracy: 0.6309 - val_loss: 0.8424 - val_accuracy: 0.6440\n",
            "Epoch 94/100\n",
            "1875/1875 [==============================] - 22s 12ms/step - loss: 0.8354 - accuracy: 0.6465 - val_loss: 0.8267 - val_accuracy: 0.6493\n",
            "Epoch 95/100\n",
            "1875/1875 [==============================] - 23s 12ms/step - loss: 0.8399 - accuracy: 0.6453 - val_loss: 1.2806 - val_accuracy: 0.5373\n",
            "Epoch 96/100\n",
            "1875/1875 [==============================] - 22s 12ms/step - loss: 0.8961 - accuracy: 0.6250 - val_loss: 0.8125 - val_accuracy: 0.6552\n",
            "Epoch 97/100\n",
            "1875/1875 [==============================] - 22s 12ms/step - loss: 0.8300 - accuracy: 0.6495 - val_loss: 0.7995 - val_accuracy: 0.6615\n",
            "Epoch 98/100\n",
            "1875/1875 [==============================] - 22s 12ms/step - loss: 0.8183 - accuracy: 0.6536 - val_loss: 0.8076 - val_accuracy: 0.6573\n",
            "Epoch 99/100\n",
            "1875/1875 [==============================] - 22s 12ms/step - loss: 0.8410 - accuracy: 0.6512 - val_loss: 0.7857 - val_accuracy: 0.6647\n",
            "Epoch 100/100\n",
            "1875/1875 [==============================] - 22s 12ms/step - loss: 0.8123 - accuracy: 0.6567 - val_loss: 0.7776 - val_accuracy: 0.6681\n"
          ]
        }
      ],
      "source": [
        "history = model.fit(X_train, y_train, batch_size=64, epochs=100, validation_data=(X_val, y_val))\n",
        "#model.save('NewAllDataModel_E50_B64.h5')"
      ]
    },
    {
      "cell_type": "code",
      "execution_count": 32,
      "metadata": {
        "id": "R7QQeqVidKBR",
        "colab": {
          "base_uri": "https://localhost:8080/"
        },
        "outputId": "c3a4a0bf-f7b0-47f8-c704-ae87bdc2202d"
      },
      "outputs": [
        {
          "output_type": "stream",
          "name": "stdout",
          "text": [
            "469/469 [==============================] - 2s 5ms/step - loss: 0.7704 - accuracy: 0.6731\n"
          ]
        }
      ],
      "source": [
        "test_acc = model.evaluate(X_test, y_test)"
      ]
    },
    {
      "cell_type": "code",
      "source": [
        "test_acc"
      ],
      "metadata": {
        "id": "6fuTmgGrUgGg",
        "colab": {
          "base_uri": "https://localhost:8080/"
        },
        "outputId": "a3af6222-7882-4e23-f72c-227255708a6e"
      },
      "execution_count": 33,
      "outputs": [
        {
          "output_type": "execute_result",
          "data": {
            "text/plain": [
              "[0.7703889608383179, 0.6731333136558533]"
            ]
          },
          "metadata": {},
          "execution_count": 33
        }
      ]
    },
    {
      "cell_type": "code",
      "execution_count": 34,
      "metadata": {
        "id": "OHpifyqGdKn-",
        "colab": {
          "base_uri": "https://localhost:8080/"
        },
        "outputId": "29527e3e-3fa2-4fa7-b7af-aee0c2e80e76"
      },
      "outputs": [
        {
          "output_type": "stream",
          "name": "stdout",
          "text": [
            "469/469 [==============================] - 2s 4ms/step\n"
          ]
        }
      ],
      "source": [
        "y_test_prob = model.predict(X_test, verbose=1)"
      ]
    },
    {
      "cell_type": "code",
      "source": [
        "np.set_printoptions(suppress=True)\n",
        "y_test_prob_backup = y_test_prob\n",
        "y_test_prob"
      ],
      "metadata": {
        "id": "rRPswrrkmhp2",
        "colab": {
          "base_uri": "https://localhost:8080/"
        },
        "outputId": "b0062438-86b8-4221-e974-b07c8f69a685"
      },
      "execution_count": 78,
      "outputs": [
        {
          "output_type": "execute_result",
          "data": {
            "text/plain": [
              "array([[0.  , 0.  , 0.  , ..., 0.28, 0.  , 0.  ],\n",
              "       [0.  , 0.99, 0.01, ..., 0.  , 0.  , 0.  ],\n",
              "       [0.  , 0.  , 0.98, ..., 0.  , 0.  , 0.  ],\n",
              "       ...,\n",
              "       [0.  , 0.  , 0.  , ..., 0.13, 0.77, 0.07],\n",
              "       [0.  , 0.03, 0.52, ..., 0.05, 0.15, 0.15],\n",
              "       [0.  , 0.  , 0.07, ..., 0.09, 0.44, 0.26]], dtype=float32)"
            ]
          },
          "metadata": {},
          "execution_count": 78
        }
      ]
    },
    {
      "cell_type": "code",
      "execution_count": 96,
      "metadata": {
        "id": "AfmdrBILdMwj"
      },
      "outputs": [],
      "source": [
        "y_test_pred = np.where(y_test_prob > 0.5, 1, 0)"
      ]
    },
    {
      "cell_type": "code",
      "execution_count": 97,
      "metadata": {
        "id": "8DoJy_p9dPzN"
      },
      "outputs": [],
      "source": [
        "from sklearn.metrics import multilabel_confusion_matrix"
      ]
    },
    {
      "cell_type": "code",
      "source": [
        "y_test"
      ],
      "metadata": {
        "id": "n1Us2yrfcGl-",
        "colab": {
          "base_uri": "https://localhost:8080/"
        },
        "outputId": "fc3f3344-ba21-41ca-b5cc-94f6f7352902"
      },
      "execution_count": 98,
      "outputs": [
        {
          "output_type": "execute_result",
          "data": {
            "text/plain": [
              "<tf.Tensor: shape=(15000,), dtype=int64, numpy=array([4, 1, 2, ..., 6, 6, 7])>"
            ]
          },
          "metadata": {},
          "execution_count": 98
        }
      ]
    },
    {
      "cell_type": "code",
      "source": [
        "y_test.shape"
      ],
      "metadata": {
        "id": "VnmvTcvWbxr9",
        "colab": {
          "base_uri": "https://localhost:8080/"
        },
        "outputId": "29e5a20f-ebe2-4c96-fe9f-545f3d23d74c"
      },
      "execution_count": 99,
      "outputs": [
        {
          "output_type": "execute_result",
          "data": {
            "text/plain": [
              "TensorShape([15000])"
            ]
          },
          "metadata": {},
          "execution_count": 99
        }
      ]
    },
    {
      "cell_type": "code",
      "source": [
        "y_test_pred"
      ],
      "metadata": {
        "id": "nMBOgzrgcJBj",
        "colab": {
          "base_uri": "https://localhost:8080/"
        },
        "outputId": "de209007-b310-4613-843f-77f79b46b337"
      },
      "execution_count": 100,
      "outputs": [
        {
          "output_type": "execute_result",
          "data": {
            "text/plain": [
              "array([[0, 0, 0, ..., 0, 0, 0],\n",
              "       [0, 1, 0, ..., 0, 0, 0],\n",
              "       [0, 0, 1, ..., 0, 0, 0],\n",
              "       ...,\n",
              "       [0, 0, 0, ..., 0, 1, 0],\n",
              "       [0, 0, 1, ..., 0, 0, 0],\n",
              "       [0, 0, 0, ..., 0, 0, 0]])"
            ]
          },
          "metadata": {},
          "execution_count": 100
        }
      ]
    },
    {
      "cell_type": "code",
      "source": [
        "y_test_pred.shape"
      ],
      "metadata": {
        "id": "SXKZof8Ye5uI",
        "colab": {
          "base_uri": "https://localhost:8080/"
        },
        "outputId": "ded722ab-c834-4518-8819-9686709ebb56"
      },
      "execution_count": 101,
      "outputs": [
        {
          "output_type": "execute_result",
          "data": {
            "text/plain": [
              "(15000, 8)"
            ]
          },
          "metadata": {},
          "execution_count": 101
        }
      ]
    },
    {
      "cell_type": "code",
      "source": [
        "y_decoded_pred = tf.argmax(y_test_pred, axis = 1)"
      ],
      "metadata": {
        "id": "leDQwKOjgwwi"
      },
      "execution_count": 102,
      "outputs": []
    },
    {
      "cell_type": "code",
      "source": [
        "#y_decoded = tf.argmax(y_test, axis = 1)"
      ],
      "metadata": {
        "id": "sAHRmtesif6g"
      },
      "execution_count": 103,
      "outputs": []
    },
    {
      "cell_type": "code",
      "source": [
        "y_decoded_pred"
      ],
      "metadata": {
        "id": "_lvFhrmPhprD",
        "colab": {
          "base_uri": "https://localhost:8080/"
        },
        "outputId": "cfc0d583-e014-4dcd-b27e-bf07fda96c51"
      },
      "execution_count": 104,
      "outputs": [
        {
          "output_type": "execute_result",
          "data": {
            "text/plain": [
              "<tf.Tensor: shape=(15000,), dtype=int64, numpy=array([0, 1, 2, ..., 6, 2, 0])>"
            ]
          },
          "metadata": {},
          "execution_count": 104
        }
      ]
    },
    {
      "cell_type": "code",
      "source": [
        "#y_decoded"
      ],
      "metadata": {
        "id": "YV1FXgHviPwm"
      },
      "execution_count": 105,
      "outputs": []
    },
    {
      "cell_type": "code",
      "source": [
        "y_test_pred = y_decoded_pred\n"
      ],
      "metadata": {
        "id": "6-6jFqzGh380"
      },
      "execution_count": 106,
      "outputs": []
    },
    {
      "cell_type": "code",
      "source": [
        "#y_test = y_decoded"
      ],
      "metadata": {
        "id": "9pogVvdIiwss"
      },
      "execution_count": 107,
      "outputs": []
    },
    {
      "cell_type": "code",
      "source": [
        "y_test"
      ],
      "metadata": {
        "id": "oGt5aJetiKR6",
        "colab": {
          "base_uri": "https://localhost:8080/"
        },
        "outputId": "8fe2c30c-79b9-41fa-ec27-aeb3c3289e25"
      },
      "execution_count": 108,
      "outputs": [
        {
          "output_type": "execute_result",
          "data": {
            "text/plain": [
              "<tf.Tensor: shape=(15000,), dtype=int64, numpy=array([4, 1, 2, ..., 6, 6, 7])>"
            ]
          },
          "metadata": {},
          "execution_count": 108
        }
      ]
    },
    {
      "cell_type": "code",
      "source": [
        "y_test_pred"
      ],
      "metadata": {
        "id": "fLgDwAIfiyv2",
        "colab": {
          "base_uri": "https://localhost:8080/"
        },
        "outputId": "83586d9f-2de3-4515-f445-6f819792950d"
      },
      "execution_count": 109,
      "outputs": [
        {
          "output_type": "execute_result",
          "data": {
            "text/plain": [
              "<tf.Tensor: shape=(15000,), dtype=int64, numpy=array([0, 1, 2, ..., 6, 2, 0])>"
            ]
          },
          "metadata": {},
          "execution_count": 109
        }
      ]
    },
    {
      "cell_type": "code",
      "execution_count": 110,
      "metadata": {
        "id": "fTCsPjW8dQaZ"
      },
      "outputs": [],
      "source": [
        "cfm=confusion_matrix(y_test, y_test_pred)"
      ]
    },
    {
      "cell_type": "code",
      "source": [
        "cfm"
      ],
      "metadata": {
        "id": "_67lPg6ic4cH",
        "colab": {
          "base_uri": "https://localhost:8080/"
        },
        "outputId": "38f1d975-7fa8-4ca9-d217-9a4b345450da"
      },
      "execution_count": 111,
      "outputs": [
        {
          "output_type": "execute_result",
          "data": {
            "text/plain": [
              "array([[1891,   43,    0,    0,    0,    0,    0,    0],\n",
              "       [  58, 1740,   25,    0,    0,    0,    0,    6],\n",
              "       [ 491,   26, 1239,   62,    0,    0,    1,   46],\n",
              "       [1041,    0,  155,  612,   81,    7,    4,    3],\n",
              "       [1189,    0,   41,  116,  416,   72,   17,    9],\n",
              "       [1328,    0,   26,   55,  121,  239,   34,   11],\n",
              "       [1071,    0,   33,    0,    0,   25,  445,  286],\n",
              "       [ 402,    8,    8,    0,    0,    0,   98, 1419]])"
            ]
          },
          "metadata": {},
          "execution_count": 111
        }
      ]
    },
    {
      "cell_type": "code",
      "source": [
        " print(classification_report(y_test,y_test_pred))"
      ],
      "metadata": {
        "id": "XTqR_xnwRWCJ",
        "colab": {
          "base_uri": "https://localhost:8080/"
        },
        "outputId": "5c6c2d3d-2534-46a7-945b-e94842a7f664"
      },
      "execution_count": 112,
      "outputs": [
        {
          "output_type": "stream",
          "name": "stdout",
          "text": [
            "              precision    recall  f1-score   support\n",
            "\n",
            "           0       0.25      0.98      0.40      1934\n",
            "           1       0.96      0.95      0.95      1829\n",
            "           2       0.81      0.66      0.73      1865\n",
            "           3       0.72      0.32      0.45      1903\n",
            "           4       0.67      0.22      0.34      1860\n",
            "           5       0.70      0.13      0.22      1814\n",
            "           6       0.74      0.24      0.36      1860\n",
            "           7       0.80      0.73      0.76      1935\n",
            "\n",
            "    accuracy                           0.53     15000\n",
            "   macro avg       0.71      0.53      0.53     15000\n",
            "weighted avg       0.70      0.53      0.53     15000\n",
            "\n"
          ]
        }
      ]
    },
    {
      "cell_type": "code",
      "execution_count": 113,
      "metadata": {
        "id": "te3fslrY9Eca",
        "colab": {
          "base_uri": "https://localhost:8080/",
          "height": 903
        },
        "outputId": "ef1fe1e5-34e0-4ac8-cabc-b199bfacb003"
      },
      "outputs": [
        {
          "output_type": "stream",
          "name": "stdout",
          "text": [
            "Confusion matrix, without normalization\n",
            "[[1891   43    0    0    0    0    0    0]\n",
            " [  58 1740   25    0    0    0    0    6]\n",
            " [ 491   26 1239   62    0    0    1   46]\n",
            " [1041    0  155  612   81    7    4    3]\n",
            " [1189    0   41  116  416   72   17    9]\n",
            " [1328    0   26   55  121  239   34   11]\n",
            " [1071    0   33    0    0   25  445  286]\n",
            " [ 402    8    8    0    0    0   98 1419]]\n",
            "Normalized confusion matrix\n",
            "[[0.98 0.02 0.   0.   0.   0.   0.   0.  ]\n",
            " [0.03 0.95 0.01 0.   0.   0.   0.   0.  ]\n",
            " [0.26 0.01 0.66 0.03 0.   0.   0.   0.02]\n",
            " [0.55 0.   0.08 0.32 0.04 0.   0.   0.  ]\n",
            " [0.64 0.   0.02 0.06 0.22 0.04 0.01 0.  ]\n",
            " [0.73 0.   0.01 0.03 0.07 0.13 0.02 0.01]\n",
            " [0.58 0.   0.02 0.   0.   0.01 0.24 0.15]\n",
            " [0.21 0.   0.   0.   0.   0.   0.05 0.73]]\n"
          ]
        },
        {
          "output_type": "display_data",
          "data": {
            "text/plain": [
              "<Figure size 432x288 with 2 Axes>"
            ],
            "image/png": "[encoded data removed]"
          },
          "metadata": {
            "needs_background": "light"
          }
        },
        {
          "output_type": "display_data",
          "data": {
            "text/plain": [
              "<Figure size 432x288 with 2 Axes>"
            ],
            "image/png": "[encoded data removed]"
          },
          "metadata": {
            "needs_background": "light"
          }
        }
      ],
      "source": [
        "import numpy as np\n",
        "import matplotlib.pyplot as plt\n",
        "\n",
        "from sklearn import svm, datasets\n",
        "from sklearn.model_selection import train_test_split\n",
        "from sklearn.metrics import confusion_matrix\n",
        "from sklearn.utils.multiclass import unique_labels\n",
        "\n",
        "class_names = np.array(['0', '1', '2', '3', '4', '5', '6', '7'])\n",
        "\n",
        "def plot_confusion_matrix(y_true, y_pred, classes,\n",
        "                          normalize=False,\n",
        "                          title=None,\n",
        "                          cmap=plt.cm.Blues):\n",
        "    \"\"\"\n",
        "    This function prints and plots the confusion matrix.\n",
        "    Normalization can be applied by setting `normalize=True`.\n",
        "    \"\"\"\n",
        "    if not title:\n",
        "        if normalize:\n",
        "            title = 'Normalized confusion matrix'\n",
        "        else:\n",
        "            title = 'Confusion matrix, without normalization'\n",
        "\n",
        "    # Compute confusion matrix\n",
        "    cm = confusion_matrix(y_true, y_pred)\n",
        "    # Only use the labels that appear in the data\n",
        "    classes = classes[unique_labels(y_true, y_pred)]\n",
        "    if normalize:\n",
        "        cm = cm.astype('float') / cm.sum(axis=1)[:, np.newaxis]\n",
        "        print(\"Normalized confusion matrix\")\n",
        "    else:\n",
        "        print('Confusion matrix, without normalization')\n",
        "\n",
        "    print(cm)\n",
        "\n",
        "    fig, ax = plt.subplots()\n",
        "    im = ax.imshow(cm, interpolation='nearest', cmap=cmap)\n",
        "    ax.figure.colorbar(im, ax=ax)\n",
        "    # We want to show all ticks...\n",
        "    ax.set(xticks=np.arange(cm.shape[1]),\n",
        "           yticks=np.arange(cm.shape[0]),\n",
        "           # ... and label them with the respective list entries\n",
        "           xticklabels=classes, yticklabels=classes,\n",
        "           title=title,\n",
        "           ylabel='True label',\n",
        "           xlabel='Predicted label')\n",
        "\n",
        "    # Rotate the tick labels and set their alignment.\n",
        "    plt.setp(ax.get_xticklabels(), rotation=45, ha=\"right\",\n",
        "             rotation_mode=\"anchor\")\n",
        "\n",
        "    # Loop over data dimensions and create text annotations.\n",
        "    fmt = '.2f' if normalize else 'd'\n",
        "    thresh = cm.max() / 2.\n",
        "    for i in range(cm.shape[0]):\n",
        "        for j in range(cm.shape[1]):\n",
        "            ax.text(j, i, format(cm[i, j], fmt),\n",
        "                    ha=\"center\", va=\"center\",\n",
        "                    color=\"white\" if cm[i, j] > thresh else \"black\")\n",
        "    fig.tight_layout()\n",
        "\n",
        "    return ax\n",
        "\n",
        "\n",
        "np.set_printoptions(precision=2)\n",
        "\n",
        "# Plot non-normalized confusion matrix\n",
        "plot_confusion_matrix(y_test, y_test_pred, classes=class_names,\n",
        "                      title='Confusion matrix, without normalization')\n",
        "\n",
        "# Plot normalized confusion matrix\n",
        "plot_confusion_matrix(y_test, y_test_pred, classes=class_names, normalize=True,\n",
        "                      title='Normalized confusion matrix')\n",
        "\n",
        "plt.show()"
      ]
    },
    {
      "cell_type": "code",
      "execution_count": 114,
      "metadata": {
        "id": "fhdLAhgPUnH3"
      },
      "outputs": [],
      "source": [
        "def plot_learningCurve(history, epoch):\n",
        "  # Plot training & validation accuracy values\n",
        "  epoch_range = range(1, epoch+1)\n",
        "  plt.plot(epoch_range, history.history['accuracy'])\n",
        "  plt.plot(epoch_range, history.history['val_accuracy'])\n",
        "  plt.title('Model accuracy')\n",
        "  plt.ylabel('Accuracy')\n",
        "  plt.xlabel('Epoch')\n",
        "  plt.legend(['Train', 'Val'], loc='upper left')\n",
        "  plt.show()\n",
        "\n",
        "  # Plot training & validation loss values\n",
        "  plt.plot(epoch_range, history.history['loss'])\n",
        "  plt.plot(epoch_range, history.history['val_loss'])\n",
        "  plt.title('Model loss')\n",
        "  plt.ylabel('Loss')\n",
        "  plt.xlabel('Epoch')\n",
        "  plt.legend(['Train', 'Val'], loc='upper left')\n",
        "  plt.show()"
      ]
    },
    {
      "cell_type": "code",
      "execution_count": 115,
      "metadata": {
        "id": "WlkQkWHgU5mL",
        "colab": {
          "base_uri": "https://localhost:8080/",
          "height": 581
        },
        "outputId": "523d0ec7-cdbb-483c-ab4d-1bb934b1a0bf"
      },
      "outputs": [
        {
          "output_type": "display_data",
          "data": {
            "text/plain": [
              "<Figure size 432x288 with 1 Axes>"
            ],
            "image/png": "[encoded data removed]"
          },
          "metadata": {
            "needs_background": "light"
          }
        },
        {
          "output_type": "display_data",
          "data": {
            "text/plain": [
              "<Figure size 432x288 with 1 Axes>"
            ],
            "image/png": "[encoded data removed]"
          },
          "metadata": {
            "needs_background": "light"
          }
        }
      ],
      "source": [
        "plot_learningCurve(history, 100)"
      ]
    }
  ],
  "metadata": {
    "colab": {
      "collapsed_sections": [
        "f857kfHqUk0-"
      ],
      "name": "Multi_Class_MD_LSTM_step_200_files_120.ipynb",
      "provenance": [],
      "include_colab_link": true
    },
    "kernelspec": {
      "display_name": "Python 3",
      "name": "python3"
    },
    "language_info": {
      "name": "python"
    },
    "accelerator": "GPU"
  },
  "nbformat": 4,
  "nbformat_minor": 0
}
