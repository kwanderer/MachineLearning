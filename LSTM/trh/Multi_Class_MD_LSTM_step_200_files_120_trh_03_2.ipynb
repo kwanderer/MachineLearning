{
  "cells": [
    {
      "cell_type": "markdown",
      "metadata": {
        "id": "view-in-github",
        "colab_type": "text"
      },
      "source": [
        "<a href=\"https://colab.research.google.com/github/kwanderer/MachineLearning/blob/main/Multi_Class_MD_LSTM_step_200_files_120_trh_03_2.ipynb\" target=\"_parent\"><img src=\"https://colab.research.google.com/assets/colab-badge.svg\" alt=\"Open In Colab\"/></a>"
      ]
    },
    {
      "cell_type": "markdown",
      "metadata": {
        "id": "f857kfHqUk0-"
      },
      "source": [
        "\n",
        "\n",
        "#Datu kopa"
      ]
    },
    {
      "cell_type": "markdown",
      "metadata": {
        "id": "nM9WE3QGUwVi"
      },
      "source": [
        "Datu kopas avots: https://www.kaggle.com/uysalserkan/fault-induction-motor-dataset"
      ]
    },
    {
      "cell_type": "markdown",
      "metadata": {
        "id": "_sN_h3qHHy6r"
      },
      "source": [
        "Darbā tiek izmantota indukcijas motora parametru datu bāze. Izmantotajā datu kopā ir dati, kas tika iegūti SpectraQuest aparatūras kļūdu simulatorā (Machinery Fault Simulator).\n",
        "\n",
        "Katra mērījumu secība tika ģenerēta ar frekvenci 50 kHz 5 sekunžu laikā, kopā 250 000 mērījumi.\n",
        "\n",
        "Dati ir apkopoti vairākos failos, dažādos darbības stāvokļos un to apjoms ir ļoti liels. Šajā darbā tika izmantota daļa(viena mērījumu secība) no motora normālas darbības datiem.\n"
      ]
    },
    {
      "cell_type": "markdown",
      "metadata": {
        "id": "KtFAOaHYHLPo"
      },
      "source": [
        "Dati ir apkopoti tabulā, kura satur 8 parametrus. Dati ir iedalīti sekojošās kolonas:\n",
        "\n",
        "**tachometer** – tahometra signāls, kas ļauj novērtēt rotācijas frekvenci\n",
        "\n",
        "**und-accelerometer-axial** - apakšā esošā gultņa akselerometrs (aksiālais virziens)\n",
        "\n",
        "**und-accelerometer-radial** – apakšā esošā gultņa akselerometrs (radiālais virziens)\n",
        "\n",
        "**und-accelerometer-tangential** - apakšā esošā gultņa akselerometrs (tangenciālais virziens)\n",
        "\n",
        "**over-accelerometer-axial** - pārkares gultņa akselerometrs (aksiālais virziens)\n",
        "\n",
        "**over-accelerometer-radial** – pārkares gultņa akselerometrs (radiālais  virziens)\n",
        "\n",
        "**over-accelerometer-tangential**  - pārkares gultņa akselerometrs (tangenciālais virziens)\n",
        "\n",
        "**microphone** – mikrofona vērtība\n"
      ]
    },
    {
      "cell_type": "markdown",
      "metadata": {
        "id": "XymoNLKMVFUC"
      },
      "source": [
        "#Datu ielasīšana un satura vizualizācija"
      ]
    },
    {
      "cell_type": "code",
      "execution_count": 1,
      "metadata": {
        "id": "_yqYZDeOFq5s"
      },
      "outputs": [],
      "source": [
        "import keras\n",
        "from keras.layers import LSTM, Dropout, Dense\n",
        "import tensorflow as tf\n",
        "import numpy as np\n",
        "import pandas as pd\n",
        "\n",
        "from sklearn import linear_model  #pip install sklearn - loti plasa masinapmacibas biblioteka\n",
        "from sklearn.linear_model import LinearRegression  \n",
        "import csv          #pip install csv - darbam ar CSV datu kopam\n",
        "import requests     #pip install requests  - vienkarsakam darbam ar tiessaistes CSV datu kopam tiessaistes\n",
        "\n",
        "import matplotlib\n",
        "import matplotlib.pyplot as plt\n",
        "\n",
        "import glob\n"
      ]
    },
    {
      "cell_type": "code",
      "execution_count": 2,
      "metadata": {
        "id": "wlRTBbM2eUcV",
        "colab": {
          "base_uri": "https://localhost:8080/"
        },
        "outputId": "4a3b4a64-8fea-4211-b4c0-2b3fa532c3a8"
      },
      "outputs": [
        {
          "output_type": "stream",
          "name": "stdout",
          "text": [
            "Drive already mounted at /content/gdrive; to attempt to forcibly remount, call drive.mount(\"/content/gdrive\", force_remount=True).\n"
          ]
        }
      ],
      "source": [
        "from google.colab import drive\n",
        "import os\n",
        "drive.mount('/content/gdrive')\n",
        "os.chdir(\"/content/gdrive/MyDrive/Colab Notebooks/data_multiclass/\")"
      ]
    },
    {
      "cell_type": "code",
      "execution_count": 3,
      "metadata": {
        "id": "zzz6fBl_SNom"
      },
      "outputs": [],
      "source": [
        "#extension = 'csv'\n",
        "#all_filenames = [i for i in glob.glob('*.{}'.format(extension))]"
      ]
    },
    {
      "cell_type": "code",
      "execution_count": 4,
      "metadata": {
        "id": "vagKFCkToBi0"
      },
      "outputs": [],
      "source": [
        "#combine all files in the list\n",
        "#combined_csv = pd.concat([pd.read_csv(f) for f in all_filenames ])\n",
        "#export to csv\n",
        "#combined_csv.to_csv( \"combined_multiclass_csv.csv\", index=False, encoding='utf-8-sig')"
      ]
    },
    {
      "cell_type": "code",
      "execution_count": 5,
      "metadata": {
        "id": "encEkbDhSfGI"
      },
      "outputs": [],
      "source": [
        "data = pd.read_csv(\"combined_multiclass_csv.csv\")"
      ]
    },
    {
      "cell_type": "code",
      "execution_count": 6,
      "metadata": {
        "id": "yz5Qe8ZWk1Zq",
        "colab": {
          "base_uri": "https://localhost:8080/"
        },
        "outputId": "e8ce0020-a08e-463c-9431-95276a7c06fd"
      },
      "outputs": [
        {
          "output_type": "stream",
          "name": "stdout",
          "text": [
            "<class 'pandas.core.frame.DataFrame'>\n",
            "RangeIndex: 30000000 entries, 0 to 29999999\n",
            "Data columns (total 9 columns):\n",
            " #   Column                         Dtype  \n",
            "---  ------                         -----  \n",
            " 0   tachometer                     float64\n",
            " 1   und-accelerometer-axial        float64\n",
            " 2   und-accelerometer-radial       float64\n",
            " 3   und-accelerometer-tangential   float64\n",
            " 4   over-accelerometer-axial       float64\n",
            " 5   over-accelerometer-radial      float64\n",
            " 6   over-accelerometer-tangential  float64\n",
            " 7   microphone                     float64\n",
            " 8   Class                          int64  \n",
            "dtypes: float64(8), int64(1)\n",
            "memory usage: 2.0 GB\n"
          ]
        }
      ],
      "source": [
        "data.info()"
      ]
    },
    {
      "cell_type": "code",
      "execution_count": 7,
      "metadata": {
        "id": "WUW9ezX6a_st",
        "colab": {
          "base_uri": "https://localhost:8080/"
        },
        "outputId": "6f3c16b6-cc31-4e05-b098-444723e0e363"
      },
      "outputs": [
        {
          "output_type": "execute_result",
          "data": {
            "text/plain": [
              "30000000"
            ]
          },
          "metadata": {},
          "execution_count": 7
        }
      ],
      "source": [
        "rec_count = len(data)\n",
        "rec_count"
      ]
    },
    {
      "cell_type": "markdown",
      "metadata": {
        "id": "6RVC1PZy88fC"
      },
      "source": [
        "# Datu dalīšana mazākos gabalos"
      ]
    },
    {
      "cell_type": "code",
      "execution_count": 8,
      "metadata": {
        "id": "DOvnCYkcbGaE"
      },
      "outputs": [],
      "source": [
        "sequence_length = 200"
      ]
    },
    {
      "cell_type": "code",
      "execution_count": 9,
      "metadata": {
        "id": "RG0o2L3zbTEx"
      },
      "outputs": [],
      "source": [
        "def generate_data(X, y, sequence_length = 200, step = 200):\n",
        "    X_local = []\n",
        "    y_local = []\n",
        "    for start in range(0, len(data) - sequence_length, step):\n",
        "        end = start + sequence_length\n",
        "        X_local.append(X[start:end])\n",
        "        y_local.append(y[end-1])\n",
        "    return np.array(X_local), np.array(y_local)\n",
        "\n",
        "X_sequence, y = generate_data(data.loc[:, \"tachometer\":\"microphone\"].values, data.Class)"
      ]
    },
    {
      "cell_type": "code",
      "execution_count": 10,
      "metadata": {
        "id": "s0QxwK66cLVF",
        "colab": {
          "base_uri": "https://localhost:8080/"
        },
        "outputId": "c1965662-eae2-4858-a0a8-86ad484b47bc"
      },
      "outputs": [
        {
          "output_type": "execute_result",
          "data": {
            "text/plain": [
              "((149999, 200, 8), (149999,))"
            ]
          },
          "metadata": {},
          "execution_count": 10
        }
      ],
      "source": [
        "X_sequence.shape, y.shape"
      ]
    },
    {
      "cell_type": "code",
      "source": [
        "unique, counts = np.unique(y, return_counts=True)"
      ],
      "metadata": {
        "id": "l8Lq455lV1JR"
      },
      "execution_count": 11,
      "outputs": []
    },
    {
      "cell_type": "code",
      "source": [
        "unique"
      ],
      "metadata": {
        "id": "t0BRO3nAWQxe",
        "colab": {
          "base_uri": "https://localhost:8080/"
        },
        "outputId": "21744112-3b79-4275-acac-506d4f9ed69a"
      },
      "execution_count": 12,
      "outputs": [
        {
          "output_type": "execute_result",
          "data": {
            "text/plain": [
              "array([0, 1, 2, 3, 4, 5, 6, 7])"
            ]
          },
          "metadata": {},
          "execution_count": 12
        }
      ]
    },
    {
      "cell_type": "code",
      "source": [
        "counts"
      ],
      "metadata": {
        "id": "WWZ7QWR4WS_r",
        "colab": {
          "base_uri": "https://localhost:8080/"
        },
        "outputId": "db0fef50-cc6c-415e-ecd4-059eced8025d"
      },
      "execution_count": 13,
      "outputs": [
        {
          "output_type": "execute_result",
          "data": {
            "text/plain": [
              "array([18749, 18750, 18750, 18750, 18750, 18750, 18750, 18750])"
            ]
          },
          "metadata": {},
          "execution_count": 13
        }
      ]
    },
    {
      "cell_type": "code",
      "execution_count": 14,
      "metadata": {
        "id": "i7R1oo6Mj8wx"
      },
      "outputs": [],
      "source": [
        "data = 0"
      ]
    },
    {
      "cell_type": "code",
      "source": [
        "from sklearn.preprocessing import OneHotEncoder"
      ],
      "metadata": {
        "id": "lAk_JscRWmqY"
      },
      "execution_count": 15,
      "outputs": []
    },
    {
      "cell_type": "code",
      "source": [
        "label_encoder = OneHotEncoder(sparse=False)\n",
        "label_encoder.fit(y.reshape(-1,1))"
      ],
      "metadata": {
        "id": "14B9aYy0W0y6",
        "colab": {
          "base_uri": "https://localhost:8080/"
        },
        "outputId": "1149d3f4-76de-4056-8b3c-9e7353ffa6d3"
      },
      "execution_count": 16,
      "outputs": [
        {
          "output_type": "execute_result",
          "data": {
            "text/plain": [
              "OneHotEncoder(sparse=False)"
            ]
          },
          "metadata": {},
          "execution_count": 16
        }
      ]
    },
    {
      "cell_type": "code",
      "source": [
        "y_encoded = label_encoder.transform(y.reshape(-1,1))"
      ],
      "metadata": {
        "id": "VjpWn96xXgPS"
      },
      "execution_count": 17,
      "outputs": []
    },
    {
      "cell_type": "code",
      "source": [
        "y_encoded[0:5]"
      ],
      "metadata": {
        "id": "VL6KMFo9XpBi",
        "colab": {
          "base_uri": "https://localhost:8080/"
        },
        "outputId": "aebbf0d8-6258-47ce-d67c-569e6a7de573"
      },
      "execution_count": 18,
      "outputs": [
        {
          "output_type": "execute_result",
          "data": {
            "text/plain": [
              "array([[0., 0., 0., 0., 0., 0., 0., 1.],\n",
              "       [0., 0., 0., 0., 0., 0., 0., 1.],\n",
              "       [0., 0., 0., 0., 0., 0., 0., 1.],\n",
              "       [0., 0., 0., 0., 0., 0., 0., 1.],\n",
              "       [0., 0., 0., 0., 0., 0., 0., 1.]])"
            ]
          },
          "metadata": {},
          "execution_count": 18
        }
      ]
    },
    {
      "cell_type": "code",
      "source": [
        "y=y_encoded"
      ],
      "metadata": {
        "id": "5c8km253YKBl"
      },
      "execution_count": 19,
      "outputs": []
    },
    {
      "cell_type": "markdown",
      "metadata": {
        "id": "5BXSDoHa9UX_"
      },
      "source": [
        "# Random/Shuffle"
      ]
    },
    {
      "cell_type": "code",
      "execution_count": 20,
      "metadata": {
        "id": "ZcfE9idy-ckb"
      },
      "outputs": [],
      "source": [
        "shuffler = np.random.permutation(len(X_sequence))\n",
        "X_sequence_shuffled = X_sequence[shuffler]\n",
        "y_shuffled = y[shuffler]"
      ]
    },
    {
      "cell_type": "markdown",
      "metadata": {
        "id": "TfhRTTNcE2s8"
      },
      "source": [
        "# LSTM"
      ]
    },
    {
      "cell_type": "code",
      "execution_count": 21,
      "metadata": {
        "id": "ihrXMuVAEwlY"
      },
      "outputs": [],
      "source": [
        "import pandas as pd\n",
        "import sklearn.metrics as metrique\n",
        "from pandas import Series\n",
        "from sklearn.preprocessing import StandardScaler, MinMaxScaler\n",
        "from matplotlib import pyplot\n",
        "from sklearn.model_selection import train_test_split\n",
        "import numpy as np\n",
        "import tensorflow as tf\n",
        "import sys\n",
        "import numpy as np\n",
        "import pandas as pd\n",
        "import tensorflow as tf\n",
        "import matplotlib.pyplot as plt\n",
        "from sklearn.model_selection import train_test_split\n",
        "from sklearn import preprocessing\n",
        "from sklearn.preprocessing import StandardScaler\n",
        "from sklearn.metrics import classification_report\n",
        "import warnings\n",
        "warnings.filterwarnings('ignore')\n",
        "plt.style.use('ggplot')\n",
        "import seaborn as sns \n",
        "%matplotlib inline\n",
        "from keras.callbacks import EarlyStopping\n",
        "from keras.callbacks import ModelCheckpoint\n",
        "from sklearn.metrics import accuracy_score\n",
        "from sklearn.metrics import classification_report, confusion_matrix\n",
        "from keras.models import Sequential\n",
        "from keras.utils import np_utils\n",
        "from keras.layers import LSTM, Dense, Embedding, Dropout,Input, Layer, Concatenate, Permute, Dot, Multiply, Flatten\n",
        "from keras.layers import RepeatVector, Dense, Activation, Lambda\n",
        "from keras.models import Sequential\n",
        "from keras import backend as K, regularizers, Model, metrics\n",
        "from keras.backend import cast"
      ]
    },
    {
      "cell_type": "code",
      "execution_count": 22,
      "metadata": {
        "id": "PjKWKiA6aH3z"
      },
      "outputs": [],
      "source": [
        "#from tensorflow.keras import optimizers\n",
        "#sgd = optimizers.SGD(lr=0.0001, decay=1e-6, momentum=0.9, nesterov=True)\n",
        "#model = keras.Sequential()\n",
        "#model.add(LSTM(100, input_shape = (200, 8)))\n",
        "#model.add(Dropout(0.5))\n",
        "#model.add(Dense(1, activation=\"softmax\"))\n",
        "\n",
        "\n",
        "#model.compile(loss=\"categorical_crossentropy\"\n",
        "#              , metrics=[keras.metrics.binary_accuracy]\n",
        "#              , optimizer='sgd')\n",
        "\n",
        "#model.summary()"
      ]
    },
    {
      "cell_type": "code",
      "execution_count": 23,
      "metadata": {
        "id": "_2SaVmwSWJVB",
        "colab": {
          "base_uri": "https://localhost:8080/"
        },
        "outputId": "1351c116-3996-4d96-d9b5-0a2d7019a47f"
      },
      "outputs": [
        {
          "output_type": "stream",
          "name": "stdout",
          "text": [
            "Model: \"sequential\"\n",
            "_________________________________________________________________\n",
            " Layer (type)                Output Shape              Param #   \n",
            "=================================================================\n",
            " lstm (LSTM)                 (None, 100)               43600     \n",
            "                                                                 \n",
            " dropout (Dropout)           (None, 100)               0         \n",
            "                                                                 \n",
            " dense (Dense)               (None, 8)                 808       \n",
            "                                                                 \n",
            "=================================================================\n",
            "Total params: 44,408\n",
            "Trainable params: 44,408\n",
            "Non-trainable params: 0\n",
            "_________________________________________________________________\n"
          ]
        }
      ],
      "source": [
        "from tensorflow.keras import optimizers\n",
        "#sgd = optimizers.SGD(lr=0.0001, decay=1e-6, momentum=0.9, nesterov=True)\n",
        "optimizer = tf.keras.optimizers.Adam(lr=0.0001)\n",
        "model = keras.Sequential()\n",
        "model.add(LSTM(100, input_shape = (200, 8)))\n",
        "model.add(Dropout(0.5))#0.25\n",
        "model.add(Dense(8, activation=\"softmax\"))\n",
        "\n",
        "#model.compile(loss='mean_squared_error', optimizer=sgd)\n",
        "model.compile(loss=\"categorical_crossentropy\"\n",
        "              , metrics=['accuracy']\n",
        "              , optimizer=optimizer)\n",
        "\n",
        "model.summary()"
      ]
    },
    {
      "cell_type": "code",
      "execution_count": 24,
      "metadata": {
        "id": "tg8wrqsqc8UX"
      },
      "outputs": [],
      "source": [
        "training_size = int(len(X_sequence) * 0.8)\n",
        "val_size = int(len(X_sequence) * 0.9)"
      ]
    },
    {
      "cell_type": "code",
      "execution_count": 25,
      "metadata": {
        "id": "avIp3TEKc-qF"
      },
      "outputs": [],
      "source": [
        "X_train, y_train = X_sequence_shuffled[:training_size], y_shuffled[:training_size]\n",
        "X_val, y_val = X_sequence_shuffled[training_size:val_size], y_shuffled[training_size:val_size]\n",
        "X_test, y_test = X_sequence_shuffled[val_size:], y_shuffled[val_size:]"
      ]
    },
    {
      "cell_type": "code",
      "execution_count": 26,
      "metadata": {
        "id": "RABc_uKzkBUT"
      },
      "outputs": [],
      "source": [
        "#X_sequence = 0\n",
        "#y = 0"
      ]
    },
    {
      "cell_type": "code",
      "source": [
        "X_train.shape"
      ],
      "metadata": {
        "id": "Omv-ht1dhGxL",
        "colab": {
          "base_uri": "https://localhost:8080/"
        },
        "outputId": "75e93e97-d3c2-478f-ac33-c998248d2e60"
      },
      "execution_count": 27,
      "outputs": [
        {
          "output_type": "execute_result",
          "data": {
            "text/plain": [
              "(119999, 200, 8)"
            ]
          },
          "metadata": {},
          "execution_count": 27
        }
      ]
    },
    {
      "cell_type": "code",
      "execution_count": 28,
      "metadata": {
        "id": "8aIhPJ-wLCwZ",
        "colab": {
          "base_uri": "https://localhost:8080/"
        },
        "outputId": "58e25086-cc91-489a-8fa2-f046537d8b41"
      },
      "outputs": [
        {
          "output_type": "execute_result",
          "data": {
            "text/plain": [
              "array([[0., 0., 0., 0., 1., 0., 0., 0.],\n",
              "       [0., 0., 0., 1., 0., 0., 0., 0.],\n",
              "       [1., 0., 0., 0., 0., 0., 0., 0.],\n",
              "       [1., 0., 0., 0., 0., 0., 0., 0.],\n",
              "       [0., 0., 0., 1., 0., 0., 0., 0.],\n",
              "       [0., 0., 0., 0., 1., 0., 0., 0.],\n",
              "       [0., 0., 0., 0., 0., 0., 0., 1.],\n",
              "       [0., 0., 0., 0., 0., 1., 0., 0.],\n",
              "       [0., 0., 0., 1., 0., 0., 0., 0.],\n",
              "       [0., 0., 1., 0., 0., 0., 0., 0.]])"
            ]
          },
          "metadata": {},
          "execution_count": 28
        }
      ],
      "source": [
        "y_train[:10]"
      ]
    },
    {
      "cell_type": "code",
      "execution_count": 29,
      "metadata": {
        "id": "cen4faX0dFJP",
        "colab": {
          "base_uri": "https://localhost:8080/"
        },
        "outputId": "c2520426-2cb0-4d38-aa5f-a7437a4e6fa7"
      },
      "outputs": [
        {
          "output_type": "stream",
          "name": "stdout",
          "text": [
            "Epoch 1/100\n",
            "1875/1875 [==============================] - 26s 12ms/step - loss: 1.7915 - accuracy: 0.2399 - val_loss: 1.7277 - val_accuracy: 0.3155\n",
            "Epoch 2/100\n",
            "1875/1875 [==============================] - 31s 16ms/step - loss: 1.6215 - accuracy: 0.3271 - val_loss: 1.5146 - val_accuracy: 0.3745\n",
            "Epoch 3/100\n",
            "1875/1875 [==============================] - 21s 11ms/step - loss: 1.5617 - accuracy: 0.3521 - val_loss: 1.5327 - val_accuracy: 0.3537\n",
            "Epoch 4/100\n",
            "1875/1875 [==============================] - 21s 11ms/step - loss: 1.5400 - accuracy: 0.3564 - val_loss: 1.5545 - val_accuracy: 0.3819\n",
            "Epoch 5/100\n",
            "1875/1875 [==============================] - 23s 12ms/step - loss: 1.4806 - accuracy: 0.3893 - val_loss: 1.4299 - val_accuracy: 0.4078\n",
            "Epoch 6/100\n",
            "1875/1875 [==============================] - 22s 12ms/step - loss: 1.4389 - accuracy: 0.4057 - val_loss: 1.3983 - val_accuracy: 0.4303\n",
            "Epoch 7/100\n",
            "1875/1875 [==============================] - 22s 12ms/step - loss: 1.4082 - accuracy: 0.4176 - val_loss: 1.3629 - val_accuracy: 0.4383\n",
            "Epoch 8/100\n",
            "1875/1875 [==============================] - 21s 11ms/step - loss: 1.4203 - accuracy: 0.4120 - val_loss: 1.3509 - val_accuracy: 0.4441\n",
            "Epoch 9/100\n",
            "1875/1875 [==============================] - 22s 12ms/step - loss: 1.3695 - accuracy: 0.4360 - val_loss: 1.3258 - val_accuracy: 0.4525\n",
            "Epoch 10/100\n",
            "1875/1875 [==============================] - 22s 12ms/step - loss: 1.3446 - accuracy: 0.4464 - val_loss: 1.3361 - val_accuracy: 0.4583\n",
            "Epoch 11/100\n",
            "1875/1875 [==============================] - 23s 12ms/step - loss: 1.3617 - accuracy: 0.4395 - val_loss: 1.3334 - val_accuracy: 0.4495\n",
            "Epoch 12/100\n",
            "1875/1875 [==============================] - 22s 12ms/step - loss: 1.3311 - accuracy: 0.4534 - val_loss: 1.2857 - val_accuracy: 0.4722\n",
            "Epoch 13/100\n",
            "1875/1875 [==============================] - 22s 12ms/step - loss: 1.3158 - accuracy: 0.4621 - val_loss: 1.3619 - val_accuracy: 0.4439\n",
            "Epoch 14/100\n",
            "1875/1875 [==============================] - 22s 12ms/step - loss: 1.3031 - accuracy: 0.4656 - val_loss: 1.2665 - val_accuracy: 0.4828\n",
            "Epoch 15/100\n",
            "1875/1875 [==============================] - 22s 12ms/step - loss: 1.2741 - accuracy: 0.4790 - val_loss: 1.2513 - val_accuracy: 0.4843\n",
            "Epoch 16/100\n",
            "1875/1875 [==============================] - 22s 12ms/step - loss: 1.2812 - accuracy: 0.4766 - val_loss: 1.2293 - val_accuracy: 0.4949\n",
            "Epoch 17/100\n",
            "1875/1875 [==============================] - 22s 12ms/step - loss: 1.2624 - accuracy: 0.4852 - val_loss: 1.2311 - val_accuracy: 0.5023\n",
            "Epoch 18/100\n",
            "1875/1875 [==============================] - 22s 12ms/step - loss: 1.2487 - accuracy: 0.4887 - val_loss: 1.2124 - val_accuracy: 0.5066\n",
            "Epoch 19/100\n",
            "1875/1875 [==============================] - 22s 12ms/step - loss: 1.2536 - accuracy: 0.4894 - val_loss: 1.2164 - val_accuracy: 0.5096\n",
            "Epoch 20/100\n",
            "1875/1875 [==============================] - 22s 12ms/step - loss: 1.2461 - accuracy: 0.4913 - val_loss: 1.2139 - val_accuracy: 0.5085\n",
            "Epoch 21/100\n",
            "1875/1875 [==============================] - 24s 13ms/step - loss: 1.2436 - accuracy: 0.4954 - val_loss: 1.2524 - val_accuracy: 0.4922\n",
            "Epoch 22/100\n",
            "1875/1875 [==============================] - 23s 13ms/step - loss: 1.2027 - accuracy: 0.5085 - val_loss: 1.1744 - val_accuracy: 0.5109\n",
            "Epoch 23/100\n",
            "1875/1875 [==============================] - 22s 12ms/step - loss: 1.2113 - accuracy: 0.5026 - val_loss: 1.1939 - val_accuracy: 0.4995\n",
            "Epoch 24/100\n",
            "1875/1875 [==============================] - 22s 12ms/step - loss: 1.2152 - accuracy: 0.5064 - val_loss: 1.1744 - val_accuracy: 0.5221\n",
            "Epoch 25/100\n",
            "1875/1875 [==============================] - 22s 12ms/step - loss: 1.1787 - accuracy: 0.5159 - val_loss: 1.1565 - val_accuracy: 0.5194\n",
            "Epoch 26/100\n",
            "1875/1875 [==============================] - 22s 12ms/step - loss: 1.1780 - accuracy: 0.5145 - val_loss: 1.1426 - val_accuracy: 0.5261\n",
            "Epoch 27/100\n",
            "1875/1875 [==============================] - 22s 12ms/step - loss: 1.1721 - accuracy: 0.5164 - val_loss: 1.1845 - val_accuracy: 0.5126\n",
            "Epoch 28/100\n",
            "1875/1875 [==============================] - 23s 12ms/step - loss: 1.1495 - accuracy: 0.5254 - val_loss: 1.1181 - val_accuracy: 0.5384\n",
            "Epoch 29/100\n",
            "1875/1875 [==============================] - 22s 12ms/step - loss: 1.1500 - accuracy: 0.5248 - val_loss: 1.8191 - val_accuracy: 0.4702\n",
            "Epoch 30/100\n",
            "1875/1875 [==============================] - 22s 12ms/step - loss: 1.1634 - accuracy: 0.5273 - val_loss: 1.1094 - val_accuracy: 0.5382\n",
            "Epoch 31/100\n",
            "1875/1875 [==============================] - 22s 12ms/step - loss: 1.1526 - accuracy: 0.5266 - val_loss: 1.0890 - val_accuracy: 0.5443\n",
            "Epoch 32/100\n",
            "1875/1875 [==============================] - 22s 12ms/step - loss: 1.1027 - accuracy: 0.5425 - val_loss: 1.1254 - val_accuracy: 0.5176\n",
            "Epoch 33/100\n",
            "1875/1875 [==============================] - 22s 12ms/step - loss: 1.1140 - accuracy: 0.5433 - val_loss: 1.0593 - val_accuracy: 0.5552\n",
            "Epoch 34/100\n",
            "1875/1875 [==============================] - 22s 12ms/step - loss: 1.1244 - accuracy: 0.5400 - val_loss: 1.0735 - val_accuracy: 0.5470\n",
            "Epoch 35/100\n",
            "1875/1875 [==============================] - 22s 12ms/step - loss: 1.0784 - accuracy: 0.5513 - val_loss: 1.0504 - val_accuracy: 0.5565\n",
            "Epoch 36/100\n",
            "1875/1875 [==============================] - 22s 12ms/step - loss: 1.0556 - accuracy: 0.5612 - val_loss: 1.0475 - val_accuracy: 0.5584\n",
            "Epoch 37/100\n",
            "1875/1875 [==============================] - 22s 12ms/step - loss: 1.0833 - accuracy: 0.5512 - val_loss: 1.0847 - val_accuracy: 0.5477\n",
            "Epoch 38/100\n",
            "1875/1875 [==============================] - 22s 12ms/step - loss: 1.0410 - accuracy: 0.5653 - val_loss: 1.0112 - val_accuracy: 0.5731\n",
            "Epoch 39/100\n",
            "1875/1875 [==============================] - 22s 12ms/step - loss: 1.0223 - accuracy: 0.5716 - val_loss: 1.0011 - val_accuracy: 0.5762\n",
            "Epoch 40/100\n",
            "1875/1875 [==============================] - 22s 12ms/step - loss: 1.0240 - accuracy: 0.5732 - val_loss: 1.0519 - val_accuracy: 0.5585\n",
            "Epoch 41/100\n",
            "1875/1875 [==============================] - 22s 12ms/step - loss: 1.0183 - accuracy: 0.5752 - val_loss: 1.0023 - val_accuracy: 0.5781\n",
            "Epoch 42/100\n",
            "1875/1875 [==============================] - 22s 12ms/step - loss: 1.0039 - accuracy: 0.5785 - val_loss: 0.9985 - val_accuracy: 0.5753\n",
            "Epoch 43/100\n",
            "1875/1875 [==============================] - 23s 12ms/step - loss: 0.9984 - accuracy: 0.5810 - val_loss: 0.9666 - val_accuracy: 0.5853\n",
            "Epoch 44/100\n",
            "1875/1875 [==============================] - 22s 12ms/step - loss: 0.9846 - accuracy: 0.5855 - val_loss: 0.9465 - val_accuracy: 0.5903\n",
            "Epoch 45/100\n",
            "1875/1875 [==============================] - 22s 12ms/step - loss: 0.9713 - accuracy: 0.5903 - val_loss: 0.9408 - val_accuracy: 0.6013\n",
            "Epoch 46/100\n",
            "1875/1875 [==============================] - 22s 12ms/step - loss: 0.9755 - accuracy: 0.5886 - val_loss: 0.9354 - val_accuracy: 0.5996\n",
            "Epoch 47/100\n",
            "1875/1875 [==============================] - 22s 12ms/step - loss: 0.9585 - accuracy: 0.5965 - val_loss: 0.9117 - val_accuracy: 0.6117\n",
            "Epoch 48/100\n",
            "1875/1875 [==============================] - 22s 12ms/step - loss: 0.9531 - accuracy: 0.5990 - val_loss: 0.9102 - val_accuracy: 0.6135\n",
            "Epoch 49/100\n",
            "1875/1875 [==============================] - 22s 12ms/step - loss: 0.9407 - accuracy: 0.6050 - val_loss: 0.9085 - val_accuracy: 0.6141\n",
            "Epoch 50/100\n",
            "1875/1875 [==============================] - 22s 12ms/step - loss: 0.9362 - accuracy: 0.6047 - val_loss: 0.9059 - val_accuracy: 0.6206\n",
            "Epoch 51/100\n",
            "1875/1875 [==============================] - 22s 12ms/step - loss: 0.9460 - accuracy: 0.6025 - val_loss: 0.8902 - val_accuracy: 0.6219\n",
            "Epoch 52/100\n",
            "1875/1875 [==============================] - 22s 12ms/step - loss: 0.9269 - accuracy: 0.6103 - val_loss: 0.8907 - val_accuracy: 0.6200\n",
            "Epoch 53/100\n",
            "1875/1875 [==============================] - 22s 12ms/step - loss: 0.9126 - accuracy: 0.6149 - val_loss: 0.8954 - val_accuracy: 0.6228\n",
            "Epoch 54/100\n",
            "1875/1875 [==============================] - 22s 12ms/step - loss: 0.9040 - accuracy: 0.6189 - val_loss: 0.8744 - val_accuracy: 0.6321\n",
            "Epoch 55/100\n",
            "1875/1875 [==============================] - 22s 12ms/step - loss: 0.9112 - accuracy: 0.6169 - val_loss: 0.8885 - val_accuracy: 0.6217\n",
            "Epoch 56/100\n",
            "1875/1875 [==============================] - 22s 12ms/step - loss: 0.8957 - accuracy: 0.6232 - val_loss: 0.8761 - val_accuracy: 0.6294\n",
            "Epoch 57/100\n",
            "1875/1875 [==============================] - 22s 12ms/step - loss: 0.8874 - accuracy: 0.6273 - val_loss: 0.8445 - val_accuracy: 0.6447\n",
            "Epoch 58/100\n",
            "1875/1875 [==============================] - 22s 12ms/step - loss: 0.8851 - accuracy: 0.6283 - val_loss: 0.8689 - val_accuracy: 0.6291\n",
            "Epoch 59/100\n",
            "1875/1875 [==============================] - 22s 12ms/step - loss: 0.8756 - accuracy: 0.6306 - val_loss: 0.8467 - val_accuracy: 0.6431\n",
            "Epoch 60/100\n",
            "1875/1875 [==============================] - 22s 12ms/step - loss: 0.8742 - accuracy: 0.6318 - val_loss: 0.8609 - val_accuracy: 0.6357\n",
            "Epoch 61/100\n",
            "1875/1875 [==============================] - 22s 12ms/step - loss: 0.8686 - accuracy: 0.6329 - val_loss: 0.8376 - val_accuracy: 0.6453\n",
            "Epoch 62/100\n",
            "1875/1875 [==============================] - 22s 12ms/step - loss: 0.8656 - accuracy: 0.6351 - val_loss: 0.8482 - val_accuracy: 0.6437\n",
            "Epoch 63/100\n",
            "1875/1875 [==============================] - 23s 12ms/step - loss: 0.8614 - accuracy: 0.6374 - val_loss: 0.8510 - val_accuracy: 0.6405\n",
            "Epoch 64/100\n",
            "1875/1875 [==============================] - 22s 12ms/step - loss: 0.8543 - accuracy: 0.6409 - val_loss: 0.8191 - val_accuracy: 0.6558\n",
            "Epoch 65/100\n",
            "1875/1875 [==============================] - 22s 12ms/step - loss: 0.8486 - accuracy: 0.6423 - val_loss: 0.8285 - val_accuracy: 0.6466\n",
            "Epoch 66/100\n",
            "1875/1875 [==============================] - 22s 12ms/step - loss: 0.8445 - accuracy: 0.6440 - val_loss: 0.8498 - val_accuracy: 0.6431\n",
            "Epoch 67/100\n",
            "1875/1875 [==============================] - 22s 12ms/step - loss: 0.8370 - accuracy: 0.6471 - val_loss: 0.8387 - val_accuracy: 0.6460\n",
            "Epoch 68/100\n",
            "1875/1875 [==============================] - 22s 12ms/step - loss: 0.8307 - accuracy: 0.6507 - val_loss: 0.8064 - val_accuracy: 0.6610\n",
            "Epoch 69/100\n",
            "1875/1875 [==============================] - 22s 12ms/step - loss: 0.8303 - accuracy: 0.6497 - val_loss: 0.7813 - val_accuracy: 0.6691\n",
            "Epoch 70/100\n",
            "1875/1875 [==============================] - 22s 12ms/step - loss: 0.8186 - accuracy: 0.6550 - val_loss: 0.7926 - val_accuracy: 0.6677\n",
            "Epoch 71/100\n",
            "1875/1875 [==============================] - 22s 12ms/step - loss: 0.8186 - accuracy: 0.6568 - val_loss: 0.8029 - val_accuracy: 0.6623\n",
            "Epoch 72/100\n",
            "1875/1875 [==============================] - 22s 12ms/step - loss: 0.8110 - accuracy: 0.6584 - val_loss: 0.7836 - val_accuracy: 0.6712\n",
            "Epoch 73/100\n",
            "1875/1875 [==============================] - 22s 12ms/step - loss: 0.8032 - accuracy: 0.6634 - val_loss: 0.7823 - val_accuracy: 0.6693\n",
            "Epoch 74/100\n",
            "1875/1875 [==============================] - 22s 12ms/step - loss: 0.8029 - accuracy: 0.6643 - val_loss: 0.7777 - val_accuracy: 0.6693\n",
            "Epoch 75/100\n",
            "1875/1875 [==============================] - 22s 12ms/step - loss: 0.8084 - accuracy: 0.6636 - val_loss: 0.7947 - val_accuracy: 0.6661\n",
            "Epoch 76/100\n",
            "1875/1875 [==============================] - 22s 12ms/step - loss: 0.7935 - accuracy: 0.6704 - val_loss: 0.7842 - val_accuracy: 0.6763\n",
            "Epoch 77/100\n",
            "1875/1875 [==============================] - 22s 12ms/step - loss: 0.7863 - accuracy: 0.6723 - val_loss: 0.7658 - val_accuracy: 0.6774\n",
            "Epoch 78/100\n",
            "1875/1875 [==============================] - 22s 12ms/step - loss: 0.7795 - accuracy: 0.6742 - val_loss: 0.7621 - val_accuracy: 0.6808\n",
            "Epoch 79/100\n",
            "1875/1875 [==============================] - 22s 12ms/step - loss: 0.7779 - accuracy: 0.6748 - val_loss: 0.7538 - val_accuracy: 0.6863\n",
            "Epoch 80/100\n",
            "1875/1875 [==============================] - 22s 12ms/step - loss: 0.7743 - accuracy: 0.6783 - val_loss: 0.7498 - val_accuracy: 0.6874\n",
            "Epoch 81/100\n",
            "1875/1875 [==============================] - 22s 12ms/step - loss: 0.7671 - accuracy: 0.6815 - val_loss: 0.7473 - val_accuracy: 0.6851\n",
            "Epoch 82/100\n",
            "1875/1875 [==============================] - 22s 12ms/step - loss: 0.7599 - accuracy: 0.6832 - val_loss: 0.7628 - val_accuracy: 0.6787\n",
            "Epoch 83/100\n",
            "1875/1875 [==============================] - 22s 12ms/step - loss: 0.7589 - accuracy: 0.6838 - val_loss: 0.7524 - val_accuracy: 0.6891\n",
            "Epoch 84/100\n",
            "1875/1875 [==============================] - 22s 12ms/step - loss: 0.7526 - accuracy: 0.6870 - val_loss: 0.7717 - val_accuracy: 0.6837\n",
            "Epoch 85/100\n",
            "1875/1875 [==============================] - 22s 12ms/step - loss: 0.7497 - accuracy: 0.6899 - val_loss: 0.7438 - val_accuracy: 0.6881\n",
            "Epoch 86/100\n",
            "1875/1875 [==============================] - 22s 12ms/step - loss: 0.7507 - accuracy: 0.6895 - val_loss: 0.7119 - val_accuracy: 0.7043\n",
            "Epoch 87/100\n",
            "1875/1875 [==============================] - 22s 12ms/step - loss: 0.7377 - accuracy: 0.6939 - val_loss: 0.7166 - val_accuracy: 0.7001\n",
            "Epoch 88/100\n",
            "1875/1875 [==============================] - 22s 12ms/step - loss: 0.7385 - accuracy: 0.6954 - val_loss: 0.7080 - val_accuracy: 0.7036\n",
            "Epoch 89/100\n",
            "1875/1875 [==============================] - 22s 12ms/step - loss: 0.7261 - accuracy: 0.6997 - val_loss: 0.7063 - val_accuracy: 0.7069\n",
            "Epoch 90/100\n",
            "1875/1875 [==============================] - 22s 12ms/step - loss: 0.7240 - accuracy: 0.7008 - val_loss: 0.7200 - val_accuracy: 0.7050\n",
            "Epoch 91/100\n",
            "1875/1875 [==============================] - 22s 12ms/step - loss: 0.7215 - accuracy: 0.7022 - val_loss: 0.7147 - val_accuracy: 0.7061\n",
            "Epoch 92/100\n",
            "1875/1875 [==============================] - 22s 12ms/step - loss: 0.7200 - accuracy: 0.7042 - val_loss: 0.7002 - val_accuracy: 0.7124\n",
            "Epoch 93/100\n",
            "1875/1875 [==============================] - 22s 12ms/step - loss: 0.7117 - accuracy: 0.7060 - val_loss: 0.6913 - val_accuracy: 0.7097\n",
            "Epoch 94/100\n",
            "1875/1875 [==============================] - 22s 12ms/step - loss: 0.7142 - accuracy: 0.7061 - val_loss: 0.6990 - val_accuracy: 0.7123\n",
            "Epoch 95/100\n",
            "1875/1875 [==============================] - 22s 12ms/step - loss: 0.7180 - accuracy: 0.7063 - val_loss: 0.7327 - val_accuracy: 0.6987\n",
            "Epoch 96/100\n",
            "1875/1875 [==============================] - 22s 12ms/step - loss: 0.7093 - accuracy: 0.7097 - val_loss: 0.8131 - val_accuracy: 0.6737\n",
            "Epoch 97/100\n",
            "1875/1875 [==============================] - 22s 12ms/step - loss: 0.6990 - accuracy: 0.7139 - val_loss: 0.6642 - val_accuracy: 0.7221\n",
            "Epoch 98/100\n",
            "1875/1875 [==============================] - 22s 12ms/step - loss: 0.6940 - accuracy: 0.7153 - val_loss: 0.6758 - val_accuracy: 0.7243\n",
            "Epoch 99/100\n",
            "1875/1875 [==============================] - 22s 12ms/step - loss: 0.6862 - accuracy: 0.7181 - val_loss: 0.6902 - val_accuracy: 0.7143\n",
            "Epoch 100/100\n",
            "1875/1875 [==============================] - 22s 12ms/step - loss: 0.7038 - accuracy: 0.7138 - val_loss: 0.6778 - val_accuracy: 0.7226\n"
          ]
        }
      ],
      "source": [
        "history = model.fit(X_train, y_train, batch_size=64, epochs=100, validation_data=(X_val, y_val))\n",
        "#model.save('NewAllDataModel_E50_B64.h5')"
      ]
    },
    {
      "cell_type": "code",
      "execution_count": 30,
      "metadata": {
        "id": "R7QQeqVidKBR",
        "colab": {
          "base_uri": "https://localhost:8080/"
        },
        "outputId": "908fb7cd-0062-49d9-e80e-45691d26985c"
      },
      "outputs": [
        {
          "output_type": "stream",
          "name": "stdout",
          "text": [
            "469/469 [==============================] - 2s 5ms/step - loss: 0.6819 - accuracy: 0.7227\n"
          ]
        }
      ],
      "source": [
        "test_acc = model.evaluate(X_test, y_test)"
      ]
    },
    {
      "cell_type": "code",
      "source": [
        "test_acc"
      ],
      "metadata": {
        "id": "6fuTmgGrUgGg",
        "colab": {
          "base_uri": "https://localhost:8080/"
        },
        "outputId": "f0880728-4f09-433a-8f7b-188e6b9a816c"
      },
      "execution_count": 31,
      "outputs": [
        {
          "output_type": "execute_result",
          "data": {
            "text/plain": [
              "[0.6818987131118774, 0.7226666808128357]"
            ]
          },
          "metadata": {},
          "execution_count": 31
        }
      ]
    },
    {
      "cell_type": "code",
      "execution_count": 32,
      "metadata": {
        "id": "OHpifyqGdKn-",
        "colab": {
          "base_uri": "https://localhost:8080/"
        },
        "outputId": "572db163-f67b-4f3c-d5d1-33bf7aefefec"
      },
      "outputs": [
        {
          "output_type": "stream",
          "name": "stdout",
          "text": [
            "469/469 [==============================] - 2s 4ms/step\n"
          ]
        }
      ],
      "source": [
        "y_test_prob = model.predict(X_test, verbose=1)"
      ]
    },
    {
      "cell_type": "code",
      "source": [
        "np.set_printoptions(suppress=True)\n",
        "y_test_prob_backup = y_test_prob\n",
        "y_test_prob"
      ],
      "metadata": {
        "id": "rRPswrrkmhp2",
        "colab": {
          "base_uri": "https://localhost:8080/"
        },
        "outputId": "41e06c9f-a7f8-4da9-b765-a6e83c338e6c"
      },
      "execution_count": 33,
      "outputs": [
        {
          "output_type": "execute_result",
          "data": {
            "text/plain": [
              "array([[0.00001712, 0.9874499 , 0.01247842, ..., 0.00000031, 0.00000639,\n",
              "        0.00002643],\n",
              "       [0.0000009 , 0.01379153, 0.9769258 , ..., 0.00017993, 0.00173347,\n",
              "        0.0005702 ],\n",
              "       [0.00002917, 0.00001491, 0.00011393, ..., 0.00001208, 0.02786716,\n",
              "        0.97195554],\n",
              "       ...,\n",
              "       [0.00000053, 0.00000125, 0.00216168, ..., 0.611882  , 0.00401843,\n",
              "        0.00001016],\n",
              "       [0.00000001, 0.0000008 , 0.00086132, ..., 0.02974298, 0.00146907,\n",
              "        0.00000027],\n",
              "       [0.00024895, 0.00004314, 0.00020209, ..., 0.0000739 , 0.04916694,\n",
              "        0.95020086]], dtype=float32)"
            ]
          },
          "metadata": {},
          "execution_count": 33
        }
      ]
    },
    {
      "cell_type": "code",
      "execution_count": 115,
      "metadata": {
        "id": "AfmdrBILdMwj"
      },
      "outputs": [],
      "source": [
        "y_test_pred = np.where(y_test_prob > 0.3, 1, 0)"
      ]
    },
    {
      "cell_type": "code",
      "execution_count": 116,
      "metadata": {
        "id": "8DoJy_p9dPzN"
      },
      "outputs": [],
      "source": [
        "from sklearn.metrics import multilabel_confusion_matrix"
      ]
    },
    {
      "cell_type": "code",
      "source": [
        "y_test"
      ],
      "metadata": {
        "id": "n1Us2yrfcGl-",
        "colab": {
          "base_uri": "https://localhost:8080/"
        },
        "outputId": "7e7c5194-b485-40bc-a7b1-366a2d33f204"
      },
      "execution_count": 117,
      "outputs": [
        {
          "output_type": "execute_result",
          "data": {
            "text/plain": [
              "<tf.Tensor: shape=(15000,), dtype=int64, numpy=array([1, 2, 7, ..., 5, 3, 7])>"
            ]
          },
          "metadata": {},
          "execution_count": 117
        }
      ]
    },
    {
      "cell_type": "code",
      "source": [
        "y_test.shape"
      ],
      "metadata": {
        "id": "VnmvTcvWbxr9",
        "colab": {
          "base_uri": "https://localhost:8080/"
        },
        "outputId": "b791d872-f0c4-4b73-aad6-6e8415d627dc"
      },
      "execution_count": 118,
      "outputs": [
        {
          "output_type": "execute_result",
          "data": {
            "text/plain": [
              "TensorShape([15000])"
            ]
          },
          "metadata": {},
          "execution_count": 118
        }
      ]
    },
    {
      "cell_type": "code",
      "source": [
        "y_test_pred"
      ],
      "metadata": {
        "id": "nMBOgzrgcJBj",
        "colab": {
          "base_uri": "https://localhost:8080/"
        },
        "outputId": "ccae3ef5-55e2-4558-875e-11482b3a82bf"
      },
      "execution_count": 119,
      "outputs": [
        {
          "output_type": "execute_result",
          "data": {
            "text/plain": [
              "array([[0, 1, 0, ..., 0, 0, 0],\n",
              "       [0, 0, 1, ..., 0, 0, 0],\n",
              "       [0, 0, 0, ..., 0, 0, 1],\n",
              "       ...,\n",
              "       [0, 0, 0, ..., 1, 0, 0],\n",
              "       [0, 0, 0, ..., 0, 0, 0],\n",
              "       [0, 0, 0, ..., 0, 0, 1]])"
            ]
          },
          "metadata": {},
          "execution_count": 119
        }
      ]
    },
    {
      "cell_type": "code",
      "source": [
        "y_test_pred.shape"
      ],
      "metadata": {
        "id": "SXKZof8Ye5uI",
        "colab": {
          "base_uri": "https://localhost:8080/"
        },
        "outputId": "b787237a-6097-44a0-8105-a5190a764ab9"
      },
      "execution_count": 120,
      "outputs": [
        {
          "output_type": "execute_result",
          "data": {
            "text/plain": [
              "(15000, 8)"
            ]
          },
          "metadata": {},
          "execution_count": 120
        }
      ]
    },
    {
      "cell_type": "code",
      "source": [
        "y_decoded_pred = tf.argmax(y_test_pred, axis = 1)"
      ],
      "metadata": {
        "id": "leDQwKOjgwwi"
      },
      "execution_count": 121,
      "outputs": []
    },
    {
      "cell_type": "code",
      "source": [
        "#y_decoded = tf.argmax(y_test, axis = 1)"
      ],
      "metadata": {
        "id": "sAHRmtesif6g"
      },
      "execution_count": 122,
      "outputs": []
    },
    {
      "cell_type": "code",
      "source": [
        "y_decoded_pred"
      ],
      "metadata": {
        "id": "_lvFhrmPhprD",
        "colab": {
          "base_uri": "https://localhost:8080/"
        },
        "outputId": "dd93af15-875a-4a18-e9bc-2cee21108aaf"
      },
      "execution_count": 123,
      "outputs": [
        {
          "output_type": "execute_result",
          "data": {
            "text/plain": [
              "<tf.Tensor: shape=(15000,), dtype=int64, numpy=array([1, 2, 7, ..., 5, 4, 7])>"
            ]
          },
          "metadata": {},
          "execution_count": 123
        }
      ]
    },
    {
      "cell_type": "code",
      "source": [
        "y_decoded"
      ],
      "metadata": {
        "id": "YV1FXgHviPwm",
        "colab": {
          "base_uri": "https://localhost:8080/"
        },
        "outputId": "c22cd960-31bd-4623-8b15-079d401df135"
      },
      "execution_count": 124,
      "outputs": [
        {
          "output_type": "execute_result",
          "data": {
            "text/plain": [
              "<tf.Tensor: shape=(15000,), dtype=int64, numpy=array([1, 2, 7, ..., 5, 3, 7])>"
            ]
          },
          "metadata": {},
          "execution_count": 124
        }
      ]
    },
    {
      "cell_type": "code",
      "source": [
        "y_test_pred = y_decoded_pred\n"
      ],
      "metadata": {
        "id": "6-6jFqzGh380"
      },
      "execution_count": 125,
      "outputs": []
    },
    {
      "cell_type": "code",
      "source": [
        "y_test = y_decoded"
      ],
      "metadata": {
        "id": "9pogVvdIiwss"
      },
      "execution_count": 126,
      "outputs": []
    },
    {
      "cell_type": "code",
      "source": [
        "y_test"
      ],
      "metadata": {
        "id": "oGt5aJetiKR6",
        "colab": {
          "base_uri": "https://localhost:8080/"
        },
        "outputId": "55977bb6-f662-49a6-9853-39654d204fc9"
      },
      "execution_count": 127,
      "outputs": [
        {
          "output_type": "execute_result",
          "data": {
            "text/plain": [
              "<tf.Tensor: shape=(15000,), dtype=int64, numpy=array([1, 2, 7, ..., 5, 3, 7])>"
            ]
          },
          "metadata": {},
          "execution_count": 127
        }
      ]
    },
    {
      "cell_type": "code",
      "source": [
        "y_test_pred"
      ],
      "metadata": {
        "id": "fLgDwAIfiyv2",
        "colab": {
          "base_uri": "https://localhost:8080/"
        },
        "outputId": "0a1ed6e4-244b-4d6f-cd8f-acb7a72a1307"
      },
      "execution_count": 128,
      "outputs": [
        {
          "output_type": "execute_result",
          "data": {
            "text/plain": [
              "<tf.Tensor: shape=(15000,), dtype=int64, numpy=array([1, 2, 7, ..., 5, 4, 7])>"
            ]
          },
          "metadata": {},
          "execution_count": 128
        }
      ]
    },
    {
      "cell_type": "code",
      "execution_count": 129,
      "metadata": {
        "id": "fTCsPjW8dQaZ"
      },
      "outputs": [],
      "source": [
        "cfm=confusion_matrix(y_test, y_test_pred)"
      ]
    },
    {
      "cell_type": "code",
      "source": [
        "cfm"
      ],
      "metadata": {
        "id": "_67lPg6ic4cH",
        "colab": {
          "base_uri": "https://localhost:8080/"
        },
        "outputId": "3fb992c2-b021-4902-a542-47b80a29fa54"
      },
      "execution_count": 130,
      "outputs": [
        {
          "output_type": "execute_result",
          "data": {
            "text/plain": [
              "array([[1898,   10,    0,    0,    0,    0,    0,    8],\n",
              "       [  49, 1757,   40,    0,    0,    0,    2,   18],\n",
              "       [  99,   43, 1316,   85,   17,   54,  117,   68],\n",
              "       [  50,    0,  182, 1165,  171,  237,   29,    0],\n",
              "       [  88,    0,   45,  339,  837,  376,  177,    6],\n",
              "       [  98,    0,   63,  285,  245, 1038,  153,    7],\n",
              "       [  65,    3,   80,   15,   60,  141, 1311,  238],\n",
              "       [  18,    9,   13,    0,    1,   20,  566, 1288]])"
            ]
          },
          "metadata": {},
          "execution_count": 130
        }
      ]
    },
    {
      "cell_type": "code",
      "source": [
        " print(classification_report(y_test,y_test_pred))"
      ],
      "metadata": {
        "id": "XTqR_xnwRWCJ",
        "colab": {
          "base_uri": "https://localhost:8080/"
        },
        "outputId": "de62153d-ba3b-4111-af16-b6622a2505ee"
      },
      "execution_count": 131,
      "outputs": [
        {
          "output_type": "stream",
          "name": "stdout",
          "text": [
            "              precision    recall  f1-score   support\n",
            "\n",
            "           0       0.80      0.99      0.89      1916\n",
            "           1       0.96      0.94      0.95      1866\n",
            "           2       0.76      0.73      0.74      1799\n",
            "           3       0.62      0.64      0.63      1834\n",
            "           4       0.63      0.45      0.52      1868\n",
            "           5       0.56      0.55      0.55      1889\n",
            "           6       0.56      0.69      0.61      1913\n",
            "           7       0.79      0.67      0.73      1915\n",
            "\n",
            "    accuracy                           0.71     15000\n",
            "   macro avg       0.71      0.71      0.70     15000\n",
            "weighted avg       0.71      0.71      0.70     15000\n",
            "\n"
          ]
        }
      ]
    },
    {
      "cell_type": "code",
      "execution_count": 132,
      "metadata": {
        "id": "te3fslrY9Eca",
        "colab": {
          "base_uri": "https://localhost:8080/",
          "height": 903
        },
        "outputId": "bf5a709a-a088-4b92-b86d-022068e0e78b"
      },
      "outputs": [
        {
          "output_type": "stream",
          "name": "stdout",
          "text": [
            "Confusion matrix, without normalization\n",
            "[[1898   10    0    0    0    0    0    8]\n",
            " [  49 1757   40    0    0    0    2   18]\n",
            " [  99   43 1316   85   17   54  117   68]\n",
            " [  50    0  182 1165  171  237   29    0]\n",
            " [  88    0   45  339  837  376  177    6]\n",
            " [  98    0   63  285  245 1038  153    7]\n",
            " [  65    3   80   15   60  141 1311  238]\n",
            " [  18    9   13    0    1   20  566 1288]]\n",
            "Normalized confusion matrix\n",
            "[[0.99 0.01 0.   0.   0.   0.   0.   0.  ]\n",
            " [0.03 0.94 0.02 0.   0.   0.   0.   0.01]\n",
            " [0.06 0.02 0.73 0.05 0.01 0.03 0.07 0.04]\n",
            " [0.03 0.   0.1  0.64 0.09 0.13 0.02 0.  ]\n",
            " [0.05 0.   0.02 0.18 0.45 0.2  0.09 0.  ]\n",
            " [0.05 0.   0.03 0.15 0.13 0.55 0.08 0.  ]\n",
            " [0.03 0.   0.04 0.01 0.03 0.07 0.69 0.12]\n",
            " [0.01 0.   0.01 0.   0.   0.01 0.3  0.67]]\n"
          ]
        },
        {
          "output_type": "display_data",
          "data": {
            "text/plain": [
              "<Figure size 432x288 with 2 Axes>"
            ],
            "image/png": "[encoded data removed]"
          },
          "metadata": {
            "needs_background": "light"
          }
        },
        {
          "output_type": "display_data",
          "data": {
            "text/plain": [
              "<Figure size 432x288 with 2 Axes>"
            ],
            "image/png": "[encoded data removed]"
          },
          "metadata": {
            "needs_background": "light"
          }
        }
      ],
      "source": [
        "import numpy as np\n",
        "import matplotlib.pyplot as plt\n",
        "\n",
        "from sklearn import svm, datasets\n",
        "from sklearn.model_selection import train_test_split\n",
        "from sklearn.metrics import confusion_matrix\n",
        "from sklearn.utils.multiclass import unique_labels\n",
        "\n",
        "class_names = np.array(['0', '1', '2', '3', '4', '5', '6', '7'])\n",
        "\n",
        "def plot_confusion_matrix(y_true, y_pred, classes,\n",
        "                          normalize=False,\n",
        "                          title=None,\n",
        "                          cmap=plt.cm.Blues):\n",
        "    \"\"\"\n",
        "    This function prints and plots the confusion matrix.\n",
        "    Normalization can be applied by setting `normalize=True`.\n",
        "    \"\"\"\n",
        "    if not title:\n",
        "        if normalize:\n",
        "            title = 'Normalized confusion matrix'\n",
        "        else:\n",
        "            title = 'Confusion matrix, without normalization'\n",
        "\n",
        "    # Compute confusion matrix\n",
        "    cm = confusion_matrix(y_true, y_pred)\n",
        "    # Only use the labels that appear in the data\n",
        "    classes = classes[unique_labels(y_true, y_pred)]\n",
        "    if normalize:\n",
        "        cm = cm.astype('float') / cm.sum(axis=1)[:, np.newaxis]\n",
        "        print(\"Normalized confusion matrix\")\n",
        "    else:\n",
        "        print('Confusion matrix, without normalization')\n",
        "\n",
        "    print(cm)\n",
        "\n",
        "    fig, ax = plt.subplots()\n",
        "    im = ax.imshow(cm, interpolation='nearest', cmap=cmap)\n",
        "    ax.figure.colorbar(im, ax=ax)\n",
        "    # We want to show all ticks...\n",
        "    ax.set(xticks=np.arange(cm.shape[1]),\n",
        "           yticks=np.arange(cm.shape[0]),\n",
        "           # ... and label them with the respective list entries\n",
        "           xticklabels=classes, yticklabels=classes,\n",
        "           title=title,\n",
        "           ylabel='True label',\n",
        "           xlabel='Predicted label')\n",
        "\n",
        "    # Rotate the tick labels and set their alignment.\n",
        "    plt.setp(ax.get_xticklabels(), rotation=45, ha=\"right\",\n",
        "             rotation_mode=\"anchor\")\n",
        "\n",
        "    # Loop over data dimensions and create text annotations.\n",
        "    fmt = '.2f' if normalize else 'd'\n",
        "    thresh = cm.max() / 2.\n",
        "    for i in range(cm.shape[0]):\n",
        "        for j in range(cm.shape[1]):\n",
        "            ax.text(j, i, format(cm[i, j], fmt),\n",
        "                    ha=\"center\", va=\"center\",\n",
        "                    color=\"white\" if cm[i, j] > thresh else \"black\")\n",
        "    fig.tight_layout()\n",
        "\n",
        "    return ax\n",
        "\n",
        "\n",
        "np.set_printoptions(precision=2)\n",
        "\n",
        "# Plot non-normalized confusion matrix\n",
        "plot_confusion_matrix(y_test, y_test_pred, classes=class_names,\n",
        "                      title='Confusion matrix, without normalization')\n",
        "\n",
        "# Plot normalized confusion matrix\n",
        "plot_confusion_matrix(y_test, y_test_pred, classes=class_names, normalize=True,\n",
        "                      title='Normalized confusion matrix')\n",
        "\n",
        "plt.show()"
      ]
    },
    {
      "cell_type": "code",
      "execution_count": 133,
      "metadata": {
        "id": "fhdLAhgPUnH3"
      },
      "outputs": [],
      "source": [
        "def plot_learningCurve(history, epoch):\n",
        "  # Plot training & validation accuracy values\n",
        "  epoch_range = range(1, epoch+1)\n",
        "  plt.plot(epoch_range, history.history['accuracy'])\n",
        "  plt.plot(epoch_range, history.history['val_accuracy'])\n",
        "  plt.title('Model accuracy')\n",
        "  plt.ylabel('Accuracy')\n",
        "  plt.xlabel('Epoch')\n",
        "  plt.legend(['Train', 'Val'], loc='upper left')\n",
        "  plt.show()\n",
        "\n",
        "  # Plot training & validation loss values\n",
        "  plt.plot(epoch_range, history.history['loss'])\n",
        "  plt.plot(epoch_range, history.history['val_loss'])\n",
        "  plt.title('Model loss')\n",
        "  plt.ylabel('Loss')\n",
        "  plt.xlabel('Epoch')\n",
        "  plt.legend(['Train', 'Val'], loc='upper left')\n",
        "  plt.show()"
      ]
    },
    {
      "cell_type": "code",
      "execution_count": 134,
      "metadata": {
        "id": "WlkQkWHgU5mL",
        "colab": {
          "base_uri": "https://localhost:8080/",
          "height": 581
        },
        "outputId": "89bbf3c2-e076-49d1-c1bb-4a3d24c5a181"
      },
      "outputs": [
        {
          "output_type": "display_data",
          "data": {
            "text/plain": [
              "<Figure size 432x288 with 1 Axes>"
            ],
            "image/png": "[encoded data removed]"
          },
          "metadata": {
            "needs_background": "light"
          }
        },
        {
          "output_type": "display_data",
          "data": {
            "text/plain": [
              "<Figure size 432x288 with 1 Axes>"
            ],
            "image/png": "[encoded data removed]"
          },
          "metadata": {
            "needs_background": "light"
          }
        }
      ],
      "source": [
        "plot_learningCurve(history, 100)"
      ]
    }
  ],
  "metadata": {
    "colab": {
      "collapsed_sections": [
        "f857kfHqUk0-"
      ],
      "name": "Multi_Class_MD_LSTM_step_200_files_120.ipynb",
      "provenance": [],
      "include_colab_link": true
    },
    "kernelspec": {
      "display_name": "Python 3",
      "name": "python3"
    },
    "language_info": {
      "name": "python"
    },
    "accelerator": "GPU"
  },
  "nbformat": 4,
  "nbformat_minor": 0
}
