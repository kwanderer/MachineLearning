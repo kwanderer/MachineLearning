{
  "cells": [
    {
      "cell_type": "markdown",
      "metadata": {
        "id": "view-in-github",
        "colab_type": "text"
      },
      "source": [
        "<a href=\"https://colab.research.google.com/github/kwanderer/MachineLearning/blob/main/LSTM/trh/Multi_Class_MD_LSTM_step_200_files_120_trh_008.ipynb\" target=\"_parent\"><img src=\"https://colab.research.google.com/assets/colab-badge.svg\" alt=\"Open In Colab\"/></a>"
      ]
    },
    {
      "cell_type": "markdown",
      "metadata": {
        "id": "f857kfHqUk0-"
      },
      "source": [
        "\n",
        "\n",
        "#Datu kopa"
      ]
    },
    {
      "cell_type": "markdown",
      "metadata": {
        "id": "nM9WE3QGUwVi"
      },
      "source": [
        "Datu kopas avots: https://www.kaggle.com/uysalserkan/fault-induction-motor-dataset"
      ]
    },
    {
      "cell_type": "markdown",
      "metadata": {
        "id": "_sN_h3qHHy6r"
      },
      "source": [
        "Darbā tiek izmantota indukcijas motora parametru datu bāze. Izmantotajā datu kopā ir dati, kas tika iegūti SpectraQuest aparatūras kļūdu simulatorā (Machinery Fault Simulator).\n",
        "\n",
        "Katra mērījumu secība tika ģenerēta ar frekvenci 50 kHz 5 sekunžu laikā, kopā 250 000 mērījumi.\n",
        "\n",
        "Dati ir apkopoti vairākos failos, dažādos darbības stāvokļos un to apjoms ir ļoti liels. Šajā darbā tika izmantota daļa(viena mērījumu secība) no motora normālas darbības datiem.\n"
      ]
    },
    {
      "cell_type": "markdown",
      "metadata": {
        "id": "KtFAOaHYHLPo"
      },
      "source": [
        "Dati ir apkopoti tabulā, kura satur 8 parametrus. Dati ir iedalīti sekojošās kolonas:\n",
        "\n",
        "**tachometer** – tahometra signāls, kas ļauj novērtēt rotācijas frekvenci\n",
        "\n",
        "**und-accelerometer-axial** - apakšā esošā gultņa akselerometrs (aksiālais virziens)\n",
        "\n",
        "**und-accelerometer-radial** – apakšā esošā gultņa akselerometrs (radiālais virziens)\n",
        "\n",
        "**und-accelerometer-tangential** - apakšā esošā gultņa akselerometrs (tangenciālais virziens)\n",
        "\n",
        "**over-accelerometer-axial** - pārkares gultņa akselerometrs (aksiālais virziens)\n",
        "\n",
        "**over-accelerometer-radial** – pārkares gultņa akselerometrs (radiālais  virziens)\n",
        "\n",
        "**over-accelerometer-tangential**  - pārkares gultņa akselerometrs (tangenciālais virziens)\n",
        "\n",
        "**microphone** – mikrofona vērtība\n"
      ]
    },
    {
      "cell_type": "markdown",
      "metadata": {
        "id": "XymoNLKMVFUC"
      },
      "source": [
        "#Datu ielasīšana un satura vizualizācija"
      ]
    },
    {
      "cell_type": "code",
      "execution_count": 1,
      "metadata": {
        "id": "_yqYZDeOFq5s"
      },
      "outputs": [],
      "source": [
        "import keras\n",
        "from keras.layers import LSTM, Dropout, Dense\n",
        "import tensorflow as tf\n",
        "import numpy as np\n",
        "import pandas as pd\n",
        "\n",
        "from sklearn import linear_model  #pip install sklearn - loti plasa masinapmacibas biblioteka\n",
        "from sklearn.linear_model import LinearRegression  \n",
        "import csv          #pip install csv - darbam ar CSV datu kopam\n",
        "import requests     #pip install requests  - vienkarsakam darbam ar tiessaistes CSV datu kopam tiessaistes\n",
        "\n",
        "import matplotlib\n",
        "import matplotlib.pyplot as plt\n",
        "\n",
        "import glob\n"
      ]
    },
    {
      "cell_type": "code",
      "execution_count": 2,
      "metadata": {
        "id": "wlRTBbM2eUcV",
        "colab": {
          "base_uri": "https://localhost:8080/"
        },
        "outputId": "9b4efca0-d4d2-4e5d-dfc8-e1bd0772d830"
      },
      "outputs": [
        {
          "output_type": "stream",
          "name": "stdout",
          "text": [
            "Mounted at /content/gdrive\n"
          ]
        }
      ],
      "source": [
        "from google.colab import drive\n",
        "import os\n",
        "drive.mount('/content/gdrive')\n",
        "os.chdir(\"/content/gdrive/MyDrive/Colab Notebooks/data_multiclass/\")"
      ]
    },
    {
      "cell_type": "code",
      "execution_count": 3,
      "metadata": {
        "id": "zzz6fBl_SNom"
      },
      "outputs": [],
      "source": [
        "#extension = 'csv'\n",
        "#all_filenames = [i for i in glob.glob('*.{}'.format(extension))]"
      ]
    },
    {
      "cell_type": "code",
      "execution_count": 4,
      "metadata": {
        "id": "vagKFCkToBi0"
      },
      "outputs": [],
      "source": [
        "#combine all files in the list\n",
        "#combined_csv = pd.concat([pd.read_csv(f) for f in all_filenames ])\n",
        "#export to csv\n",
        "#combined_csv.to_csv( \"combined_multiclass_csv.csv\", index=False, encoding='utf-8-sig')"
      ]
    },
    {
      "cell_type": "code",
      "execution_count": 5,
      "metadata": {
        "id": "encEkbDhSfGI"
      },
      "outputs": [],
      "source": [
        "data = pd.read_csv(\"combined_multiclass_csv.csv\")"
      ]
    },
    {
      "cell_type": "code",
      "execution_count": 6,
      "metadata": {
        "id": "yz5Qe8ZWk1Zq",
        "colab": {
          "base_uri": "https://localhost:8080/"
        },
        "outputId": "ea685953-bb09-4245-d9cb-b278d559b1e7"
      },
      "outputs": [
        {
          "output_type": "stream",
          "name": "stdout",
          "text": [
            "<class 'pandas.core.frame.DataFrame'>\n",
            "RangeIndex: 30000000 entries, 0 to 29999999\n",
            "Data columns (total 9 columns):\n",
            " #   Column                         Dtype  \n",
            "---  ------                         -----  \n",
            " 0   tachometer                     float64\n",
            " 1   und-accelerometer-axial        float64\n",
            " 2   und-accelerometer-radial       float64\n",
            " 3   und-accelerometer-tangential   float64\n",
            " 4   over-accelerometer-axial       float64\n",
            " 5   over-accelerometer-radial      float64\n",
            " 6   over-accelerometer-tangential  float64\n",
            " 7   microphone                     float64\n",
            " 8   Class                          int64  \n",
            "dtypes: float64(8), int64(1)\n",
            "memory usage: 2.0 GB\n"
          ]
        }
      ],
      "source": [
        "data.info()"
      ]
    },
    {
      "cell_type": "code",
      "execution_count": 7,
      "metadata": {
        "id": "WUW9ezX6a_st",
        "colab": {
          "base_uri": "https://localhost:8080/"
        },
        "outputId": "bc42527a-120d-4101-c140-b08c3479ba4f"
      },
      "outputs": [
        {
          "output_type": "execute_result",
          "data": {
            "text/plain": [
              "30000000"
            ]
          },
          "metadata": {},
          "execution_count": 7
        }
      ],
      "source": [
        "rec_count = len(data)\n",
        "rec_count"
      ]
    },
    {
      "cell_type": "markdown",
      "metadata": {
        "id": "6RVC1PZy88fC"
      },
      "source": [
        "# Datu dalīšana mazākos gabalos"
      ]
    },
    {
      "cell_type": "code",
      "execution_count": 8,
      "metadata": {
        "id": "DOvnCYkcbGaE"
      },
      "outputs": [],
      "source": [
        "sequence_length = 200"
      ]
    },
    {
      "cell_type": "code",
      "execution_count": 9,
      "metadata": {
        "id": "RG0o2L3zbTEx"
      },
      "outputs": [],
      "source": [
        "def generate_data(X, y, sequence_length = 200, step = 200):\n",
        "    X_local = []\n",
        "    y_local = []\n",
        "    for start in range(0, len(data) - sequence_length, step):\n",
        "        end = start + sequence_length\n",
        "        X_local.append(X[start:end])\n",
        "        y_local.append(y[end-1])\n",
        "    return np.array(X_local), np.array(y_local)\n",
        "\n",
        "#X_sequence, y = generate_data(data.loc[:, [\"tachometer\", \"und-accelerometer-axial\", \"und-accelerometer-radial\", \"und-accelerometer-tangential\", \"over-accelerometer-axial\", \"over-accelerometer-radial\", \"over-accelerometer-tangential\", \"microphone\"]].values, data.Class)\n",
        "X_sequence, y = generate_data(data.loc[:, [\"tachometer\", \"und-accelerometer-axial\", \"und-accelerometer-radial\", \"und-accelerometer-tangential\", \"over-accelerometer-axial\", \"over-accelerometer-radial\", \"over-accelerometer-tangential\", \"microphone\"]].values, data.Class)\n"
      ]
    },
    {
      "cell_type": "code",
      "execution_count": 10,
      "metadata": {
        "id": "s0QxwK66cLVF",
        "colab": {
          "base_uri": "https://localhost:8080/"
        },
        "outputId": "ca1c2263-3634-43bd-dfc2-2cef7144c2aa"
      },
      "outputs": [
        {
          "output_type": "execute_result",
          "data": {
            "text/plain": [
              "((149999, 200, 8), (149999,))"
            ]
          },
          "metadata": {},
          "execution_count": 10
        }
      ],
      "source": [
        "X_sequence.shape, y.shape"
      ]
    },
    {
      "cell_type": "code",
      "source": [
        "unique, counts = np.unique(y, return_counts=True)"
      ],
      "metadata": {
        "id": "l8Lq455lV1JR"
      },
      "execution_count": 11,
      "outputs": []
    },
    {
      "cell_type": "code",
      "source": [
        "unique"
      ],
      "metadata": {
        "id": "t0BRO3nAWQxe",
        "colab": {
          "base_uri": "https://localhost:8080/"
        },
        "outputId": "eacbcf13-48bd-4062-a3dd-7267e8f144ae"
      },
      "execution_count": 12,
      "outputs": [
        {
          "output_type": "execute_result",
          "data": {
            "text/plain": [
              "array([0, 1, 2, 3, 4, 5, 6, 7])"
            ]
          },
          "metadata": {},
          "execution_count": 12
        }
      ]
    },
    {
      "cell_type": "code",
      "source": [
        "counts"
      ],
      "metadata": {
        "id": "WWZ7QWR4WS_r",
        "colab": {
          "base_uri": "https://localhost:8080/"
        },
        "outputId": "cb445307-66f7-45ca-f7ba-d21cb15155c4"
      },
      "execution_count": 13,
      "outputs": [
        {
          "output_type": "execute_result",
          "data": {
            "text/plain": [
              "array([18749, 18750, 18750, 18750, 18750, 18750, 18750, 18750])"
            ]
          },
          "metadata": {},
          "execution_count": 13
        }
      ]
    },
    {
      "cell_type": "code",
      "execution_count": 14,
      "metadata": {
        "id": "i7R1oo6Mj8wx"
      },
      "outputs": [],
      "source": [
        "data = 0"
      ]
    },
    {
      "cell_type": "code",
      "source": [
        "from sklearn.preprocessing import OneHotEncoder"
      ],
      "metadata": {
        "id": "lAk_JscRWmqY"
      },
      "execution_count": 15,
      "outputs": []
    },
    {
      "cell_type": "code",
      "source": [
        "label_encoder = OneHotEncoder(sparse=False)\n",
        "label_encoder.fit(y.reshape(-1,1))"
      ],
      "metadata": {
        "id": "14B9aYy0W0y6",
        "colab": {
          "base_uri": "https://localhost:8080/"
        },
        "outputId": "f10dd1b6-492a-45e9-d9d9-c2836be8cb79"
      },
      "execution_count": 16,
      "outputs": [
        {
          "output_type": "execute_result",
          "data": {
            "text/plain": [
              "OneHotEncoder(sparse=False)"
            ]
          },
          "metadata": {},
          "execution_count": 16
        }
      ]
    },
    {
      "cell_type": "code",
      "source": [
        "y_encoded = label_encoder.transform(y.reshape(-1,1))"
      ],
      "metadata": {
        "id": "VjpWn96xXgPS"
      },
      "execution_count": 17,
      "outputs": []
    },
    {
      "cell_type": "code",
      "source": [
        "y_encoded[0:5]"
      ],
      "metadata": {
        "id": "VL6KMFo9XpBi",
        "colab": {
          "base_uri": "https://localhost:8080/"
        },
        "outputId": "38814f50-19ab-4959-f22f-abc29685fa2b"
      },
      "execution_count": 18,
      "outputs": [
        {
          "output_type": "execute_result",
          "data": {
            "text/plain": [
              "array([[0., 0., 0., 0., 0., 0., 0., 1.],\n",
              "       [0., 0., 0., 0., 0., 0., 0., 1.],\n",
              "       [0., 0., 0., 0., 0., 0., 0., 1.],\n",
              "       [0., 0., 0., 0., 0., 0., 0., 1.],\n",
              "       [0., 0., 0., 0., 0., 0., 0., 1.]])"
            ]
          },
          "metadata": {},
          "execution_count": 18
        }
      ]
    },
    {
      "cell_type": "code",
      "source": [
        "y=y_encoded"
      ],
      "metadata": {
        "id": "5c8km253YKBl"
      },
      "execution_count": 19,
      "outputs": []
    },
    {
      "cell_type": "markdown",
      "metadata": {
        "id": "5BXSDoHa9UX_"
      },
      "source": [
        "# Random/Shuffle"
      ]
    },
    {
      "cell_type": "code",
      "execution_count": 20,
      "metadata": {
        "id": "ZcfE9idy-ckb"
      },
      "outputs": [],
      "source": [
        "shuffler = np.random.permutation(len(X_sequence))\n",
        "X_sequence_shuffled = X_sequence[shuffler]\n",
        "y_shuffled = y[shuffler]"
      ]
    },
    {
      "cell_type": "markdown",
      "metadata": {
        "id": "TfhRTTNcE2s8"
      },
      "source": [
        "# LSTM"
      ]
    },
    {
      "cell_type": "code",
      "execution_count": 21,
      "metadata": {
        "id": "ihrXMuVAEwlY"
      },
      "outputs": [],
      "source": [
        "import pandas as pd\n",
        "import sklearn.metrics as metrique\n",
        "from pandas import Series\n",
        "from sklearn.preprocessing import StandardScaler, MinMaxScaler\n",
        "from matplotlib import pyplot\n",
        "from sklearn.model_selection import train_test_split\n",
        "import numpy as np\n",
        "import tensorflow as tf\n",
        "import sys\n",
        "import numpy as np\n",
        "import pandas as pd\n",
        "import tensorflow as tf\n",
        "import matplotlib.pyplot as plt\n",
        "from sklearn.model_selection import train_test_split\n",
        "from sklearn import preprocessing\n",
        "from sklearn.preprocessing import StandardScaler\n",
        "from sklearn.metrics import classification_report\n",
        "import warnings\n",
        "warnings.filterwarnings('ignore')\n",
        "plt.style.use('ggplot')\n",
        "import seaborn as sns \n",
        "%matplotlib inline\n",
        "from keras.callbacks import EarlyStopping\n",
        "from keras.callbacks import ModelCheckpoint\n",
        "from sklearn.metrics import accuracy_score\n",
        "from sklearn.metrics import classification_report, confusion_matrix\n",
        "from keras.models import Sequential\n",
        "from keras.utils import np_utils\n",
        "from keras.layers import LSTM, Dense, Embedding, Dropout,Input, Layer, Concatenate, Permute, Dot, Multiply, Flatten\n",
        "from keras.layers import RepeatVector, Dense, Activation, Lambda\n",
        "from keras.models import Sequential\n",
        "from keras import backend as K, regularizers, Model, metrics\n",
        "from keras.backend import cast"
      ]
    },
    {
      "cell_type": "code",
      "execution_count": 22,
      "metadata": {
        "id": "PjKWKiA6aH3z"
      },
      "outputs": [],
      "source": [
        "#from tensorflow.keras import optimizers\n",
        "#sgd = optimizers.SGD(lr=0.0001, decay=1e-6, momentum=0.9, nesterov=True)\n",
        "#model = keras.Sequential()\n",
        "#model.add(LSTM(100, input_shape = (200, 8)))\n",
        "#model.add(Dropout(0.5))\n",
        "#model.add(Dense(1, activation=\"softmax\"))\n",
        "\n",
        "\n",
        "#model.compile(loss=\"categorical_crossentropy\"\n",
        "#              , metrics=[keras.metrics.binary_accuracy]\n",
        "#              , optimizer='sgd')\n",
        "\n",
        "#model.summary()"
      ]
    },
    {
      "cell_type": "code",
      "execution_count": 23,
      "metadata": {
        "id": "_2SaVmwSWJVB",
        "colab": {
          "base_uri": "https://localhost:8080/"
        },
        "outputId": "0b77fff9-a2cf-4b3f-aa08-cfebf1a1641a"
      },
      "outputs": [
        {
          "output_type": "stream",
          "name": "stdout",
          "text": [
            "Model: \"sequential\"\n",
            "_________________________________________________________________\n",
            " Layer (type)                Output Shape              Param #   \n",
            "=================================================================\n",
            " lstm (LSTM)                 (None, 150)               95400     \n",
            "                                                                 \n",
            " dropout (Dropout)           (None, 150)               0         \n",
            "                                                                 \n",
            " dense (Dense)               (None, 8)                 1208      \n",
            "                                                                 \n",
            "=================================================================\n",
            "Total params: 96,608\n",
            "Trainable params: 96,608\n",
            "Non-trainable params: 0\n",
            "_________________________________________________________________\n"
          ]
        }
      ],
      "source": [
        "from tensorflow.keras import optimizers\n",
        "#sgd = optimizers.SGD(lr=0.0001, decay=1e-6, momentum=0.9, nesterov=True)\n",
        "optimizer = tf.keras.optimizers.Adam(lr=0.0001)\n",
        "model = keras.Sequential()\n",
        "model.add(LSTM(150, input_shape = (200, 8)))\n",
        "model.add(Dropout(0.5))#0.25\n",
        "model.add(Dense(8, activation=\"softmax\"))\n",
        "\n",
        "#model.compile(loss='mean_squared_error', optimizer=sgd)\n",
        "model.compile(loss=\"categorical_crossentropy\"\n",
        "              , metrics=['accuracy']\n",
        "              , optimizer=optimizer)\n",
        "\n",
        "model.summary()"
      ]
    },
    {
      "cell_type": "code",
      "execution_count": 24,
      "metadata": {
        "id": "tg8wrqsqc8UX"
      },
      "outputs": [],
      "source": [
        "training_size = int(len(X_sequence) * 0.8)\n",
        "val_size = int(len(X_sequence) * 0.9)"
      ]
    },
    {
      "cell_type": "code",
      "execution_count": 25,
      "metadata": {
        "id": "avIp3TEKc-qF"
      },
      "outputs": [],
      "source": [
        "X_train, y_train = X_sequence_shuffled[:training_size], y_shuffled[:training_size]\n",
        "X_val, y_val = X_sequence_shuffled[training_size:val_size], y_shuffled[training_size:val_size]\n",
        "X_test, y_test = X_sequence_shuffled[val_size:], y_shuffled[val_size:]"
      ]
    },
    {
      "cell_type": "code",
      "execution_count": 26,
      "metadata": {
        "id": "RABc_uKzkBUT"
      },
      "outputs": [],
      "source": [
        "#X_sequence = 0\n",
        "#y = 0"
      ]
    },
    {
      "cell_type": "code",
      "source": [
        "X_train.shape"
      ],
      "metadata": {
        "id": "Omv-ht1dhGxL",
        "colab": {
          "base_uri": "https://localhost:8080/"
        },
        "outputId": "247712c0-d726-4a8b-e43a-4d7517a5a46d"
      },
      "execution_count": 27,
      "outputs": [
        {
          "output_type": "execute_result",
          "data": {
            "text/plain": [
              "(119999, 200, 8)"
            ]
          },
          "metadata": {},
          "execution_count": 27
        }
      ]
    },
    {
      "cell_type": "code",
      "execution_count": 28,
      "metadata": {
        "id": "8aIhPJ-wLCwZ",
        "colab": {
          "base_uri": "https://localhost:8080/"
        },
        "outputId": "4b46d9b1-c7f7-40d5-da9b-b01fde2424f9"
      },
      "outputs": [
        {
          "output_type": "execute_result",
          "data": {
            "text/plain": [
              "array([[1., 0., 0., 0., 0., 0., 0., 0.],\n",
              "       [0., 1., 0., 0., 0., 0., 0., 0.],\n",
              "       [0., 0., 0., 0., 0., 1., 0., 0.],\n",
              "       [0., 0., 0., 0., 0., 1., 0., 0.],\n",
              "       [0., 0., 0., 0., 1., 0., 0., 0.],\n",
              "       [0., 0., 0., 0., 0., 0., 0., 1.],\n",
              "       [0., 0., 0., 0., 0., 0., 0., 1.],\n",
              "       [0., 0., 0., 1., 0., 0., 0., 0.],\n",
              "       [0., 0., 0., 0., 1., 0., 0., 0.],\n",
              "       [0., 0., 0., 0., 0., 0., 1., 0.]])"
            ]
          },
          "metadata": {},
          "execution_count": 28
        }
      ],
      "source": [
        "y_train[:10]"
      ]
    },
    {
      "cell_type": "code",
      "execution_count": 29,
      "metadata": {
        "id": "cen4faX0dFJP",
        "colab": {
          "base_uri": "https://localhost:8080/"
        },
        "outputId": "0347e31d-9c99-4a75-ac01-2c74846f9515"
      },
      "outputs": [
        {
          "output_type": "stream",
          "name": "stdout",
          "text": [
            "Epoch 1/100\n",
            "1875/1875 [==============================] - 32s 14ms/step - loss: 1.7956 - accuracy: 0.2276 - val_loss: 1.6600 - val_accuracy: 0.2793\n",
            "Epoch 2/100\n",
            "1875/1875 [==============================] - 25s 13ms/step - loss: 1.6735 - accuracy: 0.2627 - val_loss: 1.6094 - val_accuracy: 0.2968\n",
            "Epoch 3/100\n",
            "1875/1875 [==============================] - 25s 13ms/step - loss: 1.6713 - accuracy: 0.2792 - val_loss: 1.6127 - val_accuracy: 0.3342\n",
            "Epoch 4/100\n",
            "1875/1875 [==============================] - 24s 13ms/step - loss: 1.6196 - accuracy: 0.3164 - val_loss: 1.5374 - val_accuracy: 0.3508\n",
            "Epoch 5/100\n",
            "1875/1875 [==============================] - 26s 14ms/step - loss: 1.5644 - accuracy: 0.3427 - val_loss: 1.4888 - val_accuracy: 0.3799\n",
            "Epoch 6/100\n",
            "1875/1875 [==============================] - 24s 13ms/step - loss: 1.5427 - accuracy: 0.3525 - val_loss: 1.5216 - val_accuracy: 0.3708\n",
            "Epoch 7/100\n",
            "1875/1875 [==============================] - 25s 13ms/step - loss: 1.4972 - accuracy: 0.3774 - val_loss: 1.4265 - val_accuracy: 0.4105\n",
            "Epoch 8/100\n",
            "1875/1875 [==============================] - 25s 13ms/step - loss: 1.5654 - accuracy: 0.3676 - val_loss: 1.5142 - val_accuracy: 0.3836\n",
            "Epoch 9/100\n",
            "1875/1875 [==============================] - 25s 13ms/step - loss: 1.5255 - accuracy: 0.3815 - val_loss: 1.5181 - val_accuracy: 0.3834\n",
            "Epoch 10/100\n",
            "1875/1875 [==============================] - 25s 13ms/step - loss: 1.4829 - accuracy: 0.3930 - val_loss: 1.3899 - val_accuracy: 0.4261\n",
            "Epoch 11/100\n",
            "1875/1875 [==============================] - 26s 14ms/step - loss: 1.5004 - accuracy: 0.3981 - val_loss: 1.3979 - val_accuracy: 0.4294\n",
            "Epoch 12/100\n",
            "1875/1875 [==============================] - 25s 13ms/step - loss: 1.4019 - accuracy: 0.4215 - val_loss: 1.3346 - val_accuracy: 0.4549\n",
            "Epoch 13/100\n",
            "1875/1875 [==============================] - 25s 13ms/step - loss: 1.3366 - accuracy: 0.4501 - val_loss: 1.2738 - val_accuracy: 0.4793\n",
            "Epoch 14/100\n",
            "1875/1875 [==============================] - 25s 13ms/step - loss: 1.3624 - accuracy: 0.4480 - val_loss: 1.3160 - val_accuracy: 0.4687\n",
            "Epoch 15/100\n",
            "1875/1875 [==============================] - 26s 14ms/step - loss: 1.3427 - accuracy: 0.4551 - val_loss: 1.2919 - val_accuracy: 0.4763\n",
            "Epoch 16/100\n",
            "1875/1875 [==============================] - 25s 13ms/step - loss: 1.3137 - accuracy: 0.4650 - val_loss: 1.3135 - val_accuracy: 0.4640\n",
            "Epoch 17/100\n",
            "1875/1875 [==============================] - 25s 13ms/step - loss: 1.4789 - accuracy: 0.4163 - val_loss: 1.3486 - val_accuracy: 0.4548\n",
            "Epoch 18/100\n",
            "1875/1875 [==============================] - 25s 13ms/step - loss: 1.3193 - accuracy: 0.4617 - val_loss: 1.2520 - val_accuracy: 0.4927\n",
            "Epoch 19/100\n",
            "1875/1875 [==============================] - 26s 14ms/step - loss: 1.2802 - accuracy: 0.4829 - val_loss: 1.2279 - val_accuracy: 0.5030\n",
            "Epoch 20/100\n",
            "1875/1875 [==============================] - 25s 13ms/step - loss: 1.2667 - accuracy: 0.4850 - val_loss: 1.2166 - val_accuracy: 0.5037\n",
            "Epoch 21/100\n",
            "1875/1875 [==============================] - 25s 13ms/step - loss: 1.2769 - accuracy: 0.4850 - val_loss: 1.2095 - val_accuracy: 0.5062\n",
            "Epoch 22/100\n",
            "1875/1875 [==============================] - 25s 13ms/step - loss: 1.2449 - accuracy: 0.4933 - val_loss: 1.1997 - val_accuracy: 0.5171\n",
            "Epoch 23/100\n",
            "1875/1875 [==============================] - 25s 13ms/step - loss: 1.2554 - accuracy: 0.4909 - val_loss: 1.2097 - val_accuracy: 0.5123\n",
            "Epoch 24/100\n",
            "1875/1875 [==============================] - 25s 13ms/step - loss: 1.2211 - accuracy: 0.5014 - val_loss: 1.1759 - val_accuracy: 0.5141\n",
            "Epoch 25/100\n",
            "1875/1875 [==============================] - 26s 14ms/step - loss: 1.1996 - accuracy: 0.5064 - val_loss: 1.2378 - val_accuracy: 0.4921\n",
            "Epoch 26/100\n",
            "1875/1875 [==============================] - 25s 13ms/step - loss: 1.2012 - accuracy: 0.5066 - val_loss: 1.1401 - val_accuracy: 0.5354\n",
            "Epoch 27/100\n",
            "1875/1875 [==============================] - 26s 14ms/step - loss: 1.2108 - accuracy: 0.5043 - val_loss: 1.1412 - val_accuracy: 0.5299\n",
            "Epoch 28/100\n",
            "1875/1875 [==============================] - 25s 13ms/step - loss: 1.1803 - accuracy: 0.5138 - val_loss: 1.1103 - val_accuracy: 0.5461\n",
            "Epoch 29/100\n",
            "1875/1875 [==============================] - 25s 13ms/step - loss: 1.1482 - accuracy: 0.5256 - val_loss: 1.0983 - val_accuracy: 0.5480\n",
            "Epoch 30/100\n",
            "1875/1875 [==============================] - 25s 13ms/step - loss: 1.1572 - accuracy: 0.5242 - val_loss: 1.1185 - val_accuracy: 0.5331\n",
            "Epoch 31/100\n",
            "1875/1875 [==============================] - 25s 13ms/step - loss: 1.1454 - accuracy: 0.5290 - val_loss: 1.1179 - val_accuracy: 0.5403\n",
            "Epoch 32/100\n",
            "1875/1875 [==============================] - 25s 13ms/step - loss: 1.1128 - accuracy: 0.5415 - val_loss: 1.0697 - val_accuracy: 0.5639\n",
            "Epoch 33/100\n",
            "1875/1875 [==============================] - 25s 13ms/step - loss: 1.1646 - accuracy: 0.5273 - val_loss: 1.1051 - val_accuracy: 0.5469\n",
            "Epoch 34/100\n",
            "1875/1875 [==============================] - 25s 13ms/step - loss: 1.1523 - accuracy: 0.5337 - val_loss: 1.1065 - val_accuracy: 0.5461\n",
            "Epoch 35/100\n",
            "1875/1875 [==============================] - 25s 13ms/step - loss: 1.1200 - accuracy: 0.5405 - val_loss: 1.1292 - val_accuracy: 0.5297\n",
            "Epoch 36/100\n",
            "1875/1875 [==============================] - 25s 14ms/step - loss: 1.1190 - accuracy: 0.5429 - val_loss: 1.0482 - val_accuracy: 0.5715\n",
            "Epoch 37/100\n",
            "1875/1875 [==============================] - 26s 14ms/step - loss: 1.1218 - accuracy: 0.5409 - val_loss: 1.0855 - val_accuracy: 0.5503\n",
            "Epoch 38/100\n",
            "1875/1875 [==============================] - 26s 14ms/step - loss: 1.0757 - accuracy: 0.5568 - val_loss: 1.1565 - val_accuracy: 0.5437\n",
            "Epoch 39/100\n",
            "1875/1875 [==============================] - 26s 14ms/step - loss: 1.1299 - accuracy: 0.5446 - val_loss: 1.1103 - val_accuracy: 0.5479\n",
            "Epoch 40/100\n",
            "1875/1875 [==============================] - 25s 13ms/step - loss: 1.0753 - accuracy: 0.5604 - val_loss: 0.9976 - val_accuracy: 0.5894\n",
            "Epoch 41/100\n",
            "1875/1875 [==============================] - 27s 14ms/step - loss: 1.0478 - accuracy: 0.5688 - val_loss: 1.0101 - val_accuracy: 0.5817\n",
            "Epoch 42/100\n",
            "1875/1875 [==============================] - 26s 14ms/step - loss: 1.0688 - accuracy: 0.5623 - val_loss: 1.0340 - val_accuracy: 0.5695\n",
            "Epoch 43/100\n",
            "1875/1875 [==============================] - 26s 14ms/step - loss: 1.0770 - accuracy: 0.5590 - val_loss: 1.0205 - val_accuracy: 0.5809\n",
            "Epoch 44/100\n",
            "1875/1875 [==============================] - 25s 13ms/step - loss: 1.0138 - accuracy: 0.5830 - val_loss: 0.9477 - val_accuracy: 0.6060\n",
            "Epoch 45/100\n",
            "1875/1875 [==============================] - 25s 13ms/step - loss: 1.0429 - accuracy: 0.5770 - val_loss: 0.9957 - val_accuracy: 0.5847\n",
            "Epoch 46/100\n",
            "1875/1875 [==============================] - 26s 14ms/step - loss: 1.0021 - accuracy: 0.5881 - val_loss: 0.9823 - val_accuracy: 0.5897\n",
            "Epoch 47/100\n",
            "1875/1875 [==============================] - 25s 14ms/step - loss: 0.9866 - accuracy: 0.5921 - val_loss: 0.9703 - val_accuracy: 0.5993\n",
            "Epoch 48/100\n",
            "1875/1875 [==============================] - 26s 14ms/step - loss: 0.9678 - accuracy: 0.5999 - val_loss: 0.9032 - val_accuracy: 0.6269\n",
            "Epoch 49/100\n",
            "1875/1875 [==============================] - 25s 13ms/step - loss: 0.9549 - accuracy: 0.6055 - val_loss: 0.8966 - val_accuracy: 0.6305\n",
            "Epoch 50/100\n",
            "1875/1875 [==============================] - 25s 13ms/step - loss: 0.9559 - accuracy: 0.6064 - val_loss: 0.8908 - val_accuracy: 0.6367\n",
            "Epoch 51/100\n",
            "1875/1875 [==============================] - 26s 14ms/step - loss: 0.9945 - accuracy: 0.5982 - val_loss: 0.9595 - val_accuracy: 0.6127\n",
            "Epoch 52/100\n",
            "1875/1875 [==============================] - 25s 13ms/step - loss: 0.9362 - accuracy: 0.6169 - val_loss: 0.8686 - val_accuracy: 0.6427\n",
            "Epoch 53/100\n",
            "1875/1875 [==============================] - 25s 13ms/step - loss: 0.9116 - accuracy: 0.6257 - val_loss: 0.9444 - val_accuracy: 0.6123\n",
            "Epoch 54/100\n",
            "1875/1875 [==============================] - 25s 13ms/step - loss: 0.9233 - accuracy: 0.6223 - val_loss: 0.9259 - val_accuracy: 0.6248\n",
            "Epoch 55/100\n",
            "1875/1875 [==============================] - 25s 13ms/step - loss: 0.8903 - accuracy: 0.6354 - val_loss: 0.8524 - val_accuracy: 0.6432\n",
            "Epoch 56/100\n",
            "1875/1875 [==============================] - 26s 14ms/step - loss: 0.8859 - accuracy: 0.6375 - val_loss: 0.8490 - val_accuracy: 0.6487\n",
            "Epoch 57/100\n",
            "1875/1875 [==============================] - 25s 13ms/step - loss: 0.8677 - accuracy: 0.6450 - val_loss: 0.8239 - val_accuracy: 0.6611\n",
            "Epoch 58/100\n",
            "1875/1875 [==============================] - 25s 13ms/step - loss: 0.8639 - accuracy: 0.6471 - val_loss: 0.8233 - val_accuracy: 0.6627\n",
            "Epoch 59/100\n",
            "1875/1875 [==============================] - 25s 13ms/step - loss: 0.8479 - accuracy: 0.6533 - val_loss: 0.8378 - val_accuracy: 0.6545\n",
            "Epoch 60/100\n",
            "1875/1875 [==============================] - 25s 13ms/step - loss: 0.8485 - accuracy: 0.6537 - val_loss: 0.8194 - val_accuracy: 0.6620\n",
            "Epoch 61/100\n",
            "1875/1875 [==============================] - 25s 13ms/step - loss: 0.8574 - accuracy: 0.6520 - val_loss: 0.7922 - val_accuracy: 0.6786\n",
            "Epoch 62/100\n",
            "1875/1875 [==============================] - 25s 13ms/step - loss: 0.8829 - accuracy: 0.6530 - val_loss: 0.7840 - val_accuracy: 0.6826\n",
            "Epoch 63/100\n",
            "1875/1875 [==============================] - 25s 13ms/step - loss: 0.8297 - accuracy: 0.6658 - val_loss: 0.7903 - val_accuracy: 0.6787\n",
            "Epoch 64/100\n",
            "1875/1875 [==============================] - 25s 13ms/step - loss: 0.8295 - accuracy: 0.6636 - val_loss: 0.7819 - val_accuracy: 0.6801\n",
            "Epoch 65/100\n",
            "1875/1875 [==============================] - 26s 14ms/step - loss: 0.8094 - accuracy: 0.6712 - val_loss: 0.7870 - val_accuracy: 0.6799\n",
            "Epoch 66/100\n",
            "1875/1875 [==============================] - 25s 13ms/step - loss: 0.8449 - accuracy: 0.6576 - val_loss: 0.7667 - val_accuracy: 0.6851\n",
            "Epoch 67/100\n",
            "1875/1875 [==============================] - 25s 13ms/step - loss: 0.7983 - accuracy: 0.6748 - val_loss: 0.7926 - val_accuracy: 0.6770\n",
            "Epoch 68/100\n",
            "1875/1875 [==============================] - 26s 14ms/step - loss: 0.7957 - accuracy: 0.6754 - val_loss: 0.7758 - val_accuracy: 0.6821\n",
            "Epoch 69/100\n",
            "1875/1875 [==============================] - 25s 13ms/step - loss: 0.7891 - accuracy: 0.6790 - val_loss: 0.7618 - val_accuracy: 0.6910\n",
            "Epoch 70/100\n",
            "1875/1875 [==============================] - 25s 13ms/step - loss: 0.7772 - accuracy: 0.6823 - val_loss: 0.7765 - val_accuracy: 0.6799\n",
            "Epoch 71/100\n",
            "1875/1875 [==============================] - 25s 13ms/step - loss: 0.7694 - accuracy: 0.6860 - val_loss: 0.7254 - val_accuracy: 0.7016\n",
            "Epoch 72/100\n",
            "1875/1875 [==============================] - 25s 14ms/step - loss: 0.7612 - accuracy: 0.6897 - val_loss: 0.7141 - val_accuracy: 0.7059\n",
            "Epoch 73/100\n",
            "1875/1875 [==============================] - 25s 13ms/step - loss: 0.7712 - accuracy: 0.6872 - val_loss: 0.7333 - val_accuracy: 0.7009\n",
            "Epoch 74/100\n",
            "1875/1875 [==============================] - 25s 13ms/step - loss: 0.7507 - accuracy: 0.6933 - val_loss: 0.7212 - val_accuracy: 0.7061\n",
            "Epoch 75/100\n",
            "1875/1875 [==============================] - 25s 13ms/step - loss: 0.7448 - accuracy: 0.6965 - val_loss: 0.7192 - val_accuracy: 0.7030\n",
            "Epoch 76/100\n",
            "1875/1875 [==============================] - 26s 14ms/step - loss: 0.7392 - accuracy: 0.6983 - val_loss: 0.7279 - val_accuracy: 0.6934\n",
            "Epoch 77/100\n",
            "1875/1875 [==============================] - 26s 14ms/step - loss: 0.7303 - accuracy: 0.7017 - val_loss: 0.7046 - val_accuracy: 0.7073\n",
            "Epoch 78/100\n",
            "1875/1875 [==============================] - 25s 13ms/step - loss: 0.7271 - accuracy: 0.7028 - val_loss: 0.6999 - val_accuracy: 0.7133\n",
            "Epoch 79/100\n",
            "1875/1875 [==============================] - 25s 13ms/step - loss: 0.7200 - accuracy: 0.7043 - val_loss: 0.6955 - val_accuracy: 0.7123\n",
            "Epoch 80/100\n",
            "1875/1875 [==============================] - 25s 13ms/step - loss: 0.7160 - accuracy: 0.7086 - val_loss: 0.6832 - val_accuracy: 0.7171\n",
            "Epoch 81/100\n",
            "1875/1875 [==============================] - 26s 14ms/step - loss: 0.7131 - accuracy: 0.7088 - val_loss: 0.7211 - val_accuracy: 0.7057\n",
            "Epoch 82/100\n",
            "1875/1875 [==============================] - 26s 14ms/step - loss: 0.7061 - accuracy: 0.7127 - val_loss: 0.7079 - val_accuracy: 0.7080\n",
            "Epoch 83/100\n",
            "1875/1875 [==============================] - 26s 14ms/step - loss: 0.7035 - accuracy: 0.7137 - val_loss: 0.6825 - val_accuracy: 0.7223\n",
            "Epoch 84/100\n",
            "1875/1875 [==============================] - 26s 14ms/step - loss: 0.6882 - accuracy: 0.7184 - val_loss: 0.6744 - val_accuracy: 0.7227\n",
            "Epoch 85/100\n",
            "1875/1875 [==============================] - 26s 14ms/step - loss: 0.6857 - accuracy: 0.7205 - val_loss: 0.6654 - val_accuracy: 0.7301\n",
            "Epoch 86/100\n",
            "1875/1875 [==============================] - 26s 14ms/step - loss: 0.6876 - accuracy: 0.7197 - val_loss: 0.6408 - val_accuracy: 0.7349\n",
            "Epoch 87/100\n",
            "1875/1875 [==============================] - 26s 14ms/step - loss: 0.6749 - accuracy: 0.7227 - val_loss: 0.6330 - val_accuracy: 0.7379\n",
            "Epoch 88/100\n",
            "1875/1875 [==============================] - 26s 14ms/step - loss: 0.6707 - accuracy: 0.7257 - val_loss: 0.6261 - val_accuracy: 0.7426\n",
            "Epoch 89/100\n",
            "1875/1875 [==============================] - 25s 13ms/step - loss: 0.6680 - accuracy: 0.7271 - val_loss: 0.6333 - val_accuracy: 0.7409\n",
            "Epoch 90/100\n",
            "1875/1875 [==============================] - 25s 13ms/step - loss: 0.6584 - accuracy: 0.7301 - val_loss: 0.6343 - val_accuracy: 0.7369\n",
            "Epoch 91/100\n",
            "1875/1875 [==============================] - 25s 13ms/step - loss: 0.6521 - accuracy: 0.7335 - val_loss: 0.6380 - val_accuracy: 0.7395\n",
            "Epoch 92/100\n",
            "1875/1875 [==============================] - 25s 13ms/step - loss: 0.6478 - accuracy: 0.7336 - val_loss: 0.6207 - val_accuracy: 0.7479\n",
            "Epoch 93/100\n",
            "1875/1875 [==============================] - 27s 14ms/step - loss: 0.6438 - accuracy: 0.7370 - val_loss: 0.6100 - val_accuracy: 0.7515\n",
            "Epoch 94/100\n",
            "1875/1875 [==============================] - 25s 14ms/step - loss: 0.6417 - accuracy: 0.7378 - val_loss: 0.6471 - val_accuracy: 0.7365\n",
            "Epoch 95/100\n",
            "1875/1875 [==============================] - 25s 14ms/step - loss: 0.6370 - accuracy: 0.7389 - val_loss: 0.6177 - val_accuracy: 0.7506\n",
            "Epoch 96/100\n",
            "1875/1875 [==============================] - 25s 13ms/step - loss: 0.6278 - accuracy: 0.7432 - val_loss: 0.6136 - val_accuracy: 0.7449\n",
            "Epoch 97/100\n",
            "1875/1875 [==============================] - 25s 13ms/step - loss: 0.6206 - accuracy: 0.7462 - val_loss: 0.6049 - val_accuracy: 0.7554\n",
            "Epoch 98/100\n",
            "1875/1875 [==============================] - 25s 14ms/step - loss: 0.6414 - accuracy: 0.7407 - val_loss: 0.6095 - val_accuracy: 0.7509\n",
            "Epoch 99/100\n",
            "1875/1875 [==============================] - 25s 13ms/step - loss: 0.6088 - accuracy: 0.7513 - val_loss: 0.5928 - val_accuracy: 0.7573\n",
            "Epoch 100/100\n",
            "1875/1875 [==============================] - 26s 14ms/step - loss: 0.6035 - accuracy: 0.7548 - val_loss: 0.5895 - val_accuracy: 0.7573\n"
          ]
        }
      ],
      "source": [
        "history = model.fit(X_train, y_train, batch_size=64, epochs=100, validation_data=(X_val, y_val))\n",
        "#model.save('NewAllDataModel_E50_B64.h5')"
      ]
    },
    {
      "cell_type": "code",
      "execution_count": 30,
      "metadata": {
        "id": "R7QQeqVidKBR",
        "colab": {
          "base_uri": "https://localhost:8080/"
        },
        "outputId": "36c1061f-67d0-45ec-8fe9-4c83016bffd8"
      },
      "outputs": [
        {
          "output_type": "stream",
          "name": "stdout",
          "text": [
            "469/469 [==============================] - 3s 6ms/step - loss: 0.6041 - accuracy: 0.7505\n"
          ]
        }
      ],
      "source": [
        "test_acc = model.evaluate(X_test, y_test)"
      ]
    },
    {
      "cell_type": "code",
      "source": [
        "test_acc"
      ],
      "metadata": {
        "id": "6fuTmgGrUgGg",
        "colab": {
          "base_uri": "https://localhost:8080/"
        },
        "outputId": "e09959d3-be5a-4601-87cf-bcfa9039d044"
      },
      "execution_count": 31,
      "outputs": [
        {
          "output_type": "execute_result",
          "data": {
            "text/plain": [
              "[0.6041188836097717, 0.7505333423614502]"
            ]
          },
          "metadata": {},
          "execution_count": 31
        }
      ]
    },
    {
      "cell_type": "code",
      "execution_count": 32,
      "metadata": {
        "id": "OHpifyqGdKn-",
        "colab": {
          "base_uri": "https://localhost:8080/"
        },
        "outputId": "b5c9694e-c698-4288-f333-2466312e9d69"
      },
      "outputs": [
        {
          "output_type": "stream",
          "name": "stdout",
          "text": [
            "469/469 [==============================] - 3s 5ms/step\n"
          ]
        }
      ],
      "source": [
        "y_test_prob = model.predict(X_test, verbose=1)"
      ]
    },
    {
      "cell_type": "code",
      "source": [
        "np.set_printoptions(suppress=True)\n",
        "y_test_prob_backup = y_test_prob\n",
        "y_test_prob"
      ],
      "metadata": {
        "id": "rRPswrrkmhp2",
        "colab": {
          "base_uri": "https://localhost:8080/"
        },
        "outputId": "7069930a-ac33-4eb1-f61d-6be3244e4cb0"
      },
      "execution_count": 33,
      "outputs": [
        {
          "output_type": "execute_result",
          "data": {
            "text/plain": [
              "array([[0.00002505, 0.00001286, 0.00066475, ..., 0.00061637, 0.9882613 ,\n",
              "        0.00817146],\n",
              "       [0.00008888, 0.99984133, 0.00006179, ..., 0.00000089, 0.00000174,\n",
              "        0.00000199],\n",
              "       [0.00007411, 0.00293616, 0.23008019, ..., 0.0570075 , 0.37876666,\n",
              "        0.24222964],\n",
              "       ...,\n",
              "       [0.0002028 , 0.00005618, 0.00129681, ..., 0.00404036, 0.2569658 ,\n",
              "        0.7344532 ],\n",
              "       [0.00018803, 0.9997396 , 0.0000679 , ..., 0.00000003, 0.0000003 ,\n",
              "        0.00000284],\n",
              "       [0.00000002, 0.00000015, 0.06874511, ..., 0.00744499, 0.00016748,\n",
              "        0.00000036]], dtype=float32)"
            ]
          },
          "metadata": {},
          "execution_count": 33
        }
      ]
    },
    {
      "cell_type": "code",
      "source": [
        "plt.figure(figsize=(10,10))\n",
        "plt.hist(y_test_prob_backup)"
      ],
      "metadata": {
        "colab": {
          "base_uri": "https://localhost:8080/",
          "height": 954
        },
        "id": "qsgK5XvWjrAP",
        "outputId": "ca1b8198-545c-4000-f1f1-0c1976fa054d"
      },
      "execution_count": 34,
      "outputs": [
        {
          "output_type": "execute_result",
          "data": {
            "text/plain": [
              "(array([[13126.,    12.,    12.,    15.,    11.,    16.,    20.,    28.,\n",
              "            67.,  1693.],\n",
              "        [12899.,    98.,    38.,    27.,    20.,    18.,    21.,    26.,\n",
              "            38.,  1815.],\n",
              "        [11538.,  1058.,   475.,   228.,   137.,   101.,    90.,    89.,\n",
              "           127.,  1157.],\n",
              "        [11024.,  1075.,   713.,   505.,   356.,   231.,   185.,   161.,\n",
              "           210.,   540.],\n",
              "        [10209.,  1926.,  1244.,   504.,   273.,   174.,   126.,   101.,\n",
              "           136.,   307.],\n",
              "        [10678.,  1056.,   989.,   729.,   415.,   303.,   196.,   162.,\n",
              "           161.,   311.],\n",
              "        [10229.,  1183.,  1020.,   863.,   514.,   296.,   202.,   164.,\n",
              "           169.,   360.],\n",
              "        [11479.,   574.,   388.,   316.,   353.,   309.,   332.,   399.,\n",
              "           426.,   424.]]),\n",
              " array([0.        , 0.09999794, 0.19999588, 0.2999938 , 0.39999175,\n",
              "        0.4999897 , 0.5999876 , 0.69998556, 0.7999835 , 0.89998144,\n",
              "        0.9999794 ], dtype=float32),\n",
              " <a list of 8 Lists of Patches objects>)"
            ]
          },
          "metadata": {},
          "execution_count": 34
        },
        {
          "output_type": "display_data",
          "data": {
            "text/plain": [
              "<Figure size 720x720 with 1 Axes>"
            ],
            "image/png": "[encoded data removed]"
          },
          "metadata": {
            "needs_background": "light"
          }
        }
      ]
    },
    {
      "cell_type": "code",
      "source": [
        "y_test_prob_backup[:10]"
      ],
      "metadata": {
        "colab": {
          "base_uri": "https://localhost:8080/"
        },
        "id": "M6Xj4ugPx610",
        "outputId": "d10cae66-43b9-46ca-d2ec-0a6f095936e5"
      },
      "execution_count": 35,
      "outputs": [
        {
          "output_type": "execute_result",
          "data": {
            "text/plain": [
              "array([[0.00002505, 0.00001286, 0.00066475, 0.00001997, 0.00222828,\n",
              "        0.00061637, 0.9882613 , 0.00817146],\n",
              "       [0.00008888, 0.99984133, 0.00006179, 0.0000019 , 0.0000015 ,\n",
              "        0.00000089, 0.00000174, 0.00000199],\n",
              "       [0.00007411, 0.00293616, 0.23008019, 0.01715654, 0.07174921,\n",
              "        0.0570075 , 0.37876666, 0.24222964],\n",
              "       [0.00022352, 0.00016127, 0.02243605, 0.00199116, 0.02454452,\n",
              "        0.01673879, 0.53617316, 0.3977315 ],\n",
              "       [0.        , 0.00000007, 0.00047126, 0.98830855, 0.01030265,\n",
              "        0.00091669, 0.00000066, 0.        ],\n",
              "       [0.00003402, 0.00000155, 0.00046896, 0.00531344, 0.38950434,\n",
              "        0.06443402, 0.53150785, 0.00873586],\n",
              "       [0.9987437 , 0.00107289, 0.00000018, 0.00000036, 0.0000005 ,\n",
              "        0.00000945, 0.00000859, 0.00016429],\n",
              "       [0.00008968, 0.00001129, 0.00086899, 0.00054317, 0.05033844,\n",
              "        0.00527664, 0.8678204 , 0.0750514 ],\n",
              "       [0.0000022 , 0.0000043 , 0.00238912, 0.33722833, 0.6350255 ,\n",
              "        0.02425138, 0.00107783, 0.00002133],\n",
              "       [0.0000832 , 0.00150429, 0.18166882, 0.07778551, 0.18406956,\n",
              "        0.19937594, 0.28053677, 0.07497585]], dtype=float32)"
            ]
          },
          "metadata": {},
          "execution_count": 35
        }
      ]
    },
    {
      "cell_type": "code",
      "source": [
        "c0, c1, c2, c3, c4, c5, c6, c7 = [], [], [], [], [], [], [], []\n",
        "\n",
        "i = 0\n",
        "l = len(y_test_prob_backup)\n",
        "while  l > 0:\n",
        "  c0.append(y_test_prob_backup[i][0])\n",
        "  c1.append(y_test_prob_backup[i][1])\n",
        "  c2.append(y_test_prob_backup[i][2])\n",
        "  c3.append(y_test_prob_backup[i][3])\n",
        "  c4.append(y_test_prob_backup[i][4])\n",
        "  c5.append(y_test_prob_backup[i][5])\n",
        "  c6.append(y_test_prob_backup[i][6])\n",
        "  c7.append(y_test_prob_backup[i][7])\n",
        "  i+=1\n",
        "  l-=1\n",
        "#print(c5[:10])"
      ],
      "metadata": {
        "id": "IjD61mD7yTuY"
      },
      "execution_count": 36,
      "outputs": []
    },
    {
      "cell_type": "code",
      "source": [
        "#plt.figure(figsize=(40,20))\n",
        "fig, axes = plt.subplots(nrows=2, ncols=4)\n",
        "ax0, ax1, ax2, ax3, ax4, ax5, ax6, ax7 = axes.flatten()\n",
        "\n",
        "ax0.hist(c0)\n",
        "ax0.set_title(\"class 0\")\n",
        "ax1.hist(c1)\n",
        "ax1.set_title(\"class 1\")\n",
        "ax2.hist(c2)\n",
        "ax2.set_title(\"class 2\")\n",
        "ax3.hist(c3)\n",
        "ax3.set_title(\"class 3\")\n",
        "ax4.hist(c4)\n",
        "ax4.set_title(\"class 4\")\n",
        "ax5.hist(c5)\n",
        "ax5.set_title(\"class 5\")\n",
        "ax6.hist(c6)\n",
        "ax6.set_title(\"class 6\")\n",
        "ax7.hist(c7)\n",
        "ax7.set_title(\"class 7\")\n",
        "\n",
        "fig.set_size_inches(25,10)\n",
        "plt.show()\n"
      ],
      "metadata": {
        "colab": {
          "base_uri": "https://localhost:8080/",
          "height": 549
        },
        "id": "z1rhvO7GCj7t",
        "outputId": "48a9dc72-6769-499e-f2fb-1a6f926207f8"
      },
      "execution_count": 37,
      "outputs": [
        {
          "output_type": "display_data",
          "data": {
            "text/plain": [
              "<Figure size 1800x720 with 8 Axes>"
            ],
            "image/png": "[encoded data removed]"
          },
          "metadata": {
            "needs_background": "light"
          }
        }
      ]
    },
    {
      "cell_type": "code",
      "source": [
        "fig, axes = plt.subplots(nrows=2, ncols=4)\n",
        "ax0, ax1, ax2, ax3, ax4, ax5, ax6, ax7 = axes.flatten()\n",
        "\n",
        "ax0.plot(np.fft.fft(c0))\n",
        "ax0.set_title(\"class 0\")\n",
        "ax1.plot(np.fft.fft(c1))\n",
        "ax1.set_title(\"class 1\")\n",
        "ax2.plot(np.fft.fft(c2))\n",
        "ax2.set_title(\"class 2\")\n",
        "ax3.plot(np.fft.fft(c3))\n",
        "ax3.set_title(\"class 3\")\n",
        "ax4.plot(np.fft.fft(c4))\n",
        "ax4.set_title(\"class 4\")\n",
        "ax5.plot(np.fft.fft(c5))\n",
        "ax5.set_title(\"class 5\")\n",
        "ax6.plot(np.fft.fft(c6))\n",
        "ax6.set_title(\"class 6\")\n",
        "ax7.plot(np.fft.fft(c7))\n",
        "ax7.set_title(\"class 7\")\n",
        "\n",
        "fig.set_size_inches(25,10)\n",
        "plt.show()"
      ],
      "metadata": {
        "colab": {
          "base_uri": "https://localhost:8080/",
          "height": 551
        },
        "id": "42iDU40-KLvb",
        "outputId": "69774cca-c29d-4083-ff04-d622fb8ae4a2"
      },
      "execution_count": 38,
      "outputs": [
        {
          "output_type": "display_data",
          "data": {
            "text/plain": [
              "<Figure size 1800x720 with 8 Axes>"
            ],
            "image/png": "[encoded data removed]"
          },
          "metadata": {
            "needs_background": "light"
          }
        }
      ]
    },
    {
      "cell_type": "code",
      "execution_count": 39,
      "metadata": {
        "id": "AfmdrBILdMwj"
      },
      "outputs": [],
      "source": [
        "y_test_pred = np.where(y_test_prob > 0.8, 1, 0)"
      ]
    },
    {
      "cell_type": "code",
      "execution_count": 40,
      "metadata": {
        "id": "8DoJy_p9dPzN"
      },
      "outputs": [],
      "source": [
        "from sklearn.metrics import multilabel_confusion_matrix"
      ]
    },
    {
      "cell_type": "code",
      "source": [
        "y_test"
      ],
      "metadata": {
        "id": "n1Us2yrfcGl-",
        "colab": {
          "base_uri": "https://localhost:8080/"
        },
        "outputId": "38069cff-0df2-4a0b-aca6-2a99bf37b093"
      },
      "execution_count": 41,
      "outputs": [
        {
          "output_type": "execute_result",
          "data": {
            "text/plain": [
              "array([[0., 0., 0., ..., 0., 1., 0.],\n",
              "       [0., 1., 0., ..., 0., 0., 0.],\n",
              "       [0., 0., 0., ..., 0., 1., 0.],\n",
              "       ...,\n",
              "       [0., 0., 0., ..., 0., 0., 1.],\n",
              "       [0., 1., 0., ..., 0., 0., 0.],\n",
              "       [0., 0., 0., ..., 0., 0., 0.]])"
            ]
          },
          "metadata": {},
          "execution_count": 41
        }
      ]
    },
    {
      "cell_type": "code",
      "source": [
        "y_test.shape"
      ],
      "metadata": {
        "id": "VnmvTcvWbxr9",
        "colab": {
          "base_uri": "https://localhost:8080/"
        },
        "outputId": "e9346973-ad6a-4d01-9d5e-e0f5948f1c43"
      },
      "execution_count": 42,
      "outputs": [
        {
          "output_type": "execute_result",
          "data": {
            "text/plain": [
              "(15000, 8)"
            ]
          },
          "metadata": {},
          "execution_count": 42
        }
      ]
    },
    {
      "cell_type": "code",
      "source": [
        "y_test_pred"
      ],
      "metadata": {
        "id": "nMBOgzrgcJBj",
        "colab": {
          "base_uri": "https://localhost:8080/"
        },
        "outputId": "54c62ca1-e64c-4a8d-92f3-3ff4eea5d55c"
      },
      "execution_count": 43,
      "outputs": [
        {
          "output_type": "execute_result",
          "data": {
            "text/plain": [
              "array([[0, 0, 0, ..., 0, 1, 0],\n",
              "       [0, 1, 0, ..., 0, 0, 0],\n",
              "       [0, 0, 0, ..., 0, 0, 0],\n",
              "       ...,\n",
              "       [0, 0, 0, ..., 0, 0, 0],\n",
              "       [0, 1, 0, ..., 0, 0, 0],\n",
              "       [0, 0, 0, ..., 0, 0, 0]])"
            ]
          },
          "metadata": {},
          "execution_count": 43
        }
      ]
    },
    {
      "cell_type": "code",
      "source": [
        "y_test_pred.shape"
      ],
      "metadata": {
        "id": "SXKZof8Ye5uI",
        "colab": {
          "base_uri": "https://localhost:8080/"
        },
        "outputId": "ab2f7011-1b03-4fcb-af7a-56ed162f8513"
      },
      "execution_count": 44,
      "outputs": [
        {
          "output_type": "execute_result",
          "data": {
            "text/plain": [
              "(15000, 8)"
            ]
          },
          "metadata": {},
          "execution_count": 44
        }
      ]
    },
    {
      "cell_type": "code",
      "source": [
        "y_decoded_pred = tf.argmax(y_test_pred, axis = 1)"
      ],
      "metadata": {
        "id": "leDQwKOjgwwi"
      },
      "execution_count": 45,
      "outputs": []
    },
    {
      "cell_type": "code",
      "source": [
        "y_decoded = tf.argmax(y_test, axis = 1)"
      ],
      "metadata": {
        "id": "sAHRmtesif6g"
      },
      "execution_count": 46,
      "outputs": []
    },
    {
      "cell_type": "code",
      "source": [
        "y_decoded_pred"
      ],
      "metadata": {
        "id": "_lvFhrmPhprD",
        "colab": {
          "base_uri": "https://localhost:8080/"
        },
        "outputId": "ffd1911f-55f9-4fe0-bd63-652818ef6a73"
      },
      "execution_count": 47,
      "outputs": [
        {
          "output_type": "execute_result",
          "data": {
            "text/plain": [
              "<tf.Tensor: shape=(15000,), dtype=int64, numpy=array([6, 1, 0, ..., 0, 1, 3])>"
            ]
          },
          "metadata": {},
          "execution_count": 47
        }
      ]
    },
    {
      "cell_type": "code",
      "source": [
        "y_decoded"
      ],
      "metadata": {
        "id": "YV1FXgHviPwm",
        "colab": {
          "base_uri": "https://localhost:8080/"
        },
        "outputId": "ee085aaf-31de-4ff3-c6d8-f8e08b1cfe72"
      },
      "execution_count": 48,
      "outputs": [
        {
          "output_type": "execute_result",
          "data": {
            "text/plain": [
              "<tf.Tensor: shape=(15000,), dtype=int64, numpy=array([6, 1, 6, ..., 7, 1, 3])>"
            ]
          },
          "metadata": {},
          "execution_count": 48
        }
      ]
    },
    {
      "cell_type": "code",
      "source": [
        "y_test_pred = y_decoded_pred\n"
      ],
      "metadata": {
        "id": "6-6jFqzGh380"
      },
      "execution_count": 49,
      "outputs": []
    },
    {
      "cell_type": "code",
      "source": [
        "y_test = y_decoded"
      ],
      "metadata": {
        "id": "9pogVvdIiwss"
      },
      "execution_count": 50,
      "outputs": []
    },
    {
      "cell_type": "code",
      "source": [
        "y_test"
      ],
      "metadata": {
        "id": "oGt5aJetiKR6",
        "colab": {
          "base_uri": "https://localhost:8080/"
        },
        "outputId": "212d48e4-8f7e-4cda-f3ce-d0f3cdbf82d8"
      },
      "execution_count": 51,
      "outputs": [
        {
          "output_type": "execute_result",
          "data": {
            "text/plain": [
              "<tf.Tensor: shape=(15000,), dtype=int64, numpy=array([6, 1, 6, ..., 7, 1, 3])>"
            ]
          },
          "metadata": {},
          "execution_count": 51
        }
      ]
    },
    {
      "cell_type": "code",
      "source": [
        "y_test_pred"
      ],
      "metadata": {
        "id": "fLgDwAIfiyv2",
        "colab": {
          "base_uri": "https://localhost:8080/"
        },
        "outputId": "c569a249-58a7-447b-d87b-3772a9b22a3c"
      },
      "execution_count": 52,
      "outputs": [
        {
          "output_type": "execute_result",
          "data": {
            "text/plain": [
              "<tf.Tensor: shape=(15000,), dtype=int64, numpy=array([6, 1, 0, ..., 0, 1, 3])>"
            ]
          },
          "metadata": {},
          "execution_count": 52
        }
      ]
    },
    {
      "cell_type": "code",
      "execution_count": 53,
      "metadata": {
        "id": "fTCsPjW8dQaZ"
      },
      "outputs": [],
      "source": [
        "cfm=confusion_matrix(y_test, y_test_pred)"
      ]
    },
    {
      "cell_type": "code",
      "source": [
        "cfm"
      ],
      "metadata": {
        "id": "_67lPg6ic4cH",
        "colab": {
          "base_uri": "https://localhost:8080/"
        },
        "outputId": "34f0fa67-f688-4663-b952-ae88e422c3a5"
      },
      "execution_count": 54,
      "outputs": [
        {
          "output_type": "execute_result",
          "data": {
            "text/plain": [
              "array([[1823,   15,    0,    0,    0,    0,    0,    0],\n",
              "       [  81, 1825,    2,    0,    0,    0,    0,    4],\n",
              "       [ 633,   10, 1236,   14,    0,    0,    6,    5],\n",
              "       [1118,    0,   28,  690,   13,    7,    0,    0],\n",
              "       [1392,    0,    4,   40,  421,   34,    7,    0],\n",
              "       [1406,    0,    5,    6,    2,  430,    5,    1],\n",
              "       [1321,    0,    9,    0,    7,    1,  500,   47],\n",
              "       [1046,    3,    0,    0,    0,    0,   11,  792]])"
            ]
          },
          "metadata": {},
          "execution_count": 54
        }
      ]
    },
    {
      "cell_type": "code",
      "source": [
        " print(classification_report(y_test,y_test_pred))"
      ],
      "metadata": {
        "id": "XTqR_xnwRWCJ",
        "colab": {
          "base_uri": "https://localhost:8080/"
        },
        "outputId": "89d9d09c-56ae-4fda-b431-420fb152750e"
      },
      "execution_count": 55,
      "outputs": [
        {
          "output_type": "stream",
          "name": "stdout",
          "text": [
            "              precision    recall  f1-score   support\n",
            "\n",
            "           0       0.21      0.99      0.34      1838\n",
            "           1       0.98      0.95      0.97      1912\n",
            "           2       0.96      0.65      0.78      1904\n",
            "           3       0.92      0.37      0.53      1856\n",
            "           4       0.95      0.22      0.36      1898\n",
            "           5       0.91      0.23      0.37      1855\n",
            "           6       0.95      0.27      0.41      1885\n",
            "           7       0.93      0.43      0.59      1852\n",
            "\n",
            "    accuracy                           0.51     15000\n",
            "   macro avg       0.85      0.51      0.54     15000\n",
            "weighted avg       0.85      0.51      0.55     15000\n",
            "\n"
          ]
        }
      ]
    },
    {
      "cell_type": "code",
      "execution_count": 56,
      "metadata": {
        "id": "te3fslrY9Eca",
        "colab": {
          "base_uri": "https://localhost:8080/",
          "height": 903
        },
        "outputId": "91dc66cd-3e99-404a-d9c7-cf2781746354"
      },
      "outputs": [
        {
          "output_type": "stream",
          "name": "stdout",
          "text": [
            "Confusion matrix, without normalization\n",
            "[[1823   15    0    0    0    0    0    0]\n",
            " [  81 1825    2    0    0    0    0    4]\n",
            " [ 633   10 1236   14    0    0    6    5]\n",
            " [1118    0   28  690   13    7    0    0]\n",
            " [1392    0    4   40  421   34    7    0]\n",
            " [1406    0    5    6    2  430    5    1]\n",
            " [1321    0    9    0    7    1  500   47]\n",
            " [1046    3    0    0    0    0   11  792]]\n",
            "Normalized confusion matrix\n",
            "[[0.99 0.01 0.   0.   0.   0.   0.   0.  ]\n",
            " [0.04 0.95 0.   0.   0.   0.   0.   0.  ]\n",
            " [0.33 0.01 0.65 0.01 0.   0.   0.   0.  ]\n",
            " [0.6  0.   0.02 0.37 0.01 0.   0.   0.  ]\n",
            " [0.73 0.   0.   0.02 0.22 0.02 0.   0.  ]\n",
            " [0.76 0.   0.   0.   0.   0.23 0.   0.  ]\n",
            " [0.7  0.   0.   0.   0.   0.   0.27 0.02]\n",
            " [0.56 0.   0.   0.   0.   0.   0.01 0.43]]\n"
          ]
        },
        {
          "output_type": "display_data",
          "data": {
            "text/plain": [
              "<Figure size 432x288 with 2 Axes>"
            ],
            "image/png": "[encoded data removed]"
          },
          "metadata": {
            "needs_background": "light"
          }
        },
        {
          "output_type": "display_data",
          "data": {
            "text/plain": [
              "<Figure size 432x288 with 2 Axes>"
            ],
            "image/png": "[encoded data removed]"
          },
          "metadata": {
            "needs_background": "light"
          }
        }
      ],
      "source": [
        "import numpy as np\n",
        "import matplotlib.pyplot as plt\n",
        "\n",
        "from sklearn import svm, datasets\n",
        "from sklearn.model_selection import train_test_split\n",
        "from sklearn.metrics import confusion_matrix\n",
        "from sklearn.utils.multiclass import unique_labels\n",
        "\n",
        "class_names = np.array(['0', '1', '2', '3', '4', '5', '6', '7'])\n",
        "\n",
        "def plot_confusion_matrix(y_true, y_pred, classes,\n",
        "                          normalize=False,\n",
        "                          title=None,\n",
        "                          cmap=plt.cm.Blues):\n",
        "    \"\"\"\n",
        "    This function prints and plots the confusion matrix.\n",
        "    Normalization can be applied by setting `normalize=True`.\n",
        "    \"\"\"\n",
        "    if not title:\n",
        "        if normalize:\n",
        "            title = 'Normalized confusion matrix'\n",
        "        else:\n",
        "            title = 'Confusion matrix, without normalization'\n",
        "\n",
        "    # Compute confusion matrix\n",
        "    cm = confusion_matrix(y_true, y_pred)\n",
        "    # Only use the labels that appear in the data\n",
        "    classes = classes[unique_labels(y_true, y_pred)]\n",
        "    if normalize:\n",
        "        cm = cm.astype('float') / cm.sum(axis=1)[:, np.newaxis]\n",
        "        print(\"Normalized confusion matrix\")\n",
        "    else:\n",
        "        print('Confusion matrix, without normalization')\n",
        "\n",
        "    print(cm)\n",
        "\n",
        "    fig, ax = plt.subplots()\n",
        "    im = ax.imshow(cm, interpolation='nearest', cmap=cmap)\n",
        "    ax.figure.colorbar(im, ax=ax)\n",
        "    # We want to show all ticks...\n",
        "    ax.set(xticks=np.arange(cm.shape[1]),\n",
        "           yticks=np.arange(cm.shape[0]),\n",
        "           # ... and label them with the respective list entries\n",
        "           xticklabels=classes, yticklabels=classes,\n",
        "           title=title,\n",
        "           ylabel='True label',\n",
        "           xlabel='Predicted label')\n",
        "\n",
        "    # Rotate the tick labels and set their alignment.\n",
        "    plt.setp(ax.get_xticklabels(), rotation=45, ha=\"right\",\n",
        "             rotation_mode=\"anchor\")\n",
        "\n",
        "    # Loop over data dimensions and create text annotations.\n",
        "    fmt = '.2f' if normalize else 'd'\n",
        "    thresh = cm.max() / 2.\n",
        "    for i in range(cm.shape[0]):\n",
        "        for j in range(cm.shape[1]):\n",
        "            ax.text(j, i, format(cm[i, j], fmt),\n",
        "                    ha=\"center\", va=\"center\",\n",
        "                    color=\"white\" if cm[i, j] > thresh else \"black\")\n",
        "    fig.tight_layout()\n",
        "\n",
        "    return ax\n",
        "\n",
        "\n",
        "np.set_printoptions(precision=2)\n",
        "\n",
        "# Plot non-normalized confusion matrix\n",
        "plot_confusion_matrix(y_test, y_test_pred, classes=class_names,\n",
        "                      title='Confusion matrix, without normalization')\n",
        "\n",
        "# Plot normalized confusion matrix\n",
        "plot_confusion_matrix(y_test, y_test_pred, classes=class_names, normalize=True,\n",
        "                      title='Normalized confusion matrix')\n",
        "\n",
        "plt.show()"
      ]
    },
    {
      "cell_type": "code",
      "execution_count": 57,
      "metadata": {
        "id": "fhdLAhgPUnH3"
      },
      "outputs": [],
      "source": [
        "def plot_learningCurve(history, epoch):\n",
        "  # Plot training & validation accuracy values\n",
        "  epoch_range = range(1, epoch+1)\n",
        "  plt.plot(epoch_range, history.history['accuracy'])\n",
        "  plt.plot(epoch_range, history.history['val_accuracy'])\n",
        "  plt.title('Model accuracy')\n",
        "  plt.ylabel('Accuracy')\n",
        "  plt.xlabel('Epoch')\n",
        "  plt.legend(['Train', 'Val'], loc='upper left')\n",
        "  plt.show()\n",
        "\n",
        "  # Plot training & validation loss values\n",
        "  plt.plot(epoch_range, history.history['loss'])\n",
        "  plt.plot(epoch_range, history.history['val_loss'])\n",
        "  plt.title('Model loss')\n",
        "  plt.ylabel('Loss')\n",
        "  plt.xlabel('Epoch')\n",
        "  plt.legend(['Train', 'Val'], loc='upper left')\n",
        "  plt.show()"
      ]
    },
    {
      "cell_type": "code",
      "execution_count": 58,
      "metadata": {
        "id": "WlkQkWHgU5mL",
        "colab": {
          "base_uri": "https://localhost:8080/",
          "height": 581
        },
        "outputId": "25a06724-9b64-48f9-fd8a-240653efe314"
      },
      "outputs": [
        {
          "output_type": "display_data",
          "data": {
            "text/plain": [
              "<Figure size 432x288 with 1 Axes>"
            ],
            "image/png": "[encoded data removed]"
          },
          "metadata": {
            "needs_background": "light"
          }
        },
        {
          "output_type": "display_data",
          "data": {
            "text/plain": [
              "<Figure size 432x288 with 1 Axes>"
            ],
            "image/png": "[encoded data removed]"
          },
          "metadata": {
            "needs_background": "light"
          }
        }
      ],
      "source": [
        "plot_learningCurve(history, 100)"
      ]
    }
  ],
  "metadata": {
    "colab": {
      "collapsed_sections": [
        "f857kfHqUk0-"
      ],
      "name": "Multi_Class_MD_LSTM_step_200_files_120.ipynb",
      "provenance": [],
      "include_colab_link": true
    },
    "kernelspec": {
      "display_name": "Python 3",
      "name": "python3"
    },
    "language_info": {
      "name": "python"
    },
    "accelerator": "GPU"
  },
  "nbformat": 4,
  "nbformat_minor": 0
}