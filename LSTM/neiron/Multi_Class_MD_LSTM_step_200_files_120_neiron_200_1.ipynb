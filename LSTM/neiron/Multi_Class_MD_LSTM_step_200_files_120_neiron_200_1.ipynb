{
  "cells": [
    {
      "cell_type": "markdown",
      "metadata": {
        "id": "view-in-github",
        "colab_type": "text"
      },
      "source": [
        "<a href=\"https://colab.research.google.com/github/kwanderer/MachineLearning/blob/main/Multi_Class_MD_LSTM_step_200_files_120_neiron_200_1.ipynb\" target=\"_parent\"><img src=\"https://colab.research.google.com/assets/colab-badge.svg\" alt=\"Open In Colab\"/></a>"
      ]
    },
    {
      "cell_type": "markdown",
      "metadata": {
        "id": "f857kfHqUk0-"
      },
      "source": [
        "\n",
        "\n",
        "#Datu kopa"
      ]
    },
    {
      "cell_type": "markdown",
      "metadata": {
        "id": "nM9WE3QGUwVi"
      },
      "source": [
        "Datu kopas avots: https://www.kaggle.com/uysalserkan/fault-induction-motor-dataset"
      ]
    },
    {
      "cell_type": "markdown",
      "metadata": {
        "id": "_sN_h3qHHy6r"
      },
      "source": [
        "Darbā tiek izmantota indukcijas motora parametru datu bāze. Izmantotajā datu kopā ir dati, kas tika iegūti SpectraQuest aparatūras kļūdu simulatorā (Machinery Fault Simulator).\n",
        "\n",
        "Katra mērījumu secība tika ģenerēta ar frekvenci 50 kHz 5 sekunžu laikā, kopā 250 000 mērījumi.\n",
        "\n",
        "Dati ir apkopoti vairākos failos, dažādos darbības stāvokļos un to apjoms ir ļoti liels. Šajā darbā tika izmantota daļa(viena mērījumu secība) no motora normālas darbības datiem.\n"
      ]
    },
    {
      "cell_type": "markdown",
      "metadata": {
        "id": "KtFAOaHYHLPo"
      },
      "source": [
        "Dati ir apkopoti tabulā, kura satur 8 parametrus. Dati ir iedalīti sekojošās kolonas:\n",
        "\n",
        "**tachometer** – tahometra signāls, kas ļauj novērtēt rotācijas frekvenci\n",
        "\n",
        "**und-accelerometer-axial** - apakšā esošā gultņa akselerometrs (aksiālais virziens)\n",
        "\n",
        "**und-accelerometer-radial** – apakšā esošā gultņa akselerometrs (radiālais virziens)\n",
        "\n",
        "**und-accelerometer-tangential** - apakšā esošā gultņa akselerometrs (tangenciālais virziens)\n",
        "\n",
        "**over-accelerometer-axial** - pārkares gultņa akselerometrs (aksiālais virziens)\n",
        "\n",
        "**over-accelerometer-radial** – pārkares gultņa akselerometrs (radiālais  virziens)\n",
        "\n",
        "**over-accelerometer-tangential**  - pārkares gultņa akselerometrs (tangenciālais virziens)\n",
        "\n",
        "**microphone** – mikrofona vērtība\n"
      ]
    },
    {
      "cell_type": "markdown",
      "metadata": {
        "id": "XymoNLKMVFUC"
      },
      "source": [
        "#Datu ielasīšana un satura vizualizācija"
      ]
    },
    {
      "cell_type": "code",
      "execution_count": 1,
      "metadata": {
        "id": "_yqYZDeOFq5s"
      },
      "outputs": [],
      "source": [
        "import keras\n",
        "from keras.layers import LSTM, Dropout, Dense\n",
        "import tensorflow as tf\n",
        "import numpy as np\n",
        "import pandas as pd\n",
        "\n",
        "from sklearn import linear_model  #pip install sklearn - loti plasa masinapmacibas biblioteka\n",
        "from sklearn.linear_model import LinearRegression  \n",
        "import csv          #pip install csv - darbam ar CSV datu kopam\n",
        "import requests     #pip install requests  - vienkarsakam darbam ar tiessaistes CSV datu kopam tiessaistes\n",
        "\n",
        "import matplotlib\n",
        "import matplotlib.pyplot as plt\n",
        "\n",
        "import glob\n"
      ]
    },
    {
      "cell_type": "code",
      "execution_count": 2,
      "metadata": {
        "id": "wlRTBbM2eUcV",
        "colab": {
          "base_uri": "https://localhost:8080/"
        },
        "outputId": "fb69cf90-0f6e-4c92-e21d-fa9472526e4f"
      },
      "outputs": [
        {
          "output_type": "stream",
          "name": "stdout",
          "text": [
            "Drive already mounted at /content/gdrive; to attempt to forcibly remount, call drive.mount(\"/content/gdrive\", force_remount=True).\n"
          ]
        }
      ],
      "source": [
        "from google.colab import drive\n",
        "import os\n",
        "drive.mount('/content/gdrive')\n",
        "os.chdir(\"/content/gdrive/MyDrive/Colab Notebooks/data_multiclass/\")"
      ]
    },
    {
      "cell_type": "code",
      "execution_count": 3,
      "metadata": {
        "id": "zzz6fBl_SNom"
      },
      "outputs": [],
      "source": [
        "#extension = 'csv'\n",
        "#all_filenames = [i for i in glob.glob('*.{}'.format(extension))]"
      ]
    },
    {
      "cell_type": "code",
      "execution_count": 4,
      "metadata": {
        "id": "vagKFCkToBi0"
      },
      "outputs": [],
      "source": [
        "#combine all files in the list\n",
        "#combined_csv = pd.concat([pd.read_csv(f) for f in all_filenames ])\n",
        "#export to csv\n",
        "#combined_csv.to_csv( \"combined_multiclass_csv.csv\", index=False, encoding='utf-8-sig')"
      ]
    },
    {
      "cell_type": "code",
      "execution_count": 5,
      "metadata": {
        "id": "encEkbDhSfGI"
      },
      "outputs": [],
      "source": [
        "data = pd.read_csv(\"combined_multiclass_csv.csv\")"
      ]
    },
    {
      "cell_type": "code",
      "execution_count": 6,
      "metadata": {
        "id": "yz5Qe8ZWk1Zq",
        "colab": {
          "base_uri": "https://localhost:8080/"
        },
        "outputId": "4a386073-a420-454e-b8d5-7873112a05b9"
      },
      "outputs": [
        {
          "output_type": "stream",
          "name": "stdout",
          "text": [
            "<class 'pandas.core.frame.DataFrame'>\n",
            "RangeIndex: 30000000 entries, 0 to 29999999\n",
            "Data columns (total 9 columns):\n",
            " #   Column                         Dtype  \n",
            "---  ------                         -----  \n",
            " 0   tachometer                     float64\n",
            " 1   und-accelerometer-axial        float64\n",
            " 2   und-accelerometer-radial       float64\n",
            " 3   und-accelerometer-tangential   float64\n",
            " 4   over-accelerometer-axial       float64\n",
            " 5   over-accelerometer-radial      float64\n",
            " 6   over-accelerometer-tangential  float64\n",
            " 7   microphone                     float64\n",
            " 8   Class                          int64  \n",
            "dtypes: float64(8), int64(1)\n",
            "memory usage: 2.0 GB\n"
          ]
        }
      ],
      "source": [
        "data.info()"
      ]
    },
    {
      "cell_type": "code",
      "execution_count": 7,
      "metadata": {
        "id": "WUW9ezX6a_st",
        "colab": {
          "base_uri": "https://localhost:8080/"
        },
        "outputId": "c2ca1888-2ab1-45d7-a44a-49696d391e66"
      },
      "outputs": [
        {
          "output_type": "execute_result",
          "data": {
            "text/plain": [
              "30000000"
            ]
          },
          "metadata": {},
          "execution_count": 7
        }
      ],
      "source": [
        "rec_count = len(data)\n",
        "rec_count"
      ]
    },
    {
      "cell_type": "markdown",
      "metadata": {
        "id": "6RVC1PZy88fC"
      },
      "source": [
        "# Datu dalīšana mazākos gabalos"
      ]
    },
    {
      "cell_type": "code",
      "execution_count": 8,
      "metadata": {
        "id": "DOvnCYkcbGaE"
      },
      "outputs": [],
      "source": [
        "sequence_length = 200"
      ]
    },
    {
      "cell_type": "code",
      "execution_count": 9,
      "metadata": {
        "id": "RG0o2L3zbTEx"
      },
      "outputs": [],
      "source": [
        "def generate_data(X, y, sequence_length = 200, step = 200):\n",
        "    X_local = []\n",
        "    y_local = []\n",
        "    for start in range(0, len(data) - sequence_length, step):\n",
        "        end = start + sequence_length\n",
        "        X_local.append(X[start:end])\n",
        "        y_local.append(y[end-1])\n",
        "    return np.array(X_local), np.array(y_local)\n",
        "\n",
        "X_sequence, y = generate_data(data.loc[:, \"tachometer\":\"microphone\"].values, data.Class)"
      ]
    },
    {
      "cell_type": "code",
      "execution_count": 10,
      "metadata": {
        "id": "s0QxwK66cLVF",
        "colab": {
          "base_uri": "https://localhost:8080/"
        },
        "outputId": "3a1efe1c-19f4-4e72-9f31-8f3d8e66627d"
      },
      "outputs": [
        {
          "output_type": "execute_result",
          "data": {
            "text/plain": [
              "((149999, 200, 8), (149999,))"
            ]
          },
          "metadata": {},
          "execution_count": 10
        }
      ],
      "source": [
        "X_sequence.shape, y.shape"
      ]
    },
    {
      "cell_type": "code",
      "source": [
        "unique, counts = np.unique(y, return_counts=True)"
      ],
      "metadata": {
        "id": "l8Lq455lV1JR"
      },
      "execution_count": 11,
      "outputs": []
    },
    {
      "cell_type": "code",
      "source": [
        "unique"
      ],
      "metadata": {
        "id": "t0BRO3nAWQxe",
        "colab": {
          "base_uri": "https://localhost:8080/"
        },
        "outputId": "846e0749-920b-44c1-d726-3fe1c755f776"
      },
      "execution_count": 12,
      "outputs": [
        {
          "output_type": "execute_result",
          "data": {
            "text/plain": [
              "array([0, 1, 2, 3, 4, 5, 6, 7])"
            ]
          },
          "metadata": {},
          "execution_count": 12
        }
      ]
    },
    {
      "cell_type": "code",
      "source": [
        "counts"
      ],
      "metadata": {
        "id": "WWZ7QWR4WS_r",
        "colab": {
          "base_uri": "https://localhost:8080/"
        },
        "outputId": "cd7658d1-e4ad-4cf9-98a2-25be61ffe7f4"
      },
      "execution_count": 13,
      "outputs": [
        {
          "output_type": "execute_result",
          "data": {
            "text/plain": [
              "array([18749, 18750, 18750, 18750, 18750, 18750, 18750, 18750])"
            ]
          },
          "metadata": {},
          "execution_count": 13
        }
      ]
    },
    {
      "cell_type": "code",
      "execution_count": 14,
      "metadata": {
        "id": "i7R1oo6Mj8wx"
      },
      "outputs": [],
      "source": [
        "data = 0"
      ]
    },
    {
      "cell_type": "code",
      "source": [
        "from sklearn.preprocessing import OneHotEncoder"
      ],
      "metadata": {
        "id": "lAk_JscRWmqY"
      },
      "execution_count": 15,
      "outputs": []
    },
    {
      "cell_type": "code",
      "source": [
        "label_encoder = OneHotEncoder(sparse=False)\n",
        "label_encoder.fit(y.reshape(-1,1))"
      ],
      "metadata": {
        "id": "14B9aYy0W0y6",
        "colab": {
          "base_uri": "https://localhost:8080/"
        },
        "outputId": "a75c0ac6-ceba-4604-d9c4-10227e0f8d12"
      },
      "execution_count": 16,
      "outputs": [
        {
          "output_type": "execute_result",
          "data": {
            "text/plain": [
              "OneHotEncoder(sparse=False)"
            ]
          },
          "metadata": {},
          "execution_count": 16
        }
      ]
    },
    {
      "cell_type": "code",
      "source": [
        "y_encoded = label_encoder.transform(y.reshape(-1,1))"
      ],
      "metadata": {
        "id": "VjpWn96xXgPS"
      },
      "execution_count": 17,
      "outputs": []
    },
    {
      "cell_type": "code",
      "source": [
        "y_encoded[0:5]"
      ],
      "metadata": {
        "id": "VL6KMFo9XpBi",
        "colab": {
          "base_uri": "https://localhost:8080/"
        },
        "outputId": "dc2f3da7-57bf-4e93-f4e0-c1523d4ab890"
      },
      "execution_count": 18,
      "outputs": [
        {
          "output_type": "execute_result",
          "data": {
            "text/plain": [
              "array([[0., 0., 0., 0., 0., 0., 0., 1.],\n",
              "       [0., 0., 0., 0., 0., 0., 0., 1.],\n",
              "       [0., 0., 0., 0., 0., 0., 0., 1.],\n",
              "       [0., 0., 0., 0., 0., 0., 0., 1.],\n",
              "       [0., 0., 0., 0., 0., 0., 0., 1.]])"
            ]
          },
          "metadata": {},
          "execution_count": 18
        }
      ]
    },
    {
      "cell_type": "code",
      "source": [
        "y=y_encoded"
      ],
      "metadata": {
        "id": "5c8km253YKBl"
      },
      "execution_count": 19,
      "outputs": []
    },
    {
      "cell_type": "markdown",
      "metadata": {
        "id": "5BXSDoHa9UX_"
      },
      "source": [
        "# Random/Shuffle"
      ]
    },
    {
      "cell_type": "code",
      "execution_count": 20,
      "metadata": {
        "id": "ZcfE9idy-ckb"
      },
      "outputs": [],
      "source": [
        "shuffler = np.random.permutation(len(X_sequence))\n",
        "X_sequence_shuffled = X_sequence[shuffler]\n",
        "y_shuffled = y[shuffler]"
      ]
    },
    {
      "cell_type": "markdown",
      "metadata": {
        "id": "TfhRTTNcE2s8"
      },
      "source": [
        "# LSTM"
      ]
    },
    {
      "cell_type": "code",
      "execution_count": 21,
      "metadata": {
        "id": "ihrXMuVAEwlY"
      },
      "outputs": [],
      "source": [
        "import pandas as pd\n",
        "import sklearn.metrics as metrique\n",
        "from pandas import Series\n",
        "from sklearn.preprocessing import StandardScaler, MinMaxScaler\n",
        "from matplotlib import pyplot\n",
        "from sklearn.model_selection import train_test_split\n",
        "import numpy as np\n",
        "import tensorflow as tf\n",
        "import sys\n",
        "import numpy as np\n",
        "import pandas as pd\n",
        "import tensorflow as tf\n",
        "import matplotlib.pyplot as plt\n",
        "from sklearn.model_selection import train_test_split\n",
        "from sklearn import preprocessing\n",
        "from sklearn.preprocessing import StandardScaler\n",
        "from sklearn.metrics import classification_report\n",
        "import warnings\n",
        "warnings.filterwarnings('ignore')\n",
        "plt.style.use('ggplot')\n",
        "import seaborn as sns \n",
        "%matplotlib inline\n",
        "from keras.callbacks import EarlyStopping\n",
        "from keras.callbacks import ModelCheckpoint\n",
        "from sklearn.metrics import accuracy_score\n",
        "from sklearn.metrics import classification_report, confusion_matrix\n",
        "from keras.models import Sequential\n",
        "from keras.utils import np_utils\n",
        "from keras.layers import LSTM, Dense, Embedding, Dropout,Input, Layer, Concatenate, Permute, Dot, Multiply, Flatten\n",
        "from keras.layers import RepeatVector, Dense, Activation, Lambda\n",
        "from keras.models import Sequential\n",
        "from keras import backend as K, regularizers, Model, metrics\n",
        "from keras.backend import cast"
      ]
    },
    {
      "cell_type": "code",
      "execution_count": 22,
      "metadata": {
        "id": "PjKWKiA6aH3z"
      },
      "outputs": [],
      "source": [
        "#from tensorflow.keras import optimizers\n",
        "#sgd = optimizers.SGD(lr=0.0001, decay=1e-6, momentum=0.9, nesterov=True)\n",
        "#model = keras.Sequential()\n",
        "#model.add(LSTM(100, input_shape = (200, 8)))\n",
        "#model.add(Dropout(0.5))\n",
        "#model.add(Dense(1, activation=\"softmax\"))\n",
        "\n",
        "\n",
        "#model.compile(loss=\"categorical_crossentropy\"\n",
        "#              , metrics=[keras.metrics.binary_accuracy]\n",
        "#              , optimizer='sgd')\n",
        "\n",
        "#model.summary()"
      ]
    },
    {
      "cell_type": "code",
      "execution_count": 23,
      "metadata": {
        "id": "_2SaVmwSWJVB",
        "colab": {
          "base_uri": "https://localhost:8080/"
        },
        "outputId": "09105102-c642-4f35-da8c-d97a796e64a6"
      },
      "outputs": [
        {
          "output_type": "stream",
          "name": "stdout",
          "text": [
            "Model: \"sequential\"\n",
            "_________________________________________________________________\n",
            " Layer (type)                Output Shape              Param #   \n",
            "=================================================================\n",
            " lstm (LSTM)                 (None, 200)               167200    \n",
            "                                                                 \n",
            " dropout (Dropout)           (None, 200)               0         \n",
            "                                                                 \n",
            " dense (Dense)               (None, 8)                 1608      \n",
            "                                                                 \n",
            "=================================================================\n",
            "Total params: 168,808\n",
            "Trainable params: 168,808\n",
            "Non-trainable params: 0\n",
            "_________________________________________________________________\n"
          ]
        }
      ],
      "source": [
        "from tensorflow.keras import optimizers\n",
        "#sgd = optimizers.SGD(lr=0.0001, decay=1e-6, momentum=0.9, nesterov=True)\n",
        "optimizer = tf.keras.optimizers.Adam(lr=0.0001)\n",
        "model = keras.Sequential()\n",
        "model.add(LSTM(200, input_shape = (200, 8)))\n",
        "model.add(Dropout(0.5))#0.25\n",
        "model.add(Dense(8, activation=\"softmax\"))\n",
        "\n",
        "#model.compile(loss='mean_squared_error', optimizer=sgd)\n",
        "model.compile(loss=\"categorical_crossentropy\"\n",
        "              , metrics=['accuracy']\n",
        "              , optimizer=optimizer)\n",
        "\n",
        "model.summary()"
      ]
    },
    {
      "cell_type": "code",
      "execution_count": 24,
      "metadata": {
        "id": "tg8wrqsqc8UX"
      },
      "outputs": [],
      "source": [
        "training_size = int(len(X_sequence) * 0.8)\n",
        "val_size = int(len(X_sequence) * 0.9)"
      ]
    },
    {
      "cell_type": "code",
      "execution_count": 25,
      "metadata": {
        "id": "avIp3TEKc-qF"
      },
      "outputs": [],
      "source": [
        "X_train, y_train = X_sequence_shuffled[:training_size], y_shuffled[:training_size]\n",
        "X_val, y_val = X_sequence_shuffled[training_size:val_size], y_shuffled[training_size:val_size]\n",
        "X_test, y_test = X_sequence_shuffled[val_size:], y_shuffled[val_size:]"
      ]
    },
    {
      "cell_type": "code",
      "execution_count": 26,
      "metadata": {
        "id": "RABc_uKzkBUT"
      },
      "outputs": [],
      "source": [
        "#X_sequence = 0\n",
        "#y = 0"
      ]
    },
    {
      "cell_type": "code",
      "source": [
        "X_train.shape"
      ],
      "metadata": {
        "id": "Omv-ht1dhGxL",
        "colab": {
          "base_uri": "https://localhost:8080/"
        },
        "outputId": "70400e05-54da-4c20-c3c7-2035dbd68946"
      },
      "execution_count": 27,
      "outputs": [
        {
          "output_type": "execute_result",
          "data": {
            "text/plain": [
              "(119999, 200, 8)"
            ]
          },
          "metadata": {},
          "execution_count": 27
        }
      ]
    },
    {
      "cell_type": "code",
      "execution_count": 28,
      "metadata": {
        "id": "8aIhPJ-wLCwZ",
        "colab": {
          "base_uri": "https://localhost:8080/"
        },
        "outputId": "2fd9c831-b21e-4483-d81a-8cd7a7f2dc10"
      },
      "outputs": [
        {
          "output_type": "execute_result",
          "data": {
            "text/plain": [
              "array([[0., 1., 0., 0., 0., 0., 0., 0.],\n",
              "       [0., 0., 0., 0., 0., 0., 0., 1.],\n",
              "       [0., 0., 0., 0., 1., 0., 0., 0.],\n",
              "       [0., 0., 0., 1., 0., 0., 0., 0.],\n",
              "       [0., 0., 0., 0., 0., 0., 0., 1.],\n",
              "       [0., 0., 0., 0., 0., 1., 0., 0.],\n",
              "       [0., 0., 1., 0., 0., 0., 0., 0.],\n",
              "       [1., 0., 0., 0., 0., 0., 0., 0.],\n",
              "       [0., 0., 0., 0., 0., 0., 0., 1.],\n",
              "       [0., 0., 0., 0., 0., 1., 0., 0.]])"
            ]
          },
          "metadata": {},
          "execution_count": 28
        }
      ],
      "source": [
        "y_train[:10]"
      ]
    },
    {
      "cell_type": "code",
      "execution_count": 29,
      "metadata": {
        "id": "cen4faX0dFJP",
        "colab": {
          "base_uri": "https://localhost:8080/"
        },
        "outputId": "0b613ebb-46fb-46f9-902d-d2ea83e89a07"
      },
      "outputs": [
        {
          "output_type": "stream",
          "name": "stdout",
          "text": [
            "Epoch 1/100\n",
            "1875/1875 [==============================] - 32s 16ms/step - loss: 1.7262 - accuracy: 0.2797 - val_loss: 1.5577 - val_accuracy: 0.3609\n",
            "Epoch 2/100\n",
            "1875/1875 [==============================] - 30s 16ms/step - loss: 1.6537 - accuracy: 0.3290 - val_loss: 1.5464 - val_accuracy: 0.3623\n",
            "Epoch 3/100\n",
            "1875/1875 [==============================] - 28s 15ms/step - loss: 1.5433 - accuracy: 0.3626 - val_loss: 1.5002 - val_accuracy: 0.3787\n",
            "Epoch 4/100\n",
            "1875/1875 [==============================] - 28s 15ms/step - loss: 1.4363 - accuracy: 0.4073 - val_loss: 1.3780 - val_accuracy: 0.4433\n",
            "Epoch 5/100\n",
            "1875/1875 [==============================] - 28s 15ms/step - loss: 1.4122 - accuracy: 0.4220 - val_loss: 1.3507 - val_accuracy: 0.4448\n",
            "Epoch 6/100\n",
            "1875/1875 [==============================] - 28s 15ms/step - loss: 1.4240 - accuracy: 0.4188 - val_loss: 1.5520 - val_accuracy: 0.3748\n",
            "Epoch 7/100\n",
            "1875/1875 [==============================] - 28s 15ms/step - loss: 1.4303 - accuracy: 0.4157 - val_loss: 1.3592 - val_accuracy: 0.4443\n",
            "Epoch 8/100\n",
            "1875/1875 [==============================] - 28s 15ms/step - loss: 1.5416 - accuracy: 0.3756 - val_loss: 1.4077 - val_accuracy: 0.4263\n",
            "Epoch 9/100\n",
            "1875/1875 [==============================] - 28s 15ms/step - loss: 1.4374 - accuracy: 0.4113 - val_loss: 1.4081 - val_accuracy: 0.4290\n",
            "Epoch 10/100\n",
            "1875/1875 [==============================] - 28s 15ms/step - loss: 1.3560 - accuracy: 0.4497 - val_loss: 1.5835 - val_accuracy: 0.3910\n",
            "Epoch 11/100\n",
            "1875/1875 [==============================] - 28s 15ms/step - loss: 1.3706 - accuracy: 0.4389 - val_loss: 1.3295 - val_accuracy: 0.4556\n",
            "Epoch 12/100\n",
            "1875/1875 [==============================] - 28s 15ms/step - loss: 1.3116 - accuracy: 0.4665 - val_loss: 1.2577 - val_accuracy: 0.4775\n",
            "Epoch 13/100\n",
            "1875/1875 [==============================] - 28s 15ms/step - loss: 1.3171 - accuracy: 0.4680 - val_loss: 1.3099 - val_accuracy: 0.4633\n",
            "Epoch 14/100\n",
            "1875/1875 [==============================] - 30s 16ms/step - loss: 1.3040 - accuracy: 0.4741 - val_loss: 1.2456 - val_accuracy: 0.4950\n",
            "Epoch 15/100\n",
            "1875/1875 [==============================] - 28s 15ms/step - loss: 1.4130 - accuracy: 0.4567 - val_loss: 1.7010 - val_accuracy: 0.3471\n",
            "Epoch 16/100\n",
            "1875/1875 [==============================] - 28s 15ms/step - loss: 1.5674 - accuracy: 0.3790 - val_loss: 1.4190 - val_accuracy: 0.4305\n",
            "Epoch 17/100\n",
            "1875/1875 [==============================] - 28s 15ms/step - loss: 1.3886 - accuracy: 0.4362 - val_loss: 1.3366 - val_accuracy: 0.4580\n",
            "Epoch 18/100\n",
            "1875/1875 [==============================] - 28s 15ms/step - loss: 1.3141 - accuracy: 0.4651 - val_loss: 1.3162 - val_accuracy: 0.4773\n",
            "Epoch 19/100\n",
            "1875/1875 [==============================] - 30s 16ms/step - loss: 1.2773 - accuracy: 0.4819 - val_loss: 1.2554 - val_accuracy: 0.4959\n",
            "Epoch 20/100\n",
            "1875/1875 [==============================] - 28s 15ms/step - loss: 1.3499 - accuracy: 0.4577 - val_loss: 1.2782 - val_accuracy: 0.4909\n",
            "Epoch 21/100\n",
            "1875/1875 [==============================] - 28s 15ms/step - loss: 1.2876 - accuracy: 0.4821 - val_loss: 1.2252 - val_accuracy: 0.5021\n",
            "Epoch 22/100\n",
            "1875/1875 [==============================] - 28s 15ms/step - loss: 1.3292 - accuracy: 0.4667 - val_loss: 1.2884 - val_accuracy: 0.4695\n",
            "Epoch 23/100\n",
            "1875/1875 [==============================] - 28s 15ms/step - loss: 1.2489 - accuracy: 0.4896 - val_loss: 1.2090 - val_accuracy: 0.4969\n",
            "Epoch 24/100\n",
            "1875/1875 [==============================] - 28s 15ms/step - loss: 1.2862 - accuracy: 0.4789 - val_loss: 1.2611 - val_accuracy: 0.4859\n",
            "Epoch 25/100\n",
            "1875/1875 [==============================] - 28s 15ms/step - loss: 1.2914 - accuracy: 0.4718 - val_loss: 1.3600 - val_accuracy: 0.4377\n",
            "Epoch 26/100\n",
            "1875/1875 [==============================] - 28s 15ms/step - loss: 1.2530 - accuracy: 0.4840 - val_loss: 1.2002 - val_accuracy: 0.5095\n",
            "Epoch 27/100\n",
            "1875/1875 [==============================] - 28s 15ms/step - loss: 1.5154 - accuracy: 0.3953 - val_loss: 1.4308 - val_accuracy: 0.4249\n",
            "Epoch 28/100\n",
            "1875/1875 [==============================] - 28s 15ms/step - loss: 1.5483 - accuracy: 0.3756 - val_loss: 1.4030 - val_accuracy: 0.4205\n",
            "Epoch 29/100\n",
            "1875/1875 [==============================] - 28s 15ms/step - loss: 1.3788 - accuracy: 0.4336 - val_loss: 1.2910 - val_accuracy: 0.4744\n",
            "Epoch 30/100\n",
            "1875/1875 [==============================] - 28s 15ms/step - loss: 1.2970 - accuracy: 0.4672 - val_loss: 1.2584 - val_accuracy: 0.4795\n",
            "Epoch 31/100\n",
            "1875/1875 [==============================] - 28s 15ms/step - loss: 1.2438 - accuracy: 0.4925 - val_loss: 1.2106 - val_accuracy: 0.5011\n",
            "Epoch 32/100\n",
            "1875/1875 [==============================] - 28s 15ms/step - loss: 1.2122 - accuracy: 0.5060 - val_loss: 1.6104 - val_accuracy: 0.4649\n",
            "Epoch 33/100\n",
            "1875/1875 [==============================] - 28s 15ms/step - loss: 1.1884 - accuracy: 0.5197 - val_loss: 1.7935 - val_accuracy: 0.4145\n",
            "Epoch 34/100\n",
            "1875/1875 [==============================] - 28s 15ms/step - loss: 1.2996 - accuracy: 0.4746 - val_loss: 1.2569 - val_accuracy: 0.4866\n",
            "Epoch 35/100\n",
            "1875/1875 [==============================] - 28s 15ms/step - loss: 1.2162 - accuracy: 0.5009 - val_loss: 1.1319 - val_accuracy: 0.5349\n",
            "Epoch 36/100\n",
            "1875/1875 [==============================] - 28s 15ms/step - loss: 1.1689 - accuracy: 0.5201 - val_loss: 1.1960 - val_accuracy: 0.5110\n",
            "Epoch 37/100\n",
            "1875/1875 [==============================] - 28s 15ms/step - loss: 1.1503 - accuracy: 0.5260 - val_loss: 1.0851 - val_accuracy: 0.5577\n",
            "Epoch 38/100\n",
            "1875/1875 [==============================] - 29s 16ms/step - loss: 1.1050 - accuracy: 0.5427 - val_loss: 1.0958 - val_accuracy: 0.5450\n",
            "Epoch 39/100\n",
            "1875/1875 [==============================] - 28s 15ms/step - loss: 1.0844 - accuracy: 0.5523 - val_loss: 1.0361 - val_accuracy: 0.5710\n",
            "Epoch 40/100\n",
            "1875/1875 [==============================] - 28s 15ms/step - loss: 1.0387 - accuracy: 0.5687 - val_loss: 1.0584 - val_accuracy: 0.5627\n",
            "Epoch 41/100\n",
            "1875/1875 [==============================] - 28s 15ms/step - loss: 1.0159 - accuracy: 0.5801 - val_loss: 0.9824 - val_accuracy: 0.5938\n",
            "Epoch 42/100\n",
            "1875/1875 [==============================] - 28s 15ms/step - loss: 0.9886 - accuracy: 0.5891 - val_loss: 0.9455 - val_accuracy: 0.6111\n",
            "Epoch 43/100\n",
            "1875/1875 [==============================] - 28s 15ms/step - loss: 0.9800 - accuracy: 0.5930 - val_loss: 0.9308 - val_accuracy: 0.6130\n",
            "Epoch 44/100\n",
            "1875/1875 [==============================] - 28s 15ms/step - loss: 0.9488 - accuracy: 0.6038 - val_loss: 0.9479 - val_accuracy: 0.6001\n",
            "Epoch 45/100\n",
            "1875/1875 [==============================] - 30s 16ms/step - loss: 0.9338 - accuracy: 0.6112 - val_loss: 0.8901 - val_accuracy: 0.6278\n",
            "Epoch 46/100\n",
            "1875/1875 [==============================] - 29s 15ms/step - loss: 0.9247 - accuracy: 0.6159 - val_loss: 0.9112 - val_accuracy: 0.6183\n",
            "Epoch 47/100\n",
            "1875/1875 [==============================] - 30s 16ms/step - loss: 0.9048 - accuracy: 0.6230 - val_loss: 0.8723 - val_accuracy: 0.6345\n",
            "Epoch 48/100\n",
            "1875/1875 [==============================] - 29s 15ms/step - loss: 0.8860 - accuracy: 0.6299 - val_loss: 0.8546 - val_accuracy: 0.6460\n",
            "Epoch 49/100\n",
            "1875/1875 [==============================] - 30s 16ms/step - loss: 0.8708 - accuracy: 0.6359 - val_loss: 0.8581 - val_accuracy: 0.6437\n",
            "Epoch 50/100\n",
            "1875/1875 [==============================] - 29s 15ms/step - loss: 0.8671 - accuracy: 0.6380 - val_loss: 0.8364 - val_accuracy: 0.6557\n",
            "Epoch 51/100\n",
            "1875/1875 [==============================] - 29s 15ms/step - loss: 0.8520 - accuracy: 0.6445 - val_loss: 0.8310 - val_accuracy: 0.6523\n",
            "Epoch 52/100\n",
            "1875/1875 [==============================] - 29s 15ms/step - loss: 0.8395 - accuracy: 0.6510 - val_loss: 0.8109 - val_accuracy: 0.6637\n",
            "Epoch 53/100\n",
            "1875/1875 [==============================] - 30s 16ms/step - loss: 0.8418 - accuracy: 0.6525 - val_loss: 0.7969 - val_accuracy: 0.6715\n",
            "Epoch 54/100\n",
            "1875/1875 [==============================] - 30s 16ms/step - loss: 0.8173 - accuracy: 0.6621 - val_loss: 0.8127 - val_accuracy: 0.6641\n",
            "Epoch 55/100\n",
            "1875/1875 [==============================] - 29s 15ms/step - loss: 0.8122 - accuracy: 0.6648 - val_loss: 0.8102 - val_accuracy: 0.6679\n",
            "Epoch 56/100\n",
            "1875/1875 [==============================] - 30s 16ms/step - loss: 0.7958 - accuracy: 0.6728 - val_loss: 0.7960 - val_accuracy: 0.6699\n",
            "Epoch 57/100\n",
            "1875/1875 [==============================] - 30s 16ms/step - loss: 0.7938 - accuracy: 0.6741 - val_loss: 0.7702 - val_accuracy: 0.6823\n",
            "Epoch 58/100\n",
            "1875/1875 [==============================] - 29s 15ms/step - loss: 0.7815 - accuracy: 0.6795 - val_loss: 0.7795 - val_accuracy: 0.6841\n",
            "Epoch 59/100\n",
            "1875/1875 [==============================] - 29s 15ms/step - loss: 0.7676 - accuracy: 0.6840 - val_loss: 0.7585 - val_accuracy: 0.6945\n",
            "Epoch 60/100\n",
            "1875/1875 [==============================] - 29s 15ms/step - loss: 0.7679 - accuracy: 0.6848 - val_loss: 0.7519 - val_accuracy: 0.6944\n",
            "Epoch 61/100\n",
            "1875/1875 [==============================] - 30s 16ms/step - loss: 0.7671 - accuracy: 0.6866 - val_loss: 0.7554 - val_accuracy: 0.6927\n",
            "Epoch 62/100\n",
            "1875/1875 [==============================] - 30s 16ms/step - loss: 0.7439 - accuracy: 0.6958 - val_loss: 0.7356 - val_accuracy: 0.6960\n",
            "Epoch 63/100\n",
            "1875/1875 [==============================] - 30s 16ms/step - loss: 0.7336 - accuracy: 0.7014 - val_loss: 0.7286 - val_accuracy: 0.7054\n",
            "Epoch 64/100\n",
            "1875/1875 [==============================] - 30s 16ms/step - loss: 0.7281 - accuracy: 0.7022 - val_loss: 0.7438 - val_accuracy: 0.6947\n",
            "Epoch 65/100\n",
            "1875/1875 [==============================] - 30s 16ms/step - loss: 0.7214 - accuracy: 0.7056 - val_loss: 0.7517 - val_accuracy: 0.6971\n",
            "Epoch 66/100\n",
            "1875/1875 [==============================] - 29s 15ms/step - loss: 0.7141 - accuracy: 0.7095 - val_loss: 0.6948 - val_accuracy: 0.7209\n",
            "Epoch 67/100\n",
            "1875/1875 [==============================] - 29s 15ms/step - loss: 0.7040 - accuracy: 0.7119 - val_loss: 0.7403 - val_accuracy: 0.7059\n",
            "Epoch 68/100\n",
            "1875/1875 [==============================] - 29s 15ms/step - loss: 0.6974 - accuracy: 0.7160 - val_loss: 0.6793 - val_accuracy: 0.7254\n",
            "Epoch 69/100\n",
            "1875/1875 [==============================] - 29s 15ms/step - loss: 0.7173 - accuracy: 0.7129 - val_loss: 0.7564 - val_accuracy: 0.6953\n",
            "Epoch 70/100\n",
            "1875/1875 [==============================] - 30s 16ms/step - loss: 0.6840 - accuracy: 0.7234 - val_loss: 0.6642 - val_accuracy: 0.7296\n",
            "Epoch 71/100\n",
            "1875/1875 [==============================] - 29s 15ms/step - loss: 0.6721 - accuracy: 0.7277 - val_loss: 0.6889 - val_accuracy: 0.7230\n",
            "Epoch 72/100\n",
            "1875/1875 [==============================] - 29s 15ms/step - loss: 0.6719 - accuracy: 0.7289 - val_loss: 0.6599 - val_accuracy: 0.7320\n",
            "Epoch 73/100\n",
            "1875/1875 [==============================] - 30s 16ms/step - loss: 0.6684 - accuracy: 0.7304 - val_loss: 0.6585 - val_accuracy: 0.7316\n",
            "Epoch 74/100\n",
            "1875/1875 [==============================] - 30s 16ms/step - loss: 0.6572 - accuracy: 0.7343 - val_loss: 0.6584 - val_accuracy: 0.7329\n",
            "Epoch 75/100\n",
            "1875/1875 [==============================] - 30s 16ms/step - loss: 0.6518 - accuracy: 0.7367 - val_loss: 0.6597 - val_accuracy: 0.7324\n",
            "Epoch 76/100\n",
            "1875/1875 [==============================] - 29s 16ms/step - loss: 0.6417 - accuracy: 0.7418 - val_loss: 0.6359 - val_accuracy: 0.7428\n",
            "Epoch 77/100\n",
            "1875/1875 [==============================] - 30s 16ms/step - loss: 0.6365 - accuracy: 0.7422 - val_loss: 0.6331 - val_accuracy: 0.7420\n",
            "Epoch 78/100\n",
            "1875/1875 [==============================] - 30s 16ms/step - loss: 0.6311 - accuracy: 0.7475 - val_loss: 0.6200 - val_accuracy: 0.7515\n",
            "Epoch 79/100\n",
            "1875/1875 [==============================] - 29s 15ms/step - loss: 0.6210 - accuracy: 0.7506 - val_loss: 0.6103 - val_accuracy: 0.7567\n",
            "Epoch 80/100\n",
            "1875/1875 [==============================] - 29s 15ms/step - loss: 0.6188 - accuracy: 0.7522 - val_loss: 0.6297 - val_accuracy: 0.7489\n",
            "Epoch 81/100\n",
            "1875/1875 [==============================] - 29s 15ms/step - loss: 0.6070 - accuracy: 0.7556 - val_loss: 0.6173 - val_accuracy: 0.7510\n",
            "Epoch 82/100\n",
            "1875/1875 [==============================] - 29s 15ms/step - loss: 0.6013 - accuracy: 0.7571 - val_loss: 0.5968 - val_accuracy: 0.7564\n",
            "Epoch 83/100\n",
            "1875/1875 [==============================] - 29s 15ms/step - loss: 0.5939 - accuracy: 0.7611 - val_loss: 0.6029 - val_accuracy: 0.7579\n",
            "Epoch 84/100\n",
            "1875/1875 [==============================] - 31s 16ms/step - loss: 0.5862 - accuracy: 0.7647 - val_loss: 0.5862 - val_accuracy: 0.7668\n",
            "Epoch 85/100\n",
            "1875/1875 [==============================] - 31s 16ms/step - loss: 0.5793 - accuracy: 0.7686 - val_loss: 0.6084 - val_accuracy: 0.7514\n",
            "Epoch 86/100\n",
            "1875/1875 [==============================] - 30s 16ms/step - loss: 0.5771 - accuracy: 0.7689 - val_loss: 0.5704 - val_accuracy: 0.7742\n",
            "Epoch 87/100\n",
            "1875/1875 [==============================] - 30s 16ms/step - loss: 0.5676 - accuracy: 0.7733 - val_loss: 0.6102 - val_accuracy: 0.7609\n",
            "Epoch 88/100\n",
            "1875/1875 [==============================] - 30s 16ms/step - loss: 0.5633 - accuracy: 0.7746 - val_loss: 0.5716 - val_accuracy: 0.7711\n",
            "Epoch 89/100\n",
            "1875/1875 [==============================] - 30s 16ms/step - loss: 0.5525 - accuracy: 0.7793 - val_loss: 0.5659 - val_accuracy: 0.7729\n",
            "Epoch 90/100\n",
            "1875/1875 [==============================] - 31s 16ms/step - loss: 0.5509 - accuracy: 0.7797 - val_loss: 0.5425 - val_accuracy: 0.7871\n",
            "Epoch 91/100\n",
            "1875/1875 [==============================] - 30s 16ms/step - loss: 0.5438 - accuracy: 0.7832 - val_loss: 0.5382 - val_accuracy: 0.7845\n",
            "Epoch 92/100\n",
            "1875/1875 [==============================] - 30s 16ms/step - loss: 0.5326 - accuracy: 0.7874 - val_loss: 0.5427 - val_accuracy: 0.7839\n",
            "Epoch 93/100\n",
            "1875/1875 [==============================] - 30s 16ms/step - loss: 0.5278 - accuracy: 0.7898 - val_loss: 0.5287 - val_accuracy: 0.7884\n",
            "Epoch 94/100\n",
            "1875/1875 [==============================] - 30s 16ms/step - loss: 0.5209 - accuracy: 0.7928 - val_loss: 0.5197 - val_accuracy: 0.7933\n",
            "Epoch 95/100\n",
            "1875/1875 [==============================] - 31s 16ms/step - loss: 0.5123 - accuracy: 0.7970 - val_loss: 0.5376 - val_accuracy: 0.7915\n",
            "Epoch 96/100\n",
            "1875/1875 [==============================] - 29s 16ms/step - loss: 0.5064 - accuracy: 0.7999 - val_loss: 0.5175 - val_accuracy: 0.7959\n",
            "Epoch 97/100\n",
            "1875/1875 [==============================] - 29s 16ms/step - loss: 0.4980 - accuracy: 0.8024 - val_loss: 0.4897 - val_accuracy: 0.8049\n",
            "Epoch 98/100\n",
            "1875/1875 [==============================] - 29s 15ms/step - loss: 0.4942 - accuracy: 0.8054 - val_loss: 0.4955 - val_accuracy: 0.8065\n",
            "Epoch 99/100\n",
            "1875/1875 [==============================] - 29s 15ms/step - loss: 0.4831 - accuracy: 0.8078 - val_loss: 0.4872 - val_accuracy: 0.8058\n",
            "Epoch 100/100\n",
            "1875/1875 [==============================] - 29s 15ms/step - loss: 0.4774 - accuracy: 0.8109 - val_loss: 0.4828 - val_accuracy: 0.8101\n"
          ]
        }
      ],
      "source": [
        "history = model.fit(X_train, y_train, batch_size=64, epochs=100, validation_data=(X_val, y_val))\n",
        "#model.save('NewAllDataModel_E50_B64.h5')"
      ]
    },
    {
      "cell_type": "code",
      "execution_count": 30,
      "metadata": {
        "id": "R7QQeqVidKBR",
        "colab": {
          "base_uri": "https://localhost:8080/"
        },
        "outputId": "bd8d6434-bcf4-4b80-c781-b78d9b8ff734"
      },
      "outputs": [
        {
          "output_type": "stream",
          "name": "stdout",
          "text": [
            "469/469 [==============================] - 3s 6ms/step - loss: 0.4894 - accuracy: 0.8049\n"
          ]
        }
      ],
      "source": [
        "test_acc = model.evaluate(X_test, y_test)"
      ]
    },
    {
      "cell_type": "code",
      "source": [
        "test_acc"
      ],
      "metadata": {
        "id": "6fuTmgGrUgGg",
        "colab": {
          "base_uri": "https://localhost:8080/"
        },
        "outputId": "59ce1aa7-d045-4ed7-e644-93fab5f60d1d"
      },
      "execution_count": 31,
      "outputs": [
        {
          "output_type": "execute_result",
          "data": {
            "text/plain": [
              "[0.48937031626701355, 0.8049333095550537]"
            ]
          },
          "metadata": {},
          "execution_count": 31
        }
      ]
    },
    {
      "cell_type": "code",
      "execution_count": 32,
      "metadata": {
        "id": "OHpifyqGdKn-",
        "colab": {
          "base_uri": "https://localhost:8080/"
        },
        "outputId": "80816971-5f7b-44ef-decc-cae1217c3b5d"
      },
      "outputs": [
        {
          "output_type": "stream",
          "name": "stdout",
          "text": [
            "469/469 [==============================] - 3s 5ms/step\n"
          ]
        }
      ],
      "source": [
        "y_test_prob = model.predict(X_test, verbose=1)"
      ]
    },
    {
      "cell_type": "code",
      "source": [
        "np.set_printoptions(suppress=True)\n",
        "y_test_prob_backup = y_test_prob\n",
        "y_test_prob"
      ],
      "metadata": {
        "id": "rRPswrrkmhp2",
        "colab": {
          "base_uri": "https://localhost:8080/"
        },
        "outputId": "12d86437-3c6b-4164-c88c-09ac83ae6d19"
      },
      "execution_count": 33,
      "outputs": [
        {
          "output_type": "execute_result",
          "data": {
            "text/plain": [
              "array([[0.00000089, 0.00000149, 0.08897147, ..., 0.290863  , 0.00224819,\n",
              "        0.00006331],\n",
              "       [0.00000004, 0.00000015, 0.00104511, ..., 0.00029527, 0.00000047,\n",
              "        0.00000001],\n",
              "       [0.00040376, 0.0064988 , 0.06500982, ..., 0.01051316, 0.50150347,\n",
              "        0.13814172],\n",
              "       ...,\n",
              "       [0.00003376, 0.00005373, 0.0011955 , ..., 0.00150682, 0.7781028 ,\n",
              "        0.20247318],\n",
              "       [0.00007567, 0.00233668, 0.12502137, ..., 0.01572946, 0.5606706 ,\n",
              "        0.27439314],\n",
              "       [0.00000181, 0.99996316, 0.000035  , ..., 0.        , 0.        ,\n",
              "        0.00000003]], dtype=float32)"
            ]
          },
          "metadata": {},
          "execution_count": 33
        }
      ]
    },
    {
      "cell_type": "code",
      "execution_count": 34,
      "metadata": {
        "id": "AfmdrBILdMwj"
      },
      "outputs": [],
      "source": [
        "y_test_pred = np.where(y_test_prob > 0.5, 1, 0)"
      ]
    },
    {
      "cell_type": "code",
      "execution_count": 35,
      "metadata": {
        "id": "8DoJy_p9dPzN"
      },
      "outputs": [],
      "source": [
        "from sklearn.metrics import multilabel_confusion_matrix"
      ]
    },
    {
      "cell_type": "code",
      "source": [
        "y_test"
      ],
      "metadata": {
        "id": "n1Us2yrfcGl-",
        "colab": {
          "base_uri": "https://localhost:8080/"
        },
        "outputId": "1ffccf6c-e708-48b8-c34b-73b3446cb1ea"
      },
      "execution_count": 36,
      "outputs": [
        {
          "output_type": "execute_result",
          "data": {
            "text/plain": [
              "array([[0., 0., 0., ..., 0., 0., 0.],\n",
              "       [0., 0., 0., ..., 0., 0., 0.],\n",
              "       [0., 0., 0., ..., 0., 1., 0.],\n",
              "       ...,\n",
              "       [0., 0., 0., ..., 0., 1., 0.],\n",
              "       [0., 0., 0., ..., 0., 1., 0.],\n",
              "       [0., 1., 0., ..., 0., 0., 0.]])"
            ]
          },
          "metadata": {},
          "execution_count": 36
        }
      ]
    },
    {
      "cell_type": "code",
      "source": [
        "y_test.shape"
      ],
      "metadata": {
        "id": "VnmvTcvWbxr9",
        "colab": {
          "base_uri": "https://localhost:8080/"
        },
        "outputId": "14d1f15d-0398-4de1-8861-d86e3d5eb38a"
      },
      "execution_count": 37,
      "outputs": [
        {
          "output_type": "execute_result",
          "data": {
            "text/plain": [
              "(15000, 8)"
            ]
          },
          "metadata": {},
          "execution_count": 37
        }
      ]
    },
    {
      "cell_type": "code",
      "source": [
        "y_test_pred"
      ],
      "metadata": {
        "id": "nMBOgzrgcJBj",
        "colab": {
          "base_uri": "https://localhost:8080/"
        },
        "outputId": "68899f9f-d40e-4731-b7ad-00cf83940f8e"
      },
      "execution_count": 38,
      "outputs": [
        {
          "output_type": "execute_result",
          "data": {
            "text/plain": [
              "array([[0, 0, 0, ..., 0, 0, 0],\n",
              "       [0, 0, 0, ..., 0, 0, 0],\n",
              "       [0, 0, 0, ..., 0, 1, 0],\n",
              "       ...,\n",
              "       [0, 0, 0, ..., 0, 1, 0],\n",
              "       [0, 0, 0, ..., 0, 1, 0],\n",
              "       [0, 1, 0, ..., 0, 0, 0]])"
            ]
          },
          "metadata": {},
          "execution_count": 38
        }
      ]
    },
    {
      "cell_type": "code",
      "source": [
        "y_test_pred.shape"
      ],
      "metadata": {
        "id": "SXKZof8Ye5uI",
        "colab": {
          "base_uri": "https://localhost:8080/"
        },
        "outputId": "76a7dccc-71f5-4fe2-f554-529925af9206"
      },
      "execution_count": 39,
      "outputs": [
        {
          "output_type": "execute_result",
          "data": {
            "text/plain": [
              "(15000, 8)"
            ]
          },
          "metadata": {},
          "execution_count": 39
        }
      ]
    },
    {
      "cell_type": "code",
      "source": [
        "y_decoded_pred = tf.argmax(y_test_pred, axis = 1)"
      ],
      "metadata": {
        "id": "leDQwKOjgwwi"
      },
      "execution_count": 40,
      "outputs": []
    },
    {
      "cell_type": "code",
      "source": [
        "y_decoded = tf.argmax(y_test, axis = 1)"
      ],
      "metadata": {
        "id": "sAHRmtesif6g"
      },
      "execution_count": 41,
      "outputs": []
    },
    {
      "cell_type": "code",
      "source": [
        "y_decoded_pred"
      ],
      "metadata": {
        "id": "_lvFhrmPhprD",
        "colab": {
          "base_uri": "https://localhost:8080/"
        },
        "outputId": "59e58a34-fc81-4420-81de-0f204b6b90fc"
      },
      "execution_count": 42,
      "outputs": [
        {
          "output_type": "execute_result",
          "data": {
            "text/plain": [
              "<tf.Tensor: shape=(15000,), dtype=int64, numpy=array([3, 3, 6, ..., 6, 6, 1])>"
            ]
          },
          "metadata": {},
          "execution_count": 42
        }
      ]
    },
    {
      "cell_type": "code",
      "source": [
        "y_decoded"
      ],
      "metadata": {
        "id": "YV1FXgHviPwm",
        "colab": {
          "base_uri": "https://localhost:8080/"
        },
        "outputId": "bd7b8471-37d5-4edf-fd4e-e9ff9185a342"
      },
      "execution_count": 43,
      "outputs": [
        {
          "output_type": "execute_result",
          "data": {
            "text/plain": [
              "<tf.Tensor: shape=(15000,), dtype=int64, numpy=array([3, 3, 6, ..., 6, 6, 1])>"
            ]
          },
          "metadata": {},
          "execution_count": 43
        }
      ]
    },
    {
      "cell_type": "code",
      "source": [
        "y_test_pred = y_decoded_pred\n"
      ],
      "metadata": {
        "id": "6-6jFqzGh380"
      },
      "execution_count": 44,
      "outputs": []
    },
    {
      "cell_type": "code",
      "source": [
        "y_test = y_decoded"
      ],
      "metadata": {
        "id": "9pogVvdIiwss"
      },
      "execution_count": 45,
      "outputs": []
    },
    {
      "cell_type": "code",
      "source": [
        "y_test"
      ],
      "metadata": {
        "id": "oGt5aJetiKR6",
        "colab": {
          "base_uri": "https://localhost:8080/"
        },
        "outputId": "750b5572-de75-4c79-d869-a98de40fa19c"
      },
      "execution_count": 46,
      "outputs": [
        {
          "output_type": "execute_result",
          "data": {
            "text/plain": [
              "<tf.Tensor: shape=(15000,), dtype=int64, numpy=array([3, 3, 6, ..., 6, 6, 1])>"
            ]
          },
          "metadata": {},
          "execution_count": 46
        }
      ]
    },
    {
      "cell_type": "code",
      "source": [
        "y_test_pred"
      ],
      "metadata": {
        "id": "fLgDwAIfiyv2",
        "colab": {
          "base_uri": "https://localhost:8080/"
        },
        "outputId": "22d3b39b-0bd2-4a57-a208-f2337890bd52"
      },
      "execution_count": 47,
      "outputs": [
        {
          "output_type": "execute_result",
          "data": {
            "text/plain": [
              "<tf.Tensor: shape=(15000,), dtype=int64, numpy=array([3, 3, 6, ..., 6, 6, 1])>"
            ]
          },
          "metadata": {},
          "execution_count": 47
        }
      ]
    },
    {
      "cell_type": "code",
      "execution_count": 48,
      "metadata": {
        "id": "fTCsPjW8dQaZ"
      },
      "outputs": [],
      "source": [
        "cfm=confusion_matrix(y_test, y_test_pred)"
      ]
    },
    {
      "cell_type": "code",
      "source": [
        "cfm"
      ],
      "metadata": {
        "id": "_67lPg6ic4cH",
        "colab": {
          "base_uri": "https://localhost:8080/"
        },
        "outputId": "23f0d9da-374c-43dd-d2b7-56ef9a90f0b4"
      },
      "execution_count": 49,
      "outputs": [
        {
          "output_type": "execute_result",
          "data": {
            "text/plain": [
              "array([[1859,    9,    0,    0,    0,    0,    0,    2],\n",
              "       [  51, 1890,   16,    0,    0,    0,    1,   11],\n",
              "       [ 252,   13, 1462,   75,   16,   38,   24,   45],\n",
              "       [ 319,    0,   52, 1298,  136,   47,   11,    0],\n",
              "       [ 446,    0,   13,  163, 1064,   81,   80,    6],\n",
              "       [ 538,    0,   35,  139,  113, 1003,   38,    6],\n",
              "       [ 348,    0,   33,    2,   34,   46, 1137,  244],\n",
              "       [ 163,    2,   15,    0,    0,    2,  130, 1492]])"
            ]
          },
          "metadata": {},
          "execution_count": 49
        }
      ]
    },
    {
      "cell_type": "code",
      "source": [
        " print(classification_report(y_test,y_test_pred))"
      ],
      "metadata": {
        "id": "XTqR_xnwRWCJ",
        "colab": {
          "base_uri": "https://localhost:8080/"
        },
        "outputId": "7486701f-db58-4c8d-a1f8-14ce5d2338ed"
      },
      "execution_count": 55,
      "outputs": [
        {
          "output_type": "stream",
          "name": "stdout",
          "text": [
            "              precision    recall  f1-score   support\n",
            "\n",
            "           0       0.47      0.99      0.64      1870\n",
            "           1       0.99      0.96      0.97      1969\n",
            "           2       0.90      0.76      0.82      1925\n",
            "           3       0.77      0.70      0.73      1863\n",
            "           4       0.78      0.57      0.66      1853\n",
            "           5       0.82      0.54      0.65      1872\n",
            "           6       0.80      0.62      0.70      1844\n",
            "           7       0.83      0.83      0.83      1804\n",
            "\n",
            "    accuracy                           0.75     15000\n",
            "   macro avg       0.79      0.75      0.75     15000\n",
            "weighted avg       0.80      0.75      0.75     15000\n",
            "\n"
          ]
        }
      ]
    },
    {
      "cell_type": "code",
      "execution_count": 56,
      "metadata": {
        "id": "te3fslrY9Eca",
        "colab": {
          "base_uri": "https://localhost:8080/",
          "height": 903
        },
        "outputId": "e51ddc17-ad72-4e61-8693-821672142846"
      },
      "outputs": [
        {
          "output_type": "stream",
          "name": "stdout",
          "text": [
            "Confusion matrix, without normalization\n",
            "[[1859    9    0    0    0    0    0    2]\n",
            " [  51 1890   16    0    0    0    1   11]\n",
            " [ 252   13 1462   75   16   38   24   45]\n",
            " [ 319    0   52 1298  136   47   11    0]\n",
            " [ 446    0   13  163 1064   81   80    6]\n",
            " [ 538    0   35  139  113 1003   38    6]\n",
            " [ 348    0   33    2   34   46 1137  244]\n",
            " [ 163    2   15    0    0    2  130 1492]]\n",
            "Normalized confusion matrix\n",
            "[[0.99 0.   0.   0.   0.   0.   0.   0.  ]\n",
            " [0.03 0.96 0.01 0.   0.   0.   0.   0.01]\n",
            " [0.13 0.01 0.76 0.04 0.01 0.02 0.01 0.02]\n",
            " [0.17 0.   0.03 0.7  0.07 0.03 0.01 0.  ]\n",
            " [0.24 0.   0.01 0.09 0.57 0.04 0.04 0.  ]\n",
            " [0.29 0.   0.02 0.07 0.06 0.54 0.02 0.  ]\n",
            " [0.19 0.   0.02 0.   0.02 0.02 0.62 0.13]\n",
            " [0.09 0.   0.01 0.   0.   0.   0.07 0.83]]\n"
          ]
        },
        {
          "output_type": "display_data",
          "data": {
            "text/plain": [
              "<Figure size 432x288 with 2 Axes>"
            ],
            "image/png": "[encoded data removed]"
          },
          "metadata": {
            "needs_background": "light"
          }
        },
        {
          "output_type": "display_data",
          "data": {
            "text/plain": [
              "<Figure size 432x288 with 2 Axes>"
            ],
            "image/png": "[encoded data removed]"
          },
          "metadata": {
            "needs_background": "light"
          }
        }
      ],
      "source": [
        "import numpy as np\n",
        "import matplotlib.pyplot as plt\n",
        "\n",
        "from sklearn import svm, datasets\n",
        "from sklearn.model_selection import train_test_split\n",
        "from sklearn.metrics import confusion_matrix\n",
        "from sklearn.utils.multiclass import unique_labels\n",
        "\n",
        "class_names = np.array(['0', '1', '2', '3', '4', '5', '6', '7'])\n",
        "\n",
        "def plot_confusion_matrix(y_true, y_pred, classes,\n",
        "                          normalize=False,\n",
        "                          title=None,\n",
        "                          cmap=plt.cm.Blues):\n",
        "    \"\"\"\n",
        "    This function prints and plots the confusion matrix.\n",
        "    Normalization can be applied by setting `normalize=True`.\n",
        "    \"\"\"\n",
        "    if not title:\n",
        "        if normalize:\n",
        "            title = 'Normalized confusion matrix'\n",
        "        else:\n",
        "            title = 'Confusion matrix, without normalization'\n",
        "\n",
        "    # Compute confusion matrix\n",
        "    cm = confusion_matrix(y_true, y_pred)\n",
        "    # Only use the labels that appear in the data\n",
        "    classes = classes[unique_labels(y_true, y_pred)]\n",
        "    if normalize:\n",
        "        cm = cm.astype('float') / cm.sum(axis=1)[:, np.newaxis]\n",
        "        print(\"Normalized confusion matrix\")\n",
        "    else:\n",
        "        print('Confusion matrix, without normalization')\n",
        "\n",
        "    print(cm)\n",
        "\n",
        "    fig, ax = plt.subplots()\n",
        "    im = ax.imshow(cm, interpolation='nearest', cmap=cmap)\n",
        "    ax.figure.colorbar(im, ax=ax)\n",
        "    # We want to show all ticks...\n",
        "    ax.set(xticks=np.arange(cm.shape[1]),\n",
        "           yticks=np.arange(cm.shape[0]),\n",
        "           # ... and label them with the respective list entries\n",
        "           xticklabels=classes, yticklabels=classes,\n",
        "           title=title,\n",
        "           ylabel='True label',\n",
        "           xlabel='Predicted label')\n",
        "\n",
        "    # Rotate the tick labels and set their alignment.\n",
        "    plt.setp(ax.get_xticklabels(), rotation=45, ha=\"right\",\n",
        "             rotation_mode=\"anchor\")\n",
        "\n",
        "    # Loop over data dimensions and create text annotations.\n",
        "    fmt = '.2f' if normalize else 'd'\n",
        "    thresh = cm.max() / 2.\n",
        "    for i in range(cm.shape[0]):\n",
        "        for j in range(cm.shape[1]):\n",
        "            ax.text(j, i, format(cm[i, j], fmt),\n",
        "                    ha=\"center\", va=\"center\",\n",
        "                    color=\"white\" if cm[i, j] > thresh else \"black\")\n",
        "    fig.tight_layout()\n",
        "\n",
        "    return ax\n",
        "\n",
        "\n",
        "np.set_printoptions(precision=2)\n",
        "\n",
        "# Plot non-normalized confusion matrix\n",
        "plot_confusion_matrix(y_test, y_test_pred, classes=class_names,\n",
        "                      title='Confusion matrix, without normalization')\n",
        "\n",
        "# Plot normalized confusion matrix\n",
        "plot_confusion_matrix(y_test, y_test_pred, classes=class_names, normalize=True,\n",
        "                      title='Normalized confusion matrix')\n",
        "\n",
        "plt.show()"
      ]
    },
    {
      "cell_type": "code",
      "execution_count": 52,
      "metadata": {
        "id": "fhdLAhgPUnH3"
      },
      "outputs": [],
      "source": [
        "def plot_learningCurve(history, epoch):\n",
        "  # Plot training & validation accuracy values\n",
        "  epoch_range = range(1, epoch+1)\n",
        "  plt.plot(epoch_range, history.history['accuracy'])\n",
        "  plt.plot(epoch_range, history.history['val_accuracy'])\n",
        "  plt.title('Model accuracy')\n",
        "  plt.ylabel('Accuracy')\n",
        "  plt.xlabel('Epoch')\n",
        "  plt.legend(['Train', 'Val'], loc='upper left')\n",
        "  plt.show()\n",
        "\n",
        "  # Plot training & validation loss values\n",
        "  plt.plot(epoch_range, history.history['loss'])\n",
        "  plt.plot(epoch_range, history.history['val_loss'])\n",
        "  plt.title('Model loss')\n",
        "  plt.ylabel('Loss')\n",
        "  plt.xlabel('Epoch')\n",
        "  plt.legend(['Train', 'Val'], loc='upper left')\n",
        "  plt.show()"
      ]
    },
    {
      "cell_type": "code",
      "execution_count": 57,
      "metadata": {
        "id": "WlkQkWHgU5mL",
        "colab": {
          "base_uri": "https://localhost:8080/",
          "height": 581
        },
        "outputId": "f9602125-1b90-4a49-fb09-3ac854485b09"
      },
      "outputs": [
        {
          "output_type": "display_data",
          "data": {
            "text/plain": [
              "<Figure size 432x288 with 1 Axes>"
            ],
            "image/png": "[encoded data removed]"
          },
          "metadata": {
            "needs_background": "light"
          }
        },
        {
          "output_type": "display_data",
          "data": {
            "text/plain": [
              "<Figure size 432x288 with 1 Axes>"
            ],
            "image/png": "[encoded data removed]"
          },
          "metadata": {
            "needs_background": "light"
          }
        }
      ],
      "source": [
        "plot_learningCurve(history, 100)"
      ]
    }
  ],
  "metadata": {
    "colab": {
      "collapsed_sections": [
        "f857kfHqUk0-"
      ],
      "name": "Multi_Class_MD_LSTM_step_200_files_120.ipynb",
      "provenance": [],
      "include_colab_link": true
    },
    "kernelspec": {
      "display_name": "Python 3",
      "name": "python3"
    },
    "language_info": {
      "name": "python"
    },
    "accelerator": "GPU"
  },
  "nbformat": 4,
  "nbformat_minor": 0
}
