{
  "cells": [
    {
      "cell_type": "markdown",
      "metadata": {
        "id": "view-in-github",
        "colab_type": "text"
      },
      "source": [
        "<a href=\"https://colab.research.google.com/github/kwanderer/MachineLearning/blob/main/Multi_Class_MD_LSTM_step_200_files_120_neiron_300_1.ipynb\" target=\"_parent\"><img src=\"https://colab.research.google.com/assets/colab-badge.svg\" alt=\"Open In Colab\"/></a>"
      ]
    },
    {
      "cell_type": "markdown",
      "metadata": {
        "id": "f857kfHqUk0-"
      },
      "source": [
        "\n",
        "\n",
        "#Datu kopa"
      ]
    },
    {
      "cell_type": "markdown",
      "metadata": {
        "id": "nM9WE3QGUwVi"
      },
      "source": [
        "Datu kopas avots: https://www.kaggle.com/uysalserkan/fault-induction-motor-dataset"
      ]
    },
    {
      "cell_type": "markdown",
      "metadata": {
        "id": "_sN_h3qHHy6r"
      },
      "source": [
        "Darbā tiek izmantota indukcijas motora parametru datu bāze. Izmantotajā datu kopā ir dati, kas tika iegūti SpectraQuest aparatūras kļūdu simulatorā (Machinery Fault Simulator).\n",
        "\n",
        "Katra mērījumu secība tika ģenerēta ar frekvenci 50 kHz 5 sekunžu laikā, kopā 250 000 mērījumi.\n",
        "\n",
        "Dati ir apkopoti vairākos failos, dažādos darbības stāvokļos un to apjoms ir ļoti liels. Šajā darbā tika izmantota daļa(viena mērījumu secība) no motora normālas darbības datiem.\n"
      ]
    },
    {
      "cell_type": "markdown",
      "metadata": {
        "id": "KtFAOaHYHLPo"
      },
      "source": [
        "Dati ir apkopoti tabulā, kura satur 8 parametrus. Dati ir iedalīti sekojošās kolonas:\n",
        "\n",
        "**tachometer** – tahometra signāls, kas ļauj novērtēt rotācijas frekvenci\n",
        "\n",
        "**und-accelerometer-axial** - apakšā esošā gultņa akselerometrs (aksiālais virziens)\n",
        "\n",
        "**und-accelerometer-radial** – apakšā esošā gultņa akselerometrs (radiālais virziens)\n",
        "\n",
        "**und-accelerometer-tangential** - apakšā esošā gultņa akselerometrs (tangenciālais virziens)\n",
        "\n",
        "**over-accelerometer-axial** - pārkares gultņa akselerometrs (aksiālais virziens)\n",
        "\n",
        "**over-accelerometer-radial** – pārkares gultņa akselerometrs (radiālais  virziens)\n",
        "\n",
        "**over-accelerometer-tangential**  - pārkares gultņa akselerometrs (tangenciālais virziens)\n",
        "\n",
        "**microphone** – mikrofona vērtība\n"
      ]
    },
    {
      "cell_type": "markdown",
      "metadata": {
        "id": "XymoNLKMVFUC"
      },
      "source": [
        "#Datu ielasīšana un satura vizualizācija"
      ]
    },
    {
      "cell_type": "code",
      "execution_count": 1,
      "metadata": {
        "id": "_yqYZDeOFq5s"
      },
      "outputs": [],
      "source": [
        "import keras\n",
        "from keras.layers import LSTM, Dropout, Dense\n",
        "import tensorflow as tf\n",
        "import numpy as np\n",
        "import pandas as pd\n",
        "\n",
        "from sklearn import linear_model  #pip install sklearn - loti plasa masinapmacibas biblioteka\n",
        "from sklearn.linear_model import LinearRegression  \n",
        "import csv          #pip install csv - darbam ar CSV datu kopam\n",
        "import requests     #pip install requests  - vienkarsakam darbam ar tiessaistes CSV datu kopam tiessaistes\n",
        "\n",
        "import matplotlib\n",
        "import matplotlib.pyplot as plt\n",
        "\n",
        "import glob\n"
      ]
    },
    {
      "cell_type": "code",
      "execution_count": 2,
      "metadata": {
        "id": "wlRTBbM2eUcV",
        "colab": {
          "base_uri": "https://localhost:8080/"
        },
        "outputId": "8c071648-f6a2-4894-bb15-7340b119521f"
      },
      "outputs": [
        {
          "output_type": "stream",
          "name": "stdout",
          "text": [
            "Drive already mounted at /content/gdrive; to attempt to forcibly remount, call drive.mount(\"/content/gdrive\", force_remount=True).\n"
          ]
        }
      ],
      "source": [
        "from google.colab import drive\n",
        "import os\n",
        "drive.mount('/content/gdrive')\n",
        "os.chdir(\"/content/gdrive/MyDrive/Colab Notebooks/data_multiclass/\")"
      ]
    },
    {
      "cell_type": "code",
      "execution_count": 3,
      "metadata": {
        "id": "zzz6fBl_SNom"
      },
      "outputs": [],
      "source": [
        "#extension = 'csv'\n",
        "#all_filenames = [i for i in glob.glob('*.{}'.format(extension))]"
      ]
    },
    {
      "cell_type": "code",
      "execution_count": 4,
      "metadata": {
        "id": "vagKFCkToBi0"
      },
      "outputs": [],
      "source": [
        "#combine all files in the list\n",
        "#combined_csv = pd.concat([pd.read_csv(f) for f in all_filenames ])\n",
        "#export to csv\n",
        "#combined_csv.to_csv( \"combined_multiclass_csv.csv\", index=False, encoding='utf-8-sig')"
      ]
    },
    {
      "cell_type": "code",
      "execution_count": 5,
      "metadata": {
        "id": "encEkbDhSfGI"
      },
      "outputs": [],
      "source": [
        "data = pd.read_csv(\"combined_multiclass_csv.csv\")"
      ]
    },
    {
      "cell_type": "code",
      "execution_count": 6,
      "metadata": {
        "id": "yz5Qe8ZWk1Zq",
        "colab": {
          "base_uri": "https://localhost:8080/"
        },
        "outputId": "28a11f93-1a94-4b49-afab-6992a0b08f49"
      },
      "outputs": [
        {
          "output_type": "stream",
          "name": "stdout",
          "text": [
            "<class 'pandas.core.frame.DataFrame'>\n",
            "RangeIndex: 30000000 entries, 0 to 29999999\n",
            "Data columns (total 9 columns):\n",
            " #   Column                         Dtype  \n",
            "---  ------                         -----  \n",
            " 0   tachometer                     float64\n",
            " 1   und-accelerometer-axial        float64\n",
            " 2   und-accelerometer-radial       float64\n",
            " 3   und-accelerometer-tangential   float64\n",
            " 4   over-accelerometer-axial       float64\n",
            " 5   over-accelerometer-radial      float64\n",
            " 6   over-accelerometer-tangential  float64\n",
            " 7   microphone                     float64\n",
            " 8   Class                          int64  \n",
            "dtypes: float64(8), int64(1)\n",
            "memory usage: 2.0 GB\n"
          ]
        }
      ],
      "source": [
        "data.info()"
      ]
    },
    {
      "cell_type": "code",
      "execution_count": 7,
      "metadata": {
        "id": "WUW9ezX6a_st",
        "colab": {
          "base_uri": "https://localhost:8080/"
        },
        "outputId": "12b0a849-83fa-4a89-92af-a3d6c3465f59"
      },
      "outputs": [
        {
          "output_type": "execute_result",
          "data": {
            "text/plain": [
              "30000000"
            ]
          },
          "metadata": {},
          "execution_count": 7
        }
      ],
      "source": [
        "rec_count = len(data)\n",
        "rec_count"
      ]
    },
    {
      "cell_type": "markdown",
      "metadata": {
        "id": "6RVC1PZy88fC"
      },
      "source": [
        "# Datu dalīšana mazākos gabalos"
      ]
    },
    {
      "cell_type": "code",
      "execution_count": 8,
      "metadata": {
        "id": "DOvnCYkcbGaE"
      },
      "outputs": [],
      "source": [
        "sequence_length = 200"
      ]
    },
    {
      "cell_type": "code",
      "execution_count": 9,
      "metadata": {
        "id": "RG0o2L3zbTEx"
      },
      "outputs": [],
      "source": [
        "def generate_data(X, y, sequence_length = 200, step = 200):\n",
        "    X_local = []\n",
        "    y_local = []\n",
        "    for start in range(0, len(data) - sequence_length, step):\n",
        "        end = start + sequence_length\n",
        "        X_local.append(X[start:end])\n",
        "        y_local.append(y[end-1])\n",
        "    return np.array(X_local), np.array(y_local)\n",
        "\n",
        "X_sequence, y = generate_data(data.loc[:, \"tachometer\":\"microphone\"].values, data.Class)"
      ]
    },
    {
      "cell_type": "code",
      "execution_count": 10,
      "metadata": {
        "id": "s0QxwK66cLVF",
        "colab": {
          "base_uri": "https://localhost:8080/"
        },
        "outputId": "ff0b0176-90a6-4727-9696-e632c048f608"
      },
      "outputs": [
        {
          "output_type": "execute_result",
          "data": {
            "text/plain": [
              "((149999, 200, 8), (149999,))"
            ]
          },
          "metadata": {},
          "execution_count": 10
        }
      ],
      "source": [
        "X_sequence.shape, y.shape"
      ]
    },
    {
      "cell_type": "code",
      "source": [
        "unique, counts = np.unique(y, return_counts=True)"
      ],
      "metadata": {
        "id": "l8Lq455lV1JR"
      },
      "execution_count": 11,
      "outputs": []
    },
    {
      "cell_type": "code",
      "source": [
        "unique"
      ],
      "metadata": {
        "id": "t0BRO3nAWQxe",
        "colab": {
          "base_uri": "https://localhost:8080/"
        },
        "outputId": "67ccea12-9692-4ad3-8983-18575075669f"
      },
      "execution_count": 12,
      "outputs": [
        {
          "output_type": "execute_result",
          "data": {
            "text/plain": [
              "array([0, 1, 2, 3, 4, 5, 6, 7])"
            ]
          },
          "metadata": {},
          "execution_count": 12
        }
      ]
    },
    {
      "cell_type": "code",
      "source": [
        "counts"
      ],
      "metadata": {
        "id": "WWZ7QWR4WS_r",
        "colab": {
          "base_uri": "https://localhost:8080/"
        },
        "outputId": "ccc09b14-92e7-4dc0-ddd9-6e42a72cd418"
      },
      "execution_count": 13,
      "outputs": [
        {
          "output_type": "execute_result",
          "data": {
            "text/plain": [
              "array([18749, 18750, 18750, 18750, 18750, 18750, 18750, 18750])"
            ]
          },
          "metadata": {},
          "execution_count": 13
        }
      ]
    },
    {
      "cell_type": "code",
      "execution_count": 14,
      "metadata": {
        "id": "i7R1oo6Mj8wx"
      },
      "outputs": [],
      "source": [
        "data = 0"
      ]
    },
    {
      "cell_type": "code",
      "source": [
        "from sklearn.preprocessing import OneHotEncoder"
      ],
      "metadata": {
        "id": "lAk_JscRWmqY"
      },
      "execution_count": 15,
      "outputs": []
    },
    {
      "cell_type": "code",
      "source": [
        "label_encoder = OneHotEncoder(sparse=False)\n",
        "label_encoder.fit(y.reshape(-1,1))"
      ],
      "metadata": {
        "id": "14B9aYy0W0y6",
        "colab": {
          "base_uri": "https://localhost:8080/"
        },
        "outputId": "6972e410-c3ff-42f8-b7f2-389cd2bc654b"
      },
      "execution_count": 16,
      "outputs": [
        {
          "output_type": "execute_result",
          "data": {
            "text/plain": [
              "OneHotEncoder(sparse=False)"
            ]
          },
          "metadata": {},
          "execution_count": 16
        }
      ]
    },
    {
      "cell_type": "code",
      "source": [
        "y_encoded = label_encoder.transform(y.reshape(-1,1))"
      ],
      "metadata": {
        "id": "VjpWn96xXgPS"
      },
      "execution_count": 17,
      "outputs": []
    },
    {
      "cell_type": "code",
      "source": [
        "y_encoded[0:5]"
      ],
      "metadata": {
        "id": "VL6KMFo9XpBi",
        "colab": {
          "base_uri": "https://localhost:8080/"
        },
        "outputId": "3efcab77-7b28-4072-a261-bbed67b076d6"
      },
      "execution_count": 18,
      "outputs": [
        {
          "output_type": "execute_result",
          "data": {
            "text/plain": [
              "array([[0., 0., 0., 0., 0., 0., 0., 1.],\n",
              "       [0., 0., 0., 0., 0., 0., 0., 1.],\n",
              "       [0., 0., 0., 0., 0., 0., 0., 1.],\n",
              "       [0., 0., 0., 0., 0., 0., 0., 1.],\n",
              "       [0., 0., 0., 0., 0., 0., 0., 1.]])"
            ]
          },
          "metadata": {},
          "execution_count": 18
        }
      ]
    },
    {
      "cell_type": "code",
      "source": [
        "y=y_encoded"
      ],
      "metadata": {
        "id": "5c8km253YKBl"
      },
      "execution_count": 19,
      "outputs": []
    },
    {
      "cell_type": "markdown",
      "metadata": {
        "id": "5BXSDoHa9UX_"
      },
      "source": [
        "# Random/Shuffle"
      ]
    },
    {
      "cell_type": "code",
      "execution_count": 20,
      "metadata": {
        "id": "ZcfE9idy-ckb"
      },
      "outputs": [],
      "source": [
        "shuffler = np.random.permutation(len(X_sequence))\n",
        "X_sequence_shuffled = X_sequence[shuffler]\n",
        "y_shuffled = y[shuffler]"
      ]
    },
    {
      "cell_type": "markdown",
      "metadata": {
        "id": "TfhRTTNcE2s8"
      },
      "source": [
        "# LSTM"
      ]
    },
    {
      "cell_type": "code",
      "execution_count": 21,
      "metadata": {
        "id": "ihrXMuVAEwlY"
      },
      "outputs": [],
      "source": [
        "import pandas as pd\n",
        "import sklearn.metrics as metrique\n",
        "from pandas import Series\n",
        "from sklearn.preprocessing import StandardScaler, MinMaxScaler\n",
        "from matplotlib import pyplot\n",
        "from sklearn.model_selection import train_test_split\n",
        "import numpy as np\n",
        "import tensorflow as tf\n",
        "import sys\n",
        "import numpy as np\n",
        "import pandas as pd\n",
        "import tensorflow as tf\n",
        "import matplotlib.pyplot as plt\n",
        "from sklearn.model_selection import train_test_split\n",
        "from sklearn import preprocessing\n",
        "from sklearn.preprocessing import StandardScaler\n",
        "from sklearn.metrics import classification_report\n",
        "import warnings\n",
        "warnings.filterwarnings('ignore')\n",
        "plt.style.use('ggplot')\n",
        "import seaborn as sns \n",
        "%matplotlib inline\n",
        "from keras.callbacks import EarlyStopping\n",
        "from keras.callbacks import ModelCheckpoint\n",
        "from sklearn.metrics import accuracy_score\n",
        "from sklearn.metrics import classification_report, confusion_matrix\n",
        "from keras.models import Sequential\n",
        "from keras.utils import np_utils\n",
        "from keras.layers import LSTM, Dense, Embedding, Dropout,Input, Layer, Concatenate, Permute, Dot, Multiply, Flatten\n",
        "from keras.layers import RepeatVector, Dense, Activation, Lambda\n",
        "from keras.models import Sequential\n",
        "from keras import backend as K, regularizers, Model, metrics\n",
        "from keras.backend import cast"
      ]
    },
    {
      "cell_type": "code",
      "execution_count": 22,
      "metadata": {
        "id": "PjKWKiA6aH3z"
      },
      "outputs": [],
      "source": [
        "#from tensorflow.keras import optimizers\n",
        "#sgd = optimizers.SGD(lr=0.0001, decay=1e-6, momentum=0.9, nesterov=True)\n",
        "#model = keras.Sequential()\n",
        "#model.add(LSTM(100, input_shape = (200, 8)))\n",
        "#model.add(Dropout(0.5))\n",
        "#model.add(Dense(1, activation=\"softmax\"))\n",
        "\n",
        "\n",
        "#model.compile(loss=\"categorical_crossentropy\"\n",
        "#              , metrics=[keras.metrics.binary_accuracy]\n",
        "#              , optimizer='sgd')\n",
        "\n",
        "#model.summary()"
      ]
    },
    {
      "cell_type": "code",
      "execution_count": 23,
      "metadata": {
        "id": "_2SaVmwSWJVB",
        "colab": {
          "base_uri": "https://localhost:8080/"
        },
        "outputId": "7bfabdc1-79dc-45d4-f7e5-20901ed47e34"
      },
      "outputs": [
        {
          "output_type": "stream",
          "name": "stdout",
          "text": [
            "Model: \"sequential\"\n",
            "_________________________________________________________________\n",
            " Layer (type)                Output Shape              Param #   \n",
            "=================================================================\n",
            " lstm (LSTM)                 (None, 300)               370800    \n",
            "                                                                 \n",
            " dropout (Dropout)           (None, 300)               0         \n",
            "                                                                 \n",
            " dense (Dense)               (None, 8)                 2408      \n",
            "                                                                 \n",
            "=================================================================\n",
            "Total params: 373,208\n",
            "Trainable params: 373,208\n",
            "Non-trainable params: 0\n",
            "_________________________________________________________________\n"
          ]
        }
      ],
      "source": [
        "from tensorflow.keras import optimizers\n",
        "#sgd = optimizers.SGD(lr=0.0001, decay=1e-6, momentum=0.9, nesterov=True)\n",
        "optimizer = tf.keras.optimizers.Adam(lr=0.0001)\n",
        "model = keras.Sequential()\n",
        "model.add(LSTM(300, input_shape = (200, 8)))\n",
        "model.add(Dropout(0.5))#0.25\n",
        "model.add(Dense(8, activation=\"softmax\"))\n",
        "\n",
        "#model.compile(loss='mean_squared_error', optimizer=sgd)\n",
        "model.compile(loss=\"categorical_crossentropy\"\n",
        "              , metrics=['accuracy']\n",
        "              , optimizer=optimizer)\n",
        "\n",
        "model.summary()"
      ]
    },
    {
      "cell_type": "code",
      "execution_count": 24,
      "metadata": {
        "id": "tg8wrqsqc8UX"
      },
      "outputs": [],
      "source": [
        "training_size = int(len(X_sequence) * 0.8)\n",
        "val_size = int(len(X_sequence) * 0.9)"
      ]
    },
    {
      "cell_type": "code",
      "execution_count": 25,
      "metadata": {
        "id": "avIp3TEKc-qF"
      },
      "outputs": [],
      "source": [
        "X_train, y_train = X_sequence_shuffled[:training_size], y_shuffled[:training_size]\n",
        "X_val, y_val = X_sequence_shuffled[training_size:val_size], y_shuffled[training_size:val_size]\n",
        "X_test, y_test = X_sequence_shuffled[val_size:], y_shuffled[val_size:]"
      ]
    },
    {
      "cell_type": "code",
      "execution_count": 26,
      "metadata": {
        "id": "RABc_uKzkBUT"
      },
      "outputs": [],
      "source": [
        "#X_sequence = 0\n",
        "#y = 0"
      ]
    },
    {
      "cell_type": "code",
      "source": [
        "X_train.shape"
      ],
      "metadata": {
        "id": "Omv-ht1dhGxL",
        "colab": {
          "base_uri": "https://localhost:8080/"
        },
        "outputId": "6850ea8d-2ccc-4e7f-92c5-7fe83d019d71"
      },
      "execution_count": 27,
      "outputs": [
        {
          "output_type": "execute_result",
          "data": {
            "text/plain": [
              "(119999, 200, 8)"
            ]
          },
          "metadata": {},
          "execution_count": 27
        }
      ]
    },
    {
      "cell_type": "code",
      "execution_count": 28,
      "metadata": {
        "id": "8aIhPJ-wLCwZ",
        "colab": {
          "base_uri": "https://localhost:8080/"
        },
        "outputId": "538f3ae1-1a37-4b02-cef6-7c73314a7679"
      },
      "outputs": [
        {
          "output_type": "execute_result",
          "data": {
            "text/plain": [
              "array([[0., 0., 0., 0., 0., 0., 0., 1.],\n",
              "       [0., 0., 0., 0., 0., 0., 1., 0.],\n",
              "       [0., 1., 0., 0., 0., 0., 0., 0.],\n",
              "       [0., 0., 0., 0., 0., 0., 1., 0.],\n",
              "       [0., 0., 0., 0., 0., 0., 1., 0.],\n",
              "       [0., 0., 0., 0., 0., 0., 0., 1.],\n",
              "       [0., 1., 0., 0., 0., 0., 0., 0.],\n",
              "       [0., 0., 0., 0., 0., 0., 1., 0.],\n",
              "       [0., 0., 0., 0., 0., 0., 1., 0.],\n",
              "       [0., 0., 0., 0., 1., 0., 0., 0.]])"
            ]
          },
          "metadata": {},
          "execution_count": 28
        }
      ],
      "source": [
        "y_train[:10]"
      ]
    },
    {
      "cell_type": "code",
      "execution_count": 29,
      "metadata": {
        "id": "cen4faX0dFJP",
        "colab": {
          "base_uri": "https://localhost:8080/"
        },
        "outputId": "f9c4bf1d-34de-4fb3-d5fc-5152a02e0b8f"
      },
      "outputs": [
        {
          "output_type": "stream",
          "name": "stdout",
          "text": [
            "Epoch 1/100\n",
            "1875/1875 [==============================] - 42s 20ms/step - loss: 1.7716 - accuracy: 0.2561 - val_loss: 1.6493 - val_accuracy: 0.3377\n",
            "Epoch 2/100\n",
            "1875/1875 [==============================] - 39s 21ms/step - loss: 1.7713 - accuracy: 0.2962 - val_loss: 1.5751 - val_accuracy: 0.3688\n",
            "Epoch 3/100\n",
            "1875/1875 [==============================] - 38s 20ms/step - loss: 1.5161 - accuracy: 0.3744 - val_loss: 1.4200 - val_accuracy: 0.4085\n",
            "Epoch 4/100\n",
            "1875/1875 [==============================] - 38s 20ms/step - loss: 1.4576 - accuracy: 0.3943 - val_loss: 1.3624 - val_accuracy: 0.4355\n",
            "Epoch 5/100\n",
            "1875/1875 [==============================] - 38s 20ms/step - loss: 1.3778 - accuracy: 0.4280 - val_loss: 1.3115 - val_accuracy: 0.4619\n",
            "Epoch 6/100\n",
            "1875/1875 [==============================] - 39s 21ms/step - loss: 1.5180 - accuracy: 0.3857 - val_loss: 1.4111 - val_accuracy: 0.4272\n",
            "Epoch 7/100\n",
            "1875/1875 [==============================] - 38s 20ms/step - loss: 1.5612 - accuracy: 0.3773 - val_loss: 1.4537 - val_accuracy: 0.4159\n",
            "Epoch 8/100\n",
            "1875/1875 [==============================] - 38s 20ms/step - loss: 1.7045 - accuracy: 0.3279 - val_loss: 1.6597 - val_accuracy: 0.3312\n",
            "Epoch 9/100\n",
            "1875/1875 [==============================] - 39s 21ms/step - loss: 1.5832 - accuracy: 0.3478 - val_loss: 1.4886 - val_accuracy: 0.3843\n",
            "Epoch 10/100\n",
            "1875/1875 [==============================] - 39s 21ms/step - loss: 1.5132 - accuracy: 0.3794 - val_loss: 1.4718 - val_accuracy: 0.4008\n",
            "Epoch 11/100\n",
            "1875/1875 [==============================] - 38s 20ms/step - loss: 1.4521 - accuracy: 0.4030 - val_loss: 1.3789 - val_accuracy: 0.4324\n",
            "Epoch 12/100\n",
            "1875/1875 [==============================] - 38s 20ms/step - loss: 1.4862 - accuracy: 0.3887 - val_loss: 1.4284 - val_accuracy: 0.4103\n",
            "Epoch 13/100\n",
            "1875/1875 [==============================] - 38s 20ms/step - loss: 1.5156 - accuracy: 0.3854 - val_loss: 1.3713 - val_accuracy: 0.4507\n",
            "Epoch 14/100\n",
            "1875/1875 [==============================] - 38s 20ms/step - loss: 1.7773 - accuracy: 0.3247 - val_loss: 1.6567 - val_accuracy: 0.3365\n",
            "Epoch 15/100\n",
            "1875/1875 [==============================] - 38s 20ms/step - loss: 1.6393 - accuracy: 0.3332 - val_loss: 1.5389 - val_accuracy: 0.3810\n",
            "Epoch 16/100\n",
            "1875/1875 [==============================] - 38s 20ms/step - loss: 1.5025 - accuracy: 0.3796 - val_loss: 1.3707 - val_accuracy: 0.4371\n",
            "Epoch 17/100\n",
            "1875/1875 [==============================] - 39s 21ms/step - loss: 1.3799 - accuracy: 0.4281 - val_loss: 1.3622 - val_accuracy: 0.4484\n",
            "Epoch 18/100\n",
            "1875/1875 [==============================] - 38s 20ms/step - loss: 1.3609 - accuracy: 0.4381 - val_loss: 1.2649 - val_accuracy: 0.4762\n",
            "Epoch 19/100\n",
            "1875/1875 [==============================] - 38s 20ms/step - loss: 1.2922 - accuracy: 0.4655 - val_loss: 1.2485 - val_accuracy: 0.4902\n",
            "Epoch 20/100\n",
            "1875/1875 [==============================] - 38s 20ms/step - loss: 1.2674 - accuracy: 0.4736 - val_loss: 1.2020 - val_accuracy: 0.4943\n",
            "Epoch 21/100\n",
            "1875/1875 [==============================] - 38s 20ms/step - loss: 1.2249 - accuracy: 0.4926 - val_loss: 1.1647 - val_accuracy: 0.5173\n",
            "Epoch 22/100\n",
            "1875/1875 [==============================] - 38s 20ms/step - loss: 1.1980 - accuracy: 0.5041 - val_loss: 1.1491 - val_accuracy: 0.5169\n",
            "Epoch 23/100\n",
            "1875/1875 [==============================] - 38s 20ms/step - loss: 1.1644 - accuracy: 0.5161 - val_loss: 1.0994 - val_accuracy: 0.5468\n",
            "Epoch 24/100\n",
            "1875/1875 [==============================] - 38s 20ms/step - loss: 1.1425 - accuracy: 0.5240 - val_loss: 1.0663 - val_accuracy: 0.5599\n",
            "Epoch 25/100\n",
            "1875/1875 [==============================] - 39s 21ms/step - loss: 1.0996 - accuracy: 0.5435 - val_loss: 1.0362 - val_accuracy: 0.5681\n",
            "Epoch 26/100\n",
            "1875/1875 [==============================] - 38s 20ms/step - loss: 1.0926 - accuracy: 0.5480 - val_loss: 1.0766 - val_accuracy: 0.5533\n",
            "Epoch 27/100\n",
            "1875/1875 [==============================] - 38s 20ms/step - loss: 1.0590 - accuracy: 0.5605 - val_loss: 1.0028 - val_accuracy: 0.5874\n",
            "Epoch 28/100\n",
            "1875/1875 [==============================] - 39s 21ms/step - loss: 1.0399 - accuracy: 0.5688 - val_loss: 0.9881 - val_accuracy: 0.5901\n",
            "Epoch 29/100\n",
            "1875/1875 [==============================] - 38s 20ms/step - loss: 1.0199 - accuracy: 0.5782 - val_loss: 0.9850 - val_accuracy: 0.5843\n",
            "Epoch 30/100\n",
            "1875/1875 [==============================] - 39s 21ms/step - loss: 0.9936 - accuracy: 0.5872 - val_loss: 0.9659 - val_accuracy: 0.6057\n",
            "Epoch 31/100\n",
            "1875/1875 [==============================] - 38s 20ms/step - loss: 0.9653 - accuracy: 0.5980 - val_loss: 0.9205 - val_accuracy: 0.6187\n",
            "Epoch 32/100\n",
            "1875/1875 [==============================] - 38s 20ms/step - loss: 0.9387 - accuracy: 0.6097 - val_loss: 0.8958 - val_accuracy: 0.6287\n",
            "Epoch 33/100\n",
            "1875/1875 [==============================] - 39s 21ms/step - loss: 0.9146 - accuracy: 0.6176 - val_loss: 0.8942 - val_accuracy: 0.6263\n",
            "Epoch 34/100\n",
            "1875/1875 [==============================] - 38s 20ms/step - loss: 0.8948 - accuracy: 0.6253 - val_loss: 0.8468 - val_accuracy: 0.6437\n",
            "Epoch 35/100\n",
            "1875/1875 [==============================] - 38s 20ms/step - loss: 0.8704 - accuracy: 0.6356 - val_loss: 0.8314 - val_accuracy: 0.6524\n",
            "Epoch 36/100\n",
            "1875/1875 [==============================] - 38s 20ms/step - loss: 0.8466 - accuracy: 0.6459 - val_loss: 0.8029 - val_accuracy: 0.6664\n",
            "Epoch 37/100\n",
            "1875/1875 [==============================] - 38s 20ms/step - loss: 0.8298 - accuracy: 0.6527 - val_loss: 0.8100 - val_accuracy: 0.6609\n",
            "Epoch 38/100\n",
            "1875/1875 [==============================] - 38s 20ms/step - loss: 0.8120 - accuracy: 0.6592 - val_loss: 0.8287 - val_accuracy: 0.6540\n",
            "Epoch 39/100\n",
            "1875/1875 [==============================] - 38s 20ms/step - loss: 0.7913 - accuracy: 0.6682 - val_loss: 0.7497 - val_accuracy: 0.6880\n",
            "Epoch 40/100\n",
            "1875/1875 [==============================] - 38s 20ms/step - loss: 0.7766 - accuracy: 0.6744 - val_loss: 0.7469 - val_accuracy: 0.6874\n",
            "Epoch 41/100\n",
            "1875/1875 [==============================] - 38s 20ms/step - loss: 0.7579 - accuracy: 0.6837 - val_loss: 0.7233 - val_accuracy: 0.6965\n",
            "Epoch 42/100\n",
            "1875/1875 [==============================] - 39s 21ms/step - loss: 0.7462 - accuracy: 0.6908 - val_loss: 0.7222 - val_accuracy: 0.7012\n",
            "Epoch 43/100\n",
            "1875/1875 [==============================] - 39s 21ms/step - loss: 0.7290 - accuracy: 0.6995 - val_loss: 0.7309 - val_accuracy: 0.6903\n",
            "Epoch 44/100\n",
            "1875/1875 [==============================] - 39s 21ms/step - loss: 0.7162 - accuracy: 0.7052 - val_loss: 0.7192 - val_accuracy: 0.6961\n",
            "Epoch 45/100\n",
            "1875/1875 [==============================] - 39s 21ms/step - loss: 0.6999 - accuracy: 0.7122 - val_loss: 0.6775 - val_accuracy: 0.7173\n",
            "Epoch 46/100\n",
            "1875/1875 [==============================] - 39s 21ms/step - loss: 0.6868 - accuracy: 0.7187 - val_loss: 0.6863 - val_accuracy: 0.7221\n",
            "Epoch 47/100\n",
            "1875/1875 [==============================] - 39s 21ms/step - loss: 0.6751 - accuracy: 0.7251 - val_loss: 0.6288 - val_accuracy: 0.7385\n",
            "Epoch 48/100\n",
            "1875/1875 [==============================] - 38s 20ms/step - loss: 0.6571 - accuracy: 0.7337 - val_loss: 0.6281 - val_accuracy: 0.7423\n",
            "Epoch 49/100\n",
            "1875/1875 [==============================] - 38s 20ms/step - loss: 0.6451 - accuracy: 0.7378 - val_loss: 0.6320 - val_accuracy: 0.7444\n",
            "Epoch 50/100\n",
            "1875/1875 [==============================] - 38s 20ms/step - loss: 0.6331 - accuracy: 0.7422 - val_loss: 0.6227 - val_accuracy: 0.7495\n",
            "Epoch 51/100\n",
            "1875/1875 [==============================] - 38s 20ms/step - loss: 0.6164 - accuracy: 0.7514 - val_loss: 0.6267 - val_accuracy: 0.7467\n",
            "Epoch 52/100\n",
            "1875/1875 [==============================] - 39s 21ms/step - loss: 0.6034 - accuracy: 0.7568 - val_loss: 0.6003 - val_accuracy: 0.7595\n",
            "Epoch 53/100\n",
            "1875/1875 [==============================] - 39s 21ms/step - loss: 0.5888 - accuracy: 0.7624 - val_loss: 0.5722 - val_accuracy: 0.7691\n",
            "Epoch 54/100\n",
            "1875/1875 [==============================] - 38s 20ms/step - loss: 0.5737 - accuracy: 0.7701 - val_loss: 0.5851 - val_accuracy: 0.7674\n",
            "Epoch 55/100\n",
            "1875/1875 [==============================] - 38s 20ms/step - loss: 0.5583 - accuracy: 0.7763 - val_loss: 0.5542 - val_accuracy: 0.7773\n",
            "Epoch 56/100\n",
            "1875/1875 [==============================] - 38s 20ms/step - loss: 0.5437 - accuracy: 0.7817 - val_loss: 0.5465 - val_accuracy: 0.7820\n",
            "Epoch 57/100\n",
            "1875/1875 [==============================] - 38s 20ms/step - loss: 0.5352 - accuracy: 0.7856 - val_loss: 0.5162 - val_accuracy: 0.7953\n",
            "Epoch 58/100\n",
            "1875/1875 [==============================] - 38s 20ms/step - loss: 0.5186 - accuracy: 0.7933 - val_loss: 0.5264 - val_accuracy: 0.7873\n",
            "Epoch 59/100\n",
            "1875/1875 [==============================] - 39s 21ms/step - loss: 0.5078 - accuracy: 0.7977 - val_loss: 0.5053 - val_accuracy: 0.7981\n",
            "Epoch 60/100\n",
            "1875/1875 [==============================] - 39s 21ms/step - loss: 0.4949 - accuracy: 0.8026 - val_loss: 0.4901 - val_accuracy: 0.8051\n",
            "Epoch 61/100\n",
            "1875/1875 [==============================] - 38s 20ms/step - loss: 0.4839 - accuracy: 0.8080 - val_loss: 0.4890 - val_accuracy: 0.8084\n",
            "Epoch 62/100\n",
            "1875/1875 [==============================] - 39s 21ms/step - loss: 0.4722 - accuracy: 0.8136 - val_loss: 0.4797 - val_accuracy: 0.8075\n",
            "Epoch 63/100\n",
            "1875/1875 [==============================] - 38s 20ms/step - loss: 0.4648 - accuracy: 0.8165 - val_loss: 0.4846 - val_accuracy: 0.8037\n",
            "Epoch 64/100\n",
            "1875/1875 [==============================] - 38s 20ms/step - loss: 0.4525 - accuracy: 0.8208 - val_loss: 0.4536 - val_accuracy: 0.8194\n",
            "Epoch 65/100\n",
            "1875/1875 [==============================] - 38s 20ms/step - loss: 0.4397 - accuracy: 0.8275 - val_loss: 0.4596 - val_accuracy: 0.8207\n",
            "Epoch 66/100\n",
            "1875/1875 [==============================] - 38s 20ms/step - loss: 0.4275 - accuracy: 0.8327 - val_loss: 0.4532 - val_accuracy: 0.8221\n",
            "Epoch 67/100\n",
            "1875/1875 [==============================] - 38s 20ms/step - loss: 0.4190 - accuracy: 0.8363 - val_loss: 0.4230 - val_accuracy: 0.8349\n",
            "Epoch 68/100\n",
            "1875/1875 [==============================] - 38s 20ms/step - loss: 0.4100 - accuracy: 0.8396 - val_loss: 0.4049 - val_accuracy: 0.8421\n",
            "Epoch 69/100\n",
            "1875/1875 [==============================] - 38s 20ms/step - loss: 0.3989 - accuracy: 0.8439 - val_loss: 0.4384 - val_accuracy: 0.8259\n",
            "Epoch 70/100\n",
            "1875/1875 [==============================] - 38s 20ms/step - loss: 0.3895 - accuracy: 0.8485 - val_loss: 0.4125 - val_accuracy: 0.8390\n",
            "Epoch 71/100\n",
            "1875/1875 [==============================] - 38s 20ms/step - loss: 0.3783 - accuracy: 0.8530 - val_loss: 0.3759 - val_accuracy: 0.8532\n",
            "Epoch 72/100\n",
            "1875/1875 [==============================] - 38s 20ms/step - loss: 0.3686 - accuracy: 0.8574 - val_loss: 0.3803 - val_accuracy: 0.8489\n",
            "Epoch 73/100\n",
            "1875/1875 [==============================] - 38s 20ms/step - loss: 0.3674 - accuracy: 0.8583 - val_loss: 0.4162 - val_accuracy: 0.8331\n",
            "Epoch 74/100\n",
            "1875/1875 [==============================] - 38s 20ms/step - loss: 0.3501 - accuracy: 0.8641 - val_loss: 0.3595 - val_accuracy: 0.8607\n",
            "Epoch 75/100\n",
            "1875/1875 [==============================] - 38s 20ms/step - loss: 0.3429 - accuracy: 0.8677 - val_loss: 0.3888 - val_accuracy: 0.8513\n",
            "Epoch 76/100\n",
            "1875/1875 [==============================] - 38s 20ms/step - loss: 0.3339 - accuracy: 0.8715 - val_loss: 0.3680 - val_accuracy: 0.8560\n",
            "Epoch 77/100\n",
            "1875/1875 [==============================] - 39s 21ms/step - loss: 0.3241 - accuracy: 0.8752 - val_loss: 0.3496 - val_accuracy: 0.8661\n",
            "Epoch 78/100\n",
            "1875/1875 [==============================] - 38s 20ms/step - loss: 0.3164 - accuracy: 0.8782 - val_loss: 0.3486 - val_accuracy: 0.8636\n",
            "Epoch 79/100\n",
            "1875/1875 [==============================] - 38s 20ms/step - loss: 0.3068 - accuracy: 0.8832 - val_loss: 0.3120 - val_accuracy: 0.8771\n",
            "Epoch 80/100\n",
            "1875/1875 [==============================] - 38s 20ms/step - loss: 0.3020 - accuracy: 0.8846 - val_loss: 0.3278 - val_accuracy: 0.8737\n",
            "Epoch 81/100\n",
            "1875/1875 [==============================] - 38s 20ms/step - loss: 0.2938 - accuracy: 0.8877 - val_loss: 0.3173 - val_accuracy: 0.8797\n",
            "Epoch 82/100\n",
            "1875/1875 [==============================] - 38s 20ms/step - loss: 0.2847 - accuracy: 0.8907 - val_loss: 0.3214 - val_accuracy: 0.8781\n",
            "Epoch 83/100\n",
            "1875/1875 [==============================] - 38s 20ms/step - loss: 0.2768 - accuracy: 0.8941 - val_loss: 0.3002 - val_accuracy: 0.8856\n",
            "Epoch 84/100\n",
            "1875/1875 [==============================] - 38s 20ms/step - loss: 0.2720 - accuracy: 0.8961 - val_loss: 0.2760 - val_accuracy: 0.8958\n",
            "Epoch 85/100\n",
            "1875/1875 [==============================] - 38s 20ms/step - loss: 0.2664 - accuracy: 0.8993 - val_loss: 0.3164 - val_accuracy: 0.8813\n",
            "Epoch 86/100\n",
            "1875/1875 [==============================] - 39s 21ms/step - loss: 0.2557 - accuracy: 0.9027 - val_loss: 0.2760 - val_accuracy: 0.8949\n",
            "Epoch 87/100\n",
            "1875/1875 [==============================] - 38s 20ms/step - loss: 0.2487 - accuracy: 0.9065 - val_loss: 0.2904 - val_accuracy: 0.8912\n",
            "Epoch 88/100\n",
            "1875/1875 [==============================] - 38s 20ms/step - loss: 0.2405 - accuracy: 0.9093 - val_loss: 0.2746 - val_accuracy: 0.8970\n",
            "Epoch 89/100\n",
            "1875/1875 [==============================] - 39s 21ms/step - loss: 0.2342 - accuracy: 0.9113 - val_loss: 0.2737 - val_accuracy: 0.8963\n",
            "Epoch 90/100\n",
            "1875/1875 [==============================] - 38s 20ms/step - loss: 0.2288 - accuracy: 0.9139 - val_loss: 0.2634 - val_accuracy: 0.8997\n",
            "Epoch 91/100\n",
            "1875/1875 [==============================] - 38s 20ms/step - loss: 0.2231 - accuracy: 0.9162 - val_loss: 0.2695 - val_accuracy: 0.8993\n",
            "Epoch 92/100\n",
            "1875/1875 [==============================] - 38s 20ms/step - loss: 0.2179 - accuracy: 0.9182 - val_loss: 0.2535 - val_accuracy: 0.9051\n",
            "Epoch 93/100\n",
            "1875/1875 [==============================] - 39s 21ms/step - loss: 0.2111 - accuracy: 0.9207 - val_loss: 0.2324 - val_accuracy: 0.9127\n",
            "Epoch 94/100\n",
            "1875/1875 [==============================] - 39s 21ms/step - loss: 0.2042 - accuracy: 0.9224 - val_loss: 0.2618 - val_accuracy: 0.9037\n",
            "Epoch 95/100\n",
            "1875/1875 [==============================] - 38s 20ms/step - loss: 0.2015 - accuracy: 0.9252 - val_loss: 0.2581 - val_accuracy: 0.9077\n",
            "Epoch 96/100\n",
            "1875/1875 [==============================] - 38s 20ms/step - loss: 0.1942 - accuracy: 0.9273 - val_loss: 0.2319 - val_accuracy: 0.9129\n",
            "Epoch 97/100\n",
            "1875/1875 [==============================] - 39s 21ms/step - loss: 0.1913 - accuracy: 0.9283 - val_loss: 0.2315 - val_accuracy: 0.9149\n",
            "Epoch 98/100\n",
            "1875/1875 [==============================] - 39s 21ms/step - loss: 0.1863 - accuracy: 0.9306 - val_loss: 0.2113 - val_accuracy: 0.9212\n",
            "Epoch 99/100\n",
            "1875/1875 [==============================] - 38s 20ms/step - loss: 0.1814 - accuracy: 0.9325 - val_loss: 0.2385 - val_accuracy: 0.9159\n",
            "Epoch 100/100\n",
            "1875/1875 [==============================] - 38s 20ms/step - loss: 0.1777 - accuracy: 0.9338 - val_loss: 0.2300 - val_accuracy: 0.9162\n"
          ]
        }
      ],
      "source": [
        "history = model.fit(X_train, y_train, batch_size=64, epochs=100, validation_data=(X_val, y_val))\n",
        "#model.save('NewAllDataModel_E50_B64.h5')"
      ]
    },
    {
      "cell_type": "code",
      "execution_count": 30,
      "metadata": {
        "id": "R7QQeqVidKBR",
        "colab": {
          "base_uri": "https://localhost:8080/"
        },
        "outputId": "3977c819-5b1b-4196-c1d3-b44380a8e6ee"
      },
      "outputs": [
        {
          "output_type": "stream",
          "name": "stdout",
          "text": [
            "469/469 [==============================] - 3s 7ms/step - loss: 0.2390 - accuracy: 0.9117\n"
          ]
        }
      ],
      "source": [
        "test_acc = model.evaluate(X_test, y_test)"
      ]
    },
    {
      "cell_type": "code",
      "source": [
        "test_acc"
      ],
      "metadata": {
        "id": "6fuTmgGrUgGg",
        "colab": {
          "base_uri": "https://localhost:8080/"
        },
        "outputId": "17bb0fed-4dd7-47e0-fbe1-ff1598bc4156"
      },
      "execution_count": 31,
      "outputs": [
        {
          "output_type": "execute_result",
          "data": {
            "text/plain": [
              "[0.23896239697933197, 0.9116666913032532]"
            ]
          },
          "metadata": {},
          "execution_count": 31
        }
      ]
    },
    {
      "cell_type": "code",
      "execution_count": 32,
      "metadata": {
        "id": "OHpifyqGdKn-",
        "colab": {
          "base_uri": "https://localhost:8080/"
        },
        "outputId": "ed9b48f8-e260-40db-a28e-53709e536645"
      },
      "outputs": [
        {
          "output_type": "stream",
          "name": "stdout",
          "text": [
            "469/469 [==============================] - 3s 5ms/step\n"
          ]
        }
      ],
      "source": [
        "y_test_prob = model.predict(X_test, verbose=1)"
      ]
    },
    {
      "cell_type": "code",
      "source": [
        "np.set_printoptions(suppress=True)\n",
        "y_test_prob_backup = y_test_prob\n",
        "y_test_prob"
      ],
      "metadata": {
        "id": "rRPswrrkmhp2",
        "colab": {
          "base_uri": "https://localhost:8080/"
        },
        "outputId": "1800f15d-01ba-45f7-b63a-66094c8738bd"
      },
      "execution_count": 33,
      "outputs": [
        {
          "output_type": "execute_result",
          "data": {
            "text/plain": [
              "array([[0.00000076, 0.0000048 , 0.00014127, ..., 0.00050621, 0.00000208,\n",
              "        0.00000022],\n",
              "       [0.9999771 , 0.00001655, 0.        , ..., 0.00000003, 0.00000224,\n",
              "        0.00000407],\n",
              "       [0.00001373, 0.0000037 , 0.0017536 , ..., 0.97808456, 0.00099525,\n",
              "        0.00005759],\n",
              "       ...,\n",
              "       [0.00002155, 0.00014594, 0.01383497, ..., 0.00168221, 0.8151815 ,\n",
              "        0.08512691],\n",
              "       [0.00000008, 0.00000002, 0.00014216, ..., 0.9967721 , 0.00007322,\n",
              "        0.00000031],\n",
              "       [0.00000085, 0.99999523, 0.00000391, ..., 0.        , 0.        ,\n",
              "        0.        ]], dtype=float32)"
            ]
          },
          "metadata": {},
          "execution_count": 33
        }
      ]
    },
    {
      "cell_type": "code",
      "execution_count": 34,
      "metadata": {
        "id": "AfmdrBILdMwj"
      },
      "outputs": [],
      "source": [
        "y_test_pred = np.where(y_test_prob > 0.5, 1, 0)"
      ]
    },
    {
      "cell_type": "code",
      "execution_count": 35,
      "metadata": {
        "id": "8DoJy_p9dPzN"
      },
      "outputs": [],
      "source": [
        "from sklearn.metrics import multilabel_confusion_matrix"
      ]
    },
    {
      "cell_type": "code",
      "source": [
        "y_test"
      ],
      "metadata": {
        "id": "n1Us2yrfcGl-",
        "colab": {
          "base_uri": "https://localhost:8080/"
        },
        "outputId": "0edefd26-cc5f-4c11-e544-318b0fa838e9"
      },
      "execution_count": 36,
      "outputs": [
        {
          "output_type": "execute_result",
          "data": {
            "text/plain": [
              "array([[0., 0., 0., ..., 0., 0., 0.],\n",
              "       [1., 0., 0., ..., 0., 0., 0.],\n",
              "       [0., 0., 0., ..., 1., 0., 0.],\n",
              "       ...,\n",
              "       [0., 0., 0., ..., 0., 1., 0.],\n",
              "       [0., 0., 0., ..., 1., 0., 0.],\n",
              "       [0., 1., 0., ..., 0., 0., 0.]])"
            ]
          },
          "metadata": {},
          "execution_count": 36
        }
      ]
    },
    {
      "cell_type": "code",
      "source": [
        "y_test.shape"
      ],
      "metadata": {
        "id": "VnmvTcvWbxr9",
        "colab": {
          "base_uri": "https://localhost:8080/"
        },
        "outputId": "0bfb2384-818c-426e-9290-53da25be5ae9"
      },
      "execution_count": 37,
      "outputs": [
        {
          "output_type": "execute_result",
          "data": {
            "text/plain": [
              "(15000, 8)"
            ]
          },
          "metadata": {},
          "execution_count": 37
        }
      ]
    },
    {
      "cell_type": "code",
      "source": [
        "y_test_pred"
      ],
      "metadata": {
        "id": "nMBOgzrgcJBj",
        "colab": {
          "base_uri": "https://localhost:8080/"
        },
        "outputId": "9b31b3dc-f559-455a-cf98-e06e287919a3"
      },
      "execution_count": 38,
      "outputs": [
        {
          "output_type": "execute_result",
          "data": {
            "text/plain": [
              "array([[0, 0, 0, ..., 0, 0, 0],\n",
              "       [1, 0, 0, ..., 0, 0, 0],\n",
              "       [0, 0, 0, ..., 1, 0, 0],\n",
              "       ...,\n",
              "       [0, 0, 0, ..., 0, 1, 0],\n",
              "       [0, 0, 0, ..., 1, 0, 0],\n",
              "       [0, 1, 0, ..., 0, 0, 0]])"
            ]
          },
          "metadata": {},
          "execution_count": 38
        }
      ]
    },
    {
      "cell_type": "code",
      "source": [
        "y_test_pred.shape"
      ],
      "metadata": {
        "id": "SXKZof8Ye5uI",
        "colab": {
          "base_uri": "https://localhost:8080/"
        },
        "outputId": "93305c5d-8052-4143-8a07-faf44113b243"
      },
      "execution_count": 39,
      "outputs": [
        {
          "output_type": "execute_result",
          "data": {
            "text/plain": [
              "(15000, 8)"
            ]
          },
          "metadata": {},
          "execution_count": 39
        }
      ]
    },
    {
      "cell_type": "code",
      "source": [
        "y_decoded_pred = tf.argmax(y_test_pred, axis = 1)"
      ],
      "metadata": {
        "id": "leDQwKOjgwwi"
      },
      "execution_count": 40,
      "outputs": []
    },
    {
      "cell_type": "code",
      "source": [
        "y_decoded = tf.argmax(y_test, axis = 1)"
      ],
      "metadata": {
        "id": "sAHRmtesif6g"
      },
      "execution_count": 41,
      "outputs": []
    },
    {
      "cell_type": "code",
      "source": [
        "y_decoded_pred"
      ],
      "metadata": {
        "id": "_lvFhrmPhprD",
        "colab": {
          "base_uri": "https://localhost:8080/"
        },
        "outputId": "a1d3fcfa-49de-499a-ccf8-afb6a05326ad"
      },
      "execution_count": 42,
      "outputs": [
        {
          "output_type": "execute_result",
          "data": {
            "text/plain": [
              "<tf.Tensor: shape=(15000,), dtype=int64, numpy=array([3, 0, 5, ..., 6, 5, 1])>"
            ]
          },
          "metadata": {},
          "execution_count": 42
        }
      ]
    },
    {
      "cell_type": "code",
      "source": [
        "y_decoded"
      ],
      "metadata": {
        "id": "YV1FXgHviPwm",
        "colab": {
          "base_uri": "https://localhost:8080/"
        },
        "outputId": "2b33344e-1939-4743-f1ef-ba86fbdc560a"
      },
      "execution_count": 43,
      "outputs": [
        {
          "output_type": "execute_result",
          "data": {
            "text/plain": [
              "<tf.Tensor: shape=(15000,), dtype=int64, numpy=array([3, 0, 5, ..., 6, 5, 1])>"
            ]
          },
          "metadata": {},
          "execution_count": 43
        }
      ]
    },
    {
      "cell_type": "code",
      "source": [
        "y_test_pred = y_decoded_pred\n"
      ],
      "metadata": {
        "id": "6-6jFqzGh380"
      },
      "execution_count": 44,
      "outputs": []
    },
    {
      "cell_type": "code",
      "source": [
        "y_test = y_decoded"
      ],
      "metadata": {
        "id": "9pogVvdIiwss"
      },
      "execution_count": 45,
      "outputs": []
    },
    {
      "cell_type": "code",
      "source": [
        "y_test"
      ],
      "metadata": {
        "id": "oGt5aJetiKR6",
        "colab": {
          "base_uri": "https://localhost:8080/"
        },
        "outputId": "625c0cfd-8bff-4f13-aa80-ed57438f71dd"
      },
      "execution_count": 46,
      "outputs": [
        {
          "output_type": "execute_result",
          "data": {
            "text/plain": [
              "<tf.Tensor: shape=(15000,), dtype=int64, numpy=array([3, 0, 5, ..., 6, 5, 1])>"
            ]
          },
          "metadata": {},
          "execution_count": 46
        }
      ]
    },
    {
      "cell_type": "code",
      "source": [
        "y_test_pred"
      ],
      "metadata": {
        "id": "fLgDwAIfiyv2",
        "colab": {
          "base_uri": "https://localhost:8080/"
        },
        "outputId": "ec8cc67d-ab3c-4c92-c703-7345849799af"
      },
      "execution_count": 47,
      "outputs": [
        {
          "output_type": "execute_result",
          "data": {
            "text/plain": [
              "<tf.Tensor: shape=(15000,), dtype=int64, numpy=array([3, 0, 5, ..., 6, 5, 1])>"
            ]
          },
          "metadata": {},
          "execution_count": 47
        }
      ]
    },
    {
      "cell_type": "code",
      "execution_count": 48,
      "metadata": {
        "id": "fTCsPjW8dQaZ"
      },
      "outputs": [],
      "source": [
        "cfm=confusion_matrix(y_test, y_test_pred)"
      ]
    },
    {
      "cell_type": "code",
      "source": [
        "cfm"
      ],
      "metadata": {
        "id": "_67lPg6ic4cH",
        "colab": {
          "base_uri": "https://localhost:8080/"
        },
        "outputId": "2c6c0947-7967-438e-8341-0b3335c77b48"
      },
      "execution_count": 49,
      "outputs": [
        {
          "output_type": "execute_result",
          "data": {
            "text/plain": [
              "array([[1818,    2,    0,    0,    0,    0,    0,    0],\n",
              "       [  18, 1818,    2,    0,    0,    0,    0,    7],\n",
              "       [  42,    3, 1738,   87,   18,   16,   22,    5],\n",
              "       [  50,    0,   24, 1610,   88,   33,    5,    0],\n",
              "       [  58,    0,   13,   68, 1640,   65,   44,    6],\n",
              "       [  79,    0,   47,   95,   88, 1587,   38,    6],\n",
              "       [  54,    0,   35,   11,   40,   23, 1623,   92],\n",
              "       [  26,    2,   17,    0,    3,    5,  133, 1696]])"
            ]
          },
          "metadata": {},
          "execution_count": 49
        }
      ]
    },
    {
      "cell_type": "code",
      "source": [
        " print(classification_report(y_test,y_test_pred))"
      ],
      "metadata": {
        "id": "XTqR_xnwRWCJ",
        "colab": {
          "base_uri": "https://localhost:8080/"
        },
        "outputId": "f7f78e58-c86e-4413-bafb-e54a50f036f8"
      },
      "execution_count": 50,
      "outputs": [
        {
          "output_type": "stream",
          "name": "stdout",
          "text": [
            "              precision    recall  f1-score   support\n",
            "\n",
            "           0       0.85      1.00      0.92      1820\n",
            "           1       1.00      0.99      0.99      1845\n",
            "           2       0.93      0.90      0.91      1931\n",
            "           3       0.86      0.89      0.87      1810\n",
            "           4       0.87      0.87      0.87      1894\n",
            "           5       0.92      0.82      0.87      1940\n",
            "           6       0.87      0.86      0.87      1878\n",
            "           7       0.94      0.90      0.92      1882\n",
            "\n",
            "    accuracy                           0.90     15000\n",
            "   macro avg       0.90      0.90      0.90     15000\n",
            "weighted avg       0.90      0.90      0.90     15000\n",
            "\n"
          ]
        }
      ]
    },
    {
      "cell_type": "code",
      "execution_count": 51,
      "metadata": {
        "id": "te3fslrY9Eca",
        "colab": {
          "base_uri": "https://localhost:8080/",
          "height": 903
        },
        "outputId": "e2ce6ce8-ced0-4e24-85d1-5b9e16691998"
      },
      "outputs": [
        {
          "output_type": "stream",
          "name": "stdout",
          "text": [
            "Confusion matrix, without normalization\n",
            "[[1818    2    0    0    0    0    0    0]\n",
            " [  18 1818    2    0    0    0    0    7]\n",
            " [  42    3 1738   87   18   16   22    5]\n",
            " [  50    0   24 1610   88   33    5    0]\n",
            " [  58    0   13   68 1640   65   44    6]\n",
            " [  79    0   47   95   88 1587   38    6]\n",
            " [  54    0   35   11   40   23 1623   92]\n",
            " [  26    2   17    0    3    5  133 1696]]\n",
            "Normalized confusion matrix\n",
            "[[1.   0.   0.   0.   0.   0.   0.   0.  ]\n",
            " [0.01 0.99 0.   0.   0.   0.   0.   0.  ]\n",
            " [0.02 0.   0.9  0.05 0.01 0.01 0.01 0.  ]\n",
            " [0.03 0.   0.01 0.89 0.05 0.02 0.   0.  ]\n",
            " [0.03 0.   0.01 0.04 0.87 0.03 0.02 0.  ]\n",
            " [0.04 0.   0.02 0.05 0.05 0.82 0.02 0.  ]\n",
            " [0.03 0.   0.02 0.01 0.02 0.01 0.86 0.05]\n",
            " [0.01 0.   0.01 0.   0.   0.   0.07 0.9 ]]\n"
          ]
        },
        {
          "output_type": "display_data",
          "data": {
            "text/plain": [
              "<Figure size 432x288 with 2 Axes>"
            ],
            "image/png": "[encoded data removed]"
          },
          "metadata": {
            "needs_background": "light"
          }
        },
        {
          "output_type": "display_data",
          "data": {
            "text/plain": [
              "<Figure size 432x288 with 2 Axes>"
            ],
            "image/png": "[encoded data removed]"
          },
          "metadata": {
            "needs_background": "light"
          }
        }
      ],
      "source": [
        "import numpy as np\n",
        "import matplotlib.pyplot as plt\n",
        "\n",
        "from sklearn import svm, datasets\n",
        "from sklearn.model_selection import train_test_split\n",
        "from sklearn.metrics import confusion_matrix\n",
        "from sklearn.utils.multiclass import unique_labels\n",
        "\n",
        "class_names = np.array(['0', '1', '2', '3', '4', '5', '6', '7'])\n",
        "\n",
        "def plot_confusion_matrix(y_true, y_pred, classes,\n",
        "                          normalize=False,\n",
        "                          title=None,\n",
        "                          cmap=plt.cm.Blues):\n",
        "    \"\"\"\n",
        "    This function prints and plots the confusion matrix.\n",
        "    Normalization can be applied by setting `normalize=True`.\n",
        "    \"\"\"\n",
        "    if not title:\n",
        "        if normalize:\n",
        "            title = 'Normalized confusion matrix'\n",
        "        else:\n",
        "            title = 'Confusion matrix, without normalization'\n",
        "\n",
        "    # Compute confusion matrix\n",
        "    cm = confusion_matrix(y_true, y_pred)\n",
        "    # Only use the labels that appear in the data\n",
        "    classes = classes[unique_labels(y_true, y_pred)]\n",
        "    if normalize:\n",
        "        cm = cm.astype('float') / cm.sum(axis=1)[:, np.newaxis]\n",
        "        print(\"Normalized confusion matrix\")\n",
        "    else:\n",
        "        print('Confusion matrix, without normalization')\n",
        "\n",
        "    print(cm)\n",
        "\n",
        "    fig, ax = plt.subplots()\n",
        "    im = ax.imshow(cm, interpolation='nearest', cmap=cmap)\n",
        "    ax.figure.colorbar(im, ax=ax)\n",
        "    # We want to show all ticks...\n",
        "    ax.set(xticks=np.arange(cm.shape[1]),\n",
        "           yticks=np.arange(cm.shape[0]),\n",
        "           # ... and label them with the respective list entries\n",
        "           xticklabels=classes, yticklabels=classes,\n",
        "           title=title,\n",
        "           ylabel='True label',\n",
        "           xlabel='Predicted label')\n",
        "\n",
        "    # Rotate the tick labels and set their alignment.\n",
        "    plt.setp(ax.get_xticklabels(), rotation=45, ha=\"right\",\n",
        "             rotation_mode=\"anchor\")\n",
        "\n",
        "    # Loop over data dimensions and create text annotations.\n",
        "    fmt = '.2f' if normalize else 'd'\n",
        "    thresh = cm.max() / 2.\n",
        "    for i in range(cm.shape[0]):\n",
        "        for j in range(cm.shape[1]):\n",
        "            ax.text(j, i, format(cm[i, j], fmt),\n",
        "                    ha=\"center\", va=\"center\",\n",
        "                    color=\"white\" if cm[i, j] > thresh else \"black\")\n",
        "    fig.tight_layout()\n",
        "\n",
        "    return ax\n",
        "\n",
        "\n",
        "np.set_printoptions(precision=2)\n",
        "\n",
        "# Plot non-normalized confusion matrix\n",
        "plot_confusion_matrix(y_test, y_test_pred, classes=class_names,\n",
        "                      title='Confusion matrix, without normalization')\n",
        "\n",
        "# Plot normalized confusion matrix\n",
        "plot_confusion_matrix(y_test, y_test_pred, classes=class_names, normalize=True,\n",
        "                      title='Normalized confusion matrix')\n",
        "\n",
        "plt.show()"
      ]
    },
    {
      "cell_type": "code",
      "execution_count": 52,
      "metadata": {
        "id": "fhdLAhgPUnH3"
      },
      "outputs": [],
      "source": [
        "def plot_learningCurve(history, epoch):\n",
        "  # Plot training & validation accuracy values\n",
        "  epoch_range = range(1, epoch+1)\n",
        "  plt.plot(epoch_range, history.history['accuracy'])\n",
        "  plt.plot(epoch_range, history.history['val_accuracy'])\n",
        "  plt.title('Model accuracy')\n",
        "  plt.ylabel('Accuracy')\n",
        "  plt.xlabel('Epoch')\n",
        "  plt.legend(['Train', 'Val'], loc='upper left')\n",
        "  plt.show()\n",
        "\n",
        "  # Plot training & validation loss values\n",
        "  plt.plot(epoch_range, history.history['loss'])\n",
        "  plt.plot(epoch_range, history.history['val_loss'])\n",
        "  plt.title('Model loss')\n",
        "  plt.ylabel('Loss')\n",
        "  plt.xlabel('Epoch')\n",
        "  plt.legend(['Train', 'Val'], loc='upper left')\n",
        "  plt.show()"
      ]
    },
    {
      "cell_type": "code",
      "execution_count": 53,
      "metadata": {
        "id": "WlkQkWHgU5mL",
        "colab": {
          "base_uri": "https://localhost:8080/",
          "height": 581
        },
        "outputId": "f2a92db2-5141-4830-a588-4c2f245e8a99"
      },
      "outputs": [
        {
          "output_type": "display_data",
          "data": {
            "text/plain": [
              "<Figure size 432x288 with 1 Axes>"
            ],
            "image/png": "[encoded data removed]"
          },
          "metadata": {
            "needs_background": "light"
          }
        },
        {
          "output_type": "display_data",
          "data": {
            "text/plain": [
              "<Figure size 432x288 with 1 Axes>"
            ],
            "image/png": "[encoded data removed]"
          },
          "metadata": {
            "needs_background": "light"
          }
        }
      ],
      "source": [
        "plot_learningCurve(history, 100)"
      ]
    }
  ],
  "metadata": {
    "colab": {
      "collapsed_sections": [
        "f857kfHqUk0-"
      ],
      "name": "Multi_Class_MD_LSTM_step_200_files_120.ipynb",
      "provenance": [],
      "include_colab_link": true
    },
    "kernelspec": {
      "display_name": "Python 3",
      "name": "python3"
    },
    "language_info": {
      "name": "python"
    },
    "accelerator": "GPU"
  },
  "nbformat": 4,
  "nbformat_minor": 0
}
