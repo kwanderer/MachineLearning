{
  "cells": [
    {
      "cell_type": "markdown",
      "metadata": {
        "id": "view-in-github",
        "colab_type": "text"
      },
      "source": [
        "<a href=\"https://colab.research.google.com/github/kwanderer/MachineLearning/blob/main/Multi_Class_MD_LSTM_step_200_files_120_neiron_150_1.ipynb\" target=\"_parent\"><img src=\"https://colab.research.google.com/assets/colab-badge.svg\" alt=\"Open In Colab\"/></a>"
      ]
    },
    {
      "cell_type": "markdown",
      "metadata": {
        "id": "f857kfHqUk0-"
      },
      "source": [
        "\n",
        "\n",
        "#Datu kopa"
      ]
    },
    {
      "cell_type": "markdown",
      "metadata": {
        "id": "nM9WE3QGUwVi"
      },
      "source": [
        "Datu kopas avots: https://www.kaggle.com/uysalserkan/fault-induction-motor-dataset"
      ]
    },
    {
      "cell_type": "markdown",
      "metadata": {
        "id": "_sN_h3qHHy6r"
      },
      "source": [
        "Darbā tiek izmantota indukcijas motora parametru datu bāze. Izmantotajā datu kopā ir dati, kas tika iegūti SpectraQuest aparatūras kļūdu simulatorā (Machinery Fault Simulator).\n",
        "\n",
        "Katra mērījumu secība tika ģenerēta ar frekvenci 50 kHz 5 sekunžu laikā, kopā 250 000 mērījumi.\n",
        "\n",
        "Dati ir apkopoti vairākos failos, dažādos darbības stāvokļos un to apjoms ir ļoti liels. Šajā darbā tika izmantota daļa(viena mērījumu secība) no motora normālas darbības datiem.\n"
      ]
    },
    {
      "cell_type": "markdown",
      "metadata": {
        "id": "KtFAOaHYHLPo"
      },
      "source": [
        "Dati ir apkopoti tabulā, kura satur 8 parametrus. Dati ir iedalīti sekojošās kolonas:\n",
        "\n",
        "**tachometer** – tahometra signāls, kas ļauj novērtēt rotācijas frekvenci\n",
        "\n",
        "**und-accelerometer-axial** - apakšā esošā gultņa akselerometrs (aksiālais virziens)\n",
        "\n",
        "**und-accelerometer-radial** – apakšā esošā gultņa akselerometrs (radiālais virziens)\n",
        "\n",
        "**und-accelerometer-tangential** - apakšā esošā gultņa akselerometrs (tangenciālais virziens)\n",
        "\n",
        "**over-accelerometer-axial** - pārkares gultņa akselerometrs (aksiālais virziens)\n",
        "\n",
        "**over-accelerometer-radial** – pārkares gultņa akselerometrs (radiālais  virziens)\n",
        "\n",
        "**over-accelerometer-tangential**  - pārkares gultņa akselerometrs (tangenciālais virziens)\n",
        "\n",
        "**microphone** – mikrofona vērtība\n"
      ]
    },
    {
      "cell_type": "markdown",
      "metadata": {
        "id": "XymoNLKMVFUC"
      },
      "source": [
        "#Datu ielasīšana un satura vizualizācija"
      ]
    },
    {
      "cell_type": "code",
      "execution_count": 1,
      "metadata": {
        "id": "_yqYZDeOFq5s"
      },
      "outputs": [],
      "source": [
        "import keras\n",
        "from keras.layers import LSTM, Dropout, Dense\n",
        "import tensorflow as tf\n",
        "import numpy as np\n",
        "import pandas as pd\n",
        "\n",
        "from sklearn import linear_model  #pip install sklearn - loti plasa masinapmacibas biblioteka\n",
        "from sklearn.linear_model import LinearRegression  \n",
        "import csv          #pip install csv - darbam ar CSV datu kopam\n",
        "import requests     #pip install requests  - vienkarsakam darbam ar tiessaistes CSV datu kopam tiessaistes\n",
        "\n",
        "import matplotlib\n",
        "import matplotlib.pyplot as plt\n",
        "\n",
        "import glob\n"
      ]
    },
    {
      "cell_type": "code",
      "execution_count": 2,
      "metadata": {
        "id": "wlRTBbM2eUcV",
        "colab": {
          "base_uri": "https://localhost:8080/"
        },
        "outputId": "dab9d760-6cc8-4640-8e3f-22c4345846cd"
      },
      "outputs": [
        {
          "output_type": "stream",
          "name": "stdout",
          "text": [
            "Mounted at /content/gdrive\n"
          ]
        }
      ],
      "source": [
        "from google.colab import drive\n",
        "import os\n",
        "drive.mount('/content/gdrive')\n",
        "os.chdir(\"/content/gdrive/MyDrive/Colab Notebooks/data_multiclass/\")"
      ]
    },
    {
      "cell_type": "code",
      "execution_count": 3,
      "metadata": {
        "id": "zzz6fBl_SNom"
      },
      "outputs": [],
      "source": [
        "#extension = 'csv'\n",
        "#all_filenames = [i for i in glob.glob('*.{}'.format(extension))]"
      ]
    },
    {
      "cell_type": "code",
      "execution_count": 4,
      "metadata": {
        "id": "vagKFCkToBi0"
      },
      "outputs": [],
      "source": [
        "#combine all files in the list\n",
        "#combined_csv = pd.concat([pd.read_csv(f) for f in all_filenames ])\n",
        "#export to csv\n",
        "#combined_csv.to_csv( \"combined_multiclass_csv.csv\", index=False, encoding='utf-8-sig')"
      ]
    },
    {
      "cell_type": "code",
      "execution_count": 5,
      "metadata": {
        "id": "encEkbDhSfGI"
      },
      "outputs": [],
      "source": [
        "data = pd.read_csv(\"combined_multiclass_csv.csv\")"
      ]
    },
    {
      "cell_type": "code",
      "execution_count": 6,
      "metadata": {
        "id": "yz5Qe8ZWk1Zq",
        "colab": {
          "base_uri": "https://localhost:8080/"
        },
        "outputId": "d2ee9836-98ac-4b58-bfe1-75fc19234d3d"
      },
      "outputs": [
        {
          "output_type": "stream",
          "name": "stdout",
          "text": [
            "<class 'pandas.core.frame.DataFrame'>\n",
            "RangeIndex: 30000000 entries, 0 to 29999999\n",
            "Data columns (total 9 columns):\n",
            " #   Column                         Dtype  \n",
            "---  ------                         -----  \n",
            " 0   tachometer                     float64\n",
            " 1   und-accelerometer-axial        float64\n",
            " 2   und-accelerometer-radial       float64\n",
            " 3   und-accelerometer-tangential   float64\n",
            " 4   over-accelerometer-axial       float64\n",
            " 5   over-accelerometer-radial      float64\n",
            " 6   over-accelerometer-tangential  float64\n",
            " 7   microphone                     float64\n",
            " 8   Class                          int64  \n",
            "dtypes: float64(8), int64(1)\n",
            "memory usage: 2.0 GB\n"
          ]
        }
      ],
      "source": [
        "data.info()"
      ]
    },
    {
      "cell_type": "code",
      "execution_count": 7,
      "metadata": {
        "id": "WUW9ezX6a_st",
        "colab": {
          "base_uri": "https://localhost:8080/"
        },
        "outputId": "01ad7464-257f-4178-df12-7dd6f0d091d8"
      },
      "outputs": [
        {
          "output_type": "execute_result",
          "data": {
            "text/plain": [
              "30000000"
            ]
          },
          "metadata": {},
          "execution_count": 7
        }
      ],
      "source": [
        "rec_count = len(data)\n",
        "rec_count"
      ]
    },
    {
      "cell_type": "markdown",
      "metadata": {
        "id": "6RVC1PZy88fC"
      },
      "source": [
        "# Datu dalīšana mazākos gabalos"
      ]
    },
    {
      "cell_type": "code",
      "execution_count": 8,
      "metadata": {
        "id": "DOvnCYkcbGaE"
      },
      "outputs": [],
      "source": [
        "sequence_length = 200"
      ]
    },
    {
      "cell_type": "code",
      "execution_count": 9,
      "metadata": {
        "id": "RG0o2L3zbTEx"
      },
      "outputs": [],
      "source": [
        "def generate_data(X, y, sequence_length = 200, step = 200):\n",
        "    X_local = []\n",
        "    y_local = []\n",
        "    for start in range(0, len(data) - sequence_length, step):\n",
        "        end = start + sequence_length\n",
        "        X_local.append(X[start:end])\n",
        "        y_local.append(y[end-1])\n",
        "    return np.array(X_local), np.array(y_local)\n",
        "\n",
        "X_sequence, y = generate_data(data.loc[:, \"tachometer\":\"microphone\"].values, data.Class)"
      ]
    },
    {
      "cell_type": "code",
      "execution_count": 10,
      "metadata": {
        "id": "s0QxwK66cLVF",
        "colab": {
          "base_uri": "https://localhost:8080/"
        },
        "outputId": "66e86ff1-9906-430e-966c-7c51207f5adf"
      },
      "outputs": [
        {
          "output_type": "execute_result",
          "data": {
            "text/plain": [
              "((149999, 200, 8), (149999,))"
            ]
          },
          "metadata": {},
          "execution_count": 10
        }
      ],
      "source": [
        "X_sequence.shape, y.shape"
      ]
    },
    {
      "cell_type": "code",
      "source": [
        "unique, counts = np.unique(y, return_counts=True)"
      ],
      "metadata": {
        "id": "l8Lq455lV1JR"
      },
      "execution_count": 11,
      "outputs": []
    },
    {
      "cell_type": "code",
      "source": [
        "unique"
      ],
      "metadata": {
        "id": "t0BRO3nAWQxe",
        "colab": {
          "base_uri": "https://localhost:8080/"
        },
        "outputId": "1ccdc00b-8c2f-4cb2-f07f-07636ba4e22b"
      },
      "execution_count": 12,
      "outputs": [
        {
          "output_type": "execute_result",
          "data": {
            "text/plain": [
              "array([0, 1, 2, 3, 4, 5, 6, 7])"
            ]
          },
          "metadata": {},
          "execution_count": 12
        }
      ]
    },
    {
      "cell_type": "code",
      "source": [
        "counts"
      ],
      "metadata": {
        "id": "WWZ7QWR4WS_r",
        "colab": {
          "base_uri": "https://localhost:8080/"
        },
        "outputId": "1228be84-663d-4d77-c813-aba3aea2c24e"
      },
      "execution_count": 13,
      "outputs": [
        {
          "output_type": "execute_result",
          "data": {
            "text/plain": [
              "array([18749, 18750, 18750, 18750, 18750, 18750, 18750, 18750])"
            ]
          },
          "metadata": {},
          "execution_count": 13
        }
      ]
    },
    {
      "cell_type": "code",
      "execution_count": 14,
      "metadata": {
        "id": "i7R1oo6Mj8wx"
      },
      "outputs": [],
      "source": [
        "data = 0"
      ]
    },
    {
      "cell_type": "code",
      "source": [
        "from sklearn.preprocessing import OneHotEncoder"
      ],
      "metadata": {
        "id": "lAk_JscRWmqY"
      },
      "execution_count": 15,
      "outputs": []
    },
    {
      "cell_type": "code",
      "source": [
        "label_encoder = OneHotEncoder(sparse=False)\n",
        "label_encoder.fit(y.reshape(-1,1))"
      ],
      "metadata": {
        "id": "14B9aYy0W0y6",
        "colab": {
          "base_uri": "https://localhost:8080/"
        },
        "outputId": "5daa3b79-b3fd-42ce-a8d5-bce8d6c94ba9"
      },
      "execution_count": 16,
      "outputs": [
        {
          "output_type": "execute_result",
          "data": {
            "text/plain": [
              "OneHotEncoder(sparse=False)"
            ]
          },
          "metadata": {},
          "execution_count": 16
        }
      ]
    },
    {
      "cell_type": "code",
      "source": [
        "y_encoded = label_encoder.transform(y.reshape(-1,1))"
      ],
      "metadata": {
        "id": "VjpWn96xXgPS"
      },
      "execution_count": 17,
      "outputs": []
    },
    {
      "cell_type": "code",
      "source": [
        "y_encoded[0:5]"
      ],
      "metadata": {
        "id": "VL6KMFo9XpBi",
        "colab": {
          "base_uri": "https://localhost:8080/"
        },
        "outputId": "f1871af9-e773-4055-f6ee-d0f01a09e6e7"
      },
      "execution_count": 18,
      "outputs": [
        {
          "output_type": "execute_result",
          "data": {
            "text/plain": [
              "array([[0., 0., 0., 0., 0., 0., 0., 1.],\n",
              "       [0., 0., 0., 0., 0., 0., 0., 1.],\n",
              "       [0., 0., 0., 0., 0., 0., 0., 1.],\n",
              "       [0., 0., 0., 0., 0., 0., 0., 1.],\n",
              "       [0., 0., 0., 0., 0., 0., 0., 1.]])"
            ]
          },
          "metadata": {},
          "execution_count": 18
        }
      ]
    },
    {
      "cell_type": "code",
      "source": [
        "y=y_encoded"
      ],
      "metadata": {
        "id": "5c8km253YKBl"
      },
      "execution_count": 19,
      "outputs": []
    },
    {
      "cell_type": "markdown",
      "metadata": {
        "id": "5BXSDoHa9UX_"
      },
      "source": [
        "# Random/Shuffle"
      ]
    },
    {
      "cell_type": "code",
      "execution_count": 20,
      "metadata": {
        "id": "ZcfE9idy-ckb"
      },
      "outputs": [],
      "source": [
        "shuffler = np.random.permutation(len(X_sequence))\n",
        "X_sequence_shuffled = X_sequence[shuffler]\n",
        "y_shuffled = y[shuffler]"
      ]
    },
    {
      "cell_type": "markdown",
      "metadata": {
        "id": "TfhRTTNcE2s8"
      },
      "source": [
        "# LSTM"
      ]
    },
    {
      "cell_type": "code",
      "execution_count": 21,
      "metadata": {
        "id": "ihrXMuVAEwlY"
      },
      "outputs": [],
      "source": [
        "import pandas as pd\n",
        "import sklearn.metrics as metrique\n",
        "from pandas import Series\n",
        "from sklearn.preprocessing import StandardScaler, MinMaxScaler\n",
        "from matplotlib import pyplot\n",
        "from sklearn.model_selection import train_test_split\n",
        "import numpy as np\n",
        "import tensorflow as tf\n",
        "import sys\n",
        "import numpy as np\n",
        "import pandas as pd\n",
        "import tensorflow as tf\n",
        "import matplotlib.pyplot as plt\n",
        "from sklearn.model_selection import train_test_split\n",
        "from sklearn import preprocessing\n",
        "from sklearn.preprocessing import StandardScaler\n",
        "from sklearn.metrics import classification_report\n",
        "import warnings\n",
        "warnings.filterwarnings('ignore')\n",
        "plt.style.use('ggplot')\n",
        "import seaborn as sns \n",
        "%matplotlib inline\n",
        "from keras.callbacks import EarlyStopping\n",
        "from keras.callbacks import ModelCheckpoint\n",
        "from sklearn.metrics import accuracy_score\n",
        "from sklearn.metrics import classification_report, confusion_matrix\n",
        "from keras.models import Sequential\n",
        "from keras.utils import np_utils\n",
        "from keras.layers import LSTM, Dense, Embedding, Dropout,Input, Layer, Concatenate, Permute, Dot, Multiply, Flatten\n",
        "from keras.layers import RepeatVector, Dense, Activation, Lambda\n",
        "from keras.models import Sequential\n",
        "from keras import backend as K, regularizers, Model, metrics\n",
        "from keras.backend import cast"
      ]
    },
    {
      "cell_type": "code",
      "execution_count": 22,
      "metadata": {
        "id": "PjKWKiA6aH3z"
      },
      "outputs": [],
      "source": [
        "#from tensorflow.keras import optimizers\n",
        "#sgd = optimizers.SGD(lr=0.0001, decay=1e-6, momentum=0.9, nesterov=True)\n",
        "#model = keras.Sequential()\n",
        "#model.add(LSTM(100, input_shape = (200, 8)))\n",
        "#model.add(Dropout(0.5))\n",
        "#model.add(Dense(1, activation=\"softmax\"))\n",
        "\n",
        "\n",
        "#model.compile(loss=\"categorical_crossentropy\"\n",
        "#              , metrics=[keras.metrics.binary_accuracy]\n",
        "#              , optimizer='sgd')\n",
        "\n",
        "#model.summary()"
      ]
    },
    {
      "cell_type": "code",
      "execution_count": 23,
      "metadata": {
        "id": "_2SaVmwSWJVB",
        "colab": {
          "base_uri": "https://localhost:8080/"
        },
        "outputId": "85cbef23-0bdf-4138-b3c9-fb2911635608"
      },
      "outputs": [
        {
          "output_type": "stream",
          "name": "stdout",
          "text": [
            "Model: \"sequential\"\n",
            "_________________________________________________________________\n",
            " Layer (type)                Output Shape              Param #   \n",
            "=================================================================\n",
            " lstm (LSTM)                 (None, 150)               95400     \n",
            "                                                                 \n",
            " dropout (Dropout)           (None, 150)               0         \n",
            "                                                                 \n",
            " dense (Dense)               (None, 8)                 1208      \n",
            "                                                                 \n",
            "=================================================================\n",
            "Total params: 96,608\n",
            "Trainable params: 96,608\n",
            "Non-trainable params: 0\n",
            "_________________________________________________________________\n"
          ]
        }
      ],
      "source": [
        "from tensorflow.keras import optimizers\n",
        "#sgd = optimizers.SGD(lr=0.0001, decay=1e-6, momentum=0.9, nesterov=True)\n",
        "optimizer = tf.keras.optimizers.Adam(lr=0.0001)\n",
        "model = keras.Sequential()\n",
        "model.add(LSTM(150, input_shape = (200, 8)))\n",
        "model.add(Dropout(0.5))#0.25\n",
        "model.add(Dense(8, activation=\"softmax\"))\n",
        "\n",
        "#model.compile(loss='mean_squared_error', optimizer=sgd)\n",
        "model.compile(loss=\"categorical_crossentropy\"\n",
        "              , metrics=['accuracy']\n",
        "              , optimizer=optimizer)\n",
        "\n",
        "model.summary()"
      ]
    },
    {
      "cell_type": "code",
      "execution_count": 24,
      "metadata": {
        "id": "tg8wrqsqc8UX"
      },
      "outputs": [],
      "source": [
        "training_size = int(len(X_sequence) * 0.8)\n",
        "val_size = int(len(X_sequence) * 0.9)"
      ]
    },
    {
      "cell_type": "code",
      "execution_count": 25,
      "metadata": {
        "id": "avIp3TEKc-qF"
      },
      "outputs": [],
      "source": [
        "X_train, y_train = X_sequence_shuffled[:training_size], y_shuffled[:training_size]\n",
        "X_val, y_val = X_sequence_shuffled[training_size:val_size], y_shuffled[training_size:val_size]\n",
        "X_test, y_test = X_sequence_shuffled[val_size:], y_shuffled[val_size:]"
      ]
    },
    {
      "cell_type": "code",
      "execution_count": 26,
      "metadata": {
        "id": "RABc_uKzkBUT"
      },
      "outputs": [],
      "source": [
        "#X_sequence = 0\n",
        "#y = 0"
      ]
    },
    {
      "cell_type": "code",
      "source": [
        "X_train.shape"
      ],
      "metadata": {
        "id": "Omv-ht1dhGxL",
        "colab": {
          "base_uri": "https://localhost:8080/"
        },
        "outputId": "717cb842-8696-4c3a-f63f-dc53d7fb67ec"
      },
      "execution_count": 27,
      "outputs": [
        {
          "output_type": "execute_result",
          "data": {
            "text/plain": [
              "(119999, 200, 8)"
            ]
          },
          "metadata": {},
          "execution_count": 27
        }
      ]
    },
    {
      "cell_type": "code",
      "execution_count": 28,
      "metadata": {
        "id": "8aIhPJ-wLCwZ",
        "colab": {
          "base_uri": "https://localhost:8080/"
        },
        "outputId": "03272fee-ca60-49bc-9f06-68fb226ca16b"
      },
      "outputs": [
        {
          "output_type": "execute_result",
          "data": {
            "text/plain": [
              "array([[0., 0., 0., 0., 0., 0., 0., 1.],\n",
              "       [0., 1., 0., 0., 0., 0., 0., 0.],\n",
              "       [0., 0., 0., 0., 0., 0., 0., 1.],\n",
              "       [1., 0., 0., 0., 0., 0., 0., 0.],\n",
              "       [0., 0., 0., 0., 0., 0., 1., 0.],\n",
              "       [0., 0., 0., 0., 1., 0., 0., 0.],\n",
              "       [0., 0., 0., 0., 0., 0., 1., 0.],\n",
              "       [0., 0., 0., 0., 0., 0., 0., 1.],\n",
              "       [1., 0., 0., 0., 0., 0., 0., 0.],\n",
              "       [0., 0., 1., 0., 0., 0., 0., 0.]])"
            ]
          },
          "metadata": {},
          "execution_count": 28
        }
      ],
      "source": [
        "y_train[:10]"
      ]
    },
    {
      "cell_type": "code",
      "execution_count": 29,
      "metadata": {
        "id": "cen4faX0dFJP",
        "colab": {
          "base_uri": "https://localhost:8080/"
        },
        "outputId": "002f16df-a732-4a5e-e15c-c409114749c5"
      },
      "outputs": [
        {
          "output_type": "stream",
          "name": "stdout",
          "text": [
            "Epoch 1/100\n",
            "1875/1875 [==============================] - 29s 13ms/step - loss: 1.7988 - accuracy: 0.2416 - val_loss: 1.6545 - val_accuracy: 0.2808\n",
            "Epoch 2/100\n",
            "1875/1875 [==============================] - 23s 12ms/step - loss: 1.6249 - accuracy: 0.2997 - val_loss: 1.5382 - val_accuracy: 0.3625\n",
            "Epoch 3/100\n",
            "1875/1875 [==============================] - 23s 12ms/step - loss: 1.5916 - accuracy: 0.3447 - val_loss: 1.4788 - val_accuracy: 0.3836\n",
            "Epoch 4/100\n",
            "1875/1875 [==============================] - 24s 13ms/step - loss: 1.4664 - accuracy: 0.3876 - val_loss: 1.4307 - val_accuracy: 0.3989\n",
            "Epoch 5/100\n",
            "1875/1875 [==============================] - 23s 12ms/step - loss: 1.4474 - accuracy: 0.3982 - val_loss: 1.3945 - val_accuracy: 0.4379\n",
            "Epoch 6/100\n",
            "1875/1875 [==============================] - 23s 12ms/step - loss: 1.3860 - accuracy: 0.4221 - val_loss: 1.3477 - val_accuracy: 0.4472\n",
            "Epoch 7/100\n",
            "1875/1875 [==============================] - 23s 13ms/step - loss: 1.3411 - accuracy: 0.4462 - val_loss: 1.2869 - val_accuracy: 0.4807\n",
            "Epoch 8/100\n",
            "1875/1875 [==============================] - 23s 12ms/step - loss: 1.3891 - accuracy: 0.4274 - val_loss: 1.3545 - val_accuracy: 0.4479\n",
            "Epoch 9/100\n",
            "1875/1875 [==============================] - 24s 13ms/step - loss: 1.4298 - accuracy: 0.4213 - val_loss: 1.3011 - val_accuracy: 0.4673\n",
            "Epoch 10/100\n",
            "1875/1875 [==============================] - 23s 12ms/step - loss: 1.3178 - accuracy: 0.4636 - val_loss: 1.2470 - val_accuracy: 0.5017\n",
            "Epoch 11/100\n",
            "1875/1875 [==============================] - 24s 13ms/step - loss: 1.2817 - accuracy: 0.4779 - val_loss: 1.2596 - val_accuracy: 0.4997\n",
            "Epoch 12/100\n",
            "1875/1875 [==============================] - 24s 13ms/step - loss: 1.2376 - accuracy: 0.4932 - val_loss: 1.2608 - val_accuracy: 0.4880\n",
            "Epoch 13/100\n",
            "1875/1875 [==============================] - 24s 13ms/step - loss: 1.2332 - accuracy: 0.4945 - val_loss: 1.2121 - val_accuracy: 0.4969\n",
            "Epoch 14/100\n",
            "1875/1875 [==============================] - 24s 13ms/step - loss: 1.1976 - accuracy: 0.5080 - val_loss: 1.1690 - val_accuracy: 0.5245\n",
            "Epoch 15/100\n",
            "1875/1875 [==============================] - 25s 13ms/step - loss: 1.1878 - accuracy: 0.5116 - val_loss: 1.1810 - val_accuracy: 0.5115\n",
            "Epoch 16/100\n",
            "1875/1875 [==============================] - 24s 13ms/step - loss: 1.1594 - accuracy: 0.5238 - val_loss: 1.1350 - val_accuracy: 0.5317\n",
            "Epoch 17/100\n",
            "1875/1875 [==============================] - 25s 13ms/step - loss: 1.1347 - accuracy: 0.5314 - val_loss: 1.0903 - val_accuracy: 0.5460\n",
            "Epoch 18/100\n",
            "1875/1875 [==============================] - 25s 13ms/step - loss: 1.1212 - accuracy: 0.5349 - val_loss: 1.0849 - val_accuracy: 0.5488\n",
            "Epoch 19/100\n",
            "1875/1875 [==============================] - 24s 13ms/step - loss: 1.0801 - accuracy: 0.5505 - val_loss: 1.0490 - val_accuracy: 0.5599\n",
            "Epoch 20/100\n",
            "1875/1875 [==============================] - 24s 13ms/step - loss: 1.0658 - accuracy: 0.5560 - val_loss: 1.0423 - val_accuracy: 0.5685\n",
            "Epoch 21/100\n",
            "1875/1875 [==============================] - 23s 13ms/step - loss: 1.0388 - accuracy: 0.5650 - val_loss: 1.0055 - val_accuracy: 0.5772\n",
            "Epoch 22/100\n",
            "1875/1875 [==============================] - 24s 13ms/step - loss: 1.0280 - accuracy: 0.5697 - val_loss: 1.0076 - val_accuracy: 0.5779\n",
            "Epoch 23/100\n",
            "1875/1875 [==============================] - 25s 13ms/step - loss: 1.0258 - accuracy: 0.5723 - val_loss: 0.9845 - val_accuracy: 0.5849\n",
            "Epoch 24/100\n",
            "1875/1875 [==============================] - 23s 12ms/step - loss: 0.9889 - accuracy: 0.5869 - val_loss: 0.9593 - val_accuracy: 0.5915\n",
            "Epoch 25/100\n",
            "1875/1875 [==============================] - 23s 12ms/step - loss: 0.9750 - accuracy: 0.5905 - val_loss: 1.0062 - val_accuracy: 0.5727\n",
            "Epoch 26/100\n",
            "1875/1875 [==============================] - 23s 12ms/step - loss: 0.9651 - accuracy: 0.5943 - val_loss: 1.0594 - val_accuracy: 0.5530\n",
            "Epoch 27/100\n",
            "1875/1875 [==============================] - 23s 12ms/step - loss: 0.9555 - accuracy: 0.5995 - val_loss: 0.9869 - val_accuracy: 0.5940\n",
            "Epoch 28/100\n",
            "1875/1875 [==============================] - 24s 13ms/step - loss: 0.9356 - accuracy: 0.6064 - val_loss: 0.9457 - val_accuracy: 0.5953\n",
            "Epoch 29/100\n",
            "1875/1875 [==============================] - 23s 12ms/step - loss: 0.9373 - accuracy: 0.6055 - val_loss: 0.8948 - val_accuracy: 0.6219\n",
            "Epoch 30/100\n",
            "1875/1875 [==============================] - 25s 13ms/step - loss: 0.9216 - accuracy: 0.6123 - val_loss: 0.8755 - val_accuracy: 0.6322\n",
            "Epoch 31/100\n",
            "1875/1875 [==============================] - 23s 12ms/step - loss: 0.9100 - accuracy: 0.6172 - val_loss: 0.8860 - val_accuracy: 0.6268\n",
            "Epoch 32/100\n",
            "1875/1875 [==============================] - 23s 12ms/step - loss: 0.9021 - accuracy: 0.6199 - val_loss: 0.8945 - val_accuracy: 0.6243\n",
            "Epoch 33/100\n",
            "1875/1875 [==============================] - 23s 12ms/step - loss: 0.9056 - accuracy: 0.6197 - val_loss: 0.8645 - val_accuracy: 0.6370\n",
            "Epoch 34/100\n",
            "1875/1875 [==============================] - 23s 12ms/step - loss: 0.8868 - accuracy: 0.6259 - val_loss: 0.8985 - val_accuracy: 0.6282\n",
            "Epoch 35/100\n",
            "1875/1875 [==============================] - 23s 12ms/step - loss: 0.8791 - accuracy: 0.6309 - val_loss: 0.8657 - val_accuracy: 0.6381\n",
            "Epoch 36/100\n",
            "1875/1875 [==============================] - 25s 13ms/step - loss: 0.9177 - accuracy: 0.6187 - val_loss: 0.8663 - val_accuracy: 0.6416\n",
            "Epoch 37/100\n",
            "1875/1875 [==============================] - 23s 12ms/step - loss: 0.8657 - accuracy: 0.6360 - val_loss: 0.8616 - val_accuracy: 0.6332\n",
            "Epoch 38/100\n",
            "1875/1875 [==============================] - 23s 12ms/step - loss: 0.8620 - accuracy: 0.6380 - val_loss: 0.8664 - val_accuracy: 0.6389\n",
            "Epoch 39/100\n",
            "1875/1875 [==============================] - 23s 12ms/step - loss: 0.8540 - accuracy: 0.6427 - val_loss: 1.0516 - val_accuracy: 0.5947\n",
            "Epoch 40/100\n",
            "1875/1875 [==============================] - 23s 12ms/step - loss: 0.8780 - accuracy: 0.6368 - val_loss: 0.8409 - val_accuracy: 0.6488\n",
            "Epoch 41/100\n",
            "1875/1875 [==============================] - 23s 12ms/step - loss: 0.8596 - accuracy: 0.6430 - val_loss: 0.8073 - val_accuracy: 0.6602\n",
            "Epoch 42/100\n",
            "1875/1875 [==============================] - 23s 12ms/step - loss: 0.8306 - accuracy: 0.6527 - val_loss: 0.8691 - val_accuracy: 0.6287\n",
            "Epoch 43/100\n",
            "1875/1875 [==============================] - 23s 12ms/step - loss: 0.8276 - accuracy: 0.6535 - val_loss: 0.7992 - val_accuracy: 0.6683\n",
            "Epoch 44/100\n",
            "1875/1875 [==============================] - 23s 12ms/step - loss: 0.8226 - accuracy: 0.6548 - val_loss: 0.8099 - val_accuracy: 0.6673\n",
            "Epoch 45/100\n",
            "1875/1875 [==============================] - 24s 13ms/step - loss: 0.8104 - accuracy: 0.6617 - val_loss: 0.7926 - val_accuracy: 0.6683\n",
            "Epoch 46/100\n",
            "1875/1875 [==============================] - 23s 12ms/step - loss: 0.8060 - accuracy: 0.6636 - val_loss: 0.7880 - val_accuracy: 0.6729\n",
            "Epoch 47/100\n",
            "1875/1875 [==============================] - 23s 12ms/step - loss: 0.7977 - accuracy: 0.6689 - val_loss: 0.7886 - val_accuracy: 0.6711\n",
            "Epoch 48/100\n",
            "1875/1875 [==============================] - 23s 12ms/step - loss: 0.7897 - accuracy: 0.6720 - val_loss: 0.8471 - val_accuracy: 0.6523\n",
            "Epoch 49/100\n",
            "1875/1875 [==============================] - 23s 12ms/step - loss: 0.7859 - accuracy: 0.6727 - val_loss: 0.7432 - val_accuracy: 0.6879\n",
            "Epoch 50/100\n",
            "1875/1875 [==============================] - 23s 12ms/step - loss: 0.7770 - accuracy: 0.6786 - val_loss: 0.7698 - val_accuracy: 0.6822\n",
            "Epoch 51/100\n",
            "1875/1875 [==============================] - 23s 12ms/step - loss: 0.7716 - accuracy: 0.6804 - val_loss: 0.7847 - val_accuracy: 0.6767\n",
            "Epoch 52/100\n",
            "1875/1875 [==============================] - 23s 12ms/step - loss: 0.7632 - accuracy: 0.6846 - val_loss: 0.7266 - val_accuracy: 0.6969\n",
            "Epoch 53/100\n",
            "1875/1875 [==============================] - 23s 12ms/step - loss: 0.7532 - accuracy: 0.6889 - val_loss: 0.7597 - val_accuracy: 0.6877\n",
            "Epoch 54/100\n",
            "1875/1875 [==============================] - 24s 13ms/step - loss: 0.7901 - accuracy: 0.6773 - val_loss: 0.7483 - val_accuracy: 0.6961\n",
            "Epoch 55/100\n",
            "1875/1875 [==============================] - 23s 12ms/step - loss: 0.7398 - accuracy: 0.6953 - val_loss: 0.7250 - val_accuracy: 0.7020\n",
            "Epoch 56/100\n",
            "1875/1875 [==============================] - 23s 12ms/step - loss: 0.7353 - accuracy: 0.6982 - val_loss: 0.7382 - val_accuracy: 0.6971\n",
            "Epoch 57/100\n",
            "1875/1875 [==============================] - 23s 12ms/step - loss: 0.7286 - accuracy: 0.7001 - val_loss: 0.7303 - val_accuracy: 0.6996\n",
            "Epoch 58/100\n",
            "1875/1875 [==============================] - 23s 12ms/step - loss: 0.7261 - accuracy: 0.7013 - val_loss: 0.7339 - val_accuracy: 0.7087\n",
            "Epoch 59/100\n",
            "1875/1875 [==============================] - 23s 12ms/step - loss: 0.7251 - accuracy: 0.7036 - val_loss: 0.7112 - val_accuracy: 0.7093\n",
            "Epoch 60/100\n",
            "1875/1875 [==============================] - 23s 12ms/step - loss: 0.7153 - accuracy: 0.7068 - val_loss: 0.7109 - val_accuracy: 0.7097\n",
            "Epoch 61/100\n",
            "1875/1875 [==============================] - 23s 12ms/step - loss: 0.7051 - accuracy: 0.7124 - val_loss: 0.6745 - val_accuracy: 0.7227\n",
            "Epoch 62/100\n",
            "1875/1875 [==============================] - 23s 12ms/step - loss: 0.6987 - accuracy: 0.7134 - val_loss: 0.6837 - val_accuracy: 0.7205\n",
            "Epoch 63/100\n",
            "1875/1875 [==============================] - 24s 13ms/step - loss: 0.6982 - accuracy: 0.7149 - val_loss: 0.6857 - val_accuracy: 0.7193\n",
            "Epoch 64/100\n",
            "1875/1875 [==============================] - 23s 12ms/step - loss: 0.6901 - accuracy: 0.7180 - val_loss: 0.6754 - val_accuracy: 0.7223\n",
            "Epoch 65/100\n",
            "1875/1875 [==============================] - 23s 12ms/step - loss: 0.6960 - accuracy: 0.7165 - val_loss: 0.6683 - val_accuracy: 0.7249\n",
            "Epoch 66/100\n",
            "1875/1875 [==============================] - 23s 12ms/step - loss: 0.6703 - accuracy: 0.7276 - val_loss: 0.6675 - val_accuracy: 0.7222\n",
            "Epoch 67/100\n",
            "1875/1875 [==============================] - 23s 12ms/step - loss: 0.6705 - accuracy: 0.7245 - val_loss: 0.6753 - val_accuracy: 0.7240\n",
            "Epoch 68/100\n",
            "1875/1875 [==============================] - 23s 12ms/step - loss: 0.6651 - accuracy: 0.7283 - val_loss: 0.7321 - val_accuracy: 0.7107\n",
            "Epoch 69/100\n",
            "1875/1875 [==============================] - 25s 13ms/step - loss: 0.6595 - accuracy: 0.7307 - val_loss: 0.6641 - val_accuracy: 0.7293\n",
            "Epoch 70/100\n",
            "1875/1875 [==============================] - 23s 12ms/step - loss: 0.6534 - accuracy: 0.7325 - val_loss: 0.6384 - val_accuracy: 0.7405\n",
            "Epoch 71/100\n",
            "1875/1875 [==============================] - 23s 12ms/step - loss: 0.6450 - accuracy: 0.7363 - val_loss: 0.6262 - val_accuracy: 0.7417\n",
            "Epoch 72/100\n",
            "1875/1875 [==============================] - 25s 13ms/step - loss: 0.6404 - accuracy: 0.7388 - val_loss: 0.6201 - val_accuracy: 0.7453\n",
            "Epoch 73/100\n",
            "1875/1875 [==============================] - 23s 12ms/step - loss: 0.6326 - accuracy: 0.7422 - val_loss: 0.6417 - val_accuracy: 0.7413\n",
            "Epoch 74/100\n",
            "1875/1875 [==============================] - 23s 12ms/step - loss: 0.6339 - accuracy: 0.7436 - val_loss: 0.6539 - val_accuracy: 0.7311\n",
            "Epoch 75/100\n",
            "1875/1875 [==============================] - 23s 12ms/step - loss: 0.6180 - accuracy: 0.7494 - val_loss: 0.6297 - val_accuracy: 0.7447\n",
            "Epoch 76/100\n",
            "1875/1875 [==============================] - 23s 12ms/step - loss: 0.6130 - accuracy: 0.7516 - val_loss: 0.6006 - val_accuracy: 0.7561\n",
            "Epoch 77/100\n",
            "1875/1875 [==============================] - 25s 13ms/step - loss: 0.6081 - accuracy: 0.7548 - val_loss: 0.6159 - val_accuracy: 0.7480\n",
            "Epoch 78/100\n",
            "1875/1875 [==============================] - 23s 12ms/step - loss: 0.6023 - accuracy: 0.7574 - val_loss: 0.5857 - val_accuracy: 0.7622\n",
            "Epoch 79/100\n",
            "1875/1875 [==============================] - 23s 12ms/step - loss: 0.5949 - accuracy: 0.7594 - val_loss: 0.5963 - val_accuracy: 0.7602\n",
            "Epoch 80/100\n",
            "1875/1875 [==============================] - 23s 12ms/step - loss: 0.5868 - accuracy: 0.7632 - val_loss: 0.5787 - val_accuracy: 0.7661\n",
            "Epoch 81/100\n",
            "1875/1875 [==============================] - 23s 12ms/step - loss: 0.5865 - accuracy: 0.7653 - val_loss: 0.6226 - val_accuracy: 0.7579\n",
            "Epoch 82/100\n",
            "1875/1875 [==============================] - 23s 12ms/step - loss: 0.5751 - accuracy: 0.7683 - val_loss: 0.5737 - val_accuracy: 0.7681\n",
            "Epoch 83/100\n",
            "1875/1875 [==============================] - 23s 12ms/step - loss: 0.5696 - accuracy: 0.7710 - val_loss: 0.5543 - val_accuracy: 0.7747\n",
            "Epoch 84/100\n",
            "1875/1875 [==============================] - 23s 13ms/step - loss: 0.5684 - accuracy: 0.7715 - val_loss: 0.6677 - val_accuracy: 0.7432\n",
            "Epoch 85/100\n",
            "1875/1875 [==============================] - 23s 13ms/step - loss: 0.5627 - accuracy: 0.7744 - val_loss: 0.5747 - val_accuracy: 0.7713\n",
            "Epoch 86/100\n",
            "1875/1875 [==============================] - 24s 13ms/step - loss: 0.5796 - accuracy: 0.7715 - val_loss: 0.5450 - val_accuracy: 0.7844\n",
            "Epoch 87/100\n",
            "1875/1875 [==============================] - 24s 13ms/step - loss: 0.5432 - accuracy: 0.7823 - val_loss: 0.5239 - val_accuracy: 0.7889\n",
            "Epoch 88/100\n",
            "1875/1875 [==============================] - 23s 12ms/step - loss: 0.5403 - accuracy: 0.7853 - val_loss: 0.5698 - val_accuracy: 0.7737\n",
            "Epoch 89/100\n",
            "1875/1875 [==============================] - 23s 13ms/step - loss: 0.5393 - accuracy: 0.7859 - val_loss: 0.5384 - val_accuracy: 0.7849\n",
            "Epoch 90/100\n",
            "1875/1875 [==============================] - 23s 12ms/step - loss: 0.5757 - accuracy: 0.7747 - val_loss: 0.5259 - val_accuracy: 0.7939\n",
            "Epoch 91/100\n",
            "1875/1875 [==============================] - 23s 12ms/step - loss: 0.5220 - accuracy: 0.7928 - val_loss: 0.5327 - val_accuracy: 0.7870\n",
            "Epoch 92/100\n",
            "1875/1875 [==============================] - 23s 13ms/step - loss: 0.5226 - accuracy: 0.7929 - val_loss: 0.5232 - val_accuracy: 0.7961\n",
            "Epoch 93/100\n",
            "1875/1875 [==============================] - 23s 12ms/step - loss: 0.5176 - accuracy: 0.7951 - val_loss: 0.5313 - val_accuracy: 0.7932\n",
            "Epoch 94/100\n",
            "1875/1875 [==============================] - 23s 12ms/step - loss: 0.5125 - accuracy: 0.7972 - val_loss: 0.5154 - val_accuracy: 0.7981\n",
            "Epoch 95/100\n",
            "1875/1875 [==============================] - 23s 13ms/step - loss: 0.5116 - accuracy: 0.7982 - val_loss: 0.5097 - val_accuracy: 0.7982\n",
            "Epoch 96/100\n",
            "1875/1875 [==============================] - 23s 13ms/step - loss: 0.5026 - accuracy: 0.8028 - val_loss: 0.4866 - val_accuracy: 0.8112\n",
            "Epoch 97/100\n",
            "1875/1875 [==============================] - 23s 13ms/step - loss: 0.4915 - accuracy: 0.8072 - val_loss: 0.5004 - val_accuracy: 0.8053\n",
            "Epoch 98/100\n",
            "1875/1875 [==============================] - 25s 13ms/step - loss: 0.4960 - accuracy: 0.8048 - val_loss: 0.4738 - val_accuracy: 0.8109\n",
            "Epoch 99/100\n",
            "1875/1875 [==============================] - 24s 13ms/step - loss: 0.4861 - accuracy: 0.8090 - val_loss: 0.5062 - val_accuracy: 0.8049\n",
            "Epoch 100/100\n",
            "1875/1875 [==============================] - 24s 13ms/step - loss: 0.4790 - accuracy: 0.8122 - val_loss: 0.5267 - val_accuracy: 0.7976\n"
          ]
        }
      ],
      "source": [
        "history = model.fit(X_train, y_train, batch_size=64, epochs=100, validation_data=(X_val, y_val))\n",
        "#model.save('NewAllDataModel_E50_B64.h5')"
      ]
    },
    {
      "cell_type": "code",
      "execution_count": 30,
      "metadata": {
        "id": "R7QQeqVidKBR",
        "colab": {
          "base_uri": "https://localhost:8080/"
        },
        "outputId": "77887a95-5b7b-4ee5-f528-7feb879fa4a1"
      },
      "outputs": [
        {
          "output_type": "stream",
          "name": "stdout",
          "text": [
            "469/469 [==============================] - 3s 6ms/step - loss: 0.5378 - accuracy: 0.7897\n"
          ]
        }
      ],
      "source": [
        "test_acc = model.evaluate(X_test, y_test)"
      ]
    },
    {
      "cell_type": "code",
      "source": [
        "test_acc"
      ],
      "metadata": {
        "id": "6fuTmgGrUgGg",
        "colab": {
          "base_uri": "https://localhost:8080/"
        },
        "outputId": "454015ee-0bd8-4cb2-f36b-e8bea4a7eca5"
      },
      "execution_count": 31,
      "outputs": [
        {
          "output_type": "execute_result",
          "data": {
            "text/plain": [
              "[0.5377667546272278, 0.789733350276947]"
            ]
          },
          "metadata": {},
          "execution_count": 31
        }
      ]
    },
    {
      "cell_type": "code",
      "execution_count": 32,
      "metadata": {
        "id": "OHpifyqGdKn-",
        "colab": {
          "base_uri": "https://localhost:8080/"
        },
        "outputId": "594cbf05-1a67-405e-db48-b3c41c231957"
      },
      "outputs": [
        {
          "output_type": "stream",
          "name": "stdout",
          "text": [
            "469/469 [==============================] - 3s 5ms/step\n"
          ]
        }
      ],
      "source": [
        "y_test_prob = model.predict(X_test, verbose=1)"
      ]
    },
    {
      "cell_type": "code",
      "source": [
        "np.set_printoptions(suppress=True)\n",
        "y_test_prob_backup = y_test_prob\n",
        "y_test_prob"
      ],
      "metadata": {
        "id": "rRPswrrkmhp2",
        "colab": {
          "base_uri": "https://localhost:8080/"
        },
        "outputId": "9233f353-9266-47fc-9504-1396a205d7dc"
      },
      "execution_count": 33,
      "outputs": [
        {
          "output_type": "execute_result",
          "data": {
            "text/plain": [
              "array([[0.00005543, 0.99982184, 0.00012101, ..., 0.        , 0.00000001,\n",
              "        0.00000097],\n",
              "       [0.00000816, 0.00000248, 0.0000019 , ..., 0.00000025, 0.00162905,\n",
              "        0.9983581 ],\n",
              "       [0.99975747, 0.00021938, 0.        , ..., 0.00000004, 0.00000069,\n",
              "        0.00002232],\n",
              "       ...,\n",
              "       [0.9997627 , 0.00018231, 0.        , ..., 0.00000007, 0.00000172,\n",
              "        0.00005307],\n",
              "       [0.00000609, 0.00002504, 0.0571079 , ..., 0.7310753 , 0.01190453,\n",
              "        0.00095442],\n",
              "       [0.00002921, 0.00000715, 0.00080934, ..., 0.11803251, 0.12227878,\n",
              "        0.00026069]], dtype=float32)"
            ]
          },
          "metadata": {},
          "execution_count": 33
        }
      ]
    },
    {
      "cell_type": "code",
      "execution_count": 34,
      "metadata": {
        "id": "AfmdrBILdMwj"
      },
      "outputs": [],
      "source": [
        "y_test_pred = np.where(y_test_prob > 0.5, 1, 0)"
      ]
    },
    {
      "cell_type": "code",
      "execution_count": 35,
      "metadata": {
        "id": "8DoJy_p9dPzN"
      },
      "outputs": [],
      "source": [
        "from sklearn.metrics import multilabel_confusion_matrix"
      ]
    },
    {
      "cell_type": "code",
      "source": [
        "y_test"
      ],
      "metadata": {
        "id": "n1Us2yrfcGl-",
        "colab": {
          "base_uri": "https://localhost:8080/"
        },
        "outputId": "bb471a79-29a1-42d9-9385-f342ae2e7e50"
      },
      "execution_count": 36,
      "outputs": [
        {
          "output_type": "execute_result",
          "data": {
            "text/plain": [
              "array([[0., 1., 0., ..., 0., 0., 0.],\n",
              "       [0., 0., 0., ..., 0., 0., 1.],\n",
              "       [1., 0., 0., ..., 0., 0., 0.],\n",
              "       ...,\n",
              "       [1., 0., 0., ..., 0., 0., 0.],\n",
              "       [0., 0., 0., ..., 1., 0., 0.],\n",
              "       [0., 0., 0., ..., 0., 0., 0.]])"
            ]
          },
          "metadata": {},
          "execution_count": 36
        }
      ]
    },
    {
      "cell_type": "code",
      "source": [
        "y_test.shape"
      ],
      "metadata": {
        "id": "VnmvTcvWbxr9",
        "colab": {
          "base_uri": "https://localhost:8080/"
        },
        "outputId": "12d570be-7a93-416b-b00d-a55fe0f237f6"
      },
      "execution_count": 37,
      "outputs": [
        {
          "output_type": "execute_result",
          "data": {
            "text/plain": [
              "(15000, 8)"
            ]
          },
          "metadata": {},
          "execution_count": 37
        }
      ]
    },
    {
      "cell_type": "code",
      "source": [
        "y_test_pred"
      ],
      "metadata": {
        "id": "nMBOgzrgcJBj",
        "colab": {
          "base_uri": "https://localhost:8080/"
        },
        "outputId": "98acf454-67b0-473c-f065-73a41540233e"
      },
      "execution_count": 38,
      "outputs": [
        {
          "output_type": "execute_result",
          "data": {
            "text/plain": [
              "array([[0, 1, 0, ..., 0, 0, 0],\n",
              "       [0, 0, 0, ..., 0, 0, 1],\n",
              "       [1, 0, 0, ..., 0, 0, 0],\n",
              "       ...,\n",
              "       [1, 0, 0, ..., 0, 0, 0],\n",
              "       [0, 0, 0, ..., 1, 0, 0],\n",
              "       [0, 0, 0, ..., 0, 0, 0]])"
            ]
          },
          "metadata": {},
          "execution_count": 38
        }
      ]
    },
    {
      "cell_type": "code",
      "source": [
        "y_test_pred.shape"
      ],
      "metadata": {
        "id": "SXKZof8Ye5uI",
        "colab": {
          "base_uri": "https://localhost:8080/"
        },
        "outputId": "e8b87517-892b-4af4-d53d-56ae8db47472"
      },
      "execution_count": 39,
      "outputs": [
        {
          "output_type": "execute_result",
          "data": {
            "text/plain": [
              "(15000, 8)"
            ]
          },
          "metadata": {},
          "execution_count": 39
        }
      ]
    },
    {
      "cell_type": "code",
      "source": [
        "y_decoded_pred = tf.argmax(y_test_pred, axis = 1)"
      ],
      "metadata": {
        "id": "leDQwKOjgwwi"
      },
      "execution_count": 40,
      "outputs": []
    },
    {
      "cell_type": "code",
      "source": [
        "y_decoded = tf.argmax(y_test, axis = 1)"
      ],
      "metadata": {
        "id": "sAHRmtesif6g"
      },
      "execution_count": 41,
      "outputs": []
    },
    {
      "cell_type": "code",
      "source": [
        "y_decoded_pred"
      ],
      "metadata": {
        "id": "_lvFhrmPhprD",
        "colab": {
          "base_uri": "https://localhost:8080/"
        },
        "outputId": "25b4d75f-a7a9-469d-8753-6f0d5626122b"
      },
      "execution_count": 42,
      "outputs": [
        {
          "output_type": "execute_result",
          "data": {
            "text/plain": [
              "<tf.Tensor: shape=(15000,), dtype=int64, numpy=array([1, 7, 0, ..., 0, 5, 4])>"
            ]
          },
          "metadata": {},
          "execution_count": 42
        }
      ]
    },
    {
      "cell_type": "code",
      "source": [
        "y_decoded"
      ],
      "metadata": {
        "id": "YV1FXgHviPwm",
        "colab": {
          "base_uri": "https://localhost:8080/"
        },
        "outputId": "3cf1b437-a9e6-4d9a-c18f-596d8e73c670"
      },
      "execution_count": 43,
      "outputs": [
        {
          "output_type": "execute_result",
          "data": {
            "text/plain": [
              "<tf.Tensor: shape=(15000,), dtype=int64, numpy=array([1, 7, 0, ..., 0, 5, 4])>"
            ]
          },
          "metadata": {},
          "execution_count": 43
        }
      ]
    },
    {
      "cell_type": "code",
      "source": [
        "y_test_pred = y_decoded_pred\n"
      ],
      "metadata": {
        "id": "6-6jFqzGh380"
      },
      "execution_count": 44,
      "outputs": []
    },
    {
      "cell_type": "code",
      "source": [
        "y_test = y_decoded"
      ],
      "metadata": {
        "id": "9pogVvdIiwss"
      },
      "execution_count": 45,
      "outputs": []
    },
    {
      "cell_type": "code",
      "source": [
        "y_test"
      ],
      "metadata": {
        "id": "oGt5aJetiKR6",
        "colab": {
          "base_uri": "https://localhost:8080/"
        },
        "outputId": "0dd59544-37d6-48ea-8b85-35acee07b168"
      },
      "execution_count": 46,
      "outputs": [
        {
          "output_type": "execute_result",
          "data": {
            "text/plain": [
              "<tf.Tensor: shape=(15000,), dtype=int64, numpy=array([1, 7, 0, ..., 0, 5, 4])>"
            ]
          },
          "metadata": {},
          "execution_count": 46
        }
      ]
    },
    {
      "cell_type": "code",
      "source": [
        "y_test_pred"
      ],
      "metadata": {
        "id": "fLgDwAIfiyv2",
        "colab": {
          "base_uri": "https://localhost:8080/"
        },
        "outputId": "be056f4a-7988-4ff5-a7a3-979c73fd1ed3"
      },
      "execution_count": 47,
      "outputs": [
        {
          "output_type": "execute_result",
          "data": {
            "text/plain": [
              "<tf.Tensor: shape=(15000,), dtype=int64, numpy=array([1, 7, 0, ..., 0, 5, 4])>"
            ]
          },
          "metadata": {},
          "execution_count": 47
        }
      ]
    },
    {
      "cell_type": "code",
      "execution_count": 48,
      "metadata": {
        "id": "fTCsPjW8dQaZ"
      },
      "outputs": [],
      "source": [
        "cfm=confusion_matrix(y_test, y_test_pred)"
      ]
    },
    {
      "cell_type": "code",
      "source": [
        "cfm"
      ],
      "metadata": {
        "id": "_67lPg6ic4cH",
        "colab": {
          "base_uri": "https://localhost:8080/"
        },
        "outputId": "b837fafc-76a1-4631-eb6f-b82da17472f9"
      },
      "execution_count": 49,
      "outputs": [
        {
          "output_type": "execute_result",
          "data": {
            "text/plain": [
              "array([[1840,   13,    0,    0,    0,    0,    0,    0],\n",
              "       [  48, 1839,    3,    0,    0,    0,    1,    4],\n",
              "       [ 289,   89, 1312,   40,   22,   47,   41,   48],\n",
              "       [ 400,    0,   66,  978,  236,  184,   16,    2],\n",
              "       [ 409,    1,   32,   48,  962,  180,  220,    5],\n",
              "       [ 261,    0,   12,   20,   64, 1427,  109,   25],\n",
              "       [ 180,    0,   31,    0,    9,   43, 1185,  350],\n",
              "       [  61,   13,    8,    0,    0,   12,  142, 1673]])"
            ]
          },
          "metadata": {},
          "execution_count": 49
        }
      ]
    },
    {
      "cell_type": "code",
      "source": [
        " print(classification_report(y_test,y_test_pred))"
      ],
      "metadata": {
        "id": "XTqR_xnwRWCJ",
        "colab": {
          "base_uri": "https://localhost:8080/"
        },
        "outputId": "c091f6a6-f9b2-400a-d3cc-f04554c7d738"
      },
      "execution_count": 50,
      "outputs": [
        {
          "output_type": "stream",
          "name": "stdout",
          "text": [
            "              precision    recall  f1-score   support\n",
            "\n",
            "           0       0.53      0.99      0.69      1853\n",
            "           1       0.94      0.97      0.96      1895\n",
            "           2       0.90      0.69      0.78      1888\n",
            "           3       0.90      0.52      0.66      1882\n",
            "           4       0.74      0.52      0.61      1857\n",
            "           5       0.75      0.74      0.75      1918\n",
            "           6       0.69      0.66      0.67      1798\n",
            "           7       0.79      0.88      0.83      1909\n",
            "\n",
            "    accuracy                           0.75     15000\n",
            "   macro avg       0.78      0.75      0.74     15000\n",
            "weighted avg       0.78      0.75      0.75     15000\n",
            "\n"
          ]
        }
      ]
    },
    {
      "cell_type": "code",
      "execution_count": 51,
      "metadata": {
        "id": "te3fslrY9Eca",
        "colab": {
          "base_uri": "https://localhost:8080/",
          "height": 903
        },
        "outputId": "d5ae1f36-cf68-4e5e-a744-5755619b6961"
      },
      "outputs": [
        {
          "output_type": "stream",
          "name": "stdout",
          "text": [
            "Confusion matrix, without normalization\n",
            "[[1840   13    0    0    0    0    0    0]\n",
            " [  48 1839    3    0    0    0    1    4]\n",
            " [ 289   89 1312   40   22   47   41   48]\n",
            " [ 400    0   66  978  236  184   16    2]\n",
            " [ 409    1   32   48  962  180  220    5]\n",
            " [ 261    0   12   20   64 1427  109   25]\n",
            " [ 180    0   31    0    9   43 1185  350]\n",
            " [  61   13    8    0    0   12  142 1673]]\n",
            "Normalized confusion matrix\n",
            "[[0.99 0.01 0.   0.   0.   0.   0.   0.  ]\n",
            " [0.03 0.97 0.   0.   0.   0.   0.   0.  ]\n",
            " [0.15 0.05 0.69 0.02 0.01 0.02 0.02 0.03]\n",
            " [0.21 0.   0.04 0.52 0.13 0.1  0.01 0.  ]\n",
            " [0.22 0.   0.02 0.03 0.52 0.1  0.12 0.  ]\n",
            " [0.14 0.   0.01 0.01 0.03 0.74 0.06 0.01]\n",
            " [0.1  0.   0.02 0.   0.01 0.02 0.66 0.19]\n",
            " [0.03 0.01 0.   0.   0.   0.01 0.07 0.88]]\n"
          ]
        },
        {
          "output_type": "display_data",
          "data": {
            "text/plain": [
              "<Figure size 432x288 with 2 Axes>"
            ],
            "image/png": "[encoded data removed]"
          },
          "metadata": {
            "needs_background": "light"
          }
        },
        {
          "output_type": "display_data",
          "data": {
            "text/plain": [
              "<Figure size 432x288 with 2 Axes>"
            ],
            "image/png": "[encoded data removed]"
          },
          "metadata": {
            "needs_background": "light"
          }
        }
      ],
      "source": [
        "import numpy as np\n",
        "import matplotlib.pyplot as plt\n",
        "\n",
        "from sklearn import svm, datasets\n",
        "from sklearn.model_selection import train_test_split\n",
        "from sklearn.metrics import confusion_matrix\n",
        "from sklearn.utils.multiclass import unique_labels\n",
        "\n",
        "class_names = np.array(['0', '1', '2', '3', '4', '5', '6', '7'])\n",
        "\n",
        "def plot_confusion_matrix(y_true, y_pred, classes,\n",
        "                          normalize=False,\n",
        "                          title=None,\n",
        "                          cmap=plt.cm.Blues):\n",
        "    \"\"\"\n",
        "    This function prints and plots the confusion matrix.\n",
        "    Normalization can be applied by setting `normalize=True`.\n",
        "    \"\"\"\n",
        "    if not title:\n",
        "        if normalize:\n",
        "            title = 'Normalized confusion matrix'\n",
        "        else:\n",
        "            title = 'Confusion matrix, without normalization'\n",
        "\n",
        "    # Compute confusion matrix\n",
        "    cm = confusion_matrix(y_true, y_pred)\n",
        "    # Only use the labels that appear in the data\n",
        "    classes = classes[unique_labels(y_true, y_pred)]\n",
        "    if normalize:\n",
        "        cm = cm.astype('float') / cm.sum(axis=1)[:, np.newaxis]\n",
        "        print(\"Normalized confusion matrix\")\n",
        "    else:\n",
        "        print('Confusion matrix, without normalization')\n",
        "\n",
        "    print(cm)\n",
        "\n",
        "    fig, ax = plt.subplots()\n",
        "    im = ax.imshow(cm, interpolation='nearest', cmap=cmap)\n",
        "    ax.figure.colorbar(im, ax=ax)\n",
        "    # We want to show all ticks...\n",
        "    ax.set(xticks=np.arange(cm.shape[1]),\n",
        "           yticks=np.arange(cm.shape[0]),\n",
        "           # ... and label them with the respective list entries\n",
        "           xticklabels=classes, yticklabels=classes,\n",
        "           title=title,\n",
        "           ylabel='True label',\n",
        "           xlabel='Predicted label')\n",
        "\n",
        "    # Rotate the tick labels and set their alignment.\n",
        "    plt.setp(ax.get_xticklabels(), rotation=45, ha=\"right\",\n",
        "             rotation_mode=\"anchor\")\n",
        "\n",
        "    # Loop over data dimensions and create text annotations.\n",
        "    fmt = '.2f' if normalize else 'd'\n",
        "    thresh = cm.max() / 2.\n",
        "    for i in range(cm.shape[0]):\n",
        "        for j in range(cm.shape[1]):\n",
        "            ax.text(j, i, format(cm[i, j], fmt),\n",
        "                    ha=\"center\", va=\"center\",\n",
        "                    color=\"white\" if cm[i, j] > thresh else \"black\")\n",
        "    fig.tight_layout()\n",
        "\n",
        "    return ax\n",
        "\n",
        "\n",
        "np.set_printoptions(precision=2)\n",
        "\n",
        "# Plot non-normalized confusion matrix\n",
        "plot_confusion_matrix(y_test, y_test_pred, classes=class_names,\n",
        "                      title='Confusion matrix, without normalization')\n",
        "\n",
        "# Plot normalized confusion matrix\n",
        "plot_confusion_matrix(y_test, y_test_pred, classes=class_names, normalize=True,\n",
        "                      title='Normalized confusion matrix')\n",
        "\n",
        "plt.show()"
      ]
    },
    {
      "cell_type": "code",
      "execution_count": 52,
      "metadata": {
        "id": "fhdLAhgPUnH3"
      },
      "outputs": [],
      "source": [
        "def plot_learningCurve(history, epoch):\n",
        "  # Plot training & validation accuracy values\n",
        "  epoch_range = range(1, epoch+1)\n",
        "  plt.plot(epoch_range, history.history['accuracy'])\n",
        "  plt.plot(epoch_range, history.history['val_accuracy'])\n",
        "  plt.title('Model accuracy')\n",
        "  plt.ylabel('Accuracy')\n",
        "  plt.xlabel('Epoch')\n",
        "  plt.legend(['Train', 'Val'], loc='upper left')\n",
        "  plt.show()\n",
        "\n",
        "  # Plot training & validation loss values\n",
        "  plt.plot(epoch_range, history.history['loss'])\n",
        "  plt.plot(epoch_range, history.history['val_loss'])\n",
        "  plt.title('Model loss')\n",
        "  plt.ylabel('Loss')\n",
        "  plt.xlabel('Epoch')\n",
        "  plt.legend(['Train', 'Val'], loc='upper left')\n",
        "  plt.show()"
      ]
    },
    {
      "cell_type": "code",
      "execution_count": 53,
      "metadata": {
        "id": "WlkQkWHgU5mL",
        "colab": {
          "base_uri": "https://localhost:8080/",
          "height": 581
        },
        "outputId": "b42b761e-81e0-4fd1-ac72-010d5e78682f"
      },
      "outputs": [
        {
          "output_type": "display_data",
          "data": {
            "text/plain": [
              "<Figure size 432x288 with 1 Axes>"
            ],
            "image/png": "[encoded data removed]"
          },
          "metadata": {
            "needs_background": "light"
          }
        },
        {
          "output_type": "display_data",
          "data": {
            "text/plain": [
              "<Figure size 432x288 with 1 Axes>"
            ],
            "image/png": "[encoded data removed]"
          },
          "metadata": {
            "needs_background": "light"
          }
        }
      ],
      "source": [
        "plot_learningCurve(history, 100)"
      ]
    }
  ],
  "metadata": {
    "colab": {
      "collapsed_sections": [
        "f857kfHqUk0-"
      ],
      "name": "Multi_Class_MD_LSTM_step_200_files_120.ipynb",
      "provenance": [],
      "include_colab_link": true
    },
    "kernelspec": {
      "display_name": "Python 3",
      "name": "python3"
    },
    "language_info": {
      "name": "python"
    },
    "accelerator": "GPU"
  },
  "nbformat": 4,
  "nbformat_minor": 0
}
