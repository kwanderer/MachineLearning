{
  "cells": [
    {
      "cell_type": "markdown",
      "metadata": {
        "id": "view-in-github",
        "colab_type": "text"
      },
      "source": [
        "<a href=\"https://colab.research.google.com/github/kwanderer/MachineLearning/blob/main/Keras_Multivariate_time_series_classification_using_LSTM_ipynb_txt.ipynb\" target=\"_parent\"><img src=\"https://colab.research.google.com/assets/colab-badge.svg\" alt=\"Open In Colab\"/></a>"
      ]
    },
    {
      "cell_type": "code",
      "execution_count": null,
      "metadata": {
        "id": "gnF7qi7uq8Oq"
      },
      "outputs": [],
      "source": [
        "import keras\n",
        "from keras.layers import LSTM, Dropout, Dense\n",
        "import tensorflow as tf\n",
        "import numpy as np\n",
        "import pandas as pd"
      ]
    },
    {
      "cell_type": "code",
      "execution_count": null,
      "metadata": {
        "colab": {
          "base_uri": "https://localhost:8080/"
        },
        "id": "YJYidBTjq8Ox",
        "outputId": "6b526e8d-4095-405a-aa0f-fff9fad0a162"
      },
      "outputs": [
        {
          "output_type": "stream",
          "name": "stdout",
          "text": [
            "Drive already mounted at /content/gdrive; to attempt to forcibly remount, call drive.mount(\"/content/gdrive\", force_remount=True).\n"
          ]
        }
      ],
      "source": [
        "from google.colab import drive\n",
        "import os\n",
        "drive.mount('/content/gdrive')\n",
        "os.chdir(\"/content/gdrive/MyDrive/Colab Notebooks/data/\")\n",
        "data = pd.read_csv(\"creditcard.csv\")\n"
      ]
    },
    {
      "cell_type": "code",
      "execution_count": null,
      "metadata": {
        "colab": {
          "base_uri": "https://localhost:8080/"
        },
        "id": "mMKdWCTrq8Oz",
        "outputId": "4bb45707-1e2c-42e2-8f39-69f066c99438"
      },
      "outputs": [
        {
          "output_type": "stream",
          "name": "stdout",
          "text": [
            "<class 'pandas.core.frame.DataFrame'>\n",
            "RangeIndex: 284807 entries, 0 to 284806\n",
            "Data columns (total 31 columns):\n",
            " #   Column  Non-Null Count   Dtype  \n",
            "---  ------  --------------   -----  \n",
            " 0   Time    284807 non-null  float64\n",
            " 1   V1      284807 non-null  float64\n",
            " 2   V2      284807 non-null  float64\n",
            " 3   V3      284807 non-null  float64\n",
            " 4   V4      284807 non-null  float64\n",
            " 5   V5      284807 non-null  float64\n",
            " 6   V6      284807 non-null  float64\n",
            " 7   V7      284807 non-null  float64\n",
            " 8   V8      284807 non-null  float64\n",
            " 9   V9      284807 non-null  float64\n",
            " 10  V10     284807 non-null  float64\n",
            " 11  V11     284807 non-null  float64\n",
            " 12  V12     284807 non-null  float64\n",
            " 13  V13     284807 non-null  float64\n",
            " 14  V14     284807 non-null  float64\n",
            " 15  V15     284807 non-null  float64\n",
            " 16  V16     284807 non-null  float64\n",
            " 17  V17     284807 non-null  float64\n",
            " 18  V18     284807 non-null  float64\n",
            " 19  V19     284807 non-null  float64\n",
            " 20  V20     284807 non-null  float64\n",
            " 21  V21     284807 non-null  float64\n",
            " 22  V22     284807 non-null  float64\n",
            " 23  V23     284807 non-null  float64\n",
            " 24  V24     284807 non-null  float64\n",
            " 25  V25     284807 non-null  float64\n",
            " 26  V26     284807 non-null  float64\n",
            " 27  V27     284807 non-null  float64\n",
            " 28  V28     284807 non-null  float64\n",
            " 29  Amount  284807 non-null  float64\n",
            " 30  Class   284807 non-null  int64  \n",
            "dtypes: float64(30), int64(1)\n",
            "memory usage: 67.4 MB\n"
          ]
        }
      ],
      "source": [
        "data.info()"
      ]
    },
    {
      "cell_type": "code",
      "source": [
        "#from enum import unique\n",
        "np.unique(data['Class'])\n",
        "data.count(1)"
      ],
      "metadata": {
        "colab": {
          "base_uri": "https://localhost:8080/"
        },
        "id": "QPHg1AYCtHJr",
        "outputId": "d36915e6-a4b8-48d0-bcee-2cb92c3ed260"
      },
      "execution_count": null,
      "outputs": [
        {
          "output_type": "execute_result",
          "data": {
            "text/plain": [
              "0         31\n",
              "1         31\n",
              "2         31\n",
              "3         31\n",
              "4         31\n",
              "          ..\n",
              "284802    31\n",
              "284803    31\n",
              "284804    31\n",
              "284805    31\n",
              "284806    31\n",
              "Length: 284807, dtype: int64"
            ]
          },
          "metadata": {},
          "execution_count": 6
        }
      ]
    },
    {
      "cell_type": "code",
      "execution_count": null,
      "metadata": {
        "colab": {
          "base_uri": "https://localhost:8080/",
          "height": 299
        },
        "id": "ObETI2aUq8O0",
        "outputId": "cc905ddf-cfad-4bec-d38c-f7ed885e2a03"
      },
      "outputs": [
        {
          "output_type": "execute_result",
          "data": {
            "text/plain": [
              "   Time        V1        V2        V3        V4        V5        V6        V7  \\\n",
              "0   0.0 -1.359807 -0.072781  2.536347  1.378155 -0.338321  0.462388  0.239599   \n",
              "1   0.0  1.191857  0.266151  0.166480  0.448154  0.060018 -0.082361 -0.078803   \n",
              "2   1.0 -1.358354 -1.340163  1.773209  0.379780 -0.503198  1.800499  0.791461   \n",
              "3   1.0 -0.966272 -0.185226  1.792993 -0.863291 -0.010309  1.247203  0.237609   \n",
              "4   2.0 -1.158233  0.877737  1.548718  0.403034 -0.407193  0.095921  0.592941   \n",
              "\n",
              "         V8        V9  ...       V21       V22       V23       V24       V25  \\\n",
              "0  0.098698  0.363787  ... -0.018307  0.277838 -0.110474  0.066928  0.128539   \n",
              "1  0.085102 -0.255425  ... -0.225775 -0.638672  0.101288 -0.339846  0.167170   \n",
              "2  0.247676 -1.514654  ...  0.247998  0.771679  0.909412 -0.689281 -0.327642   \n",
              "3  0.377436 -1.387024  ... -0.108300  0.005274 -0.190321 -1.175575  0.647376   \n",
              "4 -0.270533  0.817739  ... -0.009431  0.798278 -0.137458  0.141267 -0.206010   \n",
              "\n",
              "        V26       V27       V28  Amount  Class  \n",
              "0 -0.189115  0.133558 -0.021053  149.62      0  \n",
              "1  0.125895 -0.008983  0.014724    2.69      0  \n",
              "2 -0.139097 -0.055353 -0.059752  378.66      0  \n",
              "3 -0.221929  0.062723  0.061458  123.50      0  \n",
              "4  0.502292  0.219422  0.215153   69.99      0  \n",
              "\n",
              "[5 rows x 31 columns]"
            ],
            "text/html": [
              "\n",
              "  <div id=\"df-ba462696-3cc4-415b-87a5-d2a260c0df08\">\n",
              "    <div class=\"colab-df-container\">\n",
              "      <div>\n",
              "<style scoped>\n",
              "    .dataframe tbody tr th:only-of-type {\n",
              "        vertical-align: middle;\n",
              "    }\n",
              "\n",
              "    .dataframe tbody tr th {\n",
              "        vertical-align: top;\n",
              "    }\n",
              "\n",
              "    .dataframe thead th {\n",
              "        text-align: right;\n",
              "    }\n",
              "</style>\n",
              "<table border=\"1\" class=\"dataframe\">\n",
              "  <thead>\n",
              "    <tr style=\"text-align: right;\">\n",
              "      <th></th>\n",
              "      <th>Time</th>\n",
              "      <th>V1</th>\n",
              "      <th>V2</th>\n",
              "      <th>V3</th>\n",
              "      <th>V4</th>\n",
              "      <th>V5</th>\n",
              "      <th>V6</th>\n",
              "      <th>V7</th>\n",
              "      <th>V8</th>\n",
              "      <th>V9</th>\n",
              "      <th>...</th>\n",
              "      <th>V21</th>\n",
              "      <th>V22</th>\n",
              "      <th>V23</th>\n",
              "      <th>V24</th>\n",
              "      <th>V25</th>\n",
              "      <th>V26</th>\n",
              "      <th>V27</th>\n",
              "      <th>V28</th>\n",
              "      <th>Amount</th>\n",
              "      <th>Class</th>\n",
              "    </tr>\n",
              "  </thead>\n",
              "  <tbody>\n",
              "    <tr>\n",
              "      <th>0</th>\n",
              "      <td>0.0</td>\n",
              "      <td>-1.359807</td>\n",
              "      <td>-0.072781</td>\n",
              "      <td>2.536347</td>\n",
              "      <td>1.378155</td>\n",
              "      <td>-0.338321</td>\n",
              "      <td>0.462388</td>\n",
              "      <td>0.239599</td>\n",
              "      <td>0.098698</td>\n",
              "      <td>0.363787</td>\n",
              "      <td>...</td>\n",
              "      <td>-0.018307</td>\n",
              "      <td>0.277838</td>\n",
              "      <td>-0.110474</td>\n",
              "      <td>0.066928</td>\n",
              "      <td>0.128539</td>\n",
              "      <td>-0.189115</td>\n",
              "      <td>0.133558</td>\n",
              "      <td>-0.021053</td>\n",
              "      <td>149.62</td>\n",
              "      <td>0</td>\n",
              "    </tr>\n",
              "    <tr>\n",
              "      <th>1</th>\n",
              "      <td>0.0</td>\n",
              "      <td>1.191857</td>\n",
              "      <td>0.266151</td>\n",
              "      <td>0.166480</td>\n",
              "      <td>0.448154</td>\n",
              "      <td>0.060018</td>\n",
              "      <td>-0.082361</td>\n",
              "      <td>-0.078803</td>\n",
              "      <td>0.085102</td>\n",
              "      <td>-0.255425</td>\n",
              "      <td>...</td>\n",
              "      <td>-0.225775</td>\n",
              "      <td>-0.638672</td>\n",
              "      <td>0.101288</td>\n",
              "      <td>-0.339846</td>\n",
              "      <td>0.167170</td>\n",
              "      <td>0.125895</td>\n",
              "      <td>-0.008983</td>\n",
              "      <td>0.014724</td>\n",
              "      <td>2.69</td>\n",
              "      <td>0</td>\n",
              "    </tr>\n",
              "    <tr>\n",
              "      <th>2</th>\n",
              "      <td>1.0</td>\n",
              "      <td>-1.358354</td>\n",
              "      <td>-1.340163</td>\n",
              "      <td>1.773209</td>\n",
              "      <td>0.379780</td>\n",
              "      <td>-0.503198</td>\n",
              "      <td>1.800499</td>\n",
              "      <td>0.791461</td>\n",
              "      <td>0.247676</td>\n",
              "      <td>-1.514654</td>\n",
              "      <td>...</td>\n",
              "      <td>0.247998</td>\n",
              "      <td>0.771679</td>\n",
              "      <td>0.909412</td>\n",
              "      <td>-0.689281</td>\n",
              "      <td>-0.327642</td>\n",
              "      <td>-0.139097</td>\n",
              "      <td>-0.055353</td>\n",
              "      <td>-0.059752</td>\n",
              "      <td>378.66</td>\n",
              "      <td>0</td>\n",
              "    </tr>\n",
              "    <tr>\n",
              "      <th>3</th>\n",
              "      <td>1.0</td>\n",
              "      <td>-0.966272</td>\n",
              "      <td>-0.185226</td>\n",
              "      <td>1.792993</td>\n",
              "      <td>-0.863291</td>\n",
              "      <td>-0.010309</td>\n",
              "      <td>1.247203</td>\n",
              "      <td>0.237609</td>\n",
              "      <td>0.377436</td>\n",
              "      <td>-1.387024</td>\n",
              "      <td>...</td>\n",
              "      <td>-0.108300</td>\n",
              "      <td>0.005274</td>\n",
              "      <td>-0.190321</td>\n",
              "      <td>-1.175575</td>\n",
              "      <td>0.647376</td>\n",
              "      <td>-0.221929</td>\n",
              "      <td>0.062723</td>\n",
              "      <td>0.061458</td>\n",
              "      <td>123.50</td>\n",
              "      <td>0</td>\n",
              "    </tr>\n",
              "    <tr>\n",
              "      <th>4</th>\n",
              "      <td>2.0</td>\n",
              "      <td>-1.158233</td>\n",
              "      <td>0.877737</td>\n",
              "      <td>1.548718</td>\n",
              "      <td>0.403034</td>\n",
              "      <td>-0.407193</td>\n",
              "      <td>0.095921</td>\n",
              "      <td>0.592941</td>\n",
              "      <td>-0.270533</td>\n",
              "      <td>0.817739</td>\n",
              "      <td>...</td>\n",
              "      <td>-0.009431</td>\n",
              "      <td>0.798278</td>\n",
              "      <td>-0.137458</td>\n",
              "      <td>0.141267</td>\n",
              "      <td>-0.206010</td>\n",
              "      <td>0.502292</td>\n",
              "      <td>0.219422</td>\n",
              "      <td>0.215153</td>\n",
              "      <td>69.99</td>\n",
              "      <td>0</td>\n",
              "    </tr>\n",
              "  </tbody>\n",
              "</table>\n",
              "<p>5 rows × 31 columns</p>\n",
              "</div>\n",
              "      <button class=\"colab-df-convert\" onclick=\"convertToInteractive('df-ba462696-3cc4-415b-87a5-d2a260c0df08')\"\n",
              "              title=\"Convert this dataframe to an interactive table.\"\n",
              "              style=\"display:none;\">\n",
              "        \n",
              "  <svg xmlns=\"http://www.w3.org/2000/svg\" height=\"24px\"viewBox=\"0 0 24 24\"\n",
              "       width=\"24px\">\n",
              "    <path d=\"M0 0h24v24H0V0z\" fill=\"none\"/>\n",
              "    <path d=\"M18.56 5.44l.94 2.06.94-2.06 2.06-.94-2.06-.94-.94-2.06-.94 2.06-2.06.94zm-11 1L8.5 8.5l.94-2.06 2.06-.94-2.06-.94L8.5 2.5l-.94 2.06-2.06.94zm10 10l.94 2.06.94-2.06 2.06-.94-2.06-.94-.94-2.06-.94 2.06-2.06.94z\"/><path d=\"M17.41 7.96l-1.37-1.37c-.4-.4-.92-.59-1.43-.59-.52 0-1.04.2-1.43.59L10.3 9.45l-7.72 7.72c-.78.78-.78 2.05 0 2.83L4 21.41c.39.39.9.59 1.41.59.51 0 1.02-.2 1.41-.59l7.78-7.78 2.81-2.81c.8-.78.8-2.07 0-2.86zM5.41 20L4 18.59l7.72-7.72 1.47 1.35L5.41 20z\"/>\n",
              "  </svg>\n",
              "      </button>\n",
              "      \n",
              "  <style>\n",
              "    .colab-df-container {\n",
              "      display:flex;\n",
              "      flex-wrap:wrap;\n",
              "      gap: 12px;\n",
              "    }\n",
              "\n",
              "    .colab-df-convert {\n",
              "      background-color: #E8F0FE;\n",
              "      border: none;\n",
              "      border-radius: 50%;\n",
              "      cursor: pointer;\n",
              "      display: none;\n",
              "      fill: #1967D2;\n",
              "      height: 32px;\n",
              "      padding: 0 0 0 0;\n",
              "      width: 32px;\n",
              "    }\n",
              "\n",
              "    .colab-df-convert:hover {\n",
              "      background-color: #E2EBFA;\n",
              "      box-shadow: 0px 1px 2px rgba(60, 64, 67, 0.3), 0px 1px 3px 1px rgba(60, 64, 67, 0.15);\n",
              "      fill: #174EA6;\n",
              "    }\n",
              "\n",
              "    [theme=dark] .colab-df-convert {\n",
              "      background-color: #3B4455;\n",
              "      fill: #D2E3FC;\n",
              "    }\n",
              "\n",
              "    [theme=dark] .colab-df-convert:hover {\n",
              "      background-color: #434B5C;\n",
              "      box-shadow: 0px 1px 3px 1px rgba(0, 0, 0, 0.15);\n",
              "      filter: drop-shadow(0px 1px 2px rgba(0, 0, 0, 0.3));\n",
              "      fill: #FFFFFF;\n",
              "    }\n",
              "  </style>\n",
              "\n",
              "      <script>\n",
              "        const buttonEl =\n",
              "          document.querySelector('#df-ba462696-3cc4-415b-87a5-d2a260c0df08 button.colab-df-convert');\n",
              "        buttonEl.style.display =\n",
              "          google.colab.kernel.accessAllowed ? 'block' : 'none';\n",
              "\n",
              "        async function convertToInteractive(key) {\n",
              "          const element = document.querySelector('#df-ba462696-3cc4-415b-87a5-d2a260c0df08');\n",
              "          const dataTable =\n",
              "            await google.colab.kernel.invokeFunction('convertToInteractive',\n",
              "                                                     [key], {});\n",
              "          if (!dataTable) return;\n",
              "\n",
              "          const docLinkHtml = 'Like what you see? Visit the ' +\n",
              "            '<a target=\"_blank\" href=https://colab.research.google.com/notebooks/data_table.ipynb>data table notebook</a>'\n",
              "            + ' to learn more about interactive tables.';\n",
              "          element.innerHTML = '';\n",
              "          dataTable['output_type'] = 'display_data';\n",
              "          await google.colab.output.renderOutput(dataTable, element);\n",
              "          const docLink = document.createElement('div');\n",
              "          docLink.innerHTML = docLinkHtml;\n",
              "          element.appendChild(docLink);\n",
              "        }\n",
              "      </script>\n",
              "    </div>\n",
              "  </div>\n",
              "  "
            ]
          },
          "metadata": {},
          "execution_count": 7
        }
      ],
      "source": [
        "data.head()"
      ]
    },
    {
      "cell_type": "code",
      "execution_count": null,
      "metadata": {
        "colab": {
          "base_uri": "https://localhost:8080/"
        },
        "id": "Loq5RpNSq8O0",
        "outputId": "9090b1f8-a5c6-4daf-b2bc-7ab53c8a6ca5"
      },
      "outputs": [
        {
          "output_type": "execute_result",
          "data": {
            "text/plain": [
              "284807"
            ]
          },
          "metadata": {},
          "execution_count": 8
        }
      ],
      "source": [
        "rec_count = len(data)\n",
        "rec_count"
      ]
    },
    {
      "cell_type": "code",
      "execution_count": null,
      "metadata": {
        "id": "39lkMwY9q8O1"
      },
      "outputs": [],
      "source": [
        "sequence_length = 10"
      ]
    },
    {
      "cell_type": "code",
      "execution_count": null,
      "metadata": {
        "id": "AAif-PVuq8O2"
      },
      "outputs": [],
      "source": [
        "def generate_data(X, y, sequence_length = 10, step = 1):\n",
        "    X_local = []\n",
        "    y_local = []\n",
        "    for start in range(0, len(data) - sequence_length, step):\n",
        "        end = start + sequence_length\n",
        "        X_local.append(X[start:end])\n",
        "        y_local.append(y[end-1])\n",
        "    return np.array(X_local), np.array(y_local)\n",
        "\n",
        "X_sequence, y = generate_data(data.loc[:, \"V1\":\"V28\"].values, data.Class)"
      ]
    },
    {
      "cell_type": "code",
      "execution_count": null,
      "metadata": {
        "colab": {
          "base_uri": "https://localhost:8080/"
        },
        "id": "3NmmlOZvq8O3",
        "outputId": "b9b4832b-6bab-4171-db9c-168527807470"
      },
      "outputs": [
        {
          "output_type": "execute_result",
          "data": {
            "text/plain": [
              "((284797, 10, 28), (284797,))"
            ]
          },
          "metadata": {},
          "execution_count": 11
        }
      ],
      "source": [
        "X_sequence.shape, y.shape"
      ]
    },
    {
      "cell_type": "code",
      "execution_count": null,
      "metadata": {
        "colab": {
          "base_uri": "https://localhost:8080/"
        },
        "id": "opH4Cjreq8O4",
        "outputId": "501f593e-8f0a-49e2-aa6d-9f1151709e79"
      },
      "outputs": [
        {
          "output_type": "stream",
          "name": "stdout",
          "text": [
            "Model: \"sequential\"\n",
            "_________________________________________________________________\n",
            " Layer (type)                Output Shape              Param #   \n",
            "=================================================================\n",
            " lstm (LSTM)                 (None, 100)               51600     \n",
            "                                                                 \n",
            " dropout (Dropout)           (None, 100)               0         \n",
            "                                                                 \n",
            " dense (Dense)               (None, 1)                 101       \n",
            "                                                                 \n",
            "=================================================================\n",
            "Total params: 51,701\n",
            "Trainable params: 51,701\n",
            "Non-trainable params: 0\n",
            "_________________________________________________________________\n"
          ]
        }
      ],
      "source": [
        "model = keras.Sequential()\n",
        "model.add(LSTM(100, input_shape = (10, 28)))\n",
        "model.add(Dropout(0.5))\n",
        "model.add(Dense(1, activation=\"sigmoid\"))\n",
        "model.compile(loss=\"binary_crossentropy\"\n",
        "              , metrics=[keras.metrics.binary_accuracy]\n",
        "              , optimizer=\"adam\")\n",
        "\n",
        "model.summary()"
      ]
    },
    {
      "cell_type": "code",
      "execution_count": null,
      "metadata": {
        "id": "mtpvdpZ9q8O5"
      },
      "outputs": [],
      "source": [
        "training_size = int(len(X_sequence) * 0.7)"
      ]
    },
    {
      "cell_type": "code",
      "execution_count": null,
      "metadata": {
        "id": "iT82HxMXq8O6"
      },
      "outputs": [],
      "source": [
        "X_train, y_train = X_sequence[:training_size], y[:training_size]\n",
        "X_test, y_test = X_sequence[training_size:], y[training_size:]"
      ]
    },
    {
      "cell_type": "code",
      "execution_count": null,
      "metadata": {
        "colab": {
          "base_uri": "https://localhost:8080/"
        },
        "id": "DcLkEaaOq8O8",
        "outputId": "b73dd7e4-d0d7-4f5d-c928-07e0ba71a90b"
      },
      "outputs": [
        {
          "output_type": "stream",
          "name": "stdout",
          "text": [
            "Epoch 1/50\n",
            "3115/3115 [==============================] - 42s 13ms/step - loss: 0.0084 - binary_accuracy: 0.9977\n",
            "Epoch 2/50\n",
            "3115/3115 [==============================] - 39s 12ms/step - loss: 0.0036 - binary_accuracy: 0.9993\n",
            "Epoch 3/50\n",
            "3115/3115 [==============================] - 39s 12ms/step - loss: 0.0035 - binary_accuracy: 0.9993\n",
            "Epoch 4/50\n",
            "3115/3115 [==============================] - 39s 13ms/step - loss: 0.0034 - binary_accuracy: 0.9993\n",
            "Epoch 5/50\n",
            "3115/3115 [==============================] - 39s 13ms/step - loss: 0.0031 - binary_accuracy: 0.9993\n",
            "Epoch 6/50\n",
            "3115/3115 [==============================] - 39s 13ms/step - loss: 0.0028 - binary_accuracy: 0.9993\n",
            "Epoch 7/50\n",
            "3115/3115 [==============================] - 39s 12ms/step - loss: 0.0027 - binary_accuracy: 0.9994\n",
            "Epoch 8/50\n",
            "3115/3115 [==============================] - 39s 13ms/step - loss: 0.0025 - binary_accuracy: 0.9994\n",
            "Epoch 9/50\n",
            "3115/3115 [==============================] - 39s 12ms/step - loss: 0.0023 - binary_accuracy: 0.9995\n",
            "Epoch 10/50\n",
            "3115/3115 [==============================] - 39s 13ms/step - loss: 0.0018 - binary_accuracy: 0.9995\n",
            "Epoch 11/50\n",
            "3115/3115 [==============================] - 39s 13ms/step - loss: 0.0015 - binary_accuracy: 0.9995\n",
            "Epoch 12/50\n",
            "3115/3115 [==============================] - 40s 13ms/step - loss: 0.0012 - binary_accuracy: 0.9996\n",
            "Epoch 13/50\n",
            "3115/3115 [==============================] - 40s 13ms/step - loss: 0.0010 - binary_accuracy: 0.9996\n",
            "Epoch 14/50\n",
            "3115/3115 [==============================] - 40s 13ms/step - loss: 9.0769e-04 - binary_accuracy: 0.9997\n",
            "Epoch 15/50\n",
            "3115/3115 [==============================] - 40s 13ms/step - loss: 5.6655e-04 - binary_accuracy: 0.9998\n",
            "Epoch 16/50\n",
            "3115/3115 [==============================] - 40s 13ms/step - loss: 5.9975e-04 - binary_accuracy: 0.9998\n",
            "Epoch 17/50\n",
            "3115/3115 [==============================] - 40s 13ms/step - loss: 5.7273e-04 - binary_accuracy: 0.9998\n",
            "Epoch 18/50\n",
            "3115/3115 [==============================] - 40s 13ms/step - loss: 3.4680e-04 - binary_accuracy: 0.9999\n",
            "Epoch 19/50\n",
            "3115/3115 [==============================] - 40s 13ms/step - loss: 2.9144e-04 - binary_accuracy: 0.9999\n",
            "Epoch 20/50\n",
            "3115/3115 [==============================] - 40s 13ms/step - loss: 1.8200e-04 - binary_accuracy: 0.9999\n",
            "Epoch 21/50\n",
            "3115/3115 [==============================] - 39s 13ms/step - loss: 2.0154e-04 - binary_accuracy: 0.9999\n",
            "Epoch 22/50\n",
            "3115/3115 [==============================] - 40s 13ms/step - loss: 3.7250e-04 - binary_accuracy: 0.9999\n",
            "Epoch 23/50\n",
            "3115/3115 [==============================] - 40s 13ms/step - loss: 9.4611e-05 - binary_accuracy: 1.0000\n",
            "Epoch 24/50\n",
            "3115/3115 [==============================] - 39s 13ms/step - loss: 2.0629e-04 - binary_accuracy: 0.9999\n",
            "Epoch 25/50\n",
            "3115/3115 [==============================] - 39s 13ms/step - loss: 1.4303e-04 - binary_accuracy: 0.9999\n",
            "Epoch 26/50\n",
            "3115/3115 [==============================] - 39s 13ms/step - loss: 9.2840e-05 - binary_accuracy: 1.0000\n",
            "Epoch 27/50\n",
            "3115/3115 [==============================] - 39s 13ms/step - loss: 2.5350e-04 - binary_accuracy: 0.9999\n",
            "Epoch 28/50\n",
            "3115/3115 [==============================] - 39s 13ms/step - loss: 1.0148e-04 - binary_accuracy: 1.0000\n",
            "Epoch 29/50\n",
            "3115/3115 [==============================] - 39s 13ms/step - loss: 8.1495e-05 - binary_accuracy: 1.0000\n",
            "Epoch 30/50\n",
            "3115/3115 [==============================] - 39s 13ms/step - loss: 2.2977e-04 - binary_accuracy: 0.9999\n",
            "Epoch 31/50\n",
            "3115/3115 [==============================] - 39s 13ms/step - loss: 1.5887e-04 - binary_accuracy: 1.0000\n",
            "Epoch 32/50\n",
            "3115/3115 [==============================] - 39s 13ms/step - loss: 8.8284e-05 - binary_accuracy: 1.0000\n",
            "Epoch 33/50\n",
            "3115/3115 [==============================] - 39s 13ms/step - loss: 3.2299e-05 - binary_accuracy: 1.0000\n",
            "Epoch 34/50\n",
            "3115/3115 [==============================] - 39s 13ms/step - loss: 1.0855e-04 - binary_accuracy: 1.0000\n",
            "Epoch 35/50\n",
            "3115/3115 [==============================] - 39s 13ms/step - loss: 9.8478e-05 - binary_accuracy: 1.0000\n",
            "Epoch 36/50\n",
            "3115/3115 [==============================] - 39s 13ms/step - loss: 9.9370e-05 - binary_accuracy: 1.0000\n",
            "Epoch 37/50\n",
            "3115/3115 [==============================] - 39s 13ms/step - loss: 3.2878e-05 - binary_accuracy: 1.0000\n",
            "Epoch 38/50\n",
            "3115/3115 [==============================] - 39s 13ms/step - loss: 7.1356e-05 - binary_accuracy: 1.0000\n",
            "Epoch 39/50\n",
            "3115/3115 [==============================] - 39s 13ms/step - loss: 7.9884e-05 - binary_accuracy: 1.0000\n",
            "Epoch 40/50\n",
            "3115/3115 [==============================] - 39s 13ms/step - loss: 1.3552e-04 - binary_accuracy: 0.9999\n",
            "Epoch 41/50\n",
            "3115/3115 [==============================] - 39s 13ms/step - loss: 1.0118e-04 - binary_accuracy: 1.0000\n",
            "Epoch 42/50\n",
            "3115/3115 [==============================] - 40s 13ms/step - loss: 8.6926e-05 - binary_accuracy: 1.0000\n",
            "Epoch 43/50\n",
            "3115/3115 [==============================] - 40s 13ms/step - loss: 7.2758e-05 - binary_accuracy: 1.0000\n",
            "Epoch 44/50\n",
            "3115/3115 [==============================] - 40s 13ms/step - loss: 1.6118e-05 - binary_accuracy: 1.0000\n",
            "Epoch 45/50\n",
            "3115/3115 [==============================] - 40s 13ms/step - loss: 6.3192e-05 - binary_accuracy: 1.0000\n",
            "Epoch 46/50\n",
            "3115/3115 [==============================] - 40s 13ms/step - loss: 1.2664e-04 - binary_accuracy: 1.0000\n",
            "Epoch 47/50\n",
            "3115/3115 [==============================] - 40s 13ms/step - loss: 8.6155e-05 - binary_accuracy: 1.0000\n",
            "Epoch 48/50\n",
            "3115/3115 [==============================] - 40s 13ms/step - loss: 3.7139e-05 - binary_accuracy: 1.0000\n",
            "Epoch 49/50\n",
            "3115/3115 [==============================] - 40s 13ms/step - loss: 1.1242e-04 - binary_accuracy: 1.0000\n",
            "Epoch 50/50\n",
            "3115/3115 [==============================] - 40s 13ms/step - loss: 1.0691e-04 - binary_accuracy: 1.0000\n"
          ]
        },
        {
          "output_type": "execute_result",
          "data": {
            "text/plain": [
              "<keras.callbacks.History at 0x7f01cde30090>"
            ]
          },
          "metadata": {},
          "execution_count": 24
        }
      ],
      "source": [
        "model.fit(X_train, y_train, batch_size=64, epochs=50)"
      ]
    },
    {
      "cell_type": "code",
      "execution_count": null,
      "metadata": {
        "colab": {
          "base_uri": "https://localhost:8080/"
        },
        "id": "yCAEMB9Mq8O9",
        "outputId": "528a9f62-479f-42c1-a18c-7ca78b52ec76"
      },
      "outputs": [
        {
          "output_type": "stream",
          "name": "stdout",
          "text": [
            "2670/2670 [==============================] - 11s 4ms/step - loss: 0.0093 - binary_accuracy: 0.9995\n"
          ]
        },
        {
          "output_type": "execute_result",
          "data": {
            "text/plain": [
              "[0.009258361533284187, 0.9994966983795166]"
            ]
          },
          "metadata": {},
          "execution_count": 25
        }
      ],
      "source": [
        "model.evaluate(X_test, y_test)"
      ]
    },
    {
      "cell_type": "code",
      "execution_count": null,
      "metadata": {
        "colab": {
          "base_uri": "https://localhost:8080/"
        },
        "id": "i-xZgxOXq8O-",
        "outputId": "42ab792a-824a-4c32-90b7-ad922ccf1af8"
      },
      "outputs": [
        {
          "output_type": "stream",
          "name": "stdout",
          "text": [
            "2670/2670 [==============================] - 10s 4ms/step\n"
          ]
        }
      ],
      "source": [
        "y_test_prob = model.predict(X_test, verbose=1)"
      ]
    },
    {
      "cell_type": "code",
      "execution_count": null,
      "metadata": {
        "id": "G8FVkvSWq8O_"
      },
      "outputs": [],
      "source": [
        "y_test_pred = np.where(y_test_prob > 0.5, 1, 0)"
      ]
    },
    {
      "cell_type": "code",
      "execution_count": null,
      "metadata": {
        "id": "CG5V06_fq8O_"
      },
      "outputs": [],
      "source": [
        "from sklearn.metrics import confusion_matrix"
      ]
    },
    {
      "cell_type": "code",
      "execution_count": null,
      "metadata": {
        "colab": {
          "base_uri": "https://localhost:8080/"
        },
        "id": "OO4eLqlbq8PA",
        "outputId": "8b3a23e0-45d3-4b87-e154-6a44bd438886"
      },
      "outputs": [
        {
          "output_type": "execute_result",
          "data": {
            "text/plain": [
              "array([[85330,     2],\n",
              "       [   41,    67]])"
            ]
          },
          "metadata": {},
          "execution_count": 29
        }
      ],
      "source": [
        "confusion_matrix(y_test, y_test_pred)"
      ]
    },
    {
      "cell_type": "code",
      "execution_count": null,
      "metadata": {
        "id": "DYDcOxHbq8PB"
      },
      "outputs": [],
      "source": [
        ""
      ]
    }
  ],
  "metadata": {
    "kernelspec": {
      "display_name": "Python 3",
      "language": "python",
      "name": "python3"
    },
    "language_info": {
      "codemirror_mode": {
        "name": "ipython",
        "version": 3
      },
      "file_extension": ".py",
      "mimetype": "text/x-python",
      "name": "python",
      "nbconvert_exporter": "python",
      "pygments_lexer": "ipython3",
      "version": "3.7.3"
    },
    "colab": {
      "name": "Keras - Multivariate time series classification using LSTM.ipynb.txt",
      "provenance": [],
      "include_colab_link": true
    }
  },
  "nbformat": 4,
  "nbformat_minor": 0
}
