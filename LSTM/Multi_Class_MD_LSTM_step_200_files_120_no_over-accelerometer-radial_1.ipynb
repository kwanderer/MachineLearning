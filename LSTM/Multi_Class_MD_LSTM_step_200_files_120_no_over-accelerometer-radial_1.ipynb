{
  "cells": [
    {
      "cell_type": "markdown",
      "metadata": {
        "id": "view-in-github",
        "colab_type": "text"
      },
      "source": [
        "<a href=\"https://colab.research.google.com/github/kwanderer/Autonomas-sistemas-un-roboti/blob/main/Multi_Class_MD_LSTM_step_200_files_120_no_over-accelerometer-radial_1.ipynb\" target=\"_parent\"><img src=\"https://colab.research.google.com/assets/colab-badge.svg\" alt=\"Open In Colab\"/></a>"
      ]
    },
    {
      "cell_type": "markdown",
      "metadata": {
        "id": "f857kfHqUk0-"
      },
      "source": [
        "\n",
        "\n",
        "#Datu kopa"
      ]
    },
    {
      "cell_type": "markdown",
      "metadata": {
        "id": "nM9WE3QGUwVi"
      },
      "source": [
        "Datu kopas avots: https://www.kaggle.com/uysalserkan/fault-induction-motor-dataset"
      ]
    },
    {
      "cell_type": "markdown",
      "metadata": {
        "id": "_sN_h3qHHy6r"
      },
      "source": [
        "Darbā tiek izmantota indukcijas motora parametru datu bāze. Izmantotajā datu kopā ir dati, kas tika iegūti SpectraQuest aparatūras kļūdu simulatorā (Machinery Fault Simulator).\n",
        "\n",
        "Katra mērījumu secība tika ģenerēta ar frekvenci 50 kHz 5 sekunžu laikā, kopā 250 000 mērījumi.\n",
        "\n",
        "Dati ir apkopoti vairākos failos, dažādos darbības stāvokļos un to apjoms ir ļoti liels. Šajā darbā tika izmantota daļa(viena mērījumu secība) no motora normālas darbības datiem.\n"
      ]
    },
    {
      "cell_type": "markdown",
      "metadata": {
        "id": "KtFAOaHYHLPo"
      },
      "source": [
        "Dati ir apkopoti tabulā, kura satur 8 parametrus. Dati ir iedalīti sekojošās kolonas:\n",
        "\n",
        "**tachometer** – tahometra signāls, kas ļauj novērtēt rotācijas frekvenci\n",
        "\n",
        "**und-accelerometer-axial** - apakšā esošā gultņa akselerometrs (aksiālais virziens)\n",
        "\n",
        "**und-accelerometer-radial** – apakšā esošā gultņa akselerometrs (radiālais virziens)\n",
        "\n",
        "**und-accelerometer-tangential** - apakšā esošā gultņa akselerometrs (tangenciālais virziens)\n",
        "\n",
        "**over-accelerometer-axial** - pārkares gultņa akselerometrs (aksiālais virziens)\n",
        "\n",
        "**over-accelerometer-radial** – pārkares gultņa akselerometrs (radiālais  virziens)\n",
        "\n",
        "**over-accelerometer-tangential**  - pārkares gultņa akselerometrs (tangenciālais virziens)\n",
        "\n",
        "**microphone** – mikrofona vērtība\n"
      ]
    },
    {
      "cell_type": "markdown",
      "metadata": {
        "id": "XymoNLKMVFUC"
      },
      "source": [
        "#Datu ielasīšana un satura vizualizācija"
      ]
    },
    {
      "cell_type": "code",
      "execution_count": 1,
      "metadata": {
        "id": "_yqYZDeOFq5s"
      },
      "outputs": [],
      "source": [
        "import keras\n",
        "from keras.layers import LSTM, Dropout, Dense\n",
        "import tensorflow as tf\n",
        "import numpy as np\n",
        "import pandas as pd\n",
        "\n",
        "from sklearn import linear_model  #pip install sklearn - loti plasa masinapmacibas biblioteka\n",
        "from sklearn.linear_model import LinearRegression  \n",
        "import csv          #pip install csv - darbam ar CSV datu kopam\n",
        "import requests     #pip install requests  - vienkarsakam darbam ar tiessaistes CSV datu kopam tiessaistes\n",
        "\n",
        "import matplotlib\n",
        "import matplotlib.pyplot as plt\n",
        "\n",
        "import glob\n"
      ]
    },
    {
      "cell_type": "code",
      "execution_count": 2,
      "metadata": {
        "id": "wlRTBbM2eUcV",
        "colab": {
          "base_uri": "https://localhost:8080/"
        },
        "outputId": "3ce62a53-a6eb-4506-a28c-c00d87294b57"
      },
      "outputs": [
        {
          "output_type": "stream",
          "name": "stdout",
          "text": [
            "Mounted at /content/gdrive\n"
          ]
        }
      ],
      "source": [
        "from google.colab import drive\n",
        "import os\n",
        "drive.mount('/content/gdrive')\n",
        "os.chdir(\"/content/gdrive/MyDrive/Colab Notebooks/data_multiclass/\")"
      ]
    },
    {
      "cell_type": "code",
      "execution_count": 3,
      "metadata": {
        "id": "zzz6fBl_SNom"
      },
      "outputs": [],
      "source": [
        "#extension = 'csv'\n",
        "#all_filenames = [i for i in glob.glob('*.{}'.format(extension))]"
      ]
    },
    {
      "cell_type": "code",
      "execution_count": 4,
      "metadata": {
        "id": "vagKFCkToBi0"
      },
      "outputs": [],
      "source": [
        "#combine all files in the list\n",
        "#combined_csv = pd.concat([pd.read_csv(f) for f in all_filenames ])\n",
        "#export to csv\n",
        "#combined_csv.to_csv( \"combined_multiclass_csv.csv\", index=False, encoding='utf-8-sig')"
      ]
    },
    {
      "cell_type": "code",
      "execution_count": 5,
      "metadata": {
        "id": "encEkbDhSfGI"
      },
      "outputs": [],
      "source": [
        "data = pd.read_csv(\"combined_multiclass_csv.csv\")"
      ]
    },
    {
      "cell_type": "code",
      "execution_count": 6,
      "metadata": {
        "id": "yz5Qe8ZWk1Zq",
        "colab": {
          "base_uri": "https://localhost:8080/"
        },
        "outputId": "ba22a635-db46-49ab-f618-92bd8608db7f"
      },
      "outputs": [
        {
          "output_type": "stream",
          "name": "stdout",
          "text": [
            "<class 'pandas.core.frame.DataFrame'>\n",
            "RangeIndex: 30000000 entries, 0 to 29999999\n",
            "Data columns (total 9 columns):\n",
            " #   Column                         Dtype  \n",
            "---  ------                         -----  \n",
            " 0   tachometer                     float64\n",
            " 1   und-accelerometer-axial        float64\n",
            " 2   und-accelerometer-radial       float64\n",
            " 3   und-accelerometer-tangential   float64\n",
            " 4   over-accelerometer-axial       float64\n",
            " 5   over-accelerometer-radial      float64\n",
            " 6   over-accelerometer-tangential  float64\n",
            " 7   microphone                     float64\n",
            " 8   Class                          int64  \n",
            "dtypes: float64(8), int64(1)\n",
            "memory usage: 2.0 GB\n"
          ]
        }
      ],
      "source": [
        "data.info()"
      ]
    },
    {
      "cell_type": "code",
      "execution_count": 7,
      "metadata": {
        "id": "WUW9ezX6a_st",
        "colab": {
          "base_uri": "https://localhost:8080/"
        },
        "outputId": "aa8c6676-e368-4e9b-cb32-617fdea5ab3e"
      },
      "outputs": [
        {
          "output_type": "execute_result",
          "data": {
            "text/plain": [
              "30000000"
            ]
          },
          "metadata": {},
          "execution_count": 7
        }
      ],
      "source": [
        "rec_count = len(data)\n",
        "rec_count"
      ]
    },
    {
      "cell_type": "markdown",
      "metadata": {
        "id": "6RVC1PZy88fC"
      },
      "source": [
        "# Datu dalīšana mazākos gabalos"
      ]
    },
    {
      "cell_type": "code",
      "execution_count": 8,
      "metadata": {
        "id": "DOvnCYkcbGaE"
      },
      "outputs": [],
      "source": [
        "sequence_length = 200"
      ]
    },
    {
      "cell_type": "code",
      "execution_count": 9,
      "metadata": {
        "id": "RG0o2L3zbTEx"
      },
      "outputs": [],
      "source": [
        "def generate_data(X, y, sequence_length = 200, step = 200):\n",
        "    X_local = []\n",
        "    y_local = []\n",
        "    for start in range(0, len(data) - sequence_length, step):\n",
        "        end = start + sequence_length\n",
        "        X_local.append(X[start:end])\n",
        "        y_local.append(y[end-1])\n",
        "    return np.array(X_local), np.array(y_local)\n",
        "\n",
        "#X_sequence, y = generate_data(data.loc[:, [\"tachometer\", \"und-accelerometer-axial\", \"und-accelerometer-radial\", \"und-accelerometer-tangential\", \"over-accelerometer-axial\", \"over-accelerometer-radial\", \"over-accelerometer-tangential\", \"microphone\"]].values, data.Class)\n",
        "#\"over-accelerometer-radial\"\n",
        "X_sequence, y = generate_data(data.loc[:, [\"tachometer\", \"und-accelerometer-axial\", \"und-accelerometer-radial\", \"und-accelerometer-tangential\", \"over-accelerometer-axial\", \"over-accelerometer-tangential\", \"microphone\"]].values, data.Class)\n"
      ]
    },
    {
      "cell_type": "code",
      "execution_count": 10,
      "metadata": {
        "id": "s0QxwK66cLVF",
        "colab": {
          "base_uri": "https://localhost:8080/"
        },
        "outputId": "49bf4f65-5ce1-4609-9ce0-14df30fe365d"
      },
      "outputs": [
        {
          "output_type": "execute_result",
          "data": {
            "text/plain": [
              "((149999, 200, 7), (149999,))"
            ]
          },
          "metadata": {},
          "execution_count": 10
        }
      ],
      "source": [
        "X_sequence.shape, y.shape"
      ]
    },
    {
      "cell_type": "code",
      "source": [
        "unique, counts = np.unique(y, return_counts=True)"
      ],
      "metadata": {
        "id": "l8Lq455lV1JR"
      },
      "execution_count": 11,
      "outputs": []
    },
    {
      "cell_type": "code",
      "source": [
        "unique"
      ],
      "metadata": {
        "id": "t0BRO3nAWQxe",
        "colab": {
          "base_uri": "https://localhost:8080/"
        },
        "outputId": "1bdcffb3-ba1e-4336-84b0-387d913f5d1e"
      },
      "execution_count": 12,
      "outputs": [
        {
          "output_type": "execute_result",
          "data": {
            "text/plain": [
              "array([0, 1, 2, 3, 4, 5, 6, 7])"
            ]
          },
          "metadata": {},
          "execution_count": 12
        }
      ]
    },
    {
      "cell_type": "code",
      "source": [
        "counts"
      ],
      "metadata": {
        "id": "WWZ7QWR4WS_r",
        "colab": {
          "base_uri": "https://localhost:8080/"
        },
        "outputId": "c937c77d-0e08-4532-b0c6-808a3e83f657"
      },
      "execution_count": 13,
      "outputs": [
        {
          "output_type": "execute_result",
          "data": {
            "text/plain": [
              "array([18749, 18750, 18750, 18750, 18750, 18750, 18750, 18750])"
            ]
          },
          "metadata": {},
          "execution_count": 13
        }
      ]
    },
    {
      "cell_type": "code",
      "execution_count": 14,
      "metadata": {
        "id": "i7R1oo6Mj8wx"
      },
      "outputs": [],
      "source": [
        "data = 0"
      ]
    },
    {
      "cell_type": "code",
      "source": [
        "from sklearn.preprocessing import OneHotEncoder"
      ],
      "metadata": {
        "id": "lAk_JscRWmqY"
      },
      "execution_count": 15,
      "outputs": []
    },
    {
      "cell_type": "code",
      "source": [
        "label_encoder = OneHotEncoder(sparse=False)\n",
        "label_encoder.fit(y.reshape(-1,1))"
      ],
      "metadata": {
        "id": "14B9aYy0W0y6",
        "colab": {
          "base_uri": "https://localhost:8080/"
        },
        "outputId": "9cd9ff79-46ac-4997-b73d-6b52917269c6"
      },
      "execution_count": 16,
      "outputs": [
        {
          "output_type": "execute_result",
          "data": {
            "text/plain": [
              "OneHotEncoder(sparse=False)"
            ]
          },
          "metadata": {},
          "execution_count": 16
        }
      ]
    },
    {
      "cell_type": "code",
      "source": [
        "y_encoded = label_encoder.transform(y.reshape(-1,1))"
      ],
      "metadata": {
        "id": "VjpWn96xXgPS"
      },
      "execution_count": 17,
      "outputs": []
    },
    {
      "cell_type": "code",
      "source": [
        "y_encoded[0:5]"
      ],
      "metadata": {
        "id": "VL6KMFo9XpBi",
        "colab": {
          "base_uri": "https://localhost:8080/"
        },
        "outputId": "42bdaa7d-dbd1-4988-bc01-9607b1995d24"
      },
      "execution_count": 18,
      "outputs": [
        {
          "output_type": "execute_result",
          "data": {
            "text/plain": [
              "array([[0., 0., 0., 0., 0., 0., 0., 1.],\n",
              "       [0., 0., 0., 0., 0., 0., 0., 1.],\n",
              "       [0., 0., 0., 0., 0., 0., 0., 1.],\n",
              "       [0., 0., 0., 0., 0., 0., 0., 1.],\n",
              "       [0., 0., 0., 0., 0., 0., 0., 1.]])"
            ]
          },
          "metadata": {},
          "execution_count": 18
        }
      ]
    },
    {
      "cell_type": "code",
      "source": [
        "y=y_encoded"
      ],
      "metadata": {
        "id": "5c8km253YKBl"
      },
      "execution_count": 19,
      "outputs": []
    },
    {
      "cell_type": "markdown",
      "metadata": {
        "id": "5BXSDoHa9UX_"
      },
      "source": [
        "# Random/Shuffle"
      ]
    },
    {
      "cell_type": "code",
      "execution_count": 20,
      "metadata": {
        "id": "ZcfE9idy-ckb"
      },
      "outputs": [],
      "source": [
        "shuffler = np.random.permutation(len(X_sequence))\n",
        "X_sequence_shuffled = X_sequence[shuffler]\n",
        "y_shuffled = y[shuffler]"
      ]
    },
    {
      "cell_type": "markdown",
      "metadata": {
        "id": "TfhRTTNcE2s8"
      },
      "source": [
        "# LSTM"
      ]
    },
    {
      "cell_type": "code",
      "execution_count": 21,
      "metadata": {
        "id": "ihrXMuVAEwlY"
      },
      "outputs": [],
      "source": [
        "import pandas as pd\n",
        "import sklearn.metrics as metrique\n",
        "from pandas import Series\n",
        "from sklearn.preprocessing import StandardScaler, MinMaxScaler\n",
        "from matplotlib import pyplot\n",
        "from sklearn.model_selection import train_test_split\n",
        "import numpy as np\n",
        "import tensorflow as tf\n",
        "import sys\n",
        "import numpy as np\n",
        "import pandas as pd\n",
        "import tensorflow as tf\n",
        "import matplotlib.pyplot as plt\n",
        "from sklearn.model_selection import train_test_split\n",
        "from sklearn import preprocessing\n",
        "from sklearn.preprocessing import StandardScaler\n",
        "from sklearn.metrics import classification_report\n",
        "import warnings\n",
        "warnings.filterwarnings('ignore')\n",
        "plt.style.use('ggplot')\n",
        "import seaborn as sns \n",
        "%matplotlib inline\n",
        "from keras.callbacks import EarlyStopping\n",
        "from keras.callbacks import ModelCheckpoint\n",
        "from sklearn.metrics import accuracy_score\n",
        "from sklearn.metrics import classification_report, confusion_matrix\n",
        "from keras.models import Sequential\n",
        "from keras.utils import np_utils\n",
        "from keras.layers import LSTM, Dense, Embedding, Dropout,Input, Layer, Concatenate, Permute, Dot, Multiply, Flatten\n",
        "from keras.layers import RepeatVector, Dense, Activation, Lambda\n",
        "from keras.models import Sequential\n",
        "from keras import backend as K, regularizers, Model, metrics\n",
        "from keras.backend import cast"
      ]
    },
    {
      "cell_type": "code",
      "execution_count": 22,
      "metadata": {
        "id": "PjKWKiA6aH3z"
      },
      "outputs": [],
      "source": [
        "#from tensorflow.keras import optimizers\n",
        "#sgd = optimizers.SGD(lr=0.0001, decay=1e-6, momentum=0.9, nesterov=True)\n",
        "#model = keras.Sequential()\n",
        "#model.add(LSTM(100, input_shape = (200, 8)))\n",
        "#model.add(Dropout(0.5))\n",
        "#model.add(Dense(1, activation=\"softmax\"))\n",
        "\n",
        "\n",
        "#model.compile(loss=\"categorical_crossentropy\"\n",
        "#              , metrics=[keras.metrics.binary_accuracy]\n",
        "#              , optimizer='sgd')\n",
        "\n",
        "#model.summary()"
      ]
    },
    {
      "cell_type": "code",
      "execution_count": 23,
      "metadata": {
        "id": "_2SaVmwSWJVB",
        "colab": {
          "base_uri": "https://localhost:8080/"
        },
        "outputId": "d31895aa-f50c-456a-c741-75c788ea751b"
      },
      "outputs": [
        {
          "output_type": "stream",
          "name": "stdout",
          "text": [
            "Model: \"sequential\"\n",
            "_________________________________________________________________\n",
            " Layer (type)                Output Shape              Param #   \n",
            "=================================================================\n",
            " lstm (LSTM)                 (None, 150)               94800     \n",
            "                                                                 \n",
            " dropout (Dropout)           (None, 150)               0         \n",
            "                                                                 \n",
            " dense (Dense)               (None, 8)                 1208      \n",
            "                                                                 \n",
            "=================================================================\n",
            "Total params: 96,008\n",
            "Trainable params: 96,008\n",
            "Non-trainable params: 0\n",
            "_________________________________________________________________\n"
          ]
        }
      ],
      "source": [
        "from tensorflow.keras import optimizers\n",
        "#sgd = optimizers.SGD(lr=0.0001, decay=1e-6, momentum=0.9, nesterov=True)\n",
        "optimizer = tf.keras.optimizers.Adam(lr=0.0001)\n",
        "model = keras.Sequential()\n",
        "model.add(LSTM(150, input_shape = (200, 7)))\n",
        "model.add(Dropout(0.5))#0.25\n",
        "model.add(Dense(8, activation=\"softmax\"))\n",
        "\n",
        "#model.compile(loss='mean_squared_error', optimizer=sgd)\n",
        "model.compile(loss=\"categorical_crossentropy\"\n",
        "              , metrics=['accuracy']\n",
        "              , optimizer=optimizer)\n",
        "\n",
        "model.summary()"
      ]
    },
    {
      "cell_type": "code",
      "execution_count": 24,
      "metadata": {
        "id": "tg8wrqsqc8UX"
      },
      "outputs": [],
      "source": [
        "training_size = int(len(X_sequence) * 0.8)\n",
        "val_size = int(len(X_sequence) * 0.9)"
      ]
    },
    {
      "cell_type": "code",
      "execution_count": 25,
      "metadata": {
        "id": "avIp3TEKc-qF"
      },
      "outputs": [],
      "source": [
        "X_train, y_train = X_sequence_shuffled[:training_size], y_shuffled[:training_size]\n",
        "X_val, y_val = X_sequence_shuffled[training_size:val_size], y_shuffled[training_size:val_size]\n",
        "X_test, y_test = X_sequence_shuffled[val_size:], y_shuffled[val_size:]"
      ]
    },
    {
      "cell_type": "code",
      "execution_count": 26,
      "metadata": {
        "id": "RABc_uKzkBUT"
      },
      "outputs": [],
      "source": [
        "#X_sequence = 0\n",
        "#y = 0"
      ]
    },
    {
      "cell_type": "code",
      "source": [
        "X_train.shape"
      ],
      "metadata": {
        "id": "Omv-ht1dhGxL",
        "colab": {
          "base_uri": "https://localhost:8080/"
        },
        "outputId": "74fdc0f1-e7ca-410e-f468-6128292552b4"
      },
      "execution_count": 27,
      "outputs": [
        {
          "output_type": "execute_result",
          "data": {
            "text/plain": [
              "(119999, 200, 7)"
            ]
          },
          "metadata": {},
          "execution_count": 27
        }
      ]
    },
    {
      "cell_type": "code",
      "execution_count": 28,
      "metadata": {
        "id": "8aIhPJ-wLCwZ",
        "colab": {
          "base_uri": "https://localhost:8080/"
        },
        "outputId": "91ef1b75-62e4-4f35-a08f-f39d140a17a5"
      },
      "outputs": [
        {
          "output_type": "execute_result",
          "data": {
            "text/plain": [
              "array([[0., 0., 0., 0., 1., 0., 0., 0.],\n",
              "       [0., 0., 0., 0., 0., 1., 0., 0.],\n",
              "       [0., 0., 0., 1., 0., 0., 0., 0.],\n",
              "       [0., 0., 0., 0., 0., 0., 1., 0.],\n",
              "       [0., 0., 0., 1., 0., 0., 0., 0.],\n",
              "       [0., 0., 0., 1., 0., 0., 0., 0.],\n",
              "       [1., 0., 0., 0., 0., 0., 0., 0.],\n",
              "       [0., 0., 1., 0., 0., 0., 0., 0.],\n",
              "       [0., 0., 0., 0., 0., 0., 1., 0.],\n",
              "       [0., 0., 0., 0., 0., 0., 1., 0.]])"
            ]
          },
          "metadata": {},
          "execution_count": 28
        }
      ],
      "source": [
        "y_train[:10]"
      ]
    },
    {
      "cell_type": "code",
      "execution_count": 29,
      "metadata": {
        "id": "cen4faX0dFJP",
        "colab": {
          "base_uri": "https://localhost:8080/"
        },
        "outputId": "6e124b8d-3417-4b33-ffcc-41e54ad64795"
      },
      "outputs": [
        {
          "output_type": "stream",
          "name": "stdout",
          "text": [
            "Epoch 1/100\n",
            "1875/1875 [==============================] - 126s 63ms/step - loss: 1.8262 - accuracy: 0.2283 - val_loss: 1.6668 - val_accuracy: 0.2890\n",
            "Epoch 2/100\n",
            "1875/1875 [==============================] - 117s 63ms/step - loss: 1.6725 - accuracy: 0.2795 - val_loss: 1.5878 - val_accuracy: 0.3351\n",
            "Epoch 3/100\n",
            "1875/1875 [==============================] - 116s 62ms/step - loss: 1.5916 - accuracy: 0.3405 - val_loss: 1.5657 - val_accuracy: 0.3819\n",
            "Epoch 4/100\n",
            "1875/1875 [==============================] - 116s 62ms/step - loss: 1.5270 - accuracy: 0.3744 - val_loss: 1.4568 - val_accuracy: 0.4059\n",
            "Epoch 5/100\n",
            "1875/1875 [==============================] - 116s 62ms/step - loss: 1.4868 - accuracy: 0.3842 - val_loss: 1.4486 - val_accuracy: 0.3934\n",
            "Epoch 6/100\n",
            "1875/1875 [==============================] - 116s 62ms/step - loss: 1.4498 - accuracy: 0.4003 - val_loss: 1.3866 - val_accuracy: 0.4325\n",
            "Epoch 7/100\n",
            "1875/1875 [==============================] - 116s 62ms/step - loss: 1.4572 - accuracy: 0.4049 - val_loss: 1.3893 - val_accuracy: 0.4327\n",
            "Epoch 8/100\n",
            "1875/1875 [==============================] - 117s 62ms/step - loss: 1.4679 - accuracy: 0.4141 - val_loss: 1.8735 - val_accuracy: 0.3061\n",
            "Epoch 9/100\n",
            "1875/1875 [==============================] - 115s 62ms/step - loss: 1.5440 - accuracy: 0.3790 - val_loss: 1.4011 - val_accuracy: 0.4283\n",
            "Epoch 10/100\n",
            "1875/1875 [==============================] - 117s 62ms/step - loss: 1.4082 - accuracy: 0.4257 - val_loss: 1.3524 - val_accuracy: 0.4551\n",
            "Epoch 11/100\n",
            "1875/1875 [==============================] - 117s 62ms/step - loss: 1.3815 - accuracy: 0.4406 - val_loss: 1.3810 - val_accuracy: 0.4293\n",
            "Epoch 12/100\n",
            "1875/1875 [==============================] - 116s 62ms/step - loss: 1.3848 - accuracy: 0.4410 - val_loss: 1.4263 - val_accuracy: 0.4333\n",
            "Epoch 13/100\n",
            "1875/1875 [==============================] - 117s 62ms/step - loss: 1.3868 - accuracy: 0.4446 - val_loss: 1.3298 - val_accuracy: 0.4703\n",
            "Epoch 14/100\n",
            "1875/1875 [==============================] - 116s 62ms/step - loss: 1.3757 - accuracy: 0.4486 - val_loss: 1.2905 - val_accuracy: 0.4795\n",
            "Epoch 15/100\n",
            "1875/1875 [==============================] - 117s 62ms/step - loss: 1.3806 - accuracy: 0.4420 - val_loss: 1.3403 - val_accuracy: 0.4644\n",
            "Epoch 16/100\n",
            "1875/1875 [==============================] - 116s 62ms/step - loss: 1.3106 - accuracy: 0.4695 - val_loss: 1.2950 - val_accuracy: 0.4779\n",
            "Epoch 17/100\n",
            "1875/1875 [==============================] - 116s 62ms/step - loss: 1.3653 - accuracy: 0.4505 - val_loss: 1.4026 - val_accuracy: 0.4269\n",
            "Epoch 18/100\n",
            "1875/1875 [==============================] - 115s 62ms/step - loss: 1.3645 - accuracy: 0.4457 - val_loss: 1.3883 - val_accuracy: 0.4381\n",
            "Epoch 19/100\n",
            "1875/1875 [==============================] - 116s 62ms/step - loss: 1.3508 - accuracy: 0.4555 - val_loss: 1.2830 - val_accuracy: 0.4772\n",
            "Epoch 20/100\n",
            "1875/1875 [==============================] - 116s 62ms/step - loss: 1.3126 - accuracy: 0.4702 - val_loss: 1.3062 - val_accuracy: 0.4693\n",
            "Epoch 21/100\n",
            "1875/1875 [==============================] - 117s 62ms/step - loss: 1.3100 - accuracy: 0.4713 - val_loss: 1.3469 - val_accuracy: 0.4538\n",
            "Epoch 22/100\n",
            "1875/1875 [==============================] - 117s 63ms/step - loss: 1.3219 - accuracy: 0.4668 - val_loss: 1.2456 - val_accuracy: 0.4948\n",
            "Epoch 23/100\n",
            "1875/1875 [==============================] - 117s 62ms/step - loss: 1.2846 - accuracy: 0.4828 - val_loss: 1.2445 - val_accuracy: 0.4968\n",
            "Epoch 24/100\n",
            "1875/1875 [==============================] - 115s 61ms/step - loss: 1.2624 - accuracy: 0.4921 - val_loss: 1.2250 - val_accuracy: 0.4998\n",
            "Epoch 25/100\n",
            "1875/1875 [==============================] - 115s 62ms/step - loss: 1.2914 - accuracy: 0.4837 - val_loss: 1.2208 - val_accuracy: 0.5051\n",
            "Epoch 26/100\n",
            "1875/1875 [==============================] - 116s 62ms/step - loss: 1.2789 - accuracy: 0.4879 - val_loss: 1.2039 - val_accuracy: 0.5136\n",
            "Epoch 27/100\n",
            "1875/1875 [==============================] - 117s 63ms/step - loss: 1.3091 - accuracy: 0.4757 - val_loss: 1.3200 - val_accuracy: 0.4676\n",
            "Epoch 28/100\n",
            "1875/1875 [==============================] - 117s 63ms/step - loss: 1.3190 - accuracy: 0.4713 - val_loss: 1.2486 - val_accuracy: 0.4973\n",
            "Epoch 29/100\n",
            "1875/1875 [==============================] - 116s 62ms/step - loss: 1.2850 - accuracy: 0.4862 - val_loss: 1.3105 - val_accuracy: 0.4763\n",
            "Epoch 30/100\n",
            "1875/1875 [==============================] - 116s 62ms/step - loss: 1.2627 - accuracy: 0.4918 - val_loss: 1.2109 - val_accuracy: 0.5093\n",
            "Epoch 31/100\n",
            "1875/1875 [==============================] - 116s 62ms/step - loss: 1.2337 - accuracy: 0.5016 - val_loss: 1.2060 - val_accuracy: 0.5121\n",
            "Epoch 32/100\n",
            "1875/1875 [==============================] - 116s 62ms/step - loss: 1.2416 - accuracy: 0.4984 - val_loss: 1.1957 - val_accuracy: 0.5109\n",
            "Epoch 33/100\n",
            "1875/1875 [==============================] - 117s 62ms/step - loss: 1.3197 - accuracy: 0.4686 - val_loss: 1.2720 - val_accuracy: 0.4882\n",
            "Epoch 34/100\n",
            "1875/1875 [==============================] - 116s 62ms/step - loss: 1.2579 - accuracy: 0.4929 - val_loss: 1.1986 - val_accuracy: 0.5117\n",
            "Epoch 35/100\n",
            "1875/1875 [==============================] - 117s 62ms/step - loss: 1.3303 - accuracy: 0.4675 - val_loss: 1.2980 - val_accuracy: 0.4767\n",
            "Epoch 36/100\n",
            "1875/1875 [==============================] - 116s 62ms/step - loss: 1.2498 - accuracy: 0.4918 - val_loss: 1.2031 - val_accuracy: 0.5138\n",
            "Epoch 37/100\n",
            "1875/1875 [==============================] - 115s 62ms/step - loss: 1.2266 - accuracy: 0.5051 - val_loss: 1.2215 - val_accuracy: 0.5061\n",
            "Epoch 38/100\n",
            "1875/1875 [==============================] - 117s 62ms/step - loss: 1.2375 - accuracy: 0.5022 - val_loss: 1.2038 - val_accuracy: 0.5093\n",
            "Epoch 39/100\n",
            "1875/1875 [==============================] - 117s 62ms/step - loss: 1.2060 - accuracy: 0.5128 - val_loss: 1.1600 - val_accuracy: 0.5296\n",
            "Epoch 40/100\n",
            "1875/1875 [==============================] - 115s 61ms/step - loss: 1.2622 - accuracy: 0.4947 - val_loss: 1.1926 - val_accuracy: 0.5221\n",
            "Epoch 41/100\n",
            "1875/1875 [==============================] - 115s 61ms/step - loss: 1.3814 - accuracy: 0.4589 - val_loss: 1.3222 - val_accuracy: 0.4735\n",
            "Epoch 42/100\n",
            "1875/1875 [==============================] - 114s 61ms/step - loss: 1.4247 - accuracy: 0.4357 - val_loss: 1.2913 - val_accuracy: 0.4793\n",
            "Epoch 43/100\n",
            "1875/1875 [==============================] - 116s 62ms/step - loss: 1.2539 - accuracy: 0.4978 - val_loss: 1.2186 - val_accuracy: 0.5078\n",
            "Epoch 44/100\n",
            "1875/1875 [==============================] - 116s 62ms/step - loss: 1.2587 - accuracy: 0.4927 - val_loss: 1.1951 - val_accuracy: 0.5186\n",
            "Epoch 45/100\n",
            "1875/1875 [==============================] - 114s 61ms/step - loss: 1.2232 - accuracy: 0.5109 - val_loss: 1.1675 - val_accuracy: 0.5273\n",
            "Epoch 46/100\n",
            "1875/1875 [==============================] - 115s 61ms/step - loss: 1.2512 - accuracy: 0.5025 - val_loss: 1.2796 - val_accuracy: 0.4872\n",
            "Epoch 47/100\n",
            "1875/1875 [==============================] - 116s 62ms/step - loss: 1.2283 - accuracy: 0.5074 - val_loss: 1.2109 - val_accuracy: 0.5077\n",
            "Epoch 48/100\n",
            "1875/1875 [==============================] - 117s 62ms/step - loss: 1.1886 - accuracy: 0.5219 - val_loss: 1.2108 - val_accuracy: 0.5131\n",
            "Epoch 49/100\n",
            "1875/1875 [==============================] - 116s 62ms/step - loss: 1.1997 - accuracy: 0.5184 - val_loss: 1.1961 - val_accuracy: 0.5062\n",
            "Epoch 50/100\n",
            "1875/1875 [==============================] - 115s 61ms/step - loss: 1.1707 - accuracy: 0.5290 - val_loss: 1.1631 - val_accuracy: 0.5289\n",
            "Epoch 51/100\n",
            "1875/1875 [==============================] - 115s 61ms/step - loss: 1.1610 - accuracy: 0.5310 - val_loss: 1.1252 - val_accuracy: 0.5472\n",
            "Epoch 52/100\n",
            "1875/1875 [==============================] - 115s 61ms/step - loss: 1.1657 - accuracy: 0.5344 - val_loss: 1.1029 - val_accuracy: 0.5543\n",
            "Epoch 53/100\n",
            "1875/1875 [==============================] - 115s 61ms/step - loss: 1.2218 - accuracy: 0.5111 - val_loss: 1.1356 - val_accuracy: 0.5403\n",
            "Epoch 54/100\n",
            "1875/1875 [==============================] - 115s 61ms/step - loss: 1.1555 - accuracy: 0.5358 - val_loss: 1.1109 - val_accuracy: 0.5563\n",
            "Epoch 55/100\n",
            "1875/1875 [==============================] - 115s 61ms/step - loss: 1.1595 - accuracy: 0.5385 - val_loss: 1.1226 - val_accuracy: 0.5524\n",
            "Epoch 56/100\n",
            "1875/1875 [==============================] - 115s 61ms/step - loss: 1.1454 - accuracy: 0.5436 - val_loss: 1.1052 - val_accuracy: 0.5543\n",
            "Epoch 57/100\n",
            "1875/1875 [==============================] - 115s 61ms/step - loss: 1.1118 - accuracy: 0.5554 - val_loss: 1.0847 - val_accuracy: 0.5616\n",
            "Epoch 58/100\n",
            "1875/1875 [==============================] - 115s 61ms/step - loss: 1.0937 - accuracy: 0.5607 - val_loss: 1.0922 - val_accuracy: 0.5585\n",
            "Epoch 59/100\n",
            "1875/1875 [==============================] - 115s 61ms/step - loss: 1.0804 - accuracy: 0.5675 - val_loss: 1.0488 - val_accuracy: 0.5790\n",
            "Epoch 60/100\n",
            "1875/1875 [==============================] - 114s 61ms/step - loss: 1.0748 - accuracy: 0.5700 - val_loss: 1.0310 - val_accuracy: 0.5875\n",
            "Epoch 61/100\n",
            "1875/1875 [==============================] - 114s 61ms/step - loss: 1.0784 - accuracy: 0.5695 - val_loss: 1.0257 - val_accuracy: 0.5827\n",
            "Epoch 62/100\n",
            "1875/1875 [==============================] - 115s 61ms/step - loss: 1.0847 - accuracy: 0.5672 - val_loss: 1.0895 - val_accuracy: 0.5689\n",
            "Epoch 63/100\n",
            "1875/1875 [==============================] - 115s 61ms/step - loss: 1.0425 - accuracy: 0.5855 - val_loss: 0.9813 - val_accuracy: 0.6049\n",
            "Epoch 64/100\n",
            "1875/1875 [==============================] - 115s 61ms/step - loss: 1.0212 - accuracy: 0.5940 - val_loss: 1.2533 - val_accuracy: 0.5130\n",
            "Epoch 65/100\n",
            "1875/1875 [==============================] - 115s 61ms/step - loss: 1.0353 - accuracy: 0.5858 - val_loss: 0.9725 - val_accuracy: 0.6067\n",
            "Epoch 66/100\n",
            "1875/1875 [==============================] - 114s 61ms/step - loss: 1.0267 - accuracy: 0.5876 - val_loss: 0.9972 - val_accuracy: 0.5991\n",
            "Epoch 67/100\n",
            "1875/1875 [==============================] - 115s 61ms/step - loss: 1.0102 - accuracy: 0.5954 - val_loss: 0.9801 - val_accuracy: 0.6087\n",
            "Epoch 68/100\n",
            "1875/1875 [==============================] - 114s 61ms/step - loss: 0.9920 - accuracy: 0.6021 - val_loss: 1.0305 - val_accuracy: 0.5946\n",
            "Epoch 69/100\n",
            "1875/1875 [==============================] - 115s 61ms/step - loss: 1.0370 - accuracy: 0.5873 - val_loss: 0.9557 - val_accuracy: 0.6155\n",
            "Epoch 70/100\n",
            "1875/1875 [==============================] - 117s 62ms/step - loss: 0.9727 - accuracy: 0.6108 - val_loss: 0.9337 - val_accuracy: 0.6214\n",
            "Epoch 71/100\n",
            "1875/1875 [==============================] - 115s 62ms/step - loss: 1.0137 - accuracy: 0.5956 - val_loss: 0.9496 - val_accuracy: 0.6215\n",
            "Epoch 72/100\n",
            "1875/1875 [==============================] - 116s 62ms/step - loss: 0.9661 - accuracy: 0.6120 - val_loss: 0.9312 - val_accuracy: 0.6243\n",
            "Epoch 73/100\n",
            "1875/1875 [==============================] - 116s 62ms/step - loss: 0.9887 - accuracy: 0.6032 - val_loss: 0.9516 - val_accuracy: 0.6160\n",
            "Epoch 74/100\n",
            "1875/1875 [==============================] - 117s 62ms/step - loss: 0.9582 - accuracy: 0.6146 - val_loss: 0.9567 - val_accuracy: 0.6105\n",
            "Epoch 75/100\n",
            "1875/1875 [==============================] - 118s 63ms/step - loss: 0.9458 - accuracy: 0.6185 - val_loss: 0.9261 - val_accuracy: 0.6272\n",
            "Epoch 76/100\n",
            "1875/1875 [==============================] - 117s 63ms/step - loss: 0.9593 - accuracy: 0.6139 - val_loss: 0.9250 - val_accuracy: 0.6231\n",
            "Epoch 77/100\n",
            "1875/1875 [==============================] - 118s 63ms/step - loss: 0.9340 - accuracy: 0.6237 - val_loss: 1.0472 - val_accuracy: 0.5819\n",
            "Epoch 78/100\n",
            "1875/1875 [==============================] - 119s 63ms/step - loss: 0.9417 - accuracy: 0.6212 - val_loss: 0.8915 - val_accuracy: 0.6394\n",
            "Epoch 79/100\n",
            "1875/1875 [==============================] - 118s 63ms/step - loss: 0.9226 - accuracy: 0.6275 - val_loss: 0.8822 - val_accuracy: 0.6431\n",
            "Epoch 80/100\n",
            "1875/1875 [==============================] - 118s 63ms/step - loss: 0.9060 - accuracy: 0.6367 - val_loss: 1.0116 - val_accuracy: 0.6121\n",
            "Epoch 81/100\n",
            "1875/1875 [==============================] - 117s 62ms/step - loss: 0.9283 - accuracy: 0.6285 - val_loss: 0.9008 - val_accuracy: 0.6337\n",
            "Epoch 82/100\n",
            "1875/1875 [==============================] - 118s 63ms/step - loss: 0.8903 - accuracy: 0.6421 - val_loss: 0.8784 - val_accuracy: 0.6445\n",
            "Epoch 83/100\n",
            "1875/1875 [==============================] - 117s 62ms/step - loss: 0.8793 - accuracy: 0.6453 - val_loss: 0.8489 - val_accuracy: 0.6565\n",
            "Epoch 84/100\n",
            "1875/1875 [==============================] - 117s 63ms/step - loss: 0.8746 - accuracy: 0.6484 - val_loss: 0.8494 - val_accuracy: 0.6538\n",
            "Epoch 85/100\n",
            "1875/1875 [==============================] - 117s 62ms/step - loss: 0.8932 - accuracy: 0.6429 - val_loss: 0.8563 - val_accuracy: 0.6541\n",
            "Epoch 86/100\n",
            "1875/1875 [==============================] - 120s 64ms/step - loss: 0.8777 - accuracy: 0.6499 - val_loss: 0.8393 - val_accuracy: 0.6599\n",
            "Epoch 87/100\n",
            "1875/1875 [==============================] - 121s 65ms/step - loss: 1.0575 - accuracy: 0.6131 - val_loss: 1.1326 - val_accuracy: 0.5753\n",
            "Epoch 88/100\n",
            "1875/1875 [==============================] - 122s 65ms/step - loss: 1.0283 - accuracy: 0.6007 - val_loss: 0.9104 - val_accuracy: 0.6372\n",
            "Epoch 89/100\n",
            "1875/1875 [==============================] - 122s 65ms/step - loss: 0.8944 - accuracy: 0.6460 - val_loss: 0.8494 - val_accuracy: 0.6584\n",
            "Epoch 90/100\n",
            "1875/1875 [==============================] - 121s 65ms/step - loss: 0.8735 - accuracy: 0.6563 - val_loss: 0.8404 - val_accuracy: 0.6613\n",
            "Epoch 91/100\n",
            "1875/1875 [==============================] - 123s 65ms/step - loss: 0.8496 - accuracy: 0.6611 - val_loss: 0.8152 - val_accuracy: 0.6737\n",
            "Epoch 92/100\n",
            "1875/1875 [==============================] - 121s 65ms/step - loss: 0.8489 - accuracy: 0.6615 - val_loss: 0.8218 - val_accuracy: 0.6720\n",
            "Epoch 93/100\n",
            "1875/1875 [==============================] - 120s 64ms/step - loss: 0.8341 - accuracy: 0.6660 - val_loss: 0.8211 - val_accuracy: 0.6699\n",
            "Epoch 94/100\n",
            "1875/1875 [==============================] - 119s 63ms/step - loss: 0.8344 - accuracy: 0.6666 - val_loss: 0.8143 - val_accuracy: 0.6695\n",
            "Epoch 95/100\n",
            "1875/1875 [==============================] - 121s 65ms/step - loss: 0.8231 - accuracy: 0.6695 - val_loss: 0.7941 - val_accuracy: 0.6797\n",
            "Epoch 96/100\n",
            "1875/1875 [==============================] - 121s 64ms/step - loss: 0.8227 - accuracy: 0.6708 - val_loss: 0.8325 - val_accuracy: 0.6643\n",
            "Epoch 97/100\n",
            "1875/1875 [==============================] - 122s 65ms/step - loss: 0.8060 - accuracy: 0.6775 - val_loss: 0.8143 - val_accuracy: 0.6691\n",
            "Epoch 98/100\n",
            "1875/1875 [==============================] - 123s 66ms/step - loss: 0.8833 - accuracy: 0.6612 - val_loss: 1.7592 - val_accuracy: 0.4412\n",
            "Epoch 99/100\n",
            "1875/1875 [==============================] - 122s 65ms/step - loss: 1.2888 - accuracy: 0.5119 - val_loss: 1.0985 - val_accuracy: 0.5515\n",
            "Epoch 100/100\n",
            "1875/1875 [==============================] - 121s 64ms/step - loss: 1.0604 - accuracy: 0.5753 - val_loss: 0.9635 - val_accuracy: 0.6100\n"
          ]
        }
      ],
      "source": [
        "history = model.fit(X_train, y_train, batch_size=64, epochs=100, validation_data=(X_val, y_val))\n",
        "#model.save('NewAllDataModel_E50_B64.h5')"
      ]
    },
    {
      "cell_type": "code",
      "execution_count": 30,
      "metadata": {
        "id": "R7QQeqVidKBR",
        "colab": {
          "base_uri": "https://localhost:8080/"
        },
        "outputId": "927724df-e8d5-4b98-a1d1-b08f0dd3cf1c"
      },
      "outputs": [
        {
          "output_type": "stream",
          "name": "stdout",
          "text": [
            "469/469 [==============================] - 9s 18ms/step - loss: 0.9764 - accuracy: 0.6089\n"
          ]
        }
      ],
      "source": [
        "test_acc = model.evaluate(X_test, y_test)"
      ]
    },
    {
      "cell_type": "code",
      "source": [
        "test_acc"
      ],
      "metadata": {
        "id": "6fuTmgGrUgGg",
        "colab": {
          "base_uri": "https://localhost:8080/"
        },
        "outputId": "b53664d7-3d4a-42a8-9ef6-99f065298b8d"
      },
      "execution_count": 31,
      "outputs": [
        {
          "output_type": "execute_result",
          "data": {
            "text/plain": [
              "[0.9764275550842285, 0.6088666915893555]"
            ]
          },
          "metadata": {},
          "execution_count": 31
        }
      ]
    },
    {
      "cell_type": "code",
      "execution_count": 32,
      "metadata": {
        "id": "OHpifyqGdKn-",
        "colab": {
          "base_uri": "https://localhost:8080/"
        },
        "outputId": "853074fa-b69a-408d-d8d8-e757fb320f2a"
      },
      "outputs": [
        {
          "output_type": "stream",
          "name": "stdout",
          "text": [
            "469/469 [==============================] - 8s 15ms/step\n"
          ]
        }
      ],
      "source": [
        "y_test_prob = model.predict(X_test, verbose=1)"
      ]
    },
    {
      "cell_type": "code",
      "source": [
        "np.set_printoptions(suppress=True)\n",
        "y_test_prob_backup = y_test_prob\n",
        "y_test_prob"
      ],
      "metadata": {
        "id": "rRPswrrkmhp2",
        "colab": {
          "base_uri": "https://localhost:8080/"
        },
        "outputId": "f44cb0b9-d020-4d4a-ccf0-5c27ddc013e5"
      },
      "execution_count": 33,
      "outputs": [
        {
          "output_type": "execute_result",
          "data": {
            "text/plain": [
              "array([[0.00010439, 0.00079342, 0.01389332, ..., 0.13546683, 0.44196746,\n",
              "        0.25213045],\n",
              "       [0.01494956, 0.1335809 , 0.11584748, ..., 0.0651058 , 0.25971675,\n",
              "        0.2650955 ],\n",
              "       [0.00260933, 0.00046607, 0.00158268, ..., 0.01549602, 0.27664566,\n",
              "        0.67774314],\n",
              "       ...,\n",
              "       [0.00000005, 0.00691086, 0.9869431 , ..., 0.00010257, 0.00000728,\n",
              "        0.0000017 ],\n",
              "       [0.00557114, 0.02514283, 0.14527605, ..., 0.11911724, 0.21504201,\n",
              "        0.2624048 ],\n",
              "       [0.00000123, 0.24569842, 0.7513551 , ..., 0.00015291, 0.00002624,\n",
              "        0.00000767]], dtype=float32)"
            ]
          },
          "metadata": {},
          "execution_count": 33
        }
      ]
    },
    {
      "cell_type": "code",
      "execution_count": 34,
      "metadata": {
        "id": "AfmdrBILdMwj"
      },
      "outputs": [],
      "source": [
        "y_test_pred = np.where(y_test_prob > 0.5, 1, 0)"
      ]
    },
    {
      "cell_type": "code",
      "execution_count": 35,
      "metadata": {
        "id": "8DoJy_p9dPzN"
      },
      "outputs": [],
      "source": [
        "from sklearn.metrics import multilabel_confusion_matrix"
      ]
    },
    {
      "cell_type": "code",
      "source": [
        "y_test"
      ],
      "metadata": {
        "id": "n1Us2yrfcGl-",
        "colab": {
          "base_uri": "https://localhost:8080/"
        },
        "outputId": "20a9ad40-19ca-4e79-cdcf-06060f28a410"
      },
      "execution_count": 36,
      "outputs": [
        {
          "output_type": "execute_result",
          "data": {
            "text/plain": [
              "array([[0., 0., 0., ..., 0., 1., 0.],\n",
              "       [0., 0., 0., ..., 0., 1., 0.],\n",
              "       [0., 0., 0., ..., 0., 0., 1.],\n",
              "       ...,\n",
              "       [0., 0., 1., ..., 0., 0., 0.],\n",
              "       [0., 0., 0., ..., 0., 1., 0.],\n",
              "       [0., 1., 0., ..., 0., 0., 0.]])"
            ]
          },
          "metadata": {},
          "execution_count": 36
        }
      ]
    },
    {
      "cell_type": "code",
      "source": [
        "y_test.shape"
      ],
      "metadata": {
        "id": "VnmvTcvWbxr9",
        "colab": {
          "base_uri": "https://localhost:8080/"
        },
        "outputId": "98d88f25-2eda-4c34-b01c-39d39057ea25"
      },
      "execution_count": 37,
      "outputs": [
        {
          "output_type": "execute_result",
          "data": {
            "text/plain": [
              "(15000, 8)"
            ]
          },
          "metadata": {},
          "execution_count": 37
        }
      ]
    },
    {
      "cell_type": "code",
      "source": [
        "y_test_pred"
      ],
      "metadata": {
        "id": "nMBOgzrgcJBj",
        "colab": {
          "base_uri": "https://localhost:8080/"
        },
        "outputId": "7550c8ef-aa2d-4034-d897-2eccae129a86"
      },
      "execution_count": 38,
      "outputs": [
        {
          "output_type": "execute_result",
          "data": {
            "text/plain": [
              "array([[0, 0, 0, ..., 0, 0, 0],\n",
              "       [0, 0, 0, ..., 0, 0, 0],\n",
              "       [0, 0, 0, ..., 0, 0, 1],\n",
              "       ...,\n",
              "       [0, 0, 1, ..., 0, 0, 0],\n",
              "       [0, 0, 0, ..., 0, 0, 0],\n",
              "       [0, 0, 1, ..., 0, 0, 0]])"
            ]
          },
          "metadata": {},
          "execution_count": 38
        }
      ]
    },
    {
      "cell_type": "code",
      "source": [
        "y_test_pred.shape"
      ],
      "metadata": {
        "id": "SXKZof8Ye5uI",
        "colab": {
          "base_uri": "https://localhost:8080/"
        },
        "outputId": "71824b0d-edd0-47d2-d885-1d095c01de1c"
      },
      "execution_count": 39,
      "outputs": [
        {
          "output_type": "execute_result",
          "data": {
            "text/plain": [
              "(15000, 8)"
            ]
          },
          "metadata": {},
          "execution_count": 39
        }
      ]
    },
    {
      "cell_type": "code",
      "source": [
        "y_decoded_pred = tf.argmax(y_test_pred, axis = 1)"
      ],
      "metadata": {
        "id": "leDQwKOjgwwi"
      },
      "execution_count": 40,
      "outputs": []
    },
    {
      "cell_type": "code",
      "source": [
        "y_decoded = tf.argmax(y_test, axis = 1)"
      ],
      "metadata": {
        "id": "sAHRmtesif6g"
      },
      "execution_count": 41,
      "outputs": []
    },
    {
      "cell_type": "code",
      "source": [
        "y_decoded_pred"
      ],
      "metadata": {
        "id": "_lvFhrmPhprD",
        "colab": {
          "base_uri": "https://localhost:8080/"
        },
        "outputId": "427e6736-31a1-4e2c-b8f5-19db551d8e47"
      },
      "execution_count": 42,
      "outputs": [
        {
          "output_type": "execute_result",
          "data": {
            "text/plain": [
              "<tf.Tensor: shape=(15000,), dtype=int64, numpy=array([0, 0, 7, ..., 2, 0, 2])>"
            ]
          },
          "metadata": {},
          "execution_count": 42
        }
      ]
    },
    {
      "cell_type": "code",
      "source": [
        "y_decoded"
      ],
      "metadata": {
        "id": "YV1FXgHviPwm",
        "colab": {
          "base_uri": "https://localhost:8080/"
        },
        "outputId": "30907065-be63-4c8c-dd05-a51238568564"
      },
      "execution_count": 43,
      "outputs": [
        {
          "output_type": "execute_result",
          "data": {
            "text/plain": [
              "<tf.Tensor: shape=(15000,), dtype=int64, numpy=array([6, 6, 7, ..., 2, 6, 1])>"
            ]
          },
          "metadata": {},
          "execution_count": 43
        }
      ]
    },
    {
      "cell_type": "code",
      "source": [
        "y_test_pred = y_decoded_pred\n"
      ],
      "metadata": {
        "id": "6-6jFqzGh380"
      },
      "execution_count": 44,
      "outputs": []
    },
    {
      "cell_type": "code",
      "source": [
        "y_test = y_decoded"
      ],
      "metadata": {
        "id": "9pogVvdIiwss"
      },
      "execution_count": 45,
      "outputs": []
    },
    {
      "cell_type": "code",
      "source": [
        "y_test"
      ],
      "metadata": {
        "id": "oGt5aJetiKR6",
        "colab": {
          "base_uri": "https://localhost:8080/"
        },
        "outputId": "54897ac6-00c2-47bd-ba69-184f003aacd2"
      },
      "execution_count": 46,
      "outputs": [
        {
          "output_type": "execute_result",
          "data": {
            "text/plain": [
              "<tf.Tensor: shape=(15000,), dtype=int64, numpy=array([6, 6, 7, ..., 2, 6, 1])>"
            ]
          },
          "metadata": {},
          "execution_count": 46
        }
      ]
    },
    {
      "cell_type": "code",
      "source": [
        "y_test_pred"
      ],
      "metadata": {
        "id": "fLgDwAIfiyv2",
        "colab": {
          "base_uri": "https://localhost:8080/"
        },
        "outputId": "8bcdaa3a-a79e-4a6c-f26d-698e58317d17"
      },
      "execution_count": 47,
      "outputs": [
        {
          "output_type": "execute_result",
          "data": {
            "text/plain": [
              "<tf.Tensor: shape=(15000,), dtype=int64, numpy=array([0, 0, 7, ..., 2, 0, 2])>"
            ]
          },
          "metadata": {},
          "execution_count": 47
        }
      ]
    },
    {
      "cell_type": "code",
      "execution_count": 48,
      "metadata": {
        "id": "fTCsPjW8dQaZ"
      },
      "outputs": [],
      "source": [
        "cfm=confusion_matrix(y_test, y_test_pred)"
      ]
    },
    {
      "cell_type": "code",
      "source": [
        "cfm"
      ],
      "metadata": {
        "id": "_67lPg6ic4cH",
        "colab": {
          "base_uri": "https://localhost:8080/"
        },
        "outputId": "f30d3ac0-e053-4dd7-9427-acffa676ff98"
      },
      "execution_count": 49,
      "outputs": [
        {
          "output_type": "execute_result",
          "data": {
            "text/plain": [
              "array([[1790,   21,    0,    0,    0,    0,    0,   54],\n",
              "       [ 168, 1657,   71,    2,    0,    0,    0,    3],\n",
              "       [ 742,   38, 1022,   70,    7,    3,    3,    7],\n",
              "       [1086,    8,   75,  576,   89,   30,    5,    6],\n",
              "       [1094,    0,   10,   49,  624,   75,   32,   26],\n",
              "       [1315,    0,   12,   17,   76,  421,   26,    9],\n",
              "       [1288,    0,    7,    4,    0,   23,  356,  179],\n",
              "       [1251,    1,    0,    0,    0,    0,   96,  476]])"
            ]
          },
          "metadata": {},
          "execution_count": 49
        }
      ]
    },
    {
      "cell_type": "code",
      "source": [
        " print(classification_report(y_test,y_test_pred))"
      ],
      "metadata": {
        "id": "XTqR_xnwRWCJ",
        "colab": {
          "base_uri": "https://localhost:8080/"
        },
        "outputId": "077c75e1-9e79-4c96-9dca-9a35eda3bb28"
      },
      "execution_count": 50,
      "outputs": [
        {
          "output_type": "stream",
          "name": "stdout",
          "text": [
            "              precision    recall  f1-score   support\n",
            "\n",
            "           0       0.20      0.96      0.34      1865\n",
            "           1       0.96      0.87      0.91      1901\n",
            "           2       0.85      0.54      0.66      1892\n",
            "           3       0.80      0.31      0.44      1875\n",
            "           4       0.78      0.33      0.46      1910\n",
            "           5       0.76      0.22      0.35      1876\n",
            "           6       0.69      0.19      0.30      1857\n",
            "           7       0.63      0.26      0.37      1824\n",
            "\n",
            "    accuracy                           0.46     15000\n",
            "   macro avg       0.71      0.46      0.48     15000\n",
            "weighted avg       0.71      0.46      0.48     15000\n",
            "\n"
          ]
        }
      ]
    },
    {
      "cell_type": "code",
      "execution_count": 51,
      "metadata": {
        "id": "te3fslrY9Eca",
        "colab": {
          "base_uri": "https://localhost:8080/",
          "height": 903
        },
        "outputId": "25ea71e1-380d-4267-9567-0942dbf2c3f3"
      },
      "outputs": [
        {
          "output_type": "stream",
          "name": "stdout",
          "text": [
            "Confusion matrix, without normalization\n",
            "[[1790   21    0    0    0    0    0   54]\n",
            " [ 168 1657   71    2    0    0    0    3]\n",
            " [ 742   38 1022   70    7    3    3    7]\n",
            " [1086    8   75  576   89   30    5    6]\n",
            " [1094    0   10   49  624   75   32   26]\n",
            " [1315    0   12   17   76  421   26    9]\n",
            " [1288    0    7    4    0   23  356  179]\n",
            " [1251    1    0    0    0    0   96  476]]\n",
            "Normalized confusion matrix\n",
            "[[0.96 0.01 0.   0.   0.   0.   0.   0.03]\n",
            " [0.09 0.87 0.04 0.   0.   0.   0.   0.  ]\n",
            " [0.39 0.02 0.54 0.04 0.   0.   0.   0.  ]\n",
            " [0.58 0.   0.04 0.31 0.05 0.02 0.   0.  ]\n",
            " [0.57 0.   0.01 0.03 0.33 0.04 0.02 0.01]\n",
            " [0.7  0.   0.01 0.01 0.04 0.22 0.01 0.  ]\n",
            " [0.69 0.   0.   0.   0.   0.01 0.19 0.1 ]\n",
            " [0.69 0.   0.   0.   0.   0.   0.05 0.26]]\n"
          ]
        },
        {
          "output_type": "display_data",
          "data": {
            "text/plain": [
              "<Figure size 432x288 with 2 Axes>"
            ],
            "image/png": "[encoded data removed]"
          },
          "metadata": {
            "needs_background": "light"
          }
        },
        {
          "output_type": "display_data",
          "data": {
            "text/plain": [
              "<Figure size 432x288 with 2 Axes>"
            ],
            "image/png": "[encoded data removed]"
          },
          "metadata": {
            "needs_background": "light"
          }
        }
      ],
      "source": [
        "import numpy as np\n",
        "import matplotlib.pyplot as plt\n",
        "\n",
        "from sklearn import svm, datasets\n",
        "from sklearn.model_selection import train_test_split\n",
        "from sklearn.metrics import confusion_matrix\n",
        "from sklearn.utils.multiclass import unique_labels\n",
        "\n",
        "class_names = np.array(['0', '1', '2', '3', '4', '5', '6', '7'])\n",
        "\n",
        "def plot_confusion_matrix(y_true, y_pred, classes,\n",
        "                          normalize=False,\n",
        "                          title=None,\n",
        "                          cmap=plt.cm.Blues):\n",
        "    \"\"\"\n",
        "    This function prints and plots the confusion matrix.\n",
        "    Normalization can be applied by setting `normalize=True`.\n",
        "    \"\"\"\n",
        "    if not title:\n",
        "        if normalize:\n",
        "            title = 'Normalized confusion matrix'\n",
        "        else:\n",
        "            title = 'Confusion matrix, without normalization'\n",
        "\n",
        "    # Compute confusion matrix\n",
        "    cm = confusion_matrix(y_true, y_pred)\n",
        "    # Only use the labels that appear in the data\n",
        "    classes = classes[unique_labels(y_true, y_pred)]\n",
        "    if normalize:\n",
        "        cm = cm.astype('float') / cm.sum(axis=1)[:, np.newaxis]\n",
        "        print(\"Normalized confusion matrix\")\n",
        "    else:\n",
        "        print('Confusion matrix, without normalization')\n",
        "\n",
        "    print(cm)\n",
        "\n",
        "    fig, ax = plt.subplots()\n",
        "    im = ax.imshow(cm, interpolation='nearest', cmap=cmap)\n",
        "    ax.figure.colorbar(im, ax=ax)\n",
        "    # We want to show all ticks...\n",
        "    ax.set(xticks=np.arange(cm.shape[1]),\n",
        "           yticks=np.arange(cm.shape[0]),\n",
        "           # ... and label them with the respective list entries\n",
        "           xticklabels=classes, yticklabels=classes,\n",
        "           title=title,\n",
        "           ylabel='True label',\n",
        "           xlabel='Predicted label')\n",
        "\n",
        "    # Rotate the tick labels and set their alignment.\n",
        "    plt.setp(ax.get_xticklabels(), rotation=45, ha=\"right\",\n",
        "             rotation_mode=\"anchor\")\n",
        "\n",
        "    # Loop over data dimensions and create text annotations.\n",
        "    fmt = '.2f' if normalize else 'd'\n",
        "    thresh = cm.max() / 2.\n",
        "    for i in range(cm.shape[0]):\n",
        "        for j in range(cm.shape[1]):\n",
        "            ax.text(j, i, format(cm[i, j], fmt),\n",
        "                    ha=\"center\", va=\"center\",\n",
        "                    color=\"white\" if cm[i, j] > thresh else \"black\")\n",
        "    fig.tight_layout()\n",
        "\n",
        "    return ax\n",
        "\n",
        "\n",
        "np.set_printoptions(precision=2)\n",
        "\n",
        "# Plot non-normalized confusion matrix\n",
        "plot_confusion_matrix(y_test, y_test_pred, classes=class_names,\n",
        "                      title='Confusion matrix, without normalization')\n",
        "\n",
        "# Plot normalized confusion matrix\n",
        "plot_confusion_matrix(y_test, y_test_pred, classes=class_names, normalize=True,\n",
        "                      title='Normalized confusion matrix')\n",
        "\n",
        "plt.show()"
      ]
    },
    {
      "cell_type": "code",
      "execution_count": 52,
      "metadata": {
        "id": "fhdLAhgPUnH3"
      },
      "outputs": [],
      "source": [
        "def plot_learningCurve(history, epoch):\n",
        "  # Plot training & validation accuracy values\n",
        "  epoch_range = range(1, epoch+1)\n",
        "  plt.plot(epoch_range, history.history['accuracy'])\n",
        "  plt.plot(epoch_range, history.history['val_accuracy'])\n",
        "  plt.title('Model accuracy')\n",
        "  plt.ylabel('Accuracy')\n",
        "  plt.xlabel('Epoch')\n",
        "  plt.legend(['Train', 'Val'], loc='upper left')\n",
        "  plt.show()\n",
        "\n",
        "  # Plot training & validation loss values\n",
        "  plt.plot(epoch_range, history.history['loss'])\n",
        "  plt.plot(epoch_range, history.history['val_loss'])\n",
        "  plt.title('Model loss')\n",
        "  plt.ylabel('Loss')\n",
        "  plt.xlabel('Epoch')\n",
        "  plt.legend(['Train', 'Val'], loc='upper left')\n",
        "  plt.show()"
      ]
    },
    {
      "cell_type": "code",
      "execution_count": 53,
      "metadata": {
        "id": "WlkQkWHgU5mL",
        "colab": {
          "base_uri": "https://localhost:8080/",
          "height": 581
        },
        "outputId": "d39d8718-ac35-4fed-d10f-4d7d1e2ccb45"
      },
      "outputs": [
        {
          "output_type": "display_data",
          "data": {
            "text/plain": [
              "<Figure size 432x288 with 1 Axes>"
            ],
            "image/png": "[encoded data removed]"
          },
          "metadata": {
            "needs_background": "light"
          }
        },
        {
          "output_type": "display_data",
          "data": {
            "text/plain": [
              "<Figure size 432x288 with 1 Axes>"
            ],
            "image/png": "[encoded data removed]"
          },
          "metadata": {
            "needs_background": "light"
          }
        }
      ],
      "source": [
        "plot_learningCurve(history, 100)"
      ]
    }
  ],
  "metadata": {
    "colab": {
      "collapsed_sections": [
        "f857kfHqUk0-"
      ],
      "name": "Multi_Class_MD_LSTM_step_200_files_120.ipynb",
      "provenance": [],
      "include_colab_link": true
    },
    "kernelspec": {
      "display_name": "Python 3",
      "name": "python3"
    },
    "language_info": {
      "name": "python"
    },
    "accelerator": "GPU"
  },
  "nbformat": 4,
  "nbformat_minor": 0
}
