{
  "cells": [
    {
      "cell_type": "markdown",
      "metadata": {
        "id": "view-in-github",
        "colab_type": "text"
      },
      "source": [
        "<a href=\"https://colab.research.google.com/github/kwanderer/MachineLearning/blob/main/MD_LSTM_binary_1_step_200_files_50.ipynb\" target=\"_parent\"><img src=\"https://colab.research.google.com/assets/colab-badge.svg\" alt=\"Open In Colab\"/></a>"
      ]
    },
    {
      "cell_type": "markdown",
      "metadata": {
        "id": "f857kfHqUk0-"
      },
      "source": [
        "\n",
        "\n",
        "#Datu kopa"
      ]
    },
    {
      "cell_type": "markdown",
      "metadata": {
        "id": "nM9WE3QGUwVi"
      },
      "source": [
        "Datu kopas avots: https://www.kaggle.com/uysalserkan/fault-induction-motor-dataset"
      ]
    },
    {
      "cell_type": "markdown",
      "metadata": {
        "id": "_sN_h3qHHy6r"
      },
      "source": [
        "Darbā tiek izmantota indukcijas motora parametru datu bāze. Izmantotajā datu kopā ir dati, kas tika iegūti SpectraQuest aparatūras kļūdu simulatorā (Machinery Fault Simulator).\n",
        "\n",
        "Katra mērījumu secība tika ģenerēta ar frekvenci 50 kHz 5 sekunžu laikā, kopā 250 000 mērījumi.\n",
        "\n",
        "Dati ir apkopoti vairākos failos, dažādos darbības stāvokļos un to apjoms ir ļoti liels. Šajā darbā tika izmantota daļa(viena mērījumu secība) no motora normālas darbības datiem.\n"
      ]
    },
    {
      "cell_type": "markdown",
      "metadata": {
        "id": "KtFAOaHYHLPo"
      },
      "source": [
        "Dati ir apkopoti tabulā, kura satur 8 parametrus. Dati ir iedalīti sekojošās kolonas:\n",
        "\n",
        "**tachometer** – tahometra signāls, kas ļauj novērtēt rotācijas frekvenci\n",
        "\n",
        "**und-accelerometer-axial** - apakšā esošā gultņa akselerometrs (aksiālais virziens)\n",
        "\n",
        "**und-accelerometer-radial** – apakšā esošā gultņa akselerometrs (radiālais virziens)\n",
        "\n",
        "**und-accelerometer-tangential** - apakšā esošā gultņa akselerometrs (tangenciālais virziens)\n",
        "\n",
        "**over-accelerometer-axial** - pārkares gultņa akselerometrs (aksiālais virziens)\n",
        "\n",
        "**over-accelerometer-radial** – pārkares gultņa akselerometrs (radiālais  virziens)\n",
        "\n",
        "**over-accelerometer-tangential**  - pārkares gultņa akselerometrs (tangenciālais virziens)\n",
        "\n",
        "**microphone** – mikrofona vērtība\n"
      ]
    },
    {
      "cell_type": "markdown",
      "metadata": {
        "id": "XymoNLKMVFUC"
      },
      "source": [
        "#Datu ielasīšana un satura vizualizācija"
      ]
    },
    {
      "cell_type": "code",
      "execution_count": 1,
      "metadata": {
        "id": "_yqYZDeOFq5s"
      },
      "outputs": [],
      "source": [
        "import keras\n",
        "from keras.layers import LSTM, Dropout, Dense\n",
        "import tensorflow as tf\n",
        "import numpy as np\n",
        "import pandas as pd\n",
        "\n",
        "from sklearn import linear_model  #pip install sklearn - loti plasa masinapmacibas biblioteka\n",
        "from sklearn.linear_model import LinearRegression  \n",
        "import csv          #pip install csv - darbam ar CSV datu kopam\n",
        "import requests     #pip install requests  - vienkarsakam darbam ar tiessaistes CSV datu kopam tiessaistes\n",
        "\n",
        "import matplotlib\n",
        "import matplotlib.pyplot as plt\n",
        "\n",
        "import glob\n"
      ]
    },
    {
      "cell_type": "code",
      "execution_count": 2,
      "metadata": {
        "id": "wlRTBbM2eUcV",
        "colab": {
          "base_uri": "https://localhost:8080/"
        },
        "outputId": "2927ad3f-8186-4364-abbf-9afb2188fb98"
      },
      "outputs": [
        {
          "output_type": "stream",
          "name": "stdout",
          "text": [
            "Mounted at /content/gdrive\n"
          ]
        }
      ],
      "source": [
        "from google.colab import drive\n",
        "import os\n",
        "drive.mount('/content/gdrive')\n",
        "os.chdir(\"/content/gdrive/MyDrive/Colab Notebooks/data_binary/\")"
      ]
    },
    {
      "cell_type": "code",
      "execution_count": 3,
      "metadata": {
        "id": "zzz6fBl_SNom"
      },
      "outputs": [],
      "source": [
        "#extension = 'csv'\n",
        "#all_filenames = [i for i in glob.glob('*.{}'.format(extension))]"
      ]
    },
    {
      "cell_type": "code",
      "execution_count": 4,
      "metadata": {
        "id": "vagKFCkToBi0"
      },
      "outputs": [],
      "source": [
        "#combine all files in the list\n",
        "#combined_csv = pd.concat([pd.read_csv(f) for f in all_filenames ])\n",
        "#export to csv\n",
        "#combined_csv.to_csv( \"binary_data_csv.csv\", index=False, encoding='utf-8-sig')"
      ]
    },
    {
      "cell_type": "code",
      "execution_count": 5,
      "metadata": {
        "id": "encEkbDhSfGI"
      },
      "outputs": [],
      "source": [
        "data = pd.read_csv(\"binary_data_csv.csv\")"
      ]
    },
    {
      "cell_type": "code",
      "execution_count": 6,
      "metadata": {
        "id": "yz5Qe8ZWk1Zq",
        "colab": {
          "base_uri": "https://localhost:8080/"
        },
        "outputId": "7f2822a2-58e6-46cc-ce03-673948b0b885"
      },
      "outputs": [
        {
          "output_type": "stream",
          "name": "stdout",
          "text": [
            "<class 'pandas.core.frame.DataFrame'>\n",
            "RangeIndex: 12500000 entries, 0 to 12499999\n",
            "Data columns (total 9 columns):\n",
            " #   Column                         Dtype  \n",
            "---  ------                         -----  \n",
            " 0   tachometer                     float64\n",
            " 1   und-accelerometer-axial        float64\n",
            " 2   und-accelerometer-radial       float64\n",
            " 3   und-accelerometer-tangential   float64\n",
            " 4   over-accelerometer-axial       float64\n",
            " 5   over-accelerometer-radial      float64\n",
            " 6   over-accelerometer-tangential  float64\n",
            " 7   microphone                     float64\n",
            " 8   Class                          int64  \n",
            "dtypes: float64(8), int64(1)\n",
            "memory usage: 858.3 MB\n"
          ]
        }
      ],
      "source": [
        "data.info()"
      ]
    },
    {
      "cell_type": "code",
      "execution_count": 7,
      "metadata": {
        "id": "WUW9ezX6a_st",
        "colab": {
          "base_uri": "https://localhost:8080/"
        },
        "outputId": "01cec3ee-319f-4b7b-ac36-821600a094ea"
      },
      "outputs": [
        {
          "output_type": "execute_result",
          "data": {
            "text/plain": [
              "12500000"
            ]
          },
          "metadata": {},
          "execution_count": 7
        }
      ],
      "source": [
        "rec_count = len(data)\n",
        "rec_count"
      ]
    },
    {
      "cell_type": "markdown",
      "source": [
        "# Datu dalīšana mazākos gabalos"
      ],
      "metadata": {
        "id": "6RVC1PZy88fC"
      }
    },
    {
      "cell_type": "code",
      "execution_count": 8,
      "metadata": {
        "id": "DOvnCYkcbGaE"
      },
      "outputs": [],
      "source": [
        "sequence_length = 200"
      ]
    },
    {
      "cell_type": "code",
      "execution_count": 9,
      "metadata": {
        "id": "RG0o2L3zbTEx"
      },
      "outputs": [],
      "source": [
        "def generate_data(X, y, sequence_length = 200, step = 200):\n",
        "    X_local = []\n",
        "    y_local = []\n",
        "    for start in range(0, len(data) - sequence_length, step):\n",
        "        end = start + sequence_length\n",
        "        X_local.append(X[start:end])\n",
        "        y_local.append(y[end-1])\n",
        "    return np.array(X_local), np.array(y_local)\n",
        "\n",
        "X_sequence, y = generate_data(data.loc[:, \"tachometer\":\"microphone\"].values, data.Class)"
      ]
    },
    {
      "cell_type": "code",
      "execution_count": 10,
      "metadata": {
        "id": "s0QxwK66cLVF",
        "colab": {
          "base_uri": "https://localhost:8080/"
        },
        "outputId": "634cef5d-9326-4673-d51b-d448e781fe05"
      },
      "outputs": [
        {
          "output_type": "execute_result",
          "data": {
            "text/plain": [
              "((62499, 200, 8), (62499,))"
            ]
          },
          "metadata": {},
          "execution_count": 10
        }
      ],
      "source": [
        "X_sequence.shape, y.shape"
      ]
    },
    {
      "cell_type": "code",
      "source": [
        "data = 0"
      ],
      "metadata": {
        "id": "i7R1oo6Mj8wx"
      },
      "execution_count": 11,
      "outputs": []
    },
    {
      "cell_type": "markdown",
      "source": [
        "# Random/Shuffle"
      ],
      "metadata": {
        "id": "5BXSDoHa9UX_"
      }
    },
    {
      "cell_type": "code",
      "source": [
        "shuffler = np.random.permutation(len(X_sequence))\n",
        "X_sequence_shuffled = X_sequence[shuffler]\n",
        "y_shuffled = y[shuffler]"
      ],
      "metadata": {
        "id": "ZcfE9idy-ckb"
      },
      "execution_count": 12,
      "outputs": []
    },
    {
      "cell_type": "markdown",
      "source": [
        "# LSTM"
      ],
      "metadata": {
        "id": "TfhRTTNcE2s8"
      }
    },
    {
      "cell_type": "code",
      "execution_count": 13,
      "metadata": {
        "id": "ihrXMuVAEwlY"
      },
      "outputs": [],
      "source": [
        "import pandas as pd\n",
        "import sklearn.metrics as metrique\n",
        "from pandas import Series\n",
        "from sklearn.preprocessing import StandardScaler, MinMaxScaler\n",
        "from matplotlib import pyplot\n",
        "from sklearn.model_selection import train_test_split\n",
        "import numpy as np\n",
        "import tensorflow as tf\n",
        "import sys\n",
        "import numpy as np\n",
        "import pandas as pd\n",
        "import tensorflow as tf\n",
        "import matplotlib.pyplot as plt\n",
        "from sklearn.model_selection import train_test_split\n",
        "from sklearn import preprocessing\n",
        "from sklearn.preprocessing import StandardScaler\n",
        "from sklearn.metrics import classification_report\n",
        "import warnings\n",
        "warnings.filterwarnings('ignore')\n",
        "plt.style.use('ggplot')\n",
        "import seaborn as sns \n",
        "%matplotlib inline\n",
        "from keras.callbacks import EarlyStopping\n",
        "from keras.callbacks import ModelCheckpoint\n",
        "from sklearn.metrics import accuracy_score\n",
        "from sklearn.metrics import classification_report, confusion_matrix\n",
        "from keras.models import Sequential\n",
        "from keras.utils import np_utils\n",
        "from keras.layers import LSTM, Dense, Embedding, Dropout,Input, Layer, Concatenate, Permute, Dot, Multiply, Flatten\n",
        "from keras.layers import RepeatVector, Dense, Activation, Lambda\n",
        "from keras.models import Sequential\n",
        "from keras import backend as K, regularizers, Model, metrics\n",
        "from keras.backend import cast"
      ]
    },
    {
      "cell_type": "code",
      "execution_count": 14,
      "metadata": {
        "id": "PjKWKiA6aH3z",
        "colab": {
          "base_uri": "https://localhost:8080/"
        },
        "outputId": "298aeeb0-df05-49d6-9a2d-2057e668dcb9"
      },
      "outputs": [
        {
          "output_type": "stream",
          "name": "stdout",
          "text": [
            "Model: \"sequential\"\n",
            "_________________________________________________________________\n",
            " Layer (type)                Output Shape              Param #   \n",
            "=================================================================\n",
            " lstm (LSTM)                 (None, 100)               43600     \n",
            "                                                                 \n",
            " dropout (Dropout)           (None, 100)               0         \n",
            "                                                                 \n",
            " dense (Dense)               (None, 1)                 101       \n",
            "                                                                 \n",
            "=================================================================\n",
            "Total params: 43,701\n",
            "Trainable params: 43,701\n",
            "Non-trainable params: 0\n",
            "_________________________________________________________________\n"
          ]
        }
      ],
      "source": [
        "from tensorflow.keras import optimizers\n",
        "sgd = optimizers.SGD(lr=0.0001, decay=1e-6, momentum=0.9, nesterov=True)\n",
        "model = keras.Sequential()\n",
        "model.add(LSTM(100, input_shape = (200, 8)))\n",
        "model.add(Dropout(0.5))\n",
        "model.add(Dense(1, activation=\"sigmoid\"))\n",
        "\n",
        "#model.compile(loss='mean_squared_error', optimizer=sgd)\n",
        "model.compile(loss=\"binary_crossentropy\"\n",
        "              , metrics=[keras.metrics.binary_accuracy]\n",
        "              , optimizer=sgd)\n",
        "\n",
        "model.summary()"
      ]
    },
    {
      "cell_type": "code",
      "execution_count": 15,
      "metadata": {
        "id": "tg8wrqsqc8UX"
      },
      "outputs": [],
      "source": [
        "training_size = int(len(X_sequence) * 0.8)\n",
        "val_size = int(len(X_sequence) * 0.9)"
      ]
    },
    {
      "cell_type": "code",
      "execution_count": 16,
      "metadata": {
        "id": "avIp3TEKc-qF"
      },
      "outputs": [],
      "source": [
        "X_train, y_train = X_sequence_shuffled[:training_size], y_shuffled[:training_size]\n",
        "X_val, y_val = X_sequence_shuffled[training_size:val_size], y_shuffled[training_size:val_size]\n",
        "X_test, y_test = X_sequence_shuffled[val_size:], y_shuffled[val_size:]"
      ]
    },
    {
      "cell_type": "code",
      "source": [
        "X_sequence = 0\n",
        "y = 0"
      ],
      "metadata": {
        "id": "RABc_uKzkBUT"
      },
      "execution_count": 17,
      "outputs": []
    },
    {
      "cell_type": "code",
      "execution_count": 18,
      "metadata": {
        "id": "cen4faX0dFJP",
        "colab": {
          "base_uri": "https://localhost:8080/"
        },
        "outputId": "33a8e44f-04e0-4922-de0c-b7a46cf3fe62"
      },
      "outputs": [
        {
          "output_type": "stream",
          "name": "stdout",
          "text": [
            "Epoch 1/50\n",
            "782/782 [==============================] - 150s 189ms/step - loss: 0.6871 - binary_accuracy: 0.5395 - val_loss: 0.6786 - val_binary_accuracy: 0.5846\n",
            "Epoch 2/50\n",
            "782/782 [==============================] - 146s 186ms/step - loss: 0.6780 - binary_accuracy: 0.5756 - val_loss: 0.6730 - val_binary_accuracy: 0.5939\n",
            "Epoch 3/50\n",
            "782/782 [==============================] - 145s 186ms/step - loss: 0.6731 - binary_accuracy: 0.5891 - val_loss: 0.6702 - val_binary_accuracy: 0.5939\n",
            "Epoch 4/50\n",
            "782/782 [==============================] - 145s 185ms/step - loss: 0.6703 - binary_accuracy: 0.5914 - val_loss: 0.6681 - val_binary_accuracy: 0.5939\n",
            "Epoch 5/50\n",
            "782/782 [==============================] - 145s 186ms/step - loss: 0.6690 - binary_accuracy: 0.5935 - val_loss: 0.6662 - val_binary_accuracy: 0.5939\n",
            "Epoch 6/50\n",
            "782/782 [==============================] - 145s 185ms/step - loss: 0.6670 - binary_accuracy: 0.5956 - val_loss: 0.6643 - val_binary_accuracy: 0.5939\n",
            "Epoch 7/50\n",
            "782/782 [==============================] - 145s 185ms/step - loss: 0.6647 - binary_accuracy: 0.5944 - val_loss: 0.6623 - val_binary_accuracy: 0.5939\n",
            "Epoch 8/50\n",
            "782/782 [==============================] - 144s 185ms/step - loss: 0.6626 - binary_accuracy: 0.5951 - val_loss: 0.6601 - val_binary_accuracy: 0.5939\n",
            "Epoch 9/50\n",
            "782/782 [==============================] - 145s 186ms/step - loss: 0.6599 - binary_accuracy: 0.5974 - val_loss: 0.6577 - val_binary_accuracy: 0.5939\n",
            "Epoch 10/50\n",
            "782/782 [==============================] - 145s 185ms/step - loss: 0.6577 - binary_accuracy: 0.5964 - val_loss: 0.6549 - val_binary_accuracy: 0.5939\n",
            "Epoch 11/50\n",
            "782/782 [==============================] - 145s 186ms/step - loss: 0.6542 - binary_accuracy: 0.5975 - val_loss: 0.6517 - val_binary_accuracy: 0.5939\n",
            "Epoch 12/50\n",
            "782/782 [==============================] - 145s 185ms/step - loss: 0.6506 - binary_accuracy: 0.5976 - val_loss: 0.6479 - val_binary_accuracy: 0.5939\n",
            "Epoch 13/50\n",
            "782/782 [==============================] - 145s 186ms/step - loss: 0.6466 - binary_accuracy: 0.5968 - val_loss: 0.6433 - val_binary_accuracy: 0.5939\n",
            "Epoch 14/50\n",
            "782/782 [==============================] - 144s 185ms/step - loss: 0.6417 - binary_accuracy: 0.5983 - val_loss: 0.6375 - val_binary_accuracy: 0.5939\n",
            "Epoch 15/50\n",
            "782/782 [==============================] - 145s 186ms/step - loss: 0.6349 - binary_accuracy: 0.5998 - val_loss: 0.6301 - val_binary_accuracy: 0.5939\n",
            "Epoch 16/50\n",
            "782/782 [==============================] - 145s 185ms/step - loss: 0.6262 - binary_accuracy: 0.6021 - val_loss: 0.6200 - val_binary_accuracy: 0.5936\n",
            "Epoch 17/50\n",
            "782/782 [==============================] - 144s 185ms/step - loss: 0.6146 - binary_accuracy: 0.6120 - val_loss: 0.6051 - val_binary_accuracy: 0.5872\n",
            "Epoch 18/50\n",
            "782/782 [==============================] - 144s 184ms/step - loss: 0.5957 - binary_accuracy: 0.6475 - val_loss: 0.5796 - val_binary_accuracy: 0.7018\n",
            "Epoch 19/50\n",
            "782/782 [==============================] - 144s 184ms/step - loss: 0.5547 - binary_accuracy: 0.7203 - val_loss: 0.5098 - val_binary_accuracy: 0.7771\n",
            "Epoch 20/50\n",
            "782/782 [==============================] - 143s 183ms/step - loss: 0.4759 - binary_accuracy: 0.7885 - val_loss: 0.4436 - val_binary_accuracy: 0.8085\n",
            "Epoch 21/50\n",
            "782/782 [==============================] - 144s 184ms/step - loss: 0.4353 - binary_accuracy: 0.8161 - val_loss: 0.4053 - val_binary_accuracy: 0.8299\n",
            "Epoch 22/50\n",
            "782/782 [==============================] - 143s 183ms/step - loss: 0.4128 - binary_accuracy: 0.8258 - val_loss: 0.3942 - val_binary_accuracy: 0.8322\n",
            "Epoch 23/50\n",
            "782/782 [==============================] - 144s 184ms/step - loss: 0.3954 - binary_accuracy: 0.8390 - val_loss: 0.3598 - val_binary_accuracy: 0.8566\n",
            "Epoch 24/50\n",
            "782/782 [==============================] - 143s 183ms/step - loss: 0.3741 - binary_accuracy: 0.8470 - val_loss: 0.3521 - val_binary_accuracy: 0.8550\n",
            "Epoch 25/50\n",
            "782/782 [==============================] - 145s 185ms/step - loss: 0.3627 - binary_accuracy: 0.8557 - val_loss: 0.3410 - val_binary_accuracy: 0.8630\n",
            "Epoch 26/50\n",
            "782/782 [==============================] - 144s 184ms/step - loss: 0.3446 - binary_accuracy: 0.8615 - val_loss: 0.3191 - val_binary_accuracy: 0.8754\n",
            "Epoch 27/50\n",
            "782/782 [==============================] - 144s 185ms/step - loss: 0.3690 - binary_accuracy: 0.8498 - val_loss: 0.3176 - val_binary_accuracy: 0.8749\n",
            "Epoch 28/50\n",
            "782/782 [==============================] - 144s 184ms/step - loss: 0.3212 - binary_accuracy: 0.8719 - val_loss: 0.3193 - val_binary_accuracy: 0.8677\n",
            "Epoch 29/50\n",
            "782/782 [==============================] - 144s 184ms/step - loss: 0.3071 - binary_accuracy: 0.8793 - val_loss: 0.2856 - val_binary_accuracy: 0.8885\n",
            "Epoch 30/50\n",
            "782/782 [==============================] - 144s 184ms/step - loss: 0.2967 - binary_accuracy: 0.8832 - val_loss: 0.2804 - val_binary_accuracy: 0.8901\n",
            "Epoch 31/50\n",
            "782/782 [==============================] - 144s 184ms/step - loss: 0.2839 - binary_accuracy: 0.8889 - val_loss: 0.2815 - val_binary_accuracy: 0.8842\n",
            "Epoch 32/50\n",
            "782/782 [==============================] - 144s 184ms/step - loss: 0.2748 - binary_accuracy: 0.8924 - val_loss: 0.2519 - val_binary_accuracy: 0.9029\n",
            "Epoch 33/50\n",
            "782/782 [==============================] - 144s 185ms/step - loss: 0.2615 - binary_accuracy: 0.8978 - val_loss: 0.2458 - val_binary_accuracy: 0.9064\n",
            "Epoch 34/50\n",
            "782/782 [==============================] - 145s 185ms/step - loss: 0.2522 - binary_accuracy: 0.9014 - val_loss: 0.2802 - val_binary_accuracy: 0.8835\n",
            "Epoch 35/50\n",
            "782/782 [==============================] - 144s 184ms/step - loss: 0.2411 - binary_accuracy: 0.9073 - val_loss: 0.2128 - val_binary_accuracy: 0.9205\n",
            "Epoch 36/50\n",
            "782/782 [==============================] - 144s 184ms/step - loss: 0.2341 - binary_accuracy: 0.9103 - val_loss: 0.2101 - val_binary_accuracy: 0.9211\n",
            "Epoch 37/50\n",
            "782/782 [==============================] - 144s 184ms/step - loss: 0.2252 - binary_accuracy: 0.9141 - val_loss: 0.2084 - val_binary_accuracy: 0.9216\n",
            "Epoch 38/50\n",
            "782/782 [==============================] - 144s 184ms/step - loss: 0.2172 - binary_accuracy: 0.9182 - val_loss: 0.2179 - val_binary_accuracy: 0.9163\n",
            "Epoch 39/50\n",
            "782/782 [==============================] - 143s 183ms/step - loss: 0.2108 - binary_accuracy: 0.9218 - val_loss: 0.2360 - val_binary_accuracy: 0.9075\n",
            "Epoch 40/50\n",
            "782/782 [==============================] - 144s 184ms/step - loss: 0.2044 - binary_accuracy: 0.9238 - val_loss: 0.2033 - val_binary_accuracy: 0.9227\n",
            "Epoch 41/50\n",
            "782/782 [==============================] - 144s 184ms/step - loss: 0.1967 - binary_accuracy: 0.9279 - val_loss: 0.2129 - val_binary_accuracy: 0.9221\n",
            "Epoch 42/50\n",
            "782/782 [==============================] - 144s 185ms/step - loss: 0.1948 - binary_accuracy: 0.9295 - val_loss: 0.2128 - val_binary_accuracy: 0.9194\n",
            "Epoch 43/50\n",
            "782/782 [==============================] - 144s 184ms/step - loss: 0.1892 - binary_accuracy: 0.9311 - val_loss: 0.1782 - val_binary_accuracy: 0.9366\n",
            "Epoch 44/50\n",
            "782/782 [==============================] - 144s 184ms/step - loss: 0.1852 - binary_accuracy: 0.9337 - val_loss: 0.1856 - val_binary_accuracy: 0.9301\n",
            "Epoch 45/50\n",
            "782/782 [==============================] - 143s 183ms/step - loss: 0.1747 - binary_accuracy: 0.9375 - val_loss: 0.1611 - val_binary_accuracy: 0.9427\n",
            "Epoch 46/50\n",
            "782/782 [==============================] - 145s 185ms/step - loss: 0.1696 - binary_accuracy: 0.9403 - val_loss: 0.1819 - val_binary_accuracy: 0.9371\n",
            "Epoch 47/50\n",
            "782/782 [==============================] - 145s 186ms/step - loss: 0.1625 - binary_accuracy: 0.9426 - val_loss: 0.1589 - val_binary_accuracy: 0.9414\n",
            "Epoch 48/50\n",
            "782/782 [==============================] - 145s 185ms/step - loss: 0.1668 - binary_accuracy: 0.9407 - val_loss: 0.1487 - val_binary_accuracy: 0.9502\n",
            "Epoch 49/50\n",
            "782/782 [==============================] - 144s 184ms/step - loss: 0.1574 - binary_accuracy: 0.9442 - val_loss: 0.1590 - val_binary_accuracy: 0.9432\n",
            "Epoch 50/50\n",
            "782/782 [==============================] - 144s 185ms/step - loss: 0.1585 - binary_accuracy: 0.9445 - val_loss: 0.1674 - val_binary_accuracy: 0.9419\n"
          ]
        }
      ],
      "source": [
        "history = model.fit(X_train, y_train, batch_size=64, epochs=50, validation_data=(X_val, y_val))\n",
        "#model.save('AllDataModel_Binary_E50_B64.h5')"
      ]
    },
    {
      "cell_type": "code",
      "execution_count": 19,
      "metadata": {
        "id": "R7QQeqVidKBR",
        "colab": {
          "base_uri": "https://localhost:8080/"
        },
        "outputId": "076f1d48-4548-4c68-80ca-d537fd9bd4ff"
      },
      "outputs": [
        {
          "output_type": "stream",
          "name": "stdout",
          "text": [
            "196/196 [==============================] - 8s 40ms/step - loss: 0.1720 - binary_accuracy: 0.9379\n"
          ]
        },
        {
          "output_type": "execute_result",
          "data": {
            "text/plain": [
              "[0.17203089594841003, 0.9379199743270874]"
            ]
          },
          "metadata": {},
          "execution_count": 19
        }
      ],
      "source": [
        "model.evaluate(X_test, y_test)"
      ]
    },
    {
      "cell_type": "code",
      "execution_count": 20,
      "metadata": {
        "id": "OHpifyqGdKn-",
        "colab": {
          "base_uri": "https://localhost:8080/"
        },
        "outputId": "09398bb4-c73e-40cd-be07-ec354ead5d50"
      },
      "outputs": [
        {
          "output_type": "stream",
          "name": "stdout",
          "text": [
            "196/196 [==============================] - 8s 40ms/step\n"
          ]
        }
      ],
      "source": [
        "y_test_prob = model.predict(X_test, verbose=1)"
      ]
    },
    {
      "cell_type": "code",
      "source": [
        "y_test_prob"
      ],
      "metadata": {
        "colab": {
          "base_uri": "https://localhost:8080/"
        },
        "id": "G2WIGq_dnAvT",
        "outputId": "e8ad6242-5057-436d-f885-975461551b78"
      },
      "execution_count": 29,
      "outputs": [
        {
          "output_type": "execute_result",
          "data": {
            "text/plain": [
              "array([[0.99],\n",
              "       [1.  ],\n",
              "       [0.05],\n",
              "       ...,\n",
              "       [0.15],\n",
              "       [0.02],\n",
              "       [0.02]], dtype=float32)"
            ]
          },
          "metadata": {},
          "execution_count": 29
        }
      ]
    },
    {
      "cell_type": "code",
      "execution_count": 22,
      "metadata": {
        "id": "AfmdrBILdMwj"
      },
      "outputs": [],
      "source": [
        "y_test_pred = np.where(y_test_prob > 0.5, 1, 0)"
      ]
    },
    {
      "cell_type": "code",
      "execution_count": 23,
      "metadata": {
        "id": "8DoJy_p9dPzN"
      },
      "outputs": [],
      "source": [
        "from sklearn.metrics import confusion_matrix"
      ]
    },
    {
      "cell_type": "code",
      "execution_count": 24,
      "metadata": {
        "id": "fTCsPjW8dQaZ",
        "colab": {
          "base_uri": "https://localhost:8080/"
        },
        "outputId": "56114cf4-c798-4859-df01-3eb6c9012bb8"
      },
      "outputs": [
        {
          "output_type": "execute_result",
          "data": {
            "text/plain": [
              "array([[2398,   81],\n",
              "       [ 307, 3464]])"
            ]
          },
          "metadata": {},
          "execution_count": 24
        }
      ],
      "source": [
        "confusion_matrix(y_test, y_test_pred)"
      ]
    },
    {
      "cell_type": "code",
      "execution_count": 25,
      "metadata": {
        "id": "te3fslrY9Eca",
        "colab": {
          "base_uri": "https://localhost:8080/",
          "height": 687
        },
        "outputId": "f5b5a909-9253-4c96-fb8a-e96a0739bce0"
      },
      "outputs": [
        {
          "output_type": "stream",
          "name": "stdout",
          "text": [
            "Confusion matrix, without normalization\n",
            "[[2398   81]\n",
            " [ 307 3464]]\n",
            "Normalized confusion matrix\n",
            "[[0.97 0.03]\n",
            " [0.08 0.92]]\n"
          ]
        },
        {
          "output_type": "display_data",
          "data": {
            "text/plain": [
              "<Figure size 432x288 with 2 Axes>"
            ],
            "image/png": "[encoded data removed]"
          },
          "metadata": {
            "needs_background": "light"
          }
        },
        {
          "output_type": "display_data",
          "data": {
            "text/plain": [
              "<Figure size 432x288 with 2 Axes>"
            ],
            "image/png": "[encoded data removed]"
          },
          "metadata": {
            "needs_background": "light"
          }
        }
      ],
      "source": [
        "import numpy as np\n",
        "import matplotlib.pyplot as plt\n",
        "\n",
        "from sklearn import svm, datasets\n",
        "from sklearn.model_selection import train_test_split\n",
        "from sklearn.metrics import confusion_matrix\n",
        "from sklearn.utils.multiclass import unique_labels\n",
        "\n",
        "class_names = np.array(['0', '1'])\n",
        "\n",
        "def plot_confusion_matrix(y_true, y_pred, classes,\n",
        "                          normalize=False,\n",
        "                          title=None,\n",
        "                          cmap=plt.cm.Blues):\n",
        "    \"\"\"\n",
        "    This function prints and plots the confusion matrix.\n",
        "    Normalization can be applied by setting `normalize=True`.\n",
        "    \"\"\"\n",
        "    if not title:\n",
        "        if normalize:\n",
        "            title = 'Normalized confusion matrix'\n",
        "        else:\n",
        "            title = 'Confusion matrix, without normalization'\n",
        "\n",
        "    # Compute confusion matrix\n",
        "    cm = confusion_matrix(y_true, y_pred)\n",
        "    # Only use the labels that appear in the data\n",
        "    classes = classes[unique_labels(y_true, y_pred)]\n",
        "    if normalize:\n",
        "        cm = cm.astype('float') / cm.sum(axis=1)[:, np.newaxis]\n",
        "        print(\"Normalized confusion matrix\")\n",
        "    else:\n",
        "        print('Confusion matrix, without normalization')\n",
        "\n",
        "    print(cm)\n",
        "\n",
        "    fig, ax = plt.subplots()\n",
        "    im = ax.imshow(cm, interpolation='nearest', cmap=cmap)\n",
        "    ax.figure.colorbar(im, ax=ax)\n",
        "    # We want to show all ticks...\n",
        "    ax.set(xticks=np.arange(cm.shape[1]),\n",
        "           yticks=np.arange(cm.shape[0]),\n",
        "           # ... and label them with the respective list entries\n",
        "           xticklabels=classes, yticklabels=classes,\n",
        "           title=title,\n",
        "           ylabel='True label',\n",
        "           xlabel='Predicted label')\n",
        "\n",
        "    # Rotate the tick labels and set their alignment.\n",
        "    plt.setp(ax.get_xticklabels(), rotation=45, ha=\"right\",\n",
        "             rotation_mode=\"anchor\")\n",
        "\n",
        "    # Loop over data dimensions and create text annotations.\n",
        "    fmt = '.2f' if normalize else 'd'\n",
        "    thresh = cm.max() / 2.\n",
        "    for i in range(cm.shape[0]):\n",
        "        for j in range(cm.shape[1]):\n",
        "            ax.text(j, i, format(cm[i, j], fmt),\n",
        "                    ha=\"center\", va=\"center\",\n",
        "                    color=\"white\" if cm[i, j] > thresh else \"black\")\n",
        "    fig.tight_layout()\n",
        "\n",
        "    return ax\n",
        "\n",
        "\n",
        "np.set_printoptions(precision=2)\n",
        "\n",
        "# Plot non-normalized confusion matrix\n",
        "plot_confusion_matrix(y_test, y_test_pred, classes=class_names,\n",
        "                      title='Confusion matrix, without normalization')\n",
        "\n",
        "# Plot normalized confusion matrix\n",
        "plot_confusion_matrix(y_test, y_test_pred, classes=class_names, normalize=True,\n",
        "                      title='Normalized confusion matrix')\n",
        "\n",
        "plt.show()"
      ]
    },
    {
      "cell_type": "code",
      "source": [
        "def plot_learningCurve(history, epoch):\n",
        "  # Plot training & validation accuracy values\n",
        "  epoch_range = range(1, epoch+1)\n",
        "  plt.plot(epoch_range, history.history['binary_accuracy'])\n",
        "  plt.plot(epoch_range, history.history['val_binary_accuracy'])\n",
        "  plt.title('Model accuracy')\n",
        "  plt.ylabel('Accuracy')\n",
        "  plt.xlabel('Epoch')\n",
        "  plt.legend(['Train', 'Val'], loc='upper left')\n",
        "  plt.show()\n",
        "\n",
        "  # Plot training & validation loss values\n",
        "  plt.plot(epoch_range, history.history['loss'])\n",
        "  plt.plot(epoch_range, history.history['val_loss'])\n",
        "  plt.title('Model loss')\n",
        "  plt.ylabel('Loss')\n",
        "  plt.xlabel('Epoch')\n",
        "  plt.legend(['Train', 'Val'], loc='upper left')\n",
        "  plt.show()"
      ],
      "metadata": {
        "id": "fhdLAhgPUnH3"
      },
      "execution_count": 26,
      "outputs": []
    },
    {
      "cell_type": "code",
      "source": [
        "plot_learningCurve(history, 50)"
      ],
      "metadata": {
        "id": "WlkQkWHgU5mL",
        "colab": {
          "base_uri": "https://localhost:8080/",
          "height": 581
        },
        "outputId": "20d2489d-0283-463c-cc5a-42d0ba5250a7"
      },
      "execution_count": 27,
      "outputs": [
        {
          "output_type": "display_data",
          "data": {
            "text/plain": [
              "<Figure size 432x288 with 1 Axes>"
            ],
            "image/png": "[encoded data removed]"
          },
          "metadata": {
            "needs_background": "light"
          }
        },
        {
          "output_type": "display_data",
          "data": {
            "text/plain": [
              "<Figure size 432x288 with 1 Axes>"
            ],
            "image/png": "[encoded data removed]"
          },
          "metadata": {
            "needs_background": "light"
          }
        }
      ]
    },
    {
      "cell_type": "code",
      "execution_count": 28,
      "metadata": {
        "id": "CPb2Ed-6PG6G"
      },
      "outputs": [],
      "source": [
        "##from keras.models import load_model\n",
        "# Assuming your model includes instance of an \"AttentionLayer\" class\n",
        "##uploadmodel = load_model('AllDataModel_E50_B64.h5')\n",
        "#custom_ob = {'att_out': custom_layer.Attention,'AttLayer2': custom_layer.Attention}\n",
        "#new_model = load_model('test.h5', custom_objects={'AttentionLayer': att_out})\n",
        "#new_model = tf.keras.models.load_model('test.h5',custom_objects={'att_out': custom_layer.Attention})\n",
        "\n",
        "# Show the model architecture\n",
        "##uploadmodel.summary()\n"
      ]
    }
  ],
  "metadata": {
    "colab": {
      "collapsed_sections": [
        "f857kfHqUk0-"
      ],
      "name": "MD_LSTM_step_200_files_50.ipynb",
      "provenance": [],
      "include_colab_link": true
    },
    "kernelspec": {
      "display_name": "Python 3",
      "name": "python3"
    },
    "language_info": {
      "name": "python"
    }
  },
  "nbformat": 4,
  "nbformat_minor": 0
}