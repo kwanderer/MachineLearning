{
  "cells": [
    {
      "cell_type": "markdown",
      "metadata": {
        "id": "view-in-github",
        "colab_type": "text"
      },
      "source": [
        "<a href=\"https://colab.research.google.com/github/kwanderer/MachineLearning/blob/main/Regresion_Multi_Class_MD_LSTM_step_200_files_120.ipynb\" target=\"_parent\"><img src=\"https://colab.research.google.com/assets/colab-badge.svg\" alt=\"Open In Colab\"/></a>"
      ]
    },
    {
      "cell_type": "markdown",
      "metadata": {
        "id": "f857kfHqUk0-"
      },
      "source": [
        "\n",
        "\n",
        "#Datu kopa"
      ]
    },
    {
      "cell_type": "markdown",
      "metadata": {
        "id": "nM9WE3QGUwVi"
      },
      "source": [
        "Datu kopas avots: https://www.kaggle.com/uysalserkan/fault-induction-motor-dataset"
      ]
    },
    {
      "cell_type": "markdown",
      "metadata": {
        "id": "_sN_h3qHHy6r"
      },
      "source": [
        "Darbā tiek izmantota indukcijas motora parametru datu bāze. Izmantotajā datu kopā ir dati, kas tika iegūti SpectraQuest aparatūras kļūdu simulatorā (Machinery Fault Simulator).\n",
        "\n",
        "Katra mērījumu secība tika ģenerēta ar frekvenci 50 kHz 5 sekunžu laikā, kopā 250 000 mērījumi.\n",
        "\n",
        "Dati ir apkopoti vairākos failos, dažādos darbības stāvokļos un to apjoms ir ļoti liels. Šajā darbā tika izmantota daļa(viena mērījumu secība) no motora normālas darbības datiem.\n"
      ]
    },
    {
      "cell_type": "markdown",
      "metadata": {
        "id": "KtFAOaHYHLPo"
      },
      "source": [
        "Dati ir apkopoti tabulā, kura satur 8 parametrus. Dati ir iedalīti sekojošās kolonas:\n",
        "\n",
        "**tachometer** – tahometra signāls, kas ļauj novērtēt rotācijas frekvenci\n",
        "\n",
        "**und-accelerometer-axial** - apakšā esošā gultņa akselerometrs (aksiālais virziens)\n",
        "\n",
        "**und-accelerometer-radial** – apakšā esošā gultņa akselerometrs (radiālais virziens)\n",
        "\n",
        "**und-accelerometer-tangential** - apakšā esošā gultņa akselerometrs (tangenciālais virziens)\n",
        "\n",
        "**over-accelerometer-axial** - pārkares gultņa akselerometrs (aksiālais virziens)\n",
        "\n",
        "**over-accelerometer-radial** – pārkares gultņa akselerometrs (radiālais  virziens)\n",
        "\n",
        "**over-accelerometer-tangential**  - pārkares gultņa akselerometrs (tangenciālais virziens)\n",
        "\n",
        "**microphone** – mikrofona vērtība\n"
      ]
    },
    {
      "cell_type": "markdown",
      "metadata": {
        "id": "XymoNLKMVFUC"
      },
      "source": [
        "#Datu ielasīšana un satura vizualizācija"
      ]
    },
    {
      "cell_type": "code",
      "execution_count": 1,
      "metadata": {
        "id": "_yqYZDeOFq5s"
      },
      "outputs": [],
      "source": [
        "import keras\n",
        "from keras.layers import LSTM, Dropout, Dense\n",
        "import tensorflow as tf\n",
        "import numpy as np\n",
        "import pandas as pd\n",
        "\n",
        "from sklearn import linear_model  #pip install sklearn - loti plasa masinapmacibas biblioteka\n",
        "from sklearn.linear_model import LinearRegression  \n",
        "import csv          #pip install csv - darbam ar CSV datu kopam\n",
        "import requests     #pip install requests  - vienkarsakam darbam ar tiessaistes CSV datu kopam tiessaistes\n",
        "\n",
        "import matplotlib\n",
        "import matplotlib.pyplot as plt\n",
        "\n",
        "import glob\n"
      ]
    },
    {
      "cell_type": "code",
      "execution_count": 2,
      "metadata": {
        "id": "wlRTBbM2eUcV",
        "colab": {
          "base_uri": "https://localhost:8080/"
        },
        "outputId": "6f21c014-d46f-4923-f187-d1e771b35bd6"
      },
      "outputs": [
        {
          "output_type": "stream",
          "name": "stdout",
          "text": [
            "Drive already mounted at /content/gdrive; to attempt to forcibly remount, call drive.mount(\"/content/gdrive\", force_remount=True).\n"
          ]
        }
      ],
      "source": [
        "from google.colab import drive\n",
        "import os\n",
        "drive.mount('/content/gdrive')\n",
        "os.chdir(\"/content/gdrive/MyDrive/Colab Notebooks/data_multiclass/\")"
      ]
    },
    {
      "cell_type": "code",
      "execution_count": 3,
      "metadata": {
        "id": "zzz6fBl_SNom"
      },
      "outputs": [],
      "source": [
        "#extension = 'csv'\n",
        "#all_filenames = [i for i in glob.glob('*.{}'.format(extension))]"
      ]
    },
    {
      "cell_type": "code",
      "execution_count": 4,
      "metadata": {
        "id": "vagKFCkToBi0"
      },
      "outputs": [],
      "source": [
        "#combine all files in the list\n",
        "#combined_csv = pd.concat([pd.read_csv(f) for f in all_filenames ])\n",
        "#export to csv\n",
        "#combined_csv.to_csv( \"combined_multiclass_csv.csv\", index=False, encoding='utf-8-sig')"
      ]
    },
    {
      "cell_type": "code",
      "execution_count": 5,
      "metadata": {
        "id": "encEkbDhSfGI"
      },
      "outputs": [],
      "source": [
        "data = pd.read_csv(\"combined_multiclass_csv.csv\")"
      ]
    },
    {
      "cell_type": "code",
      "execution_count": 6,
      "metadata": {
        "id": "yz5Qe8ZWk1Zq",
        "colab": {
          "base_uri": "https://localhost:8080/"
        },
        "outputId": "e5875cfe-7341-4135-a7a7-a87f7f2285dc"
      },
      "outputs": [
        {
          "output_type": "stream",
          "name": "stdout",
          "text": [
            "<class 'pandas.core.frame.DataFrame'>\n",
            "RangeIndex: 30000000 entries, 0 to 29999999\n",
            "Data columns (total 9 columns):\n",
            " #   Column                         Dtype  \n",
            "---  ------                         -----  \n",
            " 0   tachometer                     float64\n",
            " 1   und-accelerometer-axial        float64\n",
            " 2   und-accelerometer-radial       float64\n",
            " 3   und-accelerometer-tangential   float64\n",
            " 4   over-accelerometer-axial       float64\n",
            " 5   over-accelerometer-radial      float64\n",
            " 6   over-accelerometer-tangential  float64\n",
            " 7   microphone                     float64\n",
            " 8   Class                          int64  \n",
            "dtypes: float64(8), int64(1)\n",
            "memory usage: 2.0 GB\n"
          ]
        }
      ],
      "source": [
        "data.info()"
      ]
    },
    {
      "cell_type": "code",
      "execution_count": 7,
      "metadata": {
        "id": "WUW9ezX6a_st",
        "colab": {
          "base_uri": "https://localhost:8080/"
        },
        "outputId": "26f9a700-1bc1-4eda-a807-6dea2cc0088b"
      },
      "outputs": [
        {
          "output_type": "execute_result",
          "data": {
            "text/plain": [
              "30000000"
            ]
          },
          "metadata": {},
          "execution_count": 7
        }
      ],
      "source": [
        "rec_count = len(data)\n",
        "rec_count"
      ]
    },
    {
      "cell_type": "markdown",
      "metadata": {
        "id": "6RVC1PZy88fC"
      },
      "source": [
        "# Datu dalīšana mazākos gabalos"
      ]
    },
    {
      "cell_type": "code",
      "execution_count": 8,
      "metadata": {
        "id": "DOvnCYkcbGaE"
      },
      "outputs": [],
      "source": [
        "sequence_length = 200"
      ]
    },
    {
      "cell_type": "code",
      "execution_count": 9,
      "metadata": {
        "id": "RG0o2L3zbTEx"
      },
      "outputs": [],
      "source": [
        "def generate_data(X, y, sequence_length = 200, step = 200):\n",
        "    X_local = []\n",
        "    y_local = []\n",
        "    for start in range(0, len(data) - sequence_length, step):\n",
        "        end = start + sequence_length\n",
        "        X_local.append(X[start:end])\n",
        "        y_local.append(y[end-1])\n",
        "    return np.array(X_local), np.array(y_local)\n",
        "\n",
        "X_sequence, y = generate_data(data.loc[:, [\"tachometer\", \"und-accelerometer-axial\", \"und-accelerometer-radial\", \"und-accelerometer-tangential\", \"over-accelerometer-axial\", \"over-accelerometer-radial\", \"over-accelerometer-tangential\", \"microphone\"]].values, data.Class)\n",
        "#X_sequence, y = generate_data(data.loc[:, [\"und-accelerometer-axial\", \"und-accelerometer-radial\", \"und-accelerometer-tangential\", \"microphone\"]].values, data.Class)\n"
      ]
    },
    {
      "cell_type": "code",
      "execution_count": 10,
      "metadata": {
        "id": "s0QxwK66cLVF",
        "colab": {
          "base_uri": "https://localhost:8080/"
        },
        "outputId": "13a1f1a7-18cd-4e24-89da-aed65a7c7ab1"
      },
      "outputs": [
        {
          "output_type": "execute_result",
          "data": {
            "text/plain": [
              "((149999, 200, 8), (149999,))"
            ]
          },
          "metadata": {},
          "execution_count": 10
        }
      ],
      "source": [
        "X_sequence.shape, y.shape"
      ]
    },
    {
      "cell_type": "code",
      "source": [
        "y"
      ],
      "metadata": {
        "colab": {
          "base_uri": "https://localhost:8080/"
        },
        "id": "4tu6MQMZjahk",
        "outputId": "8576b322-6511-42a5-96f4-1f09b532e720"
      },
      "execution_count": 11,
      "outputs": [
        {
          "output_type": "execute_result",
          "data": {
            "text/plain": [
              "array([7, 7, 7, ..., 0, 0, 0])"
            ]
          },
          "metadata": {},
          "execution_count": 11
        }
      ]
    },
    {
      "cell_type": "code",
      "source": [
        "i = 0\n",
        "while i < 149999:\n",
        "  if y[i] == 1:\n",
        "    y[i] = 7\n",
        "  elif y[i] == 2:\n",
        "    y[i] = 6\n",
        "  elif y[i] == 3:\n",
        "    y[i] = 5\n",
        "  elif y[i] == 4:\n",
        "    y[i] = 4\n",
        "  elif y[i] == 5:\n",
        "    y[i] = 3\n",
        "  elif y[i] == 6:\n",
        "    y[i] = 2\n",
        "  elif y[i] == 7:\n",
        "    y[i] = 1\n",
        "  i+=1"
      ],
      "metadata": {
        "id": "i_jgMMlgjT4O"
      },
      "execution_count": 12,
      "outputs": []
    },
    {
      "cell_type": "code",
      "source": [
        "y"
      ],
      "metadata": {
        "colab": {
          "base_uri": "https://localhost:8080/"
        },
        "id": "mgCNJtOCkKZJ",
        "outputId": "4074a5c4-985d-4933-c602-980db56833a1"
      },
      "execution_count": 13,
      "outputs": [
        {
          "output_type": "execute_result",
          "data": {
            "text/plain": [
              "array([1, 1, 1, ..., 0, 0, 0])"
            ]
          },
          "metadata": {},
          "execution_count": 13
        }
      ]
    },
    {
      "cell_type": "code",
      "source": [
        "y.shape"
      ],
      "metadata": {
        "colab": {
          "base_uri": "https://localhost:8080/"
        },
        "id": "L9-ql6wZkMNC",
        "outputId": "82f5e277-601f-4ed8-c669-6df3441be6d5"
      },
      "execution_count": 14,
      "outputs": [
        {
          "output_type": "execute_result",
          "data": {
            "text/plain": [
              "(149999,)"
            ]
          },
          "metadata": {},
          "execution_count": 14
        }
      ]
    },
    {
      "cell_type": "code",
      "source": [
        "#np.save(\"mydata.npy\",X_sequence)"
      ],
      "metadata": {
        "id": "kvpMrUzMgZGE"
      },
      "execution_count": 15,
      "outputs": []
    },
    {
      "cell_type": "code",
      "source": [
        "b = np.load(\"mydata.npy\")"
      ],
      "metadata": {
        "id": "fxB_2ohGgkXJ"
      },
      "execution_count": 16,
      "outputs": []
    },
    {
      "cell_type": "code",
      "source": [
        "b.shape"
      ],
      "metadata": {
        "colab": {
          "base_uri": "https://localhost:8080/"
        },
        "id": "HguuDdetguf7",
        "outputId": "50e789b8-df6b-4539-9ca8-15428bf3bbb1"
      },
      "execution_count": 17,
      "outputs": [
        {
          "output_type": "execute_result",
          "data": {
            "text/plain": [
              "(149999, 200, 8)"
            ]
          },
          "metadata": {},
          "execution_count": 17
        }
      ]
    },
    {
      "cell_type": "code",
      "source": [
        "unique, counts = np.unique(y, return_counts=True)"
      ],
      "metadata": {
        "id": "l8Lq455lV1JR"
      },
      "execution_count": 18,
      "outputs": []
    },
    {
      "cell_type": "code",
      "source": [
        "unique"
      ],
      "metadata": {
        "id": "t0BRO3nAWQxe",
        "colab": {
          "base_uri": "https://localhost:8080/"
        },
        "outputId": "9b02ced1-94b7-42cb-c229-8854166d86fc"
      },
      "execution_count": 19,
      "outputs": [
        {
          "output_type": "execute_result",
          "data": {
            "text/plain": [
              "array([0, 1, 2, 3, 4, 5, 6, 7])"
            ]
          },
          "metadata": {},
          "execution_count": 19
        }
      ]
    },
    {
      "cell_type": "code",
      "source": [
        "counts"
      ],
      "metadata": {
        "id": "WWZ7QWR4WS_r",
        "colab": {
          "base_uri": "https://localhost:8080/"
        },
        "outputId": "756e7b97-4f27-42e4-b5c2-cc96b247af54"
      },
      "execution_count": 20,
      "outputs": [
        {
          "output_type": "execute_result",
          "data": {
            "text/plain": [
              "array([18749, 18750, 18750, 18750, 18750, 18750, 18750, 18750])"
            ]
          },
          "metadata": {},
          "execution_count": 20
        }
      ]
    },
    {
      "cell_type": "code",
      "execution_count": 21,
      "metadata": {
        "id": "i7R1oo6Mj8wx"
      },
      "outputs": [],
      "source": [
        "data = 0"
      ]
    },
    {
      "cell_type": "code",
      "source": [
        "#from sklearn.preprocessing import OneHotEncoder"
      ],
      "metadata": {
        "id": "lAk_JscRWmqY"
      },
      "execution_count": 22,
      "outputs": []
    },
    {
      "cell_type": "code",
      "source": [
        "#label_encoder = OneHotEncoder(sparse=False)\n",
        "#label_encoder.fit(y.reshape(-1,1))"
      ],
      "metadata": {
        "id": "14B9aYy0W0y6"
      },
      "execution_count": 23,
      "outputs": []
    },
    {
      "cell_type": "code",
      "source": [
        "#y_encoded = label_encoder.transform(y.reshape(-1,1))"
      ],
      "metadata": {
        "id": "VjpWn96xXgPS"
      },
      "execution_count": 24,
      "outputs": []
    },
    {
      "cell_type": "code",
      "source": [
        "#y_encoded[0:5]"
      ],
      "metadata": {
        "id": "VL6KMFo9XpBi"
      },
      "execution_count": 25,
      "outputs": []
    },
    {
      "cell_type": "code",
      "source": [
        "#y=y_encoded"
      ],
      "metadata": {
        "id": "5c8km253YKBl"
      },
      "execution_count": 26,
      "outputs": []
    },
    {
      "cell_type": "markdown",
      "metadata": {
        "id": "5BXSDoHa9UX_"
      },
      "source": [
        "# Random/Shuffle"
      ]
    },
    {
      "cell_type": "code",
      "execution_count": 27,
      "metadata": {
        "id": "ZcfE9idy-ckb"
      },
      "outputs": [],
      "source": [
        "shuffler = np.random.permutation(len(X_sequence))\n",
        "X_sequence_shuffled = X_sequence[shuffler]\n",
        "y_shuffled = y[shuffler]"
      ]
    },
    {
      "cell_type": "markdown",
      "metadata": {
        "id": "TfhRTTNcE2s8"
      },
      "source": [
        "# LSTM"
      ]
    },
    {
      "cell_type": "code",
      "execution_count": 28,
      "metadata": {
        "id": "ihrXMuVAEwlY"
      },
      "outputs": [],
      "source": [
        "import pandas as pd\n",
        "import sklearn.metrics as metrique\n",
        "from pandas import Series\n",
        "from sklearn.preprocessing import StandardScaler, MinMaxScaler\n",
        "from matplotlib import pyplot\n",
        "from sklearn.model_selection import train_test_split\n",
        "import numpy as np\n",
        "import tensorflow as tf\n",
        "import sys\n",
        "import numpy as np\n",
        "import pandas as pd\n",
        "import tensorflow as tf\n",
        "import matplotlib.pyplot as plt\n",
        "from sklearn.model_selection import train_test_split\n",
        "from sklearn import preprocessing\n",
        "from sklearn.preprocessing import StandardScaler\n",
        "from sklearn.metrics import classification_report\n",
        "import warnings\n",
        "warnings.filterwarnings('ignore')\n",
        "plt.style.use('ggplot')\n",
        "import seaborn as sns \n",
        "%matplotlib inline\n",
        "from keras.callbacks import EarlyStopping\n",
        "from keras.callbacks import ModelCheckpoint\n",
        "from sklearn.metrics import accuracy_score\n",
        "from sklearn.metrics import classification_report, confusion_matrix\n",
        "from keras.models import Sequential\n",
        "from keras.utils import np_utils\n",
        "from keras.layers import LSTM, Dense, Embedding, Dropout,Input, Layer, Concatenate, Permute, Dot, Multiply, Flatten\n",
        "from keras.layers import RepeatVector, Dense, Activation, Lambda\n",
        "from keras.models import Sequential\n",
        "from keras import backend as K, regularizers, Model, metrics\n",
        "from keras.backend import cast"
      ]
    },
    {
      "cell_type": "code",
      "execution_count": 29,
      "metadata": {
        "id": "PjKWKiA6aH3z"
      },
      "outputs": [],
      "source": [
        "#from tensorflow.keras import optimizers\n",
        "#sgd = optimizers.SGD(lr=0.0001, decay=1e-6, momentum=0.9, nesterov=True)\n",
        "#model = keras.Sequential()\n",
        "#model.add(LSTM(100, input_shape = (200, 8)))\n",
        "#model.add(Dropout(0.5))\n",
        "#model.add(Dense(1, activation=\"softmax\"))\n",
        "\n",
        "\n",
        "#model.compile(loss=\"categorical_crossentropy\"\n",
        "#              , metrics=[keras.metrics.binary_accuracy]\n",
        "#              , optimizer='sgd')\n",
        "\n",
        "#model.summary()"
      ]
    },
    {
      "cell_type": "code",
      "execution_count": 30,
      "metadata": {
        "id": "_2SaVmwSWJVB",
        "colab": {
          "base_uri": "https://localhost:8080/"
        },
        "outputId": "6a10244f-d940-449b-d08f-6a49759acdad"
      },
      "outputs": [
        {
          "output_type": "stream",
          "name": "stdout",
          "text": [
            "Model: \"sequential\"\n",
            "_________________________________________________________________\n",
            " Layer (type)                Output Shape              Param #   \n",
            "=================================================================\n",
            " lstm (LSTM)                 (None, 100)               43600     \n",
            "                                                                 \n",
            " dropout (Dropout)           (None, 100)               0         \n",
            "                                                                 \n",
            " dense (Dense)               (None, 1)                 101       \n",
            "                                                                 \n",
            "=================================================================\n",
            "Total params: 43,701\n",
            "Trainable params: 43,701\n",
            "Non-trainable params: 0\n",
            "_________________________________________________________________\n"
          ]
        }
      ],
      "source": [
        "from tensorflow.keras import optimizers\n",
        "#sgd = optimizers.SGD(lr=0.0001, decay=1e-6, momentum=0.9, nesterov=True)\n",
        "optimizer = tf.keras.optimizers.Adam(lr=0.0001)\n",
        "model = keras.Sequential()\n",
        "model.add(LSTM(100, input_shape = (200, 8)))\n",
        "model.add(Dropout(0.5))\n",
        "model.add(Dense(1))# dense 1, activation - relu/sigmoid\n",
        "\n",
        "#model.compile(loss='mean_squared_error', optimizer=sgd)\n",
        "model.compile(loss=\"mse\" #mse\n",
        "              , metrics=['accuracy']\n",
        "              , optimizer=optimizer)\n",
        "\n",
        "model.summary()"
      ]
    },
    {
      "cell_type": "code",
      "execution_count": 31,
      "metadata": {
        "id": "tg8wrqsqc8UX"
      },
      "outputs": [],
      "source": [
        "training_size = int(len(X_sequence) * 0.8)\n",
        "val_size = int(len(X_sequence) * 0.9)"
      ]
    },
    {
      "cell_type": "code",
      "execution_count": 32,
      "metadata": {
        "id": "avIp3TEKc-qF"
      },
      "outputs": [],
      "source": [
        "X_train, y_train = X_sequence_shuffled[:training_size], y_shuffled[:training_size]\n",
        "X_val, y_val = X_sequence_shuffled[training_size:val_size], y_shuffled[training_size:val_size]\n",
        "X_test, y_test = X_sequence_shuffled[val_size:], y_shuffled[val_size:]"
      ]
    },
    {
      "cell_type": "code",
      "execution_count": 33,
      "metadata": {
        "id": "RABc_uKzkBUT"
      },
      "outputs": [],
      "source": [
        "#X_sequence = 0\n",
        "#y = 0"
      ]
    },
    {
      "cell_type": "code",
      "source": [
        "X_train.shape"
      ],
      "metadata": {
        "id": "Omv-ht1dhGxL",
        "colab": {
          "base_uri": "https://localhost:8080/"
        },
        "outputId": "5abf53ad-d233-425a-cad0-ac953dadf8d1"
      },
      "execution_count": 34,
      "outputs": [
        {
          "output_type": "execute_result",
          "data": {
            "text/plain": [
              "(119999, 200, 8)"
            ]
          },
          "metadata": {},
          "execution_count": 34
        }
      ]
    },
    {
      "cell_type": "code",
      "execution_count": 35,
      "metadata": {
        "id": "8aIhPJ-wLCwZ",
        "colab": {
          "base_uri": "https://localhost:8080/"
        },
        "outputId": "86837f57-b54d-4bd9-c04a-c6ae2c0cacf6"
      },
      "outputs": [
        {
          "output_type": "execute_result",
          "data": {
            "text/plain": [
              "array([0, 4, 7, 4, 3, 4, 5, 3, 5, 7])"
            ]
          },
          "metadata": {},
          "execution_count": 35
        }
      ],
      "source": [
        "y_train[:10]"
      ]
    },
    {
      "cell_type": "code",
      "execution_count": 36,
      "metadata": {
        "id": "cen4faX0dFJP",
        "colab": {
          "base_uri": "https://localhost:8080/"
        },
        "outputId": "bd8748ae-45b5-4956-f010-68139fd4cbff"
      },
      "outputs": [
        {
          "output_type": "stream",
          "name": "stdout",
          "text": [
            "Epoch 1/100\n",
            "1875/1875 [==============================] - 30s 13ms/step - loss: 5.4957 - accuracy: 0.1251 - val_loss: 3.8557 - val_accuracy: 0.1244\n",
            "Epoch 2/100\n",
            "1875/1875 [==============================] - 23s 12ms/step - loss: 3.8759 - accuracy: 0.1257 - val_loss: 3.9098 - val_accuracy: 0.1271\n",
            "Epoch 3/100\n",
            "1875/1875 [==============================] - 23s 12ms/step - loss: 3.5588 - accuracy: 0.1300 - val_loss: 3.1141 - val_accuracy: 0.1287\n",
            "Epoch 4/100\n",
            "1875/1875 [==============================] - 23s 12ms/step - loss: 3.1409 - accuracy: 0.1324 - val_loss: 2.8887 - val_accuracy: 0.1395\n",
            "Epoch 5/100\n",
            "1875/1875 [==============================] - 23s 12ms/step - loss: 2.8858 - accuracy: 0.1419 - val_loss: 2.5144 - val_accuracy: 0.1364\n",
            "Epoch 6/100\n",
            "1875/1875 [==============================] - 23s 12ms/step - loss: 2.6525 - accuracy: 0.1513 - val_loss: 2.3340 - val_accuracy: 0.1507\n",
            "Epoch 7/100\n",
            "1875/1875 [==============================] - 23s 12ms/step - loss: 2.5725 - accuracy: 0.1607 - val_loss: 2.0827 - val_accuracy: 0.1609\n",
            "Epoch 8/100\n",
            "1875/1875 [==============================] - 23s 12ms/step - loss: 2.4243 - accuracy: 0.1679 - val_loss: 2.5139 - val_accuracy: 0.1659\n",
            "Epoch 9/100\n",
            "1875/1875 [==============================] - 23s 12ms/step - loss: 2.3041 - accuracy: 0.1707 - val_loss: 1.9676 - val_accuracy: 0.1823\n",
            "Epoch 10/100\n",
            "1875/1875 [==============================] - 23s 12ms/step - loss: 2.2093 - accuracy: 0.1756 - val_loss: 1.9026 - val_accuracy: 0.1889\n",
            "Epoch 11/100\n",
            "1875/1875 [==============================] - 23s 12ms/step - loss: 2.1787 - accuracy: 0.1791 - val_loss: 1.8667 - val_accuracy: 0.1723\n",
            "Epoch 12/100\n",
            "1875/1875 [==============================] - 24s 13ms/step - loss: 2.0807 - accuracy: 0.1837 - val_loss: 1.7725 - val_accuracy: 0.1843\n",
            "Epoch 13/100\n",
            "1875/1875 [==============================] - 24s 13ms/step - loss: 2.0395 - accuracy: 0.1885 - val_loss: 1.8107 - val_accuracy: 0.1937\n",
            "Epoch 14/100\n",
            "1875/1875 [==============================] - 25s 14ms/step - loss: 1.9964 - accuracy: 0.1917 - val_loss: 1.9703 - val_accuracy: 0.2093\n",
            "Epoch 15/100\n",
            "1875/1875 [==============================] - 24s 13ms/step - loss: 1.9314 - accuracy: 0.1947 - val_loss: 1.7709 - val_accuracy: 0.1994\n",
            "Epoch 16/100\n",
            "1875/1875 [==============================] - 24s 13ms/step - loss: 1.9056 - accuracy: 0.1960 - val_loss: 1.6321 - val_accuracy: 0.2067\n",
            "Epoch 17/100\n",
            "1875/1875 [==============================] - 24s 13ms/step - loss: 1.8643 - accuracy: 0.1984 - val_loss: 1.7652 - val_accuracy: 0.1857\n",
            "Epoch 18/100\n",
            "1875/1875 [==============================] - 23s 12ms/step - loss: 1.8279 - accuracy: 0.2010 - val_loss: 1.6097 - val_accuracy: 0.1986\n",
            "Epoch 19/100\n",
            "1875/1875 [==============================] - 23s 12ms/step - loss: 1.8337 - accuracy: 0.2034 - val_loss: 1.6930 - val_accuracy: 0.2013\n",
            "Epoch 20/100\n",
            "1875/1875 [==============================] - 23s 12ms/step - loss: 1.7636 - accuracy: 0.2082 - val_loss: 1.5605 - val_accuracy: 0.2065\n",
            "Epoch 21/100\n",
            "1875/1875 [==============================] - 24s 13ms/step - loss: 1.7477 - accuracy: 0.2079 - val_loss: 1.5482 - val_accuracy: 0.2195\n",
            "Epoch 22/100\n",
            "1875/1875 [==============================] - 24s 13ms/step - loss: 1.7379 - accuracy: 0.2098 - val_loss: 1.6103 - val_accuracy: 0.2151\n",
            "Epoch 23/100\n",
            "1875/1875 [==============================] - 24s 13ms/step - loss: 1.6881 - accuracy: 0.2102 - val_loss: 1.5135 - val_accuracy: 0.2101\n",
            "Epoch 24/100\n",
            "1875/1875 [==============================] - 24s 13ms/step - loss: 1.6539 - accuracy: 0.2141 - val_loss: 1.5193 - val_accuracy: 0.2165\n",
            "Epoch 25/100\n",
            "1875/1875 [==============================] - 25s 13ms/step - loss: 1.6796 - accuracy: 0.2131 - val_loss: 1.4834 - val_accuracy: 0.2183\n",
            "Epoch 26/100\n",
            "1875/1875 [==============================] - 23s 12ms/step - loss: 1.6234 - accuracy: 0.2148 - val_loss: 1.5142 - val_accuracy: 0.2009\n",
            "Epoch 27/100\n",
            "1875/1875 [==============================] - 23s 12ms/step - loss: 1.6390 - accuracy: 0.2136 - val_loss: 1.4121 - val_accuracy: 0.2083\n",
            "Epoch 28/100\n",
            "1875/1875 [==============================] - 23s 12ms/step - loss: 1.5945 - accuracy: 0.2140 - val_loss: 1.4198 - val_accuracy: 0.2152\n",
            "Epoch 29/100\n",
            "1875/1875 [==============================] - 23s 12ms/step - loss: 1.6354 - accuracy: 0.2157 - val_loss: 1.4260 - val_accuracy: 0.2042\n",
            "Epoch 30/100\n",
            "1875/1875 [==============================] - 23s 12ms/step - loss: 1.5578 - accuracy: 0.2165 - val_loss: 1.3635 - val_accuracy: 0.2124\n",
            "Epoch 31/100\n",
            "1875/1875 [==============================] - 23s 12ms/step - loss: 1.5407 - accuracy: 0.2194 - val_loss: 1.4290 - val_accuracy: 0.2146\n",
            "Epoch 32/100\n",
            "1875/1875 [==============================] - 23s 12ms/step - loss: 1.5418 - accuracy: 0.2185 - val_loss: 1.4109 - val_accuracy: 0.2149\n",
            "Epoch 33/100\n",
            "1875/1875 [==============================] - 23s 12ms/step - loss: 1.5200 - accuracy: 0.2154 - val_loss: 1.3386 - val_accuracy: 0.2111\n",
            "Epoch 34/100\n",
            "1875/1875 [==============================] - 23s 12ms/step - loss: 1.4956 - accuracy: 0.2193 - val_loss: 1.3137 - val_accuracy: 0.2196\n",
            "Epoch 35/100\n",
            "1875/1875 [==============================] - 23s 12ms/step - loss: 1.5383 - accuracy: 0.2184 - val_loss: 1.3643 - val_accuracy: 0.2057\n",
            "Epoch 36/100\n",
            "1875/1875 [==============================] - 23s 12ms/step - loss: 1.4703 - accuracy: 0.2202 - val_loss: 1.4051 - val_accuracy: 0.2183\n",
            "Epoch 37/100\n",
            "1875/1875 [==============================] - 24s 13ms/step - loss: 1.5347 - accuracy: 0.2125 - val_loss: 1.3072 - val_accuracy: 0.2088\n",
            "Epoch 38/100\n",
            "1875/1875 [==============================] - 23s 12ms/step - loss: 1.4797 - accuracy: 0.2193 - val_loss: 1.2728 - val_accuracy: 0.2195\n",
            "Epoch 39/100\n",
            "1875/1875 [==============================] - 23s 12ms/step - loss: 1.4515 - accuracy: 0.2209 - val_loss: 1.3355 - val_accuracy: 0.2071\n",
            "Epoch 40/100\n",
            "1875/1875 [==============================] - 23s 12ms/step - loss: 1.4140 - accuracy: 0.2219 - val_loss: 1.2673 - val_accuracy: 0.2273\n",
            "Epoch 41/100\n",
            "1875/1875 [==============================] - 23s 12ms/step - loss: 1.5262 - accuracy: 0.2215 - val_loss: 1.3279 - val_accuracy: 0.2275\n",
            "Epoch 42/100\n",
            "1875/1875 [==============================] - 23s 12ms/step - loss: 1.4107 - accuracy: 0.2215 - val_loss: 1.2204 - val_accuracy: 0.2245\n",
            "Epoch 43/100\n",
            "1875/1875 [==============================] - 23s 12ms/step - loss: 1.3903 - accuracy: 0.2233 - val_loss: 1.2402 - val_accuracy: 0.2221\n",
            "Epoch 44/100\n",
            "1875/1875 [==============================] - 23s 12ms/step - loss: 1.4160 - accuracy: 0.2219 - val_loss: 1.3013 - val_accuracy: 0.2192\n",
            "Epoch 45/100\n",
            "1875/1875 [==============================] - 23s 12ms/step - loss: 1.3773 - accuracy: 0.2230 - val_loss: 1.2682 - val_accuracy: 0.2263\n",
            "Epoch 46/100\n",
            "1875/1875 [==============================] - 23s 12ms/step - loss: 1.3583 - accuracy: 0.2238 - val_loss: 1.1813 - val_accuracy: 0.2317\n",
            "Epoch 47/100\n",
            "1875/1875 [==============================] - 23s 12ms/step - loss: 1.3237 - accuracy: 0.2246 - val_loss: 1.2531 - val_accuracy: 0.2252\n",
            "Epoch 48/100\n",
            "1875/1875 [==============================] - 23s 12ms/step - loss: 1.3443 - accuracy: 0.2230 - val_loss: 1.1830 - val_accuracy: 0.2303\n",
            "Epoch 49/100\n",
            "1875/1875 [==============================] - 23s 12ms/step - loss: 1.3480 - accuracy: 0.2224 - val_loss: 1.2044 - val_accuracy: 0.2232\n",
            "Epoch 50/100\n",
            "1875/1875 [==============================] - 23s 12ms/step - loss: 1.3313 - accuracy: 0.2230 - val_loss: 1.2004 - val_accuracy: 0.2263\n",
            "Epoch 51/100\n",
            "1875/1875 [==============================] - 23s 12ms/step - loss: 1.3310 - accuracy: 0.2221 - val_loss: 1.1324 - val_accuracy: 0.2299\n",
            "Epoch 52/100\n",
            "1875/1875 [==============================] - 23s 12ms/step - loss: 1.3275 - accuracy: 0.2224 - val_loss: 1.5930 - val_accuracy: 0.2036\n",
            "Epoch 53/100\n",
            "1875/1875 [==============================] - 23s 12ms/step - loss: 1.3022 - accuracy: 0.2223 - val_loss: 1.1231 - val_accuracy: 0.2297\n",
            "Epoch 54/100\n",
            "1875/1875 [==============================] - 23s 12ms/step - loss: 1.3129 - accuracy: 0.2226 - val_loss: 1.1530 - val_accuracy: 0.2264\n",
            "Epoch 55/100\n",
            "1875/1875 [==============================] - 23s 12ms/step - loss: 1.2406 - accuracy: 0.2247 - val_loss: 1.1156 - val_accuracy: 0.2353\n",
            "Epoch 56/100\n",
            "1875/1875 [==============================] - 23s 12ms/step - loss: 1.2426 - accuracy: 0.2231 - val_loss: 1.0949 - val_accuracy: 0.2261\n",
            "Epoch 57/100\n",
            "1875/1875 [==============================] - 23s 12ms/step - loss: 1.2353 - accuracy: 0.2251 - val_loss: 1.1731 - val_accuracy: 0.2177\n",
            "Epoch 58/100\n",
            "1875/1875 [==============================] - 23s 12ms/step - loss: 1.2026 - accuracy: 0.2260 - val_loss: 1.1001 - val_accuracy: 0.2335\n",
            "Epoch 59/100\n",
            "1875/1875 [==============================] - 23s 12ms/step - loss: 1.1979 - accuracy: 0.2251 - val_loss: 1.0841 - val_accuracy: 0.2306\n",
            "Epoch 60/100\n",
            "1875/1875 [==============================] - 23s 12ms/step - loss: 1.2116 - accuracy: 0.2258 - val_loss: 1.1487 - val_accuracy: 0.2319\n",
            "Epoch 61/100\n",
            "1875/1875 [==============================] - 23s 12ms/step - loss: 1.1813 - accuracy: 0.2261 - val_loss: 1.0516 - val_accuracy: 0.2331\n",
            "Epoch 62/100\n",
            "1875/1875 [==============================] - 23s 12ms/step - loss: 1.1678 - accuracy: 0.2264 - val_loss: 1.0479 - val_accuracy: 0.2326\n",
            "Epoch 63/100\n",
            "1875/1875 [==============================] - 23s 12ms/step - loss: 1.1539 - accuracy: 0.2268 - val_loss: 1.0185 - val_accuracy: 0.2318\n",
            "Epoch 64/100\n",
            "1875/1875 [==============================] - 23s 12ms/step - loss: 1.1526 - accuracy: 0.2256 - val_loss: 1.0651 - val_accuracy: 0.2260\n",
            "Epoch 65/100\n",
            "1875/1875 [==============================] - 23s 12ms/step - loss: 1.1888 - accuracy: 0.2253 - val_loss: 1.1975 - val_accuracy: 0.2373\n",
            "Epoch 66/100\n",
            "1875/1875 [==============================] - 23s 12ms/step - loss: 1.1436 - accuracy: 0.2278 - val_loss: 1.0333 - val_accuracy: 0.2300\n",
            "Epoch 67/100\n",
            "1875/1875 [==============================] - 23s 12ms/step - loss: 1.1849 - accuracy: 0.2236 - val_loss: 1.0708 - val_accuracy: 0.2219\n",
            "Epoch 68/100\n",
            "1875/1875 [==============================] - 23s 12ms/step - loss: 1.1272 - accuracy: 0.2229 - val_loss: 1.0230 - val_accuracy: 0.2280\n",
            "Epoch 69/100\n",
            "1875/1875 [==============================] - 23s 12ms/step - loss: 1.1582 - accuracy: 0.2237 - val_loss: 1.0588 - val_accuracy: 0.2202\n",
            "Epoch 70/100\n",
            "1875/1875 [==============================] - 23s 12ms/step - loss: 1.0953 - accuracy: 0.2286 - val_loss: 0.9826 - val_accuracy: 0.2332\n",
            "Epoch 71/100\n",
            "1875/1875 [==============================] - 23s 12ms/step - loss: 1.0840 - accuracy: 0.2270 - val_loss: 1.1794 - val_accuracy: 0.2297\n",
            "Epoch 72/100\n",
            "1875/1875 [==============================] - 23s 13ms/step - loss: 1.0900 - accuracy: 0.2271 - val_loss: 0.9557 - val_accuracy: 0.2345\n",
            "Epoch 73/100\n",
            "1875/1875 [==============================] - 23s 12ms/step - loss: 1.1058 - accuracy: 0.2265 - val_loss: 0.9678 - val_accuracy: 0.2243\n",
            "Epoch 74/100\n",
            "1875/1875 [==============================] - 23s 12ms/step - loss: 1.0609 - accuracy: 0.2259 - val_loss: 0.9686 - val_accuracy: 0.2367\n",
            "Epoch 75/100\n",
            "1875/1875 [==============================] - 23s 12ms/step - loss: 1.1070 - accuracy: 0.2251 - val_loss: 0.9457 - val_accuracy: 0.2369\n",
            "Epoch 76/100\n",
            "1875/1875 [==============================] - 23s 12ms/step - loss: 1.0181 - accuracy: 0.2288 - val_loss: 0.9452 - val_accuracy: 0.2353\n",
            "Epoch 77/100\n",
            "1875/1875 [==============================] - 23s 12ms/step - loss: 1.0869 - accuracy: 0.2265 - val_loss: 0.9234 - val_accuracy: 0.2343\n",
            "Epoch 78/100\n",
            "1875/1875 [==============================] - 23s 12ms/step - loss: 0.9987 - accuracy: 0.2281 - val_loss: 1.0560 - val_accuracy: 0.2295\n",
            "Epoch 79/100\n",
            "1875/1875 [==============================] - 23s 12ms/step - loss: 1.0499 - accuracy: 0.2239 - val_loss: 0.9944 - val_accuracy: 0.2290\n",
            "Epoch 80/100\n",
            "1875/1875 [==============================] - 23s 12ms/step - loss: 1.0185 - accuracy: 0.2248 - val_loss: 0.9488 - val_accuracy: 0.2344\n",
            "Epoch 81/100\n",
            "1875/1875 [==============================] - 23s 12ms/step - loss: 1.0194 - accuracy: 0.2280 - val_loss: 0.9397 - val_accuracy: 0.2364\n",
            "Epoch 82/100\n",
            "1875/1875 [==============================] - 23s 12ms/step - loss: 0.9942 - accuracy: 0.2267 - val_loss: 0.9169 - val_accuracy: 0.2395\n",
            "Epoch 83/100\n",
            "1875/1875 [==============================] - 23s 12ms/step - loss: 0.9604 - accuracy: 0.2286 - val_loss: 0.8557 - val_accuracy: 0.2370\n",
            "Epoch 84/100\n",
            "1875/1875 [==============================] - 23s 12ms/step - loss: 0.9645 - accuracy: 0.2262 - val_loss: 0.8166 - val_accuracy: 0.2362\n",
            "Epoch 85/100\n",
            "1875/1875 [==============================] - 23s 12ms/step - loss: 0.9407 - accuracy: 0.2290 - val_loss: 0.8203 - val_accuracy: 0.2381\n",
            "Epoch 86/100\n",
            "1875/1875 [==============================] - 23s 12ms/step - loss: 0.9228 - accuracy: 0.2271 - val_loss: 0.8136 - val_accuracy: 0.2349\n",
            "Epoch 87/100\n",
            "1875/1875 [==============================] - 23s 12ms/step - loss: 0.9424 - accuracy: 0.2284 - val_loss: 0.8473 - val_accuracy: 0.2237\n",
            "Epoch 88/100\n",
            "1875/1875 [==============================] - 23s 12ms/step - loss: 0.9164 - accuracy: 0.2292 - val_loss: 0.9625 - val_accuracy: 0.2344\n",
            "Epoch 89/100\n",
            "1875/1875 [==============================] - 24s 13ms/step - loss: 0.9285 - accuracy: 0.2283 - val_loss: 0.8285 - val_accuracy: 0.2347\n",
            "Epoch 90/100\n",
            "1875/1875 [==============================] - 23s 12ms/step - loss: 0.8983 - accuracy: 0.2284 - val_loss: 0.7771 - val_accuracy: 0.2385\n",
            "Epoch 91/100\n",
            "1875/1875 [==============================] - 23s 12ms/step - loss: 0.8994 - accuracy: 0.2293 - val_loss: 0.7765 - val_accuracy: 0.2384\n",
            "Epoch 92/100\n",
            "1875/1875 [==============================] - 23s 12ms/step - loss: 0.8628 - accuracy: 0.2300 - val_loss: 0.7637 - val_accuracy: 0.2344\n",
            "Epoch 93/100\n",
            "1875/1875 [==============================] - 23s 12ms/step - loss: 0.8477 - accuracy: 0.2307 - val_loss: 0.7463 - val_accuracy: 0.2365\n",
            "Epoch 94/100\n",
            "1875/1875 [==============================] - 23s 12ms/step - loss: 0.8732 - accuracy: 0.2280 - val_loss: 0.7923 - val_accuracy: 0.2228\n",
            "Epoch 95/100\n",
            "1875/1875 [==============================] - 23s 12ms/step - loss: 0.8441 - accuracy: 0.2286 - val_loss: 0.7798 - val_accuracy: 0.2339\n",
            "Epoch 96/100\n",
            "1875/1875 [==============================] - 22s 12ms/step - loss: 0.8584 - accuracy: 0.2266 - val_loss: 0.7355 - val_accuracy: 0.2301\n",
            "Epoch 97/100\n",
            "1875/1875 [==============================] - 23s 12ms/step - loss: 0.8293 - accuracy: 0.2271 - val_loss: 0.8054 - val_accuracy: 0.2361\n",
            "Epoch 98/100\n",
            "1875/1875 [==============================] - 23s 12ms/step - loss: 0.8228 - accuracy: 0.2285 - val_loss: 0.9380 - val_accuracy: 0.2191\n",
            "Epoch 99/100\n",
            "1875/1875 [==============================] - 23s 12ms/step - loss: 0.8282 - accuracy: 0.2275 - val_loss: 0.6795 - val_accuracy: 0.2363\n",
            "Epoch 100/100\n",
            "1875/1875 [==============================] - 23s 12ms/step - loss: 0.8021 - accuracy: 0.2289 - val_loss: 0.6804 - val_accuracy: 0.2358\n"
          ]
        }
      ],
      "source": [
        "history = model.fit(X_train, y_train, batch_size=64, epochs=100, validation_data=(X_val, y_val))\n",
        "#model.save('NewAllDataModel_E100_B64.h5')"
      ]
    },
    {
      "cell_type": "code",
      "execution_count": 37,
      "metadata": {
        "id": "R7QQeqVidKBR",
        "colab": {
          "base_uri": "https://localhost:8080/"
        },
        "outputId": "5cd45cca-0005-4001-e8bd-a22cc1eb0392"
      },
      "outputs": [
        {
          "output_type": "stream",
          "name": "stdout",
          "text": [
            "469/469 [==============================] - 2s 5ms/step - loss: 0.6955 - accuracy: 0.2353\n"
          ]
        }
      ],
      "source": [
        "test_acc = model.evaluate(X_test, y_test)"
      ]
    },
    {
      "cell_type": "code",
      "source": [
        "test_acc"
      ],
      "metadata": {
        "id": "6fuTmgGrUgGg",
        "colab": {
          "base_uri": "https://localhost:8080/"
        },
        "outputId": "15dfc0b4-5458-4eb9-e46e-ee87f2e12e15"
      },
      "execution_count": 38,
      "outputs": [
        {
          "output_type": "execute_result",
          "data": {
            "text/plain": [
              "[0.6954835653305054, 0.23526667058467865]"
            ]
          },
          "metadata": {},
          "execution_count": 38
        }
      ]
    },
    {
      "cell_type": "code",
      "execution_count": 39,
      "metadata": {
        "id": "OHpifyqGdKn-",
        "colab": {
          "base_uri": "https://localhost:8080/"
        },
        "outputId": "a359ff09-7842-4685-98e3-39009c6327f7"
      },
      "outputs": [
        {
          "output_type": "stream",
          "name": "stdout",
          "text": [
            "469/469 [==============================] - 2s 4ms/step\n"
          ]
        }
      ],
      "source": [
        "y_test_prob = model.predict(X_test, verbose=1)"
      ]
    },
    {
      "cell_type": "code",
      "source": [
        "np.set_printoptions(suppress=True)\n",
        "y_test_prob_backup = y_test_prob\n",
        "y_test_prob"
      ],
      "metadata": {
        "id": "rRPswrrkmhp2",
        "colab": {
          "base_uri": "https://localhost:8080/"
        },
        "outputId": "80a7015e-07da-41bd-c5e3-2d25f5383fb9"
      },
      "execution_count": 40,
      "outputs": [
        {
          "output_type": "execute_result",
          "data": {
            "text/plain": [
              "array([[6.8847036 ],\n",
              "       [0.07491755],\n",
              "       [1.1872451 ],\n",
              "       ...,\n",
              "       [6.8704157 ],\n",
              "       [2.3659    ],\n",
              "       [6.8865347 ]], dtype=float32)"
            ]
          },
          "metadata": {},
          "execution_count": 40
        }
      ]
    },
    {
      "cell_type": "code",
      "source": [
        "plt.figure(figsize=(10,10))\n",
        "plt.hist(y_test_prob_backup)"
      ],
      "metadata": {
        "colab": {
          "base_uri": "https://localhost:8080/",
          "height": 700
        },
        "id": "qsgK5XvWjrAP",
        "outputId": "97b97a9a-3ba7-4ad7-c39b-c8ccacdf8db0"
      },
      "execution_count": 41,
      "outputs": [
        {
          "output_type": "execute_result",
          "data": {
            "text/plain": [
              "(array([1727.,  560., 1664., 1571., 1705., 2067., 1676., 1158.,  990.,\n",
              "        1882.]),\n",
              " array([-0.18564606,  0.54727614,  1.2801983 ,  2.0131204 ,  2.7460427 ,\n",
              "         3.4789648 ,  4.211887  ,  4.944809  ,  5.6777315 ,  6.4106536 ,\n",
              "         7.1435757 ], dtype=float32),\n",
              " <a list of 10 Patch objects>)"
            ]
          },
          "metadata": {},
          "execution_count": 41
        },
        {
          "output_type": "display_data",
          "data": {
            "text/plain": [
              "<Figure size 720x720 with 1 Axes>"
            ],
            "image/png": "[encoded data removed]"
          },
          "metadata": {
            "needs_background": "light"
          }
        }
      ]
    },
    {
      "cell_type": "code",
      "source": [
        "y_test_prob_backup[:10]"
      ],
      "metadata": {
        "colab": {
          "base_uri": "https://localhost:8080/"
        },
        "id": "M6Xj4ugPx610",
        "outputId": "d5d83493-d7ef-47f3-daa0-ad6ba9017019"
      },
      "execution_count": 42,
      "outputs": [
        {
          "output_type": "execute_result",
          "data": {
            "text/plain": [
              "array([[6.8847036 ],\n",
              "       [0.07491755],\n",
              "       [1.1872451 ],\n",
              "       [2.1363878 ],\n",
              "       [4.3153067 ],\n",
              "       [2.390605  ],\n",
              "       [6.8090696 ],\n",
              "       [3.2620802 ],\n",
              "       [2.271571  ],\n",
              "       [6.3380013 ]], dtype=float32)"
            ]
          },
          "metadata": {},
          "execution_count": 42
        }
      ]
    },
    {
      "cell_type": "code",
      "execution_count": 43,
      "metadata": {
        "id": "8DoJy_p9dPzN"
      },
      "outputs": [],
      "source": [
        "from sklearn.metrics import multilabel_confusion_matrix"
      ]
    },
    {
      "cell_type": "code",
      "source": [
        "y_test"
      ],
      "metadata": {
        "id": "n1Us2yrfcGl-",
        "colab": {
          "base_uri": "https://localhost:8080/"
        },
        "outputId": "ca10242b-bc60-4a5d-c07a-ec51336bc21b"
      },
      "execution_count": 44,
      "outputs": [
        {
          "output_type": "execute_result",
          "data": {
            "text/plain": [
              "array([7, 0, 1, ..., 7, 2, 7])"
            ]
          },
          "metadata": {},
          "execution_count": 44
        }
      ]
    },
    {
      "cell_type": "code",
      "source": [
        "y_test.shape"
      ],
      "metadata": {
        "id": "VnmvTcvWbxr9",
        "colab": {
          "base_uri": "https://localhost:8080/"
        },
        "outputId": "149a05bf-4b2c-4d70-f177-a90e0bcbbcbe"
      },
      "execution_count": 45,
      "outputs": [
        {
          "output_type": "execute_result",
          "data": {
            "text/plain": [
              "(15000,)"
            ]
          },
          "metadata": {},
          "execution_count": 45
        }
      ]
    },
    {
      "cell_type": "code",
      "source": [
        "y_test_prob"
      ],
      "metadata": {
        "id": "fLgDwAIfiyv2",
        "colab": {
          "base_uri": "https://localhost:8080/"
        },
        "outputId": "6d9f5f49-b126-42f5-e855-39b4db58b818"
      },
      "execution_count": 46,
      "outputs": [
        {
          "output_type": "execute_result",
          "data": {
            "text/plain": [
              "array([[6.8847036 ],\n",
              "       [0.07491755],\n",
              "       [1.1872451 ],\n",
              "       ...,\n",
              "       [6.8704157 ],\n",
              "       [2.3659    ],\n",
              "       [6.8865347 ]], dtype=float32)"
            ]
          },
          "metadata": {},
          "execution_count": 46
        }
      ]
    },
    {
      "cell_type": "code",
      "source": [
        "y_test_pred = np.reshape(y_test_prob, -1)"
      ],
      "metadata": {
        "id": "ISi7-hg2gI7f"
      },
      "execution_count": 47,
      "outputs": []
    },
    {
      "cell_type": "code",
      "source": [
        "y_test_pred"
      ],
      "metadata": {
        "colab": {
          "base_uri": "https://localhost:8080/"
        },
        "id": "lsLE4-aGiT6A",
        "outputId": "197b9b1e-8740-4832-cb7d-7bfcdaf8842e"
      },
      "execution_count": 60,
      "outputs": [
        {
          "output_type": "execute_result",
          "data": {
            "text/plain": [
              "array([6.8847036 , 0.07491755, 1.1872451 , ..., 6.8704157 , 2.3659    ,\n",
              "       6.8865347 ], dtype=float32)"
            ]
          },
          "metadata": {},
          "execution_count": 60
        }
      ]
    },
    {
      "cell_type": "code",
      "source": [
        "y_test_pred_int = np.round(y_test_pred)\n",
        "print(y_test_pred_int)\n",
        "y_test_pred_int = y_test_pred_int.astype(int)"
      ],
      "metadata": {
        "colab": {
          "base_uri": "https://localhost:8080/"
        },
        "id": "jiZwDk3pvcVw",
        "outputId": "256ce402-c3eb-4877-beaa-059363066c3e"
      },
      "execution_count": 61,
      "outputs": [
        {
          "output_type": "stream",
          "name": "stdout",
          "text": [
            "[7. 0. 1. ... 7. 2. 7.]\n"
          ]
        }
      ]
    },
    {
      "cell_type": "code",
      "source": [
        "y_test_pred_int"
      ],
      "metadata": {
        "colab": {
          "base_uri": "https://localhost:8080/"
        },
        "id": "VTPEZkizvo1c",
        "outputId": "e9c8d883-ce1c-4761-9ea6-57ffb59020c1"
      },
      "execution_count": 62,
      "outputs": [
        {
          "output_type": "execute_result",
          "data": {
            "text/plain": [
              "array([7, 0, 1, ..., 7, 2, 7])"
            ]
          },
          "metadata": {},
          "execution_count": 62
        }
      ]
    },
    {
      "cell_type": "code",
      "execution_count": 63,
      "metadata": {
        "id": "fTCsPjW8dQaZ"
      },
      "outputs": [],
      "source": [
        "cfm=confusion_matrix(y_test, y_test_pred_int)"
      ]
    },
    {
      "cell_type": "code",
      "source": [
        "cfm"
      ],
      "metadata": {
        "id": "_67lPg6ic4cH",
        "colab": {
          "base_uri": "https://localhost:8080/"
        },
        "outputId": "2cba9940-f597-4f6a-ccd5-c63a187279e9"
      },
      "execution_count": 64,
      "outputs": [
        {
          "output_type": "execute_result",
          "data": {
            "text/plain": [
              "array([[1691,  101,   10,    1,    0,    3,    1,    5],\n",
              "       [  17,  846,  831,  136,   19,    5,    1,    0],\n",
              "       [   1,  119, 1009,  544,  152,   22,    5,    1],\n",
              "       [   0,    0,  273,  941,  584,   93,    9,    0],\n",
              "       [   0,    3,   69,  393, 1084,  305,   19,    0],\n",
              "       [   0,    0,   14,  143,  678,  896,  198,    1],\n",
              "       [   1,    2,   18,   89,  280,  407, 1003,   70],\n",
              "       [   5,    6,    3,   12,   11,   24,  124, 1722]])"
            ]
          },
          "metadata": {},
          "execution_count": 64
        }
      ]
    },
    {
      "cell_type": "code",
      "source": [
        " print(classification_report(y_test,y_test_pred_int))"
      ],
      "metadata": {
        "id": "XTqR_xnwRWCJ",
        "colab": {
          "base_uri": "https://localhost:8080/"
        },
        "outputId": "305f1f5e-d612-4838-ac49-e1114bfad88b"
      },
      "execution_count": 59,
      "outputs": [
        {
          "output_type": "stream",
          "name": "stdout",
          "text": [
            "              precision    recall  f1-score   support\n",
            "\n",
            "           0       0.93      0.98      0.95      1812\n",
            "           1       0.66      0.72      0.69      1855\n",
            "           2       0.42      0.49      0.45      1853\n",
            "           3       0.34      0.46      0.39      1900\n",
            "           4       0.33      0.42      0.37      1873\n",
            "           5       0.36      0.30      0.33      1930\n",
            "           6       0.21      0.25      0.23      1870\n",
            "           7       1.00      0.09      0.17      1907\n",
            "\n",
            "    accuracy                           0.46     15000\n",
            "   macro avg       0.53      0.46      0.45     15000\n",
            "weighted avg       0.53      0.46      0.44     15000\n",
            "\n"
          ]
        }
      ]
    },
    {
      "cell_type": "code",
      "source": [
        "import numpy as np\n",
        "import matplotlib.pyplot as plt\n",
        "\n",
        "from sklearn import svm, datasets\n",
        "from sklearn.model_selection import train_test_split\n",
        "from sklearn.metrics import confusion_matrix\n",
        "from sklearn.utils.multiclass import unique_labels\n",
        "\n",
        "class_names = np.array(['0', '1', '2', '3', '4', '5', '6', '7'])\n",
        "\n",
        "def plot_confusion_matrix(y_true, y_pred, classes,\n",
        "                          normalize=False,\n",
        "                          title=None,\n",
        "                          cmap=plt.cm.Blues):\n",
        "    \"\"\"\n",
        "    This function prints and plots the confusion matrix.\n",
        "    Normalization can be applied by setting `normalize=True`.\n",
        "    \"\"\"\n",
        "    if not title:\n",
        "        if normalize:\n",
        "            title = 'Normalized confusion matrix'\n",
        "        else:\n",
        "            title = 'Confusion matrix, without normalization'\n",
        "\n",
        "    # Compute confusion matrix\n",
        "    cm = confusion_matrix(y_true, y_pred)\n",
        "    # Only use the labels that appear in the data\n",
        "    classes = classes[unique_labels(y_true, y_pred)]\n",
        "    if normalize:\n",
        "        cm = cm.astype('float') / cm.sum(axis=1)[:, np.newaxis]\n",
        "        print(\"Normalized confusion matrix\")\n",
        "    else:\n",
        "        print('Confusion matrix, without normalization')\n",
        "\n",
        "    print(cm)\n",
        "\n",
        "    fig, ax = plt.subplots()\n",
        "    im = ax.imshow(cm, interpolation='nearest', cmap=cmap)\n",
        "    ax.figure.colorbar(im, ax=ax)\n",
        "    # We want to show all ticks...\n",
        "    ax.set(xticks=np.arange(cm.shape[1]),\n",
        "           yticks=np.arange(cm.shape[0]),\n",
        "           # ... and label them with the respective list entries\n",
        "           xticklabels=classes, yticklabels=classes,\n",
        "           title=title,\n",
        "           ylabel='True label',\n",
        "           xlabel='Predicted label')\n",
        "\n",
        "    # Rotate the tick labels and set their alignment.\n",
        "    plt.setp(ax.get_xticklabels(), rotation=45, ha=\"right\",\n",
        "             rotation_mode=\"anchor\")\n",
        "\n",
        "    # Loop over data dimensions and create text annotations.\n",
        "    fmt = '.2f' if normalize else 'd'\n",
        "    thresh = cm.max() / 2.\n",
        "    for i in range(cm.shape[0]):\n",
        "        for j in range(cm.shape[1]):\n",
        "            ax.text(j, i, format(cm[i, j], fmt),\n",
        "                    ha=\"center\", va=\"center\",\n",
        "                    color=\"white\" if cm[i, j] > thresh else \"black\")\n",
        "    fig.tight_layout()\n",
        "\n",
        "    return ax\n",
        "\n",
        "\n",
        "np.set_printoptions(precision=2)\n",
        "\n",
        "# Plot non-normalized confusion matrix\n",
        "plot_confusion_matrix(y_test, y_test_pred_int, classes=class_names,\n",
        "                      title='Confusion matrix, without normalization')\n",
        "\n",
        "# Plot normalized confusion matrix\n",
        "plot_confusion_matrix(y_test, y_test_pred_int, classes=class_names, normalize=True,\n",
        "                      title='Normalized confusion matrix')\n",
        "\n",
        "plt.show()"
      ],
      "metadata": {
        "colab": {
          "base_uri": "https://localhost:8080/",
          "height": 900
        },
        "id": "H_QpRmAjwxbM",
        "outputId": "2cc13676-4e99-474a-c598-16f333317bdf"
      },
      "execution_count": 65,
      "outputs": [
        {
          "output_type": "stream",
          "name": "stdout",
          "text": [
            "Confusion matrix, without normalization\n",
            "[[1691  101   10    1    0    3    1    5]\n",
            " [  17  846  831  136   19    5    1    0]\n",
            " [   1  119 1009  544  152   22    5    1]\n",
            " [   0    0  273  941  584   93    9    0]\n",
            " [   0    3   69  393 1084  305   19    0]\n",
            " [   0    0   14  143  678  896  198    1]\n",
            " [   1    2   18   89  280  407 1003   70]\n",
            " [   5    6    3   12   11   24  124 1722]]\n",
            "Normalized confusion matrix\n",
            "[[0.93 0.06 0.01 0.   0.   0.   0.   0.  ]\n",
            " [0.01 0.46 0.45 0.07 0.01 0.   0.   0.  ]\n",
            " [0.   0.06 0.54 0.29 0.08 0.01 0.   0.  ]\n",
            " [0.   0.   0.14 0.5  0.31 0.05 0.   0.  ]\n",
            " [0.   0.   0.04 0.21 0.58 0.16 0.01 0.  ]\n",
            " [0.   0.   0.01 0.07 0.35 0.46 0.1  0.  ]\n",
            " [0.   0.   0.01 0.05 0.15 0.22 0.54 0.04]\n",
            " [0.   0.   0.   0.01 0.01 0.01 0.07 0.9 ]]\n"
          ]
        },
        {
          "output_type": "display_data",
          "data": {
            "text/plain": [
              "<Figure size 432x288 with 2 Axes>"
            ],
            "image/png": "[encoded data removed]"
          },
          "metadata": {
            "needs_background": "light"
          }
        },
        {
          "output_type": "display_data",
          "data": {
            "text/plain": [
              "<Figure size 432x288 with 2 Axes>"
            ],
            "image/png": "[encoded data removed]"
          },
          "metadata": {
            "needs_background": "light"
          }
        }
      ]
    },
    {
      "cell_type": "code",
      "execution_count": 52,
      "metadata": {
        "id": "fhdLAhgPUnH3"
      },
      "outputs": [],
      "source": [
        "def plot_learningCurve(history, epoch):\n",
        "  # Plot training & validation accuracy values\n",
        "  epoch_range = range(1, epoch+1)\n",
        "  plt.plot(epoch_range, history.history['accuracy'])\n",
        "  plt.plot(epoch_range, history.history['val_accuracy'])\n",
        "  plt.title('Model accuracy')\n",
        "  plt.ylabel('Accuracy')\n",
        "  plt.xlabel('Epoch')\n",
        "  plt.legend(['Train', 'Val'], loc='upper left')\n",
        "  plt.show()\n",
        "\n",
        "  # Plot training & validation loss values\n",
        "  plt.plot(epoch_range, history.history['loss'])\n",
        "  plt.plot(epoch_range, history.history['val_loss'])\n",
        "  plt.title('Model loss')\n",
        "  plt.ylabel('Loss')\n",
        "  plt.xlabel('Epoch')\n",
        "  plt.legend(['Train', 'Val'], loc='upper left')\n",
        "  plt.show()"
      ]
    },
    {
      "cell_type": "code",
      "execution_count": 53,
      "metadata": {
        "id": "WlkQkWHgU5mL",
        "colab": {
          "base_uri": "https://localhost:8080/",
          "height": 581
        },
        "outputId": "67a1c515-69b8-482f-d4f8-857acfb4cdd8"
      },
      "outputs": [
        {
          "output_type": "display_data",
          "data": {
            "text/plain": [
              "<Figure size 432x288 with 1 Axes>"
            ],
            "image/png": "[encoded data removed]"
          },
          "metadata": {
            "needs_background": "light"
          }
        },
        {
          "output_type": "display_data",
          "data": {
            "text/plain": [
              "<Figure size 432x288 with 1 Axes>"
            ],
            "image/png": "[encoded data removed]"
          },
          "metadata": {
            "needs_background": "light"
          }
        }
      ],
      "source": [
        "plot_learningCurve(history, 100)"
      ]
    }
  ],
  "metadata": {
    "colab": {
      "collapsed_sections": [
        "f857kfHqUk0-"
      ],
      "name": "Regresion_Multi_Class_MD_LSTM_step_200_files_120.ipynb",
      "provenance": [],
      "include_colab_link": true
    },
    "kernelspec": {
      "display_name": "Python 3",
      "name": "python3"
    },
    "language_info": {
      "name": "python"
    },
    "accelerator": "GPU"
  },
  "nbformat": 4,
  "nbformat_minor": 0
}