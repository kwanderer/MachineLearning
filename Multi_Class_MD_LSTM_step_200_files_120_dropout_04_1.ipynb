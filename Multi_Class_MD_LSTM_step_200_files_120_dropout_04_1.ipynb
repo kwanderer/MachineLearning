{
  "cells": [
    {
      "cell_type": "markdown",
      "metadata": {
        "id": "view-in-github",
        "colab_type": "text"
      },
      "source": [
        "<a href=\"https://colab.research.google.com/github/kwanderer/MachineLearning/blob/main/Multi_Class_MD_LSTM_step_200_files_120_dropout_04_1.ipynb\" target=\"_parent\"><img src=\"https://colab.research.google.com/assets/colab-badge.svg\" alt=\"Open In Colab\"/></a>"
      ]
    },
    {
      "cell_type": "markdown",
      "metadata": {
        "id": "f857kfHqUk0-"
      },
      "source": [
        "\n",
        "\n",
        "#Datu kopa"
      ]
    },
    {
      "cell_type": "markdown",
      "metadata": {
        "id": "nM9WE3QGUwVi"
      },
      "source": [
        "Datu kopas avots: https://www.kaggle.com/uysalserkan/fault-induction-motor-dataset"
      ]
    },
    {
      "cell_type": "markdown",
      "metadata": {
        "id": "_sN_h3qHHy6r"
      },
      "source": [
        "Darbā tiek izmantota indukcijas motora parametru datu bāze. Izmantotajā datu kopā ir dati, kas tika iegūti SpectraQuest aparatūras kļūdu simulatorā (Machinery Fault Simulator).\n",
        "\n",
        "Katra mērījumu secība tika ģenerēta ar frekvenci 50 kHz 5 sekunžu laikā, kopā 250 000 mērījumi.\n",
        "\n",
        "Dati ir apkopoti vairākos failos, dažādos darbības stāvokļos un to apjoms ir ļoti liels. Šajā darbā tika izmantota daļa(viena mērījumu secība) no motora normālas darbības datiem.\n"
      ]
    },
    {
      "cell_type": "markdown",
      "metadata": {
        "id": "KtFAOaHYHLPo"
      },
      "source": [
        "Dati ir apkopoti tabulā, kura satur 8 parametrus. Dati ir iedalīti sekojošās kolonas:\n",
        "\n",
        "**tachometer** – tahometra signāls, kas ļauj novērtēt rotācijas frekvenci\n",
        "\n",
        "**und-accelerometer-axial** - apakšā esošā gultņa akselerometrs (aksiālais virziens)\n",
        "\n",
        "**und-accelerometer-radial** – apakšā esošā gultņa akselerometrs (radiālais virziens)\n",
        "\n",
        "**und-accelerometer-tangential** - apakšā esošā gultņa akselerometrs (tangenciālais virziens)\n",
        "\n",
        "**over-accelerometer-axial** - pārkares gultņa akselerometrs (aksiālais virziens)\n",
        "\n",
        "**over-accelerometer-radial** – pārkares gultņa akselerometrs (radiālais  virziens)\n",
        "\n",
        "**over-accelerometer-tangential**  - pārkares gultņa akselerometrs (tangenciālais virziens)\n",
        "\n",
        "**microphone** – mikrofona vērtība\n"
      ]
    },
    {
      "cell_type": "markdown",
      "metadata": {
        "id": "XymoNLKMVFUC"
      },
      "source": [
        "#Datu ielasīšana un satura vizualizācija"
      ]
    },
    {
      "cell_type": "code",
      "execution_count": 1,
      "metadata": {
        "id": "_yqYZDeOFq5s"
      },
      "outputs": [],
      "source": [
        "import keras\n",
        "from keras.layers import LSTM, Dropout, Dense\n",
        "import tensorflow as tf\n",
        "import numpy as np\n",
        "import pandas as pd\n",
        "\n",
        "from sklearn import linear_model  #pip install sklearn - loti plasa masinapmacibas biblioteka\n",
        "from sklearn.linear_model import LinearRegression  \n",
        "import csv          #pip install csv - darbam ar CSV datu kopam\n",
        "import requests     #pip install requests  - vienkarsakam darbam ar tiessaistes CSV datu kopam tiessaistes\n",
        "\n",
        "import matplotlib\n",
        "import matplotlib.pyplot as plt\n",
        "\n",
        "import glob\n"
      ]
    },
    {
      "cell_type": "code",
      "execution_count": 2,
      "metadata": {
        "id": "wlRTBbM2eUcV",
        "colab": {
          "base_uri": "https://localhost:8080/"
        },
        "outputId": "8c708eea-b577-4849-ac22-90f2d170ddab"
      },
      "outputs": [
        {
          "output_type": "stream",
          "name": "stdout",
          "text": [
            "Drive already mounted at /content/gdrive; to attempt to forcibly remount, call drive.mount(\"/content/gdrive\", force_remount=True).\n"
          ]
        }
      ],
      "source": [
        "from google.colab import drive\n",
        "import os\n",
        "drive.mount('/content/gdrive')\n",
        "os.chdir(\"/content/gdrive/MyDrive/Colab Notebooks/data_multiclass/\")"
      ]
    },
    {
      "cell_type": "code",
      "execution_count": 3,
      "metadata": {
        "id": "zzz6fBl_SNom"
      },
      "outputs": [],
      "source": [
        "#extension = 'csv'\n",
        "#all_filenames = [i for i in glob.glob('*.{}'.format(extension))]"
      ]
    },
    {
      "cell_type": "code",
      "execution_count": 4,
      "metadata": {
        "id": "vagKFCkToBi0"
      },
      "outputs": [],
      "source": [
        "#combine all files in the list\n",
        "#combined_csv = pd.concat([pd.read_csv(f) for f in all_filenames ])\n",
        "#export to csv\n",
        "#combined_csv.to_csv( \"combined_multiclass_csv.csv\", index=False, encoding='utf-8-sig')"
      ]
    },
    {
      "cell_type": "code",
      "execution_count": 5,
      "metadata": {
        "id": "encEkbDhSfGI"
      },
      "outputs": [],
      "source": [
        "data = pd.read_csv(\"combined_multiclass_csv.csv\")"
      ]
    },
    {
      "cell_type": "code",
      "execution_count": 6,
      "metadata": {
        "id": "yz5Qe8ZWk1Zq",
        "colab": {
          "base_uri": "https://localhost:8080/"
        },
        "outputId": "e80720e7-7802-4a47-d83b-c314741967ca"
      },
      "outputs": [
        {
          "output_type": "stream",
          "name": "stdout",
          "text": [
            "<class 'pandas.core.frame.DataFrame'>\n",
            "RangeIndex: 30000000 entries, 0 to 29999999\n",
            "Data columns (total 9 columns):\n",
            " #   Column                         Dtype  \n",
            "---  ------                         -----  \n",
            " 0   tachometer                     float64\n",
            " 1   und-accelerometer-axial        float64\n",
            " 2   und-accelerometer-radial       float64\n",
            " 3   und-accelerometer-tangential   float64\n",
            " 4   over-accelerometer-axial       float64\n",
            " 5   over-accelerometer-radial      float64\n",
            " 6   over-accelerometer-tangential  float64\n",
            " 7   microphone                     float64\n",
            " 8   Class                          int64  \n",
            "dtypes: float64(8), int64(1)\n",
            "memory usage: 2.0 GB\n"
          ]
        }
      ],
      "source": [
        "data.info()"
      ]
    },
    {
      "cell_type": "code",
      "execution_count": 7,
      "metadata": {
        "id": "WUW9ezX6a_st",
        "colab": {
          "base_uri": "https://localhost:8080/"
        },
        "outputId": "01f9b9fb-d5bf-47f1-c761-75082376c9d6"
      },
      "outputs": [
        {
          "output_type": "execute_result",
          "data": {
            "text/plain": [
              "30000000"
            ]
          },
          "metadata": {},
          "execution_count": 7
        }
      ],
      "source": [
        "rec_count = len(data)\n",
        "rec_count"
      ]
    },
    {
      "cell_type": "markdown",
      "metadata": {
        "id": "6RVC1PZy88fC"
      },
      "source": [
        "# Datu dalīšana mazākos gabalos"
      ]
    },
    {
      "cell_type": "code",
      "execution_count": 8,
      "metadata": {
        "id": "DOvnCYkcbGaE"
      },
      "outputs": [],
      "source": [
        "sequence_length = 200"
      ]
    },
    {
      "cell_type": "code",
      "execution_count": 9,
      "metadata": {
        "id": "RG0o2L3zbTEx"
      },
      "outputs": [],
      "source": [
        "def generate_data(X, y, sequence_length = 200, step = 200):\n",
        "    X_local = []\n",
        "    y_local = []\n",
        "    for start in range(0, len(data) - sequence_length, step):\n",
        "        end = start + sequence_length\n",
        "        X_local.append(X[start:end])\n",
        "        y_local.append(y[end-1])\n",
        "    return np.array(X_local), np.array(y_local)\n",
        "\n",
        "X_sequence, y = generate_data(data.loc[:, \"tachometer\":\"microphone\"].values, data.Class)"
      ]
    },
    {
      "cell_type": "code",
      "execution_count": 10,
      "metadata": {
        "id": "s0QxwK66cLVF",
        "colab": {
          "base_uri": "https://localhost:8080/"
        },
        "outputId": "414feb71-329f-4056-ed5d-56ce5f954aca"
      },
      "outputs": [
        {
          "output_type": "execute_result",
          "data": {
            "text/plain": [
              "((149999, 200, 8), (149999,))"
            ]
          },
          "metadata": {},
          "execution_count": 10
        }
      ],
      "source": [
        "X_sequence.shape, y.shape"
      ]
    },
    {
      "cell_type": "code",
      "source": [
        "unique, counts = np.unique(y, return_counts=True)"
      ],
      "metadata": {
        "id": "l8Lq455lV1JR"
      },
      "execution_count": 11,
      "outputs": []
    },
    {
      "cell_type": "code",
      "source": [
        "unique"
      ],
      "metadata": {
        "id": "t0BRO3nAWQxe",
        "colab": {
          "base_uri": "https://localhost:8080/"
        },
        "outputId": "24b76b35-e26a-495a-915b-8cbda16778d6"
      },
      "execution_count": 12,
      "outputs": [
        {
          "output_type": "execute_result",
          "data": {
            "text/plain": [
              "array([0, 1, 2, 3, 4, 5, 6, 7])"
            ]
          },
          "metadata": {},
          "execution_count": 12
        }
      ]
    },
    {
      "cell_type": "code",
      "source": [
        "counts"
      ],
      "metadata": {
        "id": "WWZ7QWR4WS_r",
        "colab": {
          "base_uri": "https://localhost:8080/"
        },
        "outputId": "61147124-0d6d-406f-a32c-3324cd757af5"
      },
      "execution_count": 13,
      "outputs": [
        {
          "output_type": "execute_result",
          "data": {
            "text/plain": [
              "array([18749, 18750, 18750, 18750, 18750, 18750, 18750, 18750])"
            ]
          },
          "metadata": {},
          "execution_count": 13
        }
      ]
    },
    {
      "cell_type": "code",
      "execution_count": 14,
      "metadata": {
        "id": "i7R1oo6Mj8wx"
      },
      "outputs": [],
      "source": [
        "data = 0"
      ]
    },
    {
      "cell_type": "code",
      "source": [
        "from sklearn.preprocessing import OneHotEncoder"
      ],
      "metadata": {
        "id": "lAk_JscRWmqY"
      },
      "execution_count": 15,
      "outputs": []
    },
    {
      "cell_type": "code",
      "source": [
        "label_encoder = OneHotEncoder(sparse=False)\n",
        "label_encoder.fit(y.reshape(-1,1))"
      ],
      "metadata": {
        "id": "14B9aYy0W0y6",
        "colab": {
          "base_uri": "https://localhost:8080/"
        },
        "outputId": "db2e6e70-0f43-412a-f755-be1f09a3e433"
      },
      "execution_count": 16,
      "outputs": [
        {
          "output_type": "execute_result",
          "data": {
            "text/plain": [
              "OneHotEncoder(sparse=False)"
            ]
          },
          "metadata": {},
          "execution_count": 16
        }
      ]
    },
    {
      "cell_type": "code",
      "source": [
        "y_encoded = label_encoder.transform(y.reshape(-1,1))"
      ],
      "metadata": {
        "id": "VjpWn96xXgPS"
      },
      "execution_count": 17,
      "outputs": []
    },
    {
      "cell_type": "code",
      "source": [
        "y_encoded[0:5]"
      ],
      "metadata": {
        "id": "VL6KMFo9XpBi",
        "colab": {
          "base_uri": "https://localhost:8080/"
        },
        "outputId": "2568169a-ac3e-4938-e5fb-7191c15d9d2f"
      },
      "execution_count": 18,
      "outputs": [
        {
          "output_type": "execute_result",
          "data": {
            "text/plain": [
              "array([[0., 0., 0., 0., 0., 0., 0., 1.],\n",
              "       [0., 0., 0., 0., 0., 0., 0., 1.],\n",
              "       [0., 0., 0., 0., 0., 0., 0., 1.],\n",
              "       [0., 0., 0., 0., 0., 0., 0., 1.],\n",
              "       [0., 0., 0., 0., 0., 0., 0., 1.]])"
            ]
          },
          "metadata": {},
          "execution_count": 18
        }
      ]
    },
    {
      "cell_type": "code",
      "source": [
        "y=y_encoded"
      ],
      "metadata": {
        "id": "5c8km253YKBl"
      },
      "execution_count": 19,
      "outputs": []
    },
    {
      "cell_type": "markdown",
      "metadata": {
        "id": "5BXSDoHa9UX_"
      },
      "source": [
        "# Random/Shuffle"
      ]
    },
    {
      "cell_type": "code",
      "execution_count": 20,
      "metadata": {
        "id": "ZcfE9idy-ckb"
      },
      "outputs": [],
      "source": [
        "shuffler = np.random.permutation(len(X_sequence))\n",
        "X_sequence_shuffled = X_sequence[shuffler]\n",
        "y_shuffled = y[shuffler]"
      ]
    },
    {
      "cell_type": "markdown",
      "metadata": {
        "id": "TfhRTTNcE2s8"
      },
      "source": [
        "# LSTM"
      ]
    },
    {
      "cell_type": "code",
      "execution_count": 21,
      "metadata": {
        "id": "ihrXMuVAEwlY"
      },
      "outputs": [],
      "source": [
        "import pandas as pd\n",
        "import sklearn.metrics as metrique\n",
        "from pandas import Series\n",
        "from sklearn.preprocessing import StandardScaler, MinMaxScaler\n",
        "from matplotlib import pyplot\n",
        "from sklearn.model_selection import train_test_split\n",
        "import numpy as np\n",
        "import tensorflow as tf\n",
        "import sys\n",
        "import numpy as np\n",
        "import pandas as pd\n",
        "import tensorflow as tf\n",
        "import matplotlib.pyplot as plt\n",
        "from sklearn.model_selection import train_test_split\n",
        "from sklearn import preprocessing\n",
        "from sklearn.preprocessing import StandardScaler\n",
        "from sklearn.metrics import classification_report\n",
        "import warnings\n",
        "warnings.filterwarnings('ignore')\n",
        "plt.style.use('ggplot')\n",
        "import seaborn as sns \n",
        "%matplotlib inline\n",
        "from keras.callbacks import EarlyStopping\n",
        "from keras.callbacks import ModelCheckpoint\n",
        "from sklearn.metrics import accuracy_score\n",
        "from sklearn.metrics import classification_report, confusion_matrix\n",
        "from keras.models import Sequential\n",
        "from keras.utils import np_utils\n",
        "from keras.layers import LSTM, Dense, Embedding, Dropout,Input, Layer, Concatenate, Permute, Dot, Multiply, Flatten\n",
        "from keras.layers import RepeatVector, Dense, Activation, Lambda\n",
        "from keras.models import Sequential\n",
        "from keras import backend as K, regularizers, Model, metrics\n",
        "from keras.backend import cast"
      ]
    },
    {
      "cell_type": "code",
      "execution_count": 22,
      "metadata": {
        "id": "PjKWKiA6aH3z"
      },
      "outputs": [],
      "source": [
        "#from tensorflow.keras import optimizers\n",
        "#sgd = optimizers.SGD(lr=0.0001, decay=1e-6, momentum=0.9, nesterov=True)\n",
        "#model = keras.Sequential()\n",
        "#model.add(LSTM(100, input_shape = (200, 8)))\n",
        "#model.add(Dropout(0.5))\n",
        "#model.add(Dense(1, activation=\"softmax\"))\n",
        "\n",
        "\n",
        "#model.compile(loss=\"categorical_crossentropy\"\n",
        "#              , metrics=[keras.metrics.binary_accuracy]\n",
        "#              , optimizer='sgd')\n",
        "\n",
        "#model.summary()"
      ]
    },
    {
      "cell_type": "code",
      "execution_count": 23,
      "metadata": {
        "id": "_2SaVmwSWJVB",
        "colab": {
          "base_uri": "https://localhost:8080/"
        },
        "outputId": "1fdd5370-9a23-41e5-db92-ca36001ff995"
      },
      "outputs": [
        {
          "output_type": "stream",
          "name": "stdout",
          "text": [
            "Model: \"sequential\"\n",
            "_________________________________________________________________\n",
            " Layer (type)                Output Shape              Param #   \n",
            "=================================================================\n",
            " lstm (LSTM)                 (None, 100)               43600     \n",
            "                                                                 \n",
            " dropout (Dropout)           (None, 100)               0         \n",
            "                                                                 \n",
            " dense (Dense)               (None, 8)                 808       \n",
            "                                                                 \n",
            "=================================================================\n",
            "Total params: 44,408\n",
            "Trainable params: 44,408\n",
            "Non-trainable params: 0\n",
            "_________________________________________________________________\n"
          ]
        }
      ],
      "source": [
        "from tensorflow.keras import optimizers\n",
        "#sgd = optimizers.SGD(lr=0.0001, decay=1e-6, momentum=0.9, nesterov=True)\n",
        "optimizer = tf.keras.optimizers.Adam(lr=0.0001)\n",
        "model = keras.Sequential()\n",
        "model.add(LSTM(100, input_shape = (200, 8)))\n",
        "model.add(Dropout(0.4))#0.25\n",
        "model.add(Dense(8, activation=\"softmax\"))\n",
        "\n",
        "#model.compile(loss='mean_squared_error', optimizer=sgd)\n",
        "model.compile(loss=\"categorical_crossentropy\"\n",
        "              , metrics=['accuracy']\n",
        "              , optimizer=optimizer)\n",
        "\n",
        "model.summary()"
      ]
    },
    {
      "cell_type": "code",
      "execution_count": 24,
      "metadata": {
        "id": "tg8wrqsqc8UX"
      },
      "outputs": [],
      "source": [
        "training_size = int(len(X_sequence) * 0.8)\n",
        "val_size = int(len(X_sequence) * 0.9)"
      ]
    },
    {
      "cell_type": "code",
      "execution_count": 25,
      "metadata": {
        "id": "avIp3TEKc-qF"
      },
      "outputs": [],
      "source": [
        "X_train, y_train = X_sequence_shuffled[:training_size], y_shuffled[:training_size]\n",
        "X_val, y_val = X_sequence_shuffled[training_size:val_size], y_shuffled[training_size:val_size]\n",
        "X_test, y_test = X_sequence_shuffled[val_size:], y_shuffled[val_size:]"
      ]
    },
    {
      "cell_type": "code",
      "execution_count": 26,
      "metadata": {
        "id": "RABc_uKzkBUT"
      },
      "outputs": [],
      "source": [
        "#X_sequence = 0\n",
        "#y = 0"
      ]
    },
    {
      "cell_type": "code",
      "source": [
        "X_train.shape"
      ],
      "metadata": {
        "id": "Omv-ht1dhGxL",
        "colab": {
          "base_uri": "https://localhost:8080/"
        },
        "outputId": "e5a0485c-3b45-405d-99a9-bb3e12d4f09f"
      },
      "execution_count": 27,
      "outputs": [
        {
          "output_type": "execute_result",
          "data": {
            "text/plain": [
              "(119999, 200, 8)"
            ]
          },
          "metadata": {},
          "execution_count": 27
        }
      ]
    },
    {
      "cell_type": "code",
      "execution_count": 28,
      "metadata": {
        "id": "8aIhPJ-wLCwZ",
        "colab": {
          "base_uri": "https://localhost:8080/"
        },
        "outputId": "6a33c257-47f1-4610-90a1-944390537e4f"
      },
      "outputs": [
        {
          "output_type": "execute_result",
          "data": {
            "text/plain": [
              "array([[0., 0., 0., 1., 0., 0., 0., 0.],\n",
              "       [0., 0., 0., 1., 0., 0., 0., 0.],\n",
              "       [0., 0., 0., 0., 0., 0., 0., 1.],\n",
              "       [0., 0., 1., 0., 0., 0., 0., 0.],\n",
              "       [0., 1., 0., 0., 0., 0., 0., 0.],\n",
              "       [1., 0., 0., 0., 0., 0., 0., 0.],\n",
              "       [0., 0., 0., 0., 0., 0., 1., 0.],\n",
              "       [0., 0., 1., 0., 0., 0., 0., 0.],\n",
              "       [0., 0., 0., 1., 0., 0., 0., 0.],\n",
              "       [0., 0., 0., 0., 0., 0., 0., 1.]])"
            ]
          },
          "metadata": {},
          "execution_count": 28
        }
      ],
      "source": [
        "y_train[:10]"
      ]
    },
    {
      "cell_type": "code",
      "execution_count": 29,
      "metadata": {
        "id": "cen4faX0dFJP",
        "colab": {
          "base_uri": "https://localhost:8080/"
        },
        "outputId": "bc0756fe-18ae-4434-a6fc-6cb6ce5969c1"
      },
      "outputs": [
        {
          "output_type": "stream",
          "name": "stdout",
          "text": [
            "Epoch 1/100\n",
            "1875/1875 [==============================] - 87s 45ms/step - loss: 1.7901 - accuracy: 0.2440 - val_loss: 1.6133 - val_accuracy: 0.3195\n",
            "Epoch 2/100\n",
            "1875/1875 [==============================] - 75s 40ms/step - loss: 1.5997 - accuracy: 0.3215 - val_loss: 1.5109 - val_accuracy: 0.3853\n",
            "Epoch 3/100\n",
            "1875/1875 [==============================] - 78s 42ms/step - loss: 1.5343 - accuracy: 0.3649 - val_loss: 1.4805 - val_accuracy: 0.3891\n",
            "Epoch 4/100\n",
            "1875/1875 [==============================] - 75s 40ms/step - loss: 1.5423 - accuracy: 0.3679 - val_loss: 1.4754 - val_accuracy: 0.4024\n",
            "Epoch 5/100\n",
            "1875/1875 [==============================] - 75s 40ms/step - loss: 1.4877 - accuracy: 0.3878 - val_loss: 1.4585 - val_accuracy: 0.3979\n",
            "Epoch 6/100\n",
            "1875/1875 [==============================] - 72s 38ms/step - loss: 1.5090 - accuracy: 0.3839 - val_loss: 1.5181 - val_accuracy: 0.3807\n",
            "Epoch 7/100\n",
            "1875/1875 [==============================] - 75s 40ms/step - loss: 1.4966 - accuracy: 0.3857 - val_loss: 1.4459 - val_accuracy: 0.4049\n",
            "Epoch 8/100\n",
            "1875/1875 [==============================] - 74s 40ms/step - loss: 1.4670 - accuracy: 0.3971 - val_loss: 1.4170 - val_accuracy: 0.4177\n",
            "Epoch 9/100\n",
            "1875/1875 [==============================] - 72s 39ms/step - loss: 1.4213 - accuracy: 0.4157 - val_loss: 1.3946 - val_accuracy: 0.4305\n",
            "Epoch 10/100\n",
            "1875/1875 [==============================] - 71s 38ms/step - loss: 1.4886 - accuracy: 0.4149 - val_loss: 2.6819 - val_accuracy: 0.2919\n",
            "Epoch 11/100\n",
            "1875/1875 [==============================] - 73s 39ms/step - loss: 1.6027 - accuracy: 0.3753 - val_loss: 1.4490 - val_accuracy: 0.4146\n",
            "Epoch 12/100\n",
            "1875/1875 [==============================] - 73s 39ms/step - loss: 1.4182 - accuracy: 0.4203 - val_loss: 1.3801 - val_accuracy: 0.4351\n",
            "Epoch 13/100\n",
            "1875/1875 [==============================] - 73s 39ms/step - loss: 1.4020 - accuracy: 0.4314 - val_loss: 1.3531 - val_accuracy: 0.4415\n",
            "Epoch 14/100\n",
            "1875/1875 [==============================] - 73s 39ms/step - loss: 1.3587 - accuracy: 0.4428 - val_loss: 1.3216 - val_accuracy: 0.4542\n",
            "Epoch 15/100\n",
            "1875/1875 [==============================] - 73s 39ms/step - loss: 1.3249 - accuracy: 0.4572 - val_loss: 1.3522 - val_accuracy: 0.4511\n",
            "Epoch 16/100\n",
            "1875/1875 [==============================] - 74s 40ms/step - loss: 1.3803 - accuracy: 0.4456 - val_loss: 1.3736 - val_accuracy: 0.4409\n",
            "Epoch 17/100\n",
            "1875/1875 [==============================] - 73s 39ms/step - loss: 1.3589 - accuracy: 0.4485 - val_loss: 1.4090 - val_accuracy: 0.4315\n",
            "Epoch 18/100\n",
            "1875/1875 [==============================] - 73s 39ms/step - loss: 1.3316 - accuracy: 0.4586 - val_loss: 1.2851 - val_accuracy: 0.4789\n",
            "Epoch 19/100\n",
            "1875/1875 [==============================] - 74s 40ms/step - loss: 1.3060 - accuracy: 0.4700 - val_loss: 1.2956 - val_accuracy: 0.4746\n",
            "Epoch 20/100\n",
            "1875/1875 [==============================] - 73s 39ms/step - loss: 1.2789 - accuracy: 0.4785 - val_loss: 1.2455 - val_accuracy: 0.4901\n",
            "Epoch 21/100\n",
            "1875/1875 [==============================] - 76s 41ms/step - loss: 1.3542 - accuracy: 0.4630 - val_loss: 1.3376 - val_accuracy: 0.4505\n",
            "Epoch 22/100\n",
            "1875/1875 [==============================] - 75s 40ms/step - loss: 1.2797 - accuracy: 0.4795 - val_loss: 1.2520 - val_accuracy: 0.4827\n",
            "Epoch 23/100\n",
            "1875/1875 [==============================] - 73s 39ms/step - loss: 1.2740 - accuracy: 0.4816 - val_loss: 1.2816 - val_accuracy: 0.4749\n",
            "Epoch 24/100\n",
            "1875/1875 [==============================] - 74s 39ms/step - loss: 1.2387 - accuracy: 0.4955 - val_loss: 1.2084 - val_accuracy: 0.5029\n",
            "Epoch 25/100\n",
            "1875/1875 [==============================] - 73s 39ms/step - loss: 1.2229 - accuracy: 0.5024 - val_loss: 1.1962 - val_accuracy: 0.5159\n",
            "Epoch 26/100\n",
            "1875/1875 [==============================] - 73s 39ms/step - loss: 1.2112 - accuracy: 0.5072 - val_loss: 1.1953 - val_accuracy: 0.5121\n",
            "Epoch 27/100\n",
            "1875/1875 [==============================] - 72s 38ms/step - loss: 1.2316 - accuracy: 0.5038 - val_loss: 1.1916 - val_accuracy: 0.5109\n",
            "Epoch 28/100\n",
            "1875/1875 [==============================] - 72s 38ms/step - loss: 1.2101 - accuracy: 0.5088 - val_loss: 1.1673 - val_accuracy: 0.5229\n",
            "Epoch 29/100\n",
            "1875/1875 [==============================] - 73s 39ms/step - loss: 1.2002 - accuracy: 0.5108 - val_loss: 1.1898 - val_accuracy: 0.5153\n",
            "Epoch 30/100\n",
            "1875/1875 [==============================] - 71s 38ms/step - loss: 1.2318 - accuracy: 0.4977 - val_loss: 1.2082 - val_accuracy: 0.5041\n",
            "Epoch 31/100\n",
            "1875/1875 [==============================] - 72s 38ms/step - loss: 1.1874 - accuracy: 0.5146 - val_loss: 1.1510 - val_accuracy: 0.5315\n",
            "Epoch 32/100\n",
            "1875/1875 [==============================] - 72s 39ms/step - loss: 1.2389 - accuracy: 0.5003 - val_loss: 1.2416 - val_accuracy: 0.4920\n",
            "Epoch 33/100\n",
            "1875/1875 [==============================] - 72s 38ms/step - loss: 1.1853 - accuracy: 0.5159 - val_loss: 1.1764 - val_accuracy: 0.5178\n",
            "Epoch 34/100\n",
            "1875/1875 [==============================] - 77s 41ms/step - loss: 1.1634 - accuracy: 0.5244 - val_loss: 1.1286 - val_accuracy: 0.5350\n",
            "Epoch 35/100\n",
            "1875/1875 [==============================] - 76s 41ms/step - loss: 1.1958 - accuracy: 0.5115 - val_loss: 1.1244 - val_accuracy: 0.5365\n",
            "Epoch 36/100\n",
            "1875/1875 [==============================] - 75s 40ms/step - loss: 1.1376 - accuracy: 0.5329 - val_loss: 1.1114 - val_accuracy: 0.5385\n",
            "Epoch 37/100\n",
            "1875/1875 [==============================] - 78s 41ms/step - loss: 1.1208 - accuracy: 0.5376 - val_loss: 1.1067 - val_accuracy: 0.5474\n",
            "Epoch 38/100\n",
            "1875/1875 [==============================] - 77s 41ms/step - loss: 1.0977 - accuracy: 0.5458 - val_loss: 1.0600 - val_accuracy: 0.5592\n",
            "Epoch 39/100\n",
            "1875/1875 [==============================] - 74s 39ms/step - loss: 1.0849 - accuracy: 0.5496 - val_loss: 1.0448 - val_accuracy: 0.5634\n",
            "Epoch 40/100\n",
            "1875/1875 [==============================] - 77s 41ms/step - loss: 1.0696 - accuracy: 0.5532 - val_loss: 1.0650 - val_accuracy: 0.5611\n",
            "Epoch 41/100\n",
            "1875/1875 [==============================] - 76s 40ms/step - loss: 1.0684 - accuracy: 0.5548 - val_loss: 1.0173 - val_accuracy: 0.5756\n",
            "Epoch 42/100\n",
            "1875/1875 [==============================] - 74s 39ms/step - loss: 1.0289 - accuracy: 0.5673 - val_loss: 0.9933 - val_accuracy: 0.5820\n",
            "Epoch 43/100\n",
            "1875/1875 [==============================] - 74s 39ms/step - loss: 1.0224 - accuracy: 0.5691 - val_loss: 1.0275 - val_accuracy: 0.5650\n",
            "Epoch 44/100\n",
            "1875/1875 [==============================] - 78s 42ms/step - loss: 1.0382 - accuracy: 0.5634 - val_loss: 0.9934 - val_accuracy: 0.5782\n",
            "Epoch 45/100\n",
            "1875/1875 [==============================] - 76s 41ms/step - loss: 1.0409 - accuracy: 0.5637 - val_loss: 0.9825 - val_accuracy: 0.5873\n",
            "Epoch 46/100\n",
            "1875/1875 [==============================] - 77s 41ms/step - loss: 1.0087 - accuracy: 0.5759 - val_loss: 0.9917 - val_accuracy: 0.5831\n",
            "Epoch 47/100\n",
            "1875/1875 [==============================] - 79s 42ms/step - loss: 0.9982 - accuracy: 0.5779 - val_loss: 0.9601 - val_accuracy: 0.5939\n",
            "Epoch 48/100\n",
            "1875/1875 [==============================] - 75s 40ms/step - loss: 0.9936 - accuracy: 0.5786 - val_loss: 0.9583 - val_accuracy: 0.5951\n",
            "Epoch 49/100\n",
            "1875/1875 [==============================] - 76s 41ms/step - loss: 0.9717 - accuracy: 0.5872 - val_loss: 0.9497 - val_accuracy: 0.5987\n",
            "Epoch 50/100\n",
            "1875/1875 [==============================] - 77s 41ms/step - loss: 0.9649 - accuracy: 0.5901 - val_loss: 0.9625 - val_accuracy: 0.5883\n",
            "Epoch 51/100\n",
            "1875/1875 [==============================] - 76s 40ms/step - loss: 0.9560 - accuracy: 0.5949 - val_loss: 0.9380 - val_accuracy: 0.5980\n",
            "Epoch 52/100\n",
            "1875/1875 [==============================] - 74s 39ms/step - loss: 0.9545 - accuracy: 0.5957 - val_loss: 0.9267 - val_accuracy: 0.5985\n",
            "Epoch 53/100\n",
            "1875/1875 [==============================] - 76s 41ms/step - loss: 0.9512 - accuracy: 0.5952 - val_loss: 0.9219 - val_accuracy: 0.6103\n",
            "Epoch 54/100\n",
            "1875/1875 [==============================] - 76s 41ms/step - loss: 0.9477 - accuracy: 0.5984 - val_loss: 0.9670 - val_accuracy: 0.5915\n",
            "Epoch 55/100\n",
            "1875/1875 [==============================] - 74s 39ms/step - loss: 0.9354 - accuracy: 0.6027 - val_loss: 0.9224 - val_accuracy: 0.6096\n",
            "Epoch 56/100\n",
            "1875/1875 [==============================] - 75s 40ms/step - loss: 0.9223 - accuracy: 0.6082 - val_loss: 0.8996 - val_accuracy: 0.6182\n",
            "Epoch 57/100\n",
            "1875/1875 [==============================] - 76s 40ms/step - loss: 0.9139 - accuracy: 0.6101 - val_loss: 0.9193 - val_accuracy: 0.5987\n",
            "Epoch 58/100\n",
            "1875/1875 [==============================] - 77s 41ms/step - loss: 0.9051 - accuracy: 0.6147 - val_loss: 0.9069 - val_accuracy: 0.6124\n",
            "Epoch 59/100\n",
            "1875/1875 [==============================] - 76s 40ms/step - loss: 0.9020 - accuracy: 0.6168 - val_loss: 0.8788 - val_accuracy: 0.6192\n",
            "Epoch 60/100\n",
            "1875/1875 [==============================] - 76s 41ms/step - loss: 0.9083 - accuracy: 0.6159 - val_loss: 0.8757 - val_accuracy: 0.6249\n",
            "Epoch 61/100\n",
            "1875/1875 [==============================] - 78s 42ms/step - loss: 0.8928 - accuracy: 0.6213 - val_loss: 0.8719 - val_accuracy: 0.6305\n",
            "Epoch 62/100\n",
            "1875/1875 [==============================] - 78s 41ms/step - loss: 0.8896 - accuracy: 0.6216 - val_loss: 0.8683 - val_accuracy: 0.6273\n",
            "Epoch 63/100\n",
            "1875/1875 [==============================] - 78s 42ms/step - loss: 0.8861 - accuracy: 0.6235 - val_loss: 0.8725 - val_accuracy: 0.6269\n",
            "Epoch 64/100\n",
            "1875/1875 [==============================] - 73s 39ms/step - loss: 0.8777 - accuracy: 0.6257 - val_loss: 0.8632 - val_accuracy: 0.6316\n",
            "Epoch 65/100\n",
            "1875/1875 [==============================] - 75s 40ms/step - loss: 0.8730 - accuracy: 0.6275 - val_loss: 0.9108 - val_accuracy: 0.6137\n",
            "Epoch 66/100\n",
            "1875/1875 [==============================] - 74s 39ms/step - loss: 0.8666 - accuracy: 0.6312 - val_loss: 0.8416 - val_accuracy: 0.6409\n",
            "Epoch 67/100\n",
            "1875/1875 [==============================] - 74s 39ms/step - loss: 0.8611 - accuracy: 0.6341 - val_loss: 0.8568 - val_accuracy: 0.6406\n",
            "Epoch 68/100\n",
            "1875/1875 [==============================] - 75s 40ms/step - loss: 0.8573 - accuracy: 0.6342 - val_loss: 0.8462 - val_accuracy: 0.6404\n",
            "Epoch 69/100\n",
            "1875/1875 [==============================] - 74s 39ms/step - loss: 0.8558 - accuracy: 0.6356 - val_loss: 0.8438 - val_accuracy: 0.6435\n",
            "Epoch 70/100\n",
            "1875/1875 [==============================] - 72s 38ms/step - loss: 0.8470 - accuracy: 0.6396 - val_loss: 0.8779 - val_accuracy: 0.6310\n",
            "Epoch 71/100\n",
            "1875/1875 [==============================] - 74s 39ms/step - loss: 0.8416 - accuracy: 0.6424 - val_loss: 0.8228 - val_accuracy: 0.6523\n",
            "Epoch 72/100\n",
            "1875/1875 [==============================] - 78s 42ms/step - loss: 0.8340 - accuracy: 0.6448 - val_loss: 0.8348 - val_accuracy: 0.6451\n",
            "Epoch 73/100\n",
            "1875/1875 [==============================] - 75s 40ms/step - loss: 0.8340 - accuracy: 0.6448 - val_loss: 0.8310 - val_accuracy: 0.6508\n",
            "Epoch 74/100\n",
            "1875/1875 [==============================] - 76s 40ms/step - loss: 0.8367 - accuracy: 0.6457 - val_loss: 0.8416 - val_accuracy: 0.6415\n",
            "Epoch 75/100\n",
            "1875/1875 [==============================] - 74s 39ms/step - loss: 0.8336 - accuracy: 0.6476 - val_loss: 0.8422 - val_accuracy: 0.6452\n",
            "Epoch 76/100\n",
            "1875/1875 [==============================] - 76s 41ms/step - loss: 0.8422 - accuracy: 0.6445 - val_loss: 0.8469 - val_accuracy: 0.6491\n",
            "Epoch 77/100\n",
            "1875/1875 [==============================] - 73s 39ms/step - loss: 0.8282 - accuracy: 0.6494 - val_loss: 0.8185 - val_accuracy: 0.6594\n",
            "Epoch 78/100\n",
            "1875/1875 [==============================] - 71s 38ms/step - loss: 0.8425 - accuracy: 0.6444 - val_loss: 0.8125 - val_accuracy: 0.6569\n",
            "Epoch 79/100\n",
            "1875/1875 [==============================] - 71s 38ms/step - loss: 0.8177 - accuracy: 0.6534 - val_loss: 0.8080 - val_accuracy: 0.6626\n",
            "Epoch 80/100\n",
            "1875/1875 [==============================] - 73s 39ms/step - loss: 0.8101 - accuracy: 0.6565 - val_loss: 0.7958 - val_accuracy: 0.6675\n",
            "Epoch 81/100\n",
            "1875/1875 [==============================] - 74s 40ms/step - loss: 0.8132 - accuracy: 0.6557 - val_loss: 0.7789 - val_accuracy: 0.6710\n",
            "Epoch 82/100\n",
            "1875/1875 [==============================] - 75s 40ms/step - loss: 0.8079 - accuracy: 0.6602 - val_loss: 0.7939 - val_accuracy: 0.6628\n",
            "Epoch 83/100\n",
            "1875/1875 [==============================] - 75s 40ms/step - loss: 0.8012 - accuracy: 0.6600 - val_loss: 0.8366 - val_accuracy: 0.6525\n",
            "Epoch 84/100\n",
            "1875/1875 [==============================] - 74s 39ms/step - loss: 0.7964 - accuracy: 0.6633 - val_loss: 0.7793 - val_accuracy: 0.6710\n",
            "Epoch 85/100\n",
            "1875/1875 [==============================] - 73s 39ms/step - loss: 0.7916 - accuracy: 0.6665 - val_loss: 0.7800 - val_accuracy: 0.6683\n",
            "Epoch 86/100\n",
            "1875/1875 [==============================] - 74s 40ms/step - loss: 0.7874 - accuracy: 0.6680 - val_loss: 0.7769 - val_accuracy: 0.6741\n",
            "Epoch 87/100\n",
            "1875/1875 [==============================] - 75s 40ms/step - loss: 0.7867 - accuracy: 0.6681 - val_loss: 0.7636 - val_accuracy: 0.6779\n",
            "Epoch 88/100\n",
            "1875/1875 [==============================] - 76s 40ms/step - loss: 0.7845 - accuracy: 0.6695 - val_loss: 0.7714 - val_accuracy: 0.6757\n",
            "Epoch 89/100\n",
            "1875/1875 [==============================] - 74s 40ms/step - loss: 0.7807 - accuracy: 0.6707 - val_loss: 0.7518 - val_accuracy: 0.6839\n",
            "Epoch 90/100\n",
            "1875/1875 [==============================] - 74s 39ms/step - loss: 0.7744 - accuracy: 0.6741 - val_loss: 0.7438 - val_accuracy: 0.6863\n",
            "Epoch 91/100\n",
            "1875/1875 [==============================] - 73s 39ms/step - loss: 0.7699 - accuracy: 0.6752 - val_loss: 0.7627 - val_accuracy: 0.6788\n",
            "Epoch 92/100\n",
            "1875/1875 [==============================] - 74s 39ms/step - loss: 0.7710 - accuracy: 0.6748 - val_loss: 0.7374 - val_accuracy: 0.6906\n",
            "Epoch 93/100\n",
            "1875/1875 [==============================] - 74s 40ms/step - loss: 0.7756 - accuracy: 0.6732 - val_loss: 0.7410 - val_accuracy: 0.6877\n",
            "Epoch 94/100\n",
            "1875/1875 [==============================] - 74s 39ms/step - loss: 0.7595 - accuracy: 0.6796 - val_loss: 0.7464 - val_accuracy: 0.6873\n",
            "Epoch 95/100\n",
            "1875/1875 [==============================] - 76s 40ms/step - loss: 0.7751 - accuracy: 0.6754 - val_loss: 0.7427 - val_accuracy: 0.6871\n",
            "Epoch 96/100\n",
            "1875/1875 [==============================] - 74s 40ms/step - loss: 0.7728 - accuracy: 0.6772 - val_loss: 0.7320 - val_accuracy: 0.6951\n",
            "Epoch 97/100\n",
            "1875/1875 [==============================] - 73s 39ms/step - loss: 0.7484 - accuracy: 0.6855 - val_loss: 0.7146 - val_accuracy: 0.7013\n",
            "Epoch 98/100\n",
            "1875/1875 [==============================] - 77s 41ms/step - loss: 0.7484 - accuracy: 0.6849 - val_loss: 0.7262 - val_accuracy: 0.6976\n",
            "Epoch 99/100\n",
            "1875/1875 [==============================] - 77s 41ms/step - loss: 0.7630 - accuracy: 0.6821 - val_loss: 0.7212 - val_accuracy: 0.7002\n",
            "Epoch 100/100\n",
            "1875/1875 [==============================] - 74s 39ms/step - loss: 0.7379 - accuracy: 0.6895 - val_loss: 0.7171 - val_accuracy: 0.7015\n"
          ]
        }
      ],
      "source": [
        "history = model.fit(X_train, y_train, batch_size=64, epochs=100, validation_data=(X_val, y_val))\n",
        "#model.save('AllDataModel_E100_B64.h5')"
      ]
    },
    {
      "cell_type": "code",
      "execution_count": 30,
      "metadata": {
        "id": "R7QQeqVidKBR",
        "colab": {
          "base_uri": "https://localhost:8080/"
        },
        "outputId": "680a9d41-a30c-4fa0-e9f6-27605e50b2d4"
      },
      "outputs": [
        {
          "output_type": "stream",
          "name": "stdout",
          "text": [
            "469/469 [==============================] - 9s 19ms/step - loss: 0.7221 - accuracy: 0.6974\n"
          ]
        }
      ],
      "source": [
        "test_acc = model.evaluate(X_test, y_test)"
      ]
    },
    {
      "cell_type": "code",
      "source": [
        "test_acc"
      ],
      "metadata": {
        "id": "6fuTmgGrUgGg",
        "colab": {
          "base_uri": "https://localhost:8080/"
        },
        "outputId": "f98ef7c6-c16c-425d-af53-01daa1abe3c8"
      },
      "execution_count": 31,
      "outputs": [
        {
          "output_type": "execute_result",
          "data": {
            "text/plain": [
              "[0.7221451997756958, 0.6973999738693237]"
            ]
          },
          "metadata": {},
          "execution_count": 31
        }
      ]
    },
    {
      "cell_type": "code",
      "execution_count": 32,
      "metadata": {
        "id": "OHpifyqGdKn-",
        "colab": {
          "base_uri": "https://localhost:8080/"
        },
        "outputId": "3014cf23-ffcf-44fb-b6f7-e6720ef18d7b"
      },
      "outputs": [
        {
          "output_type": "stream",
          "name": "stdout",
          "text": [
            "469/469 [==============================] - 7s 14ms/step\n"
          ]
        }
      ],
      "source": [
        "y_test_prob = model.predict(X_test, verbose=1)"
      ]
    },
    {
      "cell_type": "code",
      "source": [
        "np.set_printoptions(suppress=True)\n",
        "y_test_prob"
      ],
      "metadata": {
        "id": "rRPswrrkmhp2",
        "colab": {
          "base_uri": "https://localhost:8080/"
        },
        "outputId": "bd74466c-bebf-4f0a-fab7-1de5df22de9f"
      },
      "execution_count": 33,
      "outputs": [
        {
          "output_type": "execute_result",
          "data": {
            "text/plain": [
              "array([[0.00020678, 0.9993327 , 0.00044109, ..., 0.00000021, 0.00000025,\n",
              "        0.00000156],\n",
              "       [0.00009475, 0.00038271, 0.01894358, ..., 0.01779586, 0.48109978,\n",
              "        0.4625066 ],\n",
              "       [0.00002245, 0.00005514, 0.07247735, ..., 0.12867142, 0.00319374,\n",
              "        0.00009059],\n",
              "       ...,\n",
              "       [0.00000166, 0.00000115, 0.00771261, ..., 0.20288102, 0.0007634 ,\n",
              "        0.0000131 ],\n",
              "       [0.0003595 , 0.00099037, 0.17785712, ..., 0.21294314, 0.26523837,\n",
              "        0.07799124],\n",
              "       [0.00004865, 0.0000213 , 0.00958354, ..., 0.21711974, 0.51690334,\n",
              "        0.03519813]], dtype=float32)"
            ]
          },
          "metadata": {},
          "execution_count": 33
        }
      ]
    },
    {
      "cell_type": "code",
      "execution_count": 34,
      "metadata": {
        "id": "AfmdrBILdMwj"
      },
      "outputs": [],
      "source": [
        "y_test_pred = np.where(y_test_prob > 0.5, 1, 0)"
      ]
    },
    {
      "cell_type": "code",
      "execution_count": 35,
      "metadata": {
        "id": "8DoJy_p9dPzN"
      },
      "outputs": [],
      "source": [
        "from sklearn.metrics import multilabel_confusion_matrix"
      ]
    },
    {
      "cell_type": "code",
      "source": [
        "y_test"
      ],
      "metadata": {
        "id": "n1Us2yrfcGl-",
        "colab": {
          "base_uri": "https://localhost:8080/"
        },
        "outputId": "f54c5b99-fd76-4b08-fa5e-c22c3baa9183"
      },
      "execution_count": 36,
      "outputs": [
        {
          "output_type": "execute_result",
          "data": {
            "text/plain": [
              "array([[0., 1., 0., ..., 0., 0., 0.],\n",
              "       [0., 0., 0., ..., 0., 0., 1.],\n",
              "       [0., 0., 0., ..., 0., 0., 0.],\n",
              "       ...,\n",
              "       [0., 0., 0., ..., 0., 0., 0.],\n",
              "       [0., 0., 0., ..., 0., 1., 0.],\n",
              "       [0., 0., 0., ..., 0., 1., 0.]])"
            ]
          },
          "metadata": {},
          "execution_count": 36
        }
      ]
    },
    {
      "cell_type": "code",
      "source": [
        "y_test.shape"
      ],
      "metadata": {
        "id": "VnmvTcvWbxr9",
        "colab": {
          "base_uri": "https://localhost:8080/"
        },
        "outputId": "06daa1db-c7f8-46b5-d362-ff7c6408daf1"
      },
      "execution_count": 37,
      "outputs": [
        {
          "output_type": "execute_result",
          "data": {
            "text/plain": [
              "(15000, 8)"
            ]
          },
          "metadata": {},
          "execution_count": 37
        }
      ]
    },
    {
      "cell_type": "code",
      "source": [
        "y_test_pred"
      ],
      "metadata": {
        "id": "nMBOgzrgcJBj",
        "colab": {
          "base_uri": "https://localhost:8080/"
        },
        "outputId": "47b87cb3-7757-4199-ae3f-eea9971a0470"
      },
      "execution_count": 38,
      "outputs": [
        {
          "output_type": "execute_result",
          "data": {
            "text/plain": [
              "array([[0, 1, 0, ..., 0, 0, 0],\n",
              "       [0, 0, 0, ..., 0, 0, 0],\n",
              "       [0, 0, 0, ..., 0, 0, 0],\n",
              "       ...,\n",
              "       [0, 0, 0, ..., 0, 0, 0],\n",
              "       [0, 0, 0, ..., 0, 0, 0],\n",
              "       [0, 0, 0, ..., 0, 1, 0]])"
            ]
          },
          "metadata": {},
          "execution_count": 38
        }
      ]
    },
    {
      "cell_type": "code",
      "source": [
        "y_test_pred.shape"
      ],
      "metadata": {
        "id": "SXKZof8Ye5uI",
        "colab": {
          "base_uri": "https://localhost:8080/"
        },
        "outputId": "aeb1b7bf-9d79-4340-af4b-1e3e3372b99e"
      },
      "execution_count": 39,
      "outputs": [
        {
          "output_type": "execute_result",
          "data": {
            "text/plain": [
              "(15000, 8)"
            ]
          },
          "metadata": {},
          "execution_count": 39
        }
      ]
    },
    {
      "cell_type": "code",
      "source": [
        "y_decoded_pred = tf.argmax(y_test_pred, axis = 1)"
      ],
      "metadata": {
        "id": "leDQwKOjgwwi"
      },
      "execution_count": 40,
      "outputs": []
    },
    {
      "cell_type": "code",
      "source": [
        "y_decoded = tf.argmax(y_test, axis = 1)"
      ],
      "metadata": {
        "id": "sAHRmtesif6g"
      },
      "execution_count": 41,
      "outputs": []
    },
    {
      "cell_type": "code",
      "source": [
        "y_decoded_pred"
      ],
      "metadata": {
        "id": "_lvFhrmPhprD",
        "colab": {
          "base_uri": "https://localhost:8080/"
        },
        "outputId": "a712f1c8-d7fe-4fbb-b3e3-8c7386f3a8a0"
      },
      "execution_count": 42,
      "outputs": [
        {
          "output_type": "execute_result",
          "data": {
            "text/plain": [
              "<tf.Tensor: shape=(15000,), dtype=int64, numpy=array([1, 0, 3, ..., 3, 0, 6])>"
            ]
          },
          "metadata": {},
          "execution_count": 42
        }
      ]
    },
    {
      "cell_type": "code",
      "source": [
        "y_decoded"
      ],
      "metadata": {
        "id": "YV1FXgHviPwm",
        "colab": {
          "base_uri": "https://localhost:8080/"
        },
        "outputId": "e3683acf-1443-4cd5-a5ac-eb6c3b5ee1c2"
      },
      "execution_count": 43,
      "outputs": [
        {
          "output_type": "execute_result",
          "data": {
            "text/plain": [
              "<tf.Tensor: shape=(15000,), dtype=int64, numpy=array([1, 7, 3, ..., 3, 6, 6])>"
            ]
          },
          "metadata": {},
          "execution_count": 43
        }
      ]
    },
    {
      "cell_type": "code",
      "source": [
        "y_test_pred = y_decoded_pred\n"
      ],
      "metadata": {
        "id": "6-6jFqzGh380"
      },
      "execution_count": 44,
      "outputs": []
    },
    {
      "cell_type": "code",
      "source": [
        "y_test = y_decoded"
      ],
      "metadata": {
        "id": "9pogVvdIiwss"
      },
      "execution_count": 45,
      "outputs": []
    },
    {
      "cell_type": "code",
      "source": [
        "y_test"
      ],
      "metadata": {
        "id": "oGt5aJetiKR6",
        "colab": {
          "base_uri": "https://localhost:8080/"
        },
        "outputId": "6a80b5d6-e729-4c27-e881-0aa5481bf654"
      },
      "execution_count": 46,
      "outputs": [
        {
          "output_type": "execute_result",
          "data": {
            "text/plain": [
              "<tf.Tensor: shape=(15000,), dtype=int64, numpy=array([1, 7, 3, ..., 3, 6, 6])>"
            ]
          },
          "metadata": {},
          "execution_count": 46
        }
      ]
    },
    {
      "cell_type": "code",
      "source": [
        "y_test_pred"
      ],
      "metadata": {
        "id": "fLgDwAIfiyv2",
        "colab": {
          "base_uri": "https://localhost:8080/"
        },
        "outputId": "ab65c119-9b16-4c73-e5ff-ad75b888268c"
      },
      "execution_count": 47,
      "outputs": [
        {
          "output_type": "execute_result",
          "data": {
            "text/plain": [
              "<tf.Tensor: shape=(15000,), dtype=int64, numpy=array([1, 0, 3, ..., 3, 0, 6])>"
            ]
          },
          "metadata": {},
          "execution_count": 47
        }
      ]
    },
    {
      "cell_type": "code",
      "execution_count": 48,
      "metadata": {
        "id": "fTCsPjW8dQaZ"
      },
      "outputs": [],
      "source": [
        "cfm=confusion_matrix(y_test, y_test_pred)"
      ]
    },
    {
      "cell_type": "code",
      "source": [
        "cfm"
      ],
      "metadata": {
        "id": "_67lPg6ic4cH",
        "colab": {
          "base_uri": "https://localhost:8080/"
        },
        "outputId": "e4bbbc0f-e9b9-4677-b03c-9bc4e2043ad9"
      },
      "execution_count": 49,
      "outputs": [
        {
          "output_type": "execute_result",
          "data": {
            "text/plain": [
              "array([[1815,   15,    0,    0,    0,    0,    0,    1],\n",
              "       [  54, 1828,   18,    0,    0,    0,    0,   17],\n",
              "       [ 493,   28, 1170,   86,    1,    0,   29,   69],\n",
              "       [ 860,    0,   50,  873,   66,   21,    9,    0],\n",
              "       [1072,    0,   16,  129,  450,  122,   75,   18],\n",
              "       [1145,    0,    8,  111,   62,  399,   93,   15],\n",
              "       [ 684,    1,    8,    2,    0,   13,  777,  395],\n",
              "       [ 279,    8,    5,    0,    0,    0,  121, 1489]])"
            ]
          },
          "metadata": {},
          "execution_count": 49
        }
      ]
    },
    {
      "cell_type": "code",
      "source": [
        " print(classification_report(y_test,y_test_pred))"
      ],
      "metadata": {
        "id": "XTqR_xnwRWCJ",
        "colab": {
          "base_uri": "https://localhost:8080/"
        },
        "outputId": "b6ad781a-7ce3-463c-f2cd-e123b459c142"
      },
      "execution_count": 50,
      "outputs": [
        {
          "output_type": "stream",
          "name": "stdout",
          "text": [
            "              precision    recall  f1-score   support\n",
            "\n",
            "           0       0.28      0.99      0.44      1831\n",
            "           1       0.97      0.95      0.96      1917\n",
            "           2       0.92      0.62      0.74      1876\n",
            "           3       0.73      0.46      0.57      1879\n",
            "           4       0.78      0.24      0.37      1882\n",
            "           5       0.72      0.22      0.33      1833\n",
            "           6       0.70      0.41      0.52      1880\n",
            "           7       0.74      0.78      0.76      1902\n",
            "\n",
            "    accuracy                           0.59     15000\n",
            "   macro avg       0.73      0.59      0.59     15000\n",
            "weighted avg       0.73      0.59      0.59     15000\n",
            "\n"
          ]
        }
      ]
    },
    {
      "cell_type": "code",
      "execution_count": 51,
      "metadata": {
        "id": "te3fslrY9Eca",
        "colab": {
          "base_uri": "https://localhost:8080/",
          "height": 908
        },
        "outputId": "8f29c2e3-6ed1-47e6-9d22-dcc3ecbc83fa"
      },
      "outputs": [
        {
          "output_type": "stream",
          "name": "stdout",
          "text": [
            "Confusion matrix, without normalization\n",
            "[[1815   15    0    0    0    0    0    1]\n",
            " [  54 1828   18    0    0    0    0   17]\n",
            " [ 493   28 1170   86    1    0   29   69]\n",
            " [ 860    0   50  873   66   21    9    0]\n",
            " [1072    0   16  129  450  122   75   18]\n",
            " [1145    0    8  111   62  399   93   15]\n",
            " [ 684    1    8    2    0   13  777  395]\n",
            " [ 279    8    5    0    0    0  121 1489]]\n",
            "Normalized confusion matrix\n",
            "[[0.99 0.01 0.   0.   0.   0.   0.   0.  ]\n",
            " [0.03 0.95 0.01 0.   0.   0.   0.   0.01]\n",
            " [0.26 0.01 0.62 0.05 0.   0.   0.02 0.04]\n",
            " [0.46 0.   0.03 0.46 0.04 0.01 0.   0.  ]\n",
            " [0.57 0.   0.01 0.07 0.24 0.06 0.04 0.01]\n",
            " [0.62 0.   0.   0.06 0.03 0.22 0.05 0.01]\n",
            " [0.36 0.   0.   0.   0.   0.01 0.41 0.21]\n",
            " [0.15 0.   0.   0.   0.   0.   0.06 0.78]]\n"
          ]
        },
        {
          "output_type": "display_data",
          "data": {
            "text/plain": [
              "<Figure size 432x288 with 2 Axes>"
            ],
            "image/png": "[encoded data removed]"
          },
          "metadata": {
            "needs_background": "light"
          }
        },
        {
          "output_type": "display_data",
          "data": {
            "text/plain": [
              "<Figure size 432x288 with 2 Axes>"
            ],
            "image/png": "[encoded data removed]"
          },
          "metadata": {
            "needs_background": "light"
          }
        }
      ],
      "source": [
        "import numpy as np\n",
        "import matplotlib.pyplot as plt\n",
        "\n",
        "from sklearn import svm, datasets\n",
        "from sklearn.model_selection import train_test_split\n",
        "from sklearn.metrics import confusion_matrix\n",
        "from sklearn.utils.multiclass import unique_labels\n",
        "\n",
        "class_names = np.array(['0', '1', '2', '3', '4', '5', '6', '7'])\n",
        "\n",
        "def plot_confusion_matrix(y_true, y_pred, classes,\n",
        "                          normalize=False,\n",
        "                          title=None,\n",
        "                          cmap=plt.cm.Blues):\n",
        "    \"\"\"\n",
        "    This function prints and plots the confusion matrix.\n",
        "    Normalization can be applied by setting `normalize=True`.\n",
        "    \"\"\"\n",
        "    if not title:\n",
        "        if normalize:\n",
        "            title = 'Normalized confusion matrix'\n",
        "        else:\n",
        "            title = 'Confusion matrix, without normalization'\n",
        "\n",
        "    # Compute confusion matrix\n",
        "    cm = confusion_matrix(y_true, y_pred)\n",
        "    # Only use the labels that appear in the data\n",
        "    classes = classes[unique_labels(y_true, y_pred)]\n",
        "    if normalize:\n",
        "        cm = cm.astype('float') / cm.sum(axis=1)[:, np.newaxis]\n",
        "        print(\"Normalized confusion matrix\")\n",
        "    else:\n",
        "        print('Confusion matrix, without normalization')\n",
        "\n",
        "    print(cm)\n",
        "\n",
        "    fig, ax = plt.subplots()\n",
        "    im = ax.imshow(cm, interpolation='nearest', cmap=cmap)\n",
        "    ax.figure.colorbar(im, ax=ax)\n",
        "    # We want to show all ticks...\n",
        "    ax.set(xticks=np.arange(cm.shape[1]),\n",
        "           yticks=np.arange(cm.shape[0]),\n",
        "           # ... and label them with the respective list entries\n",
        "           xticklabels=classes, yticklabels=classes,\n",
        "           title=title,\n",
        "           ylabel='True label',\n",
        "           xlabel='Predicted label')\n",
        "\n",
        "    # Rotate the tick labels and set their alignment.\n",
        "    plt.setp(ax.get_xticklabels(), rotation=45, ha=\"right\",\n",
        "             rotation_mode=\"anchor\")\n",
        "\n",
        "    # Loop over data dimensions and create text annotations.\n",
        "    fmt = '.2f' if normalize else 'd'\n",
        "    thresh = cm.max() / 2.\n",
        "    for i in range(cm.shape[0]):\n",
        "        for j in range(cm.shape[1]):\n",
        "            ax.text(j, i, format(cm[i, j], fmt),\n",
        "                    ha=\"center\", va=\"center\",\n",
        "                    color=\"white\" if cm[i, j] > thresh else \"black\")\n",
        "    fig.tight_layout()\n",
        "\n",
        "    return ax\n",
        "\n",
        "\n",
        "np.set_printoptions(precision=2)\n",
        "\n",
        "# Plot non-normalized confusion matrix\n",
        "plot_confusion_matrix(y_test, y_test_pred, classes=class_names,\n",
        "                      title='Confusion matrix, without normalization')\n",
        "\n",
        "# Plot normalized confusion matrix\n",
        "plot_confusion_matrix(y_test, y_test_pred, classes=class_names, normalize=True,\n",
        "                      title='Normalized confusion matrix')\n",
        "\n",
        "plt.show()"
      ]
    },
    {
      "cell_type": "code",
      "execution_count": 52,
      "metadata": {
        "id": "fhdLAhgPUnH3"
      },
      "outputs": [],
      "source": [
        "def plot_learningCurve(history, epoch):\n",
        "  # Plot training & validation accuracy values\n",
        "  epoch_range = range(1, epoch+1)\n",
        "  plt.plot(epoch_range, history.history['accuracy'])\n",
        "  plt.plot(epoch_range, history.history['val_accuracy'])\n",
        "  plt.title('Model accuracy')\n",
        "  plt.ylabel('Accuracy')\n",
        "  plt.xlabel('Epoch')\n",
        "  plt.legend(['Train', 'Val'], loc='upper left')\n",
        "  plt.show()\n",
        "\n",
        "  # Plot training & validation loss values\n",
        "  plt.plot(epoch_range, history.history['loss'])\n",
        "  plt.plot(epoch_range, history.history['val_loss'])\n",
        "  plt.title('Model loss')\n",
        "  plt.ylabel('Loss')\n",
        "  plt.xlabel('Epoch')\n",
        "  plt.legend(['Train', 'Val'], loc='upper left')\n",
        "  plt.show()"
      ]
    },
    {
      "cell_type": "code",
      "execution_count": 53,
      "metadata": {
        "id": "WlkQkWHgU5mL",
        "colab": {
          "base_uri": "https://localhost:8080/",
          "height": 581
        },
        "outputId": "5584ebfe-c45f-46a6-b0f2-b25de386e082"
      },
      "outputs": [
        {
          "output_type": "display_data",
          "data": {
            "text/plain": [
              "<Figure size 432x288 with 1 Axes>"
            ],
            "image/png": "[encoded data removed]"
          },
          "metadata": {
            "needs_background": "light"
          }
        },
        {
          "output_type": "display_data",
          "data": {
            "text/plain": [
              "<Figure size 432x288 with 1 Axes>"
            ],
            "image/png": "[encoded data removed]"
          },
          "metadata": {
            "needs_background": "light"
          }
        }
      ],
      "source": [
        "plot_learningCurve(history, 100)"
      ]
    }
  ],
  "metadata": {
    "colab": {
      "collapsed_sections": [
        "f857kfHqUk0-"
      ],
      "name": "Multi_Class_MD_LSTM_step_200_files_120.ipynb",
      "provenance": [],
      "include_colab_link": true
    },
    "kernelspec": {
      "display_name": "Python 3",
      "name": "python3"
    },
    "language_info": {
      "name": "python"
    },
    "accelerator": "GPU"
  },
  "nbformat": 4,
  "nbformat_minor": 0
}